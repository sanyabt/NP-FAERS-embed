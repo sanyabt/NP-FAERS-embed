{
 "cells": [
  {
   "cell_type": "code",
   "execution_count": null,
   "metadata": {},
   "outputs": [],
   "source": [
    "# # uncomment and run to install any required modules from requirements.txt\n",
    "# import sys\n",
    "# !{sys.executable} -m pip install -r requirements.txt"
   ]
  },
  {
   "cell_type": "markdown",
   "metadata": {},
   "source": [
    "# NP-FAERS model train and test\n",
    "This notebook uses the natural products annotation corpus to train and test a Siamese recurrent network that maps strings in FAERS to standardized natural product names."
   ]
  },
  {
   "cell_type": "markdown",
   "metadata": {
    "id": "1_cRcHZj3voR"
   },
   "source": [
    "# Load data"
   ]
  },
  {
   "cell_type": "code",
   "execution_count": 1,
   "metadata": {
    "id": "F57wsYMU2IGZ"
   },
   "outputs": [],
   "source": [
    "import numpy as np\n",
    "import pandas as pd\n",
    "import pickle\n",
    "import matplotlib.pyplot as plt\n",
    "import seaborn as sns\n",
    "from IPython.display import display, clear_output\n",
    "import re"
   ]
  },
  {
   "cell_type": "markdown",
   "metadata": {},
   "source": [
    "## Preprocess Data\n",
    "\n",
    "1. Remove digits and punctuation\n",
    "2. Upper case\n",
    "3. Mutating strings (not in this version)"
   ]
  },
  {
   "cell_type": "code",
   "execution_count": 2,
   "metadata": {},
   "outputs": [
    {
     "name": "stdout",
     "output_type": "stream",
     "text": [
      "<class 'pandas.core.frame.DataFrame'>\n",
      "RangeIndex: 8274 entries, 0 to 8273\n",
      "Data columns (total 3 columns):\n",
      " #   Column            Non-Null Count  Dtype \n",
      "---  ------            --------------  ----- \n",
      " 0   FAERS_drug_match  8274 non-null   object\n",
      " 1   lookup_value      8274 non-null   object\n",
      " 2   indi_pt           4930 non-null   object\n",
      "dtypes: object(3)\n",
      "memory usage: 194.0+ KB\n"
     ]
    }
   ],
   "source": [
    "#if starting from preprocess, load the drugs directly\n",
    "df = pd.read_csv('data/NP_FAERS_mapped_indications_join_on_drugname_20220218.csv')\n",
    "df.info()"
   ]
  },
  {
   "cell_type": "code",
   "execution_count": null,
   "metadata": {},
   "outputs": [],
   "source": []
  },
  {
   "cell_type": "code",
   "execution_count": 3,
   "metadata": {},
   "outputs": [],
   "source": [
    "#make all casing upper\n",
    "df['FAERS_drug_match'] = df['FAERS_drug_match'].str.upper()\n",
    "df['lookup_value'] = df['lookup_value'].str.upper()\n",
    "df['indi_pt'] = df['indi_pt'].str.upper()"
   ]
  },
  {
   "cell_type": "code",
   "execution_count": 4,
   "metadata": {},
   "outputs": [
    {
     "data": {
      "text/html": [
       "<div>\n",
       "<style scoped>\n",
       "    .dataframe tbody tr th:only-of-type {\n",
       "        vertical-align: middle;\n",
       "    }\n",
       "\n",
       "    .dataframe tbody tr th {\n",
       "        vertical-align: top;\n",
       "    }\n",
       "\n",
       "    .dataframe thead th {\n",
       "        text-align: right;\n",
       "    }\n",
       "</style>\n",
       "<table border=\"1\" class=\"dataframe\">\n",
       "  <thead>\n",
       "    <tr style=\"text-align: right;\">\n",
       "      <th></th>\n",
       "      <th>FAERS_drug_match</th>\n",
       "      <th>lookup_value</th>\n",
       "      <th>indi_pt</th>\n",
       "    </tr>\n",
       "  </thead>\n",
       "  <tbody>\n",
       "    <tr>\n",
       "      <th>0</th>\n",
       "      <td>ADRENAL HEALTH (BRAND) = (SIBERIAN RHODIOLA, R...</td>\n",
       "      <td>ASHWAGANDA</td>\n",
       "      <td>NaN</td>\n",
       "    </tr>\n",
       "    <tr>\n",
       "      <th>1</th>\n",
       "      <td>ASHWAGANDHA</td>\n",
       "      <td>ASHWAGANDA</td>\n",
       "      <td>PRODUCT USED FOR UNKNOWN INDICATION</td>\n",
       "    </tr>\n",
       "    <tr>\n",
       "      <th>2</th>\n",
       "      <td>ASHWAGANDHA</td>\n",
       "      <td>ASHWAGANDA</td>\n",
       "      <td>ROUTINE HEALTH MAINTENANCE</td>\n",
       "    </tr>\n",
       "    <tr>\n",
       "      <th>3</th>\n",
       "      <td>ASHWAGANDHA</td>\n",
       "      <td>ASHWAGANDA</td>\n",
       "      <td>STRESS</td>\n",
       "    </tr>\n",
       "    <tr>\n",
       "      <th>4</th>\n",
       "      <td>ASHWAGANDHA</td>\n",
       "      <td>ASHWAGANDA</td>\n",
       "      <td>ARTHROPATHY</td>\n",
       "    </tr>\n",
       "  </tbody>\n",
       "</table>\n",
       "</div>"
      ],
      "text/plain": [
       "                                    FAERS_drug_match lookup_value  \\\n",
       "0  ADRENAL HEALTH (BRAND) = (SIBERIAN RHODIOLA, R...   ASHWAGANDA   \n",
       "1                                        ASHWAGANDHA   ASHWAGANDA   \n",
       "2                                        ASHWAGANDHA   ASHWAGANDA   \n",
       "3                                        ASHWAGANDHA   ASHWAGANDA   \n",
       "4                                        ASHWAGANDHA   ASHWAGANDA   \n",
       "\n",
       "                               indi_pt  \n",
       "0                                  NaN  \n",
       "1  PRODUCT USED FOR UNKNOWN INDICATION  \n",
       "2           ROUTINE HEALTH MAINTENANCE  \n",
       "3                               STRESS  \n",
       "4                          ARTHROPATHY  "
      ]
     },
     "execution_count": 4,
     "metadata": {},
     "output_type": "execute_result"
    }
   ],
   "source": [
    "df.head()"
   ]
  },
  {
   "cell_type": "code",
   "execution_count": 5,
   "metadata": {},
   "outputs": [
    {
     "data": {
      "text/plain": [
       "(126,)"
      ]
     },
     "execution_count": 5,
     "metadata": {},
     "output_type": "execute_result"
    }
   ],
   "source": [
    "df.lookup_value.unique().shape"
   ]
  },
  {
   "cell_type": "markdown",
   "metadata": {
    "id": "XcwyIySOVWhE"
   },
   "source": [
    "# RNN character-based encoder - Siamese Network\n",
    "\n",
    "## Experiments\n",
    "1. Unique natural product strings \n",
    "2. Unique natural product string - negative pairs random also\n",
    "3. Unique natural product strings with indications\n",
    "4. Mutations?\n",
    "\n",
    "### Set up positive pairs and negative pairs  \n",
    "  - positive pairs coded 'yes' in annotation corpus\n",
    "  - negative pairs coded 'no' in annotation corpus and random from train data"
   ]
  },
  {
   "cell_type": "code",
   "execution_count": 6,
   "metadata": {},
   "outputs": [],
   "source": [
    "import tensorflow as tf\n",
    "import string\n",
    "import random\n",
    "from sklearn.utils import shuffle\n",
    "from sklearn.model_selection import train_test_split"
   ]
  },
  {
   "cell_type": "markdown",
   "metadata": {
    "id": "vjuG5RMrVx-A"
   },
   "source": [
    "## Functions to process data"
   ]
  },
  {
   "cell_type": "code",
   "execution_count": 7,
   "metadata": {},
   "outputs": [],
   "source": [
    "# how i add noise \n",
    "# string w \n",
    "# proportion of noise added \n",
    "# uniform random from [0,1]\n",
    "# if <1/3 edit one position with new random character, else if <2/3 delete one position, else add one random character \n",
    "def add_noise(w, percent):\n",
    "  ''' edit, del, add'''\n",
    "  positions = random.choices(range(len(w)), k=int(percent*len(w)))\n",
    "  for p in positions:\n",
    "    r = random.random()\n",
    "    if r <= 0.3333: # edit\n",
    "      w = w[:p] + random.choice(string.ascii_uppercase) + w[p+1:]\n",
    "    elif r<= 0.6667: # delete\n",
    "      w = w[:p] + w[p+1:]\n",
    "    elif r<=1: # add\n",
    "      w = w[:p] + random.choice(string.ascii_uppercase) + w[p:]\n",
    "  return w\n",
    "\n",
    "def clean(text):\n",
    "    #remove all non-ascii, special characters and keep alphabets and space only. Can also use isalpha()\n",
    "    #convert to uppercase\n",
    "    #remove extra spaces\n",
    "    regex = re.compile('[^a-zA-Z ]')\n",
    "    r = regex.sub('', text)\n",
    "    result = re.sub(' +', ' ', r)\n",
    "    result = result.strip()\n",
    "    return result.upper()"
   ]
  },
  {
   "cell_type": "code",
   "execution_count": 8,
   "metadata": {
    "id": "F50Y3uz-Foo0"
   },
   "outputs": [],
   "source": [
    "def clean_dataset(data):\n",
    "  x = []\n",
    "  y = []\n",
    "  for i in range(data.shape[0]):\n",
    "    w = clean(data.FAERS_drug_match_indi.iloc[i])\n",
    "    v = clean(data.lookup_value.iloc[i])\n",
    "    x.append(w)\n",
    "    y.append(v)\n",
    "  return x,y\n",
    "\n",
    "def encode_dataset(x,y):\n",
    "  encode_dict = {l:i+1 for i,l in enumerate(string.ascii_uppercase + \" \")}\n",
    "  Xtrain = [[encode_dict[m] for m in n] for n in x]\n",
    "  Ytrain = [[encode_dict[m] for m in n] for n in y]\n",
    "  return Xtrain, Ytrain\n",
    "\n",
    "def clean_encode_padding(q, maxlen):\n",
    "  q = clean(q)\n",
    "  encode_dict = {l:i+1 for i,l in enumerate(string.ascii_uppercase + \" \")}\n",
    "  return tf.keras.preprocessing.sequence.pad_sequences(\n",
    "    [encode_dict[m] for m in q] , padding=\"post\", maxlen=maxlen)\n",
    "\n",
    "def padding_dataset(X,Y,maxlen):\n",
    "  padded_y = tf.keras.preprocessing.sequence.pad_sequences(\n",
    "    Y, padding=\"post\", maxlen=maxlen)\n",
    "  padded_x = tf.keras.preprocessing.sequence.pad_sequences(\n",
    "      X, padding=\"post\", maxlen=maxlen)\n",
    "  return padded_x, padded_y\n"
   ]
  },
  {
   "cell_type": "code",
   "execution_count": 9,
   "metadata": {},
   "outputs": [],
   "source": [
    "def cosine_distance(vects):\n",
    "    x, y = vects\n",
    "    return 1-tf.reduce_sum(tf.multiply(x,y),axis=1, keepdims=True)/(tf.norm(x,axis=1,keepdims=True)*tf.norm(y,axis=1,keepdims=True))\n",
    "\n",
    "def loss(margin=1):\n",
    "    def contrastive_loss(y_true, y_pred):\n",
    "        square_pred = tf.math.square(y_pred)\n",
    "        margin_square = tf.math.square(tf.math.maximum(margin - (y_pred), 0))\n",
    "        return tf.math.reduce_mean(\n",
    "            (1 - y_true) * square_pred + (y_true) * margin_square\n",
    "        )\n",
    "\n",
    "    return contrastive_loss"
   ]
  },
  {
   "cell_type": "code",
   "execution_count": 10,
   "metadata": {},
   "outputs": [],
   "source": [
    "def plt_metric(history, metric, title, has_valid=True):\n",
    "    \"\"\"Plots the given 'metric' from 'history'.\n",
    "\n",
    "    Arguments:\n",
    "        history: history attribute of History object returned from Model.fit.\n",
    "        metric: Metric to plot, a string value present as key in 'history'.\n",
    "        title: A string to be used as title of plot.\n",
    "        has_valid: Boolean, true if valid data was passed to Model.fit else false.\n",
    "\n",
    "    Returns:\n",
    "        None.\n",
    "    \"\"\"\n",
    "    plt.plot(history[metric])\n",
    "    if has_valid:\n",
    "        plt.plot(history[\"val_\" + metric])\n",
    "        plt.legend([\"train\", \"validation\"], loc=\"upper left\")\n",
    "    plt.title(title)\n",
    "    plt.ylabel(metric)\n",
    "    plt.xlabel(\"epoch\")\n",
    "    plt.show()\n"
   ]
  },
  {
   "cell_type": "code",
   "execution_count": null,
   "metadata": {},
   "outputs": [],
   "source": []
  },
  {
   "cell_type": "code",
   "execution_count": null,
   "metadata": {},
   "outputs": [],
   "source": []
  },
  {
   "cell_type": "markdown",
   "metadata": {},
   "source": [
    "## Experiment 3 - combined negative pairs from random train and reference set, add indications data joined on FAERS drug match for both positive and negative pairs"
   ]
  },
  {
   "cell_type": "code",
   "execution_count": 11,
   "metadata": {},
   "outputs": [
    {
     "data": {
      "text/html": [
       "<div>\n",
       "<style scoped>\n",
       "    .dataframe tbody tr th:only-of-type {\n",
       "        vertical-align: middle;\n",
       "    }\n",
       "\n",
       "    .dataframe tbody tr th {\n",
       "        vertical-align: top;\n",
       "    }\n",
       "\n",
       "    .dataframe thead th {\n",
       "        text-align: right;\n",
       "    }\n",
       "</style>\n",
       "<table border=\"1\" class=\"dataframe\">\n",
       "  <thead>\n",
       "    <tr style=\"text-align: right;\">\n",
       "      <th></th>\n",
       "      <th>FAERS_drug_match</th>\n",
       "      <th>lookup_value</th>\n",
       "      <th>indi_pt</th>\n",
       "    </tr>\n",
       "  </thead>\n",
       "  <tbody>\n",
       "    <tr>\n",
       "      <th>0</th>\n",
       "      <td>ADRENAL HEALTH (BRAND) = (SIBERIAN RHODIOLA, R...</td>\n",
       "      <td>ASHWAGANDA</td>\n",
       "      <td>NaN</td>\n",
       "    </tr>\n",
       "    <tr>\n",
       "      <th>1</th>\n",
       "      <td>ASHWAGANDHA</td>\n",
       "      <td>ASHWAGANDA</td>\n",
       "      <td>PRODUCT USED FOR UNKNOWN INDICATION</td>\n",
       "    </tr>\n",
       "    <tr>\n",
       "      <th>2</th>\n",
       "      <td>ASHWAGANDHA</td>\n",
       "      <td>ASHWAGANDA</td>\n",
       "      <td>ROUTINE HEALTH MAINTENANCE</td>\n",
       "    </tr>\n",
       "    <tr>\n",
       "      <th>3</th>\n",
       "      <td>ASHWAGANDHA</td>\n",
       "      <td>ASHWAGANDA</td>\n",
       "      <td>STRESS</td>\n",
       "    </tr>\n",
       "    <tr>\n",
       "      <th>4</th>\n",
       "      <td>ASHWAGANDHA</td>\n",
       "      <td>ASHWAGANDA</td>\n",
       "      <td>ARTHROPATHY</td>\n",
       "    </tr>\n",
       "  </tbody>\n",
       "</table>\n",
       "</div>"
      ],
      "text/plain": [
       "                                    FAERS_drug_match lookup_value  \\\n",
       "0  ADRENAL HEALTH (BRAND) = (SIBERIAN RHODIOLA, R...   ASHWAGANDA   \n",
       "1                                        ASHWAGANDHA   ASHWAGANDA   \n",
       "2                                        ASHWAGANDHA   ASHWAGANDA   \n",
       "3                                        ASHWAGANDHA   ASHWAGANDA   \n",
       "4                                        ASHWAGANDHA   ASHWAGANDA   \n",
       "\n",
       "                               indi_pt  \n",
       "0                                  NaN  \n",
       "1  PRODUCT USED FOR UNKNOWN INDICATION  \n",
       "2           ROUTINE HEALTH MAINTENANCE  \n",
       "3                               STRESS  \n",
       "4                          ARTHROPATHY  "
      ]
     },
     "execution_count": 11,
     "metadata": {},
     "output_type": "execute_result"
    }
   ],
   "source": [
    "df.head()"
   ]
  },
  {
   "cell_type": "code",
   "execution_count": 12,
   "metadata": {},
   "outputs": [
    {
     "data": {
      "text/html": [
       "<div>\n",
       "<style scoped>\n",
       "    .dataframe tbody tr th:only-of-type {\n",
       "        vertical-align: middle;\n",
       "    }\n",
       "\n",
       "    .dataframe tbody tr th {\n",
       "        vertical-align: top;\n",
       "    }\n",
       "\n",
       "    .dataframe thead th {\n",
       "        text-align: right;\n",
       "    }\n",
       "</style>\n",
       "<table border=\"1\" class=\"dataframe\">\n",
       "  <thead>\n",
       "    <tr style=\"text-align: right;\">\n",
       "      <th></th>\n",
       "      <th>FAERS_drug_match</th>\n",
       "      <th>lookup_value</th>\n",
       "      <th>indi_pt</th>\n",
       "    </tr>\n",
       "  </thead>\n",
       "  <tbody>\n",
       "    <tr>\n",
       "      <th>0</th>\n",
       "      <td>ADRENAL HEALTH (BRAND) = (SIBERIAN RHODIOLA, R...</td>\n",
       "      <td>ASHWAGANDA</td>\n",
       "      <td></td>\n",
       "    </tr>\n",
       "    <tr>\n",
       "      <th>1</th>\n",
       "      <td>ASHWAGANDHA</td>\n",
       "      <td>ASHWAGANDA</td>\n",
       "      <td>PRODUCT USED FOR UNKNOWN INDICATION</td>\n",
       "    </tr>\n",
       "    <tr>\n",
       "      <th>2</th>\n",
       "      <td>ASHWAGANDHA</td>\n",
       "      <td>ASHWAGANDA</td>\n",
       "      <td>ROUTINE HEALTH MAINTENANCE</td>\n",
       "    </tr>\n",
       "    <tr>\n",
       "      <th>3</th>\n",
       "      <td>ASHWAGANDHA</td>\n",
       "      <td>ASHWAGANDA</td>\n",
       "      <td>STRESS</td>\n",
       "    </tr>\n",
       "    <tr>\n",
       "      <th>4</th>\n",
       "      <td>ASHWAGANDHA</td>\n",
       "      <td>ASHWAGANDA</td>\n",
       "      <td>ARTHROPATHY</td>\n",
       "    </tr>\n",
       "  </tbody>\n",
       "</table>\n",
       "</div>"
      ],
      "text/plain": [
       "                                    FAERS_drug_match lookup_value  \\\n",
       "0  ADRENAL HEALTH (BRAND) = (SIBERIAN RHODIOLA, R...   ASHWAGANDA   \n",
       "1                                        ASHWAGANDHA   ASHWAGANDA   \n",
       "2                                        ASHWAGANDHA   ASHWAGANDA   \n",
       "3                                        ASHWAGANDHA   ASHWAGANDA   \n",
       "4                                        ASHWAGANDHA   ASHWAGANDA   \n",
       "\n",
       "                               indi_pt  \n",
       "0                                       \n",
       "1  PRODUCT USED FOR UNKNOWN INDICATION  \n",
       "2           ROUTINE HEALTH MAINTENANCE  \n",
       "3                               STRESS  \n",
       "4                          ARTHROPATHY  "
      ]
     },
     "execution_count": 12,
     "metadata": {},
     "output_type": "execute_result"
    }
   ],
   "source": [
    "#append indications string to drug name (if not NA)\n",
    "df['indi_pt'] = df['indi_pt'].fillna('')\n",
    "df.head()"
   ]
  },
  {
   "cell_type": "code",
   "execution_count": 13,
   "metadata": {},
   "outputs": [],
   "source": [
    "df['FAERS_drug_match_indi'] = df['FAERS_drug_match'] + ' ' + df['indi_pt']\n"
   ]
  },
  {
   "cell_type": "code",
   "execution_count": 14,
   "metadata": {},
   "outputs": [
    {
     "data": {
      "text/html": [
       "<div>\n",
       "<style scoped>\n",
       "    .dataframe tbody tr th:only-of-type {\n",
       "        vertical-align: middle;\n",
       "    }\n",
       "\n",
       "    .dataframe tbody tr th {\n",
       "        vertical-align: top;\n",
       "    }\n",
       "\n",
       "    .dataframe thead th {\n",
       "        text-align: right;\n",
       "    }\n",
       "</style>\n",
       "<table border=\"1\" class=\"dataframe\">\n",
       "  <thead>\n",
       "    <tr style=\"text-align: right;\">\n",
       "      <th></th>\n",
       "      <th>FAERS_drug_match</th>\n",
       "      <th>lookup_value</th>\n",
       "      <th>indi_pt</th>\n",
       "      <th>FAERS_drug_match_indi</th>\n",
       "    </tr>\n",
       "  </thead>\n",
       "  <tbody>\n",
       "    <tr>\n",
       "      <th>0</th>\n",
       "      <td>ADRENAL HEALTH (BRAND) = (SIBERIAN RHODIOLA, R...</td>\n",
       "      <td>ASHWAGANDA</td>\n",
       "      <td></td>\n",
       "      <td>ADRENAL HEALTH (BRAND) = (SIBERIAN RHODIOLA, R...</td>\n",
       "    </tr>\n",
       "    <tr>\n",
       "      <th>1</th>\n",
       "      <td>ASHWAGANDHA</td>\n",
       "      <td>ASHWAGANDA</td>\n",
       "      <td>PRODUCT USED FOR UNKNOWN INDICATION</td>\n",
       "      <td>ASHWAGANDHA PRODUCT USED FOR UNKNOWN INDICATION</td>\n",
       "    </tr>\n",
       "    <tr>\n",
       "      <th>2</th>\n",
       "      <td>ASHWAGANDHA</td>\n",
       "      <td>ASHWAGANDA</td>\n",
       "      <td>ROUTINE HEALTH MAINTENANCE</td>\n",
       "      <td>ASHWAGANDHA ROUTINE HEALTH MAINTENANCE</td>\n",
       "    </tr>\n",
       "    <tr>\n",
       "      <th>3</th>\n",
       "      <td>ASHWAGANDHA</td>\n",
       "      <td>ASHWAGANDA</td>\n",
       "      <td>STRESS</td>\n",
       "      <td>ASHWAGANDHA STRESS</td>\n",
       "    </tr>\n",
       "    <tr>\n",
       "      <th>4</th>\n",
       "      <td>ASHWAGANDHA</td>\n",
       "      <td>ASHWAGANDA</td>\n",
       "      <td>ARTHROPATHY</td>\n",
       "      <td>ASHWAGANDHA ARTHROPATHY</td>\n",
       "    </tr>\n",
       "  </tbody>\n",
       "</table>\n",
       "</div>"
      ],
      "text/plain": [
       "                                    FAERS_drug_match lookup_value  \\\n",
       "0  ADRENAL HEALTH (BRAND) = (SIBERIAN RHODIOLA, R...   ASHWAGANDA   \n",
       "1                                        ASHWAGANDHA   ASHWAGANDA   \n",
       "2                                        ASHWAGANDHA   ASHWAGANDA   \n",
       "3                                        ASHWAGANDHA   ASHWAGANDA   \n",
       "4                                        ASHWAGANDHA   ASHWAGANDA   \n",
       "\n",
       "                               indi_pt  \\\n",
       "0                                        \n",
       "1  PRODUCT USED FOR UNKNOWN INDICATION   \n",
       "2           ROUTINE HEALTH MAINTENANCE   \n",
       "3                               STRESS   \n",
       "4                          ARTHROPATHY   \n",
       "\n",
       "                               FAERS_drug_match_indi  \n",
       "0  ADRENAL HEALTH (BRAND) = (SIBERIAN RHODIOLA, R...  \n",
       "1    ASHWAGANDHA PRODUCT USED FOR UNKNOWN INDICATION  \n",
       "2             ASHWAGANDHA ROUTINE HEALTH MAINTENANCE  \n",
       "3                                 ASHWAGANDHA STRESS  \n",
       "4                            ASHWAGANDHA ARTHROPATHY  "
      ]
     },
     "execution_count": 14,
     "metadata": {},
     "output_type": "execute_result"
    }
   ],
   "source": [
    "df.head()"
   ]
  },
  {
   "cell_type": "code",
   "execution_count": 15,
   "metadata": {},
   "outputs": [
    {
     "data": {
      "text/plain": [
       "8274"
      ]
     },
     "execution_count": 15,
     "metadata": {},
     "output_type": "execute_result"
    }
   ],
   "source": [
    "x = df.FAERS_drug_match_indi.str.len()\n",
    "len(x)"
   ]
  },
  {
   "cell_type": "code",
   "execution_count": 16,
   "metadata": {},
   "outputs": [
    {
     "data": {
      "text/plain": [
       "<AxesSubplot:>"
      ]
     },
     "execution_count": 16,
     "metadata": {},
     "output_type": "execute_result"
    },
    {
     "data": {
      "image/png": "[encoded data removed]",
      "text/plain": [
       "<Figure size 432x288 with 1 Axes>"
      ]
     },
     "metadata": {
      "needs_background": "light"
     },
     "output_type": "display_data"
    }
   ],
   "source": [
    "x.hist()"
   ]
  },
  {
   "cell_type": "code",
   "execution_count": 17,
   "metadata": {},
   "outputs": [],
   "source": [
    "train, test = train_test_split(df, test_size=0.20, random_state=42)"
   ]
  },
  {
   "cell_type": "code",
   "execution_count": 18,
   "metadata": {},
   "outputs": [
    {
     "data": {
      "text/plain": [
       "(6619, 4)"
      ]
     },
     "execution_count": 18,
     "metadata": {},
     "output_type": "execute_result"
    }
   ],
   "source": [
    "train.shape"
   ]
  },
  {
   "cell_type": "code",
   "execution_count": 19,
   "metadata": {},
   "outputs": [
    {
     "data": {
      "text/plain": [
       "(1655, 4)"
      ]
     },
     "execution_count": 19,
     "metadata": {},
     "output_type": "execute_result"
    }
   ],
   "source": [
    "test.shape"
   ]
  },
  {
   "cell_type": "code",
   "execution_count": null,
   "metadata": {},
   "outputs": [],
   "source": []
  },
  {
   "cell_type": "code",
   "execution_count": 20,
   "metadata": {},
   "outputs": [],
   "source": [
    "#padding length = maxlen\n",
    "maxlen = 150"
   ]
  },
  {
   "cell_type": "code",
   "execution_count": 21,
   "metadata": {
    "id": "_BERqTAvuDD0"
   },
   "outputs": [],
   "source": [
    "xtest, ytest = clean_dataset(test)\n",
    "Xtest, Ytest = encode_dataset(xtest,ytest)\n",
    "padded_xTest, padded_yTest = padding_dataset(Xtest,Ytest,maxlen)"
   ]
  },
  {
   "cell_type": "code",
   "execution_count": 22,
   "metadata": {
    "colab": {
     "base_uri": "https://localhost:8080/"
    },
    "id": "zK7ltkhGudRw",
    "outputId": "7ee378b9-809f-4fa8-9095-40e3e9863c17"
   },
   "outputs": [
    {
     "data": {
      "text/plain": [
       "(1655, 150)"
      ]
     },
     "execution_count": 22,
     "metadata": {},
     "output_type": "execute_result"
    }
   ],
   "source": [
    "padded_xTest.shape"
   ]
  },
  {
   "cell_type": "code",
   "execution_count": 23,
   "metadata": {},
   "outputs": [],
   "source": [
    "#without noise (Experiment 1)\n",
    "x, y = clean_dataset(train)"
   ]
  },
  {
   "cell_type": "code",
   "execution_count": 24,
   "metadata": {},
   "outputs": [
    {
     "data": {
      "text/plain": [
       "6619"
      ]
     },
     "execution_count": 24,
     "metadata": {},
     "output_type": "execute_result"
    }
   ],
   "source": [
    "len(y)"
   ]
  },
  {
   "cell_type": "code",
   "execution_count": 25,
   "metadata": {
    "id": "J5xe73atmHh9"
   },
   "outputs": [],
   "source": [
    "encode_dict = {l:i+1 for i,l in enumerate(string.ascii_uppercase + \" \")}"
   ]
  },
  {
   "cell_type": "code",
   "execution_count": 26,
   "metadata": {},
   "outputs": [
    {
     "data": {
      "text/plain": [
       "8274"
      ]
     },
     "execution_count": 26,
     "metadata": {},
     "output_type": "execute_result"
    }
   ],
   "source": [
    "x_all, y_all = clean_dataset(df)\n",
    "len(y_all)"
   ]
  },
  {
   "cell_type": "code",
   "execution_count": 27,
   "metadata": {
    "id": "CccvDAPMmfy_"
   },
   "outputs": [],
   "source": [
    "Xtrain = [[encode_dict[m] for m in n] for n in x]\n",
    "Ytrain = [[encode_dict[m] for m in n] for n in y]"
   ]
  },
  {
   "cell_type": "code",
   "execution_count": 28,
   "metadata": {},
   "outputs": [
    {
     "name": "stdout",
     "output_type": "stream",
     "text": [
      "6619\n",
      "6619\n"
     ]
    },
    {
     "name": "stderr",
     "output_type": "stream",
     "text": [
      "/home/sanya/.conda/envs/faers-embed/lib/python3.8/site-packages/numpy/lib/arraysetops.py:270: VisibleDeprecationWarning: Creating an ndarray from ragged nested sequences (which is a list-or-tuple of lists-or-tuples-or ndarrays with different lengths or shapes) is deprecated. If you meant to do this, you must specify 'dtype=object' when creating the ndarray.\n",
      "  ar = np.asanyarray(ar)\n"
     ]
    },
    {
     "data": {
      "text/plain": [
       "(124,)"
      ]
     },
     "execution_count": 28,
     "metadata": {},
     "output_type": "execute_result"
    }
   ],
   "source": [
    "print(len(Xtrain))\n",
    "print(len(Ytrain))\n",
    "np.unique(Ytrain).shape"
   ]
  },
  {
   "cell_type": "code",
   "execution_count": 29,
   "metadata": {
    "colab": {
     "base_uri": "https://localhost:8080/"
    },
    "id": "LIFksoPYnedl",
    "outputId": "429207d8-ca85-4efb-fce2-d76955b83ea7"
   },
   "outputs": [
    {
     "name": "stdout",
     "output_type": "stream",
     "text": [
      "[[ 1 12 12 ...  0  0  0]\n",
      " [12  9 14 ...  0  0  0]\n",
      " [15  5 14 ...  0  0  0]\n",
      " ...\n",
      " [ 3  1 14 ...  0  0  0]\n",
      " [ 7  9 14 ...  0  0  0]\n",
      " [20 18  9 ...  0  0  0]]\n"
     ]
    }
   ],
   "source": [
    "padded_y = tf.keras.preprocessing.sequence.pad_sequences(\n",
    "    Ytrain, padding=\"post\", maxlen=maxlen\n",
    ")\n",
    "padded_x = tf.keras.preprocessing.sequence.pad_sequences(\n",
    "    Xtrain, padding=\"post\", maxlen=maxlen\n",
    ")\n",
    "\n",
    "print(padded_y)"
   ]
  },
  {
   "cell_type": "code",
   "execution_count": 30,
   "metadata": {
    "colab": {
     "base_uri": "https://localhost:8080/"
    },
    "id": "yze_g-sdwMmQ",
    "outputId": "6bfa8246-414f-405f-849f-32cd25a5a270"
   },
   "outputs": [
    {
     "data": {
      "text/plain": [
       "27"
      ]
     },
     "execution_count": 30,
     "metadata": {},
     "output_type": "execute_result"
    }
   ],
   "source": [
    "len(encode_dict)"
   ]
  },
  {
   "cell_type": "code",
   "execution_count": 31,
   "metadata": {},
   "outputs": [
    {
     "data": {
      "text/html": [
       "<div>\n",
       "<style scoped>\n",
       "    .dataframe tbody tr th:only-of-type {\n",
       "        vertical-align: middle;\n",
       "    }\n",
       "\n",
       "    .dataframe tbody tr th {\n",
       "        vertical-align: top;\n",
       "    }\n",
       "\n",
       "    .dataframe thead th {\n",
       "        text-align: right;\n",
       "    }\n",
       "</style>\n",
       "<table border=\"1\" class=\"dataframe\">\n",
       "  <thead>\n",
       "    <tr style=\"text-align: right;\">\n",
       "      <th></th>\n",
       "      <th>dUnique_label</th>\n",
       "      <th>dUnique_seq</th>\n",
       "      <th>dUnique_seq_padded</th>\n",
       "    </tr>\n",
       "  </thead>\n",
       "  <tbody>\n",
       "    <tr>\n",
       "      <th>0</th>\n",
       "      <td>ACTAEA RACEMOSA</td>\n",
       "      <td>NaN</td>\n",
       "      <td>NaN</td>\n",
       "    </tr>\n",
       "    <tr>\n",
       "      <th>1</th>\n",
       "      <td>AESCULUS HIPPOCASTANUM</td>\n",
       "      <td>NaN</td>\n",
       "      <td>NaN</td>\n",
       "    </tr>\n",
       "    <tr>\n",
       "      <th>2</th>\n",
       "      <td>ALLIUM SATIVUM</td>\n",
       "      <td>NaN</td>\n",
       "      <td>NaN</td>\n",
       "    </tr>\n",
       "    <tr>\n",
       "      <th>3</th>\n",
       "      <td>ALOE VERA</td>\n",
       "      <td>NaN</td>\n",
       "      <td>NaN</td>\n",
       "    </tr>\n",
       "    <tr>\n",
       "      <th>4</th>\n",
       "      <td>ANGELICA SINENSIS</td>\n",
       "      <td>NaN</td>\n",
       "      <td>NaN</td>\n",
       "    </tr>\n",
       "  </tbody>\n",
       "</table>\n",
       "</div>"
      ],
      "text/plain": [
       "            dUnique_label dUnique_seq dUnique_seq_padded\n",
       "0         ACTAEA RACEMOSA         NaN                NaN\n",
       "1  AESCULUS HIPPOCASTANUM         NaN                NaN\n",
       "2          ALLIUM SATIVUM         NaN                NaN\n",
       "3               ALOE VERA         NaN                NaN\n",
       "4       ANGELICA SINENSIS         NaN                NaN"
      ]
     },
     "execution_count": 31,
     "metadata": {},
     "output_type": "execute_result"
    }
   ],
   "source": [
    "dUnique_df = pd.DataFrame(columns = ['dUnique_label','dUnique_seq', 'dUnique_seq_padded'])\n",
    "dUnique_df['dUnique_label'] = np.unique(y_all)\n",
    "dUnique_df.head()"
   ]
  },
  {
   "cell_type": "code",
   "execution_count": 32,
   "metadata": {},
   "outputs": [
    {
     "data": {
      "text/plain": [
       "126"
      ]
     },
     "execution_count": 32,
     "metadata": {},
     "output_type": "execute_result"
    }
   ],
   "source": [
    "dUnique_seq_list = [[encode_dict[m] for m in n] for n in dUnique_df['dUnique_label'].tolist()]\n",
    "len(dUnique_seq_list)"
   ]
  },
  {
   "cell_type": "code",
   "execution_count": 33,
   "metadata": {},
   "outputs": [
    {
     "data": {
      "text/html": [
       "<div>\n",
       "<style scoped>\n",
       "    .dataframe tbody tr th:only-of-type {\n",
       "        vertical-align: middle;\n",
       "    }\n",
       "\n",
       "    .dataframe tbody tr th {\n",
       "        vertical-align: top;\n",
       "    }\n",
       "\n",
       "    .dataframe thead th {\n",
       "        text-align: right;\n",
       "    }\n",
       "</style>\n",
       "<table border=\"1\" class=\"dataframe\">\n",
       "  <thead>\n",
       "    <tr style=\"text-align: right;\">\n",
       "      <th></th>\n",
       "      <th>dUnique_label</th>\n",
       "      <th>dUnique_seq</th>\n",
       "      <th>dUnique_seq_padded</th>\n",
       "    </tr>\n",
       "  </thead>\n",
       "  <tbody>\n",
       "    <tr>\n",
       "      <th>0</th>\n",
       "      <td>ACTAEA RACEMOSA</td>\n",
       "      <td>[1, 3, 20, 1, 5, 1, 27, 18, 1, 3, 5, 13, 15, 1...</td>\n",
       "      <td>NaN</td>\n",
       "    </tr>\n",
       "    <tr>\n",
       "      <th>1</th>\n",
       "      <td>AESCULUS HIPPOCASTANUM</td>\n",
       "      <td>[1, 5, 19, 3, 21, 12, 21, 19, 27, 8, 9, 16, 16...</td>\n",
       "      <td>NaN</td>\n",
       "    </tr>\n",
       "    <tr>\n",
       "      <th>2</th>\n",
       "      <td>ALLIUM SATIVUM</td>\n",
       "      <td>[1, 12, 12, 9, 21, 13, 27, 19, 1, 20, 9, 22, 2...</td>\n",
       "      <td>NaN</td>\n",
       "    </tr>\n",
       "    <tr>\n",
       "      <th>3</th>\n",
       "      <td>ALOE VERA</td>\n",
       "      <td>[1, 12, 15, 5, 27, 22, 5, 18, 1]</td>\n",
       "      <td>NaN</td>\n",
       "    </tr>\n",
       "    <tr>\n",
       "      <th>4</th>\n",
       "      <td>ANGELICA SINENSIS</td>\n",
       "      <td>[1, 14, 7, 5, 12, 9, 3, 1, 27, 19, 9, 14, 5, 1...</td>\n",
       "      <td>NaN</td>\n",
       "    </tr>\n",
       "  </tbody>\n",
       "</table>\n",
       "</div>"
      ],
      "text/plain": [
       "            dUnique_label                                        dUnique_seq  \\\n",
       "0         ACTAEA RACEMOSA  [1, 3, 20, 1, 5, 1, 27, 18, 1, 3, 5, 13, 15, 1...   \n",
       "1  AESCULUS HIPPOCASTANUM  [1, 5, 19, 3, 21, 12, 21, 19, 27, 8, 9, 16, 16...   \n",
       "2          ALLIUM SATIVUM  [1, 12, 12, 9, 21, 13, 27, 19, 1, 20, 9, 22, 2...   \n",
       "3               ALOE VERA                   [1, 12, 15, 5, 27, 22, 5, 18, 1]   \n",
       "4       ANGELICA SINENSIS  [1, 14, 7, 5, 12, 9, 3, 1, 27, 19, 9, 14, 5, 1...   \n",
       "\n",
       "  dUnique_seq_padded  \n",
       "0                NaN  \n",
       "1                NaN  \n",
       "2                NaN  \n",
       "3                NaN  \n",
       "4                NaN  "
      ]
     },
     "execution_count": 33,
     "metadata": {},
     "output_type": "execute_result"
    }
   ],
   "source": [
    "for i in range(len(dUnique_df.index)):\n",
    "    dUnique_df.at[i, 'dUnique_seq'] = np.array(dUnique_seq_list[i])\n",
    "dUnique_df.head()"
   ]
  },
  {
   "cell_type": "code",
   "execution_count": 34,
   "metadata": {
    "colab": {
     "base_uri": "https://localhost:8080/"
    },
    "id": "fK6PmQSH0nU0",
    "outputId": "ec68b153-a655-4406-f675-e723816cc09e"
   },
   "outputs": [
    {
     "name": "stdout",
     "output_type": "stream",
     "text": [
      "<class 'pandas.core.frame.DataFrame'>\n",
      "RangeIndex: 13843 entries, 0 to 13842\n",
      "Data columns (total 3 columns):\n",
      " #   Column            Non-Null Count  Dtype \n",
      "---  ------            --------------  ----- \n",
      " 0   FAERS_drug_match  13843 non-null  object\n",
      " 1   lookup_value      13843 non-null  object\n",
      " 2   indi_pt           8808 non-null   object\n",
      "dtypes: object(3)\n",
      "memory usage: 324.6+ KB\n"
     ]
    }
   ],
   "source": [
    "#setup negative pairs - with indications data \n",
    "dfneg = pd.read_csv('data/NP_FAERS_mapped_indications_join_on_drugname_negative_20220223.csv')\n",
    "dfneg.info()"
   ]
  },
  {
   "cell_type": "code",
   "execution_count": null,
   "metadata": {},
   "outputs": [],
   "source": [
    "#do same processing for negative pairs with indications\n"
   ]
  },
  {
   "cell_type": "code",
   "execution_count": 35,
   "metadata": {},
   "outputs": [
    {
     "data": {
      "text/html": [
       "<div>\n",
       "<style scoped>\n",
       "    .dataframe tbody tr th:only-of-type {\n",
       "        vertical-align: middle;\n",
       "    }\n",
       "\n",
       "    .dataframe tbody tr th {\n",
       "        vertical-align: top;\n",
       "    }\n",
       "\n",
       "    .dataframe thead th {\n",
       "        text-align: right;\n",
       "    }\n",
       "</style>\n",
       "<table border=\"1\" class=\"dataframe\">\n",
       "  <thead>\n",
       "    <tr style=\"text-align: right;\">\n",
       "      <th></th>\n",
       "      <th>FAERS_drug_match</th>\n",
       "      <th>lookup_value</th>\n",
       "      <th>indi_pt</th>\n",
       "    </tr>\n",
       "  </thead>\n",
       "  <tbody>\n",
       "    <tr>\n",
       "      <th>0</th>\n",
       "      <td>ANUSOL (BENZYL BENZOATE, BISMUTH OXIDE, BISMUT...</td>\n",
       "      <td>Cinnamon</td>\n",
       "      <td></td>\n",
       "    </tr>\n",
       "    <tr>\n",
       "      <th>1</th>\n",
       "      <td>ANUSOL (BENZYL BENZOATE/BISMUTH RESORCINOL/BIS...</td>\n",
       "      <td>Cinnamon</td>\n",
       "      <td></td>\n",
       "    </tr>\n",
       "    <tr>\n",
       "      <th>2</th>\n",
       "      <td>ANUSOL-HC (BALSAM PERU, BENZYL BENZOATE, BISMU...</td>\n",
       "      <td>Cinnamon</td>\n",
       "      <td></td>\n",
       "    </tr>\n",
       "    <tr>\n",
       "      <th>3</th>\n",
       "      <td>ANUSOL-HC [BENZYL BENZOATE;BISMUTH HYDROXIDE;</td>\n",
       "      <td>Cinnamon</td>\n",
       "      <td></td>\n",
       "    </tr>\n",
       "    <tr>\n",
       "      <th>4</th>\n",
       "      <td>ANUSOL-HC (BENZYL BENZOATE, BISMUTH HYDROXIDE,...</td>\n",
       "      <td>Cinnamon</td>\n",
       "      <td></td>\n",
       "    </tr>\n",
       "  </tbody>\n",
       "</table>\n",
       "</div>"
      ],
      "text/plain": [
       "                                    FAERS_drug_match lookup_value indi_pt\n",
       "0  ANUSOL (BENZYL BENZOATE, BISMUTH OXIDE, BISMUT...     Cinnamon        \n",
       "1  ANUSOL (BENZYL BENZOATE/BISMUTH RESORCINOL/BIS...     Cinnamon        \n",
       "2  ANUSOL-HC (BALSAM PERU, BENZYL BENZOATE, BISMU...     Cinnamon        \n",
       "3      ANUSOL-HC [BENZYL BENZOATE;BISMUTH HYDROXIDE;     Cinnamon        \n",
       "4  ANUSOL-HC (BENZYL BENZOATE, BISMUTH HYDROXIDE,...     Cinnamon        "
      ]
     },
     "execution_count": 35,
     "metadata": {},
     "output_type": "execute_result"
    }
   ],
   "source": [
    "#append indications string to drug name (if not NA)\n",
    "dfneg['indi_pt'] = dfneg['indi_pt'].fillna('')\n",
    "dfneg.head()"
   ]
  },
  {
   "cell_type": "code",
   "execution_count": 36,
   "metadata": {},
   "outputs": [],
   "source": [
    "dfneg['FAERS_drug_match_indi'] = dfneg['FAERS_drug_match'] + ' ' + dfneg['indi_pt']"
   ]
  },
  {
   "cell_type": "code",
   "execution_count": 38,
   "metadata": {},
   "outputs": [
    {
     "data": {
      "text/html": [
       "<div>\n",
       "<style scoped>\n",
       "    .dataframe tbody tr th:only-of-type {\n",
       "        vertical-align: middle;\n",
       "    }\n",
       "\n",
       "    .dataframe tbody tr th {\n",
       "        vertical-align: top;\n",
       "    }\n",
       "\n",
       "    .dataframe thead th {\n",
       "        text-align: right;\n",
       "    }\n",
       "</style>\n",
       "<table border=\"1\" class=\"dataframe\">\n",
       "  <thead>\n",
       "    <tr style=\"text-align: right;\">\n",
       "      <th></th>\n",
       "      <th>FAERS_drug_match</th>\n",
       "      <th>lookup_value</th>\n",
       "      <th>indi_pt</th>\n",
       "      <th>FAERS_drug_match_indi</th>\n",
       "    </tr>\n",
       "  </thead>\n",
       "  <tbody>\n",
       "    <tr>\n",
       "      <th>0</th>\n",
       "      <td>ANUSOL (BENZYL BENZOATE, BISMUTH OXIDE, BISMUT...</td>\n",
       "      <td>Cinnamon</td>\n",
       "      <td></td>\n",
       "      <td>ANUSOL (BENZYL BENZOATE, BISMUTH OXIDE, BISMUT...</td>\n",
       "    </tr>\n",
       "    <tr>\n",
       "      <th>1</th>\n",
       "      <td>ANUSOL (BENZYL BENZOATE/BISMUTH RESORCINOL/BIS...</td>\n",
       "      <td>Cinnamon</td>\n",
       "      <td></td>\n",
       "      <td>ANUSOL (BENZYL BENZOATE/BISMUTH RESORCINOL/BIS...</td>\n",
       "    </tr>\n",
       "    <tr>\n",
       "      <th>2</th>\n",
       "      <td>ANUSOL-HC (BALSAM PERU, BENZYL BENZOATE, BISMU...</td>\n",
       "      <td>Cinnamon</td>\n",
       "      <td></td>\n",
       "      <td>ANUSOL-HC (BALSAM PERU, BENZYL BENZOATE, BISMU...</td>\n",
       "    </tr>\n",
       "    <tr>\n",
       "      <th>3</th>\n",
       "      <td>ANUSOL-HC [BENZYL BENZOATE;BISMUTH HYDROXIDE;</td>\n",
       "      <td>Cinnamon</td>\n",
       "      <td></td>\n",
       "      <td>ANUSOL-HC [BENZYL BENZOATE;BISMUTH HYDROXIDE;</td>\n",
       "    </tr>\n",
       "    <tr>\n",
       "      <th>4</th>\n",
       "      <td>ANUSOL-HC (BENZYL BENZOATE, BISMUTH HYDROXIDE,...</td>\n",
       "      <td>Cinnamon</td>\n",
       "      <td></td>\n",
       "      <td>ANUSOL-HC (BENZYL BENZOATE, BISMUTH HYDROXIDE,...</td>\n",
       "    </tr>\n",
       "  </tbody>\n",
       "</table>\n",
       "</div>"
      ],
      "text/plain": [
       "                                    FAERS_drug_match lookup_value indi_pt  \\\n",
       "0  ANUSOL (BENZYL BENZOATE, BISMUTH OXIDE, BISMUT...     Cinnamon           \n",
       "1  ANUSOL (BENZYL BENZOATE/BISMUTH RESORCINOL/BIS...     Cinnamon           \n",
       "2  ANUSOL-HC (BALSAM PERU, BENZYL BENZOATE, BISMU...     Cinnamon           \n",
       "3      ANUSOL-HC [BENZYL BENZOATE;BISMUTH HYDROXIDE;     Cinnamon           \n",
       "4  ANUSOL-HC (BENZYL BENZOATE, BISMUTH HYDROXIDE,...     Cinnamon           \n",
       "\n",
       "                               FAERS_drug_match_indi  \n",
       "0  ANUSOL (BENZYL BENZOATE, BISMUTH OXIDE, BISMUT...  \n",
       "1  ANUSOL (BENZYL BENZOATE/BISMUTH RESORCINOL/BIS...  \n",
       "2  ANUSOL-HC (BALSAM PERU, BENZYL BENZOATE, BISMU...  \n",
       "3     ANUSOL-HC [BENZYL BENZOATE;BISMUTH HYDROXIDE;   \n",
       "4  ANUSOL-HC (BENZYL BENZOATE, BISMUTH HYDROXIDE,...  "
      ]
     },
     "execution_count": 38,
     "metadata": {},
     "output_type": "execute_result"
    }
   ],
   "source": [
    "dfneg.head()"
   ]
  },
  {
   "cell_type": "code",
   "execution_count": 40,
   "metadata": {},
   "outputs": [
    {
     "data": {
      "text/plain": [
       "13843"
      ]
     },
     "execution_count": 40,
     "metadata": {},
     "output_type": "execute_result"
    }
   ],
   "source": [
    "x = dfneg.FAERS_drug_match_indi.str.len()\n",
    "len(x)"
   ]
  },
  {
   "cell_type": "code",
   "execution_count": 41,
   "metadata": {},
   "outputs": [
    {
     "data": {
      "text/plain": [
       "<AxesSubplot:>"
      ]
     },
     "execution_count": 41,
     "metadata": {},
     "output_type": "execute_result"
    },
    {
     "data": {
      "image/png": "[encoded data removed]",
      "text/plain": [
       "<Figure size 432x288 with 1 Axes>"
      ]
     },
     "metadata": {
      "needs_background": "light"
     },
     "output_type": "display_data"
    }
   ],
   "source": [
    "x.hist()"
   ]
  },
  {
   "cell_type": "code",
   "execution_count": null,
   "metadata": {},
   "outputs": [],
   "source": []
  },
  {
   "cell_type": "code",
   "execution_count": null,
   "metadata": {},
   "outputs": [],
   "source": []
  },
  {
   "cell_type": "code",
   "execution_count": null,
   "metadata": {},
   "outputs": [],
   "source": []
  },
  {
   "cell_type": "code",
   "execution_count": 42,
   "metadata": {},
   "outputs": [],
   "source": [
    "#encode negative pairs and add padding\n",
    "xneg, yneg = clean_dataset(dfneg)\n",
    "Xneg, Yneg = encode_dataset(xneg,yneg)\n",
    "padded_xneg, padded_yneg = padding_dataset(Xneg,Yneg,maxlen)"
   ]
  },
  {
   "cell_type": "code",
   "execution_count": 43,
   "metadata": {},
   "outputs": [],
   "source": [
    "dUnique = tf.keras.preprocessing.sequence.pad_sequences(\n",
    "    list(dUnique_df['dUnique_seq']), padding=\"post\", maxlen=maxlen)"
   ]
  },
  {
   "cell_type": "code",
   "execution_count": 45,
   "metadata": {},
   "outputs": [
    {
     "data": {
      "text/html": [
       "<div>\n",
       "<style scoped>\n",
       "    .dataframe tbody tr th:only-of-type {\n",
       "        vertical-align: middle;\n",
       "    }\n",
       "\n",
       "    .dataframe tbody tr th {\n",
       "        vertical-align: top;\n",
       "    }\n",
       "\n",
       "    .dataframe thead th {\n",
       "        text-align: right;\n",
       "    }\n",
       "</style>\n",
       "<table border=\"1\" class=\"dataframe\">\n",
       "  <thead>\n",
       "    <tr style=\"text-align: right;\">\n",
       "      <th></th>\n",
       "      <th>FAERS_drug_match</th>\n",
       "      <th>lookup_value</th>\n",
       "      <th>indi_pt</th>\n",
       "      <th>FAERS_drug_match_indi</th>\n",
       "    </tr>\n",
       "  </thead>\n",
       "  <tbody>\n",
       "    <tr>\n",
       "      <th>8118</th>\n",
       "      <td>GARLIC AND PARSLEY GELCAP</td>\n",
       "      <td>ALLIUM SATIVUM</td>\n",
       "      <td>BLOOD PRESSURE ABNORMAL</td>\n",
       "      <td>GARLIC AND PARSLEY GELCAP BLOOD PRESSURE ABNORMAL</td>\n",
       "    </tr>\n",
       "    <tr>\n",
       "      <th>4823</th>\n",
       "      <td>NATURES BOUNTY FISH FLAX AND BORAGE</td>\n",
       "      <td>LINUM USITATISSIMUM</td>\n",
       "      <td></td>\n",
       "      <td>NATURES BOUNTY FISH FLAX AND BORAGE</td>\n",
       "    </tr>\n",
       "    <tr>\n",
       "      <th>7999</th>\n",
       "      <td>PRIMROSE OIL CRANBERR</td>\n",
       "      <td>OENOTHERA BIENNIS</td>\n",
       "      <td></td>\n",
       "      <td>PRIMROSE OIL CRANBERR</td>\n",
       "    </tr>\n",
       "    <tr>\n",
       "      <th>5602</th>\n",
       "      <td>HORSE CHESTNUT (FOR BACK)</td>\n",
       "      <td>AESCULUS HIPPOCASTANUM</td>\n",
       "      <td></td>\n",
       "      <td>HORSE CHESTNUT (FOR BACK)</td>\n",
       "    </tr>\n",
       "    <tr>\n",
       "      <th>6901</th>\n",
       "      <td>DONGQUAI</td>\n",
       "      <td>ANGELICA SINENSIS</td>\n",
       "      <td>SUPPLEMENTATION THERAPY</td>\n",
       "      <td>DONGQUAI SUPPLEMENTATION THERAPY</td>\n",
       "    </tr>\n",
       "  </tbody>\n",
       "</table>\n",
       "</div>"
      ],
      "text/plain": [
       "                         FAERS_drug_match            lookup_value  \\\n",
       "8118            GARLIC AND PARSLEY GELCAP          ALLIUM SATIVUM   \n",
       "4823  NATURES BOUNTY FISH FLAX AND BORAGE     LINUM USITATISSIMUM   \n",
       "7999                PRIMROSE OIL CRANBERR       OENOTHERA BIENNIS   \n",
       "5602            HORSE CHESTNUT (FOR BACK)  AESCULUS HIPPOCASTANUM   \n",
       "6901                             DONGQUAI       ANGELICA SINENSIS   \n",
       "\n",
       "                      indi_pt  \\\n",
       "8118  BLOOD PRESSURE ABNORMAL   \n",
       "4823                            \n",
       "7999                            \n",
       "5602                            \n",
       "6901  SUPPLEMENTATION THERAPY   \n",
       "\n",
       "                                  FAERS_drug_match_indi  \n",
       "8118  GARLIC AND PARSLEY GELCAP BLOOD PRESSURE ABNORMAL  \n",
       "4823               NATURES BOUNTY FISH FLAX AND BORAGE   \n",
       "7999                             PRIMROSE OIL CRANBERR   \n",
       "5602                         HORSE CHESTNUT (FOR BACK)   \n",
       "6901                   DONGQUAI SUPPLEMENTATION THERAPY  "
      ]
     },
     "execution_count": 45,
     "metadata": {},
     "output_type": "execute_result"
    }
   ],
   "source": [
    "train.head()"
   ]
  },
  {
   "cell_type": "code",
   "execution_count": 46,
   "metadata": {},
   "outputs": [
    {
     "data": {
      "text/plain": [
       "126"
      ]
     },
     "execution_count": 46,
     "metadata": {},
     "output_type": "execute_result"
    }
   ],
   "source": [
    "np_unique = dUnique_df.dUnique_label.tolist()\n",
    "len(np_unique)"
   ]
  },
  {
   "cell_type": "code",
   "execution_count": 47,
   "metadata": {},
   "outputs": [
    {
     "name": "stdout",
     "output_type": "stream",
     "text": [
      "6619 6619 6619\n"
     ]
    }
   ],
   "source": [
    "#add positive pairs\n",
    "x1TrainRNN = []\n",
    "x2TrainRNN = []\n",
    "yTrainRNN = []\n",
    "for i in range(len(padded_x)):\n",
    "    yTrainRNN.append(1)\n",
    "    x1TrainRNN.append(padded_x[i])\n",
    "    x2TrainRNN.append(padded_y[i])\n",
    "print(len(x1TrainRNN), len(x2TrainRNN), len(yTrainRNN))"
   ]
  },
  {
   "cell_type": "code",
   "execution_count": 48,
   "metadata": {},
   "outputs": [
    {
     "data": {
      "text/html": [
       "<div>\n",
       "<style scoped>\n",
       "    .dataframe tbody tr th:only-of-type {\n",
       "        vertical-align: middle;\n",
       "    }\n",
       "\n",
       "    .dataframe tbody tr th {\n",
       "        vertical-align: top;\n",
       "    }\n",
       "\n",
       "    .dataframe thead th {\n",
       "        text-align: right;\n",
       "    }\n",
       "</style>\n",
       "<table border=\"1\" class=\"dataframe\">\n",
       "  <thead>\n",
       "    <tr style=\"text-align: right;\">\n",
       "      <th></th>\n",
       "      <th>index</th>\n",
       "      <th>FAERS_drug_match</th>\n",
       "      <th>lookup_value</th>\n",
       "      <th>indi_pt</th>\n",
       "      <th>FAERS_drug_match_indi</th>\n",
       "    </tr>\n",
       "  </thead>\n",
       "  <tbody>\n",
       "    <tr>\n",
       "      <th>0</th>\n",
       "      <td>8118</td>\n",
       "      <td>GARLIC AND PARSLEY GELCAP</td>\n",
       "      <td>ALLIUM SATIVUM</td>\n",
       "      <td>BLOOD PRESSURE ABNORMAL</td>\n",
       "      <td>GARLIC AND PARSLEY GELCAP BLOOD PRESSURE ABNORMAL</td>\n",
       "    </tr>\n",
       "    <tr>\n",
       "      <th>1</th>\n",
       "      <td>4823</td>\n",
       "      <td>NATURES BOUNTY FISH FLAX AND BORAGE</td>\n",
       "      <td>LINUM USITATISSIMUM</td>\n",
       "      <td></td>\n",
       "      <td>NATURES BOUNTY FISH FLAX AND BORAGE</td>\n",
       "    </tr>\n",
       "    <tr>\n",
       "      <th>2</th>\n",
       "      <td>7999</td>\n",
       "      <td>PRIMROSE OIL CRANBERR</td>\n",
       "      <td>OENOTHERA BIENNIS</td>\n",
       "      <td></td>\n",
       "      <td>PRIMROSE OIL CRANBERR</td>\n",
       "    </tr>\n",
       "    <tr>\n",
       "      <th>3</th>\n",
       "      <td>5602</td>\n",
       "      <td>HORSE CHESTNUT (FOR BACK)</td>\n",
       "      <td>AESCULUS HIPPOCASTANUM</td>\n",
       "      <td></td>\n",
       "      <td>HORSE CHESTNUT (FOR BACK)</td>\n",
       "    </tr>\n",
       "    <tr>\n",
       "      <th>4</th>\n",
       "      <td>6901</td>\n",
       "      <td>DONGQUAI</td>\n",
       "      <td>ANGELICA SINENSIS</td>\n",
       "      <td>SUPPLEMENTATION THERAPY</td>\n",
       "      <td>DONGQUAI SUPPLEMENTATION THERAPY</td>\n",
       "    </tr>\n",
       "  </tbody>\n",
       "</table>\n",
       "</div>"
      ],
      "text/plain": [
       "   index                     FAERS_drug_match            lookup_value  \\\n",
       "0   8118            GARLIC AND PARSLEY GELCAP          ALLIUM SATIVUM   \n",
       "1   4823  NATURES BOUNTY FISH FLAX AND BORAGE     LINUM USITATISSIMUM   \n",
       "2   7999                PRIMROSE OIL CRANBERR       OENOTHERA BIENNIS   \n",
       "3   5602            HORSE CHESTNUT (FOR BACK)  AESCULUS HIPPOCASTANUM   \n",
       "4   6901                             DONGQUAI       ANGELICA SINENSIS   \n",
       "\n",
       "                   indi_pt                              FAERS_drug_match_indi  \n",
       "0  BLOOD PRESSURE ABNORMAL  GARLIC AND PARSLEY GELCAP BLOOD PRESSURE ABNORMAL  \n",
       "1                                        NATURES BOUNTY FISH FLAX AND BORAGE   \n",
       "2                                                      PRIMROSE OIL CRANBERR   \n",
       "3                                                  HORSE CHESTNUT (FOR BACK)   \n",
       "4  SUPPLEMENTATION THERAPY                   DONGQUAI SUPPLEMENTATION THERAPY  "
      ]
     },
     "execution_count": 48,
     "metadata": {},
     "output_type": "execute_result"
    }
   ],
   "source": [
    "train_res = train.reset_index()\n",
    "train_res.head()"
   ]
  },
  {
   "cell_type": "code",
   "execution_count": 51,
   "metadata": {},
   "outputs": [
    {
     "data": {
      "text/plain": [
       "26111"
      ]
     },
     "execution_count": 51,
     "metadata": {},
     "output_type": "execute_result"
    }
   ],
   "source": [
    "#take negative pairs from training data\n",
    "faers_match = []\n",
    "lookup = []\n",
    "for i in range(len(train_res)):\n",
    "    np_name = train_res.at[i, 'FAERS_drug_match_indi']\n",
    "    for j in random.choices(range(len(np_unique)), k=4):\n",
    "        np_temp = np_unique[j]\n",
    "        np_match = train_res.loc[train_res['FAERS_drug_match_indi'] == np_name].lookup_value.tolist()\n",
    "        if np_temp not in np_match:\n",
    "            faers_match.append(np_name)\n",
    "            lookup.append(np_temp)\n",
    "len(faers_match)"
   ]
  },
  {
   "cell_type": "code",
   "execution_count": 52,
   "metadata": {},
   "outputs": [],
   "source": [
    "dfneg2 = pd.DataFrame(columns=['FAERS_drug_match_indi', 'lookup_value'])\n",
    "dfneg2['FAERS_drug_match_indi'] = faers_match\n",
    "dfneg2['lookup_value'] = lookup\n",
    "xneg2, yneg2 = clean_dataset(dfneg2)\n",
    "Xneg2, Yneg2 = encode_dataset(xneg2,yneg2)\n",
    "padded_xneg2, padded_yneg2 = padding_dataset(Xneg2,Yneg2,maxlen)"
   ]
  },
  {
   "cell_type": "code",
   "execution_count": 53,
   "metadata": {},
   "outputs": [
    {
     "name": "stdout",
     "output_type": "stream",
     "text": [
      "32730 32730 32730\n"
     ]
    }
   ],
   "source": [
    "##add negative pairs from training data\n",
    "for j in range(len(padded_xneg2)):\n",
    "    yTrainRNN.append(0)\n",
    "    x1TrainRNN.append(padded_xneg2[j])\n",
    "    x2TrainRNN.append(padded_yneg2[j])\n",
    "print(len(x1TrainRNN), len(x2TrainRNN), len(yTrainRNN))"
   ]
  },
  {
   "cell_type": "code",
   "execution_count": 54,
   "metadata": {},
   "outputs": [
    {
     "name": "stdout",
     "output_type": "stream",
     "text": [
      "46573 46573 46573\n"
     ]
    }
   ],
   "source": [
    "##add negative pairs from reference set\n",
    "for j in range(len(padded_xneg)):\n",
    "    yTrainRNN.append(0)\n",
    "    x1TrainRNN.append(padded_xneg[j])\n",
    "    x2TrainRNN.append(padded_yneg[j])\n",
    "print(len(x1TrainRNN), len(x2TrainRNN), len(yTrainRNN))"
   ]
  },
  {
   "cell_type": "code",
   "execution_count": 55,
   "metadata": {},
   "outputs": [
    {
     "data": {
      "text/html": [
       "<div>\n",
       "<style scoped>\n",
       "    .dataframe tbody tr th:only-of-type {\n",
       "        vertical-align: middle;\n",
       "    }\n",
       "\n",
       "    .dataframe tbody tr th {\n",
       "        vertical-align: top;\n",
       "    }\n",
       "\n",
       "    .dataframe thead th {\n",
       "        text-align: right;\n",
       "    }\n",
       "</style>\n",
       "<table border=\"1\" class=\"dataframe\">\n",
       "  <thead>\n",
       "    <tr style=\"text-align: right;\">\n",
       "      <th></th>\n",
       "      <th>dUnique_label</th>\n",
       "      <th>dUnique_seq</th>\n",
       "      <th>dUnique_seq_padded</th>\n",
       "    </tr>\n",
       "  </thead>\n",
       "  <tbody>\n",
       "    <tr>\n",
       "      <th>0</th>\n",
       "      <td>ACTAEA RACEMOSA</td>\n",
       "      <td>[1, 3, 20, 1, 5, 1, 27, 18, 1, 3, 5, 13, 15, 1...</td>\n",
       "      <td>[1, 3, 20, 1, 5, 1, 27, 18, 1, 3, 5, 13, 15, 1...</td>\n",
       "    </tr>\n",
       "    <tr>\n",
       "      <th>1</th>\n",
       "      <td>AESCULUS HIPPOCASTANUM</td>\n",
       "      <td>[1, 5, 19, 3, 21, 12, 21, 19, 27, 8, 9, 16, 16...</td>\n",
       "      <td>[1, 5, 19, 3, 21, 12, 21, 19, 27, 8, 9, 16, 16...</td>\n",
       "    </tr>\n",
       "    <tr>\n",
       "      <th>2</th>\n",
       "      <td>ALLIUM SATIVUM</td>\n",
       "      <td>[1, 12, 12, 9, 21, 13, 27, 19, 1, 20, 9, 22, 2...</td>\n",
       "      <td>[1, 12, 12, 9, 21, 13, 27, 19, 1, 20, 9, 22, 2...</td>\n",
       "    </tr>\n",
       "    <tr>\n",
       "      <th>3</th>\n",
       "      <td>ALOE VERA</td>\n",
       "      <td>[1, 12, 15, 5, 27, 22, 5, 18, 1]</td>\n",
       "      <td>[1, 12, 15, 5, 27, 22, 5, 18, 1, 0, 0, 0, 0, 0...</td>\n",
       "    </tr>\n",
       "    <tr>\n",
       "      <th>4</th>\n",
       "      <td>ANGELICA SINENSIS</td>\n",
       "      <td>[1, 14, 7, 5, 12, 9, 3, 1, 27, 19, 9, 14, 5, 1...</td>\n",
       "      <td>[1, 14, 7, 5, 12, 9, 3, 1, 27, 19, 9, 14, 5, 1...</td>\n",
       "    </tr>\n",
       "  </tbody>\n",
       "</table>\n",
       "</div>"
      ],
      "text/plain": [
       "            dUnique_label                                        dUnique_seq  \\\n",
       "0         ACTAEA RACEMOSA  [1, 3, 20, 1, 5, 1, 27, 18, 1, 3, 5, 13, 15, 1...   \n",
       "1  AESCULUS HIPPOCASTANUM  [1, 5, 19, 3, 21, 12, 21, 19, 27, 8, 9, 16, 16...   \n",
       "2          ALLIUM SATIVUM  [1, 12, 12, 9, 21, 13, 27, 19, 1, 20, 9, 22, 2...   \n",
       "3               ALOE VERA                   [1, 12, 15, 5, 27, 22, 5, 18, 1]   \n",
       "4       ANGELICA SINENSIS  [1, 14, 7, 5, 12, 9, 3, 1, 27, 19, 9, 14, 5, 1...   \n",
       "\n",
       "                                  dUnique_seq_padded  \n",
       "0  [1, 3, 20, 1, 5, 1, 27, 18, 1, 3, 5, 13, 15, 1...  \n",
       "1  [1, 5, 19, 3, 21, 12, 21, 19, 27, 8, 9, 16, 16...  \n",
       "2  [1, 12, 12, 9, 21, 13, 27, 19, 1, 20, 9, 22, 2...  \n",
       "3  [1, 12, 15, 5, 27, 22, 5, 18, 1, 0, 0, 0, 0, 0...  \n",
       "4  [1, 14, 7, 5, 12, 9, 3, 1, 27, 19, 9, 14, 5, 1...  "
      ]
     },
     "execution_count": 55,
     "metadata": {},
     "output_type": "execute_result"
    }
   ],
   "source": [
    "for i in range(len(dUnique_df.index)):\n",
    "    dUnique_df.at[i, 'dUnique_seq_padded'] = dUnique[i]\n",
    "dUnique_df.head()"
   ]
  },
  {
   "cell_type": "code",
   "execution_count": 56,
   "metadata": {
    "id": "XcSCBXAf8G8D"
   },
   "outputs": [],
   "source": [
    "x1TrainRnnS, x2TrainRnnS, yTrainRnnS = shuffle(x1TrainRNN, x2TrainRNN, yTrainRNN, random_state=42)"
   ]
  },
  {
   "cell_type": "markdown",
   "metadata": {
    "id": "znoVfJBDYhLc"
   },
   "source": [
    "### build model and train"
   ]
  },
  {
   "cell_type": "code",
   "execution_count": 57,
   "metadata": {
    "colab": {
     "base_uri": "https://localhost:8080/"
    },
    "id": "mx1x0xA3uFzW",
    "outputId": "8a752be5-ba1b-4934-d4bf-eb5706e9aad5"
   },
   "outputs": [
    {
     "name": "stderr",
     "output_type": "stream",
     "text": [
      "2022-02-23 13:14:13.663017: I tensorflow/core/platform/cpu_feature_guard.cc:151] This TensorFlow binary is optimized with oneAPI Deep Neural Network Library (oneDNN) to use the following CPU instructions in performance-critical operations:  AVX2 AVX512F FMA\n",
      "To enable them in other operations, rebuild TensorFlow with the appropriate compiler flags.\n",
      "2022-02-23 13:14:14.592511: I tensorflow/core/common_runtime/gpu/gpu_device.cc:1525] Created device /job:localhost/replica:0/task:0/device:GPU:0 with 9652 MB memory:  -> device: 0, name: NVIDIA GeForce RTX 2080 Ti, pci bus id: 0000:af:00.0, compute capability: 7.5\n"
     ]
    },
    {
     "name": "stdout",
     "output_type": "stream",
     "text": [
      "(None, 150, 64)\n"
     ]
    }
   ],
   "source": [
    "input = tf.keras.layers.Input(maxlen)\n",
    "input_1 = tf.keras.layers.Input(maxlen)\n",
    "input_2 = tf.keras.layers.Input(maxlen)\n",
    "embedding = tf.keras.layers.Embedding(input_dim=28, output_dim=64, mask_zero=True)\n",
    "x = embedding(input)\n",
    "\n",
    "print(x.shape)\n",
    "x = tf.keras.layers.GRU(128)(x)\n",
    "x = tf.keras.layers.Dense(64, activation=\"tanh\")(x)\n",
    "x = tf.keras.layers.Dense(32, activation=\"tanh\")(x)\n",
    "embedding_network = tf.keras.Model(input, x)\n",
    "\n",
    "tower_1 = embedding_network(input_1)\n",
    "tower_2 = embedding_network(input_2)\n",
    "\n",
    "merge_layer = tf.keras.layers.Lambda(cosine_distance)([tower_1, tower_2])\n",
    "output_layer = tf.keras.layers.Dense(1, activation=\"sigmoid\")(merge_layer)\n",
    "siamese = tf.keras.Model(inputs=[input_1, input_2], outputs=output_layer)"
   ]
  },
  {
   "cell_type": "code",
   "execution_count": 58,
   "metadata": {
    "id": "1VAhhoIHYabz"
   },
   "outputs": [],
   "source": [
    "siamese.compile(loss=loss(margin=1), optimizer='RMSprop', metrics=[\"accuracy\"])"
   ]
  },
  {
   "cell_type": "code",
   "execution_count": 59,
   "metadata": {
    "colab": {
     "base_uri": "https://localhost:8080/"
    },
    "id": "LdTWk0jUYc9J",
    "outputId": "2e52a230-11ec-4bac-c9ee-5bb5dc8a936f"
   },
   "outputs": [
    {
     "name": "stdout",
     "output_type": "stream",
     "text": [
      "Epoch 1/100\n"
     ]
    },
    {
     "name": "stderr",
     "output_type": "stream",
     "text": [
      "2022-02-23 13:14:34.535507: I tensorflow/stream_executor/cuda/cuda_dnn.cc:368] Loaded cuDNN version 8302\n"
     ]
    },
    {
     "name": "stdout",
     "output_type": "stream",
     "text": [
      "1165/1165 [==============================] - 38s 22ms/step - loss: 0.1778 - accuracy: 0.8536 - val_loss: 0.1345 - val_accuracy: 0.8559\n",
      "Epoch 2/100\n",
      "1165/1165 [==============================] - 22s 19ms/step - loss: 0.1202 - accuracy: 0.8592 - val_loss: 0.1138 - val_accuracy: 0.8576\n",
      "Epoch 3/100\n",
      "1165/1165 [==============================] - 21s 18ms/step - loss: 0.1102 - accuracy: 0.8637 - val_loss: 0.1123 - val_accuracy: 0.8601\n",
      "Epoch 4/100\n",
      "1165/1165 [==============================] - 22s 19ms/step - loss: 0.1071 - accuracy: 0.8709 - val_loss: 0.1078 - val_accuracy: 0.8655\n",
      "Epoch 5/100\n",
      "1165/1165 [==============================] - 21s 18ms/step - loss: 0.1013 - accuracy: 0.8798 - val_loss: 0.1034 - val_accuracy: 0.8758\n",
      "Epoch 6/100\n",
      "1165/1165 [==============================] - 21s 18ms/step - loss: 0.0952 - accuracy: 0.8903 - val_loss: 0.0961 - val_accuracy: 0.8873\n",
      "Epoch 7/100\n",
      "1165/1165 [==============================] - 21s 18ms/step - loss: 0.0905 - accuracy: 0.8939 - val_loss: 0.0916 - val_accuracy: 0.8908\n",
      "Epoch 8/100\n",
      "1165/1165 [==============================] - 21s 18ms/step - loss: 0.0854 - accuracy: 0.9003 - val_loss: 0.0898 - val_accuracy: 0.8923\n",
      "Epoch 9/100\n",
      "1165/1165 [==============================] - 22s 19ms/step - loss: 0.0806 - accuracy: 0.9064 - val_loss: 0.0858 - val_accuracy: 0.8975\n",
      "Epoch 10/100\n",
      "1165/1165 [==============================] - 22s 19ms/step - loss: 0.0770 - accuracy: 0.9117 - val_loss: 0.0823 - val_accuracy: 0.9047\n",
      "Epoch 11/100\n",
      "1165/1165 [==============================] - 21s 18ms/step - loss: 0.0734 - accuracy: 0.9157 - val_loss: 0.0773 - val_accuracy: 0.9095\n",
      "Epoch 12/100\n",
      "1165/1165 [==============================] - 21s 18ms/step - loss: 0.0696 - accuracy: 0.9209 - val_loss: 0.0741 - val_accuracy: 0.9143\n",
      "Epoch 13/100\n",
      "1165/1165 [==============================] - 21s 18ms/step - loss: 0.0661 - accuracy: 0.9250 - val_loss: 0.0720 - val_accuracy: 0.9145\n",
      "Epoch 14/100\n",
      "1165/1165 [==============================] - 21s 18ms/step - loss: 0.0632 - accuracy: 0.9277 - val_loss: 0.0716 - val_accuracy: 0.9136\n",
      "Epoch 15/100\n",
      "1165/1165 [==============================] - 21s 18ms/step - loss: 0.0596 - accuracy: 0.9321 - val_loss: 0.0660 - val_accuracy: 0.9230\n",
      "Epoch 16/100\n",
      "1165/1165 [==============================] - 23s 19ms/step - loss: 0.0564 - accuracy: 0.9366 - val_loss: 0.0637 - val_accuracy: 0.9229\n",
      "Epoch 17/100\n",
      "1165/1165 [==============================] - 23s 20ms/step - loss: 0.0536 - accuracy: 0.9387 - val_loss: 0.0623 - val_accuracy: 0.9240\n",
      "Epoch 18/100\n",
      "1165/1165 [==============================] - 23s 19ms/step - loss: 0.0506 - accuracy: 0.9426 - val_loss: 0.0584 - val_accuracy: 0.9306\n",
      "Epoch 19/100\n",
      "1165/1165 [==============================] - 23s 19ms/step - loss: 0.0476 - accuracy: 0.9473 - val_loss: 0.0559 - val_accuracy: 0.9344\n",
      "Epoch 20/100\n",
      "1165/1165 [==============================] - 23s 19ms/step - loss: 0.0449 - accuracy: 0.9500 - val_loss: 0.0554 - val_accuracy: 0.9366\n",
      "Epoch 21/100\n",
      "1165/1165 [==============================] - 22s 19ms/step - loss: 0.0419 - accuracy: 0.9537 - val_loss: 0.0520 - val_accuracy: 0.9421\n",
      "Epoch 22/100\n",
      "1165/1165 [==============================] - 23s 20ms/step - loss: 0.0397 - accuracy: 0.9563 - val_loss: 0.0498 - val_accuracy: 0.9412\n",
      "Epoch 23/100\n",
      "1165/1165 [==============================] - 23s 20ms/step - loss: 0.0378 - accuracy: 0.9596 - val_loss: 0.0471 - val_accuracy: 0.9457\n",
      "Epoch 24/100\n",
      "1165/1165 [==============================] - 23s 19ms/step - loss: 0.0357 - accuracy: 0.9614 - val_loss: 0.0464 - val_accuracy: 0.9466\n",
      "Epoch 25/100\n",
      "1165/1165 [==============================] - 23s 19ms/step - loss: 0.0339 - accuracy: 0.9639 - val_loss: 0.0438 - val_accuracy: 0.9503\n",
      "Epoch 26/100\n",
      "1165/1165 [==============================] - 23s 20ms/step - loss: 0.0320 - accuracy: 0.9659 - val_loss: 0.0427 - val_accuracy: 0.9518\n",
      "Epoch 27/100\n",
      "1165/1165 [==============================] - 23s 19ms/step - loss: 0.0306 - accuracy: 0.9677 - val_loss: 0.0417 - val_accuracy: 0.9515\n",
      "Epoch 28/100\n",
      "1165/1165 [==============================] - 23s 20ms/step - loss: 0.0291 - accuracy: 0.9698 - val_loss: 0.0406 - val_accuracy: 0.9524\n",
      "Epoch 29/100\n",
      "1165/1165 [==============================] - 23s 19ms/step - loss: 0.0279 - accuracy: 0.9709 - val_loss: 0.0395 - val_accuracy: 0.9544\n",
      "Epoch 30/100\n",
      "1165/1165 [==============================] - 23s 20ms/step - loss: 0.0268 - accuracy: 0.9716 - val_loss: 0.0392 - val_accuracy: 0.9543\n",
      "Epoch 31/100\n",
      "1165/1165 [==============================] - 23s 20ms/step - loss: 0.0258 - accuracy: 0.9729 - val_loss: 0.0398 - val_accuracy: 0.9543\n",
      "Epoch 32/100\n",
      "1165/1165 [==============================] - 23s 20ms/step - loss: 0.0250 - accuracy: 0.9738 - val_loss: 0.0384 - val_accuracy: 0.9548\n",
      "Epoch 33/100\n",
      "1165/1165 [==============================] - 23s 19ms/step - loss: 0.0240 - accuracy: 0.9750 - val_loss: 0.0370 - val_accuracy: 0.9568\n",
      "Epoch 34/100\n",
      "1165/1165 [==============================] - 23s 19ms/step - loss: 0.0231 - accuracy: 0.9761 - val_loss: 0.0362 - val_accuracy: 0.9581\n",
      "Epoch 35/100\n",
      "1165/1165 [==============================] - 23s 20ms/step - loss: 0.0220 - accuracy: 0.9766 - val_loss: 0.0356 - val_accuracy: 0.9567\n",
      "Epoch 36/100\n",
      "1165/1165 [==============================] - 23s 20ms/step - loss: 0.0212 - accuracy: 0.9783 - val_loss: 0.0366 - val_accuracy: 0.9567\n",
      "Epoch 37/100\n",
      "1165/1165 [==============================] - 23s 20ms/step - loss: 0.0199 - accuracy: 0.9795 - val_loss: 0.0341 - val_accuracy: 0.9620\n",
      "Epoch 38/100\n",
      "1165/1165 [==============================] - 23s 19ms/step - loss: 0.0192 - accuracy: 0.9814 - val_loss: 0.0332 - val_accuracy: 0.9627\n",
      "Epoch 39/100\n",
      "1165/1165 [==============================] - 23s 19ms/step - loss: 0.0182 - accuracy: 0.9825 - val_loss: 0.0333 - val_accuracy: 0.9620\n",
      "Epoch 40/100\n",
      "1165/1165 [==============================] - 23s 20ms/step - loss: 0.0174 - accuracy: 0.9835 - val_loss: 0.0332 - val_accuracy: 0.9616\n",
      "Epoch 41/100\n",
      "1165/1165 [==============================] - 23s 19ms/step - loss: 0.0167 - accuracy: 0.9841 - val_loss: 0.0325 - val_accuracy: 0.9632\n",
      "Epoch 42/100\n",
      "1165/1165 [==============================] - 23s 19ms/step - loss: 0.0161 - accuracy: 0.9850 - val_loss: 0.0306 - val_accuracy: 0.9647\n",
      "Epoch 43/100\n",
      "1165/1165 [==============================] - 22s 19ms/step - loss: 0.0154 - accuracy: 0.9854 - val_loss: 0.0308 - val_accuracy: 0.9648\n",
      "Epoch 44/100\n",
      "1165/1165 [==============================] - 23s 20ms/step - loss: 0.0150 - accuracy: 0.9865 - val_loss: 0.0303 - val_accuracy: 0.9658\n",
      "Epoch 45/100\n",
      "1165/1165 [==============================] - 23s 19ms/step - loss: 0.0145 - accuracy: 0.9866 - val_loss: 0.0309 - val_accuracy: 0.9636\n",
      "Epoch 46/100\n",
      "1165/1165 [==============================] - 23s 20ms/step - loss: 0.0140 - accuracy: 0.9870 - val_loss: 0.0298 - val_accuracy: 0.9643\n",
      "Epoch 47/100\n",
      "1165/1165 [==============================] - 23s 20ms/step - loss: 0.0138 - accuracy: 0.9872 - val_loss: 0.0295 - val_accuracy: 0.9654\n",
      "Epoch 48/100\n",
      "1165/1165 [==============================] - 23s 19ms/step - loss: 0.0134 - accuracy: 0.9878 - val_loss: 0.0296 - val_accuracy: 0.9666\n",
      "Epoch 49/100\n",
      "1165/1165 [==============================] - 23s 20ms/step - loss: 0.0128 - accuracy: 0.9881 - val_loss: 0.0306 - val_accuracy: 0.9658\n",
      "Epoch 50/100\n",
      "1165/1165 [==============================] - 23s 19ms/step - loss: 0.0130 - accuracy: 0.9879 - val_loss: 0.0294 - val_accuracy: 0.9669\n",
      "Epoch 51/100\n",
      "1165/1165 [==============================] - 23s 20ms/step - loss: 0.0121 - accuracy: 0.9888 - val_loss: 0.0285 - val_accuracy: 0.9678\n",
      "Epoch 52/100\n",
      "1165/1165 [==============================] - 23s 20ms/step - loss: 0.0118 - accuracy: 0.9891 - val_loss: 0.0286 - val_accuracy: 0.9656\n",
      "Epoch 53/100\n",
      "1165/1165 [==============================] - 23s 20ms/step - loss: 0.0115 - accuracy: 0.9892 - val_loss: 0.0287 - val_accuracy: 0.9664\n",
      "Epoch 54/100\n",
      "1165/1165 [==============================] - 23s 20ms/step - loss: 0.0112 - accuracy: 0.9896 - val_loss: 0.0286 - val_accuracy: 0.9660\n",
      "Epoch 55/100\n",
      "1165/1165 [==============================] - 23s 20ms/step - loss: 0.0111 - accuracy: 0.9893 - val_loss: 0.0275 - val_accuracy: 0.9683\n",
      "Epoch 56/100\n",
      "1165/1165 [==============================] - 23s 20ms/step - loss: 0.0110 - accuracy: 0.9896 - val_loss: 0.0278 - val_accuracy: 0.9677\n",
      "Epoch 57/100\n",
      "1165/1165 [==============================] - 23s 20ms/step - loss: 0.0107 - accuracy: 0.9898 - val_loss: 0.0283 - val_accuracy: 0.9674\n",
      "Epoch 58/100\n",
      "1165/1165 [==============================] - 23s 20ms/step - loss: 0.0103 - accuracy: 0.9903 - val_loss: 0.0276 - val_accuracy: 0.9683\n",
      "Epoch 59/100\n",
      "1165/1165 [==============================] - 23s 20ms/step - loss: 0.0102 - accuracy: 0.9902 - val_loss: 0.0270 - val_accuracy: 0.9682\n",
      "Epoch 60/100\n",
      "1165/1165 [==============================] - 23s 20ms/step - loss: 0.0101 - accuracy: 0.9904 - val_loss: 0.0276 - val_accuracy: 0.9678\n",
      "Epoch 61/100\n",
      "1165/1165 [==============================] - 23s 20ms/step - loss: 0.0096 - accuracy: 0.9906 - val_loss: 0.0266 - val_accuracy: 0.9680\n",
      "Epoch 62/100\n",
      "1165/1165 [==============================] - 23s 20ms/step - loss: 0.0096 - accuracy: 0.9906 - val_loss: 0.0262 - val_accuracy: 0.9691\n",
      "Epoch 63/100\n",
      "1165/1165 [==============================] - 24s 20ms/step - loss: 0.0095 - accuracy: 0.9907 - val_loss: 0.0263 - val_accuracy: 0.9698\n",
      "Epoch 64/100\n",
      "1165/1165 [==============================] - 23s 20ms/step - loss: 0.0094 - accuracy: 0.9910 - val_loss: 0.0266 - val_accuracy: 0.9685\n",
      "Epoch 65/100\n",
      "1165/1165 [==============================] - 23s 20ms/step - loss: 0.0093 - accuracy: 0.9909 - val_loss: 0.0267 - val_accuracy: 0.9695\n",
      "Epoch 66/100\n",
      "1165/1165 [==============================] - 24s 20ms/step - loss: 0.0092 - accuracy: 0.9911 - val_loss: 0.0274 - val_accuracy: 0.9676\n",
      "Epoch 67/100\n",
      "1165/1165 [==============================] - 22s 19ms/step - loss: 0.0090 - accuracy: 0.9913 - val_loss: 0.0269 - val_accuracy: 0.9698\n",
      "Epoch 68/100\n",
      "1165/1165 [==============================] - 22s 19ms/step - loss: 0.0090 - accuracy: 0.9911 - val_loss: 0.0270 - val_accuracy: 0.9674\n",
      "Epoch 69/100\n",
      "1165/1165 [==============================] - 22s 19ms/step - loss: 0.0099 - accuracy: 0.9901 - val_loss: 0.0278 - val_accuracy: 0.9674\n",
      "Epoch 70/100\n",
      "1165/1165 [==============================] - 23s 19ms/step - loss: 0.0097 - accuracy: 0.9901 - val_loss: 0.0279 - val_accuracy: 0.9680\n",
      "Epoch 71/100\n",
      "1165/1165 [==============================] - 22s 19ms/step - loss: 0.0098 - accuracy: 0.9900 - val_loss: 0.0263 - val_accuracy: 0.9691\n",
      "Epoch 72/100\n",
      "1165/1165 [==============================] - 22s 19ms/step - loss: 0.0095 - accuracy: 0.9906 - val_loss: 0.0272 - val_accuracy: 0.9688\n",
      "Epoch 73/100\n",
      "1165/1165 [==============================] - 23s 20ms/step - loss: 0.0093 - accuracy: 0.9907 - val_loss: 0.0260 - val_accuracy: 0.9692\n",
      "Epoch 74/100\n",
      "1165/1165 [==============================] - 23s 20ms/step - loss: 0.0092 - accuracy: 0.9908 - val_loss: 0.0265 - val_accuracy: 0.9690\n",
      "Epoch 75/100\n",
      "1165/1165 [==============================] - 22s 19ms/step - loss: 0.0092 - accuracy: 0.9908 - val_loss: 0.0255 - val_accuracy: 0.9707\n",
      "Epoch 76/100\n",
      "1165/1165 [==============================] - 23s 19ms/step - loss: 0.0091 - accuracy: 0.9908 - val_loss: 0.0259 - val_accuracy: 0.9708\n",
      "Epoch 77/100\n",
      "1165/1165 [==============================] - 24s 20ms/step - loss: 0.0090 - accuracy: 0.9909 - val_loss: 0.0268 - val_accuracy: 0.9677\n",
      "Epoch 78/100\n",
      "1165/1165 [==============================] - 24s 20ms/step - loss: 0.0089 - accuracy: 0.9907 - val_loss: 0.0263 - val_accuracy: 0.9703\n",
      "Epoch 79/100\n",
      "1165/1165 [==============================] - 24s 20ms/step - loss: 0.0088 - accuracy: 0.9911 - val_loss: 0.0250 - val_accuracy: 0.9712\n",
      "Epoch 80/100\n",
      "1165/1165 [==============================] - 24s 21ms/step - loss: 0.0086 - accuracy: 0.9912 - val_loss: 0.0253 - val_accuracy: 0.9702\n",
      "Epoch 81/100\n",
      "1165/1165 [==============================] - 24s 20ms/step - loss: 0.0114 - accuracy: 0.9884 - val_loss: 0.0263 - val_accuracy: 0.9697\n",
      "Epoch 82/100\n",
      "1165/1165 [==============================] - 23s 20ms/step - loss: 0.0086 - accuracy: 0.9916 - val_loss: 0.0261 - val_accuracy: 0.9707\n",
      "Epoch 83/100\n",
      "1165/1165 [==============================] - 23s 20ms/step - loss: 0.0085 - accuracy: 0.9914 - val_loss: 0.0255 - val_accuracy: 0.9706\n",
      "Epoch 84/100\n",
      "1165/1165 [==============================] - 23s 20ms/step - loss: 0.0088 - accuracy: 0.9910 - val_loss: 0.0254 - val_accuracy: 0.9711\n",
      "Epoch 85/100\n",
      "1165/1165 [==============================] - 24s 20ms/step - loss: 0.0087 - accuracy: 0.9910 - val_loss: 0.0257 - val_accuracy: 0.9702\n",
      "Epoch 86/100\n",
      "1165/1165 [==============================] - 23s 20ms/step - loss: 0.0075 - accuracy: 0.9923 - val_loss: 0.0245 - val_accuracy: 0.9728\n",
      "Epoch 87/100\n",
      "1165/1165 [==============================] - 23s 20ms/step - loss: 0.0075 - accuracy: 0.9923 - val_loss: 0.0244 - val_accuracy: 0.9719\n",
      "Epoch 88/100\n",
      "1165/1165 [==============================] - 23s 20ms/step - loss: 0.0072 - accuracy: 0.9926 - val_loss: 0.0248 - val_accuracy: 0.9716\n",
      "Epoch 89/100\n",
      "1165/1165 [==============================] - 23s 20ms/step - loss: 0.0071 - accuracy: 0.9926 - val_loss: 0.0237 - val_accuracy: 0.9729\n",
      "Epoch 90/100\n",
      "1165/1165 [==============================] - 23s 20ms/step - loss: 0.0079 - accuracy: 0.9919 - val_loss: 0.0246 - val_accuracy: 0.9709\n",
      "Epoch 91/100\n",
      "1165/1165 [==============================] - 23s 20ms/step - loss: 0.0074 - accuracy: 0.9921 - val_loss: 0.0246 - val_accuracy: 0.9723\n",
      "Epoch 92/100\n",
      "1165/1165 [==============================] - 23s 20ms/step - loss: 0.0073 - accuracy: 0.9924 - val_loss: 0.0237 - val_accuracy: 0.9733\n",
      "Epoch 93/100\n",
      "1165/1165 [==============================] - 23s 20ms/step - loss: 0.0070 - accuracy: 0.9926 - val_loss: 0.0246 - val_accuracy: 0.9709\n",
      "Epoch 94/100\n",
      "1165/1165 [==============================] - 23s 20ms/step - loss: 0.0071 - accuracy: 0.9926 - val_loss: 0.0248 - val_accuracy: 0.9706\n",
      "Epoch 95/100\n",
      "1165/1165 [==============================] - 23s 20ms/step - loss: 0.0070 - accuracy: 0.9927 - val_loss: 0.0250 - val_accuracy: 0.9710\n",
      "Epoch 96/100\n",
      "1165/1165 [==============================] - 22s 19ms/step - loss: 0.0069 - accuracy: 0.9925 - val_loss: 0.0245 - val_accuracy: 0.9716\n",
      "Epoch 97/100\n",
      "1165/1165 [==============================] - 22s 19ms/step - loss: 0.0069 - accuracy: 0.9926 - val_loss: 0.0249 - val_accuracy: 0.9703\n",
      "Epoch 98/100\n",
      "1165/1165 [==============================] - 22s 19ms/step - loss: 0.0069 - accuracy: 0.9925 - val_loss: 0.0236 - val_accuracy: 0.9733\n",
      "Epoch 99/100\n",
      "1165/1165 [==============================] - 22s 19ms/step - loss: 0.0071 - accuracy: 0.9925 - val_loss: 0.0244 - val_accuracy: 0.9714\n",
      "Epoch 100/100\n",
      "1165/1165 [==============================] - 22s 19ms/step - loss: 0.0069 - accuracy: 0.9928 - val_loss: 0.0242 - val_accuracy: 0.9717\n"
     ]
    }
   ],
   "source": [
    "history_rnn = siamese.fit([np.array(x1TrainRnnS), np.array(x2TrainRnnS)],np.array(yTrainRnnS, dtype=np.float32), epochs=100, batch_size=32, validation_split=0.2)"
   ]
  },
  {
   "cell_type": "code",
   "execution_count": 60,
   "metadata": {
    "id": "uHSTAS1dKHee"
   },
   "outputs": [
    {
     "name": "stderr",
     "output_type": "stream",
     "text": [
      "2022-02-23 13:52:33.058620: W tensorflow/python/util/util.cc:368] Sets are not currently considered sequences, but this may change in the future, so consider avoiding using them.\n",
      "WARNING:absl:Found untraced functions such as gru_cell_layer_call_fn, gru_cell_layer_call_and_return_conditional_losses while saving (showing 2 of 2). These functions will not be directly callable after loading.\n"
     ]
    },
    {
     "name": "stdout",
     "output_type": "stream",
     "text": [
      "INFO:tensorflow:Assets written to: models/NP_siamese_exp2_20220223/assets\n"
     ]
    },
    {
     "name": "stderr",
     "output_type": "stream",
     "text": [
      "INFO:tensorflow:Assets written to: models/NP_siamese_exp2_20220223/assets\n",
      "WARNING:absl:<keras.layers.recurrent.GRUCell object at 0x7efec1dd8340> has the same name 'GRUCell' as a built-in Keras object. Consider renaming <class 'keras.layers.recurrent.GRUCell'> to avoid naming conflicts when loading with `tf.keras.models.load_model`. If renaming is not possible, pass the object in the `custom_objects` parameter of the load function.\n"
     ]
    }
   ],
   "source": [
    "siamese.save('models/NP_siamese_exp3_20220223.h5')\n",
    "siamese.save('models/NP_siamese_exp3_20220223')"
   ]
  },
  {
   "cell_type": "code",
   "execution_count": 61,
   "metadata": {
    "colab": {
     "base_uri": "https://localhost:8080/",
     "height": 573
    },
    "id": "ME7iBjYFBrJO",
    "outputId": "a3672c1f-0090-4816-c35c-433f1256409c"
   },
   "outputs": [
    {
     "data": {
      "image/png": "[encoded data removed]",
      "text/plain": [
       "<Figure size 432x288 with 1 Axes>"
      ]
     },
     "metadata": {
      "needs_background": "light"
     },
     "output_type": "display_data"
    },
    {
     "data": {
      "image/png": "[encoded data removed]",
      "text/plain": [
       "<Figure size 432x288 with 1 Axes>"
      ]
     },
     "metadata": {
      "needs_background": "light"
     },
     "output_type": "display_data"
    }
   ],
   "source": [
    "# Plot the accuracy\n",
    "plt_metric(history=history_rnn.history, metric=\"accuracy\", title=\"Model accuracy\")\n",
    "\n",
    "# Plot the constrastive loss\n",
    "plt_metric(history=history_rnn.history, metric=\"loss\", title=\"Constrastive Loss\")"
   ]
  },
  {
   "cell_type": "markdown",
   "metadata": {
    "id": "r9GovYaJzQFv"
   },
   "source": [
    "### Load model, get predictions and evaluate siamese network"
   ]
  },
  {
   "cell_type": "code",
   "execution_count": 62,
   "metadata": {},
   "outputs": [],
   "source": [
    "def contrastive_loss(y_true, y_pred):\n",
    "    square_pred = tf.math.square(y_pred)\n",
    "    margin_square = tf.math.square(tf.math.maximum(margin - (y_pred), 0))\n",
    "    return tf.math.reduce_mean(\n",
    "        (1 - y_true) * square_pred + (y_true) * margin_square\n",
    "    )"
   ]
  },
  {
   "cell_type": "code",
   "execution_count": 63,
   "metadata": {},
   "outputs": [
    {
     "name": "stderr",
     "output_type": "stream",
     "text": [
      "2022-02-23 13:53:52.745419: W tensorflow/core/common_runtime/graph_constructor.cc:803] Node 'cond/while' has 13 outputs but the _output_shapes attribute specifies shapes for 46 outputs. Output shapes may be inaccurate.\n",
      "2022-02-23 13:53:52.950491: W tensorflow/core/common_runtime/graph_constructor.cc:803] Node 'cond' has 4 outputs but the _output_shapes attribute specifies shapes for 46 outputs. Output shapes may be inaccurate.\n",
      "2022-02-23 13:53:53.846783: W tensorflow/core/common_runtime/graph_constructor.cc:803] Node 'cond/while' has 13 outputs but the _output_shapes attribute specifies shapes for 46 outputs. Output shapes may be inaccurate.\n",
      "2022-02-23 13:53:54.184625: W tensorflow/core/common_runtime/graph_constructor.cc:803] Node 'cond/while' has 13 outputs but the _output_shapes attribute specifies shapes for 46 outputs. Output shapes may be inaccurate.\n",
      "2022-02-23 13:53:54.230245: W tensorflow/core/common_runtime/graph_constructor.cc:803] Node 'cond/while' has 13 outputs but the _output_shapes attribute specifies shapes for 46 outputs. Output shapes may be inaccurate.\n",
      "2022-02-23 13:53:54.253748: W tensorflow/core/common_runtime/graph_constructor.cc:803] Node 'cond' has 4 outputs but the _output_shapes attribute specifies shapes for 46 outputs. Output shapes may be inaccurate.\n",
      "2022-02-23 13:53:54.312471: W tensorflow/core/common_runtime/graph_constructor.cc:803] Node 'cond' has 4 outputs but the _output_shapes attribute specifies shapes for 46 outputs. Output shapes may be inaccurate.\n",
      "2022-02-23 13:53:54.647964: W tensorflow/core/common_runtime/graph_constructor.cc:803] Node 'cond/while' has 13 outputs but the _output_shapes attribute specifies shapes for 46 outputs. Output shapes may be inaccurate.\n",
      "2022-02-23 13:53:55.340955: W tensorflow/core/common_runtime/graph_constructor.cc:803] Node 'cond/while' has 13 outputs but the _output_shapes attribute specifies shapes for 46 outputs. Output shapes may be inaccurate.\n",
      "2022-02-23 13:53:55.369096: W tensorflow/core/common_runtime/graph_constructor.cc:803] Node 'cond' has 4 outputs but the _output_shapes attribute specifies shapes for 46 outputs. Output shapes may be inaccurate.\n",
      "2022-02-23 13:53:55.989333: W tensorflow/core/common_runtime/graph_constructor.cc:803] Node 'cond/while' has 13 outputs but the _output_shapes attribute specifies shapes for 46 outputs. Output shapes may be inaccurate.\n",
      "2022-02-23 13:53:56.151069: W tensorflow/core/common_runtime/graph_constructor.cc:803] Node 'cond' has 4 outputs but the _output_shapes attribute specifies shapes for 46 outputs. Output shapes may be inaccurate.\n",
      "2022-02-23 13:53:56.917117: W tensorflow/core/common_runtime/graph_constructor.cc:803] Node 'cond' has 4 outputs but the _output_shapes attribute specifies shapes for 46 outputs. Output shapes may be inaccurate.\n",
      "2022-02-23 13:53:57.352721: W tensorflow/core/common_runtime/graph_constructor.cc:803] Node 'cond/while' has 13 outputs but the _output_shapes attribute specifies shapes for 46 outputs. Output shapes may be inaccurate.\n",
      "2022-02-23 13:53:57.381810: W tensorflow/core/common_runtime/graph_constructor.cc:803] Node 'cond' has 4 outputs but the _output_shapes attribute specifies shapes for 46 outputs. Output shapes may be inaccurate.\n",
      "2022-02-23 13:53:57.926911: W tensorflow/core/common_runtime/graph_constructor.cc:803] Node 'cond/while' has 13 outputs but the _output_shapes attribute specifies shapes for 46 outputs. Output shapes may be inaccurate.\n",
      "2022-02-23 13:53:57.954616: W tensorflow/core/common_runtime/graph_constructor.cc:803] Node 'cond' has 4 outputs but the _output_shapes attribute specifies shapes for 46 outputs. Output shapes may be inaccurate.\n",
      "2022-02-23 13:53:58.327980: W tensorflow/core/common_runtime/graph_constructor.cc:803] Node 'cond/while' has 13 outputs but the _output_shapes attribute specifies shapes for 46 outputs. Output shapes may be inaccurate.\n",
      "2022-02-23 13:53:58.356296: W tensorflow/core/common_runtime/graph_constructor.cc:803] Node 'cond' has 4 outputs but the _output_shapes attribute specifies shapes for 46 outputs. Output shapes may be inaccurate.\n",
      "2022-02-23 13:53:58.956216: W tensorflow/core/common_runtime/graph_constructor.cc:803] Node 'cond/while' has 13 outputs but the _output_shapes attribute specifies shapes for 46 outputs. Output shapes may be inaccurate.\n",
      "2022-02-23 13:53:58.985866: W tensorflow/core/common_runtime/graph_constructor.cc:803] Node 'cond' has 4 outputs but the _output_shapes attribute specifies shapes for 46 outputs. Output shapes may be inaccurate.\n",
      "2022-02-23 13:53:59.032363: W tensorflow/core/common_runtime/graph_constructor.cc:803] Node 'cond' has 4 outputs but the _output_shapes attribute specifies shapes for 46 outputs. Output shapes may be inaccurate.\n",
      "2022-02-23 13:53:59.234887: W tensorflow/core/common_runtime/graph_constructor.cc:803] Node 'cond/while' has 13 outputs but the _output_shapes attribute specifies shapes for 46 outputs. Output shapes may be inaccurate.\n",
      "2022-02-23 13:53:59.262150: W tensorflow/core/common_runtime/graph_constructor.cc:803] Node 'cond' has 4 outputs but the _output_shapes attribute specifies shapes for 46 outputs. Output shapes may be inaccurate.\n"
     ]
    }
   ],
   "source": [
    "#siamese_loaded = tf.keras.models.load_model('models/drug_siamese_exp1_20220201.h5')\n",
    "siamese_model = tf.keras.models.load_model('models/NP_siamese_exp3_20220223', custom_objects={'contrastive_loss': contrastive_loss})"
   ]
  },
  {
   "cell_type": "code",
   "execution_count": 64,
   "metadata": {},
   "outputs": [
    {
     "name": "stdout",
     "output_type": "stream",
     "text": [
      "Model: \"model_1\"\n",
      "__________________________________________________________________________________________________\n",
      " Layer (type)                   Output Shape         Param #     Connected to                     \n",
      "==================================================================================================\n",
      " input_2 (InputLayer)           [(None, 150)]        0           []                               \n",
      "                                                                                                  \n",
      " input_3 (InputLayer)           [(None, 150)]        0           []                               \n",
      "                                                                                                  \n",
      " model (Functional)             (None, 32)           86624       ['input_2[0][0]',                \n",
      "                                                                  'input_3[0][0]']                \n",
      "                                                                                                  \n",
      " lambda (Lambda)                (None, 1)            0           ['model[0][0]',                  \n",
      "                                                                  'model[1][0]']                  \n",
      "                                                                                                  \n",
      " dense_2 (Dense)                (None, 1)            2           ['lambda[0][0]']                 \n",
      "                                                                                                  \n",
      "==================================================================================================\n",
      "Total params: 86,626\n",
      "Trainable params: 86,626\n",
      "Non-trainable params: 0\n",
      "__________________________________________________________________________________________________\n"
     ]
    }
   ],
   "source": [
    "siamese_model.summary()"
   ]
  },
  {
   "cell_type": "code",
   "execution_count": 65,
   "metadata": {},
   "outputs": [
    {
     "name": "stdout",
     "output_type": "stream",
     "text": [
      "<class 'pandas.core.frame.DataFrame'>\n",
      "Int64Index: 1655 entries, 586 to 2884\n",
      "Data columns (total 4 columns):\n",
      " #   Column                 Non-Null Count  Dtype \n",
      "---  ------                 --------------  ----- \n",
      " 0   FAERS_drug_match       1655 non-null   object\n",
      " 1   lookup_value           1655 non-null   object\n",
      " 2   indi_pt                1655 non-null   object\n",
      " 3   FAERS_drug_match_indi  1655 non-null   object\n",
      "dtypes: object(4)\n",
      "memory usage: 64.6+ KB\n"
     ]
    }
   ],
   "source": [
    "test.info()"
   ]
  },
  {
   "cell_type": "code",
   "execution_count": 66,
   "metadata": {},
   "outputs": [],
   "source": [
    "test_eval = pd.DataFrame(columns = ['FAERS_drug_match_indi', 'lookup_value', 'rank1_drug', 'rank2_drug', 'rank3_drug', 'rank4_drug', 'rank5_drug', 'lookup_rank'])"
   ]
  },
  {
   "cell_type": "code",
   "execution_count": 67,
   "metadata": {},
   "outputs": [
    {
     "data": {
      "text/html": [
       "<div>\n",
       "<style scoped>\n",
       "    .dataframe tbody tr th:only-of-type {\n",
       "        vertical-align: middle;\n",
       "    }\n",
       "\n",
       "    .dataframe tbody tr th {\n",
       "        vertical-align: top;\n",
       "    }\n",
       "\n",
       "    .dataframe thead th {\n",
       "        text-align: right;\n",
       "    }\n",
       "</style>\n",
       "<table border=\"1\" class=\"dataframe\">\n",
       "  <thead>\n",
       "    <tr style=\"text-align: right;\">\n",
       "      <th></th>\n",
       "      <th>index</th>\n",
       "      <th>FAERS_drug_match</th>\n",
       "      <th>lookup_value</th>\n",
       "      <th>indi_pt</th>\n",
       "      <th>FAERS_drug_match_indi</th>\n",
       "    </tr>\n",
       "  </thead>\n",
       "  <tbody>\n",
       "    <tr>\n",
       "      <th>0</th>\n",
       "      <td>586</td>\n",
       "      <td>FLAXSEED OIL [LINUM USITATISSIMUM OIL]</td>\n",
       "      <td>FLAX SEED</td>\n",
       "      <td>PROPHYLAXIS</td>\n",
       "      <td>FLAXSEED OIL [LINUM USITATISSIMUM OIL] PROPHYL...</td>\n",
       "    </tr>\n",
       "    <tr>\n",
       "      <th>1</th>\n",
       "      <td>7013</td>\n",
       "      <td>CHORDYCEPS</td>\n",
       "      <td>OPHIOCORDYCEPS SINENSIS</td>\n",
       "      <td></td>\n",
       "      <td>CHORDYCEPS</td>\n",
       "    </tr>\n",
       "    <tr>\n",
       "      <th>2</th>\n",
       "      <td>7716</td>\n",
       "      <td>CRANBERRY PLUS [JUNIPERUS COMMUNIS;VACCINIUM M...</td>\n",
       "      <td>VACCINIUM MACROCARPON</td>\n",
       "      <td>PRODUCT USED FOR UNKNOWN INDICATION</td>\n",
       "      <td>CRANBERRY PLUS [JUNIPERUS COMMUNIS;VACCINIUM M...</td>\n",
       "    </tr>\n",
       "    <tr>\n",
       "      <th>3</th>\n",
       "      <td>970</td>\n",
       "      <td>GREEN TEA 150MG</td>\n",
       "      <td>GREEN TEA</td>\n",
       "      <td></td>\n",
       "      <td>GREEN TEA 150MG</td>\n",
       "    </tr>\n",
       "    <tr>\n",
       "      <th>4</th>\n",
       "      <td>8173</td>\n",
       "      <td>ODOR FREE GARLIC?X</td>\n",
       "      <td>ALLIUM SATIVUM</td>\n",
       "      <td></td>\n",
       "      <td>ODOR FREE GARLIC?X</td>\n",
       "    </tr>\n",
       "  </tbody>\n",
       "</table>\n",
       "</div>"
      ],
      "text/plain": [
       "   index                                   FAERS_drug_match  \\\n",
       "0    586             FLAXSEED OIL [LINUM USITATISSIMUM OIL]   \n",
       "1   7013                                         CHORDYCEPS   \n",
       "2   7716  CRANBERRY PLUS [JUNIPERUS COMMUNIS;VACCINIUM M...   \n",
       "3    970                                    GREEN TEA 150MG   \n",
       "4   8173                                 ODOR FREE GARLIC?X   \n",
       "\n",
       "              lookup_value                              indi_pt  \\\n",
       "0                FLAX SEED                          PROPHYLAXIS   \n",
       "1  OPHIOCORDYCEPS SINENSIS                                        \n",
       "2    VACCINIUM MACROCARPON  PRODUCT USED FOR UNKNOWN INDICATION   \n",
       "3                GREEN TEA                                        \n",
       "4           ALLIUM SATIVUM                                        \n",
       "\n",
       "                               FAERS_drug_match_indi  \n",
       "0  FLAXSEED OIL [LINUM USITATISSIMUM OIL] PROPHYL...  \n",
       "1                                        CHORDYCEPS   \n",
       "2  CRANBERRY PLUS [JUNIPERUS COMMUNIS;VACCINIUM M...  \n",
       "3                                   GREEN TEA 150MG   \n",
       "4                                ODOR FREE GARLIC?X   "
      ]
     },
     "execution_count": 67,
     "metadata": {},
     "output_type": "execute_result"
    }
   ],
   "source": [
    "test_res = test.reset_index()\n",
    "test_res.head()"
   ]
  },
  {
   "cell_type": "code",
   "execution_count": 68,
   "metadata": {},
   "outputs": [
    {
     "data": {
      "text/html": [
       "<div>\n",
       "<style scoped>\n",
       "    .dataframe tbody tr th:only-of-type {\n",
       "        vertical-align: middle;\n",
       "    }\n",
       "\n",
       "    .dataframe tbody tr th {\n",
       "        vertical-align: top;\n",
       "    }\n",
       "\n",
       "    .dataframe thead th {\n",
       "        text-align: right;\n",
       "    }\n",
       "</style>\n",
       "<table border=\"1\" class=\"dataframe\">\n",
       "  <thead>\n",
       "    <tr style=\"text-align: right;\">\n",
       "      <th></th>\n",
       "      <th>FAERS_drug_match_indi</th>\n",
       "      <th>lookup_value</th>\n",
       "      <th>rank1_drug</th>\n",
       "      <th>rank2_drug</th>\n",
       "      <th>rank3_drug</th>\n",
       "      <th>rank4_drug</th>\n",
       "      <th>rank5_drug</th>\n",
       "      <th>lookup_rank</th>\n",
       "    </tr>\n",
       "  </thead>\n",
       "  <tbody>\n",
       "    <tr>\n",
       "      <th>0</th>\n",
       "      <td>FLAXSEED OIL [LINUM USITATISSIMUM OIL] PROPHYL...</td>\n",
       "      <td>FLAX SEED</td>\n",
       "      <td>LINUM USITATISSIMUM</td>\n",
       "      <td>FLAX SEED</td>\n",
       "      <td>CANNABIS SATIVA</td>\n",
       "      <td>HEMP EXTRACT</td>\n",
       "      <td>CINNAMON</td>\n",
       "      <td>NaN</td>\n",
       "    </tr>\n",
       "    <tr>\n",
       "      <th>1</th>\n",
       "      <td>CHORDYCEPS</td>\n",
       "      <td>OPHIOCORDYCEPS SINENSIS</td>\n",
       "      <td>FENUGREEK</td>\n",
       "      <td>TRIGONELFA FOENUM</td>\n",
       "      <td>WITHANIA SOMNIFERA</td>\n",
       "      <td>ASHWAGANDA</td>\n",
       "      <td>SERENOA REPENS</td>\n",
       "      <td>NaN</td>\n",
       "    </tr>\n",
       "    <tr>\n",
       "      <th>2</th>\n",
       "      <td>CRANBERRY PLUS [JUNIPERUS COMMUNIS;VACCINIUM M...</td>\n",
       "      <td>VACCINIUM MACROCARPON</td>\n",
       "      <td>VACCINIUM MACROCARPON</td>\n",
       "      <td>CRANBERRY</td>\n",
       "      <td>WOOD SPIDER</td>\n",
       "      <td>RHODIOLA</td>\n",
       "      <td>RHODIOLA ROSEA</td>\n",
       "      <td>NaN</td>\n",
       "    </tr>\n",
       "    <tr>\n",
       "      <th>3</th>\n",
       "      <td>GREEN TEA 150MG</td>\n",
       "      <td>GREEN TEA</td>\n",
       "      <td>CAMELLIA SINENSIS</td>\n",
       "      <td>GREEN TEA</td>\n",
       "      <td>RED YEAST RICE</td>\n",
       "      <td>CINNAMOMUM VERUM</td>\n",
       "      <td>ORYZA SATIVA</td>\n",
       "      <td>NaN</td>\n",
       "    </tr>\n",
       "    <tr>\n",
       "      <th>4</th>\n",
       "      <td>ODOR FREE GARLIC?X</td>\n",
       "      <td>ALLIUM SATIVUM</td>\n",
       "      <td>GARLIC</td>\n",
       "      <td>ALLIUM SATIVUM</td>\n",
       "      <td>MITRAGYNA SPECIOSA</td>\n",
       "      <td>PAULLINIA CUPANA</td>\n",
       "      <td>CANNABIS SATIVA</td>\n",
       "      <td>NaN</td>\n",
       "    </tr>\n",
       "  </tbody>\n",
       "</table>\n",
       "</div>"
      ],
      "text/plain": [
       "                               FAERS_drug_match_indi             lookup_value  \\\n",
       "0  FLAXSEED OIL [LINUM USITATISSIMUM OIL] PROPHYL...                FLAX SEED   \n",
       "1                                        CHORDYCEPS   OPHIOCORDYCEPS SINENSIS   \n",
       "2  CRANBERRY PLUS [JUNIPERUS COMMUNIS;VACCINIUM M...    VACCINIUM MACROCARPON   \n",
       "3                                   GREEN TEA 150MG                 GREEN TEA   \n",
       "4                                ODOR FREE GARLIC?X            ALLIUM SATIVUM   \n",
       "\n",
       "              rank1_drug         rank2_drug          rank3_drug  \\\n",
       "0    LINUM USITATISSIMUM          FLAX SEED     CANNABIS SATIVA   \n",
       "1              FENUGREEK  TRIGONELFA FOENUM  WITHANIA SOMNIFERA   \n",
       "2  VACCINIUM MACROCARPON          CRANBERRY         WOOD SPIDER   \n",
       "3      CAMELLIA SINENSIS          GREEN TEA      RED YEAST RICE   \n",
       "4                 GARLIC     ALLIUM SATIVUM  MITRAGYNA SPECIOSA   \n",
       "\n",
       "         rank4_drug       rank5_drug lookup_rank  \n",
       "0      HEMP EXTRACT         CINNAMON         NaN  \n",
       "1        ASHWAGANDA   SERENOA REPENS         NaN  \n",
       "2          RHODIOLA   RHODIOLA ROSEA         NaN  \n",
       "3  CINNAMOMUM VERUM     ORYZA SATIVA         NaN  \n",
       "4  PAULLINIA CUPANA  CANNABIS SATIVA         NaN  "
      ]
     },
     "execution_count": 68,
     "metadata": {},
     "output_type": "execute_result"
    }
   ],
   "source": [
    "#find ranks 1, 2 and 3 (can go upto any number n) from the predicted similarities for the test data\n",
    "for i in range(padded_xTest.shape[0]):\n",
    "    predicts = siamese.predict([np.tile(padded_xTest[i,:], (dUnique.shape[0],1)), dUnique])\n",
    "    argsort = np.argsort(-predicts.flatten())\n",
    "    test_eval.at[i, 'FAERS_drug_match_indi'] = test_res.at[i, 'FAERS_drug_match_indi']\n",
    "    test_eval.at[i, 'lookup_value'] = test_res.at[i, 'lookup_value']\n",
    "    test_eval.at[i, 'rank1_drug'] = dUnique_df.iloc[argsort[0]].dUnique_label\n",
    "    test_eval.at[i, 'rank2_drug'] = dUnique_df.iloc[argsort[1]].dUnique_label\n",
    "    test_eval.at[i, 'rank3_drug'] = dUnique_df.iloc[argsort[2]].dUnique_label\n",
    "    test_eval.at[i, 'rank4_drug'] = dUnique_df.iloc[argsort[3]].dUnique_label\n",
    "    test_eval.at[i, 'rank5_drug'] = dUnique_df.iloc[argsort[4]].dUnique_label\n",
    "test_eval.head()"
   ]
  },
  {
   "cell_type": "code",
   "execution_count": 69,
   "metadata": {},
   "outputs": [
    {
     "data": {
      "text/html": [
       "<div>\n",
       "<style scoped>\n",
       "    .dataframe tbody tr th:only-of-type {\n",
       "        vertical-align: middle;\n",
       "    }\n",
       "\n",
       "    .dataframe tbody tr th {\n",
       "        vertical-align: top;\n",
       "    }\n",
       "\n",
       "    .dataframe thead th {\n",
       "        text-align: right;\n",
       "    }\n",
       "</style>\n",
       "<table border=\"1\" class=\"dataframe\">\n",
       "  <thead>\n",
       "    <tr style=\"text-align: right;\">\n",
       "      <th></th>\n",
       "      <th>FAERS_drug_match_indi</th>\n",
       "      <th>lookup_value</th>\n",
       "      <th>rank1_drug</th>\n",
       "      <th>rank2_drug</th>\n",
       "      <th>rank3_drug</th>\n",
       "      <th>rank4_drug</th>\n",
       "      <th>rank5_drug</th>\n",
       "      <th>lookup_rank</th>\n",
       "    </tr>\n",
       "  </thead>\n",
       "  <tbody>\n",
       "    <tr>\n",
       "      <th>0</th>\n",
       "      <td>FLAXSEED OIL [LINUM USITATISSIMUM OIL] PROPHYL...</td>\n",
       "      <td>FLAX SEED</td>\n",
       "      <td>LINUM USITATISSIMUM</td>\n",
       "      <td>FLAX SEED</td>\n",
       "      <td>CANNABIS SATIVA</td>\n",
       "      <td>HEMP EXTRACT</td>\n",
       "      <td>CINNAMON</td>\n",
       "      <td>2</td>\n",
       "    </tr>\n",
       "    <tr>\n",
       "      <th>1</th>\n",
       "      <td>CHORDYCEPS</td>\n",
       "      <td>OPHIOCORDYCEPS SINENSIS</td>\n",
       "      <td>FENUGREEK</td>\n",
       "      <td>TRIGONELFA FOENUM</td>\n",
       "      <td>WITHANIA SOMNIFERA</td>\n",
       "      <td>ASHWAGANDA</td>\n",
       "      <td>SERENOA REPENS</td>\n",
       "      <td>NaN</td>\n",
       "    </tr>\n",
       "    <tr>\n",
       "      <th>2</th>\n",
       "      <td>CRANBERRY PLUS [JUNIPERUS COMMUNIS;VACCINIUM M...</td>\n",
       "      <td>VACCINIUM MACROCARPON</td>\n",
       "      <td>VACCINIUM MACROCARPON</td>\n",
       "      <td>CRANBERRY</td>\n",
       "      <td>WOOD SPIDER</td>\n",
       "      <td>RHODIOLA</td>\n",
       "      <td>RHODIOLA ROSEA</td>\n",
       "      <td>1</td>\n",
       "    </tr>\n",
       "    <tr>\n",
       "      <th>3</th>\n",
       "      <td>GREEN TEA 150MG</td>\n",
       "      <td>GREEN TEA</td>\n",
       "      <td>CAMELLIA SINENSIS</td>\n",
       "      <td>GREEN TEA</td>\n",
       "      <td>RED YEAST RICE</td>\n",
       "      <td>CINNAMOMUM VERUM</td>\n",
       "      <td>ORYZA SATIVA</td>\n",
       "      <td>2</td>\n",
       "    </tr>\n",
       "    <tr>\n",
       "      <th>4</th>\n",
       "      <td>ODOR FREE GARLIC?X</td>\n",
       "      <td>ALLIUM SATIVUM</td>\n",
       "      <td>GARLIC</td>\n",
       "      <td>ALLIUM SATIVUM</td>\n",
       "      <td>MITRAGYNA SPECIOSA</td>\n",
       "      <td>PAULLINIA CUPANA</td>\n",
       "      <td>CANNABIS SATIVA</td>\n",
       "      <td>2</td>\n",
       "    </tr>\n",
       "  </tbody>\n",
       "</table>\n",
       "</div>"
      ],
      "text/plain": [
       "                               FAERS_drug_match_indi             lookup_value  \\\n",
       "0  FLAXSEED OIL [LINUM USITATISSIMUM OIL] PROPHYL...                FLAX SEED   \n",
       "1                                        CHORDYCEPS   OPHIOCORDYCEPS SINENSIS   \n",
       "2  CRANBERRY PLUS [JUNIPERUS COMMUNIS;VACCINIUM M...    VACCINIUM MACROCARPON   \n",
       "3                                   GREEN TEA 150MG                 GREEN TEA   \n",
       "4                                ODOR FREE GARLIC?X            ALLIUM SATIVUM   \n",
       "\n",
       "              rank1_drug         rank2_drug          rank3_drug  \\\n",
       "0    LINUM USITATISSIMUM          FLAX SEED     CANNABIS SATIVA   \n",
       "1              FENUGREEK  TRIGONELFA FOENUM  WITHANIA SOMNIFERA   \n",
       "2  VACCINIUM MACROCARPON          CRANBERRY         WOOD SPIDER   \n",
       "3      CAMELLIA SINENSIS          GREEN TEA      RED YEAST RICE   \n",
       "4                 GARLIC     ALLIUM SATIVUM  MITRAGYNA SPECIOSA   \n",
       "\n",
       "         rank4_drug       rank5_drug lookup_rank  \n",
       "0      HEMP EXTRACT         CINNAMON           2  \n",
       "1        ASHWAGANDA   SERENOA REPENS         NaN  \n",
       "2          RHODIOLA   RHODIOLA ROSEA           1  \n",
       "3  CINNAMOMUM VERUM     ORYZA SATIVA           2  \n",
       "4  PAULLINIA CUPANA  CANNABIS SATIVA           2  "
      ]
     },
     "execution_count": 69,
     "metadata": {},
     "output_type": "execute_result"
    }
   ],
   "source": [
    "for i in range(len(test_eval.index)):\n",
    "    lookup = test_eval.at[i, 'lookup_value']\n",
    "    lookup_clean = clean(lookup)\n",
    "    if lookup_clean == test_eval.at[i, 'rank1_drug']:\n",
    "        test_eval.at[i, 'lookup_rank'] = 1\n",
    "    elif lookup_clean == test_eval.at[i, 'rank2_drug']:\n",
    "        test_eval.at[i, 'lookup_rank'] = 2\n",
    "    elif lookup_clean == test_eval.at[i, 'rank3_drug']:\n",
    "        test_eval.at[i, 'lookup_rank'] = 3\n",
    "    elif lookup_clean == test_eval.at[i, 'rank4_drug']:\n",
    "        test_eval.at[i, 'lookup_rank'] = 4\n",
    "    elif lookup_clean == test_eval.at[i, 'rank5_drug']:\n",
    "        test_eval.at[i, 'lookup_rank'] = 5\n",
    "test_eval.head()"
   ]
  },
  {
   "cell_type": "code",
   "execution_count": 70,
   "metadata": {},
   "outputs": [],
   "source": [
    "test_eval.to_csv(\"evaluation/test_siamese_evaluation_exp3.csv\", index=False)"
   ]
  },
  {
   "cell_type": "code",
   "execution_count": 71,
   "metadata": {},
   "outputs": [],
   "source": [
    "##add related mappings rank to test set evaluation"
   ]
  },
  {
   "cell_type": "code",
   "execution_count": 72,
   "metadata": {},
   "outputs": [
    {
     "name": "stdout",
     "output_type": "stream",
     "text": [
      "<class 'pandas.core.frame.DataFrame'>\n",
      "RangeIndex: 958 entries, 0 to 957\n",
      "Data columns (total 4 columns):\n",
      " #   Column                Non-Null Count  Dtype \n",
      "---  ------                --------------  ----- \n",
      " 0   latin_binomial        958 non-null    object\n",
      " 1   common_name           958 non-null    object\n",
      " 2   latin_binomial_clean  958 non-null    object\n",
      " 3   common_name_clean     958 non-null    object\n",
      "dtypes: object(4)\n",
      "memory usage: 30.1+ KB\n"
     ]
    }
   ],
   "source": [
    "vocab = pd.read_csv('data/lb_to_common_names.csv')\n",
    "vocab.info()"
   ]
  },
  {
   "cell_type": "code",
   "execution_count": 73,
   "metadata": {},
   "outputs": [
    {
     "name": "stdout",
     "output_type": "stream",
     "text": [
      "<class 'pandas.core.frame.DataFrame'>\n",
      "RangeIndex: 1655 entries, 0 to 1654\n",
      "Data columns (total 8 columns):\n",
      " #   Column                 Non-Null Count  Dtype  \n",
      "---  ------                 --------------  -----  \n",
      " 0   FAERS_drug_match_indi  1655 non-null   object \n",
      " 1   lookup_value           1655 non-null   object \n",
      " 2   rank1_drug             1655 non-null   object \n",
      " 3   rank2_drug             1655 non-null   object \n",
      " 4   rank3_drug             1655 non-null   object \n",
      " 5   rank4_drug             1655 non-null   object \n",
      " 6   rank5_drug             1655 non-null   object \n",
      " 7   lookup_rank            1463 non-null   float64\n",
      "dtypes: float64(1), object(7)\n",
      "memory usage: 103.6+ KB\n"
     ]
    }
   ],
   "source": [
    "test_eval = pd.read_csv('evaluation/test_siamese_evaluation_exp3.csv')\n",
    "test_eval.info()"
   ]
  },
  {
   "cell_type": "code",
   "execution_count": 74,
   "metadata": {},
   "outputs": [
    {
     "data": {
      "text/html": [
       "<div>\n",
       "<style scoped>\n",
       "    .dataframe tbody tr th:only-of-type {\n",
       "        vertical-align: middle;\n",
       "    }\n",
       "\n",
       "    .dataframe tbody tr th {\n",
       "        vertical-align: top;\n",
       "    }\n",
       "\n",
       "    .dataframe thead th {\n",
       "        text-align: right;\n",
       "    }\n",
       "</style>\n",
       "<table border=\"1\" class=\"dataframe\">\n",
       "  <thead>\n",
       "    <tr style=\"text-align: right;\">\n",
       "      <th></th>\n",
       "      <th>FAERS_drug_match_indi</th>\n",
       "      <th>lookup_value</th>\n",
       "      <th>rank1_drug</th>\n",
       "      <th>rank2_drug</th>\n",
       "      <th>rank3_drug</th>\n",
       "      <th>rank4_drug</th>\n",
       "      <th>rank5_drug</th>\n",
       "      <th>lookup_rank</th>\n",
       "      <th>lookup_rank_related</th>\n",
       "    </tr>\n",
       "  </thead>\n",
       "  <tbody>\n",
       "    <tr>\n",
       "      <th>0</th>\n",
       "      <td>FLAXSEED OIL [LINUM USITATISSIMUM OIL] PROPHYL...</td>\n",
       "      <td>FLAX SEED</td>\n",
       "      <td>LINUM USITATISSIMUM</td>\n",
       "      <td>FLAX SEED</td>\n",
       "      <td>CANNABIS SATIVA</td>\n",
       "      <td>HEMP EXTRACT</td>\n",
       "      <td>CINNAMON</td>\n",
       "      <td>2.0</td>\n",
       "      <td>NaN</td>\n",
       "    </tr>\n",
       "    <tr>\n",
       "      <th>1</th>\n",
       "      <td>CHORDYCEPS</td>\n",
       "      <td>OPHIOCORDYCEPS SINENSIS</td>\n",
       "      <td>FENUGREEK</td>\n",
       "      <td>TRIGONELFA FOENUM</td>\n",
       "      <td>WITHANIA SOMNIFERA</td>\n",
       "      <td>ASHWAGANDA</td>\n",
       "      <td>SERENOA REPENS</td>\n",
       "      <td>NaN</td>\n",
       "      <td>NaN</td>\n",
       "    </tr>\n",
       "    <tr>\n",
       "      <th>2</th>\n",
       "      <td>CRANBERRY PLUS [JUNIPERUS COMMUNIS;VACCINIUM M...</td>\n",
       "      <td>VACCINIUM MACROCARPON</td>\n",
       "      <td>VACCINIUM MACROCARPON</td>\n",
       "      <td>CRANBERRY</td>\n",
       "      <td>WOOD SPIDER</td>\n",
       "      <td>RHODIOLA</td>\n",
       "      <td>RHODIOLA ROSEA</td>\n",
       "      <td>1.0</td>\n",
       "      <td>NaN</td>\n",
       "    </tr>\n",
       "    <tr>\n",
       "      <th>3</th>\n",
       "      <td>GREEN TEA 150MG</td>\n",
       "      <td>GREEN TEA</td>\n",
       "      <td>CAMELLIA SINENSIS</td>\n",
       "      <td>GREEN TEA</td>\n",
       "      <td>RED YEAST RICE</td>\n",
       "      <td>CINNAMOMUM VERUM</td>\n",
       "      <td>ORYZA SATIVA</td>\n",
       "      <td>2.0</td>\n",
       "      <td>NaN</td>\n",
       "    </tr>\n",
       "    <tr>\n",
       "      <th>4</th>\n",
       "      <td>ODOR FREE GARLIC?X</td>\n",
       "      <td>ALLIUM SATIVUM</td>\n",
       "      <td>GARLIC</td>\n",
       "      <td>ALLIUM SATIVUM</td>\n",
       "      <td>MITRAGYNA SPECIOSA</td>\n",
       "      <td>PAULLINIA CUPANA</td>\n",
       "      <td>CANNABIS SATIVA</td>\n",
       "      <td>2.0</td>\n",
       "      <td>NaN</td>\n",
       "    </tr>\n",
       "  </tbody>\n",
       "</table>\n",
       "</div>"
      ],
      "text/plain": [
       "                               FAERS_drug_match_indi             lookup_value  \\\n",
       "0  FLAXSEED OIL [LINUM USITATISSIMUM OIL] PROPHYL...                FLAX SEED   \n",
       "1                                        CHORDYCEPS   OPHIOCORDYCEPS SINENSIS   \n",
       "2  CRANBERRY PLUS [JUNIPERUS COMMUNIS;VACCINIUM M...    VACCINIUM MACROCARPON   \n",
       "3                                   GREEN TEA 150MG                 GREEN TEA   \n",
       "4                                ODOR FREE GARLIC?X            ALLIUM SATIVUM   \n",
       "\n",
       "              rank1_drug         rank2_drug          rank3_drug  \\\n",
       "0    LINUM USITATISSIMUM          FLAX SEED     CANNABIS SATIVA   \n",
       "1              FENUGREEK  TRIGONELFA FOENUM  WITHANIA SOMNIFERA   \n",
       "2  VACCINIUM MACROCARPON          CRANBERRY         WOOD SPIDER   \n",
       "3      CAMELLIA SINENSIS          GREEN TEA      RED YEAST RICE   \n",
       "4                 GARLIC     ALLIUM SATIVUM  MITRAGYNA SPECIOSA   \n",
       "\n",
       "         rank4_drug       rank5_drug  lookup_rank  lookup_rank_related  \n",
       "0      HEMP EXTRACT         CINNAMON          2.0                  NaN  \n",
       "1        ASHWAGANDA   SERENOA REPENS          NaN                  NaN  \n",
       "2          RHODIOLA   RHODIOLA ROSEA          1.0                  NaN  \n",
       "3  CINNAMOMUM VERUM     ORYZA SATIVA          2.0                  NaN  \n",
       "4  PAULLINIA CUPANA  CANNABIS SATIVA          2.0                  NaN  "
      ]
     },
     "execution_count": 74,
     "metadata": {},
     "output_type": "execute_result"
    }
   ],
   "source": [
    "test_eval['lookup_rank_related'] = np.nan\n",
    "test_eval.head()"
   ]
  },
  {
   "cell_type": "code",
   "execution_count": 75,
   "metadata": {},
   "outputs": [
    {
     "data": {
      "text/html": [
       "<div>\n",
       "<style scoped>\n",
       "    .dataframe tbody tr th:only-of-type {\n",
       "        vertical-align: middle;\n",
       "    }\n",
       "\n",
       "    .dataframe tbody tr th {\n",
       "        vertical-align: top;\n",
       "    }\n",
       "\n",
       "    .dataframe thead th {\n",
       "        text-align: right;\n",
       "    }\n",
       "</style>\n",
       "<table border=\"1\" class=\"dataframe\">\n",
       "  <thead>\n",
       "    <tr style=\"text-align: right;\">\n",
       "      <th></th>\n",
       "      <th>FAERS_drug_match_indi</th>\n",
       "      <th>lookup_value</th>\n",
       "      <th>rank1_drug</th>\n",
       "      <th>rank2_drug</th>\n",
       "      <th>rank3_drug</th>\n",
       "      <th>rank4_drug</th>\n",
       "      <th>rank5_drug</th>\n",
       "      <th>lookup_rank</th>\n",
       "      <th>lookup_rank_related</th>\n",
       "    </tr>\n",
       "  </thead>\n",
       "  <tbody>\n",
       "    <tr>\n",
       "      <th>0</th>\n",
       "      <td>FLAXSEED OIL [LINUM USITATISSIMUM OIL] PROPHYL...</td>\n",
       "      <td>FLAX SEED</td>\n",
       "      <td>LINUM USITATISSIMUM</td>\n",
       "      <td>FLAX SEED</td>\n",
       "      <td>CANNABIS SATIVA</td>\n",
       "      <td>HEMP EXTRACT</td>\n",
       "      <td>CINNAMON</td>\n",
       "      <td>2.0</td>\n",
       "      <td>1.0</td>\n",
       "    </tr>\n",
       "    <tr>\n",
       "      <th>1</th>\n",
       "      <td>CHORDYCEPS</td>\n",
       "      <td>OPHIOCORDYCEPS SINENSIS</td>\n",
       "      <td>FENUGREEK</td>\n",
       "      <td>TRIGONELFA FOENUM</td>\n",
       "      <td>WITHANIA SOMNIFERA</td>\n",
       "      <td>ASHWAGANDA</td>\n",
       "      <td>SERENOA REPENS</td>\n",
       "      <td>NaN</td>\n",
       "      <td>NaN</td>\n",
       "    </tr>\n",
       "    <tr>\n",
       "      <th>2</th>\n",
       "      <td>CRANBERRY PLUS [JUNIPERUS COMMUNIS;VACCINIUM M...</td>\n",
       "      <td>VACCINIUM MACROCARPON</td>\n",
       "      <td>VACCINIUM MACROCARPON</td>\n",
       "      <td>CRANBERRY</td>\n",
       "      <td>WOOD SPIDER</td>\n",
       "      <td>RHODIOLA</td>\n",
       "      <td>RHODIOLA ROSEA</td>\n",
       "      <td>1.0</td>\n",
       "      <td>1.0</td>\n",
       "    </tr>\n",
       "    <tr>\n",
       "      <th>3</th>\n",
       "      <td>GREEN TEA 150MG</td>\n",
       "      <td>GREEN TEA</td>\n",
       "      <td>CAMELLIA SINENSIS</td>\n",
       "      <td>GREEN TEA</td>\n",
       "      <td>RED YEAST RICE</td>\n",
       "      <td>CINNAMOMUM VERUM</td>\n",
       "      <td>ORYZA SATIVA</td>\n",
       "      <td>2.0</td>\n",
       "      <td>1.0</td>\n",
       "    </tr>\n",
       "    <tr>\n",
       "      <th>4</th>\n",
       "      <td>ODOR FREE GARLIC?X</td>\n",
       "      <td>ALLIUM SATIVUM</td>\n",
       "      <td>GARLIC</td>\n",
       "      <td>ALLIUM SATIVUM</td>\n",
       "      <td>MITRAGYNA SPECIOSA</td>\n",
       "      <td>PAULLINIA CUPANA</td>\n",
       "      <td>CANNABIS SATIVA</td>\n",
       "      <td>2.0</td>\n",
       "      <td>1.0</td>\n",
       "    </tr>\n",
       "  </tbody>\n",
       "</table>\n",
       "</div>"
      ],
      "text/plain": [
       "                               FAERS_drug_match_indi             lookup_value  \\\n",
       "0  FLAXSEED OIL [LINUM USITATISSIMUM OIL] PROPHYL...                FLAX SEED   \n",
       "1                                        CHORDYCEPS   OPHIOCORDYCEPS SINENSIS   \n",
       "2  CRANBERRY PLUS [JUNIPERUS COMMUNIS;VACCINIUM M...    VACCINIUM MACROCARPON   \n",
       "3                                   GREEN TEA 150MG                 GREEN TEA   \n",
       "4                                ODOR FREE GARLIC?X            ALLIUM SATIVUM   \n",
       "\n",
       "              rank1_drug         rank2_drug          rank3_drug  \\\n",
       "0    LINUM USITATISSIMUM          FLAX SEED     CANNABIS SATIVA   \n",
       "1              FENUGREEK  TRIGONELFA FOENUM  WITHANIA SOMNIFERA   \n",
       "2  VACCINIUM MACROCARPON          CRANBERRY         WOOD SPIDER   \n",
       "3      CAMELLIA SINENSIS          GREEN TEA      RED YEAST RICE   \n",
       "4                 GARLIC     ALLIUM SATIVUM  MITRAGYNA SPECIOSA   \n",
       "\n",
       "         rank4_drug       rank5_drug  lookup_rank  lookup_rank_related  \n",
       "0      HEMP EXTRACT         CINNAMON          2.0                  1.0  \n",
       "1        ASHWAGANDA   SERENOA REPENS          NaN                  NaN  \n",
       "2          RHODIOLA   RHODIOLA ROSEA          1.0                  1.0  \n",
       "3  CINNAMOMUM VERUM     ORYZA SATIVA          2.0                  1.0  \n",
       "4  PAULLINIA CUPANA  CANNABIS SATIVA          2.0                  1.0  "
      ]
     },
     "execution_count": 75,
     "metadata": {},
     "output_type": "execute_result"
    }
   ],
   "source": [
    "#find related mappings to lookup value in predicted values \n",
    "for i in range(len(test_eval.index)):\n",
    "    lookup = test_eval.at[i, 'lookup_value']\n",
    "    lookup_rank = test_eval.at[i, 'lookup_rank']\n",
    "    lookup_clean = clean(lookup)\n",
    "    lb_res = vocab.loc[vocab['latin_binomial_clean'] == lookup_clean]\n",
    "    common_res = vocab.loc[vocab['common_name_clean'] == lookup_clean]\n",
    "    lookup_result = ''\n",
    "    if len(lb_res) > 0:\n",
    "        lookup_result = lb_res.common_name_clean.values[0]\n",
    "    elif len(common_res) > 0:\n",
    "        lookup_result = common_res.latin_binomial_clean.values[0]\n",
    "    if lookup_result != '':\n",
    "        if lookup_result == test_eval.at[i, 'rank1_drug']:\n",
    "            test_eval.at[i, 'lookup_rank_related'] = 1\n",
    "        elif lookup_result == test_eval.at[i, 'rank2_drug']:\n",
    "            if lookup_rank:\n",
    "                if lookup_rank > 2:\n",
    "                    test_eval.at[i, 'lookup_rank_related'] = 2\n",
    "                else:\n",
    "                    test_eval.at[i, 'lookup_rank_related'] = lookup_rank\n",
    "            elif np.isnan(lookup_rank):\n",
    "                test_eval.at[i, 'lookup_rank_related'] = 2\n",
    "        elif lookup_result == test_eval.at[i, 'rank3_drug']:\n",
    "            if lookup_rank:\n",
    "                if lookup_rank > 3:\n",
    "                    test_eval.at[i, 'lookup_rank_related'] = 3\n",
    "                else:\n",
    "                    test_eval.at[i, 'lookup_rank_related'] = lookup_rank\n",
    "            elif np.isnan(lookup_rank):\n",
    "                test_eval.at[i, 'lookup_rank_related'] = 3\n",
    "        elif lookup_result == test_eval.at[i, 'rank4_drug']:\n",
    "            if lookup_rank:\n",
    "                if lookup_rank > 4:\n",
    "                    test_eval.at[i, 'lookup_rank_related'] = 4\n",
    "                else:\n",
    "                    test_eval.at[i, 'lookup_rank_related'] = lookup_rank\n",
    "            elif np.isnan(lookup_rank):\n",
    "                test_eval.at[i, 'lookup_rank_related'] = 4\n",
    "        elif lookup_result == test_eval.at[i, 'rank5_drug']:\n",
    "            if np.isnan(lookup_rank):\n",
    "                test_eval.at[i, 'lookup_rank_related'] = 5\n",
    "        \n",
    "test_eval.head()"
   ]
  },
  {
   "cell_type": "code",
   "execution_count": 76,
   "metadata": {},
   "outputs": [
    {
     "data": {
      "text/html": [
       "<div>\n",
       "<style scoped>\n",
       "    .dataframe tbody tr th:only-of-type {\n",
       "        vertical-align: middle;\n",
       "    }\n",
       "\n",
       "    .dataframe tbody tr th {\n",
       "        vertical-align: top;\n",
       "    }\n",
       "\n",
       "    .dataframe thead th {\n",
       "        text-align: right;\n",
       "    }\n",
       "</style>\n",
       "<table border=\"1\" class=\"dataframe\">\n",
       "  <thead>\n",
       "    <tr style=\"text-align: right;\">\n",
       "      <th></th>\n",
       "      <th>FAERS_drug_match_indi</th>\n",
       "      <th>lookup_value</th>\n",
       "      <th>rank1_drug</th>\n",
       "      <th>rank2_drug</th>\n",
       "      <th>rank3_drug</th>\n",
       "      <th>rank4_drug</th>\n",
       "      <th>rank5_drug</th>\n",
       "      <th>lookup_rank</th>\n",
       "      <th>lookup_rank_related</th>\n",
       "    </tr>\n",
       "  </thead>\n",
       "  <tbody>\n",
       "    <tr>\n",
       "      <th>0</th>\n",
       "      <td>FLAXSEED OIL [LINUM USITATISSIMUM OIL] PROPHYL...</td>\n",
       "      <td>FLAX SEED</td>\n",
       "      <td>LINUM USITATISSIMUM</td>\n",
       "      <td>FLAX SEED</td>\n",
       "      <td>CANNABIS SATIVA</td>\n",
       "      <td>HEMP EXTRACT</td>\n",
       "      <td>CINNAMON</td>\n",
       "      <td>2.0</td>\n",
       "      <td>1.0</td>\n",
       "    </tr>\n",
       "    <tr>\n",
       "      <th>1</th>\n",
       "      <td>CHORDYCEPS</td>\n",
       "      <td>OPHIOCORDYCEPS SINENSIS</td>\n",
       "      <td>FENUGREEK</td>\n",
       "      <td>TRIGONELFA FOENUM</td>\n",
       "      <td>WITHANIA SOMNIFERA</td>\n",
       "      <td>ASHWAGANDA</td>\n",
       "      <td>SERENOA REPENS</td>\n",
       "      <td>NaN</td>\n",
       "      <td>NaN</td>\n",
       "    </tr>\n",
       "    <tr>\n",
       "      <th>2</th>\n",
       "      <td>CRANBERRY PLUS [JUNIPERUS COMMUNIS;VACCINIUM M...</td>\n",
       "      <td>VACCINIUM MACROCARPON</td>\n",
       "      <td>VACCINIUM MACROCARPON</td>\n",
       "      <td>CRANBERRY</td>\n",
       "      <td>WOOD SPIDER</td>\n",
       "      <td>RHODIOLA</td>\n",
       "      <td>RHODIOLA ROSEA</td>\n",
       "      <td>1.0</td>\n",
       "      <td>1.0</td>\n",
       "    </tr>\n",
       "    <tr>\n",
       "      <th>3</th>\n",
       "      <td>GREEN TEA 150MG</td>\n",
       "      <td>GREEN TEA</td>\n",
       "      <td>CAMELLIA SINENSIS</td>\n",
       "      <td>GREEN TEA</td>\n",
       "      <td>RED YEAST RICE</td>\n",
       "      <td>CINNAMOMUM VERUM</td>\n",
       "      <td>ORYZA SATIVA</td>\n",
       "      <td>2.0</td>\n",
       "      <td>1.0</td>\n",
       "    </tr>\n",
       "    <tr>\n",
       "      <th>4</th>\n",
       "      <td>ODOR FREE GARLIC?X</td>\n",
       "      <td>ALLIUM SATIVUM</td>\n",
       "      <td>GARLIC</td>\n",
       "      <td>ALLIUM SATIVUM</td>\n",
       "      <td>MITRAGYNA SPECIOSA</td>\n",
       "      <td>PAULLINIA CUPANA</td>\n",
       "      <td>CANNABIS SATIVA</td>\n",
       "      <td>2.0</td>\n",
       "      <td>1.0</td>\n",
       "    </tr>\n",
       "  </tbody>\n",
       "</table>\n",
       "</div>"
      ],
      "text/plain": [
       "                               FAERS_drug_match_indi             lookup_value  \\\n",
       "0  FLAXSEED OIL [LINUM USITATISSIMUM OIL] PROPHYL...                FLAX SEED   \n",
       "1                                        CHORDYCEPS   OPHIOCORDYCEPS SINENSIS   \n",
       "2  CRANBERRY PLUS [JUNIPERUS COMMUNIS;VACCINIUM M...    VACCINIUM MACROCARPON   \n",
       "3                                   GREEN TEA 150MG                 GREEN TEA   \n",
       "4                                ODOR FREE GARLIC?X            ALLIUM SATIVUM   \n",
       "\n",
       "              rank1_drug         rank2_drug          rank3_drug  \\\n",
       "0    LINUM USITATISSIMUM          FLAX SEED     CANNABIS SATIVA   \n",
       "1              FENUGREEK  TRIGONELFA FOENUM  WITHANIA SOMNIFERA   \n",
       "2  VACCINIUM MACROCARPON          CRANBERRY         WOOD SPIDER   \n",
       "3      CAMELLIA SINENSIS          GREEN TEA      RED YEAST RICE   \n",
       "4                 GARLIC     ALLIUM SATIVUM  MITRAGYNA SPECIOSA   \n",
       "\n",
       "         rank4_drug       rank5_drug  lookup_rank  lookup_rank_related  \n",
       "0      HEMP EXTRACT         CINNAMON          2.0                  1.0  \n",
       "1        ASHWAGANDA   SERENOA REPENS          NaN                  NaN  \n",
       "2          RHODIOLA   RHODIOLA ROSEA          1.0                  1.0  \n",
       "3  CINNAMOMUM VERUM     ORYZA SATIVA          2.0                  1.0  \n",
       "4  PAULLINIA CUPANA  CANNABIS SATIVA          2.0                  1.0  "
      ]
     },
     "execution_count": 76,
     "metadata": {},
     "output_type": "execute_result"
    }
   ],
   "source": [
    "#post process to make lookup rank = lookup rank related if related is nan still\n",
    "for i in range(len(test_eval.index)):\n",
    "    lookup_rank = test_eval.at[i, 'lookup_rank']\n",
    "    lookup_rank_related = test_eval.at[i, 'lookup_rank_related']\n",
    "    if lookup_rank:\n",
    "        if np.isnan(lookup_rank_related):\n",
    "            test_eval.at[i, 'lookup_rank_related'] = lookup_rank\n",
    "test_eval.head()"
   ]
  },
  {
   "cell_type": "code",
   "execution_count": 77,
   "metadata": {},
   "outputs": [],
   "source": [
    "test_eval.to_csv('evaluation/test_siamese_evaluation_related_exp3.csv', index=False)"
   ]
  },
  {
   "cell_type": "code",
   "execution_count": 78,
   "metadata": {},
   "outputs": [],
   "source": [
    "###compute MRR from test set evaluation"
   ]
  },
  {
   "cell_type": "code",
   "execution_count": 80,
   "metadata": {},
   "outputs": [
    {
     "data": {
      "text/html": [
       "<div>\n",
       "<style scoped>\n",
       "    .dataframe tbody tr th:only-of-type {\n",
       "        vertical-align: middle;\n",
       "    }\n",
       "\n",
       "    .dataframe tbody tr th {\n",
       "        vertical-align: top;\n",
       "    }\n",
       "\n",
       "    .dataframe thead th {\n",
       "        text-align: right;\n",
       "    }\n",
       "</style>\n",
       "<table border=\"1\" class=\"dataframe\">\n",
       "  <thead>\n",
       "    <tr style=\"text-align: right;\">\n",
       "      <th></th>\n",
       "      <th>FAERS_drug_match_indi</th>\n",
       "      <th>lookup_rank</th>\n",
       "      <th>lookup_rank_related</th>\n",
       "    </tr>\n",
       "  </thead>\n",
       "  <tbody>\n",
       "    <tr>\n",
       "      <th>0</th>\n",
       "      <td>FLAXSEED OIL [LINUM USITATISSIMUM OIL] PROPHYL...</td>\n",
       "      <td>2.0</td>\n",
       "      <td>1.0</td>\n",
       "    </tr>\n",
       "    <tr>\n",
       "      <th>1</th>\n",
       "      <td>CHORDYCEPS</td>\n",
       "      <td>NaN</td>\n",
       "      <td>NaN</td>\n",
       "    </tr>\n",
       "    <tr>\n",
       "      <th>2</th>\n",
       "      <td>CRANBERRY PLUS [JUNIPERUS COMMUNIS;VACCINIUM M...</td>\n",
       "      <td>1.0</td>\n",
       "      <td>1.0</td>\n",
       "    </tr>\n",
       "    <tr>\n",
       "      <th>3</th>\n",
       "      <td>GREEN TEA 150MG</td>\n",
       "      <td>2.0</td>\n",
       "      <td>1.0</td>\n",
       "    </tr>\n",
       "    <tr>\n",
       "      <th>4</th>\n",
       "      <td>ODOR FREE GARLIC?X</td>\n",
       "      <td>2.0</td>\n",
       "      <td>1.0</td>\n",
       "    </tr>\n",
       "  </tbody>\n",
       "</table>\n",
       "</div>"
      ],
      "text/plain": [
       "                               FAERS_drug_match_indi  lookup_rank  \\\n",
       "0  FLAXSEED OIL [LINUM USITATISSIMUM OIL] PROPHYL...          2.0   \n",
       "1                                        CHORDYCEPS           NaN   \n",
       "2  CRANBERRY PLUS [JUNIPERUS COMMUNIS;VACCINIUM M...          1.0   \n",
       "3                                   GREEN TEA 150MG           2.0   \n",
       "4                                ODOR FREE GARLIC?X           2.0   \n",
       "\n",
       "   lookup_rank_related  \n",
       "0                  1.0  \n",
       "1                  NaN  \n",
       "2                  1.0  \n",
       "3                  1.0  \n",
       "4                  1.0  "
      ]
     },
     "execution_count": 80,
     "metadata": {},
     "output_type": "execute_result"
    }
   ],
   "source": [
    "test_mrr = test_eval[['FAERS_drug_match_indi', 'lookup_rank', 'lookup_rank_related']]\n",
    "test_mrr.head()"
   ]
  },
  {
   "cell_type": "code",
   "execution_count": 81,
   "metadata": {},
   "outputs": [
    {
     "name": "stdout",
     "output_type": "stream",
     "text": [
      "<class 'pandas.core.frame.DataFrame'>\n",
      "RangeIndex: 1655 entries, 0 to 1654\n",
      "Data columns (total 3 columns):\n",
      " #   Column                 Non-Null Count  Dtype  \n",
      "---  ------                 --------------  -----  \n",
      " 0   FAERS_drug_match_indi  1655 non-null   object \n",
      " 1   lookup_rank            1463 non-null   float64\n",
      " 2   lookup_rank_related    1470 non-null   float64\n",
      "dtypes: float64(2), object(1)\n",
      "memory usage: 38.9+ KB\n"
     ]
    }
   ],
   "source": [
    "test_mrr.info()"
   ]
  },
  {
   "cell_type": "code",
   "execution_count": 82,
   "metadata": {},
   "outputs": [
    {
     "data": {
      "text/plain": [
       "(192, 3)"
      ]
     },
     "execution_count": 82,
     "metadata": {},
     "output_type": "execute_result"
    }
   ],
   "source": [
    "#number of 0 relevant results\n",
    "test_mrr.loc[test_mrr['lookup_rank'].isna()].shape"
   ]
  },
  {
   "cell_type": "code",
   "execution_count": 83,
   "metadata": {},
   "outputs": [
    {
     "data": {
      "text/plain": [
       "(185, 3)"
      ]
     },
     "execution_count": 83,
     "metadata": {},
     "output_type": "execute_result"
    }
   ],
   "source": [
    "test_mrr.loc[test_mrr['lookup_rank_related'].isna()].shape"
   ]
  },
  {
   "cell_type": "code",
   "execution_count": 84,
   "metadata": {},
   "outputs": [
    {
     "name": "stdout",
     "output_type": "stream",
     "text": [
      "<class 'pandas.core.frame.DataFrame'>\n",
      "Int64Index: 1463 entries, 0 to 1654\n",
      "Data columns (total 2 columns):\n",
      " #   Column                 Non-Null Count  Dtype  \n",
      "---  ------                 --------------  -----  \n",
      " 0   FAERS_drug_match_indi  1463 non-null   object \n",
      " 1   lookup_rank            1463 non-null   float64\n",
      "dtypes: float64(1), object(1)\n",
      "memory usage: 34.3+ KB\n"
     ]
    }
   ],
   "source": [
    "test_mrr_exact = test_mrr[test_mrr['lookup_rank'].notna()]\n",
    "test_mrr_exact = test_mrr_exact.drop(['lookup_rank_related'], axis=1)\n",
    "test_mrr_exact.info()"
   ]
  },
  {
   "cell_type": "code",
   "execution_count": 85,
   "metadata": {},
   "outputs": [
    {
     "name": "stdout",
     "output_type": "stream",
     "text": [
      "<class 'pandas.core.frame.DataFrame'>\n",
      "Int64Index: 1470 entries, 0 to 1654\n",
      "Data columns (total 2 columns):\n",
      " #   Column                 Non-Null Count  Dtype  \n",
      "---  ------                 --------------  -----  \n",
      " 0   FAERS_drug_match_indi  1470 non-null   object \n",
      " 1   lookup_rank_related    1470 non-null   float64\n",
      "dtypes: float64(1), object(1)\n",
      "memory usage: 34.5+ KB\n"
     ]
    }
   ],
   "source": [
    "test_mrr_rel = test_mrr[test_mrr['lookup_rank_related'].notna()]\n",
    "test_mrr_rel = test_mrr_rel.drop(['lookup_rank'], axis=1)\n",
    "test_mrr_rel.info()"
   ]
  },
  {
   "cell_type": "code",
   "execution_count": 86,
   "metadata": {},
   "outputs": [
    {
     "data": {
      "text/html": [
       "<div>\n",
       "<style scoped>\n",
       "    .dataframe tbody tr th:only-of-type {\n",
       "        vertical-align: middle;\n",
       "    }\n",
       "\n",
       "    .dataframe tbody tr th {\n",
       "        vertical-align: top;\n",
       "    }\n",
       "\n",
       "    .dataframe thead th {\n",
       "        text-align: right;\n",
       "    }\n",
       "</style>\n",
       "<table border=\"1\" class=\"dataframe\">\n",
       "  <thead>\n",
       "    <tr style=\"text-align: right;\">\n",
       "      <th></th>\n",
       "      <th>FAERS_drug_match_indi</th>\n",
       "      <th>lookup_rank</th>\n",
       "      <th>reciprocal_rank</th>\n",
       "    </tr>\n",
       "  </thead>\n",
       "  <tbody>\n",
       "    <tr>\n",
       "      <th>0</th>\n",
       "      <td>FLAXSEED OIL [LINUM USITATISSIMUM OIL] PROPHYL...</td>\n",
       "      <td>2.0</td>\n",
       "      <td>0.5</td>\n",
       "    </tr>\n",
       "    <tr>\n",
       "      <th>2</th>\n",
       "      <td>CRANBERRY PLUS [JUNIPERUS COMMUNIS;VACCINIUM M...</td>\n",
       "      <td>1.0</td>\n",
       "      <td>1.0</td>\n",
       "    </tr>\n",
       "    <tr>\n",
       "      <th>3</th>\n",
       "      <td>GREEN TEA 150MG</td>\n",
       "      <td>2.0</td>\n",
       "      <td>0.5</td>\n",
       "    </tr>\n",
       "    <tr>\n",
       "      <th>4</th>\n",
       "      <td>ODOR FREE GARLIC?X</td>\n",
       "      <td>2.0</td>\n",
       "      <td>0.5</td>\n",
       "    </tr>\n",
       "    <tr>\n",
       "      <th>5</th>\n",
       "      <td>GREEN TEA (PLANT ALKALOIDS AND OTHER NATURAL R...</td>\n",
       "      <td>2.0</td>\n",
       "      <td>0.5</td>\n",
       "    </tr>\n",
       "  </tbody>\n",
       "</table>\n",
       "</div>"
      ],
      "text/plain": [
       "                               FAERS_drug_match_indi  lookup_rank  \\\n",
       "0  FLAXSEED OIL [LINUM USITATISSIMUM OIL] PROPHYL...          2.0   \n",
       "2  CRANBERRY PLUS [JUNIPERUS COMMUNIS;VACCINIUM M...          1.0   \n",
       "3                                   GREEN TEA 150MG           2.0   \n",
       "4                                ODOR FREE GARLIC?X           2.0   \n",
       "5  GREEN TEA (PLANT ALKALOIDS AND OTHER NATURAL R...          2.0   \n",
       "\n",
       "   reciprocal_rank  \n",
       "0              0.5  \n",
       "2              1.0  \n",
       "3              0.5  \n",
       "4              0.5  \n",
       "5              0.5  "
      ]
     },
     "execution_count": 86,
     "metadata": {},
     "output_type": "execute_result"
    }
   ],
   "source": [
    "exact_reciprocal = 1/test_mrr_exact['lookup_rank']\n",
    "test_mrr_exact['reciprocal_rank'] = exact_reciprocal\n",
    "test_mrr_exact.head()"
   ]
  },
  {
   "cell_type": "code",
   "execution_count": 87,
   "metadata": {},
   "outputs": [
    {
     "data": {
      "text/plain": [
       "0.7198678514467987"
      ]
     },
     "execution_count": 87,
     "metadata": {},
     "output_type": "execute_result"
    }
   ],
   "source": [
    "##get the mean of reciprocal ranks for exact matches\n",
    "test_mrr_exact.reciprocal_rank.mean()"
   ]
  },
  {
   "cell_type": "code",
   "execution_count": 88,
   "metadata": {},
   "outputs": [
    {
     "data": {
      "text/html": [
       "<div>\n",
       "<style scoped>\n",
       "    .dataframe tbody tr th:only-of-type {\n",
       "        vertical-align: middle;\n",
       "    }\n",
       "\n",
       "    .dataframe tbody tr th {\n",
       "        vertical-align: top;\n",
       "    }\n",
       "\n",
       "    .dataframe thead th {\n",
       "        text-align: right;\n",
       "    }\n",
       "</style>\n",
       "<table border=\"1\" class=\"dataframe\">\n",
       "  <thead>\n",
       "    <tr style=\"text-align: right;\">\n",
       "      <th></th>\n",
       "      <th>FAERS_drug_match_indi</th>\n",
       "      <th>lookup_rank_related</th>\n",
       "      <th>reciprocal_rank</th>\n",
       "    </tr>\n",
       "  </thead>\n",
       "  <tbody>\n",
       "    <tr>\n",
       "      <th>0</th>\n",
       "      <td>FLAXSEED OIL [LINUM USITATISSIMUM OIL] PROPHYL...</td>\n",
       "      <td>1.0</td>\n",
       "      <td>1.0</td>\n",
       "    </tr>\n",
       "    <tr>\n",
       "      <th>2</th>\n",
       "      <td>CRANBERRY PLUS [JUNIPERUS COMMUNIS;VACCINIUM M...</td>\n",
       "      <td>1.0</td>\n",
       "      <td>1.0</td>\n",
       "    </tr>\n",
       "    <tr>\n",
       "      <th>3</th>\n",
       "      <td>GREEN TEA 150MG</td>\n",
       "      <td>1.0</td>\n",
       "      <td>1.0</td>\n",
       "    </tr>\n",
       "    <tr>\n",
       "      <th>4</th>\n",
       "      <td>ODOR FREE GARLIC?X</td>\n",
       "      <td>1.0</td>\n",
       "      <td>1.0</td>\n",
       "    </tr>\n",
       "    <tr>\n",
       "      <th>5</th>\n",
       "      <td>GREEN TEA (PLANT ALKALOIDS AND OTHER NATURAL R...</td>\n",
       "      <td>2.0</td>\n",
       "      <td>0.5</td>\n",
       "    </tr>\n",
       "  </tbody>\n",
       "</table>\n",
       "</div>"
      ],
      "text/plain": [
       "                               FAERS_drug_match_indi  lookup_rank_related  \\\n",
       "0  FLAXSEED OIL [LINUM USITATISSIMUM OIL] PROPHYL...                  1.0   \n",
       "2  CRANBERRY PLUS [JUNIPERUS COMMUNIS;VACCINIUM M...                  1.0   \n",
       "3                                   GREEN TEA 150MG                   1.0   \n",
       "4                                ODOR FREE GARLIC?X                   1.0   \n",
       "5  GREEN TEA (PLANT ALKALOIDS AND OTHER NATURAL R...                  2.0   \n",
       "\n",
       "   reciprocal_rank  \n",
       "0              1.0  \n",
       "2              1.0  \n",
       "3              1.0  \n",
       "4              1.0  \n",
       "5              0.5  "
      ]
     },
     "execution_count": 88,
     "metadata": {},
     "output_type": "execute_result"
    }
   ],
   "source": [
    "rel_reciprocal = 1/test_mrr_rel['lookup_rank_related']\n",
    "test_mrr_rel['reciprocal_rank'] = rel_reciprocal\n",
    "test_mrr_rel.head()"
   ]
  },
  {
   "cell_type": "code",
   "execution_count": 89,
   "metadata": {},
   "outputs": [
    {
     "data": {
      "text/plain": [
       "0.9029251700680272"
      ]
     },
     "execution_count": 89,
     "metadata": {},
     "output_type": "execute_result"
    }
   ],
   "source": [
    "test_mrr_rel.reciprocal_rank.mean()"
   ]
  },
  {
   "cell_type": "markdown",
   "metadata": {},
   "source": [
    "### Scratch code blocks below"
   ]
  },
  {
   "cell_type": "code",
   "execution_count": 43,
   "metadata": {},
   "outputs": [
    {
     "data": {
      "text/plain": [
       "<keras.engine.input_layer.InputLayer at 0x7f7183cbd400>"
      ]
     },
     "execution_count": 43,
     "metadata": {},
     "output_type": "execute_result"
    }
   ],
   "source": [
    "siamese_model.layers[0]"
   ]
  },
  {
   "cell_type": "code",
   "execution_count": 74,
   "metadata": {},
   "outputs": [],
   "source": [
    "##try to get embedding weights - this gives from original model not trained (I think)\n",
    "embeddings_weights = embedding.get_weights()[0]"
   ]
  },
  {
   "cell_type": "code",
   "execution_count": 48,
   "metadata": {},
   "outputs": [
    {
     "name": "stdout",
     "output_type": "stream",
     "text": [
      "<keras.engine.input_layer.InputLayer object at 0x7f7183cbd400>\n",
      "<keras.engine.input_layer.InputLayer object at 0x7f7183cbd1c0>\n",
      "<keras.engine.functional.Functional object at 0x7f7183cbd9a0>\n",
      "<keras.layers.core.lambda_layer.Lambda object at 0x7f7183cbdaf0>\n",
      "<keras.layers.core.dense.Dense object at 0x7f7170406730>\n"
     ]
    }
   ],
   "source": [
    "for layer in siamese_model.layers:\n",
    "    print(layer)"
   ]
  },
  {
   "cell_type": "code",
   "execution_count": null,
   "metadata": {},
   "outputs": [],
   "source": []
  },
  {
   "cell_type": "code",
   "execution_count": null,
   "metadata": {},
   "outputs": [],
   "source": []
  },
  {
   "cell_type": "code",
   "execution_count": 37,
   "metadata": {},
   "outputs": [
    {
     "name": "stdout",
     "output_type": "stream",
     "text": [
      "<class 'pandas.core.frame.DataFrame'>\n",
      "RangeIndex: 2679 entries, 0 to 2678\n",
      "Data columns (total 6 columns):\n",
      " #   Column                  Non-Null Count  Dtype  \n",
      "---  ------                  --------------  -----  \n",
      " 0   seq                     2679 non-null   int64  \n",
      " 1   drug_name_original      2679 non-null   object \n",
      " 2   related_common_name     2679 non-null   object \n",
      " 3   related_latin_binomial  2679 non-null   object \n",
      " 4   lookup_value            2679 non-null   object \n",
      " 5   concept_id              1925 non-null   float64\n",
      "dtypes: float64(1), int64(1), object(4)\n",
      "memory usage: 125.7+ KB\n"
     ]
    }
   ],
   "source": [
    "#in test set, find all NPs and create NP-test\n",
    "npref = pd.read_csv('data/np_faers_reference_set_202202101209.csv')\n",
    "npref.info()"
   ]
  },
  {
   "cell_type": "code",
   "execution_count": 50,
   "metadata": {},
   "outputs": [
    {
     "data": {
      "text/html": [
       "<div>\n",
       "<style scoped>\n",
       "    .dataframe tbody tr th:only-of-type {\n",
       "        vertical-align: middle;\n",
       "    }\n",
       "\n",
       "    .dataframe tbody tr th {\n",
       "        vertical-align: top;\n",
       "    }\n",
       "\n",
       "    .dataframe thead th {\n",
       "        text-align: right;\n",
       "    }\n",
       "</style>\n",
       "<table border=\"1\" class=\"dataframe\">\n",
       "  <thead>\n",
       "    <tr style=\"text-align: right;\">\n",
       "      <th></th>\n",
       "      <th>index</th>\n",
       "      <th>drug_name_original</th>\n",
       "      <th>lookup_value</th>\n",
       "    </tr>\n",
       "  </thead>\n",
       "  <tbody>\n",
       "    <tr>\n",
       "      <th>0</th>\n",
       "      <td>368981</td>\n",
       "      <td>NITROGLYCERIN PILLS</td>\n",
       "      <td>NITROGLYCERIN</td>\n",
       "    </tr>\n",
       "    <tr>\n",
       "      <th>1</th>\n",
       "      <td>20960</td>\n",
       "      <td>VITAMINS/MINERALS D3 B50 COMPLEX</td>\n",
       "      <td>MULTIVITAMIN PREPARATION</td>\n",
       "    </tr>\n",
       "    <tr>\n",
       "      <th>2</th>\n",
       "      <td>320735</td>\n",
       "      <td>T. SELOKEN ZOC (METOPROLOL SUCCINATE)</td>\n",
       "      <td>METOPROLOL SUCCINATE</td>\n",
       "    </tr>\n",
       "    <tr>\n",
       "      <th>3</th>\n",
       "      <td>34002</td>\n",
       "      <td>CEFTUM TABLET</td>\n",
       "      <td>CEFUROXIME AXETIL</td>\n",
       "    </tr>\n",
       "    <tr>\n",
       "      <th>4</th>\n",
       "      <td>321068</td>\n",
       "      <td>VALPROATE (TABLETS) VALPROATE SODIUM</td>\n",
       "      <td>VALPROATE SODIUM</td>\n",
       "    </tr>\n",
       "  </tbody>\n",
       "</table>\n",
       "</div>"
      ],
      "text/plain": [
       "    index                     drug_name_original              lookup_value\n",
       "0  368981                    NITROGLYCERIN PILLS             NITROGLYCERIN\n",
       "1   20960       VITAMINS/MINERALS D3 B50 COMPLEX  MULTIVITAMIN PREPARATION\n",
       "2  320735  T. SELOKEN ZOC (METOPROLOL SUCCINATE)      METOPROLOL SUCCINATE\n",
       "3   34002                          CEFTUM TABLET         CEFUROXIME AXETIL\n",
       "4  321068   VALPROATE (TABLETS) VALPROATE SODIUM          VALPROATE SODIUM"
      ]
     },
     "execution_count": 50,
     "metadata": {},
     "output_type": "execute_result"
    }
   ],
   "source": [
    "testnp = test.reset_index()\n",
    "testnp.head()"
   ]
  },
  {
   "cell_type": "code",
   "execution_count": 39,
   "metadata": {},
   "outputs": [
    {
     "name": "stdout",
     "output_type": "stream",
     "text": [
      "<class 'pandas.core.frame.DataFrame'>\n",
      "Int64Index: 483 entries, 0 to 482\n",
      "Data columns (total 8 columns):\n",
      " #   Column                  Non-Null Count  Dtype  \n",
      "---  ------                  --------------  -----  \n",
      " 0   index                   483 non-null    int64  \n",
      " 1   drug_name_original      483 non-null    object \n",
      " 2   lookup_value_x          483 non-null    object \n",
      " 3   seq                     483 non-null    int64  \n",
      " 4   related_common_name     483 non-null    object \n",
      " 5   related_latin_binomial  483 non-null    object \n",
      " 6   lookup_value_y          483 non-null    object \n",
      " 7   concept_id              340 non-null    float64\n",
      "dtypes: float64(1), int64(2), object(5)\n",
      "memory usage: 34.0+ KB\n"
     ]
    }
   ],
   "source": [
    "testnp_df = pd.merge(testnp, npref, how='inner', on=['drug_name_original'])\n",
    "testnp_df.info()"
   ]
  },
  {
   "cell_type": "code",
   "execution_count": 41,
   "metadata": {},
   "outputs": [
    {
     "name": "stdout",
     "output_type": "stream",
     "text": [
      "<class 'pandas.core.frame.DataFrame'>\n",
      "Int64Index: 483 entries, 0 to 482\n",
      "Data columns (total 3 columns):\n",
      " #   Column              Non-Null Count  Dtype \n",
      "---  ------              --------------  ----- \n",
      " 0   index               483 non-null    int64 \n",
      " 1   drug_name_original  483 non-null    object\n",
      " 2   lookup_value_x      483 non-null    object\n",
      "dtypes: int64(1), object(2)\n",
      "memory usage: 15.1+ KB\n"
     ]
    }
   ],
   "source": [
    "testnp_df = testnp_df[['index', 'drug_name_original', 'lookup_value_x']]\n",
    "testnp_df.info()"
   ]
  },
  {
   "cell_type": "code",
   "execution_count": 43,
   "metadata": {},
   "outputs": [],
   "source": [
    "testnp_df = testnp_df.rename(columns={\"lookup_value_x\": \"lookup_value\"})"
   ]
  },
  {
   "cell_type": "code",
   "execution_count": 44,
   "metadata": {},
   "outputs": [],
   "source": [
    "testnp_df.to_csv('evaluation/test_set_np.csv', index=False)"
   ]
  },
  {
   "cell_type": "code",
   "execution_count": 45,
   "metadata": {},
   "outputs": [],
   "source": [
    "test_np_eval = pd.DataFrame(columns = ['drug_name_original', 'lookup_value', 'rank1_drug', 'rank2_drug', 'rank3_drug', 'lookup_rank'])"
   ]
  },
  {
   "cell_type": "code",
   "execution_count": 46,
   "metadata": {},
   "outputs": [
    {
     "data": {
      "text/html": [
       "<div>\n",
       "<style scoped>\n",
       "    .dataframe tbody tr th:only-of-type {\n",
       "        vertical-align: middle;\n",
       "    }\n",
       "\n",
       "    .dataframe tbody tr th {\n",
       "        vertical-align: top;\n",
       "    }\n",
       "\n",
       "    .dataframe thead th {\n",
       "        text-align: right;\n",
       "    }\n",
       "</style>\n",
       "<table border=\"1\" class=\"dataframe\">\n",
       "  <thead>\n",
       "    <tr style=\"text-align: right;\">\n",
       "      <th></th>\n",
       "      <th>index</th>\n",
       "      <th>drug_name_original</th>\n",
       "      <th>lookup_value</th>\n",
       "    </tr>\n",
       "  </thead>\n",
       "  <tbody>\n",
       "    <tr>\n",
       "      <th>0</th>\n",
       "      <td>106183</td>\n",
       "      <td>CRANBERRY CHEWS</td>\n",
       "      <td>CRANBERRY</td>\n",
       "    </tr>\n",
       "    <tr>\n",
       "      <th>1</th>\n",
       "      <td>106466</td>\n",
       "      <td>BARLEY GREEN</td>\n",
       "      <td>BARLEY GRASS</td>\n",
       "    </tr>\n",
       "    <tr>\n",
       "      <th>2</th>\n",
       "      <td>107020</td>\n",
       "      <td>CRANBERRY [VACCINIUM MACROCARPON</td>\n",
       "      <td>CRANBERRY</td>\n",
       "    </tr>\n",
       "    <tr>\n",
       "      <th>3</th>\n",
       "      <td>322801</td>\n",
       "      <td>GREEN TEA OTC</td>\n",
       "      <td>GREEN TEA</td>\n",
       "    </tr>\n",
       "    <tr>\n",
       "      <th>4</th>\n",
       "      <td>106189</td>\n",
       "      <td>FLAX CAPSULES</td>\n",
       "      <td>FLAX SEED</td>\n",
       "    </tr>\n",
       "  </tbody>\n",
       "</table>\n",
       "</div>"
      ],
      "text/plain": [
       "    index                drug_name_original  lookup_value\n",
       "0  106183                   CRANBERRY CHEWS     CRANBERRY\n",
       "1  106466                      BARLEY GREEN  BARLEY GRASS\n",
       "2  107020  CRANBERRY [VACCINIUM MACROCARPON     CRANBERRY\n",
       "3  322801                     GREEN TEA OTC     GREEN TEA\n",
       "4  106189                     FLAX CAPSULES     FLAX SEED"
      ]
     },
     "execution_count": 46,
     "metadata": {},
     "output_type": "execute_result"
    }
   ],
   "source": [
    "testnp_df.head()"
   ]
  },
  {
   "cell_type": "code",
   "execution_count": 51,
   "metadata": {},
   "outputs": [],
   "source": [
    "npxtest, npytest = clean_dataset(testnp_df)\n",
    "npXtest, npYtest = encode_dataset(npxtest,npytest)\n",
    "nppadded_xTest, nppadded_yTest = padding_dataset(npXtest,npYtest)"
   ]
  },
  {
   "cell_type": "code",
   "execution_count": 54,
   "metadata": {},
   "outputs": [
    {
     "name": "stderr",
     "output_type": "stream",
     "text": [
      "2022-02-10 12:39:08.325967: I tensorflow/stream_executor/cuda/cuda_dnn.cc:366] Loaded cuDNN version 8302\n"
     ]
    },
    {
     "data": {
      "text/html": [
       "<div>\n",
       "<style scoped>\n",
       "    .dataframe tbody tr th:only-of-type {\n",
       "        vertical-align: middle;\n",
       "    }\n",
       "\n",
       "    .dataframe tbody tr th {\n",
       "        vertical-align: top;\n",
       "    }\n",
       "\n",
       "    .dataframe thead th {\n",
       "        text-align: right;\n",
       "    }\n",
       "</style>\n",
       "<table border=\"1\" class=\"dataframe\">\n",
       "  <thead>\n",
       "    <tr style=\"text-align: right;\">\n",
       "      <th></th>\n",
       "      <th>drug_name_original</th>\n",
       "      <th>lookup_value</th>\n",
       "      <th>rank1_drug</th>\n",
       "      <th>rank2_drug</th>\n",
       "      <th>rank3_drug</th>\n",
       "      <th>lookup_rank</th>\n",
       "    </tr>\n",
       "  </thead>\n",
       "  <tbody>\n",
       "    <tr>\n",
       "      <th>0</th>\n",
       "      <td>CRANBERRY CHEWS</td>\n",
       "      <td>CRANBERRY</td>\n",
       "      <td>CRANBERRY JUICE</td>\n",
       "      <td>CRANBERRY PREPARATION</td>\n",
       "      <td>CRANBERRY</td>\n",
       "      <td>NaN</td>\n",
       "    </tr>\n",
       "    <tr>\n",
       "      <th>1</th>\n",
       "      <td>BARLEY GREEN</td>\n",
       "      <td>BARLEY GRASS</td>\n",
       "      <td>BARLEY GRASS</td>\n",
       "      <td>BARBITAL</td>\n",
       "      <td>BARBEXACLONE</td>\n",
       "      <td>NaN</td>\n",
       "    </tr>\n",
       "    <tr>\n",
       "      <th>2</th>\n",
       "      <td>CRANBERRY [VACCINIUM MACROCARPON</td>\n",
       "      <td>CRANBERRY</td>\n",
       "      <td>CANRENOATE POTASSIUM</td>\n",
       "      <td>CRANTEX LA</td>\n",
       "      <td>CRANBERRY EXTRACT</td>\n",
       "      <td>NaN</td>\n",
       "    </tr>\n",
       "    <tr>\n",
       "      <th>3</th>\n",
       "      <td>GREEN TEA OTC</td>\n",
       "      <td>GREEN TEA</td>\n",
       "      <td>GREEN TEA EXTRACT</td>\n",
       "      <td>GREEN TEA</td>\n",
       "      <td>GREEN TEA LEAF EXTRACT</td>\n",
       "      <td>NaN</td>\n",
       "    </tr>\n",
       "    <tr>\n",
       "      <th>4</th>\n",
       "      <td>FLAX CAPSULES</td>\n",
       "      <td>FLAX SEED</td>\n",
       "      <td>FLURESS</td>\n",
       "      <td>FLUOROURACIL</td>\n",
       "      <td>FLUANXOL</td>\n",
       "      <td>NaN</td>\n",
       "    </tr>\n",
       "  </tbody>\n",
       "</table>\n",
       "</div>"
      ],
      "text/plain": [
       "                 drug_name_original  lookup_value            rank1_drug  \\\n",
       "0                   CRANBERRY CHEWS     CRANBERRY       CRANBERRY JUICE   \n",
       "1                      BARLEY GREEN  BARLEY GRASS          BARLEY GRASS   \n",
       "2  CRANBERRY [VACCINIUM MACROCARPON     CRANBERRY  CANRENOATE POTASSIUM   \n",
       "3                     GREEN TEA OTC     GREEN TEA     GREEN TEA EXTRACT   \n",
       "4                     FLAX CAPSULES     FLAX SEED               FLURESS   \n",
       "\n",
       "              rank2_drug              rank3_drug lookup_rank  \n",
       "0  CRANBERRY PREPARATION               CRANBERRY         NaN  \n",
       "1               BARBITAL            BARBEXACLONE         NaN  \n",
       "2             CRANTEX LA       CRANBERRY EXTRACT         NaN  \n",
       "3              GREEN TEA  GREEN TEA LEAF EXTRACT         NaN  \n",
       "4           FLUOROURACIL                FLUANXOL         NaN  "
      ]
     },
     "execution_count": 54,
     "metadata": {},
     "output_type": "execute_result"
    }
   ],
   "source": [
    "#testing model on only NPs in test set\n",
    "for i in range(len(testnp_df.index)):\n",
    "    np_index = testnp_df.at[i, 'index']\n",
    "    predicts = siamese_model.predict([np.tile(nppadded_xTest[i,:], (dUnique.shape[0],1)), dUnique])\n",
    "    argsort = np.argsort(-predicts.flatten())\n",
    "    test_np_eval.at[i, 'drug_name_original'] = test.at[np_index, 'drug_name_original']\n",
    "    test_np_eval.at[i, 'lookup_value'] = test.at[np_index, 'lookup_value']\n",
    "    test_np_eval.at[i, 'rank1_drug'] = dUnique_df.iloc[argsort[0]].dUnique_label\n",
    "    test_np_eval.at[i, 'rank2_drug'] = dUnique_df.iloc[argsort[1]].dUnique_label\n",
    "    test_np_eval.at[i, 'rank3_drug'] = dUnique_df.iloc[argsort[2]].dUnique_label\n",
    "test_np_eval.head()"
   ]
  },
  {
   "cell_type": "code",
   "execution_count": 55,
   "metadata": {},
   "outputs": [
    {
     "data": {
      "text/html": [
       "<div>\n",
       "<style scoped>\n",
       "    .dataframe tbody tr th:only-of-type {\n",
       "        vertical-align: middle;\n",
       "    }\n",
       "\n",
       "    .dataframe tbody tr th {\n",
       "        vertical-align: top;\n",
       "    }\n",
       "\n",
       "    .dataframe thead th {\n",
       "        text-align: right;\n",
       "    }\n",
       "</style>\n",
       "<table border=\"1\" class=\"dataframe\">\n",
       "  <thead>\n",
       "    <tr style=\"text-align: right;\">\n",
       "      <th></th>\n",
       "      <th>drug_name_original</th>\n",
       "      <th>lookup_value</th>\n",
       "      <th>rank1_drug</th>\n",
       "      <th>rank2_drug</th>\n",
       "      <th>rank3_drug</th>\n",
       "      <th>lookup_rank</th>\n",
       "    </tr>\n",
       "  </thead>\n",
       "  <tbody>\n",
       "    <tr>\n",
       "      <th>0</th>\n",
       "      <td>CRANBERRY CHEWS</td>\n",
       "      <td>CRANBERRY</td>\n",
       "      <td>CRANBERRY JUICE</td>\n",
       "      <td>CRANBERRY PREPARATION</td>\n",
       "      <td>CRANBERRY</td>\n",
       "      <td>3</td>\n",
       "    </tr>\n",
       "    <tr>\n",
       "      <th>1</th>\n",
       "      <td>BARLEY GREEN</td>\n",
       "      <td>BARLEY GRASS</td>\n",
       "      <td>BARLEY GRASS</td>\n",
       "      <td>BARBITAL</td>\n",
       "      <td>BARBEXACLONE</td>\n",
       "      <td>1</td>\n",
       "    </tr>\n",
       "    <tr>\n",
       "      <th>2</th>\n",
       "      <td>CRANBERRY [VACCINIUM MACROCARPON</td>\n",
       "      <td>CRANBERRY</td>\n",
       "      <td>CANRENOATE POTASSIUM</td>\n",
       "      <td>CRANTEX LA</td>\n",
       "      <td>CRANBERRY EXTRACT</td>\n",
       "      <td>NaN</td>\n",
       "    </tr>\n",
       "    <tr>\n",
       "      <th>3</th>\n",
       "      <td>GREEN TEA OTC</td>\n",
       "      <td>GREEN TEA</td>\n",
       "      <td>GREEN TEA EXTRACT</td>\n",
       "      <td>GREEN TEA</td>\n",
       "      <td>GREEN TEA LEAF EXTRACT</td>\n",
       "      <td>2</td>\n",
       "    </tr>\n",
       "    <tr>\n",
       "      <th>4</th>\n",
       "      <td>FLAX CAPSULES</td>\n",
       "      <td>FLAX SEED</td>\n",
       "      <td>FLURESS</td>\n",
       "      <td>FLUOROURACIL</td>\n",
       "      <td>FLUANXOL</td>\n",
       "      <td>NaN</td>\n",
       "    </tr>\n",
       "  </tbody>\n",
       "</table>\n",
       "</div>"
      ],
      "text/plain": [
       "                 drug_name_original  lookup_value            rank1_drug  \\\n",
       "0                   CRANBERRY CHEWS     CRANBERRY       CRANBERRY JUICE   \n",
       "1                      BARLEY GREEN  BARLEY GRASS          BARLEY GRASS   \n",
       "2  CRANBERRY [VACCINIUM MACROCARPON     CRANBERRY  CANRENOATE POTASSIUM   \n",
       "3                     GREEN TEA OTC     GREEN TEA     GREEN TEA EXTRACT   \n",
       "4                     FLAX CAPSULES     FLAX SEED               FLURESS   \n",
       "\n",
       "              rank2_drug              rank3_drug lookup_rank  \n",
       "0  CRANBERRY PREPARATION               CRANBERRY           3  \n",
       "1               BARBITAL            BARBEXACLONE           1  \n",
       "2             CRANTEX LA       CRANBERRY EXTRACT         NaN  \n",
       "3              GREEN TEA  GREEN TEA LEAF EXTRACT           2  \n",
       "4           FLUOROURACIL                FLUANXOL         NaN  "
      ]
     },
     "execution_count": 55,
     "metadata": {},
     "output_type": "execute_result"
    }
   ],
   "source": [
    "for i in range(len(test_np_eval.index)):\n",
    "    lookup = test_np_eval.at[i, 'lookup_value']\n",
    "    if lookup == test_np_eval.at[i, 'rank1_drug']:\n",
    "        test_np_eval.at[i, 'lookup_rank'] = 1\n",
    "    elif lookup == test_np_eval.at[i, 'rank2_drug']:\n",
    "        test_np_eval.at[i, 'lookup_rank'] = 2\n",
    "    elif lookup == test_np_eval.at[i, 'rank3_drug']:\n",
    "        test_np_eval.at[i, 'lookup_rank'] = 3\n",
    "test_np_eval.head()\n"
   ]
  },
  {
   "cell_type": "code",
   "execution_count": 56,
   "metadata": {},
   "outputs": [],
   "source": [
    "test_np_eval.to_csv('evaluation/siamese_eval_NP_exp1.csv', index=False)"
   ]
  },
  {
   "cell_type": "code",
   "execution_count": null,
   "metadata": {},
   "outputs": [],
   "source": []
  },
  {
   "cell_type": "markdown",
   "metadata": {
    "id": "Su5EWyYpzlmK"
   },
   "source": [
    "# Comparison between methods\n",
    "- use hit@topK metrics "
   ]
  },
  {
   "cell_type": "code",
   "execution_count": null,
   "metadata": {
    "id": "FIrlDdgsAmsv"
   },
   "outputs": [],
   "source": [
    "def hit_at_k(predictions):\n",
    "  \n",
    "    N = len(predictions)\n",
    "    hitAt = []\n",
    "    predictions = np.array(predictions)\n",
    "    predictions.sort()\n",
    "    \n",
    "    for k in range(N):\n",
    "      atK = (predictions <= k).sum()\n",
    "      hitAt.append(atK/N)\n",
    "\n",
    "    return hitAt"
   ]
  },
  {
   "cell_type": "code",
   "execution_count": null,
   "metadata": {
    "id": "09QIFnbjDdpw"
   },
   "outputs": [],
   "source": [
    "se = hit_at_k(ranksEmbed)\n",
    "mp = hit_at_k(all_f[0])\n",
    "nm = hit_at_k(all_f2[0])\n",
    "sn = hit_at_k(siamese_ranks)"
   ]
  },
  {
   "cell_type": "code",
   "execution_count": null,
   "metadata": {
    "id": "HU3ir__FWEwG"
   },
   "outputs": [],
   "source": [
    "se10 = [hit_at_k(r) for r in ranks10]\n",
    "mp10 = [hit_at_k(r) for r in ranks10_mp_0]\n",
    "nm10 = [hit_at_k(r) for r in ranks10_nm_0]"
   ]
  },
  {
   "cell_type": "code",
   "execution_count": null,
   "metadata": {
    "colab": {
     "base_uri": "https://localhost:8080/",
     "height": 295
    },
    "id": "sU4_bj7EF1H2",
    "outputId": "759f3cfa-68e8-4da4-bc9e-0dd0a60e1b87"
   },
   "outputs": [
    {
     "data": {
      "image/png": "[encoded data removed]",
      "text/plain": [
       "<Figure size 432x288 with 1 Axes>"
      ]
     },
     "metadata": {
      "needs_background": "light"
     },
     "output_type": "display_data"
    }
   ],
   "source": [
    "plt.plot(range(len(se)), se, label=\"symptoms embedding\")\n",
    "plt.plot(range(len(se)), mp, label=\"metaphone edit dist\")\n",
    "plt.plot(range(len(se)), nm, label=\"edit dist\")\n",
    "plt.plot(range(len(se)), sn, label=\"Siamese network\")\n",
    "plt.legend()\n",
    "plt.xlabel(\"K (hit@K)\")\n",
    "plt.ylabel(\"Percentage of hit\")\n",
    "plt.title(\"Percentage of query hit@K\")\n",
    "plt.show()"
   ]
  },
  {
   "cell_type": "code",
   "execution_count": null,
   "metadata": {
    "colab": {
     "base_uri": "https://localhost:8080/",
     "height": 295
    },
    "id": "7Lbet9imUyfT",
    "outputId": "7b43abc1-286b-4ee7-b3fa-db4a505c6f0b"
   },
   "outputs": [
    {
     "data": {
      "image/png": "[encoded data removed]",
      "text/plain": [
       "<Figure size 432x288 with 1 Axes>"
      ]
     },
     "metadata": {
      "needs_background": "light"
     },
     "output_type": "display_data"
    }
   ],
   "source": [
    "# I need to repeat this. Last time I use wrong variables. -*- \n",
    "\n",
    "dt1 = pd.DataFrame(se10)\n",
    "dt1 = pd.melt(dt1.reset_index(), id_vars=\"index\")\n",
    "dt1[\"name\"] = \"se\"\n",
    "dt2 = pd.DataFrame(mp10)\n",
    "dt2 = pd.melt(dt2.reset_index(), id_vars=\"index\")\n",
    "dt2[\"name\"] =\"mp\"\n",
    "dt3 = pd.DataFrame(nm10)\n",
    "dt3 = pd.melt(dt3.reset_index(), id_vars=\"index\")\n",
    "dt3[\"name\"] = \"nm\"\n",
    "dt =pd.concat([dt1,dt2,dt3])\n",
    "\n",
    "sns.lineplot( x = \"variable\", y = \"value\", hue=\"name\", data=dt.reset_index(drop=True))\n",
    "plt.xlabel(\"K (hit@K)\")\n",
    "plt.ylabel(\"Percentage of hit\")\n",
    "plt.title(\"Percentage of query hit@K\")\n",
    "plt.show()"
   ]
  },
  {
   "cell_type": "markdown",
   "metadata": {
    "id": "uX6JXLSqdNPK"
   },
   "source": []
  },
  {
   "cell_type": "code",
   "execution_count": null,
   "metadata": {
    "id": "FcYMz7gedNk9"
   },
   "outputs": [],
   "source": []
  }
 ],
 "metadata": {
  "colab": {
   "collapsed_sections": [
    "n4hQ4x-G30K3"
   ],
   "name": "bmi_project_for_team.ipynb",
   "provenance": [],
   "toc_visible": true
  },
  "kernelspec": {
   "display_name": "Python 3 (ipykernel)",
   "language": "python",
   "name": "python3"
  },
  "language_info": {
   "codemirror_mode": {
    "name": "ipython",
    "version": 3
   },
   "file_extension": ".py",
   "mimetype": "text/x-python",
   "name": "python",
   "nbconvert_exporter": "python",
   "pygments_lexer": "ipython3",
   "version": "3.8.0"
  }
 },
 "nbformat": 4,
 "nbformat_minor": 4
}
