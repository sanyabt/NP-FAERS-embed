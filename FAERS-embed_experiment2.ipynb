{
 "cells": [
  {
   "cell_type": "code",
   "execution_count": null,
   "metadata": {},
   "outputs": [],
   "source": [
    "# # uncomment and run to install any required modules from requirements.txt\n",
    "# import sys\n",
    "# !{sys.executable} -m pip install -r requirements.txt"
   ]
  },
  {
   "cell_type": "markdown",
   "metadata": {},
   "source": [
    "# NP-FAERS model train and test\n",
    "This notebook uses the natural products annotation corpus to train and test a Siamese recurrent network that maps strings in FAERS to standardized natural product names."
   ]
  },
  {
   "cell_type": "markdown",
   "metadata": {
    "id": "1_cRcHZj3voR"
   },
   "source": [
    "# Load data"
   ]
  },
  {
   "cell_type": "code",
   "execution_count": 1,
   "metadata": {
    "id": "F57wsYMU2IGZ"
   },
   "outputs": [],
   "source": [
    "import numpy as np\n",
    "import pandas as pd\n",
    "import pickle\n",
    "import matplotlib.pyplot as plt\n",
    "import seaborn as sns\n",
    "from IPython.display import display, clear_output\n",
    "import re"
   ]
  },
  {
   "cell_type": "markdown",
   "metadata": {},
   "source": [
    "## Preprocess Data\n",
    "\n",
    "1. Remove digits and punctuation\n",
    "2. Upper case\n",
    "3. Mutating strings (not in this version)"
   ]
  },
  {
   "cell_type": "code",
   "execution_count": 2,
   "metadata": {},
   "outputs": [
    {
     "name": "stdout",
     "output_type": "stream",
     "text": [
      "<class 'pandas.core.frame.DataFrame'>\n",
      "RangeIndex: 5358 entries, 0 to 5357\n",
      "Data columns (total 2 columns):\n",
      " #   Column            Non-Null Count  Dtype \n",
      "---  ------            --------------  ----- \n",
      " 0   FAERS_drug_match  5358 non-null   object\n",
      " 1   lookup_value      5358 non-null   object\n",
      "dtypes: object(2)\n",
      "memory usage: 83.8+ KB\n"
     ]
    }
   ],
   "source": [
    "#if starting from preprocess, load the drugs directly\n",
    "df = pd.read_csv('data/NP_FAERS_mapped_20220215.csv')\n",
    "df.info()"
   ]
  },
  {
   "cell_type": "code",
   "execution_count": null,
   "metadata": {},
   "outputs": [],
   "source": []
  },
  {
   "cell_type": "code",
   "execution_count": 3,
   "metadata": {},
   "outputs": [],
   "source": [
    "#make all casing upper\n",
    "df['FAERS_drug_match'] = df['FAERS_drug_match'].str.upper()\n",
    "df['lookup_value'] = df['lookup_value'].str.upper()"
   ]
  },
  {
   "cell_type": "code",
   "execution_count": 4,
   "metadata": {},
   "outputs": [
    {
     "data": {
      "text/html": [
       "<div>\n",
       "<style scoped>\n",
       "    .dataframe tbody tr th:only-of-type {\n",
       "        vertical-align: middle;\n",
       "    }\n",
       "\n",
       "    .dataframe tbody tr th {\n",
       "        vertical-align: top;\n",
       "    }\n",
       "\n",
       "    .dataframe thead th {\n",
       "        text-align: right;\n",
       "    }\n",
       "</style>\n",
       "<table border=\"1\" class=\"dataframe\">\n",
       "  <thead>\n",
       "    <tr style=\"text-align: right;\">\n",
       "      <th></th>\n",
       "      <th>FAERS_drug_match</th>\n",
       "      <th>lookup_value</th>\n",
       "    </tr>\n",
       "  </thead>\n",
       "  <tbody>\n",
       "    <tr>\n",
       "      <th>0</th>\n",
       "      <td>ADRENAL HEALTH (BRAND) = (SIBERIAN RHODIOLA, R...</td>\n",
       "      <td>ASHWAGANDA</td>\n",
       "    </tr>\n",
       "    <tr>\n",
       "      <th>1</th>\n",
       "      <td>ASHWAGANDHA</td>\n",
       "      <td>ASHWAGANDA</td>\n",
       "    </tr>\n",
       "    <tr>\n",
       "      <th>2</th>\n",
       "      <td>ASHWAGANDHA,</td>\n",
       "      <td>ASHWAGANDA</td>\n",
       "    </tr>\n",
       "    <tr>\n",
       "      <th>3</th>\n",
       "      <td>ASHWAGANDHA                        /01660201/</td>\n",
       "      <td>ASHWAGANDA</td>\n",
       "    </tr>\n",
       "    <tr>\n",
       "      <th>4</th>\n",
       "      <td>ASHWAGANDHA /01660201/</td>\n",
       "      <td>ASHWAGANDA</td>\n",
       "    </tr>\n",
       "  </tbody>\n",
       "</table>\n",
       "</div>"
      ],
      "text/plain": [
       "                                    FAERS_drug_match lookup_value\n",
       "0  ADRENAL HEALTH (BRAND) = (SIBERIAN RHODIOLA, R...   ASHWAGANDA\n",
       "1                                        ASHWAGANDHA   ASHWAGANDA\n",
       "2                                       ASHWAGANDHA,   ASHWAGANDA\n",
       "3      ASHWAGANDHA                        /01660201/   ASHWAGANDA\n",
       "4                             ASHWAGANDHA /01660201/   ASHWAGANDA"
      ]
     },
     "execution_count": 4,
     "metadata": {},
     "output_type": "execute_result"
    }
   ],
   "source": [
    "df.head()"
   ]
  },
  {
   "cell_type": "code",
   "execution_count": 5,
   "metadata": {},
   "outputs": [
    {
     "data": {
      "text/plain": [
       "(126,)"
      ]
     },
     "execution_count": 5,
     "metadata": {},
     "output_type": "execute_result"
    }
   ],
   "source": [
    "df.lookup_value.unique().shape"
   ]
  },
  {
   "cell_type": "markdown",
   "metadata": {
    "id": "XcwyIySOVWhE"
   },
   "source": [
    "# RNN character-based encoder - Siamese Network\n",
    "\n",
    "## Experiments\n",
    "1. Unique natural product strings \n",
    "2. Unique natural product string - negative pairs random also\n",
    "3. Unique natural product strings with indications\n",
    "4. Mutations?\n",
    "\n",
    "### Set up positive pairs and negative pairs  \n",
    "  - positive pairs coded 'yes' in annotation corpus\n",
    "  - negative pairs coded 'no' in annotation corpus and random from train data"
   ]
  },
  {
   "cell_type": "code",
   "execution_count": 6,
   "metadata": {},
   "outputs": [],
   "source": [
    "import tensorflow as tf\n",
    "import string\n",
    "import random\n",
    "from sklearn.utils import shuffle\n",
    "from sklearn.model_selection import train_test_split"
   ]
  },
  {
   "cell_type": "markdown",
   "metadata": {
    "id": "vjuG5RMrVx-A"
   },
   "source": [
    "## Functions to process data"
   ]
  },
  {
   "cell_type": "code",
   "execution_count": 7,
   "metadata": {},
   "outputs": [],
   "source": [
    "# how i add noise \n",
    "# string w \n",
    "# proportion of noise added \n",
    "# uniform random from [0,1]\n",
    "# if <1/3 edit one position with new random character, else if <2/3 delete one position, else add one random character \n",
    "def add_noise(w, percent):\n",
    "  ''' edit, del, add'''\n",
    "  positions = random.choices(range(len(w)), k=int(percent*len(w)))\n",
    "  for p in positions:\n",
    "    r = random.random()\n",
    "    if r <= 0.3333: # edit\n",
    "      w = w[:p] + random.choice(string.ascii_uppercase) + w[p+1:]\n",
    "    elif r<= 0.6667: # delete\n",
    "      w = w[:p] + w[p+1:]\n",
    "    elif r<=1: # add\n",
    "      w = w[:p] + random.choice(string.ascii_uppercase) + w[p:]\n",
    "  return w\n",
    "\n",
    "def clean(text):\n",
    "    #remove all non-ascii, special characters and keep alphabets and space only. Can also use isalpha()\n",
    "    #convert to uppercase\n",
    "    #remove extra spaces\n",
    "    regex = re.compile('[^a-zA-Z ]')\n",
    "    r = regex.sub('', text)\n",
    "    result = re.sub(' +', ' ', r)\n",
    "    result = result.strip()\n",
    "    return result.upper()"
   ]
  },
  {
   "cell_type": "code",
   "execution_count": 8,
   "metadata": {
    "id": "F50Y3uz-Foo0"
   },
   "outputs": [],
   "source": [
    "def clean_dataset(data):\n",
    "  x = []\n",
    "  y = []\n",
    "  for i in range(data.shape[0]):\n",
    "    w = clean(data.FAERS_drug_match.iloc[i])\n",
    "    v = clean(data.lookup_value.iloc[i])\n",
    "    x.append(w)\n",
    "    y.append(v)\n",
    "  return x,y\n",
    "\n",
    "def encode_dataset(x,y):\n",
    "  encode_dict = {l:i+1 for i,l in enumerate(string.ascii_uppercase + \" \")}\n",
    "  Xtrain = [[encode_dict[m] for m in n] for n in x]\n",
    "  Ytrain = [[encode_dict[m] for m in n] for n in y]\n",
    "  return Xtrain, Ytrain\n",
    "\n",
    "def clean_encode_padding(q, maxlen):\n",
    "  q = clean(q)\n",
    "  encode_dict = {l:i+1 for i,l in enumerate(string.ascii_uppercase + \" \")}\n",
    "  return tf.keras.preprocessing.sequence.pad_sequences(\n",
    "    [encode_dict[m] for m in q] , padding=\"post\", maxlen=maxlen)\n",
    "\n",
    "def padding_dataset(X,Y,maxlen):\n",
    "  padded_y = tf.keras.preprocessing.sequence.pad_sequences(\n",
    "    Y, padding=\"post\", maxlen=maxlen)\n",
    "  padded_x = tf.keras.preprocessing.sequence.pad_sequences(\n",
    "      X, padding=\"post\", maxlen=maxlen)\n",
    "  return padded_x, padded_y\n"
   ]
  },
  {
   "cell_type": "code",
   "execution_count": 9,
   "metadata": {},
   "outputs": [],
   "source": [
    "def cosine_distance(vects):\n",
    "    x, y = vects\n",
    "    return 1-tf.reduce_sum(tf.multiply(x,y),axis=1, keepdims=True)/(tf.norm(x,axis=1,keepdims=True)*tf.norm(y,axis=1,keepdims=True))\n",
    "\n",
    "def loss(margin=1):\n",
    "    def contrastive_loss(y_true, y_pred):\n",
    "        square_pred = tf.math.square(y_pred)\n",
    "        margin_square = tf.math.square(tf.math.maximum(margin - (y_pred), 0))\n",
    "        return tf.math.reduce_mean(\n",
    "            (1 - y_true) * square_pred + (y_true) * margin_square\n",
    "        )\n",
    "\n",
    "    return contrastive_loss"
   ]
  },
  {
   "cell_type": "code",
   "execution_count": 10,
   "metadata": {},
   "outputs": [],
   "source": [
    "def plt_metric(history, metric, title, has_valid=True):\n",
    "    \"\"\"Plots the given 'metric' from 'history'.\n",
    "\n",
    "    Arguments:\n",
    "        history: history attribute of History object returned from Model.fit.\n",
    "        metric: Metric to plot, a string value present as key in 'history'.\n",
    "        title: A string to be used as title of plot.\n",
    "        has_valid: Boolean, true if valid data was passed to Model.fit else false.\n",
    "\n",
    "    Returns:\n",
    "        None.\n",
    "    \"\"\"\n",
    "    plt.plot(history[metric])\n",
    "    if has_valid:\n",
    "        plt.plot(history[\"val_\" + metric])\n",
    "        plt.legend([\"train\", \"validation\"], loc=\"upper left\")\n",
    "    plt.title(title)\n",
    "    plt.ylabel(metric)\n",
    "    plt.xlabel(\"epoch\")\n",
    "    plt.show()\n"
   ]
  },
  {
   "cell_type": "code",
   "execution_count": null,
   "metadata": {},
   "outputs": [],
   "source": []
  },
  {
   "cell_type": "code",
   "execution_count": null,
   "metadata": {},
   "outputs": [],
   "source": []
  },
  {
   "cell_type": "code",
   "execution_count": null,
   "metadata": {},
   "outputs": [],
   "source": []
  },
  {
   "cell_type": "markdown",
   "metadata": {},
   "source": [
    "## Experiment 2 - combined negative pairs from random train and reference set"
   ]
  },
  {
   "cell_type": "code",
   "execution_count": 11,
   "metadata": {},
   "outputs": [],
   "source": [
    "train, test = train_test_split(df, test_size=0.20, random_state=42)"
   ]
  },
  {
   "cell_type": "code",
   "execution_count": 12,
   "metadata": {},
   "outputs": [
    {
     "data": {
      "text/plain": [
       "(4286, 2)"
      ]
     },
     "execution_count": 12,
     "metadata": {},
     "output_type": "execute_result"
    }
   ],
   "source": [
    "train.shape"
   ]
  },
  {
   "cell_type": "code",
   "execution_count": 13,
   "metadata": {},
   "outputs": [
    {
     "data": {
      "text/plain": [
       "(1072, 2)"
      ]
     },
     "execution_count": 13,
     "metadata": {},
     "output_type": "execute_result"
    }
   ],
   "source": [
    "test.shape"
   ]
  },
  {
   "cell_type": "code",
   "execution_count": 14,
   "metadata": {},
   "outputs": [],
   "source": [
    "#padding length = maxlen\n",
    "maxlen = 60"
   ]
  },
  {
   "cell_type": "code",
   "execution_count": 15,
   "metadata": {
    "id": "_BERqTAvuDD0"
   },
   "outputs": [],
   "source": [
    "xtest, ytest = clean_dataset(test)\n",
    "Xtest, Ytest = encode_dataset(xtest,ytest)\n",
    "padded_xTest, padded_yTest = padding_dataset(Xtest,Ytest,maxlen)"
   ]
  },
  {
   "cell_type": "code",
   "execution_count": 16,
   "metadata": {
    "colab": {
     "base_uri": "https://localhost:8080/"
    },
    "id": "zK7ltkhGudRw",
    "outputId": "7ee378b9-809f-4fa8-9095-40e3e9863c17"
   },
   "outputs": [
    {
     "data": {
      "text/plain": [
       "(1072, 60)"
      ]
     },
     "execution_count": 16,
     "metadata": {},
     "output_type": "execute_result"
    }
   ],
   "source": [
    "padded_xTest.shape"
   ]
  },
  {
   "cell_type": "code",
   "execution_count": 17,
   "metadata": {},
   "outputs": [],
   "source": [
    "#without noise (Experiment 1)\n",
    "x, y = clean_dataset(train)"
   ]
  },
  {
   "cell_type": "code",
   "execution_count": 18,
   "metadata": {},
   "outputs": [
    {
     "data": {
      "text/plain": [
       "4286"
      ]
     },
     "execution_count": 18,
     "metadata": {},
     "output_type": "execute_result"
    }
   ],
   "source": [
    "len(y)"
   ]
  },
  {
   "cell_type": "code",
   "execution_count": 19,
   "metadata": {
    "id": "J5xe73atmHh9"
   },
   "outputs": [],
   "source": [
    "encode_dict = {l:i+1 for i,l in enumerate(string.ascii_uppercase + \" \")}"
   ]
  },
  {
   "cell_type": "code",
   "execution_count": 20,
   "metadata": {
    "id": "CccvDAPMmfy_"
   },
   "outputs": [],
   "source": [
    "Xtrain = [[encode_dict[m] for m in n] for n in x]\n",
    "Ytrain = [[encode_dict[m] for m in n] for n in y]"
   ]
  },
  {
   "cell_type": "code",
   "execution_count": 21,
   "metadata": {},
   "outputs": [
    {
     "name": "stdout",
     "output_type": "stream",
     "text": [
      "4286\n",
      "4286\n"
     ]
    },
    {
     "name": "stderr",
     "output_type": "stream",
     "text": [
      "/home/sanya/.conda/envs/faers-embed/lib/python3.8/site-packages/numpy/lib/arraysetops.py:270: VisibleDeprecationWarning: Creating an ndarray from ragged nested sequences (which is a list-or-tuple of lists-or-tuples-or ndarrays with different lengths or shapes) is deprecated. If you meant to do this, you must specify 'dtype=object' when creating the ndarray.\n",
      "  ar = np.asanyarray(ar)\n"
     ]
    },
    {
     "data": {
      "text/plain": [
       "(125,)"
      ]
     },
     "execution_count": 21,
     "metadata": {},
     "output_type": "execute_result"
    }
   ],
   "source": [
    "print(len(Xtrain))\n",
    "print(len(Ytrain))\n",
    "np.unique(Ytrain).shape"
   ]
  },
  {
   "cell_type": "code",
   "execution_count": 22,
   "metadata": {
    "colab": {
     "base_uri": "https://localhost:8080/"
    },
    "id": "LIFksoPYnedl",
    "outputId": "429207d8-ca85-4efb-fce2-d76955b83ea7"
   },
   "outputs": [
    {
     "name": "stdout",
     "output_type": "stream",
     "text": [
      "[[19  5 18 ...  0  0  0]\n",
      " [15 16  8 ...  0  0  0]\n",
      " [ 3  9 14 ...  0  0  0]\n",
      " ...\n",
      " [ 1 12 12 ...  0  0  0]\n",
      " [ 1 12 12 ...  0  0  0]\n",
      " [ 8  5 13 ...  0  0  0]]\n"
     ]
    }
   ],
   "source": [
    "padded_y = tf.keras.preprocessing.sequence.pad_sequences(\n",
    "    Ytrain, padding=\"post\", maxlen=maxlen\n",
    ")\n",
    "padded_x = tf.keras.preprocessing.sequence.pad_sequences(\n",
    "    Xtrain, padding=\"post\", maxlen=maxlen\n",
    ")\n",
    "\n",
    "print(padded_y)"
   ]
  },
  {
   "cell_type": "code",
   "execution_count": 23,
   "metadata": {
    "colab": {
     "base_uri": "https://localhost:8080/"
    },
    "id": "yze_g-sdwMmQ",
    "outputId": "6bfa8246-414f-405f-849f-32cd25a5a270"
   },
   "outputs": [
    {
     "data": {
      "text/plain": [
       "27"
      ]
     },
     "execution_count": 23,
     "metadata": {},
     "output_type": "execute_result"
    }
   ],
   "source": [
    "len(encode_dict)"
   ]
  },
  {
   "cell_type": "code",
   "execution_count": 24,
   "metadata": {},
   "outputs": [
    {
     "data": {
      "text/html": [
       "<div>\n",
       "<style scoped>\n",
       "    .dataframe tbody tr th:only-of-type {\n",
       "        vertical-align: middle;\n",
       "    }\n",
       "\n",
       "    .dataframe tbody tr th {\n",
       "        vertical-align: top;\n",
       "    }\n",
       "\n",
       "    .dataframe thead th {\n",
       "        text-align: right;\n",
       "    }\n",
       "</style>\n",
       "<table border=\"1\" class=\"dataframe\">\n",
       "  <thead>\n",
       "    <tr style=\"text-align: right;\">\n",
       "      <th></th>\n",
       "      <th>dUnique_label</th>\n",
       "      <th>dUnique_seq</th>\n",
       "      <th>dUnique_seq_padded</th>\n",
       "    </tr>\n",
       "  </thead>\n",
       "  <tbody>\n",
       "    <tr>\n",
       "      <th>0</th>\n",
       "      <td>ACTAEA RACEMOSA</td>\n",
       "      <td>NaN</td>\n",
       "      <td>NaN</td>\n",
       "    </tr>\n",
       "    <tr>\n",
       "      <th>1</th>\n",
       "      <td>AESCULUS HIPPOCASTANUM</td>\n",
       "      <td>NaN</td>\n",
       "      <td>NaN</td>\n",
       "    </tr>\n",
       "    <tr>\n",
       "      <th>2</th>\n",
       "      <td>ALLIUM SATIVUM</td>\n",
       "      <td>NaN</td>\n",
       "      <td>NaN</td>\n",
       "    </tr>\n",
       "    <tr>\n",
       "      <th>3</th>\n",
       "      <td>ALOE VERA</td>\n",
       "      <td>NaN</td>\n",
       "      <td>NaN</td>\n",
       "    </tr>\n",
       "    <tr>\n",
       "      <th>4</th>\n",
       "      <td>ANGELICA SINENSIS</td>\n",
       "      <td>NaN</td>\n",
       "      <td>NaN</td>\n",
       "    </tr>\n",
       "  </tbody>\n",
       "</table>\n",
       "</div>"
      ],
      "text/plain": [
       "            dUnique_label dUnique_seq dUnique_seq_padded\n",
       "0         ACTAEA RACEMOSA         NaN                NaN\n",
       "1  AESCULUS HIPPOCASTANUM         NaN                NaN\n",
       "2          ALLIUM SATIVUM         NaN                NaN\n",
       "3               ALOE VERA         NaN                NaN\n",
       "4       ANGELICA SINENSIS         NaN                NaN"
      ]
     },
     "execution_count": 24,
     "metadata": {},
     "output_type": "execute_result"
    }
   ],
   "source": [
    "dUnique_df = pd.DataFrame(columns = ['dUnique_label','dUnique_seq', 'dUnique_seq_padded'])\n",
    "dUnique_df['dUnique_label'] = np.unique(y)\n",
    "dUnique_df.head()"
   ]
  },
  {
   "cell_type": "code",
   "execution_count": 25,
   "metadata": {},
   "outputs": [
    {
     "data": {
      "text/plain": [
       "125"
      ]
     },
     "execution_count": 25,
     "metadata": {},
     "output_type": "execute_result"
    }
   ],
   "source": [
    "dUnique_seq_list = [[encode_dict[m] for m in n] for n in dUnique_df['dUnique_label'].tolist()]\n",
    "len(dUnique_seq_list)"
   ]
  },
  {
   "cell_type": "code",
   "execution_count": 26,
   "metadata": {},
   "outputs": [
    {
     "data": {
      "text/html": [
       "<div>\n",
       "<style scoped>\n",
       "    .dataframe tbody tr th:only-of-type {\n",
       "        vertical-align: middle;\n",
       "    }\n",
       "\n",
       "    .dataframe tbody tr th {\n",
       "        vertical-align: top;\n",
       "    }\n",
       "\n",
       "    .dataframe thead th {\n",
       "        text-align: right;\n",
       "    }\n",
       "</style>\n",
       "<table border=\"1\" class=\"dataframe\">\n",
       "  <thead>\n",
       "    <tr style=\"text-align: right;\">\n",
       "      <th></th>\n",
       "      <th>dUnique_label</th>\n",
       "      <th>dUnique_seq</th>\n",
       "      <th>dUnique_seq_padded</th>\n",
       "    </tr>\n",
       "  </thead>\n",
       "  <tbody>\n",
       "    <tr>\n",
       "      <th>0</th>\n",
       "      <td>ACTAEA RACEMOSA</td>\n",
       "      <td>[1, 3, 20, 1, 5, 1, 27, 18, 1, 3, 5, 13, 15, 1...</td>\n",
       "      <td>NaN</td>\n",
       "    </tr>\n",
       "    <tr>\n",
       "      <th>1</th>\n",
       "      <td>AESCULUS HIPPOCASTANUM</td>\n",
       "      <td>[1, 5, 19, 3, 21, 12, 21, 19, 27, 8, 9, 16, 16...</td>\n",
       "      <td>NaN</td>\n",
       "    </tr>\n",
       "    <tr>\n",
       "      <th>2</th>\n",
       "      <td>ALLIUM SATIVUM</td>\n",
       "      <td>[1, 12, 12, 9, 21, 13, 27, 19, 1, 20, 9, 22, 2...</td>\n",
       "      <td>NaN</td>\n",
       "    </tr>\n",
       "    <tr>\n",
       "      <th>3</th>\n",
       "      <td>ALOE VERA</td>\n",
       "      <td>[1, 12, 15, 5, 27, 22, 5, 18, 1]</td>\n",
       "      <td>NaN</td>\n",
       "    </tr>\n",
       "    <tr>\n",
       "      <th>4</th>\n",
       "      <td>ANGELICA SINENSIS</td>\n",
       "      <td>[1, 14, 7, 5, 12, 9, 3, 1, 27, 19, 9, 14, 5, 1...</td>\n",
       "      <td>NaN</td>\n",
       "    </tr>\n",
       "  </tbody>\n",
       "</table>\n",
       "</div>"
      ],
      "text/plain": [
       "            dUnique_label                                        dUnique_seq  \\\n",
       "0         ACTAEA RACEMOSA  [1, 3, 20, 1, 5, 1, 27, 18, 1, 3, 5, 13, 15, 1...   \n",
       "1  AESCULUS HIPPOCASTANUM  [1, 5, 19, 3, 21, 12, 21, 19, 27, 8, 9, 16, 16...   \n",
       "2          ALLIUM SATIVUM  [1, 12, 12, 9, 21, 13, 27, 19, 1, 20, 9, 22, 2...   \n",
       "3               ALOE VERA                   [1, 12, 15, 5, 27, 22, 5, 18, 1]   \n",
       "4       ANGELICA SINENSIS  [1, 14, 7, 5, 12, 9, 3, 1, 27, 19, 9, 14, 5, 1...   \n",
       "\n",
       "  dUnique_seq_padded  \n",
       "0                NaN  \n",
       "1                NaN  \n",
       "2                NaN  \n",
       "3                NaN  \n",
       "4                NaN  "
      ]
     },
     "execution_count": 26,
     "metadata": {},
     "output_type": "execute_result"
    }
   ],
   "source": [
    "for i in range(len(dUnique_df.index)):\n",
    "    dUnique_df.at[i, 'dUnique_seq'] = np.array(dUnique_seq_list[i])\n",
    "dUnique_df.head()"
   ]
  },
  {
   "cell_type": "code",
   "execution_count": 27,
   "metadata": {
    "colab": {
     "base_uri": "https://localhost:8080/"
    },
    "id": "fK6PmQSH0nU0",
    "outputId": "ec68b153-a655-4406-f675-e723816cc09e"
   },
   "outputs": [
    {
     "name": "stdout",
     "output_type": "stream",
     "text": [
      "<class 'pandas.core.frame.DataFrame'>\n",
      "RangeIndex: 9242 entries, 0 to 9241\n",
      "Data columns (total 2 columns):\n",
      " #   Column            Non-Null Count  Dtype \n",
      "---  ------            --------------  ----- \n",
      " 0   FAERS_drug_match  9242 non-null   object\n",
      " 1   lookup_value      9242 non-null   object\n",
      "dtypes: object(2)\n",
      "memory usage: 144.5+ KB\n"
     ]
    }
   ],
   "source": [
    "#setup negative pairs\n",
    "dfneg = pd.read_csv('data/NP_FAERS_negative_pairs_20220215.csv')\n",
    "dfneg.info()"
   ]
  },
  {
   "cell_type": "code",
   "execution_count": 28,
   "metadata": {},
   "outputs": [],
   "source": [
    "#encode negative pairs and add padding\n",
    "xneg, yneg = clean_dataset(dfneg)\n",
    "Xneg, Yneg = encode_dataset(xneg,yneg)\n",
    "padded_xneg, padded_yneg = padding_dataset(Xneg,Yneg,maxlen)"
   ]
  },
  {
   "cell_type": "code",
   "execution_count": 29,
   "metadata": {},
   "outputs": [],
   "source": [
    "dUnique = tf.keras.preprocessing.sequence.pad_sequences(\n",
    "    list(dUnique_df['dUnique_seq']), padding=\"post\", maxlen=maxlen)"
   ]
  },
  {
   "cell_type": "code",
   "execution_count": 30,
   "metadata": {},
   "outputs": [
    {
     "data": {
      "text/html": [
       "<div>\n",
       "<style scoped>\n",
       "    .dataframe tbody tr th:only-of-type {\n",
       "        vertical-align: middle;\n",
       "    }\n",
       "\n",
       "    .dataframe tbody tr th {\n",
       "        vertical-align: top;\n",
       "    }\n",
       "\n",
       "    .dataframe thead th {\n",
       "        text-align: right;\n",
       "    }\n",
       "</style>\n",
       "<table border=\"1\" class=\"dataframe\">\n",
       "  <thead>\n",
       "    <tr style=\"text-align: right;\">\n",
       "      <th></th>\n",
       "      <th>FAERS_drug_match</th>\n",
       "      <th>lookup_value</th>\n",
       "    </tr>\n",
       "  </thead>\n",
       "  <tbody>\n",
       "    <tr>\n",
       "      <th>3956</th>\n",
       "      <td>SERENOA REPENS/SERENOA REPENS EXTRACT/SERENOA ...</td>\n",
       "      <td>SERENOA REPENS</td>\n",
       "    </tr>\n",
       "    <tr>\n",
       "      <th>4408</th>\n",
       "      <td>CORDYCEPS</td>\n",
       "      <td>OPHIOCORDYCEPS SINENSIS</td>\n",
       "    </tr>\n",
       "    <tr>\n",
       "      <th>120</th>\n",
       "      <td>CINNAMON (CINNAMOUM VERUM) (CAPSULES)</td>\n",
       "      <td>CINNAMON</td>\n",
       "    </tr>\n",
       "    <tr>\n",
       "      <th>3311</th>\n",
       "      <td>CHROMIUM PICOLINATE WITH GREEN TEA</td>\n",
       "      <td>CAMELLIA SINENSIS</td>\n",
       "    </tr>\n",
       "    <tr>\n",
       "      <th>1921</th>\n",
       "      <td>BARLEY.</td>\n",
       "      <td>BARLEY GRASS</td>\n",
       "    </tr>\n",
       "  </tbody>\n",
       "</table>\n",
       "</div>"
      ],
      "text/plain": [
       "                                       FAERS_drug_match  \\\n",
       "3956  SERENOA REPENS/SERENOA REPENS EXTRACT/SERENOA ...   \n",
       "4408                                          CORDYCEPS   \n",
       "120               CINNAMON (CINNAMOUM VERUM) (CAPSULES)   \n",
       "3311                 CHROMIUM PICOLINATE WITH GREEN TEA   \n",
       "1921                                            BARLEY.   \n",
       "\n",
       "                 lookup_value  \n",
       "3956           SERENOA REPENS  \n",
       "4408  OPHIOCORDYCEPS SINENSIS  \n",
       "120                  CINNAMON  \n",
       "3311        CAMELLIA SINENSIS  \n",
       "1921             BARLEY GRASS  "
      ]
     },
     "execution_count": 30,
     "metadata": {},
     "output_type": "execute_result"
    }
   ],
   "source": [
    "train.head()"
   ]
  },
  {
   "cell_type": "code",
   "execution_count": 31,
   "metadata": {},
   "outputs": [
    {
     "data": {
      "text/plain": [
       "125"
      ]
     },
     "execution_count": 31,
     "metadata": {},
     "output_type": "execute_result"
    }
   ],
   "source": [
    "np_unique = dUnique_df.dUnique_label.tolist()\n",
    "len(np_unique)"
   ]
  },
  {
   "cell_type": "code",
   "execution_count": 32,
   "metadata": {},
   "outputs": [
    {
     "name": "stdout",
     "output_type": "stream",
     "text": [
      "4286 4286 4286\n"
     ]
    }
   ],
   "source": [
    "#add positive pairs\n",
    "x1TrainRNN = []\n",
    "x2TrainRNN = []\n",
    "yTrainRNN = []\n",
    "for i in range(len(padded_x)):\n",
    "    yTrainRNN.append(1)\n",
    "    x1TrainRNN.append(padded_x[i])\n",
    "    x2TrainRNN.append(padded_y[i])\n",
    "print(len(x1TrainRNN), len(x2TrainRNN), len(yTrainRNN))"
   ]
  },
  {
   "cell_type": "code",
   "execution_count": 33,
   "metadata": {},
   "outputs": [
    {
     "data": {
      "text/html": [
       "<div>\n",
       "<style scoped>\n",
       "    .dataframe tbody tr th:only-of-type {\n",
       "        vertical-align: middle;\n",
       "    }\n",
       "\n",
       "    .dataframe tbody tr th {\n",
       "        vertical-align: top;\n",
       "    }\n",
       "\n",
       "    .dataframe thead th {\n",
       "        text-align: right;\n",
       "    }\n",
       "</style>\n",
       "<table border=\"1\" class=\"dataframe\">\n",
       "  <thead>\n",
       "    <tr style=\"text-align: right;\">\n",
       "      <th></th>\n",
       "      <th>index</th>\n",
       "      <th>FAERS_drug_match</th>\n",
       "      <th>lookup_value</th>\n",
       "    </tr>\n",
       "  </thead>\n",
       "  <tbody>\n",
       "    <tr>\n",
       "      <th>0</th>\n",
       "      <td>3956</td>\n",
       "      <td>SERENOA REPENS/SERENOA REPENS EXTRACT/SERENOA ...</td>\n",
       "      <td>SERENOA REPENS</td>\n",
       "    </tr>\n",
       "    <tr>\n",
       "      <th>1</th>\n",
       "      <td>4408</td>\n",
       "      <td>CORDYCEPS</td>\n",
       "      <td>OPHIOCORDYCEPS SINENSIS</td>\n",
       "    </tr>\n",
       "    <tr>\n",
       "      <th>2</th>\n",
       "      <td>120</td>\n",
       "      <td>CINNAMON (CINNAMOUM VERUM) (CAPSULES)</td>\n",
       "      <td>CINNAMON</td>\n",
       "    </tr>\n",
       "    <tr>\n",
       "      <th>3</th>\n",
       "      <td>3311</td>\n",
       "      <td>CHROMIUM PICOLINATE WITH GREEN TEA</td>\n",
       "      <td>CAMELLIA SINENSIS</td>\n",
       "    </tr>\n",
       "    <tr>\n",
       "      <th>4</th>\n",
       "      <td>1921</td>\n",
       "      <td>BARLEY.</td>\n",
       "      <td>BARLEY GRASS</td>\n",
       "    </tr>\n",
       "  </tbody>\n",
       "</table>\n",
       "</div>"
      ],
      "text/plain": [
       "   index                                   FAERS_drug_match  \\\n",
       "0   3956  SERENOA REPENS/SERENOA REPENS EXTRACT/SERENOA ...   \n",
       "1   4408                                          CORDYCEPS   \n",
       "2    120              CINNAMON (CINNAMOUM VERUM) (CAPSULES)   \n",
       "3   3311                 CHROMIUM PICOLINATE WITH GREEN TEA   \n",
       "4   1921                                            BARLEY.   \n",
       "\n",
       "              lookup_value  \n",
       "0           SERENOA REPENS  \n",
       "1  OPHIOCORDYCEPS SINENSIS  \n",
       "2                 CINNAMON  \n",
       "3        CAMELLIA SINENSIS  \n",
       "4             BARLEY GRASS  "
      ]
     },
     "execution_count": 33,
     "metadata": {},
     "output_type": "execute_result"
    }
   ],
   "source": [
    "train_res = train.reset_index()\n",
    "train_res.head()"
   ]
  },
  {
   "cell_type": "code",
   "execution_count": 34,
   "metadata": {},
   "outputs": [
    {
     "data": {
      "text/plain": [
       "16895"
      ]
     },
     "execution_count": 34,
     "metadata": {},
     "output_type": "execute_result"
    }
   ],
   "source": [
    "#take negative pairs from training data\n",
    "faers_match = []\n",
    "lookup = []\n",
    "for i in range(len(train_res)):\n",
    "    np_name = train_res.at[i, 'FAERS_drug_match']\n",
    "    for j in random.choices(range(len(np_unique)), k=4):\n",
    "        np_temp = np_unique[j]\n",
    "        np_match = train_res.loc[train_res['FAERS_drug_match'] == np_name].lookup_value.tolist()\n",
    "        if np_temp not in np_match:\n",
    "            faers_match.append(np_name)\n",
    "            lookup.append(np_temp)\n",
    "len(faers_match)"
   ]
  },
  {
   "cell_type": "code",
   "execution_count": 35,
   "metadata": {},
   "outputs": [],
   "source": [
    "dfneg2 = pd.DataFrame(columns=['FAERS_drug_match', 'lookup_value'])\n",
    "dfneg2['FAERS_drug_match'] = faers_match\n",
    "dfneg2['lookup_value'] = lookup\n",
    "xneg2, yneg2 = clean_dataset(dfneg2)\n",
    "Xneg2, Yneg2 = encode_dataset(xneg2,yneg2)\n",
    "padded_xneg2, padded_yneg2 = padding_dataset(Xneg2,Yneg2,maxlen)"
   ]
  },
  {
   "cell_type": "code",
   "execution_count": 36,
   "metadata": {},
   "outputs": [
    {
     "name": "stdout",
     "output_type": "stream",
     "text": [
      "21181 21181 21181\n"
     ]
    }
   ],
   "source": [
    "##add negative pairs from training data\n",
    "for j in range(len(padded_xneg2)):\n",
    "    yTrainRNN.append(0)\n",
    "    x1TrainRNN.append(padded_xneg2[j])\n",
    "    x2TrainRNN.append(padded_yneg2[j])\n",
    "print(len(x1TrainRNN), len(x2TrainRNN), len(yTrainRNN))"
   ]
  },
  {
   "cell_type": "code",
   "execution_count": 37,
   "metadata": {},
   "outputs": [
    {
     "name": "stdout",
     "output_type": "stream",
     "text": [
      "30423 30423 30423\n"
     ]
    }
   ],
   "source": [
    "##add negative pairs from reference set\n",
    "for j in range(len(padded_xneg)):\n",
    "    yTrainRNN.append(0)\n",
    "    x1TrainRNN.append(padded_xneg[j])\n",
    "    x2TrainRNN.append(padded_yneg[j])\n",
    "print(len(x1TrainRNN), len(x2TrainRNN), len(yTrainRNN))"
   ]
  },
  {
   "cell_type": "code",
   "execution_count": 38,
   "metadata": {},
   "outputs": [
    {
     "data": {
      "text/html": [
       "<div>\n",
       "<style scoped>\n",
       "    .dataframe tbody tr th:only-of-type {\n",
       "        vertical-align: middle;\n",
       "    }\n",
       "\n",
       "    .dataframe tbody tr th {\n",
       "        vertical-align: top;\n",
       "    }\n",
       "\n",
       "    .dataframe thead th {\n",
       "        text-align: right;\n",
       "    }\n",
       "</style>\n",
       "<table border=\"1\" class=\"dataframe\">\n",
       "  <thead>\n",
       "    <tr style=\"text-align: right;\">\n",
       "      <th></th>\n",
       "      <th>dUnique_label</th>\n",
       "      <th>dUnique_seq</th>\n",
       "      <th>dUnique_seq_padded</th>\n",
       "    </tr>\n",
       "  </thead>\n",
       "  <tbody>\n",
       "    <tr>\n",
       "      <th>0</th>\n",
       "      <td>ACTAEA RACEMOSA</td>\n",
       "      <td>[1, 3, 20, 1, 5, 1, 27, 18, 1, 3, 5, 13, 15, 1...</td>\n",
       "      <td>[1, 3, 20, 1, 5, 1, 27, 18, 1, 3, 5, 13, 15, 1...</td>\n",
       "    </tr>\n",
       "    <tr>\n",
       "      <th>1</th>\n",
       "      <td>AESCULUS HIPPOCASTANUM</td>\n",
       "      <td>[1, 5, 19, 3, 21, 12, 21, 19, 27, 8, 9, 16, 16...</td>\n",
       "      <td>[1, 5, 19, 3, 21, 12, 21, 19, 27, 8, 9, 16, 16...</td>\n",
       "    </tr>\n",
       "    <tr>\n",
       "      <th>2</th>\n",
       "      <td>ALLIUM SATIVUM</td>\n",
       "      <td>[1, 12, 12, 9, 21, 13, 27, 19, 1, 20, 9, 22, 2...</td>\n",
       "      <td>[1, 12, 12, 9, 21, 13, 27, 19, 1, 20, 9, 22, 2...</td>\n",
       "    </tr>\n",
       "    <tr>\n",
       "      <th>3</th>\n",
       "      <td>ALOE VERA</td>\n",
       "      <td>[1, 12, 15, 5, 27, 22, 5, 18, 1]</td>\n",
       "      <td>[1, 12, 15, 5, 27, 22, 5, 18, 1, 0, 0, 0, 0, 0...</td>\n",
       "    </tr>\n",
       "    <tr>\n",
       "      <th>4</th>\n",
       "      <td>ANGELICA SINENSIS</td>\n",
       "      <td>[1, 14, 7, 5, 12, 9, 3, 1, 27, 19, 9, 14, 5, 1...</td>\n",
       "      <td>[1, 14, 7, 5, 12, 9, 3, 1, 27, 19, 9, 14, 5, 1...</td>\n",
       "    </tr>\n",
       "  </tbody>\n",
       "</table>\n",
       "</div>"
      ],
      "text/plain": [
       "            dUnique_label                                        dUnique_seq  \\\n",
       "0         ACTAEA RACEMOSA  [1, 3, 20, 1, 5, 1, 27, 18, 1, 3, 5, 13, 15, 1...   \n",
       "1  AESCULUS HIPPOCASTANUM  [1, 5, 19, 3, 21, 12, 21, 19, 27, 8, 9, 16, 16...   \n",
       "2          ALLIUM SATIVUM  [1, 12, 12, 9, 21, 13, 27, 19, 1, 20, 9, 22, 2...   \n",
       "3               ALOE VERA                   [1, 12, 15, 5, 27, 22, 5, 18, 1]   \n",
       "4       ANGELICA SINENSIS  [1, 14, 7, 5, 12, 9, 3, 1, 27, 19, 9, 14, 5, 1...   \n",
       "\n",
       "                                  dUnique_seq_padded  \n",
       "0  [1, 3, 20, 1, 5, 1, 27, 18, 1, 3, 5, 13, 15, 1...  \n",
       "1  [1, 5, 19, 3, 21, 12, 21, 19, 27, 8, 9, 16, 16...  \n",
       "2  [1, 12, 12, 9, 21, 13, 27, 19, 1, 20, 9, 22, 2...  \n",
       "3  [1, 12, 15, 5, 27, 22, 5, 18, 1, 0, 0, 0, 0, 0...  \n",
       "4  [1, 14, 7, 5, 12, 9, 3, 1, 27, 19, 9, 14, 5, 1...  "
      ]
     },
     "execution_count": 38,
     "metadata": {},
     "output_type": "execute_result"
    }
   ],
   "source": [
    "for i in range(len(dUnique_df.index)):\n",
    "    dUnique_df.at[i, 'dUnique_seq_padded'] = dUnique[i]\n",
    "dUnique_df.head()"
   ]
  },
  {
   "cell_type": "code",
   "execution_count": 39,
   "metadata": {
    "id": "XcSCBXAf8G8D"
   },
   "outputs": [],
   "source": [
    "x1TrainRnnS, x2TrainRnnS, yTrainRnnS = shuffle(x1TrainRNN, x2TrainRNN, yTrainRNN, random_state=42)"
   ]
  },
  {
   "cell_type": "markdown",
   "metadata": {
    "id": "znoVfJBDYhLc"
   },
   "source": [
    "### build model and train"
   ]
  },
  {
   "cell_type": "code",
   "execution_count": 40,
   "metadata": {
    "colab": {
     "base_uri": "https://localhost:8080/"
    },
    "id": "mx1x0xA3uFzW",
    "outputId": "8a752be5-ba1b-4934-d4bf-eb5706e9aad5"
   },
   "outputs": [
    {
     "name": "stderr",
     "output_type": "stream",
     "text": [
      "2022-02-16 14:24:33.872445: I tensorflow/core/platform/cpu_feature_guard.cc:151] This TensorFlow binary is optimized with oneAPI Deep Neural Network Library (oneDNN) to use the following CPU instructions in performance-critical operations:  AVX2 AVX512F FMA\n",
      "To enable them in other operations, rebuild TensorFlow with the appropriate compiler flags.\n",
      "2022-02-16 14:24:34.840439: I tensorflow/core/common_runtime/gpu/gpu_device.cc:1525] Created device /job:localhost/replica:0/task:0/device:GPU:0 with 9648 MB memory:  -> device: 0, name: NVIDIA GeForce RTX 2080 Ti, pci bus id: 0000:af:00.0, compute capability: 7.5\n"
     ]
    },
    {
     "name": "stdout",
     "output_type": "stream",
     "text": [
      "(None, 60, 64)\n"
     ]
    }
   ],
   "source": [
    "input = tf.keras.layers.Input(maxlen)\n",
    "input_1 = tf.keras.layers.Input(maxlen)\n",
    "input_2 = tf.keras.layers.Input(maxlen)\n",
    "embedding = tf.keras.layers.Embedding(input_dim=28, output_dim=64, mask_zero=True)\n",
    "x = embedding(input)\n",
    "\n",
    "print(x.shape)\n",
    "x = tf.keras.layers.GRU(128)(x)\n",
    "x = tf.keras.layers.Dense(64, activation=\"tanh\")(x)\n",
    "x = tf.keras.layers.Dense(32, activation=\"tanh\")(x)\n",
    "embedding_network = tf.keras.Model(input, x)\n",
    "\n",
    "tower_1 = embedding_network(input_1)\n",
    "tower_2 = embedding_network(input_2)\n",
    "\n",
    "merge_layer = tf.keras.layers.Lambda(cosine_distance)([tower_1, tower_2])\n",
    "output_layer = tf.keras.layers.Dense(1, activation=\"sigmoid\")(merge_layer)\n",
    "siamese = tf.keras.Model(inputs=[input_1, input_2], outputs=output_layer)"
   ]
  },
  {
   "cell_type": "code",
   "execution_count": 41,
   "metadata": {
    "id": "1VAhhoIHYabz"
   },
   "outputs": [],
   "source": [
    "siamese.compile(loss=loss(margin=1), optimizer='RMSprop', metrics=[\"accuracy\"])"
   ]
  },
  {
   "cell_type": "code",
   "execution_count": 42,
   "metadata": {
    "colab": {
     "base_uri": "https://localhost:8080/"
    },
    "id": "LdTWk0jUYc9J",
    "outputId": "2e52a230-11ec-4bac-c9ee-5bb5dc8a936f"
   },
   "outputs": [
    {
     "name": "stdout",
     "output_type": "stream",
     "text": [
      "Epoch 1/100\n"
     ]
    },
    {
     "name": "stderr",
     "output_type": "stream",
     "text": [
      "2022-02-16 14:24:54.093748: I tensorflow/stream_executor/cuda/cuda_dnn.cc:366] Loaded cuDNN version 8302\n"
     ]
    },
    {
     "name": "stdout",
     "output_type": "stream",
     "text": [
      "762/762 [==============================] - 30s 22ms/step - loss: 0.1146 - accuracy: 0.8579 - val_loss: 0.0998 - val_accuracy: 0.8645\n",
      "Epoch 2/100\n",
      "762/762 [==============================] - 13s 17ms/step - loss: 0.0946 - accuracy: 0.8579 - val_loss: 0.1063 - val_accuracy: 0.8645\n",
      "Epoch 3/100\n",
      "762/762 [==============================] - 15s 20ms/step - loss: 0.0853 - accuracy: 0.8610 - val_loss: 0.0805 - val_accuracy: 0.8859\n",
      "Epoch 4/100\n",
      "762/762 [==============================] - 14s 18ms/step - loss: 0.0771 - accuracy: 0.9040 - val_loss: 0.0710 - val_accuracy: 0.9162\n",
      "Epoch 5/100\n",
      "762/762 [==============================] - 13s 17ms/step - loss: 0.0700 - accuracy: 0.9180 - val_loss: 0.0655 - val_accuracy: 0.9215\n",
      "Epoch 6/100\n",
      "762/762 [==============================] - 13s 17ms/step - loss: 0.0631 - accuracy: 0.9272 - val_loss: 0.0589 - val_accuracy: 0.9302\n",
      "Epoch 7/100\n",
      "762/762 [==============================] - 13s 17ms/step - loss: 0.0577 - accuracy: 0.9343 - val_loss: 0.0550 - val_accuracy: 0.9363\n",
      "Epoch 8/100\n",
      "762/762 [==============================] - 13s 17ms/step - loss: 0.0521 - accuracy: 0.9409 - val_loss: 0.0533 - val_accuracy: 0.9312\n",
      "Epoch 9/100\n",
      "762/762 [==============================] - 14s 18ms/step - loss: 0.0472 - accuracy: 0.9482 - val_loss: 0.0474 - val_accuracy: 0.9438\n",
      "Epoch 10/100\n",
      "762/762 [==============================] - 16s 21ms/step - loss: 0.0427 - accuracy: 0.9515 - val_loss: 0.0429 - val_accuracy: 0.9466\n",
      "Epoch 11/100\n",
      "762/762 [==============================] - 16s 21ms/step - loss: 0.0391 - accuracy: 0.9577 - val_loss: 0.0402 - val_accuracy: 0.9539\n",
      "Epoch 12/100\n",
      "762/762 [==============================] - 16s 21ms/step - loss: 0.0359 - accuracy: 0.9628 - val_loss: 0.0383 - val_accuracy: 0.9565\n",
      "Epoch 13/100\n",
      "762/762 [==============================] - 13s 17ms/step - loss: 0.0328 - accuracy: 0.9660 - val_loss: 0.0390 - val_accuracy: 0.9552\n",
      "Epoch 14/100\n",
      "762/762 [==============================] - 13s 17ms/step - loss: 0.0303 - accuracy: 0.9688 - val_loss: 0.0363 - val_accuracy: 0.9586\n",
      "Epoch 15/100\n",
      "762/762 [==============================] - 13s 17ms/step - loss: 0.0277 - accuracy: 0.9724 - val_loss: 0.0340 - val_accuracy: 0.9635\n",
      "Epoch 16/100\n",
      "762/762 [==============================] - 13s 17ms/step - loss: 0.0257 - accuracy: 0.9745 - val_loss: 0.0340 - val_accuracy: 0.9630\n",
      "Epoch 17/100\n",
      "762/762 [==============================] - 13s 17ms/step - loss: 0.0238 - accuracy: 0.9766 - val_loss: 0.0309 - val_accuracy: 0.9662\n",
      "Epoch 18/100\n",
      "762/762 [==============================] - 13s 17ms/step - loss: 0.0219 - accuracy: 0.9794 - val_loss: 0.0317 - val_accuracy: 0.9640\n",
      "Epoch 19/100\n",
      "762/762 [==============================] - 13s 18ms/step - loss: 0.0208 - accuracy: 0.9793 - val_loss: 0.0303 - val_accuracy: 0.9650\n",
      "Epoch 20/100\n",
      "762/762 [==============================] - 14s 18ms/step - loss: 0.0195 - accuracy: 0.9812 - val_loss: 0.0306 - val_accuracy: 0.9658\n",
      "Epoch 21/100\n",
      "762/762 [==============================] - 13s 18ms/step - loss: 0.0183 - accuracy: 0.9820 - val_loss: 0.0284 - val_accuracy: 0.9662\n",
      "Epoch 22/100\n",
      "762/762 [==============================] - 13s 17ms/step - loss: 0.0170 - accuracy: 0.9837 - val_loss: 0.0289 - val_accuracy: 0.9647\n",
      "Epoch 23/100\n",
      "762/762 [==============================] - 13s 17ms/step - loss: 0.0157 - accuracy: 0.9854 - val_loss: 0.0278 - val_accuracy: 0.9673\n",
      "Epoch 24/100\n",
      "762/762 [==============================] - 15s 20ms/step - loss: 0.0150 - accuracy: 0.9860 - val_loss: 0.0293 - val_accuracy: 0.9667\n",
      "Epoch 25/100\n",
      "762/762 [==============================] - 15s 20ms/step - loss: 0.0143 - accuracy: 0.9862 - val_loss: 0.0275 - val_accuracy: 0.9672\n",
      "Epoch 26/100\n",
      "762/762 [==============================] - 16s 21ms/step - loss: 0.0135 - accuracy: 0.9875 - val_loss: 0.0268 - val_accuracy: 0.9703\n",
      "Epoch 27/100\n",
      "762/762 [==============================] - 16s 20ms/step - loss: 0.0130 - accuracy: 0.9875 - val_loss: 0.0272 - val_accuracy: 0.9686\n",
      "Epoch 28/100\n",
      "762/762 [==============================] - 16s 20ms/step - loss: 0.0126 - accuracy: 0.9874 - val_loss: 0.0278 - val_accuracy: 0.9676\n",
      "Epoch 29/100\n",
      "762/762 [==============================] - 16s 20ms/step - loss: 0.0121 - accuracy: 0.9882 - val_loss: 0.0267 - val_accuracy: 0.9685\n",
      "Epoch 30/100\n",
      "762/762 [==============================] - 16s 21ms/step - loss: 0.0114 - accuracy: 0.9890 - val_loss: 0.0266 - val_accuracy: 0.9703\n",
      "Epoch 31/100\n",
      "762/762 [==============================] - 16s 21ms/step - loss: 0.0110 - accuracy: 0.9892 - val_loss: 0.0266 - val_accuracy: 0.9683\n",
      "Epoch 32/100\n",
      "762/762 [==============================] - 14s 18ms/step - loss: 0.0105 - accuracy: 0.9898 - val_loss: 0.0268 - val_accuracy: 0.9686\n",
      "Epoch 33/100\n",
      "762/762 [==============================] - 13s 17ms/step - loss: 0.0103 - accuracy: 0.9899 - val_loss: 0.0258 - val_accuracy: 0.9711\n",
      "Epoch 34/100\n",
      "762/762 [==============================] - 13s 18ms/step - loss: 0.0098 - accuracy: 0.9903 - val_loss: 0.0258 - val_accuracy: 0.9695\n",
      "Epoch 35/100\n",
      "762/762 [==============================] - 14s 18ms/step - loss: 0.0094 - accuracy: 0.9904 - val_loss: 0.0276 - val_accuracy: 0.9676\n",
      "Epoch 36/100\n",
      "762/762 [==============================] - 13s 18ms/step - loss: 0.0093 - accuracy: 0.9906 - val_loss: 0.0256 - val_accuracy: 0.9690\n",
      "Epoch 37/100\n",
      "762/762 [==============================] - 13s 17ms/step - loss: 0.0092 - accuracy: 0.9904 - val_loss: 0.0256 - val_accuracy: 0.9690\n",
      "Epoch 38/100\n",
      "762/762 [==============================] - 13s 17ms/step - loss: 0.0089 - accuracy: 0.9910 - val_loss: 0.0251 - val_accuracy: 0.9704\n",
      "Epoch 39/100\n",
      "762/762 [==============================] - 13s 17ms/step - loss: 0.0086 - accuracy: 0.9910 - val_loss: 0.0255 - val_accuracy: 0.9711\n",
      "Epoch 40/100\n",
      "762/762 [==============================] - 13s 18ms/step - loss: 0.0083 - accuracy: 0.9913 - val_loss: 0.0255 - val_accuracy: 0.9703\n",
      "Epoch 41/100\n",
      "762/762 [==============================] - 13s 17ms/step - loss: 0.0085 - accuracy: 0.9910 - val_loss: 0.0258 - val_accuracy: 0.9699\n",
      "Epoch 42/100\n",
      "762/762 [==============================] - 13s 17ms/step - loss: 0.0083 - accuracy: 0.9913 - val_loss: 0.0254 - val_accuracy: 0.9699\n",
      "Epoch 43/100\n",
      "762/762 [==============================] - 13s 17ms/step - loss: 0.0079 - accuracy: 0.9916 - val_loss: 0.0258 - val_accuracy: 0.9695\n",
      "Epoch 44/100\n",
      "762/762 [==============================] - 13s 18ms/step - loss: 0.0079 - accuracy: 0.9917 - val_loss: 0.0259 - val_accuracy: 0.9696\n",
      "Epoch 45/100\n",
      "762/762 [==============================] - 13s 17ms/step - loss: 0.0079 - accuracy: 0.9915 - val_loss: 0.0269 - val_accuracy: 0.9680\n",
      "Epoch 46/100\n",
      "762/762 [==============================] - 13s 17ms/step - loss: 0.0076 - accuracy: 0.9915 - val_loss: 0.0269 - val_accuracy: 0.9678\n",
      "Epoch 47/100\n",
      "762/762 [==============================] - 13s 17ms/step - loss: 0.0074 - accuracy: 0.9922 - val_loss: 0.0263 - val_accuracy: 0.9685\n",
      "Epoch 48/100\n",
      "762/762 [==============================] - 13s 17ms/step - loss: 0.0074 - accuracy: 0.9920 - val_loss: 0.0259 - val_accuracy: 0.9695\n",
      "Epoch 49/100\n",
      "762/762 [==============================] - 13s 17ms/step - loss: 0.0072 - accuracy: 0.9922 - val_loss: 0.0262 - val_accuracy: 0.9683\n",
      "Epoch 50/100\n",
      "762/762 [==============================] - 15s 20ms/step - loss: 0.0074 - accuracy: 0.9920 - val_loss: 0.0260 - val_accuracy: 0.9685\n",
      "Epoch 51/100\n",
      "762/762 [==============================] - 15s 20ms/step - loss: 0.0072 - accuracy: 0.9923 - val_loss: 0.0261 - val_accuracy: 0.9685\n",
      "Epoch 52/100\n",
      "762/762 [==============================] - 15s 20ms/step - loss: 0.0071 - accuracy: 0.9924 - val_loss: 0.0261 - val_accuracy: 0.9680\n",
      "Epoch 53/100\n",
      "762/762 [==============================] - 15s 20ms/step - loss: 0.0071 - accuracy: 0.9920 - val_loss: 0.0266 - val_accuracy: 0.9676\n",
      "Epoch 54/100\n",
      "762/762 [==============================] - 16s 20ms/step - loss: 0.0069 - accuracy: 0.9921 - val_loss: 0.0252 - val_accuracy: 0.9699\n",
      "Epoch 55/100\n",
      "762/762 [==============================] - 16s 21ms/step - loss: 0.0068 - accuracy: 0.9926 - val_loss: 0.0255 - val_accuracy: 0.9696\n",
      "Epoch 56/100\n",
      "762/762 [==============================] - 16s 21ms/step - loss: 0.0068 - accuracy: 0.9923 - val_loss: 0.0251 - val_accuracy: 0.9701\n",
      "Epoch 57/100\n",
      "762/762 [==============================] - 16s 21ms/step - loss: 0.0066 - accuracy: 0.9927 - val_loss: 0.0258 - val_accuracy: 0.9686\n",
      "Epoch 58/100\n",
      "762/762 [==============================] - 16s 21ms/step - loss: 0.0065 - accuracy: 0.9927 - val_loss: 0.0254 - val_accuracy: 0.9693\n",
      "Epoch 59/100\n",
      "762/762 [==============================] - 15s 20ms/step - loss: 0.0064 - accuracy: 0.9925 - val_loss: 0.0259 - val_accuracy: 0.9678\n",
      "Epoch 60/100\n",
      "762/762 [==============================] - 16s 21ms/step - loss: 0.0066 - accuracy: 0.9925 - val_loss: 0.0255 - val_accuracy: 0.9686\n",
      "Epoch 61/100\n",
      "762/762 [==============================] - 16s 21ms/step - loss: 0.0064 - accuracy: 0.9924 - val_loss: 0.0256 - val_accuracy: 0.9686\n",
      "Epoch 62/100\n",
      "762/762 [==============================] - 16s 21ms/step - loss: 0.0062 - accuracy: 0.9929 - val_loss: 0.0254 - val_accuracy: 0.9693\n",
      "Epoch 63/100\n",
      "762/762 [==============================] - 14s 18ms/step - loss: 0.0062 - accuracy: 0.9928 - val_loss: 0.0259 - val_accuracy: 0.9685\n",
      "Epoch 64/100\n",
      "762/762 [==============================] - 13s 17ms/step - loss: 0.0064 - accuracy: 0.9927 - val_loss: 0.0253 - val_accuracy: 0.9693\n",
      "Epoch 65/100\n",
      "762/762 [==============================] - 13s 17ms/step - loss: 0.0064 - accuracy: 0.9924 - val_loss: 0.0253 - val_accuracy: 0.9695\n",
      "Epoch 66/100\n",
      "762/762 [==============================] - 13s 17ms/step - loss: 0.0064 - accuracy: 0.9923 - val_loss: 0.0250 - val_accuracy: 0.9708\n",
      "Epoch 67/100\n",
      "762/762 [==============================] - 13s 18ms/step - loss: 0.0063 - accuracy: 0.9926 - val_loss: 0.0255 - val_accuracy: 0.9696\n",
      "Epoch 68/100\n",
      "762/762 [==============================] - 13s 17ms/step - loss: 0.0061 - accuracy: 0.9928 - val_loss: 0.0251 - val_accuracy: 0.9691\n",
      "Epoch 69/100\n",
      "762/762 [==============================] - 14s 18ms/step - loss: 0.0060 - accuracy: 0.9930 - val_loss: 0.0258 - val_accuracy: 0.9688\n",
      "Epoch 70/100\n",
      "762/762 [==============================] - 13s 18ms/step - loss: 0.0060 - accuracy: 0.9931 - val_loss: 0.0253 - val_accuracy: 0.9699\n",
      "Epoch 71/100\n",
      "762/762 [==============================] - 13s 17ms/step - loss: 0.0059 - accuracy: 0.9929 - val_loss: 0.0253 - val_accuracy: 0.9706\n",
      "Epoch 72/100\n",
      "762/762 [==============================] - 13s 18ms/step - loss: 0.0061 - accuracy: 0.9928 - val_loss: 0.0243 - val_accuracy: 0.9714\n",
      "Epoch 73/100\n",
      "762/762 [==============================] - 13s 17ms/step - loss: 0.0059 - accuracy: 0.9930 - val_loss: 0.0242 - val_accuracy: 0.9691\n",
      "Epoch 74/100\n",
      "762/762 [==============================] - 13s 17ms/step - loss: 0.0059 - accuracy: 0.9931 - val_loss: 0.0247 - val_accuracy: 0.9699\n",
      "Epoch 75/100\n",
      "762/762 [==============================] - 13s 17ms/step - loss: 0.0058 - accuracy: 0.9932 - val_loss: 0.0251 - val_accuracy: 0.9708\n",
      "Epoch 76/100\n",
      "762/762 [==============================] - 13s 17ms/step - loss: 0.0058 - accuracy: 0.9932 - val_loss: 0.0248 - val_accuracy: 0.9701\n",
      "Epoch 77/100\n",
      "762/762 [==============================] - 13s 17ms/step - loss: 0.0059 - accuracy: 0.9930 - val_loss: 0.0248 - val_accuracy: 0.9696\n",
      "Epoch 78/100\n",
      "762/762 [==============================] - 13s 18ms/step - loss: 0.0057 - accuracy: 0.9931 - val_loss: 0.0256 - val_accuracy: 0.9688\n",
      "Epoch 79/100\n",
      "762/762 [==============================] - 13s 17ms/step - loss: 0.0056 - accuracy: 0.9929 - val_loss: 0.0252 - val_accuracy: 0.9711\n",
      "Epoch 80/100\n",
      "762/762 [==============================] - 13s 17ms/step - loss: 0.0056 - accuracy: 0.9933 - val_loss: 0.0245 - val_accuracy: 0.9695\n",
      "Epoch 81/100\n",
      "762/762 [==============================] - 14s 18ms/step - loss: 0.0058 - accuracy: 0.9930 - val_loss: 0.0245 - val_accuracy: 0.9709\n",
      "Epoch 82/100\n",
      "762/762 [==============================] - 14s 18ms/step - loss: 0.0057 - accuracy: 0.9931 - val_loss: 0.0243 - val_accuracy: 0.9708\n",
      "Epoch 83/100\n",
      "762/762 [==============================] - 13s 18ms/step - loss: 0.0058 - accuracy: 0.9927 - val_loss: 0.0249 - val_accuracy: 0.9698\n",
      "Epoch 84/100\n",
      "762/762 [==============================] - 14s 18ms/step - loss: 0.0054 - accuracy: 0.9932 - val_loss: 0.0247 - val_accuracy: 0.9695\n",
      "Epoch 85/100\n",
      "762/762 [==============================] - 13s 17ms/step - loss: 0.0056 - accuracy: 0.9927 - val_loss: 0.0239 - val_accuracy: 0.9706\n",
      "Epoch 86/100\n",
      "762/762 [==============================] - 14s 18ms/step - loss: 0.0056 - accuracy: 0.9933 - val_loss: 0.0246 - val_accuracy: 0.9703\n",
      "Epoch 87/100\n",
      "762/762 [==============================] - 14s 18ms/step - loss: 0.0055 - accuracy: 0.9934 - val_loss: 0.0242 - val_accuracy: 0.9704\n",
      "Epoch 88/100\n",
      "762/762 [==============================] - 14s 18ms/step - loss: 0.0055 - accuracy: 0.9932 - val_loss: 0.0242 - val_accuracy: 0.9704\n",
      "Epoch 89/100\n",
      "762/762 [==============================] - 14s 18ms/step - loss: 0.0054 - accuracy: 0.9933 - val_loss: 0.0239 - val_accuracy: 0.9709\n",
      "Epoch 90/100\n",
      "762/762 [==============================] - 13s 17ms/step - loss: 0.0054 - accuracy: 0.9934 - val_loss: 0.0239 - val_accuracy: 0.9701\n",
      "Epoch 91/100\n",
      "762/762 [==============================] - 13s 17ms/step - loss: 0.0054 - accuracy: 0.9934 - val_loss: 0.0254 - val_accuracy: 0.9695\n",
      "Epoch 92/100\n",
      "762/762 [==============================] - 14s 18ms/step - loss: 0.0054 - accuracy: 0.9933 - val_loss: 0.0242 - val_accuracy: 0.9704\n",
      "Epoch 93/100\n",
      "762/762 [==============================] - 15s 19ms/step - loss: 0.0054 - accuracy: 0.9932 - val_loss: 0.0254 - val_accuracy: 0.9686\n",
      "Epoch 94/100\n",
      "762/762 [==============================] - 14s 18ms/step - loss: 0.0054 - accuracy: 0.9931 - val_loss: 0.0251 - val_accuracy: 0.9696\n",
      "Epoch 95/100\n",
      "762/762 [==============================] - 13s 17ms/step - loss: 0.0054 - accuracy: 0.9932 - val_loss: 0.0254 - val_accuracy: 0.9698\n",
      "Epoch 96/100\n",
      "762/762 [==============================] - 13s 17ms/step - loss: 0.0054 - accuracy: 0.9931 - val_loss: 0.0261 - val_accuracy: 0.9678\n",
      "Epoch 97/100\n",
      "762/762 [==============================] - 13s 17ms/step - loss: 0.0053 - accuracy: 0.9932 - val_loss: 0.0237 - val_accuracy: 0.9711\n",
      "Epoch 98/100\n",
      "762/762 [==============================] - 14s 18ms/step - loss: 0.0053 - accuracy: 0.9936 - val_loss: 0.0245 - val_accuracy: 0.9701\n",
      "Epoch 99/100\n",
      "762/762 [==============================] - 13s 18ms/step - loss: 0.0053 - accuracy: 0.9931 - val_loss: 0.0242 - val_accuracy: 0.9708\n",
      "Epoch 100/100\n",
      "762/762 [==============================] - 14s 18ms/step - loss: 0.0052 - accuracy: 0.9936 - val_loss: 0.0247 - val_accuracy: 0.9704\n"
     ]
    }
   ],
   "source": [
    "history_rnn = siamese.fit([np.array(x1TrainRnnS), np.array(x2TrainRnnS)],np.array(yTrainRnnS, dtype=np.float32), epochs=100, batch_size=32, validation_split=0.2)"
   ]
  },
  {
   "cell_type": "code",
   "execution_count": 43,
   "metadata": {
    "id": "uHSTAS1dKHee"
   },
   "outputs": [
    {
     "name": "stderr",
     "output_type": "stream",
     "text": [
      "2022-02-16 14:48:17.197279: W tensorflow/python/util/util.cc:368] Sets are not currently considered sequences, but this may change in the future, so consider avoiding using them.\n",
      "WARNING:absl:Found untraced functions such as gru_cell_layer_call_fn, gru_cell_layer_call_and_return_conditional_losses, gru_cell_layer_call_fn, gru_cell_layer_call_and_return_conditional_losses, gru_cell_layer_call_and_return_conditional_losses while saving (showing 5 of 5). These functions will not be directly callable after loading.\n"
     ]
    },
    {
     "name": "stdout",
     "output_type": "stream",
     "text": [
      "INFO:tensorflow:Assets written to: models/NP_siamese_exp2_20220216/assets\n"
     ]
    },
    {
     "name": "stderr",
     "output_type": "stream",
     "text": [
      "INFO:tensorflow:Assets written to: models/NP_siamese_exp2_20220216/assets\n",
      "WARNING:absl:<keras.layers.recurrent.GRUCell object at 0x7ffa64a3f130> has the same name 'GRUCell' as a built-in Keras object. Consider renaming <class 'keras.layers.recurrent.GRUCell'> to avoid naming conflicts when loading with `tf.keras.models.load_model`. If renaming is not possible, pass the object in the `custom_objects` parameter of the load function.\n"
     ]
    }
   ],
   "source": [
    "siamese.save('models/NP_siamese_exp2_20220216.h5')\n",
    "siamese.save('models/NP_siamese_exp2_20220216')"
   ]
  },
  {
   "cell_type": "code",
   "execution_count": 44,
   "metadata": {
    "colab": {
     "base_uri": "https://localhost:8080/",
     "height": 573
    },
    "id": "ME7iBjYFBrJO",
    "outputId": "a3672c1f-0090-4816-c35c-433f1256409c"
   },
   "outputs": [
    {
     "data": {
      "image/png": "[encoded data removed]",
      "text/plain": [
       "<Figure size 432x288 with 1 Axes>"
      ]
     },
     "metadata": {
      "needs_background": "light"
     },
     "output_type": "display_data"
    },
    {
     "data": {
      "image/png": "[encoded data removed]",
      "text/plain": [
       "<Figure size 432x288 with 1 Axes>"
      ]
     },
     "metadata": {
      "needs_background": "light"
     },
     "output_type": "display_data"
    }
   ],
   "source": [
    "# Plot the accuracy\n",
    "plt_metric(history=history_rnn.history, metric=\"accuracy\", title=\"Model accuracy\")\n",
    "\n",
    "# Plot the constrastive loss\n",
    "plt_metric(history=history_rnn.history, metric=\"loss\", title=\"Constrastive Loss\")"
   ]
  },
  {
   "cell_type": "markdown",
   "metadata": {
    "id": "r9GovYaJzQFv"
   },
   "source": [
    "### Load model, get predictions and evaluate siamese network"
   ]
  },
  {
   "cell_type": "code",
   "execution_count": 40,
   "metadata": {},
   "outputs": [],
   "source": [
    "def contrastive_loss(y_true, y_pred):\n",
    "    square_pred = tf.math.square(y_pred)\n",
    "    margin_square = tf.math.square(tf.math.maximum(margin - (y_pred), 0))\n",
    "    return tf.math.reduce_mean(\n",
    "        (1 - y_true) * square_pred + (y_true) * margin_square\n",
    "    )"
   ]
  },
  {
   "cell_type": "code",
   "execution_count": 41,
   "metadata": {},
   "outputs": [
    {
     "name": "stderr",
     "output_type": "stream",
     "text": [
      "2022-02-17 10:42:34.937808: I tensorflow/core/platform/cpu_feature_guard.cc:151] This TensorFlow binary is optimized with oneAPI Deep Neural Network Library (oneDNN) to use the following CPU instructions in performance-critical operations:  AVX2 AVX512F FMA\n",
      "To enable them in other operations, rebuild TensorFlow with the appropriate compiler flags.\n",
      "2022-02-17 10:42:35.992522: I tensorflow/core/common_runtime/gpu/gpu_device.cc:1525] Created device /job:localhost/replica:0/task:0/device:GPU:0 with 9497 MB memory:  -> device: 0, name: NVIDIA GeForce RTX 2080 Ti, pci bus id: 0000:af:00.0, compute capability: 7.5\n",
      "2022-02-17 10:42:37.360748: W tensorflow/core/common_runtime/graph_constructor.cc:803] Node 'cond/while' has 13 outputs but the _output_shapes attribute specifies shapes for 46 outputs. Output shapes may be inaccurate.\n",
      "2022-02-17 10:42:38.894941: W tensorflow/core/common_runtime/graph_constructor.cc:803] Node 'cond/while' has 13 outputs but the _output_shapes attribute specifies shapes for 46 outputs. Output shapes may be inaccurate.\n",
      "2022-02-17 10:42:39.971015: W tensorflow/core/common_runtime/graph_constructor.cc:803] Node 'cond/while' has 13 outputs but the _output_shapes attribute specifies shapes for 46 outputs. Output shapes may be inaccurate.\n",
      "2022-02-17 10:42:40.664155: W tensorflow/core/common_runtime/graph_constructor.cc:803] Node 'cond/while' has 13 outputs but the _output_shapes attribute specifies shapes for 46 outputs. Output shapes may be inaccurate.\n",
      "2022-02-17 10:42:41.093980: W tensorflow/core/common_runtime/graph_constructor.cc:803] Node 'cond' has 4 outputs but the _output_shapes attribute specifies shapes for 46 outputs. Output shapes may be inaccurate.\n",
      "2022-02-17 10:42:41.224560: W tensorflow/core/common_runtime/graph_constructor.cc:803] Node 'cond/while' has 13 outputs but the _output_shapes attribute specifies shapes for 46 outputs. Output shapes may be inaccurate.\n",
      "2022-02-17 10:42:41.248683: W tensorflow/core/common_runtime/graph_constructor.cc:803] Node 'cond' has 4 outputs but the _output_shapes attribute specifies shapes for 46 outputs. Output shapes may be inaccurate.\n",
      "2022-02-17 10:42:41.367968: W tensorflow/core/common_runtime/graph_constructor.cc:803] Node 'cond/while' has 13 outputs but the _output_shapes attribute specifies shapes for 46 outputs. Output shapes may be inaccurate.\n",
      "2022-02-17 10:42:42.558748: W tensorflow/core/common_runtime/graph_constructor.cc:803] Node 'cond/while' has 13 outputs but the _output_shapes attribute specifies shapes for 46 outputs. Output shapes may be inaccurate.\n",
      "2022-02-17 10:42:42.586825: W tensorflow/core/common_runtime/graph_constructor.cc:803] Node 'cond' has 4 outputs but the _output_shapes attribute specifies shapes for 46 outputs. Output shapes may be inaccurate.\n",
      "2022-02-17 10:42:42.633777: W tensorflow/core/common_runtime/graph_constructor.cc:803] Node 'cond/while' has 13 outputs but the _output_shapes attribute specifies shapes for 46 outputs. Output shapes may be inaccurate.\n",
      "2022-02-17 10:42:42.661669: W tensorflow/core/common_runtime/graph_constructor.cc:803] Node 'cond' has 4 outputs but the _output_shapes attribute specifies shapes for 46 outputs. Output shapes may be inaccurate.\n",
      "2022-02-17 10:42:42.996994: W tensorflow/core/common_runtime/graph_constructor.cc:803] Node 'cond' has 4 outputs but the _output_shapes attribute specifies shapes for 46 outputs. Output shapes may be inaccurate.\n",
      "2022-02-17 10:42:43.311480: W tensorflow/core/common_runtime/graph_constructor.cc:803] Node 'cond' has 4 outputs but the _output_shapes attribute specifies shapes for 46 outputs. Output shapes may be inaccurate.\n",
      "2022-02-17 10:42:43.835778: W tensorflow/core/common_runtime/graph_constructor.cc:803] Node 'cond/while' has 13 outputs but the _output_shapes attribute specifies shapes for 46 outputs. Output shapes may be inaccurate.\n",
      "2022-02-17 10:42:43.998722: W tensorflow/core/common_runtime/graph_constructor.cc:803] Node 'cond' has 4 outputs but the _output_shapes attribute specifies shapes for 46 outputs. Output shapes may be inaccurate.\n",
      "2022-02-17 10:42:44.105015: W tensorflow/core/common_runtime/graph_constructor.cc:803] Node 'cond' has 4 outputs but the _output_shapes attribute specifies shapes for 46 outputs. Output shapes may be inaccurate.\n",
      "2022-02-17 10:42:44.469915: W tensorflow/core/common_runtime/graph_constructor.cc:803] Node 'cond/while' has 13 outputs but the _output_shapes attribute specifies shapes for 46 outputs. Output shapes may be inaccurate.\n",
      "2022-02-17 10:42:44.562894: W tensorflow/core/common_runtime/graph_constructor.cc:803] Node 'cond/while' has 13 outputs but the _output_shapes attribute specifies shapes for 46 outputs. Output shapes may be inaccurate.\n",
      "2022-02-17 10:42:44.587659: W tensorflow/core/common_runtime/graph_constructor.cc:803] Node 'cond' has 4 outputs but the _output_shapes attribute specifies shapes for 46 outputs. Output shapes may be inaccurate.\n",
      "2022-02-17 10:42:44.628470: W tensorflow/core/common_runtime/graph_constructor.cc:803] Node 'cond' has 4 outputs but the _output_shapes attribute specifies shapes for 46 outputs. Output shapes may be inaccurate.\n",
      "2022-02-17 10:42:44.950406: W tensorflow/core/common_runtime/graph_constructor.cc:803] Node 'cond/while' has 13 outputs but the _output_shapes attribute specifies shapes for 46 outputs. Output shapes may be inaccurate.\n",
      "2022-02-17 10:42:44.974732: W tensorflow/core/common_runtime/graph_constructor.cc:803] Node 'cond' has 4 outputs but the _output_shapes attribute specifies shapes for 46 outputs. Output shapes may be inaccurate.\n",
      "2022-02-17 10:42:45.365286: W tensorflow/core/common_runtime/graph_constructor.cc:803] Node 'cond' has 4 outputs but the _output_shapes attribute specifies shapes for 46 outputs. Output shapes may be inaccurate.\n"
     ]
    }
   ],
   "source": [
    "#siamese_loaded = tf.keras.models.load_model('models/drug_siamese_exp1_20220201.h5')\n",
    "siamese_model = tf.keras.models.load_model('models/NP_siamese_exp2_20220216', custom_objects={'contrastive_loss': contrastive_loss})"
   ]
  },
  {
   "cell_type": "code",
   "execution_count": 42,
   "metadata": {},
   "outputs": [
    {
     "name": "stdout",
     "output_type": "stream",
     "text": [
      "Model: \"model_1\"\n",
      "__________________________________________________________________________________________________\n",
      " Layer (type)                   Output Shape         Param #     Connected to                     \n",
      "==================================================================================================\n",
      " input_2 (InputLayer)           [(None, 60)]         0           []                               \n",
      "                                                                                                  \n",
      " input_3 (InputLayer)           [(None, 60)]         0           []                               \n",
      "                                                                                                  \n",
      " model (Functional)             (None, 32)           86624       ['input_2[0][0]',                \n",
      "                                                                  'input_3[0][0]']                \n",
      "                                                                                                  \n",
      " lambda (Lambda)                (None, 1)            0           ['model[0][0]',                  \n",
      "                                                                  'model[1][0]']                  \n",
      "                                                                                                  \n",
      " dense_2 (Dense)                (None, 1)            2           ['lambda[0][0]']                 \n",
      "                                                                                                  \n",
      "==================================================================================================\n",
      "Total params: 86,626\n",
      "Trainable params: 86,626\n",
      "Non-trainable params: 0\n",
      "__________________________________________________________________________________________________\n"
     ]
    }
   ],
   "source": [
    "siamese_model.summary()"
   ]
  },
  {
   "cell_type": "code",
   "execution_count": 54,
   "metadata": {},
   "outputs": [
    {
     "name": "stdout",
     "output_type": "stream",
     "text": [
      "<class 'pandas.core.frame.DataFrame'>\n",
      "Int64Index: 1072 entries, 4003 to 1295\n",
      "Data columns (total 2 columns):\n",
      " #   Column            Non-Null Count  Dtype \n",
      "---  ------            --------------  ----- \n",
      " 0   FAERS_drug_match  1072 non-null   object\n",
      " 1   lookup_value      1072 non-null   object\n",
      "dtypes: object(2)\n",
      "memory usage: 57.4+ KB\n"
     ]
    }
   ],
   "source": [
    "test.info()"
   ]
  },
  {
   "cell_type": "code",
   "execution_count": 45,
   "metadata": {},
   "outputs": [],
   "source": [
    "test_eval = pd.DataFrame(columns = ['FAERS_drug_match', 'lookup_value', 'rank1_drug', 'rank2_drug', 'rank3_drug', 'rank4_drug', 'rank5_drug', 'lookup_rank'])"
   ]
  },
  {
   "cell_type": "code",
   "execution_count": 46,
   "metadata": {},
   "outputs": [
    {
     "data": {
      "text/html": [
       "<div>\n",
       "<style scoped>\n",
       "    .dataframe tbody tr th:only-of-type {\n",
       "        vertical-align: middle;\n",
       "    }\n",
       "\n",
       "    .dataframe tbody tr th {\n",
       "        vertical-align: top;\n",
       "    }\n",
       "\n",
       "    .dataframe thead th {\n",
       "        text-align: right;\n",
       "    }\n",
       "</style>\n",
       "<table border=\"1\" class=\"dataframe\">\n",
       "  <thead>\n",
       "    <tr style=\"text-align: right;\">\n",
       "      <th></th>\n",
       "      <th>index</th>\n",
       "      <th>FAERS_drug_match</th>\n",
       "      <th>lookup_value</th>\n",
       "    </tr>\n",
       "  </thead>\n",
       "  <tbody>\n",
       "    <tr>\n",
       "      <th>0</th>\n",
       "      <td>4003</td>\n",
       "      <td>ST. JOHN'S WORT ^HERRON^ (HYPERICUM PERFORATUM)</td>\n",
       "      <td>HYPERICUM PERFORATUM</td>\n",
       "    </tr>\n",
       "    <tr>\n",
       "      <th>1</th>\n",
       "      <td>1729</td>\n",
       "      <td>CORDYCEPS</td>\n",
       "      <td>CORDYCEPS</td>\n",
       "    </tr>\n",
       "    <tr>\n",
       "      <th>2</th>\n",
       "      <td>401</td>\n",
       "      <td>FLAXSEEDS OIL</td>\n",
       "      <td>FLAX SEED</td>\n",
       "    </tr>\n",
       "    <tr>\n",
       "      <th>3</th>\n",
       "      <td>1242</td>\n",
       "      <td>EXTRACT OF SERENOA REPENS (PERMIXON)</td>\n",
       "      <td>SCRUB-PALMETTO</td>\n",
       "    </tr>\n",
       "    <tr>\n",
       "      <th>4</th>\n",
       "      <td>3406</td>\n",
       "      <td>GUARANA (GUARANA)</td>\n",
       "      <td>PAULLINIA CUPANA</td>\n",
       "    </tr>\n",
       "  </tbody>\n",
       "</table>\n",
       "</div>"
      ],
      "text/plain": [
       "   index                                 FAERS_drug_match  \\\n",
       "0   4003  ST. JOHN'S WORT ^HERRON^ (HYPERICUM PERFORATUM)   \n",
       "1   1729                                        CORDYCEPS   \n",
       "2    401                                    FLAXSEEDS OIL   \n",
       "3   1242             EXTRACT OF SERENOA REPENS (PERMIXON)   \n",
       "4   3406                                GUARANA (GUARANA)   \n",
       "\n",
       "           lookup_value  \n",
       "0  HYPERICUM PERFORATUM  \n",
       "1             CORDYCEPS  \n",
       "2             FLAX SEED  \n",
       "3        SCRUB-PALMETTO  \n",
       "4      PAULLINIA CUPANA  "
      ]
     },
     "execution_count": 46,
     "metadata": {},
     "output_type": "execute_result"
    }
   ],
   "source": [
    "test_res = test.reset_index()\n",
    "test_res.head()"
   ]
  },
  {
   "cell_type": "code",
   "execution_count": 47,
   "metadata": {},
   "outputs": [
    {
     "data": {
      "text/html": [
       "<div>\n",
       "<style scoped>\n",
       "    .dataframe tbody tr th:only-of-type {\n",
       "        vertical-align: middle;\n",
       "    }\n",
       "\n",
       "    .dataframe tbody tr th {\n",
       "        vertical-align: top;\n",
       "    }\n",
       "\n",
       "    .dataframe thead th {\n",
       "        text-align: right;\n",
       "    }\n",
       "</style>\n",
       "<table border=\"1\" class=\"dataframe\">\n",
       "  <thead>\n",
       "    <tr style=\"text-align: right;\">\n",
       "      <th></th>\n",
       "      <th>FAERS_drug_match</th>\n",
       "      <th>lookup_value</th>\n",
       "      <th>rank1_drug</th>\n",
       "      <th>rank2_drug</th>\n",
       "      <th>rank3_drug</th>\n",
       "      <th>rank4_drug</th>\n",
       "      <th>rank5_drug</th>\n",
       "      <th>lookup_rank</th>\n",
       "    </tr>\n",
       "  </thead>\n",
       "  <tbody>\n",
       "    <tr>\n",
       "      <th>0</th>\n",
       "      <td>ST. JOHN'S WORT ^HERRON^ (HYPERICUM PERFORATUM)</td>\n",
       "      <td>HYPERICUM PERFORATUM</td>\n",
       "      <td>HYPERICUM PERFORATUM</td>\n",
       "      <td>ST JOHNSWORT</td>\n",
       "      <td>TANACETUM PARTHENIUM</td>\n",
       "      <td>FEVERFEW</td>\n",
       "      <td>SWALLOWWORT</td>\n",
       "      <td>NaN</td>\n",
       "    </tr>\n",
       "    <tr>\n",
       "      <th>1</th>\n",
       "      <td>CORDYCEPS</td>\n",
       "      <td>CORDYCEPS</td>\n",
       "      <td>CORDYCEPS</td>\n",
       "      <td>OPHIOCORDYCEPS SINENSIS</td>\n",
       "      <td>FENNEL</td>\n",
       "      <td>HARPAGOPHYTUM PROCUMBENS</td>\n",
       "      <td>CHELIDONIUM MAJUS</td>\n",
       "      <td>NaN</td>\n",
       "    </tr>\n",
       "    <tr>\n",
       "      <th>2</th>\n",
       "      <td>FLAXSEEDS OIL</td>\n",
       "      <td>FLAX SEED</td>\n",
       "      <td>FLAX SEED</td>\n",
       "      <td>LINUM USITATISSIMUM</td>\n",
       "      <td>EVENING PRIMROSE OIL</td>\n",
       "      <td>SERENOA REPENS</td>\n",
       "      <td>OENOTHERA BIENNIS</td>\n",
       "      <td>NaN</td>\n",
       "    </tr>\n",
       "    <tr>\n",
       "      <th>3</th>\n",
       "      <td>EXTRACT OF SERENOA REPENS (PERMIXON)</td>\n",
       "      <td>SCRUB-PALMETTO</td>\n",
       "      <td>SCRUBPALMETTO</td>\n",
       "      <td>SERENOA REPENS</td>\n",
       "      <td>CATSCLAW</td>\n",
       "      <td>HEMP EXTRACT</td>\n",
       "      <td>CAMELLIA SINENSIS</td>\n",
       "      <td>NaN</td>\n",
       "    </tr>\n",
       "    <tr>\n",
       "      <th>4</th>\n",
       "      <td>GUARANA (GUARANA)</td>\n",
       "      <td>PAULLINIA CUPANA</td>\n",
       "      <td>GUARANA</td>\n",
       "      <td>ASHWAGANDA</td>\n",
       "      <td>PAULLINIA CUPANA</td>\n",
       "      <td>ALOE VERA</td>\n",
       "      <td>BARLEY GRASS</td>\n",
       "      <td>NaN</td>\n",
       "    </tr>\n",
       "  </tbody>\n",
       "</table>\n",
       "</div>"
      ],
      "text/plain": [
       "                                  FAERS_drug_match          lookup_value  \\\n",
       "0  ST. JOHN'S WORT ^HERRON^ (HYPERICUM PERFORATUM)  HYPERICUM PERFORATUM   \n",
       "1                                        CORDYCEPS             CORDYCEPS   \n",
       "2                                    FLAXSEEDS OIL             FLAX SEED   \n",
       "3             EXTRACT OF SERENOA REPENS (PERMIXON)        SCRUB-PALMETTO   \n",
       "4                                GUARANA (GUARANA)      PAULLINIA CUPANA   \n",
       "\n",
       "             rank1_drug               rank2_drug            rank3_drug  \\\n",
       "0  HYPERICUM PERFORATUM             ST JOHNSWORT  TANACETUM PARTHENIUM   \n",
       "1             CORDYCEPS  OPHIOCORDYCEPS SINENSIS                FENNEL   \n",
       "2             FLAX SEED      LINUM USITATISSIMUM  EVENING PRIMROSE OIL   \n",
       "3         SCRUBPALMETTO           SERENOA REPENS              CATSCLAW   \n",
       "4               GUARANA               ASHWAGANDA      PAULLINIA CUPANA   \n",
       "\n",
       "                 rank4_drug         rank5_drug lookup_rank  \n",
       "0                  FEVERFEW        SWALLOWWORT         NaN  \n",
       "1  HARPAGOPHYTUM PROCUMBENS  CHELIDONIUM MAJUS         NaN  \n",
       "2            SERENOA REPENS  OENOTHERA BIENNIS         NaN  \n",
       "3              HEMP EXTRACT  CAMELLIA SINENSIS         NaN  \n",
       "4                 ALOE VERA       BARLEY GRASS         NaN  "
      ]
     },
     "execution_count": 47,
     "metadata": {},
     "output_type": "execute_result"
    }
   ],
   "source": [
    "#find ranks 1, 2 and 3 (can go upto any number n) from the predicted similarities for the test data\n",
    "for i in range(padded_xTest.shape[0]):\n",
    "    predicts = siamese.predict([np.tile(padded_xTest[i,:], (dUnique.shape[0],1)), dUnique])\n",
    "    argsort = np.argsort(-predicts.flatten())\n",
    "    test_eval.at[i, 'FAERS_drug_match'] = test_res.at[i, 'FAERS_drug_match']\n",
    "    test_eval.at[i, 'lookup_value'] = test_res.at[i, 'lookup_value']\n",
    "    test_eval.at[i, 'rank1_drug'] = dUnique_df.iloc[argsort[0]].dUnique_label\n",
    "    test_eval.at[i, 'rank2_drug'] = dUnique_df.iloc[argsort[1]].dUnique_label\n",
    "    test_eval.at[i, 'rank3_drug'] = dUnique_df.iloc[argsort[2]].dUnique_label\n",
    "    test_eval.at[i, 'rank4_drug'] = dUnique_df.iloc[argsort[3]].dUnique_label\n",
    "    test_eval.at[i, 'rank5_drug'] = dUnique_df.iloc[argsort[4]].dUnique_label\n",
    "test_eval.head()"
   ]
  },
  {
   "cell_type": "code",
   "execution_count": 51,
   "metadata": {},
   "outputs": [
    {
     "data": {
      "text/html": [
       "<div>\n",
       "<style scoped>\n",
       "    .dataframe tbody tr th:only-of-type {\n",
       "        vertical-align: middle;\n",
       "    }\n",
       "\n",
       "    .dataframe tbody tr th {\n",
       "        vertical-align: top;\n",
       "    }\n",
       "\n",
       "    .dataframe thead th {\n",
       "        text-align: right;\n",
       "    }\n",
       "</style>\n",
       "<table border=\"1\" class=\"dataframe\">\n",
       "  <thead>\n",
       "    <tr style=\"text-align: right;\">\n",
       "      <th></th>\n",
       "      <th>FAERS_drug_match</th>\n",
       "      <th>lookup_value</th>\n",
       "      <th>rank1_drug</th>\n",
       "      <th>rank2_drug</th>\n",
       "      <th>rank3_drug</th>\n",
       "      <th>rank4_drug</th>\n",
       "      <th>rank5_drug</th>\n",
       "      <th>lookup_rank</th>\n",
       "    </tr>\n",
       "  </thead>\n",
       "  <tbody>\n",
       "    <tr>\n",
       "      <th>0</th>\n",
       "      <td>ST. JOHN'S WORT ^HERRON^ (HYPERICUM PERFORATUM)</td>\n",
       "      <td>HYPERICUM PERFORATUM</td>\n",
       "      <td>HYPERICUM PERFORATUM</td>\n",
       "      <td>ST JOHNSWORT</td>\n",
       "      <td>TANACETUM PARTHENIUM</td>\n",
       "      <td>FEVERFEW</td>\n",
       "      <td>SWALLOWWORT</td>\n",
       "      <td>1</td>\n",
       "    </tr>\n",
       "    <tr>\n",
       "      <th>1</th>\n",
       "      <td>CORDYCEPS</td>\n",
       "      <td>CORDYCEPS</td>\n",
       "      <td>CORDYCEPS</td>\n",
       "      <td>OPHIOCORDYCEPS SINENSIS</td>\n",
       "      <td>FENNEL</td>\n",
       "      <td>HARPAGOPHYTUM PROCUMBENS</td>\n",
       "      <td>CHELIDONIUM MAJUS</td>\n",
       "      <td>1</td>\n",
       "    </tr>\n",
       "    <tr>\n",
       "      <th>2</th>\n",
       "      <td>FLAXSEEDS OIL</td>\n",
       "      <td>FLAX SEED</td>\n",
       "      <td>FLAX SEED</td>\n",
       "      <td>LINUM USITATISSIMUM</td>\n",
       "      <td>EVENING PRIMROSE OIL</td>\n",
       "      <td>SERENOA REPENS</td>\n",
       "      <td>OENOTHERA BIENNIS</td>\n",
       "      <td>1</td>\n",
       "    </tr>\n",
       "    <tr>\n",
       "      <th>3</th>\n",
       "      <td>EXTRACT OF SERENOA REPENS (PERMIXON)</td>\n",
       "      <td>SCRUB-PALMETTO</td>\n",
       "      <td>SCRUBPALMETTO</td>\n",
       "      <td>SERENOA REPENS</td>\n",
       "      <td>CATSCLAW</td>\n",
       "      <td>HEMP EXTRACT</td>\n",
       "      <td>CAMELLIA SINENSIS</td>\n",
       "      <td>1</td>\n",
       "    </tr>\n",
       "    <tr>\n",
       "      <th>4</th>\n",
       "      <td>GUARANA (GUARANA)</td>\n",
       "      <td>PAULLINIA CUPANA</td>\n",
       "      <td>GUARANA</td>\n",
       "      <td>ASHWAGANDA</td>\n",
       "      <td>PAULLINIA CUPANA</td>\n",
       "      <td>ALOE VERA</td>\n",
       "      <td>BARLEY GRASS</td>\n",
       "      <td>3</td>\n",
       "    </tr>\n",
       "  </tbody>\n",
       "</table>\n",
       "</div>"
      ],
      "text/plain": [
       "                                  FAERS_drug_match          lookup_value  \\\n",
       "0  ST. JOHN'S WORT ^HERRON^ (HYPERICUM PERFORATUM)  HYPERICUM PERFORATUM   \n",
       "1                                        CORDYCEPS             CORDYCEPS   \n",
       "2                                    FLAXSEEDS OIL             FLAX SEED   \n",
       "3             EXTRACT OF SERENOA REPENS (PERMIXON)        SCRUB-PALMETTO   \n",
       "4                                GUARANA (GUARANA)      PAULLINIA CUPANA   \n",
       "\n",
       "             rank1_drug               rank2_drug            rank3_drug  \\\n",
       "0  HYPERICUM PERFORATUM             ST JOHNSWORT  TANACETUM PARTHENIUM   \n",
       "1             CORDYCEPS  OPHIOCORDYCEPS SINENSIS                FENNEL   \n",
       "2             FLAX SEED      LINUM USITATISSIMUM  EVENING PRIMROSE OIL   \n",
       "3         SCRUBPALMETTO           SERENOA REPENS              CATSCLAW   \n",
       "4               GUARANA               ASHWAGANDA      PAULLINIA CUPANA   \n",
       "\n",
       "                 rank4_drug         rank5_drug lookup_rank  \n",
       "0                  FEVERFEW        SWALLOWWORT           1  \n",
       "1  HARPAGOPHYTUM PROCUMBENS  CHELIDONIUM MAJUS           1  \n",
       "2            SERENOA REPENS  OENOTHERA BIENNIS           1  \n",
       "3              HEMP EXTRACT  CAMELLIA SINENSIS           1  \n",
       "4                 ALOE VERA       BARLEY GRASS           3  "
      ]
     },
     "execution_count": 51,
     "metadata": {},
     "output_type": "execute_result"
    }
   ],
   "source": [
    "for i in range(len(test_eval.index)):\n",
    "    lookup = test_eval.at[i, 'lookup_value']\n",
    "    lookup_clean = clean(lookup)\n",
    "    if lookup_clean == test_eval.at[i, 'rank1_drug']:\n",
    "        test_eval.at[i, 'lookup_rank'] = 1\n",
    "    elif lookup_clean == test_eval.at[i, 'rank2_drug']:\n",
    "        test_eval.at[i, 'lookup_rank'] = 2\n",
    "    elif lookup_clean == test_eval.at[i, 'rank3_drug']:\n",
    "        test_eval.at[i, 'lookup_rank'] = 3\n",
    "    elif lookup_clean == test_eval.at[i, 'rank4_drug']:\n",
    "        test_eval.at[i, 'lookup_rank'] = 4\n",
    "    elif lookup_clean == test_eval.at[i, 'rank5_drug']:\n",
    "        test_eval.at[i, 'lookup_rank'] = 5\n",
    "test_eval.head()"
   ]
  },
  {
   "cell_type": "code",
   "execution_count": 52,
   "metadata": {},
   "outputs": [],
   "source": [
    "test_eval.to_csv(\"evaluation/test_siamese_evaluation_exp2.csv\", index=False)"
   ]
  },
  {
   "cell_type": "code",
   "execution_count": null,
   "metadata": {},
   "outputs": [],
   "source": []
  },
  {
   "cell_type": "markdown",
   "metadata": {},
   "source": [
    "### Scratch code blocks below"
   ]
  },
  {
   "cell_type": "code",
   "execution_count": 43,
   "metadata": {},
   "outputs": [
    {
     "data": {
      "text/plain": [
       "<keras.engine.input_layer.InputLayer at 0x7f7183cbd400>"
      ]
     },
     "execution_count": 43,
     "metadata": {},
     "output_type": "execute_result"
    }
   ],
   "source": [
    "siamese_model.layers[0]"
   ]
  },
  {
   "cell_type": "code",
   "execution_count": 74,
   "metadata": {},
   "outputs": [],
   "source": [
    "##try to get embedding weights - this gives from original model not trained (I think)\n",
    "embeddings_weights = embedding.get_weights()[0]"
   ]
  },
  {
   "cell_type": "code",
   "execution_count": 48,
   "metadata": {},
   "outputs": [
    {
     "name": "stdout",
     "output_type": "stream",
     "text": [
      "<keras.engine.input_layer.InputLayer object at 0x7f7183cbd400>\n",
      "<keras.engine.input_layer.InputLayer object at 0x7f7183cbd1c0>\n",
      "<keras.engine.functional.Functional object at 0x7f7183cbd9a0>\n",
      "<keras.layers.core.lambda_layer.Lambda object at 0x7f7183cbdaf0>\n",
      "<keras.layers.core.dense.Dense object at 0x7f7170406730>\n"
     ]
    }
   ],
   "source": [
    "for layer in siamese_model.layers:\n",
    "    print(layer)"
   ]
  },
  {
   "cell_type": "code",
   "execution_count": null,
   "metadata": {},
   "outputs": [],
   "source": []
  },
  {
   "cell_type": "code",
   "execution_count": null,
   "metadata": {},
   "outputs": [],
   "source": []
  },
  {
   "cell_type": "code",
   "execution_count": 37,
   "metadata": {},
   "outputs": [
    {
     "name": "stdout",
     "output_type": "stream",
     "text": [
      "<class 'pandas.core.frame.DataFrame'>\n",
      "RangeIndex: 2679 entries, 0 to 2678\n",
      "Data columns (total 6 columns):\n",
      " #   Column                  Non-Null Count  Dtype  \n",
      "---  ------                  --------------  -----  \n",
      " 0   seq                     2679 non-null   int64  \n",
      " 1   drug_name_original      2679 non-null   object \n",
      " 2   related_common_name     2679 non-null   object \n",
      " 3   related_latin_binomial  2679 non-null   object \n",
      " 4   lookup_value            2679 non-null   object \n",
      " 5   concept_id              1925 non-null   float64\n",
      "dtypes: float64(1), int64(1), object(4)\n",
      "memory usage: 125.7+ KB\n"
     ]
    }
   ],
   "source": [
    "#in test set, find all NPs and create NP-test\n",
    "npref = pd.read_csv('data/np_faers_reference_set_202202101209.csv')\n",
    "npref.info()"
   ]
  },
  {
   "cell_type": "code",
   "execution_count": 50,
   "metadata": {},
   "outputs": [
    {
     "data": {
      "text/html": [
       "<div>\n",
       "<style scoped>\n",
       "    .dataframe tbody tr th:only-of-type {\n",
       "        vertical-align: middle;\n",
       "    }\n",
       "\n",
       "    .dataframe tbody tr th {\n",
       "        vertical-align: top;\n",
       "    }\n",
       "\n",
       "    .dataframe thead th {\n",
       "        text-align: right;\n",
       "    }\n",
       "</style>\n",
       "<table border=\"1\" class=\"dataframe\">\n",
       "  <thead>\n",
       "    <tr style=\"text-align: right;\">\n",
       "      <th></th>\n",
       "      <th>index</th>\n",
       "      <th>drug_name_original</th>\n",
       "      <th>lookup_value</th>\n",
       "    </tr>\n",
       "  </thead>\n",
       "  <tbody>\n",
       "    <tr>\n",
       "      <th>0</th>\n",
       "      <td>368981</td>\n",
       "      <td>NITROGLYCERIN PILLS</td>\n",
       "      <td>NITROGLYCERIN</td>\n",
       "    </tr>\n",
       "    <tr>\n",
       "      <th>1</th>\n",
       "      <td>20960</td>\n",
       "      <td>VITAMINS/MINERALS D3 B50 COMPLEX</td>\n",
       "      <td>MULTIVITAMIN PREPARATION</td>\n",
       "    </tr>\n",
       "    <tr>\n",
       "      <th>2</th>\n",
       "      <td>320735</td>\n",
       "      <td>T. SELOKEN ZOC (METOPROLOL SUCCINATE)</td>\n",
       "      <td>METOPROLOL SUCCINATE</td>\n",
       "    </tr>\n",
       "    <tr>\n",
       "      <th>3</th>\n",
       "      <td>34002</td>\n",
       "      <td>CEFTUM TABLET</td>\n",
       "      <td>CEFUROXIME AXETIL</td>\n",
       "    </tr>\n",
       "    <tr>\n",
       "      <th>4</th>\n",
       "      <td>321068</td>\n",
       "      <td>VALPROATE (TABLETS) VALPROATE SODIUM</td>\n",
       "      <td>VALPROATE SODIUM</td>\n",
       "    </tr>\n",
       "  </tbody>\n",
       "</table>\n",
       "</div>"
      ],
      "text/plain": [
       "    index                     drug_name_original              lookup_value\n",
       "0  368981                    NITROGLYCERIN PILLS             NITROGLYCERIN\n",
       "1   20960       VITAMINS/MINERALS D3 B50 COMPLEX  MULTIVITAMIN PREPARATION\n",
       "2  320735  T. SELOKEN ZOC (METOPROLOL SUCCINATE)      METOPROLOL SUCCINATE\n",
       "3   34002                          CEFTUM TABLET         CEFUROXIME AXETIL\n",
       "4  321068   VALPROATE (TABLETS) VALPROATE SODIUM          VALPROATE SODIUM"
      ]
     },
     "execution_count": 50,
     "metadata": {},
     "output_type": "execute_result"
    }
   ],
   "source": [
    "testnp = test.reset_index()\n",
    "testnp.head()"
   ]
  },
  {
   "cell_type": "code",
   "execution_count": 39,
   "metadata": {},
   "outputs": [
    {
     "name": "stdout",
     "output_type": "stream",
     "text": [
      "<class 'pandas.core.frame.DataFrame'>\n",
      "Int64Index: 483 entries, 0 to 482\n",
      "Data columns (total 8 columns):\n",
      " #   Column                  Non-Null Count  Dtype  \n",
      "---  ------                  --------------  -----  \n",
      " 0   index                   483 non-null    int64  \n",
      " 1   drug_name_original      483 non-null    object \n",
      " 2   lookup_value_x          483 non-null    object \n",
      " 3   seq                     483 non-null    int64  \n",
      " 4   related_common_name     483 non-null    object \n",
      " 5   related_latin_binomial  483 non-null    object \n",
      " 6   lookup_value_y          483 non-null    object \n",
      " 7   concept_id              340 non-null    float64\n",
      "dtypes: float64(1), int64(2), object(5)\n",
      "memory usage: 34.0+ KB\n"
     ]
    }
   ],
   "source": [
    "testnp_df = pd.merge(testnp, npref, how='inner', on=['drug_name_original'])\n",
    "testnp_df.info()"
   ]
  },
  {
   "cell_type": "code",
   "execution_count": 41,
   "metadata": {},
   "outputs": [
    {
     "name": "stdout",
     "output_type": "stream",
     "text": [
      "<class 'pandas.core.frame.DataFrame'>\n",
      "Int64Index: 483 entries, 0 to 482\n",
      "Data columns (total 3 columns):\n",
      " #   Column              Non-Null Count  Dtype \n",
      "---  ------              --------------  ----- \n",
      " 0   index               483 non-null    int64 \n",
      " 1   drug_name_original  483 non-null    object\n",
      " 2   lookup_value_x      483 non-null    object\n",
      "dtypes: int64(1), object(2)\n",
      "memory usage: 15.1+ KB\n"
     ]
    }
   ],
   "source": [
    "testnp_df = testnp_df[['index', 'drug_name_original', 'lookup_value_x']]\n",
    "testnp_df.info()"
   ]
  },
  {
   "cell_type": "code",
   "execution_count": 43,
   "metadata": {},
   "outputs": [],
   "source": [
    "testnp_df = testnp_df.rename(columns={\"lookup_value_x\": \"lookup_value\"})"
   ]
  },
  {
   "cell_type": "code",
   "execution_count": 44,
   "metadata": {},
   "outputs": [],
   "source": [
    "testnp_df.to_csv('evaluation/test_set_np.csv', index=False)"
   ]
  },
  {
   "cell_type": "code",
   "execution_count": 45,
   "metadata": {},
   "outputs": [],
   "source": [
    "test_np_eval = pd.DataFrame(columns = ['drug_name_original', 'lookup_value', 'rank1_drug', 'rank2_drug', 'rank3_drug', 'lookup_rank'])"
   ]
  },
  {
   "cell_type": "code",
   "execution_count": 46,
   "metadata": {},
   "outputs": [
    {
     "data": {
      "text/html": [
       "<div>\n",
       "<style scoped>\n",
       "    .dataframe tbody tr th:only-of-type {\n",
       "        vertical-align: middle;\n",
       "    }\n",
       "\n",
       "    .dataframe tbody tr th {\n",
       "        vertical-align: top;\n",
       "    }\n",
       "\n",
       "    .dataframe thead th {\n",
       "        text-align: right;\n",
       "    }\n",
       "</style>\n",
       "<table border=\"1\" class=\"dataframe\">\n",
       "  <thead>\n",
       "    <tr style=\"text-align: right;\">\n",
       "      <th></th>\n",
       "      <th>index</th>\n",
       "      <th>drug_name_original</th>\n",
       "      <th>lookup_value</th>\n",
       "    </tr>\n",
       "  </thead>\n",
       "  <tbody>\n",
       "    <tr>\n",
       "      <th>0</th>\n",
       "      <td>106183</td>\n",
       "      <td>CRANBERRY CHEWS</td>\n",
       "      <td>CRANBERRY</td>\n",
       "    </tr>\n",
       "    <tr>\n",
       "      <th>1</th>\n",
       "      <td>106466</td>\n",
       "      <td>BARLEY GREEN</td>\n",
       "      <td>BARLEY GRASS</td>\n",
       "    </tr>\n",
       "    <tr>\n",
       "      <th>2</th>\n",
       "      <td>107020</td>\n",
       "      <td>CRANBERRY [VACCINIUM MACROCARPON</td>\n",
       "      <td>CRANBERRY</td>\n",
       "    </tr>\n",
       "    <tr>\n",
       "      <th>3</th>\n",
       "      <td>322801</td>\n",
       "      <td>GREEN TEA OTC</td>\n",
       "      <td>GREEN TEA</td>\n",
       "    </tr>\n",
       "    <tr>\n",
       "      <th>4</th>\n",
       "      <td>106189</td>\n",
       "      <td>FLAX CAPSULES</td>\n",
       "      <td>FLAX SEED</td>\n",
       "    </tr>\n",
       "  </tbody>\n",
       "</table>\n",
       "</div>"
      ],
      "text/plain": [
       "    index                drug_name_original  lookup_value\n",
       "0  106183                   CRANBERRY CHEWS     CRANBERRY\n",
       "1  106466                      BARLEY GREEN  BARLEY GRASS\n",
       "2  107020  CRANBERRY [VACCINIUM MACROCARPON     CRANBERRY\n",
       "3  322801                     GREEN TEA OTC     GREEN TEA\n",
       "4  106189                     FLAX CAPSULES     FLAX SEED"
      ]
     },
     "execution_count": 46,
     "metadata": {},
     "output_type": "execute_result"
    }
   ],
   "source": [
    "testnp_df.head()"
   ]
  },
  {
   "cell_type": "code",
   "execution_count": 51,
   "metadata": {},
   "outputs": [],
   "source": [
    "npxtest, npytest = clean_dataset(testnp_df)\n",
    "npXtest, npYtest = encode_dataset(npxtest,npytest)\n",
    "nppadded_xTest, nppadded_yTest = padding_dataset(npXtest,npYtest)"
   ]
  },
  {
   "cell_type": "code",
   "execution_count": 54,
   "metadata": {},
   "outputs": [
    {
     "name": "stderr",
     "output_type": "stream",
     "text": [
      "2022-02-10 12:39:08.325967: I tensorflow/stream_executor/cuda/cuda_dnn.cc:366] Loaded cuDNN version 8302\n"
     ]
    },
    {
     "data": {
      "text/html": [
       "<div>\n",
       "<style scoped>\n",
       "    .dataframe tbody tr th:only-of-type {\n",
       "        vertical-align: middle;\n",
       "    }\n",
       "\n",
       "    .dataframe tbody tr th {\n",
       "        vertical-align: top;\n",
       "    }\n",
       "\n",
       "    .dataframe thead th {\n",
       "        text-align: right;\n",
       "    }\n",
       "</style>\n",
       "<table border=\"1\" class=\"dataframe\">\n",
       "  <thead>\n",
       "    <tr style=\"text-align: right;\">\n",
       "      <th></th>\n",
       "      <th>drug_name_original</th>\n",
       "      <th>lookup_value</th>\n",
       "      <th>rank1_drug</th>\n",
       "      <th>rank2_drug</th>\n",
       "      <th>rank3_drug</th>\n",
       "      <th>lookup_rank</th>\n",
       "    </tr>\n",
       "  </thead>\n",
       "  <tbody>\n",
       "    <tr>\n",
       "      <th>0</th>\n",
       "      <td>CRANBERRY CHEWS</td>\n",
       "      <td>CRANBERRY</td>\n",
       "      <td>CRANBERRY JUICE</td>\n",
       "      <td>CRANBERRY PREPARATION</td>\n",
       "      <td>CRANBERRY</td>\n",
       "      <td>NaN</td>\n",
       "    </tr>\n",
       "    <tr>\n",
       "      <th>1</th>\n",
       "      <td>BARLEY GREEN</td>\n",
       "      <td>BARLEY GRASS</td>\n",
       "      <td>BARLEY GRASS</td>\n",
       "      <td>BARBITAL</td>\n",
       "      <td>BARBEXACLONE</td>\n",
       "      <td>NaN</td>\n",
       "    </tr>\n",
       "    <tr>\n",
       "      <th>2</th>\n",
       "      <td>CRANBERRY [VACCINIUM MACROCARPON</td>\n",
       "      <td>CRANBERRY</td>\n",
       "      <td>CANRENOATE POTASSIUM</td>\n",
       "      <td>CRANTEX LA</td>\n",
       "      <td>CRANBERRY EXTRACT</td>\n",
       "      <td>NaN</td>\n",
       "    </tr>\n",
       "    <tr>\n",
       "      <th>3</th>\n",
       "      <td>GREEN TEA OTC</td>\n",
       "      <td>GREEN TEA</td>\n",
       "      <td>GREEN TEA EXTRACT</td>\n",
       "      <td>GREEN TEA</td>\n",
       "      <td>GREEN TEA LEAF EXTRACT</td>\n",
       "      <td>NaN</td>\n",
       "    </tr>\n",
       "    <tr>\n",
       "      <th>4</th>\n",
       "      <td>FLAX CAPSULES</td>\n",
       "      <td>FLAX SEED</td>\n",
       "      <td>FLURESS</td>\n",
       "      <td>FLUOROURACIL</td>\n",
       "      <td>FLUANXOL</td>\n",
       "      <td>NaN</td>\n",
       "    </tr>\n",
       "  </tbody>\n",
       "</table>\n",
       "</div>"
      ],
      "text/plain": [
       "                 drug_name_original  lookup_value            rank1_drug  \\\n",
       "0                   CRANBERRY CHEWS     CRANBERRY       CRANBERRY JUICE   \n",
       "1                      BARLEY GREEN  BARLEY GRASS          BARLEY GRASS   \n",
       "2  CRANBERRY [VACCINIUM MACROCARPON     CRANBERRY  CANRENOATE POTASSIUM   \n",
       "3                     GREEN TEA OTC     GREEN TEA     GREEN TEA EXTRACT   \n",
       "4                     FLAX CAPSULES     FLAX SEED               FLURESS   \n",
       "\n",
       "              rank2_drug              rank3_drug lookup_rank  \n",
       "0  CRANBERRY PREPARATION               CRANBERRY         NaN  \n",
       "1               BARBITAL            BARBEXACLONE         NaN  \n",
       "2             CRANTEX LA       CRANBERRY EXTRACT         NaN  \n",
       "3              GREEN TEA  GREEN TEA LEAF EXTRACT         NaN  \n",
       "4           FLUOROURACIL                FLUANXOL         NaN  "
      ]
     },
     "execution_count": 54,
     "metadata": {},
     "output_type": "execute_result"
    }
   ],
   "source": [
    "#testing model on only NPs in test set\n",
    "for i in range(len(testnp_df.index)):\n",
    "    np_index = testnp_df.at[i, 'index']\n",
    "    predicts = siamese_model.predict([np.tile(nppadded_xTest[i,:], (dUnique.shape[0],1)), dUnique])\n",
    "    argsort = np.argsort(-predicts.flatten())\n",
    "    test_np_eval.at[i, 'drug_name_original'] = test.at[np_index, 'drug_name_original']\n",
    "    test_np_eval.at[i, 'lookup_value'] = test.at[np_index, 'lookup_value']\n",
    "    test_np_eval.at[i, 'rank1_drug'] = dUnique_df.iloc[argsort[0]].dUnique_label\n",
    "    test_np_eval.at[i, 'rank2_drug'] = dUnique_df.iloc[argsort[1]].dUnique_label\n",
    "    test_np_eval.at[i, 'rank3_drug'] = dUnique_df.iloc[argsort[2]].dUnique_label\n",
    "test_np_eval.head()"
   ]
  },
  {
   "cell_type": "code",
   "execution_count": 55,
   "metadata": {},
   "outputs": [
    {
     "data": {
      "text/html": [
       "<div>\n",
       "<style scoped>\n",
       "    .dataframe tbody tr th:only-of-type {\n",
       "        vertical-align: middle;\n",
       "    }\n",
       "\n",
       "    .dataframe tbody tr th {\n",
       "        vertical-align: top;\n",
       "    }\n",
       "\n",
       "    .dataframe thead th {\n",
       "        text-align: right;\n",
       "    }\n",
       "</style>\n",
       "<table border=\"1\" class=\"dataframe\">\n",
       "  <thead>\n",
       "    <tr style=\"text-align: right;\">\n",
       "      <th></th>\n",
       "      <th>drug_name_original</th>\n",
       "      <th>lookup_value</th>\n",
       "      <th>rank1_drug</th>\n",
       "      <th>rank2_drug</th>\n",
       "      <th>rank3_drug</th>\n",
       "      <th>lookup_rank</th>\n",
       "    </tr>\n",
       "  </thead>\n",
       "  <tbody>\n",
       "    <tr>\n",
       "      <th>0</th>\n",
       "      <td>CRANBERRY CHEWS</td>\n",
       "      <td>CRANBERRY</td>\n",
       "      <td>CRANBERRY JUICE</td>\n",
       "      <td>CRANBERRY PREPARATION</td>\n",
       "      <td>CRANBERRY</td>\n",
       "      <td>3</td>\n",
       "    </tr>\n",
       "    <tr>\n",
       "      <th>1</th>\n",
       "      <td>BARLEY GREEN</td>\n",
       "      <td>BARLEY GRASS</td>\n",
       "      <td>BARLEY GRASS</td>\n",
       "      <td>BARBITAL</td>\n",
       "      <td>BARBEXACLONE</td>\n",
       "      <td>1</td>\n",
       "    </tr>\n",
       "    <tr>\n",
       "      <th>2</th>\n",
       "      <td>CRANBERRY [VACCINIUM MACROCARPON</td>\n",
       "      <td>CRANBERRY</td>\n",
       "      <td>CANRENOATE POTASSIUM</td>\n",
       "      <td>CRANTEX LA</td>\n",
       "      <td>CRANBERRY EXTRACT</td>\n",
       "      <td>NaN</td>\n",
       "    </tr>\n",
       "    <tr>\n",
       "      <th>3</th>\n",
       "      <td>GREEN TEA OTC</td>\n",
       "      <td>GREEN TEA</td>\n",
       "      <td>GREEN TEA EXTRACT</td>\n",
       "      <td>GREEN TEA</td>\n",
       "      <td>GREEN TEA LEAF EXTRACT</td>\n",
       "      <td>2</td>\n",
       "    </tr>\n",
       "    <tr>\n",
       "      <th>4</th>\n",
       "      <td>FLAX CAPSULES</td>\n",
       "      <td>FLAX SEED</td>\n",
       "      <td>FLURESS</td>\n",
       "      <td>FLUOROURACIL</td>\n",
       "      <td>FLUANXOL</td>\n",
       "      <td>NaN</td>\n",
       "    </tr>\n",
       "  </tbody>\n",
       "</table>\n",
       "</div>"
      ],
      "text/plain": [
       "                 drug_name_original  lookup_value            rank1_drug  \\\n",
       "0                   CRANBERRY CHEWS     CRANBERRY       CRANBERRY JUICE   \n",
       "1                      BARLEY GREEN  BARLEY GRASS          BARLEY GRASS   \n",
       "2  CRANBERRY [VACCINIUM MACROCARPON     CRANBERRY  CANRENOATE POTASSIUM   \n",
       "3                     GREEN TEA OTC     GREEN TEA     GREEN TEA EXTRACT   \n",
       "4                     FLAX CAPSULES     FLAX SEED               FLURESS   \n",
       "\n",
       "              rank2_drug              rank3_drug lookup_rank  \n",
       "0  CRANBERRY PREPARATION               CRANBERRY           3  \n",
       "1               BARBITAL            BARBEXACLONE           1  \n",
       "2             CRANTEX LA       CRANBERRY EXTRACT         NaN  \n",
       "3              GREEN TEA  GREEN TEA LEAF EXTRACT           2  \n",
       "4           FLUOROURACIL                FLUANXOL         NaN  "
      ]
     },
     "execution_count": 55,
     "metadata": {},
     "output_type": "execute_result"
    }
   ],
   "source": [
    "for i in range(len(test_np_eval.index)):\n",
    "    lookup = test_np_eval.at[i, 'lookup_value']\n",
    "    if lookup == test_np_eval.at[i, 'rank1_drug']:\n",
    "        test_np_eval.at[i, 'lookup_rank'] = 1\n",
    "    elif lookup == test_np_eval.at[i, 'rank2_drug']:\n",
    "        test_np_eval.at[i, 'lookup_rank'] = 2\n",
    "    elif lookup == test_np_eval.at[i, 'rank3_drug']:\n",
    "        test_np_eval.at[i, 'lookup_rank'] = 3\n",
    "test_np_eval.head()\n"
   ]
  },
  {
   "cell_type": "code",
   "execution_count": 56,
   "metadata": {},
   "outputs": [],
   "source": [
    "test_np_eval.to_csv('evaluation/siamese_eval_NP_exp1.csv', index=False)"
   ]
  },
  {
   "cell_type": "code",
   "execution_count": null,
   "metadata": {},
   "outputs": [],
   "source": []
  },
  {
   "cell_type": "markdown",
   "metadata": {
    "id": "Su5EWyYpzlmK"
   },
   "source": [
    "# Comparison between methods\n",
    "- use hit@topK metrics "
   ]
  },
  {
   "cell_type": "code",
   "execution_count": null,
   "metadata": {
    "id": "FIrlDdgsAmsv"
   },
   "outputs": [],
   "source": [
    "def hit_at_k(predictions):\n",
    "  \n",
    "    N = len(predictions)\n",
    "    hitAt = []\n",
    "    predictions = np.array(predictions)\n",
    "    predictions.sort()\n",
    "    \n",
    "    for k in range(N):\n",
    "      atK = (predictions <= k).sum()\n",
    "      hitAt.append(atK/N)\n",
    "\n",
    "    return hitAt"
   ]
  },
  {
   "cell_type": "code",
   "execution_count": null,
   "metadata": {
    "id": "09QIFnbjDdpw"
   },
   "outputs": [],
   "source": [
    "se = hit_at_k(ranksEmbed)\n",
    "mp = hit_at_k(all_f[0])\n",
    "nm = hit_at_k(all_f2[0])\n",
    "sn = hit_at_k(siamese_ranks)"
   ]
  },
  {
   "cell_type": "code",
   "execution_count": null,
   "metadata": {
    "id": "HU3ir__FWEwG"
   },
   "outputs": [],
   "source": [
    "se10 = [hit_at_k(r) for r in ranks10]\n",
    "mp10 = [hit_at_k(r) for r in ranks10_mp_0]\n",
    "nm10 = [hit_at_k(r) for r in ranks10_nm_0]"
   ]
  },
  {
   "cell_type": "code",
   "execution_count": null,
   "metadata": {
    "colab": {
     "base_uri": "https://localhost:8080/",
     "height": 295
    },
    "id": "sU4_bj7EF1H2",
    "outputId": "759f3cfa-68e8-4da4-bc9e-0dd0a60e1b87"
   },
   "outputs": [
    {
     "data": {
      "image/png": "[encoded data removed]",
      "text/plain": [
       "<Figure size 432x288 with 1 Axes>"
      ]
     },
     "metadata": {
      "needs_background": "light"
     },
     "output_type": "display_data"
    }
   ],
   "source": [
    "plt.plot(range(len(se)), se, label=\"symptoms embedding\")\n",
    "plt.plot(range(len(se)), mp, label=\"metaphone edit dist\")\n",
    "plt.plot(range(len(se)), nm, label=\"edit dist\")\n",
    "plt.plot(range(len(se)), sn, label=\"Siamese network\")\n",
    "plt.legend()\n",
    "plt.xlabel(\"K (hit@K)\")\n",
    "plt.ylabel(\"Percentage of hit\")\n",
    "plt.title(\"Percentage of query hit@K\")\n",
    "plt.show()"
   ]
  },
  {
   "cell_type": "code",
   "execution_count": null,
   "metadata": {
    "colab": {
     "base_uri": "https://localhost:8080/",
     "height": 295
    },
    "id": "7Lbet9imUyfT",
    "outputId": "7b43abc1-286b-4ee7-b3fa-db4a505c6f0b"
   },
   "outputs": [
    {
     "data": {
      "image/png": "[encoded data removed]",
      "text/plain": [
       "<Figure size 432x288 with 1 Axes>"
      ]
     },
     "metadata": {
      "needs_background": "light"
     },
     "output_type": "display_data"
    }
   ],
   "source": [
    "# I need to repeat this. Last time I use wrong variables. -*- \n",
    "\n",
    "dt1 = pd.DataFrame(se10)\n",
    "dt1 = pd.melt(dt1.reset_index(), id_vars=\"index\")\n",
    "dt1[\"name\"] = \"se\"\n",
    "dt2 = pd.DataFrame(mp10)\n",
    "dt2 = pd.melt(dt2.reset_index(), id_vars=\"index\")\n",
    "dt2[\"name\"] =\"mp\"\n",
    "dt3 = pd.DataFrame(nm10)\n",
    "dt3 = pd.melt(dt3.reset_index(), id_vars=\"index\")\n",
    "dt3[\"name\"] = \"nm\"\n",
    "dt =pd.concat([dt1,dt2,dt3])\n",
    "\n",
    "sns.lineplot( x = \"variable\", y = \"value\", hue=\"name\", data=dt.reset_index(drop=True))\n",
    "plt.xlabel(\"K (hit@K)\")\n",
    "plt.ylabel(\"Percentage of hit\")\n",
    "plt.title(\"Percentage of query hit@K\")\n",
    "plt.show()"
   ]
  },
  {
   "cell_type": "markdown",
   "metadata": {
    "id": "uX6JXLSqdNPK"
   },
   "source": []
  },
  {
   "cell_type": "code",
   "execution_count": null,
   "metadata": {
    "id": "FcYMz7gedNk9"
   },
   "outputs": [],
   "source": []
  }
 ],
 "metadata": {
  "colab": {
   "collapsed_sections": [
    "n4hQ4x-G30K3"
   ],
   "name": "bmi_project_for_team.ipynb",
   "provenance": [],
   "toc_visible": true
  },
  "kernelspec": {
   "display_name": "Python 3 (ipykernel)",
   "language": "python",
   "name": "python3"
  },
  "language_info": {
   "codemirror_mode": {
    "name": "ipython",
    "version": 3
   },
   "file_extension": ".py",
   "mimetype": "text/x-python",
   "name": "python",
   "nbconvert_exporter": "python",
   "pygments_lexer": "ipython3",
   "version": "3.8.0"
  }
 },
 "nbformat": 4,
 "nbformat_minor": 4
}
