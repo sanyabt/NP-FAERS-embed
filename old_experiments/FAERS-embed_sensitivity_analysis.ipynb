{
 "cells": [
  {
   "cell_type": "markdown",
   "metadata": {},
   "source": [
    "## FAERS natural products sensitivity analysis\n",
    "\n"
   ]
  },
  {
   "cell_type": "code",
   "execution_count": 1,
   "metadata": {},
   "outputs": [],
   "source": [
    "import numpy as np\n",
    "import pandas as pd\n",
    "import pickle\n",
    "from IPython.display import display, clear_output\n",
    "import re"
   ]
  },
  {
   "cell_type": "code",
   "execution_count": null,
   "metadata": {},
   "outputs": [],
   "source": [
    "##read all unmapped strings and remove np reference set strings and negative pairs"
   ]
  },
  {
   "cell_type": "code",
   "execution_count": 2,
   "metadata": {},
   "outputs": [],
   "source": [
    "df = pd.read_csv('data/upper_unmap_orig_drug_names_202201201812.csv')\n",
    "dfpos = pd.read_csv('data/NP_FAERS_mapped_20220215.csv')\n",
    "dfneg = pd.read_csv('data/NP_FAERS_negative_pairs_20220222.csv')"
   ]
  },
  {
   "cell_type": "code",
   "execution_count": 3,
   "metadata": {},
   "outputs": [
    {
     "name": "stdout",
     "output_type": "stream",
     "text": [
      "<class 'pandas.core.frame.DataFrame'>\n",
      "RangeIndex: 569525 entries, 0 to 569524\n",
      "Data columns (total 1 columns):\n",
      " #   Column              Non-Null Count   Dtype \n",
      "---  ------              --------------   ----- \n",
      " 0   drug_name_original  412264 non-null  object\n",
      "dtypes: object(1)\n",
      "memory usage: 4.3+ MB\n"
     ]
    }
   ],
   "source": [
    "df.info()"
   ]
  },
  {
   "cell_type": "code",
   "execution_count": 4,
   "metadata": {},
   "outputs": [
    {
     "name": "stdout",
     "output_type": "stream",
     "text": [
      "<class 'pandas.core.frame.DataFrame'>\n",
      "RangeIndex: 5358 entries, 0 to 5357\n",
      "Data columns (total 2 columns):\n",
      " #   Column            Non-Null Count  Dtype \n",
      "---  ------            --------------  ----- \n",
      " 0   FAERS_drug_match  5358 non-null   object\n",
      " 1   lookup_value      5358 non-null   object\n",
      "dtypes: object(2)\n",
      "memory usage: 83.8+ KB\n"
     ]
    }
   ],
   "source": [
    "dfpos.info()"
   ]
  },
  {
   "cell_type": "code",
   "execution_count": 5,
   "metadata": {},
   "outputs": [
    {
     "name": "stdout",
     "output_type": "stream",
     "text": [
      "<class 'pandas.core.frame.DataFrame'>\n",
      "RangeIndex: 9242 entries, 0 to 9241\n",
      "Data columns (total 2 columns):\n",
      " #   Column            Non-Null Count  Dtype \n",
      "---  ------            --------------  ----- \n",
      " 0   FAERS_drug_match  9242 non-null   object\n",
      " 1   lookup_value      9242 non-null   object\n",
      "dtypes: object(2)\n",
      "memory usage: 144.5+ KB\n"
     ]
    }
   ],
   "source": [
    "dfneg.info()"
   ]
  },
  {
   "cell_type": "code",
   "execution_count": 6,
   "metadata": {},
   "outputs": [
    {
     "name": "stdout",
     "output_type": "stream",
     "text": [
      "<class 'pandas.core.frame.DataFrame'>\n",
      "RangeIndex: 2630 entries, 0 to 2629\n",
      "Data columns (total 1 columns):\n",
      " #   Column            Non-Null Count  Dtype \n",
      "---  ------            --------------  ----- \n",
      " 0   FAERS_drug_match  2630 non-null   object\n",
      "dtypes: object(1)\n",
      "memory usage: 20.7+ KB\n"
     ]
    }
   ],
   "source": [
    "dfpos = dfpos.drop(['lookup_value'], axis=1)\n",
    "dfpos = dfpos.drop_duplicates(ignore_index=True)\n",
    "dfpos.info()"
   ]
  },
  {
   "cell_type": "code",
   "execution_count": 7,
   "metadata": {},
   "outputs": [
    {
     "name": "stdout",
     "output_type": "stream",
     "text": [
      "<class 'pandas.core.frame.DataFrame'>\n",
      "RangeIndex: 4465 entries, 0 to 4464\n",
      "Data columns (total 1 columns):\n",
      " #   Column            Non-Null Count  Dtype \n",
      "---  ------            --------------  ----- \n",
      " 0   FAERS_drug_match  4465 non-null   object\n",
      "dtypes: object(1)\n",
      "memory usage: 35.0+ KB\n"
     ]
    }
   ],
   "source": [
    "dfneg = dfneg.drop(['lookup_value'], axis=1)\n",
    "dfneg = dfneg.drop_duplicates(ignore_index=True)\n",
    "dfneg.info()"
   ]
  },
  {
   "cell_type": "code",
   "execution_count": 2,
   "metadata": {},
   "outputs": [],
   "source": [
    "def clean(text):\n",
    "    #remove all non-ascii, special characters and keep alphabets and space only. Can also use isalpha()\n",
    "    #convert to uppercase\n",
    "    #remove extra spaces\n",
    "    regex = re.compile('[^a-zA-Z ]')\n",
    "    r = regex.sub('', text)\n",
    "    result = re.sub(' +', ' ', r)\n",
    "    result = result.strip()\n",
    "    return result.upper()"
   ]
  },
  {
   "cell_type": "code",
   "execution_count": 13,
   "metadata": {},
   "outputs": [
    {
     "data": {
      "text/html": [
       "<div>\n",
       "<style scoped>\n",
       "    .dataframe tbody tr th:only-of-type {\n",
       "        vertical-align: middle;\n",
       "    }\n",
       "\n",
       "    .dataframe tbody tr th {\n",
       "        vertical-align: top;\n",
       "    }\n",
       "\n",
       "    .dataframe thead th {\n",
       "        text-align: right;\n",
       "    }\n",
       "</style>\n",
       "<table border=\"1\" class=\"dataframe\">\n",
       "  <thead>\n",
       "    <tr style=\"text-align: right;\">\n",
       "      <th></th>\n",
       "      <th>drug_name_original</th>\n",
       "    </tr>\n",
       "  </thead>\n",
       "  <tbody>\n",
       "    <tr>\n",
       "      <th>276498</th>\n",
       "      <td>NaN</td>\n",
       "    </tr>\n",
       "    <tr>\n",
       "      <th>339826</th>\n",
       "      <td>NaN</td>\n",
       "    </tr>\n",
       "    <tr>\n",
       "      <th>358758</th>\n",
       "      <td>NaN</td>\n",
       "    </tr>\n",
       "    <tr>\n",
       "      <th>367030</th>\n",
       "      <td>NaN</td>\n",
       "    </tr>\n",
       "    <tr>\n",
       "      <th>367031</th>\n",
       "      <td>NaN</td>\n",
       "    </tr>\n",
       "    <tr>\n",
       "      <th>...</th>\n",
       "      <td>...</td>\n",
       "    </tr>\n",
       "    <tr>\n",
       "      <th>524283</th>\n",
       "      <td>NaN</td>\n",
       "    </tr>\n",
       "    <tr>\n",
       "      <th>524284</th>\n",
       "      <td>NaN</td>\n",
       "    </tr>\n",
       "    <tr>\n",
       "      <th>524285</th>\n",
       "      <td>NaN</td>\n",
       "    </tr>\n",
       "    <tr>\n",
       "      <th>524286</th>\n",
       "      <td>NaN</td>\n",
       "    </tr>\n",
       "    <tr>\n",
       "      <th>524287</th>\n",
       "      <td>NaN</td>\n",
       "    </tr>\n",
       "  </tbody>\n",
       "</table>\n",
       "<p>157261 rows × 1 columns</p>\n",
       "</div>"
      ],
      "text/plain": [
       "       drug_name_original\n",
       "276498                NaN\n",
       "339826                NaN\n",
       "358758                NaN\n",
       "367030                NaN\n",
       "367031                NaN\n",
       "...                   ...\n",
       "524283                NaN\n",
       "524284                NaN\n",
       "524285                NaN\n",
       "524286                NaN\n",
       "524287                NaN\n",
       "\n",
       "[157261 rows x 1 columns]"
      ]
     },
     "execution_count": 13,
     "metadata": {},
     "output_type": "execute_result"
    }
   ],
   "source": [
    "df.loc[df['drug_name_original'].isna()]"
   ]
  },
  {
   "cell_type": "code",
   "execution_count": 14,
   "metadata": {},
   "outputs": [],
   "source": [
    "#drop NA values\n",
    "df = df.dropna()"
   ]
  },
  {
   "cell_type": "code",
   "execution_count": 17,
   "metadata": {},
   "outputs": [
    {
     "name": "stdout",
     "output_type": "stream",
     "text": [
      "<class 'pandas.core.frame.DataFrame'>\n",
      "RangeIndex: 412264 entries, 0 to 412263\n",
      "Data columns (total 1 columns):\n",
      " #   Column              Non-Null Count   Dtype \n",
      "---  ------              --------------   ----- \n",
      " 0   drug_name_original  412264 non-null  object\n",
      "dtypes: object(1)\n",
      "memory usage: 3.1+ MB\n"
     ]
    }
   ],
   "source": [
    "df.info()"
   ]
  },
  {
   "cell_type": "code",
   "execution_count": 16,
   "metadata": {},
   "outputs": [],
   "source": [
    "df = df.reset_index(drop=True)"
   ]
  },
  {
   "cell_type": "code",
   "execution_count": 18,
   "metadata": {},
   "outputs": [
    {
     "name": "stdout",
     "output_type": "stream",
     "text": [
      "<class 'pandas.core.frame.DataFrame'>\n",
      "RangeIndex: 412264 entries, 0 to 412263\n",
      "Data columns (total 1 columns):\n",
      " #   Column            Non-Null Count   Dtype \n",
      "---  ------            --------------   ----- \n",
      " 0   FAERS_drug_match  412264 non-null  object\n",
      "dtypes: object(1)\n",
      "memory usage: 3.1+ MB\n"
     ]
    }
   ],
   "source": [
    "df = df.rename(columns={'drug_name_original':'FAERS_drug_match'})\n",
    "df.info()"
   ]
  },
  {
   "cell_type": "code",
   "execution_count": 21,
   "metadata": {},
   "outputs": [
    {
     "name": "stdout",
     "output_type": "stream",
     "text": [
      "<class 'pandas.core.frame.DataFrame'>\n",
      "Int64Index: 409635 entries, 0 to 412263\n",
      "Data columns (total 1 columns):\n",
      " #   Column            Non-Null Count   Dtype \n",
      "---  ------            --------------   ----- \n",
      " 0   FAERS_drug_match  409635 non-null  object\n",
      "dtypes: object(1)\n",
      "memory usage: 6.3+ MB\n"
     ]
    }
   ],
   "source": [
    "dftemp = pd.merge(df,dfpos, indicator=True, how='outer').query('_merge==\"left_only\"').drop('_merge', axis=1)\n",
    "dftemp.info()"
   ]
  },
  {
   "cell_type": "code",
   "execution_count": 22,
   "metadata": {},
   "outputs": [
    {
     "name": "stdout",
     "output_type": "stream",
     "text": [
      "<class 'pandas.core.frame.DataFrame'>\n",
      "Int64Index: 405332 entries, 0 to 409634\n",
      "Data columns (total 1 columns):\n",
      " #   Column            Non-Null Count   Dtype \n",
      "---  ------            --------------   ----- \n",
      " 0   FAERS_drug_match  405332 non-null  object\n",
      "dtypes: object(1)\n",
      "memory usage: 6.2+ MB\n"
     ]
    }
   ],
   "source": [
    "dfunmap = pd.merge(dftemp,dfneg, indicator=True, how='outer').query('_merge==\"left_only\"').drop('_merge', axis=1)\n",
    "dfunmap.info()"
   ]
  },
  {
   "cell_type": "code",
   "execution_count": 23,
   "metadata": {},
   "outputs": [
    {
     "name": "stdout",
     "output_type": "stream",
     "text": [
      "<class 'pandas.core.frame.DataFrame'>\n",
      "RangeIndex: 405332 entries, 0 to 405331\n",
      "Data columns (total 1 columns):\n",
      " #   Column            Non-Null Count   Dtype \n",
      "---  ------            --------------   ----- \n",
      " 0   FAERS_drug_match  405332 non-null  object\n",
      "dtypes: object(1)\n",
      "memory usage: 3.1+ MB\n"
     ]
    }
   ],
   "source": [
    "dfunmap = dfunmap.reset_index(drop=True)\n",
    "dfunmap.info()"
   ]
  },
  {
   "cell_type": "code",
   "execution_count": 24,
   "metadata": {},
   "outputs": [],
   "source": [
    "dfunmap.to_csv('data/upper_unmap_orig_drug_names_no_model_overlap_20220224.csv', index=False)"
   ]
  },
  {
   "cell_type": "code",
   "execution_count": 25,
   "metadata": {},
   "outputs": [
    {
     "data": {
      "text/html": [
       "<div>\n",
       "<style scoped>\n",
       "    .dataframe tbody tr th:only-of-type {\n",
       "        vertical-align: middle;\n",
       "    }\n",
       "\n",
       "    .dataframe tbody tr th {\n",
       "        vertical-align: top;\n",
       "    }\n",
       "\n",
       "    .dataframe thead th {\n",
       "        text-align: right;\n",
       "    }\n",
       "</style>\n",
       "<table border=\"1\" class=\"dataframe\">\n",
       "  <thead>\n",
       "    <tr style=\"text-align: right;\">\n",
       "      <th></th>\n",
       "      <th>FAERS_drug_match</th>\n",
       "    </tr>\n",
       "  </thead>\n",
       "  <tbody>\n",
       "    <tr>\n",
       "      <th>0</th>\n",
       "      <td>ACRINOL HYDRATE</td>\n",
       "    </tr>\n",
       "    <tr>\n",
       "      <th>1</th>\n",
       "      <td>MAXAZIDE/TRIAMTEREN HCTZ</td>\n",
       "    </tr>\n",
       "    <tr>\n",
       "      <th>2</th>\n",
       "      <td>KETOBEMIDONE (KETOGAN) (KETOGIN)</td>\n",
       "    </tr>\n",
       "    <tr>\n",
       "      <th>3</th>\n",
       "      <td>TYLENOL XTRA STRENGTH</td>\n",
       "    </tr>\n",
       "    <tr>\n",
       "      <th>4</th>\n",
       "      <td>MINOCYCLINE(MINOCYLCINE HYDROCHLORIDE)</td>\n",
       "    </tr>\n",
       "  </tbody>\n",
       "</table>\n",
       "</div>"
      ],
      "text/plain": [
       "                         FAERS_drug_match\n",
       "0                         ACRINOL HYDRATE\n",
       "1                MAXAZIDE/TRIAMTEREN HCTZ\n",
       "2        KETOBEMIDONE (KETOGAN) (KETOGIN)\n",
       "3                   TYLENOL XTRA STRENGTH\n",
       "4  MINOCYCLINE(MINOCYLCINE HYDROCHLORIDE)"
      ]
     },
     "execution_count": 25,
     "metadata": {},
     "output_type": "execute_result"
    }
   ],
   "source": [
    "dfunmap.head()"
   ]
  },
  {
   "cell_type": "markdown",
   "metadata": {},
   "source": [
    "### Read unmapped data from file and load tensorflow model for prediction"
   ]
  },
  {
   "cell_type": "code",
   "execution_count": 2,
   "metadata": {},
   "outputs": [],
   "source": [
    "import tensorflow as tf\n",
    "import string\n",
    "import random\n",
    "from sklearn.utils import shuffle\n",
    "from sklearn.model_selection import train_test_split"
   ]
  },
  {
   "cell_type": "code",
   "execution_count": 3,
   "metadata": {},
   "outputs": [],
   "source": []
  },
  {
   "cell_type": "code",
   "execution_count": 50,
   "metadata": {},
   "outputs": [],
   "source": [
    "# how i add noise \n",
    "# string w \n",
    "# proportion of noise added \n",
    "# uniform random from [0,1]\n",
    "# if <1/3 edit one position with new random character, else if <2/3 delete one position, else add one random character \n",
    "def add_noise(w, percent):\n",
    "  ''' edit, del, add'''\n",
    "  positions = random.choices(range(len(w)), k=int(percent*len(w)))\n",
    "  for p in positions:\n",
    "    r = random.random()\n",
    "    if r <= 0.3333: # edit\n",
    "      w = w[:p] + random.choice(string.ascii_uppercase) + w[p+1:]\n",
    "    elif r<= 0.6667: # delete\n",
    "      w = w[:p] + w[p+1:]\n",
    "    elif r<=1: # add\n",
    "      w = w[:p] + random.choice(string.ascii_uppercase) + w[p:]\n",
    "  return w\n",
    "\n",
    "def clean(text):\n",
    "    #remove all non-ascii, special characters and keep alphabets and space only. Can also use isalpha()\n",
    "    #convert to uppercase\n",
    "    #remove extra spaces\n",
    "    regex = re.compile('[^a-zA-Z ]')\n",
    "    r = regex.sub('', text)\n",
    "    result = re.sub(' +', ' ', r)\n",
    "    result = result.strip()\n",
    "    return result.upper()\n",
    "def clean_dataset(data):\n",
    "  x = []\n",
    "  y = []\n",
    "  for i in range(data.shape[0]):\n",
    "    w = clean(data.FAERS_drug_match.iloc[i])\n",
    "    x.append(w)\n",
    "  return x\n",
    "\n",
    "def encode_dataset(x):\n",
    "  encode_dict = {l:i+1 for i,l in enumerate(string.ascii_uppercase + \" \")}\n",
    "  Xtrain = [[encode_dict[m] for m in n] for n in x]\n",
    "  return Xtrain\n",
    "\n",
    "def clean_encode_padding(q, maxlen):\n",
    "  q = clean(q)\n",
    "  encode_dict = {l:i+1 for i,l in enumerate(string.ascii_uppercase + \" \")}\n",
    "  return tf.keras.preprocessing.sequence.pad_sequences(\n",
    "    [encode_dict[m] for m in q] , padding=\"post\", maxlen=maxlen)\n",
    "\n",
    "def padding_dataset(X,maxlen):\n",
    "  padded_x = tf.keras.preprocessing.sequence.pad_sequences(\n",
    "      X, padding=\"post\", maxlen=maxlen)\n",
    "  return padded_x\n",
    "\n",
    "def cosine_distance(vects):\n",
    "    x, y = vects\n",
    "    return 1-tf.reduce_sum(tf.multiply(x,y),axis=1, keepdims=True)/(tf.norm(x,axis=1,keepdims=True)*tf.norm(y,axis=1,keepdims=True))\n",
    "\n",
    "def loss(margin=1):\n",
    "    def contrastive_loss(y_true, y_pred):\n",
    "        square_pred = tf.math.square(y_pred)\n",
    "        margin_square = tf.math.square(tf.math.maximum(margin - (y_pred), 0))\n",
    "        return tf.math.reduce_mean(\n",
    "            (1 - y_true) * square_pred + (y_true) * margin_square\n",
    "        )\n",
    "\n",
    "    return contrastive_loss\n"
   ]
  },
  {
   "cell_type": "code",
   "execution_count": 5,
   "metadata": {},
   "outputs": [],
   "source": [
    "maxlen = 400"
   ]
  },
  {
   "cell_type": "code",
   "execution_count": 6,
   "metadata": {},
   "outputs": [
    {
     "name": "stderr",
     "output_type": "stream",
     "text": [
      "2022-03-03 10:24:40.663016: I tensorflow/core/platform/cpu_feature_guard.cc:151] This TensorFlow binary is optimized with oneAPI Deep Neural Network Library (oneDNN) to use the following CPU instructions in performance-critical operations:  AVX2 AVX512F FMA\n",
      "To enable them in other operations, rebuild TensorFlow with the appropriate compiler flags.\n",
      "2022-03-03 10:24:41.613205: I tensorflow/core/common_runtime/gpu/gpu_device.cc:1525] Created device /job:localhost/replica:0/task:0/device:GPU:0 with 9648 MB memory:  -> device: 0, name: NVIDIA GeForce RTX 2080 Ti, pci bus id: 0000:af:00.0, compute capability: 7.5\n"
     ]
    }
   ],
   "source": [
    "def build_model2(model_type, embedding_dim, num_rnn_node, num_dense_node, num_layer, activation_fn, learning_rate, optimizer, margin):\n",
    "    input_x = tf.keras.layers.Input(maxlen)\n",
    "    input_1 = tf.keras.layers.Input(maxlen)\n",
    "    input_2 = tf.keras.layers.Input(maxlen)\n",
    "    embedding = tf.keras.layers.Embedding(input_dim=28, output_dim=embedding_dim, mask_zero=True)\n",
    "    x = embedding(input_x)\n",
    "    \n",
    "    if model_type == \"lstm\":\n",
    "        x = tf.keras.layers.LSTM(num_rnn_node)(x)\n",
    "    elif model_type==\"gru\":\n",
    "        x = tf.keras.layers.GRU(num_rnn_node)(x)\n",
    " \n",
    "    num = num_dense_node\n",
    "    for _ in range(num_layer):\n",
    "        x = tf.keras.layers.Dense(num, activation=activation_fn)(x)\n",
    "        num /= 2\n",
    "        \n",
    "    embedding_network = tf.keras.Model(input_x, x)\n",
    "\n",
    "    tower_1 = embedding_network(input_1)\n",
    "    tower_2 = embedding_network(input_2)\n",
    "\n",
    "    merge_layer = tf.keras.layers.Lambda(cosine_distance)([tower_1, tower_2])\n",
    "    output_layer = tf.keras.layers.Dense(1, activation=\"sigmoid\")(merge_layer)\n",
    "    contr = tf.keras.Model(inputs=[input_1, input_2], outputs=output_layer)\n",
    "    \n",
    "    if optimizer == \"Adam\":\n",
    "        opt = tf.keras.optimizers.Adam(learning_rate=learning_rate)\n",
    "    elif optimizer ==\"RMSprop\":                \n",
    "        opt = tf.keras.optimizers.RMSprop(learning_rate=learning_rate)\n",
    "    contr.compile(loss=loss(margin= margin), optimizer=opt, metrics=[\"accuracy\"])\n",
    "    return contr\n",
    "\n",
    "model = build_model2(\"lstm\", 256, 512, 256, 1, \"tanh\", 2e-4, \"Adam\", 0.8)"
   ]
  },
  {
   "cell_type": "code",
   "execution_count": 7,
   "metadata": {},
   "outputs": [],
   "source": [
    "model.load_weights(\"exp3/alstm-22-0.01.hdf5\")"
   ]
  },
  {
   "cell_type": "code",
   "execution_count": null,
   "metadata": {},
   "outputs": [],
   "source": []
  },
  {
   "cell_type": "code",
   "execution_count": 8,
   "metadata": {},
   "outputs": [
    {
     "name": "stdout",
     "output_type": "stream",
     "text": [
      "Model: \"model_1\"\n",
      "__________________________________________________________________________________________________\n",
      " Layer (type)                   Output Shape         Param #     Connected to                     \n",
      "==================================================================================================\n",
      " input_2 (InputLayer)           [(None, 400)]        0           []                               \n",
      "                                                                                                  \n",
      " input_3 (InputLayer)           [(None, 400)]        0           []                               \n",
      "                                                                                                  \n",
      " model (Functional)             (None, 256)          1713408     ['input_2[0][0]',                \n",
      "                                                                  'input_3[0][0]']                \n",
      "                                                                                                  \n",
      " lambda (Lambda)                (None, 1)            0           ['model[0][0]',                  \n",
      "                                                                  'model[1][0]']                  \n",
      "                                                                                                  \n",
      " dense_1 (Dense)                (None, 1)            2           ['lambda[0][0]']                 \n",
      "                                                                                                  \n",
      "==================================================================================================\n",
      "Total params: 1,713,410\n",
      "Trainable params: 1,713,410\n",
      "Non-trainable params: 0\n",
      "__________________________________________________________________________________________________\n"
     ]
    }
   ],
   "source": [
    "model.summary()"
   ]
  },
  {
   "cell_type": "code",
   "execution_count": 9,
   "metadata": {},
   "outputs": [
    {
     "name": "stdout",
     "output_type": "stream",
     "text": [
      "<keras.engine.input_layer.InputLayer object at 0x7f12f8a04fd0>\n",
      "<keras.engine.input_layer.InputLayer object at 0x7f12f89b4280>\n",
      "<keras.engine.functional.Functional object at 0x7f12f80fd220>\n",
      "<keras.layers.core.lambda_layer.Lambda object at 0x7f12f80bb5e0>\n",
      "<keras.layers.core.dense.Dense object at 0x7f12e80b98e0>\n"
     ]
    }
   ],
   "source": [
    "for layer in model.layers:\n",
    "    print(layer)"
   ]
  },
  {
   "cell_type": "code",
   "execution_count": null,
   "metadata": {},
   "outputs": [],
   "source": []
  },
  {
   "cell_type": "code",
   "execution_count": 23,
   "metadata": {},
   "outputs": [
    {
     "data": {
      "text/plain": [
       "8"
      ]
     },
     "execution_count": 23,
     "metadata": {},
     "output_type": "execute_result"
    }
   ],
   "source": [
    "len(model.get_weights())"
   ]
  },
  {
   "cell_type": "code",
   "execution_count": 24,
   "metadata": {},
   "outputs": [
    {
     "name": "stdout",
     "output_type": "stream",
     "text": [
      "<class 'pandas.core.frame.DataFrame'>\n",
      "RangeIndex: 405332 entries, 0 to 405331\n",
      "Data columns (total 1 columns):\n",
      " #   Column            Non-Null Count   Dtype \n",
      "---  ------            --------------   ----- \n",
      " 0   FAERS_drug_match  405332 non-null  object\n",
      "dtypes: object(1)\n",
      "memory usage: 3.1+ MB\n"
     ]
    }
   ],
   "source": [
    "###read unmapped data\n",
    "dfunmap = pd.read_csv('data/upper_unmap_orig_drug_names_no_model_overlap_20220224.csv')\n",
    "dfunmap.info()"
   ]
  },
  {
   "cell_type": "code",
   "execution_count": 28,
   "metadata": {},
   "outputs": [
    {
     "name": "stdout",
     "output_type": "stream",
     "text": [
      "<class 'pandas.core.frame.DataFrame'>\n",
      "RangeIndex: 1000 entries, 0 to 999\n",
      "Data columns (total 1 columns):\n",
      " #   Column            Non-Null Count  Dtype \n",
      "---  ------            --------------  ----- \n",
      " 0   FAERS_drug_match  1000 non-null   object\n",
      "dtypes: object(1)\n",
      "memory usage: 7.9+ KB\n"
     ]
    }
   ],
   "source": [
    "df = dfunmap[0:1000]\n",
    "df.info()"
   ]
  },
  {
   "cell_type": "code",
   "execution_count": 29,
   "metadata": {},
   "outputs": [
    {
     "data": {
      "text/html": [
       "<div>\n",
       "<style scoped>\n",
       "    .dataframe tbody tr th:only-of-type {\n",
       "        vertical-align: middle;\n",
       "    }\n",
       "\n",
       "    .dataframe tbody tr th {\n",
       "        vertical-align: top;\n",
       "    }\n",
       "\n",
       "    .dataframe thead th {\n",
       "        text-align: right;\n",
       "    }\n",
       "</style>\n",
       "<table border=\"1\" class=\"dataframe\">\n",
       "  <thead>\n",
       "    <tr style=\"text-align: right;\">\n",
       "      <th></th>\n",
       "      <th>FAERS_drug_match</th>\n",
       "    </tr>\n",
       "  </thead>\n",
       "  <tbody>\n",
       "    <tr>\n",
       "      <th>0</th>\n",
       "      <td>ACRINOL HYDRATE</td>\n",
       "    </tr>\n",
       "    <tr>\n",
       "      <th>1</th>\n",
       "      <td>MAXAZIDE/TRIAMTEREN HCTZ</td>\n",
       "    </tr>\n",
       "    <tr>\n",
       "      <th>2</th>\n",
       "      <td>KETOBEMIDONE (KETOGAN) (KETOGIN)</td>\n",
       "    </tr>\n",
       "    <tr>\n",
       "      <th>3</th>\n",
       "      <td>TYLENOL XTRA STRENGTH</td>\n",
       "    </tr>\n",
       "    <tr>\n",
       "      <th>4</th>\n",
       "      <td>MINOCYCLINE(MINOCYLCINE HYDROCHLORIDE)</td>\n",
       "    </tr>\n",
       "  </tbody>\n",
       "</table>\n",
       "</div>"
      ],
      "text/plain": [
       "                         FAERS_drug_match\n",
       "0                         ACRINOL HYDRATE\n",
       "1                MAXAZIDE/TRIAMTEREN HCTZ\n",
       "2        KETOBEMIDONE (KETOGAN) (KETOGIN)\n",
       "3                   TYLENOL XTRA STRENGTH\n",
       "4  MINOCYCLINE(MINOCYLCINE HYDROCHLORIDE)"
      ]
     },
     "execution_count": 29,
     "metadata": {},
     "output_type": "execute_result"
    }
   ],
   "source": [
    "df.head()"
   ]
  },
  {
   "cell_type": "code",
   "execution_count": 30,
   "metadata": {},
   "outputs": [
    {
     "data": {
      "text/plain": [
       "datetime.datetime(2022, 3, 3, 10, 35, 54, 447430)"
      ]
     },
     "execution_count": 30,
     "metadata": {},
     "output_type": "execute_result"
    }
   ],
   "source": [
    "from datetime import datetime\n",
    "datetime.now()"
   ]
  },
  {
   "cell_type": "code",
   "execution_count": 71,
   "metadata": {},
   "outputs": [],
   "source": [
    "##read lb to common names and get unique names, also get unique names of drugs\n",
    "##read lb to common names and select random NPs for computing similarity with unmapped drugs\n",
    "np_list = ['ABSINTHE',\n",
    "'ABSINTHE WORMWOOD',\n",
    "'ABSINTHIUM',\n",
    "'ABSINTHIUM OFFICINALE WHOLE',\n",
    "'ABSINTHIUM VULGARE WHOLE',\n",
    "'ABSINTHIUM WHOLE',\n",
    "'ABSINTH SAGEWORT WHOLE',\n",
    "'ABSINTH WORMWOOD WHOLE',\n",
    "'PRUNUS ARMENIACA', 'APRICOT', 'APIUM GRAVEOLENS', 'CELERY']"
   ]
  },
  {
   "cell_type": "code",
   "execution_count": 72,
   "metadata": {},
   "outputs": [],
   "source": [
    "##df has first 1000 of unmapped strings\n",
    "test_unmap = clean_dataset(df)\n",
    "test_unmap_encode = encode_dataset(test_unmap)\n",
    "padded_test = padding_dataset(test_unmap_encode,maxlen)"
   ]
  },
  {
   "cell_type": "code",
   "execution_count": 73,
   "metadata": {},
   "outputs": [
    {
     "data": {
      "text/plain": [
       "numpy.ndarray"
      ]
     },
     "execution_count": 73,
     "metadata": {},
     "output_type": "execute_result"
    }
   ],
   "source": [
    "type(padded_testt[0,:])"
   ]
  },
  {
   "cell_type": "code",
   "execution_count": 74,
   "metadata": {},
   "outputs": [],
   "source": [
    "encode_dict = {l:i+1 for i,l in enumerate(string.ascii_uppercase + \" \")}"
   ]
  },
  {
   "cell_type": "code",
   "execution_count": 76,
   "metadata": {},
   "outputs": [],
   "source": [
    "dUnique_seq_list = [[encode_dict[m] for m in n] for n in np_list]\n",
    "dUnique = tf.keras.preprocessing.sequence.pad_sequences(\n",
    "    dUnique_seq_list, padding=\"post\", maxlen=maxlen)"
   ]
  },
  {
   "cell_type": "code",
   "execution_count": 77,
   "metadata": {},
   "outputs": [
    {
     "data": {
      "text/plain": [
       "12"
      ]
     },
     "execution_count": 77,
     "metadata": {},
     "output_type": "execute_result"
    }
   ],
   "source": [
    "len(dUnique)"
   ]
  },
  {
   "cell_type": "code",
   "execution_count": 78,
   "metadata": {},
   "outputs": [
    {
     "data": {
      "text/plain": [
       "12"
      ]
     },
     "execution_count": 78,
     "metadata": {},
     "output_type": "execute_result"
    }
   ],
   "source": [
    "dUnique.shape[0]"
   ]
  },
  {
   "cell_type": "code",
   "execution_count": 82,
   "metadata": {},
   "outputs": [
    {
     "name": "stdout",
     "output_type": "stream",
     "text": [
      "2022-03-03 11:02:04.597646\n",
      "2022-03-03 11:02:04.711359\n"
     ]
    }
   ],
   "source": [
    "print(datetime.now())\n",
    "predicts = model.predict([np.tile(padded_test[0,:], (dUnique.shape[0],1)), dUnique])\n",
    "print(datetime.now())"
   ]
  },
  {
   "cell_type": "code",
   "execution_count": 83,
   "metadata": {},
   "outputs": [
    {
     "data": {
      "text/plain": [
       "array([[0.0667495 ],\n",
       "       [0.01420481],\n",
       "       [0.00045384],\n",
       "       [0.00191143],\n",
       "       [0.00047604],\n",
       "       [0.00043126],\n",
       "       [0.00109308],\n",
       "       [0.00138434],\n",
       "       [0.02856903],\n",
       "       [0.06765651],\n",
       "       [0.00571964],\n",
       "       [0.00591195]], dtype=float32)"
      ]
     },
     "execution_count": 83,
     "metadata": {},
     "output_type": "execute_result"
    }
   ],
   "source": [
    "predicts"
   ]
  },
  {
   "cell_type": "code",
   "execution_count": null,
   "metadata": {},
   "outputs": [],
   "source": [
    "##takes 4 seconds with 12 items in dUnique"
   ]
  },
  {
   "cell_type": "code",
   "execution_count": null,
   "metadata": {},
   "outputs": [],
   "source": [
    "test_eval = pd.DataFrame(columns = ['FAERS_drug_match', ])"
   ]
  },
  {
   "cell_type": "code",
   "execution_count": null,
   "metadata": {},
   "outputs": [],
   "source": [
    "#find ranks 1, 2 and 3 (can go upto any number n) from the predicted similarities for the test data\n",
    "for i in range(padded_testt.shape[0]):\n",
    "    predicts = model.predict([np.tile(padded_testt[i,:], (dUnique.shape[0],1)), dUnique])\n",
    "    argsort = np.argsort(-predicts.flatten())\n",
    "    test_eval.at[i, 'FAERS_drug_match'] = test.at[i, 'FAERS_drug_match']\n",
    "    \n",
    "test_eval.head()"
   ]
  },
  {
   "cell_type": "code",
   "execution_count": 98,
   "metadata": {},
   "outputs": [
    {
     "name": "stdout",
     "output_type": "stream",
     "text": [
      "<class 'pandas.core.frame.DataFrame'>\n",
      "RangeIndex: 6195 entries, 0 to 6194\n",
      "Data columns (total 2 columns):\n",
      " #   Column      Non-Null Count  Dtype \n",
      "---  ------      --------------  ----- \n",
      " 0   concept_id  6195 non-null   int64 \n",
      " 1   np_name     6195 non-null   object\n",
      "dtypes: int64(1), object(1)\n",
      "memory usage: 96.9+ KB\n"
     ]
    }
   ],
   "source": [
    "np_df = pd.read_csv('data/np_names_clean_202201201810.csv')\n",
    "np_df.info()"
   ]
  },
  {
   "cell_type": "code",
   "execution_count": 99,
   "metadata": {},
   "outputs": [
    {
     "data": {
      "text/html": [
       "<div>\n",
       "<style scoped>\n",
       "    .dataframe tbody tr th:only-of-type {\n",
       "        vertical-align: middle;\n",
       "    }\n",
       "\n",
       "    .dataframe tbody tr th {\n",
       "        vertical-align: top;\n",
       "    }\n",
       "\n",
       "    .dataframe thead th {\n",
       "        text-align: right;\n",
       "    }\n",
       "</style>\n",
       "<table border=\"1\" class=\"dataframe\">\n",
       "  <thead>\n",
       "    <tr style=\"text-align: right;\">\n",
       "      <th></th>\n",
       "      <th>concept_id</th>\n",
       "      <th>np_name</th>\n",
       "    </tr>\n",
       "  </thead>\n",
       "  <tbody>\n",
       "    <tr>\n",
       "      <th>0</th>\n",
       "      <td>-7991903</td>\n",
       "      <td>SUO CAO</td>\n",
       "    </tr>\n",
       "    <tr>\n",
       "      <th>1</th>\n",
       "      <td>-7993765</td>\n",
       "      <td>PURPLE NUT SEDGE WHOLE</td>\n",
       "    </tr>\n",
       "    <tr>\n",
       "      <th>2</th>\n",
       "      <td>-7997759</td>\n",
       "      <td>POGOSTEMON JAVANICUS WHOLE</td>\n",
       "    </tr>\n",
       "    <tr>\n",
       "      <th>3</th>\n",
       "      <td>-7992037</td>\n",
       "      <td>HORDEUM AMERICANUM WHOLE</td>\n",
       "    </tr>\n",
       "    <tr>\n",
       "      <th>4</th>\n",
       "      <td>-7992977</td>\n",
       "      <td>SAMAMA CITRIFOLIA WHOLE</td>\n",
       "    </tr>\n",
       "  </tbody>\n",
       "</table>\n",
       "</div>"
      ],
      "text/plain": [
       "   concept_id                     np_name\n",
       "0    -7991903                     SUO CAO\n",
       "1    -7993765      PURPLE NUT SEDGE WHOLE\n",
       "2    -7997759  POGOSTEMON JAVANICUS WHOLE\n",
       "3    -7992037    HORDEUM AMERICANUM WHOLE\n",
       "4    -7992977     SAMAMA CITRIFOLIA WHOLE"
      ]
     },
     "execution_count": 99,
     "metadata": {},
     "output_type": "execute_result"
    }
   ],
   "source": [
    "np_df.head()"
   ]
  },
  {
   "cell_type": "code",
   "execution_count": 100,
   "metadata": {},
   "outputs": [],
   "source": [
    "np_df['np_name_clean'] = np_df['np_name'].apply(clean)"
   ]
  },
  {
   "cell_type": "code",
   "execution_count": 101,
   "metadata": {},
   "outputs": [
    {
     "data": {
      "text/html": [
       "<div>\n",
       "<style scoped>\n",
       "    .dataframe tbody tr th:only-of-type {\n",
       "        vertical-align: middle;\n",
       "    }\n",
       "\n",
       "    .dataframe tbody tr th {\n",
       "        vertical-align: top;\n",
       "    }\n",
       "\n",
       "    .dataframe thead th {\n",
       "        text-align: right;\n",
       "    }\n",
       "</style>\n",
       "<table border=\"1\" class=\"dataframe\">\n",
       "  <thead>\n",
       "    <tr style=\"text-align: right;\">\n",
       "      <th></th>\n",
       "      <th>concept_id</th>\n",
       "      <th>np_name</th>\n",
       "      <th>np_name_clean</th>\n",
       "    </tr>\n",
       "  </thead>\n",
       "  <tbody>\n",
       "    <tr>\n",
       "      <th>0</th>\n",
       "      <td>-7991903</td>\n",
       "      <td>SUO CAO</td>\n",
       "      <td>SUO CAO</td>\n",
       "    </tr>\n",
       "    <tr>\n",
       "      <th>1</th>\n",
       "      <td>-7993765</td>\n",
       "      <td>PURPLE NUT SEDGE WHOLE</td>\n",
       "      <td>PURPLE NUT SEDGE WHOLE</td>\n",
       "    </tr>\n",
       "    <tr>\n",
       "      <th>2</th>\n",
       "      <td>-7997759</td>\n",
       "      <td>POGOSTEMON JAVANICUS WHOLE</td>\n",
       "      <td>POGOSTEMON JAVANICUS WHOLE</td>\n",
       "    </tr>\n",
       "    <tr>\n",
       "      <th>3</th>\n",
       "      <td>-7992037</td>\n",
       "      <td>HORDEUM AMERICANUM WHOLE</td>\n",
       "      <td>HORDEUM AMERICANUM WHOLE</td>\n",
       "    </tr>\n",
       "    <tr>\n",
       "      <th>4</th>\n",
       "      <td>-7992977</td>\n",
       "      <td>SAMAMA CITRIFOLIA WHOLE</td>\n",
       "      <td>SAMAMA CITRIFOLIA WHOLE</td>\n",
       "    </tr>\n",
       "  </tbody>\n",
       "</table>\n",
       "</div>"
      ],
      "text/plain": [
       "   concept_id                     np_name               np_name_clean\n",
       "0    -7991903                     SUO CAO                     SUO CAO\n",
       "1    -7993765      PURPLE NUT SEDGE WHOLE      PURPLE NUT SEDGE WHOLE\n",
       "2    -7997759  POGOSTEMON JAVANICUS WHOLE  POGOSTEMON JAVANICUS WHOLE\n",
       "3    -7992037    HORDEUM AMERICANUM WHOLE    HORDEUM AMERICANUM WHOLE\n",
       "4    -7992977     SAMAMA CITRIFOLIA WHOLE     SAMAMA CITRIFOLIA WHOLE"
      ]
     },
     "execution_count": 101,
     "metadata": {},
     "output_type": "execute_result"
    }
   ],
   "source": [
    "np_df.head()"
   ]
  },
  {
   "cell_type": "code",
   "execution_count": 102,
   "metadata": {},
   "outputs": [
    {
     "data": {
      "text/html": [
       "<div>\n",
       "<style scoped>\n",
       "    .dataframe tbody tr th:only-of-type {\n",
       "        vertical-align: middle;\n",
       "    }\n",
       "\n",
       "    .dataframe tbody tr th {\n",
       "        vertical-align: top;\n",
       "    }\n",
       "\n",
       "    .dataframe thead th {\n",
       "        text-align: right;\n",
       "    }\n",
       "</style>\n",
       "<table border=\"1\" class=\"dataframe\">\n",
       "  <thead>\n",
       "    <tr style=\"text-align: right;\">\n",
       "      <th></th>\n",
       "      <th>dUnique_label</th>\n",
       "      <th>dUnique_seq</th>\n",
       "      <th>dUnique_seq_padded</th>\n",
       "    </tr>\n",
       "  </thead>\n",
       "  <tbody>\n",
       "    <tr>\n",
       "      <th>0</th>\n",
       "      <td>AARONS ROD WHOLE</td>\n",
       "      <td>NaN</td>\n",
       "      <td>NaN</td>\n",
       "    </tr>\n",
       "    <tr>\n",
       "      <th>1</th>\n",
       "      <td>AARONSROD</td>\n",
       "      <td>NaN</td>\n",
       "      <td>NaN</td>\n",
       "    </tr>\n",
       "    <tr>\n",
       "      <th>2</th>\n",
       "      <td>ABIES ABIES WHOLE</td>\n",
       "      <td>NaN</td>\n",
       "      <td>NaN</td>\n",
       "    </tr>\n",
       "    <tr>\n",
       "      <th>3</th>\n",
       "      <td>ABIES ALBA</td>\n",
       "      <td>NaN</td>\n",
       "      <td>NaN</td>\n",
       "    </tr>\n",
       "    <tr>\n",
       "      <th>4</th>\n",
       "      <td>ABIES ALBA MILL</td>\n",
       "      <td>NaN</td>\n",
       "      <td>NaN</td>\n",
       "    </tr>\n",
       "  </tbody>\n",
       "</table>\n",
       "</div>"
      ],
      "text/plain": [
       "       dUnique_label dUnique_seq dUnique_seq_padded\n",
       "0   AARONS ROD WHOLE         NaN                NaN\n",
       "1          AARONSROD         NaN                NaN\n",
       "2  ABIES ABIES WHOLE         NaN                NaN\n",
       "3         ABIES ALBA         NaN                NaN\n",
       "4    ABIES ALBA MILL         NaN                NaN"
      ]
     },
     "execution_count": 102,
     "metadata": {},
     "output_type": "execute_result"
    }
   ],
   "source": [
    "dUnique_df = pd.DataFrame(columns = ['dUnique_label','dUnique_seq', 'dUnique_seq_padded'])\n",
    "dUnique_df['dUnique_label'] = np.unique(np_df.np_name_clean.tolist())\n",
    "dUnique_df.head()"
   ]
  },
  {
   "cell_type": "code",
   "execution_count": 103,
   "metadata": {},
   "outputs": [
    {
     "data": {
      "text/plain": [
       "6160"
      ]
     },
     "execution_count": 103,
     "metadata": {},
     "output_type": "execute_result"
    }
   ],
   "source": [
    "dUnique_seq_list = [[encode_dict[m] for m in n] for n in dUnique_df['dUnique_label'].tolist()]\n",
    "len(dUnique_seq_list)"
   ]
  },
  {
   "cell_type": "code",
   "execution_count": 104,
   "metadata": {},
   "outputs": [
    {
     "data": {
      "text/html": [
       "<div>\n",
       "<style scoped>\n",
       "    .dataframe tbody tr th:only-of-type {\n",
       "        vertical-align: middle;\n",
       "    }\n",
       "\n",
       "    .dataframe tbody tr th {\n",
       "        vertical-align: top;\n",
       "    }\n",
       "\n",
       "    .dataframe thead th {\n",
       "        text-align: right;\n",
       "    }\n",
       "</style>\n",
       "<table border=\"1\" class=\"dataframe\">\n",
       "  <thead>\n",
       "    <tr style=\"text-align: right;\">\n",
       "      <th></th>\n",
       "      <th>dUnique_label</th>\n",
       "      <th>dUnique_seq</th>\n",
       "      <th>dUnique_seq_padded</th>\n",
       "    </tr>\n",
       "  </thead>\n",
       "  <tbody>\n",
       "    <tr>\n",
       "      <th>0</th>\n",
       "      <td>AARONS ROD WHOLE</td>\n",
       "      <td>[1, 1, 18, 15, 14, 19, 27, 18, 15, 4, 27, 23, ...</td>\n",
       "      <td>NaN</td>\n",
       "    </tr>\n",
       "    <tr>\n",
       "      <th>1</th>\n",
       "      <td>AARONSROD</td>\n",
       "      <td>[1, 1, 18, 15, 14, 19, 18, 15, 4]</td>\n",
       "      <td>NaN</td>\n",
       "    </tr>\n",
       "    <tr>\n",
       "      <th>2</th>\n",
       "      <td>ABIES ABIES WHOLE</td>\n",
       "      <td>[1, 2, 9, 5, 19, 27, 1, 2, 9, 5, 19, 27, 23, 8...</td>\n",
       "      <td>NaN</td>\n",
       "    </tr>\n",
       "    <tr>\n",
       "      <th>3</th>\n",
       "      <td>ABIES ALBA</td>\n",
       "      <td>[1, 2, 9, 5, 19, 27, 1, 12, 2, 1]</td>\n",
       "      <td>NaN</td>\n",
       "    </tr>\n",
       "    <tr>\n",
       "      <th>4</th>\n",
       "      <td>ABIES ALBA MILL</td>\n",
       "      <td>[1, 2, 9, 5, 19, 27, 1, 12, 2, 1, 27, 13, 9, 1...</td>\n",
       "      <td>NaN</td>\n",
       "    </tr>\n",
       "  </tbody>\n",
       "</table>\n",
       "</div>"
      ],
      "text/plain": [
       "       dUnique_label                                        dUnique_seq  \\\n",
       "0   AARONS ROD WHOLE  [1, 1, 18, 15, 14, 19, 27, 18, 15, 4, 27, 23, ...   \n",
       "1          AARONSROD                  [1, 1, 18, 15, 14, 19, 18, 15, 4]   \n",
       "2  ABIES ABIES WHOLE  [1, 2, 9, 5, 19, 27, 1, 2, 9, 5, 19, 27, 23, 8...   \n",
       "3         ABIES ALBA                  [1, 2, 9, 5, 19, 27, 1, 12, 2, 1]   \n",
       "4    ABIES ALBA MILL  [1, 2, 9, 5, 19, 27, 1, 12, 2, 1, 27, 13, 9, 1...   \n",
       "\n",
       "  dUnique_seq_padded  \n",
       "0                NaN  \n",
       "1                NaN  \n",
       "2                NaN  \n",
       "3                NaN  \n",
       "4                NaN  "
      ]
     },
     "execution_count": 104,
     "metadata": {},
     "output_type": "execute_result"
    }
   ],
   "source": [
    "for i in range(len(dUnique_df.index)):\n",
    "    dUnique_df.at[i, 'dUnique_seq'] = np.array(dUnique_seq_list[i])\n",
    "dUnique_df.head()"
   ]
  },
  {
   "cell_type": "code",
   "execution_count": 105,
   "metadata": {},
   "outputs": [],
   "source": [
    "dUnique = tf.keras.preprocessing.sequence.pad_sequences(\n",
    "    list(dUnique_df['dUnique_seq']), padding=\"post\", maxlen=maxlen)"
   ]
  },
  {
   "cell_type": "code",
   "execution_count": 106,
   "metadata": {},
   "outputs": [
    {
     "data": {
      "text/html": [
       "<div>\n",
       "<style scoped>\n",
       "    .dataframe tbody tr th:only-of-type {\n",
       "        vertical-align: middle;\n",
       "    }\n",
       "\n",
       "    .dataframe tbody tr th {\n",
       "        vertical-align: top;\n",
       "    }\n",
       "\n",
       "    .dataframe thead th {\n",
       "        text-align: right;\n",
       "    }\n",
       "</style>\n",
       "<table border=\"1\" class=\"dataframe\">\n",
       "  <thead>\n",
       "    <tr style=\"text-align: right;\">\n",
       "      <th></th>\n",
       "      <th>dUnique_label</th>\n",
       "      <th>dUnique_seq</th>\n",
       "      <th>dUnique_seq_padded</th>\n",
       "    </tr>\n",
       "  </thead>\n",
       "  <tbody>\n",
       "    <tr>\n",
       "      <th>0</th>\n",
       "      <td>AARONS ROD WHOLE</td>\n",
       "      <td>[1, 1, 18, 15, 14, 19, 27, 18, 15, 4, 27, 23, ...</td>\n",
       "      <td>[1, 1, 18, 15, 14, 19, 27, 18, 15, 4, 27, 23, ...</td>\n",
       "    </tr>\n",
       "    <tr>\n",
       "      <th>1</th>\n",
       "      <td>AARONSROD</td>\n",
       "      <td>[1, 1, 18, 15, 14, 19, 18, 15, 4]</td>\n",
       "      <td>[1, 1, 18, 15, 14, 19, 18, 15, 4, 0, 0, 0, 0, ...</td>\n",
       "    </tr>\n",
       "    <tr>\n",
       "      <th>2</th>\n",
       "      <td>ABIES ABIES WHOLE</td>\n",
       "      <td>[1, 2, 9, 5, 19, 27, 1, 2, 9, 5, 19, 27, 23, 8...</td>\n",
       "      <td>[1, 2, 9, 5, 19, 27, 1, 2, 9, 5, 19, 27, 23, 8...</td>\n",
       "    </tr>\n",
       "    <tr>\n",
       "      <th>3</th>\n",
       "      <td>ABIES ALBA</td>\n",
       "      <td>[1, 2, 9, 5, 19, 27, 1, 12, 2, 1]</td>\n",
       "      <td>[1, 2, 9, 5, 19, 27, 1, 12, 2, 1, 0, 0, 0, 0, ...</td>\n",
       "    </tr>\n",
       "    <tr>\n",
       "      <th>4</th>\n",
       "      <td>ABIES ALBA MILL</td>\n",
       "      <td>[1, 2, 9, 5, 19, 27, 1, 12, 2, 1, 27, 13, 9, 1...</td>\n",
       "      <td>[1, 2, 9, 5, 19, 27, 1, 12, 2, 1, 27, 13, 9, 1...</td>\n",
       "    </tr>\n",
       "  </tbody>\n",
       "</table>\n",
       "</div>"
      ],
      "text/plain": [
       "       dUnique_label                                        dUnique_seq  \\\n",
       "0   AARONS ROD WHOLE  [1, 1, 18, 15, 14, 19, 27, 18, 15, 4, 27, 23, ...   \n",
       "1          AARONSROD                  [1, 1, 18, 15, 14, 19, 18, 15, 4]   \n",
       "2  ABIES ABIES WHOLE  [1, 2, 9, 5, 19, 27, 1, 2, 9, 5, 19, 27, 23, 8...   \n",
       "3         ABIES ALBA                  [1, 2, 9, 5, 19, 27, 1, 12, 2, 1]   \n",
       "4    ABIES ALBA MILL  [1, 2, 9, 5, 19, 27, 1, 12, 2, 1, 27, 13, 9, 1...   \n",
       "\n",
       "                                  dUnique_seq_padded  \n",
       "0  [1, 1, 18, 15, 14, 19, 27, 18, 15, 4, 27, 23, ...  \n",
       "1  [1, 1, 18, 15, 14, 19, 18, 15, 4, 0, 0, 0, 0, ...  \n",
       "2  [1, 2, 9, 5, 19, 27, 1, 2, 9, 5, 19, 27, 23, 8...  \n",
       "3  [1, 2, 9, 5, 19, 27, 1, 12, 2, 1, 0, 0, 0, 0, ...  \n",
       "4  [1, 2, 9, 5, 19, 27, 1, 12, 2, 1, 27, 13, 9, 1...  "
      ]
     },
     "execution_count": 106,
     "metadata": {},
     "output_type": "execute_result"
    }
   ],
   "source": [
    "for i in range(len(dUnique_df.index)):\n",
    "    dUnique_df.at[i, 'dUnique_seq_padded'] = dUnique[i]\n",
    "dUnique_df.head()"
   ]
  },
  {
   "cell_type": "code",
   "execution_count": 107,
   "metadata": {},
   "outputs": [
    {
     "data": {
      "text/plain": [
       "6160"
      ]
     },
     "execution_count": 107,
     "metadata": {},
     "output_type": "execute_result"
    }
   ],
   "source": [
    "len(dUnique)"
   ]
  },
  {
   "cell_type": "code",
   "execution_count": 108,
   "metadata": {},
   "outputs": [
    {
     "name": "stdout",
     "output_type": "stream",
     "text": [
      "2022-03-03 11:11:23.993556\n",
      "2022-03-03 11:11:25.176727\n"
     ]
    }
   ],
   "source": [
    "print(datetime.now())\n",
    "predicts = model.predict([np.tile(padded_test[0,:], (dUnique.shape[0],1)), dUnique])\n",
    "print(datetime.now())"
   ]
  },
  {
   "cell_type": "code",
   "execution_count": 109,
   "metadata": {},
   "outputs": [
    {
     "data": {
      "text/plain": [
       "array([[0.00963356],\n",
       "       [0.01632481],\n",
       "       [0.00637359],\n",
       "       ...,\n",
       "       [0.00602851],\n",
       "       [0.03520529],\n",
       "       [0.00332402]], dtype=float32)"
      ]
     },
     "execution_count": 109,
     "metadata": {},
     "output_type": "execute_result"
    }
   ],
   "source": [
    "predicts"
   ]
  },
  {
   "cell_type": "code",
   "execution_count": 113,
   "metadata": {},
   "outputs": [
    {
     "data": {
      "text/plain": [
       "array([0.00332402], dtype=float32)"
      ]
     },
     "execution_count": 113,
     "metadata": {},
     "output_type": "execute_result"
    }
   ],
   "source": [
    "pred_sort = np.sort(predicts)\n",
    "pred_sort[-1]"
   ]
  },
  {
   "cell_type": "code",
   "execution_count": 115,
   "metadata": {},
   "outputs": [
    {
     "data": {
      "text/plain": [
       "array([0.00332402], dtype=float32)"
      ]
     },
     "execution_count": 115,
     "metadata": {},
     "output_type": "execute_result"
    }
   ],
   "source": [
    "pred_sort[-1]"
   ]
  },
  {
   "cell_type": "code",
   "execution_count": 110,
   "metadata": {},
   "outputs": [],
   "source": [
    "argsort = np.argsort(-predicts.flatten())"
   ]
  },
  {
   "cell_type": "code",
   "execution_count": 111,
   "metadata": {},
   "outputs": [
    {
     "data": {
      "text/plain": [
       "3906"
      ]
     },
     "execution_count": 111,
     "metadata": {},
     "output_type": "execute_result"
    }
   ],
   "source": [
    "argsort[0]"
   ]
  },
  {
   "cell_type": "code",
   "execution_count": 116,
   "metadata": {},
   "outputs": [
    {
     "data": {
      "text/plain": [
       "'MITRAGYNA SPECIOSA WHOLE'"
      ]
     },
     "execution_count": 116,
     "metadata": {},
     "output_type": "execute_result"
    }
   ],
   "source": [
    "dUnique_df.iloc[argsort[0]].dUnique_label"
   ]
  },
  {
   "cell_type": "code",
   "execution_count": null,
   "metadata": {},
   "outputs": [],
   "source": []
  }
 ],
 "metadata": {
  "kernelspec": {
   "display_name": "Python 3 (ipykernel)",
   "language": "python",
   "name": "python3"
  },
  "language_info": {
   "codemirror_mode": {
    "name": "ipython",
    "version": 3
   },
   "file_extension": ".py",
   "mimetype": "text/x-python",
   "name": "python",
   "nbconvert_exporter": "python",
   "pygments_lexer": "ipython3",
   "version": "3.8.0"
  }
 },
 "nbformat": 4,
 "nbformat_minor": 4
}
