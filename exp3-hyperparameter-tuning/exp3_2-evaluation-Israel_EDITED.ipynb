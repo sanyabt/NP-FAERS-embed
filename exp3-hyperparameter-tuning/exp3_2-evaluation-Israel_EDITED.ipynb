{
 "cells": [
  {
   "cell_type": "markdown",
   "id": "0e669a5f",
   "metadata": {},
   "source": [
    "# Imports"
   ]
  },
  {
   "cell_type": "code",
   "execution_count": 1,
   "id": "50ddaf60",
   "metadata": {},
   "outputs": [],
   "source": [
    "import numpy as np\n",
    "import pandas as pd\n",
    "import pickle\n",
    "from IPython.display import display, clear_output\n",
    "import re\n",
    "from tqdm import tqdm\n",
    "import tensorflow as tf\n",
    "\n",
    "# tf.enable_eager_execution()\n",
    "# tf.executing_eagerly()\n",
    "\n",
    "import string\n",
    "import random\n",
    "from sklearn.utils import shuffle\n",
    "from sklearn.model_selection import train_test_split\n",
    "\n",
    "#import matplotlib.pyplot as plt\n",
    "#import seaborn as sns\n",
    "#!pip install scikit-optimize\n",
    "# import skopt\n",
    "# from skopt import BayesSearchCV\n",
    "# from skopt import gp_minimize, forest_minimize\n",
    "# from skopt.space import Real, Categorical, Integer\n",
    "# from skopt.plots import plot_convergence\n",
    "# from skopt.plots import plot_objective, plot_evaluations\n",
    "# from skopt.plots import plot_histogram, plot_objective_2D\n",
    "# from skopt.utils import use_named_args"
   ]
  },
  {
   "cell_type": "code",
   "execution_count": 2,
   "id": "24419716",
   "metadata": {},
   "outputs": [],
   "source": [
    "global encode_dict \n",
    "encode_dict = {l:i for i,l in enumerate(string.ascii_uppercase + \" \", 1)}"
   ]
  },
  {
   "cell_type": "code",
   "execution_count": 26,
   "id": "91c16234",
   "metadata": {},
   "outputs": [],
   "source": [
    "#Maximum sequence length including padding\n",
    "global MAXLEN\n",
    "MAXLEN = 65"
   ]
  },
  {
   "cell_type": "markdown",
   "id": "0fba9e11",
   "metadata": {},
   "source": [
    "# Functions"
   ]
  },
  {
   "cell_type": "code",
   "execution_count": 4,
   "id": "8aab2f9d",
   "metadata": {},
   "outputs": [],
   "source": [
    "# TEST_TXT = \"Eirmod horrida ingénii pariant secundum? Cognitionem compositis conséquat dicantur exercitus, intellegitur invenire negat oportet sapientium suam. Ceteris diu erat fecerit, impéndéré intelleges máerores malorum mei re reprehendunt? Constringendos intus mentitum quale urna! Convenire cotidie dixit malé vigiliae?\""
   ]
  },
  {
   "cell_type": "code",
   "execution_count": 27,
   "id": "2f55e8a7",
   "metadata": {},
   "outputs": [],
   "source": [
    "def preprocessInput(filename: str) -> pd.DataFrame:\n",
    "    ''' Preprocess CSV file into a Pandas DataFrame.\n",
    "    \n",
    "    Expects the file name or path of a csv file with named columns containing strings representing product names.\n",
    "    Returns a Pandas Dataframe containing uppercased versions of the strings on each cell.\n",
    "    \n",
    "    Parameters\n",
    "    ----------\n",
    "    filename : str\n",
    "        \n",
    "    Returns\n",
    "    -------\n",
    "    df : Pandas DataFrame\n",
    "    '''  \n",
    "    df = pd.read_csv(filename)\n",
    "    print(df.info())\n",
    "    \n",
    "    print(\"Processing file: ---------------------------------------\")\n",
    "    original_count = len(df.index)\n",
    "    print(\"Dropping sequences longer than the maxlen:\")\n",
    "    df.drop(df[df[df.columns[0]].apply(len).gt(MAXLEN)].index, inplace = True)\n",
    "    df.drop(df[df[df.columns[1]].apply(len).gt(MAXLEN)].index, inplace = True)\n",
    "    new_count = len(df.index)\n",
    "    print(\"\\tDropped\", original_count - new_count, \"that exceeded the maximum sequence length.\")\n",
    "    # Uppercase all values\n",
    "    print(\"\\tUppercasing string sequences.\")\n",
    "    df = df.applymap(lambda x: str.upper(x))\n",
    "    print(\"Done processing: --------------------------------------\")\n",
    "    print(df.info())\n",
    "    return df"
   ]
  },
  {
   "cell_type": "code",
   "execution_count": 6,
   "id": "4ab5a81c",
   "metadata": {},
   "outputs": [],
   "source": [
    "def add_noise(w: str, percent: float = 0.1) -> str:\n",
    "    ''' Adds a specified proportion of noise to a string.\n",
    "    \n",
    "    Expects a string and a number stating the percent of noise to add to this string.\n",
    "    The string is modified by editing, deleting, or adding characters in/to the string.\n",
    "    The modification to perform is determined randomly by generating a random number from an uniform distribution [0,1].\n",
    "    If the number is < 1/3 edit one position with new random character.\n",
    "    If the number is < 2/3 delete one position.\n",
    "    Finally, if the number is > 2/3 add one random character. \n",
    "    \n",
    "    Parameters\n",
    "    ----------\n",
    "    w : str\n",
    "        The string to add noise to.\n",
    "    \n",
    "    percent: float, defaults to 10% if not specified\n",
    "        Percentange representing the proportion of noise to add to the string.\n",
    "        \n",
    "        \n",
    "    Returns\n",
    "    -------\n",
    "    w : str\n",
    "        Modified string with noise added.\n",
    "    '''  \n",
    "    positions = random.choices(range(len(w)), k=int(percent*len(w)))\n",
    "    print(\"Adding noise to\", int(percent*len(w)), \"% of the string\")\n",
    "    for p in positions:\n",
    "        r = random.uniform(0,1)\n",
    "        \n",
    "        # if <1/3 edit one position with new random character, # else if <2/3 delete one position, else add one random character \n",
    "        if r <= 0.3333: # edit\n",
    "            w = w[:p] + random.choice(string.ascii_uppercase) + w[p+1:]\n",
    "        elif r<= 0.6667: # delete\n",
    "            w = w[:p] + w[p+1:]\n",
    "        else: # add\n",
    "            w = w[:p] + random.choice(string.ascii_uppercase) + w[p:]\n",
    "    return w"
   ]
  },
  {
   "cell_type": "code",
   "execution_count": 7,
   "id": "de7974f0",
   "metadata": {},
   "outputs": [],
   "source": [
    "# add_noise(TEST_TXT)"
   ]
  },
  {
   "cell_type": "code",
   "execution_count": 8,
   "id": "583822b4",
   "metadata": {},
   "outputs": [],
   "source": [
    "# add_noise(TEST_TXT, .01)"
   ]
  },
  {
   "cell_type": "code",
   "execution_count": 9,
   "id": "e92b97f7",
   "metadata": {},
   "outputs": [],
   "source": [
    "def clean(text: str) -> str:\n",
    "    '''Removes all the non-ascii and special characters from a string and returns the string's alphabetichal characters with spaces.\n",
    "    \n",
    "    Expects a string to be cleaned and removes all the non-ascii and special characters. \n",
    "    This is done by applying a substitution to regex matches\n",
    "    Returns the cleaned string containing uppercased versions of the characters.\n",
    "    \n",
    "    Parameters\n",
    "    ----------\n",
    "    text : str\n",
    "        \n",
    "    Returns\n",
    "    -------\n",
    "    text : str\n",
    "    '''\n",
    "    regex = re.compile('[^a-zA-Z ]')\n",
    "    r = regex.sub('', text)\n",
    "    result = re.sub(' +', ' ', r)\n",
    "    result = result.strip()\n",
    "    return result.upper()"
   ]
  },
  {
   "cell_type": "code",
   "execution_count": 10,
   "id": "4f469baf",
   "metadata": {},
   "outputs": [],
   "source": [
    "# clean(TEST_TXT)"
   ]
  },
  {
   "cell_type": "code",
   "execution_count": 11,
   "id": "2c153fba",
   "metadata": {},
   "outputs": [],
   "source": [
    "def clean_dataset(x: pd.Series, y: pd.Series) -> (pd.Series, pd.Series):\n",
    "    '''Applies the cleaning function to the dataset.\n",
    "    \n",
    "    Expects two Pandas Series, namely the 'FAERS_drug_match' and the 'lookup_value' columns.\n",
    "    Applies the cleaning function to them and returns them separately.\n",
    "    \n",
    "    Parameters\n",
    "    ----------\n",
    "    x : pd.Series\n",
    "        A pandas Series containing the 'FAERS_drug_match' column.\n",
    "    y : pd.Series\n",
    "        A pandas Series containing the 'lookup_value' column.\n",
    "      \n",
    "    Returns\n",
    "    -------\n",
    "    x : pd.Series\n",
    "        Returns the cleaned 'FAERS_drug_match' series.\n",
    "    y : pd.Series \n",
    "        Returns the cleaned 'lookup_value' series.\n",
    "    '''\n",
    "    return x.apply(clean), y.apply(clean)"
   ]
  },
  {
   "cell_type": "code",
   "execution_count": 12,
   "id": "b59e0df5",
   "metadata": {},
   "outputs": [],
   "source": [
    "# clean_dataset(test)"
   ]
  },
  {
   "cell_type": "code",
   "execution_count": 13,
   "id": "e08fdfb4",
   "metadata": {},
   "outputs": [],
   "source": [
    "def encode_dataset(x: pd.Series, y: pd.Series) -> (pd.Series, pd.Series):\n",
    "    '''Applies the encoding function to the dataset.\n",
    "    \n",
    "    Expects two cleaned Pandas Series, namely the 'FAERS_drug_match' and the 'lookup_value' columns.\n",
    "    Returns these Series enconded into an array containing an integer mapping to each character and space (1-66) separately.\n",
    "    \n",
    "    Parameters\n",
    "    ----------\n",
    "    x : pd.Series\n",
    "        A pandas Series containing the clean 'FAERS_drug_match' column.\n",
    "    y : pd.Series\n",
    "        A pandas Series containing the clean 'lookup_value' column.\n",
    "      \n",
    "    Returns\n",
    "    -------\n",
    "    x : pd.Series\n",
    "        Returns the encoded 'FAERS_drug_match' series.\n",
    "    y : pd.Series \n",
    "        Returns the encoded 'lookup_value' series.\n",
    "    '''\n",
    "    return x.apply(lambda string: list(map(encode_dict.get, string))), y.apply(lambda string: list(map(encode_dict.get, string)))"
   ]
  },
  {
   "cell_type": "code",
   "execution_count": 14,
   "id": "65c7a6a1",
   "metadata": {},
   "outputs": [],
   "source": [
    "# encode_dataset(*clean_dataset(test))[0].head()"
   ]
  },
  {
   "cell_type": "code",
   "execution_count": 15,
   "id": "9fccdad1",
   "metadata": {},
   "outputs": [],
   "source": [
    "# def clean_encode_padding(q, maxlen):\n",
    "#     q = clean(q)\n",
    "#     return tf.keras.preprocessing.sequence.pad_sequences(\n",
    "#         [encode_dict[m] for m in q] , padding=\"post\", maxlen=maxlen)"
   ]
  },
  {
   "cell_type": "code",
   "execution_count": 16,
   "id": "15fea5df",
   "metadata": {},
   "outputs": [],
   "source": [
    "def padding_dataset(X: pd.Series,Y: pd.Series, maxlen: int = MAXLEN) -> (pd.Series, pd.Series):\n",
    "    '''Applies the padding function to the dataset.\n",
    "    \n",
    "    Expects two cleaned and encoded Pandas Series, namely the 'FAERS_drug_match' and the 'lookup_value' columns.\n",
    "    Returns the enconded Series padded.\n",
    "    \n",
    "    Parameters\n",
    "    ----------\n",
    "    x : pd.Series\n",
    "        A pandas Series containing the clean encoded 'FAERS_drug_match' column.\n",
    "    y : pd.Series\n",
    "        A pandas Series containing the clean encoded 'lookup_value' column.\n",
    "      \n",
    "    Returns\n",
    "    -------\n",
    "    x : pd.Series\n",
    "        Returns the padded 'FAERS_drug_match' series.\n",
    "    y : pd.Series \n",
    "        Returns the padded 'lookup_value' series.\n",
    "    '''\n",
    "    return X.transform(lambda x: x + ([0]* (maxlen-len(x)))), Y.transform(lambda x: x + ([0]* (maxlen-len(x))))\n",
    "#     return tf.keras.preprocessing.sequence.pad_sequences(X, padding=\"post\", maxlen=maxlen), tf.keras.preprocessing.sequence.pad_sequences(Y, padding=\"post\", maxlen=maxlen)"
   ]
  },
  {
   "cell_type": "code",
   "execution_count": 17,
   "id": "addd567a",
   "metadata": {},
   "outputs": [],
   "source": [
    "# padding_dataset(*encode_dataset(*clean_dataset(test)), MAXLEN)[0].head()"
   ]
  },
  {
   "cell_type": "code",
   "execution_count": 18,
   "id": "81f87b5e",
   "metadata": {},
   "outputs": [],
   "source": [
    "def generate_negative_pairs() -> (pd.Series, pd.Series):\n",
    "    '''Create negative pairs where 'FAERS_drug_match' does not match the correct 'lookup_value'.\n",
    "\n",
    "    For each unique name in the 'FAERS_drug_match' column of the train set, get the product name\n",
    "    and then pick four random different product names. For each of those 4 additional product names \n",
    "    check if it matches any of the names in the training set if its not then add it to the dataset as \n",
    "    a negative pair. The goal of this is to help further distance the embeddings in the vector space.\n",
    "\n",
    "    \n",
    "    Parameters\n",
    "    ----------\n",
    "    The function has no parameters but it expects a Pandas dataframe called Unique_df\n",
    "    containing the 'dUnique_label' series and another Pandas dataframe called train\n",
    "    containing the 'FAERS_drug_match' and the 'lookup_value' series.\n",
    "\n",
    "    Returns\n",
    "    -------\n",
    "    faers_match : pd.Series\n",
    "        Returns the 'FAERS_drug_match' series.\n",
    "    lookup : pd.Series \n",
    "        Returns the 'lookup_value' series.\n",
    "    '''\n",
    "    faers_match = []\n",
    "    lookup = []\n",
    "    for np_name in train['FAERS_drug_match']:\n",
    "        np_temp = dUnique_df['dUnique_label'][dUnique_df['dUnique_label'] != np_name].sample(4)\n",
    "        np_temp = np_temp[~np_temp.isin(train['lookup_value'].loc[train['FAERS_drug_match'] == np_name])]     \n",
    "        faers_match.extend([np_name]* len(np_temp))\n",
    "        lookup.extend(np_temp)\n",
    "    return faers_match, lookup"
   ]
  },
  {
   "cell_type": "markdown",
   "id": "66991a02",
   "metadata": {},
   "source": [
    "------------------------------------------------"
   ]
  },
  {
   "cell_type": "markdown",
   "id": "33d0167b",
   "metadata": {},
   "source": [
    "# Data loading and preprocessing"
   ]
  },
  {
   "cell_type": "code",
   "execution_count": 19,
   "id": "16cf70c9",
   "metadata": {},
   "outputs": [],
   "source": [
    "fName = '../data/NP_FAERS_mapped_20220215.csv'\n",
    "fName_unmapped = '../unmapped_data/upper_unmap_orig_drug_names_202201201812.csv'\n",
    "fName_negatives = '../data/NP_FAERS_negative_pairs_20220222.csv'"
   ]
  },
  {
   "cell_type": "markdown",
   "id": "1b03499c",
   "metadata": {},
   "source": [
    "## Create the train/test split"
   ]
  },
  {
   "cell_type": "code",
   "execution_count": 115,
   "id": "7f328624",
   "metadata": {},
   "outputs": [
    {
     "name": "stdout",
     "output_type": "stream",
     "text": [
      "<class 'pandas.core.frame.DataFrame'>\n",
      "RangeIndex: 5358 entries, 0 to 5357\n",
      "Data columns (total 2 columns):\n",
      "FAERS_drug_match    5358 non-null object\n",
      "lookup_value        5358 non-null object\n",
      "dtypes: object(2)\n",
      "memory usage: 83.8+ KB\n",
      "None\n",
      "Processing file: ---------------------------------------\n",
      "Dropping sequences longer than the maxlen:\n",
      "\tDropped 374 that exceeded the maximum sequence length.\n",
      "\tUppercasing string sequences.\n",
      "Done processing: --------------------------------------\n",
      "<class 'pandas.core.frame.DataFrame'>\n",
      "Int64Index: 4984 entries, 1 to 5357\n",
      "Data columns (total 2 columns):\n",
      "FAERS_drug_match    4984 non-null object\n",
      "lookup_value        4984 non-null object\n",
      "dtypes: object(2)\n",
      "memory usage: 116.8+ KB\n",
      "None\n"
     ]
    }
   ],
   "source": [
    "train, test = train_test_split(preprocessInput(fName), test_size=0.20, random_state = 42)"
   ]
  },
  {
   "cell_type": "code",
   "execution_count": 116,
   "id": "4c456a61",
   "metadata": {},
   "outputs": [
    {
     "name": "stdout",
     "output_type": "stream",
     "text": [
      "Train: (3987, 2) Test: (997, 2)\n"
     ]
    }
   ],
   "source": [
    "print(\"Train:\", train.shape, \"Test:\" , test.shape)"
   ]
  },
  {
   "cell_type": "markdown",
   "id": "4481b555",
   "metadata": {},
   "source": [
    "## Clean, Encode and Pad the datasets"
   ]
  },
  {
   "cell_type": "code",
   "execution_count": 117,
   "id": "a19fef3d",
   "metadata": {},
   "outputs": [],
   "source": [
    "padded_xTest, padded_yTest = padding_dataset(*encode_dataset(*clean_dataset(test.FAERS_drug_match, test.lookup_value)))"
   ]
  },
  {
   "cell_type": "code",
   "execution_count": 118,
   "id": "ff4e793c",
   "metadata": {},
   "outputs": [],
   "source": [
    "x, y = clean_dataset(train.FAERS_drug_match, train.lookup_value)\n",
    "padded_x, padded_y = padding_dataset(*encode_dataset(x,y))"
   ]
  },
  {
   "cell_type": "code",
   "execution_count": 119,
   "id": "1927bca6",
   "metadata": {},
   "outputs": [
    {
     "name": "stdout",
     "output_type": "stream",
     "text": [
      "<class 'pandas.core.frame.DataFrame'>\n",
      "RangeIndex: 9242 entries, 0 to 9241\n",
      "Data columns (total 2 columns):\n",
      "FAERS_drug_match    9242 non-null object\n",
      "lookup_value        9242 non-null object\n",
      "dtypes: object(2)\n",
      "memory usage: 144.5+ KB\n",
      "None\n",
      "Processing file: ---------------------------------------\n",
      "Dropping sequences longer than the maxlen:\n",
      "\tDropped 1372 that exceeded the maximum sequence length.\n",
      "\tUppercasing string sequences.\n",
      "Done processing: --------------------------------------\n",
      "<class 'pandas.core.frame.DataFrame'>\n",
      "Int64Index: 7870 entries, 3 to 9240\n",
      "Data columns (total 2 columns):\n",
      "FAERS_drug_match    7870 non-null object\n",
      "lookup_value        7870 non-null object\n",
      "dtypes: object(2)\n",
      "memory usage: 184.5+ KB\n",
      "None\n"
     ]
    }
   ],
   "source": [
    "negative_set = preprocessInput(fName_negatives)\n",
    "padded_xneg, padded_yneg = padding_dataset(*encode_dataset(*clean_dataset(negative_set.FAERS_drug_match, negative_set.lookup_value)))"
   ]
  },
  {
   "cell_type": "code",
   "execution_count": 120,
   "id": "c5c54134",
   "metadata": {},
   "outputs": [
    {
     "name": "stdout",
     "output_type": "stream",
     "text": [
      "Test padded x: (997,) Test padded y: (997,)\n",
      "Train padded x: (3987,) Train padded y: (3987,)\n",
      "Train padded x_neg: (7870,) Train padded y_neg: (7870,)\n"
     ]
    }
   ],
   "source": [
    "print(\"Test padded x:\", padded_xTest.shape, \"Test padded y:\", padded_yTest.shape)\n",
    "print(\"Train padded x:\", padded_x.shape, \"Train padded y:\", padded_y.shape)\n",
    "print(\"Train padded x_neg:\", padded_xneg.shape, \"Train padded y_neg:\", padded_yneg.shape)"
   ]
  },
  {
   "cell_type": "markdown",
   "id": "1a5daa38",
   "metadata": {},
   "source": [
    "## Creating Pandas DF for simplified view of the dataset "
   ]
  },
  {
   "cell_type": "code",
   "execution_count": 121,
   "id": "7669eb2b",
   "metadata": {},
   "outputs": [
    {
     "data": {
      "text/html": [
       "<div>\n",
       "<style scoped>\n",
       "    .dataframe tbody tr th:only-of-type {\n",
       "        vertical-align: middle;\n",
       "    }\n",
       "\n",
       "    .dataframe tbody tr th {\n",
       "        vertical-align: top;\n",
       "    }\n",
       "\n",
       "    .dataframe thead th {\n",
       "        text-align: right;\n",
       "    }\n",
       "</style>\n",
       "<table border=\"1\" class=\"dataframe\">\n",
       "  <thead>\n",
       "    <tr style=\"text-align: right;\">\n",
       "      <th></th>\n",
       "      <th>dUnique_label</th>\n",
       "      <th>dUnique_seq</th>\n",
       "      <th>dUnique_seq_padded</th>\n",
       "    </tr>\n",
       "  </thead>\n",
       "  <tbody>\n",
       "    <tr>\n",
       "      <th>0</th>\n",
       "      <td>ECHINACEA</td>\n",
       "      <td>[5, 3, 8, 9, 14, 1, 3, 5, 1]</td>\n",
       "      <td>[5, 3, 8, 9, 14, 1, 3, 5, 1, 0, 0, 0, 0, 0, 0,...</td>\n",
       "    </tr>\n",
       "    <tr>\n",
       "      <th>1</th>\n",
       "      <td>GARLIC</td>\n",
       "      <td>[7, 1, 18, 12, 9, 3]</td>\n",
       "      <td>[7, 1, 18, 12, 9, 3, 0, 0, 0, 0, 0, 0, 0, 0, 0...</td>\n",
       "    </tr>\n",
       "    <tr>\n",
       "      <th>2</th>\n",
       "      <td>VACCINIUM MACROCARPON</td>\n",
       "      <td>[22, 1, 3, 3, 9, 14, 9, 21, 13, 27, 13, 1, 3, ...</td>\n",
       "      <td>[22, 1, 3, 3, 9, 14, 9, 21, 13, 27, 13, 1, 3, ...</td>\n",
       "    </tr>\n",
       "    <tr>\n",
       "      <th>3</th>\n",
       "      <td>ZINGIBER OFFICINALE</td>\n",
       "      <td>[26, 9, 14, 7, 9, 2, 5, 18, 27, 15, 6, 6, 9, 3...</td>\n",
       "      <td>[26, 9, 14, 7, 9, 2, 5, 18, 27, 15, 6, 6, 9, 3...</td>\n",
       "    </tr>\n",
       "    <tr>\n",
       "      <th>4</th>\n",
       "      <td>SERENOA REPENS</td>\n",
       "      <td>[19, 5, 18, 5, 14, 15, 1, 27, 18, 5, 16, 5, 14...</td>\n",
       "      <td>[19, 5, 18, 5, 14, 15, 1, 27, 18, 5, 16, 5, 14...</td>\n",
       "    </tr>\n",
       "  </tbody>\n",
       "</table>\n",
       "</div>"
      ],
      "text/plain": [
       "           dUnique_label                                        dUnique_seq  \\\n",
       "0              ECHINACEA                       [5, 3, 8, 9, 14, 1, 3, 5, 1]   \n",
       "1                 GARLIC                               [7, 1, 18, 12, 9, 3]   \n",
       "2  VACCINIUM MACROCARPON  [22, 1, 3, 3, 9, 14, 9, 21, 13, 27, 13, 1, 3, ...   \n",
       "3    ZINGIBER OFFICINALE  [26, 9, 14, 7, 9, 2, 5, 18, 27, 15, 6, 6, 9, 3...   \n",
       "4         SERENOA REPENS  [19, 5, 18, 5, 14, 15, 1, 27, 18, 5, 16, 5, 14...   \n",
       "\n",
       "                                  dUnique_seq_padded  \n",
       "0  [5, 3, 8, 9, 14, 1, 3, 5, 1, 0, 0, 0, 0, 0, 0,...  \n",
       "1  [7, 1, 18, 12, 9, 3, 0, 0, 0, 0, 0, 0, 0, 0, 0...  \n",
       "2  [22, 1, 3, 3, 9, 14, 9, 21, 13, 27, 13, 1, 3, ...  \n",
       "3  [26, 9, 14, 7, 9, 2, 5, 18, 27, 15, 6, 6, 9, 3...  \n",
       "4  [19, 5, 18, 5, 14, 15, 1, 27, 18, 5, 16, 5, 14...  "
      ]
     },
     "execution_count": 121,
     "metadata": {},
     "output_type": "execute_result"
    }
   ],
   "source": [
    "dUnique_df = pd.DataFrame(columns = ['dUnique_label','dUnique_seq', 'dUnique_seq_padded'])\n",
    "dUnique_df['dUnique_label'] = y.unique()\n",
    "dUnique_df['dUnique_seq'] = dUnique_df['dUnique_label'].transform(lambda x: list(map(encode_dict.get,list(x))))\n",
    "dUnique_df['dUnique_seq_padded'] = list(tf.keras.preprocessing.sequence.pad_sequences(dUnique_df['dUnique_seq'].array, padding=\"post\", maxlen=MAXLEN))\n",
    "dUnique_df.head()"
   ]
  },
  {
   "cell_type": "markdown",
   "id": "f0ac0f9c",
   "metadata": {},
   "source": [
    "## Add positive pairs\n",
    "Data from NP_FAERS_mapped_20220215.csv -- the manually create references set for ~70 drugs"
   ]
  },
  {
   "cell_type": "code",
   "execution_count": 122,
   "id": "57eb8304",
   "metadata": {},
   "outputs": [
    {
     "name": "stdout",
     "output_type": "stream",
     "text": [
      "3987 3987 3987\n"
     ]
    }
   ],
   "source": [
    "x1TrainRNN = list(padded_x)\n",
    "x2TrainRNN = list(padded_y)\n",
    "yTrainRNN = [1] * len(padded_x)\n",
    "print(len(x1TrainRNN), len(x2TrainRNN), len(yTrainRNN))"
   ]
  },
  {
   "cell_type": "markdown",
   "id": "7c4b2356",
   "metadata": {},
   "source": [
    "## Add negative pairs from unmmaped\n",
    "Data from NP_FAERS_negative_pairs_20220222.csv -- the negative pairs created by random sampling from the NP_FAERS_mapped_20220215.csv"
   ]
  },
  {
   "cell_type": "code",
   "execution_count": 123,
   "id": "5e5846d2",
   "metadata": {},
   "outputs": [
    {
     "name": "stdout",
     "output_type": "stream",
     "text": [
      "11857 11857 11857\n"
     ]
    }
   ],
   "source": [
    "yTrainRNN.extend([0] * len(padded_xneg))\n",
    "x1TrainRNN.extend(padded_xneg)\n",
    "x2TrainRNN.extend(padded_yneg)\n",
    "print(len(x1TrainRNN), len(x2TrainRNN), len(yTrainRNN))"
   ]
  },
  {
   "cell_type": "markdown",
   "id": "7bcef9a0",
   "metadata": {},
   "source": [
    "## Generate additional negative pairs"
   ]
  },
  {
   "cell_type": "code",
   "execution_count": 124,
   "id": "844b21bd",
   "metadata": {},
   "outputs": [],
   "source": [
    "faers_match, lookup = generate_negative_pairs()"
   ]
  },
  {
   "cell_type": "code",
   "execution_count": 126,
   "id": "730a4f14",
   "metadata": {},
   "outputs": [],
   "source": [
    "dfneg2 = pd.DataFrame(columns=['FAERS_drug_match', 'lookup_value'])\n",
    "dfneg2['FAERS_drug_match'] = faers_match \n",
    "dfneg2['lookup_value'] = lookup\n",
    "padded_xneg2, padded_yneg2 = padding_dataset(*encode_dataset(*clean_dataset(dfneg2.FAERS_drug_match, dfneg2.lookup_value)), MAXLEN)"
   ]
  },
  {
   "cell_type": "markdown",
   "id": "8d788190",
   "metadata": {},
   "source": [
    "## Add additional negative pairs \n",
    "Generated from training data using generate_negative_pairs"
   ]
  },
  {
   "cell_type": "code",
   "execution_count": 127,
   "id": "8b283766",
   "metadata": {},
   "outputs": [
    {
     "name": "stdout",
     "output_type": "stream",
     "text": [
      "27602 27602 27602\n"
     ]
    }
   ],
   "source": [
    "yTrainRNN.extend([0] * len(padded_xneg2))\n",
    "x1TrainRNN.extend(padded_xneg2)\n",
    "x2TrainRNN.extend(padded_yneg2)\n",
    "print(len(x1TrainRNN), len(x2TrainRNN), len(yTrainRNN))"
   ]
  },
  {
   "cell_type": "code",
   "execution_count": 128,
   "id": "b706f37d",
   "metadata": {},
   "outputs": [],
   "source": [
    "x1TrainRnnS, x1ValRnnS, x2TrainRnnS, x2ValRnnS, yTrainRnnS, yValRnnS = train_test_split(x1TrainRNN, x2TrainRNN, yTrainRNN, test_size=0.20, random_state=42)"
   ]
  },
  {
   "cell_type": "code",
   "execution_count": null,
   "id": "c228246a",
   "metadata": {},
   "outputs": [],
   "source": [
    "len(x1TrainRnnS)"
   ]
  },
  {
   "cell_type": "markdown",
   "id": "c3497a9f",
   "metadata": {},
   "source": [
    "# Save data to csv"
   ]
  },
  {
   "cell_type": "code",
   "execution_count": 133,
   "id": "b6b4c0be",
   "metadata": {},
   "outputs": [],
   "source": [
    "pd.DataFrame(data={\"x1\": x1TrainRnnS, \"x2\": x2TrainRnnS, \"y\": yTrainRnnS}).to_csv(\"../data/proccesed_train_set.csv\")\n",
    "pd.DataFrame(data={\"x1\": x1ValRnnS, \"x2\": x2ValRnnS, \"y\": yValRnnS}).to_csv(\"../data/proccesed_test_set.csv\")"
   ]
  },
  {
   "cell_type": "markdown",
   "id": "f3232ce4",
   "metadata": {},
   "source": [
    "# Load data from csv"
   ]
  },
  {
   "cell_type": "code",
   "execution_count": 87,
   "id": "0d68f5e8",
   "metadata": {},
   "outputs": [],
   "source": [
    "if \"x1TrainRnnS\" not in locals():\n",
    "    x1TrainRnnS, x2TrainRnnS, yTrainRnnS =  pd.read_csv(\"../data/proccesed_train_set.csv\", header=0, usecols=[\"x1\", \"x2\", \"y\"])[[\"x1\", \"x2\", \"y\"]].T.to_numpy()\n",
    "    x1ValRnnS, x2ValRnnS, yValRnnS = pd.read_csv(\"../data/proccesed_test_set.csv\", header=0, usecols=[\"x1\", \"x2\", \"y\"])[[\"x1\", \"x2\", \"y\"]].T.to_numpy()"
   ]
  },
  {
   "cell_type": "code",
   "execution_count": 91,
   "id": "5f9a0670",
   "metadata": {},
   "outputs": [],
   "source": [
    "assert len(x1TrainRnnS) == 22081"
   ]
  },
  {
   "cell_type": "markdown",
   "id": "d94113b5",
   "metadata": {},
   "source": [
    "--------------------------------"
   ]
  },
  {
   "cell_type": "code",
   "execution_count": null,
   "id": "0c00ea3a",
   "metadata": {},
   "outputs": [],
   "source": [
    "@tf.function  # The decorator converts `cosine_distance` into a tensolflow `Function`.\n",
    "def cosine_distance(vects: tf.TensorArray) -> tf.TensorArray:\n",
    "    '''Cosine distance to be calculated as 1-(cosine similarity).\n",
    "    Where cosine similarity equals sum(x*y)/(sqrt(sum(x))*sqrt(sum(y))).\n",
    "    This is achieved through Tensorflow functions to retain performance.\n",
    "    \n",
    "    Parameters\n",
    "    ----------\n",
    "    vects: tf.TensorArray\n",
    "        \n",
    "    \n",
    "    Returns\n",
    "    -------\n",
    "    cosine_distance: tf.TensorArray\n",
    "       The result of 1-cosine similarity of vectors.    \n",
    "    '''\n",
    "    x, y = vects\n",
    "    return 1 - tf.math.divide(tf.reduce_sum(tf.multiply(x,y), axis=1, keepdims=True), tf.multiply(tf.norm(x, ord=2, axis=1, keepdims=True), tf.norm(y, ord=2, axis=1, keepdims=True)))"
   ]
  },
  {
   "cell_type": "code",
   "execution_count": null,
   "id": "75f1ff30",
   "metadata": {},
   "outputs": [],
   "source": [
    "# x = np.array([[[1.0, 2.0, 3.0],[1.0, 2.0, 3.0]], [[3.0,4.0,5.0],[3.0,4.0,5.0]]])\n",
    "# x "
   ]
  },
  {
   "cell_type": "code",
   "execution_count": null,
   "id": "17c9762d",
   "metadata": {},
   "outputs": [],
   "source": [
    "## Should work with TF set to eager execution\n",
    "# cosine_distance(x)"
   ]
  },
  {
   "cell_type": "code",
   "execution_count": null,
   "id": "5e55f42c",
   "metadata": {},
   "outputs": [],
   "source": [
    "class ContrastiveLoss(tf.keras.losses.Loss):\n",
    "    def __init__(self):\n",
    "        super().__init__()\n",
    "    @tf.function  # The decorator converts `loss` into a tensolflow `Function`.\n",
    "    def call(self, y_true: tf.TensorArray, y_pred: tf.TensorArray, margin: float = 1.0) -> tf.Tensor:\n",
    "        return tf.math.reduce_mean((1 - y_true) * tf.math.square(y_pred) + (y_true) * tf.math.square(tf.math.maximum(self.margin - (y_pred), 0.0)), axis = -1)"
   ]
  },
  {
   "cell_type": "code",
   "execution_count": null,
   "id": "f1136622",
   "metadata": {},
   "outputs": [],
   "source": [
    "def build_model2(model_type, embedding_dim, num_rnn_node, num_dense_node, num_layer, activation_fn, learning_rate, optimizer, margin):\n",
    "    input_x = tf.keras.layers.Input(MAXLEN)\n",
    "    input_1 = tf.keras.layers.Input(MAXLEN)\n",
    "    input_2 = tf.keras.layers.Input(MAXLEN)\n",
    "    embedding = tf.keras.layers.Embedding(input_dim=28, output_dim=embedding_dim, mask_zero=True)\n",
    "    x = embedding(input_x)\n",
    "    \n",
    "    if model_type == \"lstm\":\n",
    "        x = tf.keras.layers.LSTM(num_rnn_node)(x)\n",
    "    elif model_type==\"gru\":\n",
    "        x = tf.keras.layers.GRU(num_rnn_node)(x)\n",
    " \n",
    "    num = num_dense_node\n",
    "    for _ in range(num_layer):\n",
    "        x = tf.keras.layers.Dense(num, activation=activation_fn)(x)\n",
    "        num /= 2\n",
    "        \n",
    "    embedding_network = tf.keras.Model(input_x, x)\n",
    "\n",
    "    tower_1 = embedding_network(input_1)\n",
    "    tower_2 = embedding_network(input_2)\n",
    "    \n",
    "    merge _layer = tf.keras.layers.Lambda(cosine_distance)([tower_1, tower_2])\n",
    "    output_layer = tf.keras.layers.Dense(1, activation=\"sigmoid\")(merge_layer)\n",
    "    contr = tf.keras.Model(inputs=[input_1, input_2], outputs=output_layer)\n",
    "    \n",
    "    if optimizer == \"Adam\":\n",
    "        opt = tf.keras.optimizers.Adam(learning_rate=learning_rate)\n",
    "    elif optimizer ==\"RMSprop\":                \n",
    "        opt = tf.keras.optimizers.RMSprop(learning_rate=learning_rate)\n",
    "        \n",
    "    contr.compile(loss= ContrastiveLoss(), optimizer=opt, metrics=[\"accuracy\"])\n",
    "    \n",
    "    return contr"
   ]
  },
  {
   "cell_type": "code",
   "execution_count": null,
   "id": "65396bdc",
   "metadata": {},
   "outputs": [],
   "source": [
    "def plt_metric(history, metric, title, has_valid=True):\n",
    "    \"\"\"Plots the given 'metric' from 'history'.\n",
    "\n",
    "    Arguments:\n",
    "        history: history attribute of History object returned from Model.fit.\n",
    "        metric: Metric to plot, a string value present as key in 'history'.\n",
    "        title: A string to be used as title of plot.\n",
    "        has_valid: Boolean, true if valid data was passed to Model.fit else false.\n",
    "\n",
    "    Returns:\n",
    "        None.\n",
    "    \"\"\"\n",
    "    plt.plot(history[metric])\n",
    "    if has_valid:\n",
    "        plt.plot(history[\"val_\" + metric])\n",
    "        plt.legend([\"train\", \"validation\"], loc=\"upper left\")\n",
    "    plt.title(title)\n",
    "    plt.ylabel(metric)\n",
    "    plt.xlabel(\"epoch\")\n",
    "    plt.show()"
   ]
  },
  {
   "cell_type": "markdown",
   "id": "d3d49ffb",
   "metadata": {},
   "source": [
    "# Build model, load weights and evaluate on test data"
   ]
  },
  {
   "cell_type": "code",
   "execution_count": 67,
   "id": "a7da53e3",
   "metadata": {
    "scrolled": true
   },
   "outputs": [
    {
     "name": "stdout",
     "output_type": "stream",
     "text": [
      "Model: \"model_11\"\n",
      "__________________________________________________________________________________________________\n",
      "Layer (type)                    Output Shape         Param #     Connected to                     \n",
      "==================================================================================================\n",
      "input_17 (InputLayer)           [(None, 400)]        0                                            \n",
      "__________________________________________________________________________________________________\n",
      "input_18 (InputLayer)           [(None, 400)]        0                                            \n",
      "__________________________________________________________________________________________________\n",
      "model_10 (Model)                (None, 256)          1713408     input_17[0][0]                   \n",
      "                                                                 input_18[0][0]                   \n",
      "__________________________________________________________________________________________________\n",
      "lambda_5 (Lambda)               (None, 1)            0           model_10[1][0]                   \n",
      "                                                                 model_10[2][0]                   \n",
      "__________________________________________________________________________________________________\n",
      "dense_11 (Dense)                (None, 1)            2           lambda_5[0][0]                   \n",
      "==================================================================================================\n",
      "Total params: 1,713,410\n",
      "Trainable params: 1,713,410\n",
      "Non-trainable params: 0\n",
      "__________________________________________________________________________________________________\n"
     ]
    }
   ],
   "source": [
    "model = build_model2(model_type = \"lstm\", embedding_dim = 256, num_rnn_node = 512, num_dense_node = 256, num_layer = 1, activation_fn = \"tanh\", learning_rate = 2e-4, optimizer= \"Adam\", margin = 0.8)\n",
    "# history = model.fit(x=[np.array(x1TrainRnnS), np.array(x2TrainRnnS)],\n",
    "#                         y=np.array(yTrainRnnS, dtype=np.float32),\n",
    "#                         epochs=30,\n",
    "#                         batch_size=4,\n",
    "#                         validation_data=([np.array(x1ValRnnS), np.array(x2ValRnnS)], np.array(yValRnnS, dtype=np.float32)))\n",
    "\n",
    "model.load_weights(\"../exp3-hyperparameter-tuning/alstm-22-0.01.hdf5\")\n",
    "model.summary()"
   ]
  },
  {
   "cell_type": "markdown",
   "id": "24f39df2",
   "metadata": {},
   "source": [
    "# Evaluating on test data - NP names only"
   ]
  },
  {
   "cell_type": "code",
   "execution_count": 68,
   "id": "88894ce3",
   "metadata": {},
   "outputs": [],
   "source": [
    "test = test.assign(rank1_drug=\"\", rank2_drug=\"\", rank3_drug=\"\", rank4_drug=\"\", rank5_drug=\"\", lookup_rank= np.Inf, lookup_rank_related = np.Inf)"
   ]
  },
  {
   "cell_type": "code",
   "execution_count": 69,
   "id": "510dec8e",
   "metadata": {},
   "outputs": [
    {
     "name": "stdout",
     "output_type": "stream",
     "text": [
      "<class 'pandas.core.frame.DataFrame'>\n",
      "RangeIndex: 958 entries, 0 to 957\n",
      "Data columns (total 4 columns):\n",
      "latin_binomial          958 non-null object\n",
      "common_name             958 non-null object\n",
      "latin_binomial_clean    958 non-null object\n",
      "common_name_clean       958 non-null object\n",
      "dtypes: object(4)\n",
      "memory usage: 30.0+ KB\n"
     ]
    }
   ],
   "source": [
    "vocab = pd.read_csv('../data/lb_to_common_names.csv')\n",
    "vocab.info()"
   ]
  },
  {
   "cell_type": "markdown",
   "id": "83a0db87",
   "metadata": {},
   "source": [
    "# Evaluation of drug name predictions\n",
    "### Find ranks 1-n from the predicted similarities for the test data"
   ]
  },
  {
   "cell_type": "code",
   "execution_count": 70,
   "id": "fc7598b9",
   "metadata": {},
   "outputs": [
    {
     "data": {
      "text/plain": [
       "4003    [19, 20, 27, 10, 15, 8, 14, 19, 27, 23, 15, 18...\n",
       "1729    [3, 15, 18, 4, 25, 3, 5, 16, 19, 0, 0, 0, 0, 0...\n",
       "401     [6, 12, 1, 24, 19, 5, 5, 4, 19, 27, 15, 9, 12,...\n",
       "1242    [5, 24, 20, 18, 1, 3, 20, 27, 15, 6, 27, 19, 5...\n",
       "3406    [7, 21, 1, 18, 1, 14, 1, 27, 7, 21, 1, 18, 1, ...\n",
       "Name: FAERS_drug_match, dtype: object"
      ]
     },
     "execution_count": 70,
     "metadata": {},
     "output_type": "execute_result"
    }
   ],
   "source": [
    "padded_xTest.head()"
   ]
  },
  {
   "cell_type": "code",
   "execution_count": 71,
   "id": "371c2a40",
   "metadata": {},
   "outputs": [
    {
     "data": {
      "text/html": [
       "<div>\n",
       "<style scoped>\n",
       "    .dataframe tbody tr th:only-of-type {\n",
       "        vertical-align: middle;\n",
       "    }\n",
       "\n",
       "    .dataframe tbody tr th {\n",
       "        vertical-align: top;\n",
       "    }\n",
       "\n",
       "    .dataframe thead th {\n",
       "        text-align: right;\n",
       "    }\n",
       "</style>\n",
       "<table border=\"1\" class=\"dataframe\">\n",
       "  <thead>\n",
       "    <tr style=\"text-align: right;\">\n",
       "      <th></th>\n",
       "      <th>FAERS_drug_match</th>\n",
       "      <th>lookup_value</th>\n",
       "      <th>rank1_drug</th>\n",
       "      <th>rank2_drug</th>\n",
       "      <th>rank3_drug</th>\n",
       "      <th>rank4_drug</th>\n",
       "      <th>rank5_drug</th>\n",
       "      <th>lookup_rank</th>\n",
       "      <th>lookup_rank_related</th>\n",
       "    </tr>\n",
       "  </thead>\n",
       "  <tbody>\n",
       "    <tr>\n",
       "      <th>4003</th>\n",
       "      <td>ST. JOHN'S WORT ^HERRON^ (HYPERICUM PERFORATUM)</td>\n",
       "      <td>HYPERICUM PERFORATUM</td>\n",
       "      <td></td>\n",
       "      <td></td>\n",
       "      <td></td>\n",
       "      <td></td>\n",
       "      <td></td>\n",
       "      <td>inf</td>\n",
       "      <td>inf</td>\n",
       "    </tr>\n",
       "    <tr>\n",
       "      <th>1729</th>\n",
       "      <td>CORDYCEPS</td>\n",
       "      <td>CORDYCEPS</td>\n",
       "      <td></td>\n",
       "      <td></td>\n",
       "      <td></td>\n",
       "      <td></td>\n",
       "      <td></td>\n",
       "      <td>inf</td>\n",
       "      <td>inf</td>\n",
       "    </tr>\n",
       "    <tr>\n",
       "      <th>401</th>\n",
       "      <td>FLAXSEEDS OIL</td>\n",
       "      <td>FLAX SEED</td>\n",
       "      <td></td>\n",
       "      <td></td>\n",
       "      <td></td>\n",
       "      <td></td>\n",
       "      <td></td>\n",
       "      <td>inf</td>\n",
       "      <td>inf</td>\n",
       "    </tr>\n",
       "    <tr>\n",
       "      <th>1242</th>\n",
       "      <td>EXTRACT OF SERENOA REPENS (PERMIXON)</td>\n",
       "      <td>SCRUB-PALMETTO</td>\n",
       "      <td></td>\n",
       "      <td></td>\n",
       "      <td></td>\n",
       "      <td></td>\n",
       "      <td></td>\n",
       "      <td>inf</td>\n",
       "      <td>inf</td>\n",
       "    </tr>\n",
       "    <tr>\n",
       "      <th>3406</th>\n",
       "      <td>GUARANA (GUARANA)</td>\n",
       "      <td>PAULLINIA CUPANA</td>\n",
       "      <td></td>\n",
       "      <td></td>\n",
       "      <td></td>\n",
       "      <td></td>\n",
       "      <td></td>\n",
       "      <td>inf</td>\n",
       "      <td>inf</td>\n",
       "    </tr>\n",
       "  </tbody>\n",
       "</table>\n",
       "</div>"
      ],
      "text/plain": [
       "                                     FAERS_drug_match          lookup_value  \\\n",
       "4003  ST. JOHN'S WORT ^HERRON^ (HYPERICUM PERFORATUM)  HYPERICUM PERFORATUM   \n",
       "1729                                        CORDYCEPS             CORDYCEPS   \n",
       "401                                     FLAXSEEDS OIL             FLAX SEED   \n",
       "1242             EXTRACT OF SERENOA REPENS (PERMIXON)        SCRUB-PALMETTO   \n",
       "3406                                GUARANA (GUARANA)      PAULLINIA CUPANA   \n",
       "\n",
       "     rank1_drug rank2_drug rank3_drug rank4_drug rank5_drug  lookup_rank  \\\n",
       "4003                                                                 inf   \n",
       "1729                                                                 inf   \n",
       "401                                                                  inf   \n",
       "1242                                                                 inf   \n",
       "3406                                                                 inf   \n",
       "\n",
       "      lookup_rank_related  \n",
       "4003                  inf  \n",
       "1729                  inf  \n",
       "401                   inf  \n",
       "1242                  inf  \n",
       "3406                  inf  "
      ]
     },
     "execution_count": 71,
     "metadata": {},
     "output_type": "execute_result"
    }
   ],
   "source": [
    "test.head()"
   ]
  },
  {
   "cell_type": "code",
   "execution_count": 119,
   "id": "6b5047a0",
   "metadata": {},
   "outputs": [],
   "source": [
    "def find_ranks(model: tf.keras.Model) -> pd.DataFrame:\n",
    "    \"\"\"For each row in the test set (input), use the model to predict if the 'FAERS_drug_match' entry matches any of the 'lookup_value' entries.\n",
    "       This is done at the encoded sequence level for both name all unique drugnames\n",
    "       \n",
    "         Parameters\n",
    "    ----------\n",
    "    model : tf.keras.Model\n",
    "        A Keras model based Siamese Network that takes three inputs. \n",
    "        Namely, two input sequeces and a third input binary target specifying wether the two sequeces match.\n",
    "    y : pd.Series\n",
    "        A pandas Series containing the clean encoded 'lookup_value' column.\n",
    "      \n",
    "    Returns\n",
    "    -------\n",
    "    x : pd.Series\n",
    "        Returns the padded 'FAERS_drug_match' series.\n",
    "    y : pd.Series \n",
    "        Returns the padded 'lookup_value' series.\n",
    "    \n",
    "    \"\"\"\n",
    "    for i in padded_xTest.index:\n",
    "        predicts = model.predict([np.tile(padded_xTest.loc[i], (dUnique_df['dUnique_seq_padded'].shape[0],1)), np.stack(dUnique_df['dUnique_seq_padded'])])\n",
    "        argsort = predicts.flatten().argsort()\n",
    "        # Top-5 smalles distances\n",
    "        test.loc[i, 'rank1_drug'] = dUnique_df['dUnique_label'][np.where(argsort == 0)[0][0]]\n",
    "        test.loc[i, 'rank2_drug'] = dUnique_df['dUnique_label'][np.where(argsort == 1)[0][0]]\n",
    "        test.loc[i, 'rank3_drug'] = dUnique_df['dUnique_label'][np.where(argsort == 2)[0][0]]\n",
    "        test.loc[i, 'rank4_drug'] = dUnique_df['dUnique_label'][np.where(argsort == 3)[0][0]]\n",
    "        test.loc[i, 'rank5_drug'] = dUnique_df['dUnique_label'][np.where(argsort == 4)[0][0]]\n",
    "        # Does any of them match\n",
    "        lookup_clean = test.loc[i]['lookup_value']\n",
    "        predicted_rank = test.loc[i][['rank1_drug', 'rank2_drug', 'rank3_drug', 'rank4_drug', 'rank5_drug']].eq(lookup_clean).to_numpy().nonzero()\n",
    "        \n",
    "        lookup_rank = np.Inf    \n",
    "        if len(predicted_rank[0]) > 0 :\n",
    "            lookup_rank = predicted_rank[0][0] + 1\n",
    "            test.loc[i, 'lookup_rank'] = lookup_rank\n",
    "        \n",
    "        # Let's compare to latin binomial\n",
    "        lb_res = vocab.loc[vocab['latin_binomial_clean'] == lookup_clean]\n",
    "        common_res = vocab.loc[vocab['common_name_clean'] == lookup_clean]\n",
    "        lookup_result = ''\n",
    "        if len(lb_res) > 0:\n",
    "            lookup_result = lb_res.common_name_clean.values[0]\n",
    "        elif len(common_res) > 0:\n",
    "            lookup_result = common_res.latin_binomial_clean.values[0]\n",
    "        \n",
    "        related_rank = np.Inf\n",
    "        if lookup_result != '':\n",
    "            annotated_rank = test.loc[i][['rank1_drug', 'rank2_drug', 'rank3_drug', 'rank4_drug', 'rank5_drug']].eq(lookup_result).to_numpy().nonzero()\n",
    "            if len(annotated_rank[0]) > 0: \n",
    "                related_rank = annotated_rank[0][0] + 1\n",
    "        \n",
    "\n",
    "        #find related mappings to lookup value in predicted values \n",
    "        test.loc[i, 'lookup_rank_related'] = min(lookup_rank, related_rank)\n",
    "    \n",
    "    test.head()\n",
    "    "
   ]
  },
  {
   "cell_type": "code",
   "execution_count": 120,
   "id": "63d56bd8",
   "metadata": {},
   "outputs": [],
   "source": [
    "# i = padded_xTest.index[0]\n",
    "# predicts = model.predict([np.tile(padded_xTest.loc[i], (dUnique_df['dUnique_seq_padded'].shape[0],1)), np.stack(dUnique_df['dUnique_seq_padded'])])\n",
    "# argsort = predicts.flatten().argsort()\n",
    "# predicts.flatten()\n",
    "# argsort\n",
    "# dUnique_df[['dUnique_label','dUnique_seq_padded']]\n",
    "# dUnique_df.iloc[6][['dUnique_label','dUnique_seq_padded']]\n",
    "# dUnique_df['dUnique_label'][np.where(argsort == 3)[0][0]]"
   ]
  },
  {
   "cell_type": "markdown",
   "id": "28e7eec9",
   "metadata": {},
   "source": [
    "## Assing ranks to the matching \n",
    "matches are assigned their corresponding rank\n",
    "non-matches are left null"
   ]
  },
  {
   "cell_type": "code",
   "execution_count": null,
   "id": "1af2bff7",
   "metadata": {},
   "outputs": [],
   "source": [
    "find_ranks(model)"
   ]
  },
  {
   "cell_type": "code",
   "execution_count": null,
   "id": "a35d6311",
   "metadata": {
    "scrolled": true
   },
   "outputs": [],
   "source": [
    "test.head()"
   ]
  },
  {
   "cell_type": "code",
   "execution_count": null,
   "id": "14b495a9",
   "metadata": {},
   "outputs": [],
   "source": [
    "test.to_csv(\"../evaluation/test_siamese_evaluation_lstm_model_np_name.csv\", index=False)"
   ]
  },
  {
   "cell_type": "markdown",
   "id": "c08933ae",
   "metadata": {},
   "source": [
    "# Add related mappings rank to test set evaluation"
   ]
  },
  {
   "cell_type": "code",
   "execution_count": 93,
   "id": "556e7f04",
   "metadata": {},
   "outputs": [
    {
     "name": "stdout",
     "output_type": "stream",
     "text": [
      "<class 'pandas.core.frame.DataFrame'>\n",
      "RangeIndex: 1072 entries, 0 to 1071\n",
      "Data columns (total 9 columns):\n",
      "FAERS_drug_match       1072 non-null object\n",
      "lookup_value           1072 non-null object\n",
      "rank1_drug             0 non-null float64\n",
      "rank2_drug             0 non-null float64\n",
      "rank3_drug             0 non-null float64\n",
      "rank4_drug             0 non-null float64\n",
      "rank5_drug             0 non-null float64\n",
      "lookup_rank            0 non-null float64\n",
      "lookup_rank_related    0 non-null float64\n",
      "dtypes: float64(7), object(2)\n",
      "memory usage: 75.5+ KB\n"
     ]
    }
   ],
   "source": [
    "if \"test\" not in locals():\n",
    "    test = pd.read_csv('../evaluation/test_siamese_evaluation_lstm_model_np_name.csv')\n",
    "    test.info()"
   ]
  },
  {
   "cell_type": "code",
   "execution_count": 170,
   "id": "3b7e27e9",
   "metadata": {},
   "outputs": [
    {
     "data": {
      "text/html": [
       "<div>\n",
       "<style scoped>\n",
       "    .dataframe tbody tr th:only-of-type {\n",
       "        vertical-align: middle;\n",
       "    }\n",
       "\n",
       "    .dataframe tbody tr th {\n",
       "        vertical-align: top;\n",
       "    }\n",
       "\n",
       "    .dataframe thead th {\n",
       "        text-align: right;\n",
       "    }\n",
       "</style>\n",
       "<table border=\"1\" class=\"dataframe\">\n",
       "  <thead>\n",
       "    <tr style=\"text-align: right;\">\n",
       "      <th></th>\n",
       "      <th>FAERS_drug_match</th>\n",
       "      <th>lookup_rank</th>\n",
       "      <th>lookup_rank_related</th>\n",
       "    </tr>\n",
       "  </thead>\n",
       "  <tbody>\n",
       "    <tr>\n",
       "      <th>0</th>\n",
       "      <td>ST. JOHN'S WORT ^HERRON^ (HYPERICUM PERFORATUM)</td>\n",
       "      <td>NaN</td>\n",
       "      <td>NaN</td>\n",
       "    </tr>\n",
       "    <tr>\n",
       "      <th>1</th>\n",
       "      <td>CORDYCEPS</td>\n",
       "      <td>NaN</td>\n",
       "      <td>NaN</td>\n",
       "    </tr>\n",
       "    <tr>\n",
       "      <th>2</th>\n",
       "      <td>FLAXSEEDS OIL</td>\n",
       "      <td>NaN</td>\n",
       "      <td>NaN</td>\n",
       "    </tr>\n",
       "    <tr>\n",
       "      <th>3</th>\n",
       "      <td>EXTRACT OF SERENOA REPENS (PERMIXON)</td>\n",
       "      <td>NaN</td>\n",
       "      <td>NaN</td>\n",
       "    </tr>\n",
       "    <tr>\n",
       "      <th>4</th>\n",
       "      <td>GUARANA (GUARANA)</td>\n",
       "      <td>4.0</td>\n",
       "      <td>4.0</td>\n",
       "    </tr>\n",
       "  </tbody>\n",
       "</table>\n",
       "</div>"
      ],
      "text/plain": [
       "                                  FAERS_drug_match  lookup_rank  \\\n",
       "0  ST. JOHN'S WORT ^HERRON^ (HYPERICUM PERFORATUM)          NaN   \n",
       "1                                        CORDYCEPS          NaN   \n",
       "2                                    FLAXSEEDS OIL          NaN   \n",
       "3             EXTRACT OF SERENOA REPENS (PERMIXON)          NaN   \n",
       "4                                GUARANA (GUARANA)          4.0   \n",
       "\n",
       "   lookup_rank_related  \n",
       "0                  NaN  \n",
       "1                  NaN  \n",
       "2                  NaN  \n",
       "3                  NaN  \n",
       "4                  4.0  "
      ]
     },
     "execution_count": 170,
     "metadata": {},
     "output_type": "execute_result"
    }
   ],
   "source": [
    "test_mrr = test[['FAERS_drug_match', 'lookup_rank', 'lookup_rank_related']]\n",
    "test_mrr.head()"
   ]
  },
  {
   "cell_type": "code",
   "execution_count": 171,
   "id": "87301e09",
   "metadata": {},
   "outputs": [
    {
     "name": "stdout",
     "output_type": "stream",
     "text": [
      "<class 'pandas.core.frame.DataFrame'>\n",
      "RangeIndex: 1072 entries, 0 to 1071\n",
      "Data columns (total 3 columns):\n",
      "FAERS_drug_match       1072 non-null object\n",
      "lookup_rank            2 non-null float64\n",
      "lookup_rank_related    3 non-null float64\n",
      "dtypes: float64(2), object(1)\n",
      "memory usage: 25.2+ KB\n"
     ]
    }
   ],
   "source": [
    "test_mrr.info()"
   ]
  },
  {
   "cell_type": "code",
   "execution_count": 172,
   "id": "8e36d7bf",
   "metadata": {},
   "outputs": [
    {
     "data": {
      "text/plain": [
       "(1070, 3)"
      ]
     },
     "execution_count": 172,
     "metadata": {},
     "output_type": "execute_result"
    }
   ],
   "source": [
    "#number of 0 relevant results\n",
    "test_mrr.loc[test_mrr['lookup_rank'].isna()].shape"
   ]
  },
  {
   "cell_type": "code",
   "execution_count": 173,
   "id": "fc30278a",
   "metadata": {},
   "outputs": [
    {
     "data": {
      "text/plain": [
       "(1069, 3)"
      ]
     },
     "execution_count": 173,
     "metadata": {},
     "output_type": "execute_result"
    }
   ],
   "source": [
    "test_mrr.loc[test_mrr['lookup_rank_related'].isna()].shape"
   ]
  },
  {
   "cell_type": "code",
   "execution_count": 174,
   "id": "cbd8b88e",
   "metadata": {
    "tags": []
   },
   "outputs": [
    {
     "name": "stdout",
     "output_type": "stream",
     "text": [
      "<class 'pandas.core.frame.DataFrame'>\n",
      "Int64Index: 2 entries, 4 to 11\n",
      "Data columns (total 2 columns):\n",
      "FAERS_drug_match    2 non-null object\n",
      "lookup_rank         2 non-null float64\n",
      "dtypes: float64(1), object(1)\n",
      "memory usage: 48.0+ bytes\n"
     ]
    }
   ],
   "source": [
    "test_mrr_exact = test_mrr[test_mrr['lookup_rank'].notna()]\n",
    "test_mrr_exact = test_mrr_exact.drop(['lookup_rank_related'], axis=1)\n",
    "test_mrr_exact.info()"
   ]
  },
  {
   "cell_type": "code",
   "execution_count": 175,
   "id": "fcf1f0ae",
   "metadata": {},
   "outputs": [
    {
     "name": "stdout",
     "output_type": "stream",
     "text": [
      "<class 'pandas.core.frame.DataFrame'>\n",
      "Int64Index: 3 entries, 4 to 38\n",
      "Data columns (total 2 columns):\n",
      "FAERS_drug_match       3 non-null object\n",
      "lookup_rank_related    3 non-null float64\n",
      "dtypes: float64(1), object(1)\n",
      "memory usage: 72.0+ bytes\n"
     ]
    }
   ],
   "source": [
    "test_mrr_rel = test_mrr[test_mrr['lookup_rank_related'].notna()]\n",
    "test_mrr_rel = test_mrr_rel.drop(['lookup_rank'], axis=1)\n",
    "test_mrr_rel.info()"
   ]
  },
  {
   "cell_type": "code",
   "execution_count": 176,
   "id": "ba3ac55e",
   "metadata": {},
   "outputs": [
    {
     "data": {
      "text/html": [
       "<div>\n",
       "<style scoped>\n",
       "    .dataframe tbody tr th:only-of-type {\n",
       "        vertical-align: middle;\n",
       "    }\n",
       "\n",
       "    .dataframe tbody tr th {\n",
       "        vertical-align: top;\n",
       "    }\n",
       "\n",
       "    .dataframe thead th {\n",
       "        text-align: right;\n",
       "    }\n",
       "</style>\n",
       "<table border=\"1\" class=\"dataframe\">\n",
       "  <thead>\n",
       "    <tr style=\"text-align: right;\">\n",
       "      <th></th>\n",
       "      <th>FAERS_drug_match</th>\n",
       "      <th>lookup_rank</th>\n",
       "      <th>reciprocal_rank</th>\n",
       "    </tr>\n",
       "  </thead>\n",
       "  <tbody>\n",
       "    <tr>\n",
       "      <th>4</th>\n",
       "      <td>GUARANA (GUARANA)</td>\n",
       "      <td>4.0</td>\n",
       "      <td>0.25</td>\n",
       "    </tr>\n",
       "    <tr>\n",
       "      <th>11</th>\n",
       "      <td>GUARANA /01333101/</td>\n",
       "      <td>2.0</td>\n",
       "      <td>0.50</td>\n",
       "    </tr>\n",
       "  </tbody>\n",
       "</table>\n",
       "</div>"
      ],
      "text/plain": [
       "      FAERS_drug_match  lookup_rank  reciprocal_rank\n",
       "4    GUARANA (GUARANA)          4.0             0.25\n",
       "11  GUARANA /01333101/          2.0             0.50"
      ]
     },
     "execution_count": 176,
     "metadata": {},
     "output_type": "execute_result"
    }
   ],
   "source": [
    "exact_reciprocal = 1/test_mrr_exact['lookup_rank']\n",
    "test_mrr_exact['reciprocal_rank'] = exact_reciprocal\n",
    "test_mrr_exact.head()"
   ]
  },
  {
   "cell_type": "code",
   "execution_count": 177,
   "id": "c9f8219a",
   "metadata": {},
   "outputs": [
    {
     "data": {
      "text/plain": [
       "0.375"
      ]
     },
     "execution_count": 177,
     "metadata": {},
     "output_type": "execute_result"
    }
   ],
   "source": [
    "##get the mean of reciprocal ranks for exact matches\n",
    "test_mrr_exact.reciprocal_rank.mean()"
   ]
  },
  {
   "cell_type": "code",
   "execution_count": 178,
   "id": "f1d3df45",
   "metadata": {},
   "outputs": [
    {
     "data": {
      "text/plain": [
       "3.0"
      ]
     },
     "execution_count": 178,
     "metadata": {},
     "output_type": "execute_result"
    }
   ],
   "source": [
    "#get median and stdev\n",
    "test_mrr_exact.lookup_rank.median()"
   ]
  },
  {
   "cell_type": "code",
   "execution_count": 179,
   "id": "20e9fbcc",
   "metadata": {},
   "outputs": [
    {
     "data": {
      "text/plain": [
       "0.375"
      ]
     },
     "execution_count": 179,
     "metadata": {},
     "output_type": "execute_result"
    }
   ],
   "source": [
    "test_mrr_exact.reciprocal_rank.median()"
   ]
  },
  {
   "cell_type": "code",
   "execution_count": 180,
   "id": "be7512d7",
   "metadata": {},
   "outputs": [
    {
     "data": {
      "text/plain": [
       "1.4142135623730951"
      ]
     },
     "execution_count": 180,
     "metadata": {},
     "output_type": "execute_result"
    }
   ],
   "source": [
    "test_mrr_exact.lookup_rank.std()"
   ]
  },
  {
   "cell_type": "code",
   "execution_count": 181,
   "id": "196f26fb",
   "metadata": {},
   "outputs": [
    {
     "data": {
      "text/plain": [
       "0.1767766952966369"
      ]
     },
     "execution_count": 181,
     "metadata": {},
     "output_type": "execute_result"
    }
   ],
   "source": [
    "test_mrr_exact.reciprocal_rank.std()"
   ]
  },
  {
   "cell_type": "code",
   "execution_count": 182,
   "id": "a9f6e313",
   "metadata": {},
   "outputs": [
    {
     "data": {
      "text/html": [
       "<div>\n",
       "<style scoped>\n",
       "    .dataframe tbody tr th:only-of-type {\n",
       "        vertical-align: middle;\n",
       "    }\n",
       "\n",
       "    .dataframe tbody tr th {\n",
       "        vertical-align: top;\n",
       "    }\n",
       "\n",
       "    .dataframe thead th {\n",
       "        text-align: right;\n",
       "    }\n",
       "</style>\n",
       "<table border=\"1\" class=\"dataframe\">\n",
       "  <thead>\n",
       "    <tr style=\"text-align: right;\">\n",
       "      <th></th>\n",
       "      <th>FAERS_drug_match</th>\n",
       "      <th>lookup_rank_related</th>\n",
       "      <th>reciprocal_rank</th>\n",
       "    </tr>\n",
       "  </thead>\n",
       "  <tbody>\n",
       "    <tr>\n",
       "      <th>4</th>\n",
       "      <td>GUARANA (GUARANA)</td>\n",
       "      <td>4.0</td>\n",
       "      <td>0.25</td>\n",
       "    </tr>\n",
       "    <tr>\n",
       "      <th>11</th>\n",
       "      <td>GUARANA /01333101/</td>\n",
       "      <td>2.0</td>\n",
       "      <td>0.50</td>\n",
       "    </tr>\n",
       "    <tr>\n",
       "      <th>38</th>\n",
       "      <td>MARIJUNAN</td>\n",
       "      <td>5.0</td>\n",
       "      <td>0.20</td>\n",
       "    </tr>\n",
       "  </tbody>\n",
       "</table>\n",
       "</div>"
      ],
      "text/plain": [
       "      FAERS_drug_match  lookup_rank_related  reciprocal_rank\n",
       "4    GUARANA (GUARANA)                  4.0             0.25\n",
       "11  GUARANA /01333101/                  2.0             0.50\n",
       "38           MARIJUNAN                  5.0             0.20"
      ]
     },
     "execution_count": 182,
     "metadata": {},
     "output_type": "execute_result"
    }
   ],
   "source": [
    "rel_reciprocal = 1/test_mrr_rel['lookup_rank_related']\n",
    "test_mrr_rel['reciprocal_rank'] = rel_reciprocal\n",
    "test_mrr_rel.head()"
   ]
  },
  {
   "cell_type": "code",
   "execution_count": 183,
   "id": "a0079983",
   "metadata": {},
   "outputs": [
    {
     "data": {
      "text/plain": [
       "0.31666666666666665"
      ]
     },
     "execution_count": 183,
     "metadata": {},
     "output_type": "execute_result"
    }
   ],
   "source": [
    "test_mrr_rel.reciprocal_rank.mean()"
   ]
  },
  {
   "cell_type": "code",
   "execution_count": 184,
   "id": "f32d5c8f",
   "metadata": {},
   "outputs": [
    {
     "data": {
      "text/plain": [
       "0.25"
      ]
     },
     "execution_count": 184,
     "metadata": {},
     "output_type": "execute_result"
    }
   ],
   "source": [
    "test_mrr_rel.reciprocal_rank.median()"
   ]
  },
  {
   "cell_type": "code",
   "execution_count": 185,
   "id": "7b7ee0b7",
   "metadata": {},
   "outputs": [
    {
     "data": {
      "text/plain": [
       "0.16072751268321592"
      ]
     },
     "execution_count": 185,
     "metadata": {},
     "output_type": "execute_result"
    }
   ],
   "source": [
    "test_mrr_rel.reciprocal_rank.std()"
   ]
  },
  {
   "cell_type": "code",
   "execution_count": 186,
   "id": "db8ddc8a",
   "metadata": {},
   "outputs": [
    {
     "data": {
      "text/plain": [
       "4.0"
      ]
     },
     "execution_count": 186,
     "metadata": {},
     "output_type": "execute_result"
    }
   ],
   "source": [
    "test_mrr_rel.lookup_rank_related.median()"
   ]
  },
  {
   "cell_type": "code",
   "execution_count": 187,
   "id": "776bda1a",
   "metadata": {},
   "outputs": [
    {
     "data": {
      "text/plain": [
       "1.5275252316519465"
      ]
     },
     "execution_count": 187,
     "metadata": {},
     "output_type": "execute_result"
    }
   ],
   "source": [
    "test_mrr_rel.lookup_rank_related.std()"
   ]
  },
  {
   "cell_type": "markdown",
   "id": "300ecf32",
   "metadata": {},
   "source": [
    "--------------------------------------"
   ]
  },
  {
   "cell_type": "markdown",
   "id": "d4cc082c",
   "metadata": {},
   "source": [
    "# Average NP name length "
   ]
  },
  {
   "cell_type": "code",
   "execution_count": 20,
   "id": "e9b56ada",
   "metadata": {},
   "outputs": [
    {
     "name": "stdout",
     "output_type": "stream",
     "text": [
      "<class 'pandas.core.frame.DataFrame'>\n",
      "RangeIndex: 5358 entries, 0 to 5357\n",
      "Data columns (total 2 columns):\n",
      "FAERS_drug_match    5358 non-null object\n",
      "lookup_value        5358 non-null object\n",
      "dtypes: object(2)\n",
      "memory usage: 83.8+ KB\n",
      "None\n",
      "Processing file: ---------------------------------------\n",
      "Dropping sequences longer than the maxlen:\n",
      "\tDropped 6 that exceeded the maximum sequence length.\n",
      "\tUppercasing string sequences.\n",
      "Done processing: --------------------------------------\n",
      "<class 'pandas.core.frame.DataFrame'>\n",
      "Int64Index: 5352 entries, 0 to 5357\n",
      "Data columns (total 2 columns):\n",
      "FAERS_drug_match    5352 non-null object\n",
      "lookup_value        5352 non-null object\n",
      "dtypes: object(2)\n",
      "memory usage: 125.4+ KB\n",
      "None\n"
     ]
    }
   ],
   "source": [
    "main_dataset = preprocessInput(fName)"
   ]
  },
  {
   "cell_type": "code",
   "execution_count": 21,
   "id": "e5d83b7b",
   "metadata": {},
   "outputs": [
    {
     "data": {
      "text/plain": [
       "count    5352.000000\n",
       "mean       29.128176\n",
       "std        26.200619\n",
       "min         3.000000\n",
       "25%        15.000000\n",
       "50%        22.000000\n",
       "75%        37.000000\n",
       "max       364.000000\n",
       "Name: FAERS_drug_match, dtype: float64"
      ]
     },
     "execution_count": 21,
     "metadata": {},
     "output_type": "execute_result"
    }
   ],
   "source": [
    "stats = main_dataset['FAERS_drug_match'].apply(len).describe()\n",
    "stats"
   ]
  },
  {
   "cell_type": "code",
   "execution_count": 22,
   "id": "42c800af",
   "metadata": {},
   "outputs": [
    {
     "data": {
      "text/plain": [
       "81.52941485381506"
      ]
     },
     "execution_count": 22,
     "metadata": {},
     "output_type": "execute_result"
    }
   ],
   "source": [
    "stats[\"mean\"] + stats[\"std\"] * 2"
   ]
  },
  {
   "cell_type": "code",
   "execution_count": 23,
   "id": "652f3ab7",
   "metadata": {},
   "outputs": [
    {
     "data": {
      "text/plain": [
       "count    5352.000000\n",
       "mean       13.592302\n",
       "std         4.743080\n",
       "min         4.000000\n",
       "25%         9.000000\n",
       "50%        14.000000\n",
       "75%        18.000000\n",
       "max        24.000000\n",
       "Name: lookup_value, dtype: float64"
      ]
     },
     "execution_count": 23,
     "metadata": {},
     "output_type": "execute_result"
    }
   ],
   "source": [
    "main_dataset['lookup_value'].apply(len).describe()"
   ]
  },
  {
   "cell_type": "code",
   "execution_count": 24,
   "id": "486eb918",
   "metadata": {},
   "outputs": [
    {
     "data": {
      "text/plain": [
       "3261    364\n",
       "65      364\n",
       "1098    364\n",
       "3777    364\n",
       "582     364\n",
       "2744    364\n",
       "3767    356\n",
       "1088    356\n",
       "57      301\n",
       "2736    301\n",
       "Name: FAERS_drug_match, dtype: int64"
      ]
     },
     "execution_count": 24,
     "metadata": {},
     "output_type": "execute_result"
    }
   ],
   "source": [
    "main_dataset['FAERS_drug_match'].apply(len).sort_values(ascending=False)[0:10]"
   ]
  },
  {
   "cell_type": "code",
   "execution_count": 25,
   "id": "0d0fc86d",
   "metadata": {},
   "outputs": [
    {
     "data": {
      "text/plain": [
       "count      5352\n",
       "unique        2\n",
       "top       False\n",
       "freq       5238\n",
       "Name: FAERS_drug_match, dtype: object"
      ]
     },
     "execution_count": 25,
     "metadata": {},
     "output_type": "execute_result"
    }
   ],
   "source": [
    "main_dataset['FAERS_drug_match'].apply(len).gt(80).describe()"
   ]
  },
  {
   "cell_type": "code",
   "execution_count": 42,
   "id": "008ed010",
   "metadata": {},
   "outputs": [
    {
     "name": "stdout",
     "output_type": "stream",
     "text": [
      "Gt 65: 374\n",
      "Gt 70: 146\n",
      "Gt 80: 120\n"
     ]
    }
   ],
   "source": [
    "print(\"Gt 65:\", 5358 - 4984)\n",
    "print(\"Gt 70:\", 5358 - 5212)\n",
    "print(\"Gt 80:\", 5358 - 5238)"
   ]
  },
  {
   "cell_type": "code",
   "execution_count": 32,
   "id": "ffda3b1b",
   "metadata": {},
   "outputs": [
    {
     "data": {
      "text/plain": [
       "<matplotlib.axes._subplots.AxesSubplot at 0x7f82f189c3c8>"
      ]
     },
     "execution_count": 32,
     "metadata": {},
     "output_type": "execute_result"
    },
    {
     "data": {
      "image/png": "[encoded data removed]",
      "text/plain": [
       "<Figure size 432x288 with 1 Axes>"
      ]
     },
     "metadata": {
      "needs_background": "light"
     },
     "output_type": "display_data"
    }
   ],
   "source": [
    "%matplotlib inline\n",
    "main_dataset['FAERS_drug_match'].apply(len).hist(bins=15)"
   ]
  },
  {
   "cell_type": "code",
   "execution_count": 26,
   "id": "6a188bbb",
   "metadata": {},
   "outputs": [
    {
     "data": {
      "text/plain": [
       "\"WOMEN'S MULTI (ASCORBIC ACID, BETACAROTENE, BIOTIN, CALCIUM AMINO ACID CHELATE, CALCIUM PANTOTHENATE, CHROMIUM AMINO ACID CHELATE, COPPER AMINO ACID CHELATE, CYANOCOBALAMIN, EQUISETUM ARVENSE STEM, FERROUS FUMARATE, FOLIC ACID, LAMINARIA DIGITATA POWDER, MAGNESIUM OXIDE, MANGANESE AMINO ACID CHELATE, NICOTINAMIDE, OENOTHERA BIENNIS OIL, POTASSIUM AMINO ACID CHELATE, PYRIDOXINE HYDROCHLORIDE, RIBOFLAVIN, SELENIUM AMINO ACID CHELATE, THIAMINE MONONITRATE, ZINC AMINO ACID CHELATE) TABLET\""
      ]
     },
     "execution_count": 26,
     "metadata": {},
     "output_type": "execute_result"
    }
   ],
   "source": [
    "main_dataset.iloc[5132]['FAERS_drug_match']"
   ]
  },
  {
   "cell_type": "code",
   "execution_count": null,
   "id": "4f331723",
   "metadata": {},
   "outputs": [],
   "source": [
    "main_dataset.iloc[5132]['FAERS_drug_match']"
   ]
  },
  {
   "cell_type": "code",
   "execution_count": 133,
   "id": "8615758f",
   "metadata": {},
   "outputs": [
    {
     "data": {
      "text/plain": [
       "count    16879.000000\n",
       "mean        29.855738\n",
       "std         31.324787\n",
       "min          3.000000\n",
       "25%         15.000000\n",
       "50%         22.000000\n",
       "75%         37.000000\n",
       "max        489.000000\n",
       "Name: FAERS_drug_match, dtype: float64"
      ]
     },
     "execution_count": 133,
     "metadata": {},
     "output_type": "execute_result"
    }
   ],
   "source": [
    "dfneg2['FAERS_drug_match'].apply(len).describe()"
   ]
  },
  {
   "cell_type": "code",
   "execution_count": null,
   "id": "18ce5515",
   "metadata": {},
   "outputs": [],
   "source": [
    "dfneg2['lookup_value'].apply(len).describe()"
   ]
  },
  {
   "cell_type": "code",
   "execution_count": 134,
   "id": "1cee8b21",
   "metadata": {},
   "outputs": [
    {
     "data": {
      "text/plain": [
       "count    125.000000\n",
       "mean      13.136000\n",
       "std        4.590214\n",
       "min        4.000000\n",
       "25%        9.000000\n",
       "50%       13.000000\n",
       "75%       17.000000\n",
       "max       24.000000\n",
       "Name: dUnique_label, dtype: float64"
      ]
     },
     "execution_count": 134,
     "metadata": {},
     "output_type": "execute_result"
    }
   ],
   "source": [
    "dUnique_df['dUnique_label'].apply(len).describe()"
   ]
  },
  {
   "cell_type": "code",
   "execution_count": 132,
   "id": "a6c3dee3",
   "metadata": {},
   "outputs": [
    {
     "data": {
      "text/plain": [
       "count    125.000000\n",
       "mean      13.136000\n",
       "std        4.590214\n",
       "min        4.000000\n",
       "25%        9.000000\n",
       "50%       13.000000\n",
       "75%       17.000000\n",
       "max       24.000000\n",
       "Name: dUnique_seq, dtype: float64"
      ]
     },
     "execution_count": 132,
     "metadata": {},
     "output_type": "execute_result"
    }
   ],
   "source": [
    "dUnique_df['dUnique_seq'].apply(len).describe()"
   ]
  },
  {
   "cell_type": "code",
   "execution_count": null,
   "id": "942ec732",
   "metadata": {},
   "outputs": [],
   "source": [
    "dfneg2['FAERS_drug_match'].apply(len).idxmax()"
   ]
  },
  {
   "cell_type": "code",
   "execution_count": 138,
   "id": "46c96e8d",
   "metadata": {},
   "outputs": [
    {
     "data": {
      "text/plain": [
       "\"WOMEN'S MULTI (ASCORBIC ACID, BETACAROTENE, BIOTIN, CALCIUM AMINO ACID CHELATE, CALCIUM PANTOTHENATE, CHROMIUM AMINO ACID CHELATE, COPPER AMINO ACID CHELATE, CYANOCOBALAMIN, EQUISETUM ARVENSE STEM, FERROUS FUMARATE, FOLIC ACID, LAMINARIA DIGITATA POWDER, MAGNESIUM OXIDE, MANGANESE AMINO ACID CHELATE, NICOTINAMIDE, OENOTHERA BIENNIS OIL, POTASSIUM AMINO ACID CHELATE, PYRIDOXINE HYDROCHLORIDE, RIBOFLAVIN, SELENIUM AMINO ACID CHELATE, THIAMINE MONONITRATE, ZINC AMINO ACID CHELATE) TABLET\""
      ]
     },
     "execution_count": 138,
     "metadata": {},
     "output_type": "execute_result"
    }
   ],
   "source": [
    "dfneg2.iloc[8183]['FAERS_drug_match']"
   ]
  },
  {
   "cell_type": "code",
   "execution_count": null,
   "id": "8de34cb6",
   "metadata": {},
   "outputs": [],
   "source": []
  }
 ],
 "metadata": {
  "kernelspec": {
   "display_name": "Python 3 (ipykernel)",
   "language": "python",
   "name": "python3"
  },
  "language_info": {
   "codemirror_mode": {
    "name": "ipython",
    "version": 3
   },
   "file_extension": ".py",
   "mimetype": "text/x-python",
   "name": "python",
   "nbconvert_exporter": "python",
   "pygments_lexer": "ipython3",
   "version": "3.10.5"
  }
 },
 "nbformat": 4,
 "nbformat_minor": 5
}
