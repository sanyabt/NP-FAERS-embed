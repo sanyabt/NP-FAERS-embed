{
 "cells": [
  {
   "cell_type": "code",
   "execution_count": null,
   "metadata": {},
   "outputs": [],
   "source": [
    "# # uncomment and run to install any required modules from requirements.txt\n",
    "# import sys\n",
    "# !{sys.executable} -m pip install -r requirements.txt"
   ]
  },
  {
   "cell_type": "markdown",
   "metadata": {},
   "source": [
    "# NP-FAERS model train and test\n",
    "This notebook uses the natural products annotation corpus to train and test a Siamese recurrent network that maps strings in FAERS to standardized natural product names."
   ]
  },
  {
   "cell_type": "markdown",
   "metadata": {
    "id": "1_cRcHZj3voR"
   },
   "source": [
    "# Load data"
   ]
  },
  {
   "cell_type": "code",
   "execution_count": 1,
   "metadata": {
    "id": "F57wsYMU2IGZ"
   },
   "outputs": [],
   "source": [
    "import numpy as np\n",
    "import pandas as pd\n",
    "import pickle\n",
    "#import matplotlib.pyplot as plt\n",
    "#import seaborn as sns\n",
    "from IPython.display import display, clear_output\n",
    "import re"
   ]
  },
  {
   "cell_type": "markdown",
   "metadata": {},
   "source": [
    "## Preprocess Data\n",
    "\n",
    "1. Remove digits and punctuation\n",
    "2. Upper case\n",
    "3. Mutating strings (not in this version)"
   ]
  },
  {
   "cell_type": "code",
   "execution_count": 2,
   "metadata": {},
   "outputs": [
    {
     "name": "stdout",
     "output_type": "stream",
     "text": [
      "<class 'pandas.core.frame.DataFrame'>\n",
      "RangeIndex: 8274 entries, 0 to 8273\n",
      "Data columns (total 3 columns):\n",
      " #   Column            Non-Null Count  Dtype \n",
      "---  ------            --------------  ----- \n",
      " 0   FAERS_drug_match  8274 non-null   object\n",
      " 1   lookup_value      8274 non-null   object\n",
      " 2   indi_pt           4930 non-null   object\n",
      "dtypes: object(3)\n",
      "memory usage: 194.0+ KB\n"
     ]
    }
   ],
   "source": [
    "#if starting from preprocess, load the drugs directly\n",
    "df = pd.read_csv('data/NP_FAERS_mapped_indications_join_on_drugname_20220218.csv')\n",
    "df.info()"
   ]
  },
  {
   "cell_type": "code",
   "execution_count": null,
   "metadata": {},
   "outputs": [],
   "source": []
  },
  {
   "cell_type": "code",
   "execution_count": 3,
   "metadata": {},
   "outputs": [],
   "source": [
    "#make all casing upper\n",
    "df['FAERS_drug_match'] = df['FAERS_drug_match'].str.upper()\n",
    "df['lookup_value'] = df['lookup_value'].str.upper()\n",
    "df['indi_pt'] = df['indi_pt'].str.upper()"
   ]
  },
  {
   "cell_type": "code",
   "execution_count": 4,
   "metadata": {},
   "outputs": [
    {
     "data": {
      "text/html": [
       "<div>\n",
       "<style scoped>\n",
       "    .dataframe tbody tr th:only-of-type {\n",
       "        vertical-align: middle;\n",
       "    }\n",
       "\n",
       "    .dataframe tbody tr th {\n",
       "        vertical-align: top;\n",
       "    }\n",
       "\n",
       "    .dataframe thead th {\n",
       "        text-align: right;\n",
       "    }\n",
       "</style>\n",
       "<table border=\"1\" class=\"dataframe\">\n",
       "  <thead>\n",
       "    <tr style=\"text-align: right;\">\n",
       "      <th></th>\n",
       "      <th>FAERS_drug_match</th>\n",
       "      <th>lookup_value</th>\n",
       "      <th>indi_pt</th>\n",
       "    </tr>\n",
       "  </thead>\n",
       "  <tbody>\n",
       "    <tr>\n",
       "      <th>0</th>\n",
       "      <td>ADRENAL HEALTH (BRAND) = (SIBERIAN RHODIOLA, R...</td>\n",
       "      <td>ASHWAGANDA</td>\n",
       "      <td>NaN</td>\n",
       "    </tr>\n",
       "    <tr>\n",
       "      <th>1</th>\n",
       "      <td>ASHWAGANDHA</td>\n",
       "      <td>ASHWAGANDA</td>\n",
       "      <td>PRODUCT USED FOR UNKNOWN INDICATION</td>\n",
       "    </tr>\n",
       "    <tr>\n",
       "      <th>2</th>\n",
       "      <td>ASHWAGANDHA</td>\n",
       "      <td>ASHWAGANDA</td>\n",
       "      <td>ROUTINE HEALTH MAINTENANCE</td>\n",
       "    </tr>\n",
       "    <tr>\n",
       "      <th>3</th>\n",
       "      <td>ASHWAGANDHA</td>\n",
       "      <td>ASHWAGANDA</td>\n",
       "      <td>STRESS</td>\n",
       "    </tr>\n",
       "    <tr>\n",
       "      <th>4</th>\n",
       "      <td>ASHWAGANDHA</td>\n",
       "      <td>ASHWAGANDA</td>\n",
       "      <td>ARTHROPATHY</td>\n",
       "    </tr>\n",
       "  </tbody>\n",
       "</table>\n",
       "</div>"
      ],
      "text/plain": [
       "                                    FAERS_drug_match lookup_value  \\\n",
       "0  ADRENAL HEALTH (BRAND) = (SIBERIAN RHODIOLA, R...   ASHWAGANDA   \n",
       "1                                        ASHWAGANDHA   ASHWAGANDA   \n",
       "2                                        ASHWAGANDHA   ASHWAGANDA   \n",
       "3                                        ASHWAGANDHA   ASHWAGANDA   \n",
       "4                                        ASHWAGANDHA   ASHWAGANDA   \n",
       "\n",
       "                               indi_pt  \n",
       "0                                  NaN  \n",
       "1  PRODUCT USED FOR UNKNOWN INDICATION  \n",
       "2           ROUTINE HEALTH MAINTENANCE  \n",
       "3                               STRESS  \n",
       "4                          ARTHROPATHY  "
      ]
     },
     "execution_count": 4,
     "metadata": {},
     "output_type": "execute_result"
    }
   ],
   "source": [
    "df.head()"
   ]
  },
  {
   "cell_type": "code",
   "execution_count": 5,
   "metadata": {},
   "outputs": [
    {
     "data": {
      "text/plain": [
       "(126,)"
      ]
     },
     "execution_count": 5,
     "metadata": {},
     "output_type": "execute_result"
    }
   ],
   "source": [
    "df.lookup_value.unique().shape"
   ]
  },
  {
   "cell_type": "markdown",
   "metadata": {
    "id": "XcwyIySOVWhE"
   },
   "source": [
    "# RNN character-based encoder - Siamese Network\n",
    "\n",
    "## Experiments\n",
    "1. Unique natural product strings \n",
    "2. Unique natural product string - negative pairs random also\n",
    "3. Unique natural product strings with indications\n",
    "4. Mutations?\n",
    "\n",
    "### Set up positive pairs and negative pairs  \n",
    "  - positive pairs coded 'yes' in annotation corpus\n",
    "  - negative pairs coded 'no' in annotation corpus and random from train data"
   ]
  },
  {
   "cell_type": "code",
   "execution_count": 7,
   "metadata": {},
   "outputs": [],
   "source": [
    "import tensorflow as tf\n",
    "import string\n",
    "import random\n",
    "from sklearn.utils import shuffle\n",
    "from sklearn.model_selection import train_test_split\n",
    "import tqdm"
   ]
  },
  {
   "cell_type": "markdown",
   "metadata": {
    "id": "vjuG5RMrVx-A"
   },
   "source": [
    "## Functions to process data"
   ]
  },
  {
   "cell_type": "code",
   "execution_count": 8,
   "metadata": {},
   "outputs": [],
   "source": [
    "# how i add noise \n",
    "# string w \n",
    "# proportion of noise added \n",
    "# uniform random from [0,1]\n",
    "# if <1/3 edit one position with new random character, else if <2/3 delete one position, else add one random character \n",
    "def add_noise(w, percent):\n",
    "  ''' edit, del, add'''\n",
    "  positions = random.choices(range(len(w)), k=int(percent*len(w)))\n",
    "  for p in positions:\n",
    "    r = random.random()\n",
    "    if r <= 0.3333: # edit\n",
    "      w = w[:p] + random.choice(string.ascii_uppercase) + w[p+1:]\n",
    "    elif r<= 0.6667: # delete\n",
    "      w = w[:p] + w[p+1:]\n",
    "    elif r<=1: # add\n",
    "      w = w[:p] + random.choice(string.ascii_uppercase) + w[p:]\n",
    "  return w\n",
    "\n",
    "def clean(text):\n",
    "    #remove all non-ascii, special characters and keep alphabets and space only. Can also use isalpha()\n",
    "    #convert to uppercase\n",
    "    #remove extra spaces\n",
    "    regex = re.compile('[^a-zA-Z ]')\n",
    "    r = regex.sub('', text)\n",
    "    result = re.sub(' +', ' ', r)\n",
    "    result = result.strip()\n",
    "    return result.upper()"
   ]
  },
  {
   "cell_type": "code",
   "execution_count": 9,
   "metadata": {
    "id": "F50Y3uz-Foo0"
   },
   "outputs": [],
   "source": [
    "def clean_dataset(data):\n",
    "  x = []\n",
    "  y = []\n",
    "  for i in range(data.shape[0]):\n",
    "    w = clean(data.FAERS_drug_match_indi.iloc[i])\n",
    "    v = clean(data.lookup_value.iloc[i])\n",
    "    x.append(w)\n",
    "    y.append(v)\n",
    "  return x,y\n",
    "\n",
    "def encode_dataset(x,y):\n",
    "  encode_dict = {l:i+1 for i,l in enumerate(string.ascii_uppercase + \" \")}\n",
    "  Xtrain = [[encode_dict[m] for m in n] for n in x]\n",
    "  Ytrain = [[encode_dict[m] for m in n] for n in y]\n",
    "  return Xtrain, Ytrain\n",
    "\n",
    "def clean_encode_padding(q, maxlen):\n",
    "  q = clean(q)\n",
    "  encode_dict = {l:i+1 for i,l in enumerate(string.ascii_uppercase + \" \")}\n",
    "  return tf.keras.preprocessing.sequence.pad_sequences(\n",
    "    [encode_dict[m] for m in q] , padding=\"post\", maxlen=maxlen)\n",
    "\n",
    "def padding_dataset(X,Y,maxlen):\n",
    "  padded_y = tf.keras.preprocessing.sequence.pad_sequences(\n",
    "    Y, padding=\"post\", maxlen=maxlen)\n",
    "  padded_x = tf.keras.preprocessing.sequence.pad_sequences(\n",
    "      X, padding=\"post\", maxlen=maxlen)\n",
    "  return padded_x, padded_y\n"
   ]
  },
  {
   "cell_type": "code",
   "execution_count": 10,
   "metadata": {},
   "outputs": [],
   "source": [
    "def cosine_distance(vects):\n",
    "    x, y = vects\n",
    "    return 1-tf.reduce_sum(tf.multiply(x,y),axis=1, keepdims=True)/(tf.norm(x,axis=1,keepdims=True)*tf.norm(y,axis=1,keepdims=True))\n",
    "\n",
    "def loss(margin=1):\n",
    "    def contrastive_loss(y_true, y_pred):\n",
    "        square_pred = tf.math.square(y_pred)\n",
    "        margin_square = tf.math.square(tf.math.maximum(margin - (y_pred), 0))\n",
    "        return tf.math.reduce_mean(\n",
    "            (1 - y_true) * square_pred + (y_true) * margin_square\n",
    "        )\n",
    "\n",
    "    return contrastive_loss"
   ]
  },
  {
   "cell_type": "code",
   "execution_count": 11,
   "metadata": {},
   "outputs": [],
   "source": [
    "def plt_metric(history, metric, title, has_valid=True):\n",
    "    \"\"\"Plots the given 'metric' from 'history'.\n",
    "\n",
    "    Arguments:\n",
    "        history: history attribute of History object returned from Model.fit.\n",
    "        metric: Metric to plot, a string value present as key in 'history'.\n",
    "        title: A string to be used as title of plot.\n",
    "        has_valid: Boolean, true if valid data was passed to Model.fit else false.\n",
    "\n",
    "    Returns:\n",
    "        None.\n",
    "    \"\"\"\n",
    "    plt.plot(history[metric])\n",
    "    if has_valid:\n",
    "        plt.plot(history[\"val_\" + metric])\n",
    "        plt.legend([\"train\", \"validation\"], loc=\"upper left\")\n",
    "    plt.title(title)\n",
    "    plt.ylabel(metric)\n",
    "    plt.xlabel(\"epoch\")\n",
    "    plt.show()\n"
   ]
  },
  {
   "cell_type": "code",
   "execution_count": null,
   "metadata": {},
   "outputs": [],
   "source": []
  },
  {
   "cell_type": "code",
   "execution_count": null,
   "metadata": {},
   "outputs": [],
   "source": []
  },
  {
   "cell_type": "markdown",
   "metadata": {},
   "source": [
    "## Experiment 3 - combined negative pairs from random train and reference set, add indications data joined on FAERS drug match for both positive and negative pairs"
   ]
  },
  {
   "cell_type": "code",
   "execution_count": 12,
   "metadata": {},
   "outputs": [
    {
     "data": {
      "text/html": [
       "<div>\n",
       "<style scoped>\n",
       "    .dataframe tbody tr th:only-of-type {\n",
       "        vertical-align: middle;\n",
       "    }\n",
       "\n",
       "    .dataframe tbody tr th {\n",
       "        vertical-align: top;\n",
       "    }\n",
       "\n",
       "    .dataframe thead th {\n",
       "        text-align: right;\n",
       "    }\n",
       "</style>\n",
       "<table border=\"1\" class=\"dataframe\">\n",
       "  <thead>\n",
       "    <tr style=\"text-align: right;\">\n",
       "      <th></th>\n",
       "      <th>FAERS_drug_match</th>\n",
       "      <th>lookup_value</th>\n",
       "      <th>indi_pt</th>\n",
       "    </tr>\n",
       "  </thead>\n",
       "  <tbody>\n",
       "    <tr>\n",
       "      <th>0</th>\n",
       "      <td>ADRENAL HEALTH (BRAND) = (SIBERIAN RHODIOLA, R...</td>\n",
       "      <td>ASHWAGANDA</td>\n",
       "      <td>NaN</td>\n",
       "    </tr>\n",
       "    <tr>\n",
       "      <th>1</th>\n",
       "      <td>ASHWAGANDHA</td>\n",
       "      <td>ASHWAGANDA</td>\n",
       "      <td>PRODUCT USED FOR UNKNOWN INDICATION</td>\n",
       "    </tr>\n",
       "    <tr>\n",
       "      <th>2</th>\n",
       "      <td>ASHWAGANDHA</td>\n",
       "      <td>ASHWAGANDA</td>\n",
       "      <td>ROUTINE HEALTH MAINTENANCE</td>\n",
       "    </tr>\n",
       "    <tr>\n",
       "      <th>3</th>\n",
       "      <td>ASHWAGANDHA</td>\n",
       "      <td>ASHWAGANDA</td>\n",
       "      <td>STRESS</td>\n",
       "    </tr>\n",
       "    <tr>\n",
       "      <th>4</th>\n",
       "      <td>ASHWAGANDHA</td>\n",
       "      <td>ASHWAGANDA</td>\n",
       "      <td>ARTHROPATHY</td>\n",
       "    </tr>\n",
       "  </tbody>\n",
       "</table>\n",
       "</div>"
      ],
      "text/plain": [
       "                                    FAERS_drug_match lookup_value  \\\n",
       "0  ADRENAL HEALTH (BRAND) = (SIBERIAN RHODIOLA, R...   ASHWAGANDA   \n",
       "1                                        ASHWAGANDHA   ASHWAGANDA   \n",
       "2                                        ASHWAGANDHA   ASHWAGANDA   \n",
       "3                                        ASHWAGANDHA   ASHWAGANDA   \n",
       "4                                        ASHWAGANDHA   ASHWAGANDA   \n",
       "\n",
       "                               indi_pt  \n",
       "0                                  NaN  \n",
       "1  PRODUCT USED FOR UNKNOWN INDICATION  \n",
       "2           ROUTINE HEALTH MAINTENANCE  \n",
       "3                               STRESS  \n",
       "4                          ARTHROPATHY  "
      ]
     },
     "execution_count": 12,
     "metadata": {},
     "output_type": "execute_result"
    }
   ],
   "source": [
    "df.head()"
   ]
  },
  {
   "cell_type": "code",
   "execution_count": 13,
   "metadata": {},
   "outputs": [
    {
     "data": {
      "text/html": [
       "<div>\n",
       "<style scoped>\n",
       "    .dataframe tbody tr th:only-of-type {\n",
       "        vertical-align: middle;\n",
       "    }\n",
       "\n",
       "    .dataframe tbody tr th {\n",
       "        vertical-align: top;\n",
       "    }\n",
       "\n",
       "    .dataframe thead th {\n",
       "        text-align: right;\n",
       "    }\n",
       "</style>\n",
       "<table border=\"1\" class=\"dataframe\">\n",
       "  <thead>\n",
       "    <tr style=\"text-align: right;\">\n",
       "      <th></th>\n",
       "      <th>FAERS_drug_match</th>\n",
       "      <th>lookup_value</th>\n",
       "      <th>indi_pt</th>\n",
       "    </tr>\n",
       "  </thead>\n",
       "  <tbody>\n",
       "    <tr>\n",
       "      <th>0</th>\n",
       "      <td>ADRENAL HEALTH (BRAND) = (SIBERIAN RHODIOLA, R...</td>\n",
       "      <td>ASHWAGANDA</td>\n",
       "      <td></td>\n",
       "    </tr>\n",
       "    <tr>\n",
       "      <th>1</th>\n",
       "      <td>ASHWAGANDHA</td>\n",
       "      <td>ASHWAGANDA</td>\n",
       "      <td>PRODUCT USED FOR UNKNOWN INDICATION</td>\n",
       "    </tr>\n",
       "    <tr>\n",
       "      <th>2</th>\n",
       "      <td>ASHWAGANDHA</td>\n",
       "      <td>ASHWAGANDA</td>\n",
       "      <td>ROUTINE HEALTH MAINTENANCE</td>\n",
       "    </tr>\n",
       "    <tr>\n",
       "      <th>3</th>\n",
       "      <td>ASHWAGANDHA</td>\n",
       "      <td>ASHWAGANDA</td>\n",
       "      <td>STRESS</td>\n",
       "    </tr>\n",
       "    <tr>\n",
       "      <th>4</th>\n",
       "      <td>ASHWAGANDHA</td>\n",
       "      <td>ASHWAGANDA</td>\n",
       "      <td>ARTHROPATHY</td>\n",
       "    </tr>\n",
       "  </tbody>\n",
       "</table>\n",
       "</div>"
      ],
      "text/plain": [
       "                                    FAERS_drug_match lookup_value  \\\n",
       "0  ADRENAL HEALTH (BRAND) = (SIBERIAN RHODIOLA, R...   ASHWAGANDA   \n",
       "1                                        ASHWAGANDHA   ASHWAGANDA   \n",
       "2                                        ASHWAGANDHA   ASHWAGANDA   \n",
       "3                                        ASHWAGANDHA   ASHWAGANDA   \n",
       "4                                        ASHWAGANDHA   ASHWAGANDA   \n",
       "\n",
       "                               indi_pt  \n",
       "0                                       \n",
       "1  PRODUCT USED FOR UNKNOWN INDICATION  \n",
       "2           ROUTINE HEALTH MAINTENANCE  \n",
       "3                               STRESS  \n",
       "4                          ARTHROPATHY  "
      ]
     },
     "execution_count": 13,
     "metadata": {},
     "output_type": "execute_result"
    }
   ],
   "source": [
    "#append indications string to drug name (if not NA)\n",
    "df['indi_pt'] = df['indi_pt'].fillna('')\n",
    "df.head()"
   ]
  },
  {
   "cell_type": "code",
   "execution_count": 14,
   "metadata": {},
   "outputs": [],
   "source": [
    "df['FAERS_drug_match_indi'] = df['FAERS_drug_match'] + ' ' + df['indi_pt']\n"
   ]
  },
  {
   "cell_type": "code",
   "execution_count": 15,
   "metadata": {},
   "outputs": [
    {
     "data": {
      "text/html": [
       "<div>\n",
       "<style scoped>\n",
       "    .dataframe tbody tr th:only-of-type {\n",
       "        vertical-align: middle;\n",
       "    }\n",
       "\n",
       "    .dataframe tbody tr th {\n",
       "        vertical-align: top;\n",
       "    }\n",
       "\n",
       "    .dataframe thead th {\n",
       "        text-align: right;\n",
       "    }\n",
       "</style>\n",
       "<table border=\"1\" class=\"dataframe\">\n",
       "  <thead>\n",
       "    <tr style=\"text-align: right;\">\n",
       "      <th></th>\n",
       "      <th>FAERS_drug_match</th>\n",
       "      <th>lookup_value</th>\n",
       "      <th>indi_pt</th>\n",
       "      <th>FAERS_drug_match_indi</th>\n",
       "    </tr>\n",
       "  </thead>\n",
       "  <tbody>\n",
       "    <tr>\n",
       "      <th>0</th>\n",
       "      <td>ADRENAL HEALTH (BRAND) = (SIBERIAN RHODIOLA, R...</td>\n",
       "      <td>ASHWAGANDA</td>\n",
       "      <td></td>\n",
       "      <td>ADRENAL HEALTH (BRAND) = (SIBERIAN RHODIOLA, R...</td>\n",
       "    </tr>\n",
       "    <tr>\n",
       "      <th>1</th>\n",
       "      <td>ASHWAGANDHA</td>\n",
       "      <td>ASHWAGANDA</td>\n",
       "      <td>PRODUCT USED FOR UNKNOWN INDICATION</td>\n",
       "      <td>ASHWAGANDHA PRODUCT USED FOR UNKNOWN INDICATION</td>\n",
       "    </tr>\n",
       "    <tr>\n",
       "      <th>2</th>\n",
       "      <td>ASHWAGANDHA</td>\n",
       "      <td>ASHWAGANDA</td>\n",
       "      <td>ROUTINE HEALTH MAINTENANCE</td>\n",
       "      <td>ASHWAGANDHA ROUTINE HEALTH MAINTENANCE</td>\n",
       "    </tr>\n",
       "    <tr>\n",
       "      <th>3</th>\n",
       "      <td>ASHWAGANDHA</td>\n",
       "      <td>ASHWAGANDA</td>\n",
       "      <td>STRESS</td>\n",
       "      <td>ASHWAGANDHA STRESS</td>\n",
       "    </tr>\n",
       "    <tr>\n",
       "      <th>4</th>\n",
       "      <td>ASHWAGANDHA</td>\n",
       "      <td>ASHWAGANDA</td>\n",
       "      <td>ARTHROPATHY</td>\n",
       "      <td>ASHWAGANDHA ARTHROPATHY</td>\n",
       "    </tr>\n",
       "  </tbody>\n",
       "</table>\n",
       "</div>"
      ],
      "text/plain": [
       "                                    FAERS_drug_match lookup_value  \\\n",
       "0  ADRENAL HEALTH (BRAND) = (SIBERIAN RHODIOLA, R...   ASHWAGANDA   \n",
       "1                                        ASHWAGANDHA   ASHWAGANDA   \n",
       "2                                        ASHWAGANDHA   ASHWAGANDA   \n",
       "3                                        ASHWAGANDHA   ASHWAGANDA   \n",
       "4                                        ASHWAGANDHA   ASHWAGANDA   \n",
       "\n",
       "                               indi_pt  \\\n",
       "0                                        \n",
       "1  PRODUCT USED FOR UNKNOWN INDICATION   \n",
       "2           ROUTINE HEALTH MAINTENANCE   \n",
       "3                               STRESS   \n",
       "4                          ARTHROPATHY   \n",
       "\n",
       "                               FAERS_drug_match_indi  \n",
       "0  ADRENAL HEALTH (BRAND) = (SIBERIAN RHODIOLA, R...  \n",
       "1    ASHWAGANDHA PRODUCT USED FOR UNKNOWN INDICATION  \n",
       "2             ASHWAGANDHA ROUTINE HEALTH MAINTENANCE  \n",
       "3                                 ASHWAGANDHA STRESS  \n",
       "4                            ASHWAGANDHA ARTHROPATHY  "
      ]
     },
     "execution_count": 15,
     "metadata": {},
     "output_type": "execute_result"
    }
   ],
   "source": [
    "df.head()"
   ]
  },
  {
   "cell_type": "code",
   "execution_count": 16,
   "metadata": {},
   "outputs": [
    {
     "data": {
      "text/plain": [
       "8274"
      ]
     },
     "execution_count": 16,
     "metadata": {},
     "output_type": "execute_result"
    }
   ],
   "source": [
    "x = df.FAERS_drug_match_indi.str.len()\n",
    "len(x)"
   ]
  },
  {
   "cell_type": "code",
   "execution_count": 17,
   "metadata": {},
   "outputs": [],
   "source": [
    "train, test = train_test_split(df, test_size=0.20, random_state=42)"
   ]
  },
  {
   "cell_type": "code",
   "execution_count": 18,
   "metadata": {},
   "outputs": [
    {
     "data": {
      "text/plain": [
       "(6619, 4)"
      ]
     },
     "execution_count": 18,
     "metadata": {},
     "output_type": "execute_result"
    }
   ],
   "source": [
    "train.shape"
   ]
  },
  {
   "cell_type": "code",
   "execution_count": 19,
   "metadata": {},
   "outputs": [
    {
     "data": {
      "text/plain": [
       "(1655, 4)"
      ]
     },
     "execution_count": 19,
     "metadata": {},
     "output_type": "execute_result"
    }
   ],
   "source": [
    "test.shape"
   ]
  },
  {
   "cell_type": "code",
   "execution_count": null,
   "metadata": {},
   "outputs": [],
   "source": []
  },
  {
   "cell_type": "code",
   "execution_count": 20,
   "metadata": {},
   "outputs": [],
   "source": [
    "#padding length = maxlen\n",
    "maxlen = 400"
   ]
  },
  {
   "cell_type": "code",
   "execution_count": 21,
   "metadata": {
    "id": "_BERqTAvuDD0"
   },
   "outputs": [],
   "source": [
    "xtest, ytest = clean_dataset(test)\n",
    "Xtest, Ytest = encode_dataset(xtest,ytest)\n",
    "padded_xTest, padded_yTest = padding_dataset(Xtest,Ytest,maxlen)"
   ]
  },
  {
   "cell_type": "code",
   "execution_count": 22,
   "metadata": {
    "colab": {
     "base_uri": "https://localhost:8080/"
    },
    "id": "zK7ltkhGudRw",
    "outputId": "7ee378b9-809f-4fa8-9095-40e3e9863c17"
   },
   "outputs": [
    {
     "data": {
      "text/plain": [
       "(1655, 400)"
      ]
     },
     "execution_count": 22,
     "metadata": {},
     "output_type": "execute_result"
    }
   ],
   "source": [
    "padded_xTest.shape"
   ]
  },
  {
   "cell_type": "code",
   "execution_count": 23,
   "metadata": {},
   "outputs": [],
   "source": [
    "#without noise (Experiment 1)\n",
    "x, y = clean_dataset(train)"
   ]
  },
  {
   "cell_type": "code",
   "execution_count": 24,
   "metadata": {},
   "outputs": [
    {
     "data": {
      "text/plain": [
       "6619"
      ]
     },
     "execution_count": 24,
     "metadata": {},
     "output_type": "execute_result"
    }
   ],
   "source": [
    "len(y)"
   ]
  },
  {
   "cell_type": "code",
   "execution_count": 25,
   "metadata": {
    "id": "J5xe73atmHh9"
   },
   "outputs": [],
   "source": [
    "encode_dict = {l:i+1 for i,l in enumerate(string.ascii_uppercase + \" \")}"
   ]
  },
  {
   "cell_type": "code",
   "execution_count": 26,
   "metadata": {},
   "outputs": [
    {
     "data": {
      "text/plain": [
       "8274"
      ]
     },
     "execution_count": 26,
     "metadata": {},
     "output_type": "execute_result"
    }
   ],
   "source": [
    "x_all, y_all = clean_dataset(df)\n",
    "len(y_all)"
   ]
  },
  {
   "cell_type": "code",
   "execution_count": 27,
   "metadata": {
    "id": "CccvDAPMmfy_"
   },
   "outputs": [],
   "source": [
    "Xtrain = [[encode_dict[m] for m in n] for n in x]\n",
    "Ytrain = [[encode_dict[m] for m in n] for n in y]"
   ]
  },
  {
   "cell_type": "code",
   "execution_count": 28,
   "metadata": {},
   "outputs": [
    {
     "name": "stdout",
     "output_type": "stream",
     "text": [
      "6619\n",
      "6619\n"
     ]
    },
    {
     "name": "stderr",
     "output_type": "stream",
     "text": [
      "/home/sanya/.conda/envs/faers-embed/lib/python3.8/site-packages/numpy/lib/arraysetops.py:270: VisibleDeprecationWarning: Creating an ndarray from ragged nested sequences (which is a list-or-tuple of lists-or-tuples-or ndarrays with different lengths or shapes) is deprecated. If you meant to do this, you must specify 'dtype=object' when creating the ndarray.\n",
      "  ar = np.asanyarray(ar)\n"
     ]
    },
    {
     "data": {
      "text/plain": [
       "(124,)"
      ]
     },
     "execution_count": 28,
     "metadata": {},
     "output_type": "execute_result"
    }
   ],
   "source": [
    "print(len(Xtrain))\n",
    "print(len(Ytrain))\n",
    "np.unique(Ytrain).shape"
   ]
  },
  {
   "cell_type": "code",
   "execution_count": 29,
   "metadata": {
    "colab": {
     "base_uri": "https://localhost:8080/"
    },
    "id": "LIFksoPYnedl",
    "outputId": "429207d8-ca85-4efb-fce2-d76955b83ea7"
   },
   "outputs": [
    {
     "name": "stdout",
     "output_type": "stream",
     "text": [
      "[[ 1 12 12 ...  0  0  0]\n",
      " [12  9 14 ...  0  0  0]\n",
      " [15  5 14 ...  0  0  0]\n",
      " ...\n",
      " [ 3  1 14 ...  0  0  0]\n",
      " [ 7  9 14 ...  0  0  0]\n",
      " [20 18  9 ...  0  0  0]]\n"
     ]
    }
   ],
   "source": [
    "padded_y = tf.keras.preprocessing.sequence.pad_sequences(\n",
    "    Ytrain, padding=\"post\", maxlen=maxlen\n",
    ")\n",
    "padded_x = tf.keras.preprocessing.sequence.pad_sequences(\n",
    "    Xtrain, padding=\"post\", maxlen=maxlen\n",
    ")\n",
    "\n",
    "print(padded_y)"
   ]
  },
  {
   "cell_type": "code",
   "execution_count": 30,
   "metadata": {
    "colab": {
     "base_uri": "https://localhost:8080/"
    },
    "id": "yze_g-sdwMmQ",
    "outputId": "6bfa8246-414f-405f-849f-32cd25a5a270"
   },
   "outputs": [
    {
     "data": {
      "text/plain": [
       "27"
      ]
     },
     "execution_count": 30,
     "metadata": {},
     "output_type": "execute_result"
    }
   ],
   "source": [
    "len(encode_dict)"
   ]
  },
  {
   "cell_type": "code",
   "execution_count": 31,
   "metadata": {},
   "outputs": [
    {
     "data": {
      "text/html": [
       "<div>\n",
       "<style scoped>\n",
       "    .dataframe tbody tr th:only-of-type {\n",
       "        vertical-align: middle;\n",
       "    }\n",
       "\n",
       "    .dataframe tbody tr th {\n",
       "        vertical-align: top;\n",
       "    }\n",
       "\n",
       "    .dataframe thead th {\n",
       "        text-align: right;\n",
       "    }\n",
       "</style>\n",
       "<table border=\"1\" class=\"dataframe\">\n",
       "  <thead>\n",
       "    <tr style=\"text-align: right;\">\n",
       "      <th></th>\n",
       "      <th>dUnique_label</th>\n",
       "      <th>dUnique_seq</th>\n",
       "      <th>dUnique_seq_padded</th>\n",
       "    </tr>\n",
       "  </thead>\n",
       "  <tbody>\n",
       "    <tr>\n",
       "      <th>0</th>\n",
       "      <td>ACTAEA RACEMOSA</td>\n",
       "      <td>NaN</td>\n",
       "      <td>NaN</td>\n",
       "    </tr>\n",
       "    <tr>\n",
       "      <th>1</th>\n",
       "      <td>AESCULUS HIPPOCASTANUM</td>\n",
       "      <td>NaN</td>\n",
       "      <td>NaN</td>\n",
       "    </tr>\n",
       "    <tr>\n",
       "      <th>2</th>\n",
       "      <td>ALLIUM SATIVUM</td>\n",
       "      <td>NaN</td>\n",
       "      <td>NaN</td>\n",
       "    </tr>\n",
       "    <tr>\n",
       "      <th>3</th>\n",
       "      <td>ALOE VERA</td>\n",
       "      <td>NaN</td>\n",
       "      <td>NaN</td>\n",
       "    </tr>\n",
       "    <tr>\n",
       "      <th>4</th>\n",
       "      <td>ANGELICA SINENSIS</td>\n",
       "      <td>NaN</td>\n",
       "      <td>NaN</td>\n",
       "    </tr>\n",
       "  </tbody>\n",
       "</table>\n",
       "</div>"
      ],
      "text/plain": [
       "            dUnique_label dUnique_seq dUnique_seq_padded\n",
       "0         ACTAEA RACEMOSA         NaN                NaN\n",
       "1  AESCULUS HIPPOCASTANUM         NaN                NaN\n",
       "2          ALLIUM SATIVUM         NaN                NaN\n",
       "3               ALOE VERA         NaN                NaN\n",
       "4       ANGELICA SINENSIS         NaN                NaN"
      ]
     },
     "execution_count": 31,
     "metadata": {},
     "output_type": "execute_result"
    }
   ],
   "source": [
    "dUnique_df = pd.DataFrame(columns = ['dUnique_label','dUnique_seq', 'dUnique_seq_padded'])\n",
    "dUnique_df['dUnique_label'] = np.unique(y_all)\n",
    "dUnique_df.head()"
   ]
  },
  {
   "cell_type": "code",
   "execution_count": 32,
   "metadata": {},
   "outputs": [
    {
     "data": {
      "text/plain": [
       "126"
      ]
     },
     "execution_count": 32,
     "metadata": {},
     "output_type": "execute_result"
    }
   ],
   "source": [
    "dUnique_seq_list = [[encode_dict[m] for m in n] for n in dUnique_df['dUnique_label'].tolist()]\n",
    "len(dUnique_seq_list)"
   ]
  },
  {
   "cell_type": "code",
   "execution_count": 33,
   "metadata": {},
   "outputs": [
    {
     "data": {
      "text/html": [
       "<div>\n",
       "<style scoped>\n",
       "    .dataframe tbody tr th:only-of-type {\n",
       "        vertical-align: middle;\n",
       "    }\n",
       "\n",
       "    .dataframe tbody tr th {\n",
       "        vertical-align: top;\n",
       "    }\n",
       "\n",
       "    .dataframe thead th {\n",
       "        text-align: right;\n",
       "    }\n",
       "</style>\n",
       "<table border=\"1\" class=\"dataframe\">\n",
       "  <thead>\n",
       "    <tr style=\"text-align: right;\">\n",
       "      <th></th>\n",
       "      <th>dUnique_label</th>\n",
       "      <th>dUnique_seq</th>\n",
       "      <th>dUnique_seq_padded</th>\n",
       "    </tr>\n",
       "  </thead>\n",
       "  <tbody>\n",
       "    <tr>\n",
       "      <th>0</th>\n",
       "      <td>ACTAEA RACEMOSA</td>\n",
       "      <td>[1, 3, 20, 1, 5, 1, 27, 18, 1, 3, 5, 13, 15, 1...</td>\n",
       "      <td>NaN</td>\n",
       "    </tr>\n",
       "    <tr>\n",
       "      <th>1</th>\n",
       "      <td>AESCULUS HIPPOCASTANUM</td>\n",
       "      <td>[1, 5, 19, 3, 21, 12, 21, 19, 27, 8, 9, 16, 16...</td>\n",
       "      <td>NaN</td>\n",
       "    </tr>\n",
       "    <tr>\n",
       "      <th>2</th>\n",
       "      <td>ALLIUM SATIVUM</td>\n",
       "      <td>[1, 12, 12, 9, 21, 13, 27, 19, 1, 20, 9, 22, 2...</td>\n",
       "      <td>NaN</td>\n",
       "    </tr>\n",
       "    <tr>\n",
       "      <th>3</th>\n",
       "      <td>ALOE VERA</td>\n",
       "      <td>[1, 12, 15, 5, 27, 22, 5, 18, 1]</td>\n",
       "      <td>NaN</td>\n",
       "    </tr>\n",
       "    <tr>\n",
       "      <th>4</th>\n",
       "      <td>ANGELICA SINENSIS</td>\n",
       "      <td>[1, 14, 7, 5, 12, 9, 3, 1, 27, 19, 9, 14, 5, 1...</td>\n",
       "      <td>NaN</td>\n",
       "    </tr>\n",
       "  </tbody>\n",
       "</table>\n",
       "</div>"
      ],
      "text/plain": [
       "            dUnique_label                                        dUnique_seq  \\\n",
       "0         ACTAEA RACEMOSA  [1, 3, 20, 1, 5, 1, 27, 18, 1, 3, 5, 13, 15, 1...   \n",
       "1  AESCULUS HIPPOCASTANUM  [1, 5, 19, 3, 21, 12, 21, 19, 27, 8, 9, 16, 16...   \n",
       "2          ALLIUM SATIVUM  [1, 12, 12, 9, 21, 13, 27, 19, 1, 20, 9, 22, 2...   \n",
       "3               ALOE VERA                   [1, 12, 15, 5, 27, 22, 5, 18, 1]   \n",
       "4       ANGELICA SINENSIS  [1, 14, 7, 5, 12, 9, 3, 1, 27, 19, 9, 14, 5, 1...   \n",
       "\n",
       "  dUnique_seq_padded  \n",
       "0                NaN  \n",
       "1                NaN  \n",
       "2                NaN  \n",
       "3                NaN  \n",
       "4                NaN  "
      ]
     },
     "execution_count": 33,
     "metadata": {},
     "output_type": "execute_result"
    }
   ],
   "source": [
    "for i in range(len(dUnique_df.index)):\n",
    "    dUnique_df.at[i, 'dUnique_seq'] = np.array(dUnique_seq_list[i])\n",
    "dUnique_df.head()"
   ]
  },
  {
   "cell_type": "code",
   "execution_count": 34,
   "metadata": {
    "colab": {
     "base_uri": "https://localhost:8080/"
    },
    "id": "fK6PmQSH0nU0",
    "outputId": "ec68b153-a655-4406-f675-e723816cc09e"
   },
   "outputs": [
    {
     "name": "stdout",
     "output_type": "stream",
     "text": [
      "<class 'pandas.core.frame.DataFrame'>\n",
      "RangeIndex: 13843 entries, 0 to 13842\n",
      "Data columns (total 3 columns):\n",
      " #   Column            Non-Null Count  Dtype \n",
      "---  ------            --------------  ----- \n",
      " 0   FAERS_drug_match  13843 non-null  object\n",
      " 1   lookup_value      13843 non-null  object\n",
      " 2   indi_pt           8808 non-null   object\n",
      "dtypes: object(3)\n",
      "memory usage: 324.6+ KB\n"
     ]
    }
   ],
   "source": [
    "#setup negative pairs - with indications data \n",
    "dfneg = pd.read_csv('data/NP_FAERS_mapped_indications_join_on_drugname_negative_20220223.csv')\n",
    "dfneg.info()"
   ]
  },
  {
   "cell_type": "code",
   "execution_count": 35,
   "metadata": {},
   "outputs": [],
   "source": [
    "#do same processing for negative pairs with indications\n"
   ]
  },
  {
   "cell_type": "code",
   "execution_count": 36,
   "metadata": {},
   "outputs": [
    {
     "data": {
      "text/html": [
       "<div>\n",
       "<style scoped>\n",
       "    .dataframe tbody tr th:only-of-type {\n",
       "        vertical-align: middle;\n",
       "    }\n",
       "\n",
       "    .dataframe tbody tr th {\n",
       "        vertical-align: top;\n",
       "    }\n",
       "\n",
       "    .dataframe thead th {\n",
       "        text-align: right;\n",
       "    }\n",
       "</style>\n",
       "<table border=\"1\" class=\"dataframe\">\n",
       "  <thead>\n",
       "    <tr style=\"text-align: right;\">\n",
       "      <th></th>\n",
       "      <th>FAERS_drug_match</th>\n",
       "      <th>lookup_value</th>\n",
       "      <th>indi_pt</th>\n",
       "    </tr>\n",
       "  </thead>\n",
       "  <tbody>\n",
       "    <tr>\n",
       "      <th>0</th>\n",
       "      <td>ANUSOL (BENZYL BENZOATE, BISMUTH OXIDE, BISMUT...</td>\n",
       "      <td>Cinnamon</td>\n",
       "      <td></td>\n",
       "    </tr>\n",
       "    <tr>\n",
       "      <th>1</th>\n",
       "      <td>ANUSOL (BENZYL BENZOATE/BISMUTH RESORCINOL/BIS...</td>\n",
       "      <td>Cinnamon</td>\n",
       "      <td></td>\n",
       "    </tr>\n",
       "    <tr>\n",
       "      <th>2</th>\n",
       "      <td>ANUSOL-HC (BALSAM PERU, BENZYL BENZOATE, BISMU...</td>\n",
       "      <td>Cinnamon</td>\n",
       "      <td></td>\n",
       "    </tr>\n",
       "    <tr>\n",
       "      <th>3</th>\n",
       "      <td>ANUSOL-HC [BENZYL BENZOATE;BISMUTH HYDROXIDE;</td>\n",
       "      <td>Cinnamon</td>\n",
       "      <td></td>\n",
       "    </tr>\n",
       "    <tr>\n",
       "      <th>4</th>\n",
       "      <td>ANUSOL-HC (BENZYL BENZOATE, BISMUTH HYDROXIDE,...</td>\n",
       "      <td>Cinnamon</td>\n",
       "      <td></td>\n",
       "    </tr>\n",
       "  </tbody>\n",
       "</table>\n",
       "</div>"
      ],
      "text/plain": [
       "                                    FAERS_drug_match lookup_value indi_pt\n",
       "0  ANUSOL (BENZYL BENZOATE, BISMUTH OXIDE, BISMUT...     Cinnamon        \n",
       "1  ANUSOL (BENZYL BENZOATE/BISMUTH RESORCINOL/BIS...     Cinnamon        \n",
       "2  ANUSOL-HC (BALSAM PERU, BENZYL BENZOATE, BISMU...     Cinnamon        \n",
       "3      ANUSOL-HC [BENZYL BENZOATE;BISMUTH HYDROXIDE;     Cinnamon        \n",
       "4  ANUSOL-HC (BENZYL BENZOATE, BISMUTH HYDROXIDE,...     Cinnamon        "
      ]
     },
     "execution_count": 36,
     "metadata": {},
     "output_type": "execute_result"
    }
   ],
   "source": [
    "#append indications string to drug name (if not NA)\n",
    "dfneg['indi_pt'] = dfneg['indi_pt'].fillna('')\n",
    "dfneg.head()"
   ]
  },
  {
   "cell_type": "code",
   "execution_count": 37,
   "metadata": {},
   "outputs": [],
   "source": [
    "dfneg['FAERS_drug_match_indi'] = dfneg['FAERS_drug_match'] + ' ' + dfneg['indi_pt']"
   ]
  },
  {
   "cell_type": "code",
   "execution_count": 38,
   "metadata": {},
   "outputs": [
    {
     "data": {
      "text/html": [
       "<div>\n",
       "<style scoped>\n",
       "    .dataframe tbody tr th:only-of-type {\n",
       "        vertical-align: middle;\n",
       "    }\n",
       "\n",
       "    .dataframe tbody tr th {\n",
       "        vertical-align: top;\n",
       "    }\n",
       "\n",
       "    .dataframe thead th {\n",
       "        text-align: right;\n",
       "    }\n",
       "</style>\n",
       "<table border=\"1\" class=\"dataframe\">\n",
       "  <thead>\n",
       "    <tr style=\"text-align: right;\">\n",
       "      <th></th>\n",
       "      <th>FAERS_drug_match</th>\n",
       "      <th>lookup_value</th>\n",
       "      <th>indi_pt</th>\n",
       "      <th>FAERS_drug_match_indi</th>\n",
       "    </tr>\n",
       "  </thead>\n",
       "  <tbody>\n",
       "    <tr>\n",
       "      <th>0</th>\n",
       "      <td>ANUSOL (BENZYL BENZOATE, BISMUTH OXIDE, BISMUT...</td>\n",
       "      <td>Cinnamon</td>\n",
       "      <td></td>\n",
       "      <td>ANUSOL (BENZYL BENZOATE, BISMUTH OXIDE, BISMUT...</td>\n",
       "    </tr>\n",
       "    <tr>\n",
       "      <th>1</th>\n",
       "      <td>ANUSOL (BENZYL BENZOATE/BISMUTH RESORCINOL/BIS...</td>\n",
       "      <td>Cinnamon</td>\n",
       "      <td></td>\n",
       "      <td>ANUSOL (BENZYL BENZOATE/BISMUTH RESORCINOL/BIS...</td>\n",
       "    </tr>\n",
       "    <tr>\n",
       "      <th>2</th>\n",
       "      <td>ANUSOL-HC (BALSAM PERU, BENZYL BENZOATE, BISMU...</td>\n",
       "      <td>Cinnamon</td>\n",
       "      <td></td>\n",
       "      <td>ANUSOL-HC (BALSAM PERU, BENZYL BENZOATE, BISMU...</td>\n",
       "    </tr>\n",
       "    <tr>\n",
       "      <th>3</th>\n",
       "      <td>ANUSOL-HC [BENZYL BENZOATE;BISMUTH HYDROXIDE;</td>\n",
       "      <td>Cinnamon</td>\n",
       "      <td></td>\n",
       "      <td>ANUSOL-HC [BENZYL BENZOATE;BISMUTH HYDROXIDE;</td>\n",
       "    </tr>\n",
       "    <tr>\n",
       "      <th>4</th>\n",
       "      <td>ANUSOL-HC (BENZYL BENZOATE, BISMUTH HYDROXIDE,...</td>\n",
       "      <td>Cinnamon</td>\n",
       "      <td></td>\n",
       "      <td>ANUSOL-HC (BENZYL BENZOATE, BISMUTH HYDROXIDE,...</td>\n",
       "    </tr>\n",
       "  </tbody>\n",
       "</table>\n",
       "</div>"
      ],
      "text/plain": [
       "                                    FAERS_drug_match lookup_value indi_pt  \\\n",
       "0  ANUSOL (BENZYL BENZOATE, BISMUTH OXIDE, BISMUT...     Cinnamon           \n",
       "1  ANUSOL (BENZYL BENZOATE/BISMUTH RESORCINOL/BIS...     Cinnamon           \n",
       "2  ANUSOL-HC (BALSAM PERU, BENZYL BENZOATE, BISMU...     Cinnamon           \n",
       "3      ANUSOL-HC [BENZYL BENZOATE;BISMUTH HYDROXIDE;     Cinnamon           \n",
       "4  ANUSOL-HC (BENZYL BENZOATE, BISMUTH HYDROXIDE,...     Cinnamon           \n",
       "\n",
       "                               FAERS_drug_match_indi  \n",
       "0  ANUSOL (BENZYL BENZOATE, BISMUTH OXIDE, BISMUT...  \n",
       "1  ANUSOL (BENZYL BENZOATE/BISMUTH RESORCINOL/BIS...  \n",
       "2  ANUSOL-HC (BALSAM PERU, BENZYL BENZOATE, BISMU...  \n",
       "3     ANUSOL-HC [BENZYL BENZOATE;BISMUTH HYDROXIDE;   \n",
       "4  ANUSOL-HC (BENZYL BENZOATE, BISMUTH HYDROXIDE,...  "
      ]
     },
     "execution_count": 38,
     "metadata": {},
     "output_type": "execute_result"
    }
   ],
   "source": [
    "dfneg.head()"
   ]
  },
  {
   "cell_type": "code",
   "execution_count": 39,
   "metadata": {},
   "outputs": [
    {
     "data": {
      "text/plain": [
       "13843"
      ]
     },
     "execution_count": 39,
     "metadata": {},
     "output_type": "execute_result"
    }
   ],
   "source": [
    "x = dfneg.FAERS_drug_match_indi.str.len()\n",
    "len(x)"
   ]
  },
  {
   "cell_type": "code",
   "execution_count": 40,
   "metadata": {},
   "outputs": [],
   "source": [
    "#encode negative pairs and add padding\n",
    "xneg, yneg = clean_dataset(dfneg)\n",
    "Xneg, Yneg = encode_dataset(xneg,yneg)\n",
    "padded_xneg, padded_yneg = padding_dataset(Xneg,Yneg,maxlen)"
   ]
  },
  {
   "cell_type": "code",
   "execution_count": 41,
   "metadata": {},
   "outputs": [],
   "source": [
    "dUnique = tf.keras.preprocessing.sequence.pad_sequences(\n",
    "    list(dUnique_df['dUnique_seq']), padding=\"post\", maxlen=maxlen)"
   ]
  },
  {
   "cell_type": "code",
   "execution_count": 42,
   "metadata": {},
   "outputs": [
    {
     "data": {
      "text/html": [
       "<div>\n",
       "<style scoped>\n",
       "    .dataframe tbody tr th:only-of-type {\n",
       "        vertical-align: middle;\n",
       "    }\n",
       "\n",
       "    .dataframe tbody tr th {\n",
       "        vertical-align: top;\n",
       "    }\n",
       "\n",
       "    .dataframe thead th {\n",
       "        text-align: right;\n",
       "    }\n",
       "</style>\n",
       "<table border=\"1\" class=\"dataframe\">\n",
       "  <thead>\n",
       "    <tr style=\"text-align: right;\">\n",
       "      <th></th>\n",
       "      <th>FAERS_drug_match</th>\n",
       "      <th>lookup_value</th>\n",
       "      <th>indi_pt</th>\n",
       "      <th>FAERS_drug_match_indi</th>\n",
       "    </tr>\n",
       "  </thead>\n",
       "  <tbody>\n",
       "    <tr>\n",
       "      <th>8118</th>\n",
       "      <td>GARLIC AND PARSLEY GELCAP</td>\n",
       "      <td>ALLIUM SATIVUM</td>\n",
       "      <td>BLOOD PRESSURE ABNORMAL</td>\n",
       "      <td>GARLIC AND PARSLEY GELCAP BLOOD PRESSURE ABNORMAL</td>\n",
       "    </tr>\n",
       "    <tr>\n",
       "      <th>4823</th>\n",
       "      <td>NATURES BOUNTY FISH FLAX AND BORAGE</td>\n",
       "      <td>LINUM USITATISSIMUM</td>\n",
       "      <td></td>\n",
       "      <td>NATURES BOUNTY FISH FLAX AND BORAGE</td>\n",
       "    </tr>\n",
       "    <tr>\n",
       "      <th>7999</th>\n",
       "      <td>PRIMROSE OIL CRANBERR</td>\n",
       "      <td>OENOTHERA BIENNIS</td>\n",
       "      <td></td>\n",
       "      <td>PRIMROSE OIL CRANBERR</td>\n",
       "    </tr>\n",
       "    <tr>\n",
       "      <th>5602</th>\n",
       "      <td>HORSE CHESTNUT (FOR BACK)</td>\n",
       "      <td>AESCULUS HIPPOCASTANUM</td>\n",
       "      <td></td>\n",
       "      <td>HORSE CHESTNUT (FOR BACK)</td>\n",
       "    </tr>\n",
       "    <tr>\n",
       "      <th>6901</th>\n",
       "      <td>DONGQUAI</td>\n",
       "      <td>ANGELICA SINENSIS</td>\n",
       "      <td>SUPPLEMENTATION THERAPY</td>\n",
       "      <td>DONGQUAI SUPPLEMENTATION THERAPY</td>\n",
       "    </tr>\n",
       "  </tbody>\n",
       "</table>\n",
       "</div>"
      ],
      "text/plain": [
       "                         FAERS_drug_match            lookup_value  \\\n",
       "8118            GARLIC AND PARSLEY GELCAP          ALLIUM SATIVUM   \n",
       "4823  NATURES BOUNTY FISH FLAX AND BORAGE     LINUM USITATISSIMUM   \n",
       "7999                PRIMROSE OIL CRANBERR       OENOTHERA BIENNIS   \n",
       "5602            HORSE CHESTNUT (FOR BACK)  AESCULUS HIPPOCASTANUM   \n",
       "6901                             DONGQUAI       ANGELICA SINENSIS   \n",
       "\n",
       "                      indi_pt  \\\n",
       "8118  BLOOD PRESSURE ABNORMAL   \n",
       "4823                            \n",
       "7999                            \n",
       "5602                            \n",
       "6901  SUPPLEMENTATION THERAPY   \n",
       "\n",
       "                                  FAERS_drug_match_indi  \n",
       "8118  GARLIC AND PARSLEY GELCAP BLOOD PRESSURE ABNORMAL  \n",
       "4823               NATURES BOUNTY FISH FLAX AND BORAGE   \n",
       "7999                             PRIMROSE OIL CRANBERR   \n",
       "5602                         HORSE CHESTNUT (FOR BACK)   \n",
       "6901                   DONGQUAI SUPPLEMENTATION THERAPY  "
      ]
     },
     "execution_count": 42,
     "metadata": {},
     "output_type": "execute_result"
    }
   ],
   "source": [
    "train.head()"
   ]
  },
  {
   "cell_type": "code",
   "execution_count": 43,
   "metadata": {},
   "outputs": [
    {
     "data": {
      "text/plain": [
       "126"
      ]
     },
     "execution_count": 43,
     "metadata": {},
     "output_type": "execute_result"
    }
   ],
   "source": [
    "np_unique = dUnique_df.dUnique_label.tolist()\n",
    "len(np_unique)"
   ]
  },
  {
   "cell_type": "code",
   "execution_count": 44,
   "metadata": {},
   "outputs": [
    {
     "name": "stdout",
     "output_type": "stream",
     "text": [
      "6619 6619 6619\n"
     ]
    }
   ],
   "source": [
    "#add positive pairs\n",
    "x1TrainRNN = []\n",
    "x2TrainRNN = []\n",
    "yTrainRNN = []\n",
    "for i in range(len(padded_x)):\n",
    "    yTrainRNN.append(1)\n",
    "    x1TrainRNN.append(padded_x[i])\n",
    "    x2TrainRNN.append(padded_y[i])\n",
    "print(len(x1TrainRNN), len(x2TrainRNN), len(yTrainRNN))"
   ]
  },
  {
   "cell_type": "code",
   "execution_count": 45,
   "metadata": {},
   "outputs": [
    {
     "data": {
      "text/html": [
       "<div>\n",
       "<style scoped>\n",
       "    .dataframe tbody tr th:only-of-type {\n",
       "        vertical-align: middle;\n",
       "    }\n",
       "\n",
       "    .dataframe tbody tr th {\n",
       "        vertical-align: top;\n",
       "    }\n",
       "\n",
       "    .dataframe thead th {\n",
       "        text-align: right;\n",
       "    }\n",
       "</style>\n",
       "<table border=\"1\" class=\"dataframe\">\n",
       "  <thead>\n",
       "    <tr style=\"text-align: right;\">\n",
       "      <th></th>\n",
       "      <th>index</th>\n",
       "      <th>FAERS_drug_match</th>\n",
       "      <th>lookup_value</th>\n",
       "      <th>indi_pt</th>\n",
       "      <th>FAERS_drug_match_indi</th>\n",
       "    </tr>\n",
       "  </thead>\n",
       "  <tbody>\n",
       "    <tr>\n",
       "      <th>0</th>\n",
       "      <td>8118</td>\n",
       "      <td>GARLIC AND PARSLEY GELCAP</td>\n",
       "      <td>ALLIUM SATIVUM</td>\n",
       "      <td>BLOOD PRESSURE ABNORMAL</td>\n",
       "      <td>GARLIC AND PARSLEY GELCAP BLOOD PRESSURE ABNORMAL</td>\n",
       "    </tr>\n",
       "    <tr>\n",
       "      <th>1</th>\n",
       "      <td>4823</td>\n",
       "      <td>NATURES BOUNTY FISH FLAX AND BORAGE</td>\n",
       "      <td>LINUM USITATISSIMUM</td>\n",
       "      <td></td>\n",
       "      <td>NATURES BOUNTY FISH FLAX AND BORAGE</td>\n",
       "    </tr>\n",
       "    <tr>\n",
       "      <th>2</th>\n",
       "      <td>7999</td>\n",
       "      <td>PRIMROSE OIL CRANBERR</td>\n",
       "      <td>OENOTHERA BIENNIS</td>\n",
       "      <td></td>\n",
       "      <td>PRIMROSE OIL CRANBERR</td>\n",
       "    </tr>\n",
       "    <tr>\n",
       "      <th>3</th>\n",
       "      <td>5602</td>\n",
       "      <td>HORSE CHESTNUT (FOR BACK)</td>\n",
       "      <td>AESCULUS HIPPOCASTANUM</td>\n",
       "      <td></td>\n",
       "      <td>HORSE CHESTNUT (FOR BACK)</td>\n",
       "    </tr>\n",
       "    <tr>\n",
       "      <th>4</th>\n",
       "      <td>6901</td>\n",
       "      <td>DONGQUAI</td>\n",
       "      <td>ANGELICA SINENSIS</td>\n",
       "      <td>SUPPLEMENTATION THERAPY</td>\n",
       "      <td>DONGQUAI SUPPLEMENTATION THERAPY</td>\n",
       "    </tr>\n",
       "  </tbody>\n",
       "</table>\n",
       "</div>"
      ],
      "text/plain": [
       "   index                     FAERS_drug_match            lookup_value  \\\n",
       "0   8118            GARLIC AND PARSLEY GELCAP          ALLIUM SATIVUM   \n",
       "1   4823  NATURES BOUNTY FISH FLAX AND BORAGE     LINUM USITATISSIMUM   \n",
       "2   7999                PRIMROSE OIL CRANBERR       OENOTHERA BIENNIS   \n",
       "3   5602            HORSE CHESTNUT (FOR BACK)  AESCULUS HIPPOCASTANUM   \n",
       "4   6901                             DONGQUAI       ANGELICA SINENSIS   \n",
       "\n",
       "                   indi_pt                              FAERS_drug_match_indi  \n",
       "0  BLOOD PRESSURE ABNORMAL  GARLIC AND PARSLEY GELCAP BLOOD PRESSURE ABNORMAL  \n",
       "1                                        NATURES BOUNTY FISH FLAX AND BORAGE   \n",
       "2                                                      PRIMROSE OIL CRANBERR   \n",
       "3                                                  HORSE CHESTNUT (FOR BACK)   \n",
       "4  SUPPLEMENTATION THERAPY                   DONGQUAI SUPPLEMENTATION THERAPY  "
      ]
     },
     "execution_count": 45,
     "metadata": {},
     "output_type": "execute_result"
    }
   ],
   "source": [
    "train_res = train.reset_index()\n",
    "train_res.head()"
   ]
  },
  {
   "cell_type": "code",
   "execution_count": 46,
   "metadata": {},
   "outputs": [
    {
     "data": {
      "text/plain": [
       "26141"
      ]
     },
     "execution_count": 46,
     "metadata": {},
     "output_type": "execute_result"
    }
   ],
   "source": [
    "#take negative pairs from training data\n",
    "faers_match = []\n",
    "lookup = []\n",
    "for i in range(len(train_res)):\n",
    "    np_name = train_res.at[i, 'FAERS_drug_match_indi']\n",
    "    for j in random.choices(range(len(np_unique)), k=4):\n",
    "        np_temp = np_unique[j]\n",
    "        np_match = train_res.loc[train_res['FAERS_drug_match_indi'] == np_name].lookup_value.tolist()\n",
    "        if np_temp not in np_match:\n",
    "            faers_match.append(np_name)\n",
    "            lookup.append(np_temp)\n",
    "len(faers_match)"
   ]
  },
  {
   "cell_type": "code",
   "execution_count": 47,
   "metadata": {},
   "outputs": [],
   "source": [
    "dfneg2 = pd.DataFrame(columns=['FAERS_drug_match_indi', 'lookup_value'])\n",
    "dfneg2['FAERS_drug_match_indi'] = faers_match\n",
    "dfneg2['lookup_value'] = lookup\n",
    "xneg2, yneg2 = clean_dataset(dfneg2)\n",
    "Xneg2, Yneg2 = encode_dataset(xneg2,yneg2)\n",
    "padded_xneg2, padded_yneg2 = padding_dataset(Xneg2,Yneg2,maxlen)"
   ]
  },
  {
   "cell_type": "code",
   "execution_count": 48,
   "metadata": {},
   "outputs": [
    {
     "name": "stdout",
     "output_type": "stream",
     "text": [
      "32760 32760 32760\n"
     ]
    }
   ],
   "source": [
    "##add negative pairs from training data\n",
    "for j in range(len(padded_xneg2)):\n",
    "    yTrainRNN.append(0)\n",
    "    x1TrainRNN.append(padded_xneg2[j])\n",
    "    x2TrainRNN.append(padded_yneg2[j])\n",
    "print(len(x1TrainRNN), len(x2TrainRNN), len(yTrainRNN))"
   ]
  },
  {
   "cell_type": "code",
   "execution_count": 49,
   "metadata": {},
   "outputs": [
    {
     "name": "stdout",
     "output_type": "stream",
     "text": [
      "46603 46603 46603\n"
     ]
    }
   ],
   "source": [
    "##add negative pairs from reference set\n",
    "for j in range(len(padded_xneg)):\n",
    "    yTrainRNN.append(0)\n",
    "    x1TrainRNN.append(padded_xneg[j])\n",
    "    x2TrainRNN.append(padded_yneg[j])\n",
    "print(len(x1TrainRNN), len(x2TrainRNN), len(yTrainRNN))"
   ]
  },
  {
   "cell_type": "code",
   "execution_count": 50,
   "metadata": {},
   "outputs": [
    {
     "data": {
      "text/html": [
       "<div>\n",
       "<style scoped>\n",
       "    .dataframe tbody tr th:only-of-type {\n",
       "        vertical-align: middle;\n",
       "    }\n",
       "\n",
       "    .dataframe tbody tr th {\n",
       "        vertical-align: top;\n",
       "    }\n",
       "\n",
       "    .dataframe thead th {\n",
       "        text-align: right;\n",
       "    }\n",
       "</style>\n",
       "<table border=\"1\" class=\"dataframe\">\n",
       "  <thead>\n",
       "    <tr style=\"text-align: right;\">\n",
       "      <th></th>\n",
       "      <th>dUnique_label</th>\n",
       "      <th>dUnique_seq</th>\n",
       "      <th>dUnique_seq_padded</th>\n",
       "    </tr>\n",
       "  </thead>\n",
       "  <tbody>\n",
       "    <tr>\n",
       "      <th>0</th>\n",
       "      <td>ACTAEA RACEMOSA</td>\n",
       "      <td>[1, 3, 20, 1, 5, 1, 27, 18, 1, 3, 5, 13, 15, 1...</td>\n",
       "      <td>[1, 3, 20, 1, 5, 1, 27, 18, 1, 3, 5, 13, 15, 1...</td>\n",
       "    </tr>\n",
       "    <tr>\n",
       "      <th>1</th>\n",
       "      <td>AESCULUS HIPPOCASTANUM</td>\n",
       "      <td>[1, 5, 19, 3, 21, 12, 21, 19, 27, 8, 9, 16, 16...</td>\n",
       "      <td>[1, 5, 19, 3, 21, 12, 21, 19, 27, 8, 9, 16, 16...</td>\n",
       "    </tr>\n",
       "    <tr>\n",
       "      <th>2</th>\n",
       "      <td>ALLIUM SATIVUM</td>\n",
       "      <td>[1, 12, 12, 9, 21, 13, 27, 19, 1, 20, 9, 22, 2...</td>\n",
       "      <td>[1, 12, 12, 9, 21, 13, 27, 19, 1, 20, 9, 22, 2...</td>\n",
       "    </tr>\n",
       "    <tr>\n",
       "      <th>3</th>\n",
       "      <td>ALOE VERA</td>\n",
       "      <td>[1, 12, 15, 5, 27, 22, 5, 18, 1]</td>\n",
       "      <td>[1, 12, 15, 5, 27, 22, 5, 18, 1, 0, 0, 0, 0, 0...</td>\n",
       "    </tr>\n",
       "    <tr>\n",
       "      <th>4</th>\n",
       "      <td>ANGELICA SINENSIS</td>\n",
       "      <td>[1, 14, 7, 5, 12, 9, 3, 1, 27, 19, 9, 14, 5, 1...</td>\n",
       "      <td>[1, 14, 7, 5, 12, 9, 3, 1, 27, 19, 9, 14, 5, 1...</td>\n",
       "    </tr>\n",
       "  </tbody>\n",
       "</table>\n",
       "</div>"
      ],
      "text/plain": [
       "            dUnique_label                                        dUnique_seq  \\\n",
       "0         ACTAEA RACEMOSA  [1, 3, 20, 1, 5, 1, 27, 18, 1, 3, 5, 13, 15, 1...   \n",
       "1  AESCULUS HIPPOCASTANUM  [1, 5, 19, 3, 21, 12, 21, 19, 27, 8, 9, 16, 16...   \n",
       "2          ALLIUM SATIVUM  [1, 12, 12, 9, 21, 13, 27, 19, 1, 20, 9, 22, 2...   \n",
       "3               ALOE VERA                   [1, 12, 15, 5, 27, 22, 5, 18, 1]   \n",
       "4       ANGELICA SINENSIS  [1, 14, 7, 5, 12, 9, 3, 1, 27, 19, 9, 14, 5, 1...   \n",
       "\n",
       "                                  dUnique_seq_padded  \n",
       "0  [1, 3, 20, 1, 5, 1, 27, 18, 1, 3, 5, 13, 15, 1...  \n",
       "1  [1, 5, 19, 3, 21, 12, 21, 19, 27, 8, 9, 16, 16...  \n",
       "2  [1, 12, 12, 9, 21, 13, 27, 19, 1, 20, 9, 22, 2...  \n",
       "3  [1, 12, 15, 5, 27, 22, 5, 18, 1, 0, 0, 0, 0, 0...  \n",
       "4  [1, 14, 7, 5, 12, 9, 3, 1, 27, 19, 9, 14, 5, 1...  "
      ]
     },
     "execution_count": 50,
     "metadata": {},
     "output_type": "execute_result"
    }
   ],
   "source": [
    "for i in range(len(dUnique_df.index)):\n",
    "    dUnique_df.at[i, 'dUnique_seq_padded'] = dUnique[i]\n",
    "dUnique_df.head()"
   ]
  },
  {
   "cell_type": "code",
   "execution_count": 51,
   "metadata": {},
   "outputs": [],
   "source": [
    "x1TrainRnnS, x1ValRnnS, x2TrainRnnS, x2ValRnnS, yTrainRnnS, yValRnnS = train_test_split(x1TrainRNN, x2TrainRNN, yTrainRNN, test_size=0.20, random_state=42)"
   ]
  },
  {
   "cell_type": "markdown",
   "metadata": {
    "id": "znoVfJBDYhLc"
   },
   "source": [
    "### build model and train"
   ]
  },
  {
   "cell_type": "code",
   "execution_count": 52,
   "metadata": {},
   "outputs": [
    {
     "name": "stderr",
     "output_type": "stream",
     "text": [
      "2022-03-02 18:22:38.808037: I tensorflow/core/platform/cpu_feature_guard.cc:151] This TensorFlow binary is optimized with oneAPI Deep Neural Network Library (oneDNN) to use the following CPU instructions in performance-critical operations:  AVX2 AVX512F FMA\n",
      "To enable them in other operations, rebuild TensorFlow with the appropriate compiler flags.\n",
      "2022-03-02 18:22:39.780599: I tensorflow/core/common_runtime/gpu/gpu_device.cc:1525] Created device /job:localhost/replica:0/task:0/device:GPU:0 with 9648 MB memory:  -> device: 0, name: NVIDIA GeForce RTX 2080 Ti, pci bus id: 0000:af:00.0, compute capability: 7.5\n"
     ]
    }
   ],
   "source": [
    "def build_model2(model_type, embedding_dim, num_rnn_node, num_dense_node, num_layer, activation_fn, learning_rate, optimizer, margin):\n",
    "    input_x = tf.keras.layers.Input(maxlen)\n",
    "    input_1 = tf.keras.layers.Input(maxlen)\n",
    "    input_2 = tf.keras.layers.Input(maxlen)\n",
    "    embedding = tf.keras.layers.Embedding(input_dim=28, output_dim=embedding_dim, mask_zero=True)\n",
    "    x = embedding(input_x)\n",
    "    \n",
    "    if model_type == \"lstm\":\n",
    "        x = tf.keras.layers.LSTM(num_rnn_node)(x)\n",
    "    elif model_type==\"gru\":\n",
    "        x = tf.keras.layers.GRU(num_rnn_node)(x)\n",
    " \n",
    "    num = num_dense_node\n",
    "    for _ in range(num_layer):\n",
    "        x = tf.keras.layers.Dense(num, activation=activation_fn)(x)\n",
    "        num /= 2\n",
    "        \n",
    "    embedding_network = tf.keras.Model(input_x, x)\n",
    "\n",
    "    tower_1 = embedding_network(input_1)\n",
    "    tower_2 = embedding_network(input_2)\n",
    "\n",
    "    merge_layer = tf.keras.layers.Lambda(cosine_distance)([tower_1, tower_2])\n",
    "    output_layer = tf.keras.layers.Dense(1, activation=\"sigmoid\")(merge_layer)\n",
    "    contr = tf.keras.Model(inputs=[input_1, input_2], outputs=output_layer)\n",
    "    \n",
    "    if optimizer == \"Adam\":\n",
    "        opt = tf.keras.optimizers.Adam(learning_rate=learning_rate)\n",
    "    elif optimizer ==\"RMSprop\":                \n",
    "        opt = tf.keras.optimizers.RMSprop(learning_rate=learning_rate)\n",
    "    contr.compile(loss=loss(margin= margin), optimizer=opt, metrics=[\"accuracy\"])\n",
    "    return contr\n",
    "\n",
    "model = build_model2(\"lstm\", 256, 512, 256, 1, \"tanh\", 2e-4, \"Adam\", 0.8)\n"
   ]
  },
  {
   "cell_type": "code",
   "execution_count": 53,
   "metadata": {},
   "outputs": [
    {
     "name": "stdout",
     "output_type": "stream",
     "text": [
      "Epoch 1/30\n"
     ]
    },
    {
     "name": "stderr",
     "output_type": "stream",
     "text": [
      "2022-03-02 18:22:57.925426: I tensorflow/stream_executor/cuda/cuda_dnn.cc:366] Loaded cuDNN version 8302\n"
     ]
    },
    {
     "name": "stdout",
     "output_type": "stream",
     "text": [
      "9321/9321 [==============================] - 220s 22ms/step - loss: 0.1045 - accuracy: 0.8584 - val_loss: 0.0690 - val_accuracy: 0.8562\n",
      "Epoch 2/30\n",
      "9321/9321 [==============================] - 197s 21ms/step - loss: 0.0683 - accuracy: 0.8584 - val_loss: 0.0655 - val_accuracy: 0.8562\n",
      "Epoch 3/30\n",
      "9321/9321 [==============================] - 191s 21ms/step - loss: 0.0651 - accuracy: 0.8584 - val_loss: 0.0631 - val_accuracy: 0.8562\n",
      "Epoch 4/30\n",
      "9321/9321 [==============================] - 188s 20ms/step - loss: 0.0659 - accuracy: 0.8584 - val_loss: 0.0618 - val_accuracy: 0.8562\n",
      "Epoch 5/30\n",
      "9321/9321 [==============================] - 188s 20ms/step - loss: 0.0573 - accuracy: 0.8584 - val_loss: 0.0546 - val_accuracy: 0.8562\n",
      "Epoch 6/30\n",
      "9321/9321 [==============================] - 200s 21ms/step - loss: 0.0510 - accuracy: 0.8584 - val_loss: 0.0458 - val_accuracy: 0.8562\n",
      "Epoch 7/30\n",
      "9321/9321 [==============================] - 190s 20ms/step - loss: 0.0433 - accuracy: 0.8810 - val_loss: 0.0380 - val_accuracy: 0.9241\n",
      "Epoch 8/30\n",
      "9321/9321 [==============================] - 188s 20ms/step - loss: 0.0372 - accuracy: 0.9303 - val_loss: 0.0339 - val_accuracy: 0.9365\n",
      "Epoch 9/30\n",
      "9321/9321 [==============================] - 188s 20ms/step - loss: 0.0308 - accuracy: 0.9444 - val_loss: 0.0280 - val_accuracy: 0.9495\n",
      "Epoch 10/30\n",
      "9321/9321 [==============================] - 186s 20ms/step - loss: 0.0255 - accuracy: 0.9537 - val_loss: 0.0233 - val_accuracy: 0.9560\n",
      "Epoch 11/30\n",
      "9321/9321 [==============================] - 188s 20ms/step - loss: 0.0208 - accuracy: 0.9624 - val_loss: 0.0208 - val_accuracy: 0.9603\n",
      "Epoch 12/30\n",
      "9321/9321 [==============================] - 192s 21ms/step - loss: 0.0170 - accuracy: 0.9696 - val_loss: 0.0175 - val_accuracy: 0.9694\n",
      "Epoch 13/30\n",
      "9321/9321 [==============================] - 190s 20ms/step - loss: 0.0141 - accuracy: 0.9742 - val_loss: 0.0143 - val_accuracy: 0.9733\n",
      "Epoch 14/30\n",
      "9321/9321 [==============================] - 187s 20ms/step - loss: 0.0119 - accuracy: 0.9781 - val_loss: 0.0140 - val_accuracy: 0.9738\n",
      "Epoch 15/30\n",
      "9321/9321 [==============================] - 189s 20ms/step - loss: 0.0102 - accuracy: 0.9814 - val_loss: 0.0124 - val_accuracy: 0.9768\n",
      "Epoch 16/30\n",
      "9321/9321 [==============================] - 190s 20ms/step - loss: 0.0089 - accuracy: 0.9843 - val_loss: 0.0111 - val_accuracy: 0.9789\n",
      "Epoch 17/30\n",
      "9321/9321 [==============================] - 187s 20ms/step - loss: 0.0080 - accuracy: 0.9853 - val_loss: 0.0104 - val_accuracy: 0.9807\n",
      "Epoch 18/30\n",
      "9321/9321 [==============================] - 198s 21ms/step - loss: 0.0074 - accuracy: 0.9865 - val_loss: 0.0100 - val_accuracy: 0.9804\n",
      "Epoch 19/30\n",
      "9321/9321 [==============================] - 191s 21ms/step - loss: 0.0068 - accuracy: 0.9873 - val_loss: 0.0095 - val_accuracy: 0.9812\n",
      "Epoch 20/30\n",
      "9321/9321 [==============================] - 186s 20ms/step - loss: 0.0061 - accuracy: 0.9884 - val_loss: 0.0087 - val_accuracy: 0.9837\n",
      "Epoch 21/30\n",
      "9321/9321 [==============================] - 188s 20ms/step - loss: 0.0061 - accuracy: 0.9884 - val_loss: 0.0089 - val_accuracy: 0.9828\n",
      "Epoch 22/30\n",
      "9321/9321 [==============================] - 189s 20ms/step - loss: 0.0054 - accuracy: 0.9896 - val_loss: 0.0082 - val_accuracy: 0.9846\n",
      "Epoch 23/30\n",
      "9321/9321 [==============================] - 190s 20ms/step - loss: 0.0052 - accuracy: 0.9900 - val_loss: 0.0081 - val_accuracy: 0.9844\n",
      "Epoch 24/30\n",
      "9321/9321 [==============================] - 196s 21ms/step - loss: 0.0047 - accuracy: 0.9907 - val_loss: 0.0079 - val_accuracy: 0.9853\n",
      "Epoch 25/30\n",
      "9321/9321 [==============================] - 196s 21ms/step - loss: 0.0046 - accuracy: 0.9913 - val_loss: 0.0074 - val_accuracy: 0.9852\n",
      "Epoch 26/30\n",
      "9321/9321 [==============================] - 192s 21ms/step - loss: 0.0044 - accuracy: 0.9911 - val_loss: 0.0083 - val_accuracy: 0.9828\n",
      "Epoch 27/30\n",
      "9321/9321 [==============================] - 193s 21ms/step - loss: 0.0041 - accuracy: 0.9921 - val_loss: 0.0070 - val_accuracy: 0.9856\n",
      "Epoch 28/30\n",
      "9321/9321 [==============================] - 205s 22ms/step - loss: 0.0039 - accuracy: 0.9922 - val_loss: 0.0066 - val_accuracy: 0.9866\n",
      "Epoch 29/30\n",
      "9321/9321 [==============================] - 206s 22ms/step - loss: 0.0037 - accuracy: 0.9928 - val_loss: 0.0071 - val_accuracy: 0.9857\n",
      "Epoch 30/30\n",
      "9321/9321 [==============================] - 208s 22ms/step - loss: 0.0035 - accuracy: 0.9929 - val_loss: 0.0070 - val_accuracy: 0.9861\n"
     ]
    }
   ],
   "source": [
    "history = model.fit(x=[np.array(x1TrainRnnS), np.array(x2TrainRnnS)],\n",
    "                         y=np.array(yTrainRnnS, dtype=np.float32),\n",
    "                         epochs=30,\n",
    "                         batch_size=4,\n",
    "                         validation_data=([np.array(x1ValRnnS), np.array(x2ValRnnS)], np.array(yValRnnS, dtype=np.float32)))"
   ]
  },
  {
   "cell_type": "code",
   "execution_count": 54,
   "metadata": {},
   "outputs": [],
   "source": [
    "#save weights\n",
    "model.save(\"exp3/alstm-22-0_with_indications.01.hdf5\")\n",
    "#model.save_weights(\"exp3/alstm-22-0_with_indications.01.hdf5\")"
   ]
  },
  {
   "cell_type": "code",
   "execution_count": 56,
   "metadata": {},
   "outputs": [],
   "source": [
    "model.load_weights(\"exp3/alstm-22-0_with_indications.01.hdf5\")"
   ]
  },
  {
   "cell_type": "markdown",
   "metadata": {
    "id": "r9GovYaJzQFv"
   },
   "source": [
    "### Load model, get predictions and evaluate siamese network"
   ]
  },
  {
   "cell_type": "code",
   "execution_count": 57,
   "metadata": {},
   "outputs": [
    {
     "name": "stdout",
     "output_type": "stream",
     "text": [
      "Model: \"model_1\"\n",
      "__________________________________________________________________________________________________\n",
      " Layer (type)                   Output Shape         Param #     Connected to                     \n",
      "==================================================================================================\n",
      " input_2 (InputLayer)           [(None, 400)]        0           []                               \n",
      "                                                                                                  \n",
      " input_3 (InputLayer)           [(None, 400)]        0           []                               \n",
      "                                                                                                  \n",
      " model (Functional)             (None, 256)          1713408     ['input_2[0][0]',                \n",
      "                                                                  'input_3[0][0]']                \n",
      "                                                                                                  \n",
      " lambda (Lambda)                (None, 1)            0           ['model[0][0]',                  \n",
      "                                                                  'model[1][0]']                  \n",
      "                                                                                                  \n",
      " dense_1 (Dense)                (None, 1)            2           ['lambda[0][0]']                 \n",
      "                                                                                                  \n",
      "==================================================================================================\n",
      "Total params: 1,713,410\n",
      "Trainable params: 1,713,410\n",
      "Non-trainable params: 0\n",
      "__________________________________________________________________________________________________\n"
     ]
    }
   ],
   "source": [
    "model.summary()"
   ]
  },
  {
   "cell_type": "code",
   "execution_count": 58,
   "metadata": {},
   "outputs": [
    {
     "name": "stdout",
     "output_type": "stream",
     "text": [
      "<class 'pandas.core.frame.DataFrame'>\n",
      "Int64Index: 1655 entries, 586 to 2884\n",
      "Data columns (total 4 columns):\n",
      " #   Column                 Non-Null Count  Dtype \n",
      "---  ------                 --------------  ----- \n",
      " 0   FAERS_drug_match       1655 non-null   object\n",
      " 1   lookup_value           1655 non-null   object\n",
      " 2   indi_pt                1655 non-null   object\n",
      " 3   FAERS_drug_match_indi  1655 non-null   object\n",
      "dtypes: object(4)\n",
      "memory usage: 64.6+ KB\n"
     ]
    }
   ],
   "source": [
    "test.info()"
   ]
  },
  {
   "cell_type": "code",
   "execution_count": 59,
   "metadata": {},
   "outputs": [],
   "source": [
    "test_eval = pd.DataFrame(columns = ['FAERS_drug_match_indi', 'lookup_value', 'rank1_drug', 'rank2_drug', 'rank3_drug', 'rank4_drug', 'rank5_drug', 'lookup_rank'])"
   ]
  },
  {
   "cell_type": "code",
   "execution_count": 60,
   "metadata": {},
   "outputs": [
    {
     "data": {
      "text/html": [
       "<div>\n",
       "<style scoped>\n",
       "    .dataframe tbody tr th:only-of-type {\n",
       "        vertical-align: middle;\n",
       "    }\n",
       "\n",
       "    .dataframe tbody tr th {\n",
       "        vertical-align: top;\n",
       "    }\n",
       "\n",
       "    .dataframe thead th {\n",
       "        text-align: right;\n",
       "    }\n",
       "</style>\n",
       "<table border=\"1\" class=\"dataframe\">\n",
       "  <thead>\n",
       "    <tr style=\"text-align: right;\">\n",
       "      <th></th>\n",
       "      <th>index</th>\n",
       "      <th>FAERS_drug_match</th>\n",
       "      <th>lookup_value</th>\n",
       "      <th>indi_pt</th>\n",
       "      <th>FAERS_drug_match_indi</th>\n",
       "    </tr>\n",
       "  </thead>\n",
       "  <tbody>\n",
       "    <tr>\n",
       "      <th>0</th>\n",
       "      <td>586</td>\n",
       "      <td>FLAXSEED OIL [LINUM USITATISSIMUM OIL]</td>\n",
       "      <td>FLAX SEED</td>\n",
       "      <td>PROPHYLAXIS</td>\n",
       "      <td>FLAXSEED OIL [LINUM USITATISSIMUM OIL] PROPHYL...</td>\n",
       "    </tr>\n",
       "    <tr>\n",
       "      <th>1</th>\n",
       "      <td>7013</td>\n",
       "      <td>CHORDYCEPS</td>\n",
       "      <td>OPHIOCORDYCEPS SINENSIS</td>\n",
       "      <td></td>\n",
       "      <td>CHORDYCEPS</td>\n",
       "    </tr>\n",
       "    <tr>\n",
       "      <th>2</th>\n",
       "      <td>7716</td>\n",
       "      <td>CRANBERRY PLUS [JUNIPERUS COMMUNIS;VACCINIUM M...</td>\n",
       "      <td>VACCINIUM MACROCARPON</td>\n",
       "      <td>PRODUCT USED FOR UNKNOWN INDICATION</td>\n",
       "      <td>CRANBERRY PLUS [JUNIPERUS COMMUNIS;VACCINIUM M...</td>\n",
       "    </tr>\n",
       "    <tr>\n",
       "      <th>3</th>\n",
       "      <td>970</td>\n",
       "      <td>GREEN TEA 150MG</td>\n",
       "      <td>GREEN TEA</td>\n",
       "      <td></td>\n",
       "      <td>GREEN TEA 150MG</td>\n",
       "    </tr>\n",
       "    <tr>\n",
       "      <th>4</th>\n",
       "      <td>8173</td>\n",
       "      <td>ODOR FREE GARLIC?X</td>\n",
       "      <td>ALLIUM SATIVUM</td>\n",
       "      <td></td>\n",
       "      <td>ODOR FREE GARLIC?X</td>\n",
       "    </tr>\n",
       "  </tbody>\n",
       "</table>\n",
       "</div>"
      ],
      "text/plain": [
       "   index                                   FAERS_drug_match  \\\n",
       "0    586             FLAXSEED OIL [LINUM USITATISSIMUM OIL]   \n",
       "1   7013                                         CHORDYCEPS   \n",
       "2   7716  CRANBERRY PLUS [JUNIPERUS COMMUNIS;VACCINIUM M...   \n",
       "3    970                                    GREEN TEA 150MG   \n",
       "4   8173                                 ODOR FREE GARLIC?X   \n",
       "\n",
       "              lookup_value                              indi_pt  \\\n",
       "0                FLAX SEED                          PROPHYLAXIS   \n",
       "1  OPHIOCORDYCEPS SINENSIS                                        \n",
       "2    VACCINIUM MACROCARPON  PRODUCT USED FOR UNKNOWN INDICATION   \n",
       "3                GREEN TEA                                        \n",
       "4           ALLIUM SATIVUM                                        \n",
       "\n",
       "                               FAERS_drug_match_indi  \n",
       "0  FLAXSEED OIL [LINUM USITATISSIMUM OIL] PROPHYL...  \n",
       "1                                        CHORDYCEPS   \n",
       "2  CRANBERRY PLUS [JUNIPERUS COMMUNIS;VACCINIUM M...  \n",
       "3                                   GREEN TEA 150MG   \n",
       "4                                ODOR FREE GARLIC?X   "
      ]
     },
     "execution_count": 60,
     "metadata": {},
     "output_type": "execute_result"
    }
   ],
   "source": [
    "test_res = test.reset_index()\n",
    "test_res.head()"
   ]
  },
  {
   "cell_type": "code",
   "execution_count": 62,
   "metadata": {},
   "outputs": [
    {
     "data": {
      "text/html": [
       "<div>\n",
       "<style scoped>\n",
       "    .dataframe tbody tr th:only-of-type {\n",
       "        vertical-align: middle;\n",
       "    }\n",
       "\n",
       "    .dataframe tbody tr th {\n",
       "        vertical-align: top;\n",
       "    }\n",
       "\n",
       "    .dataframe thead th {\n",
       "        text-align: right;\n",
       "    }\n",
       "</style>\n",
       "<table border=\"1\" class=\"dataframe\">\n",
       "  <thead>\n",
       "    <tr style=\"text-align: right;\">\n",
       "      <th></th>\n",
       "      <th>FAERS_drug_match_indi</th>\n",
       "      <th>lookup_value</th>\n",
       "      <th>rank1_drug</th>\n",
       "      <th>rank2_drug</th>\n",
       "      <th>rank3_drug</th>\n",
       "      <th>rank4_drug</th>\n",
       "      <th>rank5_drug</th>\n",
       "      <th>lookup_rank</th>\n",
       "    </tr>\n",
       "  </thead>\n",
       "  <tbody>\n",
       "    <tr>\n",
       "      <th>0</th>\n",
       "      <td>FLAXSEED OIL [LINUM USITATISSIMUM OIL] PROPHYL...</td>\n",
       "      <td>FLAX SEED</td>\n",
       "      <td>LINUM USITATISSIMUM</td>\n",
       "      <td>FLAX SEED</td>\n",
       "      <td>EVENING PRIMROSE OIL</td>\n",
       "      <td>FENUGREEK</td>\n",
       "      <td>KRATOM</td>\n",
       "      <td>NaN</td>\n",
       "    </tr>\n",
       "    <tr>\n",
       "      <th>1</th>\n",
       "      <td>CHORDYCEPS</td>\n",
       "      <td>OPHIOCORDYCEPS SINENSIS</td>\n",
       "      <td>CORDYCEPS</td>\n",
       "      <td>OPHIOCORDYCEPS SINENSIS</td>\n",
       "      <td>IVY LEAF</td>\n",
       "      <td>HEDERA HELIX</td>\n",
       "      <td>UNCARIA TOMENTOSA</td>\n",
       "      <td>NaN</td>\n",
       "    </tr>\n",
       "    <tr>\n",
       "      <th>2</th>\n",
       "      <td>CRANBERRY PLUS [JUNIPERUS COMMUNIS;VACCINIUM M...</td>\n",
       "      <td>VACCINIUM MACROCARPON</td>\n",
       "      <td>VACCINIUM MACROCARPON</td>\n",
       "      <td>CRANBERRY</td>\n",
       "      <td>CINNAMON</td>\n",
       "      <td>MITRAGYNA SPECIOSA</td>\n",
       "      <td>CINNAMOMUM VERUM</td>\n",
       "      <td>NaN</td>\n",
       "    </tr>\n",
       "    <tr>\n",
       "      <th>3</th>\n",
       "      <td>GREEN TEA 150MG</td>\n",
       "      <td>GREEN TEA</td>\n",
       "      <td>GREEN TEA</td>\n",
       "      <td>CAMELLIA SINENSIS</td>\n",
       "      <td>APPLE CIDER VINEGAR</td>\n",
       "      <td>CINNAMON</td>\n",
       "      <td>MALUS DOMESTICA</td>\n",
       "      <td>NaN</td>\n",
       "    </tr>\n",
       "    <tr>\n",
       "      <th>4</th>\n",
       "      <td>ODOR FREE GARLIC?X</td>\n",
       "      <td>ALLIUM SATIVUM</td>\n",
       "      <td>GARLIC</td>\n",
       "      <td>ALLIUM SATIVUM</td>\n",
       "      <td>GREEN TEA</td>\n",
       "      <td>EQUISETUM HYEMALE</td>\n",
       "      <td>ZINGIBER OFFICINALE</td>\n",
       "      <td>NaN</td>\n",
       "    </tr>\n",
       "  </tbody>\n",
       "</table>\n",
       "</div>"
      ],
      "text/plain": [
       "                               FAERS_drug_match_indi             lookup_value  \\\n",
       "0  FLAXSEED OIL [LINUM USITATISSIMUM OIL] PROPHYL...                FLAX SEED   \n",
       "1                                        CHORDYCEPS   OPHIOCORDYCEPS SINENSIS   \n",
       "2  CRANBERRY PLUS [JUNIPERUS COMMUNIS;VACCINIUM M...    VACCINIUM MACROCARPON   \n",
       "3                                   GREEN TEA 150MG                 GREEN TEA   \n",
       "4                                ODOR FREE GARLIC?X            ALLIUM SATIVUM   \n",
       "\n",
       "              rank1_drug               rank2_drug            rank3_drug  \\\n",
       "0    LINUM USITATISSIMUM                FLAX SEED  EVENING PRIMROSE OIL   \n",
       "1              CORDYCEPS  OPHIOCORDYCEPS SINENSIS              IVY LEAF   \n",
       "2  VACCINIUM MACROCARPON                CRANBERRY              CINNAMON   \n",
       "3              GREEN TEA        CAMELLIA SINENSIS   APPLE CIDER VINEGAR   \n",
       "4                 GARLIC           ALLIUM SATIVUM             GREEN TEA   \n",
       "\n",
       "           rank4_drug           rank5_drug lookup_rank  \n",
       "0           FENUGREEK               KRATOM         NaN  \n",
       "1        HEDERA HELIX    UNCARIA TOMENTOSA         NaN  \n",
       "2  MITRAGYNA SPECIOSA     CINNAMOMUM VERUM         NaN  \n",
       "3            CINNAMON      MALUS DOMESTICA         NaN  \n",
       "4   EQUISETUM HYEMALE  ZINGIBER OFFICINALE         NaN  "
      ]
     },
     "execution_count": 62,
     "metadata": {},
     "output_type": "execute_result"
    }
   ],
   "source": [
    "#find ranks 1, 2 and 3 (can go upto any number n) from the predicted similarities for the test data\n",
    "for i in range(padded_xTest.shape[0]):\n",
    "    predicts = model.predict([np.tile(padded_xTest[i,:], (dUnique.shape[0],1)), dUnique])\n",
    "    argsort = np.argsort(-predicts.flatten())\n",
    "    test_eval.at[i, 'FAERS_drug_match_indi'] = test_res.at[i, 'FAERS_drug_match_indi']\n",
    "    test_eval.at[i, 'lookup_value'] = test_res.at[i, 'lookup_value']\n",
    "    test_eval.at[i, 'rank1_drug'] = dUnique_df.iloc[argsort[0]].dUnique_label\n",
    "    test_eval.at[i, 'rank2_drug'] = dUnique_df.iloc[argsort[1]].dUnique_label\n",
    "    test_eval.at[i, 'rank3_drug'] = dUnique_df.iloc[argsort[2]].dUnique_label\n",
    "    test_eval.at[i, 'rank4_drug'] = dUnique_df.iloc[argsort[3]].dUnique_label\n",
    "    test_eval.at[i, 'rank5_drug'] = dUnique_df.iloc[argsort[4]].dUnique_label\n",
    "test_eval.head()"
   ]
  },
  {
   "cell_type": "code",
   "execution_count": 63,
   "metadata": {},
   "outputs": [
    {
     "data": {
      "text/html": [
       "<div>\n",
       "<style scoped>\n",
       "    .dataframe tbody tr th:only-of-type {\n",
       "        vertical-align: middle;\n",
       "    }\n",
       "\n",
       "    .dataframe tbody tr th {\n",
       "        vertical-align: top;\n",
       "    }\n",
       "\n",
       "    .dataframe thead th {\n",
       "        text-align: right;\n",
       "    }\n",
       "</style>\n",
       "<table border=\"1\" class=\"dataframe\">\n",
       "  <thead>\n",
       "    <tr style=\"text-align: right;\">\n",
       "      <th></th>\n",
       "      <th>FAERS_drug_match_indi</th>\n",
       "      <th>lookup_value</th>\n",
       "      <th>rank1_drug</th>\n",
       "      <th>rank2_drug</th>\n",
       "      <th>rank3_drug</th>\n",
       "      <th>rank4_drug</th>\n",
       "      <th>rank5_drug</th>\n",
       "      <th>lookup_rank</th>\n",
       "    </tr>\n",
       "  </thead>\n",
       "  <tbody>\n",
       "    <tr>\n",
       "      <th>0</th>\n",
       "      <td>FLAXSEED OIL [LINUM USITATISSIMUM OIL] PROPHYL...</td>\n",
       "      <td>FLAX SEED</td>\n",
       "      <td>LINUM USITATISSIMUM</td>\n",
       "      <td>FLAX SEED</td>\n",
       "      <td>EVENING PRIMROSE OIL</td>\n",
       "      <td>FENUGREEK</td>\n",
       "      <td>KRATOM</td>\n",
       "      <td>2</td>\n",
       "    </tr>\n",
       "    <tr>\n",
       "      <th>1</th>\n",
       "      <td>CHORDYCEPS</td>\n",
       "      <td>OPHIOCORDYCEPS SINENSIS</td>\n",
       "      <td>CORDYCEPS</td>\n",
       "      <td>OPHIOCORDYCEPS SINENSIS</td>\n",
       "      <td>IVY LEAF</td>\n",
       "      <td>HEDERA HELIX</td>\n",
       "      <td>UNCARIA TOMENTOSA</td>\n",
       "      <td>2</td>\n",
       "    </tr>\n",
       "    <tr>\n",
       "      <th>2</th>\n",
       "      <td>CRANBERRY PLUS [JUNIPERUS COMMUNIS;VACCINIUM M...</td>\n",
       "      <td>VACCINIUM MACROCARPON</td>\n",
       "      <td>VACCINIUM MACROCARPON</td>\n",
       "      <td>CRANBERRY</td>\n",
       "      <td>CINNAMON</td>\n",
       "      <td>MITRAGYNA SPECIOSA</td>\n",
       "      <td>CINNAMOMUM VERUM</td>\n",
       "      <td>1</td>\n",
       "    </tr>\n",
       "    <tr>\n",
       "      <th>3</th>\n",
       "      <td>GREEN TEA 150MG</td>\n",
       "      <td>GREEN TEA</td>\n",
       "      <td>GREEN TEA</td>\n",
       "      <td>CAMELLIA SINENSIS</td>\n",
       "      <td>APPLE CIDER VINEGAR</td>\n",
       "      <td>CINNAMON</td>\n",
       "      <td>MALUS DOMESTICA</td>\n",
       "      <td>1</td>\n",
       "    </tr>\n",
       "    <tr>\n",
       "      <th>4</th>\n",
       "      <td>ODOR FREE GARLIC?X</td>\n",
       "      <td>ALLIUM SATIVUM</td>\n",
       "      <td>GARLIC</td>\n",
       "      <td>ALLIUM SATIVUM</td>\n",
       "      <td>GREEN TEA</td>\n",
       "      <td>EQUISETUM HYEMALE</td>\n",
       "      <td>ZINGIBER OFFICINALE</td>\n",
       "      <td>2</td>\n",
       "    </tr>\n",
       "  </tbody>\n",
       "</table>\n",
       "</div>"
      ],
      "text/plain": [
       "                               FAERS_drug_match_indi             lookup_value  \\\n",
       "0  FLAXSEED OIL [LINUM USITATISSIMUM OIL] PROPHYL...                FLAX SEED   \n",
       "1                                        CHORDYCEPS   OPHIOCORDYCEPS SINENSIS   \n",
       "2  CRANBERRY PLUS [JUNIPERUS COMMUNIS;VACCINIUM M...    VACCINIUM MACROCARPON   \n",
       "3                                   GREEN TEA 150MG                 GREEN TEA   \n",
       "4                                ODOR FREE GARLIC?X            ALLIUM SATIVUM   \n",
       "\n",
       "              rank1_drug               rank2_drug            rank3_drug  \\\n",
       "0    LINUM USITATISSIMUM                FLAX SEED  EVENING PRIMROSE OIL   \n",
       "1              CORDYCEPS  OPHIOCORDYCEPS SINENSIS              IVY LEAF   \n",
       "2  VACCINIUM MACROCARPON                CRANBERRY              CINNAMON   \n",
       "3              GREEN TEA        CAMELLIA SINENSIS   APPLE CIDER VINEGAR   \n",
       "4                 GARLIC           ALLIUM SATIVUM             GREEN TEA   \n",
       "\n",
       "           rank4_drug           rank5_drug lookup_rank  \n",
       "0           FENUGREEK               KRATOM           2  \n",
       "1        HEDERA HELIX    UNCARIA TOMENTOSA           2  \n",
       "2  MITRAGYNA SPECIOSA     CINNAMOMUM VERUM           1  \n",
       "3            CINNAMON      MALUS DOMESTICA           1  \n",
       "4   EQUISETUM HYEMALE  ZINGIBER OFFICINALE           2  "
      ]
     },
     "execution_count": 63,
     "metadata": {},
     "output_type": "execute_result"
    }
   ],
   "source": [
    "for i in range(len(test_eval.index)):\n",
    "    lookup = test_eval.at[i, 'lookup_value']\n",
    "    lookup_clean = clean(lookup)\n",
    "    if lookup_clean == test_eval.at[i, 'rank1_drug']:\n",
    "        test_eval.at[i, 'lookup_rank'] = 1\n",
    "    elif lookup_clean == test_eval.at[i, 'rank2_drug']:\n",
    "        test_eval.at[i, 'lookup_rank'] = 2\n",
    "    elif lookup_clean == test_eval.at[i, 'rank3_drug']:\n",
    "        test_eval.at[i, 'lookup_rank'] = 3\n",
    "    elif lookup_clean == test_eval.at[i, 'rank4_drug']:\n",
    "        test_eval.at[i, 'lookup_rank'] = 4\n",
    "    elif lookup_clean == test_eval.at[i, 'rank5_drug']:\n",
    "        test_eval.at[i, 'lookup_rank'] = 5\n",
    "test_eval.head()"
   ]
  },
  {
   "cell_type": "code",
   "execution_count": 64,
   "metadata": {},
   "outputs": [],
   "source": [
    "test_eval.to_csv(\"evaluation/test_siamese_evaluation_lstm_model_with_indications.csv\", index=False)"
   ]
  },
  {
   "cell_type": "code",
   "execution_count": 65,
   "metadata": {},
   "outputs": [],
   "source": [
    "##add related mappings rank to test set evaluation\n"
   ]
  },
  {
   "cell_type": "code",
   "execution_count": 66,
   "metadata": {},
   "outputs": [
    {
     "name": "stdout",
     "output_type": "stream",
     "text": [
      "<class 'pandas.core.frame.DataFrame'>\n",
      "RangeIndex: 958 entries, 0 to 957\n",
      "Data columns (total 4 columns):\n",
      " #   Column                Non-Null Count  Dtype \n",
      "---  ------                --------------  ----- \n",
      " 0   latin_binomial        958 non-null    object\n",
      " 1   common_name           958 non-null    object\n",
      " 2   latin_binomial_clean  958 non-null    object\n",
      " 3   common_name_clean     958 non-null    object\n",
      "dtypes: object(4)\n",
      "memory usage: 30.1+ KB\n"
     ]
    }
   ],
   "source": [
    "vocab = pd.read_csv('data/lb_to_common_names.csv')\n",
    "vocab.info()"
   ]
  },
  {
   "cell_type": "code",
   "execution_count": 67,
   "metadata": {},
   "outputs": [
    {
     "name": "stdout",
     "output_type": "stream",
     "text": [
      "<class 'pandas.core.frame.DataFrame'>\n",
      "RangeIndex: 1655 entries, 0 to 1654\n",
      "Data columns (total 8 columns):\n",
      " #   Column                 Non-Null Count  Dtype  \n",
      "---  ------                 --------------  -----  \n",
      " 0   FAERS_drug_match_indi  1655 non-null   object \n",
      " 1   lookup_value           1655 non-null   object \n",
      " 2   rank1_drug             1655 non-null   object \n",
      " 3   rank2_drug             1655 non-null   object \n",
      " 4   rank3_drug             1655 non-null   object \n",
      " 5   rank4_drug             1655 non-null   object \n",
      " 6   rank5_drug             1655 non-null   object \n",
      " 7   lookup_rank            1585 non-null   float64\n",
      "dtypes: float64(1), object(7)\n",
      "memory usage: 103.6+ KB\n"
     ]
    }
   ],
   "source": [
    "test_eval = pd.read_csv('evaluation/test_siamese_evaluation_lstm_model_with_indications.csv')\n",
    "test_eval.info()"
   ]
  },
  {
   "cell_type": "code",
   "execution_count": 68,
   "metadata": {},
   "outputs": [
    {
     "data": {
      "text/html": [
       "<div>\n",
       "<style scoped>\n",
       "    .dataframe tbody tr th:only-of-type {\n",
       "        vertical-align: middle;\n",
       "    }\n",
       "\n",
       "    .dataframe tbody tr th {\n",
       "        vertical-align: top;\n",
       "    }\n",
       "\n",
       "    .dataframe thead th {\n",
       "        text-align: right;\n",
       "    }\n",
       "</style>\n",
       "<table border=\"1\" class=\"dataframe\">\n",
       "  <thead>\n",
       "    <tr style=\"text-align: right;\">\n",
       "      <th></th>\n",
       "      <th>FAERS_drug_match_indi</th>\n",
       "      <th>lookup_value</th>\n",
       "      <th>rank1_drug</th>\n",
       "      <th>rank2_drug</th>\n",
       "      <th>rank3_drug</th>\n",
       "      <th>rank4_drug</th>\n",
       "      <th>rank5_drug</th>\n",
       "      <th>lookup_rank</th>\n",
       "      <th>lookup_rank_related</th>\n",
       "    </tr>\n",
       "  </thead>\n",
       "  <tbody>\n",
       "    <tr>\n",
       "      <th>0</th>\n",
       "      <td>FLAXSEED OIL [LINUM USITATISSIMUM OIL] PROPHYL...</td>\n",
       "      <td>FLAX SEED</td>\n",
       "      <td>LINUM USITATISSIMUM</td>\n",
       "      <td>FLAX SEED</td>\n",
       "      <td>EVENING PRIMROSE OIL</td>\n",
       "      <td>FENUGREEK</td>\n",
       "      <td>KRATOM</td>\n",
       "      <td>2.0</td>\n",
       "      <td>NaN</td>\n",
       "    </tr>\n",
       "    <tr>\n",
       "      <th>1</th>\n",
       "      <td>CHORDYCEPS</td>\n",
       "      <td>OPHIOCORDYCEPS SINENSIS</td>\n",
       "      <td>CORDYCEPS</td>\n",
       "      <td>OPHIOCORDYCEPS SINENSIS</td>\n",
       "      <td>IVY LEAF</td>\n",
       "      <td>HEDERA HELIX</td>\n",
       "      <td>UNCARIA TOMENTOSA</td>\n",
       "      <td>2.0</td>\n",
       "      <td>NaN</td>\n",
       "    </tr>\n",
       "    <tr>\n",
       "      <th>2</th>\n",
       "      <td>CRANBERRY PLUS [JUNIPERUS COMMUNIS;VACCINIUM M...</td>\n",
       "      <td>VACCINIUM MACROCARPON</td>\n",
       "      <td>VACCINIUM MACROCARPON</td>\n",
       "      <td>CRANBERRY</td>\n",
       "      <td>CINNAMON</td>\n",
       "      <td>MITRAGYNA SPECIOSA</td>\n",
       "      <td>CINNAMOMUM VERUM</td>\n",
       "      <td>1.0</td>\n",
       "      <td>NaN</td>\n",
       "    </tr>\n",
       "    <tr>\n",
       "      <th>3</th>\n",
       "      <td>GREEN TEA 150MG</td>\n",
       "      <td>GREEN TEA</td>\n",
       "      <td>GREEN TEA</td>\n",
       "      <td>CAMELLIA SINENSIS</td>\n",
       "      <td>APPLE CIDER VINEGAR</td>\n",
       "      <td>CINNAMON</td>\n",
       "      <td>MALUS DOMESTICA</td>\n",
       "      <td>1.0</td>\n",
       "      <td>NaN</td>\n",
       "    </tr>\n",
       "    <tr>\n",
       "      <th>4</th>\n",
       "      <td>ODOR FREE GARLIC?X</td>\n",
       "      <td>ALLIUM SATIVUM</td>\n",
       "      <td>GARLIC</td>\n",
       "      <td>ALLIUM SATIVUM</td>\n",
       "      <td>GREEN TEA</td>\n",
       "      <td>EQUISETUM HYEMALE</td>\n",
       "      <td>ZINGIBER OFFICINALE</td>\n",
       "      <td>2.0</td>\n",
       "      <td>NaN</td>\n",
       "    </tr>\n",
       "  </tbody>\n",
       "</table>\n",
       "</div>"
      ],
      "text/plain": [
       "                               FAERS_drug_match_indi             lookup_value  \\\n",
       "0  FLAXSEED OIL [LINUM USITATISSIMUM OIL] PROPHYL...                FLAX SEED   \n",
       "1                                        CHORDYCEPS   OPHIOCORDYCEPS SINENSIS   \n",
       "2  CRANBERRY PLUS [JUNIPERUS COMMUNIS;VACCINIUM M...    VACCINIUM MACROCARPON   \n",
       "3                                   GREEN TEA 150MG                 GREEN TEA   \n",
       "4                                ODOR FREE GARLIC?X            ALLIUM SATIVUM   \n",
       "\n",
       "              rank1_drug               rank2_drug            rank3_drug  \\\n",
       "0    LINUM USITATISSIMUM                FLAX SEED  EVENING PRIMROSE OIL   \n",
       "1              CORDYCEPS  OPHIOCORDYCEPS SINENSIS              IVY LEAF   \n",
       "2  VACCINIUM MACROCARPON                CRANBERRY              CINNAMON   \n",
       "3              GREEN TEA        CAMELLIA SINENSIS   APPLE CIDER VINEGAR   \n",
       "4                 GARLIC           ALLIUM SATIVUM             GREEN TEA   \n",
       "\n",
       "           rank4_drug           rank5_drug  lookup_rank  lookup_rank_related  \n",
       "0           FENUGREEK               KRATOM          2.0                  NaN  \n",
       "1        HEDERA HELIX    UNCARIA TOMENTOSA          2.0                  NaN  \n",
       "2  MITRAGYNA SPECIOSA     CINNAMOMUM VERUM          1.0                  NaN  \n",
       "3            CINNAMON      MALUS DOMESTICA          1.0                  NaN  \n",
       "4   EQUISETUM HYEMALE  ZINGIBER OFFICINALE          2.0                  NaN  "
      ]
     },
     "execution_count": 68,
     "metadata": {},
     "output_type": "execute_result"
    }
   ],
   "source": [
    "test_eval['lookup_rank_related'] = np.nan\n",
    "test_eval.head()"
   ]
  },
  {
   "cell_type": "code",
   "execution_count": 69,
   "metadata": {},
   "outputs": [
    {
     "data": {
      "text/html": [
       "<div>\n",
       "<style scoped>\n",
       "    .dataframe tbody tr th:only-of-type {\n",
       "        vertical-align: middle;\n",
       "    }\n",
       "\n",
       "    .dataframe tbody tr th {\n",
       "        vertical-align: top;\n",
       "    }\n",
       "\n",
       "    .dataframe thead th {\n",
       "        text-align: right;\n",
       "    }\n",
       "</style>\n",
       "<table border=\"1\" class=\"dataframe\">\n",
       "  <thead>\n",
       "    <tr style=\"text-align: right;\">\n",
       "      <th></th>\n",
       "      <th>FAERS_drug_match_indi</th>\n",
       "      <th>lookup_value</th>\n",
       "      <th>rank1_drug</th>\n",
       "      <th>rank2_drug</th>\n",
       "      <th>rank3_drug</th>\n",
       "      <th>rank4_drug</th>\n",
       "      <th>rank5_drug</th>\n",
       "      <th>lookup_rank</th>\n",
       "      <th>lookup_rank_related</th>\n",
       "    </tr>\n",
       "  </thead>\n",
       "  <tbody>\n",
       "    <tr>\n",
       "      <th>0</th>\n",
       "      <td>FLAXSEED OIL [LINUM USITATISSIMUM OIL] PROPHYL...</td>\n",
       "      <td>FLAX SEED</td>\n",
       "      <td>LINUM USITATISSIMUM</td>\n",
       "      <td>FLAX SEED</td>\n",
       "      <td>EVENING PRIMROSE OIL</td>\n",
       "      <td>FENUGREEK</td>\n",
       "      <td>KRATOM</td>\n",
       "      <td>2.0</td>\n",
       "      <td>1.0</td>\n",
       "    </tr>\n",
       "    <tr>\n",
       "      <th>1</th>\n",
       "      <td>CHORDYCEPS</td>\n",
       "      <td>OPHIOCORDYCEPS SINENSIS</td>\n",
       "      <td>CORDYCEPS</td>\n",
       "      <td>OPHIOCORDYCEPS SINENSIS</td>\n",
       "      <td>IVY LEAF</td>\n",
       "      <td>HEDERA HELIX</td>\n",
       "      <td>UNCARIA TOMENTOSA</td>\n",
       "      <td>2.0</td>\n",
       "      <td>1.0</td>\n",
       "    </tr>\n",
       "    <tr>\n",
       "      <th>2</th>\n",
       "      <td>CRANBERRY PLUS [JUNIPERUS COMMUNIS;VACCINIUM M...</td>\n",
       "      <td>VACCINIUM MACROCARPON</td>\n",
       "      <td>VACCINIUM MACROCARPON</td>\n",
       "      <td>CRANBERRY</td>\n",
       "      <td>CINNAMON</td>\n",
       "      <td>MITRAGYNA SPECIOSA</td>\n",
       "      <td>CINNAMOMUM VERUM</td>\n",
       "      <td>1.0</td>\n",
       "      <td>1.0</td>\n",
       "    </tr>\n",
       "    <tr>\n",
       "      <th>3</th>\n",
       "      <td>GREEN TEA 150MG</td>\n",
       "      <td>GREEN TEA</td>\n",
       "      <td>GREEN TEA</td>\n",
       "      <td>CAMELLIA SINENSIS</td>\n",
       "      <td>APPLE CIDER VINEGAR</td>\n",
       "      <td>CINNAMON</td>\n",
       "      <td>MALUS DOMESTICA</td>\n",
       "      <td>1.0</td>\n",
       "      <td>1.0</td>\n",
       "    </tr>\n",
       "    <tr>\n",
       "      <th>4</th>\n",
       "      <td>ODOR FREE GARLIC?X</td>\n",
       "      <td>ALLIUM SATIVUM</td>\n",
       "      <td>GARLIC</td>\n",
       "      <td>ALLIUM SATIVUM</td>\n",
       "      <td>GREEN TEA</td>\n",
       "      <td>EQUISETUM HYEMALE</td>\n",
       "      <td>ZINGIBER OFFICINALE</td>\n",
       "      <td>2.0</td>\n",
       "      <td>1.0</td>\n",
       "    </tr>\n",
       "  </tbody>\n",
       "</table>\n",
       "</div>"
      ],
      "text/plain": [
       "                               FAERS_drug_match_indi             lookup_value  \\\n",
       "0  FLAXSEED OIL [LINUM USITATISSIMUM OIL] PROPHYL...                FLAX SEED   \n",
       "1                                        CHORDYCEPS   OPHIOCORDYCEPS SINENSIS   \n",
       "2  CRANBERRY PLUS [JUNIPERUS COMMUNIS;VACCINIUM M...    VACCINIUM MACROCARPON   \n",
       "3                                   GREEN TEA 150MG                 GREEN TEA   \n",
       "4                                ODOR FREE GARLIC?X            ALLIUM SATIVUM   \n",
       "\n",
       "              rank1_drug               rank2_drug            rank3_drug  \\\n",
       "0    LINUM USITATISSIMUM                FLAX SEED  EVENING PRIMROSE OIL   \n",
       "1              CORDYCEPS  OPHIOCORDYCEPS SINENSIS              IVY LEAF   \n",
       "2  VACCINIUM MACROCARPON                CRANBERRY              CINNAMON   \n",
       "3              GREEN TEA        CAMELLIA SINENSIS   APPLE CIDER VINEGAR   \n",
       "4                 GARLIC           ALLIUM SATIVUM             GREEN TEA   \n",
       "\n",
       "           rank4_drug           rank5_drug  lookup_rank  lookup_rank_related  \n",
       "0           FENUGREEK               KRATOM          2.0                  1.0  \n",
       "1        HEDERA HELIX    UNCARIA TOMENTOSA          2.0                  1.0  \n",
       "2  MITRAGYNA SPECIOSA     CINNAMOMUM VERUM          1.0                  1.0  \n",
       "3            CINNAMON      MALUS DOMESTICA          1.0                  1.0  \n",
       "4   EQUISETUM HYEMALE  ZINGIBER OFFICINALE          2.0                  1.0  "
      ]
     },
     "execution_count": 69,
     "metadata": {},
     "output_type": "execute_result"
    }
   ],
   "source": [
    "#find related mappings to lookup value in predicted values \n",
    "for i in range(len(test_eval.index)):\n",
    "    lookup = test_eval.at[i, 'lookup_value']\n",
    "    lookup_rank = test_eval.at[i, 'lookup_rank']\n",
    "    lookup_clean = clean(lookup)\n",
    "    lb_res = vocab.loc[vocab['latin_binomial_clean'] == lookup_clean]\n",
    "    common_res = vocab.loc[vocab['common_name_clean'] == lookup_clean]\n",
    "    lookup_result = ''\n",
    "    if len(lb_res) > 0:\n",
    "        lookup_result = lb_res.common_name_clean.values[0]\n",
    "    elif len(common_res) > 0:\n",
    "        lookup_result = common_res.latin_binomial_clean.values[0]\n",
    "    if lookup_result != '':\n",
    "        if lookup_result == test_eval.at[i, 'rank1_drug']:\n",
    "            test_eval.at[i, 'lookup_rank_related'] = 1\n",
    "        elif lookup_result == test_eval.at[i, 'rank2_drug']:\n",
    "            if lookup_rank:\n",
    "                if lookup_rank > 2:\n",
    "                    test_eval.at[i, 'lookup_rank_related'] = 2\n",
    "                else:\n",
    "                    test_eval.at[i, 'lookup_rank_related'] = lookup_rank\n",
    "            elif np.isnan(lookup_rank):\n",
    "                test_eval.at[i, 'lookup_rank_related'] = 2\n",
    "        elif lookup_result == test_eval.at[i, 'rank3_drug']:\n",
    "            if lookup_rank:\n",
    "                if lookup_rank > 3:\n",
    "                    test_eval.at[i, 'lookup_rank_related'] = 3\n",
    "                else:\n",
    "                    test_eval.at[i, 'lookup_rank_related'] = lookup_rank\n",
    "            elif np.isnan(lookup_rank):\n",
    "                test_eval.at[i, 'lookup_rank_related'] = 3\n",
    "        elif lookup_result == test_eval.at[i, 'rank4_drug']:\n",
    "            if lookup_rank:\n",
    "                if lookup_rank > 4:\n",
    "                    test_eval.at[i, 'lookup_rank_related'] = 4\n",
    "                else:\n",
    "                    test_eval.at[i, 'lookup_rank_related'] = lookup_rank\n",
    "            elif np.isnan(lookup_rank):\n",
    "                test_eval.at[i, 'lookup_rank_related'] = 4\n",
    "        elif lookup_result == test_eval.at[i, 'rank5_drug']:\n",
    "            if np.isnan(lookup_rank):\n",
    "                test_eval.at[i, 'lookup_rank_related'] = 5\n",
    "        \n",
    "test_eval.head()"
   ]
  },
  {
   "cell_type": "code",
   "execution_count": 70,
   "metadata": {},
   "outputs": [
    {
     "data": {
      "text/html": [
       "<div>\n",
       "<style scoped>\n",
       "    .dataframe tbody tr th:only-of-type {\n",
       "        vertical-align: middle;\n",
       "    }\n",
       "\n",
       "    .dataframe tbody tr th {\n",
       "        vertical-align: top;\n",
       "    }\n",
       "\n",
       "    .dataframe thead th {\n",
       "        text-align: right;\n",
       "    }\n",
       "</style>\n",
       "<table border=\"1\" class=\"dataframe\">\n",
       "  <thead>\n",
       "    <tr style=\"text-align: right;\">\n",
       "      <th></th>\n",
       "      <th>FAERS_drug_match_indi</th>\n",
       "      <th>lookup_value</th>\n",
       "      <th>rank1_drug</th>\n",
       "      <th>rank2_drug</th>\n",
       "      <th>rank3_drug</th>\n",
       "      <th>rank4_drug</th>\n",
       "      <th>rank5_drug</th>\n",
       "      <th>lookup_rank</th>\n",
       "      <th>lookup_rank_related</th>\n",
       "    </tr>\n",
       "  </thead>\n",
       "  <tbody>\n",
       "    <tr>\n",
       "      <th>0</th>\n",
       "      <td>FLAXSEED OIL [LINUM USITATISSIMUM OIL] PROPHYL...</td>\n",
       "      <td>FLAX SEED</td>\n",
       "      <td>LINUM USITATISSIMUM</td>\n",
       "      <td>FLAX SEED</td>\n",
       "      <td>EVENING PRIMROSE OIL</td>\n",
       "      <td>FENUGREEK</td>\n",
       "      <td>KRATOM</td>\n",
       "      <td>2.0</td>\n",
       "      <td>1.0</td>\n",
       "    </tr>\n",
       "    <tr>\n",
       "      <th>1</th>\n",
       "      <td>CHORDYCEPS</td>\n",
       "      <td>OPHIOCORDYCEPS SINENSIS</td>\n",
       "      <td>CORDYCEPS</td>\n",
       "      <td>OPHIOCORDYCEPS SINENSIS</td>\n",
       "      <td>IVY LEAF</td>\n",
       "      <td>HEDERA HELIX</td>\n",
       "      <td>UNCARIA TOMENTOSA</td>\n",
       "      <td>2.0</td>\n",
       "      <td>1.0</td>\n",
       "    </tr>\n",
       "    <tr>\n",
       "      <th>2</th>\n",
       "      <td>CRANBERRY PLUS [JUNIPERUS COMMUNIS;VACCINIUM M...</td>\n",
       "      <td>VACCINIUM MACROCARPON</td>\n",
       "      <td>VACCINIUM MACROCARPON</td>\n",
       "      <td>CRANBERRY</td>\n",
       "      <td>CINNAMON</td>\n",
       "      <td>MITRAGYNA SPECIOSA</td>\n",
       "      <td>CINNAMOMUM VERUM</td>\n",
       "      <td>1.0</td>\n",
       "      <td>1.0</td>\n",
       "    </tr>\n",
       "    <tr>\n",
       "      <th>3</th>\n",
       "      <td>GREEN TEA 150MG</td>\n",
       "      <td>GREEN TEA</td>\n",
       "      <td>GREEN TEA</td>\n",
       "      <td>CAMELLIA SINENSIS</td>\n",
       "      <td>APPLE CIDER VINEGAR</td>\n",
       "      <td>CINNAMON</td>\n",
       "      <td>MALUS DOMESTICA</td>\n",
       "      <td>1.0</td>\n",
       "      <td>1.0</td>\n",
       "    </tr>\n",
       "    <tr>\n",
       "      <th>4</th>\n",
       "      <td>ODOR FREE GARLIC?X</td>\n",
       "      <td>ALLIUM SATIVUM</td>\n",
       "      <td>GARLIC</td>\n",
       "      <td>ALLIUM SATIVUM</td>\n",
       "      <td>GREEN TEA</td>\n",
       "      <td>EQUISETUM HYEMALE</td>\n",
       "      <td>ZINGIBER OFFICINALE</td>\n",
       "      <td>2.0</td>\n",
       "      <td>1.0</td>\n",
       "    </tr>\n",
       "  </tbody>\n",
       "</table>\n",
       "</div>"
      ],
      "text/plain": [
       "                               FAERS_drug_match_indi             lookup_value  \\\n",
       "0  FLAXSEED OIL [LINUM USITATISSIMUM OIL] PROPHYL...                FLAX SEED   \n",
       "1                                        CHORDYCEPS   OPHIOCORDYCEPS SINENSIS   \n",
       "2  CRANBERRY PLUS [JUNIPERUS COMMUNIS;VACCINIUM M...    VACCINIUM MACROCARPON   \n",
       "3                                   GREEN TEA 150MG                 GREEN TEA   \n",
       "4                                ODOR FREE GARLIC?X            ALLIUM SATIVUM   \n",
       "\n",
       "              rank1_drug               rank2_drug            rank3_drug  \\\n",
       "0    LINUM USITATISSIMUM                FLAX SEED  EVENING PRIMROSE OIL   \n",
       "1              CORDYCEPS  OPHIOCORDYCEPS SINENSIS              IVY LEAF   \n",
       "2  VACCINIUM MACROCARPON                CRANBERRY              CINNAMON   \n",
       "3              GREEN TEA        CAMELLIA SINENSIS   APPLE CIDER VINEGAR   \n",
       "4                 GARLIC           ALLIUM SATIVUM             GREEN TEA   \n",
       "\n",
       "           rank4_drug           rank5_drug  lookup_rank  lookup_rank_related  \n",
       "0           FENUGREEK               KRATOM          2.0                  1.0  \n",
       "1        HEDERA HELIX    UNCARIA TOMENTOSA          2.0                  1.0  \n",
       "2  MITRAGYNA SPECIOSA     CINNAMOMUM VERUM          1.0                  1.0  \n",
       "3            CINNAMON      MALUS DOMESTICA          1.0                  1.0  \n",
       "4   EQUISETUM HYEMALE  ZINGIBER OFFICINALE          2.0                  1.0  "
      ]
     },
     "execution_count": 70,
     "metadata": {},
     "output_type": "execute_result"
    }
   ],
   "source": [
    "#post process to make lookup rank = lookup rank related if related is nan still\n",
    "for i in range(len(test_eval.index)):\n",
    "    lookup_rank = test_eval.at[i, 'lookup_rank']\n",
    "    lookup_rank_related = test_eval.at[i, 'lookup_rank_related']\n",
    "    if lookup_rank:\n",
    "        if np.isnan(lookup_rank_related):\n",
    "            test_eval.at[i, 'lookup_rank_related'] = lookup_rank\n",
    "test_eval.head()"
   ]
  },
  {
   "cell_type": "code",
   "execution_count": 71,
   "metadata": {},
   "outputs": [],
   "source": [
    "test_eval.to_csv('evaluation/test_siamese_evaluation_related_lstm_model_with_indications.csv', index=False)"
   ]
  },
  {
   "cell_type": "code",
   "execution_count": 2,
   "metadata": {},
   "outputs": [],
   "source": [
    "###compute MRR from test set evaluation\n",
    "test_eval = pd.read_csv('evaluation/test_siamese_evaluation_related_lstm_model_with_indications.csv')"
   ]
  },
  {
   "cell_type": "code",
   "execution_count": 72,
   "metadata": {},
   "outputs": [
    {
     "data": {
      "text/html": [
       "<div>\n",
       "<style scoped>\n",
       "    .dataframe tbody tr th:only-of-type {\n",
       "        vertical-align: middle;\n",
       "    }\n",
       "\n",
       "    .dataframe tbody tr th {\n",
       "        vertical-align: top;\n",
       "    }\n",
       "\n",
       "    .dataframe thead th {\n",
       "        text-align: right;\n",
       "    }\n",
       "</style>\n",
       "<table border=\"1\" class=\"dataframe\">\n",
       "  <thead>\n",
       "    <tr style=\"text-align: right;\">\n",
       "      <th></th>\n",
       "      <th>FAERS_drug_match_indi</th>\n",
       "      <th>lookup_rank</th>\n",
       "      <th>lookup_rank_related</th>\n",
       "    </tr>\n",
       "  </thead>\n",
       "  <tbody>\n",
       "    <tr>\n",
       "      <th>0</th>\n",
       "      <td>FLAXSEED OIL [LINUM USITATISSIMUM OIL] PROPHYL...</td>\n",
       "      <td>2.0</td>\n",
       "      <td>1.0</td>\n",
       "    </tr>\n",
       "    <tr>\n",
       "      <th>1</th>\n",
       "      <td>CHORDYCEPS</td>\n",
       "      <td>2.0</td>\n",
       "      <td>1.0</td>\n",
       "    </tr>\n",
       "    <tr>\n",
       "      <th>2</th>\n",
       "      <td>CRANBERRY PLUS [JUNIPERUS COMMUNIS;VACCINIUM M...</td>\n",
       "      <td>1.0</td>\n",
       "      <td>1.0</td>\n",
       "    </tr>\n",
       "    <tr>\n",
       "      <th>3</th>\n",
       "      <td>GREEN TEA 150MG</td>\n",
       "      <td>1.0</td>\n",
       "      <td>1.0</td>\n",
       "    </tr>\n",
       "    <tr>\n",
       "      <th>4</th>\n",
       "      <td>ODOR FREE GARLIC?X</td>\n",
       "      <td>2.0</td>\n",
       "      <td>1.0</td>\n",
       "    </tr>\n",
       "  </tbody>\n",
       "</table>\n",
       "</div>"
      ],
      "text/plain": [
       "                               FAERS_drug_match_indi  lookup_rank  \\\n",
       "0  FLAXSEED OIL [LINUM USITATISSIMUM OIL] PROPHYL...          2.0   \n",
       "1                                        CHORDYCEPS           2.0   \n",
       "2  CRANBERRY PLUS [JUNIPERUS COMMUNIS;VACCINIUM M...          1.0   \n",
       "3                                   GREEN TEA 150MG           1.0   \n",
       "4                                ODOR FREE GARLIC?X           2.0   \n",
       "\n",
       "   lookup_rank_related  \n",
       "0                  1.0  \n",
       "1                  1.0  \n",
       "2                  1.0  \n",
       "3                  1.0  \n",
       "4                  1.0  "
      ]
     },
     "execution_count": 72,
     "metadata": {},
     "output_type": "execute_result"
    }
   ],
   "source": [
    "test_mrr = test_eval[['FAERS_drug_match_indi', 'lookup_rank', 'lookup_rank_related']]\n",
    "test_mrr.head()"
   ]
  },
  {
   "cell_type": "code",
   "execution_count": 73,
   "metadata": {},
   "outputs": [
    {
     "name": "stdout",
     "output_type": "stream",
     "text": [
      "<class 'pandas.core.frame.DataFrame'>\n",
      "RangeIndex: 1655 entries, 0 to 1654\n",
      "Data columns (total 3 columns):\n",
      " #   Column                 Non-Null Count  Dtype  \n",
      "---  ------                 --------------  -----  \n",
      " 0   FAERS_drug_match_indi  1655 non-null   object \n",
      " 1   lookup_rank            1585 non-null   float64\n",
      " 2   lookup_rank_related    1589 non-null   float64\n",
      "dtypes: float64(2), object(1)\n",
      "memory usage: 38.9+ KB\n"
     ]
    }
   ],
   "source": [
    "test_mrr.info()"
   ]
  },
  {
   "cell_type": "code",
   "execution_count": 74,
   "metadata": {},
   "outputs": [
    {
     "data": {
      "text/plain": [
       "(70, 3)"
      ]
     },
     "execution_count": 74,
     "metadata": {},
     "output_type": "execute_result"
    }
   ],
   "source": [
    "#number of 0 relevant results\n",
    "test_mrr.loc[test_mrr['lookup_rank'].isna()].shape"
   ]
  },
  {
   "cell_type": "code",
   "execution_count": 75,
   "metadata": {},
   "outputs": [
    {
     "data": {
      "text/plain": [
       "(66, 3)"
      ]
     },
     "execution_count": 75,
     "metadata": {},
     "output_type": "execute_result"
    }
   ],
   "source": [
    "test_mrr.loc[test_mrr['lookup_rank_related'].isna()].shape"
   ]
  },
  {
   "cell_type": "code",
   "execution_count": 76,
   "metadata": {},
   "outputs": [
    {
     "name": "stdout",
     "output_type": "stream",
     "text": [
      "<class 'pandas.core.frame.DataFrame'>\n",
      "Int64Index: 1585 entries, 0 to 1654\n",
      "Data columns (total 2 columns):\n",
      " #   Column                 Non-Null Count  Dtype  \n",
      "---  ------                 --------------  -----  \n",
      " 0   FAERS_drug_match_indi  1585 non-null   object \n",
      " 1   lookup_rank            1585 non-null   float64\n",
      "dtypes: float64(1), object(1)\n",
      "memory usage: 37.1+ KB\n"
     ]
    }
   ],
   "source": [
    "test_mrr_exact = test_mrr[test_mrr['lookup_rank'].notna()]\n",
    "test_mrr_exact = test_mrr_exact.drop(['lookup_rank_related'], axis=1)\n",
    "test_mrr_exact.info()"
   ]
  },
  {
   "cell_type": "code",
   "execution_count": 77,
   "metadata": {},
   "outputs": [
    {
     "name": "stdout",
     "output_type": "stream",
     "text": [
      "<class 'pandas.core.frame.DataFrame'>\n",
      "Int64Index: 1589 entries, 0 to 1654\n",
      "Data columns (total 2 columns):\n",
      " #   Column                 Non-Null Count  Dtype  \n",
      "---  ------                 --------------  -----  \n",
      " 0   FAERS_drug_match_indi  1589 non-null   object \n",
      " 1   lookup_rank_related    1589 non-null   float64\n",
      "dtypes: float64(1), object(1)\n",
      "memory usage: 37.2+ KB\n"
     ]
    }
   ],
   "source": [
    "test_mrr_rel = test_mrr[test_mrr['lookup_rank_related'].notna()]\n",
    "test_mrr_rel = test_mrr_rel.drop(['lookup_rank'], axis=1)\n",
    "test_mrr_rel.info()"
   ]
  },
  {
   "cell_type": "code",
   "execution_count": 78,
   "metadata": {},
   "outputs": [
    {
     "data": {
      "text/html": [
       "<div>\n",
       "<style scoped>\n",
       "    .dataframe tbody tr th:only-of-type {\n",
       "        vertical-align: middle;\n",
       "    }\n",
       "\n",
       "    .dataframe tbody tr th {\n",
       "        vertical-align: top;\n",
       "    }\n",
       "\n",
       "    .dataframe thead th {\n",
       "        text-align: right;\n",
       "    }\n",
       "</style>\n",
       "<table border=\"1\" class=\"dataframe\">\n",
       "  <thead>\n",
       "    <tr style=\"text-align: right;\">\n",
       "      <th></th>\n",
       "      <th>FAERS_drug_match_indi</th>\n",
       "      <th>lookup_rank</th>\n",
       "      <th>reciprocal_rank</th>\n",
       "    </tr>\n",
       "  </thead>\n",
       "  <tbody>\n",
       "    <tr>\n",
       "      <th>0</th>\n",
       "      <td>FLAXSEED OIL [LINUM USITATISSIMUM OIL] PROPHYL...</td>\n",
       "      <td>2.0</td>\n",
       "      <td>0.5</td>\n",
       "    </tr>\n",
       "    <tr>\n",
       "      <th>1</th>\n",
       "      <td>CHORDYCEPS</td>\n",
       "      <td>2.0</td>\n",
       "      <td>0.5</td>\n",
       "    </tr>\n",
       "    <tr>\n",
       "      <th>2</th>\n",
       "      <td>CRANBERRY PLUS [JUNIPERUS COMMUNIS;VACCINIUM M...</td>\n",
       "      <td>1.0</td>\n",
       "      <td>1.0</td>\n",
       "    </tr>\n",
       "    <tr>\n",
       "      <th>3</th>\n",
       "      <td>GREEN TEA 150MG</td>\n",
       "      <td>1.0</td>\n",
       "      <td>1.0</td>\n",
       "    </tr>\n",
       "    <tr>\n",
       "      <th>4</th>\n",
       "      <td>ODOR FREE GARLIC?X</td>\n",
       "      <td>2.0</td>\n",
       "      <td>0.5</td>\n",
       "    </tr>\n",
       "  </tbody>\n",
       "</table>\n",
       "</div>"
      ],
      "text/plain": [
       "                               FAERS_drug_match_indi  lookup_rank  \\\n",
       "0  FLAXSEED OIL [LINUM USITATISSIMUM OIL] PROPHYL...          2.0   \n",
       "1                                        CHORDYCEPS           2.0   \n",
       "2  CRANBERRY PLUS [JUNIPERUS COMMUNIS;VACCINIUM M...          1.0   \n",
       "3                                   GREEN TEA 150MG           1.0   \n",
       "4                                ODOR FREE GARLIC?X           2.0   \n",
       "\n",
       "   reciprocal_rank  \n",
       "0              0.5  \n",
       "1              0.5  \n",
       "2              1.0  \n",
       "3              1.0  \n",
       "4              0.5  "
      ]
     },
     "execution_count": 78,
     "metadata": {},
     "output_type": "execute_result"
    }
   ],
   "source": [
    "exact_reciprocal = 1/test_mrr_exact['lookup_rank']\n",
    "test_mrr_exact['reciprocal_rank'] = exact_reciprocal\n",
    "test_mrr_exact.head()"
   ]
  },
  {
   "cell_type": "code",
   "execution_count": 79,
   "metadata": {},
   "outputs": [
    {
     "data": {
      "text/plain": [
       "0.7309989484752891"
      ]
     },
     "execution_count": 79,
     "metadata": {},
     "output_type": "execute_result"
    }
   ],
   "source": [
    "##get the mean of reciprocal ranks for exact matches\n",
    "test_mrr_exact.reciprocal_rank.mean()"
   ]
  },
  {
   "cell_type": "code",
   "execution_count": 80,
   "metadata": {},
   "outputs": [
    {
     "data": {
      "text/plain": [
       "0.5"
      ]
     },
     "execution_count": 80,
     "metadata": {},
     "output_type": "execute_result"
    }
   ],
   "source": [
    "test_mrr_exact.reciprocal_rank.median()"
   ]
  },
  {
   "cell_type": "code",
   "execution_count": 81,
   "metadata": {},
   "outputs": [
    {
     "data": {
      "text/plain": [
       "0.2555915467881875"
      ]
     },
     "execution_count": 81,
     "metadata": {},
     "output_type": "execute_result"
    }
   ],
   "source": [
    "test_mrr_exact.reciprocal_rank.std()"
   ]
  },
  {
   "cell_type": "code",
   "execution_count": 82,
   "metadata": {},
   "outputs": [
    {
     "data": {
      "text/html": [
       "<div>\n",
       "<style scoped>\n",
       "    .dataframe tbody tr th:only-of-type {\n",
       "        vertical-align: middle;\n",
       "    }\n",
       "\n",
       "    .dataframe tbody tr th {\n",
       "        vertical-align: top;\n",
       "    }\n",
       "\n",
       "    .dataframe thead th {\n",
       "        text-align: right;\n",
       "    }\n",
       "</style>\n",
       "<table border=\"1\" class=\"dataframe\">\n",
       "  <thead>\n",
       "    <tr style=\"text-align: right;\">\n",
       "      <th></th>\n",
       "      <th>FAERS_drug_match_indi</th>\n",
       "      <th>lookup_rank_related</th>\n",
       "      <th>reciprocal_rank</th>\n",
       "    </tr>\n",
       "  </thead>\n",
       "  <tbody>\n",
       "    <tr>\n",
       "      <th>0</th>\n",
       "      <td>FLAXSEED OIL [LINUM USITATISSIMUM OIL] PROPHYL...</td>\n",
       "      <td>1.0</td>\n",
       "      <td>1.0</td>\n",
       "    </tr>\n",
       "    <tr>\n",
       "      <th>1</th>\n",
       "      <td>CHORDYCEPS</td>\n",
       "      <td>1.0</td>\n",
       "      <td>1.0</td>\n",
       "    </tr>\n",
       "    <tr>\n",
       "      <th>2</th>\n",
       "      <td>CRANBERRY PLUS [JUNIPERUS COMMUNIS;VACCINIUM M...</td>\n",
       "      <td>1.0</td>\n",
       "      <td>1.0</td>\n",
       "    </tr>\n",
       "    <tr>\n",
       "      <th>3</th>\n",
       "      <td>GREEN TEA 150MG</td>\n",
       "      <td>1.0</td>\n",
       "      <td>1.0</td>\n",
       "    </tr>\n",
       "    <tr>\n",
       "      <th>4</th>\n",
       "      <td>ODOR FREE GARLIC?X</td>\n",
       "      <td>1.0</td>\n",
       "      <td>1.0</td>\n",
       "    </tr>\n",
       "  </tbody>\n",
       "</table>\n",
       "</div>"
      ],
      "text/plain": [
       "                               FAERS_drug_match_indi  lookup_rank_related  \\\n",
       "0  FLAXSEED OIL [LINUM USITATISSIMUM OIL] PROPHYL...                  1.0   \n",
       "1                                        CHORDYCEPS                   1.0   \n",
       "2  CRANBERRY PLUS [JUNIPERUS COMMUNIS;VACCINIUM M...                  1.0   \n",
       "3                                   GREEN TEA 150MG                   1.0   \n",
       "4                                ODOR FREE GARLIC?X                   1.0   \n",
       "\n",
       "   reciprocal_rank  \n",
       "0              1.0  \n",
       "1              1.0  \n",
       "2              1.0  \n",
       "3              1.0  \n",
       "4              1.0  "
      ]
     },
     "execution_count": 82,
     "metadata": {},
     "output_type": "execute_result"
    }
   ],
   "source": [
    "rel_reciprocal = 1/test_mrr_rel['lookup_rank_related']\n",
    "test_mrr_rel['reciprocal_rank'] = rel_reciprocal\n",
    "test_mrr_rel.head()"
   ]
  },
  {
   "cell_type": "code",
   "execution_count": 83,
   "metadata": {},
   "outputs": [
    {
     "data": {
      "text/plain": [
       "0.9054122089364379"
      ]
     },
     "execution_count": 83,
     "metadata": {},
     "output_type": "execute_result"
    }
   ],
   "source": [
    "test_mrr_rel.reciprocal_rank.mean()"
   ]
  },
  {
   "cell_type": "code",
   "execution_count": 84,
   "metadata": {},
   "outputs": [
    {
     "data": {
      "text/plain": [
       "1.0"
      ]
     },
     "execution_count": 84,
     "metadata": {},
     "output_type": "execute_result"
    }
   ],
   "source": [
    "test_mrr_rel.reciprocal_rank.median()"
   ]
  },
  {
   "cell_type": "code",
   "execution_count": 85,
   "metadata": {},
   "outputs": [
    {
     "data": {
      "text/plain": [
       "0.20205460446171805"
      ]
     },
     "execution_count": 85,
     "metadata": {},
     "output_type": "execute_result"
    }
   ],
   "source": [
    "test_mrr_rel.reciprocal_rank.std()"
   ]
  },
  {
   "cell_type": "code",
   "execution_count": null,
   "metadata": {},
   "outputs": [],
   "source": []
  },
  {
   "cell_type": "code",
   "execution_count": null,
   "metadata": {},
   "outputs": [],
   "source": []
  },
  {
   "cell_type": "markdown",
   "metadata": {},
   "source": [
    "### Scratch code blocks below"
   ]
  },
  {
   "cell_type": "code",
   "execution_count": 43,
   "metadata": {},
   "outputs": [
    {
     "data": {
      "text/plain": [
       "<keras.engine.input_layer.InputLayer at 0x7f7183cbd400>"
      ]
     },
     "execution_count": 43,
     "metadata": {},
     "output_type": "execute_result"
    }
   ],
   "source": [
    "siamese_model.layers[0]"
   ]
  },
  {
   "cell_type": "code",
   "execution_count": 74,
   "metadata": {},
   "outputs": [],
   "source": [
    "##try to get embedding weights - this gives from original model not trained (I think)\n",
    "embeddings_weights = embedding.get_weights()[0]"
   ]
  },
  {
   "cell_type": "code",
   "execution_count": 48,
   "metadata": {},
   "outputs": [
    {
     "name": "stdout",
     "output_type": "stream",
     "text": [
      "<keras.engine.input_layer.InputLayer object at 0x7f7183cbd400>\n",
      "<keras.engine.input_layer.InputLayer object at 0x7f7183cbd1c0>\n",
      "<keras.engine.functional.Functional object at 0x7f7183cbd9a0>\n",
      "<keras.layers.core.lambda_layer.Lambda object at 0x7f7183cbdaf0>\n",
      "<keras.layers.core.dense.Dense object at 0x7f7170406730>\n"
     ]
    }
   ],
   "source": [
    "for layer in siamese_model.layers:\n",
    "    print(layer)"
   ]
  },
  {
   "cell_type": "code",
   "execution_count": null,
   "metadata": {},
   "outputs": [],
   "source": []
  }
 ],
 "metadata": {
  "colab": {
   "collapsed_sections": [
    "n4hQ4x-G30K3"
   ],
   "name": "bmi_project_for_team.ipynb",
   "provenance": [],
   "toc_visible": true
  },
  "kernelspec": {
   "display_name": "Python 3 (ipykernel)",
   "language": "python",
   "name": "python3"
  },
  "language_info": {
   "codemirror_mode": {
    "name": "ipython",
    "version": 3
   },
   "file_extension": ".py",
   "mimetype": "text/x-python",
   "name": "python",
   "nbconvert_exporter": "python",
   "pygments_lexer": "ipython3",
   "version": "3.8.0"
  }
 },
 "nbformat": 4,
 "nbformat_minor": 4
}
