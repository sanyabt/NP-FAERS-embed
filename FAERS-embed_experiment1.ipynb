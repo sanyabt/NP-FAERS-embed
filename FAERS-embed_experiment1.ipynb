{
 "cells": [
  {
   "cell_type": "code",
   "execution_count": null,
   "metadata": {},
   "outputs": [],
   "source": [
    "# # uncomment and run to install any required modules from requirements.txt\n",
    "# import sys\n",
    "# !{sys.executable} -m pip install -r requirements.txt"
   ]
  },
  {
   "cell_type": "markdown",
   "metadata": {},
   "source": [
    "# NP-FAERS model train and test\n",
    "This notebook uses the natural products annotation corpus to train and test a Siamese recurrent network that maps strings in FAERS to standardized natural product names."
   ]
  },
  {
   "cell_type": "markdown",
   "metadata": {
    "id": "1_cRcHZj3voR"
   },
   "source": [
    "# Load data"
   ]
  },
  {
   "cell_type": "code",
   "execution_count": 1,
   "metadata": {
    "id": "F57wsYMU2IGZ"
   },
   "outputs": [],
   "source": [
    "import numpy as np\n",
    "import pandas as pd\n",
    "import pickle\n",
    "import matplotlib.pyplot as plt\n",
    "import seaborn as sns\n",
    "from IPython.display import display, clear_output\n",
    "import re"
   ]
  },
  {
   "cell_type": "markdown",
   "metadata": {},
   "source": [
    "## Preprocess Data\n",
    "\n",
    "1. Remove digits and punctuation\n",
    "2. Upper case\n",
    "3. Mutating strings (not in this version)"
   ]
  },
  {
   "cell_type": "code",
   "execution_count": 2,
   "metadata": {},
   "outputs": [
    {
     "name": "stdout",
     "output_type": "stream",
     "text": [
      "<class 'pandas.core.frame.DataFrame'>\n",
      "RangeIndex: 5358 entries, 0 to 5357\n",
      "Data columns (total 2 columns):\n",
      " #   Column            Non-Null Count  Dtype \n",
      "---  ------            --------------  ----- \n",
      " 0   FAERS_drug_match  5358 non-null   object\n",
      " 1   lookup_value      5358 non-null   object\n",
      "dtypes: object(2)\n",
      "memory usage: 83.8+ KB\n"
     ]
    }
   ],
   "source": [
    "#if starting from preprocess, load the drugs directly\n",
    "df = pd.read_csv('data/NP_FAERS_mapped_20220215.csv')\n",
    "df.info()"
   ]
  },
  {
   "cell_type": "code",
   "execution_count": 3,
   "metadata": {},
   "outputs": [
    {
     "data": {
      "text/html": [
       "<div>\n",
       "<style scoped>\n",
       "    .dataframe tbody tr th:only-of-type {\n",
       "        vertical-align: middle;\n",
       "    }\n",
       "\n",
       "    .dataframe tbody tr th {\n",
       "        vertical-align: top;\n",
       "    }\n",
       "\n",
       "    .dataframe thead th {\n",
       "        text-align: right;\n",
       "    }\n",
       "</style>\n",
       "<table border=\"1\" class=\"dataframe\">\n",
       "  <thead>\n",
       "    <tr style=\"text-align: right;\">\n",
       "      <th></th>\n",
       "      <th>FAERS_drug_match</th>\n",
       "      <th>lookup_value</th>\n",
       "    </tr>\n",
       "  </thead>\n",
       "  <tbody>\n",
       "  </tbody>\n",
       "</table>\n",
       "</div>"
      ],
      "text/plain": [
       "Empty DataFrame\n",
       "Columns: [FAERS_drug_match, lookup_value]\n",
       "Index: []"
      ]
     },
     "execution_count": 3,
     "metadata": {},
     "output_type": "execute_result"
    }
   ],
   "source": [
    "df.loc[df['FAERS_drug_match'].isna()]"
   ]
  },
  {
   "cell_type": "code",
   "execution_count": 4,
   "metadata": {},
   "outputs": [],
   "source": [
    "#make all casing upper\n",
    "df['FAERS_drug_match'] = df['FAERS_drug_match'].str.upper()\n",
    "df['lookup_value'] = df['lookup_value'].str.upper()"
   ]
  },
  {
   "cell_type": "code",
   "execution_count": 5,
   "metadata": {},
   "outputs": [
    {
     "data": {
      "text/html": [
       "<div>\n",
       "<style scoped>\n",
       "    .dataframe tbody tr th:only-of-type {\n",
       "        vertical-align: middle;\n",
       "    }\n",
       "\n",
       "    .dataframe tbody tr th {\n",
       "        vertical-align: top;\n",
       "    }\n",
       "\n",
       "    .dataframe thead th {\n",
       "        text-align: right;\n",
       "    }\n",
       "</style>\n",
       "<table border=\"1\" class=\"dataframe\">\n",
       "  <thead>\n",
       "    <tr style=\"text-align: right;\">\n",
       "      <th></th>\n",
       "      <th>FAERS_drug_match</th>\n",
       "      <th>lookup_value</th>\n",
       "    </tr>\n",
       "  </thead>\n",
       "  <tbody>\n",
       "    <tr>\n",
       "      <th>0</th>\n",
       "      <td>ADRENAL HEALTH (BRAND) = (SIBERIAN RHODIOLA, R...</td>\n",
       "      <td>ASHWAGANDA</td>\n",
       "    </tr>\n",
       "    <tr>\n",
       "      <th>1</th>\n",
       "      <td>ASHWAGANDHA</td>\n",
       "      <td>ASHWAGANDA</td>\n",
       "    </tr>\n",
       "    <tr>\n",
       "      <th>2</th>\n",
       "      <td>ASHWAGANDHA,</td>\n",
       "      <td>ASHWAGANDA</td>\n",
       "    </tr>\n",
       "    <tr>\n",
       "      <th>3</th>\n",
       "      <td>ASHWAGANDHA                        /01660201/</td>\n",
       "      <td>ASHWAGANDA</td>\n",
       "    </tr>\n",
       "    <tr>\n",
       "      <th>4</th>\n",
       "      <td>ASHWAGANDHA /01660201/</td>\n",
       "      <td>ASHWAGANDA</td>\n",
       "    </tr>\n",
       "  </tbody>\n",
       "</table>\n",
       "</div>"
      ],
      "text/plain": [
       "                                    FAERS_drug_match lookup_value\n",
       "0  ADRENAL HEALTH (BRAND) = (SIBERIAN RHODIOLA, R...   ASHWAGANDA\n",
       "1                                        ASHWAGANDHA   ASHWAGANDA\n",
       "2                                       ASHWAGANDHA,   ASHWAGANDA\n",
       "3      ASHWAGANDHA                        /01660201/   ASHWAGANDA\n",
       "4                             ASHWAGANDHA /01660201/   ASHWAGANDA"
      ]
     },
     "execution_count": 5,
     "metadata": {},
     "output_type": "execute_result"
    }
   ],
   "source": [
    "df.head()"
   ]
  },
  {
   "cell_type": "code",
   "execution_count": 6,
   "metadata": {},
   "outputs": [
    {
     "data": {
      "text/plain": [
       "(126,)"
      ]
     },
     "execution_count": 6,
     "metadata": {},
     "output_type": "execute_result"
    }
   ],
   "source": [
    "df.lookup_value.unique().shape"
   ]
  },
  {
   "cell_type": "markdown",
   "metadata": {
    "id": "XcwyIySOVWhE"
   },
   "source": [
    "# RNN character-based encoder - Siamese Network\n",
    "\n",
    "## Experiments\n",
    "1. Unique natural product strings \n",
    "2. Unique natural product string and exact matches from lookup values\n",
    "3. Unique natural product strings with indications\n",
    "4. Mutations?\n",
    "\n",
    "### Set up positive pairs and negative pairs  \n",
    "  - positive pairs coded 'yes' in annotation corpus\n",
    "  - negative pairs coded 'no' in annotation corpus"
   ]
  },
  {
   "cell_type": "code",
   "execution_count": 2,
   "metadata": {},
   "outputs": [],
   "source": [
    "import tensorflow as tf\n",
    "import string\n",
    "import random\n",
    "from sklearn.utils import shuffle\n",
    "from sklearn.model_selection import train_test_split"
   ]
  },
  {
   "cell_type": "markdown",
   "metadata": {
    "id": "vjuG5RMrVx-A"
   },
   "source": [
    "## Functions to process data"
   ]
  },
  {
   "cell_type": "code",
   "execution_count": 3,
   "metadata": {},
   "outputs": [],
   "source": [
    "# how i add noise \n",
    "# string w \n",
    "# proportion of noise added \n",
    "# uniform random from [0,1]\n",
    "# if <1/3 edit one position with new random character, else if <2/3 delete one position, else add one random character \n",
    "def add_noise(w, percent):\n",
    "  ''' edit, del, add'''\n",
    "  positions = random.choices(range(len(w)), k=int(percent*len(w)))\n",
    "  for p in positions:\n",
    "    r = random.random()\n",
    "    if r <= 0.3333: # edit\n",
    "      w = w[:p] + random.choice(string.ascii_uppercase) + w[p+1:]\n",
    "    elif r<= 0.6667: # delete\n",
    "      w = w[:p] + w[p+1:]\n",
    "    elif r<=1: # add\n",
    "      w = w[:p] + random.choice(string.ascii_uppercase) + w[p:]\n",
    "  return w\n",
    "\n",
    "def clean(text):\n",
    "    #remove all non-ascii, special characters and keep alphabets and space only. Can also use isalpha()\n",
    "    #convert to uppercase\n",
    "    #remove extra spaces\n",
    "    regex = re.compile('[^a-zA-Z ]')\n",
    "    r = regex.sub('', text)\n",
    "    result = re.sub(' +', ' ', r)\n",
    "    result = result.strip()\n",
    "    return result.upper()"
   ]
  },
  {
   "cell_type": "code",
   "execution_count": 4,
   "metadata": {
    "id": "F50Y3uz-Foo0"
   },
   "outputs": [],
   "source": [
    "def clean_dataset(data):\n",
    "  x = []\n",
    "  y = []\n",
    "  for i in range(data.shape[0]):\n",
    "    w = clean(data.FAERS_drug_match.iloc[i])\n",
    "    v = clean(data.lookup_value.iloc[i])\n",
    "    x.append(w)\n",
    "    y.append(v)\n",
    "  return x,y\n",
    "\n",
    "def encode_dataset(x,y):\n",
    "  encode_dict = {l:i+1 for i,l in enumerate(string.ascii_uppercase + \" \")}\n",
    "  Xtrain = [[encode_dict[m] for m in n] for n in x]\n",
    "  Ytrain = [[encode_dict[m] for m in n] for n in y]\n",
    "  return Xtrain, Ytrain\n",
    "\n",
    "def clean_encode_padding(q, maxlen):\n",
    "  q = clean(q)\n",
    "  encode_dict = {l:i+1 for i,l in enumerate(string.ascii_uppercase + \" \")}\n",
    "  return tf.keras.preprocessing.sequence.pad_sequences(\n",
    "    [encode_dict[m] for m in q] , padding=\"post\", maxlen=maxlen)\n",
    "\n",
    "def padding_dataset(X,Y,maxlen):\n",
    "  padded_y = tf.keras.preprocessing.sequence.pad_sequences(\n",
    "    Y, padding=\"post\", maxlen=maxlen)\n",
    "  padded_x = tf.keras.preprocessing.sequence.pad_sequences(\n",
    "      X, padding=\"post\", maxlen=maxlen)\n",
    "  return padded_x, padded_y\n"
   ]
  },
  {
   "cell_type": "code",
   "execution_count": 5,
   "metadata": {},
   "outputs": [],
   "source": [
    "def model_predict(model, query, drugnames,maxlen):\n",
    "  predictions = model.predict([clean_encode_padding(query,maxlen), drugnames])\n",
    "  return [p[0] for p in predictions]"
   ]
  },
  {
   "cell_type": "code",
   "execution_count": 6,
   "metadata": {},
   "outputs": [],
   "source": [
    "def cosine_distance(vects):\n",
    "    x, y = vects\n",
    "    return 1-tf.reduce_sum(tf.multiply(x,y),axis=1, keepdims=True)/(tf.norm(x,axis=1,keepdims=True)*tf.norm(y,axis=1,keepdims=True))\n",
    "\n",
    "def loss(margin=1):\n",
    "    def contrastive_loss(y_true, y_pred):\n",
    "        square_pred = tf.math.square(y_pred)\n",
    "        margin_square = tf.math.square(tf.math.maximum(margin - (y_pred), 0))\n",
    "        return tf.math.reduce_mean(\n",
    "            (1 - y_true) * square_pred + (y_true) * margin_square\n",
    "        )\n",
    "\n",
    "    return contrastive_loss"
   ]
  },
  {
   "cell_type": "code",
   "execution_count": 7,
   "metadata": {},
   "outputs": [],
   "source": [
    "def plt_metric(history, metric, title, has_valid=True):\n",
    "    \"\"\"Plots the given 'metric' from 'history'.\n",
    "\n",
    "    Arguments:\n",
    "        history: history attribute of History object returned from Model.fit.\n",
    "        metric: Metric to plot, a string value present as key in 'history'.\n",
    "        title: A string to be used as title of plot.\n",
    "        has_valid: Boolean, true if valid data was passed to Model.fit else false.\n",
    "\n",
    "    Returns:\n",
    "        None.\n",
    "    \"\"\"\n",
    "    plt.plot(history[metric])\n",
    "    if has_valid:\n",
    "        plt.plot(history[\"val_\" + metric])\n",
    "        plt.legend([\"train\", \"validation\"], loc=\"upper left\")\n",
    "    plt.title(title)\n",
    "    plt.ylabel(metric)\n",
    "    plt.xlabel(\"epoch\")\n",
    "    plt.show()\n"
   ]
  },
  {
   "cell_type": "code",
   "execution_count": null,
   "metadata": {},
   "outputs": [],
   "source": []
  },
  {
   "cell_type": "code",
   "execution_count": null,
   "metadata": {},
   "outputs": [],
   "source": []
  },
  {
   "cell_type": "code",
   "execution_count": null,
   "metadata": {},
   "outputs": [],
   "source": []
  },
  {
   "cell_type": "markdown",
   "metadata": {},
   "source": [
    "## Experiment 1"
   ]
  },
  {
   "cell_type": "code",
   "execution_count": 13,
   "metadata": {},
   "outputs": [],
   "source": [
    "train, test = train_test_split(df, test_size=0.20, random_state=42)"
   ]
  },
  {
   "cell_type": "code",
   "execution_count": 14,
   "metadata": {},
   "outputs": [
    {
     "data": {
      "text/plain": [
       "(4286, 2)"
      ]
     },
     "execution_count": 14,
     "metadata": {},
     "output_type": "execute_result"
    }
   ],
   "source": [
    "train.shape"
   ]
  },
  {
   "cell_type": "code",
   "execution_count": 15,
   "metadata": {},
   "outputs": [
    {
     "data": {
      "text/plain": [
       "(1072, 2)"
      ]
     },
     "execution_count": 15,
     "metadata": {},
     "output_type": "execute_result"
    }
   ],
   "source": [
    "test.shape"
   ]
  },
  {
   "cell_type": "code",
   "execution_count": 16,
   "metadata": {},
   "outputs": [],
   "source": [
    "#padding length = maxlen\n",
    "maxlen = 60"
   ]
  },
  {
   "cell_type": "code",
   "execution_count": 17,
   "metadata": {
    "id": "_BERqTAvuDD0"
   },
   "outputs": [],
   "source": [
    "xtest, ytest = clean_dataset(test)\n",
    "Xtest, Ytest = encode_dataset(xtest,ytest)\n",
    "padded_xTest, padded_yTest = padding_dataset(Xtest,Ytest,maxlen)"
   ]
  },
  {
   "cell_type": "code",
   "execution_count": 18,
   "metadata": {
    "colab": {
     "base_uri": "https://localhost:8080/"
    },
    "id": "zK7ltkhGudRw",
    "outputId": "7ee378b9-809f-4fa8-9095-40e3e9863c17"
   },
   "outputs": [
    {
     "data": {
      "text/plain": [
       "(1072, 60)"
      ]
     },
     "execution_count": 18,
     "metadata": {},
     "output_type": "execute_result"
    }
   ],
   "source": [
    "padded_xTest.shape"
   ]
  },
  {
   "cell_type": "code",
   "execution_count": 19,
   "metadata": {},
   "outputs": [],
   "source": [
    "#without noise (Experiment 1)\n",
    "x, y = clean_dataset(train)"
   ]
  },
  {
   "cell_type": "code",
   "execution_count": 20,
   "metadata": {},
   "outputs": [
    {
     "data": {
      "text/plain": [
       "4286"
      ]
     },
     "execution_count": 20,
     "metadata": {},
     "output_type": "execute_result"
    }
   ],
   "source": [
    "len(y)"
   ]
  },
  {
   "cell_type": "code",
   "execution_count": 21,
   "metadata": {
    "id": "J5xe73atmHh9"
   },
   "outputs": [],
   "source": [
    "encode_dict = {l:i+1 for i,l in enumerate(string.ascii_uppercase + \" \")}"
   ]
  },
  {
   "cell_type": "code",
   "execution_count": 22,
   "metadata": {
    "id": "CccvDAPMmfy_"
   },
   "outputs": [],
   "source": [
    "Xtrain = [[encode_dict[m] for m in n] for n in x]\n",
    "Ytrain = [[encode_dict[m] for m in n] for n in y]"
   ]
  },
  {
   "cell_type": "code",
   "execution_count": 23,
   "metadata": {},
   "outputs": [
    {
     "name": "stdout",
     "output_type": "stream",
     "text": [
      "4286\n",
      "4286\n"
     ]
    },
    {
     "name": "stderr",
     "output_type": "stream",
     "text": [
      "/home/sanya/.conda/envs/faers-embed/lib/python3.8/site-packages/numpy/lib/arraysetops.py:270: VisibleDeprecationWarning: Creating an ndarray from ragged nested sequences (which is a list-or-tuple of lists-or-tuples-or ndarrays with different lengths or shapes) is deprecated. If you meant to do this, you must specify 'dtype=object' when creating the ndarray.\n",
      "  ar = np.asanyarray(ar)\n"
     ]
    },
    {
     "data": {
      "text/plain": [
       "(125,)"
      ]
     },
     "execution_count": 23,
     "metadata": {},
     "output_type": "execute_result"
    }
   ],
   "source": [
    "print(len(Xtrain))\n",
    "print(len(Ytrain))\n",
    "np.unique(Ytrain).shape"
   ]
  },
  {
   "cell_type": "code",
   "execution_count": 24,
   "metadata": {
    "colab": {
     "base_uri": "https://localhost:8080/"
    },
    "id": "LIFksoPYnedl",
    "outputId": "429207d8-ca85-4efb-fce2-d76955b83ea7"
   },
   "outputs": [
    {
     "name": "stdout",
     "output_type": "stream",
     "text": [
      "[[19  5 18 ...  0  0  0]\n",
      " [15 16  8 ...  0  0  0]\n",
      " [ 3  9 14 ...  0  0  0]\n",
      " ...\n",
      " [ 1 12 12 ...  0  0  0]\n",
      " [ 1 12 12 ...  0  0  0]\n",
      " [ 8  5 13 ...  0  0  0]]\n"
     ]
    }
   ],
   "source": [
    "padded_y = tf.keras.preprocessing.sequence.pad_sequences(\n",
    "    Ytrain, padding=\"post\", maxlen=maxlen\n",
    ")\n",
    "padded_x = tf.keras.preprocessing.sequence.pad_sequences(\n",
    "    Xtrain, padding=\"post\", maxlen=maxlen\n",
    ")\n",
    "\n",
    "print(padded_y)"
   ]
  },
  {
   "cell_type": "code",
   "execution_count": 25,
   "metadata": {
    "colab": {
     "base_uri": "https://localhost:8080/"
    },
    "id": "yze_g-sdwMmQ",
    "outputId": "6bfa8246-414f-405f-849f-32cd25a5a270"
   },
   "outputs": [
    {
     "data": {
      "text/plain": [
       "27"
      ]
     },
     "execution_count": 25,
     "metadata": {},
     "output_type": "execute_result"
    }
   ],
   "source": [
    "len(encode_dict)"
   ]
  },
  {
   "cell_type": "code",
   "execution_count": 26,
   "metadata": {},
   "outputs": [
    {
     "data": {
      "text/html": [
       "<div>\n",
       "<style scoped>\n",
       "    .dataframe tbody tr th:only-of-type {\n",
       "        vertical-align: middle;\n",
       "    }\n",
       "\n",
       "    .dataframe tbody tr th {\n",
       "        vertical-align: top;\n",
       "    }\n",
       "\n",
       "    .dataframe thead th {\n",
       "        text-align: right;\n",
       "    }\n",
       "</style>\n",
       "<table border=\"1\" class=\"dataframe\">\n",
       "  <thead>\n",
       "    <tr style=\"text-align: right;\">\n",
       "      <th></th>\n",
       "      <th>dUnique_label</th>\n",
       "      <th>dUnique_seq</th>\n",
       "      <th>dUnique_seq_padded</th>\n",
       "    </tr>\n",
       "  </thead>\n",
       "  <tbody>\n",
       "    <tr>\n",
       "      <th>0</th>\n",
       "      <td>ACTAEA RACEMOSA</td>\n",
       "      <td>NaN</td>\n",
       "      <td>NaN</td>\n",
       "    </tr>\n",
       "    <tr>\n",
       "      <th>1</th>\n",
       "      <td>AESCULUS HIPPOCASTANUM</td>\n",
       "      <td>NaN</td>\n",
       "      <td>NaN</td>\n",
       "    </tr>\n",
       "    <tr>\n",
       "      <th>2</th>\n",
       "      <td>ALLIUM SATIVUM</td>\n",
       "      <td>NaN</td>\n",
       "      <td>NaN</td>\n",
       "    </tr>\n",
       "    <tr>\n",
       "      <th>3</th>\n",
       "      <td>ALOE VERA</td>\n",
       "      <td>NaN</td>\n",
       "      <td>NaN</td>\n",
       "    </tr>\n",
       "    <tr>\n",
       "      <th>4</th>\n",
       "      <td>ANGELICA SINENSIS</td>\n",
       "      <td>NaN</td>\n",
       "      <td>NaN</td>\n",
       "    </tr>\n",
       "  </tbody>\n",
       "</table>\n",
       "</div>"
      ],
      "text/plain": [
       "            dUnique_label dUnique_seq dUnique_seq_padded\n",
       "0         ACTAEA RACEMOSA         NaN                NaN\n",
       "1  AESCULUS HIPPOCASTANUM         NaN                NaN\n",
       "2          ALLIUM SATIVUM         NaN                NaN\n",
       "3               ALOE VERA         NaN                NaN\n",
       "4       ANGELICA SINENSIS         NaN                NaN"
      ]
     },
     "execution_count": 26,
     "metadata": {},
     "output_type": "execute_result"
    }
   ],
   "source": [
    "dUnique_df = pd.DataFrame(columns = ['dUnique_label','dUnique_seq', 'dUnique_seq_padded'])\n",
    "dUnique_df['dUnique_label'] = np.unique(y)\n",
    "dUnique_df.head()"
   ]
  },
  {
   "cell_type": "code",
   "execution_count": 27,
   "metadata": {},
   "outputs": [
    {
     "data": {
      "text/plain": [
       "125"
      ]
     },
     "execution_count": 27,
     "metadata": {},
     "output_type": "execute_result"
    }
   ],
   "source": [
    "dUnique_seq_list = [[encode_dict[m] for m in n] for n in dUnique_df['dUnique_label'].tolist()]\n",
    "len(dUnique_seq_list)"
   ]
  },
  {
   "cell_type": "code",
   "execution_count": 28,
   "metadata": {},
   "outputs": [
    {
     "data": {
      "text/html": [
       "<div>\n",
       "<style scoped>\n",
       "    .dataframe tbody tr th:only-of-type {\n",
       "        vertical-align: middle;\n",
       "    }\n",
       "\n",
       "    .dataframe tbody tr th {\n",
       "        vertical-align: top;\n",
       "    }\n",
       "\n",
       "    .dataframe thead th {\n",
       "        text-align: right;\n",
       "    }\n",
       "</style>\n",
       "<table border=\"1\" class=\"dataframe\">\n",
       "  <thead>\n",
       "    <tr style=\"text-align: right;\">\n",
       "      <th></th>\n",
       "      <th>dUnique_label</th>\n",
       "      <th>dUnique_seq</th>\n",
       "      <th>dUnique_seq_padded</th>\n",
       "    </tr>\n",
       "  </thead>\n",
       "  <tbody>\n",
       "    <tr>\n",
       "      <th>0</th>\n",
       "      <td>ACTAEA RACEMOSA</td>\n",
       "      <td>[1, 3, 20, 1, 5, 1, 27, 18, 1, 3, 5, 13, 15, 1...</td>\n",
       "      <td>NaN</td>\n",
       "    </tr>\n",
       "    <tr>\n",
       "      <th>1</th>\n",
       "      <td>AESCULUS HIPPOCASTANUM</td>\n",
       "      <td>[1, 5, 19, 3, 21, 12, 21, 19, 27, 8, 9, 16, 16...</td>\n",
       "      <td>NaN</td>\n",
       "    </tr>\n",
       "    <tr>\n",
       "      <th>2</th>\n",
       "      <td>ALLIUM SATIVUM</td>\n",
       "      <td>[1, 12, 12, 9, 21, 13, 27, 19, 1, 20, 9, 22, 2...</td>\n",
       "      <td>NaN</td>\n",
       "    </tr>\n",
       "    <tr>\n",
       "      <th>3</th>\n",
       "      <td>ALOE VERA</td>\n",
       "      <td>[1, 12, 15, 5, 27, 22, 5, 18, 1]</td>\n",
       "      <td>NaN</td>\n",
       "    </tr>\n",
       "    <tr>\n",
       "      <th>4</th>\n",
       "      <td>ANGELICA SINENSIS</td>\n",
       "      <td>[1, 14, 7, 5, 12, 9, 3, 1, 27, 19, 9, 14, 5, 1...</td>\n",
       "      <td>NaN</td>\n",
       "    </tr>\n",
       "  </tbody>\n",
       "</table>\n",
       "</div>"
      ],
      "text/plain": [
       "            dUnique_label                                        dUnique_seq  \\\n",
       "0         ACTAEA RACEMOSA  [1, 3, 20, 1, 5, 1, 27, 18, 1, 3, 5, 13, 15, 1...   \n",
       "1  AESCULUS HIPPOCASTANUM  [1, 5, 19, 3, 21, 12, 21, 19, 27, 8, 9, 16, 16...   \n",
       "2          ALLIUM SATIVUM  [1, 12, 12, 9, 21, 13, 27, 19, 1, 20, 9, 22, 2...   \n",
       "3               ALOE VERA                   [1, 12, 15, 5, 27, 22, 5, 18, 1]   \n",
       "4       ANGELICA SINENSIS  [1, 14, 7, 5, 12, 9, 3, 1, 27, 19, 9, 14, 5, 1...   \n",
       "\n",
       "  dUnique_seq_padded  \n",
       "0                NaN  \n",
       "1                NaN  \n",
       "2                NaN  \n",
       "3                NaN  \n",
       "4                NaN  "
      ]
     },
     "execution_count": 28,
     "metadata": {},
     "output_type": "execute_result"
    }
   ],
   "source": [
    "for i in range(len(dUnique_df.index)):\n",
    "    dUnique_df.at[i, 'dUnique_seq'] = np.array(dUnique_seq_list[i])\n",
    "dUnique_df.head()"
   ]
  },
  {
   "cell_type": "code",
   "execution_count": 29,
   "metadata": {
    "colab": {
     "base_uri": "https://localhost:8080/"
    },
    "id": "fK6PmQSH0nU0",
    "outputId": "ec68b153-a655-4406-f675-e723816cc09e"
   },
   "outputs": [
    {
     "name": "stdout",
     "output_type": "stream",
     "text": [
      "<class 'pandas.core.frame.DataFrame'>\n",
      "RangeIndex: 9242 entries, 0 to 9241\n",
      "Data columns (total 2 columns):\n",
      " #   Column            Non-Null Count  Dtype \n",
      "---  ------            --------------  ----- \n",
      " 0   FAERS_drug_match  9242 non-null   object\n",
      " 1   lookup_value      9242 non-null   object\n",
      "dtypes: object(2)\n",
      "memory usage: 144.5+ KB\n"
     ]
    }
   ],
   "source": [
    "#setup negative pairs\n",
    "dfneg = pd.read_csv('data/NP_FAERS_negative_pairs_20220215.csv')\n",
    "dfneg.info()"
   ]
  },
  {
   "cell_type": "code",
   "execution_count": 30,
   "metadata": {},
   "outputs": [],
   "source": [
    "#encode negative pairs and add padding\n",
    "xneg, yneg = clean_dataset(dfneg)\n",
    "Xneg, Yneg = encode_dataset(xneg,yneg)\n",
    "padded_xneg, padded_yneg = padding_dataset(Xneg,Yneg,maxlen)"
   ]
  },
  {
   "cell_type": "code",
   "execution_count": 31,
   "metadata": {},
   "outputs": [
    {
     "name": "stdout",
     "output_type": "stream",
     "text": [
      "4286 4286 4286\n"
     ]
    }
   ],
   "source": [
    "x1TrainRNN = []\n",
    "x2TrainRNN = []\n",
    "yTrainRNN = []\n",
    "for i in range(len(padded_x)):\n",
    "    yTrainRNN.append(1)\n",
    "    x1TrainRNN.append(padded_x[i])\n",
    "    x2TrainRNN.append(padded_y[i])\n",
    "\n",
    "print(len(x1TrainRNN), len(x2TrainRNN), len(yTrainRNN))    "
   ]
  },
  {
   "cell_type": "code",
   "execution_count": 32,
   "metadata": {},
   "outputs": [
    {
     "name": "stdout",
     "output_type": "stream",
     "text": [
      "13528 13528 13528\n"
     ]
    }
   ],
   "source": [
    "##for each class get positive and negative pairs\n",
    "for j in range(len(padded_xneg)):\n",
    "    yTrainRNN.append(0)\n",
    "    x1TrainRNN.append(padded_xneg[j])\n",
    "    x2TrainRNN.append(padded_yneg[j])\n",
    "print(len(x1TrainRNN), len(x2TrainRNN), len(yTrainRNN))"
   ]
  },
  {
   "cell_type": "code",
   "execution_count": 33,
   "metadata": {},
   "outputs": [
    {
     "data": {
      "text/html": [
       "<div>\n",
       "<style scoped>\n",
       "    .dataframe tbody tr th:only-of-type {\n",
       "        vertical-align: middle;\n",
       "    }\n",
       "\n",
       "    .dataframe tbody tr th {\n",
       "        vertical-align: top;\n",
       "    }\n",
       "\n",
       "    .dataframe thead th {\n",
       "        text-align: right;\n",
       "    }\n",
       "</style>\n",
       "<table border=\"1\" class=\"dataframe\">\n",
       "  <thead>\n",
       "    <tr style=\"text-align: right;\">\n",
       "      <th></th>\n",
       "      <th>dUnique_label</th>\n",
       "      <th>dUnique_seq</th>\n",
       "      <th>dUnique_seq_padded</th>\n",
       "    </tr>\n",
       "  </thead>\n",
       "  <tbody>\n",
       "    <tr>\n",
       "      <th>0</th>\n",
       "      <td>ACTAEA RACEMOSA</td>\n",
       "      <td>[1, 3, 20, 1, 5, 1, 27, 18, 1, 3, 5, 13, 15, 1...</td>\n",
       "      <td>[1, 3, 20, 1, 5, 1, 27, 18, 1, 3, 5, 13, 15, 1...</td>\n",
       "    </tr>\n",
       "    <tr>\n",
       "      <th>1</th>\n",
       "      <td>AESCULUS HIPPOCASTANUM</td>\n",
       "      <td>[1, 5, 19, 3, 21, 12, 21, 19, 27, 8, 9, 16, 16...</td>\n",
       "      <td>[1, 5, 19, 3, 21, 12, 21, 19, 27, 8, 9, 16, 16...</td>\n",
       "    </tr>\n",
       "    <tr>\n",
       "      <th>2</th>\n",
       "      <td>ALLIUM SATIVUM</td>\n",
       "      <td>[1, 12, 12, 9, 21, 13, 27, 19, 1, 20, 9, 22, 2...</td>\n",
       "      <td>[1, 12, 12, 9, 21, 13, 27, 19, 1, 20, 9, 22, 2...</td>\n",
       "    </tr>\n",
       "    <tr>\n",
       "      <th>3</th>\n",
       "      <td>ALOE VERA</td>\n",
       "      <td>[1, 12, 15, 5, 27, 22, 5, 18, 1]</td>\n",
       "      <td>[1, 12, 15, 5, 27, 22, 5, 18, 1, 0, 0, 0, 0, 0...</td>\n",
       "    </tr>\n",
       "    <tr>\n",
       "      <th>4</th>\n",
       "      <td>ANGELICA SINENSIS</td>\n",
       "      <td>[1, 14, 7, 5, 12, 9, 3, 1, 27, 19, 9, 14, 5, 1...</td>\n",
       "      <td>[1, 14, 7, 5, 12, 9, 3, 1, 27, 19, 9, 14, 5, 1...</td>\n",
       "    </tr>\n",
       "  </tbody>\n",
       "</table>\n",
       "</div>"
      ],
      "text/plain": [
       "            dUnique_label                                        dUnique_seq  \\\n",
       "0         ACTAEA RACEMOSA  [1, 3, 20, 1, 5, 1, 27, 18, 1, 3, 5, 13, 15, 1...   \n",
       "1  AESCULUS HIPPOCASTANUM  [1, 5, 19, 3, 21, 12, 21, 19, 27, 8, 9, 16, 16...   \n",
       "2          ALLIUM SATIVUM  [1, 12, 12, 9, 21, 13, 27, 19, 1, 20, 9, 22, 2...   \n",
       "3               ALOE VERA                   [1, 12, 15, 5, 27, 22, 5, 18, 1]   \n",
       "4       ANGELICA SINENSIS  [1, 14, 7, 5, 12, 9, 3, 1, 27, 19, 9, 14, 5, 1...   \n",
       "\n",
       "                                  dUnique_seq_padded  \n",
       "0  [1, 3, 20, 1, 5, 1, 27, 18, 1, 3, 5, 13, 15, 1...  \n",
       "1  [1, 5, 19, 3, 21, 12, 21, 19, 27, 8, 9, 16, 16...  \n",
       "2  [1, 12, 12, 9, 21, 13, 27, 19, 1, 20, 9, 22, 2...  \n",
       "3  [1, 12, 15, 5, 27, 22, 5, 18, 1, 0, 0, 0, 0, 0...  \n",
       "4  [1, 14, 7, 5, 12, 9, 3, 1, 27, 19, 9, 14, 5, 1...  "
      ]
     },
     "execution_count": 33,
     "metadata": {},
     "output_type": "execute_result"
    }
   ],
   "source": [
    "dUnique = tf.keras.preprocessing.sequence.pad_sequences(\n",
    "    list(dUnique_df['dUnique_seq']), padding=\"post\", maxlen=60)\n",
    "for i in range(len(dUnique_df.index)):\n",
    "    dUnique_df.at[i, 'dUnique_seq_padded'] = dUnique[i]\n",
    "dUnique_df.head()"
   ]
  },
  {
   "cell_type": "code",
   "execution_count": 34,
   "metadata": {
    "id": "XcSCBXAf8G8D"
   },
   "outputs": [],
   "source": [
    "x1TrainRnnS, x2TrainRnnS, yTrainRnnS = shuffle(x1TrainRNN, x2TrainRNN, yTrainRNN, random_state=42)"
   ]
  },
  {
   "cell_type": "markdown",
   "metadata": {
    "id": "znoVfJBDYhLc"
   },
   "source": [
    "### build model and train"
   ]
  },
  {
   "cell_type": "code",
   "execution_count": null,
   "metadata": {},
   "outputs": [],
   "source": []
  },
  {
   "cell_type": "code",
   "execution_count": 35,
   "metadata": {
    "colab": {
     "base_uri": "https://localhost:8080/"
    },
    "id": "mx1x0xA3uFzW",
    "outputId": "8a752be5-ba1b-4934-d4bf-eb5706e9aad5"
   },
   "outputs": [
    {
     "name": "stderr",
     "output_type": "stream",
     "text": [
      "2022-02-16 14:06:55.046937: I tensorflow/core/platform/cpu_feature_guard.cc:151] This TensorFlow binary is optimized with oneAPI Deep Neural Network Library (oneDNN) to use the following CPU instructions in performance-critical operations:  AVX2 AVX512F FMA\n",
      "To enable them in other operations, rebuild TensorFlow with the appropriate compiler flags.\n",
      "2022-02-16 14:06:56.000957: I tensorflow/core/common_runtime/gpu/gpu_device.cc:1525] Created device /job:localhost/replica:0/task:0/device:GPU:0 with 9648 MB memory:  -> device: 0, name: NVIDIA GeForce RTX 2080 Ti, pci bus id: 0000:af:00.0, compute capability: 7.5\n"
     ]
    },
    {
     "name": "stdout",
     "output_type": "stream",
     "text": [
      "(None, 60, 64)\n"
     ]
    }
   ],
   "source": [
    "input = tf.keras.layers.Input(maxlen)\n",
    "input_1 = tf.keras.layers.Input(maxlen)\n",
    "input_2 = tf.keras.layers.Input(maxlen)\n",
    "embedding = tf.keras.layers.Embedding(input_dim=28, output_dim=64, mask_zero=True)\n",
    "x = embedding(input)\n",
    "\n",
    "print(x.shape)\n",
    "x = tf.keras.layers.GRU(128)(x)\n",
    "x = tf.keras.layers.Dense(64, activation=\"tanh\")(x)\n",
    "x = tf.keras.layers.Dense(32, activation=\"tanh\")(x)\n",
    "embedding_network = tf.keras.Model(input, x)\n",
    "\n",
    "tower_1 = embedding_network(input_1)\n",
    "tower_2 = embedding_network(input_2)\n",
    "\n",
    "merge_layer = tf.keras.layers.Lambda(cosine_distance)([tower_1, tower_2])\n",
    "output_layer = tf.keras.layers.Dense(1, activation=\"sigmoid\")(merge_layer)\n",
    "siamese = tf.keras.Model(inputs=[input_1, input_2], outputs=output_layer)"
   ]
  },
  {
   "cell_type": "code",
   "execution_count": 36,
   "metadata": {
    "id": "1VAhhoIHYabz"
   },
   "outputs": [],
   "source": [
    "siamese.compile(loss=loss(margin=1), optimizer='RMSprop', metrics=[\"accuracy\"])"
   ]
  },
  {
   "cell_type": "code",
   "execution_count": 37,
   "metadata": {
    "colab": {
     "base_uri": "https://localhost:8080/"
    },
    "id": "LdTWk0jUYc9J",
    "outputId": "2e52a230-11ec-4bac-c9ee-5bb5dc8a936f"
   },
   "outputs": [
    {
     "name": "stdout",
     "output_type": "stream",
     "text": [
      "Epoch 1/100\n"
     ]
    },
    {
     "name": "stderr",
     "output_type": "stream",
     "text": [
      "2022-02-16 14:07:24.786617: I tensorflow/stream_executor/cuda/cuda_dnn.cc:366] Loaded cuDNN version 8302\n"
     ]
    },
    {
     "name": "stdout",
     "output_type": "stream",
     "text": [
      "339/339 [==============================] - 23s 30ms/step - loss: 0.1962 - accuracy: 0.6806 - val_loss: 0.1742 - val_accuracy: 0.6936\n",
      "Epoch 2/100\n",
      "339/339 [==============================] - 6s 17ms/step - loss: 0.1550 - accuracy: 0.6806 - val_loss: 0.1411 - val_accuracy: 0.6936\n",
      "Epoch 3/100\n",
      "339/339 [==============================] - 6s 18ms/step - loss: 0.1341 - accuracy: 0.8303 - val_loss: 0.1273 - val_accuracy: 0.8492\n",
      "Epoch 4/100\n",
      "339/339 [==============================] - 6s 18ms/step - loss: 0.1186 - accuracy: 0.8719 - val_loss: 0.1155 - val_accuracy: 0.8688\n",
      "Epoch 5/100\n",
      "339/339 [==============================] - 6s 17ms/step - loss: 0.1053 - accuracy: 0.8846 - val_loss: 0.1014 - val_accuracy: 0.8792\n",
      "Epoch 6/100\n",
      "339/339 [==============================] - 6s 17ms/step - loss: 0.0938 - accuracy: 0.8954 - val_loss: 0.0979 - val_accuracy: 0.8891\n",
      "Epoch 7/100\n",
      "339/339 [==============================] - 6s 17ms/step - loss: 0.0873 - accuracy: 0.9015 - val_loss: 0.0897 - val_accuracy: 0.8965\n",
      "Epoch 8/100\n",
      "339/339 [==============================] - 6s 18ms/step - loss: 0.0828 - accuracy: 0.9040 - val_loss: 0.0870 - val_accuracy: 0.8965\n",
      "Epoch 9/100\n",
      "339/339 [==============================] - 6s 17ms/step - loss: 0.0791 - accuracy: 0.9077 - val_loss: 0.0869 - val_accuracy: 0.8829\n",
      "Epoch 10/100\n",
      "339/339 [==============================] - 6s 17ms/step - loss: 0.0759 - accuracy: 0.9130 - val_loss: 0.0958 - val_accuracy: 0.8943\n",
      "Epoch 11/100\n",
      "339/339 [==============================] - 6s 18ms/step - loss: 0.0714 - accuracy: 0.9188 - val_loss: 0.0780 - val_accuracy: 0.8991\n",
      "Epoch 12/100\n",
      "339/339 [==============================] - 6s 18ms/step - loss: 0.0683 - accuracy: 0.9234 - val_loss: 0.0776 - val_accuracy: 0.9054\n",
      "Epoch 13/100\n",
      "339/339 [==============================] - 6s 18ms/step - loss: 0.0656 - accuracy: 0.9261 - val_loss: 0.0721 - val_accuracy: 0.9109\n",
      "Epoch 14/100\n",
      "339/339 [==============================] - 6s 18ms/step - loss: 0.0629 - accuracy: 0.9303 - val_loss: 0.0696 - val_accuracy: 0.9213\n",
      "Epoch 15/100\n",
      "339/339 [==============================] - 6s 19ms/step - loss: 0.0610 - accuracy: 0.9334 - val_loss: 0.0719 - val_accuracy: 0.9146\n",
      "Epoch 16/100\n",
      "339/339 [==============================] - 6s 18ms/step - loss: 0.0589 - accuracy: 0.9339 - val_loss: 0.0670 - val_accuracy: 0.9205\n",
      "Epoch 17/100\n",
      "339/339 [==============================] - 6s 18ms/step - loss: 0.0574 - accuracy: 0.9376 - val_loss: 0.0663 - val_accuracy: 0.9224\n",
      "Epoch 18/100\n",
      "339/339 [==============================] - 6s 18ms/step - loss: 0.0550 - accuracy: 0.9399 - val_loss: 0.0640 - val_accuracy: 0.9254\n",
      "Epoch 19/100\n",
      "339/339 [==============================] - 6s 17ms/step - loss: 0.0526 - accuracy: 0.9433 - val_loss: 0.0661 - val_accuracy: 0.9198\n",
      "Epoch 20/100\n",
      "339/339 [==============================] - 6s 18ms/step - loss: 0.0507 - accuracy: 0.9446 - val_loss: 0.0668 - val_accuracy: 0.9257\n",
      "Epoch 21/100\n",
      "339/339 [==============================] - 6s 17ms/step - loss: 0.0490 - accuracy: 0.9479 - val_loss: 0.0581 - val_accuracy: 0.9335\n",
      "Epoch 22/100\n",
      "339/339 [==============================] - 6s 18ms/step - loss: 0.0469 - accuracy: 0.9505 - val_loss: 0.0601 - val_accuracy: 0.9324\n",
      "Epoch 23/100\n",
      "339/339 [==============================] - 6s 18ms/step - loss: 0.0445 - accuracy: 0.9534 - val_loss: 0.0559 - val_accuracy: 0.9361\n",
      "Epoch 24/100\n",
      "339/339 [==============================] - 6s 17ms/step - loss: 0.0431 - accuracy: 0.9552 - val_loss: 0.0544 - val_accuracy: 0.9375\n",
      "Epoch 25/100\n",
      "339/339 [==============================] - 6s 17ms/step - loss: 0.0410 - accuracy: 0.9564 - val_loss: 0.0542 - val_accuracy: 0.9372\n",
      "Epoch 26/100\n",
      "339/339 [==============================] - 6s 19ms/step - loss: 0.0389 - accuracy: 0.9596 - val_loss: 0.0501 - val_accuracy: 0.9416\n",
      "Epoch 27/100\n",
      "339/339 [==============================] - 6s 18ms/step - loss: 0.0365 - accuracy: 0.9623 - val_loss: 0.0483 - val_accuracy: 0.9453\n",
      "Epoch 28/100\n",
      "339/339 [==============================] - 6s 18ms/step - loss: 0.0347 - accuracy: 0.9651 - val_loss: 0.0515 - val_accuracy: 0.9453\n",
      "Epoch 29/100\n",
      "339/339 [==============================] - 6s 18ms/step - loss: 0.0329 - accuracy: 0.9678 - val_loss: 0.0546 - val_accuracy: 0.9412\n",
      "Epoch 30/100\n",
      "339/339 [==============================] - 7s 21ms/step - loss: 0.0311 - accuracy: 0.9693 - val_loss: 0.0484 - val_accuracy: 0.9464\n",
      "Epoch 31/100\n",
      "339/339 [==============================] - 7s 20ms/step - loss: 0.0295 - accuracy: 0.9721 - val_loss: 0.0507 - val_accuracy: 0.9435\n",
      "Epoch 32/100\n",
      "339/339 [==============================] - 7s 20ms/step - loss: 0.0284 - accuracy: 0.9727 - val_loss: 0.0475 - val_accuracy: 0.9460\n",
      "Epoch 33/100\n",
      "339/339 [==============================] - 6s 18ms/step - loss: 0.0265 - accuracy: 0.9751 - val_loss: 0.0492 - val_accuracy: 0.9431\n",
      "Epoch 34/100\n",
      "339/339 [==============================] - 6s 19ms/step - loss: 0.0251 - accuracy: 0.9758 - val_loss: 0.0445 - val_accuracy: 0.9472\n",
      "Epoch 35/100\n",
      "339/339 [==============================] - 6s 18ms/step - loss: 0.0235 - accuracy: 0.9783 - val_loss: 0.0475 - val_accuracy: 0.9475\n",
      "Epoch 36/100\n",
      "339/339 [==============================] - 6s 18ms/step - loss: 0.0222 - accuracy: 0.9802 - val_loss: 0.0483 - val_accuracy: 0.9420\n",
      "Epoch 37/100\n",
      "339/339 [==============================] - 6s 18ms/step - loss: 0.0211 - accuracy: 0.9806 - val_loss: 0.0471 - val_accuracy: 0.9449\n",
      "Epoch 38/100\n",
      "339/339 [==============================] - 6s 17ms/step - loss: 0.0199 - accuracy: 0.9814 - val_loss: 0.0466 - val_accuracy: 0.9468\n",
      "Epoch 39/100\n",
      "339/339 [==============================] - 6s 17ms/step - loss: 0.0191 - accuracy: 0.9823 - val_loss: 0.0459 - val_accuracy: 0.9468\n",
      "Epoch 40/100\n",
      "339/339 [==============================] - 6s 18ms/step - loss: 0.0184 - accuracy: 0.9828 - val_loss: 0.0465 - val_accuracy: 0.9479\n",
      "Epoch 41/100\n",
      "339/339 [==============================] - 6s 18ms/step - loss: 0.0174 - accuracy: 0.9838 - val_loss: 0.0454 - val_accuracy: 0.9483\n",
      "Epoch 42/100\n",
      "339/339 [==============================] - 6s 17ms/step - loss: 0.0175 - accuracy: 0.9834 - val_loss: 0.0451 - val_accuracy: 0.9472\n",
      "Epoch 43/100\n",
      "339/339 [==============================] - 6s 18ms/step - loss: 0.0162 - accuracy: 0.9854 - val_loss: 0.0463 - val_accuracy: 0.9438\n",
      "Epoch 44/100\n",
      "339/339 [==============================] - 6s 18ms/step - loss: 0.0156 - accuracy: 0.9857 - val_loss: 0.0475 - val_accuracy: 0.9446\n",
      "Epoch 45/100\n",
      "339/339 [==============================] - 6s 18ms/step - loss: 0.0155 - accuracy: 0.9856 - val_loss: 0.0434 - val_accuracy: 0.9479\n",
      "Epoch 46/100\n",
      "339/339 [==============================] - 6s 19ms/step - loss: 0.0148 - accuracy: 0.9858 - val_loss: 0.0449 - val_accuracy: 0.9453\n",
      "Epoch 47/100\n",
      "339/339 [==============================] - 6s 18ms/step - loss: 0.0143 - accuracy: 0.9866 - val_loss: 0.0461 - val_accuracy: 0.9457\n",
      "Epoch 48/100\n",
      "339/339 [==============================] - 6s 18ms/step - loss: 0.0144 - accuracy: 0.9867 - val_loss: 0.0460 - val_accuracy: 0.9457\n",
      "Epoch 49/100\n",
      "339/339 [==============================] - 6s 18ms/step - loss: 0.0140 - accuracy: 0.9860 - val_loss: 0.0454 - val_accuracy: 0.9442\n",
      "Epoch 50/100\n",
      "339/339 [==============================] - 6s 17ms/step - loss: 0.0134 - accuracy: 0.9875 - val_loss: 0.0424 - val_accuracy: 0.9501\n",
      "Epoch 51/100\n",
      "339/339 [==============================] - 6s 17ms/step - loss: 0.0133 - accuracy: 0.9866 - val_loss: 0.0437 - val_accuracy: 0.9472\n",
      "Epoch 52/100\n",
      "339/339 [==============================] - 6s 17ms/step - loss: 0.0131 - accuracy: 0.9870 - val_loss: 0.0452 - val_accuracy: 0.9486\n",
      "Epoch 53/100\n",
      "339/339 [==============================] - 6s 17ms/step - loss: 0.0130 - accuracy: 0.9863 - val_loss: 0.0451 - val_accuracy: 0.9457\n",
      "Epoch 54/100\n",
      "339/339 [==============================] - 6s 17ms/step - loss: 0.0125 - accuracy: 0.9871 - val_loss: 0.0420 - val_accuracy: 0.9505\n",
      "Epoch 55/100\n",
      "339/339 [==============================] - 6s 18ms/step - loss: 0.0124 - accuracy: 0.9869 - val_loss: 0.0438 - val_accuracy: 0.9479\n",
      "Epoch 56/100\n",
      "339/339 [==============================] - 6s 18ms/step - loss: 0.0120 - accuracy: 0.9875 - val_loss: 0.0444 - val_accuracy: 0.9479\n",
      "Epoch 57/100\n",
      "339/339 [==============================] - 6s 18ms/step - loss: 0.0116 - accuracy: 0.9875 - val_loss: 0.0476 - val_accuracy: 0.9420\n",
      "Epoch 58/100\n",
      "339/339 [==============================] - 6s 18ms/step - loss: 0.0118 - accuracy: 0.9873 - val_loss: 0.0441 - val_accuracy: 0.9449\n",
      "Epoch 59/100\n",
      "339/339 [==============================] - 6s 18ms/step - loss: 0.0118 - accuracy: 0.9872 - val_loss: 0.0454 - val_accuracy: 0.9435\n",
      "Epoch 60/100\n",
      "339/339 [==============================] - 7s 19ms/step - loss: 0.0111 - accuracy: 0.9876 - val_loss: 0.0486 - val_accuracy: 0.9416\n",
      "Epoch 61/100\n",
      "339/339 [==============================] - 6s 17ms/step - loss: 0.0113 - accuracy: 0.9875 - val_loss: 0.0435 - val_accuracy: 0.9490\n",
      "Epoch 62/100\n",
      "339/339 [==============================] - 6s 18ms/step - loss: 0.0110 - accuracy: 0.9874 - val_loss: 0.0439 - val_accuracy: 0.9483\n",
      "Epoch 63/100\n",
      "339/339 [==============================] - 6s 17ms/step - loss: 0.0108 - accuracy: 0.9872 - val_loss: 0.0428 - val_accuracy: 0.9505\n",
      "Epoch 64/100\n",
      "339/339 [==============================] - 6s 18ms/step - loss: 0.0107 - accuracy: 0.9875 - val_loss: 0.0448 - val_accuracy: 0.9460\n",
      "Epoch 65/100\n",
      "339/339 [==============================] - 6s 18ms/step - loss: 0.0103 - accuracy: 0.9888 - val_loss: 0.0425 - val_accuracy: 0.9516\n",
      "Epoch 66/100\n",
      "339/339 [==============================] - 6s 18ms/step - loss: 0.0104 - accuracy: 0.9881 - val_loss: 0.0450 - val_accuracy: 0.9460\n",
      "Epoch 67/100\n",
      "339/339 [==============================] - 6s 18ms/step - loss: 0.0103 - accuracy: 0.9876 - val_loss: 0.0447 - val_accuracy: 0.9490\n",
      "Epoch 68/100\n",
      "339/339 [==============================] - 6s 17ms/step - loss: 0.0102 - accuracy: 0.9882 - val_loss: 0.0442 - val_accuracy: 0.9453\n",
      "Epoch 69/100\n",
      "339/339 [==============================] - 6s 18ms/step - loss: 0.0100 - accuracy: 0.9880 - val_loss: 0.0452 - val_accuracy: 0.9449\n",
      "Epoch 70/100\n",
      "339/339 [==============================] - 6s 17ms/step - loss: 0.0098 - accuracy: 0.9879 - val_loss: 0.0443 - val_accuracy: 0.9490\n",
      "Epoch 71/100\n",
      "339/339 [==============================] - 6s 18ms/step - loss: 0.0097 - accuracy: 0.9884 - val_loss: 0.0437 - val_accuracy: 0.9494\n",
      "Epoch 72/100\n",
      "339/339 [==============================] - 6s 17ms/step - loss: 0.0097 - accuracy: 0.9885 - val_loss: 0.0430 - val_accuracy: 0.9497\n",
      "Epoch 73/100\n",
      "339/339 [==============================] - 6s 17ms/step - loss: 0.0095 - accuracy: 0.9891 - val_loss: 0.0461 - val_accuracy: 0.9442\n",
      "Epoch 74/100\n",
      "339/339 [==============================] - 6s 17ms/step - loss: 0.0095 - accuracy: 0.9890 - val_loss: 0.0469 - val_accuracy: 0.9424\n",
      "Epoch 75/100\n",
      "339/339 [==============================] - 6s 17ms/step - loss: 0.0094 - accuracy: 0.9884 - val_loss: 0.0474 - val_accuracy: 0.9431\n",
      "Epoch 76/100\n",
      "339/339 [==============================] - 7s 21ms/step - loss: 0.0096 - accuracy: 0.9885 - val_loss: 0.0427 - val_accuracy: 0.9483\n",
      "Epoch 77/100\n",
      "339/339 [==============================] - 7s 21ms/step - loss: 0.0093 - accuracy: 0.9888 - val_loss: 0.0469 - val_accuracy: 0.9446\n",
      "Epoch 78/100\n",
      "339/339 [==============================] - 7s 21ms/step - loss: 0.0092 - accuracy: 0.9889 - val_loss: 0.0440 - val_accuracy: 0.9468\n",
      "Epoch 79/100\n",
      "339/339 [==============================] - 7s 21ms/step - loss: 0.0091 - accuracy: 0.9891 - val_loss: 0.0450 - val_accuracy: 0.9457\n",
      "Epoch 80/100\n",
      "339/339 [==============================] - 7s 21ms/step - loss: 0.0089 - accuracy: 0.9896 - val_loss: 0.0451 - val_accuracy: 0.9457\n",
      "Epoch 81/100\n",
      "339/339 [==============================] - 7s 21ms/step - loss: 0.0091 - accuracy: 0.9886 - val_loss: 0.0447 - val_accuracy: 0.9460\n",
      "Epoch 82/100\n",
      "339/339 [==============================] - 7s 21ms/step - loss: 0.0091 - accuracy: 0.9889 - val_loss: 0.0438 - val_accuracy: 0.9494\n",
      "Epoch 83/100\n",
      "339/339 [==============================] - 7s 21ms/step - loss: 0.0090 - accuracy: 0.9888 - val_loss: 0.0435 - val_accuracy: 0.9486\n",
      "Epoch 84/100\n",
      "339/339 [==============================] - 7s 21ms/step - loss: 0.0088 - accuracy: 0.9896 - val_loss: 0.0433 - val_accuracy: 0.9472\n",
      "Epoch 85/100\n",
      "339/339 [==============================] - 7s 21ms/step - loss: 0.0088 - accuracy: 0.9897 - val_loss: 0.0488 - val_accuracy: 0.9398\n",
      "Epoch 86/100\n",
      "339/339 [==============================] - 7s 21ms/step - loss: 0.0088 - accuracy: 0.9890 - val_loss: 0.0447 - val_accuracy: 0.9464\n",
      "Epoch 87/100\n",
      "339/339 [==============================] - 6s 18ms/step - loss: 0.0090 - accuracy: 0.9885 - val_loss: 0.0467 - val_accuracy: 0.9409\n",
      "Epoch 88/100\n",
      "339/339 [==============================] - 7s 20ms/step - loss: 0.0086 - accuracy: 0.9895 - val_loss: 0.0468 - val_accuracy: 0.9435\n",
      "Epoch 89/100\n",
      "339/339 [==============================] - 7s 21ms/step - loss: 0.0086 - accuracy: 0.9892 - val_loss: 0.0454 - val_accuracy: 0.9457\n",
      "Epoch 90/100\n",
      "339/339 [==============================] - 7s 21ms/step - loss: 0.0091 - accuracy: 0.9881 - val_loss: 0.0455 - val_accuracy: 0.9446\n",
      "Epoch 91/100\n",
      "339/339 [==============================] - 7s 21ms/step - loss: 0.0086 - accuracy: 0.9889 - val_loss: 0.0443 - val_accuracy: 0.9479\n",
      "Epoch 92/100\n",
      "339/339 [==============================] - 7s 21ms/step - loss: 0.0086 - accuracy: 0.9892 - val_loss: 0.0461 - val_accuracy: 0.9460\n",
      "Epoch 93/100\n",
      "339/339 [==============================] - 6s 17ms/step - loss: 0.0086 - accuracy: 0.9897 - val_loss: 0.0470 - val_accuracy: 0.9420\n",
      "Epoch 94/100\n",
      "339/339 [==============================] - 6s 17ms/step - loss: 0.0084 - accuracy: 0.9898 - val_loss: 0.0467 - val_accuracy: 0.9464\n",
      "Epoch 95/100\n",
      "339/339 [==============================] - 6s 18ms/step - loss: 0.0085 - accuracy: 0.9895 - val_loss: 0.0453 - val_accuracy: 0.9468\n",
      "Epoch 96/100\n",
      "339/339 [==============================] - 6s 18ms/step - loss: 0.0084 - accuracy: 0.9893 - val_loss: 0.0470 - val_accuracy: 0.9424\n",
      "Epoch 97/100\n",
      "339/339 [==============================] - 6s 17ms/step - loss: 0.0083 - accuracy: 0.9895 - val_loss: 0.0467 - val_accuracy: 0.9424\n",
      "Epoch 98/100\n",
      "339/339 [==============================] - 6s 17ms/step - loss: 0.0083 - accuracy: 0.9896 - val_loss: 0.0466 - val_accuracy: 0.9442\n",
      "Epoch 99/100\n",
      "339/339 [==============================] - 6s 17ms/step - loss: 0.0083 - accuracy: 0.9891 - val_loss: 0.0450 - val_accuracy: 0.9475\n",
      "Epoch 100/100\n",
      "339/339 [==============================] - 6s 17ms/step - loss: 0.0083 - accuracy: 0.9895 - val_loss: 0.0465 - val_accuracy: 0.9438\n"
     ]
    }
   ],
   "source": [
    "history_rnn = siamese.fit([np.array(x1TrainRnnS), np.array(x2TrainRnnS)],np.array(yTrainRnnS, dtype=np.float32), epochs=100, batch_size=32, validation_split=0.2)"
   ]
  },
  {
   "cell_type": "code",
   "execution_count": 38,
   "metadata": {
    "id": "uHSTAS1dKHee"
   },
   "outputs": [
    {
     "name": "stderr",
     "output_type": "stream",
     "text": [
      "2022-02-16 14:17:57.286561: W tensorflow/python/util/util.cc:368] Sets are not currently considered sequences, but this may change in the future, so consider avoiding using them.\n",
      "WARNING:absl:Found untraced functions such as gru_cell_layer_call_fn, gru_cell_layer_call_and_return_conditional_losses, gru_cell_layer_call_fn, gru_cell_layer_call_and_return_conditional_losses, gru_cell_layer_call_and_return_conditional_losses while saving (showing 5 of 5). These functions will not be directly callable after loading.\n"
     ]
    },
    {
     "name": "stdout",
     "output_type": "stream",
     "text": [
      "INFO:tensorflow:Assets written to: models/NP_siamese_exp1_20220216/assets\n"
     ]
    },
    {
     "name": "stderr",
     "output_type": "stream",
     "text": [
      "INFO:tensorflow:Assets written to: models/NP_siamese_exp1_20220216/assets\n",
      "WARNING:absl:<keras.layers.recurrent.GRUCell object at 0x7fc0c8f2c850> has the same name 'GRUCell' as a built-in Keras object. Consider renaming <class 'keras.layers.recurrent.GRUCell'> to avoid naming conflicts when loading with `tf.keras.models.load_model`. If renaming is not possible, pass the object in the `custom_objects` parameter of the load function.\n"
     ]
    }
   ],
   "source": [
    "siamese.save('models/NP_siamese_exp1_20220216.h5')\n",
    "siamese.save('models/NP_siamese_exp1_20220216')"
   ]
  },
  {
   "cell_type": "code",
   "execution_count": 39,
   "metadata": {
    "colab": {
     "base_uri": "https://localhost:8080/",
     "height": 573
    },
    "id": "ME7iBjYFBrJO",
    "outputId": "a3672c1f-0090-4816-c35c-433f1256409c"
   },
   "outputs": [
    {
     "data": {
      "image/png": "[encoded data removed]",
      "text/plain": [
       "<Figure size 432x288 with 1 Axes>"
      ]
     },
     "metadata": {
      "needs_background": "light"
     },
     "output_type": "display_data"
    },
    {
     "data": {
      "image/png": "[encoded data removed]",
      "text/plain": [
       "<Figure size 432x288 with 1 Axes>"
      ]
     },
     "metadata": {
      "needs_background": "light"
     },
     "output_type": "display_data"
    }
   ],
   "source": [
    "# Plot the accuracy\n",
    "plt_metric(history=history_rnn.history, metric=\"accuracy\", title=\"Model accuracy\")\n",
    "\n",
    "# Plot the constrastive loss\n",
    "plt_metric(history=history_rnn.history, metric=\"loss\", title=\"Constrastive Loss\")"
   ]
  },
  {
   "cell_type": "markdown",
   "metadata": {
    "id": "r9GovYaJzQFv"
   },
   "source": [
    "### Load model, get predictions and evaluate siamese network"
   ]
  },
  {
   "cell_type": "code",
   "execution_count": 34,
   "metadata": {},
   "outputs": [],
   "source": [
    "def contrastive_loss(y_true, y_pred):\n",
    "    square_pred = tf.math.square(y_pred)\n",
    "    margin_square = tf.math.square(tf.math.maximum(margin - (y_pred), 0))\n",
    "    return tf.math.reduce_mean(\n",
    "        (1 - y_true) * square_pred + (y_true) * margin_square\n",
    "    )"
   ]
  },
  {
   "cell_type": "code",
   "execution_count": 35,
   "metadata": {},
   "outputs": [
    {
     "name": "stderr",
     "output_type": "stream",
     "text": [
      "2022-02-10 12:16:10.003049: I tensorflow/core/platform/cpu_feature_guard.cc:151] This TensorFlow binary is optimized with oneAPI Deep Neural Network Library (oneDNN) to use the following CPU instructions in performance-critical operations:  AVX2 AVX512F FMA\n",
      "To enable them in other operations, rebuild TensorFlow with the appropriate compiler flags.\n",
      "2022-02-10 12:16:10.980701: I tensorflow/core/common_runtime/gpu/gpu_device.cc:1525] Created device /job:localhost/replica:0/task:0/device:GPU:0 with 164 MB memory:  -> device: 0, name: NVIDIA GeForce RTX 2080 Ti, pci bus id: 0000:af:00.0, compute capability: 7.5\n"
     ]
    }
   ],
   "source": [
    "#siamese_loaded = tf.keras.models.load_model('models/drug_siamese_exp1_20220201.h5')\n",
    "siamese_model = tf.keras.models.load_model('models/drug_siamese_exp1_20220201.h5', custom_objects={'contrastive_loss': contrastive_loss})"
   ]
  },
  {
   "cell_type": "code",
   "execution_count": 36,
   "metadata": {},
   "outputs": [
    {
     "name": "stdout",
     "output_type": "stream",
     "text": [
      "Model: \"model_1\"\n",
      "__________________________________________________________________________________________________\n",
      " Layer (type)                   Output Shape         Param #     Connected to                     \n",
      "==================================================================================================\n",
      " input_2 (InputLayer)           [(None, 60)]         0           []                               \n",
      "                                                                                                  \n",
      " input_3 (InputLayer)           [(None, 60)]         0           []                               \n",
      "                                                                                                  \n",
      " model (Functional)             (None, 32)           86624       ['input_2[0][0]',                \n",
      "                                                                  'input_3[0][0]']                \n",
      "                                                                                                  \n",
      " lambda (Lambda)                (None, 1)            0           ['model[0][0]',                  \n",
      "                                                                  'model[1][0]']                  \n",
      "                                                                                                  \n",
      " dense_2 (Dense)                (None, 1)            2           ['lambda[0][0]']                 \n",
      "                                                                                                  \n",
      "==================================================================================================\n",
      "Total params: 86,626\n",
      "Trainable params: 86,626\n",
      "Non-trainable params: 0\n",
      "__________________________________________________________________________________________________\n"
     ]
    }
   ],
   "source": [
    "siamese_model.summary()"
   ]
  },
  {
   "cell_type": "code",
   "execution_count": 54,
   "metadata": {},
   "outputs": [
    {
     "name": "stdout",
     "output_type": "stream",
     "text": [
      "<class 'pandas.core.frame.DataFrame'>\n",
      "Int64Index: 1072 entries, 4003 to 1295\n",
      "Data columns (total 2 columns):\n",
      " #   Column            Non-Null Count  Dtype \n",
      "---  ------            --------------  ----- \n",
      " 0   FAERS_drug_match  1072 non-null   object\n",
      " 1   lookup_value      1072 non-null   object\n",
      "dtypes: object(2)\n",
      "memory usage: 57.4+ KB\n"
     ]
    }
   ],
   "source": [
    "test.info()"
   ]
  },
  {
   "cell_type": "code",
   "execution_count": 40,
   "metadata": {},
   "outputs": [],
   "source": [
    "test_eval = pd.DataFrame(columns = ['FAERS_drug_match', 'lookup_value', 'rank1_drug', 'rank2_drug', 'rank3_drug', 'rank4_drug', 'rank5_drug', 'lookup_rank'])"
   ]
  },
  {
   "cell_type": "code",
   "execution_count": 41,
   "metadata": {},
   "outputs": [
    {
     "data": {
      "text/html": [
       "<div>\n",
       "<style scoped>\n",
       "    .dataframe tbody tr th:only-of-type {\n",
       "        vertical-align: middle;\n",
       "    }\n",
       "\n",
       "    .dataframe tbody tr th {\n",
       "        vertical-align: top;\n",
       "    }\n",
       "\n",
       "    .dataframe thead th {\n",
       "        text-align: right;\n",
       "    }\n",
       "</style>\n",
       "<table border=\"1\" class=\"dataframe\">\n",
       "  <thead>\n",
       "    <tr style=\"text-align: right;\">\n",
       "      <th></th>\n",
       "      <th>index</th>\n",
       "      <th>FAERS_drug_match</th>\n",
       "      <th>lookup_value</th>\n",
       "    </tr>\n",
       "  </thead>\n",
       "  <tbody>\n",
       "    <tr>\n",
       "      <th>0</th>\n",
       "      <td>4003</td>\n",
       "      <td>ST. JOHN'S WORT ^HERRON^ (HYPERICUM PERFORATUM)</td>\n",
       "      <td>HYPERICUM PERFORATUM</td>\n",
       "    </tr>\n",
       "    <tr>\n",
       "      <th>1</th>\n",
       "      <td>1729</td>\n",
       "      <td>CORDYCEPS</td>\n",
       "      <td>CORDYCEPS</td>\n",
       "    </tr>\n",
       "    <tr>\n",
       "      <th>2</th>\n",
       "      <td>401</td>\n",
       "      <td>FLAXSEEDS OIL</td>\n",
       "      <td>FLAX SEED</td>\n",
       "    </tr>\n",
       "    <tr>\n",
       "      <th>3</th>\n",
       "      <td>1242</td>\n",
       "      <td>EXTRACT OF SERENOA REPENS (PERMIXON)</td>\n",
       "      <td>SCRUB-PALMETTO</td>\n",
       "    </tr>\n",
       "    <tr>\n",
       "      <th>4</th>\n",
       "      <td>3406</td>\n",
       "      <td>GUARANA (GUARANA)</td>\n",
       "      <td>PAULLINIA CUPANA</td>\n",
       "    </tr>\n",
       "  </tbody>\n",
       "</table>\n",
       "</div>"
      ],
      "text/plain": [
       "   index                                 FAERS_drug_match  \\\n",
       "0   4003  ST. JOHN'S WORT ^HERRON^ (HYPERICUM PERFORATUM)   \n",
       "1   1729                                        CORDYCEPS   \n",
       "2    401                                    FLAXSEEDS OIL   \n",
       "3   1242             EXTRACT OF SERENOA REPENS (PERMIXON)   \n",
       "4   3406                                GUARANA (GUARANA)   \n",
       "\n",
       "           lookup_value  \n",
       "0  HYPERICUM PERFORATUM  \n",
       "1             CORDYCEPS  \n",
       "2             FLAX SEED  \n",
       "3        SCRUB-PALMETTO  \n",
       "4      PAULLINIA CUPANA  "
      ]
     },
     "execution_count": 41,
     "metadata": {},
     "output_type": "execute_result"
    }
   ],
   "source": [
    "test_res = test.reset_index()\n",
    "test_res.head()"
   ]
  },
  {
   "cell_type": "code",
   "execution_count": 42,
   "metadata": {},
   "outputs": [
    {
     "data": {
      "text/html": [
       "<div>\n",
       "<style scoped>\n",
       "    .dataframe tbody tr th:only-of-type {\n",
       "        vertical-align: middle;\n",
       "    }\n",
       "\n",
       "    .dataframe tbody tr th {\n",
       "        vertical-align: top;\n",
       "    }\n",
       "\n",
       "    .dataframe thead th {\n",
       "        text-align: right;\n",
       "    }\n",
       "</style>\n",
       "<table border=\"1\" class=\"dataframe\">\n",
       "  <thead>\n",
       "    <tr style=\"text-align: right;\">\n",
       "      <th></th>\n",
       "      <th>FAERS_drug_match</th>\n",
       "      <th>lookup_value</th>\n",
       "      <th>rank1_drug</th>\n",
       "      <th>rank2_drug</th>\n",
       "      <th>rank3_drug</th>\n",
       "      <th>rank4_drug</th>\n",
       "      <th>rank5_drug</th>\n",
       "      <th>lookup_rank</th>\n",
       "    </tr>\n",
       "  </thead>\n",
       "  <tbody>\n",
       "    <tr>\n",
       "      <th>0</th>\n",
       "      <td>ST. JOHN'S WORT ^HERRON^ (HYPERICUM PERFORATUM)</td>\n",
       "      <td>HYPERICUM PERFORATUM</td>\n",
       "      <td>HYPERICUM PERFORATUM</td>\n",
       "      <td>GRAPEFRUIT</td>\n",
       "      <td>GUARANA</td>\n",
       "      <td>STINGING NETTLE</td>\n",
       "      <td>ELDERBERRY</td>\n",
       "      <td>NaN</td>\n",
       "    </tr>\n",
       "    <tr>\n",
       "      <th>1</th>\n",
       "      <td>CORDYCEPS</td>\n",
       "      <td>CORDYCEPS</td>\n",
       "      <td>CORDYCEPS</td>\n",
       "      <td>STEVIA</td>\n",
       "      <td>TULSI</td>\n",
       "      <td>YOHIMBE</td>\n",
       "      <td>SILYBUM MARIANUM</td>\n",
       "      <td>NaN</td>\n",
       "    </tr>\n",
       "    <tr>\n",
       "      <th>2</th>\n",
       "      <td>FLAXSEEDS OIL</td>\n",
       "      <td>FLAX SEED</td>\n",
       "      <td>GUARANA</td>\n",
       "      <td>FENUGREEK</td>\n",
       "      <td>GRAPEFRUIT</td>\n",
       "      <td>HYPERICUM PERFORATUM</td>\n",
       "      <td>GREEN TEA</td>\n",
       "      <td>NaN</td>\n",
       "    </tr>\n",
       "    <tr>\n",
       "      <th>3</th>\n",
       "      <td>EXTRACT OF SERENOA REPENS (PERMIXON)</td>\n",
       "      <td>SCRUB-PALMETTO</td>\n",
       "      <td>HYPERICUM PERFORATUM</td>\n",
       "      <td>GUARANA</td>\n",
       "      <td>STINGING NETTLE</td>\n",
       "      <td>TANACETUM PARTHENIUM</td>\n",
       "      <td>NIU BANG ZI</td>\n",
       "      <td>NaN</td>\n",
       "    </tr>\n",
       "    <tr>\n",
       "      <th>4</th>\n",
       "      <td>GUARANA (GUARANA)</td>\n",
       "      <td>PAULLINIA CUPANA</td>\n",
       "      <td>PANAX GINSENG</td>\n",
       "      <td>TARAXACUM OFFICINALE</td>\n",
       "      <td>HORSECHESTNUT</td>\n",
       "      <td>FENUGREEK</td>\n",
       "      <td>CRATAEGUS LAEVIGATA</td>\n",
       "      <td>NaN</td>\n",
       "    </tr>\n",
       "  </tbody>\n",
       "</table>\n",
       "</div>"
      ],
      "text/plain": [
       "                                  FAERS_drug_match          lookup_value  \\\n",
       "0  ST. JOHN'S WORT ^HERRON^ (HYPERICUM PERFORATUM)  HYPERICUM PERFORATUM   \n",
       "1                                        CORDYCEPS             CORDYCEPS   \n",
       "2                                    FLAXSEEDS OIL             FLAX SEED   \n",
       "3             EXTRACT OF SERENOA REPENS (PERMIXON)        SCRUB-PALMETTO   \n",
       "4                                GUARANA (GUARANA)      PAULLINIA CUPANA   \n",
       "\n",
       "             rank1_drug            rank2_drug       rank3_drug  \\\n",
       "0  HYPERICUM PERFORATUM            GRAPEFRUIT          GUARANA   \n",
       "1             CORDYCEPS                STEVIA            TULSI   \n",
       "2               GUARANA             FENUGREEK       GRAPEFRUIT   \n",
       "3  HYPERICUM PERFORATUM               GUARANA  STINGING NETTLE   \n",
       "4         PANAX GINSENG  TARAXACUM OFFICINALE    HORSECHESTNUT   \n",
       "\n",
       "             rank4_drug           rank5_drug lookup_rank  \n",
       "0       STINGING NETTLE           ELDERBERRY         NaN  \n",
       "1               YOHIMBE     SILYBUM MARIANUM         NaN  \n",
       "2  HYPERICUM PERFORATUM            GREEN TEA         NaN  \n",
       "3  TANACETUM PARTHENIUM          NIU BANG ZI         NaN  \n",
       "4             FENUGREEK  CRATAEGUS LAEVIGATA         NaN  "
      ]
     },
     "execution_count": 42,
     "metadata": {},
     "output_type": "execute_result"
    }
   ],
   "source": [
    "#find ranks 1, 2 and 3 (can go upto any number n) from the predicted similarities for the test data\n",
    "for i in range(padded_xTest.shape[0]):\n",
    "    predicts = siamese.predict([np.tile(padded_xTest[i,:], (dUnique.shape[0],1)), dUnique])\n",
    "    argsort = np.argsort(-predicts.flatten())\n",
    "    test_eval.at[i, 'FAERS_drug_match'] = test_res.at[i, 'FAERS_drug_match']\n",
    "    test_eval.at[i, 'lookup_value'] = test_res.at[i, 'lookup_value']\n",
    "    test_eval.at[i, 'rank1_drug'] = dUnique_df.iloc[argsort[0]].dUnique_label\n",
    "    test_eval.at[i, 'rank2_drug'] = dUnique_df.iloc[argsort[1]].dUnique_label\n",
    "    test_eval.at[i, 'rank3_drug'] = dUnique_df.iloc[argsort[2]].dUnique_label\n",
    "    test_eval.at[i, 'rank4_drug'] = dUnique_df.iloc[argsort[3]].dUnique_label\n",
    "    test_eval.at[i, 'rank5_drug'] = dUnique_df.iloc[argsort[4]].dUnique_label\n",
    "test_eval.head()"
   ]
  },
  {
   "cell_type": "code",
   "execution_count": 8,
   "metadata": {},
   "outputs": [
    {
     "data": {
      "text/html": [
       "<div>\n",
       "<style scoped>\n",
       "    .dataframe tbody tr th:only-of-type {\n",
       "        vertical-align: middle;\n",
       "    }\n",
       "\n",
       "    .dataframe tbody tr th {\n",
       "        vertical-align: top;\n",
       "    }\n",
       "\n",
       "    .dataframe thead th {\n",
       "        text-align: right;\n",
       "    }\n",
       "</style>\n",
       "<table border=\"1\" class=\"dataframe\">\n",
       "  <thead>\n",
       "    <tr style=\"text-align: right;\">\n",
       "      <th></th>\n",
       "      <th>FAERS_drug_match</th>\n",
       "      <th>lookup_value</th>\n",
       "      <th>rank1_drug</th>\n",
       "      <th>rank2_drug</th>\n",
       "      <th>rank3_drug</th>\n",
       "      <th>rank4_drug</th>\n",
       "      <th>rank5_drug</th>\n",
       "      <th>lookup_rank</th>\n",
       "    </tr>\n",
       "  </thead>\n",
       "  <tbody>\n",
       "    <tr>\n",
       "      <th>0</th>\n",
       "      <td>ST. JOHN'S WORT ^HERRON^ (HYPERICUM PERFORATUM)</td>\n",
       "      <td>HYPERICUM PERFORATUM</td>\n",
       "      <td>HYPERICUM PERFORATUM</td>\n",
       "      <td>GRAPEFRUIT</td>\n",
       "      <td>GUARANA</td>\n",
       "      <td>STINGING NETTLE</td>\n",
       "      <td>ELDERBERRY</td>\n",
       "      <td>1.0</td>\n",
       "    </tr>\n",
       "    <tr>\n",
       "      <th>1</th>\n",
       "      <td>CORDYCEPS</td>\n",
       "      <td>CORDYCEPS</td>\n",
       "      <td>CORDYCEPS</td>\n",
       "      <td>STEVIA</td>\n",
       "      <td>TULSI</td>\n",
       "      <td>YOHIMBE</td>\n",
       "      <td>SILYBUM MARIANUM</td>\n",
       "      <td>1.0</td>\n",
       "    </tr>\n",
       "    <tr>\n",
       "      <th>2</th>\n",
       "      <td>FLAXSEEDS OIL</td>\n",
       "      <td>FLAX SEED</td>\n",
       "      <td>GUARANA</td>\n",
       "      <td>FENUGREEK</td>\n",
       "      <td>GRAPEFRUIT</td>\n",
       "      <td>HYPERICUM PERFORATUM</td>\n",
       "      <td>GREEN TEA</td>\n",
       "      <td>NaN</td>\n",
       "    </tr>\n",
       "    <tr>\n",
       "      <th>3</th>\n",
       "      <td>EXTRACT OF SERENOA REPENS (PERMIXON)</td>\n",
       "      <td>SCRUB-PALMETTO</td>\n",
       "      <td>HYPERICUM PERFORATUM</td>\n",
       "      <td>GUARANA</td>\n",
       "      <td>STINGING NETTLE</td>\n",
       "      <td>TANACETUM PARTHENIUM</td>\n",
       "      <td>NIU BANG ZI</td>\n",
       "      <td>NaN</td>\n",
       "    </tr>\n",
       "    <tr>\n",
       "      <th>4</th>\n",
       "      <td>GUARANA (GUARANA)</td>\n",
       "      <td>PAULLINIA CUPANA</td>\n",
       "      <td>PANAX GINSENG</td>\n",
       "      <td>TARAXACUM OFFICINALE</td>\n",
       "      <td>HORSECHESTNUT</td>\n",
       "      <td>FENUGREEK</td>\n",
       "      <td>CRATAEGUS LAEVIGATA</td>\n",
       "      <td>NaN</td>\n",
       "    </tr>\n",
       "  </tbody>\n",
       "</table>\n",
       "</div>"
      ],
      "text/plain": [
       "                                  FAERS_drug_match          lookup_value  \\\n",
       "0  ST. JOHN'S WORT ^HERRON^ (HYPERICUM PERFORATUM)  HYPERICUM PERFORATUM   \n",
       "1                                        CORDYCEPS             CORDYCEPS   \n",
       "2                                    FLAXSEEDS OIL             FLAX SEED   \n",
       "3             EXTRACT OF SERENOA REPENS (PERMIXON)        SCRUB-PALMETTO   \n",
       "4                                GUARANA (GUARANA)      PAULLINIA CUPANA   \n",
       "\n",
       "             rank1_drug            rank2_drug       rank3_drug  \\\n",
       "0  HYPERICUM PERFORATUM            GRAPEFRUIT          GUARANA   \n",
       "1             CORDYCEPS                STEVIA            TULSI   \n",
       "2               GUARANA             FENUGREEK       GRAPEFRUIT   \n",
       "3  HYPERICUM PERFORATUM               GUARANA  STINGING NETTLE   \n",
       "4         PANAX GINSENG  TARAXACUM OFFICINALE    HORSECHESTNUT   \n",
       "\n",
       "             rank4_drug           rank5_drug  lookup_rank  \n",
       "0       STINGING NETTLE           ELDERBERRY          1.0  \n",
       "1               YOHIMBE     SILYBUM MARIANUM          1.0  \n",
       "2  HYPERICUM PERFORATUM            GREEN TEA          NaN  \n",
       "3  TANACETUM PARTHENIUM          NIU BANG ZI          NaN  \n",
       "4             FENUGREEK  CRATAEGUS LAEVIGATA          NaN  "
      ]
     },
     "execution_count": 8,
     "metadata": {},
     "output_type": "execute_result"
    }
   ],
   "source": [
    "test_eval = pd.read_csv('evaluation/test_siamese_evaluation_exp1.csv')\n",
    "test_eval.head()"
   ]
  },
  {
   "cell_type": "code",
   "execution_count": 9,
   "metadata": {},
   "outputs": [
    {
     "data": {
      "text/html": [
       "<div>\n",
       "<style scoped>\n",
       "    .dataframe tbody tr th:only-of-type {\n",
       "        vertical-align: middle;\n",
       "    }\n",
       "\n",
       "    .dataframe tbody tr th {\n",
       "        vertical-align: top;\n",
       "    }\n",
       "\n",
       "    .dataframe thead th {\n",
       "        text-align: right;\n",
       "    }\n",
       "</style>\n",
       "<table border=\"1\" class=\"dataframe\">\n",
       "  <thead>\n",
       "    <tr style=\"text-align: right;\">\n",
       "      <th></th>\n",
       "      <th>FAERS_drug_match</th>\n",
       "      <th>lookup_value</th>\n",
       "      <th>rank1_drug</th>\n",
       "      <th>rank2_drug</th>\n",
       "      <th>rank3_drug</th>\n",
       "      <th>rank4_drug</th>\n",
       "      <th>rank5_drug</th>\n",
       "      <th>lookup_rank</th>\n",
       "    </tr>\n",
       "  </thead>\n",
       "  <tbody>\n",
       "    <tr>\n",
       "      <th>0</th>\n",
       "      <td>ST. JOHN'S WORT ^HERRON^ (HYPERICUM PERFORATUM)</td>\n",
       "      <td>HYPERICUM PERFORATUM</td>\n",
       "      <td>HYPERICUM PERFORATUM</td>\n",
       "      <td>GRAPEFRUIT</td>\n",
       "      <td>GUARANA</td>\n",
       "      <td>STINGING NETTLE</td>\n",
       "      <td>ELDERBERRY</td>\n",
       "      <td>1.0</td>\n",
       "    </tr>\n",
       "    <tr>\n",
       "      <th>1</th>\n",
       "      <td>CORDYCEPS</td>\n",
       "      <td>CORDYCEPS</td>\n",
       "      <td>CORDYCEPS</td>\n",
       "      <td>STEVIA</td>\n",
       "      <td>TULSI</td>\n",
       "      <td>YOHIMBE</td>\n",
       "      <td>SILYBUM MARIANUM</td>\n",
       "      <td>1.0</td>\n",
       "    </tr>\n",
       "    <tr>\n",
       "      <th>2</th>\n",
       "      <td>FLAXSEEDS OIL</td>\n",
       "      <td>FLAX SEED</td>\n",
       "      <td>GUARANA</td>\n",
       "      <td>FENUGREEK</td>\n",
       "      <td>GRAPEFRUIT</td>\n",
       "      <td>HYPERICUM PERFORATUM</td>\n",
       "      <td>GREEN TEA</td>\n",
       "      <td>NaN</td>\n",
       "    </tr>\n",
       "    <tr>\n",
       "      <th>3</th>\n",
       "      <td>EXTRACT OF SERENOA REPENS (PERMIXON)</td>\n",
       "      <td>SCRUB-PALMETTO</td>\n",
       "      <td>HYPERICUM PERFORATUM</td>\n",
       "      <td>GUARANA</td>\n",
       "      <td>STINGING NETTLE</td>\n",
       "      <td>TANACETUM PARTHENIUM</td>\n",
       "      <td>NIU BANG ZI</td>\n",
       "      <td>NaN</td>\n",
       "    </tr>\n",
       "    <tr>\n",
       "      <th>4</th>\n",
       "      <td>GUARANA (GUARANA)</td>\n",
       "      <td>PAULLINIA CUPANA</td>\n",
       "      <td>PANAX GINSENG</td>\n",
       "      <td>TARAXACUM OFFICINALE</td>\n",
       "      <td>HORSECHESTNUT</td>\n",
       "      <td>FENUGREEK</td>\n",
       "      <td>CRATAEGUS LAEVIGATA</td>\n",
       "      <td>NaN</td>\n",
       "    </tr>\n",
       "  </tbody>\n",
       "</table>\n",
       "</div>"
      ],
      "text/plain": [
       "                                  FAERS_drug_match          lookup_value  \\\n",
       "0  ST. JOHN'S WORT ^HERRON^ (HYPERICUM PERFORATUM)  HYPERICUM PERFORATUM   \n",
       "1                                        CORDYCEPS             CORDYCEPS   \n",
       "2                                    FLAXSEEDS OIL             FLAX SEED   \n",
       "3             EXTRACT OF SERENOA REPENS (PERMIXON)        SCRUB-PALMETTO   \n",
       "4                                GUARANA (GUARANA)      PAULLINIA CUPANA   \n",
       "\n",
       "             rank1_drug            rank2_drug       rank3_drug  \\\n",
       "0  HYPERICUM PERFORATUM            GRAPEFRUIT          GUARANA   \n",
       "1             CORDYCEPS                STEVIA            TULSI   \n",
       "2               GUARANA             FENUGREEK       GRAPEFRUIT   \n",
       "3  HYPERICUM PERFORATUM               GUARANA  STINGING NETTLE   \n",
       "4         PANAX GINSENG  TARAXACUM OFFICINALE    HORSECHESTNUT   \n",
       "\n",
       "             rank4_drug           rank5_drug  lookup_rank  \n",
       "0       STINGING NETTLE           ELDERBERRY          1.0  \n",
       "1               YOHIMBE     SILYBUM MARIANUM          1.0  \n",
       "2  HYPERICUM PERFORATUM            GREEN TEA          NaN  \n",
       "3  TANACETUM PARTHENIUM          NIU BANG ZI          NaN  \n",
       "4             FENUGREEK  CRATAEGUS LAEVIGATA          NaN  "
      ]
     },
     "execution_count": 9,
     "metadata": {},
     "output_type": "execute_result"
    }
   ],
   "source": [
    "for i in range(len(test_eval.index)):\n",
    "    lookup = test_eval.at[i, 'lookup_value']\n",
    "    lookup_clean = clean(lookup)\n",
    "    if lookup_clean == test_eval.at[i, 'rank1_drug']:\n",
    "        test_eval.at[i, 'lookup_rank'] = 1\n",
    "    elif lookup_clean == test_eval.at[i, 'rank2_drug']:\n",
    "        test_eval.at[i, 'lookup_rank'] = 2\n",
    "    elif lookup_clean == test_eval.at[i, 'rank3_drug']:\n",
    "        test_eval.at[i, 'lookup_rank'] = 3\n",
    "    elif lookup_clean == test_eval.at[i, 'rank4_drug']:\n",
    "        test_eval.at[i, 'lookup_rank'] = 4\n",
    "    elif lookup_clean == test_eval.at[i, 'rank5_drug']:\n",
    "        test_eval.at[i, 'lookup_rank'] = 5\n",
    "test_eval.head()"
   ]
  },
  {
   "cell_type": "code",
   "execution_count": 10,
   "metadata": {},
   "outputs": [],
   "source": [
    "test_eval.to_csv(\"evaluation/test_siamese_evaluation_exp1.csv\", index=False)"
   ]
  },
  {
   "cell_type": "markdown",
   "metadata": {},
   "source": [
    "### Scratch code blocks below"
   ]
  },
  {
   "cell_type": "code",
   "execution_count": null,
   "metadata": {},
   "outputs": [],
   "source": [
    "##add code for precision @k, MAP and nDCG"
   ]
  },
  {
   "cell_type": "code",
   "execution_count": 37,
   "metadata": {},
   "outputs": [
    {
     "name": "stdout",
     "output_type": "stream",
     "text": [
      "<class 'pandas.core.frame.DataFrame'>\n",
      "RangeIndex: 2679 entries, 0 to 2678\n",
      "Data columns (total 6 columns):\n",
      " #   Column                  Non-Null Count  Dtype  \n",
      "---  ------                  --------------  -----  \n",
      " 0   seq                     2679 non-null   int64  \n",
      " 1   drug_name_original      2679 non-null   object \n",
      " 2   related_common_name     2679 non-null   object \n",
      " 3   related_latin_binomial  2679 non-null   object \n",
      " 4   lookup_value            2679 non-null   object \n",
      " 5   concept_id              1925 non-null   float64\n",
      "dtypes: float64(1), int64(1), object(4)\n",
      "memory usage: 125.7+ KB\n"
     ]
    }
   ],
   "source": [
    "#in test set, find all NPs and create NP-test\n",
    "npref = pd.read_csv('data/np_faers_reference_set_202202101209.csv')\n",
    "npref.info()"
   ]
  },
  {
   "cell_type": "code",
   "execution_count": 50,
   "metadata": {},
   "outputs": [
    {
     "data": {
      "text/html": [
       "<div>\n",
       "<style scoped>\n",
       "    .dataframe tbody tr th:only-of-type {\n",
       "        vertical-align: middle;\n",
       "    }\n",
       "\n",
       "    .dataframe tbody tr th {\n",
       "        vertical-align: top;\n",
       "    }\n",
       "\n",
       "    .dataframe thead th {\n",
       "        text-align: right;\n",
       "    }\n",
       "</style>\n",
       "<table border=\"1\" class=\"dataframe\">\n",
       "  <thead>\n",
       "    <tr style=\"text-align: right;\">\n",
       "      <th></th>\n",
       "      <th>index</th>\n",
       "      <th>drug_name_original</th>\n",
       "      <th>lookup_value</th>\n",
       "    </tr>\n",
       "  </thead>\n",
       "  <tbody>\n",
       "    <tr>\n",
       "      <th>0</th>\n",
       "      <td>368981</td>\n",
       "      <td>NITROGLYCERIN PILLS</td>\n",
       "      <td>NITROGLYCERIN</td>\n",
       "    </tr>\n",
       "    <tr>\n",
       "      <th>1</th>\n",
       "      <td>20960</td>\n",
       "      <td>VITAMINS/MINERALS D3 B50 COMPLEX</td>\n",
       "      <td>MULTIVITAMIN PREPARATION</td>\n",
       "    </tr>\n",
       "    <tr>\n",
       "      <th>2</th>\n",
       "      <td>320735</td>\n",
       "      <td>T. SELOKEN ZOC (METOPROLOL SUCCINATE)</td>\n",
       "      <td>METOPROLOL SUCCINATE</td>\n",
       "    </tr>\n",
       "    <tr>\n",
       "      <th>3</th>\n",
       "      <td>34002</td>\n",
       "      <td>CEFTUM TABLET</td>\n",
       "      <td>CEFUROXIME AXETIL</td>\n",
       "    </tr>\n",
       "    <tr>\n",
       "      <th>4</th>\n",
       "      <td>321068</td>\n",
       "      <td>VALPROATE (TABLETS) VALPROATE SODIUM</td>\n",
       "      <td>VALPROATE SODIUM</td>\n",
       "    </tr>\n",
       "  </tbody>\n",
       "</table>\n",
       "</div>"
      ],
      "text/plain": [
       "    index                     drug_name_original              lookup_value\n",
       "0  368981                    NITROGLYCERIN PILLS             NITROGLYCERIN\n",
       "1   20960       VITAMINS/MINERALS D3 B50 COMPLEX  MULTIVITAMIN PREPARATION\n",
       "2  320735  T. SELOKEN ZOC (METOPROLOL SUCCINATE)      METOPROLOL SUCCINATE\n",
       "3   34002                          CEFTUM TABLET         CEFUROXIME AXETIL\n",
       "4  321068   VALPROATE (TABLETS) VALPROATE SODIUM          VALPROATE SODIUM"
      ]
     },
     "execution_count": 50,
     "metadata": {},
     "output_type": "execute_result"
    }
   ],
   "source": [
    "testnp = test.reset_index()\n",
    "testnp.head()"
   ]
  },
  {
   "cell_type": "code",
   "execution_count": 39,
   "metadata": {},
   "outputs": [
    {
     "name": "stdout",
     "output_type": "stream",
     "text": [
      "<class 'pandas.core.frame.DataFrame'>\n",
      "Int64Index: 483 entries, 0 to 482\n",
      "Data columns (total 8 columns):\n",
      " #   Column                  Non-Null Count  Dtype  \n",
      "---  ------                  --------------  -----  \n",
      " 0   index                   483 non-null    int64  \n",
      " 1   drug_name_original      483 non-null    object \n",
      " 2   lookup_value_x          483 non-null    object \n",
      " 3   seq                     483 non-null    int64  \n",
      " 4   related_common_name     483 non-null    object \n",
      " 5   related_latin_binomial  483 non-null    object \n",
      " 6   lookup_value_y          483 non-null    object \n",
      " 7   concept_id              340 non-null    float64\n",
      "dtypes: float64(1), int64(2), object(5)\n",
      "memory usage: 34.0+ KB\n"
     ]
    }
   ],
   "source": [
    "testnp_df = pd.merge(testnp, npref, how='inner', on=['drug_name_original'])\n",
    "testnp_df.info()"
   ]
  },
  {
   "cell_type": "code",
   "execution_count": 41,
   "metadata": {},
   "outputs": [
    {
     "name": "stdout",
     "output_type": "stream",
     "text": [
      "<class 'pandas.core.frame.DataFrame'>\n",
      "Int64Index: 483 entries, 0 to 482\n",
      "Data columns (total 3 columns):\n",
      " #   Column              Non-Null Count  Dtype \n",
      "---  ------              --------------  ----- \n",
      " 0   index               483 non-null    int64 \n",
      " 1   drug_name_original  483 non-null    object\n",
      " 2   lookup_value_x      483 non-null    object\n",
      "dtypes: int64(1), object(2)\n",
      "memory usage: 15.1+ KB\n"
     ]
    }
   ],
   "source": [
    "testnp_df = testnp_df[['index', 'drug_name_original', 'lookup_value_x']]\n",
    "testnp_df.info()"
   ]
  },
  {
   "cell_type": "code",
   "execution_count": 43,
   "metadata": {},
   "outputs": [],
   "source": [
    "testnp_df = testnp_df.rename(columns={\"lookup_value_x\": \"lookup_value\"})"
   ]
  },
  {
   "cell_type": "code",
   "execution_count": 44,
   "metadata": {},
   "outputs": [],
   "source": [
    "testnp_df.to_csv('evaluation/test_set_np.csv', index=False)"
   ]
  },
  {
   "cell_type": "code",
   "execution_count": 45,
   "metadata": {},
   "outputs": [],
   "source": [
    "test_np_eval = pd.DataFrame(columns = ['drug_name_original', 'lookup_value', 'rank1_drug', 'rank2_drug', 'rank3_drug', 'lookup_rank'])"
   ]
  },
  {
   "cell_type": "code",
   "execution_count": 46,
   "metadata": {},
   "outputs": [
    {
     "data": {
      "text/html": [
       "<div>\n",
       "<style scoped>\n",
       "    .dataframe tbody tr th:only-of-type {\n",
       "        vertical-align: middle;\n",
       "    }\n",
       "\n",
       "    .dataframe tbody tr th {\n",
       "        vertical-align: top;\n",
       "    }\n",
       "\n",
       "    .dataframe thead th {\n",
       "        text-align: right;\n",
       "    }\n",
       "</style>\n",
       "<table border=\"1\" class=\"dataframe\">\n",
       "  <thead>\n",
       "    <tr style=\"text-align: right;\">\n",
       "      <th></th>\n",
       "      <th>index</th>\n",
       "      <th>drug_name_original</th>\n",
       "      <th>lookup_value</th>\n",
       "    </tr>\n",
       "  </thead>\n",
       "  <tbody>\n",
       "    <tr>\n",
       "      <th>0</th>\n",
       "      <td>106183</td>\n",
       "      <td>CRANBERRY CHEWS</td>\n",
       "      <td>CRANBERRY</td>\n",
       "    </tr>\n",
       "    <tr>\n",
       "      <th>1</th>\n",
       "      <td>106466</td>\n",
       "      <td>BARLEY GREEN</td>\n",
       "      <td>BARLEY GRASS</td>\n",
       "    </tr>\n",
       "    <tr>\n",
       "      <th>2</th>\n",
       "      <td>107020</td>\n",
       "      <td>CRANBERRY [VACCINIUM MACROCARPON</td>\n",
       "      <td>CRANBERRY</td>\n",
       "    </tr>\n",
       "    <tr>\n",
       "      <th>3</th>\n",
       "      <td>322801</td>\n",
       "      <td>GREEN TEA OTC</td>\n",
       "      <td>GREEN TEA</td>\n",
       "    </tr>\n",
       "    <tr>\n",
       "      <th>4</th>\n",
       "      <td>106189</td>\n",
       "      <td>FLAX CAPSULES</td>\n",
       "      <td>FLAX SEED</td>\n",
       "    </tr>\n",
       "  </tbody>\n",
       "</table>\n",
       "</div>"
      ],
      "text/plain": [
       "    index                drug_name_original  lookup_value\n",
       "0  106183                   CRANBERRY CHEWS     CRANBERRY\n",
       "1  106466                      BARLEY GREEN  BARLEY GRASS\n",
       "2  107020  CRANBERRY [VACCINIUM MACROCARPON     CRANBERRY\n",
       "3  322801                     GREEN TEA OTC     GREEN TEA\n",
       "4  106189                     FLAX CAPSULES     FLAX SEED"
      ]
     },
     "execution_count": 46,
     "metadata": {},
     "output_type": "execute_result"
    }
   ],
   "source": [
    "testnp_df.head()"
   ]
  },
  {
   "cell_type": "code",
   "execution_count": 51,
   "metadata": {},
   "outputs": [],
   "source": [
    "npxtest, npytest = clean_dataset(testnp_df)\n",
    "npXtest, npYtest = encode_dataset(npxtest,npytest)\n",
    "nppadded_xTest, nppadded_yTest = padding_dataset(npXtest,npYtest)"
   ]
  },
  {
   "cell_type": "code",
   "execution_count": 54,
   "metadata": {},
   "outputs": [
    {
     "name": "stderr",
     "output_type": "stream",
     "text": [
      "2022-02-10 12:39:08.325967: I tensorflow/stream_executor/cuda/cuda_dnn.cc:366] Loaded cuDNN version 8302\n"
     ]
    },
    {
     "data": {
      "text/html": [
       "<div>\n",
       "<style scoped>\n",
       "    .dataframe tbody tr th:only-of-type {\n",
       "        vertical-align: middle;\n",
       "    }\n",
       "\n",
       "    .dataframe tbody tr th {\n",
       "        vertical-align: top;\n",
       "    }\n",
       "\n",
       "    .dataframe thead th {\n",
       "        text-align: right;\n",
       "    }\n",
       "</style>\n",
       "<table border=\"1\" class=\"dataframe\">\n",
       "  <thead>\n",
       "    <tr style=\"text-align: right;\">\n",
       "      <th></th>\n",
       "      <th>drug_name_original</th>\n",
       "      <th>lookup_value</th>\n",
       "      <th>rank1_drug</th>\n",
       "      <th>rank2_drug</th>\n",
       "      <th>rank3_drug</th>\n",
       "      <th>lookup_rank</th>\n",
       "    </tr>\n",
       "  </thead>\n",
       "  <tbody>\n",
       "    <tr>\n",
       "      <th>0</th>\n",
       "      <td>CRANBERRY CHEWS</td>\n",
       "      <td>CRANBERRY</td>\n",
       "      <td>CRANBERRY JUICE</td>\n",
       "      <td>CRANBERRY PREPARATION</td>\n",
       "      <td>CRANBERRY</td>\n",
       "      <td>NaN</td>\n",
       "    </tr>\n",
       "    <tr>\n",
       "      <th>1</th>\n",
       "      <td>BARLEY GREEN</td>\n",
       "      <td>BARLEY GRASS</td>\n",
       "      <td>BARLEY GRASS</td>\n",
       "      <td>BARBITAL</td>\n",
       "      <td>BARBEXACLONE</td>\n",
       "      <td>NaN</td>\n",
       "    </tr>\n",
       "    <tr>\n",
       "      <th>2</th>\n",
       "      <td>CRANBERRY [VACCINIUM MACROCARPON</td>\n",
       "      <td>CRANBERRY</td>\n",
       "      <td>CANRENOATE POTASSIUM</td>\n",
       "      <td>CRANTEX LA</td>\n",
       "      <td>CRANBERRY EXTRACT</td>\n",
       "      <td>NaN</td>\n",
       "    </tr>\n",
       "    <tr>\n",
       "      <th>3</th>\n",
       "      <td>GREEN TEA OTC</td>\n",
       "      <td>GREEN TEA</td>\n",
       "      <td>GREEN TEA EXTRACT</td>\n",
       "      <td>GREEN TEA</td>\n",
       "      <td>GREEN TEA LEAF EXTRACT</td>\n",
       "      <td>NaN</td>\n",
       "    </tr>\n",
       "    <tr>\n",
       "      <th>4</th>\n",
       "      <td>FLAX CAPSULES</td>\n",
       "      <td>FLAX SEED</td>\n",
       "      <td>FLURESS</td>\n",
       "      <td>FLUOROURACIL</td>\n",
       "      <td>FLUANXOL</td>\n",
       "      <td>NaN</td>\n",
       "    </tr>\n",
       "  </tbody>\n",
       "</table>\n",
       "</div>"
      ],
      "text/plain": [
       "                 drug_name_original  lookup_value            rank1_drug  \\\n",
       "0                   CRANBERRY CHEWS     CRANBERRY       CRANBERRY JUICE   \n",
       "1                      BARLEY GREEN  BARLEY GRASS          BARLEY GRASS   \n",
       "2  CRANBERRY [VACCINIUM MACROCARPON     CRANBERRY  CANRENOATE POTASSIUM   \n",
       "3                     GREEN TEA OTC     GREEN TEA     GREEN TEA EXTRACT   \n",
       "4                     FLAX CAPSULES     FLAX SEED               FLURESS   \n",
       "\n",
       "              rank2_drug              rank3_drug lookup_rank  \n",
       "0  CRANBERRY PREPARATION               CRANBERRY         NaN  \n",
       "1               BARBITAL            BARBEXACLONE         NaN  \n",
       "2             CRANTEX LA       CRANBERRY EXTRACT         NaN  \n",
       "3              GREEN TEA  GREEN TEA LEAF EXTRACT         NaN  \n",
       "4           FLUOROURACIL                FLUANXOL         NaN  "
      ]
     },
     "execution_count": 54,
     "metadata": {},
     "output_type": "execute_result"
    }
   ],
   "source": [
    "#testing model on only NPs in test set\n",
    "for i in range(len(testnp_df.index)):\n",
    "    np_index = testnp_df.at[i, 'index']\n",
    "    predicts = siamese_model.predict([np.tile(nppadded_xTest[i,:], (dUnique.shape[0],1)), dUnique])\n",
    "    argsort = np.argsort(-predicts.flatten())\n",
    "    test_np_eval.at[i, 'drug_name_original'] = test.at[np_index, 'drug_name_original']\n",
    "    test_np_eval.at[i, 'lookup_value'] = test.at[np_index, 'lookup_value']\n",
    "    test_np_eval.at[i, 'rank1_drug'] = dUnique_df.iloc[argsort[0]].dUnique_label\n",
    "    test_np_eval.at[i, 'rank2_drug'] = dUnique_df.iloc[argsort[1]].dUnique_label\n",
    "    test_np_eval.at[i, 'rank3_drug'] = dUnique_df.iloc[argsort[2]].dUnique_label\n",
    "test_np_eval.head()"
   ]
  },
  {
   "cell_type": "code",
   "execution_count": 55,
   "metadata": {},
   "outputs": [
    {
     "data": {
      "text/html": [
       "<div>\n",
       "<style scoped>\n",
       "    .dataframe tbody tr th:only-of-type {\n",
       "        vertical-align: middle;\n",
       "    }\n",
       "\n",
       "    .dataframe tbody tr th {\n",
       "        vertical-align: top;\n",
       "    }\n",
       "\n",
       "    .dataframe thead th {\n",
       "        text-align: right;\n",
       "    }\n",
       "</style>\n",
       "<table border=\"1\" class=\"dataframe\">\n",
       "  <thead>\n",
       "    <tr style=\"text-align: right;\">\n",
       "      <th></th>\n",
       "      <th>drug_name_original</th>\n",
       "      <th>lookup_value</th>\n",
       "      <th>rank1_drug</th>\n",
       "      <th>rank2_drug</th>\n",
       "      <th>rank3_drug</th>\n",
       "      <th>lookup_rank</th>\n",
       "    </tr>\n",
       "  </thead>\n",
       "  <tbody>\n",
       "    <tr>\n",
       "      <th>0</th>\n",
       "      <td>CRANBERRY CHEWS</td>\n",
       "      <td>CRANBERRY</td>\n",
       "      <td>CRANBERRY JUICE</td>\n",
       "      <td>CRANBERRY PREPARATION</td>\n",
       "      <td>CRANBERRY</td>\n",
       "      <td>3</td>\n",
       "    </tr>\n",
       "    <tr>\n",
       "      <th>1</th>\n",
       "      <td>BARLEY GREEN</td>\n",
       "      <td>BARLEY GRASS</td>\n",
       "      <td>BARLEY GRASS</td>\n",
       "      <td>BARBITAL</td>\n",
       "      <td>BARBEXACLONE</td>\n",
       "      <td>1</td>\n",
       "    </tr>\n",
       "    <tr>\n",
       "      <th>2</th>\n",
       "      <td>CRANBERRY [VACCINIUM MACROCARPON</td>\n",
       "      <td>CRANBERRY</td>\n",
       "      <td>CANRENOATE POTASSIUM</td>\n",
       "      <td>CRANTEX LA</td>\n",
       "      <td>CRANBERRY EXTRACT</td>\n",
       "      <td>NaN</td>\n",
       "    </tr>\n",
       "    <tr>\n",
       "      <th>3</th>\n",
       "      <td>GREEN TEA OTC</td>\n",
       "      <td>GREEN TEA</td>\n",
       "      <td>GREEN TEA EXTRACT</td>\n",
       "      <td>GREEN TEA</td>\n",
       "      <td>GREEN TEA LEAF EXTRACT</td>\n",
       "      <td>2</td>\n",
       "    </tr>\n",
       "    <tr>\n",
       "      <th>4</th>\n",
       "      <td>FLAX CAPSULES</td>\n",
       "      <td>FLAX SEED</td>\n",
       "      <td>FLURESS</td>\n",
       "      <td>FLUOROURACIL</td>\n",
       "      <td>FLUANXOL</td>\n",
       "      <td>NaN</td>\n",
       "    </tr>\n",
       "  </tbody>\n",
       "</table>\n",
       "</div>"
      ],
      "text/plain": [
       "                 drug_name_original  lookup_value            rank1_drug  \\\n",
       "0                   CRANBERRY CHEWS     CRANBERRY       CRANBERRY JUICE   \n",
       "1                      BARLEY GREEN  BARLEY GRASS          BARLEY GRASS   \n",
       "2  CRANBERRY [VACCINIUM MACROCARPON     CRANBERRY  CANRENOATE POTASSIUM   \n",
       "3                     GREEN TEA OTC     GREEN TEA     GREEN TEA EXTRACT   \n",
       "4                     FLAX CAPSULES     FLAX SEED               FLURESS   \n",
       "\n",
       "              rank2_drug              rank3_drug lookup_rank  \n",
       "0  CRANBERRY PREPARATION               CRANBERRY           3  \n",
       "1               BARBITAL            BARBEXACLONE           1  \n",
       "2             CRANTEX LA       CRANBERRY EXTRACT         NaN  \n",
       "3              GREEN TEA  GREEN TEA LEAF EXTRACT           2  \n",
       "4           FLUOROURACIL                FLUANXOL         NaN  "
      ]
     },
     "execution_count": 55,
     "metadata": {},
     "output_type": "execute_result"
    }
   ],
   "source": [
    "for i in range(len(test_np_eval.index)):\n",
    "    lookup = test_np_eval.at[i, 'lookup_value']\n",
    "    if lookup == test_np_eval.at[i, 'rank1_drug']:\n",
    "        test_np_eval.at[i, 'lookup_rank'] = 1\n",
    "    elif lookup == test_np_eval.at[i, 'rank2_drug']:\n",
    "        test_np_eval.at[i, 'lookup_rank'] = 2\n",
    "    elif lookup == test_np_eval.at[i, 'rank3_drug']:\n",
    "        test_np_eval.at[i, 'lookup_rank'] = 3\n",
    "test_np_eval.head()\n"
   ]
  },
  {
   "cell_type": "code",
   "execution_count": 56,
   "metadata": {},
   "outputs": [],
   "source": [
    "test_np_eval.to_csv('evaluation/siamese_eval_NP_exp1.csv', index=False)"
   ]
  },
  {
   "cell_type": "code",
   "execution_count": null,
   "metadata": {},
   "outputs": [],
   "source": []
  },
  {
   "cell_type": "markdown",
   "metadata": {
    "id": "Su5EWyYpzlmK"
   },
   "source": [
    "# Comparison between methods\n",
    "- use hit@topK metrics "
   ]
  },
  {
   "cell_type": "code",
   "execution_count": null,
   "metadata": {
    "id": "FIrlDdgsAmsv"
   },
   "outputs": [],
   "source": [
    "def hit_at_k(predictions):\n",
    "  \n",
    "    N = len(predictions)\n",
    "    hitAt = []\n",
    "    predictions = np.array(predictions)\n",
    "    predictions.sort()\n",
    "    \n",
    "    for k in range(N):\n",
    "      atK = (predictions <= k).sum()\n",
    "      hitAt.append(atK/N)\n",
    "\n",
    "    return hitAt"
   ]
  },
  {
   "cell_type": "code",
   "execution_count": null,
   "metadata": {
    "id": "09QIFnbjDdpw"
   },
   "outputs": [],
   "source": [
    "se = hit_at_k(ranksEmbed)\n",
    "mp = hit_at_k(all_f[0])\n",
    "nm = hit_at_k(all_f2[0])\n",
    "sn = hit_at_k(siamese_ranks)"
   ]
  },
  {
   "cell_type": "code",
   "execution_count": null,
   "metadata": {
    "id": "HU3ir__FWEwG"
   },
   "outputs": [],
   "source": [
    "se10 = [hit_at_k(r) for r in ranks10]\n",
    "mp10 = [hit_at_k(r) for r in ranks10_mp_0]\n",
    "nm10 = [hit_at_k(r) for r in ranks10_nm_0]"
   ]
  },
  {
   "cell_type": "code",
   "execution_count": null,
   "metadata": {
    "colab": {
     "base_uri": "https://localhost:8080/",
     "height": 295
    },
    "id": "sU4_bj7EF1H2",
    "outputId": "759f3cfa-68e8-4da4-bc9e-0dd0a60e1b87"
   },
   "outputs": [
    {
     "data": {
      "image/png": "[encoded data removed]",
      "text/plain": [
       "<Figure size 432x288 with 1 Axes>"
      ]
     },
     "metadata": {
      "needs_background": "light"
     },
     "output_type": "display_data"
    }
   ],
   "source": [
    "plt.plot(range(len(se)), se, label=\"symptoms embedding\")\n",
    "plt.plot(range(len(se)), mp, label=\"metaphone edit dist\")\n",
    "plt.plot(range(len(se)), nm, label=\"edit dist\")\n",
    "plt.plot(range(len(se)), sn, label=\"Siamese network\")\n",
    "plt.legend()\n",
    "plt.xlabel(\"K (hit@K)\")\n",
    "plt.ylabel(\"Percentage of hit\")\n",
    "plt.title(\"Percentage of query hit@K\")\n",
    "plt.show()"
   ]
  },
  {
   "cell_type": "code",
   "execution_count": null,
   "metadata": {
    "colab": {
     "base_uri": "https://localhost:8080/",
     "height": 295
    },
    "id": "7Lbet9imUyfT",
    "outputId": "7b43abc1-286b-4ee7-b3fa-db4a505c6f0b"
   },
   "outputs": [
    {
     "data": {
      "image/png": "[encoded data removed]",
      "text/plain": [
       "<Figure size 432x288 with 1 Axes>"
      ]
     },
     "metadata": {
      "needs_background": "light"
     },
     "output_type": "display_data"
    }
   ],
   "source": [
    "# I need to repeat this. Last time I use wrong variables. -*- \n",
    "\n",
    "dt1 = pd.DataFrame(se10)\n",
    "dt1 = pd.melt(dt1.reset_index(), id_vars=\"index\")\n",
    "dt1[\"name\"] = \"se\"\n",
    "dt2 = pd.DataFrame(mp10)\n",
    "dt2 = pd.melt(dt2.reset_index(), id_vars=\"index\")\n",
    "dt2[\"name\"] =\"mp\"\n",
    "dt3 = pd.DataFrame(nm10)\n",
    "dt3 = pd.melt(dt3.reset_index(), id_vars=\"index\")\n",
    "dt3[\"name\"] = \"nm\"\n",
    "dt =pd.concat([dt1,dt2,dt3])\n",
    "\n",
    "sns.lineplot( x = \"variable\", y = \"value\", hue=\"name\", data=dt.reset_index(drop=True))\n",
    "plt.xlabel(\"K (hit@K)\")\n",
    "plt.ylabel(\"Percentage of hit\")\n",
    "plt.title(\"Percentage of query hit@K\")\n",
    "plt.show()"
   ]
  },
  {
   "cell_type": "markdown",
   "metadata": {
    "id": "uX6JXLSqdNPK"
   },
   "source": []
  },
  {
   "cell_type": "code",
   "execution_count": null,
   "metadata": {
    "id": "FcYMz7gedNk9"
   },
   "outputs": [],
   "source": []
  }
 ],
 "metadata": {
  "colab": {
   "collapsed_sections": [
    "n4hQ4x-G30K3"
   ],
   "name": "bmi_project_for_team.ipynb",
   "provenance": [],
   "toc_visible": true
  },
  "kernelspec": {
   "display_name": "Python 3 (ipykernel)",
   "language": "python",
   "name": "python3"
  },
  "language_info": {
   "codemirror_mode": {
    "name": "ipython",
    "version": 3
   },
   "file_extension": ".py",
   "mimetype": "text/x-python",
   "name": "python",
   "nbconvert_exporter": "python",
   "pygments_lexer": "ipython3",
   "version": "3.8.0"
  }
 },
 "nbformat": 4,
 "nbformat_minor": 4
}
