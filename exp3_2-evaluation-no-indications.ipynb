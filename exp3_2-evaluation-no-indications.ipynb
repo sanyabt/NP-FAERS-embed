{
 "cells": [
  {
   "cell_type": "code",
   "execution_count": 1,
   "id": "c9bf7ba9",
   "metadata": {},
   "outputs": [],
   "source": [
    "import numpy as np\n",
    "import pandas as pd\n",
    "import pickle\n",
    "#import matplotlib.pyplot as plt\n",
    "#import seaborn as sns\n",
    "from IPython.display import display, clear_output\n",
    "import re\n",
    "'''import skopt\n",
    "from skopt import BayesSearchCV\n",
    "from skopt import gp_minimize, forest_minimize\n",
    "from skopt.space import Real, Categorical, Integer\n",
    "from skopt.plots import plot_convergence\n",
    "from skopt.plots import plot_objective, plot_evaluations\n",
    "from skopt.plots import plot_histogram, plot_objective_2D\n",
    "from skopt.utils import use_named_args'''\n",
    "from tqdm import tqdm\n",
    "#!pip install scikit-optimize"
   ]
  },
  {
   "cell_type": "code",
   "execution_count": 2,
   "id": "5cc0f615",
   "metadata": {},
   "outputs": [
    {
     "name": "stdout",
     "output_type": "stream",
     "text": [
      "<class 'pandas.core.frame.DataFrame'>\n",
      "RangeIndex: 5358 entries, 0 to 5357\n",
      "Data columns (total 2 columns):\n",
      " #   Column            Non-Null Count  Dtype \n",
      "---  ------            --------------  ----- \n",
      " 0   FAERS_drug_match  5358 non-null   object\n",
      " 1   lookup_value      5358 non-null   object\n",
      "dtypes: object(2)\n",
      "memory usage: 83.8+ KB\n"
     ]
    }
   ],
   "source": [
    "#if starting from preprocess, load the drugs directly\n",
    "df = pd.read_csv('data/NP_FAERS_mapped_20220215.csv')\n",
    "df.info()"
   ]
  },
  {
   "cell_type": "code",
   "execution_count": 3,
   "id": "94858ce0",
   "metadata": {},
   "outputs": [],
   "source": [
    "#make all casing upper\n",
    "df['FAERS_drug_match'] = df['FAERS_drug_match'].str.upper()\n",
    "df['lookup_value'] = df['lookup_value'].str.upper()"
   ]
  },
  {
   "cell_type": "code",
   "execution_count": 4,
   "id": "7acb74a5",
   "metadata": {},
   "outputs": [],
   "source": [
    "import tensorflow as tf\n",
    "import string\n",
    "import random\n",
    "from sklearn.utils import shuffle\n",
    "from sklearn.model_selection import train_test_split"
   ]
  },
  {
   "cell_type": "code",
   "execution_count": 5,
   "id": "32a68b50",
   "metadata": {},
   "outputs": [],
   "source": [
    "# how i add noise \n",
    "# string w \n",
    "# proportion of noise added \n",
    "# uniform random from [0,1]\n",
    "# if <1/3 edit one position with new random character, else if <2/3 delete one position, else add one random character \n",
    "def add_noise(w, percent):\n",
    "  ''' edit, del, add'''\n",
    "  positions = random.choices(range(len(w)), k=int(percent*len(w)))\n",
    "  for p in positions:\n",
    "    r = random.random()\n",
    "    if r <= 0.3333: # edit\n",
    "      w = w[:p] + random.choice(string.ascii_uppercase) + w[p+1:]\n",
    "    elif r<= 0.6667: # delete\n",
    "      w = w[:p] + w[p+1:]\n",
    "    elif r<=1: # add\n",
    "      w = w[:p] + random.choice(string.ascii_uppercase) + w[p:]\n",
    "  return w\n",
    "\n",
    "def clean(text):\n",
    "    #remove all non-ascii, special characters and keep alphabets and space only. Can also use isalpha()\n",
    "    #convert to uppercase\n",
    "    #remove extra spaces\n",
    "    regex = re.compile('[^a-zA-Z ]')\n",
    "    r = regex.sub('', text)\n",
    "    result = re.sub(' +', ' ', r)\n",
    "    result = result.strip()\n",
    "    return result.upper()\n",
    "def clean_dataset(data):\n",
    "  x = []\n",
    "  y = []\n",
    "  for i in range(data.shape[0]):\n",
    "    w = clean(data.FAERS_drug_match.iloc[i])\n",
    "    v = clean(data.lookup_value.iloc[i])\n",
    "    x.append(w)\n",
    "    y.append(v)\n",
    "  return x,y\n",
    "\n",
    "def encode_dataset(x,y):\n",
    "  encode_dict = {l:i+1 for i,l in enumerate(string.ascii_uppercase + \" \")}\n",
    "  Xtrain = [[encode_dict[m] for m in n] for n in x]\n",
    "  Ytrain = [[encode_dict[m] for m in n] for n in y]\n",
    "  return Xtrain, Ytrain\n",
    "\n",
    "def clean_encode_padding(q, maxlen):\n",
    "  q = clean(q)\n",
    "  encode_dict = {l:i+1 for i,l in enumerate(string.ascii_uppercase + \" \")}\n",
    "  return tf.keras.preprocessing.sequence.pad_sequences(\n",
    "    [encode_dict[m] for m in q] , padding=\"post\", maxlen=maxlen)\n",
    "\n",
    "def padding_dataset(X,Y,maxlen):\n",
    "  padded_y = tf.keras.preprocessing.sequence.pad_sequences(\n",
    "    Y, padding=\"post\", maxlen=maxlen)\n",
    "  padded_x = tf.keras.preprocessing.sequence.pad_sequences(\n",
    "      X, padding=\"post\", maxlen=maxlen)\n",
    "  return padded_x, padded_y\n",
    "\n",
    "def cosine_distance(vects):\n",
    "    x, y = vects\n",
    "    return 1-tf.reduce_sum(tf.multiply(x,y),axis=1, keepdims=True)/(tf.norm(x,axis=1,keepdims=True)*tf.norm(y,axis=1,keepdims=True))\n",
    "\n",
    "def loss(margin=1):\n",
    "    def contrastive_loss(y_true, y_pred):\n",
    "        square_pred = tf.math.square(y_pred)\n",
    "        margin_square = tf.math.square(tf.math.maximum(margin - (y_pred), 0))\n",
    "        return tf.math.reduce_mean(\n",
    "            (1 - y_true) * square_pred + (y_true) * margin_square\n",
    "        )\n",
    "\n",
    "    return contrastive_loss\n",
    "\n",
    "def plt_metric(history, metric, title, has_valid=True):\n",
    "    \"\"\"Plots the given 'metric' from 'history'.\n",
    "\n",
    "    Arguments:\n",
    "        history: history attribute of History object returned from Model.fit.\n",
    "        metric: Metric to plot, a string value present as key in 'history'.\n",
    "        title: A string to be used as title of plot.\n",
    "        has_valid: Boolean, true if valid data was passed to Model.fit else false.\n",
    "\n",
    "    Returns:\n",
    "        None.\n",
    "    \"\"\"\n",
    "    plt.plot(history[metric])\n",
    "    if has_valid:\n",
    "        plt.plot(history[\"val_\" + metric])\n",
    "        plt.legend([\"train\", \"validation\"], loc=\"upper left\")\n",
    "    plt.title(title)\n",
    "    plt.ylabel(metric)\n",
    "    plt.xlabel(\"epoch\")\n",
    "    plt.show()\n"
   ]
  },
  {
   "cell_type": "code",
   "execution_count": 6,
   "id": "e5dcb0a2",
   "metadata": {},
   "outputs": [],
   "source": [
    "train, test = train_test_split(df, test_size=0.20, random_state=42)"
   ]
  },
  {
   "cell_type": "code",
   "execution_count": 7,
   "id": "2ddeb146",
   "metadata": {},
   "outputs": [
    {
     "data": {
      "text/plain": [
       "(4286, 2)"
      ]
     },
     "execution_count": 7,
     "metadata": {},
     "output_type": "execute_result"
    }
   ],
   "source": [
    "train.shape"
   ]
  },
  {
   "cell_type": "code",
   "execution_count": 8,
   "id": "d720a75d",
   "metadata": {},
   "outputs": [
    {
     "data": {
      "text/plain": [
       "(1072, 2)"
      ]
     },
     "execution_count": 8,
     "metadata": {},
     "output_type": "execute_result"
    }
   ],
   "source": [
    "test.shape"
   ]
  },
  {
   "cell_type": "code",
   "execution_count": 9,
   "id": "31ef8e33",
   "metadata": {},
   "outputs": [],
   "source": [
    "#padding length = maxlen\n",
    "maxlen = 400"
   ]
  },
  {
   "cell_type": "code",
   "execution_count": 10,
   "id": "547a283a",
   "metadata": {},
   "outputs": [],
   "source": [
    "xtest, ytest = clean_dataset(test)\n",
    "Xtest, Ytest = encode_dataset(xtest,ytest)\n",
    "padded_xTest, padded_yTest = padding_dataset(Xtest,Ytest,maxlen)"
   ]
  },
  {
   "cell_type": "code",
   "execution_count": 11,
   "id": "9d3b2586",
   "metadata": {},
   "outputs": [
    {
     "data": {
      "text/plain": [
       "(1072, 400)"
      ]
     },
     "execution_count": 11,
     "metadata": {},
     "output_type": "execute_result"
    }
   ],
   "source": [
    "padded_xTest.shape"
   ]
  },
  {
   "cell_type": "code",
   "execution_count": 12,
   "id": "17f469fe",
   "metadata": {},
   "outputs": [],
   "source": [
    "#without noise \n",
    "x, y = clean_dataset(train)"
   ]
  },
  {
   "cell_type": "code",
   "execution_count": 13,
   "id": "72b1b518",
   "metadata": {},
   "outputs": [
    {
     "data": {
      "text/plain": [
       "4286"
      ]
     },
     "execution_count": 13,
     "metadata": {},
     "output_type": "execute_result"
    }
   ],
   "source": [
    "len(y)"
   ]
  },
  {
   "cell_type": "code",
   "execution_count": 14,
   "id": "94ee3ac5",
   "metadata": {},
   "outputs": [],
   "source": [
    "encode_dict = {l:i+1 for i,l in enumerate(string.ascii_uppercase + \" \")}"
   ]
  },
  {
   "cell_type": "code",
   "execution_count": 15,
   "id": "4ec49f90",
   "metadata": {},
   "outputs": [],
   "source": [
    "Xtrain = [[encode_dict[m] for m in n] for n in x]\n",
    "Ytrain = [[encode_dict[m] for m in n] for n in y]"
   ]
  },
  {
   "cell_type": "code",
   "execution_count": 16,
   "id": "9ef740e4",
   "metadata": {},
   "outputs": [
    {
     "name": "stdout",
     "output_type": "stream",
     "text": [
      "4286\n",
      "4286\n"
     ]
    },
    {
     "name": "stderr",
     "output_type": "stream",
     "text": [
      "/home/sanya/.conda/envs/faers-embed/lib/python3.8/site-packages/numpy/lib/arraysetops.py:270: VisibleDeprecationWarning: Creating an ndarray from ragged nested sequences (which is a list-or-tuple of lists-or-tuples-or ndarrays with different lengths or shapes) is deprecated. If you meant to do this, you must specify 'dtype=object' when creating the ndarray.\n",
      "  ar = np.asanyarray(ar)\n"
     ]
    },
    {
     "data": {
      "text/plain": [
       "(125,)"
      ]
     },
     "execution_count": 16,
     "metadata": {},
     "output_type": "execute_result"
    }
   ],
   "source": [
    "print(len(Xtrain))\n",
    "print(len(Ytrain))\n",
    "np.unique(Ytrain).shape"
   ]
  },
  {
   "cell_type": "code",
   "execution_count": 17,
   "id": "a7659c01",
   "metadata": {},
   "outputs": [
    {
     "name": "stdout",
     "output_type": "stream",
     "text": [
      "[[19  5 18 ...  0  0  0]\n",
      " [15 16  8 ...  0  0  0]\n",
      " [ 3  9 14 ...  0  0  0]\n",
      " ...\n",
      " [ 1 12 12 ...  0  0  0]\n",
      " [ 1 12 12 ...  0  0  0]\n",
      " [ 8  5 13 ...  0  0  0]]\n"
     ]
    }
   ],
   "source": [
    "padded_y = tf.keras.preprocessing.sequence.pad_sequences(\n",
    "    Ytrain, padding=\"post\", maxlen=maxlen\n",
    ")\n",
    "padded_x = tf.keras.preprocessing.sequence.pad_sequences(\n",
    "    Xtrain, padding=\"post\", maxlen=maxlen\n",
    ")\n",
    "\n",
    "print(padded_y)"
   ]
  },
  {
   "cell_type": "code",
   "execution_count": 18,
   "id": "1dbfd826",
   "metadata": {},
   "outputs": [
    {
     "data": {
      "text/plain": [
       "27"
      ]
     },
     "execution_count": 18,
     "metadata": {},
     "output_type": "execute_result"
    }
   ],
   "source": [
    "len(encode_dict)"
   ]
  },
  {
   "cell_type": "code",
   "execution_count": 19,
   "id": "3c1a4a8f",
   "metadata": {},
   "outputs": [
    {
     "data": {
      "text/html": [
       "<div>\n",
       "<style scoped>\n",
       "    .dataframe tbody tr th:only-of-type {\n",
       "        vertical-align: middle;\n",
       "    }\n",
       "\n",
       "    .dataframe tbody tr th {\n",
       "        vertical-align: top;\n",
       "    }\n",
       "\n",
       "    .dataframe thead th {\n",
       "        text-align: right;\n",
       "    }\n",
       "</style>\n",
       "<table border=\"1\" class=\"dataframe\">\n",
       "  <thead>\n",
       "    <tr style=\"text-align: right;\">\n",
       "      <th></th>\n",
       "      <th>dUnique_label</th>\n",
       "      <th>dUnique_seq</th>\n",
       "      <th>dUnique_seq_padded</th>\n",
       "    </tr>\n",
       "  </thead>\n",
       "  <tbody>\n",
       "    <tr>\n",
       "      <th>0</th>\n",
       "      <td>ACTAEA RACEMOSA</td>\n",
       "      <td>NaN</td>\n",
       "      <td>NaN</td>\n",
       "    </tr>\n",
       "    <tr>\n",
       "      <th>1</th>\n",
       "      <td>AESCULUS HIPPOCASTANUM</td>\n",
       "      <td>NaN</td>\n",
       "      <td>NaN</td>\n",
       "    </tr>\n",
       "    <tr>\n",
       "      <th>2</th>\n",
       "      <td>ALLIUM SATIVUM</td>\n",
       "      <td>NaN</td>\n",
       "      <td>NaN</td>\n",
       "    </tr>\n",
       "    <tr>\n",
       "      <th>3</th>\n",
       "      <td>ALOE VERA</td>\n",
       "      <td>NaN</td>\n",
       "      <td>NaN</td>\n",
       "    </tr>\n",
       "    <tr>\n",
       "      <th>4</th>\n",
       "      <td>ANGELICA SINENSIS</td>\n",
       "      <td>NaN</td>\n",
       "      <td>NaN</td>\n",
       "    </tr>\n",
       "  </tbody>\n",
       "</table>\n",
       "</div>"
      ],
      "text/plain": [
       "            dUnique_label dUnique_seq dUnique_seq_padded\n",
       "0         ACTAEA RACEMOSA         NaN                NaN\n",
       "1  AESCULUS HIPPOCASTANUM         NaN                NaN\n",
       "2          ALLIUM SATIVUM         NaN                NaN\n",
       "3               ALOE VERA         NaN                NaN\n",
       "4       ANGELICA SINENSIS         NaN                NaN"
      ]
     },
     "execution_count": 19,
     "metadata": {},
     "output_type": "execute_result"
    }
   ],
   "source": [
    "dUnique_df = pd.DataFrame(columns = ['dUnique_label','dUnique_seq', 'dUnique_seq_padded'])\n",
    "dUnique_df['dUnique_label'] = np.unique(y)\n",
    "dUnique_df.head()"
   ]
  },
  {
   "cell_type": "code",
   "execution_count": 20,
   "id": "d6de2b9d",
   "metadata": {},
   "outputs": [
    {
     "data": {
      "text/plain": [
       "125"
      ]
     },
     "execution_count": 20,
     "metadata": {},
     "output_type": "execute_result"
    }
   ],
   "source": [
    "dUnique_seq_list = [[encode_dict[m] for m in n] for n in dUnique_df['dUnique_label'].tolist()]\n",
    "len(dUnique_seq_list)"
   ]
  },
  {
   "cell_type": "code",
   "execution_count": 21,
   "id": "f3b8eede",
   "metadata": {},
   "outputs": [
    {
     "data": {
      "text/html": [
       "<div>\n",
       "<style scoped>\n",
       "    .dataframe tbody tr th:only-of-type {\n",
       "        vertical-align: middle;\n",
       "    }\n",
       "\n",
       "    .dataframe tbody tr th {\n",
       "        vertical-align: top;\n",
       "    }\n",
       "\n",
       "    .dataframe thead th {\n",
       "        text-align: right;\n",
       "    }\n",
       "</style>\n",
       "<table border=\"1\" class=\"dataframe\">\n",
       "  <thead>\n",
       "    <tr style=\"text-align: right;\">\n",
       "      <th></th>\n",
       "      <th>dUnique_label</th>\n",
       "      <th>dUnique_seq</th>\n",
       "      <th>dUnique_seq_padded</th>\n",
       "    </tr>\n",
       "  </thead>\n",
       "  <tbody>\n",
       "    <tr>\n",
       "      <th>0</th>\n",
       "      <td>ACTAEA RACEMOSA</td>\n",
       "      <td>[1, 3, 20, 1, 5, 1, 27, 18, 1, 3, 5, 13, 15, 1...</td>\n",
       "      <td>NaN</td>\n",
       "    </tr>\n",
       "    <tr>\n",
       "      <th>1</th>\n",
       "      <td>AESCULUS HIPPOCASTANUM</td>\n",
       "      <td>[1, 5, 19, 3, 21, 12, 21, 19, 27, 8, 9, 16, 16...</td>\n",
       "      <td>NaN</td>\n",
       "    </tr>\n",
       "    <tr>\n",
       "      <th>2</th>\n",
       "      <td>ALLIUM SATIVUM</td>\n",
       "      <td>[1, 12, 12, 9, 21, 13, 27, 19, 1, 20, 9, 22, 2...</td>\n",
       "      <td>NaN</td>\n",
       "    </tr>\n",
       "    <tr>\n",
       "      <th>3</th>\n",
       "      <td>ALOE VERA</td>\n",
       "      <td>[1, 12, 15, 5, 27, 22, 5, 18, 1]</td>\n",
       "      <td>NaN</td>\n",
       "    </tr>\n",
       "    <tr>\n",
       "      <th>4</th>\n",
       "      <td>ANGELICA SINENSIS</td>\n",
       "      <td>[1, 14, 7, 5, 12, 9, 3, 1, 27, 19, 9, 14, 5, 1...</td>\n",
       "      <td>NaN</td>\n",
       "    </tr>\n",
       "  </tbody>\n",
       "</table>\n",
       "</div>"
      ],
      "text/plain": [
       "            dUnique_label                                        dUnique_seq  \\\n",
       "0         ACTAEA RACEMOSA  [1, 3, 20, 1, 5, 1, 27, 18, 1, 3, 5, 13, 15, 1...   \n",
       "1  AESCULUS HIPPOCASTANUM  [1, 5, 19, 3, 21, 12, 21, 19, 27, 8, 9, 16, 16...   \n",
       "2          ALLIUM SATIVUM  [1, 12, 12, 9, 21, 13, 27, 19, 1, 20, 9, 22, 2...   \n",
       "3               ALOE VERA                   [1, 12, 15, 5, 27, 22, 5, 18, 1]   \n",
       "4       ANGELICA SINENSIS  [1, 14, 7, 5, 12, 9, 3, 1, 27, 19, 9, 14, 5, 1...   \n",
       "\n",
       "  dUnique_seq_padded  \n",
       "0                NaN  \n",
       "1                NaN  \n",
       "2                NaN  \n",
       "3                NaN  \n",
       "4                NaN  "
      ]
     },
     "execution_count": 21,
     "metadata": {},
     "output_type": "execute_result"
    }
   ],
   "source": [
    "for i in range(len(dUnique_df.index)):\n",
    "    dUnique_df.at[i, 'dUnique_seq'] = np.array(dUnique_seq_list[i])\n",
    "dUnique_df.head()"
   ]
  },
  {
   "cell_type": "code",
   "execution_count": 22,
   "id": "fa10decf",
   "metadata": {},
   "outputs": [
    {
     "name": "stdout",
     "output_type": "stream",
     "text": [
      "<class 'pandas.core.frame.DataFrame'>\n",
      "RangeIndex: 9242 entries, 0 to 9241\n",
      "Data columns (total 2 columns):\n",
      " #   Column            Non-Null Count  Dtype \n",
      "---  ------            --------------  ----- \n",
      " 0   FAERS_drug_match  9242 non-null   object\n",
      " 1   lookup_value      9242 non-null   object\n",
      "dtypes: object(2)\n",
      "memory usage: 144.5+ KB\n"
     ]
    }
   ],
   "source": [
    "#setup negative pairs\n",
    "dfneg = pd.read_csv('data/NP_FAERS_negative_pairs_20220222.csv')\n",
    "dfneg.info()"
   ]
  },
  {
   "cell_type": "code",
   "execution_count": 23,
   "id": "e078706d",
   "metadata": {},
   "outputs": [],
   "source": [
    "#encode negative pairs and add padding\n",
    "xneg, yneg = clean_dataset(dfneg)\n",
    "Xneg, Yneg = encode_dataset(xneg,yneg)\n",
    "padded_xneg, padded_yneg = padding_dataset(Xneg,Yneg,maxlen)"
   ]
  },
  {
   "cell_type": "code",
   "execution_count": 22,
   "id": "ef18203e",
   "metadata": {},
   "outputs": [],
   "source": [
    "dUnique = tf.keras.preprocessing.sequence.pad_sequences(\n",
    "    list(dUnique_df['dUnique_seq']), padding=\"post\", maxlen=maxlen)"
   ]
  },
  {
   "cell_type": "code",
   "execution_count": 23,
   "id": "3c531f99",
   "metadata": {},
   "outputs": [
    {
     "data": {
      "text/plain": [
       "125"
      ]
     },
     "execution_count": 23,
     "metadata": {},
     "output_type": "execute_result"
    }
   ],
   "source": [
    "np_unique = dUnique_df.dUnique_label.tolist()\n",
    "len(np_unique)"
   ]
  },
  {
   "cell_type": "code",
   "execution_count": 26,
   "id": "cf602f0a",
   "metadata": {},
   "outputs": [
    {
     "name": "stdout",
     "output_type": "stream",
     "text": [
      "4286 4286 4286\n"
     ]
    }
   ],
   "source": [
    "#add positive pairs\n",
    "x1TrainRNN = []\n",
    "x2TrainRNN = []\n",
    "yTrainRNN = []\n",
    "for i in range(len(padded_x)):\n",
    "    yTrainRNN.append(1)\n",
    "    x1TrainRNN.append(padded_x[i])\n",
    "    x2TrainRNN.append(padded_y[i])\n",
    "print(len(x1TrainRNN), len(x2TrainRNN), len(yTrainRNN))"
   ]
  },
  {
   "cell_type": "code",
   "execution_count": 27,
   "id": "e10f643a",
   "metadata": {},
   "outputs": [
    {
     "data": {
      "text/html": [
       "<div>\n",
       "<style scoped>\n",
       "    .dataframe tbody tr th:only-of-type {\n",
       "        vertical-align: middle;\n",
       "    }\n",
       "\n",
       "    .dataframe tbody tr th {\n",
       "        vertical-align: top;\n",
       "    }\n",
       "\n",
       "    .dataframe thead th {\n",
       "        text-align: right;\n",
       "    }\n",
       "</style>\n",
       "<table border=\"1\" class=\"dataframe\">\n",
       "  <thead>\n",
       "    <tr style=\"text-align: right;\">\n",
       "      <th></th>\n",
       "      <th>index</th>\n",
       "      <th>FAERS_drug_match</th>\n",
       "      <th>lookup_value</th>\n",
       "    </tr>\n",
       "  </thead>\n",
       "  <tbody>\n",
       "    <tr>\n",
       "      <th>0</th>\n",
       "      <td>3956</td>\n",
       "      <td>SERENOA REPENS/SERENOA REPENS EXTRACT/SERENOA ...</td>\n",
       "      <td>SERENOA REPENS</td>\n",
       "    </tr>\n",
       "    <tr>\n",
       "      <th>1</th>\n",
       "      <td>4408</td>\n",
       "      <td>CORDYCEPS</td>\n",
       "      <td>OPHIOCORDYCEPS SINENSIS</td>\n",
       "    </tr>\n",
       "    <tr>\n",
       "      <th>2</th>\n",
       "      <td>120</td>\n",
       "      <td>CINNAMON (CINNAMOUM VERUM) (CAPSULES)</td>\n",
       "      <td>CINNAMON</td>\n",
       "    </tr>\n",
       "    <tr>\n",
       "      <th>3</th>\n",
       "      <td>3311</td>\n",
       "      <td>CHROMIUM PICOLINATE WITH GREEN TEA</td>\n",
       "      <td>CAMELLIA SINENSIS</td>\n",
       "    </tr>\n",
       "    <tr>\n",
       "      <th>4</th>\n",
       "      <td>1921</td>\n",
       "      <td>BARLEY.</td>\n",
       "      <td>BARLEY GRASS</td>\n",
       "    </tr>\n",
       "  </tbody>\n",
       "</table>\n",
       "</div>"
      ],
      "text/plain": [
       "   index                                   FAERS_drug_match  \\\n",
       "0   3956  SERENOA REPENS/SERENOA REPENS EXTRACT/SERENOA ...   \n",
       "1   4408                                          CORDYCEPS   \n",
       "2    120              CINNAMON (CINNAMOUM VERUM) (CAPSULES)   \n",
       "3   3311                 CHROMIUM PICOLINATE WITH GREEN TEA   \n",
       "4   1921                                            BARLEY.   \n",
       "\n",
       "              lookup_value  \n",
       "0           SERENOA REPENS  \n",
       "1  OPHIOCORDYCEPS SINENSIS  \n",
       "2                 CINNAMON  \n",
       "3        CAMELLIA SINENSIS  \n",
       "4             BARLEY GRASS  "
      ]
     },
     "execution_count": 27,
     "metadata": {},
     "output_type": "execute_result"
    }
   ],
   "source": [
    "train_res = train.reset_index()\n",
    "train_res.head()"
   ]
  },
  {
   "cell_type": "code",
   "execution_count": 28,
   "id": "3a532277",
   "metadata": {},
   "outputs": [
    {
     "data": {
      "text/plain": [
       "16916"
      ]
     },
     "execution_count": 28,
     "metadata": {},
     "output_type": "execute_result"
    }
   ],
   "source": [
    "#take negative pairs from training data\n",
    "faers_match = []\n",
    "lookup = []\n",
    "for i in range(len(train_res)):\n",
    "    np_name = train_res.at[i, 'FAERS_drug_match']\n",
    "    for j in random.choices(range(len(np_unique)), k=4):\n",
    "        np_temp = np_unique[j]\n",
    "        np_match = train_res.loc[train_res['FAERS_drug_match'] == np_name].lookup_value.tolist()\n",
    "        if np_temp not in np_match:\n",
    "            faers_match.append(np_name)\n",
    "            lookup.append(np_temp)\n",
    "len(faers_match)"
   ]
  },
  {
   "cell_type": "code",
   "execution_count": 29,
   "id": "e93d2461",
   "metadata": {},
   "outputs": [],
   "source": [
    "dfneg2 = pd.DataFrame(columns=['FAERS_drug_match', 'lookup_value'])\n",
    "dfneg2['FAERS_drug_match'] = faers_match\n",
    "dfneg2['lookup_value'] = lookup\n",
    "xneg2, yneg2 = clean_dataset(dfneg2)\n",
    "Xneg2, Yneg2 = encode_dataset(xneg2,yneg2)\n",
    "padded_xneg2, padded_yneg2 = padding_dataset(Xneg2,Yneg2,maxlen)"
   ]
  },
  {
   "cell_type": "code",
   "execution_count": 30,
   "id": "859b01bc",
   "metadata": {},
   "outputs": [
    {
     "name": "stdout",
     "output_type": "stream",
     "text": [
      "21202 21202 21202\n"
     ]
    }
   ],
   "source": [
    "##add negative pairs from training data\n",
    "for j in range(len(padded_xneg2)):\n",
    "    yTrainRNN.append(0)\n",
    "    x1TrainRNN.append(padded_xneg2[j])\n",
    "    x2TrainRNN.append(padded_yneg2[j])\n",
    "print(len(x1TrainRNN), len(x2TrainRNN), len(yTrainRNN))"
   ]
  },
  {
   "cell_type": "code",
   "execution_count": 31,
   "id": "9a581f2b",
   "metadata": {},
   "outputs": [
    {
     "name": "stdout",
     "output_type": "stream",
     "text": [
      "30444 30444 30444\n"
     ]
    }
   ],
   "source": [
    "##add negative pairs from reference set\n",
    "for j in range(len(padded_xneg)):\n",
    "    yTrainRNN.append(0)\n",
    "    x1TrainRNN.append(padded_xneg[j])\n",
    "    x2TrainRNN.append(padded_yneg[j])\n",
    "print(len(x1TrainRNN), len(x2TrainRNN), len(yTrainRNN))"
   ]
  },
  {
   "cell_type": "code",
   "execution_count": 24,
   "id": "c8bd255a",
   "metadata": {},
   "outputs": [
    {
     "data": {
      "text/html": [
       "<div>\n",
       "<style scoped>\n",
       "    .dataframe tbody tr th:only-of-type {\n",
       "        vertical-align: middle;\n",
       "    }\n",
       "\n",
       "    .dataframe tbody tr th {\n",
       "        vertical-align: top;\n",
       "    }\n",
       "\n",
       "    .dataframe thead th {\n",
       "        text-align: right;\n",
       "    }\n",
       "</style>\n",
       "<table border=\"1\" class=\"dataframe\">\n",
       "  <thead>\n",
       "    <tr style=\"text-align: right;\">\n",
       "      <th></th>\n",
       "      <th>dUnique_label</th>\n",
       "      <th>dUnique_seq</th>\n",
       "      <th>dUnique_seq_padded</th>\n",
       "    </tr>\n",
       "  </thead>\n",
       "  <tbody>\n",
       "    <tr>\n",
       "      <th>0</th>\n",
       "      <td>ACTAEA RACEMOSA</td>\n",
       "      <td>[1, 3, 20, 1, 5, 1, 27, 18, 1, 3, 5, 13, 15, 1...</td>\n",
       "      <td>[1, 3, 20, 1, 5, 1, 27, 18, 1, 3, 5, 13, 15, 1...</td>\n",
       "    </tr>\n",
       "    <tr>\n",
       "      <th>1</th>\n",
       "      <td>AESCULUS HIPPOCASTANUM</td>\n",
       "      <td>[1, 5, 19, 3, 21, 12, 21, 19, 27, 8, 9, 16, 16...</td>\n",
       "      <td>[1, 5, 19, 3, 21, 12, 21, 19, 27, 8, 9, 16, 16...</td>\n",
       "    </tr>\n",
       "    <tr>\n",
       "      <th>2</th>\n",
       "      <td>ALLIUM SATIVUM</td>\n",
       "      <td>[1, 12, 12, 9, 21, 13, 27, 19, 1, 20, 9, 22, 2...</td>\n",
       "      <td>[1, 12, 12, 9, 21, 13, 27, 19, 1, 20, 9, 22, 2...</td>\n",
       "    </tr>\n",
       "    <tr>\n",
       "      <th>3</th>\n",
       "      <td>ALOE VERA</td>\n",
       "      <td>[1, 12, 15, 5, 27, 22, 5, 18, 1]</td>\n",
       "      <td>[1, 12, 15, 5, 27, 22, 5, 18, 1, 0, 0, 0, 0, 0...</td>\n",
       "    </tr>\n",
       "    <tr>\n",
       "      <th>4</th>\n",
       "      <td>ANGELICA SINENSIS</td>\n",
       "      <td>[1, 14, 7, 5, 12, 9, 3, 1, 27, 19, 9, 14, 5, 1...</td>\n",
       "      <td>[1, 14, 7, 5, 12, 9, 3, 1, 27, 19, 9, 14, 5, 1...</td>\n",
       "    </tr>\n",
       "  </tbody>\n",
       "</table>\n",
       "</div>"
      ],
      "text/plain": [
       "            dUnique_label                                        dUnique_seq  \\\n",
       "0         ACTAEA RACEMOSA  [1, 3, 20, 1, 5, 1, 27, 18, 1, 3, 5, 13, 15, 1...   \n",
       "1  AESCULUS HIPPOCASTANUM  [1, 5, 19, 3, 21, 12, 21, 19, 27, 8, 9, 16, 16...   \n",
       "2          ALLIUM SATIVUM  [1, 12, 12, 9, 21, 13, 27, 19, 1, 20, 9, 22, 2...   \n",
       "3               ALOE VERA                   [1, 12, 15, 5, 27, 22, 5, 18, 1]   \n",
       "4       ANGELICA SINENSIS  [1, 14, 7, 5, 12, 9, 3, 1, 27, 19, 9, 14, 5, 1...   \n",
       "\n",
       "                                  dUnique_seq_padded  \n",
       "0  [1, 3, 20, 1, 5, 1, 27, 18, 1, 3, 5, 13, 15, 1...  \n",
       "1  [1, 5, 19, 3, 21, 12, 21, 19, 27, 8, 9, 16, 16...  \n",
       "2  [1, 12, 12, 9, 21, 13, 27, 19, 1, 20, 9, 22, 2...  \n",
       "3  [1, 12, 15, 5, 27, 22, 5, 18, 1, 0, 0, 0, 0, 0...  \n",
       "4  [1, 14, 7, 5, 12, 9, 3, 1, 27, 19, 9, 14, 5, 1...  "
      ]
     },
     "execution_count": 24,
     "metadata": {},
     "output_type": "execute_result"
    }
   ],
   "source": [
    "for i in range(len(dUnique_df.index)):\n",
    "    dUnique_df.at[i, 'dUnique_seq_padded'] = dUnique[i]\n",
    "dUnique_df.head()"
   ]
  },
  {
   "cell_type": "code",
   "execution_count": 33,
   "id": "fe76098f",
   "metadata": {},
   "outputs": [],
   "source": [
    "x1TrainRnnS, x1ValRnnS, x2TrainRnnS, x2ValRnnS, yTrainRnnS, yValRnnS = train_test_split(x1TrainRNN, x2TrainRNN, yTrainRNN, test_size=0.20, random_state=42)"
   ]
  },
  {
   "cell_type": "markdown",
   "id": "a93a0074",
   "metadata": {},
   "source": [
    "## Build model, load weights and evaluate on test data"
   ]
  },
  {
   "cell_type": "code",
   "execution_count": 25,
   "id": "f2a2d68a",
   "metadata": {},
   "outputs": [
    {
     "name": "stderr",
     "output_type": "stream",
     "text": [
      "2022-03-02 17:52:44.638220: I tensorflow/core/platform/cpu_feature_guard.cc:151] This TensorFlow binary is optimized with oneAPI Deep Neural Network Library (oneDNN) to use the following CPU instructions in performance-critical operations:  AVX2 AVX512F FMA\n",
      "To enable them in other operations, rebuild TensorFlow with the appropriate compiler flags.\n",
      "2022-03-02 17:52:45.592280: I tensorflow/core/common_runtime/gpu/gpu_device.cc:1525] Created device /job:localhost/replica:0/task:0/device:GPU:0 with 9648 MB memory:  -> device: 0, name: NVIDIA GeForce RTX 2080 Ti, pci bus id: 0000:af:00.0, compute capability: 7.5\n"
     ]
    }
   ],
   "source": [
    "def build_model2(model_type, embedding_dim, num_rnn_node, num_dense_node, num_layer, activation_fn, learning_rate, optimizer, margin):\n",
    "    input_x = tf.keras.layers.Input(maxlen)\n",
    "    input_1 = tf.keras.layers.Input(maxlen)\n",
    "    input_2 = tf.keras.layers.Input(maxlen)\n",
    "    embedding = tf.keras.layers.Embedding(input_dim=28, output_dim=embedding_dim, mask_zero=True)\n",
    "    x = embedding(input_x)\n",
    "    \n",
    "    if model_type == \"lstm\":\n",
    "        x = tf.keras.layers.LSTM(num_rnn_node)(x)\n",
    "    elif model_type==\"gru\":\n",
    "        x = tf.keras.layers.GRU(num_rnn_node)(x)\n",
    " \n",
    "    num = num_dense_node\n",
    "    for _ in range(num_layer):\n",
    "        x = tf.keras.layers.Dense(num, activation=activation_fn)(x)\n",
    "        num /= 2\n",
    "        \n",
    "    embedding_network = tf.keras.Model(input_x, x)\n",
    "\n",
    "    tower_1 = embedding_network(input_1)\n",
    "    tower_2 = embedding_network(input_2)\n",
    "\n",
    "    merge_layer = tf.keras.layers.Lambda(cosine_distance)([tower_1, tower_2])\n",
    "    output_layer = tf.keras.layers.Dense(1, activation=\"sigmoid\")(merge_layer)\n",
    "    contr = tf.keras.Model(inputs=[input_1, input_2], outputs=output_layer)\n",
    "    \n",
    "    if optimizer == \"Adam\":\n",
    "        opt = tf.keras.optimizers.Adam(learning_rate=learning_rate)\n",
    "    elif optimizer ==\"RMSprop\":                \n",
    "        opt = tf.keras.optimizers.RMSprop(learning_rate=learning_rate)\n",
    "    contr.compile(loss=loss(margin= margin), optimizer=opt, metrics=[\"accuracy\"])\n",
    "    return contr\n",
    "\n",
    "model = build_model2(\"lstm\", 256, 512, 256, 1, \"tanh\", 2e-4, \"Adam\", 0.8)\n",
    "# history = model.fit(x=[np.array(x1TrainRnnS), np.array(x2TrainRnnS)],\n",
    "#                         y=np.array(yTrainRnnS, dtype=np.float32),\n",
    "#                         epochs=30,\n",
    "#                         batch_size=4,\n",
    "#                         validation_data=([np.array(x1ValRnnS), np.array(x2ValRnnS)], np.array(yValRnnS, dtype=np.float32)))"
   ]
  },
  {
   "cell_type": "code",
   "execution_count": 26,
   "id": "6906c8aa",
   "metadata": {},
   "outputs": [],
   "source": [
    "model.load_weights(\"exp3/alstm-22-0.01.hdf5\")"
   ]
  },
  {
   "cell_type": "code",
   "execution_count": 27,
   "id": "86920fb0-a1b8-43ca-9c20-615d7c385b8d",
   "metadata": {},
   "outputs": [
    {
     "name": "stdout",
     "output_type": "stream",
     "text": [
      "Model: \"model_1\"\n",
      "__________________________________________________________________________________________________\n",
      " Layer (type)                   Output Shape         Param #     Connected to                     \n",
      "==================================================================================================\n",
      " input_2 (InputLayer)           [(None, 400)]        0           []                               \n",
      "                                                                                                  \n",
      " input_3 (InputLayer)           [(None, 400)]        0           []                               \n",
      "                                                                                                  \n",
      " model (Functional)             (None, 256)          1713408     ['input_2[0][0]',                \n",
      "                                                                  'input_3[0][0]']                \n",
      "                                                                                                  \n",
      " lambda (Lambda)                (None, 1)            0           ['model[0][0]',                  \n",
      "                                                                  'model[1][0]']                  \n",
      "                                                                                                  \n",
      " dense_1 (Dense)                (None, 1)            2           ['lambda[0][0]']                 \n",
      "                                                                                                  \n",
      "==================================================================================================\n",
      "Total params: 1,713,410\n",
      "Trainable params: 1,713,410\n",
      "Non-trainable params: 0\n",
      "__________________________________________________________________________________________________\n"
     ]
    }
   ],
   "source": [
    "model.summary()"
   ]
  },
  {
   "cell_type": "code",
   "execution_count": null,
   "id": "be10ae2a-ecc4-4b2f-92d5-55a266ef8950",
   "metadata": {},
   "outputs": [],
   "source": [
    "##Evaluating on test data - NP names only"
   ]
  },
  {
   "cell_type": "code",
   "execution_count": 28,
   "id": "6a36c6dc-d6af-4c86-9f5f-e961deae6d1a",
   "metadata": {},
   "outputs": [
    {
     "name": "stdout",
     "output_type": "stream",
     "text": [
      "<class 'pandas.core.frame.DataFrame'>\n",
      "Int64Index: 1072 entries, 4003 to 1295\n",
      "Data columns (total 2 columns):\n",
      " #   Column            Non-Null Count  Dtype \n",
      "---  ------            --------------  ----- \n",
      " 0   FAERS_drug_match  1072 non-null   object\n",
      " 1   lookup_value      1072 non-null   object\n",
      "dtypes: object(2)\n",
      "memory usage: 25.1+ KB\n"
     ]
    }
   ],
   "source": [
    "test.info()"
   ]
  },
  {
   "cell_type": "code",
   "execution_count": 29,
   "id": "c4ff0ef9-c108-43a1-a489-fe110670629d",
   "metadata": {},
   "outputs": [],
   "source": [
    "test_eval = pd.DataFrame(columns = ['FAERS_drug_match', 'lookup_value', 'rank1_drug', 'rank2_drug', 'rank3_drug', 'rank4_drug', 'rank5_drug', 'lookup_rank'])"
   ]
  },
  {
   "cell_type": "code",
   "execution_count": 30,
   "id": "9666ba4e-b887-4e93-818a-fff502dfc138",
   "metadata": {},
   "outputs": [
    {
     "data": {
      "text/html": [
       "<div>\n",
       "<style scoped>\n",
       "    .dataframe tbody tr th:only-of-type {\n",
       "        vertical-align: middle;\n",
       "    }\n",
       "\n",
       "    .dataframe tbody tr th {\n",
       "        vertical-align: top;\n",
       "    }\n",
       "\n",
       "    .dataframe thead th {\n",
       "        text-align: right;\n",
       "    }\n",
       "</style>\n",
       "<table border=\"1\" class=\"dataframe\">\n",
       "  <thead>\n",
       "    <tr style=\"text-align: right;\">\n",
       "      <th></th>\n",
       "      <th>index</th>\n",
       "      <th>FAERS_drug_match</th>\n",
       "      <th>lookup_value</th>\n",
       "    </tr>\n",
       "  </thead>\n",
       "  <tbody>\n",
       "    <tr>\n",
       "      <th>0</th>\n",
       "      <td>4003</td>\n",
       "      <td>ST. JOHN'S WORT ^HERRON^ (HYPERICUM PERFORATUM)</td>\n",
       "      <td>HYPERICUM PERFORATUM</td>\n",
       "    </tr>\n",
       "    <tr>\n",
       "      <th>1</th>\n",
       "      <td>1729</td>\n",
       "      <td>CORDYCEPS</td>\n",
       "      <td>CORDYCEPS</td>\n",
       "    </tr>\n",
       "    <tr>\n",
       "      <th>2</th>\n",
       "      <td>401</td>\n",
       "      <td>FLAXSEEDS OIL</td>\n",
       "      <td>FLAX SEED</td>\n",
       "    </tr>\n",
       "    <tr>\n",
       "      <th>3</th>\n",
       "      <td>1242</td>\n",
       "      <td>EXTRACT OF SERENOA REPENS (PERMIXON)</td>\n",
       "      <td>SCRUB-PALMETTO</td>\n",
       "    </tr>\n",
       "    <tr>\n",
       "      <th>4</th>\n",
       "      <td>3406</td>\n",
       "      <td>GUARANA (GUARANA)</td>\n",
       "      <td>PAULLINIA CUPANA</td>\n",
       "    </tr>\n",
       "  </tbody>\n",
       "</table>\n",
       "</div>"
      ],
      "text/plain": [
       "   index                                 FAERS_drug_match  \\\n",
       "0   4003  ST. JOHN'S WORT ^HERRON^ (HYPERICUM PERFORATUM)   \n",
       "1   1729                                        CORDYCEPS   \n",
       "2    401                                    FLAXSEEDS OIL   \n",
       "3   1242             EXTRACT OF SERENOA REPENS (PERMIXON)   \n",
       "4   3406                                GUARANA (GUARANA)   \n",
       "\n",
       "           lookup_value  \n",
       "0  HYPERICUM PERFORATUM  \n",
       "1             CORDYCEPS  \n",
       "2             FLAX SEED  \n",
       "3        SCRUB-PALMETTO  \n",
       "4      PAULLINIA CUPANA  "
      ]
     },
     "execution_count": 30,
     "metadata": {},
     "output_type": "execute_result"
    }
   ],
   "source": [
    "test_res = test.reset_index()\n",
    "test_res.head()"
   ]
  },
  {
   "cell_type": "code",
   "execution_count": 31,
   "id": "cb15421d-e127-4c1c-86b2-7c01cf791908",
   "metadata": {},
   "outputs": [
    {
     "name": "stderr",
     "output_type": "stream",
     "text": [
      "2022-03-02 17:53:14.941308: I tensorflow/stream_executor/cuda/cuda_dnn.cc:366] Loaded cuDNN version 8302\n"
     ]
    },
    {
     "data": {
      "text/plain": [
       "array([[1.22989609e-03],\n",
       "       [5.26903510e-01],\n",
       "       [9.51801986e-03],\n",
       "       [1.18690403e-03],\n",
       "       [6.57827943e-04],\n",
       "       [9.00198240e-03],\n",
       "       [3.18171486e-04],\n",
       "       [7.94509426e-03],\n",
       "       [9.94353276e-03],\n",
       "       [3.62111605e-03],\n",
       "       [2.87783612e-03],\n",
       "       [3.52321588e-03],\n",
       "       [6.80907280e-04],\n",
       "       [1.22805266e-02],\n",
       "       [1.92781873e-02],\n",
       "       [2.09858920e-02],\n",
       "       [3.50466222e-02],\n",
       "       [7.81174749e-04],\n",
       "       [7.67544890e-03],\n",
       "       [1.16587825e-01],\n",
       "       [9.83013958e-03],\n",
       "       [2.90058404e-02],\n",
       "       [2.31919102e-02],\n",
       "       [1.90664455e-02],\n",
       "       [4.65164240e-03],\n",
       "       [4.86525148e-03],\n",
       "       [1.06993485e-02],\n",
       "       [3.23094870e-03],\n",
       "       [1.07805850e-02],\n",
       "       [3.49118002e-02],\n",
       "       [3.32882884e-03],\n",
       "       [9.33429459e-04],\n",
       "       [6.83172839e-03],\n",
       "       [5.59045514e-03],\n",
       "       [1.38394041e-02],\n",
       "       [1.05949091e-02],\n",
       "       [1.83650907e-02],\n",
       "       [1.59396641e-02],\n",
       "       [1.01413336e-02],\n",
       "       [1.18392222e-02],\n",
       "       [1.41716599e-02],\n",
       "       [1.04836142e-02],\n",
       "       [6.42569456e-03],\n",
       "       [7.51466630e-03],\n",
       "       [7.26645440e-03],\n",
       "       [4.39787842e-03],\n",
       "       [1.27611393e-02],\n",
       "       [3.01490934e-03],\n",
       "       [8.33786745e-03],\n",
       "       [9.73479357e-04],\n",
       "       [2.49262573e-03],\n",
       "       [5.03757130e-03],\n",
       "       [3.43554765e-02],\n",
       "       [5.05218329e-03],\n",
       "       [9.22957528e-03],\n",
       "       [9.62851662e-03],\n",
       "       [2.06165318e-03],\n",
       "       [1.45958319e-01],\n",
       "       [6.02274854e-03],\n",
       "       [8.24940205e-01],\n",
       "       [2.25453568e-03],\n",
       "       [7.19392439e-04],\n",
       "       [1.16996076e-02],\n",
       "       [2.83402447e-02],\n",
       "       [4.43336926e-03],\n",
       "       [1.16833029e-02],\n",
       "       [7.33617367e-03],\n",
       "       [2.35526124e-03],\n",
       "       [4.81710304e-03],\n",
       "       [9.01067257e-03],\n",
       "       [1.98684074e-03],\n",
       "       [8.32089595e-03],\n",
       "       [4.65193652e-02],\n",
       "       [7.11099058e-03],\n",
       "       [2.65584812e-02],\n",
       "       [5.91235561e-03],\n",
       "       [2.70343130e-03],\n",
       "       [1.27788913e-02],\n",
       "       [2.37543325e-04],\n",
       "       [1.06034940e-02],\n",
       "       [1.25646461e-02],\n",
       "       [4.19905002e-04],\n",
       "       [4.24063252e-03],\n",
       "       [8.76893639e-04],\n",
       "       [1.69640954e-03],\n",
       "       [4.48136404e-02],\n",
       "       [3.16050164e-02],\n",
       "       [3.38026788e-03],\n",
       "       [1.63047481e-02],\n",
       "       [1.35317734e-02],\n",
       "       [4.97286534e-03],\n",
       "       [3.87054719e-02],\n",
       "       [7.70253222e-03],\n",
       "       [2.38758093e-03],\n",
       "       [1.20371929e-03],\n",
       "       [5.31214289e-02],\n",
       "       [1.53168505e-02],\n",
       "       [1.03029944e-01],\n",
       "       [6.63565546e-02],\n",
       "       [3.82932350e-02],\n",
       "       [1.11921281e-02],\n",
       "       [7.78656781e-01],\n",
       "       [2.23071687e-03],\n",
       "       [1.12980499e-03],\n",
       "       [6.15402451e-03],\n",
       "       [2.78803036e-02],\n",
       "       [2.32093092e-02],\n",
       "       [9.17313446e-04],\n",
       "       [6.38092449e-03],\n",
       "       [1.18160089e-02],\n",
       "       [1.85470171e-02],\n",
       "       [1.83987506e-02],\n",
       "       [3.96795385e-03],\n",
       "       [1.32535622e-02],\n",
       "       [8.15117210e-02],\n",
       "       [5.86501881e-03],\n",
       "       [1.74601041e-02],\n",
       "       [2.69661727e-03],\n",
       "       [7.26734474e-03],\n",
       "       [2.42221337e-02],\n",
       "       [1.57888960e-02],\n",
       "       [5.15510514e-02],\n",
       "       [5.63365929e-02],\n",
       "       [8.65323376e-03],\n",
       "       [2.04959139e-02]], dtype=float32)"
      ]
     },
     "execution_count": 31,
     "metadata": {},
     "output_type": "execute_result"
    }
   ],
   "source": [
    "model.predict([np.tile(padded_xTest[0,:], (dUnique.shape[0],1)), dUnique])"
   ]
  },
  {
   "cell_type": "code",
   "execution_count": null,
   "id": "fcd7c48a-9179-43f1-8d5c-250cca86d90b",
   "metadata": {},
   "outputs": [],
   "source": []
  },
  {
   "cell_type": "code",
   "execution_count": 34,
   "id": "82d0e5de-e495-49d1-9f37-9a6c0ba48071",
   "metadata": {},
   "outputs": [
    {
     "data": {
      "text/html": [
       "<div>\n",
       "<style scoped>\n",
       "    .dataframe tbody tr th:only-of-type {\n",
       "        vertical-align: middle;\n",
       "    }\n",
       "\n",
       "    .dataframe tbody tr th {\n",
       "        vertical-align: top;\n",
       "    }\n",
       "\n",
       "    .dataframe thead th {\n",
       "        text-align: right;\n",
       "    }\n",
       "</style>\n",
       "<table border=\"1\" class=\"dataframe\">\n",
       "  <thead>\n",
       "    <tr style=\"text-align: right;\">\n",
       "      <th></th>\n",
       "      <th>FAERS_drug_match_indi</th>\n",
       "      <th>lookup_value</th>\n",
       "      <th>rank1_drug</th>\n",
       "      <th>rank2_drug</th>\n",
       "      <th>rank3_drug</th>\n",
       "      <th>rank4_drug</th>\n",
       "      <th>rank5_drug</th>\n",
       "      <th>lookup_rank</th>\n",
       "      <th>FAERS_drug_match</th>\n",
       "    </tr>\n",
       "  </thead>\n",
       "  <tbody>\n",
       "    <tr>\n",
       "      <th>0</th>\n",
       "      <td>NaN</td>\n",
       "      <td>HYPERICUM PERFORATUM</td>\n",
       "      <td>HYPERICUM PERFORATUM</td>\n",
       "      <td>ST JOHNSWORT</td>\n",
       "      <td>AESCULUS HIPPOCASTANUM</td>\n",
       "      <td>HORSECHESTNUT</td>\n",
       "      <td>CATSCLAW</td>\n",
       "      <td>NaN</td>\n",
       "      <td>ST. JOHN'S WORT ^HERRON^ (HYPERICUM PERFORATUM)</td>\n",
       "    </tr>\n",
       "    <tr>\n",
       "      <th>1</th>\n",
       "      <td>NaN</td>\n",
       "      <td>CORDYCEPS</td>\n",
       "      <td>CORDYCEPS</td>\n",
       "      <td>OPHIOCORDYCEPS SINENSIS</td>\n",
       "      <td>KAVA</td>\n",
       "      <td>PIPER METHYSTICUM</td>\n",
       "      <td>BUTCHERSBROOM</td>\n",
       "      <td>NaN</td>\n",
       "      <td>CORDYCEPS</td>\n",
       "    </tr>\n",
       "    <tr>\n",
       "      <th>2</th>\n",
       "      <td>NaN</td>\n",
       "      <td>FLAX SEED</td>\n",
       "      <td>LINUM USITATISSIMUM</td>\n",
       "      <td>FLAX SEED</td>\n",
       "      <td>EVENING PRIMROSE OIL</td>\n",
       "      <td>OENOTHERA BIENNIS</td>\n",
       "      <td>PANAX GINSENG</td>\n",
       "      <td>NaN</td>\n",
       "      <td>FLAXSEEDS OIL</td>\n",
       "    </tr>\n",
       "    <tr>\n",
       "      <th>3</th>\n",
       "      <td>NaN</td>\n",
       "      <td>SCRUB-PALMETTO</td>\n",
       "      <td>SERENOA REPENS</td>\n",
       "      <td>SCRUBPALMETTO</td>\n",
       "      <td>ST JOHNSWORT</td>\n",
       "      <td>HYPERICUM PERFORATUM</td>\n",
       "      <td>PANAX GINSENG</td>\n",
       "      <td>NaN</td>\n",
       "      <td>EXTRACT OF SERENOA REPENS (PERMIXON)</td>\n",
       "    </tr>\n",
       "    <tr>\n",
       "      <th>4</th>\n",
       "      <td>NaN</td>\n",
       "      <td>PAULLINIA CUPANA</td>\n",
       "      <td>PAULLINIA CUPANA</td>\n",
       "      <td>GUARANA</td>\n",
       "      <td>KAVA</td>\n",
       "      <td>ARCTIUM LAPPA</td>\n",
       "      <td>PIPER METHYSTICUM</td>\n",
       "      <td>NaN</td>\n",
       "      <td>GUARANA (GUARANA)</td>\n",
       "    </tr>\n",
       "  </tbody>\n",
       "</table>\n",
       "</div>"
      ],
      "text/plain": [
       "  FAERS_drug_match_indi          lookup_value            rank1_drug  \\\n",
       "0                   NaN  HYPERICUM PERFORATUM  HYPERICUM PERFORATUM   \n",
       "1                   NaN             CORDYCEPS             CORDYCEPS   \n",
       "2                   NaN             FLAX SEED   LINUM USITATISSIMUM   \n",
       "3                   NaN        SCRUB-PALMETTO        SERENOA REPENS   \n",
       "4                   NaN      PAULLINIA CUPANA      PAULLINIA CUPANA   \n",
       "\n",
       "                rank2_drug              rank3_drug            rank4_drug  \\\n",
       "0             ST JOHNSWORT  AESCULUS HIPPOCASTANUM         HORSECHESTNUT   \n",
       "1  OPHIOCORDYCEPS SINENSIS                    KAVA     PIPER METHYSTICUM   \n",
       "2                FLAX SEED    EVENING PRIMROSE OIL     OENOTHERA BIENNIS   \n",
       "3            SCRUBPALMETTO            ST JOHNSWORT  HYPERICUM PERFORATUM   \n",
       "4                  GUARANA                    KAVA         ARCTIUM LAPPA   \n",
       "\n",
       "          rank5_drug lookup_rank  \\\n",
       "0           CATSCLAW         NaN   \n",
       "1      BUTCHERSBROOM         NaN   \n",
       "2      PANAX GINSENG         NaN   \n",
       "3      PANAX GINSENG         NaN   \n",
       "4  PIPER METHYSTICUM         NaN   \n",
       "\n",
       "                                  FAERS_drug_match  \n",
       "0  ST. JOHN'S WORT ^HERRON^ (HYPERICUM PERFORATUM)  \n",
       "1                                        CORDYCEPS  \n",
       "2                                    FLAXSEEDS OIL  \n",
       "3             EXTRACT OF SERENOA REPENS (PERMIXON)  \n",
       "4                                GUARANA (GUARANA)  "
      ]
     },
     "execution_count": 34,
     "metadata": {},
     "output_type": "execute_result"
    }
   ],
   "source": [
    "#find ranks 1, 2 and 3 (can go upto any number n) from the predicted similarities for the test data\n",
    "for i in range(padded_xTest.shape[0]):\n",
    "    predicts = model.predict([np.tile(padded_xTest[i,:], (dUnique.shape[0],1)), dUnique])\n",
    "    argsort = np.argsort(-predicts.flatten())\n",
    "    test_eval.at[i, 'FAERS_drug_match'] = test_res.at[i, 'FAERS_drug_match']\n",
    "    test_eval.at[i, 'lookup_value'] = test_res.at[i, 'lookup_value']\n",
    "    test_eval.at[i, 'rank1_drug'] = dUnique_df.iloc[argsort[0]].dUnique_label\n",
    "    test_eval.at[i, 'rank2_drug'] = dUnique_df.iloc[argsort[1]].dUnique_label\n",
    "    test_eval.at[i, 'rank3_drug'] = dUnique_df.iloc[argsort[2]].dUnique_label\n",
    "    test_eval.at[i, 'rank4_drug'] = dUnique_df.iloc[argsort[3]].dUnique_label\n",
    "    test_eval.at[i, 'rank5_drug'] = dUnique_df.iloc[argsort[4]].dUnique_label\n",
    "test_eval.head()"
   ]
  },
  {
   "cell_type": "code",
   "execution_count": 35,
   "id": "e5bc83d4-1031-4f54-aa2d-3dcbbc73a628",
   "metadata": {},
   "outputs": [
    {
     "data": {
      "text/html": [
       "<div>\n",
       "<style scoped>\n",
       "    .dataframe tbody tr th:only-of-type {\n",
       "        vertical-align: middle;\n",
       "    }\n",
       "\n",
       "    .dataframe tbody tr th {\n",
       "        vertical-align: top;\n",
       "    }\n",
       "\n",
       "    .dataframe thead th {\n",
       "        text-align: right;\n",
       "    }\n",
       "</style>\n",
       "<table border=\"1\" class=\"dataframe\">\n",
       "  <thead>\n",
       "    <tr style=\"text-align: right;\">\n",
       "      <th></th>\n",
       "      <th>FAERS_drug_match_indi</th>\n",
       "      <th>lookup_value</th>\n",
       "      <th>rank1_drug</th>\n",
       "      <th>rank2_drug</th>\n",
       "      <th>rank3_drug</th>\n",
       "      <th>rank4_drug</th>\n",
       "      <th>rank5_drug</th>\n",
       "      <th>lookup_rank</th>\n",
       "      <th>FAERS_drug_match</th>\n",
       "    </tr>\n",
       "  </thead>\n",
       "  <tbody>\n",
       "    <tr>\n",
       "      <th>0</th>\n",
       "      <td>NaN</td>\n",
       "      <td>HYPERICUM PERFORATUM</td>\n",
       "      <td>HYPERICUM PERFORATUM</td>\n",
       "      <td>ST JOHNSWORT</td>\n",
       "      <td>AESCULUS HIPPOCASTANUM</td>\n",
       "      <td>HORSECHESTNUT</td>\n",
       "      <td>CATSCLAW</td>\n",
       "      <td>1</td>\n",
       "      <td>ST. JOHN'S WORT ^HERRON^ (HYPERICUM PERFORATUM)</td>\n",
       "    </tr>\n",
       "    <tr>\n",
       "      <th>1</th>\n",
       "      <td>NaN</td>\n",
       "      <td>CORDYCEPS</td>\n",
       "      <td>CORDYCEPS</td>\n",
       "      <td>OPHIOCORDYCEPS SINENSIS</td>\n",
       "      <td>KAVA</td>\n",
       "      <td>PIPER METHYSTICUM</td>\n",
       "      <td>BUTCHERSBROOM</td>\n",
       "      <td>1</td>\n",
       "      <td>CORDYCEPS</td>\n",
       "    </tr>\n",
       "    <tr>\n",
       "      <th>2</th>\n",
       "      <td>NaN</td>\n",
       "      <td>FLAX SEED</td>\n",
       "      <td>LINUM USITATISSIMUM</td>\n",
       "      <td>FLAX SEED</td>\n",
       "      <td>EVENING PRIMROSE OIL</td>\n",
       "      <td>OENOTHERA BIENNIS</td>\n",
       "      <td>PANAX GINSENG</td>\n",
       "      <td>2</td>\n",
       "      <td>FLAXSEEDS OIL</td>\n",
       "    </tr>\n",
       "    <tr>\n",
       "      <th>3</th>\n",
       "      <td>NaN</td>\n",
       "      <td>SCRUB-PALMETTO</td>\n",
       "      <td>SERENOA REPENS</td>\n",
       "      <td>SCRUBPALMETTO</td>\n",
       "      <td>ST JOHNSWORT</td>\n",
       "      <td>HYPERICUM PERFORATUM</td>\n",
       "      <td>PANAX GINSENG</td>\n",
       "      <td>2</td>\n",
       "      <td>EXTRACT OF SERENOA REPENS (PERMIXON)</td>\n",
       "    </tr>\n",
       "    <tr>\n",
       "      <th>4</th>\n",
       "      <td>NaN</td>\n",
       "      <td>PAULLINIA CUPANA</td>\n",
       "      <td>PAULLINIA CUPANA</td>\n",
       "      <td>GUARANA</td>\n",
       "      <td>KAVA</td>\n",
       "      <td>ARCTIUM LAPPA</td>\n",
       "      <td>PIPER METHYSTICUM</td>\n",
       "      <td>1</td>\n",
       "      <td>GUARANA (GUARANA)</td>\n",
       "    </tr>\n",
       "  </tbody>\n",
       "</table>\n",
       "</div>"
      ],
      "text/plain": [
       "  FAERS_drug_match_indi          lookup_value            rank1_drug  \\\n",
       "0                   NaN  HYPERICUM PERFORATUM  HYPERICUM PERFORATUM   \n",
       "1                   NaN             CORDYCEPS             CORDYCEPS   \n",
       "2                   NaN             FLAX SEED   LINUM USITATISSIMUM   \n",
       "3                   NaN        SCRUB-PALMETTO        SERENOA REPENS   \n",
       "4                   NaN      PAULLINIA CUPANA      PAULLINIA CUPANA   \n",
       "\n",
       "                rank2_drug              rank3_drug            rank4_drug  \\\n",
       "0             ST JOHNSWORT  AESCULUS HIPPOCASTANUM         HORSECHESTNUT   \n",
       "1  OPHIOCORDYCEPS SINENSIS                    KAVA     PIPER METHYSTICUM   \n",
       "2                FLAX SEED    EVENING PRIMROSE OIL     OENOTHERA BIENNIS   \n",
       "3            SCRUBPALMETTO            ST JOHNSWORT  HYPERICUM PERFORATUM   \n",
       "4                  GUARANA                    KAVA         ARCTIUM LAPPA   \n",
       "\n",
       "          rank5_drug lookup_rank  \\\n",
       "0           CATSCLAW           1   \n",
       "1      BUTCHERSBROOM           1   \n",
       "2      PANAX GINSENG           2   \n",
       "3      PANAX GINSENG           2   \n",
       "4  PIPER METHYSTICUM           1   \n",
       "\n",
       "                                  FAERS_drug_match  \n",
       "0  ST. JOHN'S WORT ^HERRON^ (HYPERICUM PERFORATUM)  \n",
       "1                                        CORDYCEPS  \n",
       "2                                    FLAXSEEDS OIL  \n",
       "3             EXTRACT OF SERENOA REPENS (PERMIXON)  \n",
       "4                                GUARANA (GUARANA)  "
      ]
     },
     "execution_count": 35,
     "metadata": {},
     "output_type": "execute_result"
    }
   ],
   "source": [
    "for i in range(len(test_eval.index)):\n",
    "    lookup = test_eval.at[i, 'lookup_value']\n",
    "    lookup_clean = clean(lookup)\n",
    "    if lookup_clean == test_eval.at[i, 'rank1_drug']:\n",
    "        test_eval.at[i, 'lookup_rank'] = 1\n",
    "    elif lookup_clean == test_eval.at[i, 'rank2_drug']:\n",
    "        test_eval.at[i, 'lookup_rank'] = 2\n",
    "    elif lookup_clean == test_eval.at[i, 'rank3_drug']:\n",
    "        test_eval.at[i, 'lookup_rank'] = 3\n",
    "    elif lookup_clean == test_eval.at[i, 'rank4_drug']:\n",
    "        test_eval.at[i, 'lookup_rank'] = 4\n",
    "    elif lookup_clean == test_eval.at[i, 'rank5_drug']:\n",
    "        test_eval.at[i, 'lookup_rank'] = 5\n",
    "test_eval.head()"
   ]
  },
  {
   "cell_type": "code",
   "execution_count": 36,
   "id": "0aa38486-b509-4479-ad0f-b51a768b8477",
   "metadata": {},
   "outputs": [],
   "source": [
    "test_eval.to_csv(\"evaluation/test_siamese_evaluation_lstm_model_np_name.csv\", index=False)"
   ]
  },
  {
   "cell_type": "code",
   "execution_count": 37,
   "id": "130ae2df-d335-4e90-8c61-41ee2d291c40",
   "metadata": {},
   "outputs": [],
   "source": [
    "##add related mappings rank to test set evaluation"
   ]
  },
  {
   "cell_type": "code",
   "execution_count": 38,
   "id": "1c75f2b2-74f8-4427-905e-105ce4ffb897",
   "metadata": {},
   "outputs": [
    {
     "name": "stdout",
     "output_type": "stream",
     "text": [
      "<class 'pandas.core.frame.DataFrame'>\n",
      "RangeIndex: 958 entries, 0 to 957\n",
      "Data columns (total 4 columns):\n",
      " #   Column                Non-Null Count  Dtype \n",
      "---  ------                --------------  ----- \n",
      " 0   latin_binomial        958 non-null    object\n",
      " 1   common_name           958 non-null    object\n",
      " 2   latin_binomial_clean  958 non-null    object\n",
      " 3   common_name_clean     958 non-null    object\n",
      "dtypes: object(4)\n",
      "memory usage: 30.1+ KB\n"
     ]
    }
   ],
   "source": [
    "vocab = pd.read_csv('data/lb_to_common_names.csv')\n",
    "vocab.info()"
   ]
  },
  {
   "cell_type": "code",
   "execution_count": 39,
   "id": "dfcd3a5a-3e0a-4571-b032-dd05c01393c1",
   "metadata": {},
   "outputs": [
    {
     "name": "stdout",
     "output_type": "stream",
     "text": [
      "<class 'pandas.core.frame.DataFrame'>\n",
      "RangeIndex: 1072 entries, 0 to 1071\n",
      "Data columns (total 9 columns):\n",
      " #   Column                 Non-Null Count  Dtype  \n",
      "---  ------                 --------------  -----  \n",
      " 0   FAERS_drug_match_indi  0 non-null      float64\n",
      " 1   lookup_value           1072 non-null   object \n",
      " 2   rank1_drug             1072 non-null   object \n",
      " 3   rank2_drug             1072 non-null   object \n",
      " 4   rank3_drug             1072 non-null   object \n",
      " 5   rank4_drug             1072 non-null   object \n",
      " 6   rank5_drug             1072 non-null   object \n",
      " 7   lookup_rank            1022 non-null   float64\n",
      " 8   FAERS_drug_match       1072 non-null   object \n",
      "dtypes: float64(2), object(7)\n",
      "memory usage: 75.5+ KB\n"
     ]
    }
   ],
   "source": [
    "test_eval = pd.read_csv('evaluation/test_siamese_evaluation_lstm_model_np_name.csv')\n",
    "test_eval.info()"
   ]
  },
  {
   "cell_type": "code",
   "execution_count": 40,
   "id": "959eb7d0-cf41-421a-8651-93d02b1c4640",
   "metadata": {},
   "outputs": [],
   "source": [
    "test_eval = test_eval.drop(['FAERS_drug_match_indi'], axis=1)"
   ]
  },
  {
   "cell_type": "code",
   "execution_count": 41,
   "id": "fd37f167-4189-45be-ab83-f7f7e99b477a",
   "metadata": {},
   "outputs": [
    {
     "data": {
      "text/html": [
       "<div>\n",
       "<style scoped>\n",
       "    .dataframe tbody tr th:only-of-type {\n",
       "        vertical-align: middle;\n",
       "    }\n",
       "\n",
       "    .dataframe tbody tr th {\n",
       "        vertical-align: top;\n",
       "    }\n",
       "\n",
       "    .dataframe thead th {\n",
       "        text-align: right;\n",
       "    }\n",
       "</style>\n",
       "<table border=\"1\" class=\"dataframe\">\n",
       "  <thead>\n",
       "    <tr style=\"text-align: right;\">\n",
       "      <th></th>\n",
       "      <th>lookup_value</th>\n",
       "      <th>rank1_drug</th>\n",
       "      <th>rank2_drug</th>\n",
       "      <th>rank3_drug</th>\n",
       "      <th>rank4_drug</th>\n",
       "      <th>rank5_drug</th>\n",
       "      <th>lookup_rank</th>\n",
       "      <th>FAERS_drug_match</th>\n",
       "      <th>lookup_rank_related</th>\n",
       "    </tr>\n",
       "  </thead>\n",
       "  <tbody>\n",
       "    <tr>\n",
       "      <th>0</th>\n",
       "      <td>HYPERICUM PERFORATUM</td>\n",
       "      <td>HYPERICUM PERFORATUM</td>\n",
       "      <td>ST JOHNSWORT</td>\n",
       "      <td>AESCULUS HIPPOCASTANUM</td>\n",
       "      <td>HORSECHESTNUT</td>\n",
       "      <td>CATSCLAW</td>\n",
       "      <td>1.0</td>\n",
       "      <td>ST. JOHN'S WORT ^HERRON^ (HYPERICUM PERFORATUM)</td>\n",
       "      <td>NaN</td>\n",
       "    </tr>\n",
       "    <tr>\n",
       "      <th>1</th>\n",
       "      <td>CORDYCEPS</td>\n",
       "      <td>CORDYCEPS</td>\n",
       "      <td>OPHIOCORDYCEPS SINENSIS</td>\n",
       "      <td>KAVA</td>\n",
       "      <td>PIPER METHYSTICUM</td>\n",
       "      <td>BUTCHERSBROOM</td>\n",
       "      <td>1.0</td>\n",
       "      <td>CORDYCEPS</td>\n",
       "      <td>NaN</td>\n",
       "    </tr>\n",
       "    <tr>\n",
       "      <th>2</th>\n",
       "      <td>FLAX SEED</td>\n",
       "      <td>LINUM USITATISSIMUM</td>\n",
       "      <td>FLAX SEED</td>\n",
       "      <td>EVENING PRIMROSE OIL</td>\n",
       "      <td>OENOTHERA BIENNIS</td>\n",
       "      <td>PANAX GINSENG</td>\n",
       "      <td>2.0</td>\n",
       "      <td>FLAXSEEDS OIL</td>\n",
       "      <td>NaN</td>\n",
       "    </tr>\n",
       "    <tr>\n",
       "      <th>3</th>\n",
       "      <td>SCRUB-PALMETTO</td>\n",
       "      <td>SERENOA REPENS</td>\n",
       "      <td>SCRUBPALMETTO</td>\n",
       "      <td>ST JOHNSWORT</td>\n",
       "      <td>HYPERICUM PERFORATUM</td>\n",
       "      <td>PANAX GINSENG</td>\n",
       "      <td>2.0</td>\n",
       "      <td>EXTRACT OF SERENOA REPENS (PERMIXON)</td>\n",
       "      <td>NaN</td>\n",
       "    </tr>\n",
       "    <tr>\n",
       "      <th>4</th>\n",
       "      <td>PAULLINIA CUPANA</td>\n",
       "      <td>PAULLINIA CUPANA</td>\n",
       "      <td>GUARANA</td>\n",
       "      <td>KAVA</td>\n",
       "      <td>ARCTIUM LAPPA</td>\n",
       "      <td>PIPER METHYSTICUM</td>\n",
       "      <td>1.0</td>\n",
       "      <td>GUARANA (GUARANA)</td>\n",
       "      <td>NaN</td>\n",
       "    </tr>\n",
       "  </tbody>\n",
       "</table>\n",
       "</div>"
      ],
      "text/plain": [
       "           lookup_value            rank1_drug               rank2_drug  \\\n",
       "0  HYPERICUM PERFORATUM  HYPERICUM PERFORATUM             ST JOHNSWORT   \n",
       "1             CORDYCEPS             CORDYCEPS  OPHIOCORDYCEPS SINENSIS   \n",
       "2             FLAX SEED   LINUM USITATISSIMUM                FLAX SEED   \n",
       "3        SCRUB-PALMETTO        SERENOA REPENS            SCRUBPALMETTO   \n",
       "4      PAULLINIA CUPANA      PAULLINIA CUPANA                  GUARANA   \n",
       "\n",
       "               rank3_drug            rank4_drug         rank5_drug  \\\n",
       "0  AESCULUS HIPPOCASTANUM         HORSECHESTNUT           CATSCLAW   \n",
       "1                    KAVA     PIPER METHYSTICUM      BUTCHERSBROOM   \n",
       "2    EVENING PRIMROSE OIL     OENOTHERA BIENNIS      PANAX GINSENG   \n",
       "3            ST JOHNSWORT  HYPERICUM PERFORATUM      PANAX GINSENG   \n",
       "4                    KAVA         ARCTIUM LAPPA  PIPER METHYSTICUM   \n",
       "\n",
       "   lookup_rank                                 FAERS_drug_match  \\\n",
       "0          1.0  ST. JOHN'S WORT ^HERRON^ (HYPERICUM PERFORATUM)   \n",
       "1          1.0                                        CORDYCEPS   \n",
       "2          2.0                                    FLAXSEEDS OIL   \n",
       "3          2.0             EXTRACT OF SERENOA REPENS (PERMIXON)   \n",
       "4          1.0                                GUARANA (GUARANA)   \n",
       "\n",
       "   lookup_rank_related  \n",
       "0                  NaN  \n",
       "1                  NaN  \n",
       "2                  NaN  \n",
       "3                  NaN  \n",
       "4                  NaN  "
      ]
     },
     "execution_count": 41,
     "metadata": {},
     "output_type": "execute_result"
    }
   ],
   "source": [
    "test_eval['lookup_rank_related'] = np.nan\n",
    "test_eval.head()"
   ]
  },
  {
   "cell_type": "code",
   "execution_count": 42,
   "id": "d34c7e2a-7eb2-44d5-a07e-0a0f40706913",
   "metadata": {},
   "outputs": [
    {
     "data": {
      "text/html": [
       "<div>\n",
       "<style scoped>\n",
       "    .dataframe tbody tr th:only-of-type {\n",
       "        vertical-align: middle;\n",
       "    }\n",
       "\n",
       "    .dataframe tbody tr th {\n",
       "        vertical-align: top;\n",
       "    }\n",
       "\n",
       "    .dataframe thead th {\n",
       "        text-align: right;\n",
       "    }\n",
       "</style>\n",
       "<table border=\"1\" class=\"dataframe\">\n",
       "  <thead>\n",
       "    <tr style=\"text-align: right;\">\n",
       "      <th></th>\n",
       "      <th>lookup_value</th>\n",
       "      <th>rank1_drug</th>\n",
       "      <th>rank2_drug</th>\n",
       "      <th>rank3_drug</th>\n",
       "      <th>rank4_drug</th>\n",
       "      <th>rank5_drug</th>\n",
       "      <th>lookup_rank</th>\n",
       "      <th>FAERS_drug_match</th>\n",
       "      <th>lookup_rank_related</th>\n",
       "    </tr>\n",
       "  </thead>\n",
       "  <tbody>\n",
       "    <tr>\n",
       "      <th>0</th>\n",
       "      <td>HYPERICUM PERFORATUM</td>\n",
       "      <td>HYPERICUM PERFORATUM</td>\n",
       "      <td>ST JOHNSWORT</td>\n",
       "      <td>AESCULUS HIPPOCASTANUM</td>\n",
       "      <td>HORSECHESTNUT</td>\n",
       "      <td>CATSCLAW</td>\n",
       "      <td>1.0</td>\n",
       "      <td>ST. JOHN'S WORT ^HERRON^ (HYPERICUM PERFORATUM)</td>\n",
       "      <td>NaN</td>\n",
       "    </tr>\n",
       "    <tr>\n",
       "      <th>1</th>\n",
       "      <td>CORDYCEPS</td>\n",
       "      <td>CORDYCEPS</td>\n",
       "      <td>OPHIOCORDYCEPS SINENSIS</td>\n",
       "      <td>KAVA</td>\n",
       "      <td>PIPER METHYSTICUM</td>\n",
       "      <td>BUTCHERSBROOM</td>\n",
       "      <td>1.0</td>\n",
       "      <td>CORDYCEPS</td>\n",
       "      <td>1.0</td>\n",
       "    </tr>\n",
       "    <tr>\n",
       "      <th>2</th>\n",
       "      <td>FLAX SEED</td>\n",
       "      <td>LINUM USITATISSIMUM</td>\n",
       "      <td>FLAX SEED</td>\n",
       "      <td>EVENING PRIMROSE OIL</td>\n",
       "      <td>OENOTHERA BIENNIS</td>\n",
       "      <td>PANAX GINSENG</td>\n",
       "      <td>2.0</td>\n",
       "      <td>FLAXSEEDS OIL</td>\n",
       "      <td>1.0</td>\n",
       "    </tr>\n",
       "    <tr>\n",
       "      <th>3</th>\n",
       "      <td>SCRUB-PALMETTO</td>\n",
       "      <td>SERENOA REPENS</td>\n",
       "      <td>SCRUBPALMETTO</td>\n",
       "      <td>ST JOHNSWORT</td>\n",
       "      <td>HYPERICUM PERFORATUM</td>\n",
       "      <td>PANAX GINSENG</td>\n",
       "      <td>2.0</td>\n",
       "      <td>EXTRACT OF SERENOA REPENS (PERMIXON)</td>\n",
       "      <td>1.0</td>\n",
       "    </tr>\n",
       "    <tr>\n",
       "      <th>4</th>\n",
       "      <td>PAULLINIA CUPANA</td>\n",
       "      <td>PAULLINIA CUPANA</td>\n",
       "      <td>GUARANA</td>\n",
       "      <td>KAVA</td>\n",
       "      <td>ARCTIUM LAPPA</td>\n",
       "      <td>PIPER METHYSTICUM</td>\n",
       "      <td>1.0</td>\n",
       "      <td>GUARANA (GUARANA)</td>\n",
       "      <td>1.0</td>\n",
       "    </tr>\n",
       "  </tbody>\n",
       "</table>\n",
       "</div>"
      ],
      "text/plain": [
       "           lookup_value            rank1_drug               rank2_drug  \\\n",
       "0  HYPERICUM PERFORATUM  HYPERICUM PERFORATUM             ST JOHNSWORT   \n",
       "1             CORDYCEPS             CORDYCEPS  OPHIOCORDYCEPS SINENSIS   \n",
       "2             FLAX SEED   LINUM USITATISSIMUM                FLAX SEED   \n",
       "3        SCRUB-PALMETTO        SERENOA REPENS            SCRUBPALMETTO   \n",
       "4      PAULLINIA CUPANA      PAULLINIA CUPANA                  GUARANA   \n",
       "\n",
       "               rank3_drug            rank4_drug         rank5_drug  \\\n",
       "0  AESCULUS HIPPOCASTANUM         HORSECHESTNUT           CATSCLAW   \n",
       "1                    KAVA     PIPER METHYSTICUM      BUTCHERSBROOM   \n",
       "2    EVENING PRIMROSE OIL     OENOTHERA BIENNIS      PANAX GINSENG   \n",
       "3            ST JOHNSWORT  HYPERICUM PERFORATUM      PANAX GINSENG   \n",
       "4                    KAVA         ARCTIUM LAPPA  PIPER METHYSTICUM   \n",
       "\n",
       "   lookup_rank                                 FAERS_drug_match  \\\n",
       "0          1.0  ST. JOHN'S WORT ^HERRON^ (HYPERICUM PERFORATUM)   \n",
       "1          1.0                                        CORDYCEPS   \n",
       "2          2.0                                    FLAXSEEDS OIL   \n",
       "3          2.0             EXTRACT OF SERENOA REPENS (PERMIXON)   \n",
       "4          1.0                                GUARANA (GUARANA)   \n",
       "\n",
       "   lookup_rank_related  \n",
       "0                  NaN  \n",
       "1                  1.0  \n",
       "2                  1.0  \n",
       "3                  1.0  \n",
       "4                  1.0  "
      ]
     },
     "execution_count": 42,
     "metadata": {},
     "output_type": "execute_result"
    }
   ],
   "source": [
    "#find related mappings to lookup value in predicted values \n",
    "for i in range(len(test_eval.index)):\n",
    "    lookup = test_eval.at[i, 'lookup_value']\n",
    "    lookup_rank = test_eval.at[i, 'lookup_rank']\n",
    "    lookup_clean = clean(lookup)\n",
    "    lb_res = vocab.loc[vocab['latin_binomial_clean'] == lookup_clean]\n",
    "    common_res = vocab.loc[vocab['common_name_clean'] == lookup_clean]\n",
    "    lookup_result = ''\n",
    "    if len(lb_res) > 0:\n",
    "        lookup_result = lb_res.common_name_clean.values[0]\n",
    "    elif len(common_res) > 0:\n",
    "        lookup_result = common_res.latin_binomial_clean.values[0]\n",
    "    if lookup_result != '':\n",
    "        if lookup_result == test_eval.at[i, 'rank1_drug']:\n",
    "            test_eval.at[i, 'lookup_rank_related'] = 1\n",
    "        elif lookup_result == test_eval.at[i, 'rank2_drug']:\n",
    "            if lookup_rank:\n",
    "                if lookup_rank > 2:\n",
    "                    test_eval.at[i, 'lookup_rank_related'] = 2\n",
    "                else:\n",
    "                    test_eval.at[i, 'lookup_rank_related'] = lookup_rank\n",
    "            elif np.isnan(lookup_rank):\n",
    "                test_eval.at[i, 'lookup_rank_related'] = 2\n",
    "        elif lookup_result == test_eval.at[i, 'rank3_drug']:\n",
    "            if lookup_rank:\n",
    "                if lookup_rank > 3:\n",
    "                    test_eval.at[i, 'lookup_rank_related'] = 3\n",
    "                else:\n",
    "                    test_eval.at[i, 'lookup_rank_related'] = lookup_rank\n",
    "            elif np.isnan(lookup_rank):\n",
    "                test_eval.at[i, 'lookup_rank_related'] = 3\n",
    "        elif lookup_result == test_eval.at[i, 'rank4_drug']:\n",
    "            if lookup_rank:\n",
    "                if lookup_rank > 4:\n",
    "                    test_eval.at[i, 'lookup_rank_related'] = 4\n",
    "                else:\n",
    "                    test_eval.at[i, 'lookup_rank_related'] = lookup_rank\n",
    "            elif np.isnan(lookup_rank):\n",
    "                test_eval.at[i, 'lookup_rank_related'] = 4\n",
    "        elif lookup_result == test_eval.at[i, 'rank5_drug']:\n",
    "            if np.isnan(lookup_rank):\n",
    "                test_eval.at[i, 'lookup_rank_related'] = 5\n",
    "        \n",
    "test_eval.head()"
   ]
  },
  {
   "cell_type": "code",
   "execution_count": 43,
   "id": "ab85aae4-ff50-43e0-b412-3e3220f9d79d",
   "metadata": {},
   "outputs": [
    {
     "data": {
      "text/html": [
       "<div>\n",
       "<style scoped>\n",
       "    .dataframe tbody tr th:only-of-type {\n",
       "        vertical-align: middle;\n",
       "    }\n",
       "\n",
       "    .dataframe tbody tr th {\n",
       "        vertical-align: top;\n",
       "    }\n",
       "\n",
       "    .dataframe thead th {\n",
       "        text-align: right;\n",
       "    }\n",
       "</style>\n",
       "<table border=\"1\" class=\"dataframe\">\n",
       "  <thead>\n",
       "    <tr style=\"text-align: right;\">\n",
       "      <th></th>\n",
       "      <th>lookup_value</th>\n",
       "      <th>rank1_drug</th>\n",
       "      <th>rank2_drug</th>\n",
       "      <th>rank3_drug</th>\n",
       "      <th>rank4_drug</th>\n",
       "      <th>rank5_drug</th>\n",
       "      <th>lookup_rank</th>\n",
       "      <th>FAERS_drug_match</th>\n",
       "      <th>lookup_rank_related</th>\n",
       "    </tr>\n",
       "  </thead>\n",
       "  <tbody>\n",
       "    <tr>\n",
       "      <th>0</th>\n",
       "      <td>HYPERICUM PERFORATUM</td>\n",
       "      <td>HYPERICUM PERFORATUM</td>\n",
       "      <td>ST JOHNSWORT</td>\n",
       "      <td>AESCULUS HIPPOCASTANUM</td>\n",
       "      <td>HORSECHESTNUT</td>\n",
       "      <td>CATSCLAW</td>\n",
       "      <td>1.0</td>\n",
       "      <td>ST. JOHN'S WORT ^HERRON^ (HYPERICUM PERFORATUM)</td>\n",
       "      <td>1.0</td>\n",
       "    </tr>\n",
       "    <tr>\n",
       "      <th>1</th>\n",
       "      <td>CORDYCEPS</td>\n",
       "      <td>CORDYCEPS</td>\n",
       "      <td>OPHIOCORDYCEPS SINENSIS</td>\n",
       "      <td>KAVA</td>\n",
       "      <td>PIPER METHYSTICUM</td>\n",
       "      <td>BUTCHERSBROOM</td>\n",
       "      <td>1.0</td>\n",
       "      <td>CORDYCEPS</td>\n",
       "      <td>1.0</td>\n",
       "    </tr>\n",
       "    <tr>\n",
       "      <th>2</th>\n",
       "      <td>FLAX SEED</td>\n",
       "      <td>LINUM USITATISSIMUM</td>\n",
       "      <td>FLAX SEED</td>\n",
       "      <td>EVENING PRIMROSE OIL</td>\n",
       "      <td>OENOTHERA BIENNIS</td>\n",
       "      <td>PANAX GINSENG</td>\n",
       "      <td>2.0</td>\n",
       "      <td>FLAXSEEDS OIL</td>\n",
       "      <td>1.0</td>\n",
       "    </tr>\n",
       "    <tr>\n",
       "      <th>3</th>\n",
       "      <td>SCRUB-PALMETTO</td>\n",
       "      <td>SERENOA REPENS</td>\n",
       "      <td>SCRUBPALMETTO</td>\n",
       "      <td>ST JOHNSWORT</td>\n",
       "      <td>HYPERICUM PERFORATUM</td>\n",
       "      <td>PANAX GINSENG</td>\n",
       "      <td>2.0</td>\n",
       "      <td>EXTRACT OF SERENOA REPENS (PERMIXON)</td>\n",
       "      <td>1.0</td>\n",
       "    </tr>\n",
       "    <tr>\n",
       "      <th>4</th>\n",
       "      <td>PAULLINIA CUPANA</td>\n",
       "      <td>PAULLINIA CUPANA</td>\n",
       "      <td>GUARANA</td>\n",
       "      <td>KAVA</td>\n",
       "      <td>ARCTIUM LAPPA</td>\n",
       "      <td>PIPER METHYSTICUM</td>\n",
       "      <td>1.0</td>\n",
       "      <td>GUARANA (GUARANA)</td>\n",
       "      <td>1.0</td>\n",
       "    </tr>\n",
       "  </tbody>\n",
       "</table>\n",
       "</div>"
      ],
      "text/plain": [
       "           lookup_value            rank1_drug               rank2_drug  \\\n",
       "0  HYPERICUM PERFORATUM  HYPERICUM PERFORATUM             ST JOHNSWORT   \n",
       "1             CORDYCEPS             CORDYCEPS  OPHIOCORDYCEPS SINENSIS   \n",
       "2             FLAX SEED   LINUM USITATISSIMUM                FLAX SEED   \n",
       "3        SCRUB-PALMETTO        SERENOA REPENS            SCRUBPALMETTO   \n",
       "4      PAULLINIA CUPANA      PAULLINIA CUPANA                  GUARANA   \n",
       "\n",
       "               rank3_drug            rank4_drug         rank5_drug  \\\n",
       "0  AESCULUS HIPPOCASTANUM         HORSECHESTNUT           CATSCLAW   \n",
       "1                    KAVA     PIPER METHYSTICUM      BUTCHERSBROOM   \n",
       "2    EVENING PRIMROSE OIL     OENOTHERA BIENNIS      PANAX GINSENG   \n",
       "3            ST JOHNSWORT  HYPERICUM PERFORATUM      PANAX GINSENG   \n",
       "4                    KAVA         ARCTIUM LAPPA  PIPER METHYSTICUM   \n",
       "\n",
       "   lookup_rank                                 FAERS_drug_match  \\\n",
       "0          1.0  ST. JOHN'S WORT ^HERRON^ (HYPERICUM PERFORATUM)   \n",
       "1          1.0                                        CORDYCEPS   \n",
       "2          2.0                                    FLAXSEEDS OIL   \n",
       "3          2.0             EXTRACT OF SERENOA REPENS (PERMIXON)   \n",
       "4          1.0                                GUARANA (GUARANA)   \n",
       "\n",
       "   lookup_rank_related  \n",
       "0                  1.0  \n",
       "1                  1.0  \n",
       "2                  1.0  \n",
       "3                  1.0  \n",
       "4                  1.0  "
      ]
     },
     "execution_count": 43,
     "metadata": {},
     "output_type": "execute_result"
    }
   ],
   "source": [
    "#post process to make lookup rank = lookup rank related if related is nan still\n",
    "for i in range(len(test_eval.index)):\n",
    "    lookup_rank = test_eval.at[i, 'lookup_rank']\n",
    "    lookup_rank_related = test_eval.at[i, 'lookup_rank_related']\n",
    "    if lookup_rank:\n",
    "        if np.isnan(lookup_rank_related):\n",
    "            test_eval.at[i, 'lookup_rank_related'] = lookup_rank\n",
    "test_eval.head()"
   ]
  },
  {
   "cell_type": "code",
   "execution_count": 44,
   "id": "d67d4bc8-8bfa-40d5-aa01-ae450a2ce102",
   "metadata": {},
   "outputs": [],
   "source": [
    "test_eval.to_csv('evaluation/test_siamese_evaluation_related_lstm_model_np_name.csv', index=False)"
   ]
  },
  {
   "cell_type": "code",
   "execution_count": 2,
   "id": "e29543d7-e374-468c-8d95-6a34bd697c85",
   "metadata": {},
   "outputs": [],
   "source": [
    "###compute MRR from test set evaluation\n",
    "test_eval = pd.read_csv('evaluation/test_siamese_evaluation_related_lstm_model_np_name.csv')"
   ]
  },
  {
   "cell_type": "code",
   "execution_count": 45,
   "id": "d35a572a-7afb-4842-a241-aababae473a2",
   "metadata": {},
   "outputs": [
    {
     "data": {
      "text/html": [
       "<div>\n",
       "<style scoped>\n",
       "    .dataframe tbody tr th:only-of-type {\n",
       "        vertical-align: middle;\n",
       "    }\n",
       "\n",
       "    .dataframe tbody tr th {\n",
       "        vertical-align: top;\n",
       "    }\n",
       "\n",
       "    .dataframe thead th {\n",
       "        text-align: right;\n",
       "    }\n",
       "</style>\n",
       "<table border=\"1\" class=\"dataframe\">\n",
       "  <thead>\n",
       "    <tr style=\"text-align: right;\">\n",
       "      <th></th>\n",
       "      <th>FAERS_drug_match</th>\n",
       "      <th>lookup_rank</th>\n",
       "      <th>lookup_rank_related</th>\n",
       "    </tr>\n",
       "  </thead>\n",
       "  <tbody>\n",
       "    <tr>\n",
       "      <th>0</th>\n",
       "      <td>ST. JOHN'S WORT ^HERRON^ (HYPERICUM PERFORATUM)</td>\n",
       "      <td>1.0</td>\n",
       "      <td>1.0</td>\n",
       "    </tr>\n",
       "    <tr>\n",
       "      <th>1</th>\n",
       "      <td>CORDYCEPS</td>\n",
       "      <td>1.0</td>\n",
       "      <td>1.0</td>\n",
       "    </tr>\n",
       "    <tr>\n",
       "      <th>2</th>\n",
       "      <td>FLAXSEEDS OIL</td>\n",
       "      <td>2.0</td>\n",
       "      <td>1.0</td>\n",
       "    </tr>\n",
       "    <tr>\n",
       "      <th>3</th>\n",
       "      <td>EXTRACT OF SERENOA REPENS (PERMIXON)</td>\n",
       "      <td>2.0</td>\n",
       "      <td>1.0</td>\n",
       "    </tr>\n",
       "    <tr>\n",
       "      <th>4</th>\n",
       "      <td>GUARANA (GUARANA)</td>\n",
       "      <td>1.0</td>\n",
       "      <td>1.0</td>\n",
       "    </tr>\n",
       "  </tbody>\n",
       "</table>\n",
       "</div>"
      ],
      "text/plain": [
       "                                  FAERS_drug_match  lookup_rank  \\\n",
       "0  ST. JOHN'S WORT ^HERRON^ (HYPERICUM PERFORATUM)          1.0   \n",
       "1                                        CORDYCEPS          1.0   \n",
       "2                                    FLAXSEEDS OIL          2.0   \n",
       "3             EXTRACT OF SERENOA REPENS (PERMIXON)          2.0   \n",
       "4                                GUARANA (GUARANA)          1.0   \n",
       "\n",
       "   lookup_rank_related  \n",
       "0                  1.0  \n",
       "1                  1.0  \n",
       "2                  1.0  \n",
       "3                  1.0  \n",
       "4                  1.0  "
      ]
     },
     "execution_count": 45,
     "metadata": {},
     "output_type": "execute_result"
    }
   ],
   "source": [
    "test_mrr = test_eval[['FAERS_drug_match', 'lookup_rank', 'lookup_rank_related']]\n",
    "test_mrr.head()"
   ]
  },
  {
   "cell_type": "code",
   "execution_count": 46,
   "id": "4d4c33cb-e596-4f86-a47d-760da37606f3",
   "metadata": {},
   "outputs": [
    {
     "name": "stdout",
     "output_type": "stream",
     "text": [
      "<class 'pandas.core.frame.DataFrame'>\n",
      "RangeIndex: 1072 entries, 0 to 1071\n",
      "Data columns (total 3 columns):\n",
      " #   Column               Non-Null Count  Dtype  \n",
      "---  ------               --------------  -----  \n",
      " 0   FAERS_drug_match     1072 non-null   object \n",
      " 1   lookup_rank          1022 non-null   float64\n",
      " 2   lookup_rank_related  1026 non-null   float64\n",
      "dtypes: float64(2), object(1)\n",
      "memory usage: 25.2+ KB\n"
     ]
    }
   ],
   "source": [
    "test_mrr.info()"
   ]
  },
  {
   "cell_type": "code",
   "execution_count": 47,
   "id": "8b80bba5-241c-4526-8865-f108fc418534",
   "metadata": {},
   "outputs": [
    {
     "data": {
      "text/plain": [
       "(50, 3)"
      ]
     },
     "execution_count": 47,
     "metadata": {},
     "output_type": "execute_result"
    }
   ],
   "source": [
    "#number of 0 relevant results\n",
    "test_mrr.loc[test_mrr['lookup_rank'].isna()].shape"
   ]
  },
  {
   "cell_type": "code",
   "execution_count": 48,
   "id": "7d2308d6-0d00-4777-a2be-64768cb8e41c",
   "metadata": {},
   "outputs": [
    {
     "data": {
      "text/plain": [
       "(46, 3)"
      ]
     },
     "execution_count": 48,
     "metadata": {},
     "output_type": "execute_result"
    }
   ],
   "source": [
    "test_mrr.loc[test_mrr['lookup_rank_related'].isna()].shape"
   ]
  },
  {
   "cell_type": "code",
   "execution_count": 49,
   "id": "c1758af3-3bfa-4f03-8af6-ae2574fe6152",
   "metadata": {
    "tags": []
   },
   "outputs": [
    {
     "name": "stdout",
     "output_type": "stream",
     "text": [
      "<class 'pandas.core.frame.DataFrame'>\n",
      "Int64Index: 1022 entries, 0 to 1071\n",
      "Data columns (total 2 columns):\n",
      " #   Column            Non-Null Count  Dtype  \n",
      "---  ------            --------------  -----  \n",
      " 0   FAERS_drug_match  1022 non-null   object \n",
      " 1   lookup_rank       1022 non-null   float64\n",
      "dtypes: float64(1), object(1)\n",
      "memory usage: 24.0+ KB\n"
     ]
    }
   ],
   "source": [
    "test_mrr_exact = test_mrr[test_mrr['lookup_rank'].notna()]\n",
    "test_mrr_exact = test_mrr_exact.drop(['lookup_rank_related'], axis=1)\n",
    "test_mrr_exact.info()"
   ]
  },
  {
   "cell_type": "code",
   "execution_count": 50,
   "id": "453d897c-2a0a-4c68-a9bc-2280c2a822d3",
   "metadata": {},
   "outputs": [
    {
     "name": "stdout",
     "output_type": "stream",
     "text": [
      "<class 'pandas.core.frame.DataFrame'>\n",
      "Int64Index: 1026 entries, 0 to 1071\n",
      "Data columns (total 2 columns):\n",
      " #   Column               Non-Null Count  Dtype  \n",
      "---  ------               --------------  -----  \n",
      " 0   FAERS_drug_match     1026 non-null   object \n",
      " 1   lookup_rank_related  1026 non-null   float64\n",
      "dtypes: float64(1), object(1)\n",
      "memory usage: 24.0+ KB\n"
     ]
    }
   ],
   "source": [
    "test_mrr_rel = test_mrr[test_mrr['lookup_rank_related'].notna()]\n",
    "test_mrr_rel = test_mrr_rel.drop(['lookup_rank'], axis=1)\n",
    "test_mrr_rel.info()"
   ]
  },
  {
   "cell_type": "code",
   "execution_count": 51,
   "id": "4cbb992e-1e53-44dc-bdbe-78fd911453eb",
   "metadata": {},
   "outputs": [
    {
     "data": {
      "text/html": [
       "<div>\n",
       "<style scoped>\n",
       "    .dataframe tbody tr th:only-of-type {\n",
       "        vertical-align: middle;\n",
       "    }\n",
       "\n",
       "    .dataframe tbody tr th {\n",
       "        vertical-align: top;\n",
       "    }\n",
       "\n",
       "    .dataframe thead th {\n",
       "        text-align: right;\n",
       "    }\n",
       "</style>\n",
       "<table border=\"1\" class=\"dataframe\">\n",
       "  <thead>\n",
       "    <tr style=\"text-align: right;\">\n",
       "      <th></th>\n",
       "      <th>FAERS_drug_match</th>\n",
       "      <th>lookup_rank</th>\n",
       "      <th>reciprocal_rank</th>\n",
       "    </tr>\n",
       "  </thead>\n",
       "  <tbody>\n",
       "    <tr>\n",
       "      <th>0</th>\n",
       "      <td>ST. JOHN'S WORT ^HERRON^ (HYPERICUM PERFORATUM)</td>\n",
       "      <td>1.0</td>\n",
       "      <td>1.0</td>\n",
       "    </tr>\n",
       "    <tr>\n",
       "      <th>1</th>\n",
       "      <td>CORDYCEPS</td>\n",
       "      <td>1.0</td>\n",
       "      <td>1.0</td>\n",
       "    </tr>\n",
       "    <tr>\n",
       "      <th>2</th>\n",
       "      <td>FLAXSEEDS OIL</td>\n",
       "      <td>2.0</td>\n",
       "      <td>0.5</td>\n",
       "    </tr>\n",
       "    <tr>\n",
       "      <th>3</th>\n",
       "      <td>EXTRACT OF SERENOA REPENS (PERMIXON)</td>\n",
       "      <td>2.0</td>\n",
       "      <td>0.5</td>\n",
       "    </tr>\n",
       "    <tr>\n",
       "      <th>4</th>\n",
       "      <td>GUARANA (GUARANA)</td>\n",
       "      <td>1.0</td>\n",
       "      <td>1.0</td>\n",
       "    </tr>\n",
       "  </tbody>\n",
       "</table>\n",
       "</div>"
      ],
      "text/plain": [
       "                                  FAERS_drug_match  lookup_rank  \\\n",
       "0  ST. JOHN'S WORT ^HERRON^ (HYPERICUM PERFORATUM)          1.0   \n",
       "1                                        CORDYCEPS          1.0   \n",
       "2                                    FLAXSEEDS OIL          2.0   \n",
       "3             EXTRACT OF SERENOA REPENS (PERMIXON)          2.0   \n",
       "4                                GUARANA (GUARANA)          1.0   \n",
       "\n",
       "   reciprocal_rank  \n",
       "0              1.0  \n",
       "1              1.0  \n",
       "2              0.5  \n",
       "3              0.5  \n",
       "4              1.0  "
      ]
     },
     "execution_count": 51,
     "metadata": {},
     "output_type": "execute_result"
    }
   ],
   "source": [
    "exact_reciprocal = 1/test_mrr_exact['lookup_rank']\n",
    "test_mrr_exact['reciprocal_rank'] = exact_reciprocal\n",
    "test_mrr_exact.head()"
   ]
  },
  {
   "cell_type": "code",
   "execution_count": 52,
   "id": "923f19ff-a780-4b1d-ac41-98fcb4ba72d7",
   "metadata": {},
   "outputs": [
    {
     "data": {
      "text/plain": [
       "0.7299739073711676"
      ]
     },
     "execution_count": 52,
     "metadata": {},
     "output_type": "execute_result"
    }
   ],
   "source": [
    "##get the mean of reciprocal ranks for exact matches\n",
    "test_mrr_exact.reciprocal_rank.mean()"
   ]
  },
  {
   "cell_type": "code",
   "execution_count": 53,
   "id": "1a25360c-513e-4ba4-b4d3-8c3930ca22ba",
   "metadata": {},
   "outputs": [
    {
     "data": {
      "text/plain": [
       "2.0"
      ]
     },
     "execution_count": 53,
     "metadata": {},
     "output_type": "execute_result"
    }
   ],
   "source": [
    "#get median and stdev\n",
    "test_mrr_exact.lookup_rank.median()"
   ]
  },
  {
   "cell_type": "code",
   "execution_count": 54,
   "id": "b4e65d8f-e041-44ca-8284-6a0749821536",
   "metadata": {},
   "outputs": [
    {
     "data": {
      "text/plain": [
       "0.5"
      ]
     },
     "execution_count": 54,
     "metadata": {},
     "output_type": "execute_result"
    }
   ],
   "source": [
    "test_mrr_exact.reciprocal_rank.median()"
   ]
  },
  {
   "cell_type": "code",
   "execution_count": 55,
   "id": "831ec9be-33c2-47d0-b2b3-51e8b203375f",
   "metadata": {},
   "outputs": [
    {
     "data": {
      "text/plain": [
       "0.6317946754922137"
      ]
     },
     "execution_count": 55,
     "metadata": {},
     "output_type": "execute_result"
    }
   ],
   "source": [
    "test_mrr_exact.lookup_rank.std()"
   ]
  },
  {
   "cell_type": "code",
   "execution_count": 14,
   "id": "56793d51-28b6-4a52-b692-4f8f2877afad",
   "metadata": {},
   "outputs": [
    {
     "data": {
      "text/plain": [
       "0.26693768780742705"
      ]
     },
     "execution_count": 14,
     "metadata": {},
     "output_type": "execute_result"
    }
   ],
   "source": [
    "test_mrr_exact.reciprocal_rank.std()"
   ]
  },
  {
   "cell_type": "code",
   "execution_count": 56,
   "id": "f6a510f6-c16d-4740-afe3-bcb217da5833",
   "metadata": {},
   "outputs": [
    {
     "data": {
      "text/html": [
       "<div>\n",
       "<style scoped>\n",
       "    .dataframe tbody tr th:only-of-type {\n",
       "        vertical-align: middle;\n",
       "    }\n",
       "\n",
       "    .dataframe tbody tr th {\n",
       "        vertical-align: top;\n",
       "    }\n",
       "\n",
       "    .dataframe thead th {\n",
       "        text-align: right;\n",
       "    }\n",
       "</style>\n",
       "<table border=\"1\" class=\"dataframe\">\n",
       "  <thead>\n",
       "    <tr style=\"text-align: right;\">\n",
       "      <th></th>\n",
       "      <th>FAERS_drug_match</th>\n",
       "      <th>lookup_rank_related</th>\n",
       "      <th>reciprocal_rank</th>\n",
       "    </tr>\n",
       "  </thead>\n",
       "  <tbody>\n",
       "    <tr>\n",
       "      <th>0</th>\n",
       "      <td>ST. JOHN'S WORT ^HERRON^ (HYPERICUM PERFORATUM)</td>\n",
       "      <td>1.0</td>\n",
       "      <td>1.0</td>\n",
       "    </tr>\n",
       "    <tr>\n",
       "      <th>1</th>\n",
       "      <td>CORDYCEPS</td>\n",
       "      <td>1.0</td>\n",
       "      <td>1.0</td>\n",
       "    </tr>\n",
       "    <tr>\n",
       "      <th>2</th>\n",
       "      <td>FLAXSEEDS OIL</td>\n",
       "      <td>1.0</td>\n",
       "      <td>1.0</td>\n",
       "    </tr>\n",
       "    <tr>\n",
       "      <th>3</th>\n",
       "      <td>EXTRACT OF SERENOA REPENS (PERMIXON)</td>\n",
       "      <td>1.0</td>\n",
       "      <td>1.0</td>\n",
       "    </tr>\n",
       "    <tr>\n",
       "      <th>4</th>\n",
       "      <td>GUARANA (GUARANA)</td>\n",
       "      <td>1.0</td>\n",
       "      <td>1.0</td>\n",
       "    </tr>\n",
       "  </tbody>\n",
       "</table>\n",
       "</div>"
      ],
      "text/plain": [
       "                                  FAERS_drug_match  lookup_rank_related  \\\n",
       "0  ST. JOHN'S WORT ^HERRON^ (HYPERICUM PERFORATUM)                  1.0   \n",
       "1                                        CORDYCEPS                  1.0   \n",
       "2                                    FLAXSEEDS OIL                  1.0   \n",
       "3             EXTRACT OF SERENOA REPENS (PERMIXON)                  1.0   \n",
       "4                                GUARANA (GUARANA)                  1.0   \n",
       "\n",
       "   reciprocal_rank  \n",
       "0              1.0  \n",
       "1              1.0  \n",
       "2              1.0  \n",
       "3              1.0  \n",
       "4              1.0  "
      ]
     },
     "execution_count": 56,
     "metadata": {},
     "output_type": "execute_result"
    }
   ],
   "source": [
    "rel_reciprocal = 1/test_mrr_rel['lookup_rank_related']\n",
    "test_mrr_rel['reciprocal_rank'] = rel_reciprocal\n",
    "test_mrr_rel.head()"
   ]
  },
  {
   "cell_type": "code",
   "execution_count": 57,
   "id": "2adbe84d-848f-43ab-882f-6a6e5128d353",
   "metadata": {},
   "outputs": [
    {
     "data": {
      "text/plain": [
       "0.9265107212475634"
      ]
     },
     "execution_count": 57,
     "metadata": {},
     "output_type": "execute_result"
    }
   ],
   "source": [
    "test_mrr_rel.reciprocal_rank.mean()"
   ]
  },
  {
   "cell_type": "code",
   "execution_count": 58,
   "id": "967da405-a13a-4176-8a64-b8e31e894c2b",
   "metadata": {},
   "outputs": [
    {
     "data": {
      "text/plain": [
       "1.0"
      ]
     },
     "execution_count": 58,
     "metadata": {},
     "output_type": "execute_result"
    }
   ],
   "source": [
    "test_mrr_rel.reciprocal_rank.median()"
   ]
  },
  {
   "cell_type": "code",
   "execution_count": 59,
   "id": "2f468f94-4273-4bf7-b362-ff58e1e94791",
   "metadata": {},
   "outputs": [
    {
     "data": {
      "text/plain": [
       "0.18510530964102687"
      ]
     },
     "execution_count": 59,
     "metadata": {},
     "output_type": "execute_result"
    }
   ],
   "source": [
    "test_mrr_rel.reciprocal_rank.std()"
   ]
  },
  {
   "cell_type": "code",
   "execution_count": 60,
   "id": "37dafb72-08d0-495b-a11b-a20227c25b05",
   "metadata": {},
   "outputs": [
    {
     "data": {
      "text/plain": [
       "1.0"
      ]
     },
     "execution_count": 60,
     "metadata": {},
     "output_type": "execute_result"
    }
   ],
   "source": [
    "test_mrr_rel.lookup_rank_related.median()"
   ]
  },
  {
   "cell_type": "code",
   "execution_count": 61,
   "id": "3df2f313-b649-4795-b92c-d7a4d0fc55c9",
   "metadata": {},
   "outputs": [
    {
     "data": {
      "text/plain": [
       "0.5098683830938465"
      ]
     },
     "execution_count": 61,
     "metadata": {},
     "output_type": "execute_result"
    }
   ],
   "source": [
    "test_mrr_rel.lookup_rank_related.std()"
   ]
  },
  {
   "cell_type": "code",
   "execution_count": null,
   "id": "40f530d6-b341-4455-8d24-04a9cb5b8056",
   "metadata": {},
   "outputs": [],
   "source": []
  }
 ],
 "metadata": {
  "kernelspec": {
   "display_name": "Python 3 (ipykernel)",
   "language": "python",
   "name": "python3"
  },
  "language_info": {
   "codemirror_mode": {
    "name": "ipython",
    "version": 3
   },
   "file_extension": ".py",
   "mimetype": "text/x-python",
   "name": "python",
   "nbconvert_exporter": "python",
   "pygments_lexer": "ipython3",
   "version": "3.8.0"
  }
 },
 "nbformat": 4,
 "nbformat_minor": 5
}
