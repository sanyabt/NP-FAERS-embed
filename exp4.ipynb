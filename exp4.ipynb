{
 "cells": [
  {
   "cell_type": "code",
   "execution_count": 1,
   "id": "9d52a1d0",
   "metadata": {},
   "outputs": [],
   "source": [
    "import pandas as pd\n",
    "import numpy as np\n",
    "import numpy as np\n",
    "import pandas as pd\n",
    "import pickle\n",
    "from IPython.display import display, clear_output\n",
    "import re\n",
    "from tqdm import tqdm\n",
    "import tensorflow as tf\n",
    "import string\n",
    "import random\n",
    "from utils import clean_dataset_1d, encode_dataset, padding_dataset\n",
    "from model import embed_model"
   ]
  },
  {
   "cell_type": "code",
   "execution_count": 2,
   "id": "b186a176",
   "metadata": {},
   "outputs": [
    {
     "name": "stdout",
     "output_type": "stream",
     "text": [
      "(405332, 1)\n",
      "                         FAERS_drug_match\n",
      "0                         ACRINOL HYDRATE\n",
      "1                MAXAZIDE/TRIAMTEREN HCTZ\n",
      "2        KETOBEMIDONE (KETOGAN) (KETOGIN)\n",
      "3                   TYLENOL XTRA STRENGTH\n",
      "4  MINOCYCLINE(MINOCYLCINE HYDROCHLORIDE)\n"
     ]
    }
   ],
   "source": [
    "df = pd.read_csv('data/upper_unmap_orig_drug_names_no_model_overlap_20220224.csv')\n",
    "print(df.shape)\n",
    "print(df.head())"
   ]
  },
  {
   "cell_type": "code",
   "execution_count": 3,
   "id": "cbd615c9",
   "metadata": {},
   "outputs": [],
   "source": [
    "test_unmap = clean_dataset_1d(df)\n",
    "test_unmap_encode = encode_dataset(test_unmap)\n",
    "padded_test = padding_dataset(test_unmap_encode)"
   ]
  },
  {
   "cell_type": "code",
   "execution_count": 4,
   "id": "230c71cf",
   "metadata": {},
   "outputs": [],
   "source": [
    "model = embed_model(\"exp3/alstm-22-0.01.hdf5\")"
   ]
  },
  {
   "cell_type": "code",
   "execution_count": 5,
   "id": "2d812313",
   "metadata": {},
   "outputs": [],
   "source": [
    "embed = model.predict(padded_test)"
   ]
  },
  {
   "cell_type": "code",
   "execution_count": 6,
   "id": "f6153a6e",
   "metadata": {},
   "outputs": [],
   "source": [
    "# with open(\"embed_unmap_orig_drug_names_no_model_overlap_20220224.pkl\", \"wb\") as e:\n",
    "#     pickle.dump(embed, e)"
   ]
  },
  {
   "cell_type": "code",
   "execution_count": null,
   "id": "f1c6ef1b",
   "metadata": {},
   "outputs": [],
   "source": []
  }
 ],
 "metadata": {
  "kernelspec": {
   "display_name": "clock",
   "language": "python",
   "name": "clock"
  },
  "language_info": {
   "codemirror_mode": {
    "name": "ipython",
    "version": 3
   },
   "file_extension": ".py",
   "mimetype": "text/x-python",
   "name": "python",
   "