{
 "cells": [
  {
   "cell_type": "code",
   "execution_count": 1,
   "id": "upper-conviction",
   "metadata": {},
   "outputs": [],
   "source": [
    "import pandas as pd\n",
    "import numpy as np"
   ]
  },
  {
   "cell_type": "markdown",
   "id": "careful-contributor",
   "metadata": {},
   "source": [
    "#### This notebook filters the annotated FAERS strings and drug matches to remove duplicates and save as CSVs.\n",
    "\n",
    "Details and NP list - https://github.com/sanyabt/NP-FAERS-embed/wiki"
   ]
  },
  {
   "cell_type": "code",
   "execution_count": 5,
   "id": "2c5e37d4-3de4-43d9-b17c-1dbef0afc586",
   "metadata": {},
   "outputs": [],
   "source": [
    "df = pd.read_csv('data/raw_data/NP_FAERS_match_all_20220215.csv')\n",
    "df1= pd.read_csv('data/raw_data/NP_FAERS_reference_set_20220215.csv')\n",
    "df2 = pd.read_csv('data/raw_data/NP_FAERS_negative_pairs_20220215.csv')"
   ]
  },
  {
   "cell_type": "code",
   "execution_count": 6,
   "id": "9c4285a7-384c-43c0-9321-58e9a32b8fa6",
   "metadata": {},
   "outputs": [
    {
     "name": "stdout",
     "output_type": "stream",
     "text": [
      "<class 'pandas.core.frame.DataFrame'>\n",
      "RangeIndex: 9478 entries, 0 to 9477\n",
      "Data columns (total 3 columns):\n",
      " #   Column                  Non-Null Count  Dtype \n",
      "---  ------                  --------------  ----- \n",
      " 0   related_latin_binomial  9478 non-null   object\n",
      " 1   related_common_name     9478 non-null   object\n",
      " 2   FAERS_drug_match        9478 non-null   object\n",
      "dtypes: object(3)\n",
      "memory usage: 222.3+ KB\n"
     ]
    }
   ],
   "source": [
    "df.info()"
   ]
  },
  {
   "cell_type": "code",
   "execution_count": 7,
   "id": "eb983295-357d-471a-b6ad-e6b0386c3889",
   "metadata": {},
   "outputs": [
    {
     "name": "stdout",
     "output_type": "stream",
     "text": [
      "<class 'pandas.core.frame.DataFrame'>\n",
      "RangeIndex: 4610 entries, 0 to 4609\n",
      "Data columns (total 3 columns):\n",
      " #   Column                  Non-Null Count  Dtype \n",
      "---  ------                  --------------  ----- \n",
      " 0   FAERS_drug_match        4610 non-null   object\n",
      " 1   related_latin_binomial  4610 non-null   object\n",
      " 2   related_common_name     4610 non-null   object\n",
      "dtypes: object(3)\n",
      "memory usage: 108.2+ KB\n"
     ]
    }
   ],
   "source": [
    "df1.info()"
   ]
  },
  {
   "cell_type": "code",
   "execution_count": 8,
   "id": "c67e724b-3961-4e93-a194-f5aaf5b0f233",
   "metadata": {},
   "outputs": [
    {
     "name": "stdout",
     "output_type": "stream",
     "text": [
      "<class 'pandas.core.frame.DataFrame'>\n",
      "RangeIndex: 4863 entries, 0 to 4862\n",
      "Data columns (total 3 columns):\n",
      " #   Column                  Non-Null Count  Dtype \n",
      "---  ------                  --------------  ----- \n",
      " 0   FAERS_drug_match        4863 non-null   object\n",
      " 1   related_latin_binomial  4863 non-null   object\n",
      " 2   related_common_name     4863 non-null   object\n",
      "dtypes: object(3)\n",
      "memory usage: 114.1+ KB\n"
     ]
    }
   ],
   "source": [
    "df2.info()"
   ]
  },
  {
   "cell_type": "code",
   "execution_count": 7,
   "id": "06c883f5-835f-47c3-9267-4f7fc33b0753",
   "metadata": {},
   "outputs": [],
   "source": [
    "#remove duplicates"
   ]
  },
  {
   "cell_type": "code",
   "execution_count": 9,
   "id": "71e66f52-37ae-419d-bbdc-1a3760f90ddf",
   "metadata": {},
   "outputs": [
    {
     "name": "stdout",
     "output_type": "stream",
     "text": [
      "<class 'pandas.core.frame.DataFrame'>\n",
      "RangeIndex: 7234 entries, 0 to 7233\n",
      "Data columns (total 3 columns):\n",
      " #   Column                  Non-Null Count  Dtype \n",
      "---  ------                  --------------  ----- \n",
      " 0   related_latin_binomial  7234 non-null   object\n",
      " 1   related_common_name     7234 non-null   object\n",
      " 2   FAERS_drug_match        7234 non-null   object\n",
      "dtypes: object(3)\n",
      "memory usage: 169.7+ KB\n"
     ]
    }
   ],
   "source": [
    "df = df.drop_duplicates(ignore_index=True)\n",
    "df.info()"
   ]
  },
  {
   "cell_type": "code",
   "execution_count": 10,
   "id": "846713af-ed1b-492f-930c-2df6d5319ee8",
   "metadata": {},
   "outputs": [
    {
     "name": "stdout",
     "output_type": "stream",
     "text": [
      "<class 'pandas.core.frame.DataFrame'>\n",
      "RangeIndex: 2679 entries, 0 to 2678\n",
      "Data columns (total 3 columns):\n",
      " #   Column                  Non-Null Count  Dtype \n",
      "---  ------                  --------------  ----- \n",
      " 0   FAERS_drug_match        2679 non-null   object\n",
      " 1   related_latin_binomial  2679 non-null   object\n",
      " 2   related_common_name     2679 non-null   object\n",
      "dtypes: object(3)\n",
      "memory usage: 62.9+ KB\n"
     ]
    }
   ],
   "source": [
    "df1 = df1.drop_duplicates(ignore_index=True)\n",
    "df1.info()"
   ]
  },
  {
   "cell_type": "code",
   "execution_count": 11,
   "id": "cf4e0529-6f80-400a-a190-2cb4d1109179",
   "metadata": {},
   "outputs": [
    {
     "name": "stdout",
     "output_type": "stream",
     "text": [
      "<class 'pandas.core.frame.DataFrame'>\n",
      "RangeIndex: 4621 entries, 0 to 4620\n",
      "Data columns (total 3 columns):\n",
      " #   Column                  Non-Null Count  Dtype \n",
      "---  ------                  --------------  ----- \n",
      " 0   FAERS_drug_match        4621 non-null   object\n",
      " 1   related_latin_binomial  4621 non-null   object\n",
      " 2   related_common_name     4621 non-null   object\n",
      "dtypes: object(3)\n",
      "memory usage: 108.4+ KB\n"
     ]
    }
   ],
   "source": [
    "df2 = df2.drop_duplicates(ignore_index=True)\n",
    "df2.info()"
   ]
  },
  {
   "cell_type": "code",
   "execution_count": 12,
   "id": "aaea355c-b3a8-4d47-ae3c-66ddfbe47d6d",
   "metadata": {},
   "outputs": [
    {
     "name": "stdout",
     "output_type": "stream",
     "text": [
      "<class 'pandas.core.frame.DataFrame'>\n",
      "Index: 0 entries\n",
      "Data columns (total 5 columns):\n",
      " #   Column                    Non-Null Count  Dtype \n",
      "---  ------                    --------------  ----- \n",
      " 0   FAERS_drug_match          0 non-null      object\n",
      " 1   related_latin_binomial_x  0 non-null      object\n",
      " 2   related_common_name_x     0 non-null      object\n",
      " 3   related_latin_binomial_y  0 non-null      object\n",
      " 4   related_common_name_y     0 non-null      object\n",
      "dtypes: object(5)\n",
      "memory usage: 0.0+ bytes\n"
     ]
    }
   ],
   "source": [
    "#find intersection of postive and negative pairs - intersection = 0\n",
    "dftemp = pd.merge(df1, df2, how='inner', on=['FAERS_drug_match'])\n",
    "dftemp.info()"
   ]
  },
  {
   "cell_type": "code",
   "execution_count": 13,
   "id": "2edf62f3-2bd0-452c-9f53-8960b165d911",
   "metadata": {},
   "outputs": [
    {
     "data": {
      "text/html": [
       "<div>\n",
       "<style scoped>\n",
       "    .dataframe tbody tr th:only-of-type {\n",
       "        vertical-align: middle;\n",
       "    }\n",
       "\n",
       "    .dataframe tbody tr th {\n",
       "        vertical-align: top;\n",
       "    }\n",
       "\n",
       "    .dataframe thead th {\n",
       "        text-align: right;\n",
       "    }\n",
       "</style>\n",
       "<table border=\"1\" class=\"dataframe\">\n",
       "  <thead>\n",
       "    <tr style=\"text-align: right;\">\n",
       "      <th></th>\n",
       "      <th>FAERS_drug_match</th>\n",
       "      <th>related_latin_binomial</th>\n",
       "      <th>related_common_name</th>\n",
       "    </tr>\n",
       "  </thead>\n",
       "  <tbody>\n",
       "    <tr>\n",
       "      <th>0</th>\n",
       "      <td>ADRENAL HEALTH (BRAND) = (SIBERIAN RHODIOLA, R...</td>\n",
       "      <td>Withania somnifera</td>\n",
       "      <td>Ashwaganda</td>\n",
       "    </tr>\n",
       "    <tr>\n",
       "      <th>1</th>\n",
       "      <td>ASHWAGANDHA</td>\n",
       "      <td>Withania somnifera</td>\n",
       "      <td>Ashwaganda</td>\n",
       "    </tr>\n",
       "    <tr>\n",
       "      <th>2</th>\n",
       "      <td>ASHWAGANDHA,</td>\n",
       "      <td>Withania somnifera</td>\n",
       "      <td>Ashwaganda</td>\n",
       "    </tr>\n",
       "    <tr>\n",
       "      <th>3</th>\n",
       "      <td>ASHWAGANDHA                        /01660201/</td>\n",
       "      <td>Withania somnifera</td>\n",
       "      <td>Ashwaganda</td>\n",
       "    </tr>\n",
       "    <tr>\n",
       "      <th>4</th>\n",
       "      <td>ASHWAGANDHA /01660201/</td>\n",
       "      <td>Withania somnifera</td>\n",
       "      <td>Ashwaganda</td>\n",
       "    </tr>\n",
       "  </tbody>\n",
       "</table>\n",
       "</div>"
      ],
      "text/plain": [
       "                                    FAERS_drug_match related_latin_binomial  \\\n",
       "0  ADRENAL HEALTH (BRAND) = (SIBERIAN RHODIOLA, R...     Withania somnifera   \n",
       "1                                        ASHWAGANDHA     Withania somnifera   \n",
       "2                                       ASHWAGANDHA,     Withania somnifera   \n",
       "3      ASHWAGANDHA                        /01660201/     Withania somnifera   \n",
       "4                             ASHWAGANDHA /01660201/     Withania somnifera   \n",
       "\n",
       "  related_common_name  \n",
       "0          Ashwaganda  \n",
       "1          Ashwaganda  \n",
       "2          Ashwaganda  \n",
       "3          Ashwaganda  \n",
       "4          Ashwaganda  "
      ]
     },
     "execution_count": 13,
     "metadata": {},
     "output_type": "execute_result"
    }
   ],
   "source": [
    "df1.head()"
   ]
  },
  {
   "cell_type": "code",
   "execution_count": 14,
   "id": "73e182fd-3d3d-4169-9c78-0e6c67c07e0c",
   "metadata": {},
   "outputs": [
    {
     "name": "stdout",
     "output_type": "stream",
     "text": [
      "<class 'pandas.core.frame.DataFrame'>\n",
      "RangeIndex: 2679 entries, 0 to 2678\n",
      "Data columns (total 2 columns):\n",
      " #   Column               Non-Null Count  Dtype \n",
      "---  ------               --------------  ----- \n",
      " 0   FAERS_drug_match     2679 non-null   object\n",
      " 1   related_common_name  2679 non-null   object\n",
      "dtypes: object(2)\n",
      "memory usage: 42.0+ KB\n"
     ]
    }
   ],
   "source": [
    "##add lookup values from common name and latin binomial\n",
    "#each row maps to both common name and latin binomial in positive pair\n",
    "dfpos = df1[['FAERS_drug_match', 'related_common_name']]\n",
    "dfpos.info()\n"
   ]
  },
  {
   "cell_type": "code",
   "execution_count": 17,
   "id": "675e4fc1-e4eb-4e0f-8753-cf0d34567fb1",
   "metadata": {},
   "outputs": [
    {
     "name": "stdout",
     "output_type": "stream",
     "text": [
      "<class 'pandas.core.frame.DataFrame'>\n",
      "RangeIndex: 2679 entries, 0 to 2678\n",
      "Data columns (total 3 columns):\n",
      " #   Column                  Non-Null Count  Dtype \n",
      "---  ------                  --------------  ----- \n",
      " 0   FAERS_drug_match        2679 non-null   object\n",
      " 1   related_latin_binomial  2679 non-null   object\n",
      " 2   lookup_value            2679 non-null   object\n",
      "dtypes: object(3)\n",
      "memory usage: 62.9+ KB\n"
     ]
    }
   ],
   "source": [
    "df1.info()"
   ]
  },
  {
   "cell_type": "code",
   "execution_count": 16,
   "id": "8c453358-cdbf-4cde-b411-549c58617c65",
   "metadata": {},
   "outputs": [
    {
     "name": "stdout",
     "output_type": "stream",
     "text": [
      "<class 'pandas.core.frame.DataFrame'>\n",
      "RangeIndex: 2679 entries, 0 to 2678\n",
      "Data columns (total 2 columns):\n",
      " #   Column            Non-Null Count  Dtype \n",
      "---  ------            --------------  ----- \n",
      " 0   FAERS_drug_match  2679 non-null   object\n",
      " 1   lookup_value      2679 non-null   object\n",
      "dtypes: object(2)\n",
      "memory usage: 42.0+ KB\n"
     ]
    }
   ],
   "source": [
    "dfpos = dfpos.rename(columns={'related_common_name':'lookup_value'})\n",
    "dfpos.info()"
   ]
  },
  {
   "cell_type": "code",
   "execution_count": 19,
   "id": "62380db0-f7f3-46c5-b8bf-433aed1dfd70",
   "metadata": {},
   "outputs": [
    {
     "name": "stdout",
     "output_type": "stream",
     "text": [
      "<class 'pandas.core.frame.DataFrame'>\n",
      "RangeIndex: 2679 entries, 0 to 2678\n",
      "Data columns (total 2 columns):\n",
      " #   Column            Non-Null Count  Dtype \n",
      "---  ------            --------------  ----- \n",
      " 0   FAERS_drug_match  2679 non-null   object\n",
      " 1   lookup_value      2679 non-null   object\n",
      "dtypes: object(2)\n",
      "memory usage: 42.0+ KB\n"
     ]
    }
   ],
   "source": [
    "dftemp = df1[['FAERS_drug_match', 'related_latin_binomial']]\n",
    "dftemp = dftemp.rename(columns={'related_latin_binomial': 'lookup_value'})\n",
    "dftemp.info()"
   ]
  },
  {
   "cell_type": "code",
   "execution_count": 20,
   "id": "7b2d416f-f862-4190-94f3-e8d79393e749",
   "metadata": {},
   "outputs": [
    {
     "name": "stdout",
     "output_type": "stream",
     "text": [
      "<class 'pandas.core.frame.DataFrame'>\n",
      "Int64Index: 5358 entries, 0 to 2678\n",
      "Data columns (total 2 columns):\n",
      " #   Column            Non-Null Count  Dtype \n",
      "---  ------            --------------  ----- \n",
      " 0   FAERS_drug_match  5358 non-null   object\n",
      " 1   lookup_value      5358 non-null   object\n",
      "dtypes: object(2)\n",
      "memory usage: 125.6+ KB\n"
     ]
    }
   ],
   "source": [
    "dfpos = pd.concat([dfpos, dftemp])\n",
    "dfpos.info()"
   ]
  },
  {
   "cell_type": "code",
   "execution_count": 21,
   "id": "c8dd5d11-9c43-43dc-8c8e-2ed74a371ba9",
   "metadata": {},
   "outputs": [],
   "source": [
    "dfpos.to_csv('data/NP_FAERS_mapped_20220215.csv', index=False)"
   ]
  },
  {
   "cell_type": "code",
   "execution_count": 22,
   "id": "8e83dceb-0be9-41f4-ab40-08777e913efd",
   "metadata": {},
   "outputs": [
    {
     "name": "stdout",
     "output_type": "stream",
     "text": [
      "<class 'pandas.core.frame.DataFrame'>\n",
      "RangeIndex: 4621 entries, 0 to 4620\n",
      "Data columns (total 3 columns):\n",
      " #   Column                  Non-Null Count  Dtype \n",
      "---  ------                  --------------  ----- \n",
      " 0   FAERS_drug_match        4621 non-null   object\n",
      " 1   related_latin_binomial  4621 non-null   object\n",
      " 2   related_common_name     4621 non-null   object\n",
      "dtypes: object(3)\n",
      "memory usage: 108.4+ KB\n"
     ]
    }
   ],
   "source": [
    "df2.info()"
   ]
  },
  {
   "cell_type": "code",
   "execution_count": 23,
   "id": "29c71872-739c-49a1-b937-a819d53d98fc",
   "metadata": {},
   "outputs": [
    {
     "data": {
      "text/html": [
       "<div>\n",
       "<style scoped>\n",
       "    .dataframe tbody tr th:only-of-type {\n",
       "        vertical-align: middle;\n",
       "    }\n",
       "\n",
       "    .dataframe tbody tr th {\n",
       "        vertical-align: top;\n",
       "    }\n",
       "\n",
       "    .dataframe thead th {\n",
       "        text-align: right;\n",
       "    }\n",
       "</style>\n",
       "<table border=\"1\" class=\"dataframe\">\n",
       "  <thead>\n",
       "    <tr style=\"text-align: right;\">\n",
       "      <th></th>\n",
       "      <th>FAERS_drug_match</th>\n",
       "      <th>related_latin_binomial</th>\n",
       "      <th>related_common_name</th>\n",
       "    </tr>\n",
       "  </thead>\n",
       "  <tbody>\n",
       "    <tr>\n",
       "      <th>0</th>\n",
       "      <td>Cinnamomum verum</td>\n",
       "      <td>Cinnamon</td>\n",
       "      <td>ANUSOL (BENZYL BENZOATE, BISMUTH OXIDE, BISMUT...</td>\n",
       "    </tr>\n",
       "    <tr>\n",
       "      <th>1</th>\n",
       "      <td>Cinnamomum verum</td>\n",
       "      <td>Cinnamon</td>\n",
       "      <td>ANUSOL (BENZYL BENZOATE/BISMUTH RESORCINOL/BIS...</td>\n",
       "    </tr>\n",
       "    <tr>\n",
       "      <th>2</th>\n",
       "      <td>Cinnamomum verum</td>\n",
       "      <td>Cinnamon</td>\n",
       "      <td>ANUSOL-HC (BALSAM PERU, BENZYL BENZOATE, BISMU...</td>\n",
       "    </tr>\n",
       "    <tr>\n",
       "      <th>3</th>\n",
       "      <td>Cinnamomum verum</td>\n",
       "      <td>Cinnamon</td>\n",
       "      <td>ANUSOL-HC [BENZYL BENZOATE;BISMUTH HYDROXIDE;</td>\n",
       "    </tr>\n",
       "    <tr>\n",
       "      <th>4</th>\n",
       "      <td>Cinnamomum verum</td>\n",
       "      <td>Cinnamon</td>\n",
       "      <td>ANUSOL-HC (BENZYL BENZOATE, BISMUTH HYDROXIDE,...</td>\n",
       "    </tr>\n",
       "  </tbody>\n",
       "</table>\n",
       "</div>"
      ],
      "text/plain": [
       "   FAERS_drug_match related_latin_binomial  \\\n",
       "0  Cinnamomum verum               Cinnamon   \n",
       "1  Cinnamomum verum               Cinnamon   \n",
       "2  Cinnamomum verum               Cinnamon   \n",
       "3  Cinnamomum verum               Cinnamon   \n",
       "4  Cinnamomum verum               Cinnamon   \n",
       "\n",
       "                                 related_common_name  \n",
       "0  ANUSOL (BENZYL BENZOATE, BISMUTH OXIDE, BISMUT...  \n",
       "1  ANUSOL (BENZYL BENZOATE/BISMUTH RESORCINOL/BIS...  \n",
       "2  ANUSOL-HC (BALSAM PERU, BENZYL BENZOATE, BISMU...  \n",
       "3      ANUSOL-HC [BENZYL BENZOATE;BISMUTH HYDROXIDE;  \n",
       "4  ANUSOL-HC (BENZYL BENZOATE, BISMUTH HYDROXIDE,...  "
      ]
     },
     "execution_count": 23,
     "metadata": {},
     "output_type": "execute_result"
    }
   ],
   "source": [
    "df2.head()"
   ]
  },
  {
   "cell_type": "code",
   "execution_count": 24,
   "id": "e4a05384-0db4-4539-adde-21cb182e6ad2",
   "metadata": {},
   "outputs": [
    {
     "name": "stdout",
     "output_type": "stream",
     "text": [
      "<class 'pandas.core.frame.DataFrame'>\n",
      "RangeIndex: 4621 entries, 0 to 4620\n",
      "Data columns (total 2 columns):\n",
      " #   Column            Non-Null Count  Dtype \n",
      "---  ------            --------------  ----- \n",
      " 0   FAERS_drug_match  4621 non-null   object\n",
      " 1   lookup_value      4621 non-null   object\n",
      "dtypes: object(2)\n",
      "memory usage: 72.3+ KB\n"
     ]
    }
   ],
   "source": [
    "dfneg = df2[['FAERS_drug_match', 'related_common_name']]\n",
    "dfneg = dfneg.rename(columns={'related_common_name':'lookup_value'})\n",
    "dfneg.info()"
   ]
  },
  {
   "cell_type": "code",
   "execution_count": 25,
   "id": "0c0f6b18-5940-4b5c-aa69-237322fc7ede",
   "metadata": {},
   "outputs": [
    {
     "name": "stdout",
     "output_type": "stream",
     "text": [
      "<class 'pandas.core.frame.DataFrame'>\n",
      "RangeIndex: 4621 entries, 0 to 4620\n",
      "Data columns (total 2 columns):\n",
      " #   Column            Non-Null Count  Dtype \n",
      "---  ------            --------------  ----- \n",
      " 0   FAERS_drug_match  4621 non-null   object\n",
      " 1   lookup_value      4621 non-null   object\n",
      "dtypes: object(2)\n",
      "memory usage: 72.3+ KB\n"
     ]
    }
   ],
   "source": [
    "dftemp = df2[['FAERS_drug_match', 'related_latin_binomial']]\n",
    "dftemp = dftemp.rename(columns={'related_latin_binomial': 'lookup_value'})\n",
    "dftemp.info()"
   ]
  },
  {
   "cell_type": "code",
   "execution_count": 26,
   "id": "851afe30-67f7-4fa0-a976-0a9e8d5f68fa",
   "metadata": {},
   "outputs": [
    {
     "name": "stdout",
     "output_type": "stream",
     "text": [
      "<class 'pandas.core.frame.DataFrame'>\n",
      "Int64Index: 9242 entries, 0 to 4620\n",
      "Data columns (total 2 columns):\n",
      " #   Column            Non-Null Count  Dtype \n",
      "---  ------            --------------  ----- \n",
      " 0   FAERS_drug_match  9242 non-null   object\n",
      " 1   lookup_value      9242 non-null   object\n",
      "dtypes: object(2)\n",
      "memory usage: 216.6+ KB\n"
     ]
    }
   ],
   "source": [
    "dfneg = pd.concat([dfneg, dftemp])\n",
    "dfneg.info()"
   ]
  },
  {
   "cell_type": "code",
   "execution_count": 27,
   "id": "7778b5f9-e1a4-4695-b832-4505d6d4b463",
   "metadata": {},
   "outputs": [],
   "source": [
    "dfneg.to_csv('data/NP_FAERS_negative_pairs_20220215.csv', index=False)"
   ]
  },
  {
   "cell_type": "code",
   "execution_count": null,
   "id": "603a70d5-e48b-41db-a142-5c53b92f17b8",
   "metadata": {},
   "outputs": [],
   "source": [
    "## process indications data, fix boswellia spelling"
   ]
  },
  {
   "cell_type": "code",
   "execution_count": null,
   "id": "41ecb0f7-706a-4927-be2c-85b38286632e",
   "metadata": {},
   "outputs": [],
   "source": []
  },
  {
   "cell_type": "code",
   "execution_count": null,
   "id": "80176ace-4b22-4cf9-a852-dc132a2ba9ca",
   "metadata": {},
   "outputs": [],
   "source": []
  }
 ],
 "metadata": {
  "kernelspec": {
   "display_name": "Python 3 (ipykernel)",
   "language": "python",
   "name": "python3"
  },
  "language_info": {
   "codemirror_mode": {
    "name": "ipython",
    "version": 3
   },
   "file_extension": ".py",
   "mimetype": "text/x-python",
   "name": "python",
   "nbconvert_exporter": "python",
   "pygments_lexer": "ipython3",
   "version": "3.8.0"
  }
 },
 "nbformat": 4,
 "nbformat_minor": 5
}
