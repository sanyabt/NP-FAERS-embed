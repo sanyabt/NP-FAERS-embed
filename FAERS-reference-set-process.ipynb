{
 "cells": [
  {
   "cell_type": "code",
   "execution_count": 1,
   "metadata": {},
   "outputs": [],
   "source": [
    "import pandas as pd\n",
    "import numpy as np"
   ]
  },
  {
   "cell_type": "markdown",
   "metadata": {},
   "source": [
    "#### This notebook filters the annotated FAERS strings and drug matches to remove duplicates and save as CSVs.\n",
    "\n",
    "Details and NP list - https://github.com/sanyabt/NP-FAERS-embed/wiki"
   ]
  },
  {
   "cell_type": "code",
   "execution_count": 2,
   "metadata": {},
   "outputs": [],
   "source": [
    "df = pd.read_csv('data/raw_data/NP_FAERS_match_all_20220215.csv')\n",
    "df1= pd.read_csv('data/raw_data/NP_FAERS_reference_set_20220215.csv')\n",
    "df2 = pd.read_csv('data/raw_data/NP_FAERS_negative_pairs_20220215.csv')"
   ]
  },
  {
   "cell_type": "code",
   "execution_count": 3,
   "metadata": {},
   "outputs": [
    {
     "name": "stdout",
     "output_type": "stream",
     "text": [
      "<class 'pandas.core.frame.DataFrame'>\n",
      "RangeIndex: 9478 entries, 0 to 9477\n",
      "Data columns (total 3 columns):\n",
      " #   Column                  Non-Null Count  Dtype \n",
      "---  ------                  --------------  ----- \n",
      " 0   related_latin_binomial  9478 non-null   object\n",
      " 1   related_common_name     9478 non-null   object\n",
      " 2   FAERS_drug_match        9478 non-null   object\n",
      "dtypes: object(3)\n",
      "memory usage: 222.3+ KB\n"
     ]
    }
   ],
   "source": [
    "df.info()"
   ]
  },
  {
   "cell_type": "code",
   "execution_count": 3,
   "metadata": {},
   "outputs": [
    {
     "name": "stdout",
     "output_type": "stream",
     "text": [
      "<class 'pandas.core.frame.DataFrame'>\n",
      "RangeIndex: 4610 entries, 0 to 4609\n",
      "Data columns (total 3 columns):\n",
      "FAERS_drug_match          4610 non-null object\n",
      "related_latin_binomial    4610 non-null object\n",
      "related_common_name       4610 non-null object\n",
      "dtypes: object(3)\n",
      "memory usage: 108.1+ KB\n"
     ]
    }
   ],
   "source": [
    "df1.info()"
   ]
  },
  {
   "cell_type": "code",
   "execution_count": 3,
   "metadata": {},
   "outputs": [
    {
     "name": "stdout",
     "output_type": "stream",
     "text": [
      "<class 'pandas.core.frame.DataFrame'>\n",
      "RangeIndex: 4863 entries, 0 to 4862\n",
      "Data columns (total 3 columns):\n",
      " #   Column                  Non-Null Count  Dtype \n",
      "---  ------                  --------------  ----- \n",
      " 0   FAERS_drug_match        4863 non-null   object\n",
      " 1   related_latin_binomial  4863 non-null   object\n",
      " 2   related_common_name     4863 non-null   object\n",
      "dtypes: object(3)\n",
      "memory usage: 114.1+ KB\n"
     ]
    }
   ],
   "source": [
    "df2.info()"
   ]
  },
  {
   "cell_type": "code",
   "execution_count": 4,
   "metadata": {},
   "outputs": [
    {
     "data": {
      "text/html": [
       "<div>\n",
       "<style scoped>\n",
       "    .dataframe tbody tr th:only-of-type {\n",
       "        vertical-align: middle;\n",
       "    }\n",
       "\n",
       "    .dataframe tbody tr th {\n",
       "        vertical-align: top;\n",
       "    }\n",
       "\n",
       "    .dataframe thead th {\n",
       "        text-align: right;\n",
       "    }\n",
       "</style>\n",
       "<table border=\"1\" class=\"dataframe\">\n",
       "  <thead>\n",
       "    <tr style=\"text-align: right;\">\n",
       "      <th></th>\n",
       "      <th>FAERS_drug_match</th>\n",
       "      <th>related_latin_binomial</th>\n",
       "      <th>related_common_name</th>\n",
       "    </tr>\n",
       "  </thead>\n",
       "  <tbody>\n",
       "    <tr>\n",
       "      <th>0</th>\n",
       "      <td>Cinnamomum verum</td>\n",
       "      <td>Cinnamon</td>\n",
       "      <td>ANUSOL (BENZYL BENZOATE, BISMUTH OXIDE, BISMUT...</td>\n",
       "    </tr>\n",
       "    <tr>\n",
       "      <th>1</th>\n",
       "      <td>Cinnamomum verum</td>\n",
       "      <td>Cinnamon</td>\n",
       "      <td>ANUSOL (BENZYL BENZOATE/BISMUTH RESORCINOL/BIS...</td>\n",
       "    </tr>\n",
       "    <tr>\n",
       "      <th>2</th>\n",
       "      <td>Cinnamomum verum</td>\n",
       "      <td>Cinnamon</td>\n",
       "      <td>ANUSOL-HC (BALSAM PERU, BENZYL BENZOATE, BISMU...</td>\n",
       "    </tr>\n",
       "    <tr>\n",
       "      <th>3</th>\n",
       "      <td>Cinnamomum verum</td>\n",
       "      <td>Cinnamon</td>\n",
       "      <td>ANUSOL-HC [BENZYL BENZOATE;BISMUTH HYDROXIDE;</td>\n",
       "    </tr>\n",
       "    <tr>\n",
       "      <th>4</th>\n",
       "      <td>Cinnamomum verum</td>\n",
       "      <td>Cinnamon</td>\n",
       "      <td>ANUSOL-HC (BENZYL BENZOATE, BISMUTH HYDROXIDE,...</td>\n",
       "    </tr>\n",
       "  </tbody>\n",
       "</table>\n",
       "</div>"
      ],
      "text/plain": [
       "   FAERS_drug_match related_latin_binomial  \\\n",
       "0  Cinnamomum verum               Cinnamon   \n",
       "1  Cinnamomum verum               Cinnamon   \n",
       "2  Cinnamomum verum               Cinnamon   \n",
       "3  Cinnamomum verum               Cinnamon   \n",
       "4  Cinnamomum verum               Cinnamon   \n",
       "\n",
       "                                 related_common_name  \n",
       "0  ANUSOL (BENZYL BENZOATE, BISMUTH OXIDE, BISMUT...  \n",
       "1  ANUSOL (BENZYL BENZOATE/BISMUTH RESORCINOL/BIS...  \n",
       "2  ANUSOL-HC (BALSAM PERU, BENZYL BENZOATE, BISMU...  \n",
       "3      ANUSOL-HC [BENZYL BENZOATE;BISMUTH HYDROXIDE;  \n",
       "4  ANUSOL-HC (BENZYL BENZOATE, BISMUTH HYDROXIDE,...  "
      ]
     },
     "execution_count": 4,
     "metadata": {},
     "output_type": "execute_result"
    }
   ],
   "source": [
    "##FIX\n",
    "df2.head()"
   ]
  },
  {
   "cell_type": "code",
   "execution_count": 6,
   "metadata": {},
   "outputs": [],
   "source": [
    "#remove duplicates"
   ]
  },
  {
   "cell_type": "code",
   "execution_count": 10,
   "metadata": {},
   "outputs": [
    {
     "ename": "TypeError",
     "evalue": "drop_duplicates() got an unexpected keyword argument 'ignore_index'",
     "output_type": "error",
     "traceback": [
      "\u001b[0;31m---------------------------------------------------------------------------\u001b[0m",
      "\u001b[0;31mTypeError\u001b[0m                                 Traceback (most recent call last)",
      "\u001b[0;32m<ipython-input-10-fde8bfc4972a>\u001b[0m in \u001b[0;36m<module>\u001b[0;34m\u001b[0m\n\u001b[0;32m----> 1\u001b[0;31m \u001b[0mdf\u001b[0m \u001b[0;34m=\u001b[0m \u001b[0mdf\u001b[0m\u001b[0;34m.\u001b[0m\u001b[0mdrop_duplicates\u001b[0m\u001b[0;34m(\u001b[0m\u001b[0mignore_index\u001b[0m\u001b[0;34m=\u001b[0m\u001b[0;32mTrue\u001b[0m\u001b[0;34m)\u001b[0m\u001b[0;34m\u001b[0m\u001b[0;34m\u001b[0m\u001b[0m\n\u001b[0m\u001b[1;32m      2\u001b[0m \u001b[0mdf\u001b[0m\u001b[0;34m.\u001b[0m\u001b[0minfo\u001b[0m\u001b[0;34m(\u001b[0m\u001b[0;34m)\u001b[0m\u001b[0;34m\u001b[0m\u001b[0;34m\u001b[0m\u001b[0m\n",
      "\u001b[0;31mTypeError\u001b[0m: drop_duplicates() got an unexpected keyword argument 'ignore_index'"
     ]
    }
   ],
   "source": [
    "df = df.drop_duplicates(ignore_index=True)\n",
    "df.info()"
   ]
  },
  {
   "cell_type": "code",
   "execution_count": 8,
   "metadata": {},
   "outputs": [
    {
     "name": "stdout",
     "output_type": "stream",
     "text": [
      "<class 'pandas.core.frame.DataFrame'>\n",
      "RangeIndex: 2679 entries, 0 to 2678\n",
      "Data columns (total 3 columns):\n",
      " #   Column                  Non-Null Count  Dtype \n",
      "---  ------                  --------------  ----- \n",
      " 0   FAERS_drug_match        2679 non-null   object\n",
      " 1   related_latin_binomial  2679 non-null   object\n",
      " 2   related_common_name     2679 non-null   object\n",
      "dtypes: object(3)\n",
      "memory usage: 62.9+ KB\n"
     ]
    }
   ],
   "source": [
    "df1 = df1.drop_duplicates(ignore_index=True)\n",
    "df1.info()"
   ]
  },
  {
   "cell_type": "code",
   "execution_count": 12,
   "metadata": {},
   "outputs": [
    {
     "name": "stdout",
     "output_type": "stream",
     "text": [
      "<class 'pandas.core.frame.DataFrame'>\n",
      "Int64Index: 4621 entries, 0 to 4862\n",
      "Data columns (total 3 columns):\n",
      "FAERS_drug_match          4621 non-null object\n",
      "related_latin_binomial    4621 non-null object\n",
      "related_common_name       4621 non-null object\n",
      "dtypes: object(3)\n",
      "memory usage: 144.4+ KB\n"
     ]
    }
   ],
   "source": [
    "df2 = df2.drop_duplicates()\n",
    "df2.info()"
   ]
  },
  {
   "cell_type": "code",
   "execution_count": 12,
   "metadata": {},
   "outputs": [
    {
     "name": "stdout",
     "output_type": "stream",
     "text": [
      "<class 'pandas.core.frame.DataFrame'>\n",
      "Index: 0 entries\n",
      "Data columns (total 5 columns):\n",
      " #   Column                    Non-Null Count  Dtype \n",
      "---  ------                    --------------  ----- \n",
      " 0   FAERS_drug_match          0 non-null      object\n",
      " 1   related_latin_binomial_x  0 non-null      object\n",
      " 2   related_common_name_x     0 non-null      object\n",
      " 3   related_latin_binomial_y  0 non-null      object\n",
      " 4   related_common_name_y     0 non-null      object\n",
      "dtypes: object(5)\n",
      "memory usage: 0.0+ bytes\n"
     ]
    }
   ],
   "source": [
    "#find intersection of postive and negative pairs - intersection = 0\n",
    "dftemp = pd.merge(df1, df2, how='inner', on=['FAERS_drug_match'])\n",
    "dftemp.info()"
   ]
  },
  {
   "cell_type": "code",
   "execution_count": 10,
   "metadata": {},
   "outputs": [
    {
     "data": {
      "text/html": [
       "<div>\n",
       "<style scoped>\n",
       "    .dataframe tbody tr th:only-of-type {\n",
       "        vertical-align: middle;\n",
       "    }\n",
       "\n",
       "    .dataframe tbody tr th {\n",
       "        vertical-align: top;\n",
       "    }\n",
       "\n",
       "    .dataframe thead th {\n",
       "        text-align: right;\n",
       "    }\n",
       "</style>\n",
       "<table border=\"1\" class=\"dataframe\">\n",
       "  <thead>\n",
       "    <tr style=\"text-align: right;\">\n",
       "      <th></th>\n",
       "      <th>FAERS_drug_match</th>\n",
       "      <th>related_latin_binomial</th>\n",
       "      <th>related_common_name</th>\n",
       "    </tr>\n",
       "  </thead>\n",
       "  <tbody>\n",
       "    <tr>\n",
       "      <th>0</th>\n",
       "      <td>ADRENAL HEALTH (BRAND) = (SIBERIAN RHODIOLA, R...</td>\n",
       "      <td>Withania somnifera</td>\n",
       "      <td>Ashwaganda</td>\n",
       "    </tr>\n",
       "    <tr>\n",
       "      <th>1</th>\n",
       "      <td>ASHWAGANDHA</td>\n",
       "      <td>Withania somnifera</td>\n",
       "      <td>Ashwaganda</td>\n",
       "    </tr>\n",
       "    <tr>\n",
       "      <th>2</th>\n",
       "      <td>ASHWAGANDHA,</td>\n",
       "      <td>Withania somnifera</td>\n",
       "      <td>Ashwaganda</td>\n",
       "    </tr>\n",
       "    <tr>\n",
       "      <th>3</th>\n",
       "      <td>ASHWAGANDHA                        /01660201/</td>\n",
       "      <td>Withania somnifera</td>\n",
       "      <td>Ashwaganda</td>\n",
       "    </tr>\n",
       "    <tr>\n",
       "      <th>4</th>\n",
       "      <td>ASHWAGANDHA /01660201/</td>\n",
       "      <td>Withania somnifera</td>\n",
       "      <td>Ashwaganda</td>\n",
       "    </tr>\n",
       "  </tbody>\n",
       "</table>\n",
       "</div>"
      ],
      "text/plain": [
       "                                    FAERS_drug_match related_latin_binomial  \\\n",
       "0  ADRENAL HEALTH (BRAND) = (SIBERIAN RHODIOLA, R...     Withania somnifera   \n",
       "1                                        ASHWAGANDHA     Withania somnifera   \n",
       "2                                       ASHWAGANDHA,     Withania somnifera   \n",
       "3      ASHWAGANDHA                        /01660201/     Withania somnifera   \n",
       "4                             ASHWAGANDHA /01660201/     Withania somnifera   \n",
       "\n",
       "  related_common_name  \n",
       "0          Ashwaganda  \n",
       "1          Ashwaganda  \n",
       "2          Ashwaganda  \n",
       "3          Ashwaganda  \n",
       "4          Ashwaganda  "
      ]
     },
     "execution_count": 10,
     "metadata": {},
     "output_type": "execute_result"
    }
   ],
   "source": [
    "df1.head()"
   ]
  },
  {
   "cell_type": "code",
   "execution_count": 10,
   "metadata": {},
   "outputs": [
    {
     "name": "stdout",
     "output_type": "stream",
     "text": [
      "<class 'pandas.core.frame.DataFrame'>\n",
      "RangeIndex: 2679 entries, 0 to 2678\n",
      "Data columns (total 2 columns):\n",
      " #   Column               Non-Null Count  Dtype \n",
      "---  ------               --------------  ----- \n",
      " 0   FAERS_drug_match     2679 non-null   object\n",
      " 1   related_common_name  2679 non-null   object\n",
      "dtypes: object(2)\n",
      "memory usage: 42.0+ KB\n"
     ]
    }
   ],
   "source": [
    "##add lookup values from common name and latin binomial\n",
    "#each row maps to both common name and latin binomial in positive pair\n",
    "dfpos = df1[['FAERS_drug_match', 'related_common_name']]\n",
    "dfpos.info()\n"
   ]
  },
  {
   "cell_type": "code",
   "execution_count": 11,
   "metadata": {
    "tags": []
   },
   "outputs": [
    {
     "name": "stdout",
     "output_type": "stream",
     "text": [
      "<class 'pandas.core.frame.DataFrame'>\n",
      "RangeIndex: 2679 entries, 0 to 2678\n",
      "Data columns (total 3 columns):\n",
      " #   Column                  Non-Null Count  Dtype \n",
      "---  ------                  --------------  ----- \n",
      " 0   FAERS_drug_match        2679 non-null   object\n",
      " 1   related_latin_binomial  2679 non-null   object\n",
      " 2   related_common_name     2679 non-null   object\n",
      "dtypes: object(3)\n",
      "memory usage: 62.9+ KB\n"
     ]
    }
   ],
   "source": [
    "df1.info()"
   ]
  },
  {
   "cell_type": "code",
   "execution_count": 12,
   "metadata": {
    "tags": []
   },
   "outputs": [
    {
     "name": "stdout",
     "output_type": "stream",
     "text": [
      "<class 'pandas.core.frame.DataFrame'>\n",
      "RangeIndex: 2679 entries, 0 to 2678\n",
      "Data columns (total 2 columns):\n",
      " #   Column            Non-Null Count  Dtype \n",
      "---  ------            --------------  ----- \n",
      " 0   FAERS_drug_match  2679 non-null   object\n",
      " 1   lookup_value      2679 non-null   object\n",
      "dtypes: object(2)\n",
      "memory usage: 42.0+ KB\n"
     ]
    }
   ],
   "source": [
    "dfpos = dfpos.rename(columns={'related_common_name':'lookup_value'})\n",
    "dfpos.info()"
   ]
  },
  {
   "cell_type": "code",
   "execution_count": 13,
   "metadata": {},
   "outputs": [
    {
     "name": "stdout",
     "output_type": "stream",
     "text": [
      "<class 'pandas.core.frame.DataFrame'>\n",
      "RangeIndex: 2679 entries, 0 to 2678\n",
      "Data columns (total 2 columns):\n",
      " #   Column            Non-Null Count  Dtype \n",
      "---  ------            --------------  ----- \n",
      " 0   FAERS_drug_match  2679 non-null   object\n",
      " 1   lookup_value      2679 non-null   object\n",
      "dtypes: object(2)\n",
      "memory usage: 42.0+ KB\n"
     ]
    }
   ],
   "source": [
    "dftemp = df1[['FAERS_drug_match', 'related_latin_binomial']]\n",
    "dftemp = dftemp.rename(columns={'related_latin_binomial': 'lookup_value'})\n",
    "dftemp.info()"
   ]
  },
  {
   "cell_type": "code",
   "execution_count": 14,
   "metadata": {},
   "outputs": [
    {
     "name": "stdout",
     "output_type": "stream",
     "text": [
      "<class 'pandas.core.frame.DataFrame'>\n",
      "Int64Index: 5358 entries, 0 to 2678\n",
      "Data columns (total 2 columns):\n",
      " #   Column            Non-Null Count  Dtype \n",
      "---  ------            --------------  ----- \n",
      " 0   FAERS_drug_match  5358 non-null   object\n",
      " 1   lookup_value      5358 non-null   object\n",
      "dtypes: object(2)\n",
      "memory usage: 125.6+ KB\n"
     ]
    }
   ],
   "source": [
    "dfpos = pd.concat([dfpos, dftemp])\n",
    "dfpos.info()"
   ]
  },
  {
   "cell_type": "code",
   "execution_count": 21,
   "metadata": {},
   "outputs": [],
   "source": [
    "dfpos.to_csv('data/NP_FAERS_mapped_20220215.csv', index=False)"
   ]
  },
  {
   "cell_type": "code",
   "execution_count": 14,
   "metadata": {},
   "outputs": [
    {
     "name": "stdout",
     "output_type": "stream",
     "text": [
      "<class 'pandas.core.frame.DataFrame'>\n",
      "RangeIndex: 4621 entries, 0 to 4620\n",
      "Data columns (total 3 columns):\n",
      "FAERS_drug_match          4621 non-null object\n",
      "related_latin_binomial    4621 non-null object\n",
      "related_common_name       4621 non-null object\n",
      "dtypes: object(3)\n",
      "memory usage: 108.4+ KB\n"
     ]
    }
   ],
   "source": [
    "df2 = df2.reset_index(drop=True)\n",
    "df2.info()"
   ]
  },
  {
   "cell_type": "code",
   "execution_count": 15,
   "metadata": {},
   "outputs": [
    {
     "data": {
      "text/html": [
       "<div>\n",
       "<style scoped>\n",
       "    .dataframe tbody tr th:only-of-type {\n",
       "        vertical-align: middle;\n",
       "    }\n",
       "\n",
       "    .dataframe tbody tr th {\n",
       "        vertical-align: top;\n",
       "    }\n",
       "\n",
       "    .dataframe thead th {\n",
       "        text-align: right;\n",
       "    }\n",
       "</style>\n",
       "<table border=\"1\" class=\"dataframe\">\n",
       "  <thead>\n",
       "    <tr style=\"text-align: right;\">\n",
       "      <th></th>\n",
       "      <th>FAERS_drug_match</th>\n",
       "      <th>related_latin_binomial</th>\n",
       "      <th>related_common_name</th>\n",
       "    </tr>\n",
       "  </thead>\n",
       "  <tbody>\n",
       "    <tr>\n",
       "      <th>0</th>\n",
       "      <td>Cinnamomum verum</td>\n",
       "      <td>Cinnamon</td>\n",
       "      <td>ANUSOL (BENZYL BENZOATE, BISMUTH OXIDE, BISMUT...</td>\n",
       "    </tr>\n",
       "    <tr>\n",
       "      <th>1</th>\n",
       "      <td>Cinnamomum verum</td>\n",
       "      <td>Cinnamon</td>\n",
       "      <td>ANUSOL (BENZYL BENZOATE/BISMUTH RESORCINOL/BIS...</td>\n",
       "    </tr>\n",
       "    <tr>\n",
       "      <th>2</th>\n",
       "      <td>Cinnamomum verum</td>\n",
       "      <td>Cinnamon</td>\n",
       "      <td>ANUSOL-HC (BALSAM PERU, BENZYL BENZOATE, BISMU...</td>\n",
       "    </tr>\n",
       "    <tr>\n",
       "      <th>3</th>\n",
       "      <td>Cinnamomum verum</td>\n",
       "      <td>Cinnamon</td>\n",
       "      <td>ANUSOL-HC [BENZYL BENZOATE;BISMUTH HYDROXIDE;</td>\n",
       "    </tr>\n",
       "    <tr>\n",
       "      <th>4</th>\n",
       "      <td>Cinnamomum verum</td>\n",
       "      <td>Cinnamon</td>\n",
       "      <td>ANUSOL-HC (BENZYL BENZOATE, BISMUTH HYDROXIDE,...</td>\n",
       "    </tr>\n",
       "  </tbody>\n",
       "</table>\n",
       "</div>"
      ],
      "text/plain": [
       "   FAERS_drug_match related_latin_binomial  \\\n",
       "0  Cinnamomum verum               Cinnamon   \n",
       "1  Cinnamomum verum               Cinnamon   \n",
       "2  Cinnamomum verum               Cinnamon   \n",
       "3  Cinnamomum verum               Cinnamon   \n",
       "4  Cinnamomum verum               Cinnamon   \n",
       "\n",
       "                                 related_common_name  \n",
       "0  ANUSOL (BENZYL BENZOATE, BISMUTH OXIDE, BISMUT...  \n",
       "1  ANUSOL (BENZYL BENZOATE/BISMUTH RESORCINOL/BIS...  \n",
       "2  ANUSOL-HC (BALSAM PERU, BENZYL BENZOATE, BISMU...  \n",
       "3      ANUSOL-HC [BENZYL BENZOATE;BISMUTH HYDROXIDE;  \n",
       "4  ANUSOL-HC (BENZYL BENZOATE, BISMUTH HYDROXIDE,...  "
      ]
     },
     "execution_count": 15,
     "metadata": {},
     "output_type": "execute_result"
    }
   ],
   "source": [
    "df2.head()"
   ]
  },
  {
   "cell_type": "code",
   "execution_count": 16,
   "metadata": {},
   "outputs": [
    {
     "data": {
      "text/html": [
       "<div>\n",
       "<style scoped>\n",
       "    .dataframe tbody tr th:only-of-type {\n",
       "        vertical-align: middle;\n",
       "    }\n",
       "\n",
       "    .dataframe tbody tr th {\n",
       "        vertical-align: top;\n",
       "    }\n",
       "\n",
       "    .dataframe thead th {\n",
       "        text-align: right;\n",
       "    }\n",
       "</style>\n",
       "<table border=\"1\" class=\"dataframe\">\n",
       "  <thead>\n",
       "    <tr style=\"text-align: right;\">\n",
       "      <th></th>\n",
       "      <th>related_latin_binomial</th>\n",
       "      <th>related_common_name</th>\n",
       "      <th>FAERS_drug_name</th>\n",
       "    </tr>\n",
       "  </thead>\n",
       "  <tbody>\n",
       "    <tr>\n",
       "      <th>0</th>\n",
       "      <td>Cinnamomum verum</td>\n",
       "      <td>Cinnamon</td>\n",
       "      <td>ANUSOL (BENZYL BENZOATE, BISMUTH OXIDE, BISMUT...</td>\n",
       "    </tr>\n",
       "    <tr>\n",
       "      <th>1</th>\n",
       "      <td>Cinnamomum verum</td>\n",
       "      <td>Cinnamon</td>\n",
       "      <td>ANUSOL (BENZYL BENZOATE/BISMUTH RESORCINOL/BIS...</td>\n",
       "    </tr>\n",
       "    <tr>\n",
       "      <th>2</th>\n",
       "      <td>Cinnamomum verum</td>\n",
       "      <td>Cinnamon</td>\n",
       "      <td>ANUSOL-HC (BALSAM PERU, BENZYL BENZOATE, BISMU...</td>\n",
       "    </tr>\n",
       "    <tr>\n",
       "      <th>3</th>\n",
       "      <td>Cinnamomum verum</td>\n",
       "      <td>Cinnamon</td>\n",
       "      <td>ANUSOL-HC [BENZYL BENZOATE;BISMUTH HYDROXIDE;</td>\n",
       "    </tr>\n",
       "    <tr>\n",
       "      <th>4</th>\n",
       "      <td>Cinnamomum verum</td>\n",
       "      <td>Cinnamon</td>\n",
       "      <td>ANUSOL-HC (BENZYL BENZOATE, BISMUTH HYDROXIDE,...</td>\n",
       "    </tr>\n",
       "  </tbody>\n",
       "</table>\n",
       "</div>"
      ],
      "text/plain": [
       "  related_latin_binomial related_common_name  \\\n",
       "0       Cinnamomum verum            Cinnamon   \n",
       "1       Cinnamomum verum            Cinnamon   \n",
       "2       Cinnamomum verum            Cinnamon   \n",
       "3       Cinnamomum verum            Cinnamon   \n",
       "4       Cinnamomum verum            Cinnamon   \n",
       "\n",
       "                                     FAERS_drug_name  \n",
       "0  ANUSOL (BENZYL BENZOATE, BISMUTH OXIDE, BISMUT...  \n",
       "1  ANUSOL (BENZYL BENZOATE/BISMUTH RESORCINOL/BIS...  \n",
       "2  ANUSOL-HC (BALSAM PERU, BENZYL BENZOATE, BISMU...  \n",
       "3      ANUSOL-HC [BENZYL BENZOATE;BISMUTH HYDROXIDE;  \n",
       "4  ANUSOL-HC (BENZYL BENZOATE, BISMUTH HYDROXIDE,...  "
      ]
     },
     "execution_count": 16,
     "metadata": {},
     "output_type": "execute_result"
    }
   ],
   "source": [
    "df2 = df2.rename(columns={'related_common_name':'FAERS_drug_name'})\n",
    "df2 = df2.rename(columns={'related_latin_binomial': 'related_common_name'})\n",
    "df2 = df2.rename(columns={'FAERS_drug_match':'related_latin_binomial'})\n",
    "df2.head()"
   ]
  },
  {
   "cell_type": "code",
   "execution_count": 17,
   "metadata": {},
   "outputs": [],
   "source": [
    "df2 = df2.rename(columns={'FAERS_drug_name':'FAERS_drug_match'})"
   ]
  },
  {
   "cell_type": "code",
   "execution_count": 18,
   "metadata": {},
   "outputs": [
    {
     "data": {
      "text/html": [
       "<div>\n",
       "<style scoped>\n",
       "    .dataframe tbody tr th:only-of-type {\n",
       "        vertical-align: middle;\n",
       "    }\n",
       "\n",
       "    .dataframe tbody tr th {\n",
       "        vertical-align: top;\n",
       "    }\n",
       "\n",
       "    .dataframe thead th {\n",
       "        text-align: right;\n",
       "    }\n",
       "</style>\n",
       "<table border=\"1\" class=\"dataframe\">\n",
       "  <thead>\n",
       "    <tr style=\"text-align: right;\">\n",
       "      <th></th>\n",
       "      <th>related_latin_binomial</th>\n",
       "      <th>related_common_name</th>\n",
       "      <th>FAERS_drug_match</th>\n",
       "    </tr>\n",
       "  </thead>\n",
       "  <tbody>\n",
       "    <tr>\n",
       "      <th>0</th>\n",
       "      <td>Cinnamomum verum</td>\n",
       "      <td>Cinnamon</td>\n",
       "      <td>ANUSOL (BENZYL BENZOATE, BISMUTH OXIDE, BISMUT...</td>\n",
       "    </tr>\n",
       "    <tr>\n",
       "      <th>1</th>\n",
       "      <td>Cinnamomum verum</td>\n",
       "      <td>Cinnamon</td>\n",
       "      <td>ANUSOL (BENZYL BENZOATE/BISMUTH RESORCINOL/BIS...</td>\n",
       "    </tr>\n",
       "    <tr>\n",
       "      <th>2</th>\n",
       "      <td>Cinnamomum verum</td>\n",
       "      <td>Cinnamon</td>\n",
       "      <td>ANUSOL-HC (BALSAM PERU, BENZYL BENZOATE, BISMU...</td>\n",
       "    </tr>\n",
       "    <tr>\n",
       "      <th>3</th>\n",
       "      <td>Cinnamomum verum</td>\n",
       "      <td>Cinnamon</td>\n",
       "      <td>ANUSOL-HC [BENZYL BENZOATE;BISMUTH HYDROXIDE;</td>\n",
       "    </tr>\n",
       "    <tr>\n",
       "      <th>4</th>\n",
       "      <td>Cinnamomum verum</td>\n",
       "      <td>Cinnamon</td>\n",
       "      <td>ANUSOL-HC (BENZYL BENZOATE, BISMUTH HYDROXIDE,...</td>\n",
       "    </tr>\n",
       "  </tbody>\n",
       "</table>\n",
       "</div>"
      ],
      "text/plain": [
       "  related_latin_binomial related_common_name  \\\n",
       "0       Cinnamomum verum            Cinnamon   \n",
       "1       Cinnamomum verum            Cinnamon   \n",
       "2       Cinnamomum verum            Cinnamon   \n",
       "3       Cinnamomum verum            Cinnamon   \n",
       "4       Cinnamomum verum            Cinnamon   \n",
       "\n",
       "                                    FAERS_drug_match  \n",
       "0  ANUSOL (BENZYL BENZOATE, BISMUTH OXIDE, BISMUT...  \n",
       "1  ANUSOL (BENZYL BENZOATE/BISMUTH RESORCINOL/BIS...  \n",
       "2  ANUSOL-HC (BALSAM PERU, BENZYL BENZOATE, BISMU...  \n",
       "3      ANUSOL-HC [BENZYL BENZOATE;BISMUTH HYDROXIDE;  \n",
       "4  ANUSOL-HC (BENZYL BENZOATE, BISMUTH HYDROXIDE,...  "
      ]
     },
     "execution_count": 18,
     "metadata": {},
     "output_type": "execute_result"
    }
   ],
   "source": [
    "df2.head()"
   ]
  },
  {
   "cell_type": "code",
   "execution_count": 19,
   "metadata": {},
   "outputs": [
    {
     "name": "stdout",
     "output_type": "stream",
     "text": [
      "<class 'pandas.core.frame.DataFrame'>\n",
      "RangeIndex: 4621 entries, 0 to 4620\n",
      "Data columns (total 2 columns):\n",
      "FAERS_drug_match    4621 non-null object\n",
      "lookup_value        4621 non-null object\n",
      "dtypes: object(2)\n",
      "memory usage: 72.3+ KB\n"
     ]
    }
   ],
   "source": [
    "dfneg = df2[['FAERS_drug_match', 'related_common_name']]\n",
    "dfneg = dfneg.rename(columns={'related_common_name':'lookup_value'})\n",
    "dfneg.info()"
   ]
  },
  {
   "cell_type": "code",
   "execution_count": 20,
   "metadata": {},
   "outputs": [
    {
     "name": "stdout",
     "output_type": "stream",
     "text": [
      "<class 'pandas.core.frame.DataFrame'>\n",
      "RangeIndex: 4621 entries, 0 to 4620\n",
      "Data columns (total 2 columns):\n",
      "FAERS_drug_match    4621 non-null object\n",
      "lookup_value        4621 non-null object\n",
      "dtypes: object(2)\n",
      "memory usage: 72.3+ KB\n"
     ]
    }
   ],
   "source": [
    "dftemp = df2[['FAERS_drug_match', 'related_latin_binomial']]\n",
    "dftemp = dftemp.rename(columns={'related_latin_binomial': 'lookup_value'})\n",
    "dftemp.info()"
   ]
  },
  {
   "cell_type": "code",
   "execution_count": 21,
   "metadata": {},
   "outputs": [
    {
     "name": "stdout",
     "output_type": "stream",
     "text": [
      "<class 'pandas.core.frame.DataFrame'>\n",
      "Int64Index: 9242 entries, 0 to 4620\n",
      "Data columns (total 2 columns):\n",
      "FAERS_drug_match    9242 non-null object\n",
      "lookup_value        9242 non-null object\n",
      "dtypes: object(2)\n",
      "memory usage: 216.6+ KB\n"
     ]
    }
   ],
   "source": [
    "dfneg = pd.concat([dfneg, dftemp])\n",
    "dfneg.info()"
   ]
  },
  {
   "cell_type": "code",
   "execution_count": 22,
   "metadata": {},
   "outputs": [
    {
     "data": {
      "text/html": [
       "<div>\n",
       "<style scoped>\n",
       "    .dataframe tbody tr th:only-of-type {\n",
       "        vertical-align: middle;\n",
       "    }\n",
       "\n",
       "    .dataframe tbody tr th {\n",
       "        vertical-align: top;\n",
       "    }\n",
       "\n",
       "    .dataframe thead th {\n",
       "        text-align: right;\n",
       "    }\n",
       "</style>\n",
       "<table border=\"1\" class=\"dataframe\">\n",
       "  <thead>\n",
       "    <tr style=\"text-align: right;\">\n",
       "      <th></th>\n",
       "      <th>FAERS_drug_match</th>\n",
       "      <th>lookup_value</th>\n",
       "    </tr>\n",
       "  </thead>\n",
       "  <tbody>\n",
       "    <tr>\n",
       "      <th>0</th>\n",
       "      <td>ANUSOL (BENZYL BENZOATE, BISMUTH OXIDE, BISMUT...</td>\n",
       "      <td>Cinnamon</td>\n",
       "    </tr>\n",
       "    <tr>\n",
       "      <th>1</th>\n",
       "      <td>ANUSOL (BENZYL BENZOATE/BISMUTH RESORCINOL/BIS...</td>\n",
       "      <td>Cinnamon</td>\n",
       "    </tr>\n",
       "    <tr>\n",
       "      <th>2</th>\n",
       "      <td>ANUSOL-HC (BALSAM PERU, BENZYL BENZOATE, BISMU...</td>\n",
       "      <td>Cinnamon</td>\n",
       "    </tr>\n",
       "    <tr>\n",
       "      <th>3</th>\n",
       "      <td>ANUSOL-HC [BENZYL BENZOATE;BISMUTH HYDROXIDE;</td>\n",
       "      <td>Cinnamon</td>\n",
       "    </tr>\n",
       "    <tr>\n",
       "      <th>4</th>\n",
       "      <td>ANUSOL-HC (BENZYL BENZOATE, BISMUTH HYDROXIDE,...</td>\n",
       "      <td>Cinnamon</td>\n",
       "    </tr>\n",
       "  </tbody>\n",
       "</table>\n",
       "</div>"
      ],
      "text/plain": [
       "                                    FAERS_drug_match lookup_value\n",
       "0  ANUSOL (BENZYL BENZOATE, BISMUTH OXIDE, BISMUT...     Cinnamon\n",
       "1  ANUSOL (BENZYL BENZOATE/BISMUTH RESORCINOL/BIS...     Cinnamon\n",
       "2  ANUSOL-HC (BALSAM PERU, BENZYL BENZOATE, BISMU...     Cinnamon\n",
       "3      ANUSOL-HC [BENZYL BENZOATE;BISMUTH HYDROXIDE;     Cinnamon\n",
       "4  ANUSOL-HC (BENZYL BENZOATE, BISMUTH HYDROXIDE,...     Cinnamon"
      ]
     },
     "execution_count": 22,
     "metadata": {},
     "output_type": "execute_result"
    }
   ],
   "source": [
    "dfneg.head()"
   ]
  },
  {
   "cell_type": "code",
   "execution_count": 23,
   "metadata": {},
   "outputs": [],
   "source": [
    "dfneg.to_csv('data/NP_FAERS_negative_pairs_20220222.csv', index=False)"
   ]
  },
  {
   "cell_type": "markdown",
   "metadata": {},
   "source": [
    "## process indications data, fix boswellia spelling, add to df_pos"
   ]
  },
  {
   "cell_type": "code",
   "execution_count": 13,
   "metadata": {},
   "outputs": [],
   "source": [
    "df1.loc[df1['related_latin_binomial'] == 'Boswelfia serrata', 'related_latin_binomial'] = 'Boswellia serrata'"
   ]
  },
  {
   "cell_type": "code",
   "execution_count": 33,
   "metadata": {},
   "outputs": [
    {
     "name": "stdout",
     "output_type": "stream",
     "text": [
      "<class 'pandas.core.frame.DataFrame'>\n",
      "RangeIndex: 2679 entries, 0 to 2678\n",
      "Data columns (total 3 columns):\n",
      " #   Column                  Non-Null Count  Dtype \n",
      "---  ------                  --------------  ----- \n",
      " 0   FAERS_drug_match        2679 non-null   object\n",
      " 1   related_latin_binomial  2679 non-null   object\n",
      " 2   related_common_name     2679 non-null   object\n",
      "dtypes: object(3)\n",
      "memory usage: 62.9+ KB\n"
     ]
    }
   ],
   "source": [
    "df1.info()"
   ]
  },
  {
   "cell_type": "code",
   "execution_count": 15,
   "metadata": {},
   "outputs": [
    {
     "name": "stdout",
     "output_type": "stream",
     "text": [
      "<class 'pandas.core.frame.DataFrame'>\n",
      "RangeIndex: 16600 entries, 0 to 16599\n",
      "Data columns (total 6 columns):\n",
      " #   Column               Non-Null Count  Dtype  \n",
      "---  ------               --------------  -----  \n",
      " 0   primaryid            14260 non-null  float64\n",
      " 1   isr                  2340 non-null   float64\n",
      " 2   drug_name_original   16600 non-null  object \n",
      " 3   indi_pt              16600 non-null  object \n",
      " 4   indi_concept_id      16600 non-null  int64  \n",
      " 5   related_common_name  16600 non-null  object \n",
      "dtypes: float64(2), int64(1), object(3)\n",
      "memory usage: 778.2+ KB\n"
     ]
    }
   ],
   "source": [
    "dfind = pd.read_csv('data/raw_data/combined_np_mapping_to_indi_202202172157.csv')\n",
    "dfind.info()"
   ]
  },
  {
   "cell_type": "code",
   "execution_count": 16,
   "metadata": {},
   "outputs": [
    {
     "name": "stdout",
     "output_type": "stream",
     "text": [
      "<class 'pandas.core.frame.DataFrame'>\n",
      "RangeIndex: 16600 entries, 0 to 16599\n",
      "Data columns (total 3 columns):\n",
      " #   Column               Non-Null Count  Dtype \n",
      "---  ------               --------------  ----- \n",
      " 0   drug_name_original   16600 non-null  object\n",
      " 1   indi_pt              16600 non-null  object\n",
      " 2   related_common_name  16600 non-null  object\n",
      "dtypes: object(3)\n",
      "memory usage: 389.2+ KB\n"
     ]
    }
   ],
   "source": [
    "dfind = dfind.drop(['primaryid', 'isr', 'indi_concept_id'], axis=1)\n",
    "dfind.info()"
   ]
  },
  {
   "cell_type": "code",
   "execution_count": 18,
   "metadata": {},
   "outputs": [
    {
     "data": {
      "text/html": [
       "<div>\n",
       "<style scoped>\n",
       "    .dataframe tbody tr th:only-of-type {\n",
       "        vertical-align: middle;\n",
       "    }\n",
       "\n",
       "    .dataframe tbody tr th {\n",
       "        vertical-align: top;\n",
       "    }\n",
       "\n",
       "    .dataframe thead th {\n",
       "        text-align: right;\n",
       "    }\n",
       "</style>\n",
       "<table border=\"1\" class=\"dataframe\">\n",
       "  <thead>\n",
       "    <tr style=\"text-align: right;\">\n",
       "      <th></th>\n",
       "      <th>indi_pt</th>\n",
       "      <th>related_common_name</th>\n",
       "    </tr>\n",
       "  </thead>\n",
       "  <tbody>\n",
       "    <tr>\n",
       "      <th>0</th>\n",
       "      <td>Depression</td>\n",
       "      <td>Hemp extract</td>\n",
       "    </tr>\n",
       "    <tr>\n",
       "      <th>1</th>\n",
       "      <td>Adverse event</td>\n",
       "      <td>Hemp extract</td>\n",
       "    </tr>\n",
       "    <tr>\n",
       "      <th>2</th>\n",
       "      <td>Pain</td>\n",
       "      <td>Hemp extract</td>\n",
       "    </tr>\n",
       "    <tr>\n",
       "      <th>3</th>\n",
       "      <td>Depression</td>\n",
       "      <td>Kratom</td>\n",
       "    </tr>\n",
       "    <tr>\n",
       "      <th>4</th>\n",
       "      <td>Pain</td>\n",
       "      <td>Hemp extract</td>\n",
       "    </tr>\n",
       "  </tbody>\n",
       "</table>\n",
       "</div>"
      ],
      "text/plain": [
       "         indi_pt related_common_name\n",
       "0     Depression        Hemp extract\n",
       "1  Adverse event        Hemp extract\n",
       "2           Pain        Hemp extract\n",
       "3     Depression              Kratom\n",
       "4           Pain        Hemp extract"
      ]
     },
     "execution_count": 18,
     "metadata": {},
     "output_type": "execute_result"
    }
   ],
   "source": [
    "dfind = dfind.drop(['drug_name_original'], axis=1)\n",
    "dfind.head()"
   ]
  },
  {
   "cell_type": "code",
   "execution_count": 26,
   "metadata": {},
   "outputs": [
    {
     "name": "stdout",
     "output_type": "stream",
     "text": [
      "<class 'pandas.core.frame.DataFrame'>\n",
      "RangeIndex: 1094 entries, 0 to 1093\n",
      "Data columns (total 2 columns):\n",
      " #   Column               Non-Null Count  Dtype \n",
      "---  ------               --------------  ----- \n",
      " 0   indi_pt              1094 non-null   object\n",
      " 1   related_common_name  1094 non-null   object\n",
      "dtypes: object(2)\n",
      "memory usage: 17.2+ KB\n"
     ]
    }
   ],
   "source": [
    "dfind = dfind.drop_duplicates(ignore_index = True)\n",
    "dfind.info()"
   ]
  },
  {
   "cell_type": "code",
   "execution_count": 19,
   "metadata": {},
   "outputs": [
    {
     "data": {
      "text/html": [
       "<div>\n",
       "<style scoped>\n",
       "    .dataframe tbody tr th:only-of-type {\n",
       "        vertical-align: middle;\n",
       "    }\n",
       "\n",
       "    .dataframe tbody tr th {\n",
       "        vertical-align: top;\n",
       "    }\n",
       "\n",
       "    .dataframe thead th {\n",
       "        text-align: right;\n",
       "    }\n",
       "</style>\n",
       "<table border=\"1\" class=\"dataframe\">\n",
       "  <thead>\n",
       "    <tr style=\"text-align: right;\">\n",
       "      <th></th>\n",
       "      <th>FAERS_drug_match</th>\n",
       "      <th>related_latin_binomial</th>\n",
       "      <th>related_common_name</th>\n",
       "    </tr>\n",
       "  </thead>\n",
       "  <tbody>\n",
       "    <tr>\n",
       "      <th>0</th>\n",
       "      <td>ADRENAL HEALTH (BRAND) = (SIBERIAN RHODIOLA, R...</td>\n",
       "      <td>Withania somnifera</td>\n",
       "      <td>Ashwaganda</td>\n",
       "    </tr>\n",
       "    <tr>\n",
       "      <th>1</th>\n",
       "      <td>ASHWAGANDHA</td>\n",
       "      <td>Withania somnifera</td>\n",
       "      <td>Ashwaganda</td>\n",
       "    </tr>\n",
       "    <tr>\n",
       "      <th>2</th>\n",
       "      <td>ASHWAGANDHA,</td>\n",
       "      <td>Withania somnifera</td>\n",
       "      <td>Ashwaganda</td>\n",
       "    </tr>\n",
       "    <tr>\n",
       "      <th>3</th>\n",
       "      <td>ASHWAGANDHA                        /01660201/</td>\n",
       "      <td>Withania somnifera</td>\n",
       "      <td>Ashwaganda</td>\n",
       "    </tr>\n",
       "    <tr>\n",
       "      <th>4</th>\n",
       "      <td>ASHWAGANDHA /01660201/</td>\n",
       "      <td>Withania somnifera</td>\n",
       "      <td>Ashwaganda</td>\n",
       "    </tr>\n",
       "  </tbody>\n",
       "</table>\n",
       "</div>"
      ],
      "text/plain": [
       "                                    FAERS_drug_match related_latin_binomial  \\\n",
       "0  ADRENAL HEALTH (BRAND) = (SIBERIAN RHODIOLA, R...     Withania somnifera   \n",
       "1                                        ASHWAGANDHA     Withania somnifera   \n",
       "2                                       ASHWAGANDHA,     Withania somnifera   \n",
       "3      ASHWAGANDHA                        /01660201/     Withania somnifera   \n",
       "4                             ASHWAGANDHA /01660201/     Withania somnifera   \n",
       "\n",
       "  related_common_name  \n",
       "0          Ashwaganda  \n",
       "1          Ashwaganda  \n",
       "2          Ashwaganda  \n",
       "3          Ashwaganda  \n",
       "4          Ashwaganda  "
      ]
     },
     "execution_count": 19,
     "metadata": {},
     "output_type": "execute_result"
    }
   ],
   "source": [
    "df1.head()"
   ]
  },
  {
   "cell_type": "code",
   "execution_count": 27,
   "metadata": {},
   "outputs": [
    {
     "name": "stdout",
     "output_type": "stream",
     "text": [
      "<class 'pandas.core.frame.DataFrame'>\n",
      "Int64Index: 122033 entries, 0 to 2678\n",
      "Data columns (total 4 columns):\n",
      " #   Column                  Non-Null Count   Dtype \n",
      "---  ------                  --------------   ----- \n",
      " 0   FAERS_drug_match        122033 non-null  object\n",
      " 1   related_latin_binomial  122033 non-null  object\n",
      " 2   related_common_name     122033 non-null  object\n",
      " 3   indi_pt                 121939 non-null  object\n",
      "dtypes: object(4)\n",
      "memory usage: 4.7+ MB\n"
     ]
    }
   ],
   "source": [
    "df_indications = df1.join(dfind.set_index('related_common_name'), on='related_common_name')\n",
    "df_indications.info()"
   ]
  },
  {
   "cell_type": "code",
   "execution_count": 31,
   "metadata": {},
   "outputs": [
    {
     "data": {
      "text/html": [
       "<div>\n",
       "<style scoped>\n",
       "    .dataframe tbody tr th:only-of-type {\n",
       "        vertical-align: middle;\n",
       "    }\n",
       "\n",
       "    .dataframe tbody tr th {\n",
       "        vertical-align: top;\n",
       "    }\n",
       "\n",
       "    .dataframe thead th {\n",
       "        text-align: right;\n",
       "    }\n",
       "</style>\n",
       "<table border=\"1\" class=\"dataframe\">\n",
       "  <thead>\n",
       "    <tr style=\"text-align: right;\">\n",
       "      <th></th>\n",
       "      <th>FAERS_drug_match</th>\n",
       "      <th>related_latin_binomial</th>\n",
       "      <th>related_common_name</th>\n",
       "      <th>indi_pt</th>\n",
       "    </tr>\n",
       "  </thead>\n",
       "  <tbody>\n",
       "    <tr>\n",
       "      <th>0</th>\n",
       "      <td>ADRENAL HEALTH (BRAND) = (SIBERIAN RHODIOLA, R...</td>\n",
       "      <td>Withania somnifera</td>\n",
       "      <td>Ashwaganda</td>\n",
       "      <td>Prophylaxis</td>\n",
       "    </tr>\n",
       "    <tr>\n",
       "      <th>0</th>\n",
       "      <td>ADRENAL HEALTH (BRAND) = (SIBERIAN RHODIOLA, R...</td>\n",
       "      <td>Withania somnifera</td>\n",
       "      <td>Ashwaganda</td>\n",
       "      <td>Product used for unknown indication</td>\n",
       "    </tr>\n",
       "    <tr>\n",
       "      <th>0</th>\n",
       "      <td>ADRENAL HEALTH (BRAND) = (SIBERIAN RHODIOLA, R...</td>\n",
       "      <td>Withania somnifera</td>\n",
       "      <td>Ashwaganda</td>\n",
       "      <td>Routine health maintenance</td>\n",
       "    </tr>\n",
       "    <tr>\n",
       "      <th>0</th>\n",
       "      <td>ADRENAL HEALTH (BRAND) = (SIBERIAN RHODIOLA, R...</td>\n",
       "      <td>Withania somnifera</td>\n",
       "      <td>Ashwaganda</td>\n",
       "      <td>Attention deficit/hyperactivity disorder</td>\n",
       "    </tr>\n",
       "    <tr>\n",
       "      <th>0</th>\n",
       "      <td>ADRENAL HEALTH (BRAND) = (SIBERIAN RHODIOLA, R...</td>\n",
       "      <td>Withania somnifera</td>\n",
       "      <td>Ashwaganda</td>\n",
       "      <td>Pain</td>\n",
       "    </tr>\n",
       "  </tbody>\n",
       "</table>\n",
       "</div>"
      ],
      "text/plain": [
       "                                    FAERS_drug_match related_latin_binomial  \\\n",
       "0  ADRENAL HEALTH (BRAND) = (SIBERIAN RHODIOLA, R...     Withania somnifera   \n",
       "0  ADRENAL HEALTH (BRAND) = (SIBERIAN RHODIOLA, R...     Withania somnifera   \n",
       "0  ADRENAL HEALTH (BRAND) = (SIBERIAN RHODIOLA, R...     Withania somnifera   \n",
       "0  ADRENAL HEALTH (BRAND) = (SIBERIAN RHODIOLA, R...     Withania somnifera   \n",
       "0  ADRENAL HEALTH (BRAND) = (SIBERIAN RHODIOLA, R...     Withania somnifera   \n",
       "\n",
       "  related_common_name                                   indi_pt  \n",
       "0          Ashwaganda                               Prophylaxis  \n",
       "0          Ashwaganda       Product used for unknown indication  \n",
       "0          Ashwaganda                Routine health maintenance  \n",
       "0          Ashwaganda  Attention deficit/hyperactivity disorder  \n",
       "0          Ashwaganda                                      Pain  "
      ]
     },
     "execution_count": 31,
     "metadata": {},
     "output_type": "execute_result"
    }
   ],
   "source": [
    "df_indications.head()"
   ]
  },
  {
   "cell_type": "code",
   "execution_count": 36,
   "metadata": {},
   "outputs": [
    {
     "data": {
      "text/plain": [
       "(17, 2)"
      ]
     },
     "execution_count": 36,
     "metadata": {},
     "output_type": "execute_result"
    }
   ],
   "source": [
    "dfind.loc[dfind['related_common_name'] == 'Ashwaganda'].shape"
   ]
  },
  {
   "cell_type": "code",
   "execution_count": 35,
   "metadata": {},
   "outputs": [
    {
     "data": {
      "text/plain": [
       "(40, 3)"
      ]
     },
     "execution_count": 35,
     "metadata": {},
     "output_type": "execute_result"
    }
   ],
   "source": [
    "df1.loc[df1['related_common_name'] == 'Ashwaganda'].shape"
   ]
  },
  {
   "cell_type": "code",
   "execution_count": 37,
   "metadata": {},
   "outputs": [
    {
     "data": {
      "text/plain": [
       "(680, 4)"
      ]
     },
     "execution_count": 37,
     "metadata": {},
     "output_type": "execute_result"
    }
   ],
   "source": [
    "df_indications.loc[df_indications['related_common_name'] == 'Ashwaganda'].shape"
   ]
  },
  {
   "cell_type": "code",
   "execution_count": null,
   "metadata": {},
   "outputs": [],
   "source": [
    "#save file with indications data with join over common name"
   ]
  },
  {
   "cell_type": "code",
   "execution_count": 38,
   "metadata": {},
   "outputs": [
    {
     "name": "stdout",
     "output_type": "stream",
     "text": [
      "<class 'pandas.core.frame.DataFrame'>\n",
      "Int64Index: 122033 entries, 0 to 2678\n",
      "Data columns (total 3 columns):\n",
      " #   Column               Non-Null Count   Dtype \n",
      "---  ------               --------------   ----- \n",
      " 0   FAERS_drug_match     122033 non-null  object\n",
      " 1   related_common_name  122033 non-null  object\n",
      " 2   indi_pt              121939 non-null  object\n",
      "dtypes: object(3)\n",
      "memory usage: 3.7+ MB\n"
     ]
    }
   ],
   "source": [
    "##add lookup values from common name and latin binomial\n",
    "#each row maps to both common name and latin binomial in positive pair\n",
    "dfpos = df_indications[['FAERS_drug_match', 'related_common_name', 'indi_pt']]\n",
    "dfpos.info()"
   ]
  },
  {
   "cell_type": "code",
   "execution_count": 39,
   "metadata": {
    "tags": []
   },
   "outputs": [
    {
     "name": "stdout",
     "output_type": "stream",
     "text": [
      "<class 'pandas.core.frame.DataFrame'>\n",
      "Int64Index: 122033 entries, 0 to 2678\n",
      "Data columns (total 3 columns):\n",
      " #   Column            Non-Null Count   Dtype \n",
      "---  ------            --------------   ----- \n",
      " 0   FAERS_drug_match  122033 non-null  object\n",
      " 1   lookup_value      122033 non-null  object\n",
      " 2   indi_pt           121939 non-null  object\n",
      "dtypes: object(3)\n",
      "memory usage: 3.7+ MB\n"
     ]
    }
   ],
   "source": [
    "dfpos = dfpos.rename(columns={'related_common_name':'lookup_value'})\n",
    "dfpos.info()"
   ]
  },
  {
   "cell_type": "code",
   "execution_count": 41,
   "metadata": {},
   "outputs": [
    {
     "name": "stdout",
     "output_type": "stream",
     "text": [
      "<class 'pandas.core.frame.DataFrame'>\n",
      "Int64Index: 122033 entries, 0 to 2678\n",
      "Data columns (total 3 columns):\n",
      " #   Column            Non-Null Count   Dtype \n",
      "---  ------            --------------   ----- \n",
      " 0   FAERS_drug_match  122033 non-null  object\n",
      " 1   lookup_value      122033 non-null  object\n",
      " 2   indi_pt           121939 non-null  object\n",
      "dtypes: object(3)\n",
      "memory usage: 3.7+ MB\n"
     ]
    }
   ],
   "source": [
    "dftemp = df_indications[['FAERS_drug_match', 'related_latin_binomial', 'indi_pt']]\n",
    "dftemp = dftemp.rename(columns={'related_latin_binomial': 'lookup_value'})\n",
    "dftemp.info()"
   ]
  },
  {
   "cell_type": "code",
   "execution_count": 42,
   "metadata": {},
   "outputs": [
    {
     "name": "stdout",
     "output_type": "stream",
     "text": [
      "<class 'pandas.core.frame.DataFrame'>\n",
      "Int64Index: 244066 entries, 0 to 2678\n",
      "Data columns (total 3 columns):\n",
      " #   Column            Non-Null Count   Dtype \n",
      "---  ------            --------------   ----- \n",
      " 0   FAERS_drug_match  244066 non-null  object\n",
      " 1   lookup_value      244066 non-null  object\n",
      " 2   indi_pt           243878 non-null  object\n",
      "dtypes: object(3)\n",
      "memory usage: 7.4+ MB\n"
     ]
    }
   ],
   "source": [
    "dfpos = pd.concat([dfpos, dftemp])\n",
    "dfpos.info()"
   ]
  },
  {
   "cell_type": "code",
   "execution_count": 43,
   "metadata": {},
   "outputs": [],
   "source": [
    "dfpos.to_csv('data/NP_FAERS_mapped_indications_join_20220217.csv', index=False)"
   ]
  },
  {
   "cell_type": "code",
   "execution_count": null,
   "metadata": {},
   "outputs": [],
   "source": [
    "###join and include indications based on drug name original so rest are null"
   ]
  },
  {
   "cell_type": "code",
   "execution_count": 45,
   "metadata": {},
   "outputs": [
    {
     "name": "stdout",
     "output_type": "stream",
     "text": [
      "<class 'pandas.core.frame.DataFrame'>\n",
      "RangeIndex: 16600 entries, 0 to 16599\n",
      "Data columns (total 6 columns):\n",
      " #   Column               Non-Null Count  Dtype  \n",
      "---  ------               --------------  -----  \n",
      " 0   primaryid            14260 non-null  float64\n",
      " 1   isr                  2340 non-null   float64\n",
      " 2   drug_name_original   16600 non-null  object \n",
      " 3   indi_pt              16600 non-null  object \n",
      " 4   indi_concept_id      16600 non-null  int64  \n",
      " 5   related_common_name  16600 non-null  object \n",
      "dtypes: float64(2), int64(1), object(3)\n",
      "memory usage: 778.2+ KB\n"
     ]
    }
   ],
   "source": [
    "dfind = pd.read_csv('data/raw_data/combined_np_mapping_to_indi_202202172157.csv')\n",
    "dfind.info()"
   ]
  },
  {
   "cell_type": "code",
   "execution_count": 46,
   "metadata": {},
   "outputs": [
    {
     "name": "stdout",
     "output_type": "stream",
     "text": [
      "<class 'pandas.core.frame.DataFrame'>\n",
      "RangeIndex: 16600 entries, 0 to 16599\n",
      "Data columns (total 2 columns):\n",
      " #   Column              Non-Null Count  Dtype \n",
      "---  ------              --------------  ----- \n",
      " 0   drug_name_original  16600 non-null  object\n",
      " 1   indi_pt             16600 non-null  object\n",
      "dtypes: object(2)\n",
      "memory usage: 259.5+ KB\n"
     ]
    }
   ],
   "source": [
    "dfind = dfind.drop(['primaryid', 'isr', 'indi_concept_id', 'related_common_name'], axis=1)\n",
    "dfind.info()"
   ]
  },
  {
   "cell_type": "code",
   "execution_count": 47,
   "metadata": {},
   "outputs": [
    {
     "data": {
      "text/html": [
       "<div>\n",
       "<style scoped>\n",
       "    .dataframe tbody tr th:only-of-type {\n",
       "        vertical-align: middle;\n",
       "    }\n",
       "\n",
       "    .dataframe tbody tr th {\n",
       "        vertical-align: top;\n",
       "    }\n",
       "\n",
       "    .dataframe thead th {\n",
       "        text-align: right;\n",
       "    }\n",
       "</style>\n",
       "<table border=\"1\" class=\"dataframe\">\n",
       "  <thead>\n",
       "    <tr style=\"text-align: right;\">\n",
       "      <th></th>\n",
       "      <th>drug_name_original</th>\n",
       "      <th>indi_pt</th>\n",
       "    </tr>\n",
       "  </thead>\n",
       "  <tbody>\n",
       "    <tr>\n",
       "      <th>0</th>\n",
       "      <td>MARIJUANNA</td>\n",
       "      <td>Depression</td>\n",
       "    </tr>\n",
       "    <tr>\n",
       "      <th>1</th>\n",
       "      <td>CANNABIS SATIVA OIL</td>\n",
       "      <td>Adverse event</td>\n",
       "    </tr>\n",
       "    <tr>\n",
       "      <th>2</th>\n",
       "      <td>MARIJUANA</td>\n",
       "      <td>Pain</td>\n",
       "    </tr>\n",
       "    <tr>\n",
       "      <th>3</th>\n",
       "      <td>KRATOM</td>\n",
       "      <td>Depression</td>\n",
       "    </tr>\n",
       "    <tr>\n",
       "      <th>4</th>\n",
       "      <td>MARIJUANA</td>\n",
       "      <td>Pain</td>\n",
       "    </tr>\n",
       "  </tbody>\n",
       "</table>\n",
       "</div>"
      ],
      "text/plain": [
       "    drug_name_original        indi_pt\n",
       "0           MARIJUANNA     Depression\n",
       "1  CANNABIS SATIVA OIL  Adverse event\n",
       "2            MARIJUANA           Pain\n",
       "3               KRATOM     Depression\n",
       "4            MARIJUANA           Pain"
      ]
     },
     "execution_count": 47,
     "metadata": {},
     "output_type": "execute_result"
    }
   ],
   "source": [
    "dfind.head()"
   ]
  },
  {
   "cell_type": "code",
   "execution_count": 48,
   "metadata": {},
   "outputs": [
    {
     "name": "stdout",
     "output_type": "stream",
     "text": [
      "<class 'pandas.core.frame.DataFrame'>\n",
      "RangeIndex: 4610 entries, 0 to 4609\n",
      "Data columns (total 3 columns):\n",
      " #   Column                  Non-Null Count  Dtype \n",
      "---  ------                  --------------  ----- \n",
      " 0   FAERS_drug_match        4610 non-null   object\n",
      " 1   related_latin_binomial  4610 non-null   object\n",
      " 2   related_common_name     4610 non-null   object\n",
      "dtypes: object(3)\n",
      "memory usage: 108.2+ KB\n"
     ]
    }
   ],
   "source": [
    "df1= pd.read_csv('data/raw_data/NP_FAERS_reference_set_20220215.csv')\n",
    "df1.info()"
   ]
  },
  {
   "cell_type": "code",
   "execution_count": 49,
   "metadata": {},
   "outputs": [
    {
     "data": {
      "text/html": [
       "<div>\n",
       "<style scoped>\n",
       "    .dataframe tbody tr th:only-of-type {\n",
       "        vertical-align: middle;\n",
       "    }\n",
       "\n",
       "    .dataframe tbody tr th {\n",
       "        vertical-align: top;\n",
       "    }\n",
       "\n",
       "    .dataframe thead th {\n",
       "        text-align: right;\n",
       "    }\n",
       "</style>\n",
       "<table border=\"1\" class=\"dataframe\">\n",
       "  <thead>\n",
       "    <tr style=\"text-align: right;\">\n",
       "      <th></th>\n",
       "      <th>FAERS_drug_match</th>\n",
       "      <th>indi_pt</th>\n",
       "    </tr>\n",
       "  </thead>\n",
       "  <tbody>\n",
       "    <tr>\n",
       "      <th>0</th>\n",
       "      <td>MARIJUANNA</td>\n",
       "      <td>Depression</td>\n",
       "    </tr>\n",
       "    <tr>\n",
       "      <th>1</th>\n",
       "      <td>CANNABIS SATIVA OIL</td>\n",
       "      <td>Adverse event</td>\n",
       "    </tr>\n",
       "    <tr>\n",
       "      <th>2</th>\n",
       "      <td>MARIJUANA</td>\n",
       "      <td>Pain</td>\n",
       "    </tr>\n",
       "    <tr>\n",
       "      <th>3</th>\n",
       "      <td>KRATOM</td>\n",
       "      <td>Depression</td>\n",
       "    </tr>\n",
       "    <tr>\n",
       "      <th>4</th>\n",
       "      <td>MARIJUANA</td>\n",
       "      <td>Pain</td>\n",
       "    </tr>\n",
       "  </tbody>\n",
       "</table>\n",
       "</div>"
      ],
      "text/plain": [
       "      FAERS_drug_match        indi_pt\n",
       "0           MARIJUANNA     Depression\n",
       "1  CANNABIS SATIVA OIL  Adverse event\n",
       "2            MARIJUANA           Pain\n",
       "3               KRATOM     Depression\n",
       "4            MARIJUANA           Pain"
      ]
     },
     "execution_count": 49,
     "metadata": {},
     "output_type": "execute_result"
    }
   ],
   "source": [
    "dfind = dfind.rename(columns={'drug_name_original': 'FAERS_drug_match'})\n",
    "dfind.head()"
   ]
  },
  {
   "cell_type": "code",
   "execution_count": 50,
   "metadata": {},
   "outputs": [
    {
     "data": {
      "text/html": [
       "<div>\n",
       "<style scoped>\n",
       "    .dataframe tbody tr th:only-of-type {\n",
       "        vertical-align: middle;\n",
       "    }\n",
       "\n",
       "    .dataframe tbody tr th {\n",
       "        vertical-align: top;\n",
       "    }\n",
       "\n",
       "    .dataframe thead th {\n",
       "        text-align: right;\n",
       "    }\n",
       "</style>\n",
       "<table border=\"1\" class=\"dataframe\">\n",
       "  <thead>\n",
       "    <tr style=\"text-align: right;\">\n",
       "      <th></th>\n",
       "      <th>FAERS_drug_match</th>\n",
       "      <th>related_latin_binomial</th>\n",
       "      <th>related_common_name</th>\n",
       "    </tr>\n",
       "  </thead>\n",
       "  <tbody>\n",
       "    <tr>\n",
       "      <th>0</th>\n",
       "      <td>ADRENAL HEALTH (BRAND) = (SIBERIAN RHODIOLA, R...</td>\n",
       "      <td>Withania somnifera</td>\n",
       "      <td>Ashwaganda</td>\n",
       "    </tr>\n",
       "    <tr>\n",
       "      <th>1</th>\n",
       "      <td>ASHWAGANDHA</td>\n",
       "      <td>Withania somnifera</td>\n",
       "      <td>Ashwaganda</td>\n",
       "    </tr>\n",
       "    <tr>\n",
       "      <th>2</th>\n",
       "      <td>ASHWAGANDHA,</td>\n",
       "      <td>Withania somnifera</td>\n",
       "      <td>Ashwaganda</td>\n",
       "    </tr>\n",
       "    <tr>\n",
       "      <th>3</th>\n",
       "      <td>ASHWAGANDHA                        /01660201/</td>\n",
       "      <td>Withania somnifera</td>\n",
       "      <td>Ashwaganda</td>\n",
       "    </tr>\n",
       "    <tr>\n",
       "      <th>4</th>\n",
       "      <td>ASHWAGANDHA /01660201/</td>\n",
       "      <td>Withania somnifera</td>\n",
       "      <td>Ashwaganda</td>\n",
       "    </tr>\n",
       "  </tbody>\n",
       "</table>\n",
       "</div>"
      ],
      "text/plain": [
       "                                    FAERS_drug_match related_latin_binomial  \\\n",
       "0  ADRENAL HEALTH (BRAND) = (SIBERIAN RHODIOLA, R...     Withania somnifera   \n",
       "1                                        ASHWAGANDHA     Withania somnifera   \n",
       "2                                       ASHWAGANDHA,     Withania somnifera   \n",
       "3      ASHWAGANDHA                        /01660201/     Withania somnifera   \n",
       "4                             ASHWAGANDHA /01660201/     Withania somnifera   \n",
       "\n",
       "  related_common_name  \n",
       "0          Ashwaganda  \n",
       "1          Ashwaganda  \n",
       "2          Ashwaganda  \n",
       "3          Ashwaganda  \n",
       "4          Ashwaganda  "
      ]
     },
     "execution_count": 50,
     "metadata": {},
     "output_type": "execute_result"
    }
   ],
   "source": [
    "df1.head()"
   ]
  },
  {
   "cell_type": "code",
   "execution_count": 51,
   "metadata": {},
   "outputs": [
    {
     "name": "stdout",
     "output_type": "stream",
     "text": [
      "<class 'pandas.core.frame.DataFrame'>\n",
      "Int64Index: 55956 entries, 0 to 4609\n",
      "Data columns (total 4 columns):\n",
      " #   Column                  Non-Null Count  Dtype \n",
      "---  ------                  --------------  ----- \n",
      " 0   FAERS_drug_match        55956 non-null  object\n",
      " 1   related_latin_binomial  55956 non-null  object\n",
      " 2   related_common_name     55956 non-null  object\n",
      " 3   indi_pt                 53273 non-null  object\n",
      "dtypes: object(4)\n",
      "memory usage: 2.1+ MB\n"
     ]
    }
   ],
   "source": [
    "df_ind2 = df1.join(dfind.set_index('FAERS_drug_match'), on='FAERS_drug_match')\n",
    "df_ind2.info()"
   ]
  },
  {
   "cell_type": "code",
   "execution_count": 55,
   "metadata": {},
   "outputs": [
    {
     "data": {
      "text/html": [
       "<div>\n",
       "<style scoped>\n",
       "    .dataframe tbody tr th:only-of-type {\n",
       "        vertical-align: middle;\n",
       "    }\n",
       "\n",
       "    .dataframe tbody tr th {\n",
       "        vertical-align: top;\n",
       "    }\n",
       "\n",
       "    .dataframe thead th {\n",
       "        text-align: right;\n",
       "    }\n",
       "</style>\n",
       "<table border=\"1\" class=\"dataframe\">\n",
       "  <thead>\n",
       "    <tr style=\"text-align: right;\">\n",
       "      <th></th>\n",
       "      <th>FAERS_drug_match</th>\n",
       "      <th>related_latin_binomial</th>\n",
       "      <th>related_common_name</th>\n",
       "      <th>indi_pt</th>\n",
       "    </tr>\n",
       "  </thead>\n",
       "  <tbody>\n",
       "    <tr>\n",
       "      <th>0</th>\n",
       "      <td>ADRENAL HEALTH (BRAND) = (SIBERIAN RHODIOLA, R...</td>\n",
       "      <td>Withania somnifera</td>\n",
       "      <td>Ashwaganda</td>\n",
       "      <td>NaN</td>\n",
       "    </tr>\n",
       "    <tr>\n",
       "      <th>1</th>\n",
       "      <td>ASHWAGANDHA</td>\n",
       "      <td>Withania somnifera</td>\n",
       "      <td>Ashwaganda</td>\n",
       "      <td>Product used for unknown indication</td>\n",
       "    </tr>\n",
       "    <tr>\n",
       "      <th>2</th>\n",
       "      <td>ASHWAGANDHA</td>\n",
       "      <td>Withania somnifera</td>\n",
       "      <td>Ashwaganda</td>\n",
       "      <td>Routine health maintenance</td>\n",
       "    </tr>\n",
       "    <tr>\n",
       "      <th>3</th>\n",
       "      <td>ASHWAGANDHA</td>\n",
       "      <td>Withania somnifera</td>\n",
       "      <td>Ashwaganda</td>\n",
       "      <td>Stress</td>\n",
       "    </tr>\n",
       "    <tr>\n",
       "      <th>4</th>\n",
       "      <td>ASHWAGANDHA</td>\n",
       "      <td>Withania somnifera</td>\n",
       "      <td>Ashwaganda</td>\n",
       "      <td>Arthropathy</td>\n",
       "    </tr>\n",
       "  </tbody>\n",
       "</table>\n",
       "</div>"
      ],
      "text/plain": [
       "                                    FAERS_drug_match related_latin_binomial  \\\n",
       "0  ADRENAL HEALTH (BRAND) = (SIBERIAN RHODIOLA, R...     Withania somnifera   \n",
       "1                                        ASHWAGANDHA     Withania somnifera   \n",
       "2                                        ASHWAGANDHA     Withania somnifera   \n",
       "3                                        ASHWAGANDHA     Withania somnifera   \n",
       "4                                        ASHWAGANDHA     Withania somnifera   \n",
       "\n",
       "  related_common_name                              indi_pt  \n",
       "0          Ashwaganda                                  NaN  \n",
       "1          Ashwaganda  Product used for unknown indication  \n",
       "2          Ashwaganda           Routine health maintenance  \n",
       "3          Ashwaganda                               Stress  \n",
       "4          Ashwaganda                          Arthropathy  "
      ]
     },
     "execution_count": 55,
     "metadata": {},
     "output_type": "execute_result"
    }
   ],
   "source": [
    "df_ind2.head()"
   ]
  },
  {
   "cell_type": "code",
   "execution_count": 54,
   "metadata": {},
   "outputs": [
    {
     "name": "stdout",
     "output_type": "stream",
     "text": [
      "<class 'pandas.core.frame.DataFrame'>\n",
      "RangeIndex: 4137 entries, 0 to 4136\n",
      "Data columns (total 4 columns):\n",
      " #   Column                  Non-Null Count  Dtype \n",
      "---  ------                  --------------  ----- \n",
      " 0   FAERS_drug_match        4137 non-null   object\n",
      " 1   related_latin_binomial  4137 non-null   object\n",
      " 2   related_common_name     4137 non-null   object\n",
      " 3   indi_pt                 2465 non-null   object\n",
      "dtypes: object(4)\n",
      "memory usage: 129.4+ KB\n"
     ]
    }
   ],
   "source": [
    "df_ind2 = df_ind2.drop_duplicates(ignore_index=True)\n",
    "df_ind2.info()"
   ]
  },
  {
   "cell_type": "code",
   "execution_count": null,
   "metadata": {},
   "outputs": [],
   "source": [
    "#add latin binomial mapping and save file"
   ]
  },
  {
   "cell_type": "code",
   "execution_count": 56,
   "metadata": {},
   "outputs": [
    {
     "name": "stdout",
     "output_type": "stream",
     "text": [
      "<class 'pandas.core.frame.DataFrame'>\n",
      "RangeIndex: 4137 entries, 0 to 4136\n",
      "Data columns (total 3 columns):\n",
      " #   Column               Non-Null Count  Dtype \n",
      "---  ------               --------------  ----- \n",
      " 0   FAERS_drug_match     4137 non-null   object\n",
      " 1   related_common_name  4137 non-null   object\n",
      " 2   indi_pt              2465 non-null   object\n",
      "dtypes: object(3)\n",
      "memory usage: 97.1+ KB\n"
     ]
    }
   ],
   "source": [
    "##add lookup values from common name and latin binomial\n",
    "#each row maps to both common name and latin binomial in positive pair\n",
    "dfpos = df_ind2[['FAERS_drug_match', 'related_common_name', 'indi_pt']]\n",
    "dfpos.info()"
   ]
  },
  {
   "cell_type": "code",
   "execution_count": 57,
   "metadata": {
    "tags": []
   },
   "outputs": [
    {
     "name": "stdout",
     "output_type": "stream",
     "text": [
      "<class 'pandas.core.frame.DataFrame'>\n",
      "RangeIndex: 4137 entries, 0 to 4136\n",
      "Data columns (total 3 columns):\n",
      " #   Column            Non-Null Count  Dtype \n",
      "---  ------            --------------  ----- \n",
      " 0   FAERS_drug_match  4137 non-null   object\n",
      " 1   lookup_value      4137 non-null   object\n",
      " 2   indi_pt           2465 non-null   object\n",
      "dtypes: object(3)\n",
      "memory usage: 97.1+ KB\n"
     ]
    }
   ],
   "source": [
    "dfpos = dfpos.rename(columns={'related_common_name':'lookup_value'})\n",
    "dfpos.info()"
   ]
  },
  {
   "cell_type": "code",
   "execution_count": 58,
   "metadata": {},
   "outputs": [
    {
     "name": "stdout",
     "output_type": "stream",
     "text": [
      "<class 'pandas.core.frame.DataFrame'>\n",
      "RangeIndex: 4137 entries, 0 to 4136\n",
      "Data columns (total 3 columns):\n",
      " #   Column            Non-Null Count  Dtype \n",
      "---  ------            --------------  ----- \n",
      " 0   FAERS_drug_match  4137 non-null   object\n",
      " 1   lookup_value      4137 non-null   object\n",
      " 2   indi_pt           2465 non-null   object\n",
      "dtypes: object(3)\n",
      "memory usage: 97.1+ KB\n"
     ]
    }
   ],
   "source": [
    "dftemp = df_ind2[['FAERS_drug_match', 'related_latin_binomial', 'indi_pt']]\n",
    "dftemp = dftemp.rename(columns={'related_latin_binomial': 'lookup_value'})\n",
    "dftemp.info()"
   ]
  },
  {
   "cell_type": "code",
   "execution_count": 59,
   "metadata": {},
   "outputs": [
    {
     "name": "stdout",
     "output_type": "stream",
     "text": [
      "<class 'pandas.core.frame.DataFrame'>\n",
      "Int64Index: 8274 entries, 0 to 4136\n",
      "Data columns (total 3 columns):\n",
      " #   Column            Non-Null Count  Dtype \n",
      "---  ------            --------------  ----- \n",
      " 0   FAERS_drug_match  8274 non-null   object\n",
      " 1   lookup_value      8274 non-null   object\n",
      " 2   indi_pt           4930 non-null   object\n",
      "dtypes: object(3)\n",
      "memory usage: 258.6+ KB\n"
     ]
    }
   ],
   "source": [
    "dfpos = pd.concat([dfpos, dftemp])\n",
    "dfpos.info()"
   ]
  },
  {
   "cell_type": "code",
   "execution_count": 60,
   "metadata": {},
   "outputs": [],
   "source": [
    "dfpos.to_csv('data/NP_FAERS_mapped_indications_join_on_drugname_20220218.csv', index=False)"
   ]
  },
  {
   "cell_type": "code",
   "execution_count": null,
   "metadata": {},
   "outputs": [],
   "source": []
  },
  {
   "cell_type": "code",
   "execution_count": null,
   "metadata": {},
   "outputs": [],
   "source": []
  },
  {
   "cell_type": "markdown",
   "metadata": {},
   "source": [
    "### process indications for negative pairs"
   ]
  },
  {
   "cell_type": "code",
   "execution_count": 5,
   "metadata": {},
   "outputs": [
    {
     "data": {
      "text/html": [
       "<div>\n",
       "<style scoped>\n",
       "    .dataframe tbody tr th:only-of-type {\n",
       "        vertical-align: middle;\n",
       "    }\n",
       "\n",
       "    .dataframe tbody tr th {\n",
       "        vertical-align: top;\n",
       "    }\n",
       "\n",
       "    .dataframe thead th {\n",
       "        text-align: right;\n",
       "    }\n",
       "</style>\n",
       "<table border=\"1\" class=\"dataframe\">\n",
       "  <thead>\n",
       "    <tr style=\"text-align: right;\">\n",
       "      <th></th>\n",
       "      <th>FAERS_drug_match</th>\n",
       "      <th>lookup_value</th>\n",
       "    </tr>\n",
       "  </thead>\n",
       "  <tbody>\n",
       "    <tr>\n",
       "      <th>0</th>\n",
       "      <td>ANUSOL (BENZYL BENZOATE, BISMUTH OXIDE, BISMUT...</td>\n",
       "      <td>Cinnamon</td>\n",
       "    </tr>\n",
       "    <tr>\n",
       "      <th>1</th>\n",
       "      <td>ANUSOL (BENZYL BENZOATE/BISMUTH RESORCINOL/BIS...</td>\n",
       "      <td>Cinnamon</td>\n",
       "    </tr>\n",
       "    <tr>\n",
       "      <th>2</th>\n",
       "      <td>ANUSOL-HC (BALSAM PERU, BENZYL BENZOATE, BISMU...</td>\n",
       "      <td>Cinnamon</td>\n",
       "    </tr>\n",
       "    <tr>\n",
       "      <th>3</th>\n",
       "      <td>ANUSOL-HC [BENZYL BENZOATE;BISMUTH HYDROXIDE;</td>\n",
       "      <td>Cinnamon</td>\n",
       "    </tr>\n",
       "    <tr>\n",
       "      <th>4</th>\n",
       "      <td>ANUSOL-HC (BENZYL BENZOATE, BISMUTH HYDROXIDE,...</td>\n",
       "      <td>Cinnamon</td>\n",
       "    </tr>\n",
       "  </tbody>\n",
       "</table>\n",
       "</div>"
      ],
      "text/plain": [
       "                                    FAERS_drug_match lookup_value\n",
       "0  ANUSOL (BENZYL BENZOATE, BISMUTH OXIDE, BISMUT...     Cinnamon\n",
       "1  ANUSOL (BENZYL BENZOATE/BISMUTH RESORCINOL/BIS...     Cinnamon\n",
       "2  ANUSOL-HC (BALSAM PERU, BENZYL BENZOATE, BISMU...     Cinnamon\n",
       "3      ANUSOL-HC [BENZYL BENZOATE;BISMUTH HYDROXIDE;     Cinnamon\n",
       "4  ANUSOL-HC (BENZYL BENZOATE, BISMUTH HYDROXIDE,...     Cinnamon"
      ]
     },
     "execution_count": 5,
     "metadata": {},
     "output_type": "execute_result"
    }
   ],
   "source": [
    "dfneg = pd.read_csv('data/NP_FAERS_negative_pairs_20220222.csv')\n",
    "dfneg.head()"
   ]
  },
  {
   "cell_type": "code",
   "execution_count": 6,
   "metadata": {},
   "outputs": [
    {
     "name": "stdout",
     "output_type": "stream",
     "text": [
      "<class 'pandas.core.frame.DataFrame'>\n",
      "RangeIndex: 9242 entries, 0 to 9241\n",
      "Data columns (total 2 columns):\n",
      " #   Column            Non-Null Count  Dtype \n",
      "---  ------            --------------  ----- \n",
      " 0   FAERS_drug_match  9242 non-null   object\n",
      " 1   lookup_value      9242 non-null   object\n",
      "dtypes: object(2)\n",
      "memory usage: 144.5+ KB\n"
     ]
    }
   ],
   "source": [
    "dfneg.info()"
   ]
  },
  {
   "cell_type": "code",
   "execution_count": 12,
   "metadata": {},
   "outputs": [],
   "source": [
    "dfneg.loc[dfneg['lookup_value'] == 'Boswelfia serrata', 'lookup_value'] = 'Boswellia serrata'"
   ]
  },
  {
   "cell_type": "code",
   "execution_count": 13,
   "metadata": {},
   "outputs": [
    {
     "name": "stdout",
     "output_type": "stream",
     "text": [
      "<class 'pandas.core.frame.DataFrame'>\n",
      "RangeIndex: 9242 entries, 0 to 9241\n",
      "Data columns (total 2 columns):\n",
      " #   Column            Non-Null Count  Dtype \n",
      "---  ------            --------------  ----- \n",
      " 0   FAERS_drug_match  9242 non-null   object\n",
      " 1   lookup_value      9242 non-null   object\n",
      "dtypes: object(2)\n",
      "memory usage: 144.5+ KB\n"
     ]
    }
   ],
   "source": [
    "dfneg.info()"
   ]
  },
  {
   "cell_type": "code",
   "execution_count": 17,
   "metadata": {},
   "outputs": [
    {
     "name": "stdout",
     "output_type": "stream",
     "text": [
      "<class 'pandas.core.frame.DataFrame'>\n",
      "RangeIndex: 30042 entries, 0 to 30041\n",
      "Data columns (total 7 columns):\n",
      " #   Column              Non-Null Count  Dtype  \n",
      "---  ------              --------------  -----  \n",
      " 0   primaryid           21798 non-null  float64\n",
      " 1   isr                 8244 non-null   float64\n",
      " 2   faers_drug_match    30042 non-null  object \n",
      " 3   indi_pt             30042 non-null  object \n",
      " 4   indi_concept_id     30042 non-null  int64  \n",
      " 5   faers_drug_match.1  30042 non-null  object \n",
      " 6   lookup_value        30042 non-null  object \n",
      "dtypes: float64(2), int64(1), object(4)\n",
      "memory usage: 1.6+ MB\n"
     ]
    }
   ],
   "source": [
    "dfind = pd.read_csv('data/raw_data/NP_FAERS_negative_pairs_with_lookup_and_indication.csv')\n",
    "dfind.info()"
   ]
  },
  {
   "cell_type": "code",
   "execution_count": 18,
   "metadata": {},
   "outputs": [
    {
     "name": "stdout",
     "output_type": "stream",
     "text": [
      "<class 'pandas.core.frame.DataFrame'>\n",
      "RangeIndex: 30042 entries, 0 to 30041\n",
      "Data columns (total 4 columns):\n",
      " #   Column              Non-Null Count  Dtype \n",
      "---  ------              --------------  ----- \n",
      " 0   faers_drug_match    30042 non-null  object\n",
      " 1   indi_pt             30042 non-null  object\n",
      " 2   faers_drug_match.1  30042 non-null  object\n",
      " 3   lookup_value        30042 non-null  object\n",
      "dtypes: object(4)\n",
      "memory usage: 938.9+ KB\n"
     ]
    }
   ],
   "source": [
    "dfind = dfind.drop(['primaryid', 'isr', 'indi_concept_id'], axis=1)\n",
    "dfind.info()"
   ]
  },
  {
   "cell_type": "code",
   "execution_count": 19,
   "metadata": {},
   "outputs": [
    {
     "data": {
      "text/html": [
       "<div>\n",
       "<style scoped>\n",
       "    .dataframe tbody tr th:only-of-type {\n",
       "        vertical-align: middle;\n",
       "    }\n",
       "\n",
       "    .dataframe tbody tr th {\n",
       "        vertical-align: top;\n",
       "    }\n",
       "\n",
       "    .dataframe thead th {\n",
       "        text-align: right;\n",
       "    }\n",
       "</style>\n",
       "<table border=\"1\" class=\"dataframe\">\n",
       "  <thead>\n",
       "    <tr style=\"text-align: right;\">\n",
       "      <th></th>\n",
       "      <th>faers_drug_match</th>\n",
       "      <th>indi_pt</th>\n",
       "      <th>faers_drug_match.1</th>\n",
       "      <th>lookup_value</th>\n",
       "    </tr>\n",
       "  </thead>\n",
       "  <tbody>\n",
       "    <tr>\n",
       "      <th>0</th>\n",
       "      <td>GARDENALE</td>\n",
       "      <td>Partial seizures</td>\n",
       "      <td>GARDENALE</td>\n",
       "      <td>Beta vulgaris</td>\n",
       "    </tr>\n",
       "    <tr>\n",
       "      <th>1</th>\n",
       "      <td>GARDENALE</td>\n",
       "      <td>Partial seizures</td>\n",
       "      <td>GARDENALE</td>\n",
       "      <td>Beet root</td>\n",
       "    </tr>\n",
       "    <tr>\n",
       "      <th>2</th>\n",
       "      <td>ASS</td>\n",
       "      <td>Placental insufficiency</td>\n",
       "      <td>ASS</td>\n",
       "      <td>Malus domestica</td>\n",
       "    </tr>\n",
       "    <tr>\n",
       "      <th>3</th>\n",
       "      <td>ASS</td>\n",
       "      <td>Placental insufficiency</td>\n",
       "      <td>ASS</td>\n",
       "      <td>Apple cider vinegar</td>\n",
       "    </tr>\n",
       "    <tr>\n",
       "      <th>4</th>\n",
       "      <td>ARTIFICIAL TEARS</td>\n",
       "      <td>Product used for unknown indication</td>\n",
       "      <td>ARTIFICIAL TEARS</td>\n",
       "      <td>Camellia sinensis</td>\n",
       "    </tr>\n",
       "  </tbody>\n",
       "</table>\n",
       "</div>"
      ],
      "text/plain": [
       "   faers_drug_match                              indi_pt faers_drug_match.1  \\\n",
       "0         GARDENALE                     Partial seizures          GARDENALE   \n",
       "1         GARDENALE                     Partial seizures          GARDENALE   \n",
       "2               ASS              Placental insufficiency                ASS   \n",
       "3               ASS              Placental insufficiency                ASS   \n",
       "4  ARTIFICIAL TEARS  Product used for unknown indication   ARTIFICIAL TEARS   \n",
       "\n",
       "          lookup_value  \n",
       "0        Beta vulgaris  \n",
       "1            Beet root  \n",
       "2      Malus domestica  \n",
       "3  Apple cider vinegar  \n",
       "4    Camellia sinensis  "
      ]
     },
     "execution_count": 19,
     "metadata": {},
     "output_type": "execute_result"
    }
   ],
   "source": [
    "dfind.head()"
   ]
  },
  {
   "cell_type": "code",
   "execution_count": 20,
   "metadata": {},
   "outputs": [
    {
     "data": {
      "text/html": [
       "<div>\n",
       "<style scoped>\n",
       "    .dataframe tbody tr th:only-of-type {\n",
       "        vertical-align: middle;\n",
       "    }\n",
       "\n",
       "    .dataframe tbody tr th {\n",
       "        vertical-align: top;\n",
       "    }\n",
       "\n",
       "    .dataframe thead th {\n",
       "        text-align: right;\n",
       "    }\n",
       "</style>\n",
       "<table border=\"1\" class=\"dataframe\">\n",
       "  <thead>\n",
       "    <tr style=\"text-align: right;\">\n",
       "      <th></th>\n",
       "      <th>faers_drug_match</th>\n",
       "      <th>indi_pt</th>\n",
       "      <th>lookup_value</th>\n",
       "    </tr>\n",
       "  </thead>\n",
       "  <tbody>\n",
       "    <tr>\n",
       "      <th>0</th>\n",
       "      <td>GARDENALE</td>\n",
       "      <td>Partial seizures</td>\n",
       "      <td>Beta vulgaris</td>\n",
       "    </tr>\n",
       "    <tr>\n",
       "      <th>1</th>\n",
       "      <td>GARDENALE</td>\n",
       "      <td>Partial seizures</td>\n",
       "      <td>Beet root</td>\n",
       "    </tr>\n",
       "    <tr>\n",
       "      <th>2</th>\n",
       "      <td>ASS</td>\n",
       "      <td>Placental insufficiency</td>\n",
       "      <td>Malus domestica</td>\n",
       "    </tr>\n",
       "    <tr>\n",
       "      <th>3</th>\n",
       "      <td>ASS</td>\n",
       "      <td>Placental insufficiency</td>\n",
       "      <td>Apple cider vinegar</td>\n",
       "    </tr>\n",
       "    <tr>\n",
       "      <th>4</th>\n",
       "      <td>ARTIFICIAL TEARS</td>\n",
       "      <td>Product used for unknown indication</td>\n",
       "      <td>Camellia sinensis</td>\n",
       "    </tr>\n",
       "  </tbody>\n",
       "</table>\n",
       "</div>"
      ],
      "text/plain": [
       "   faers_drug_match                              indi_pt         lookup_value\n",
       "0         GARDENALE                     Partial seizures        Beta vulgaris\n",
       "1         GARDENALE                     Partial seizures            Beet root\n",
       "2               ASS              Placental insufficiency      Malus domestica\n",
       "3               ASS              Placental insufficiency  Apple cider vinegar\n",
       "4  ARTIFICIAL TEARS  Product used for unknown indication    Camellia sinensis"
      ]
     },
     "execution_count": 20,
     "metadata": {},
     "output_type": "execute_result"
    }
   ],
   "source": [
    "dfind = dfind.drop(['faers_drug_match.1'], axis=1)\n",
    "dfind.head()"
   ]
  },
  {
   "cell_type": "code",
   "execution_count": 22,
   "metadata": {},
   "outputs": [
    {
     "data": {
      "text/html": [
       "<div>\n",
       "<style scoped>\n",
       "    .dataframe tbody tr th:only-of-type {\n",
       "        vertical-align: middle;\n",
       "    }\n",
       "\n",
       "    .dataframe tbody tr th {\n",
       "        vertical-align: top;\n",
       "    }\n",
       "\n",
       "    .dataframe thead th {\n",
       "        text-align: right;\n",
       "    }\n",
       "</style>\n",
       "<table border=\"1\" class=\"dataframe\">\n",
       "  <thead>\n",
       "    <tr style=\"text-align: right;\">\n",
       "      <th></th>\n",
       "      <th>indi_pt</th>\n",
       "      <th>lookup_value</th>\n",
       "    </tr>\n",
       "  </thead>\n",
       "  <tbody>\n",
       "    <tr>\n",
       "      <th>0</th>\n",
       "      <td>Partial seizures</td>\n",
       "      <td>Beta vulgaris</td>\n",
       "    </tr>\n",
       "    <tr>\n",
       "      <th>1</th>\n",
       "      <td>Partial seizures</td>\n",
       "      <td>Beet root</td>\n",
       "    </tr>\n",
       "    <tr>\n",
       "      <th>2</th>\n",
       "      <td>Placental insufficiency</td>\n",
       "      <td>Malus domestica</td>\n",
       "    </tr>\n",
       "    <tr>\n",
       "      <th>3</th>\n",
       "      <td>Placental insufficiency</td>\n",
       "      <td>Apple cider vinegar</td>\n",
       "    </tr>\n",
       "    <tr>\n",
       "      <th>4</th>\n",
       "      <td>Product used for unknown indication</td>\n",
       "      <td>Camellia sinensis</td>\n",
       "    </tr>\n",
       "  </tbody>\n",
       "</table>\n",
       "</div>"
      ],
      "text/plain": [
       "                               indi_pt         lookup_value\n",
       "0                     Partial seizures        Beta vulgaris\n",
       "1                     Partial seizures            Beet root\n",
       "2              Placental insufficiency      Malus domestica\n",
       "3              Placental insufficiency  Apple cider vinegar\n",
       "4  Product used for unknown indication    Camellia sinensis"
      ]
     },
     "execution_count": 22,
     "metadata": {},
     "output_type": "execute_result"
    }
   ],
   "source": [
    "dfind = dfind.drop(['faers_drug_match'], axis=1)\n",
    "dfind.head()"
   ]
  },
  {
   "cell_type": "code",
   "execution_count": 23,
   "metadata": {},
   "outputs": [
    {
     "name": "stdout",
     "output_type": "stream",
     "text": [
      "<class 'pandas.core.frame.DataFrame'>\n",
      "RangeIndex: 3864 entries, 0 to 3863\n",
      "Data columns (total 2 columns):\n",
      " #   Column        Non-Null Count  Dtype \n",
      "---  ------        --------------  ----- \n",
      " 0   indi_pt       3864 non-null   object\n",
      " 1   lookup_value  3864 non-null   object\n",
      "dtypes: object(2)\n",
      "memory usage: 60.5+ KB\n"
     ]
    }
   ],
   "source": [
    "dfind = dfind.drop_duplicates(ignore_index = True)\n",
    "dfind.info()"
   ]
  },
  {
   "cell_type": "code",
   "execution_count": 24,
   "metadata": {},
   "outputs": [
    {
     "data": {
      "text/html": [
       "<div>\n",
       "<style scoped>\n",
       "    .dataframe tbody tr th:only-of-type {\n",
       "        vertical-align: middle;\n",
       "    }\n",
       "\n",
       "    .dataframe tbody tr th {\n",
       "        vertical-align: top;\n",
       "    }\n",
       "\n",
       "    .dataframe thead th {\n",
       "        text-align: right;\n",
       "    }\n",
       "</style>\n",
       "<table border=\"1\" class=\"dataframe\">\n",
       "  <thead>\n",
       "    <tr style=\"text-align: right;\">\n",
       "      <th></th>\n",
       "      <th>FAERS_drug_match</th>\n",
       "      <th>lookup_value</th>\n",
       "    </tr>\n",
       "  </thead>\n",
       "  <tbody>\n",
       "    <tr>\n",
       "      <th>0</th>\n",
       "      <td>ANUSOL (BENZYL BENZOATE, BISMUTH OXIDE, BISMUT...</td>\n",
       "      <td>Cinnamon</td>\n",
       "    </tr>\n",
       "    <tr>\n",
       "      <th>1</th>\n",
       "      <td>ANUSOL (BENZYL BENZOATE/BISMUTH RESORCINOL/BIS...</td>\n",
       "      <td>Cinnamon</td>\n",
       "    </tr>\n",
       "    <tr>\n",
       "      <th>2</th>\n",
       "      <td>ANUSOL-HC (BALSAM PERU, BENZYL BENZOATE, BISMU...</td>\n",
       "      <td>Cinnamon</td>\n",
       "    </tr>\n",
       "    <tr>\n",
       "      <th>3</th>\n",
       "      <td>ANUSOL-HC [BENZYL BENZOATE;BISMUTH HYDROXIDE;</td>\n",
       "      <td>Cinnamon</td>\n",
       "    </tr>\n",
       "    <tr>\n",
       "      <th>4</th>\n",
       "      <td>ANUSOL-HC (BENZYL BENZOATE, BISMUTH HYDROXIDE,...</td>\n",
       "      <td>Cinnamon</td>\n",
       "    </tr>\n",
       "  </tbody>\n",
       "</table>\n",
       "</div>"
      ],
      "text/plain": [
       "                                    FAERS_drug_match lookup_value\n",
       "0  ANUSOL (BENZYL BENZOATE, BISMUTH OXIDE, BISMUT...     Cinnamon\n",
       "1  ANUSOL (BENZYL BENZOATE/BISMUTH RESORCINOL/BIS...     Cinnamon\n",
       "2  ANUSOL-HC (BALSAM PERU, BENZYL BENZOATE, BISMU...     Cinnamon\n",
       "3      ANUSOL-HC [BENZYL BENZOATE;BISMUTH HYDROXIDE;     Cinnamon\n",
       "4  ANUSOL-HC (BENZYL BENZOATE, BISMUTH HYDROXIDE,...     Cinnamon"
      ]
     },
     "execution_count": 24,
     "metadata": {},
     "output_type": "execute_result"
    }
   ],
   "source": [
    "dfneg.head()"
   ]
  },
  {
   "cell_type": "code",
   "execution_count": 26,
   "metadata": {},
   "outputs": [
    {
     "name": "stdout",
     "output_type": "stream",
     "text": [
      "<class 'pandas.core.frame.DataFrame'>\n",
      "Int64Index: 1637012 entries, 0 to 9241\n",
      "Data columns (total 3 columns):\n",
      " #   Column            Non-Null Count    Dtype \n",
      "---  ------            --------------    ----- \n",
      " 0   FAERS_drug_match  1637012 non-null  object\n",
      " 1   lookup_value      1637012 non-null  object\n",
      " 2   indi_pt           1636994 non-null  object\n",
      "dtypes: object(3)\n",
      "memory usage: 50.0+ MB\n"
     ]
    }
   ],
   "source": [
    "df_indications = dfneg.join(dfind.set_index('lookup_value'), on='lookup_value')\n",
    "df_indications.info()"
   ]
  },
  {
   "cell_type": "code",
   "execution_count": 27,
   "metadata": {},
   "outputs": [
    {
     "data": {
      "text/html": [
       "<div>\n",
       "<style scoped>\n",
       "    .dataframe tbody tr th:only-of-type {\n",
       "        vertical-align: middle;\n",
       "    }\n",
       "\n",
       "    .dataframe tbody tr th {\n",
       "        vertical-align: top;\n",
       "    }\n",
       "\n",
       "    .dataframe thead th {\n",
       "        text-align: right;\n",
       "    }\n",
       "</style>\n",
       "<table border=\"1\" class=\"dataframe\">\n",
       "  <thead>\n",
       "    <tr style=\"text-align: right;\">\n",
       "      <th></th>\n",
       "      <th>FAERS_drug_match</th>\n",
       "      <th>lookup_value</th>\n",
       "      <th>indi_pt</th>\n",
       "    </tr>\n",
       "  </thead>\n",
       "  <tbody>\n",
       "    <tr>\n",
       "      <th>0</th>\n",
       "      <td>ANUSOL (BENZYL BENZOATE, BISMUTH OXIDE, BISMUT...</td>\n",
       "      <td>Cinnamon</td>\n",
       "      <td>Atrial fibrillation</td>\n",
       "    </tr>\n",
       "    <tr>\n",
       "      <th>0</th>\n",
       "      <td>ANUSOL (BENZYL BENZOATE, BISMUTH OXIDE, BISMUT...</td>\n",
       "      <td>Cinnamon</td>\n",
       "      <td>Product used for unknown indication</td>\n",
       "    </tr>\n",
       "    <tr>\n",
       "      <th>0</th>\n",
       "      <td>ANUSOL (BENZYL BENZOATE, BISMUTH OXIDE, BISMUT...</td>\n",
       "      <td>Cinnamon</td>\n",
       "      <td>Varicose vein</td>\n",
       "    </tr>\n",
       "    <tr>\n",
       "      <th>0</th>\n",
       "      <td>ANUSOL (BENZYL BENZOATE, BISMUTH OXIDE, BISMUT...</td>\n",
       "      <td>Cinnamon</td>\n",
       "      <td>HIV infection</td>\n",
       "    </tr>\n",
       "    <tr>\n",
       "      <th>0</th>\n",
       "      <td>ANUSOL (BENZYL BENZOATE, BISMUTH OXIDE, BISMUT...</td>\n",
       "      <td>Cinnamon</td>\n",
       "      <td>Peripheral venous disease</td>\n",
       "    </tr>\n",
       "  </tbody>\n",
       "</table>\n",
       "</div>"
      ],
      "text/plain": [
       "                                    FAERS_drug_match lookup_value  \\\n",
       "0  ANUSOL (BENZYL BENZOATE, BISMUTH OXIDE, BISMUT...     Cinnamon   \n",
       "0  ANUSOL (BENZYL BENZOATE, BISMUTH OXIDE, BISMUT...     Cinnamon   \n",
       "0  ANUSOL (BENZYL BENZOATE, BISMUTH OXIDE, BISMUT...     Cinnamon   \n",
       "0  ANUSOL (BENZYL BENZOATE, BISMUTH OXIDE, BISMUT...     Cinnamon   \n",
       "0  ANUSOL (BENZYL BENZOATE, BISMUTH OXIDE, BISMUT...     Cinnamon   \n",
       "\n",
       "                               indi_pt  \n",
       "0                  Atrial fibrillation  \n",
       "0  Product used for unknown indication  \n",
       "0                        Varicose vein  \n",
       "0                        HIV infection  \n",
       "0            Peripheral venous disease  "
      ]
     },
     "execution_count": 27,
     "metadata": {},
     "output_type": "execute_result"
    }
   ],
   "source": [
    "df_indications.head()"
   ]
  },
  {
   "cell_type": "code",
   "execution_count": 29,
   "metadata": {},
   "outputs": [
    {
     "data": {
      "text/plain": [
       "(85, 2)"
      ]
     },
     "execution_count": 29,
     "metadata": {},
     "output_type": "execute_result"
    }
   ],
   "source": [
    "dfind.loc[dfind['lookup_value'] == 'Cinnamon'].shape"
   ]
  },
  {
   "cell_type": "code",
   "execution_count": 35,
   "metadata": {},
   "outputs": [
    {
     "data": {
      "text/plain": [
       "(40, 3)"
      ]
     },
     "execution_count": 35,
     "metadata": {},
     "output_type": "execute_result"
    }
   ],
   "source": [
    "df1.loc[df1['related_common_name'] == 'Ashwaganda'].shape"
   ]
  },
  {
   "cell_type": "code",
   "execution_count": 37,
   "metadata": {},
   "outputs": [
    {
     "data": {
      "text/plain": [
       "(680, 4)"
      ]
     },
     "execution_count": 37,
     "metadata": {},
     "output_type": "execute_result"
    }
   ],
   "source": [
    "df_indications.loc[df_indications['related_common_name'] == 'Ashwaganda'].shape"
   ]
  },
  {
   "cell_type": "code",
   "execution_count": null,
   "metadata": {},
   "outputs": [],
   "source": [
    "#save file with indications data with join over common name"
   ]
  },
  {
   "cell_type": "code",
   "execution_count": 31,
   "metadata": {},
   "outputs": [],
   "source": [
    "df_indications.to_csv('data/NP_FAERS_mapped_indications_join_negative_pairs_20220223.csv', index=False)"
   ]
  },
  {
   "cell_type": "code",
   "execution_count": null,
   "metadata": {},
   "outputs": [],
   "source": [
    "###join and include indications based on drug name original so rest are null"
   ]
  },
  {
   "cell_type": "code",
   "execution_count": 32,
   "metadata": {},
   "outputs": [
    {
     "name": "stdout",
     "output_type": "stream",
     "text": [
      "<class 'pandas.core.frame.DataFrame'>\n",
      "RangeIndex: 30042 entries, 0 to 30041\n",
      "Data columns (total 7 columns):\n",
      " #   Column              Non-Null Count  Dtype  \n",
      "---  ------              --------------  -----  \n",
      " 0   primaryid           21798 non-null  float64\n",
      " 1   isr                 8244 non-null   float64\n",
      " 2   faers_drug_match    30042 non-null  object \n",
      " 3   indi_pt             30042 non-null  object \n",
      " 4   indi_concept_id     30042 non-null  int64  \n",
      " 5   faers_drug_match.1  30042 non-null  object \n",
      " 6   lookup_value        30042 non-null  object \n",
      "dtypes: float64(2), int64(1), object(4)\n",
      "memory usage: 1.6+ MB\n"
     ]
    }
   ],
   "source": [
    "dfind = pd.read_csv('data/raw_data/NP_FAERS_negative_pairs_with_lookup_and_indication.csv')\n",
    "dfind.info()"
   ]
  },
  {
   "cell_type": "code",
   "execution_count": 33,
   "metadata": {},
   "outputs": [
    {
     "name": "stdout",
     "output_type": "stream",
     "text": [
      "<class 'pandas.core.frame.DataFrame'>\n",
      "RangeIndex: 30042 entries, 0 to 30041\n",
      "Data columns (total 2 columns):\n",
      " #   Column            Non-Null Count  Dtype \n",
      "---  ------            --------------  ----- \n",
      " 0   faers_drug_match  30042 non-null  object\n",
      " 1   indi_pt           30042 non-null  object\n",
      "dtypes: object(2)\n",
      "memory usage: 469.5+ KB\n"
     ]
    }
   ],
   "source": [
    "dfind = dfind.drop(['primaryid', 'isr', 'indi_concept_id', 'faers_drug_match.1', 'lookup_value'], axis=1)\n",
    "dfind.info()"
   ]
  },
  {
   "cell_type": "code",
   "execution_count": 34,
   "metadata": {},
   "outputs": [
    {
     "data": {
      "text/html": [
       "<div>\n",
       "<style scoped>\n",
       "    .dataframe tbody tr th:only-of-type {\n",
       "        vertical-align: middle;\n",
       "    }\n",
       "\n",
       "    .dataframe tbody tr th {\n",
       "        vertical-align: top;\n",
       "    }\n",
       "\n",
       "    .dataframe thead th {\n",
       "        text-align: right;\n",
       "    }\n",
       "</style>\n",
       "<table border=\"1\" class=\"dataframe\">\n",
       "  <thead>\n",
       "    <tr style=\"text-align: right;\">\n",
       "      <th></th>\n",
       "      <th>faers_drug_match</th>\n",
       "      <th>indi_pt</th>\n",
       "    </tr>\n",
       "  </thead>\n",
       "  <tbody>\n",
       "    <tr>\n",
       "      <th>0</th>\n",
       "      <td>GARDENALE</td>\n",
       "      <td>Partial seizures</td>\n",
       "    </tr>\n",
       "    <tr>\n",
       "      <th>1</th>\n",
       "      <td>GARDENALE</td>\n",
       "      <td>Partial seizures</td>\n",
       "    </tr>\n",
       "    <tr>\n",
       "      <th>2</th>\n",
       "      <td>ASS</td>\n",
       "      <td>Placental insufficiency</td>\n",
       "    </tr>\n",
       "    <tr>\n",
       "      <th>3</th>\n",
       "      <td>ASS</td>\n",
       "      <td>Placental insufficiency</td>\n",
       "    </tr>\n",
       "    <tr>\n",
       "      <th>4</th>\n",
       "      <td>ARTIFICIAL TEARS</td>\n",
       "      <td>Product used for unknown indication</td>\n",
       "    </tr>\n",
       "  </tbody>\n",
       "</table>\n",
       "</div>"
      ],
      "text/plain": [
       "   faers_drug_match                              indi_pt\n",
       "0         GARDENALE                     Partial seizures\n",
       "1         GARDENALE                     Partial seizures\n",
       "2               ASS              Placental insufficiency\n",
       "3               ASS              Placental insufficiency\n",
       "4  ARTIFICIAL TEARS  Product used for unknown indication"
      ]
     },
     "execution_count": 34,
     "metadata": {},
     "output_type": "execute_result"
    }
   ],
   "source": [
    "dfind.head()"
   ]
  },
  {
   "cell_type": "code",
   "execution_count": 36,
   "metadata": {},
   "outputs": [
    {
     "data": {
      "text/html": [
       "<div>\n",
       "<style scoped>\n",
       "    .dataframe tbody tr th:only-of-type {\n",
       "        vertical-align: middle;\n",
       "    }\n",
       "\n",
       "    .dataframe tbody tr th {\n",
       "        vertical-align: top;\n",
       "    }\n",
       "\n",
       "    .dataframe thead th {\n",
       "        text-align: right;\n",
       "    }\n",
       "</style>\n",
       "<table border=\"1\" class=\"dataframe\">\n",
       "  <thead>\n",
       "    <tr style=\"text-align: right;\">\n",
       "      <th></th>\n",
       "      <th>FAERS_drug_match</th>\n",
       "      <th>indi_pt</th>\n",
       "    </tr>\n",
       "  </thead>\n",
       "  <tbody>\n",
       "    <tr>\n",
       "      <th>0</th>\n",
       "      <td>GARDENALE</td>\n",
       "      <td>Partial seizures</td>\n",
       "    </tr>\n",
       "    <tr>\n",
       "      <th>1</th>\n",
       "      <td>GARDENALE</td>\n",
       "      <td>Partial seizures</td>\n",
       "    </tr>\n",
       "    <tr>\n",
       "      <th>2</th>\n",
       "      <td>ASS</td>\n",
       "      <td>Placental insufficiency</td>\n",
       "    </tr>\n",
       "    <tr>\n",
       "      <th>3</th>\n",
       "      <td>ASS</td>\n",
       "      <td>Placental insufficiency</td>\n",
       "    </tr>\n",
       "    <tr>\n",
       "      <th>4</th>\n",
       "      <td>ARTIFICIAL TEARS</td>\n",
       "      <td>Product used for unknown indication</td>\n",
       "    </tr>\n",
       "  </tbody>\n",
       "</table>\n",
       "</div>"
      ],
      "text/plain": [
       "   FAERS_drug_match                              indi_pt\n",
       "0         GARDENALE                     Partial seizures\n",
       "1         GARDENALE                     Partial seizures\n",
       "2               ASS              Placental insufficiency\n",
       "3               ASS              Placental insufficiency\n",
       "4  ARTIFICIAL TEARS  Product used for unknown indication"
      ]
     },
     "execution_count": 36,
     "metadata": {},
     "output_type": "execute_result"
    }
   ],
   "source": [
    "dfind = dfind.rename(columns={'faers_drug_match': 'FAERS_drug_match'})\n",
    "dfind.head()"
   ]
  },
  {
   "cell_type": "code",
   "execution_count": 37,
   "metadata": {},
   "outputs": [
    {
     "name": "stdout",
     "output_type": "stream",
     "text": [
      "<class 'pandas.core.frame.DataFrame'>\n",
      "RangeIndex: 4328 entries, 0 to 4327\n",
      "Data columns (total 2 columns):\n",
      " #   Column            Non-Null Count  Dtype \n",
      "---  ------            --------------  ----- \n",
      " 0   FAERS_drug_match  4328 non-null   object\n",
      " 1   indi_pt           4328 non-null   object\n",
      "dtypes: object(2)\n",
      "memory usage: 67.8+ KB\n"
     ]
    }
   ],
   "source": [
    "dfind = dfind.drop_duplicates(ignore_index=True)\n",
    "dfind.info()"
   ]
  },
  {
   "cell_type": "code",
   "execution_count": 38,
   "metadata": {},
   "outputs": [
    {
     "data": {
      "text/html": [
       "<div>\n",
       "<style scoped>\n",
       "    .dataframe tbody tr th:only-of-type {\n",
       "        vertical-align: middle;\n",
       "    }\n",
       "\n",
       "    .dataframe tbody tr th {\n",
       "        vertical-align: top;\n",
       "    }\n",
       "\n",
       "    .dataframe thead th {\n",
       "        text-align: right;\n",
       "    }\n",
       "</style>\n",
       "<table border=\"1\" class=\"dataframe\">\n",
       "  <thead>\n",
       "    <tr style=\"text-align: right;\">\n",
       "      <th></th>\n",
       "      <th>FAERS_drug_match</th>\n",
       "      <th>lookup_value</th>\n",
       "    </tr>\n",
       "  </thead>\n",
       "  <tbody>\n",
       "    <tr>\n",
       "      <th>0</th>\n",
       "      <td>ANUSOL (BENZYL BENZOATE, BISMUTH OXIDE, BISMUT...</td>\n",
       "      <td>Cinnamon</td>\n",
       "    </tr>\n",
       "    <tr>\n",
       "      <th>1</th>\n",
       "      <td>ANUSOL (BENZYL BENZOATE/BISMUTH RESORCINOL/BIS...</td>\n",
       "      <td>Cinnamon</td>\n",
       "    </tr>\n",
       "    <tr>\n",
       "      <th>2</th>\n",
       "      <td>ANUSOL-HC (BALSAM PERU, BENZYL BENZOATE, BISMU...</td>\n",
       "      <td>Cinnamon</td>\n",
       "    </tr>\n",
       "    <tr>\n",
       "      <th>3</th>\n",
       "      <td>ANUSOL-HC [BENZYL BENZOATE;BISMUTH HYDROXIDE;</td>\n",
       "      <td>Cinnamon</td>\n",
       "    </tr>\n",
       "    <tr>\n",
       "      <th>4</th>\n",
       "      <td>ANUSOL-HC (BENZYL BENZOATE, BISMUTH HYDROXIDE,...</td>\n",
       "      <td>Cinnamon</td>\n",
       "    </tr>\n",
       "  </tbody>\n",
       "</table>\n",
       "</div>"
      ],
      "text/plain": [
       "                                    FAERS_drug_match lookup_value\n",
       "0  ANUSOL (BENZYL BENZOATE, BISMUTH OXIDE, BISMUT...     Cinnamon\n",
       "1  ANUSOL (BENZYL BENZOATE/BISMUTH RESORCINOL/BIS...     Cinnamon\n",
       "2  ANUSOL-HC (BALSAM PERU, BENZYL BENZOATE, BISMU...     Cinnamon\n",
       "3      ANUSOL-HC [BENZYL BENZOATE;BISMUTH HYDROXIDE;     Cinnamon\n",
       "4  ANUSOL-HC (BENZYL BENZOATE, BISMUTH HYDROXIDE,...     Cinnamon"
      ]
     },
     "execution_count": 38,
     "metadata": {},
     "output_type": "execute_result"
    }
   ],
   "source": [
    "dfneg.head()"
   ]
  },
  {
   "cell_type": "code",
   "execution_count": 39,
   "metadata": {},
   "outputs": [
    {
     "name": "stdout",
     "output_type": "stream",
     "text": [
      "<class 'pandas.core.frame.DataFrame'>\n",
      "Int64Index: 13866 entries, 0 to 9241\n",
      "Data columns (total 3 columns):\n",
      " #   Column            Non-Null Count  Dtype \n",
      "---  ------            --------------  ----- \n",
      " 0   FAERS_drug_match  13866 non-null  object\n",
      " 1   lookup_value      13866 non-null  object\n",
      " 2   indi_pt           8826 non-null   object\n",
      "dtypes: object(3)\n",
      "memory usage: 433.3+ KB\n"
     ]
    }
   ],
   "source": [
    "df_ind2 = dfneg.join(dfind.set_index('FAERS_drug_match'), on='FAERS_drug_match')\n",
    "df_ind2.info()"
   ]
  },
  {
   "cell_type": "code",
   "execution_count": 40,
   "metadata": {},
   "outputs": [
    {
     "data": {
      "text/html": [
       "<div>\n",
       "<style scoped>\n",
       "    .dataframe tbody tr th:only-of-type {\n",
       "        vertical-align: middle;\n",
       "    }\n",
       "\n",
       "    .dataframe tbody tr th {\n",
       "        vertical-align: top;\n",
       "    }\n",
       "\n",
       "    .dataframe thead th {\n",
       "        text-align: right;\n",
       "    }\n",
       "</style>\n",
       "<table border=\"1\" class=\"dataframe\">\n",
       "  <thead>\n",
       "    <tr style=\"text-align: right;\">\n",
       "      <th></th>\n",
       "      <th>FAERS_drug_match</th>\n",
       "      <th>lookup_value</th>\n",
       "      <th>indi_pt</th>\n",
       "    </tr>\n",
       "  </thead>\n",
       "  <tbody>\n",
       "    <tr>\n",
       "      <th>0</th>\n",
       "      <td>ANUSOL (BENZYL BENZOATE, BISMUTH OXIDE, BISMUT...</td>\n",
       "      <td>Cinnamon</td>\n",
       "      <td>NaN</td>\n",
       "    </tr>\n",
       "    <tr>\n",
       "      <th>1</th>\n",
       "      <td>ANUSOL (BENZYL BENZOATE/BISMUTH RESORCINOL/BIS...</td>\n",
       "      <td>Cinnamon</td>\n",
       "      <td>NaN</td>\n",
       "    </tr>\n",
       "    <tr>\n",
       "      <th>2</th>\n",
       "      <td>ANUSOL-HC (BALSAM PERU, BENZYL BENZOATE, BISMU...</td>\n",
       "      <td>Cinnamon</td>\n",
       "      <td>NaN</td>\n",
       "    </tr>\n",
       "    <tr>\n",
       "      <th>3</th>\n",
       "      <td>ANUSOL-HC [BENZYL BENZOATE;BISMUTH HYDROXIDE;</td>\n",
       "      <td>Cinnamon</td>\n",
       "      <td>NaN</td>\n",
       "    </tr>\n",
       "    <tr>\n",
       "      <th>4</th>\n",
       "      <td>ANUSOL-HC (BENZYL BENZOATE, BISMUTH HYDROXIDE,...</td>\n",
       "      <td>Cinnamon</td>\n",
       "      <td>NaN</td>\n",
       "    </tr>\n",
       "  </tbody>\n",
       "</table>\n",
       "</div>"
      ],
      "text/plain": [
       "                                    FAERS_drug_match lookup_value indi_pt\n",
       "0  ANUSOL (BENZYL BENZOATE, BISMUTH OXIDE, BISMUT...     Cinnamon     NaN\n",
       "1  ANUSOL (BENZYL BENZOATE/BISMUTH RESORCINOL/BIS...     Cinnamon     NaN\n",
       "2  ANUSOL-HC (BALSAM PERU, BENZYL BENZOATE, BISMU...     Cinnamon     NaN\n",
       "3      ANUSOL-HC [BENZYL BENZOATE;BISMUTH HYDROXIDE;     Cinnamon     NaN\n",
       "4  ANUSOL-HC (BENZYL BENZOATE, BISMUTH HYDROXIDE,...     Cinnamon     NaN"
      ]
     },
     "execution_count": 40,
     "metadata": {},
     "output_type": "execute_result"
    }
   ],
   "source": [
    "df_ind2.head()"
   ]
  },
  {
   "cell_type": "code",
   "execution_count": 41,
   "metadata": {},
   "outputs": [
    {
     "name": "stdout",
     "output_type": "stream",
     "text": [
      "<class 'pandas.core.frame.DataFrame'>\n",
      "RangeIndex: 13843 entries, 0 to 13842\n",
      "Data columns (total 3 columns):\n",
      " #   Column            Non-Null Count  Dtype \n",
      "---  ------            --------------  ----- \n",
      " 0   FAERS_drug_match  13843 non-null  object\n",
      " 1   lookup_value      13843 non-null  object\n",
      " 2   indi_pt           8808 non-null   object\n",
      "dtypes: object(3)\n",
      "memory usage: 324.6+ KB\n"
     ]
    }
   ],
   "source": [
    "df_ind2 = df_ind2.drop_duplicates(ignore_index=True)\n",
    "df_ind2.info()"
   ]
  },
  {
   "cell_type": "code",
   "execution_count": null,
   "metadata": {},
   "outputs": [],
   "source": [
    "#add latin binomial mapping and save file"
   ]
  },
  {
   "cell_type": "code",
   "execution_count": 43,
   "metadata": {},
   "outputs": [],
   "source": [
    "df_ind2.to_csv('data/NP_FAERS_mapped_indications_join_on_drugname_negative_20220223.csv', index=False)"
   ]
  },
  {
   "cell_type": "code",
   "execution_count": null,
   "metadata": {},
   "outputs": [],
   "source": []
  }
 ],
 "metadata": {
  "kernelspec": {
   "display_name": "Python 3",
   "language": "python",
   "name": "python3"
  },
  "language_info": {
   "codemirror_mode": {
    "name": "ipython",
    "version": 3
   },
   "file_extension": ".py",
   "mimetype": "text/x-python",
   "name": "python",
   "nbconvert_exporter": "python",
   "pygments_lexer": "ipython3",
   "version": "3.7.3"
  }
 },
 "nbformat": 4,
 "nbformat_minor": 5
}
