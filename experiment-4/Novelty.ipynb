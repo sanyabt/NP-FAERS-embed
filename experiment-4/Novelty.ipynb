{
 "cells": [
  {
   "cell_type": "code",
   "execution_count": 1,
   "id": "a3902d29",
   "metadata": {},
   "outputs": [],
   "source": [
    "import tensorflow as tf\n",
    "import numpy as np\n",
    "import pandas as pd\n",
    "import pickle\n",
    "from yaml import safe_load"
   ]
  },
  {
   "cell_type": "code",
   "execution_count": 2,
   "id": "016e2b87",
   "metadata": {},
   "outputs": [
    {
     "name": "stdout",
     "output_type": "stream",
     "text": [
      "tf.version:  2.9.1\n",
      "tf.keras.version:  2.9.0\n",
      "tf.config.devices:  [PhysicalDevice(name='/physical_device:CPU:0', device_type='CPU'), PhysicalDevice(name='/physical_device:GPU:0', device_type='GPU')]\n"
     ]
    },
    {
     "name": "stderr",
     "output_type": "stream",
     "text": [
      "2022-09-15 12:16:29.758476: I tensorflow/stream_executor/cuda/cuda_gpu_executor.cc:975] successful NUMA node read from SysFS had negative value (-1), but there must be at least one NUMA node, so returning NUMA node zero\n",
      "2022-09-15 12:16:29.784010: I tensorflow/stream_executor/cuda/cuda_gpu_executor.cc:975] successful NUMA node read from SysFS had negative value (-1), but there must be at least one NUMA node, so returning NUMA node zero\n",
      "2022-09-15 12:16:29.784163: I tensorflow/stream_executor/cuda/cuda_gpu_executor.cc:975] successful NUMA node read from SysFS had negative value (-1), but there must be at least one NUMA node, so returning NUMA node zero\n",
      "2022-09-15 12:16:29.785366: I tensorflow/core/platform/cpu_feature_guard.cc:193] This TensorFlow binary is optimized with oneAPI Deep Neural Network Library (oneDNN) to use the following CPU instructions in performance-critical operations:  SSE4.1 SSE4.2 AVX AVX2 FMA\n",
      "To enable them in other operations, rebuild TensorFlow with the appropriate compiler flags.\n",
      "2022-09-15 12:16:29.785789: I tensorflow/stream_executor/cuda/cuda_gpu_executor.cc:975] successful NUMA node read from SysFS had negative value (-1), but there must be at least one NUMA node, so returning NUMA node zero\n",
      "2022-09-15 12:16:29.785925: I tensorflow/stream_executor/cuda/cuda_gpu_executor.cc:975] successful NUMA node read from SysFS had negative value (-1), but there must be at least one NUMA node, so returning NUMA node zero\n",
      "2022-09-15 12:16:29.786067: I tensorflow/stream_executor/cuda/cuda_gpu_executor.cc:975] successful NUMA node read from SysFS had negative value (-1), but there must be at least one NUMA node, so returning NUMA node zero\n",
      "2022-09-15 12:16:30.191434: I tensorflow/stream_executor/cuda/cuda_gpu_executor.cc:975] successful NUMA node read from SysFS had negative value (-1), but there must be at least one NUMA node, so returning NUMA node zero\n",
      "2022-09-15 12:16:30.191598: I tensorflow/stream_executor/cuda/cuda_gpu_executor.cc:975] successful NUMA node read from SysFS had negative value (-1), but there must be at least one NUMA node, so returning NUMA node zero\n",
      "2022-09-15 12:16:30.191708: I tensorflow/stream_executor/cuda/cuda_gpu_executor.cc:975] successful NUMA node read from SysFS had negative value (-1), but there must be at least one NUMA node, so returning NUMA node zero\n",
      "2022-09-15 12:16:30.191795: I tensorflow/core/common_runtime/gpu/gpu_device.cc:1532] Created device /device:GPU:0 with 6596 MB memory:  -> device: 0, name: NVIDIA GeForce RTX 2070 with Max-Q Design, pci bus id: 0000:01:00.0, compute capability: 7.5\n"
     ]
    }
   ],
   "source": [
    "from StringProcessing import preprocessInput, encode_pad_tag\n",
    "from SiameseModel import ContrastiveLoss, CosineDistance\n",
    "from ModelEvaluation import find_Model_ranks"
   ]
  },
  {
   "cell_type": "code",
   "execution_count": 3,
   "id": "1883331b",
   "metadata": {},
   "outputs": [],
   "source": [
    "with open('LSTM65.yaml', 'r') as file:\n",
    "    model_config = safe_load(file)"
   ]
  },
  {
   "cell_type": "code",
   "execution_count": 4,
   "id": "d8370815",
   "metadata": {},
   "outputs": [
    {
     "name": "stderr",
     "output_type": "stream",
     "text": [
      "2022-09-15 12:16:30.283936: I tensorflow/stream_executor/cuda/cuda_gpu_executor.cc:975] successful NUMA node read from SysFS had negative value (-1), but there must be at least one NUMA node, so returning NUMA node zero\n",
      "2022-09-15 12:16:30.284169: I tensorflow/stream_executor/cuda/cuda_gpu_executor.cc:975] successful NUMA node read from SysFS had negative value (-1), but there must be at least one NUMA node, so returning NUMA node zero\n",
      "2022-09-15 12:16:30.284275: I tensorflow/stream_executor/cuda/cuda_gpu_executor.cc:975] successful NUMA node read from SysFS had negative value (-1), but there must be at least one NUMA node, so returning NUMA node zero\n",
      "2022-09-15 12:16:30.284411: I tensorflow/stream_executor/cuda/cuda_gpu_executor.cc:975] successful NUMA node read from SysFS had negative value (-1), but there must be at least one NUMA node, so returning NUMA node zero\n",
      "2022-09-15 12:16:30.284517: I tensorflow/stream_executor/cuda/cuda_gpu_executor.cc:975] successful NUMA node read from SysFS had negative value (-1), but there must be at least one NUMA node, so returning NUMA node zero\n",
      "2022-09-15 12:16:30.284596: I tensorflow/core/common_runtime/gpu/gpu_device.cc:1532] Created device /job:localhost/replica:0/task:0/device:GPU:0 with 6596 MB memory:  -> device: 0, name: NVIDIA GeForce RTX 2070 with Max-Q Design, pci bus id: 0000:01:00.0, compute capability: 7.5\n",
      "2022-09-15 12:16:31.922244: W tensorflow/core/common_runtime/graph_constructor.cc:805] Node 'cond/while' has 13 outputs but the _output_shapes attribute specifies shapes for 46 outputs. Output shapes may be inaccurate.\n",
      "2022-09-15 12:16:31.994473: W tensorflow/core/common_runtime/graph_constructor.cc:805] Node 'cond/while' has 13 outputs but the _output_shapes attribute specifies shapes for 46 outputs. Output shapes may be inaccurate.\n",
      "2022-09-15 12:16:32.040714: W tensorflow/core/common_runtime/graph_constructor.cc:805] Node 'cond/while' has 13 outputs but the _output_shapes attribute specifies shapes for 46 outputs. Output shapes may be inaccurate.\n",
      "2022-09-15 12:16:32.168270: W tensorflow/core/common_runtime/graph_constructor.cc:805] Node 'cond/while' has 13 outputs but the _output_shapes attribute specifies shapes for 46 outputs. Output shapes may be inaccurate.\n",
      "2022-09-15 12:16:32.917895: W tensorflow/core/common_runtime/graph_constructor.cc:805] Node 'cond/while' has 13 outputs but the _output_shapes attribute specifies shapes for 46 outputs. Output shapes may be inaccurate.\n",
      "2022-09-15 12:16:32.926968: W tensorflow/core/common_runtime/graph_constructor.cc:805] Node 'cond' has 5 outputs but the _output_shapes attribute specifies shapes for 46 outputs. Output shapes may be inaccurate.\n",
      "2022-09-15 12:16:32.975773: W tensorflow/core/common_runtime/graph_constructor.cc:805] Node 'cond/while' has 13 outputs but the _output_shapes attribute specifies shapes for 46 outputs. Output shapes may be inaccurate.\n",
      "2022-09-15 12:16:33.225301: W tensorflow/core/common_runtime/graph_constructor.cc:805] Node 'cond/while' has 13 outputs but the _output_shapes attribute specifies shapes for 46 outputs. Output shapes may be inaccurate.\n",
      "2022-09-15 12:16:33.258739: W tensorflow/core/common_runtime/graph_constructor.cc:805] Node 'cond/while' has 13 outputs but the _output_shapes attribute specifies shapes for 46 outputs. Output shapes may be inaccurate.\n",
      "2022-09-15 12:16:33.285596: W tensorflow/core/common_runtime/graph_constructor.cc:805] Node 'cond/while' has 13 outputs but the _output_shapes attribute specifies shapes for 46 outputs. Output shapes may be inaccurate.\n",
      "2022-09-15 12:16:33.294649: W tensorflow/core/common_runtime/graph_constructor.cc:805] Node 'cond' has 5 outputs but the _output_shapes attribute specifies shapes for 46 outputs. Output shapes may be inaccurate.\n",
      "2022-09-15 12:16:33.375266: W tensorflow/core/common_runtime/graph_constructor.cc:805] Node 'cond/while' has 13 outputs but the _output_shapes attribute specifies shapes for 46 outputs. Output shapes may be inaccurate.\n",
      "2022-09-15 12:16:33.384081: W tensorflow/core/common_runtime/graph_constructor.cc:805] Node 'cond' has 5 outputs but the _output_shapes attribute specifies shapes for 46 outputs. Output shapes may be inaccurate.\n",
      "2022-09-15 12:16:33.704194: W tensorflow/core/common_runtime/graph_constructor.cc:805] Node 'cond/while' has 13 outputs but the _output_shapes attribute specifies shapes for 46 outputs. Output shapes may be inaccurate.\n",
      "2022-09-15 12:16:33.810952: W tensorflow/core/common_runtime/graph_constructor.cc:805] Node 'cond' has 5 outputs but the _output_shapes attribute specifies shapes for 46 outputs. Output shapes may be inaccurate.\n",
      "2022-09-15 12:16:33.850335: W tensorflow/core/common_runtime/graph_constructor.cc:805] Node 'cond' has 5 outputs but the _output_shapes attribute specifies shapes for 46 outputs. Output shapes may be inaccurate.\n",
      "2022-09-15 12:16:34.086679: W tensorflow/core/common_runtime/graph_constructor.cc:805] Node 'cond/while' has 13 outputs but the _output_shapes attribute specifies shapes for 46 outputs. Output shapes may be inaccurate.\n",
      "2022-09-15 12:16:34.100135: W tensorflow/core/common_runtime/graph_constructor.cc:805] Node 'cond' has 5 outputs but the _output_shapes attribute specifies shapes for 46 outputs. Output shapes may be inaccurate.\n",
      "2022-09-15 12:16:34.120051: W tensorflow/core/common_runtime/graph_constructor.cc:805] Node 'cond' has 5 outputs but the _output_shapes attribute specifies shapes for 46 outputs. Output shapes may be inaccurate.\n",
      "2022-09-15 12:16:34.134112: W tensorflow/core/common_runtime/graph_constructor.cc:805] Node 'cond/while' has 13 outputs but the _output_shapes attribute specifies shapes for 46 outputs. Output shapes may be inaccurate.\n",
      "2022-09-15 12:16:34.614233: W tensorflow/core/common_runtime/graph_constructor.cc:805] Node 'cond/while' has 13 outputs but the _output_shapes attribute specifies shapes for 46 outputs. Output shapes may be inaccurate.\n",
      "2022-09-15 12:16:34.929157: W tensorflow/core/common_runtime/graph_constructor.cc:805] Node 'cond' has 5 outputs but the _output_shapes attribute specifies shapes for 46 outputs. Output shapes may be inaccurate.\n",
      "2022-09-15 12:16:35.087004: W tensorflow/core/common_runtime/graph_constructor.cc:805] Node 'cond/while' has 13 outputs but the _output_shapes attribute specifies shapes for 46 outputs. Output shapes may be inaccurate.\n",
      "2022-09-15 12:16:35.097156: W tensorflow/core/common_runtime/graph_constructor.cc:805] Node 'cond' has 5 outputs but the _output_shapes attribute specifies shapes for 46 outputs. Output shapes may be inaccurate.\n",
      "2022-09-15 12:16:35.411994: W tensorflow/core/common_runtime/graph_constructor.cc:805] Node 'cond/while' has 13 outputs but the _output_shapes attribute specifies shapes for 46 outputs. Output shapes may be inaccurate.\n",
      "2022-09-15 12:16:35.448451: W tensorflow/core/common_runtime/graph_constructor.cc:805] Node 'cond' has 5 outputs but the _output_shapes attribute specifies shapes for 46 outputs. Output shapes may be inaccurate.\n",
      "2022-09-15 12:16:35.605070: W tensorflow/core/common_runtime/graph_constructor.cc:805] Node 'cond' has 5 outputs but the _output_shapes attribute specifies shapes for 46 outputs. Output shapes may be inaccurate.\n",
      "2022-09-15 12:16:35.652288: W tensorflow/core/common_runtime/graph_constructor.cc:805] Node 'cond' has 5 outputs but the _output_shapes attribute specifies shapes for 46 outputs. Output shapes may be inaccurate.\n",
      "2022-09-15 12:16:35.707308: W tensorflow/core/common_runtime/graph_constructor.cc:805] Node 'cond' has 5 outputs but the _output_shapes attribute specifies shapes for 46 outputs. Output shapes may be inaccurate.\n",
      "2022-09-15 12:16:35.722555: W tensorflow/core/common_runtime/graph_constructor.cc:805] Node 'cond/while' has 13 outputs but the _output_shapes attribute specifies shapes for 46 outputs. Output shapes may be inaccurate.\n",
      "2022-09-15 12:16:35.733541: W tensorflow/core/common_runtime/graph_constructor.cc:805] Node 'cond' has 5 outputs but the _output_shapes attribute specifies shapes for 46 outputs. Output shapes may be inaccurate.\n",
      "2022-09-15 12:16:35.803536: W tensorflow/core/common_runtime/graph_constructor.cc:805] Node 'cond/while' has 13 outputs but the _output_shapes attribute specifies shapes for 46 outputs. Output shapes may be inaccurate.\n",
      "2022-09-15 12:16:35.814654: W tensorflow/core/common_runtime/graph_constructor.cc:805] Node 'cond' has 5 outputs but the _output_shapes attribute specifies shapes for 46 outputs. Output shapes may be inaccurate.\n"
     ]
    },
    {
     "name": "stderr",
     "output_type": "stream",
     "text": [
      "2022-09-15 12:16:36.374437: W tensorflow/core/common_runtime/graph_constructor.cc:805] Node 'cond/while' has 13 outputs but the _output_shapes attribute specifies shapes for 46 outputs. Output shapes may be inaccurate.\n",
      "2022-09-15 12:16:36.385784: W tensorflow/core/common_runtime/graph_constructor.cc:805] Node 'cond' has 5 outputs but the _output_shapes attribute specifies shapes for 46 outputs. Output shapes may be inaccurate.\n",
      "2022-09-15 12:16:36.828925: W tensorflow/core/common_runtime/graph_constructor.cc:805] Node 'cond/while' has 13 outputs but the _output_shapes attribute specifies shapes for 46 outputs. Output shapes may be inaccurate.\n",
      "2022-09-15 12:16:36.839676: W tensorflow/core/common_runtime/graph_constructor.cc:805] Node 'cond' has 5 outputs but the _output_shapes attribute specifies shapes for 46 outputs. Output shapes may be inaccurate.\n",
      "2022-09-15 12:16:36.958488: W tensorflow/core/common_runtime/graph_constructor.cc:805] Node 'cond/while' has 13 outputs but the _output_shapes attribute specifies shapes for 46 outputs. Output shapes may be inaccurate.\n",
      "2022-09-15 12:16:36.967886: W tensorflow/core/common_runtime/graph_constructor.cc:805] Node 'cond' has 5 outputs but the _output_shapes attribute specifies shapes for 46 outputs. Output shapes may be inaccurate.\n",
      "2022-09-15 12:16:37.017433: W tensorflow/core/common_runtime/graph_constructor.cc:805] Node 'cond/while' has 13 outputs but the _output_shapes attribute specifies shapes for 46 outputs. Output shapes may be inaccurate.\n",
      "2022-09-15 12:16:37.025818: W tensorflow/core/common_runtime/graph_constructor.cc:805] Node 'cond' has 5 outputs but the _output_shapes attribute specifies shapes for 46 outputs. Output shapes may be inaccurate.\n",
      "2022-09-15 12:16:37.040540: W tensorflow/core/common_runtime/graph_constructor.cc:805] Node 'cond/while' has 13 outputs but the _output_shapes attribute specifies shapes for 46 outputs. Output shapes may be inaccurate.\n",
      "2022-09-15 12:16:37.050704: W tensorflow/core/common_runtime/graph_constructor.cc:805] Node 'cond' has 5 outputs but the _output_shapes attribute specifies shapes for 46 outputs. Output shapes may be inaccurate.\n",
      "2022-09-15 12:16:37.176361: W tensorflow/core/common_runtime/graph_constructor.cc:805] Node 'cond' has 5 outputs but the _output_shapes attribute specifies shapes for 46 outputs. Output shapes may be inaccurate.\n",
      "2022-09-15 12:16:37.207005: W tensorflow/core/common_runtime/graph_constructor.cc:805] Node 'cond' has 5 outputs but the _output_shapes attribute specifies shapes for 46 outputs. Output shapes may be inaccurate.\n",
      "2022-09-15 12:16:37.310650: W tensorflow/core/common_runtime/graph_constructor.cc:805] Node 'cond' has 5 outputs but the _output_shapes attribute specifies shapes for 46 outputs. Output shapes may be inaccurate.\n",
      "2022-09-15 12:16:37.832552: W tensorflow/core/common_runtime/graph_constructor.cc:805] Node 'cond/while' has 13 outputs but the _output_shapes attribute specifies shapes for 46 outputs. Output shapes may be inaccurate.\n",
      "2022-09-15 12:16:37.842591: W tensorflow/core/common_runtime/graph_constructor.cc:805] Node 'cond' has 5 outputs but the _output_shapes attribute specifies shapes for 46 outputs. Output shapes may be inaccurate.\n"
     ]
    },
    {
     "name": "stdout",
     "output_type": "stream",
     "text": [
      "Model: \"model_1\"\n",
      "__________________________________________________________________________________________________\n",
      " Layer (type)                   Output Shape         Param #     Connected to                     \n",
      "==================================================================================================\n",
      " input_2 (InputLayer)           [(None, 65)]         0           []                               \n",
      "                                                                                                  \n",
      " input_3 (InputLayer)           [(None, 65)]         0           []                               \n",
      "                                                                                                  \n",
      " model (Functional)             (None, 180)          168300      ['input_2[0][0]',                \n",
      "                                                                  'input_3[0][0]']                \n",
      "                                                                                                  \n",
      " lambda (Lambda)                (None, 1)            0           ['model[0][0]',                  \n",
      "                                                                  'model[1][0]']                  \n",
      "                                                                                                  \n",
      " batch_normalization_1 (BatchNo  (None, 1)           4           ['lambda[0][0]']                 \n",
      " rmalization)                                                                                     \n",
      "                                                                                                  \n",
      " dense_1 (Dense)                (None, 1)            2           ['batch_normalization_1[0][0]']  \n",
      "                                                                                                  \n",
      "==================================================================================================\n",
      "Total params: 168,306\n",
      "Trainable params: 167,904\n",
      "Non-trainable params: 402\n",
      "__________________________________________________________________________________________________\n"
     ]
    }
   ],
   "source": [
    "model = tf.keras.models.load_model(\n",
    "    './saved_models/{}'.format(model_config[\"Model_Name\"]), \n",
    "    custom_objects = {\n",
    "        'CosineDistance': CosineDistance,\n",
    "        'ContrastiveLoss': ContrastiveLoss\n",
    "    }, \n",
    "    compile=True, \n",
    "    options=None\n",
    ")\n",
    "model.summary()"
   ]
  },
  {
   "cell_type": "code",
   "execution_count": 5,
   "id": "57e30d50",
   "metadata": {},
   "outputs": [
    {
     "name": "stdout",
     "output_type": "stream",
     "text": [
      "<class 'pandas.core.frame.DataFrame'>\n",
      "RangeIndex: 389386 entries, 0 to 389385\n",
      "Data columns (total 1 columns):\n",
      " #   Column              Non-Null Count   Dtype \n",
      "---  ------              --------------   ----- \n",
      " 0   drug_name_original  389385 non-null  object\n",
      "dtypes: object(1)\n",
      "memory usage: 3.0+ MB\n",
      "None\n",
      "Processing file: ----------------------------------------\n",
      "Renaming colums:\n",
      "\tCurrent names: Index(['drug_name_original'], dtype='object')\n",
      "\tNew names: Index(['x'], dtype='object')\n",
      "Dropping row with empty cells:\n",
      "\tDropped 1 rows with empty cells.\n",
      "\tCleaning string sequences.\n",
      "\tUppercasing string sequences.\n",
      "Dropping sequences longer than the maxlen of 65:\n",
      "\tDropped 7751 that exceeded the maximum sequence length.\n",
      "Dropping duplicate sequences:\n",
      "\tDropped 41849 duplicate sequences.\n",
      "Done processing: ---------------------------------------\n",
      "<class 'pandas.core.frame.DataFrame'>\n",
      "RangeIndex: 339785 entries, 0 to 339784\n",
      "Data columns (total 1 columns):\n",
      " #   Column  Non-Null Count   Dtype \n",
      "---  ------  --------------   ----- \n",
      " 0   x       339785 non-null  object\n",
      "dtypes: object(1)\n",
      "memory usage: 2.6+ MB\n",
      "None\n",
      "Encoding and Padding: ----------------------------------\n",
      "\tProcessing x\n",
      "Tagging: -----------------------------------------------\n"
     ]
    }
   ],
   "source": [
    "unmapped_sequences = encode_pad_tag(preprocessInput(\"../data/unmapped-faers-drug-strings-Q12004-through-Q2-2021-extended-NP-vocab-09012022.tsv\", maxlen= model_config['MAXLEN'], balance=False, reflexive = False, sep=\"\\t\"), match = 1, distance = 0, maxlen = model_config['MAXLEN'] )"
   ]
  },
  {
   "cell_type": "code",
   "execution_count": 6,
   "id": "67c96b1f",
   "metadata": {},
   "outputs": [],
   "source": [
    "dUnique_df = pd.read_pickle(\"../data/dUnique_df.pkl\")"
   ]
  },
  {
   "cell_type": "code",
   "execution_count": 7,
   "id": "eb5a591e",
   "metadata": {},
   "outputs": [
    {
     "name": "stdout",
     "output_type": "stream",
     "text": [
      "<class 'pandas.core.frame.DataFrame'>\n",
      "RangeIndex: 1299 entries, 0 to 1298\n",
      "Data columns (total 2 columns):\n",
      " #   Column    Non-Null Count  Dtype \n",
      "---  ------    --------------  ----- \n",
      " 0   lb        1299 non-null   object\n",
      " 1   mappings  1299 non-null   object\n",
      "dtypes: object(2)\n",
      "memory usage: 20.4+ KB\n",
      "None\n",
      "Processing file: ----------------------------------------\n",
      "Renaming colums:\n",
      "\tCurrent names: Index(['lb', 'mappings'], dtype='object')\n",
      "\tNew names: Index(['x', 'y'], dtype='object')\n",
      "Dropping row with empty cells:\n",
      "\tDropped 0 rows with empty cells.\n",
      "\tCleaning string sequences.\n",
      "\tUppercasing string sequences.\n",
      "Dropping sequences longer than the maxlen of 65:\n",
      "\tDropped 0 that exceeded the maximum sequence length.\n",
      "Dropping duplicate sequences:\n",
      "\tDropped 321 duplicate sequences.\n",
      "Done processing: ---------------------------------------\n",
      "<class 'pandas.core.frame.DataFrame'>\n",
      "RangeIndex: 2277 entries, 0 to 2276\n",
      "Data columns (total 2 columns):\n",
      " #   Column  Non-Null Count  Dtype \n",
      "---  ------  --------------  ----- \n",
      " 0   x       2277 non-null   object\n",
      " 1   y       2277 non-null   object\n",
      "dtypes: object(2)\n",
      "memory usage: 35.7+ KB\n",
      "None\n"
     ]
    }
   ],
   "source": [
    "latin_2_common = preprocessInput('../data/vocabulary_LB_to_common_names_09082022.tsv', maxlen= model_config['MAXLEN'], reflexive=True, balance = False, sep='\\t')"
   ]
  },
  {
   "cell_type": "code",
   "execution_count": 8,
   "id": "18b3dcd8",
   "metadata": {},
   "outputs": [
    {
     "name": "stdout",
     "output_type": "stream",
     "text": [
      "<class 'pandas.core.frame.DataFrame'>\n",
      "RangeIndex: 728 entries, 0 to 727\n",
      "Data columns (total 2 columns):\n",
      " #   Column          Non-Null Count  Dtype \n",
      "---  ------          --------------  ----- \n",
      " 0   common_name     728 non-null    object\n",
      " 1   latin_binomial  728 non-null    object\n",
      "dtypes: object(2)\n",
      "memory usage: 11.5+ KB\n",
      "None\n",
      "Processing file: ----------------------------------------\n",
      "Renaming colums:\n",
      "\tCurrent names: Index(['common_name', 'latin_binomial'], dtype='object')\n",
      "\tNew names: Index(['x', 'y'], dtype='object')\n",
      "Dropping row with empty cells:\n",
      "\tDropped 0 rows with empty cells.\n",
      "\tCleaning string sequences.\n",
      "\tUppercasing string sequences.\n",
      "Dropping sequences longer than the maxlen of 65:\n",
      "\tDropped 0 that exceeded the maximum sequence length.\n",
      "Dropping duplicate sequences:\n",
      "\tDropped 728 duplicate sequences.\n",
      "Done processing: ---------------------------------------\n",
      "<class 'pandas.core.frame.DataFrame'>\n",
      "RangeIndex: 728 entries, 0 to 727\n",
      "Data columns (total 2 columns):\n",
      " #   Column  Non-Null Count  Dtype \n",
      "---  ------  --------------  ----- \n",
      " 0   x       728 non-null    object\n",
      " 1   y       728 non-null    object\n",
      "dtypes: object(2)\n",
      "memory usage: 11.5+ KB\n",
      "None\n"
     ]
    }
   ],
   "source": [
    "common_2_latin = preprocessInput('../data/positive-unmapped-pairs-common-name-or-latin-binomial-copies.tsv', maxlen= model_config['MAXLEN'], reflexive=True, balance = False, sep='\\t')"
   ]
  },
  {
   "cell_type": "code",
   "execution_count": 9,
   "id": "1c8d62fb",
   "metadata": {},
   "outputs": [
    {
     "name": "stdout",
     "output_type": "stream",
     "text": [
      "<class 'pandas.core.frame.DataFrame'>\n",
      "RangeIndex: 10838 entries, 0 to 10837\n",
      "Data columns (total 2 columns):\n",
      " #   Column       Non-Null Count  Dtype \n",
      "---  ------       --------------  ----- \n",
      " 0   name         10838 non-null  object\n",
      " 1   common_name  199 non-null    object\n",
      "dtypes: object(2)\n",
      "memory usage: 169.5+ KB\n",
      "None\n",
      "Processing file: ----------------------------------------\n",
      "Renaming colums:\n",
      "\tCurrent names: Index(['name', 'common_name'], dtype='object')\n",
      "\tNew names: Index(['x', 'y'], dtype='object')\n",
      "Dropping row with empty cells:\n",
      "\tDropped 10639 rows with empty cells.\n",
      "\tCleaning string sequences.\n",
      "\tUppercasing string sequences.\n",
      "Dropping sequences longer than the maxlen of 65:\n",
      "\tDropped 0 that exceeded the maximum sequence length.\n",
      "Dropping duplicate sequences:\n",
      "\tDropped 0 duplicate sequences.\n",
      "Done processing: ---------------------------------------\n",
      "<class 'pandas.core.frame.DataFrame'>\n",
      "RangeIndex: 398 entries, 0 to 397\n",
      "Data columns (total 2 columns):\n",
      " #   Column  Non-Null Count  Dtype \n",
      "---  ------  --------------  ----- \n",
      " 0   x       398 non-null    object\n",
      " 1   y       398 non-null    object\n",
      "dtypes: object(2)\n",
      "memory usage: 6.3+ KB\n",
      "None\n"
     ]
    }
   ],
   "source": [
    "gsrs_2_common = preprocessInput('../data/positive-unmapped-pairs-gsrs-name-to-common-name.tsv', maxlen= model_config['MAXLEN'], reflexive=True, balance = False, sep='\\t')"
   ]
  },
  {
   "cell_type": "code",
   "execution_count": 36,
   "id": "75b57169",
   "metadata": {},
   "outputs": [],
   "source": [
    "equivalence_set = pd.concat([latin_2_common, common_2_latin, gsrs_2_common], ignore_index=True)\n",
    "equivalence_set.drop_duplicates(subset=['x', 'y'], inplace=True)"
   ]
  },
  {
   "cell_type": "code",
   "execution_count": 37,
   "id": "a6024502",
   "metadata": {},
   "outputs": [],
   "source": [
    "results = find_Model_ranks(model, df = unmapped_sequences.sample(n=300), ranks = 20, targets= dUnique_df, equivalence_set = equivalence_set)"
   ]
  },
  {
   "cell_type": "code",
   "execution_count": 38,
   "id": "f82e7b0c",
   "metadata": {},
   "outputs": [],
   "source": [
    "results = results.iloc[:, ~results.columns.isin(['Processed_x', 'Match', 'Distance'])]"
   ]
  },
  {
   "cell_type": "code",
   "execution_count": 39,
   "id": "ef488305",
   "metadata": {},
   "outputs": [
    {
     "data": {
      "text/html": [
       "<div>\n",
       "<style scoped>\n",
       "    .dataframe tbody tr th:only-of-type {\n",
       "        vertical-align: middle;\n",
       "    }\n",
       "\n",
       "    .dataframe tbody tr th {\n",
       "        vertical-align: top;\n",
       "    }\n",
       "\n",
       "    .dataframe thead th {\n",
       "        text-align: right;\n",
       "    }\n",
       "</style>\n",
       "<table border=\"1\" class=\"dataframe\">\n",
       "  <thead>\n",
       "    <tr style=\"text-align: right;\">\n",
       "      <th></th>\n",
       "      <th>x</th>\n",
       "      <th>rank1</th>\n",
       "      <th>rank2</th>\n",
       "      <th>rank3</th>\n",
       "      <th>rank4</th>\n",
       "      <th>rank5</th>\n",
       "      <th>rank6</th>\n",
       "      <th>rank7</th>\n",
       "      <th>rank8</th>\n",
       "      <th>rank9</th>\n",
       "      <th>...</th>\n",
       "      <th>rank11</th>\n",
       "      <th>rank12</th>\n",
       "      <th>rank13</th>\n",
       "      <th>rank14</th>\n",
       "      <th>rank15</th>\n",
       "      <th>rank16</th>\n",
       "      <th>rank17</th>\n",
       "      <th>rank18</th>\n",
       "      <th>rank19</th>\n",
       "      <th>rank20</th>\n",
       "    </tr>\n",
       "  </thead>\n",
       "  <tbody>\n",
       "    <tr>\n",
       "      <th>15244</th>\n",
       "      <td>ZICAM ALLERGY RELIEF NASAL GEL A</td>\n",
       "      <td>AAI</td>\n",
       "      <td>HELICHRYSUM ARENARIUM</td>\n",
       "      <td>HONG JING TIAN</td>\n",
       "      <td>ILEX PARAGUARIENSIS</td>\n",
       "      <td>ZINGIBER OFFICINALE</td>\n",
       "      <td>BALSAMAPPLE</td>\n",
       "      <td>BALLOTA NIGRA</td>\n",
       "      <td>BALLOTA</td>\n",
       "      <td>KAWA PEPPER</td>\n",
       "      <td>...</td>\n",
       "      <td>KOLA</td>\n",
       "      <td>KRATOM</td>\n",
       "      <td>KRATUM</td>\n",
       "      <td>LIAN</td>\n",
       "      <td>LOQUAT</td>\n",
       "      <td>MALVA SYLVESTRIS</td>\n",
       "      <td>MARRUBIUM NIGRUM</td>\n",
       "      <td>MELIA AZEDARACH</td>\n",
       "      <td>PIPER NIGRUM</td>\n",
       "      <td>PIPER METHYSTICUM</td>\n",
       "    </tr>\n",
       "    <tr>\n",
       "      <th>262137</th>\n",
       "      <td>SHUANGHUANGLIAN ML</td>\n",
       "      <td>COMMON VALERIAN</td>\n",
       "      <td>HYDRASTIS CANADENSIS</td>\n",
       "      <td>SHAN ZHU YU</td>\n",
       "      <td>GOLDENSEAL</td>\n",
       "      <td>CEYLON CINNAMON</td>\n",
       "      <td>HUANGLIAN</td>\n",
       "      <td>HUANG LIAN</td>\n",
       "      <td>SQUAW BALM</td>\n",
       "      <td>FIELD BALM</td>\n",
       "      <td>...</td>\n",
       "      <td>PHYLLANTHUS AMARUS</td>\n",
       "      <td>YELLOW ROOT</td>\n",
       "      <td>SUAN CHENG</td>\n",
       "      <td>CHUI XU SHANG LU</td>\n",
       "      <td>COPTIS CHINENSIS</td>\n",
       "      <td>SPINACH CHARD</td>\n",
       "      <td>HYDRASTIS CANADENSIS L</td>\n",
       "      <td>JUGLANS REGIA</td>\n",
       "      <td>ZHANG YE DA HUANG</td>\n",
       "      <td>HELICHRYSUM ARENARIUM</td>\n",
       "    </tr>\n",
       "    <tr>\n",
       "      <th>119707</th>\n",
       "      <td>RINDERON OPHTHALMIC SOLUTION</td>\n",
       "      <td>YAWROOT</td>\n",
       "      <td>BUTCHERSBROOM</td>\n",
       "      <td>INDIGOFERA HIRSUTA</td>\n",
       "      <td>DA HUA LONG YA CAO</td>\n",
       "      <td>WOODLAND HAWTHORN</td>\n",
       "      <td>GINGER</td>\n",
       "      <td>LAPACHO NEGRO</td>\n",
       "      <td>DANDELION</td>\n",
       "      <td>FRENCH LILAC</td>\n",
       "      <td>...</td>\n",
       "      <td>PAPOOSEROOTT</td>\n",
       "      <td>HANDROANTHUS HEPTAPHYLLUS</td>\n",
       "      <td>ROTAHORN</td>\n",
       "      <td>JOINTED CHARLOCK</td>\n",
       "      <td>AGRIMONIA EUPATORIA</td>\n",
       "      <td>LAURIER TULIPIER</td>\n",
       "      <td>ZANTHOXYLUM CLAVA</td>\n",
       "      <td>POGOSTEMON CABLIN</td>\n",
       "      <td>STILLINGIA SYLVATICA</td>\n",
       "      <td>TRIGONELLA FOENUM</td>\n",
       "    </tr>\n",
       "  </tbody>\n",
       "</table>\n",
       "<p>3 rows × 21 columns</p>\n",
       "</div>"
      ],
      "text/plain": [
       "                                       x            rank1  \\\n",
       "15244   ZICAM ALLERGY RELIEF NASAL GEL A              AAI   \n",
       "262137                SHUANGHUANGLIAN ML  COMMON VALERIAN   \n",
       "119707      RINDERON OPHTHALMIC SOLUTION          YAWROOT   \n",
       "\n",
       "                        rank2               rank3                rank4  \\\n",
       "15244   HELICHRYSUM ARENARIUM      HONG JING TIAN  ILEX PARAGUARIENSIS   \n",
       "262137   HYDRASTIS CANADENSIS         SHAN ZHU YU           GOLDENSEAL   \n",
       "119707          BUTCHERSBROOM  INDIGOFERA HIRSUTA   DA HUA LONG YA CAO   \n",
       "\n",
       "                      rank5        rank6          rank7       rank8  \\\n",
       "15244   ZINGIBER OFFICINALE  BALSAMAPPLE  BALLOTA NIGRA     BALLOTA   \n",
       "262137      CEYLON CINNAMON    HUANGLIAN     HUANG LIAN  SQUAW BALM   \n",
       "119707    WOODLAND HAWTHORN       GINGER  LAPACHO NEGRO   DANDELION   \n",
       "\n",
       "               rank9  ...              rank11                     rank12  \\\n",
       "15244    KAWA PEPPER  ...                KOLA                     KRATOM   \n",
       "262137    FIELD BALM  ...  PHYLLANTHUS AMARUS                YELLOW ROOT   \n",
       "119707  FRENCH LILAC  ...        PAPOOSEROOTT  HANDROANTHUS HEPTAPHYLLUS   \n",
       "\n",
       "            rank13            rank14               rank15            rank16  \\\n",
       "15244       KRATUM              LIAN               LOQUAT  MALVA SYLVESTRIS   \n",
       "262137  SUAN CHENG  CHUI XU SHANG LU     COPTIS CHINENSIS     SPINACH CHARD   \n",
       "119707    ROTAHORN  JOINTED CHARLOCK  AGRIMONIA EUPATORIA  LAURIER TULIPIER   \n",
       "\n",
       "                        rank17             rank18                rank19  \\\n",
       "15244         MARRUBIUM NIGRUM    MELIA AZEDARACH          PIPER NIGRUM   \n",
       "262137  HYDRASTIS CANADENSIS L      JUGLANS REGIA     ZHANG YE DA HUANG   \n",
       "119707       ZANTHOXYLUM CLAVA  POGOSTEMON CABLIN  STILLINGIA SYLVATICA   \n",
       "\n",
       "                       rank20  \n",
       "15244       PIPER METHYSTICUM  \n",
       "262137  HELICHRYSUM ARENARIUM  \n",
       "119707      TRIGONELLA FOENUM  \n",
       "\n",
       "[3 rows x 21 columns]"
      ]
     },
     "execution_count": 39,
     "metadata": {},
     "output_type": "execute_result"
    }
   ],
   "source": [
    "results.head(3)"
   ]
  },
  {
   "cell_type": "code",
   "execution_count": 40,
   "id": "ce52ac0b",
   "metadata": {},
   "outputs": [],
   "source": [
    "for i in results.index:\n",
    "    results.loc[i].to_csv(\"./Novelty_Results/{}.csv\".format(i), sep='\\n', header= False, index=False)"
   ]
  },
  {
   "cell_type": "code",
   "execution_count": null,
   "id": "4e30367e",
   "metadata": {},
   "outputs": [],
   "source": []
  }
 ],
 "metadata": {
  "kernelspec": {
   "display_name": "Python 3 (ipykernel)",
   "language": "python",
   "name": "python3"
  },
  "language_info": {
   "codemirror_mode": {
    "name": "ipython",
    "version": 3
   },
   "file_extension": ".py",
   "mimetype": "text/x-python",
   "name": "python",
   "nbconvert_exporter": "python",
   "pygments_lexer": "ipython3",
   "version": "3.10.5"
  }
 },
 "nbformat": 4,
 "nbformat_minor": 5
}
