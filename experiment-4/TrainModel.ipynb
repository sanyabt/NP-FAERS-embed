{
 "cells": [
  {
   "cell_type": "markdown",
   "id": "37df1e8d",
   "metadata": {},
   "source": [
    "# Imports & Globals"
   ]
  },
  {
   "cell_type": "code",
   "execution_count": 1,
   "id": "73b3316d",
   "metadata": {},
   "outputs": [],
   "source": [
    "import numpy as np\n",
    "import pandas as pd\n",
    "import matplotlib.pyplot as plt\n",
    "import datetime\n",
    "from yaml import safe_load \n",
    "from typing import Literal"
   ]
  },
  {
   "cell_type": "code",
   "execution_count": 2,
   "id": "8705fa5a",
   "metadata": {},
   "outputs": [],
   "source": [
    "%matplotlib inline"
   ]
  },
  {
   "cell_type": "code",
   "execution_count": 3,
   "id": "e52cfce5",
   "metadata": {},
   "outputs": [
    {
     "name": "stdout",
     "output_type": "stream",
     "text": [
      "tf.version:  2.9.1\n",
      "tf.keras.version:  2.9.0\n",
      "tf.config.devices:  [PhysicalDevice(name='/physical_device:CPU:0', device_type='CPU'), PhysicalDevice(name='/physical_device:GPU:0', device_type='GPU')]\n"
     ]
    },
    {
     "name": "stderr",
     "output_type": "stream",
     "text": [
      "2022-08-29 14:43:24.079974: I tensorflow/stream_executor/cuda/cuda_gpu_executor.cc:975] successful NUMA node read from SysFS had negative value (-1), but there must be at least one NUMA node, so returning NUMA node zero\n",
      "2022-08-29 14:43:24.107510: I tensorflow/stream_executor/cuda/cuda_gpu_executor.cc:975] successful NUMA node read from SysFS had negative value (-1), but there must be at least one NUMA node, so returning NUMA node zero\n",
      "2022-08-29 14:43:24.107744: I tensorflow/stream_executor/cuda/cuda_gpu_executor.cc:975] successful NUMA node read from SysFS had negative value (-1), but there must be at least one NUMA node, so returning NUMA node zero\n"
     ]
    }
   ],
   "source": [
    "import tensorflow as tf\n",
    "#@title Versions:\n",
    "print(\"tf.version: \", tf.version.VERSION)\n",
    "print(\"tf.keras.version: \", tf.keras.__version__)\n",
    "print(\"tf.config.devices: \", tf.config.list_physical_devices())"
   ]
  },
  {
   "cell_type": "code",
   "execution_count": 4,
   "id": "99764632",
   "metadata": {},
   "outputs": [],
   "source": [
    "# tf.compat.v1.enable_eager_execution()\n",
    "# tf.compat.v1.disable_eager_execution()\n",
    "# from tensorflow.python.ops.numpy_ops import np_config\n",
    "# np_config.enable_numpy_behavior()"
   ]
  },
  {
   "cell_type": "code",
   "execution_count": 5,
   "id": "c6314444",
   "metadata": {},
   "outputs": [
    {
     "name": "stderr",
     "output_type": "stream",
     "text": [
      "2022-08-29 14:43:24.125893: I tensorflow/core/platform/cpu_feature_guard.cc:193] This TensorFlow binary is optimized with oneAPI Deep Neural Network Library (oneDNN) to use the following CPU instructions in performance-critical operations:  SSE4.1 SSE4.2 AVX AVX2 FMA\n",
      "To enable them in other operations, rebuild TensorFlow with the appropriate compiler flags.\n",
      "2022-08-29 14:43:24.126548: I tensorflow/stream_executor/cuda/cuda_gpu_executor.cc:975] successful NUMA node read from SysFS had negative value (-1), but there must be at least one NUMA node, so returning NUMA node zero\n",
      "2022-08-29 14:43:24.126730: I tensorflow/stream_executor/cuda/cuda_gpu_executor.cc:975] successful NUMA node read from SysFS had negative value (-1), but there must be at least one NUMA node, so returning NUMA node zero\n",
      "2022-08-29 14:43:24.126839: I tensorflow/stream_executor/cuda/cuda_gpu_executor.cc:975] successful NUMA node read from SysFS had negative value (-1), but there must be at least one NUMA node, so returning NUMA node zero\n",
      "2022-08-29 14:43:24.564748: I tensorflow/stream_executor/cuda/cuda_gpu_executor.cc:975] successful NUMA node read from SysFS had negative value (-1), but there must be at least one NUMA node, so returning NUMA node zero\n",
      "2022-08-29 14:43:24.564912: I tensorflow/stream_executor/cuda/cuda_gpu_executor.cc:975] successful NUMA node read from SysFS had negative value (-1), but there must be at least one NUMA node, so returning NUMA node zero\n",
      "2022-08-29 14:43:24.565020: I tensorflow/stream_executor/cuda/cuda_gpu_executor.cc:975] successful NUMA node read from SysFS had negative value (-1), but there must be at least one NUMA node, so returning NUMA node zero\n",
      "2022-08-29 14:43:24.565106: I tensorflow/core/common_runtime/gpu/gpu_device.cc:1532] Created device /device:GPU:0 with 6596 MB memory:  -> device: 0, name: NVIDIA GeForce RTX 2070 with Max-Q Design, pci bus id: 0000:01:00.0, compute capability: 7.5\n"
     ]
    }
   ],
   "source": [
    "# # Check that GPU is available: cf. https://colab.research.google.com/notebooks/gpu.ipynb\n",
    "assert(tf.test.gpu_device_name())\n",
    "\n",
    "tf.keras.backend.clear_session()\n",
    "tf.config.optimizer.set_jit(True) # Enable XLA."
   ]
  },
  {
   "cell_type": "code",
   "execution_count": 6,
   "id": "b965151e",
   "metadata": {},
   "outputs": [
    {
     "data": {
      "text/plain": [
       "True"
      ]
     },
     "execution_count": 6,
     "metadata": {},
     "output_type": "execute_result"
    }
   ],
   "source": [
    "tf.executing_eagerly()"
   ]
  },
  {
   "cell_type": "code",
   "execution_count": 7,
   "id": "b84ba337",
   "metadata": {},
   "outputs": [],
   "source": [
    "with open('LSTM65.yaml', 'r') as file:\n",
    "    model_config = safe_load(file)"
   ]
  },
  {
   "cell_type": "code",
   "execution_count": 8,
   "id": "bf18162e",
   "metadata": {},
   "outputs": [],
   "source": [
    "#Maximum sequence length including padding\n",
    "global MAXLEN\n",
    "MAXLEN = model_config['MAXLEN']"
   ]
  },
  {
   "cell_type": "markdown",
   "id": "34891f72",
   "metadata": {},
   "source": [
    "# Load data from csv"
   ]
  },
  {
   "cell_type": "code",
   "execution_count": 9,
   "id": "b4ed9c3d",
   "metadata": {},
   "outputs": [
    {
     "name": "stdout",
     "output_type": "stream",
     "text": [
      "0    20811\n",
      "1    22816\n",
      "Name: y, dtype: int64\n",
      "0    5196\n",
      "1    5711\n",
      "Name: y, dtype: int64\n"
     ]
    }
   ],
   "source": [
    "if \"x1TrainRnnS\" not in locals():\n",
    "    train = pd.read_pickle(\"../data/proccesed_train_set.pkl\")\n",
    "    x1TrainRnnS, x2TrainRnnS = train[[\"x1\", \"x2\"]].applymap(lambda x: np.asarray(x).astype('float32')).values.T\n",
    "    yTrainRnnS = train[\"y\"].astype('float32')\n",
    "    print(train[\"y\"].value_counts(ascending=True))\n",
    "    del train\n",
    "        \n",
    "    test = pd.read_pickle(\"../data/proccesed_test_set.pkl\")\n",
    "    x1ValRnnS, x2ValRnnS = test[[\"x1\", \"x2\"]].applymap(lambda x: np.asarray(x).astype('float32')).values.T\n",
    "    yValRnnS = test[\"y\"].astype('float32')\n",
    "    print(test[\"y\"].value_counts(ascending=True))\n",
    "    del test"
   ]
  },
  {
   "cell_type": "code",
   "execution_count": 10,
   "id": "0e7eb342",
   "metadata": {},
   "outputs": [],
   "source": [
    "# del x1TrainRnnS"
   ]
  },
  {
   "cell_type": "markdown",
   "id": "ffdcd664",
   "metadata": {},
   "source": [
    "--------------------------------"
   ]
  },
  {
   "cell_type": "code",
   "execution_count": 11,
   "id": "6c1b0ae7",
   "metadata": {},
   "outputs": [],
   "source": [
    "vectors = [[[1.0,2.0,3.0], [1.0,2.0,3.0]] , [[3.0,4.0,5.0],[3.0,4.0,5.0]]]"
   ]
  },
  {
   "cell_type": "code",
   "execution_count": 12,
   "id": "ecffcf43",
   "metadata": {},
   "outputs": [],
   "source": [
    "class CosineSimilarity(tf.keras.layers.Layer):\n",
    "    '''Cosine similarity to be calculated as sum(x*y)/(sqrt(sum(x))*sqrt(sum(y))).\n",
    "    This is achieved through Tensorflow functions to retain performance.\n",
    "    \n",
    "    Parameters\n",
    "    ----------\n",
    "    vects: tf.TensorArray\n",
    "    \n",
    "    Returns\n",
    "    -------\n",
    "    cosine_similarity: tf.TensorArray\n",
    "       The result of the cosine similarity between the vectors.    \n",
    "    '''\n",
    "    __name__ = 'CosineSimilarity'\n",
    "    def __init__(self, **kwargs):\n",
    "        super(CosineSimilarity, self).__init__()\n",
    "       \n",
    "    @tf.function  # The decorator converts `cosine_similarity` into a tensolflow `Function`.\n",
    "    def call(self, vects: tf.TensorArray) -> tf.TensorArray:\n",
    "        x, y = vects\n",
    "        return tf.math.divide(tf.reduce_sum(tf.multiply(x,y), axis=1, keepdims=True), tf.multiply(tf.norm(x, ord=2, axis=1, keepdims=True), tf.norm(y, ord=2, axis=1, keepdims=True)))\n",
    "\n",
    "    def get_config(self):\n",
    "        return super(CosineSimilarity, self).get_config()\n",
    "    \n",
    "    @classmethod\n",
    "    def from_config(cls, config):\n",
    "        return cls(**config)"
   ]
  },
  {
   "cell_type": "code",
   "execution_count": 13,
   "id": "00a72ef0",
   "metadata": {},
   "outputs": [],
   "source": [
    "cosine_similarity = CosineSimilarity()\n",
    "cosine_similarity.call(vectors)"
   ]
  },
  {
   "cell_type": "code",
   "execution_count": 14,
   "id": "ff560c06",
   "metadata": {},
   "outputs": [],
   "source": [
    "class CosineDistance(tf.keras.layers.Layer):\n",
    "    '''Cosine distance to be calculated as 1-(cosine similarity).\n",
    "    Where cosine similarity equals sum(x*y)/(sqrt(sum(x))*sqrt(sum(y))).\n",
    "    This is achieved through Tensorflow functions to retain performance.\n",
    "    \n",
    "    Parameters\n",
    "    ----------\n",
    "    vects: tf.TensorArray\n",
    "        \n",
    "    \n",
    "    Returns\n",
    "    -------\n",
    "    cosine_distance: tf.TensorArray\n",
    "        The result of 1-cosine similarity between the vectors. \n",
    "    '''\n",
    "    __name__ = 'CosineDistance'\n",
    "    def __init__(self, **kwargs):\n",
    "        super(CosineDistance, self).__init__()\n",
    "       \n",
    "    @tf.function  # The decorator converts `cosine_distance` into a tensorflow `Function`.\n",
    "    def call(self, vects: tf.TensorArray) -> tf.TensorArray:\n",
    "        x, y = vects\n",
    "        return  tf.math.subtract(tf.constant([1.0]), tf.math.divide(tf.reduce_sum(tf.multiply(x,y), axis=1, keepdims=True), tf.multiply(tf.norm(x, ord=2, axis=1, keepdims=True), tf.norm(y, ord=2, axis=1, keepdims=True))))\n",
    "\n",
    "    def get_config(self):\n",
    "        return super(CosineDistance, self).get_config()\n",
    "    \n",
    "    @classmethod\n",
    "    def from_config(cls, config):\n",
    "        return cls(**config)"
   ]
  },
  {
   "cell_type": "code",
   "execution_count": 15,
   "id": "dafc3241",
   "metadata": {},
   "outputs": [],
   "source": [
    "cosine_distance = CosineDistance()\n",
    "cosine_distance.call(vectors)"
   ]
  },
  {
   "cell_type": "code",
   "execution_count": 16,
   "id": "a95fd124",
   "metadata": {},
   "outputs": [],
   "source": [
    "# 1 - 0.9827076 = 0.017292399999999986"
   ]
  },
  {
   "cell_type": "code",
   "execution_count": 17,
   "id": "dfcd3f95",
   "metadata": {},
   "outputs": [],
   "source": [
    "class ContrastiveLoss(tf.keras.losses.Loss):\n",
    "    '''Returns a value between 0 and 1 representing the average error of the y_pred vector by comparing it to the y_true.\n",
    "    '''\n",
    "    __name__ = 'ContrastiveLoss'\n",
    "    def __init__(self, margin: tf.float32 = 1.0, **kwargs):\n",
    "        super(ContrastiveLoss, self).__init__()\n",
    "        self.margin = tf.constant(margin)\n",
    "        \n",
    "    @tf.function # The decorator converts `loss` into a tensolflow `Function`.\n",
    "    def call(self, y_true: tf.TensorArray, y_pred: tf.TensorArray) -> tf.Tensor:\n",
    "        return tf.math.reduce_mean((1 - y_true) * tf.math.square(y_pred) + (y_true) * tf.math.square(tf.math.maximum(self.margin - (y_pred), 0.0)), axis = -1)\n",
    "    \n",
    "    def get_config(self):\n",
    "        config = super(ContrastiveLoss, self).get_config()\n",
    "        config.update({\n",
    "            \"margin\": str(self.margin)\n",
    "        })\n",
    "        return config\n",
    "    \n",
    "    @classmethod\n",
    "    def from_config(cls, config):\n",
    "        return cls(**config)"
   ]
  },
  {
   "cell_type": "code",
   "execution_count": 18,
   "id": "fc864cdd",
   "metadata": {},
   "outputs": [],
   "source": [
    "# a = ContrastiveLoss(margin = 1.0)\n",
    "# print(a.get_config())\n",
    "# tf.assert_ a.call(np.array([1,0,1]), np.array([1,0,1])).numpy() == 0.0\n",
    "# tf.assert_ a.call(np.array([0,0,0]), np.array([1,0,1])).numpy() >= 0.666\n",
    "# tf.assert_ a.call(np.array([0,1,0]), np.array([1,0,1])).numpy() >= 1.0"
   ]
  },
  {
   "cell_type": "code",
   "execution_count": 19,
   "id": "57038ab9",
   "metadata": {},
   "outputs": [],
   "source": [
    "def get_model(model_type: Literal[\"lstm\", \"gru\"], embedding_dim: int, num_rnn_node: int, num_dense_node: int, num_layer: int, activation_fn: str, learning_rate: float, optimizer_fn: Literal[\"Adam\", \"RMSprop\", \"SGD\"], margin: float, output_activation: str) -> tf.keras.Model: \n",
    "    '''Specifies the architecture of the model to be trained.\n",
    "    '''\n",
    "    input_x = tf.keras.layers.Input(MAXLEN)\n",
    "    input_1 = tf.keras.layers.Input(MAXLEN)\n",
    "    input_2 = tf.keras.layers.Input(MAXLEN)\n",
    "    embedding = tf.keras.layers.Embedding(input_dim=28, output_dim=embedding_dim, mask_zero=True)\n",
    "    x = embedding(input_x)\n",
    "    x = tf.keras.layers.BatchNormalization()(x)\n",
    "    \n",
    "    match model_type:\n",
    "        case \"lstm\":\n",
    "            x = tf.keras.layers.Bidirectional(tf.keras.layers.LSTM(num_rnn_node))(x)\n",
    "        case \"gru\":\n",
    "            x = tf.keras.layers.Bidirectional(tf.keras.layers.GRU(num_rnn_node))(x)\n",
    "        case \"rnn\":\n",
    "            x = tf.keras.layers.Bidirectional(tf.keras.layers.RNN(num_rnn_node))(x)\n",
    " \n",
    "    num = num_dense_node\n",
    "    for _ in range(num_layer):\n",
    "        x = tf.keras.layers.Dense(num, activation=activation_fn)(x)\n",
    "        num /= 2\n",
    "        \n",
    "    embedding_network = tf.keras.Model(input_x, x)\n",
    "\n",
    "    tower_1 = embedding_network(input_1)\n",
    "    tower_2 = embedding_network(input_2)\n",
    "\n",
    "#     cosine_similarity = CosineSimilarity()\n",
    "#     merge_layer = tf.keras.layers.Lambda(cosine_similarity)([tower_1, tower_2])\n",
    "    cosine_distance = CosineDistance()\n",
    "    merge_layer = tf.keras.layers.Lambda(cosine_distance)([tower_1, tower_2])\n",
    "    normal_layer = tf.keras.layers.BatchNormalization()(merge_layer)\n",
    "    output_layer = tf.keras.layers.Dense(1, activation=\"hard_sigmoid\")(normal_layer)\n",
    "    contr = tf.keras.Model(inputs=[input_1, input_2], outputs=output_layer)\n",
    "    \n",
    "    match optimizer_fn:\n",
    "        case \"Adam\":\n",
    "            opt = tf.keras.optimizers.Adam(learning_rate=learning_rate)\n",
    "        case \"RMSprop\":                \n",
    "            opt = tf.keras.optimizers.RMSprop(learning_rate=learning_rate)\n",
    "        case \"SGD\":                \n",
    "            opt = tf.keras.optimizers.SGD(learning_rate=learning_rate)\n",
    "\n",
    "    contr.compile(loss=ContrastiveLoss(margin = margin), optimizer=opt, metrics=[\"accuracy\"])\n",
    "    \n",
    "    return contr"
   ]
  },
  {
   "cell_type": "code",
   "execution_count": 20,
   "id": "e297fd75",
   "metadata": {},
   "outputs": [],
   "source": [
    "def plt_metric(history, metric, title, has_valid=True):\n",
    "    \"\"\"Plots the given 'metric' from 'history'.\n",
    "\n",
    "    Arguments:\n",
    "        history: history attribute of History object returned from Model.fit.\n",
    "        metric: Metric to plot, a string value present as key in 'history'.\n",
    "        title: A string to be used as title of plot.\n",
    "        has_valid: Boolean, true if valid data was passed to Model.fit else false.\n",
    "\n",
    "    Returns:\n",
    "        None.\n",
    "    \"\"\"\n",
    "    plt.plot(history[metric])\n",
    "    if has_valid:\n",
    "        plt.plot(history[\"val_\" + metric])\n",
    "        plt.legend([\"train\", \"validation\"], loc=\"upper left\")\n",
    "    plt.title(title)\n",
    "    plt.ylabel(metric)\n",
    "    plt.xlabel(\"epoch\")\n",
    "    plt.show()"
   ]
  },
  {
   "cell_type": "markdown",
   "id": "b7e10db6",
   "metadata": {},
   "source": [
    "# Build model, load weights and evaluate on test data"
   ]
  },
  {
   "cell_type": "code",
   "execution_count": 21,
   "id": "314b46ff",
   "metadata": {},
   "outputs": [
    {
     "name": "stderr",
     "output_type": "stream",
     "text": [
      "2022-08-29 14:43:25.366843: I tensorflow/stream_executor/cuda/cuda_gpu_executor.cc:975] successful NUMA node read from SysFS had negative value (-1), but there must be at least one NUMA node, so returning NUMA node zero\n",
      "2022-08-29 14:43:25.367018: I tensorflow/stream_executor/cuda/cuda_gpu_executor.cc:975] successful NUMA node read from SysFS had negative value (-1), but there must be at least one NUMA node, so returning NUMA node zero\n",
      "2022-08-29 14:43:25.367126: I tensorflow/stream_executor/cuda/cuda_gpu_executor.cc:975] successful NUMA node read from SysFS had negative value (-1), but there must be at least one NUMA node, so returning NUMA node zero\n",
      "2022-08-29 14:43:25.367260: I tensorflow/stream_executor/cuda/cuda_gpu_executor.cc:975] successful NUMA node read from SysFS had negative value (-1), but there must be at least one NUMA node, so returning NUMA node zero\n",
      "2022-08-29 14:43:25.367364: I tensorflow/stream_executor/cuda/cuda_gpu_executor.cc:975] successful NUMA node read from SysFS had negative value (-1), but there must be at least one NUMA node, so returning NUMA node zero\n",
      "2022-08-29 14:43:25.367442: I tensorflow/core/common_runtime/gpu/gpu_device.cc:1532] Created device /job:localhost/replica:0/task:0/device:GPU:0 with 6596 MB memory:  -> device: 0, name: NVIDIA GeForce RTX 2070 with Max-Q Design, pci bus id: 0000:01:00.0, compute capability: 7.5\n"
     ]
    },
    {
     "name": "stdout",
     "output_type": "stream",
     "text": [
      "Model: \"model_1\"\n",
      "__________________________________________________________________________________________________\n",
      " Layer (type)                   Output Shape         Param #     Connected to                     \n",
      "==================================================================================================\n",
      " input_2 (InputLayer)           [(None, 65)]         0           []                               \n",
      "                                                                                                  \n",
      " input_3 (InputLayer)           [(None, 65)]         0           []                               \n",
      "                                                                                                  \n",
      " model (Functional)             (None, 180)          60108       ['input_2[0][0]',                \n",
      "                                                                  'input_3[0][0]']                \n",
      "                                                                                                  \n",
      " lambda (Lambda)                (None, 1)            0           ['model[0][0]',                  \n",
      "                                                                  'model[1][0]']                  \n",
      "                                                                                                  \n",
      " batch_normalization_1 (BatchNo  (None, 1)           4           ['lambda[0][0]']                 \n",
      " rmalization)                                                                                     \n",
      "                                                                                                  \n",
      " dense_1 (Dense)                (None, 1)            2           ['batch_normalization_1[0][0]']  \n",
      "                                                                                                  \n",
      "==================================================================================================\n",
      "Total params: 60,114\n",
      "Trainable params: 60,104\n",
      "Non-trainable params: 10\n",
      "__________________________________________________________________________________________________\n"
     ]
    }
   ],
   "source": [
    "learning_rate = model_config['Learning_Rate']\n",
    "lr_schedule = tf.keras.optimizers.schedules.ExponentialDecay(\n",
    "    learning_rate,\n",
    "    decay_steps=2000,\n",
    "    decay_rate=0.70,\n",
    "    staircase=True)\n",
    "\n",
    "model = get_model(\n",
    "    model_type =  model_config['Model_Type'], \n",
    "    embedding_dim = model_config['Embedding_Dimensions'], \n",
    "    num_rnn_node =  model_config['Number_RNN_Nodes'],\n",
    "    num_dense_node =  model_config['Number_Dense_Nodes'], \n",
    "    num_layer =  model_config['Number_Layers'], \n",
    "    activation_fn =  model_config['Activation_Function'],\n",
    "    learning_rate = lr_schedule,\n",
    "    optimizer_fn = model_config['Optimizer'],\n",
    "    margin =  model_config['Margin'],\n",
    "    output_activation = model_config['Output_Activation']\n",
    ")\n",
    "model.summary()"
   ]
  },
  {
   "cell_type": "code",
   "execution_count": 22,
   "id": "10c1d074",
   "metadata": {},
   "outputs": [
    {
     "name": "stdout",
     "output_type": "stream",
     "text": [
      "../ModelCheckpointSaves/maxlen-65/BEST_LSTM65/Mon-Aug-29-2022/02-43PM\n"
     ]
    }
   ],
   "source": [
    "EPOCHS = 200\n",
    "time = datetime.datetime.now()\n",
    "checkpoint_filepath = \"../ModelCheckpointSaves/maxlen-{}/{}/{}/{}\".format(MAXLEN,model_config[\"Model_Name\"],time.strftime(\"%a-%b-%d-%Y\"), time.strftime(\"%I-%M%p\"))\n",
    "print(checkpoint_filepath)\n",
    "model_checkpoint_callback = tf.keras.callbacks.ModelCheckpoint(\n",
    "    filepath=checkpoint_filepath,\n",
    "    save_weights_only=True,\n",
    "    monitor='val_accuracy',\n",
    "    mode='max',\n",
    "    save_best_only=True)\n",
    "early_stopping = tf.keras.callbacks.EarlyStopping(monitor='loss', mode='auto', patience=10)"
   ]
  },
  {
   "cell_type": "code",
   "execution_count": 23,
   "id": "a1e8f2ac",
   "metadata": {},
   "outputs": [
    {
     "name": "stdout",
     "output_type": "stream",
     "text": [
      "Epoch 1/200\n"
     ]
    },
    {
     "name": "stderr",
     "output_type": "stream",
     "text": [
      "2022-08-29 14:43:28.411370: W tensorflow/compiler/jit/mark_for_compilation_pass.cc:1750] (One-time warning): Not using XLA:CPU for cluster.\n",
      "\n",
      "If you want XLA:CPU, do one of the following:\n",
      "\n",
      " - set the TF_XLA_FLAGS to include \"--tf_xla_cpu_global_jit\", or\n",
      " - set cpu_global_jit to true on this session's OptimizerOptions, or\n",
      " - use experimental_jit_scope, or\n",
      " - use tf.function(jit_compile=True).\n",
      "\n",
      "To confirm that XLA is active, pass --vmodule=xla_compilation_cache=1 (as a\n",
      "proper command-line flag, not via TF_XLA_FLAGS).\n",
      "2022-08-29 14:43:35.551334: I tensorflow/compiler/xla/service/service.cc:170] XLA service 0x7f5268003910 initialized for platform CUDA (this does not guarantee that XLA will be used). Devices:\n",
      "2022-08-29 14:43:35.551355: I tensorflow/compiler/xla/service/service.cc:178]   StreamExecutor device (0): NVIDIA GeForce RTX 2070 with Max-Q Design, Compute Capability 7.5\n",
      "2022-08-29 14:43:35.556254: I tensorflow/compiler/mlir/tensorflow/utils/dump_mlir_util.cc:263] disabling MLIR crash reproducer, set env var `MLIR_CRASH_REPRODUCER_DIRECTORY` to enable.\n",
      "2022-08-29 14:43:35.684568: I tensorflow/core/platform/default/subprocess.cc:304] Start cannot spawn child process: No such file or directory\n",
      "2022-08-29 14:43:35.785468: I tensorflow/compiler/jit/xla_compilation_cache.cc:478] Compiled cluster using XLA!  This line is logged at most once for the lifetime of the process.\n",
      "2022-08-29 14:43:35.795060: W tensorflow/core/common_runtime/forward_type_inference.cc:231] Type inference failed. This indicates an invalid graph that escaped type checking. Error message: INVALID_ARGUMENT: expected compatible input types, but input 1:\n",
      "type_id: TFT_OPTIONAL\n",
      "args {\n",
      "  type_id: TFT_PRODUCT\n",
      "  args {\n",
      "    type_id: TFT_TENSOR\n",
      "    args {\n",
      "      type_id: TFT_LEGACY_VARIANT\n",
      "    }\n",
      "  }\n",
      "}\n",
      " is neither a subtype nor a supertype of the combined inputs preceding it:\n",
      "type_id: TFT_OPTIONAL\n",
      "args {\n",
      "  type_id: TFT_PRODUCT\n",
      "  args {\n",
      "    type_id: TFT_TENSOR\n",
      "    args {\n",
      "      type_id: TFT_FLOAT\n",
      "    }\n",
      "  }\n",
      "}\n",
      "\n",
      "\twhile inferring type of node 'cond_40/output/_19'\n",
      "2022-08-29 14:43:36.563093: I tensorflow/stream_executor/cuda/cuda_dnn.cc:384] Loaded cuDNN version 8401\n"
     ]
    },
    {
     "name": "stdout",
     "output_type": "stream",
     "text": [
      "55/55 [==============================] - 14s 84ms/step - loss: 0.2133 - accuracy: 0.7632 - val_loss: 0.2504 - val_accuracy: 0.4764\n",
      "Epoch 2/200\n",
      "55/55 [==============================] - 3s 50ms/step - loss: 0.1951 - accuracy: 0.8364 - val_loss: 0.2527 - val_accuracy: 0.4764\n",
      "Epoch 3/200\n",
      "55/55 [==============================] - 1s 20ms/step - loss: 0.1787 - accuracy: 0.8692 - val_loss: 0.2560 - val_accuracy: 0.4764\n",
      "Epoch 4/200\n",
      "55/55 [==============================] - 1s 20ms/step - loss: 0.1614 - accuracy: 0.8992 - val_loss: 0.2590 - val_accuracy: 0.4764\n",
      "Epoch 5/200\n",
      "55/55 [==============================] - 1s 20ms/step - loss: 0.1447 - accuracy: 0.9176 - val_loss: 0.2381 - val_accuracy: 0.4977\n",
      "Epoch 6/200\n",
      "55/55 [==============================] - 1s 20ms/step - loss: 0.1289 - accuracy: 0.9308 - val_loss: 0.1787 - val_accuracy: 0.7794\n",
      "Epoch 7/200\n",
      "55/55 [==============================] - 1s 20ms/step - loss: 0.1139 - accuracy: 0.9390 - val_loss: 0.1293 - val_accuracy: 0.9100\n",
      "Epoch 8/200\n",
      "55/55 [==============================] - 1s 20ms/step - loss: 0.0999 - accuracy: 0.9468 - val_loss: 0.1051 - val_accuracy: 0.9306\n",
      "Epoch 9/200\n",
      "55/55 [==============================] - 1s 20ms/step - loss: 0.0873 - accuracy: 0.9524 - val_loss: 0.0937 - val_accuracy: 0.9373\n",
      "Epoch 10/200\n",
      "55/55 [==============================] - 1s 20ms/step - loss: 0.0758 - accuracy: 0.9575 - val_loss: 0.0867 - val_accuracy: 0.9359\n",
      "Epoch 11/200\n",
      "55/55 [==============================] - 1s 20ms/step - loss: 0.0658 - accuracy: 0.9623 - val_loss: 0.0732 - val_accuracy: 0.9451\n",
      "Epoch 12/200\n",
      "55/55 [==============================] - 1s 20ms/step - loss: 0.0574 - accuracy: 0.9655 - val_loss: 0.0667 - val_accuracy: 0.9483\n",
      "Epoch 13/200\n",
      "55/55 [==============================] - 1s 21ms/step - loss: 0.0504 - accuracy: 0.9680 - val_loss: 0.0634 - val_accuracy: 0.9501\n",
      "Epoch 14/200\n",
      "55/55 [==============================] - 1s 21ms/step - loss: 0.0444 - accuracy: 0.9707 - val_loss: 0.0567 - val_accuracy: 0.9538\n",
      "Epoch 15/200\n",
      "55/55 [==============================] - 1s 20ms/step - loss: 0.0398 - accuracy: 0.9725 - val_loss: 0.0533 - val_accuracy: 0.9538\n",
      "Epoch 16/200\n",
      "55/55 [==============================] - 1s 20ms/step - loss: 0.0357 - accuracy: 0.9748 - val_loss: 0.0508 - val_accuracy: 0.9558\n",
      "Epoch 17/200\n",
      "55/55 [==============================] - 1s 20ms/step - loss: 0.0322 - accuracy: 0.9766 - val_loss: 0.0468 - val_accuracy: 0.9589\n",
      "Epoch 18/200\n",
      "55/55 [==============================] - 1s 21ms/step - loss: 0.0296 - accuracy: 0.9777 - val_loss: 0.0445 - val_accuracy: 0.9606\n",
      "Epoch 19/200\n",
      "55/55 [==============================] - 1s 21ms/step - loss: 0.0272 - accuracy: 0.9793 - val_loss: 0.0429 - val_accuracy: 0.9608\n",
      "Epoch 20/200\n",
      "55/55 [==============================] - 1s 21ms/step - loss: 0.0250 - accuracy: 0.9808 - val_loss: 0.0402 - val_accuracy: 0.9609\n",
      "Epoch 21/200\n",
      "55/55 [==============================] - 1s 21ms/step - loss: 0.0231 - accuracy: 0.9821 - val_loss: 0.0393 - val_accuracy: 0.9624\n",
      "Epoch 22/200\n",
      "55/55 [==============================] - 1s 21ms/step - loss: 0.0214 - accuracy: 0.9839 - val_loss: 0.0369 - val_accuracy: 0.9642\n",
      "Epoch 23/200\n",
      "55/55 [==============================] - 1s 21ms/step - loss: 0.0198 - accuracy: 0.9851 - val_loss: 0.0350 - val_accuracy: 0.9651\n",
      "Epoch 24/200\n",
      "55/55 [==============================] - 1s 21ms/step - loss: 0.0183 - accuracy: 0.9859 - val_loss: 0.0363 - val_accuracy: 0.9640\n",
      "Epoch 25/200\n",
      "55/55 [==============================] - 1s 21ms/step - loss: 0.0175 - accuracy: 0.9862 - val_loss: 0.0343 - val_accuracy: 0.9648\n",
      "Epoch 26/200\n",
      "55/55 [==============================] - 1s 21ms/step - loss: 0.0162 - accuracy: 0.9876 - val_loss: 0.0355 - val_accuracy: 0.9647\n",
      "Epoch 27/200\n",
      "55/55 [==============================] - 1s 21ms/step - loss: 0.0155 - accuracy: 0.9881 - val_loss: 0.0327 - val_accuracy: 0.9650\n",
      "Epoch 28/200\n",
      "55/55 [==============================] - 1s 21ms/step - loss: 0.0142 - accuracy: 0.9893 - val_loss: 0.0321 - val_accuracy: 0.9679\n",
      "Epoch 29/200\n",
      "55/55 [==============================] - 1s 20ms/step - loss: 0.0133 - accuracy: 0.9903 - val_loss: 0.0311 - val_accuracy: 0.9671\n",
      "Epoch 30/200\n",
      "55/55 [==============================] - 1s 20ms/step - loss: 0.0126 - accuracy: 0.9904 - val_loss: 0.0316 - val_accuracy: 0.9677\n",
      "Epoch 31/200\n",
      "55/55 [==============================] - 1s 20ms/step - loss: 0.0119 - accuracy: 0.9914 - val_loss: 0.0310 - val_accuracy: 0.9673\n",
      "Epoch 32/200\n",
      "55/55 [==============================] - 1s 21ms/step - loss: 0.0111 - accuracy: 0.9920 - val_loss: 0.0297 - val_accuracy: 0.9689\n",
      "Epoch 33/200\n",
      "55/55 [==============================] - 1s 21ms/step - loss: 0.0104 - accuracy: 0.9929 - val_loss: 0.0301 - val_accuracy: 0.9678\n",
      "Epoch 34/200\n",
      "55/55 [==============================] - 1s 20ms/step - loss: 0.0099 - accuracy: 0.9931 - val_loss: 0.0291 - val_accuracy: 0.9682\n",
      "Epoch 35/200\n",
      "55/55 [==============================] - 1s 20ms/step - loss: 0.0094 - accuracy: 0.9936 - val_loss: 0.0296 - val_accuracy: 0.9676\n",
      "Epoch 36/200\n",
      "55/55 [==============================] - 1s 21ms/step - loss: 0.0088 - accuracy: 0.9937 - val_loss: 0.0281 - val_accuracy: 0.9695\n",
      "Epoch 37/200\n",
      "55/55 [==============================] - 1s 21ms/step - loss: 0.0080 - accuracy: 0.9948 - val_loss: 0.0285 - val_accuracy: 0.9690\n",
      "Epoch 38/200\n",
      "55/55 [==============================] - 1s 21ms/step - loss: 0.0072 - accuracy: 0.9950 - val_loss: 0.0286 - val_accuracy: 0.9693\n",
      "Epoch 39/200\n",
      "55/55 [==============================] - 1s 21ms/step - loss: 0.0071 - accuracy: 0.9951 - val_loss: 0.0287 - val_accuracy: 0.9692\n",
      "Epoch 40/200\n",
      "55/55 [==============================] - 1s 21ms/step - loss: 0.0069 - accuracy: 0.9953 - val_loss: 0.0284 - val_accuracy: 0.9686\n",
      "Epoch 41/200\n",
      "55/55 [==============================] - 1s 21ms/step - loss: 0.0065 - accuracy: 0.9954 - val_loss: 0.0282 - val_accuracy: 0.9697\n",
      "Epoch 42/200\n",
      "55/55 [==============================] - 1s 21ms/step - loss: 0.0062 - accuracy: 0.9957 - val_loss: 0.0287 - val_accuracy: 0.9675\n",
      "Epoch 43/200\n",
      "55/55 [==============================] - 1s 21ms/step - loss: 0.0060 - accuracy: 0.9959 - val_loss: 0.0278 - val_accuracy: 0.9690\n",
      "Epoch 44/200\n",
      "55/55 [==============================] - 1s 22ms/step - loss: 0.0057 - accuracy: 0.9960 - val_loss: 0.0266 - val_accuracy: 0.9700\n",
      "Epoch 45/200\n",
      "55/55 [==============================] - 1s 21ms/step - loss: 0.0055 - accuracy: 0.9963 - val_loss: 0.0277 - val_accuracy: 0.9701\n",
      "Epoch 46/200\n",
      "55/55 [==============================] - 1s 21ms/step - loss: 0.0054 - accuracy: 0.9962 - val_loss: 0.0280 - val_accuracy: 0.9687\n",
      "Epoch 47/200\n",
      "55/55 [==============================] - 1s 21ms/step - loss: 0.0051 - accuracy: 0.9964 - val_loss: 0.0276 - val_accuracy: 0.9694\n",
      "Epoch 48/200\n",
      "55/55 [==============================] - 1s 21ms/step - loss: 0.0057 - accuracy: 0.9962 - val_loss: 0.0297 - val_accuracy: 0.9649\n",
      "Epoch 49/200\n",
      "55/55 [==============================] - 1s 21ms/step - loss: 0.0051 - accuracy: 0.9964 - val_loss: 0.0281 - val_accuracy: 0.9677\n",
      "Epoch 50/200\n",
      "55/55 [==============================] - 1s 21ms/step - loss: 0.0046 - accuracy: 0.9966 - val_loss: 0.0274 - val_accuracy: 0.9692\n",
      "Epoch 51/200\n",
      "55/55 [==============================] - 1s 21ms/step - loss: 0.0044 - accuracy: 0.9967 - val_loss: 0.0275 - val_accuracy: 0.9689\n",
      "Epoch 52/200\n",
      "55/55 [==============================] - 1s 21ms/step - loss: 0.0043 - accuracy: 0.9970 - val_loss: 0.0277 - val_accuracy: 0.9687\n",
      "Epoch 53/200\n",
      "55/55 [==============================] - 1s 21ms/step - loss: 0.0042 - accuracy: 0.9966 - val_loss: 0.0269 - val_accuracy: 0.9701\n",
      "Epoch 54/200\n",
      "55/55 [==============================] - 1s 21ms/step - loss: 0.0041 - accuracy: 0.9970 - val_loss: 0.0280 - val_accuracy: 0.9675\n",
      "Epoch 55/200\n",
      "55/55 [==============================] - 1s 21ms/step - loss: 0.0039 - accuracy: 0.9970 - val_loss: 0.0275 - val_accuracy: 0.9692\n",
      "Epoch 56/200\n",
      "55/55 [==============================] - 1s 21ms/step - loss: 0.0038 - accuracy: 0.9971 - val_loss: 0.0278 - val_accuracy: 0.9677\n",
      "Epoch 57/200\n",
      "55/55 [==============================] - 1s 21ms/step - loss: 0.0037 - accuracy: 0.9970 - val_loss: 0.0286 - val_accuracy: 0.9668\n",
      "Epoch 58/200\n"
     ]
    },
    {
     "name": "stdout",
     "output_type": "stream",
     "text": [
      "55/55 [==============================] - 1s 21ms/step - loss: 0.0035 - accuracy: 0.9972 - val_loss: 0.0277 - val_accuracy: 0.9679\n",
      "Epoch 59/200\n",
      "55/55 [==============================] - 1s 21ms/step - loss: 0.0034 - accuracy: 0.9974 - val_loss: 0.0274 - val_accuracy: 0.9700\n",
      "Epoch 60/200\n",
      "55/55 [==============================] - 1s 21ms/step - loss: 0.0038 - accuracy: 0.9969 - val_loss: 0.0406 - val_accuracy: 0.9490\n",
      "Epoch 61/200\n",
      "55/55 [==============================] - 1s 21ms/step - loss: 0.0148 - accuracy: 0.9863 - val_loss: 0.0309 - val_accuracy: 0.9627\n",
      "Epoch 62/200\n",
      "55/55 [==============================] - 1s 21ms/step - loss: 0.0080 - accuracy: 0.9939 - val_loss: 0.0293 - val_accuracy: 0.9640\n",
      "Epoch 63/200\n",
      "55/55 [==============================] - 1s 21ms/step - loss: 0.0065 - accuracy: 0.9952 - val_loss: 0.0292 - val_accuracy: 0.9637\n",
      "Epoch 64/200\n",
      "55/55 [==============================] - 1s 21ms/step - loss: 0.0056 - accuracy: 0.9961 - val_loss: 0.0285 - val_accuracy: 0.9662\n",
      "Epoch 65/200\n",
      "55/55 [==============================] - 1s 21ms/step - loss: 0.0048 - accuracy: 0.9967 - val_loss: 0.0286 - val_accuracy: 0.9668\n",
      "Epoch 66/200\n",
      "55/55 [==============================] - 1s 21ms/step - loss: 0.0044 - accuracy: 0.9967 - val_loss: 0.0283 - val_accuracy: 0.9663\n",
      "Epoch 67/200\n",
      "55/55 [==============================] - 1s 21ms/step - loss: 0.0041 - accuracy: 0.9971 - val_loss: 0.0280 - val_accuracy: 0.9665\n",
      "Epoch 68/200\n",
      "55/55 [==============================] - 1s 21ms/step - loss: 0.0039 - accuracy: 0.9971 - val_loss: 0.0285 - val_accuracy: 0.9642\n",
      "Epoch 69/200\n",
      "55/55 [==============================] - 1s 21ms/step - loss: 0.0036 - accuracy: 0.9972 - val_loss: 0.0272 - val_accuracy: 0.9677\n"
     ]
    }
   ],
   "source": [
    "# Model weights are saved at the end of every epoch, if it's the best seen so far.\n",
    "history = model.fit(\n",
    "    x=[np.stack(x1TrainRnnS), np.stack(x2TrainRnnS)],\n",
    "    y=np.stack(yTrainRnnS),\n",
    "    epochs=EPOCHS,\n",
    "    batch_size=800,\n",
    "    validation_data=([np.stack(x1ValRnnS), np.stack(x2ValRnnS)], np.stack(yValRnnS)),\n",
    "    callbacks=[model_checkpoint_callback, early_stopping],\n",
    "    use_multiprocessing=True\n",
    ")"
   ]
  },
  {
   "cell_type": "code",
   "execution_count": 24,
   "id": "83ac27e4",
   "metadata": {},
   "outputs": [
    {
     "data": {
      "image/png": "[encoded data removed]",
      "text/plain": [
       "<Figure size 432x288 with 1 Axes>"
      ]
     },
     "metadata": {
      "needs_background": "light"
     },
     "output_type": "display_data"
    }
   ],
   "source": [
    "# Plot the accuracy\n",
    "plt_metric(history=history.history, metric=\"accuracy\", title=\"Model accuracy\")"
   ]
  },
  {
   "cell_type": "code",
   "execution_count": 25,
   "id": "8aae1b57",
   "metadata": {},
   "outputs": [
    {
     "data": {
      "image/png": "[encoded data removed]",
      "text/plain": [
       "<Figure size 432x288 with 1 Axes>"
      ]
     },
     "metadata": {
      "needs_background": "light"
     },
     "output_type": "display_data"
    }
   ],
   "source": [
    "# Plot the constrastive loss\n",
    "plt_metric(history=history.history, metric=\"loss\", title=\"Constrastive Loss\")"
   ]
  },
  {
   "cell_type": "code",
   "execution_count": 26,
   "id": "2d179e87",
   "metadata": {},
   "outputs": [
    {
     "name": "stdout",
     "output_type": "stream",
     "text": [
      "Want to replace best model with this model? (y/n): y\n"
     ]
    },
    {
     "name": "stderr",
     "output_type": "stream",
     "text": [
      "WARNING:absl:Found untraced functions such as lstm_cell_1_layer_call_fn, lstm_cell_1_layer_call_and_return_conditional_losses, lstm_cell_2_layer_call_fn, lstm_cell_2_layer_call_and_return_conditional_losses while saving (showing 4 of 4). These functions will not be directly callable after loading.\n"
     ]
    },
    {
     "name": "stdout",
     "output_type": "stream",
     "text": [
      "INFO:tensorflow:Assets written to: ./saved_models/BEST_LSTM65_extended/assets\n"
     ]
    },
    {
     "name": "stderr",
     "output_type": "stream",
     "text": [
      "INFO:tensorflow:Assets written to: ./saved_models/BEST_LSTM65_extended/assets\n"
     ]
    }
   ],
   "source": [
    "save = input(\"Want to replace best model with this model? (y/n): \")\n",
    "\n",
    "if save.lower() == \"y\": \n",
    "    model.load_weights(checkpoint_filepath)\n",
    "    tf.keras.models.save_model(model, './saved_models/{}_extended'.format(model_config[\"Model_Name\"]))"
   ]
  },
  {
   "cell_type": "code",
   "execution_count": null,
   "id": "0baad3cf",
   "metadata": {},
   "outputs": [],
   "source": []
  }
 ],
 "metadata": {
  "kernelspec": {
   "display_name": "Python 3 (ipykernel)",
   "language": "python",
   "name": "python3"
  },
  "language_info": {
   "codemirror_mode": {
    "name": "ipython",
    "version": 3
   },
   "file_extension": ".py",
   "mimetype": "text/x-python",
   "name": "python",
   "nbconvert_exporter": "python",
   "pygments_lexer": "ipython3",
   "version": "3.10.5"
  }
 },
 "nbformat": 4,
 "nbformat_minor": 5
}
