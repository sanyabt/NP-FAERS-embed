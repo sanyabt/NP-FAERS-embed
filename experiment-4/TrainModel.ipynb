{
 "cells": [
  {
   "cell_type": "markdown",
   "id": "37df1e8d",
   "metadata": {},
   "source": [
    "# Imports & Globals"
   ]
  },
  {
   "cell_type": "code",
   "execution_count": 1,
   "id": "73b3316d",
   "metadata": {},
   "outputs": [],
   "source": [
    "import numpy as np\n",
    "import pandas as pd\n",
    "import matplotlib.pyplot as plt\n",
    "import datetime\n",
    "from yaml import safe_load \n",
    "from typing import Literal"
   ]
  },
  {
   "cell_type": "code",
   "execution_count": 2,
   "id": "8705fa5a",
   "metadata": {},
   "outputs": [],
   "source": [
    "%matplotlib inline"
   ]
  },
  {
   "cell_type": "code",
   "execution_count": 3,
   "id": "e52cfce5",
   "metadata": {},
   "outputs": [
    {
     "name": "stdout",
     "output_type": "stream",
     "text": [
      "tf.version:  2.9.1\n",
      "tf.keras.version:  2.9.0\n",
      "tf.config.devices:  [PhysicalDevice(name='/physical_device:CPU:0', device_type='CPU'), PhysicalDevice(name='/physical_device:GPU:0', device_type='GPU')]\n"
     ]
    },
    {
     "name": "stderr",
     "output_type": "stream",
     "text": [
      "2022-08-31 20:11:47.407665: I tensorflow/stream_executor/cuda/cuda_gpu_executor.cc:975] successful NUMA node read from SysFS had negative value (-1), but there must be at least one NUMA node, so returning NUMA node zero\n",
      "2022-08-31 20:11:47.431340: I tensorflow/stream_executor/cuda/cuda_gpu_executor.cc:975] successful NUMA node read from SysFS had negative value (-1), but there must be at least one NUMA node, so returning NUMA node zero\n",
      "2022-08-31 20:11:47.431494: I tensorflow/stream_executor/cuda/cuda_gpu_executor.cc:975] successful NUMA node read from SysFS had negative value (-1), but there must be at least one NUMA node, so returning NUMA node zero\n"
     ]
    }
   ],
   "source": [
    "import tensorflow as tf\n",
    "print(\"tf.version: \", tf.version.VERSION)\n",
    "print(\"tf.keras.version: \", tf.keras.__version__)\n",
    "print(\"tf.config.devices: \", tf.config.list_physical_devices())"
   ]
  },
  {
   "cell_type": "code",
   "execution_count": 4,
   "id": "99764632",
   "metadata": {},
   "outputs": [],
   "source": [
    "# tf.compat.v1.enable_eager_execution()\n",
    "# tf.compat.v1.disable_eager_execution()\n",
    "# from tensorflow.python.ops.numpy_ops import np_config\n",
    "# np_config.enable_numpy_behavior()"
   ]
  },
  {
   "cell_type": "code",
   "execution_count": 5,
   "id": "c6314444",
   "metadata": {},
   "outputs": [
    {
     "name": "stderr",
     "output_type": "stream",
     "text": [
      "2022-08-31 20:11:47.453094: I tensorflow/core/platform/cpu_feature_guard.cc:193] This TensorFlow binary is optimized with oneAPI Deep Neural Network Library (oneDNN) to use the following CPU instructions in performance-critical operations:  SSE4.1 SSE4.2 AVX AVX2 FMA\n",
      "To enable them in other operations, rebuild TensorFlow with the appropriate compiler flags.\n",
      "2022-08-31 20:11:47.453697: I tensorflow/stream_executor/cuda/cuda_gpu_executor.cc:975] successful NUMA node read from SysFS had negative value (-1), but there must be at least one NUMA node, so returning NUMA node zero\n",
      "2022-08-31 20:11:47.453939: I tensorflow/stream_executor/cuda/cuda_gpu_executor.cc:975] successful NUMA node read from SysFS had negative value (-1), but there must be at least one NUMA node, so returning NUMA node zero\n",
      "2022-08-31 20:11:47.454098: I tensorflow/stream_executor/cuda/cuda_gpu_executor.cc:975] successful NUMA node read from SysFS had negative value (-1), but there must be at least one NUMA node, so returning NUMA node zero\n",
      "2022-08-31 20:11:47.830002: I tensorflow/stream_executor/cuda/cuda_gpu_executor.cc:975] successful NUMA node read from SysFS had negative value (-1), but there must be at least one NUMA node, so returning NUMA node zero\n",
      "2022-08-31 20:11:47.830155: I tensorflow/stream_executor/cuda/cuda_gpu_executor.cc:975] successful NUMA node read from SysFS had negative value (-1), but there must be at least one NUMA node, so returning NUMA node zero\n",
      "2022-08-31 20:11:47.830263: I tensorflow/stream_executor/cuda/cuda_gpu_executor.cc:975] successful NUMA node read from SysFS had negative value (-1), but there must be at least one NUMA node, so returning NUMA node zero\n",
      "2022-08-31 20:11:47.830353: I tensorflow/core/common_runtime/gpu/gpu_device.cc:1532] Created device /device:GPU:0 with 6650 MB memory:  -> device: 0, name: NVIDIA GeForce RTX 2070 with Max-Q Design, pci bus id: 0000:01:00.0, compute capability: 7.5\n"
     ]
    }
   ],
   "source": [
    "# # Check that GPU is available: cf. https://colab.research.google.com/notebooks/gpu.ipynb\n",
    "assert(tf.test.gpu_device_name())\n",
    "\n",
    "tf.keras.backend.clear_session()\n",
    "tf.config.optimizer.set_jit(True) # Enable XLA."
   ]
  },
  {
   "cell_type": "code",
   "execution_count": 6,
   "id": "b965151e",
   "metadata": {},
   "outputs": [
    {
     "data": {
      "text/plain": [
       "True"
      ]
     },
     "execution_count": 6,
     "metadata": {},
     "output_type": "execute_result"
    }
   ],
   "source": [
    "tf.executing_eagerly()"
   ]
  },
  {
   "cell_type": "code",
   "execution_count": 7,
   "id": "b84ba337",
   "metadata": {},
   "outputs": [],
   "source": [
    "with open('LSTM65.yaml', 'r') as file:\n",
    "    model_config = safe_load(file)"
   ]
  },
  {
   "cell_type": "code",
   "execution_count": 8,
   "id": "bf18162e",
   "metadata": {},
   "outputs": [],
   "source": [
    "#Maximum sequence length including padding\n",
    "global MAXLEN\n",
    "MAXLEN = model_config['MAXLEN']"
   ]
  },
  {
   "cell_type": "markdown",
   "id": "34891f72",
   "metadata": {},
   "source": [
    "# Load data from csv"
   ]
  },
  {
   "cell_type": "code",
   "execution_count": 9,
   "id": "b4ed9c3d",
   "metadata": {},
   "outputs": [
    {
     "name": "stdout",
     "output_type": "stream",
     "text": [
      "1    32499\n",
      "0    38883\n",
      "Name: y, dtype: int64\n",
      "1    8021\n",
      "0    9825\n",
      "Name: y, dtype: int64\n"
     ]
    }
   ],
   "source": [
    "if \"x1TrainRnnS\" not in locals():\n",
    "    train = pd.read_pickle(\"../data/proccesed_train_set.pkl\")\n",
    "    x1TrainRnnS, x2TrainRnnS = train[[\"x1\", \"x2\"]].applymap(lambda x: np.asarray(x).astype('float32')).values.T\n",
    "    yTrainRnnS = train[\"y\"].astype('float32')\n",
    "    print(train[\"y\"].value_counts(ascending=True))\n",
    "    del train\n",
    "        \n",
    "    test = pd.read_pickle(\"../data/proccesed_test_set.pkl\")\n",
    "    x1ValRnnS, x2ValRnnS = test[[\"x1\", \"x2\"]].applymap(lambda x: np.asarray(x).astype('float32')).values.T\n",
    "    yValRnnS = test[\"y\"].astype('float32')\n",
    "    print(test[\"y\"].value_counts(ascending=True))\n",
    "    del test"
   ]
  },
  {
   "cell_type": "code",
   "execution_count": 10,
   "id": "0e7eb342",
   "metadata": {},
   "outputs": [],
   "source": [
    "# del x1TrainRnnS"
   ]
  },
  {
   "cell_type": "markdown",
   "id": "ffdcd664",
   "metadata": {},
   "source": [
    "--------------------------------"
   ]
  },
  {
   "cell_type": "code",
   "execution_count": 11,
   "id": "6c1b0ae7",
   "metadata": {},
   "outputs": [],
   "source": [
    "# vectors = [[[1.0,2.0,3.0], [1.0,2.0,3.0]] , [[3.0,4.0,5.0],[3.0,4.0,5.0]]]"
   ]
  },
  {
   "cell_type": "code",
   "execution_count": 12,
   "id": "ecffcf43",
   "metadata": {},
   "outputs": [],
   "source": [
    "class CosineSimilarity(tf.keras.layers.Layer):\n",
    "    '''Cosine similarity to be calculated as sum(x*y)/(sqrt(sum(x))*sqrt(sum(y))).\n",
    "    This is achieved through Tensorflow functions to retain performance.\n",
    "    \n",
    "    Parameters\n",
    "    ----------\n",
    "    vects: tf.TensorArray\n",
    "    \n",
    "    Returns\n",
    "    -------\n",
    "    cosine_similarity: tf.TensorArray\n",
    "       The result of the cosine similarity between the vectors.    \n",
    "    '''\n",
    "    __name__ = 'CosineSimilarity'\n",
    "    def __init__(self, **kwargs):\n",
    "        super(CosineSimilarity, self).__init__()\n",
    "       \n",
    "    @tf.function  # The decorator converts `cosine_similarity` into a tensolflow `Function`.\n",
    "    def call(self, vects: tf.TensorArray) -> tf.TensorArray:\n",
    "        x, y = vects\n",
    "        return tf.math.divide(tf.reduce_sum(tf.multiply(x,y), axis=1, keepdims=True), tf.multiply(tf.norm(x, ord=2, axis=1, keepdims=True), tf.norm(y, ord=2, axis=1, keepdims=True)))\n",
    "\n",
    "    def get_config(self):\n",
    "        return super(CosineSimilarity, self).get_config()\n",
    "    \n",
    "    @classmethod\n",
    "    def from_config(cls, config):\n",
    "        return cls(**config)"
   ]
  },
  {
   "cell_type": "code",
   "execution_count": 13,
   "id": "00a72ef0",
   "metadata": {},
   "outputs": [],
   "source": [
    "# cosine_similarity = CosineSimilarity()\n",
    "# cosine_similarity.call(vectors)"
   ]
  },
  {
   "cell_type": "code",
   "execution_count": 14,
   "id": "ff560c06",
   "metadata": {},
   "outputs": [],
   "source": [
    "class CosineDistance(tf.keras.layers.Layer):\n",
    "    '''Cosine distance to be calculated as 1-(cosine similarity).\n",
    "    Where cosine similarity equals sum(x*y)/(sqrt(sum(x))*sqrt(sum(y))).\n",
    "    This is achieved through Tensorflow functions to retain performance.\n",
    "    \n",
    "    Parameters\n",
    "    ----------\n",
    "    vects: tf.TensorArray\n",
    "        \n",
    "    \n",
    "    Returns\n",
    "    -------\n",
    "    cosine_distance: tf.TensorArray\n",
    "        The result of 1-cosine similarity between the vectors. \n",
    "    '''\n",
    "    __name__ = 'CosineDistance'\n",
    "    def __init__(self, **kwargs):\n",
    "        super(CosineDistance, self).__init__()\n",
    "       \n",
    "    @tf.function  # The decorator converts `cosine_distance` into a tensorflow `Function`.\n",
    "    def call(self, vects: tf.TensorArray) -> tf.TensorArray:\n",
    "        x, y = vects\n",
    "        return  tf.math.subtract(tf.constant([1.0]), tf.math.divide(tf.reduce_sum(tf.multiply(x,y), axis=1, keepdims=True), tf.multiply(tf.norm(x, ord=2, axis=1, keepdims=True), tf.norm(y, ord=2, axis=1, keepdims=True))))\n",
    "\n",
    "    def get_config(self):\n",
    "        return super(CosineDistance, self).get_config()\n",
    "    \n",
    "    @classmethod\n",
    "    def from_config(cls, config):\n",
    "        return cls(**config)"
   ]
  },
  {
   "cell_type": "code",
   "execution_count": 15,
   "id": "dafc3241",
   "metadata": {},
   "outputs": [],
   "source": [
    "# cosine_distance = CosineDistance()\n",
    "# cosine_distance.call(vectors)"
   ]
  },
  {
   "cell_type": "code",
   "execution_count": 16,
   "id": "a95fd124",
   "metadata": {},
   "outputs": [],
   "source": [
    "# 1 - 0.9827076 = 0.017292399999999986"
   ]
  },
  {
   "cell_type": "code",
   "execution_count": 17,
   "id": "dfcd3f95",
   "metadata": {},
   "outputs": [],
   "source": [
    "class ContrastiveLoss(tf.keras.losses.Loss):\n",
    "    '''Returns a value between 0 and 1 representing the average error of the y_pred vector by comparing it to the y_true.\n",
    "    '''\n",
    "    __name__ = 'ContrastiveLoss'\n",
    "    def __init__(self, margin: tf.float32 = 1.0, **kwargs):\n",
    "        super(ContrastiveLoss, self).__init__()\n",
    "        self.margin = tf.constant(margin)\n",
    "        \n",
    "    @tf.function # The decorator converts `loss` into a tensolflow `Function`.\n",
    "    def call(self, y_true: tf.TensorArray, y_pred: tf.TensorArray) -> tf.Tensor:\n",
    "        return tf.math.reduce_mean((1 - y_true) * tf.math.square(y_pred) + (y_true) * tf.math.square(tf.math.maximum(self.margin - (y_pred), 0.0)), axis = -1)\n",
    "    \n",
    "    def get_config(self):\n",
    "        config = super(ContrastiveLoss, self).get_config()\n",
    "        config.update({\n",
    "            \"margin\": str(self.margin)\n",
    "        })\n",
    "        return config\n",
    "    \n",
    "    @classmethod\n",
    "    def from_config(cls, config):\n",
    "        return cls(**config)"
   ]
  },
  {
   "cell_type": "code",
   "execution_count": 18,
   "id": "fc864cdd",
   "metadata": {},
   "outputs": [],
   "source": [
    "# a = ContrastiveLoss(margin = 1.0)\n",
    "# print(a.get_config())\n",
    "# tf.assert_ a.call(np.array([1,0,1]), np.array([1,0,1])).numpy() == 0.0\n",
    "# tf.assert_ a.call(np.array([0,0,0]), np.array([1,0,1])).numpy() >= 0.666\n",
    "# tf.assert_ a.call(np.array([0,1,0]), np.array([1,0,1])).numpy() >= 1.0"
   ]
  },
  {
   "cell_type": "code",
   "execution_count": 19,
   "id": "57038ab9",
   "metadata": {},
   "outputs": [],
   "source": [
    "def get_model(model_type: Literal[\"lstm\", \"gru\"], embedding_dim: int, num_rnn_node: int, num_dense_node: int, num_layer: int, activation_fn: str, learning_rate: float, optimizer_fn: Literal[\"Adam\", \"RMSprop\", \"SGD\"], margin: float, output_activation: str) -> tf.keras.Model: \n",
    "    '''Specifies the architecture of the model to be trained.\n",
    "    '''\n",
    "    input_x = tf.keras.layers.Input(MAXLEN)\n",
    "    input_1 = tf.keras.layers.Input(MAXLEN)\n",
    "    input_2 = tf.keras.layers.Input(MAXLEN)\n",
    "    embedding = tf.keras.layers.Embedding(input_dim=28, output_dim=embedding_dim, mask_zero=True)\n",
    "    x = embedding(input_x)\n",
    "    x = tf.keras.layers.BatchNormalization()(x)\n",
    "    \n",
    "    initializer = tf.keras.initializers.GlorotUniform()\n",
    "    \n",
    "    match model_type:\n",
    "        case \"lstm\":\n",
    "            x = tf.keras.layers.LSTM(num_rnn_node, kernel_initializer= initializer)(x)\n",
    "        case \"gru\":\n",
    "            x = tf.keras.layers.GRU(num_rnn_node, kernel_initializer= initializer)(x)\n",
    "        case \"rnn\":\n",
    "            x = tf.keras.layers.SimpleRNN(num_rnn_node, kernel_initializer= initializer)(x)\n",
    "            \n",
    "    num = num_dense_node\n",
    "    for _ in range(num_layer):\n",
    "        x = tf.keras.layers.Dense(num, kernel_initializer = initializer, activation=activation_fn)(x)\n",
    "        num /= 2\n",
    "        \n",
    "    embedding_network = tf.keras.Model(input_x, x)\n",
    "\n",
    "    tower_1 = embedding_network(input_1)\n",
    "    tower_2 = embedding_network(input_2)\n",
    "\n",
    "#     cosine_similarity = CosineSimilarity()\n",
    "#     merge_layer = tf.keras.layers.Lambda(cosine_similarity)([tower_1, tower_2])\n",
    "    cosine_distance = CosineDistance()\n",
    "    merge_layer = tf.keras.layers.Lambda(cosine_distance)([tower_1, tower_2])\n",
    "    normal_layer = tf.keras.layers.BatchNormalization()(merge_layer)\n",
    "    output_layer = tf.keras.layers.Dense(1, activation=\"hard_sigmoid\")(normal_layer)\n",
    "    contr = tf.keras.Model(inputs=[input_1, input_2], outputs=output_layer)\n",
    "    \n",
    "    match optimizer_fn:\n",
    "        case \"Adam\":\n",
    "            opt = tf.keras.optimizers.Adam(learning_rate=learning_rate)\n",
    "        case \"RMSprop\":                \n",
    "            opt = tf.keras.optimizers.RMSprop(learning_rate=learning_rate)\n",
    "        case \"SGD\":                \n",
    "            opt = tf.keras.optimizers.SGD(learning_rate=learning_rate)\n",
    "\n",
    "    contr.compile(loss=ContrastiveLoss(margin = margin), optimizer=opt, metrics=[\"accuracy\"])\n",
    "    \n",
    "    return contr"
   ]
  },
  {
   "cell_type": "code",
   "execution_count": 20,
   "id": "e297fd75",
   "metadata": {},
   "outputs": [],
   "source": [
    "def plt_metric(history, metric, title, has_valid=True):\n",
    "    \"\"\"Plots the given 'metric' from 'history'.\n",
    "\n",
    "    Arguments:\n",
    "        history: history attribute of History object returned from Model.fit.\n",
    "        metric: Metric to plot, a string value present as key in 'history'.\n",
    "        title: A string to be used as title of plot.\n",
    "        has_valid: Boolean, true if valid data was passed to Model.fit else false.\n",
    "\n",
    "    Returns:\n",
    "        None.\n",
    "    \"\"\"\n",
    "    plt.plot(history[metric])\n",
    "    if has_valid:\n",
    "        plt.plot(history[\"val_\" + metric])\n",
    "        plt.legend([\"train\", \"validation\"], loc=\"upper left\")\n",
    "    plt.title(title)\n",
    "    plt.ylabel(metric)\n",
    "    plt.xlabel(\"epoch\")\n",
    "    plt.show()"
   ]
  },
  {
   "cell_type": "markdown",
   "id": "b7e10db6",
   "metadata": {},
   "source": [
    "# Build model, load weights and evaluate on test data"
   ]
  },
  {
   "cell_type": "code",
   "execution_count": 21,
   "id": "314b46ff",
   "metadata": {},
   "outputs": [
    {
     "name": "stderr",
     "output_type": "stream",
     "text": [
      "2022-08-31 20:11:48.985557: I tensorflow/stream_executor/cuda/cuda_gpu_executor.cc:975] successful NUMA node read from SysFS had negative value (-1), but there must be at least one NUMA node, so returning NUMA node zero\n",
      "2022-08-31 20:11:48.985762: I tensorflow/stream_executor/cuda/cuda_gpu_executor.cc:975] successful NUMA node read from SysFS had negative value (-1), but there must be at least one NUMA node, so returning NUMA node zero\n",
      "2022-08-31 20:11:48.985874: I tensorflow/stream_executor/cuda/cuda_gpu_executor.cc:975] successful NUMA node read from SysFS had negative value (-1), but there must be at least one NUMA node, so returning NUMA node zero\n",
      "2022-08-31 20:11:48.986014: I tensorflow/stream_executor/cuda/cuda_gpu_executor.cc:975] successful NUMA node read from SysFS had negative value (-1), but there must be at least one NUMA node, so returning NUMA node zero\n",
      "2022-08-31 20:11:48.986124: I tensorflow/stream_executor/cuda/cuda_gpu_executor.cc:975] successful NUMA node read from SysFS had negative value (-1), but there must be at least one NUMA node, so returning NUMA node zero\n",
      "2022-08-31 20:11:48.986206: I tensorflow/core/common_runtime/gpu/gpu_device.cc:1532] Created device /job:localhost/replica:0/task:0/device:GPU:0 with 6650 MB memory:  -> device: 0, name: NVIDIA GeForce RTX 2070 with Max-Q Design, pci bus id: 0000:01:00.0, compute capability: 7.5\n"
     ]
    },
    {
     "name": "stdout",
     "output_type": "stream",
     "text": [
      "Model: \"model_1\"\n",
      "__________________________________________________________________________________________________\n",
      " Layer (type)                   Output Shape         Param #     Connected to                     \n",
      "==================================================================================================\n",
      " input_2 (InputLayer)           [(None, 65)]         0           []                               \n",
      "                                                                                                  \n",
      " input_3 (InputLayer)           [(None, 65)]         0           []                               \n",
      "                                                                                                  \n",
      " model (Functional)             (None, 100)          54820       ['input_2[0][0]',                \n",
      "                                                                  'input_3[0][0]']                \n",
      "                                                                                                  \n",
      " lambda (Lambda)                (None, 1)            0           ['model[0][0]',                  \n",
      "                                                                  'model[1][0]']                  \n",
      "                                                                                                  \n",
      " batch_normalization_1 (BatchNo  (None, 1)           4           ['lambda[0][0]']                 \n",
      " rmalization)                                                                                     \n",
      "                                                                                                  \n",
      " dense_1 (Dense)                (None, 1)            2           ['batch_normalization_1[0][0]']  \n",
      "                                                                                                  \n",
      "==================================================================================================\n",
      "Total params: 54,826\n",
      "Trainable params: 54,804\n",
      "Non-trainable params: 22\n",
      "__________________________________________________________________________________________________\n"
     ]
    }
   ],
   "source": [
    "learning_rate = model_config['Learning_Rate']\n",
    "\n",
    "lr_schedule = tf.keras.optimizers.schedules.ExponentialDecay(\n",
    "    initial_learning_rate = learning_rate,\n",
    "    decay_steps=1500,\n",
    "    decay_rate=0.65,\n",
    "    staircase=True\n",
    ")\n",
    "\n",
    "model = get_model(\n",
    "    model_type =  model_config['Model_Type'], \n",
    "    embedding_dim = model_config['Embedding_Dimensions'], \n",
    "    num_rnn_node =  model_config['Number_RNN_Nodes'],\n",
    "    num_dense_node =  model_config['Number_Dense_Nodes'], \n",
    "    num_layer =  model_config['Number_Layers'], \n",
    "    activation_fn =  model_config['Activation_Function'],\n",
    "    learning_rate = lr_schedule,\n",
    "    optimizer_fn = model_config['Optimizer'],\n",
    "    margin =  model_config['Margin'],\n",
    "    output_activation = model_config['Output_Activation']\n",
    ")\n",
    "model.summary()"
   ]
  },
  {
   "cell_type": "code",
   "execution_count": 22,
   "id": "7ed2305e",
   "metadata": {},
   "outputs": [
    {
     "name": "stdout",
     "output_type": "stream",
     "text": [
      "../ModelCheckpointSaves/maxlen-65/BEST_LSTM65/Wed-Aug-31-2022/08-11PM\n"
     ]
    }
   ],
   "source": [
    "EPOCHS = 200\n",
    "time = datetime.datetime.now()\n",
    "checkpoint_filepath = \"../ModelCheckpointSaves/maxlen-{}/{}/{}/{}\".format(MAXLEN,model_config[\"Model_Name\"],time.strftime(\"%a-%b-%d-%Y\"), time.strftime(\"%I-%M%p\"))\n",
    "print(checkpoint_filepath)\n",
    "model_checkpoint_callback = tf.keras.callbacks.ModelCheckpoint(\n",
    "    filepath=checkpoint_filepath,\n",
    "    save_weights_only=True,\n",
    "    monitor='val_accuracy',\n",
    "    mode='max',\n",
    "    save_best_only=True)\n",
    "early_stopping = tf.keras.callbacks.EarlyStopping(monitor='val_loss', mode='auto', patience=15, min_delta = 0.00005, restore_best_weights = True)"
   ]
  },
  {
   "cell_type": "code",
   "execution_count": 23,
   "id": "a1e8f2ac",
   "metadata": {},
   "outputs": [
    {
     "name": "stdout",
     "output_type": "stream",
     "text": [
      "Epoch 1/200\n"
     ]
    },
    {
     "name": "stderr",
     "output_type": "stream",
     "text": [
      "2022-08-31 20:11:50.607024: W tensorflow/compiler/jit/mark_for_compilation_pass.cc:1750] (One-time warning): Not using XLA:CPU for cluster.\n",
      "\n",
      "If you want XLA:CPU, do one of the following:\n",
      "\n",
      " - set the TF_XLA_FLAGS to include \"--tf_xla_cpu_global_jit\", or\n",
      " - set cpu_global_jit to true on this session's OptimizerOptions, or\n",
      " - use experimental_jit_scope, or\n",
      " - use tf.function(jit_compile=True).\n",
      "\n",
      "To confirm that XLA is active, pass --vmodule=xla_compilation_cache=1 (as a\n",
      "proper command-line flag, not via TF_XLA_FLAGS).\n",
      "2022-08-31 20:11:54.634758: I tensorflow/compiler/xla/service/service.cc:170] XLA service 0x7f57b0004790 initialized for platform CUDA (this does not guarantee that XLA will be used). Devices:\n",
      "2022-08-31 20:11:54.634780: I tensorflow/compiler/xla/service/service.cc:178]   StreamExecutor device (0): NVIDIA GeForce RTX 2070 with Max-Q Design, Compute Capability 7.5\n",
      "2022-08-31 20:11:54.639837: I tensorflow/compiler/mlir/tensorflow/utils/dump_mlir_util.cc:263] disabling MLIR crash reproducer, set env var `MLIR_CRASH_REPRODUCER_DIRECTORY` to enable.\n",
      "2022-08-31 20:11:54.783339: I tensorflow/core/platform/default/subprocess.cc:304] Start cannot spawn child process: No such file or directory\n",
      "2022-08-31 20:11:54.892774: I tensorflow/compiler/jit/xla_compilation_cache.cc:478] Compiled cluster using XLA!  This line is logged at most once for the lifetime of the process.\n",
      "2022-08-31 20:11:54.905026: W tensorflow/core/common_runtime/forward_type_inference.cc:231] Type inference failed. This indicates an invalid graph that escaped type checking. Error message: INVALID_ARGUMENT: expected compatible input types, but input 1:\n",
      "type_id: TFT_OPTIONAL\n",
      "args {\n",
      "  type_id: TFT_PRODUCT\n",
      "  args {\n",
      "    type_id: TFT_TENSOR\n",
      "    args {\n",
      "      type_id: TFT_LEGACY_VARIANT\n",
      "    }\n",
      "  }\n",
      "}\n",
      " is neither a subtype nor a supertype of the combined inputs preceding it:\n",
      "type_id: TFT_OPTIONAL\n",
      "args {\n",
      "  type_id: TFT_PRODUCT\n",
      "  args {\n",
      "    type_id: TFT_TENSOR\n",
      "    args {\n",
      "      type_id: TFT_FLOAT\n",
      "    }\n",
      "  }\n",
      "}\n",
      "\n",
      "\twhile inferring type of node 'cond_40/output/_19'\n",
      "2022-08-31 20:11:55.748283: I tensorflow/stream_executor/cuda/cuda_dnn.cc:384] Loaded cuDNN version 8401\n"
     ]
    },
    {
     "name": "stdout",
     "output_type": "stream",
     "text": [
      "90/90 [==============================] - 10s 39ms/step - loss: 0.1508 - accuracy: 0.7887 - val_loss: 0.2533 - val_accuracy: 0.5505\n",
      "Epoch 2/200\n",
      "90/90 [==============================] - 3s 32ms/step - loss: 0.1010 - accuracy: 0.8798 - val_loss: 0.2914 - val_accuracy: 0.5505\n",
      "Epoch 3/200\n",
      "90/90 [==============================] - 1s 15ms/step - loss: 0.0764 - accuracy: 0.9139 - val_loss: 0.2473 - val_accuracy: 0.5711\n",
      "Epoch 4/200\n",
      "90/90 [==============================] - 1s 15ms/step - loss: 0.0610 - accuracy: 0.9337 - val_loss: 0.0878 - val_accuracy: 0.8925\n",
      "Epoch 5/200\n",
      "90/90 [==============================] - 1s 15ms/step - loss: 0.0501 - accuracy: 0.9463 - val_loss: 0.0637 - val_accuracy: 0.9269\n",
      "Epoch 6/200\n",
      "90/90 [==============================] - 1s 15ms/step - loss: 0.0430 - accuracy: 0.9536 - val_loss: 0.0558 - val_accuracy: 0.9363\n",
      "Epoch 7/200\n",
      "90/90 [==============================] - 1s 15ms/step - loss: 0.0364 - accuracy: 0.9616 - val_loss: 0.0486 - val_accuracy: 0.9451\n",
      "Epoch 8/200\n",
      "90/90 [==============================] - 1s 15ms/step - loss: 0.0314 - accuracy: 0.9665 - val_loss: 0.0440 - val_accuracy: 0.9497\n",
      "Epoch 9/200\n",
      "90/90 [==============================] - 1s 14ms/step - loss: 0.0283 - accuracy: 0.9704 - val_loss: 0.0386 - val_accuracy: 0.9554\n",
      "Epoch 10/200\n",
      "90/90 [==============================] - 1s 15ms/step - loss: 0.0248 - accuracy: 0.9741 - val_loss: 0.0366 - val_accuracy: 0.9577\n",
      "Epoch 11/200\n",
      "90/90 [==============================] - 1s 14ms/step - loss: 0.0221 - accuracy: 0.9769 - val_loss: 0.0335 - val_accuracy: 0.9609\n",
      "Epoch 12/200\n",
      "90/90 [==============================] - 1s 15ms/step - loss: 0.0195 - accuracy: 0.9799 - val_loss: 0.0297 - val_accuracy: 0.9659\n",
      "Epoch 13/200\n",
      "90/90 [==============================] - 1s 15ms/step - loss: 0.0177 - accuracy: 0.9822 - val_loss: 0.0312 - val_accuracy: 0.9632\n",
      "Epoch 14/200\n",
      "90/90 [==============================] - 1s 15ms/step - loss: 0.0157 - accuracy: 0.9843 - val_loss: 0.0290 - val_accuracy: 0.9672\n",
      "Epoch 15/200\n",
      "90/90 [==============================] - 1s 15ms/step - loss: 0.0143 - accuracy: 0.9860 - val_loss: 0.0275 - val_accuracy: 0.9681\n",
      "Epoch 16/200\n",
      "90/90 [==============================] - 1s 15ms/step - loss: 0.0131 - accuracy: 0.9869 - val_loss: 0.0245 - val_accuracy: 0.9724\n",
      "Epoch 17/200\n",
      "90/90 [==============================] - 1s 15ms/step - loss: 0.0115 - accuracy: 0.9893 - val_loss: 0.0235 - val_accuracy: 0.9738\n",
      "Epoch 18/200\n",
      "90/90 [==============================] - 1s 15ms/step - loss: 0.0096 - accuracy: 0.9914 - val_loss: 0.0225 - val_accuracy: 0.9751\n",
      "Epoch 19/200\n",
      "90/90 [==============================] - 1s 15ms/step - loss: 0.0089 - accuracy: 0.9922 - val_loss: 0.0228 - val_accuracy: 0.9737\n",
      "Epoch 20/200\n",
      "90/90 [==============================] - 1s 15ms/step - loss: 0.0083 - accuracy: 0.9931 - val_loss: 0.0232 - val_accuracy: 0.9736\n",
      "Epoch 21/200\n",
      "90/90 [==============================] - 1s 15ms/step - loss: 0.0075 - accuracy: 0.9938 - val_loss: 0.0218 - val_accuracy: 0.9756\n",
      "Epoch 22/200\n",
      "90/90 [==============================] - 1s 15ms/step - loss: 0.0072 - accuracy: 0.9941 - val_loss: 0.0221 - val_accuracy: 0.9737\n",
      "Epoch 23/200\n",
      "90/90 [==============================] - 1s 14ms/step - loss: 0.0067 - accuracy: 0.9946 - val_loss: 0.0219 - val_accuracy: 0.9743\n",
      "Epoch 24/200\n",
      "90/90 [==============================] - 1s 15ms/step - loss: 0.0062 - accuracy: 0.9951 - val_loss: 0.0205 - val_accuracy: 0.9764\n",
      "Epoch 25/200\n",
      "90/90 [==============================] - 1s 14ms/step - loss: 0.0057 - accuracy: 0.9957 - val_loss: 0.0217 - val_accuracy: 0.9743\n",
      "Epoch 26/200\n",
      "90/90 [==============================] - 1s 15ms/step - loss: 0.0053 - accuracy: 0.9959 - val_loss: 0.0199 - val_accuracy: 0.9765\n",
      "Epoch 27/200\n",
      "90/90 [==============================] - 1s 15ms/step - loss: 0.0049 - accuracy: 0.9963 - val_loss: 0.0200 - val_accuracy: 0.9772\n",
      "Epoch 28/200\n",
      "90/90 [==============================] - 1s 14ms/step - loss: 0.0047 - accuracy: 0.9963 - val_loss: 0.0211 - val_accuracy: 0.9742\n",
      "Epoch 29/200\n",
      "90/90 [==============================] - 1s 14ms/step - loss: 0.0044 - accuracy: 0.9969 - val_loss: 0.0208 - val_accuracy: 0.9749\n",
      "Epoch 30/200\n",
      "90/90 [==============================] - 1s 15ms/step - loss: 0.0045 - accuracy: 0.9963 - val_loss: 0.0190 - val_accuracy: 0.9776\n",
      "Epoch 31/200\n",
      "90/90 [==============================] - 1s 14ms/step - loss: 0.0038 - accuracy: 0.9973 - val_loss: 0.0193 - val_accuracy: 0.9773\n",
      "Epoch 32/200\n",
      "90/90 [==============================] - 1s 15ms/step - loss: 0.0035 - accuracy: 0.9976 - val_loss: 0.0192 - val_accuracy: 0.9770\n",
      "Epoch 33/200\n",
      "90/90 [==============================] - 1s 15ms/step - loss: 0.0032 - accuracy: 0.9979 - val_loss: 0.0190 - val_accuracy: 0.9770\n",
      "Epoch 34/200\n",
      "90/90 [==============================] - 1s 15ms/step - loss: 0.0029 - accuracy: 0.9981 - val_loss: 0.0184 - val_accuracy: 0.9773\n",
      "Epoch 35/200\n",
      "90/90 [==============================] - 1s 15ms/step - loss: 0.0024 - accuracy: 0.9983 - val_loss: 0.0187 - val_accuracy: 0.9774\n",
      "Epoch 36/200\n",
      "90/90 [==============================] - 1s 15ms/step - loss: 0.0023 - accuracy: 0.9985 - val_loss: 0.0199 - val_accuracy: 0.9764\n",
      "Epoch 37/200\n",
      "90/90 [==============================] - 1s 15ms/step - loss: 0.0021 - accuracy: 0.9985 - val_loss: 0.0187 - val_accuracy: 0.9772\n",
      "Epoch 38/200\n",
      "90/90 [==============================] - 1s 15ms/step - loss: 0.0021 - accuracy: 0.9986 - val_loss: 0.0190 - val_accuracy: 0.9770\n",
      "Epoch 39/200\n",
      "90/90 [==============================] - 1s 15ms/step - loss: 0.0019 - accuracy: 0.9987 - val_loss: 0.0190 - val_accuracy: 0.9771\n",
      "Epoch 40/200\n",
      "90/90 [==============================] - 1s 15ms/step - loss: 0.0021 - accuracy: 0.9986 - val_loss: 0.0196 - val_accuracy: 0.9763\n",
      "Epoch 41/200\n",
      "90/90 [==============================] - 1s 15ms/step - loss: 0.0018 - accuracy: 0.9987 - val_loss: 0.0181 - val_accuracy: 0.9785\n",
      "Epoch 42/200\n",
      "90/90 [==============================] - 1s 15ms/step - loss: 0.0018 - accuracy: 0.9987 - val_loss: 0.0185 - val_accuracy: 0.9767\n",
      "Epoch 43/200\n",
      "90/90 [==============================] - 1s 15ms/step - loss: 0.0017 - accuracy: 0.9987 - val_loss: 0.0184 - val_accuracy: 0.9771\n",
      "Epoch 44/200\n",
      "90/90 [==============================] - 1s 15ms/step - loss: 0.0016 - accuracy: 0.9988 - val_loss: 0.0186 - val_accuracy: 0.9770\n",
      "Epoch 45/200\n",
      "90/90 [==============================] - 1s 15ms/step - loss: 0.0015 - accuracy: 0.9988 - val_loss: 0.0186 - val_accuracy: 0.9772\n",
      "Epoch 46/200\n",
      "90/90 [==============================] - 1s 15ms/step - loss: 0.0015 - accuracy: 0.9989 - val_loss: 0.0192 - val_accuracy: 0.9755\n",
      "Epoch 47/200\n",
      "90/90 [==============================] - 1s 15ms/step - loss: 0.0015 - accuracy: 0.9989 - val_loss: 0.0190 - val_accuracy: 0.9769\n",
      "Epoch 48/200\n",
      "90/90 [==============================] - 1s 15ms/step - loss: 0.0014 - accuracy: 0.9989 - val_loss: 0.0194 - val_accuracy: 0.9757\n",
      "Epoch 49/200\n",
      "90/90 [==============================] - 1s 15ms/step - loss: 0.0015 - accuracy: 0.9989 - val_loss: 0.0188 - val_accuracy: 0.9760\n",
      "Epoch 50/200\n",
      "90/90 [==============================] - 1s 15ms/step - loss: 0.0014 - accuracy: 0.9989 - val_loss: 0.0196 - val_accuracy: 0.9761\n",
      "Epoch 51/200\n",
      "90/90 [==============================] - 1s 15ms/step - loss: 0.0012 - accuracy: 0.9990 - val_loss: 0.0186 - val_accuracy: 0.9764\n",
      "Epoch 52/200\n",
      "90/90 [==============================] - 1s 15ms/step - loss: 0.0011 - accuracy: 0.9990 - val_loss: 0.0187 - val_accuracy: 0.9765\n",
      "Epoch 53/200\n",
      "90/90 [==============================] - 1s 15ms/step - loss: 0.0011 - accuracy: 0.9990 - val_loss: 0.0187 - val_accuracy: 0.9760\n",
      "Epoch 54/200\n",
      "90/90 [==============================] - 1s 15ms/step - loss: 0.0011 - accuracy: 0.9991 - val_loss: 0.0189 - val_accuracy: 0.9759\n",
      "Epoch 55/200\n",
      "90/90 [==============================] - 1s 15ms/step - loss: 0.0011 - accuracy: 0.9991 - val_loss: 0.0187 - val_accuracy: 0.9761\n",
      "Epoch 56/200\n",
      "90/90 [==============================] - 1s 15ms/step - loss: 0.0010 - accuracy: 0.9991 - val_loss: 0.0187 - val_accuracy: 0.9760\n"
     ]
    }
   ],
   "source": [
    "# Model weights are saved at the end of every epoch, if it's the best seen so far.\n",
    "history = model.fit(\n",
    "    x=[np.stack(x1TrainRnnS), np.stack(x2TrainRnnS)],\n",
    "    y=np.stack(yTrainRnnS),\n",
    "    epochs=EPOCHS,\n",
    "    batch_size=800,\n",
    "    shuffle=True,\n",
    "    validation_data=([np.stack(x1ValRnnS), np.stack(x2ValRnnS)], np.stack(yValRnnS)),\n",
    "    callbacks=[model_checkpoint_callback, early_stopping],\n",
    "    use_multiprocessing=True\n",
    ")"
   ]
  },
  {
   "cell_type": "code",
   "execution_count": 24,
   "id": "83ac27e4",
   "metadata": {},
   "outputs": [
    {
     "data": {
      "image/png": "[encoded data removed]",
      "text/plain": [
       "<Figure size 432x288 with 1 Axes>"
      ]
     },
     "metadata": {
      "needs_background": "light"
     },
     "output_type": "display_data"
    }
   ],
   "source": [
    "# Plot the accuracy\n",
    "plt_metric(history=history.history, metric=\"accuracy\", title=\"Model accuracy\")"
   ]
  },
  {
   "cell_type": "code",
   "execution_count": 25,
   "id": "8aae1b57",
   "metadata": {},
   "outputs": [
    {
     "data": {
      "image/png": "[encoded data removed]",
      "text/plain": [
       "<Figure size 432x288 with 1 Axes>"
      ]
     },
     "metadata": {
      "needs_background": "light"
     },
     "output_type": "display_data"
    }
   ],
   "source": [
    "# Plot the constrastive loss\n",
    "plt_metric(history=history.history, metric=\"loss\", title=\"Constrastive Loss\")"
   ]
  },
  {
   "cell_type": "code",
   "execution_count": 27,
   "id": "2d179e87",
   "metadata": {},
   "outputs": [
    {
     "name": "stdout",
     "output_type": "stream",
     "text": [
      "Want to replace best model with this model? (y/n): y\n"
     ]
    },
    {
     "name": "stderr",
     "output_type": "stream",
     "text": [
      "WARNING:absl:Found untraced functions such as lstm_cell_layer_call_fn, lstm_cell_layer_call_and_return_conditional_losses while saving (showing 2 of 2). These functions will not be directly callable after loading.\n"
     ]
    },
    {
     "name": "stdout",
     "output_type": "stream",
     "text": [
      "INFO:tensorflow:Assets written to: ./saved_models/BEST_LSTM65/assets\n"
     ]
    },
    {
     "name": "stderr",
     "output_type": "stream",
     "text": [
      "INFO:tensorflow:Assets written to: ./saved_models/BEST_LSTM65/assets\n"
     ]
    }
   ],
   "source": [
    "save = input(\"Want to replace best model with this model? (y/n): \")\n",
    "\n",
    "if save.lower() == \"y\":\n",
    "    tf.keras.models.save_model(model, './saved_models/{}'.format(model_config[\"Model_Name\"]))"
   ]
  }
 ],
 "metadata": {
  "kernelspec": {
   "display_name": "Python 3 (ipykernel)",
   "language": "python",
   "name": "python3"
  },
  "language_info": {
   "codemirror_mode": {
    "name": "ipython",
    "version": 3
   },
   "file_extension": ".py",
   "mimetype": "text/x-python",
   "name": "python",
   "nbconvert_exporter": "python",
   "pygments_lexer": "ipython3",
   "version": "3.10.5"
  }
 },
 "nbformat": 4,
 "nbformat_minor": 5
}
