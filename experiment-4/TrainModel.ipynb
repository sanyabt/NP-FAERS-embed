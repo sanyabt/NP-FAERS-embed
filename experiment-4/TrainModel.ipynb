{
 "cells": [
  {
   "cell_type": "code",
   "execution_count": 1,
   "id": "73b3316d",
   "metadata": {},
   "outputs": [],
   "source": [
    "import numpy as np\n",
    "import pandas as pd\n",
    "import tensorflow as tf\n",
    "import matplotlib.pyplot as plt"
   ]
  },
  {
   "cell_type": "code",
   "execution_count": 2,
   "id": "8705fa5a",
   "metadata": {},
   "outputs": [],
   "source": [
    "%matplotlib inline"
   ]
  },
  {
   "cell_type": "code",
   "execution_count": 3,
   "id": "99764632",
   "metadata": {},
   "outputs": [],
   "source": [
    "# tf.compat.v1.enable_eager_execution()\n",
    "# from tensorflow.python.ops.numpy_ops import np_config\n",
    "# np_config.enable_numpy_behavior()\n",
    "# tf.executing_eagerly()"
   ]
  },
  {
   "cell_type": "code",
   "execution_count": 4,
   "id": "b965151e",
   "metadata": {},
   "outputs": [
    {
     "data": {
      "text/plain": [
       "True"
      ]
     },
     "execution_count": 4,
     "metadata": {},
     "output_type": "execute_result"
    }
   ],
   "source": [
    "tf.executing_eagerly()"
   ]
  },
  {
   "cell_type": "code",
   "execution_count": 5,
   "id": "d26a7f05",
   "metadata": {},
   "outputs": [],
   "source": [
    "#Maximum sequence length including padding\n",
    "global MAXLEN\n",
    "MAXLEN = 400"
   ]
  },
  {
   "cell_type": "markdown",
   "id": "34891f72",
   "metadata": {},
   "source": [
    "# Load data from csv"
   ]
  },
  {
   "cell_type": "code",
   "execution_count": 6,
   "id": "b4ed9c3d",
   "metadata": {},
   "outputs": [],
   "source": [
    "if \"x1TrainRnnS\" not in locals():\n",
    "    train = pd.read_pickle(\"../data/proccesed_train_set.pkl\")\n",
    "    x1TrainRnnS, x2TrainRnnS = train[[\"x1\", \"x2\"]].applymap(lambda x: np.asarray(x).astype('float32')).values.T\n",
    "    yTrainRnnS = train[\"y\"].astype('float32')\n",
    "    test = pd.read_pickle(\"../data/proccesed_test_set.pkl\")\n",
    "    x1ValRnnS, x2ValRnnS = test[[\"x1\", \"x2\"]].applymap(lambda x: np.asarray(x).astype('float32')).values.T\n",
    "    yValRnnS = test[\"y\"].astype('float32')\n",
    "    del train\n",
    "    del test"
   ]
  },
  {
   "cell_type": "code",
   "execution_count": 7,
   "id": "0e7eb342",
   "metadata": {},
   "outputs": [],
   "source": [
    "# del x1TrainRnnS"
   ]
  },
  {
   "cell_type": "markdown",
   "id": "ffdcd664",
   "metadata": {},
   "source": [
    "--------------------------------"
   ]
  },
  {
   "cell_type": "code",
   "execution_count": 8,
   "id": "6c1b0ae7",
   "metadata": {},
   "outputs": [],
   "source": [
    "# x, y = tf.constant([[[1.0,2.0,3.0], [1.0,2.0,3.0]],[[3.0,4.0,5.0],[3.0,4.0,5.0]]])"
   ]
  },
  {
   "cell_type": "code",
   "execution_count": 9,
   "id": "ecffcf43",
   "metadata": {},
   "outputs": [],
   "source": [
    "@tf.function(jit_compile=True)  # The decorator converts `cosine_similarity` into a tensolflow `Function`.\n",
    "def cosine_similarity(vects: tf.TensorArray) -> tf.TensorArray:\n",
    "    '''Cosine similarity to be calculated as sum(x*y)/(sqrt(sum(x))*sqrt(sum(y))).\n",
    "    This is achieved through Tensorflow functions to retain performance.\n",
    "    \n",
    "    Parameters\n",
    "    ----------\n",
    "    vects: tf.TensorArray\n",
    "        \n",
    "    \n",
    "    Returns\n",
    "    -------\n",
    "    cosine_distance: tf.TensorArray\n",
    "       The result of the cosine similarity between the vectors.    \n",
    "    '''\n",
    "    x, y = vects\n",
    "    return tf.math.divide(tf.reduce_sum(tf.multiply(x,y), axis=1, keepdims=True), tf.multiply(tf.norm(x, ord=2, axis=1, keepdims=True), tf.norm(y, ord=2, axis=1, keepdims=True)))"
   ]
  },
  {
   "cell_type": "code",
   "execution_count": 10,
   "id": "00a72ef0",
   "metadata": {},
   "outputs": [],
   "source": [
    "# tf.assert_less(cosine_similarity(tf.constant([[[1.0,2.0,3.0]],[[3.0,4.0,5.0]]]))[0][0], 0.982708)"
   ]
  },
  {
   "cell_type": "code",
   "execution_count": 11,
   "id": "ff560c06",
   "metadata": {},
   "outputs": [],
   "source": [
    "@tf.function(jit_compile=True)  # The decorator converts `cosine_distance` into a tensolflow `Function`.\n",
    "def cosine_distance(vects: tf.TensorArray) -> tf.TensorArray:\n",
    "    '''Cosine distance to be calculated as 1-(cosine similarity).\n",
    "    Where cosine similarity equals sum(x*y)/(sqrt(sum(x))*sqrt(sum(y))).\n",
    "    This is achieved through Tensorflow functions to retain performance.\n",
    "    \n",
    "    Parameters\n",
    "    ----------\n",
    "    vects: tf.TensorArray\n",
    "        \n",
    "    \n",
    "    Returns\n",
    "    -------\n",
    "    cosine_distance: tf.TensorArray\n",
    "        The result of 1-cosine similarity between the vectors. \n",
    "    '''\n",
    "    x, y = vects\n",
    "    return tf.math.subtract(tf.constant([1.0]), tf.math.divide(tf.reduce_sum(tf.multiply(x,y), axis=1, keepdims=True), tf.multiply(tf.norm(x, ord=2, axis=1, keepdims=True), tf.norm(y, ord=2, axis=1, keepdims=True))))"
   ]
  },
  {
   "cell_type": "code",
   "execution_count": 12,
   "id": "dafc3241",
   "metadata": {},
   "outputs": [],
   "source": [
    "# tf.assert_greater(cosine_distance(tf.constant([[[1.0,2.0,3.0]],[[3.0,4.0,5.0]]]))[0][0], 1 - 0.982708)"
   ]
  },
  {
   "cell_type": "code",
   "execution_count": 13,
   "id": "dfcd3f95",
   "metadata": {},
   "outputs": [],
   "source": [
    "class ContrastiveLoss(tf.keras.losses.Loss):\n",
    "    def __init__(self, margin: tf.float32 = 1.0):\n",
    "        super(ContrastiveLoss, self).__init__()\n",
    "        self.name = 'ContrastiveLoss'\n",
    "        self.margin = tf.constant(margin)\n",
    "\n",
    "    @tf.function(jit_compile=True)  # The decorator converts `loss` into a tensolflow `Function`.\n",
    "    def call(self, y_true: tf.TensorArray, y_pred: tf.TensorArray) -> tf.Tensor:\n",
    "        return tf.math.reduce_mean((1 - y_true) * tf.math.square(y_pred) + (y_true) * tf.math.square(tf.math.maximum(self.margin - (y_pred), 0.0)), axis = -1)"
   ]
  },
  {
   "cell_type": "code",
   "execution_count": 14,
   "id": "fc864cdd",
   "metadata": {},
   "outputs": [],
   "source": [
    "# a = ContrastiveLoss(margin = 1.0)\n",
    "# print(a.get_config())\n",
    "# tf.assert_ a.call(np.array([1,0,1]), np.array([1,0,1])).numpy() == 0.0\n",
    "# tf.assert_ a.call(np.array([0,0,0]), np.array([1,0,1])).numpy() >= 0.666\n",
    "# tf.assert_ a.call(np.array([0,1,0]), np.array([1,0,1])).numpy() >= 1.0"
   ]
  },
  {
   "cell_type": "code",
   "execution_count": 15,
   "id": "57038ab9",
   "metadata": {},
   "outputs": [],
   "source": [
    "def build_model2(model_type, embedding_dim, num_rnn_node, num_dense_node, num_layer, activation_fn, learning_rate, optimizer, margin):\n",
    "    input_x = tf.keras.layers.Input(MAXLEN)\n",
    "    input_1 = tf.keras.layers.Input(MAXLEN)\n",
    "    input_2 = tf.keras.layers.Input(MAXLEN)\n",
    "    embedding = tf.keras.layers.Embedding(input_dim=28, output_dim=embedding_dim, mask_zero=True)\n",
    "    x = embedding(input_x)\n",
    "    x = tf.keras.layers.BatchNormalization()(x)\n",
    "    \n",
    "    if model_type == \"lstm\":\n",
    "        x = tf.keras.layers.LSTM(num_rnn_node)(x)\n",
    "    elif model_type==\"gru\":\n",
    "        x = tf.keras.layers.GRU(num_rnn_node)(x)\n",
    " \n",
    "    num = num_dense_node\n",
    "    for _ in range(num_layer):\n",
    "        x = tf.keras.layers.Dense(num, activation=activation_fn)(x)\n",
    "        num /= 2\n",
    "        \n",
    "    embedding_network = tf.keras.Model(input_x, x)\n",
    "\n",
    "    tower_1 = embedding_network(input_1)\n",
    "    tower_2 = embedding_network(input_2)\n",
    "\n",
    "    merge_layer = tf.keras.layers.Lambda(cosine_similarity)([tower_1, tower_2])\n",
    "    normal_layer = tf.keras.layers.BatchNormalization()(merge_layer)\n",
    "    output_layer = tf.keras.layers.Dense(1, activation=\"sigmoid\")(normal_layer)\n",
    "    contr = tf.keras.Model(inputs=[input_1, input_2], outputs=output_layer)\n",
    "    \n",
    "    if optimizer == \"Adam\":\n",
    "        opt = tf.keras.optimizers.Adam(learning_rate=learning_rate)\n",
    "    elif optimizer ==\"RMSprop\":                \n",
    "        opt = tf.keras.optimizers.RMSprop(learning_rate=learning_rate)\n",
    "    elif optimizer ==\"SGD\":                \n",
    "        opt = tf.keras.optimizers.SGD(learning_rate=learning_rate)\n",
    "\n",
    "    contr.compile(loss=ContrastiveLoss(margin = margin), optimizer=opt, metrics=[\"accuracy\"])\n",
    "    \n",
    "    return contr"
   ]
  },
  {
   "cell_type": "code",
   "execution_count": 16,
   "id": "e297fd75",
   "metadata": {},
   "outputs": [],
   "source": [
    "def plt_metric(history, metric, title, has_valid=True):\n",
    "    \"\"\"Plots the given 'metric' from 'history'.\n",
    "\n",
    "    Arguments:\n",
    "        history: history attribute of History object returned from Model.fit.\n",
    "        metric: Metric to plot, a string value present as key in 'history'.\n",
    "        title: A string to be used as title of plot.\n",
    "        has_valid: Boolean, true if valid data was passed to Model.fit else false.\n",
    "\n",
    "    Returns:\n",
    "        None.\n",
    "    \"\"\"\n",
    "    plt.plot(history[metric])\n",
    "    if has_valid:\n",
    "        plt.plot(history[\"val_\" + metric])\n",
    "        plt.legend([\"train\", \"validation\"], loc=\"upper left\")\n",
    "    plt.title(title)\n",
    "    plt.ylabel(metric)\n",
    "    plt.xlabel(\"epoch\")\n",
    "    plt.show()"
   ]
  },
  {
   "cell_type": "markdown",
   "id": "b7e10db6",
   "metadata": {},
   "source": [
    "# Build model, load weights and evaluate on test data"
   ]
  },
  {
   "cell_type": "code",
   "execution_count": 21,
   "id": "314b46ff",
   "metadata": {},
   "outputs": [
    {
     "name": "stdout",
     "output_type": "stream",
     "text": [
      "Model: \"model_3\"\n",
      "__________________________________________________________________________________________________\n",
      " Layer (type)                   Output Shape         Param #     Connected to                     \n",
      "==================================================================================================\n",
      " input_8 (InputLayer)           [(None, 400)]        0           []                               \n",
      "                                                                                                  \n",
      " input_9 (InputLayer)           [(None, 400)]        0           []                               \n",
      "                                                                                                  \n",
      " model_2 (Functional)           (None, 256)          220576      ['input_8[0][0]',                \n",
      "                                                                  'input_9[0][0]']                \n",
      "                                                                                                  \n",
      " lambda_1 (Lambda)              (None, 1)            0           ['model_2[0][0]',                \n",
      "                                                                  'model_2[1][0]']                \n",
      "                                                                                                  \n",
      " batch_normalization_4 (BatchNo  (None, 1)           4           ['lambda_1[0][0]']               \n",
      " rmalization)                                                                                     \n",
      "                                                                                                  \n",
      " dense_3 (Dense)                (None, 1)            2           ['batch_normalization_4[0][0]']  \n",
      "                                                                                                  \n",
      "==================================================================================================\n",
      "Total params: 220,582\n",
      "Trainable params: 220,560\n",
      "Non-trainable params: 22\n",
      "__________________________________________________________________________________________________\n"
     ]
    }
   ],
   "source": [
    "model = build_model2(\n",
    "    model_type = \"lstm\", \n",
    "    embedding_dim = 10, \n",
    "    num_rnn_node = MAXLEN//2, \n",
    "    num_dense_node = 256, \n",
    "    num_layer = 1, \n",
    "    activation_fn = \"tanh\",\n",
    "    learning_rate = 0.001,\n",
    "    optimizer= \"Adam\",\n",
    "    margin = 1.0\n",
    ")\n",
    "model.summary()"
   ]
  },
  {
   "cell_type": "code",
   "execution_count": 22,
   "id": "10c1d074",
   "metadata": {},
   "outputs": [],
   "source": [
    "EPOCHS = 30\n",
    "model_checkpoint_callback = tf.keras.callbacks.ModelCheckpoint(\n",
    "    filepath=checkpoint_filepath,\n",
    "    save_weights_only=True,\n",
    "    monitor='val_accuracy',\n",
    "    mode='max',\n",
    "    save_best_only=True)\n",
    "early_stopping = tf.keras.callbacks.EarlyStopping(monitor='loss', mode='auto', patience=7)"
   ]
  },
  {
   "cell_type": "code",
   "execution_count": 23,
   "id": "a1e8f2ac",
   "metadata": {},
   "outputs": [
    {
     "name": "stdout",
     "output_type": "stream",
     "text": [
      "Epoch 1/30\n",
      "1521/1521 [==============================] - 404s 263ms/step - loss: 0.1424 - accuracy: 0.8522 - val_loss: 0.1155 - val_accuracy: 0.8639\n",
      "Epoch 2/30\n",
      "1521/1521 [==============================] - 412s 271ms/step - loss: 0.1112 - accuracy: 0.8654 - val_loss: 0.1056 - val_accuracy: 0.8718\n",
      "Epoch 3/30\n",
      "1521/1521 [==============================] - 413s 271ms/step - loss: 0.1041 - accuracy: 0.8699 - val_loss: 0.1031 - val_accuracy: 0.8690\n",
      "Epoch 4/30\n",
      "1521/1521 [==============================] - 395s 260ms/step - loss: 0.1002 - accuracy: 0.8733 - val_loss: 0.1022 - val_accuracy: 0.8720\n",
      "Epoch 5/30\n",
      "1521/1521 [==============================] - 388s 255ms/step - loss: 0.0972 - accuracy: 0.8790 - val_loss: 0.1030 - val_accuracy: 0.8738\n",
      "Epoch 6/30\n",
      "1521/1521 [==============================] - 389s 256ms/step - loss: 0.0924 - accuracy: 0.8890 - val_loss: 0.1045 - val_accuracy: 0.8746\n",
      "Epoch 7/30\n",
      "1521/1521 [==============================] - 391s 257ms/step - loss: 0.0877 - accuracy: 0.8954 - val_loss: 0.0993 - val_accuracy: 0.8820\n",
      "Epoch 8/30\n",
      "1521/1521 [==============================] - 388s 255ms/step - loss: 0.0816 - accuracy: 0.9012 - val_loss: 0.1220 - val_accuracy: 0.8655\n",
      "Epoch 9/30\n",
      "1521/1521 [==============================] - 401s 263ms/step - loss: 0.0748 - accuracy: 0.9105 - val_loss: 0.1022 - val_accuracy: 0.8869\n",
      "Epoch 10/30\n",
      "1521/1521 [==============================] - 400s 263ms/step - loss: 0.0687 - accuracy: 0.9176 - val_loss: 0.1308 - val_accuracy: 0.8642\n",
      "Epoch 11/30\n",
      "1521/1521 [==============================] - 396s 260ms/step - loss: 0.0623 - accuracy: 0.9245 - val_loss: 0.1245 - val_accuracy: 0.8697\n",
      "Epoch 12/30\n",
      "1521/1521 [==============================] - 403s 265ms/step - loss: 0.0598 - accuracy: 0.9286 - val_loss: 0.1355 - val_accuracy: 0.8626\n",
      "Epoch 13/30\n",
      "1521/1521 [==============================] - 398s 262ms/step - loss: 0.0532 - accuracy: 0.9355 - val_loss: 0.1343 - val_accuracy: 0.8614\n",
      "Epoch 14/30\n",
      "1521/1521 [==============================] - 403s 265ms/step - loss: 0.0495 - accuracy: 0.9400 - val_loss: 0.1360 - val_accuracy: 0.8590\n",
      "Epoch 15/30\n",
      "1521/1521 [==============================] - 390s 256ms/step - loss: 0.0483 - accuracy: 0.9421 - val_loss: 0.1336 - val_accuracy: 0.8634\n",
      "Epoch 16/30\n",
      "1521/1521 [==============================] - 389s 256ms/step - loss: 0.0436 - accuracy: 0.9466 - val_loss: 0.1257 - val_accuracy: 0.8662\n",
      "Epoch 17/30\n",
      "1521/1521 [==============================] - 389s 256ms/step - loss: 0.0418 - accuracy: 0.9495 - val_loss: 0.1347 - val_accuracy: 0.8616\n",
      "Epoch 18/30\n",
      "1521/1521 [==============================] - 388s 255ms/step - loss: 0.0378 - accuracy: 0.9557 - val_loss: 0.1342 - val_accuracy: 0.8637\n",
      "Epoch 19/30\n",
      "1521/1521 [==============================] - 389s 256ms/step - loss: 0.0384 - accuracy: 0.9554 - val_loss: 0.1370 - val_accuracy: 0.8609\n",
      "Epoch 20/30\n",
      "1521/1521 [==============================] - 389s 256ms/step - loss: 0.0356 - accuracy: 0.9576 - val_loss: 0.1336 - val_accuracy: 0.8624\n",
      "Epoch 21/30\n",
      "1521/1521 [==============================] - 389s 256ms/step - loss: 0.0364 - accuracy: 0.9563 - val_loss: 0.1316 - val_accuracy: 0.8659\n",
      "Epoch 22/30\n",
      "1521/1521 [==============================] - 389s 256ms/step - loss: 0.0338 - accuracy: 0.9598 - val_loss: 0.1193 - val_accuracy: 0.8766\n",
      "Epoch 23/30\n",
      "1521/1521 [==============================] - 389s 256ms/step - loss: 0.0311 - accuracy: 0.9645 - val_loss: 0.1312 - val_accuracy: 0.8634\n",
      "Epoch 24/30\n",
      "1521/1521 [==============================] - 390s 256ms/step - loss: 0.0375 - accuracy: 0.9564 - val_loss: 0.1288 - val_accuracy: 0.8682\n",
      "Epoch 25/30\n",
      "1521/1521 [==============================] - 390s 256ms/step - loss: 0.0292 - accuracy: 0.9656 - val_loss: 0.1224 - val_accuracy: 0.8748\n",
      "Epoch 26/30\n",
      "1521/1521 [==============================] - 390s 256ms/step - loss: 0.0282 - accuracy: 0.9668 - val_loss: 0.1347 - val_accuracy: 0.8621\n",
      "Epoch 27/30\n",
      "1521/1521 [==============================] - 391s 257ms/step - loss: 0.0293 - accuracy: 0.9664 - val_loss: 0.1113 - val_accuracy: 0.8843\n",
      "Epoch 28/30\n",
      "1521/1521 [==============================] - 395s 260ms/step - loss: 0.0268 - accuracy: 0.9688 - val_loss: 0.1274 - val_accuracy: 0.8702\n",
      "Epoch 29/30\n",
      "1521/1521 [==============================] - 395s 260ms/step - loss: 0.0298 - accuracy: 0.9655 - val_loss: 0.1362 - val_accuracy: 0.8628\n",
      "Epoch 30/30\n",
      "1521/1521 [==============================] - 395s 260ms/step - loss: 0.0257 - accuracy: 0.9700 - val_loss: 0.1222 - val_accuracy: 0.8769\n"
     ]
    }
   ],
   "source": [
    "# Model weights are saved at the end of every epoch, if it's the best seen so far.\n",
    "history = model.fit(\n",
    "    x=[np.stack(x1TrainRnnS), np.stack(x2TrainRnnS)],\n",
    "    y=np.stack(yTrainRnnS),\n",
    "    epochs=EPOCHS,\n",
    "    batch_size=16,\n",
    "    validation_data=([np.stack(x1ValRnnS), np.stack(x2ValRnnS)], np.stack(yValRnnS)),\n",
    "    callbacks=[model_checkpoint_callback, early_stopping],\n",
    "    use_multiprocessing=True\n",
    ")"
   ]
  },
  {
   "cell_type": "code",
   "execution_count": null,
   "id": "83ac27e4",
   "metadata": {},
   "outputs": [],
   "source": [
    "# Plot the accuracy\n",
    "plt_metric(history=history.history, metric=\"accuracy\", title=\"Model accuracy\")"
   ]
  },
  {
   "cell_type": "code",
   "execution_count": null,
   "id": "8aae1b57",
   "metadata": {},
   "outputs": [],
   "source": [
    "# Plot the constrastive loss\n",
    "plt_metric(history=history.history, metric=\"loss\", title=\"Constrastive Loss\")"
   ]
  },
  {
   "cell_type": "code",
   "execution_count": null,
   "id": "177f790f",
   "metadata": {},
   "outputs": [],
   "source": [
    "model.load_weights(checkpoint_filepath)"
   ]
  },
  {
   "cell_type": "code",
   "execution_count": null,
   "id": "549ed13a",
   "metadata": {
    "scrolled": true
   },
   "outputs": [],
   "source": [
    "# model.save(\"../ModelCheckpointSaves/best_model.h5\")\n",
    "# model.load_weights(\"../exp3-hyperparameter-tuning/alstm-22-0.01.hdf5\")"
   ]
  },
  {
   "cell_type": "code",
   "execution_count": null,
   "id": "d6b4c59c",
   "metadata": {},
   "outputs": [],
   "source": []
  },
  {
   "cell_type": "code",
   "execution_count": null,
   "id": "e1d0180b",
   "metadata": {},
   "outputs": [],
   "source": []
  }
 ],
 "metadata": {
  "kernelspec": {
   "display_name": "Python 3 (ipykernel)",
   "language": "python",
   "name": "python3"
  },
  "language_info": {
   "codemirror_mode": {
    "name": "ipython",
    "version": 3
   },
   "file_extension": ".py",
   "mimetype": "text/x-python",
   "name": "python",
   "nbconvert_exporter": "python",
   "pygments_lexer": "ipython3",
   "version": "3.10.5"
  }
 },
 "nbformat": 4,
 "nbformat_minor": 5
}
