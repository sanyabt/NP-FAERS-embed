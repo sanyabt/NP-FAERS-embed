{
 "cells": [
  {
   "cell_type": "markdown",
   "id": "37df1e8d",
   "metadata": {},
   "source": [
    "# Imports & Globals"
   ]
  },
  {
   "cell_type": "code",
   "execution_count": 1,
   "id": "73b3316d",
   "metadata": {},
   "outputs": [],
   "source": [
    "import numpy as np\n",
    "import pandas as pd\n",
    "import datetime\n",
    "from yaml import safe_load\n",
    "import tensorflow as tf"
   ]
  },
  {
   "cell_type": "code",
   "execution_count": 2,
   "id": "9ee6c794",
   "metadata": {},
   "outputs": [
    {
     "name": "stdout",
     "output_type": "stream",
     "text": [
      "tf.version:  2.9.1\n",
      "tf.keras.version:  2.9.0\n",
      "tf.config.devices:  [PhysicalDevice(name='/physical_device:CPU:0', device_type='CPU'), PhysicalDevice(name='/physical_device:GPU:0', device_type='GPU')]\n"
     ]
    },
    {
     "name": "stderr",
     "output_type": "stream",
     "text": [
      "2022-10-21 12:41:45.015537: I tensorflow/stream_executor/cuda/cuda_gpu_executor.cc:975] successful NUMA node read from SysFS had negative value (-1), but there must be at least one NUMA node, so returning NUMA node zero\n",
      "2022-10-21 12:41:45.038632: I tensorflow/stream_executor/cuda/cuda_gpu_executor.cc:975] successful NUMA node read from SysFS had negative value (-1), but there must be at least one NUMA node, so returning NUMA node zero\n",
      "2022-10-21 12:41:45.038780: I tensorflow/stream_executor/cuda/cuda_gpu_executor.cc:975] successful NUMA node read from SysFS had negative value (-1), but there must be at least one NUMA node, so returning NUMA node zero\n",
      "2022-10-21 12:41:45.040095: I tensorflow/core/platform/cpu_feature_guard.cc:193] This TensorFlow binary is optimized with oneAPI Deep Neural Network Library (oneDNN) to use the following CPU instructions in performance-critical operations:  SSE4.1 SSE4.2 AVX AVX2 FMA\n",
      "To enable them in other operations, rebuild TensorFlow with the appropriate compiler flags.\n",
      "2022-10-21 12:41:45.040637: I tensorflow/stream_executor/cuda/cuda_gpu_executor.cc:975] successful NUMA node read from SysFS had negative value (-1), but there must be at least one NUMA node, so returning NUMA node zero\n",
      "2022-10-21 12:41:45.040757: I tensorflow/stream_executor/cuda/cuda_gpu_executor.cc:975] successful NUMA node read from SysFS had negative value (-1), but there must be at least one NUMA node, so returning NUMA node zero\n",
      "2022-10-21 12:41:45.040950: I tensorflow/stream_executor/cuda/cuda_gpu_executor.cc:975] successful NUMA node read from SysFS had negative value (-1), but there must be at least one NUMA node, so returning NUMA node zero\n",
      "2022-10-21 12:41:45.418217: I tensorflow/stream_executor/cuda/cuda_gpu_executor.cc:975] successful NUMA node read from SysFS had negative value (-1), but there must be at least one NUMA node, so returning NUMA node zero\n",
      "2022-10-21 12:41:45.418419: I tensorflow/stream_executor/cuda/cuda_gpu_executor.cc:975] successful NUMA node read from SysFS had negative value (-1), but there must be at least one NUMA node, so returning NUMA node zero\n",
      "2022-10-21 12:41:45.418841: I tensorflow/stream_executor/cuda/cuda_gpu_executor.cc:975] successful NUMA node read from SysFS had negative value (-1), but there must be at least one NUMA node, so returning NUMA node zero\n",
      "2022-10-21 12:41:45.419014: I tensorflow/core/common_runtime/gpu/gpu_device.cc:1532] Created device /device:GPU:0 with 6650 MB memory:  -> device: 0, name: NVIDIA GeForce RTX 2070 with Max-Q Design, pci bus id: 0000:01:00.0, compute capability: 7.5\n"
     ]
    }
   ],
   "source": [
    "from SiameseModel import CosineDistance, ContrastiveLoss, get_model, plt_metric "
   ]
  },
  {
   "cell_type": "code",
   "execution_count": 3,
   "id": "8705fa5a",
   "metadata": {},
   "outputs": [],
   "source": [
    "%matplotlib inline"
   ]
  },
  {
   "cell_type": "code",
   "execution_count": 4,
   "id": "b84ba337",
   "metadata": {},
   "outputs": [],
   "source": [
    "with open('LSTM65.yaml', 'r') as file:\n",
    "    model_config = safe_load(file)"
   ]
  },
  {
   "cell_type": "markdown",
   "id": "34891f72",
   "metadata": {},
   "source": [
    "# Load data from csv"
   ]
  },
  {
   "cell_type": "code",
   "execution_count": 5,
   "id": "b4ed9c3d",
   "metadata": {},
   "outputs": [
    {
     "name": "stdout",
     "output_type": "stream",
     "text": [
      "0    710763\n",
      "1    719739\n",
      "Name: y, dtype: int64\n",
      "0    473402\n",
      "1    480267\n",
      "Name: y, dtype: int64\n"
     ]
    }
   ],
   "source": [
    "train = pd.read_pickle(\"../data/proccesed_train_set.pkl\")\n",
    "x1TrainRnnS, x2TrainRnnS = train[[\"x1\", \"x2\"]].applymap(lambda x: np.asarray(x).astype('float32')).values.T\n",
    "yTrainRnnS = train[\"y\"].astype('float32')\n",
    "print(train[\"y\"].value_counts(ascending=True))\n",
    "del train\n",
    "\n",
    "test = pd.read_pickle(\"../data/proccesed_test_set.pkl\")\n",
    "x1ValRnnS, x2ValRnnS = test[[\"x1\", \"x2\"]].applymap(lambda x: np.asarray(x).astype('float32')).values.T\n",
    "yValRnnS = test[\"y\"].astype('float32')\n",
    "print(test[\"y\"].value_counts(ascending=True))\n",
    "del test"
   ]
  },
  {
   "cell_type": "markdown",
   "id": "ffdcd664",
   "metadata": {},
   "source": [
    "--------------------------------"
   ]
  },
  {
   "cell_type": "markdown",
   "id": "b7e10db6",
   "metadata": {},
   "source": [
    "# Build model, load weights and evaluate on test data"
   ]
  },
  {
   "cell_type": "code",
   "execution_count": 6,
   "id": "314b46ff",
   "metadata": {},
   "outputs": [
    {
     "name": "stderr",
     "output_type": "stream",
     "text": [
      "2022-10-21 12:42:14.399609: I tensorflow/stream_executor/cuda/cuda_gpu_executor.cc:975] successful NUMA node read from SysFS had negative value (-1), but there must be at least one NUMA node, so returning NUMA node zero\n",
      "2022-10-21 12:42:14.400060: I tensorflow/stream_executor/cuda/cuda_gpu_executor.cc:975] successful NUMA node read from SysFS had negative value (-1), but there must be at least one NUMA node, so returning NUMA node zero\n",
      "2022-10-21 12:42:14.400219: I tensorflow/stream_executor/cuda/cuda_gpu_executor.cc:975] successful NUMA node read from SysFS had negative value (-1), but there must be at least one NUMA node, so returning NUMA node zero\n",
      "2022-10-21 12:42:14.400382: I tensorflow/stream_executor/cuda/cuda_gpu_executor.cc:975] successful NUMA node read from SysFS had negative value (-1), but there must be at least one NUMA node, so returning NUMA node zero\n",
      "2022-10-21 12:42:14.400518: I tensorflow/stream_executor/cuda/cuda_gpu_executor.cc:975] successful NUMA node read from SysFS had negative value (-1), but there must be at least one NUMA node, so returning NUMA node zero\n",
      "2022-10-21 12:42:14.400607: I tensorflow/core/common_runtime/gpu/gpu_device.cc:1532] Created device /job:localhost/replica:0/task:0/device:GPU:0 with 6650 MB memory:  -> device: 0, name: NVIDIA GeForce RTX 2070 with Max-Q Design, pci bus id: 0000:01:00.0, compute capability: 7.5\n"
     ]
    },
    {
     "name": "stdout",
     "output_type": "stream",
     "text": [
      "Model: \"model_1\"\n",
      "__________________________________________________________________________________________________\n",
      " Layer (type)                   Output Shape         Param #     Connected to                     \n",
      "==================================================================================================\n",
      " input_2 (InputLayer)           [(None, 65)]         0           []                               \n",
      "                                                                                                  \n",
      " input_3 (InputLayer)           [(None, 65)]         0           []                               \n",
      "                                                                                                  \n",
      " model (Functional)             (None, 65)           76425       ['input_2[0][0]',                \n",
      "                                                                  'input_3[0][0]']                \n",
      "                                                                                                  \n",
      " lambda (Lambda)                (None, 1)            0           ['model[0][0]',                  \n",
      "                                                                  'model[1][0]']                  \n",
      "                                                                                                  \n",
      " batch_normalization_1 (BatchNo  (None, 1)           4           ['lambda[0][0]']                 \n",
      " rmalization)                                                                                     \n",
      "                                                                                                  \n",
      " dense_2 (Dense)                (None, 1)            2           ['batch_normalization_1[0][0]']  \n",
      "                                                                                                  \n",
      "==================================================================================================\n",
      "Total params: 76,431\n",
      "Trainable params: 76,369\n",
      "Non-trainable params: 62\n",
      "__________________________________________________________________________________________________\n"
     ]
    }
   ],
   "source": [
    "learning_rate = model_config['Learning_Rate']\n",
    "\n",
    "lr_schedule = tf.keras.optimizers.schedules.ExponentialDecay(\n",
    "    initial_learning_rate = learning_rate,\n",
    "    decay_steps=2000,\n",
    "    decay_rate=0.75,\n",
    "    staircase=True\n",
    ")\n",
    "\n",
    "model = get_model(\n",
    "    model_type =  model_config['Model_Type'], \n",
    "    maxlen =  model_config['MAXLEN'],\n",
    "    embedding_dim = model_config['Embedding_Dimensions'], \n",
    "    num_rnn_node =  model_config['Number_RNN_Nodes'],\n",
    "    bidirectional = model_config['Bidirectional'],\n",
    "    num_dense_node =  model_config['Number_Dense_Nodes'], \n",
    "    num_layer =  model_config['Number_Layers'], \n",
    "    activation_fn =  model_config['Activation_Function'],\n",
    "    learning_rate = lr_schedule,\n",
    "    optimizer_fn = model_config['Optimizer'],\n",
    "    margin =  model_config['Margin'],\n",
    "    output_activation = model_config['Output_Activation'],\n",
    "    random_seed = model_config['Random_Seed']\n",
    ")\n",
    "model.summary()"
   ]
  },
  {
   "cell_type": "code",
   "execution_count": 7,
   "id": "7ed2305e",
   "metadata": {},
   "outputs": [
    {
     "name": "stdout",
     "output_type": "stream",
     "text": [
      "../ModelCheckpointSaves/maxlen-65/BEST_LSTM65/Fri-Oct-21-2022/12-42PM\n"
     ]
    }
   ],
   "source": [
    "EPOCHS = 100\n",
    "time = datetime.datetime.now()\n",
    "checkpoint_filepath = \"../ModelCheckpointSaves/maxlen-{}/{}/{}/{}\".format(model_config['MAXLEN'], model_config[\"Model_Name\"], time.strftime(\"%a-%b-%d-%Y\"), time.strftime(\"%I-%M%p\"))\n",
    "print(checkpoint_filepath)\n",
    "model_checkpoint_callback = tf.keras.callbacks.ModelCheckpoint(\n",
    "    filepath=checkpoint_filepath,\n",
    "    save_weights_only=True,\n",
    "    monitor='val_accuracy',\n",
    "    mode='max',\n",
    "    save_best_only=True)\n",
    "early_stopping = tf.keras.callbacks.EarlyStopping(monitor='val_loss', mode='auto', patience=10, min_delta = 0.00005, restore_best_weights = True)"
   ]
  },
  {
   "cell_type": "code",
   "execution_count": 8,
   "id": "a1e8f2ac",
   "metadata": {},
   "outputs": [
    {
     "name": "stdout",
     "output_type": "stream",
     "text": [
      "Epoch 1/100\n"
     ]
    },
    {
     "name": "stderr",
     "output_type": "stream",
     "text": [
      "2022-10-21 12:42:22.134990: W tensorflow/compiler/jit/mark_for_compilation_pass.cc:1750] (One-time warning): Not using XLA:CPU for cluster.\n",
      "\n",
      "If you want XLA:CPU, do one of the following:\n",
      "\n",
      " - set the TF_XLA_FLAGS to include \"--tf_xla_cpu_global_jit\", or\n",
      " - set cpu_global_jit to true on this session's OptimizerOptions, or\n",
      " - use experimental_jit_scope, or\n",
      " - use tf.function(jit_compile=True).\n",
      "\n",
      "To confirm that XLA is active, pass --vmodule=xla_compilation_cache=1 (as a\n",
      "proper command-line flag, not via TF_XLA_FLAGS).\n",
      "2022-10-21 12:42:29.109580: I tensorflow/compiler/xla/service/service.cc:170] XLA service 0x7f74d8003950 initialized for platform CUDA (this does not guarantee that XLA will be used). Devices:\n",
      "2022-10-21 12:42:29.109607: I tensorflow/compiler/xla/service/service.cc:178]   StreamExecutor device (0): NVIDIA GeForce RTX 2070 with Max-Q Design, Compute Capability 7.5\n",
      "2022-10-21 12:42:29.115180: I tensorflow/compiler/mlir/tensorflow/utils/dump_mlir_util.cc:263] disabling MLIR crash reproducer, set env var `MLIR_CRASH_REPRODUCER_DIRECTORY` to enable.\n",
      "2022-10-21 12:42:29.237726: I tensorflow/core/platform/default/subprocess.cc:304] Start cannot spawn child process: No such file or directory\n",
      "2022-10-21 12:42:29.335342: I tensorflow/compiler/jit/xla_compilation_cache.cc:478] Compiled cluster using XLA!  This line is logged at most once for the lifetime of the process.\n",
      "2022-10-21 12:42:29.345398: W tensorflow/core/common_runtime/forward_type_inference.cc:231] Type inference failed. This indicates an invalid graph that escaped type checking. Error message: INVALID_ARGUMENT: expected compatible input types, but input 1:\n",
      "type_id: TFT_OPTIONAL\n",
      "args {\n",
      "  type_id: TFT_PRODUCT\n",
      "  args {\n",
      "    type_id: TFT_TENSOR\n",
      "    args {\n",
      "      type_id: TFT_LEGACY_VARIANT\n",
      "    }\n",
      "  }\n",
      "}\n",
      " is neither a subtype nor a supertype of the combined inputs preceding it:\n",
      "type_id: TFT_OPTIONAL\n",
      "args {\n",
      "  type_id: TFT_PRODUCT\n",
      "  args {\n",
      "    type_id: TFT_TENSOR\n",
      "    args {\n",
      "      type_id: TFT_FLOAT\n",
      "    }\n",
      "  }\n",
      "}\n",
      "\n",
      "\twhile inferring type of node 'cond_40/output/_19'\n",
      "2022-10-21 12:42:30.110516: I tensorflow/stream_executor/cuda/cuda_dnn.cc:384] Loaded cuDNN version 8401\n"
     ]
    },
    {
     "name": "stdout",
     "output_type": "stream",
     "text": [
      "1789/1789 [==============================] - 53s 24ms/step - loss: 0.0965 - accuracy: 0.9152 - val_loss: 0.0490 - val_accuracy: 0.9455\n",
      "Epoch 2/100\n",
      "1789/1789 [==============================] - 42s 24ms/step - loss: 0.0317 - accuracy: 0.9638 - val_loss: 0.0348 - val_accuracy: 0.9573\n",
      "Epoch 3/100\n",
      "1789/1789 [==============================] - 41s 23ms/step - loss: 0.0221 - accuracy: 0.9730 - val_loss: 0.0310 - val_accuracy: 0.9599\n",
      "Epoch 4/100\n",
      "1789/1789 [==============================] - 42s 23ms/step - loss: 0.0180 - accuracy: 0.9774 - val_loss: 0.0293 - val_accuracy: 0.9616\n",
      "Epoch 5/100\n",
      "1789/1789 [==============================] - 41s 23ms/step - loss: 0.0154 - accuracy: 0.9804 - val_loss: 0.0264 - val_accuracy: 0.9651\n",
      "Epoch 6/100\n",
      "1789/1789 [==============================] - 41s 23ms/step - loss: 0.0138 - accuracy: 0.9826 - val_loss: 0.0285 - val_accuracy: 0.9626\n",
      "Epoch 7/100\n",
      "1789/1789 [==============================] - 41s 23ms/step - loss: 0.0125 - accuracy: 0.9843 - val_loss: 0.0286 - val_accuracy: 0.9623\n",
      "Epoch 8/100\n",
      "1789/1789 [==============================] - 41s 23ms/step - loss: 0.0115 - accuracy: 0.9858 - val_loss: 0.0260 - val_accuracy: 0.9658\n",
      "Epoch 9/100\n",
      "1789/1789 [==============================] - 41s 23ms/step - loss: 0.0107 - accuracy: 0.9870 - val_loss: 0.0263 - val_accuracy: 0.9656\n",
      "Epoch 10/100\n",
      "1789/1789 [==============================] - 41s 23ms/step - loss: 0.0101 - accuracy: 0.9878 - val_loss: 0.0298 - val_accuracy: 0.9613\n",
      "Epoch 11/100\n",
      "1789/1789 [==============================] - 41s 23ms/step - loss: 0.0096 - accuracy: 0.9885 - val_loss: 0.0285 - val_accuracy: 0.9631\n",
      "Epoch 12/100\n",
      "1789/1789 [==============================] - 41s 23ms/step - loss: 0.0093 - accuracy: 0.9891 - val_loss: 0.0262 - val_accuracy: 0.9661\n",
      "Epoch 13/100\n",
      "1789/1789 [==============================] - 42s 23ms/step - loss: 0.0090 - accuracy: 0.9894 - val_loss: 0.0270 - val_accuracy: 0.9651\n",
      "Epoch 14/100\n",
      "1789/1789 [==============================] - 42s 23ms/step - loss: 0.0087 - accuracy: 0.9899 - val_loss: 0.0265 - val_accuracy: 0.9658\n",
      "Epoch 15/100\n",
      "1789/1789 [==============================] - 42s 23ms/step - loss: 0.0085 - accuracy: 0.9902 - val_loss: 0.0268 - val_accuracy: 0.9654\n",
      "Epoch 16/100\n",
      "1789/1789 [==============================] - 42s 23ms/step - loss: 0.0084 - accuracy: 0.9904 - val_loss: 0.0267 - val_accuracy: 0.9656\n",
      "Epoch 17/100\n",
      "1789/1789 [==============================] - 42s 23ms/step - loss: 0.0083 - accuracy: 0.9906 - val_loss: 0.0265 - val_accuracy: 0.9660\n",
      "Epoch 18/100\n",
      "1789/1789 [==============================] - 42s 23ms/step - loss: 0.0082 - accuracy: 0.9907 - val_loss: 0.0267 - val_accuracy: 0.9656\n"
     ]
    }
   ],
   "source": [
    "# Model weights are saved at the end of every epoch, if it's the best seen so far.\n",
    "history = model.fit(\n",
    "    x=[np.stack(x1TrainRnnS), np.stack(x2TrainRnnS)],\n",
    "    y=np.stack(yTrainRnnS),\n",
    "    epochs=EPOCHS,\n",
    "    batch_size=800,\n",
    "    shuffle=True,\n",
    "    validation_data=([np.stack(x1ValRnnS), np.stack(x2ValRnnS)], np.stack(yValRnnS)),\n",
    "    callbacks=[model_checkpoint_callback, early_stopping],\n",
    "    use_multiprocessing=True\n",
    ")"
   ]
  },
  {
   "cell_type": "code",
   "execution_count": 9,
   "id": "83ac27e4",
   "metadata": {},
   "outputs": [
    {
     "data": {
      "image/png": "[encoded data removed]",
      "text/plain": [
       "<Figure size 1080x720 with 1 Axes>"
      ]
     },
     "metadata": {
      "needs_background": "light"
     },
     "output_type": "display_data"
    }
   ],
   "source": [
    "# Plot the accuracy\n",
    "plt_metric(history=history.history, metric=\"accuracy\", title=\"Model accuracy\")"
   ]
  },
  {
   "cell_type": "code",
   "execution_count": 10,
   "id": "8aae1b57",
   "metadata": {},
   "outputs": [
    {
     "data": {
      "image/png": "[encoded data removed]",
      "text/plain": [
       "<Figure size 1080x720 with 1 Axes>"
      ]
     },
     "metadata": {
      "needs_background": "light"
     },
     "output_type": "display_data"
    }
   ],
   "source": [
    "# Plot the constrastive loss\n",
    "plt_metric(history=history.history, metric=\"loss\", title=\"Constrastive Loss\")"
   ]
  },
  {
   "cell_type": "code",
   "execution_count": 11,
   "id": "54f5e5c3",
   "metadata": {},
   "outputs": [
    {
     "name": "stdout",
     "output_type": "stream",
     "text": [
      "Max Validation Accuracy:  0.9660877585411072\n",
      "Min Validation Loss:  0.026048539206385612\n"
     ]
    }
   ],
   "source": [
    "print(\"Max Validation Accuracy: \", max(history.history[\"val_accuracy\"]))\n",
    "print(\"Min Validation Loss: \", min(history.history[\"val_loss\"]))"
   ]
  },
  {
   "cell_type": "code",
   "execution_count": 12,
   "id": "2d179e87",
   "metadata": {
    "scrolled": true
   },
   "outputs": [
    {
     "name": "stdout",
     "output_type": "stream",
     "text": [
      "Want to replace best model with this model? (y/n): y\n"
     ]
    },
    {
     "name": "stderr",
     "output_type": "stream",
     "text": [
      "WARNING:absl:Found untraced functions such as lstm_cell_1_layer_call_fn, lstm_cell_1_layer_call_and_return_conditional_losses, lstm_cell_2_layer_call_fn, lstm_cell_2_layer_call_and_return_conditional_losses while saving (showing 4 of 4). These functions will not be directly callable after loading.\n"
     ]
    },
    {
     "name": "stdout",
     "output_type": "stream",
     "text": [
      "INFO:tensorflow:Assets written to: ./saved_models/BEST_LSTM65/assets\n"
     ]
    },
    {
     "name": "stderr",
     "output_type": "stream",
     "text": [
      "INFO:tensorflow:Assets written to: ./saved_models/BEST_LSTM65/assets\n"
     ]
    }
   ],
   "source": [
    "save = input(\"Want to replace best model with this model? (y/n): \")\n",
    "\n",
    "if save.lower() == \"y\":\n",
    "    tf.keras.models.save_model(model, './saved_models/{}'.format(model_config[\"Model_Name\"]))"
   ]
  },
  {
   "cell_type": "code",
   "execution_count": null,
   "id": "c42ea9aa",
   "metadata": {},
   "outputs": [],
   "source": []
  }
 ],
 "metadata": {
  "kernelspec": {
   "display_name": "Python 3 (ipykernel)",
   "language": "python",
   "name": "python3"
  },
  "language_info": {
   "codemirror_mode": {
    "name": "ipython",
    "version": 3
   },
   "file_extension": ".py",
   "mimetype": "text/x-python",
   "name": "python",
   "nbconvert_exporter": "python",
   "pygments_lexer": "ipython3",
   "version": "3.10.5"
  }
 },
 "nbformat": 4,
 "nbformat_minor": 5
}
