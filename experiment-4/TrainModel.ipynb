{
 "cells": [
  {
   "cell_type": "markdown",
   "id": "37df1e8d",
   "metadata": {},
   "source": [
    "# Imports & Globals"
   ]
  },
  {
   "cell_type": "code",
   "execution_count": 1,
   "id": "73b3316d",
   "metadata": {},
   "outputs": [],
   "source": [
    "import numpy as np\n",
    "import pandas as pd\n",
    "import datetime\n",
    "from yaml import safe_load\n",
    "import tensorflow as tf"
   ]
  },
  {
   "cell_type": "code",
   "execution_count": 2,
   "id": "9ee6c794",
   "metadata": {},
   "outputs": [
    {
     "name": "stdout",
     "output_type": "stream",
     "text": [
      "tf.version:  2.9.1\n",
      "tf.keras.version:  2.9.0\n",
      "tf.config.devices:  [PhysicalDevice(name='/physical_device:CPU:0', device_type='CPU'), PhysicalDevice(name='/physical_device:GPU:0', device_type='GPU')]\n"
     ]
    },
    {
     "name": "stderr",
     "output_type": "stream",
     "text": [
      "2022-09-14 19:15:29.053660: I tensorflow/stream_executor/cuda/cuda_gpu_executor.cc:975] successful NUMA node read from SysFS had negative value (-1), but there must be at least one NUMA node, so returning NUMA node zero\n",
      "2022-09-14 19:15:29.078795: I tensorflow/stream_executor/cuda/cuda_gpu_executor.cc:975] successful NUMA node read from SysFS had negative value (-1), but there must be at least one NUMA node, so returning NUMA node zero\n",
      "2022-09-14 19:15:29.078963: I tensorflow/stream_executor/cuda/cuda_gpu_executor.cc:975] successful NUMA node read from SysFS had negative value (-1), but there must be at least one NUMA node, so returning NUMA node zero\n",
      "2022-09-14 19:15:29.079457: I tensorflow/core/platform/cpu_feature_guard.cc:193] This TensorFlow binary is optimized with oneAPI Deep Neural Network Library (oneDNN) to use the following CPU instructions in performance-critical operations:  SSE4.1 SSE4.2 AVX AVX2 FMA\n",
      "To enable them in other operations, rebuild TensorFlow with the appropriate compiler flags.\n",
      "2022-09-14 19:15:29.079989: I tensorflow/stream_executor/cuda/cuda_gpu_executor.cc:975] successful NUMA node read from SysFS had negative value (-1), but there must be at least one NUMA node, so returning NUMA node zero\n",
      "2022-09-14 19:15:29.080125: I tensorflow/stream_executor/cuda/cuda_gpu_executor.cc:975] successful NUMA node read from SysFS had negative value (-1), but there must be at least one NUMA node, so returning NUMA node zero\n",
      "2022-09-14 19:15:29.080242: I tensorflow/stream_executor/cuda/cuda_gpu_executor.cc:975] successful NUMA node read from SysFS had negative value (-1), but there must be at least one NUMA node, so returning NUMA node zero\n",
      "2022-09-14 19:15:29.468396: I tensorflow/stream_executor/cuda/cuda_gpu_executor.cc:975] successful NUMA node read from SysFS had negative value (-1), but there must be at least one NUMA node, so returning NUMA node zero\n",
      "2022-09-14 19:15:29.468561: I tensorflow/stream_executor/cuda/cuda_gpu_executor.cc:975] successful NUMA node read from SysFS had negative value (-1), but there must be at least one NUMA node, so returning NUMA node zero\n",
      "2022-09-14 19:15:29.468675: I tensorflow/stream_executor/cuda/cuda_gpu_executor.cc:975] successful NUMA node read from SysFS had negative value (-1), but there must be at least one NUMA node, so returning NUMA node zero\n",
      "2022-09-14 19:15:29.468766: I tensorflow/core/common_runtime/gpu/gpu_device.cc:1532] Created device /device:GPU:0 with 6650 MB memory:  -> device: 0, name: NVIDIA GeForce RTX 2070 with Max-Q Design, pci bus id: 0000:01:00.0, compute capability: 7.5\n"
     ]
    }
   ],
   "source": [
    "from SiameseModel import CosineDistance, ContrastiveLoss, get_model, plt_metric "
   ]
  },
  {
   "cell_type": "code",
   "execution_count": 3,
   "id": "8705fa5a",
   "metadata": {},
   "outputs": [],
   "source": [
    "%matplotlib inline"
   ]
  },
  {
   "cell_type": "code",
   "execution_count": 4,
   "id": "b84ba337",
   "metadata": {},
   "outputs": [],
   "source": [
    "with open('LSTM65.yaml', 'r') as file:\n",
    "    model_config = safe_load(file)"
   ]
  },
  {
   "cell_type": "markdown",
   "id": "34891f72",
   "metadata": {},
   "source": [
    "# Load data from csv"
   ]
  },
  {
   "cell_type": "code",
   "execution_count": 5,
   "id": "b4ed9c3d",
   "metadata": {},
   "outputs": [
    {
     "name": "stdout",
     "output_type": "stream",
     "text": [
      "0    1223059\n",
      "1    1477122\n",
      "Name: y, dtype: int64\n",
      "0    305130\n",
      "1    369916\n",
      "Name: y, dtype: int64\n"
     ]
    }
   ],
   "source": [
    "if \"x1TrainRnnS\" not in locals():\n",
    "    train = pd.read_pickle(\"../data/proccesed_train_set.pkl\")\n",
    "    x1TrainRnnS, x2TrainRnnS = train[[\"x1\", \"x2\"]].applymap(lambda x: np.asarray(x).astype('float32')).values.T\n",
    "    yTrainRnnS = train[\"y\"].astype('float32')\n",
    "    print(train[\"y\"].value_counts(ascending=True))\n",
    "    del train\n",
    "        \n",
    "    test = pd.read_pickle(\"../data/proccesed_test_set.pkl\")\n",
    "    x1ValRnnS, x2ValRnnS = test[[\"x1\", \"x2\"]].applymap(lambda x: np.asarray(x).astype('float32')).values.T\n",
    "    yValRnnS = test[\"y\"].astype('float32')\n",
    "    print(test[\"y\"].value_counts(ascending=True))\n",
    "    del test"
   ]
  },
  {
   "cell_type": "code",
   "execution_count": 6,
   "id": "0e7eb342",
   "metadata": {},
   "outputs": [],
   "source": [
    "# del x1TrainRnnS"
   ]
  },
  {
   "cell_type": "markdown",
   "id": "ffdcd664",
   "metadata": {},
   "source": [
    "--------------------------------"
   ]
  },
  {
   "cell_type": "markdown",
   "id": "b7e10db6",
   "metadata": {},
   "source": [
    "# Build model, load weights and evaluate on test data"
   ]
  },
  {
   "cell_type": "code",
   "execution_count": 7,
   "id": "314b46ff",
   "metadata": {},
   "outputs": [
    {
     "name": "stderr",
     "output_type": "stream",
     "text": [
      "2022-09-14 19:16:13.013398: I tensorflow/stream_executor/cuda/cuda_gpu_executor.cc:975] successful NUMA node read from SysFS had negative value (-1), but there must be at least one NUMA node, so returning NUMA node zero\n",
      "2022-09-14 19:16:13.013804: I tensorflow/stream_executor/cuda/cuda_gpu_executor.cc:975] successful NUMA node read from SysFS had negative value (-1), but there must be at least one NUMA node, so returning NUMA node zero\n",
      "2022-09-14 19:16:13.013925: I tensorflow/stream_executor/cuda/cuda_gpu_executor.cc:975] successful NUMA node read from SysFS had negative value (-1), but there must be at least one NUMA node, so returning NUMA node zero\n",
      "2022-09-14 19:16:13.014074: I tensorflow/stream_executor/cuda/cuda_gpu_executor.cc:975] successful NUMA node read from SysFS had negative value (-1), but there must be at least one NUMA node, so returning NUMA node zero\n",
      "2022-09-14 19:16:13.014190: I tensorflow/stream_executor/cuda/cuda_gpu_executor.cc:975] successful NUMA node read from SysFS had negative value (-1), but there must be at least one NUMA node, so returning NUMA node zero\n",
      "2022-09-14 19:16:13.014276: I tensorflow/core/common_runtime/gpu/gpu_device.cc:1532] Created device /job:localhost/replica:0/task:0/device:GPU:0 with 6650 MB memory:  -> device: 0, name: NVIDIA GeForce RTX 2070 with Max-Q Design, pci bus id: 0000:01:00.0, compute capability: 7.5\n"
     ]
    },
    {
     "name": "stdout",
     "output_type": "stream",
     "text": [
      "Model: \"model_1\"\n",
      "__________________________________________________________________________________________________\n",
      " Layer (type)                   Output Shape         Param #     Connected to                     \n",
      "==================================================================================================\n",
      " input_2 (InputLayer)           [(None, 65)]         0           []                               \n",
      "                                                                                                  \n",
      " input_3 (InputLayer)           [(None, 65)]         0           []                               \n",
      "                                                                                                  \n",
      " model (Functional)             (None, 180)          168300      ['input_2[0][0]',                \n",
      "                                                                  'input_3[0][0]']                \n",
      "                                                                                                  \n",
      " lambda (Lambda)                (None, 1)            0           ['model[0][0]',                  \n",
      "                                                                  'model[1][0]']                  \n",
      "                                                                                                  \n",
      " batch_normalization_1 (BatchNo  (None, 1)           4           ['lambda[0][0]']                 \n",
      " rmalization)                                                                                     \n",
      "                                                                                                  \n",
      " dense_1 (Dense)                (None, 1)            2           ['batch_normalization_1[0][0]']  \n",
      "                                                                                                  \n",
      "==================================================================================================\n",
      "Total params: 168,306\n",
      "Trainable params: 167,904\n",
      "Non-trainable params: 402\n",
      "__________________________________________________________________________________________________\n"
     ]
    }
   ],
   "source": [
    "learning_rate = model_config['Learning_Rate']\n",
    "\n",
    "lr_schedule = tf.keras.optimizers.schedules.ExponentialDecay(\n",
    "    initial_learning_rate = learning_rate,\n",
    "    decay_steps=1000,\n",
    "    decay_rate=0.90,\n",
    "    staircase=True\n",
    ")\n",
    "\n",
    "model = get_model(\n",
    "    model_type =  model_config['Model_Type'], \n",
    "    maxlen =  model_config['MAXLEN'],\n",
    "    embedding_dim = model_config['Embedding_Dimensions'], \n",
    "    num_rnn_node =  model_config['Number_RNN_Nodes'],\n",
    "    bidirectional = model_config['Bidirectional'],\n",
    "    num_dense_node =  model_config['Number_Dense_Nodes'], \n",
    "    num_layer =  model_config['Number_Layers'], \n",
    "    activation_fn =  model_config['Activation_Function'],\n",
    "    learning_rate = lr_schedule,\n",
    "    optimizer_fn = model_config['Optimizer'],\n",
    "    margin =  model_config['Margin'],\n",
    "    output_activation = model_config['Output_Activation']\n",
    ")\n",
    "model.summary()"
   ]
  },
  {
   "cell_type": "code",
   "execution_count": 8,
   "id": "7ed2305e",
   "metadata": {},
   "outputs": [
    {
     "name": "stdout",
     "output_type": "stream",
     "text": [
      "../ModelCheckpointSaves/maxlen-65/BEST_LSTM65/Wed-Sep-14-2022/07-16PM\n"
     ]
    }
   ],
   "source": [
    "EPOCHS = 500\n",
    "time = datetime.datetime.now()\n",
    "checkpoint_filepath = \"../ModelCheckpointSaves/maxlen-{}/{}/{}/{}\".format(model_config['MAXLEN'],model_config[\"Model_Name\"], time.strftime(\"%a-%b-%d-%Y\"), time.strftime(\"%I-%M%p\"))\n",
    "print(checkpoint_filepath)\n",
    "model_checkpoint_callback = tf.keras.callbacks.ModelCheckpoint(\n",
    "    filepath=checkpoint_filepath,\n",
    "    save_weights_only=True,\n",
    "    monitor='val_accuracy',\n",
    "    mode='max',\n",
    "    save_best_only=True)\n",
    "early_stopping = tf.keras.callbacks.EarlyStopping(monitor='val_loss', mode='auto', patience=10, min_delta = 0.00005, restore_best_weights = True)"
   ]
  },
  {
   "cell_type": "code",
   "execution_count": 9,
   "id": "a1e8f2ac",
   "metadata": {},
   "outputs": [
    {
     "name": "stdout",
     "output_type": "stream",
     "text": [
      "Epoch 1/500\n"
     ]
    },
    {
     "name": "stderr",
     "output_type": "stream",
     "text": [
      "2022-09-14 19:16:23.328764: W tensorflow/compiler/jit/mark_for_compilation_pass.cc:1750] (One-time warning): Not using XLA:CPU for cluster.\n",
      "\n",
      "If you want XLA:CPU, do one of the following:\n",
      "\n",
      " - set the TF_XLA_FLAGS to include \"--tf_xla_cpu_global_jit\", or\n",
      " - set cpu_global_jit to true on this session's OptimizerOptions, or\n",
      " - use experimental_jit_scope, or\n",
      " - use tf.function(jit_compile=True).\n",
      "\n",
      "To confirm that XLA is active, pass --vmodule=xla_compilation_cache=1 (as a\n",
      "proper command-line flag, not via TF_XLA_FLAGS).\n",
      "2022-09-14 19:16:30.418279: I tensorflow/compiler/xla/service/service.cc:170] XLA service 0x7f43e0003750 initialized for platform CUDA (this does not guarantee that XLA will be used). Devices:\n",
      "2022-09-14 19:16:30.418306: I tensorflow/compiler/xla/service/service.cc:178]   StreamExecutor device (0): NVIDIA GeForce RTX 2070 with Max-Q Design, Compute Capability 7.5\n",
      "2022-09-14 19:16:30.423788: I tensorflow/compiler/mlir/tensorflow/utils/dump_mlir_util.cc:263] disabling MLIR crash reproducer, set env var `MLIR_CRASH_REPRODUCER_DIRECTORY` to enable.\n",
      "2022-09-14 19:16:30.573690: I tensorflow/core/platform/default/subprocess.cc:304] Start cannot spawn child process: No such file or directory\n",
      "2022-09-14 19:16:30.684107: I tensorflow/compiler/jit/xla_compilation_cache.cc:478] Compiled cluster using XLA!  This line is logged at most once for the lifetime of the process.\n",
      "2022-09-14 19:16:30.706687: W tensorflow/core/common_runtime/forward_type_inference.cc:231] Type inference failed. This indicates an invalid graph that escaped type checking. Error message: INVALID_ARGUMENT: expected compatible input types, but input 1:\n",
      "type_id: TFT_OPTIONAL\n",
      "args {\n",
      "  type_id: TFT_PRODUCT\n",
      "  args {\n",
      "    type_id: TFT_TENSOR\n",
      "    args {\n",
      "      type_id: TFT_LEGACY_VARIANT\n",
      "    }\n",
      "  }\n",
      "}\n",
      " is neither a subtype nor a supertype of the combined inputs preceding it:\n",
      "type_id: TFT_OPTIONAL\n",
      "args {\n",
      "  type_id: TFT_PRODUCT\n",
      "  args {\n",
      "    type_id: TFT_TENSOR\n",
      "    args {\n",
      "      type_id: TFT_INT8\n",
      "    }\n",
      "  }\n",
      "}\n",
      "\n",
      "\twhile inferring type of node 'cond_40/output/_26'\n",
      "2022-09-14 19:16:31.517200: I tensorflow/stream_executor/cuda/cuda_dnn.cc:384] Loaded cuDNN version 8401\n"
     ]
    },
    {
     "name": "stdout",
     "output_type": "stream",
     "text": [
      "901/901 [==============================] - 129s 132ms/step - loss: 0.0537 - accuracy: 0.9399 - val_loss: 0.0267 - val_accuracy: 0.9720\n",
      "Epoch 2/500\n",
      "901/901 [==============================] - 119s 132ms/step - loss: 0.0185 - accuracy: 0.9799 - val_loss: 0.0195 - val_accuracy: 0.9769\n",
      "Epoch 3/500\n",
      "901/901 [==============================] - 117s 130ms/step - loss: 0.0138 - accuracy: 0.9840 - val_loss: 0.0142 - val_accuracy: 0.9829\n",
      "Epoch 4/500\n",
      "901/901 [==============================] - 118s 130ms/step - loss: 0.0105 - accuracy: 0.9877 - val_loss: 0.0129 - val_accuracy: 0.9844\n",
      "Epoch 5/500\n",
      "901/901 [==============================] - 118s 131ms/step - loss: 0.0099 - accuracy: 0.9879 - val_loss: 0.0146 - val_accuracy: 0.9818\n",
      "Epoch 6/500\n",
      "901/901 [==============================] - 117s 130ms/step - loss: 0.0085 - accuracy: 0.9896 - val_loss: 0.0111 - val_accuracy: 0.9859\n",
      "Epoch 7/500\n",
      "901/901 [==============================] - 118s 131ms/step - loss: 0.0076 - accuracy: 0.9907 - val_loss: 0.0104 - val_accuracy: 0.9868\n",
      "Epoch 8/500\n",
      "901/901 [==============================] - 118s 131ms/step - loss: 0.0067 - accuracy: 0.9918 - val_loss: 0.0095 - val_accuracy: 0.9880\n",
      "Epoch 9/500\n",
      "901/901 [==============================] - 118s 130ms/step - loss: 0.0062 - accuracy: 0.9923 - val_loss: 0.0149 - val_accuracy: 0.9809\n",
      "Epoch 10/500\n",
      "901/901 [==============================] - 118s 131ms/step - loss: 0.0059 - accuracy: 0.9927 - val_loss: 0.0095 - val_accuracy: 0.9880\n",
      "Epoch 11/500\n",
      "901/901 [==============================] - 118s 131ms/step - loss: 0.0053 - accuracy: 0.9935 - val_loss: 0.0089 - val_accuracy: 0.9887\n",
      "Epoch 12/500\n",
      "901/901 [==============================] - 118s 131ms/step - loss: 0.0050 - accuracy: 0.9939 - val_loss: 0.0102 - val_accuracy: 0.9871\n",
      "Epoch 13/500\n",
      "901/901 [==============================] - 118s 131ms/step - loss: 0.0048 - accuracy: 0.9941 - val_loss: 0.0082 - val_accuracy: 0.9896\n",
      "Epoch 14/500\n",
      "901/901 [==============================] - 118s 131ms/step - loss: 0.0044 - accuracy: 0.9946 - val_loss: 0.0102 - val_accuracy: 0.9872\n",
      "Epoch 15/500\n",
      "901/901 [==============================] - 118s 131ms/step - loss: 0.0041 - accuracy: 0.9950 - val_loss: 0.0082 - val_accuracy: 0.9896\n",
      "Epoch 16/500\n",
      "901/901 [==============================] - 118s 131ms/step - loss: 0.0038 - accuracy: 0.9954 - val_loss: 0.0082 - val_accuracy: 0.9897\n",
      "Epoch 17/500\n",
      "901/901 [==============================] - 118s 131ms/step - loss: 0.0036 - accuracy: 0.9957 - val_loss: 0.0081 - val_accuracy: 0.9898\n",
      "Epoch 18/500\n",
      "901/901 [==============================] - 118s 131ms/step - loss: 0.0034 - accuracy: 0.9960 - val_loss: 0.0090 - val_accuracy: 0.9887\n",
      "Epoch 19/500\n",
      "901/901 [==============================] - 118s 131ms/step - loss: 0.0032 - accuracy: 0.9962 - val_loss: 0.0100 - val_accuracy: 0.9874\n",
      "Epoch 20/500\n",
      "901/901 [==============================] - 118s 131ms/step - loss: 0.0030 - accuracy: 0.9965 - val_loss: 0.0076 - val_accuracy: 0.9904\n",
      "Epoch 21/500\n",
      "901/901 [==============================] - 118s 131ms/step - loss: 0.0029 - accuracy: 0.9966 - val_loss: 0.0092 - val_accuracy: 0.9885\n",
      "Epoch 22/500\n",
      "901/901 [==============================] - 118s 131ms/step - loss: 0.0027 - accuracy: 0.9969 - val_loss: 0.0085 - val_accuracy: 0.9893\n",
      "Epoch 23/500\n",
      "901/901 [==============================] - 118s 131ms/step - loss: 0.0026 - accuracy: 0.9970 - val_loss: 0.0074 - val_accuracy: 0.9907\n",
      "Epoch 24/500\n",
      "901/901 [==============================] - 118s 131ms/step - loss: 0.0025 - accuracy: 0.9973 - val_loss: 0.0071 - val_accuracy: 0.9911\n",
      "Epoch 25/500\n",
      "901/901 [==============================] - 118s 131ms/step - loss: 0.0024 - accuracy: 0.9974 - val_loss: 0.0072 - val_accuracy: 0.9911\n",
      "Epoch 26/500\n",
      "901/901 [==============================] - 118s 131ms/step - loss: 0.0023 - accuracy: 0.9975 - val_loss: 0.0079 - val_accuracy: 0.9902\n",
      "Epoch 27/500\n",
      "901/901 [==============================] - 118s 131ms/step - loss: 0.0022 - accuracy: 0.9977 - val_loss: 0.0087 - val_accuracy: 0.9892\n",
      "Epoch 28/500\n",
      "901/901 [==============================] - 118s 131ms/step - loss: 0.0021 - accuracy: 0.9978 - val_loss: 0.0071 - val_accuracy: 0.9912\n",
      "Epoch 29/500\n",
      "901/901 [==============================] - 118s 131ms/step - loss: 0.0020 - accuracy: 0.9979 - val_loss: 0.0071 - val_accuracy: 0.9912\n",
      "Epoch 30/500\n",
      "901/901 [==============================] - 118s 131ms/step - loss: 0.0019 - accuracy: 0.9980 - val_loss: 0.0074 - val_accuracy: 0.9909\n",
      "Epoch 31/500\n",
      "901/901 [==============================] - 118s 131ms/step - loss: 0.0019 - accuracy: 0.9981 - val_loss: 0.0074 - val_accuracy: 0.9908\n",
      "Epoch 32/500\n",
      "901/901 [==============================] - 118s 131ms/step - loss: 0.0018 - accuracy: 0.9982 - val_loss: 0.0070 - val_accuracy: 0.9913\n",
      "Epoch 33/500\n",
      "901/901 [==============================] - 118s 131ms/step - loss: 0.0018 - accuracy: 0.9982 - val_loss: 0.0070 - val_accuracy: 0.9914\n",
      "Epoch 34/500\n",
      "901/901 [==============================] - 118s 131ms/step - loss: 0.0018 - accuracy: 0.9983 - val_loss: 0.0075 - val_accuracy: 0.9908\n",
      "Epoch 35/500\n",
      "901/901 [==============================] - 118s 131ms/step - loss: 0.0017 - accuracy: 0.9983 - val_loss: 0.0071 - val_accuracy: 0.9913\n",
      "Epoch 36/500\n",
      "901/901 [==============================] - 118s 131ms/step - loss: 0.0017 - accuracy: 0.9984 - val_loss: 0.0071 - val_accuracy: 0.9914\n",
      "Epoch 37/500\n",
      "901/901 [==============================] - 118s 131ms/step - loss: 0.0016 - accuracy: 0.9984 - val_loss: 0.0073 - val_accuracy: 0.9911\n",
      "Epoch 38/500\n",
      "901/901 [==============================] - 118s 131ms/step - loss: 0.0016 - accuracy: 0.9985 - val_loss: 0.0072 - val_accuracy: 0.9911\n",
      "Epoch 39/500\n",
      "901/901 [==============================] - 118s 131ms/step - loss: 0.0016 - accuracy: 0.9985 - val_loss: 0.0071 - val_accuracy: 0.9912\n",
      "Epoch 40/500\n",
      "901/901 [==============================] - 118s 131ms/step - loss: 0.0016 - accuracy: 0.9985 - val_loss: 0.0071 - val_accuracy: 0.9912\n",
      "Epoch 41/500\n",
      "901/901 [==============================] - 118s 131ms/step - loss: 0.0015 - accuracy: 0.9986 - val_loss: 0.0074 - val_accuracy: 0.9910\n",
      "Epoch 42/500\n",
      "901/901 [==============================] - 118s 131ms/step - loss: 0.0015 - accuracy: 0.9986 - val_loss: 0.0072 - val_accuracy: 0.9912\n",
      "Epoch 43/500\n",
      "901/901 [==============================] - 118s 131ms/step - loss: 0.0015 - accuracy: 0.9986 - val_loss: 0.0072 - val_accuracy: 0.9912\n"
     ]
    }
   ],
   "source": [
    "# Model weights are saved at the end of every epoch, if it's the best seen so far.\n",
    "history = model.fit(\n",
    "    x=[np.stack(x1TrainRnnS), np.stack(x2TrainRnnS)],\n",
    "    y=np.stack(yTrainRnnS),\n",
    "    epochs=EPOCHS,\n",
    "    batch_size=3000,\n",
    "    shuffle=True,\n",
    "    validation_data=([np.stack(x1ValRnnS), np.stack(x2ValRnnS)], np.stack(yValRnnS)),\n",
    "    callbacks=[model_checkpoint_callback, early_stopping],\n",
    "    use_multiprocessing=True\n",
    ")"
   ]
  },
  {
   "cell_type": "code",
   "execution_count": 10,
   "id": "83ac27e4",
   "metadata": {},
   "outputs": [
    {
     "data": {
      "image/png": "[encoded data removed]",
      "text/plain": [
       "<Figure size 432x288 with 1 Axes>"
      ]
     },
     "metadata": {
      "needs_background": "light"
     },
     "output_type": "display_data"
    }
   ],
   "source": [
    "# Plot the accuracy\n",
    "plt_metric(history=history.history, metric=\"accuracy\", title=\"Model accuracy\")"
   ]
  },
  {
   "cell_type": "code",
   "execution_count": 11,
   "id": "8aae1b57",
   "metadata": {},
   "outputs": [
    {
     "data": {
      "image/png": "[encoded data removed]",
      "text/plain": [
       "<Figure size 432x288 with 1 Axes>"
      ]
     },
     "metadata": {
      "needs_background": "light"
     },
     "output_type": "display_data"
    }
   ],
   "source": [
    "# Plot the constrastive loss\n",
    "plt_metric(history=history.history, metric=\"loss\", title=\"Constrastive Loss\")"
   ]
  },
  {
   "cell_type": "code",
   "execution_count": 12,
   "id": "54f5e5c3",
   "metadata": {},
   "outputs": [
    {
     "name": "stdout",
     "output_type": "stream",
     "text": [
      "Max Validation Accuracy:  0.9914035797119141 Max Validation Loss:  0.006968699861317873\n"
     ]
    }
   ],
   "source": [
    "print(\"Max Validation Accuracy: \", max(history.history[\"val_accuracy\"]), \"Max Validation Loss: \", min(history.history[\"val_loss\"]))"
   ]
  },
  {
   "cell_type": "code",
   "execution_count": 13,
   "id": "2d179e87",
   "metadata": {
    "scrolled": true
   },
   "outputs": [
    {
     "name": "stdout",
     "output_type": "stream",
     "text": [
      "Want to replace best model with this model? (y/n): y\n"
     ]
    },
    {
     "name": "stderr",
     "output_type": "stream",
     "text": [
      "WARNING:absl:Found untraced functions such as lstm_cell_1_layer_call_fn, lstm_cell_1_layer_call_and_return_conditional_losses, lstm_cell_2_layer_call_fn, lstm_cell_2_layer_call_and_return_conditional_losses while saving (showing 4 of 4). These functions will not be directly callable after loading.\n"
     ]
    },
    {
     "name": "stdout",
     "output_type": "stream",
     "text": [
      "INFO:tensorflow:Assets written to: ./saved_models/BEST_LSTM65/assets\n"
     ]
    },
    {
     "name": "stderr",
     "output_type": "stream",
     "text": [
      "INFO:tensorflow:Assets written to: ./saved_models/BEST_LSTM65/assets\n"
     ]
    }
   ],
   "source": [
    "save = input(\"Want to replace best model with this model? (y/n): \")\n",
    "\n",
    "if save.lower() == \"y\":\n",
    "    tf.keras.models.save_model(model, './saved_models/{}'.format(model_config[\"Model_Name\"]))"
   ]
  }
 ],
 "metadata": {
  "kernelspec": {
   "display_name": "Python 3 (ipykernel)",
   "language": "python",
   "name": "python3"
  },
  "language_info": {
   "codemirror_mode": {
    "name": "ipython",
    "version": 3
   },
   "file_extension": ".py",
   "mimetype": "text/x-python",
   "name": "python",
   "nbconvert_exporter": "python",
   "pygments_lexer": "ipython3",
   "version": "3.10.5"
  }
 },
 "nbformat": 4,
 "nbformat_minor": 5
}
