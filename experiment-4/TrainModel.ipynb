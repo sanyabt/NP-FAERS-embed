{
 "cells": [
  {
   "cell_type": "markdown",
   "id": "37df1e8d",
   "metadata": {},
   "source": [
    "# Imports & Globals"
   ]
  },
  {
   "cell_type": "code",
   "execution_count": 1,
   "id": "73b3316d",
   "metadata": {},
   "outputs": [],
   "source": [
    "import numpy as np\n",
    "import pandas as pd\n",
    "import matplotlib.pyplot as plt\n",
    "import datetime\n",
    "from yaml import safe_load \n",
    "from typing import Literal"
   ]
  },
  {
   "cell_type": "code",
   "execution_count": 2,
   "id": "8705fa5a",
   "metadata": {},
   "outputs": [],
   "source": [
    "%matplotlib inline"
   ]
  },
  {
   "cell_type": "code",
   "execution_count": 3,
   "id": "1776935e",
   "metadata": {},
   "outputs": [
    {
     "name": "stdout",
     "output_type": "stream",
     "text": [
      "tf.version:  2.9.1\n",
      "tf.keras.version:  2.9.0\n"
     ]
    }
   ],
   "source": [
    "import tensorflow as tf\n",
    "#@title Versions:\n",
    "print(\"tf.version: \", tf.version.VERSION)\n",
    "print(\"tf.keras.version: \", tf.keras.__version__)"
   ]
  },
  {
   "cell_type": "code",
   "execution_count": 4,
   "id": "99764632",
   "metadata": {},
   "outputs": [],
   "source": [
    "# tf.compat.v1.enable_eager_execution()\n",
    "# tf.compat.v1.disable_eager_execution()\n",
    "# from tensorflow.python.ops.numpy_ops import np_config\n",
    "# np_config.enable_numpy_behavior()"
   ]
  },
  {
   "cell_type": "code",
   "execution_count": 5,
   "id": "c6314444",
   "metadata": {},
   "outputs": [],
   "source": [
    "# # Check that GPU is available: cf. https://colab.research.google.com/notebooks/gpu.ipynb\n",
    "# assert(tf.test.gpu_device_name())\n",
    "\n",
    "# tf.keras.backend.clear_session()\n",
    "# tf.config.optimizer.set_jit(True) # Enable XLA."
   ]
  },
  {
   "cell_type": "code",
   "execution_count": 6,
   "id": "b965151e",
   "metadata": {},
   "outputs": [
    {
     "data": {
      "text/plain": [
       "True"
      ]
     },
     "execution_count": 6,
     "metadata": {},
     "output_type": "execute_result"
    }
   ],
   "source": [
    "tf.executing_eagerly()"
   ]
  },
  {
   "cell_type": "code",
   "execution_count": 7,
   "id": "b84ba337",
   "metadata": {},
   "outputs": [],
   "source": [
    "with open('LSTM65.yaml', 'r') as file:\n",
    "    model_config = safe_load(file)"
   ]
  },
  {
   "cell_type": "code",
   "execution_count": 8,
   "id": "bf18162e",
   "metadata": {},
   "outputs": [],
   "source": [
    "#Maximum sequence length including padding\n",
    "global MAXLEN\n",
    "MAXLEN = model_config['MAXLEN']"
   ]
  },
  {
   "cell_type": "markdown",
   "id": "34891f72",
   "metadata": {},
   "source": [
    "# Load data from csv"
   ]
  },
  {
   "cell_type": "code",
   "execution_count": 9,
   "id": "b4ed9c3d",
   "metadata": {},
   "outputs": [
    {
     "name": "stdout",
     "output_type": "stream",
     "text": [
      "count    27632.0\n",
      "mean        65.0\n",
      "std          0.0\n",
      "min         65.0\n",
      "25%         65.0\n",
      "50%         65.0\n",
      "75%         65.0\n",
      "max         65.0\n",
      "Name: x1, dtype: float64\n"
     ]
    }
   ],
   "source": [
    "if \"x1TrainRnnS\" not in locals():\n",
    "    train = pd.read_pickle(\"../data/proccesed_train_set.pkl\")\n",
    "    print(train['x1'].apply(len).describe())\n",
    "    x1TrainRnnS, x2TrainRnnS = train[[\"x1\", \"x2\"]].applymap(lambda x: np.asarray(x).astype('float32')).values.T\n",
    "    yTrainRnnS = train[\"y\"].astype('float32')\n",
    "    test = pd.read_pickle(\"../data/proccesed_test_set.pkl\")\n",
    "    x1ValRnnS, x2ValRnnS = test[[\"x1\", \"x2\"]].applymap(lambda x: np.asarray(x).astype('float32')).values.T\n",
    "    yValRnnS = test[\"y\"].astype('float32')\n",
    "    del train\n",
    "    del test"
   ]
  },
  {
   "cell_type": "code",
   "execution_count": 10,
   "id": "0e7eb342",
   "metadata": {},
   "outputs": [],
   "source": [
    "# del x1TrainRnnS"
   ]
  },
  {
   "cell_type": "markdown",
   "id": "ffdcd664",
   "metadata": {},
   "source": [
    "--------------------------------"
   ]
  },
  {
   "cell_type": "code",
   "execution_count": 11,
   "id": "6c1b0ae7",
   "metadata": {},
   "outputs": [],
   "source": [
    "# x, y = tf.constant([[[1.0,2.0,3.0], [1.0,2.0,3.0]],[[3.0,4.0,5.0],[3.0,4.0,5.0]]])"
   ]
  },
  {
   "cell_type": "code",
   "execution_count": 12,
   "id": "ecffcf43",
   "metadata": {},
   "outputs": [],
   "source": [
    "class CosineSimilarity(tf.keras.layers.Layer):\n",
    "    '''Cosine similarity to be calculated as sum(x*y)/(sqrt(sum(x))*sqrt(sum(y))).\n",
    "    This is achieved through Tensorflow functions to retain performance.\n",
    "    \n",
    "    Parameters\n",
    "    ----------\n",
    "    vects: tf.TensorArray\n",
    "    \n",
    "    Returns\n",
    "    -------\n",
    "    cosine_similarity: tf.TensorArray\n",
    "       The result of the cosine similarity between the vectors.    \n",
    "    '''\n",
    "    __name__ = 'CosineSimilarity'\n",
    "    def __init__(self, **kwargs):\n",
    "        super(CosineSimilarity, self).__init__()\n",
    "       \n",
    "    @tf.function  # The decorator converts `cosine_similarity` into a tensolflow `Function`.\n",
    "    def call(self, vects: tf.TensorArray) -> tf.TensorArray:\n",
    "        x, y = vects\n",
    "        return tf.math.divide(tf.reduce_sum(tf.multiply(x,y), axis=1, keepdims=True), tf.multiply(tf.norm(x, ord=2, axis=1, keepdims=True), tf.norm(y, ord=2, axis=1, keepdims=True)))\n",
    "\n",
    "    def get_config(self):\n",
    "        return super(CosineSimilarity, self).get_config()\n",
    "    \n",
    "    @classmethod\n",
    "    def from_config(cls, config):\n",
    "        return cls(**config)"
   ]
  },
  {
   "cell_type": "code",
   "execution_count": 13,
   "id": "00a72ef0",
   "metadata": {},
   "outputs": [],
   "source": [
    "# tf.assert_less(cosine_similarity(tf.constant([[[1.0,2.0,3.0]],[[3.0,4.0,5.0]]]))[0][0], 0.982708)"
   ]
  },
  {
   "cell_type": "code",
   "execution_count": 14,
   "id": "ff560c06",
   "metadata": {},
   "outputs": [],
   "source": [
    "# # @tf.function(jit_compile=True)  # The decorator converts `cosine_distance` into a tensolflow `Function`.\n",
    "# def cosine_distance(vects: tf.TensorArray) -> tf.TensorArray:\n",
    "#     '''Cosine distance to be calculated as 1-(cosine similarity).\n",
    "#     Where cosine similarity equals sum(x*y)/(sqrt(sum(x))*sqrt(sum(y))).\n",
    "#     This is achieved through Tensorflow functions to retain performance.\n",
    "    \n",
    "#     Parameters\n",
    "#     ----------\n",
    "#     vects: tf.TensorArray\n",
    "        \n",
    "    \n",
    "#     Returns\n",
    "#     -------\n",
    "#     cosine_distance: tf.TensorArray\n",
    "#         The result of 1-cosine similarity between the vectors. \n",
    "#     '''\n",
    "#     x, y = vects\n",
    "#     return tf.math.subtract(tf.constant([1.0]), tf.math.divide(tf.reduce_sum(tf.multiply(x,y), axis=1, keepdims=True), tf.multiply(tf.norm(x, ord=2, axis=1, keepdims=True), tf.norm(y, ord=2, axis=1, keepdims=True))))"
   ]
  },
  {
   "cell_type": "code",
   "execution_count": 15,
   "id": "dafc3241",
   "metadata": {},
   "outputs": [],
   "source": [
    "# tf.assert_greater(cosine_distance(tf.constant([[[1.0,2.0,3.0]],[[3.0,4.0,5.0]]]))[0][0], 1 - 0.982708)"
   ]
  },
  {
   "cell_type": "code",
   "execution_count": 16,
   "id": "dfcd3f95",
   "metadata": {},
   "outputs": [],
   "source": [
    "class ContrastiveLoss(tf.keras.losses.Loss):\n",
    "    '''Returns a value between 0 and 1 representing the average error of the y_pred vector by comparing it to the y_true.\n",
    "    '''\n",
    "    __name__ = 'ContrastiveLoss'\n",
    "    def __init__(self, margin: tf.float32 = 1.0, **kwargs):\n",
    "        super(ContrastiveLoss, self).__init__()\n",
    "        self.margin = tf.constant(margin)\n",
    "        \n",
    "    @tf.function # The decorator converts `loss` into a tensolflow `Function`.\n",
    "    def call(self, y_true: tf.TensorArray, y_pred: tf.TensorArray) -> tf.Tensor:\n",
    "        return tf.math.reduce_mean((1 - y_true) * tf.math.square(y_pred) + (y_true) * tf.math.square(tf.math.maximum(self.margin - (y_pred), 0.0)), axis = -1)\n",
    "    \n",
    "    def get_config(self):\n",
    "        config = super(ContrastiveLoss, self).get_config()\n",
    "        config.update({\n",
    "            \"margin\": str(self.margin)\n",
    "        })\n",
    "        return config\n",
    "    \n",
    "    @classmethod\n",
    "    def from_config(cls, config):\n",
    "        return cls(**config)"
   ]
  },
  {
   "cell_type": "code",
   "execution_count": 17,
   "id": "fc864cdd",
   "metadata": {},
   "outputs": [],
   "source": [
    "# a = ContrastiveLoss(margin = 1.0)\n",
    "# print(a.get_config())\n",
    "# tf.assert_ a.call(np.array([1,0,1]), np.array([1,0,1])).numpy() == 0.0\n",
    "# tf.assert_ a.call(np.array([0,0,0]), np.array([1,0,1])).numpy() >= 0.666\n",
    "# tf.assert_ a.call(np.array([0,1,0]), np.array([1,0,1])).numpy() >= 1.0"
   ]
  },
  {
   "cell_type": "code",
   "execution_count": 18,
   "id": "57038ab9",
   "metadata": {},
   "outputs": [],
   "source": [
    "def get_model(model_type: Literal[\"lstm\", \"gru\"], embedding_dim: int, num_rnn_node: int, num_dense_node: int, num_layer: int, activation_fn: str, learning_rate: float, optimizer_fn: Literal[\"Adam\", \"RMSprop\", \"SGD\"], margin: float, output_activation: str) -> tf.keras.Model: \n",
    "    '''Specifies the architecture of the model to be trained.\n",
    "    '''\n",
    "    input_x = tf.keras.layers.Input(MAXLEN)\n",
    "    input_1 = tf.keras.layers.Input(MAXLEN)\n",
    "    input_2 = tf.keras.layers.Input(MAXLEN)\n",
    "    embedding = tf.keras.layers.Embedding(input_dim=28, output_dim=embedding_dim, mask_zero=True)\n",
    "    x = embedding(input_x)\n",
    "    x = tf.keras.layers.BatchNormalization()(x)\n",
    "    \n",
    "    match model_type:\n",
    "        case \"lstm\":\n",
    "            x = tf.keras.layers.Bidirectional(tf.keras.layers.LSTM(num_rnn_node))(x)\n",
    "        case \"gru\":\n",
    "            x = tf.keras.layers.Bidirectional(tf.keras.layers.GRU(num_rnn_node))(x)\n",
    "        case \"rnn\":\n",
    "            x = tf.keras.layers.Bidirectional(tf.keras.layers.RNN(num_rnn_node))(x)\n",
    " \n",
    "    num = num_dense_node\n",
    "    for _ in range(num_layer):\n",
    "        x = tf.keras.layers.Dense(num, activation=activation_fn)(x)\n",
    "        num /= 2\n",
    "        \n",
    "    embedding_network = tf.keras.Model(input_x, x)\n",
    "\n",
    "    tower_1 = embedding_network(input_1)\n",
    "    tower_2 = embedding_network(input_2)\n",
    "\n",
    "    cosine_similarity = CosineSimilarity()\n",
    "    merge_layer = tf.keras.layers.Lambda(cosine_similarity)([tower_1, tower_2])\n",
    "    normal_layer = tf.keras.layers.BatchNormalization()(merge_layer)\n",
    "    output_layer = tf.keras.layers.Dense(1, activation=\"hard_sigmoid\")(normal_layer)\n",
    "    contr = tf.keras.Model(inputs=[input_1, input_2], outputs=output_layer)\n",
    "    \n",
    "    match optimizer_fn:\n",
    "        case \"Adam\":\n",
    "            opt = tf.keras.optimizers.Adam(learning_rate=learning_rate)\n",
    "        case \"RMSprop\":                \n",
    "            opt = tf.keras.optimizers.RMSprop(learning_rate=learning_rate)\n",
    "        case \"SGD\":                \n",
    "            opt = tf.keras.optimizers.SGD(learning_rate=learning_rate)\n",
    "\n",
    "    contr.compile(loss=ContrastiveLoss(margin = margin), optimizer=opt, metrics=[\"accuracy\"])\n",
    "    \n",
    "    return contr"
   ]
  },
  {
   "cell_type": "code",
   "execution_count": 19,
   "id": "e297fd75",
   "metadata": {},
   "outputs": [],
   "source": [
    "def plt_metric(history, metric, title, has_valid=True):\n",
    "    \"\"\"Plots the given 'metric' from 'history'.\n",
    "\n",
    "    Arguments:\n",
    "        history: history attribute of History object returned from Model.fit.\n",
    "        metric: Metric to plot, a string value present as key in 'history'.\n",
    "        title: A string to be used as title of plot.\n",
    "        has_valid: Boolean, true if valid data was passed to Model.fit else false.\n",
    "\n",
    "    Returns:\n",
    "        None.\n",
    "    \"\"\"\n",
    "    plt.plot(history[metric])\n",
    "    if has_valid:\n",
    "        plt.plot(history[\"val_\" + metric])\n",
    "        plt.legend([\"train\", \"validation\"], loc=\"upper left\")\n",
    "    plt.title(title)\n",
    "    plt.ylabel(metric)\n",
    "    plt.xlabel(\"epoch\")\n",
    "    plt.show()"
   ]
  },
  {
   "cell_type": "markdown",
   "id": "b7e10db6",
   "metadata": {},
   "source": [
    "# Build model, load weights and evaluate on test data"
   ]
  },
  {
   "cell_type": "code",
   "execution_count": 20,
   "id": "314b46ff",
   "metadata": {},
   "outputs": [
    {
     "name": "stderr",
     "output_type": "stream",
     "text": [
      "2022-08-17 17:02:15.449096: I tensorflow/stream_executor/cuda/cuda_gpu_executor.cc:975] successful NUMA node read from SysFS had negative value (-1), but there must be at least one NUMA node, so returning NUMA node zero\n",
      "2022-08-17 17:02:15.477408: I tensorflow/stream_executor/cuda/cuda_gpu_executor.cc:975] successful NUMA node read from SysFS had negative value (-1), but there must be at least one NUMA node, so returning NUMA node zero\n",
      "2022-08-17 17:02:15.477611: I tensorflow/stream_executor/cuda/cuda_gpu_executor.cc:975] successful NUMA node read from SysFS had negative value (-1), but there must be at least one NUMA node, so returning NUMA node zero\n",
      "2022-08-17 17:02:15.478487: I tensorflow/core/platform/cpu_feature_guard.cc:193] This TensorFlow binary is optimized with oneAPI Deep Neural Network Library (oneDNN) to use the following CPU instructions in performance-critical operations:  SSE4.1 SSE4.2 AVX AVX2 FMA\n",
      "To enable them in other operations, rebuild TensorFlow with the appropriate compiler flags.\n",
      "2022-08-17 17:02:15.479125: I tensorflow/stream_executor/cuda/cuda_gpu_executor.cc:975] successful NUMA node read from SysFS had negative value (-1), but there must be at least one NUMA node, so returning NUMA node zero\n",
      "2022-08-17 17:02:15.479334: I tensorflow/stream_executor/cuda/cuda_gpu_executor.cc:975] successful NUMA node read from SysFS had negative value (-1), but there must be at least one NUMA node, so returning NUMA node zero\n",
      "2022-08-17 17:02:15.479455: I tensorflow/stream_executor/cuda/cuda_gpu_executor.cc:975] successful NUMA node read from SysFS had negative value (-1), but there must be at least one NUMA node, so returning NUMA node zero\n",
      "2022-08-17 17:02:16.046456: I tensorflow/stream_executor/cuda/cuda_gpu_executor.cc:975] successful NUMA node read from SysFS had negative value (-1), but there must be at least one NUMA node, so returning NUMA node zero\n",
      "2022-08-17 17:02:16.046670: I tensorflow/stream_executor/cuda/cuda_gpu_executor.cc:975] successful NUMA node read from SysFS had negative value (-1), but there must be at least one NUMA node, so returning NUMA node zero\n",
      "2022-08-17 17:02:16.046805: I tensorflow/stream_executor/cuda/cuda_gpu_executor.cc:975] successful NUMA node read from SysFS had negative value (-1), but there must be at least one NUMA node, so returning NUMA node zero\n",
      "2022-08-17 17:02:16.046914: I tensorflow/core/common_runtime/gpu/gpu_device.cc:1532] Created device /job:localhost/replica:0/task:0/device:GPU:0 with 5947 MB memory:  -> device: 0, name: NVIDIA GeForce RTX 2070 with Max-Q Design, pci bus id: 0000:01:00.0, compute capability: 7.5\n"
     ]
    },
    {
     "name": "stdout",
     "output_type": "stream",
     "text": [
      "Model: \"model_1\"\n",
      "__________________________________________________________________________________________________\n",
      " Layer (type)                   Output Shape         Param #     Connected to                     \n",
      "==================================================================================================\n",
      " input_2 (InputLayer)           [(None, 65)]         0           []                               \n",
      "                                                                                                  \n",
      " input_3 (InputLayer)           [(None, 65)]         0           []                               \n",
      "                                                                                                  \n",
      " model (Functional)             (None, 100)          109220      ['input_2[0][0]',                \n",
      "                                                                  'input_3[0][0]']                \n",
      "                                                                                                  \n",
      " lambda (Lambda)                (None, 1)            0           ['model[0][0]',                  \n",
      "                                                                  'model[1][0]']                  \n",
      "                                                                                                  \n",
      " batch_normalization_1 (BatchNo  (None, 1)           4           ['lambda[0][0]']                 \n",
      " rmalization)                                                                                     \n",
      "                                                                                                  \n",
      " dense_1 (Dense)                (None, 1)            2           ['batch_normalization_1[0][0]']  \n",
      "                                                                                                  \n",
      "==================================================================================================\n",
      "Total params: 109,226\n",
      "Trainable params: 109,204\n",
      "Non-trainable params: 22\n",
      "__________________________________________________________________________________________________\n"
     ]
    }
   ],
   "source": [
    "initial_learning_rate = model_config['Learning_Rate']\n",
    "lr_schedule = tf.keras.optimizers.schedules.ExponentialDecay(\n",
    "    initial_learning_rate,\n",
    "    decay_steps=1000,\n",
    "    decay_rate=0.90,\n",
    "    staircase=True)\n",
    "\n",
    "model = get_model(\n",
    "    model_type =  model_config['Model_Type'], \n",
    "    embedding_dim = model_config['Embedding_Dimensions'], \n",
    "    num_rnn_node =  model_config['Number_RNN_Nodes'],\n",
    "    num_dense_node =  model_config['Number_Dense_Nodes'], \n",
    "    num_layer =  model_config['Number_Layers'], \n",
    "    activation_fn =  model_config['Activation_Function'],\n",
    "    learning_rate = lr_schedule,\n",
    "    optimizer_fn = model_config['Optimizer'],\n",
    "    margin =  model_config['Margin'],\n",
    "    output_activation = model_config['Output_Activation']\n",
    ")\n",
    "model.summary()"
   ]
  },
  {
   "cell_type": "code",
   "execution_count": 21,
   "id": "10c1d074",
   "metadata": {},
   "outputs": [
    {
     "name": "stdout",
     "output_type": "stream",
     "text": [
      "../ModelCheckpointSaves/maxlen-65/BEST_LSTM65/Wed-Aug-17-2022/05-02PM\n"
     ]
    }
   ],
   "source": [
    "EPOCHS = 50\n",
    "time = datetime.datetime.now()\n",
    "checkpoint_filepath = \"../ModelCheckpointSaves/maxlen-{}/{}/{}/{}\".format(MAXLEN,model_config[\"Model_Name\"],time.strftime(\"%a-%b-%d-%Y\"), time.strftime(\"%I-%M%p\"))\n",
    "print(checkpoint_filepath)\n",
    "model_checkpoint_callback = tf.keras.callbacks.ModelCheckpoint(\n",
    "    filepath=checkpoint_filepath,\n",
    "    save_weights_only=True,\n",
    "    monitor='val_accuracy',\n",
    "    mode='max',\n",
    "    save_best_only=True)\n",
    "early_stopping = tf.keras.callbacks.EarlyStopping(monitor='loss', mode='auto', patience=7)"
   ]
  },
  {
   "cell_type": "code",
   "execution_count": 22,
   "id": "a1e8f2ac",
   "metadata": {},
   "outputs": [
    {
     "name": "stdout",
     "output_type": "stream",
     "text": [
      "Epoch 1/50\n"
     ]
    },
    {
     "name": "stderr",
     "output_type": "stream",
     "text": [
      "2022-08-17 17:02:30.299509: W tensorflow/core/common_runtime/forward_type_inference.cc:231] Type inference failed. This indicates an invalid graph that escaped type checking. Error message: INVALID_ARGUMENT: expected compatible input types, but input 1:\n",
      "type_id: TFT_OPTIONAL\n",
      "args {\n",
      "  type_id: TFT_PRODUCT\n",
      "  args {\n",
      "    type_id: TFT_TENSOR\n",
      "    args {\n",
      "      type_id: TFT_LEGACY_VARIANT\n",
      "    }\n",
      "  }\n",
      "}\n",
      " is neither a subtype nor a supertype of the combined inputs preceding it:\n",
      "type_id: TFT_OPTIONAL\n",
      "args {\n",
      "  type_id: TFT_PRODUCT\n",
      "  args {\n",
      "    type_id: TFT_TENSOR\n",
      "    args {\n",
      "      type_id: TFT_FLOAT\n",
      "    }\n",
      "  }\n",
      "}\n",
      "\n",
      "\twhile inferring type of node 'cond_40/output/_19'\n",
      "2022-08-17 17:02:31.351196: I tensorflow/stream_executor/cuda/cuda_dnn.cc:384] Loaded cuDNN version 8401\n"
     ]
    },
    {
     "name": "stdout",
     "output_type": "stream",
     "text": [
      "277/277 [==============================] - 21s 31ms/step - loss: 0.1310 - accuracy: 0.8347 - val_loss: 0.2235 - val_accuracy: 0.5695\n",
      "Epoch 2/50\n",
      "277/277 [==============================] - 4s 16ms/step - loss: 0.0775 - accuracy: 0.9091 - val_loss: 0.0665 - val_accuracy: 0.9192\n",
      "Epoch 3/50\n",
      "277/277 [==============================] - 4s 16ms/step - loss: 0.0507 - accuracy: 0.9422 - val_loss: 0.0437 - val_accuracy: 0.9460\n",
      "Epoch 4/50\n",
      "277/277 [==============================] - 5s 17ms/step - loss: 0.0352 - accuracy: 0.9619 - val_loss: 0.0351 - val_accuracy: 0.9574\n",
      "Epoch 5/50\n",
      "277/277 [==============================] - 5s 17ms/step - loss: 0.0242 - accuracy: 0.9747 - val_loss: 0.0295 - val_accuracy: 0.9667\n",
      "Epoch 6/50\n",
      "277/277 [==============================] - 5s 17ms/step - loss: 0.0185 - accuracy: 0.9816 - val_loss: 0.0259 - val_accuracy: 0.9692\n",
      "Epoch 7/50\n",
      "277/277 [==============================] - 5s 17ms/step - loss: 0.0143 - accuracy: 0.9863 - val_loss: 0.0225 - val_accuracy: 0.9722\n",
      "Epoch 8/50\n",
      "277/277 [==============================] - 5s 17ms/step - loss: 0.0111 - accuracy: 0.9896 - val_loss: 0.0187 - val_accuracy: 0.9786\n",
      "Epoch 9/50\n",
      "277/277 [==============================] - 5s 17ms/step - loss: 0.0094 - accuracy: 0.9916 - val_loss: 0.0185 - val_accuracy: 0.9776\n",
      "Epoch 10/50\n",
      "277/277 [==============================] - 5s 17ms/step - loss: 0.0073 - accuracy: 0.9938 - val_loss: 0.0177 - val_accuracy: 0.9803\n",
      "Epoch 11/50\n",
      "277/277 [==============================] - 5s 17ms/step - loss: 0.0070 - accuracy: 0.9939 - val_loss: 0.0159 - val_accuracy: 0.9825\n",
      "Epoch 12/50\n",
      "277/277 [==============================] - 5s 17ms/step - loss: 0.0058 - accuracy: 0.9946 - val_loss: 0.0156 - val_accuracy: 0.9822\n",
      "Epoch 13/50\n",
      "277/277 [==============================] - 5s 19ms/step - loss: 0.0058 - accuracy: 0.9949 - val_loss: 0.0155 - val_accuracy: 0.9835\n",
      "Epoch 14/50\n",
      "277/277 [==============================] - 5s 18ms/step - loss: 0.0054 - accuracy: 0.9951 - val_loss: 0.0167 - val_accuracy: 0.9805\n",
      "Epoch 15/50\n",
      "277/277 [==============================] - 5s 18ms/step - loss: 0.0048 - accuracy: 0.9955 - val_loss: 0.0157 - val_accuracy: 0.9822\n",
      "Epoch 16/50\n",
      "277/277 [==============================] - 5s 18ms/step - loss: 0.0050 - accuracy: 0.9952 - val_loss: 0.0150 - val_accuracy: 0.9835\n",
      "Epoch 17/50\n",
      "277/277 [==============================] - 5s 17ms/step - loss: 0.0048 - accuracy: 0.9953 - val_loss: 0.0155 - val_accuracy: 0.9822\n",
      "Epoch 18/50\n",
      "277/277 [==============================] - 5s 18ms/step - loss: 0.0046 - accuracy: 0.9954 - val_loss: 0.0159 - val_accuracy: 0.9813\n",
      "Epoch 19/50\n",
      "277/277 [==============================] - 5s 17ms/step - loss: 0.0048 - accuracy: 0.9953 - val_loss: 0.0164 - val_accuracy: 0.9805\n",
      "Epoch 20/50\n",
      "277/277 [==============================] - 5s 17ms/step - loss: 0.0045 - accuracy: 0.9955 - val_loss: 0.0143 - val_accuracy: 0.9841\n",
      "Epoch 21/50\n",
      "277/277 [==============================] - 5s 17ms/step - loss: 0.0043 - accuracy: 0.9956 - val_loss: 0.0166 - val_accuracy: 0.9799\n",
      "Epoch 22/50\n",
      "277/277 [==============================] - 5s 19ms/step - loss: 0.0042 - accuracy: 0.9959 - val_loss: 0.0147 - val_accuracy: 0.9816\n",
      "Epoch 23/50\n",
      "277/277 [==============================] - 5s 18ms/step - loss: 0.0039 - accuracy: 0.9962 - val_loss: 0.0144 - val_accuracy: 0.9836\n",
      "Epoch 24/50\n",
      "277/277 [==============================] - 5s 17ms/step - loss: 0.0043 - accuracy: 0.9956 - val_loss: 0.0161 - val_accuracy: 0.9807\n",
      "Epoch 25/50\n",
      "277/277 [==============================] - 5s 19ms/step - loss: 0.0043 - accuracy: 0.9955 - val_loss: 0.0157 - val_accuracy: 0.9810\n",
      "Epoch 26/50\n",
      "277/277 [==============================] - 5s 17ms/step - loss: 0.0041 - accuracy: 0.9959 - val_loss: 0.0155 - val_accuracy: 0.9812\n",
      "Epoch 27/50\n",
      "277/277 [==============================] - 5s 17ms/step - loss: 0.0039 - accuracy: 0.9961 - val_loss: 0.0160 - val_accuracy: 0.9809\n",
      "Epoch 28/50\n",
      "277/277 [==============================] - 5s 17ms/step - loss: 0.0039 - accuracy: 0.9961 - val_loss: 0.0139 - val_accuracy: 0.9839\n",
      "Epoch 29/50\n",
      "277/277 [==============================] - 5s 17ms/step - loss: 0.0035 - accuracy: 0.9965 - val_loss: 0.0136 - val_accuracy: 0.9842\n",
      "Epoch 30/50\n",
      "277/277 [==============================] - 5s 17ms/step - loss: 0.0036 - accuracy: 0.9965 - val_loss: 0.0156 - val_accuracy: 0.9819\n",
      "Epoch 31/50\n",
      "277/277 [==============================] - 5s 17ms/step - loss: 0.0036 - accuracy: 0.9965 - val_loss: 0.0141 - val_accuracy: 0.9835\n",
      "Epoch 32/50\n",
      "277/277 [==============================] - 5s 17ms/step - loss: 0.0040 - accuracy: 0.9961 - val_loss: 0.0143 - val_accuracy: 0.9841\n",
      "Epoch 33/50\n",
      "277/277 [==============================] - 5s 17ms/step - loss: 0.0041 - accuracy: 0.9958 - val_loss: 0.0146 - val_accuracy: 0.9828\n",
      "Epoch 34/50\n",
      "277/277 [==============================] - 5s 17ms/step - loss: 0.0037 - accuracy: 0.9964 - val_loss: 0.0138 - val_accuracy: 0.9841\n",
      "Epoch 35/50\n",
      "277/277 [==============================] - 5s 17ms/step - loss: 0.0037 - accuracy: 0.9962 - val_loss: 0.0141 - val_accuracy: 0.9838\n",
      "Epoch 36/50\n",
      "277/277 [==============================] - 5s 16ms/step - loss: 0.0036 - accuracy: 0.9964 - val_loss: 0.0155 - val_accuracy: 0.9818\n"
     ]
    }
   ],
   "source": [
    "# Model weights are saved at the end of every epoch, if it's the best seen so far.\n",
    "history = model.fit(\n",
    "    x=[np.stack(x1TrainRnnS), np.stack(x2TrainRnnS)],\n",
    "    y=np.stack(yTrainRnnS),\n",
    "    epochs=EPOCHS,\n",
    "    batch_size=100,\n",
    "    validation_data=([np.stack(x1ValRnnS), np.stack(x2ValRnnS)], np.stack(yValRnnS)),\n",
    "    callbacks=[model_checkpoint_callback, early_stopping],\n",
    "    use_multiprocessing=True\n",
    ")"
   ]
  },
  {
   "cell_type": "code",
   "execution_count": 23,
   "id": "83ac27e4",
   "metadata": {},
   "outputs": [
    {
     "data": {
      "image/png": "[encoded data removed]",
      "text/plain": [
       "<Figure size 432x288 with 1 Axes>"
      ]
     },
     "metadata": {
      "needs_background": "light"
     },
     "output_type": "display_data"
    }
   ],
   "source": [
    "# Plot the accuracy\n",
    "plt_metric(history=history.history, metric=\"accuracy\", title=\"Model accuracy\")"
   ]
  },
  {
   "cell_type": "code",
   "execution_count": 24,
   "id": "8aae1b57",
   "metadata": {},
   "outputs": [
    {
     "data": {
      "image/png": "[encoded data removed]",
      "text/plain": [
       "<Figure size 432x288 with 1 Axes>"
      ]
     },
     "metadata": {
      "needs_background": "light"
     },
     "output_type": "display_data"
    }
   ],
   "source": [
    "# Plot the constrastive loss\n",
    "plt_metric(history=history.history, metric=\"loss\", title=\"Constrastive Loss\")"
   ]
  },
  {
   "cell_type": "code",
   "execution_count": 25,
   "id": "2d179e87",
   "metadata": {},
   "outputs": [
    {
     "name": "stdout",
     "output_type": "stream",
     "text": [
      "Want to replace best model with this model? (y/n): y\n"
     ]
    },
    {
     "name": "stderr",
     "output_type": "stream",
     "text": [
      "WARNING:absl:Found untraced functions such as lstm_cell_1_layer_call_fn, lstm_cell_1_layer_call_and_return_conditional_losses, lstm_cell_2_layer_call_fn, lstm_cell_2_layer_call_and_return_conditional_losses while saving (showing 4 of 4). These functions will not be directly callable after loading.\n"
     ]
    },
    {
     "name": "stdout",
     "output_type": "stream",
     "text": [
      "INFO:tensorflow:Assets written to: ./saved_models/BEST_LSTM65/assets\n"
     ]
    },
    {
     "name": "stderr",
     "output_type": "stream",
     "text": [
      "INFO:tensorflow:Assets written to: ./saved_models/BEST_LSTM65/assets\n"
     ]
    }
   ],
   "source": [
    "save = input(\"Want to replace best model with this model? (y/n): \")\n",
    "\n",
    "if save.lower() == \"y\": \n",
    "    model.load_weights(checkpoint_filepath)\n",
    "    tf.keras.models.save_model(model, './saved_models/{}'.format(model_config[\"Model_Name\"]))"
   ]
  },
  {
   "cell_type": "code",
   "execution_count": null,
   "id": "0a53a909",
   "metadata": {},
   "outputs": [],
   "source": []
  }
 ],
 "metadata": {
  "kernelspec": {
   "display_name": "Python 3 (ipykernel)",
   "language": "python",
   "name": "python3"
  },
  "language_info": {
   "codemirror_mode": {
    "name": "ipython",
    "version": 3
   },
   "file_extension": ".py",
   "mimetype": "text/x-python",
   "name": "python",
   "nbconvert_exporter": "python",
   "pygments_lexer": "ipython3",
   "version": "3.10.5"
  }
 },
 "nbformat": 4,
 "nbformat_minor": 5
}
