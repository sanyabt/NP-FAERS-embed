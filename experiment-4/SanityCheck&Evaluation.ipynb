{
 "cells": [
  {
   "cell_type": "markdown",
   "id": "6af2f21c",
   "metadata": {},
   "source": [
    "# Imports & Globals"
   ]
  },
  {
   "cell_type": "code",
   "execution_count": 1,
   "id": "090cfeb2",
   "metadata": {},
   "outputs": [],
   "source": [
    "import numpy as np\n",
    "import pandas as pd\n",
    "import pickle\n",
    "\n",
    "import re\n",
    "import string\n",
    "\n",
    "#import matplotlib.pyplot as plt\n",
    "#import seaborn as sns\n",
    "# %matplotlib inline\n",
    "\n",
    "import tensorflow as tf\n",
    "from tensorflow.python.ops.numpy_ops import np_config\n",
    "np_config.enable_numpy_behavior()\n",
    "\n",
    "# tf.enable_eager_execution()\n",
    "# tf.executing_eagerly()\n"
   ]
  },
  {
   "cell_type": "code",
   "execution_count": 2,
   "id": "a8ac8644",
   "metadata": {},
   "outputs": [],
   "source": [
    "global encode_dict \n",
    "encode_dict = {l:i for i,l in enumerate(string.ascii_uppercase + \" \", 1)}"
   ]
  },
  {
   "cell_type": "code",
   "execution_count": 3,
   "id": "77bf5508",
   "metadata": {},
   "outputs": [],
   "source": [
    "#Maximum sequence length including padding\n",
    "global MAXLEN\n",
    "MAXLEN = 400"
   ]
  },
  {
   "cell_type": "markdown",
   "id": "4d07e995",
   "metadata": {},
   "source": [
    "## Data Processing Functions"
   ]
  },
  {
   "cell_type": "code",
   "execution_count": 4,
   "id": "e38610fa",
   "metadata": {},
   "outputs": [],
   "source": [
    "def add_noise(w: str, percent: float = 0.1) -> str:\n",
    "    ''' Adds a specified proportion of noise to a string.\n",
    "    \n",
    "    Expects a string and a number stating the percent of noise to add to this string.\n",
    "    The string is modified by editing, deleting, or adding characters in/to the string.\n",
    "    The modification to perform is determined randomly by generating a random number from an uniform distribution [0,1].\n",
    "    If the number is < 1/3 edit one position with new random character.\n",
    "    If the number is < 2/3 delete one position.\n",
    "    Finally, if the number is > 2/3 add one random character. \n",
    "    \n",
    "    Parameters\n",
    "    ----------\n",
    "    w : str\n",
    "        The string to add noise to.\n",
    "    \n",
    "    percent: float, defaults to 10% if not specified\n",
    "        Percentange representing the proportion of noise to add to the string.\n",
    "        \n",
    "        \n",
    "    Returns\n",
    "    -------\n",
    "    w : str\n",
    "        Modified string with noise added.\n",
    "    '''  \n",
    "    positions = random.choices(range(len(w)), k=int(percent*len(w)))\n",
    "    print(\"Adding noise to\", int(percent*len(w)), \"% of the string\")\n",
    "    for p in positions:\n",
    "        r = random.uniform(0,1)\n",
    "        \n",
    "        # if <1/3 edit one position with new random character, # else if <2/3 delete one position, else add one random character \n",
    "        if r <= 0.3333: # edit\n",
    "            w = w[:p] + random.choice(string.ascii_uppercase) + w[p+1:]\n",
    "        elif r<= 0.6667: # delete\n",
    "            w = w[:p] + w[p+1:]\n",
    "        else: # add\n",
    "            w = w[:p] + random.choice(string.ascii_uppercase) + w[p:]\n",
    "    return w"
   ]
  },
  {
   "cell_type": "code",
   "execution_count": 5,
   "id": "c5e9e0dc",
   "metadata": {},
   "outputs": [],
   "source": [
    "def clean(text: str) -> str:\n",
    "    '''Removes all the non-ascii and special characters from a string and returns the string's alphabetichal characters with spaces.\n",
    "    \n",
    "    Expects a string to be cleaned and removes all the non-ascii and special characters. \n",
    "    This is done by applying a substitution to regex matches\n",
    "    Returns the cleaned string containing uppercased versions of the characters.\n",
    "    \n",
    "    Parameters\n",
    "    ----------\n",
    "    text : str\n",
    "        \n",
    "    Returns\n",
    "    -------\n",
    "    text : str\n",
    "    '''\n",
    "    regex = re.compile('[^a-zA-Z ]')\n",
    "    r = regex.sub('', text)\n",
    "    result = re.sub(' +', ' ', r)\n",
    "    result = result.strip()\n",
    "    return result.upper()"
   ]
  },
  {
   "cell_type": "code",
   "execution_count": 6,
   "id": "da17e429",
   "metadata": {},
   "outputs": [],
   "source": [
    "def encode(x: string) -> [int]:\n",
    "    '''Applies the encoding function to a given value.\n",
    "    \n",
    "    Returns these string enconded into an array containing an integer mapping to each character and space (1-66) separately.\n",
    "    \n",
    "    Parameters\n",
    "    ----------\n",
    "    x : string\n",
    "        \n",
    "      \n",
    "    Returns\n",
    "    -------\n",
    "    x : [int]\n",
    "        Returns the encoded string.\n",
    "\n",
    "    '''\n",
    "    return list(map(encode_dict.get, x))"
   ]
  },
  {
   "cell_type": "code",
   "execution_count": 7,
   "id": "229e70ea",
   "metadata": {},
   "outputs": [],
   "source": [
    "def padding(x: [int], maxlen: int = MAXLEN) -> [int]:\n",
    "    '''Applies the padding function to the encoded sequence.\n",
    "    \n",
    "    Returns the enconded Series padded.\n",
    "    \n",
    "    Parameters\n",
    "    ----------\n",
    "    x : [int]\n",
    "       Encoded character sequence.\n",
    "      \n",
    "    Returns\n",
    "    -------\n",
    "    x : [int]\n",
    "        Returns the padded encoded character sequence.\n",
    "    '''\n",
    "    return x + ([0]* (maxlen-len(x)))"
   ]
  },
  {
   "cell_type": "markdown",
   "id": "dab15102",
   "metadata": {},
   "source": [
    "------------------------------------------------"
   ]
  },
  {
   "cell_type": "markdown",
   "id": "193e520b",
   "metadata": {},
   "source": [
    "# Data loading and preprocessing"
   ]
  },
  {
   "cell_type": "markdown",
   "id": "a10975c1",
   "metadata": {},
   "source": [
    "## Add additional negative pairs \n",
    "Generated from training data using generate_negative_pairs"
   ]
  },
  {
   "cell_type": "code",
   "execution_count": 11,
   "id": "594f5dd1",
   "metadata": {},
   "outputs": [],
   "source": [
    "# yTrainRNN.extend([0] * len(padded_xneg2))\n",
    "# x1TrainRNN.extend(padded_xneg2)\n",
    "# x2TrainRNN.extend(padded_yneg2)\n",
    "# print(len(x1TrainRNN), len(x2TrainRNN), len(yTrainRNN))"
   ]
  },
  {
   "cell_type": "code",
   "execution_count": 12,
   "id": "eda81396",
   "metadata": {},
   "outputs": [],
   "source": [
    "# x1TrainRnnS, x1ValRnnS, x2TrainRnnS, x2ValRnnS, yTrainRnnS, yValRnnS = train_test_split(x1TrainRNN, x2TrainRNN, yTrainRNN, test_size=0.20, random_state=42)"
   ]
  },
  {
   "cell_type": "code",
   "execution_count": 13,
   "id": "479a632a",
   "metadata": {},
   "outputs": [],
   "source": [
    "# len(x1TrainRnnS)"
   ]
  },
  {
   "cell_type": "markdown",
   "id": "34891f72",
   "metadata": {},
   "source": [
    "# Load data from csv"
   ]
  },
  {
   "cell_type": "code",
   "execution_count": 14,
   "id": "b4ed9c3d",
   "metadata": {},
   "outputs": [],
   "source": [
    "if \"x1TrainRnnS\" not in locals():\n",
    "    train = pd.read_pickle(\"../data/proccesed_train_set.pkl\")\n",
    "    x1TrainRnnS, x2TrainRnnS = train[[\"x1\", \"x2\"]].applymap(lambda x: np.asarray(x).astype('float32')).values.T\n",
    "    yTrainRnnS = train[\"y\"].astype('float32')\n",
    "    test = pd.read_pickle(\"../data/proccesed_test_set.pkl\")\n",
    "    x1ValRnnS, x2ValRnnS = test[[\"x1\", \"x2\"]].applymap(lambda x: np.asarray(x).astype('float32')).values.T\n",
    "    yValRnnS = test[\"y\"].astype('float32')\n",
    "    del train\n",
    "    del test"
   ]
  },
  {
   "cell_type": "code",
   "execution_count": 17,
   "id": "99073085",
   "metadata": {},
   "outputs": [],
   "source": [
    "dUnique_df = pd.read_pickle(\"../data/dUnique_df.pkl\")\n",
    "dfneg2 = pd.read_pickle(\"../data/dfneg2.pkl\")"
   ]
  },
  {
   "cell_type": "markdown",
   "id": "ffdcd664",
   "metadata": {},
   "source": [
    "--------------------------------"
   ]
  },
  {
   "cell_type": "markdown",
   "id": "b7e10db6",
   "metadata": {},
   "source": [
    "# Build model, load weights and evaluate on test data"
   ]
  },
  {
   "cell_type": "code",
   "execution_count": 29,
   "id": "968d57af",
   "metadata": {},
   "outputs": [],
   "source": [
    "@tf.function(jit_compile=True)  # The decorator converts `cosine_similarity` into a tensolflow `Function`.\n",
    "def cosine_similarity(vects: tf.TensorArray) -> tf.TensorArray:\n",
    "    '''Cosine similarity to be calculated as sum(x*y)/(sqrt(sum(x))*sqrt(sum(y))).\n",
    "    This is achieved through Tensorflow functions to retain performance.\n",
    "    \n",
    "    Parameters\n",
    "    ----------\n",
    "    vects: tf.TensorArray\n",
    "        \n",
    "    \n",
    "    Returns\n",
    "    -------\n",
    "    cosine_distance: tf.TensorArray\n",
    "       The result of the cosine similarity between the vectors.    \n",
    "    '''\n",
    "    x, y = vects\n",
    "    return tf.math.divide(tf.reduce_sum(tf.multiply(x,y), axis=1, keepdims=True), tf.multiply(tf.norm(x, ord=2, axis=1, keepdims=True), tf.norm(y, ord=2, axis=1, keepdims=True)))"
   ]
  },
  {
   "cell_type": "code",
   "execution_count": 30,
   "id": "ff560c06",
   "metadata": {},
   "outputs": [],
   "source": [
    "@tf.function(jit_compile=True)  # The decorator converts `cosine_distance` into a tensolflow `Function`.\n",
    "def cosine_distance(vects: tf.TensorArray) -> tf.TensorArray:\n",
    "    '''Cosine distance to be calculated as 1-(cosine similarity).\n",
    "    Where cosine similarity equals sum(x*y)/(sqrt(sum(x))*sqrt(sum(y))).\n",
    "    This is achieved through Tensorflow functions to retain performance.\n",
    "    \n",
    "    Parameters\n",
    "    ----------\n",
    "    vects: tf.TensorArray\n",
    "        \n",
    "    \n",
    "    Returns\n",
    "    -------\n",
    "    cosine_distance: tf.TensorArray\n",
    "        The result of 1-cosine similarity between the vectors. \n",
    "    '''\n",
    "    x, y = vects\n",
    "    return tf.math.subtract(tf.constant([1.0]), tf.math.divide(tf.reduce_sum(tf.multiply(x,y), axis=1, keepdims=True), tf.multiply(tf.norm(x, ord=2, axis=1, keepdims=True), tf.norm(y, ord=2, axis=1, keepdims=True))))"
   ]
  },
  {
   "cell_type": "code",
   "execution_count": 36,
   "id": "a90470b6",
   "metadata": {},
   "outputs": [],
   "source": [
    "class ContrastiveLoss(tf.keras.losses.Loss):\n",
    "    def __init__(self, margin: tf.float32 = 1.0):\n",
    "        super(ContrastiveLoss, self).__init__()\n",
    "        self.name = 'ContrastiveLoss'\n",
    "        self.margin = tf.constant(margin)\n",
    "\n",
    "    @tf.function(jit_compile=True)  # The decorator converts `loss` into a tensolflow `Function`.\n",
    "    def call(self, y_true: tf.TensorArray, y_pred: tf.TensorArray) -> tf.Tensor:\n",
    "        return tf.math.reduce_mean((1 - y_true) * tf.math.square(y_pred) + (y_true) * tf.math.square(tf.math.maximum(self.margin - (y_pred), 0.0)), axis = -1)"
   ]
  },
  {
   "cell_type": "code",
   "execution_count": 37,
   "id": "6f49b548",
   "metadata": {},
   "outputs": [],
   "source": [
    "def build_model2(model_type, embedding_dim, num_rnn_node, num_dense_node, num_layer, activation_fn, learning_rate, optimizer, margin):\n",
    "    input_x = tf.keras.layers.Input(MAXLEN)\n",
    "    input_1 = tf.keras.layers.Input(MAXLEN)\n",
    "    input_2 = tf.keras.layers.Input(MAXLEN)\n",
    "    embedding = tf.keras.layers.Embedding(input_dim=28, output_dim=embedding_dim, mask_zero=True)\n",
    "    x = embedding(input_x)\n",
    "    x = tf.keras.layers.BatchNormalization()(x)\n",
    "    \n",
    "    if model_type == \"lstm\":\n",
    "        x = tf.keras.layers.LSTM(num_rnn_node)(x)\n",
    "    elif model_type==\"gru\":\n",
    "        x = tf.keras.layers.GRU(num_rnn_node)(x)\n",
    " \n",
    "    num = num_dense_node\n",
    "    for _ in range(num_layer):\n",
    "        x = tf.keras.layers.Dense(num, activation=activation_fn)(x)\n",
    "        num /= 2\n",
    "        \n",
    "    embedding_network = tf.keras.Model(input_x, x)\n",
    "\n",
    "    tower_1 = embedding_network(input_1)\n",
    "    tower_2 = embedding_network(input_2)\n",
    "\n",
    "    merge_layer = tf.keras.layers.Lambda(cosine_similarity)([tower_1, tower_2])\n",
    "    normal_layer = tf.keras.layers.BatchNormalization()(merge_layer)\n",
    "    output_layer = tf.keras.layers.Dense(1, activation=\"sigmoid\")(normal_layer)\n",
    "    contr = tf.keras.Model(inputs=[input_1, input_2], outputs=output_layer)\n",
    "    \n",
    "    if optimizer == \"Adam\":\n",
    "        opt = tf.keras.optimizers.Adam(learning_rate=learning_rate)\n",
    "    elif optimizer ==\"RMSprop\":                \n",
    "        opt = tf.keras.optimizers.RMSprop(learning_rate=learning_rate)\n",
    "    elif optimizer ==\"SGD\":                \n",
    "        opt = tf.keras.optimizers.SGD(learning_rate=learning_rate)\n",
    "\n",
    "    contr.compile(loss=ContrastiveLoss(margin = margin), optimizer=opt, metrics=[\"accuracy\"])\n",
    "    \n",
    "    return contr"
   ]
  },
  {
   "cell_type": "code",
   "execution_count": 38,
   "id": "8f2a61af",
   "metadata": {},
   "outputs": [],
   "source": [
    "# model = build_model2(model_type = \"lstm\", embedding_dim = 256, num_rnn_node = 248, num_dense_node = 124, num_layer = 1, activation_fn = \"tanh\", learning_rate = 2e-4, optimizer= \"Adam\", margin = 0.8)"
   ]
  },
  {
   "cell_type": "code",
   "execution_count": 39,
   "id": "6079b66d",
   "metadata": {},
   "outputs": [
    {
     "name": "stdout",
     "output_type": "stream",
     "text": [
      "Model: \"model_8\"\n",
      "__________________________________________________________________________________________________\n",
      " Layer (type)                   Output Shape         Param #     Connected to                     \n",
      "==================================================================================================\n",
      " input_14 (InputLayer)          [(None, 400)]        0           []                               \n",
      "                                                                                                  \n",
      " input_15 (InputLayer)          [(None, 400)]        0           []                               \n",
      "                                                                                                  \n",
      " model_7 (Functional)           (None, 256)          220576      ['input_14[0][0]',               \n",
      "                                                                  'input_15[0][0]']               \n",
      "                                                                                                  \n",
      " lambda_3 (Lambda)              (None, 1)            0           ['model_7[0][0]',                \n",
      "                                                                  'model_7[1][0]']                \n",
      "                                                                                                  \n",
      " batch_normalization_8 (BatchNo  (None, 1)           4           ['lambda_3[0][0]']               \n",
      " rmalization)                                                                                     \n",
      "                                                                                                  \n",
      " dense_8 (Dense)                (None, 1)            2           ['batch_normalization_8[0][0]']  \n",
      "                                                                                                  \n",
      "==================================================================================================\n",
      "Total params: 220,582\n",
      "Trainable params: 220,560\n",
      "Non-trainable params: 22\n",
      "__________________________________________________________________________________________________\n"
     ]
    }
   ],
   "source": [
    "model = build_model2(\n",
    "    model_type = \"lstm\", \n",
    "    embedding_dim = 10, \n",
    "    num_rnn_node = MAXLEN//2, \n",
    "    num_dense_node = 256, \n",
    "    num_layer = 1, \n",
    "    activation_fn = \"tanh\",\n",
    "    learning_rate = 0.001,\n",
    "    optimizer= \"Adam\",\n",
    "    margin = 1.0\n",
    ")\n",
    "model.summary()"
   ]
  },
  {
   "cell_type": "code",
   "execution_count": 40,
   "id": "549ed13a",
   "metadata": {
    "scrolled": true
   },
   "outputs": [
    {
     "name": "stdout",
     "output_type": "stream",
     "text": [
      "Model: \"model_8\"\n",
      "__________________________________________________________________________________________________\n",
      " Layer (type)                   Output Shape         Param #     Connected to                     \n",
      "==================================================================================================\n",
      " input_14 (InputLayer)          [(None, 400)]        0           []                               \n",
      "                                                                                                  \n",
      " input_15 (InputLayer)          [(None, 400)]        0           []                               \n",
      "                                                                                                  \n",
      " model_7 (Functional)           (None, 256)          220576      ['input_14[0][0]',               \n",
      "                                                                  'input_15[0][0]']               \n",
      "                                                                                                  \n",
      " lambda_3 (Lambda)              (None, 1)            0           ['model_7[0][0]',                \n",
      "                                                                  'model_7[1][0]']                \n",
      "                                                                                                  \n",
      " batch_normalization_8 (BatchNo  (None, 1)           4           ['lambda_3[0][0]']               \n",
      " rmalization)                                                                                     \n",
      "                                                                                                  \n",
      " dense_8 (Dense)                (None, 1)            2           ['batch_normalization_8[0][0]']  \n",
      "                                                                                                  \n",
      "==================================================================================================\n",
      "Total params: 220,582\n",
      "Trainable params: 220,560\n",
      "Non-trainable params: 22\n",
      "__________________________________________________________________________________________________\n"
     ]
    }
   ],
   "source": [
    "checkpoint_filepath = \"../ModelCheckpointSaves/maxlen-400/\"\n",
    "# model.load_weights(\"../exp3-hyperparameter-tuning/alstm-22-0.01.hdf5\")\n",
    "model.load_weights(checkpoint_filepath)\n",
    "model.summary()"
   ]
  },
  {
   "cell_type": "markdown",
   "id": "607f58ca",
   "metadata": {},
   "source": [
    "---------------------------------------------------------------"
   ]
  },
  {
   "cell_type": "markdown",
   "id": "b06b0601",
   "metadata": {},
   "source": [
    "# Evaluation"
   ]
  },
  {
   "cell_type": "code",
   "execution_count": 9,
   "id": "0f3e5b3c",
   "metadata": {},
   "outputs": [],
   "source": [
    "def preprocessInput(filename: str) -> pd.DataFrame:\n",
    "    '''Preprocess CSV file into a Pandas DataFrame.\n",
    "    \n",
    "    Expects the file name or path of a csv file with named columns containing strings representing product names.\n",
    "    Returns a Pandas Dataframe containing uppercased versions of the strings on each cell.\n",
    "    \n",
    "    Parameters\n",
    "    ----------\n",
    "    filename : str\n",
    "        \n",
    "    Returns\n",
    "    -------\n",
    "    df : Pandas DataFrame\n",
    "    '''  \n",
    "    df = pd.read_csv(filename)\n",
    "    print(df.info())\n",
    "    \n",
    "    print(\"Processing file: ---------------------------------------\")\n",
    "    original_count = len(df.index)\n",
    "    print(\"Dropping sequences longer than the maxlen:\")\n",
    "    for column in df.columns:\n",
    "        df.drop(df[df[column].apply(len).gt(MAXLEN)].index, inplace = True)\n",
    "    new_count = len(df.index)\n",
    "    print(\"\\tDropped\", original_count - new_count, \"that exceeded the maximum sequence length.\")\n",
    "    # Uppercase all values\n",
    "    print(\"\\tUppercasing string sequences.\")\n",
    "    df = df.applymap(lambda x: str.upper(x))\n",
    "    print(\"Done processing: --------------------------------------\")\n",
    "    print(df.info())\n",
    "    return df"
   ]
  },
  {
   "cell_type": "markdown",
   "id": "e7103902",
   "metadata": {},
   "source": [
    "## Unique target labels"
   ]
  },
  {
   "cell_type": "code",
   "execution_count": 10,
   "id": "f0323d8d",
   "metadata": {},
   "outputs": [
    {
     "ename": "NameError",
     "evalue": "name 'dUnique_df' is not defined",
     "output_type": "error",
     "traceback": [
      "\u001b[0;31m---------------------------------------------------------------------------\u001b[0m",
      "\u001b[0;31mNameError\u001b[0m                                 Traceback (most recent call last)",
      "Input \u001b[0;32mIn [10]\u001b[0m, in \u001b[0;36m<cell line: 1>\u001b[0;34m()\u001b[0m\n\u001b[0;32m----> 1\u001b[0m \u001b[43mdUnique_df\u001b[49m\u001b[38;5;241m.\u001b[39mhead()\n",
      "\u001b[0;31mNameError\u001b[0m: name 'dUnique_df' is not defined"
     ]
    }
   ],
   "source": [
    "dUnique_df.head()"
   ]
  },
  {
   "cell_type": "markdown",
   "id": "f0ebf8dc",
   "metadata": {},
   "source": [
    "## True Positives"
   ]
  },
  {
   "cell_type": "code",
   "execution_count": 124,
   "id": "c9a61342",
   "metadata": {},
   "outputs": [
    {
     "name": "stdout",
     "output_type": "stream",
     "text": [
      "<class 'pandas.core.frame.DataFrame'>\n",
      "RangeIndex: 5358 entries, 0 to 5357\n",
      "Data columns (total 2 columns):\n",
      " #   Column            Non-Null Count  Dtype \n",
      "---  ------            --------------  ----- \n",
      " 0   FAERS_drug_match  5358 non-null   object\n",
      " 1   lookup_value      5358 non-null   object\n",
      "dtypes: object(2)\n",
      "memory usage: 83.8+ KB\n",
      "None\n",
      "Processing file: ---------------------------------------\n",
      "Dropping sequences longer than the maxlen:\n",
      "\tDropped 6 that exceeded the maximum sequence length.\n",
      "\tUppercasing string sequences.\n",
      "Done processing: --------------------------------------\n",
      "<class 'pandas.core.frame.DataFrame'>\n",
      "Int64Index: 5352 entries, 0 to 5357\n",
      "Data columns (total 2 columns):\n",
      " #   Column            Non-Null Count  Dtype \n",
      "---  ------            --------------  ----- \n",
      " 0   FAERS_drug_match  5352 non-null   object\n",
      " 1   lookup_value      5352 non-null   object\n",
      "dtypes: object(2)\n",
      "memory usage: 125.4+ KB\n",
      "None\n"
     ]
    }
   ],
   "source": [
    "fName = '../data/NP_FAERS_mapped_20220215.csv'\n",
    "matches = preprocessInput(fName)"
   ]
  },
  {
   "cell_type": "code",
   "execution_count": 129,
   "id": "c9df72df",
   "metadata": {},
   "outputs": [],
   "source": [
    "matches[\"Processed_FAERS_drug_match\"] = matches.FAERS_drug_match.apply(clean).apply(encode).apply(padding)\n",
    "matches[\"Processed_lookup_value\"] = matches.lookup_value.apply(clean).apply(encode).apply(padding)"
   ]
  },
  {
   "cell_type": "code",
   "execution_count": 133,
   "id": "5ecf6172",
   "metadata": {},
   "outputs": [
    {
     "data": {
      "text/html": [
       "<div>\n",
       "<style scoped>\n",
       "    .dataframe tbody tr th:only-of-type {\n",
       "        vertical-align: middle;\n",
       "    }\n",
       "\n",
       "    .dataframe tbody tr th {\n",
       "        vertical-align: top;\n",
       "    }\n",
       "\n",
       "    .dataframe thead th {\n",
       "        text-align: right;\n",
       "    }\n",
       "</style>\n",
       "<table border=\"1\" class=\"dataframe\">\n",
       "  <thead>\n",
       "    <tr style=\"text-align: right;\">\n",
       "      <th></th>\n",
       "      <th>FAERS_drug_match</th>\n",
       "      <th>lookup_value</th>\n",
       "      <th>Processed_FAERS_drug_match</th>\n",
       "      <th>Processed_lookup_value</th>\n",
       "    </tr>\n",
       "  </thead>\n",
       "  <tbody>\n",
       "    <tr>\n",
       "      <th>0</th>\n",
       "      <td>ADRENAL HEALTH (BRAND) = (SIBERIAN RHODIOLA, R...</td>\n",
       "      <td>ASHWAGANDA</td>\n",
       "      <td>[1, 4, 18, 5, 14, 1, 12, 27, 8, 5, 1, 12, 20, ...</td>\n",
       "      <td>[1, 19, 8, 23, 1, 7, 1, 14, 4, 1, 0, 0, 0, 0, ...</td>\n",
       "    </tr>\n",
       "    <tr>\n",
       "      <th>1</th>\n",
       "      <td>ASHWAGANDHA</td>\n",
       "      <td>ASHWAGANDA</td>\n",
       "      <td>[1, 19, 8, 23, 1, 7, 1, 14, 4, 8, 1, 0, 0, 0, ...</td>\n",
       "      <td>[1, 19, 8, 23, 1, 7, 1, 14, 4, 1, 0, 0, 0, 0, ...</td>\n",
       "    </tr>\n",
       "    <tr>\n",
       "      <th>2</th>\n",
       "      <td>ASHWAGANDHA,</td>\n",
       "      <td>ASHWAGANDA</td>\n",
       "      <td>[1, 19, 8, 23, 1, 7, 1, 14, 4, 8, 1, 0, 0, 0, ...</td>\n",
       "      <td>[1, 19, 8, 23, 1, 7, 1, 14, 4, 1, 0, 0, 0, 0, ...</td>\n",
       "    </tr>\n",
       "    <tr>\n",
       "      <th>3</th>\n",
       "      <td>ASHWAGANDHA                        /01660201/</td>\n",
       "      <td>ASHWAGANDA</td>\n",
       "      <td>[1, 19, 8, 23, 1, 7, 1, 14, 4, 8, 1, 0, 0, 0, ...</td>\n",
       "      <td>[1, 19, 8, 23, 1, 7, 1, 14, 4, 1, 0, 0, 0, 0, ...</td>\n",
       "    </tr>\n",
       "    <tr>\n",
       "      <th>4</th>\n",
       "      <td>ASHWAGANDHA /01660201/</td>\n",
       "      <td>ASHWAGANDA</td>\n",
       "      <td>[1, 19, 8, 23, 1, 7, 1, 14, 4, 8, 1, 0, 0, 0, ...</td>\n",
       "      <td>[1, 19, 8, 23, 1, 7, 1, 14, 4, 1, 0, 0, 0, 0, ...</td>\n",
       "    </tr>\n",
       "  </tbody>\n",
       "</table>\n",
       "</div>"
      ],
      "text/plain": [
       "                                    FAERS_drug_match lookup_value  \\\n",
       "0  ADRENAL HEALTH (BRAND) = (SIBERIAN RHODIOLA, R...   ASHWAGANDA   \n",
       "1                                        ASHWAGANDHA   ASHWAGANDA   \n",
       "2                                       ASHWAGANDHA,   ASHWAGANDA   \n",
       "3      ASHWAGANDHA                        /01660201/   ASHWAGANDA   \n",
       "4                             ASHWAGANDHA /01660201/   ASHWAGANDA   \n",
       "\n",
       "                          Processed_FAERS_drug_match  \\\n",
       "0  [1, 4, 18, 5, 14, 1, 12, 27, 8, 5, 1, 12, 20, ...   \n",
       "1  [1, 19, 8, 23, 1, 7, 1, 14, 4, 8, 1, 0, 0, 0, ...   \n",
       "2  [1, 19, 8, 23, 1, 7, 1, 14, 4, 8, 1, 0, 0, 0, ...   \n",
       "3  [1, 19, 8, 23, 1, 7, 1, 14, 4, 8, 1, 0, 0, 0, ...   \n",
       "4  [1, 19, 8, 23, 1, 7, 1, 14, 4, 8, 1, 0, 0, 0, ...   \n",
       "\n",
       "                              Processed_lookup_value  \n",
       "0  [1, 19, 8, 23, 1, 7, 1, 14, 4, 1, 0, 0, 0, 0, ...  \n",
       "1  [1, 19, 8, 23, 1, 7, 1, 14, 4, 1, 0, 0, 0, 0, ...  \n",
       "2  [1, 19, 8, 23, 1, 7, 1, 14, 4, 1, 0, 0, 0, 0, ...  \n",
       "3  [1, 19, 8, 23, 1, 7, 1, 14, 4, 1, 0, 0, 0, 0, ...  \n",
       "4  [1, 19, 8, 23, 1, 7, 1, 14, 4, 1, 0, 0, 0, 0, ...  "
      ]
     },
     "execution_count": 133,
     "metadata": {},
     "output_type": "execute_result"
    }
   ],
   "source": [
    "matches.head()"
   ]
  },
  {
   "cell_type": "markdown",
   "id": "750cbc8f",
   "metadata": {},
   "source": [
    "### ASHWAGANDA"
   ]
  },
  {
   "cell_type": "code",
   "execution_count": 134,
   "id": "8e22c49e",
   "metadata": {},
   "outputs": [
    {
     "data": {
      "text/plain": [
       "'ADRENAL HEALTH (BRAND) = (SIBERIAN RHODIOLA, RHODIOLA, HOLY BASIL, SCHISANDRA BERRY, ASHWAGANDHA ROOT) PHOSPHORYLATED SERINE'"
      ]
     },
     "execution_count": 134,
     "metadata": {},
     "output_type": "execute_result"
    }
   ],
   "source": [
    "matches.loc[0, \"FAERS_drug_match\"]"
   ]
  },
  {
   "cell_type": "code",
   "execution_count": 136,
   "id": "eb94af24",
   "metadata": {},
   "outputs": [
    {
     "name": "stdout",
     "output_type": "stream",
     "text": [
      "4/4 [==============================] - 0s 95ms/step\n"
     ]
    }
   ],
   "source": [
    "predicts = model.predict([np.tile(matches.loc[0, \"Processed_FAERS_drug_match\"], (dUnique_df['dUnique_seq_padded'].shape[0],1)), np.stack(dUnique_df['dUnique_seq_padded'])])\n",
    "argsort = predicts.flatten().argsort()"
   ]
  },
  {
   "cell_type": "code",
   "execution_count": 137,
   "id": "0502aa79",
   "metadata": {},
   "outputs": [
    {
     "data": {
      "text/plain": [
       "{'rank1': 'ASHWAGANDA',\n",
       " 'rank2': 'EQUISETUM HYEMALE',\n",
       " 'rank3': 'CATSCLAW',\n",
       " 'rank4': 'MORINGA OLEIFERA',\n",
       " 'rank5': 'GARLIC'}"
      ]
     },
     "execution_count": 137,
     "metadata": {},
     "output_type": "execute_result"
    }
   ],
   "source": [
    "# Top-5 smalles distances\n",
    "{\n",
    "    \"rank1\": dUnique_df['dUnique_label'][argsort == 0].item(),\n",
    "    \"rank2\": dUnique_df['dUnique_label'][argsort == 1].item(),\n",
    "    \"rank3\": dUnique_df['dUnique_label'][argsort == 2].item(),\n",
    "    \"rank4\": dUnique_df['dUnique_label'][argsort == 3].item(),\n",
    "    \"rank5\": dUnique_df['dUnique_label'][argsort == 4].item(),\n",
    "}"
   ]
  },
  {
   "cell_type": "markdown",
   "id": "14af67b8",
   "metadata": {},
   "source": [
    "### Echinacea"
   ]
  },
  {
   "cell_type": "code",
   "execution_count": 119,
   "id": "2b71170e",
   "metadata": {
    "scrolled": true
   },
   "outputs": [
    {
     "data": {
      "text/plain": [
       "'ECHINACEA ECHINACEA PURPUREA'"
      ]
     },
     "execution_count": 119,
     "metadata": {},
     "output_type": "execute_result"
    }
   ],
   "source": [
    "clean(dfneg2[\"FAERS_drug_match\"][10])"
   ]
  },
  {
   "cell_type": "code",
   "execution_count": 148,
   "id": "3bba2967",
   "metadata": {},
   "outputs": [
    {
     "data": {
      "text/html": [
       "<div>\n",
       "<style scoped>\n",
       "    .dataframe tbody tr th:only-of-type {\n",
       "        vertical-align: middle;\n",
       "    }\n",
       "\n",
       "    .dataframe tbody tr th {\n",
       "        vertical-align: top;\n",
       "    }\n",
       "\n",
       "    .dataframe thead th {\n",
       "        text-align: right;\n",
       "    }\n",
       "</style>\n",
       "<table border=\"1\" class=\"dataframe\">\n",
       "  <thead>\n",
       "    <tr style=\"text-align: right;\">\n",
       "      <th></th>\n",
       "      <th>dUnique_label</th>\n",
       "      <th>dUnique_seq</th>\n",
       "      <th>dUnique_seq_padded</th>\n",
       "    </tr>\n",
       "  </thead>\n",
       "  <tbody>\n",
       "    <tr>\n",
       "      <th>6</th>\n",
       "      <td>ECHINACEA</td>\n",
       "      <td>[5, 3, 8, 9, 14, 1, 3, 5, 1]</td>\n",
       "      <td>[5, 3, 8, 9, 14, 1, 3, 5, 1, 0, 0, 0, 0, 0, 0,...</td>\n",
       "    </tr>\n",
       "  </tbody>\n",
       "</table>\n",
       "</div>"
      ],
      "text/plain": [
       "  dUnique_label                   dUnique_seq  \\\n",
       "6     ECHINACEA  [5, 3, 8, 9, 14, 1, 3, 5, 1]   \n",
       "\n",
       "                                  dUnique_seq_padded  \n",
       "6  [5, 3, 8, 9, 14, 1, 3, 5, 1, 0, 0, 0, 0, 0, 0,...  "
      ]
     },
     "execution_count": 148,
     "metadata": {},
     "output_type": "execute_result"
    }
   ],
   "source": [
    "dUnique_df[dUnique_df[\"dUnique_label\"] == \"ECHINACEA\"]"
   ]
  },
  {
   "cell_type": "code",
   "execution_count": 154,
   "id": "a6d19642",
   "metadata": {},
   "outputs": [
    {
     "name": "stdout",
     "output_type": "stream",
     "text": [
      "4/4 [==============================] - 0s 97ms/step\n"
     ]
    },
    {
     "data": {
      "text/plain": [
       "{'rank1': 'TANACETUM PARTHENIUM',\n",
       " 'rank2': 'MATRICARIA CHAMOMILLA',\n",
       " 'rank3': 'CRANBERRY',\n",
       " 'rank4': 'SLIPPERY ELM',\n",
       " 'rank5': 'CITRUS PARADISI'}"
      ]
     },
     "execution_count": 154,
     "metadata": {},
     "output_type": "execute_result"
    }
   ],
   "source": [
    "predicts = model.predict([np.tile(padding(encode(clean(dfneg2[\"FAERS_drug_match\"][10]))), (dUnique_df['dUnique_seq_padded'].shape[0],1)), np.stack(dUnique_df['dUnique_seq_padded'])])\n",
    "argsort = predicts.flatten().argsort()\n",
    "# Top-5 smalles distances\n",
    "{\n",
    "    \"rank1\": dUnique_df['dUnique_label'][argsort == 0].item(),\n",
    "    \"rank2\": dUnique_df['dUnique_label'][argsort == 1].item(),\n",
    "    \"rank3\": dUnique_df['dUnique_label'][argsort == 2].item(),\n",
    "    \"rank4\": dUnique_df['dUnique_label'][argsort == 3].item(),\n",
    "    \"rank5\": dUnique_df['dUnique_label'][argsort == 4].item(),\n",
    "}"
   ]
  },
  {
   "cell_type": "markdown",
   "id": "4f016259",
   "metadata": {},
   "source": [
    "### Cranberry"
   ]
  },
  {
   "cell_type": "code",
   "execution_count": 141,
   "id": "94a162d7",
   "metadata": {},
   "outputs": [
    {
     "data": {
      "text/plain": [
       "'NATURES BOUNTY CRANBERRYTHERAPY'"
      ]
     },
     "execution_count": 141,
     "metadata": {},
     "output_type": "execute_result"
    }
   ],
   "source": [
    "clean(dfneg2[\"FAERS_drug_match\"][0])"
   ]
  },
  {
   "cell_type": "code",
   "execution_count": 140,
   "id": "abd4d949",
   "metadata": {},
   "outputs": [
    {
     "data": {
      "text/plain": [
       "{'rank1': 'CRANBERRY',\n",
       " 'rank2': 'FOENICULUM VULGARE',\n",
       " 'rank3': 'GARCINIA GUMMI',\n",
       " 'rank4': 'CAMELLIA SINENSIS',\n",
       " 'rank5': 'CRATAEGUS LAEVIGATA'}"
      ]
     },
     "execution_count": 140,
     "metadata": {},
     "output_type": "execute_result"
    }
   ],
   "source": [
    "predicts = model.predict([np.tile(padding(encode(clean(dfneg2[\"FAERS_drug_match\"][0]))), (dUnique_df['dUnique_seq_padded'].shape[0],1)), np.stack(dUnique_df['dUnique_seq_padded'])])\n",
    "argsort = predicts.flatten().argsort()\n",
    "# Top-5 smalles distances\n",
    "{\n",
    "    \"rank1\": dUnique_df['dUnique_label'][argsort == 0].item(),\n",
    "    \"rank2\": dUnique_df['dUnique_label'][argsort == 1].item(),\n",
    "    \"rank3\": dUnique_df['dUnique_label'][argsort == 2].item(),\n",
    "    \"rank4\": dUnique_df['dUnique_label'][argsort == 3].item(),\n",
    "    \"rank5\": dUnique_df['dUnique_label'][argsort == 4].item(),\n",
    "}"
   ]
  },
  {
   "cell_type": "markdown",
   "id": "e72534f9",
   "metadata": {},
   "source": [
    "## True  Negatives"
   ]
  },
  {
   "cell_type": "code",
   "execution_count": 44,
   "id": "877dbf40",
   "metadata": {},
   "outputs": [
    {
     "data": {
      "text/html": [
       "<div>\n",
       "<style scoped>\n",
       "    .dataframe tbody tr th:only-of-type {\n",
       "        vertical-align: middle;\n",
       "    }\n",
       "\n",
       "    .dataframe tbody tr th {\n",
       "        vertical-align: top;\n",
       "    }\n",
       "\n",
       "    .dataframe thead th {\n",
       "        text-align: right;\n",
       "    }\n",
       "</style>\n",
       "<table border=\"1\" class=\"dataframe\">\n",
       "  <thead>\n",
       "    <tr style=\"text-align: right;\">\n",
       "      <th></th>\n",
       "      <th>FAERS_drug_match</th>\n",
       "      <th>lookup_value</th>\n",
       "    </tr>\n",
       "  </thead>\n",
       "  <tbody>\n",
       "    <tr>\n",
       "      <th>0</th>\n",
       "      <td>NATURES BOUNTY CRANBERRY-THERAPY</td>\n",
       "      <td>HORSECHESTNUT</td>\n",
       "    </tr>\n",
       "    <tr>\n",
       "      <th>1</th>\n",
       "      <td>NATURES BOUNTY CRANBERRY-THERAPY</td>\n",
       "      <td>CITRUS PARADISI</td>\n",
       "    </tr>\n",
       "    <tr>\n",
       "      <th>2</th>\n",
       "      <td>NATURES BOUNTY CRANBERRY-THERAPY</td>\n",
       "      <td>BLACK COHOSH</td>\n",
       "    </tr>\n",
       "    <tr>\n",
       "      <th>3</th>\n",
       "      <td>NATURES BOUNTY CRANBERRY-THERAPY</td>\n",
       "      <td>ACTAEA RACEMOSA</td>\n",
       "    </tr>\n",
       "    <tr>\n",
       "      <th>4</th>\n",
       "      <td>SPASMO-URGENIN [ECHINACEA ANGUSTIFOLIA,SERENOA...</td>\n",
       "      <td>GUARANA</td>\n",
       "    </tr>\n",
       "  </tbody>\n",
       "</table>\n",
       "</div>"
      ],
      "text/plain": [
       "                                    FAERS_drug_match     lookup_value\n",
       "0                   NATURES BOUNTY CRANBERRY-THERAPY    HORSECHESTNUT\n",
       "1                   NATURES BOUNTY CRANBERRY-THERAPY  CITRUS PARADISI\n",
       "2                   NATURES BOUNTY CRANBERRY-THERAPY     BLACK COHOSH\n",
       "3                   NATURES BOUNTY CRANBERRY-THERAPY  ACTAEA RACEMOSA\n",
       "4  SPASMO-URGENIN [ECHINACEA ANGUSTIFOLIA,SERENOA...          GUARANA"
      ]
     },
     "execution_count": 44,
     "metadata": {},
     "output_type": "execute_result"
    }
   ],
   "source": [
    "dfneg2.head()"
   ]
  },
  {
   "cell_type": "markdown",
   "id": "4ba7cdd8",
   "metadata": {},
   "source": [
    "# Evaluating on test data - NP names only"
   ]
  },
  {
   "cell_type": "code",
   "execution_count": 164,
   "id": "1a88ac91",
   "metadata": {},
   "outputs": [
    {
     "name": "stdout",
     "output_type": "stream",
     "text": [
      "<class 'pandas.core.frame.DataFrame'>\n",
      "RangeIndex: 958 entries, 0 to 957\n",
      "Data columns (total 4 columns):\n",
      " #   Column                Non-Null Count  Dtype \n",
      "---  ------                --------------  ----- \n",
      " 0   latin_binomial        958 non-null    object\n",
      " 1   common_name           958 non-null    object\n",
      " 2   latin_binomial_clean  958 non-null    object\n",
      " 3   common_name_clean     958 non-null    object\n",
      "dtypes: object(4)\n",
      "memory usage: 30.1+ KB\n"
     ]
    }
   ],
   "source": [
    "vocab = pd.read_csv('../data/lb_to_common_names.csv')\n",
    "vocab.info()"
   ]
  },
  {
   "cell_type": "code",
   "execution_count": 12,
   "id": "45af7dc1",
   "metadata": {},
   "outputs": [
    {
     "name": "stdout",
     "output_type": "stream",
     "text": [
      "<class 'pandas.core.frame.DataFrame'>\n",
      "RangeIndex: 5950 entries, 0 to 5949\n",
      "Data columns (total 1 columns):\n",
      " #   Column   Non-Null Count  Dtype \n",
      "---  ------   --------------  ----- \n",
      " 0   np_name  5950 non-null   object\n",
      "dtypes: object(1)\n",
      "memory usage: 46.6+ KB\n",
      "None\n",
      "Processing file: ---------------------------------------\n",
      "Dropping sequences longer than the maxlen:\n",
      "\tDropped 0 that exceeded the maximum sequence length.\n",
      "\tUppercasing string sequences.\n",
      "Done processing: --------------------------------------\n",
      "<class 'pandas.core.frame.DataFrame'>\n",
      "RangeIndex: 5950 entries, 0 to 5949\n",
      "Data columns (total 1 columns):\n",
      " #   Column   Non-Null Count  Dtype \n",
      "---  ------   --------------  ----- \n",
      " 0   np_name  5950 non-null   object\n",
      "dtypes: object(1)\n",
      "memory usage: 46.6+ KB\n",
      "None\n"
     ]
    }
   ],
   "source": [
    "translation = '../data/translation_test_nps_202203171038.csv'\n",
    "# test = pd.read_csv(translation).applymap(clean)\n",
    "test = preprocessInput(translation)"
   ]
  },
  {
   "cell_type": "code",
   "execution_count": 247,
   "id": "37eceb81",
   "metadata": {},
   "outputs": [
    {
     "name": "stdout",
     "output_type": "stream",
     "text": [
      "Dropping sequences longer than the maxlen:\n",
      "\tDropped 0 that exceeded the maximum sequence length.\n"
     ]
    }
   ],
   "source": [
    "# original_count = len(test.index)\n",
    "# print(\"Dropping sequences longer than the maxlen:\")\n",
    "# test.drop(test[test[test.columns[0]].apply(len).gt(MAXLEN)].index, inplace = True)\n",
    "# new_count = len(test.index)\n",
    "# print(\"\\tDropped\", original_count - new_count, \"that exceeded the maximum sequence length.\")"
   ]
  },
  {
   "cell_type": "code",
   "execution_count": 249,
   "id": "8bf90765",
   "metadata": {},
   "outputs": [],
   "source": [
    "test[\"Processed_np_name\"] = test.np_name.apply(clean).apply(encode).apply(padding)"
   ]
  },
  {
   "cell_type": "code",
   "execution_count": 250,
   "id": "78e3e2e9",
   "metadata": {},
   "outputs": [
    {
     "data": {
      "text/html": [
       "<div>\n",
       "<style scoped>\n",
       "    .dataframe tbody tr th:only-of-type {\n",
       "        vertical-align: middle;\n",
       "    }\n",
       "\n",
       "    .dataframe tbody tr th {\n",
       "        vertical-align: top;\n",
       "    }\n",
       "\n",
       "    .dataframe thead th {\n",
       "        text-align: right;\n",
       "    }\n",
       "</style>\n",
       "<table border=\"1\" class=\"dataframe\">\n",
       "  <thead>\n",
       "    <tr style=\"text-align: right;\">\n",
       "      <th></th>\n",
       "      <th>np_name</th>\n",
       "      <th>Processed_np_name</th>\n",
       "      <th>rank1_drug</th>\n",
       "      <th>rank2_drug</th>\n",
       "      <th>rank3_drug</th>\n",
       "      <th>rank4_drug</th>\n",
       "      <th>rank5_drug</th>\n",
       "      <th>lookup_rank</th>\n",
       "      <th>lookup_rank_related</th>\n",
       "    </tr>\n",
       "  </thead>\n",
       "  <tbody>\n",
       "    <tr>\n",
       "      <th>0</th>\n",
       "      <td>XTNNP</td>\n",
       "      <td>[24, 20, 14, 14, 16, 0, 0, 0, 0, 0, 0, 0, 0, 0...</td>\n",
       "      <td></td>\n",
       "      <td></td>\n",
       "      <td></td>\n",
       "      <td></td>\n",
       "      <td></td>\n",
       "      <td>inf</td>\n",
       "      <td>inf</td>\n",
       "    </tr>\n",
       "    <tr>\n",
       "      <th>1</th>\n",
       "      <td>NWLMKV</td>\n",
       "      <td>[14, 23, 12, 13, 11, 22, 0, 0, 0, 0, 0, 0, 0, ...</td>\n",
       "      <td></td>\n",
       "      <td></td>\n",
       "      <td></td>\n",
       "      <td></td>\n",
       "      <td></td>\n",
       "      <td>inf</td>\n",
       "      <td>inf</td>\n",
       "    </tr>\n",
       "    <tr>\n",
       "      <th>2</th>\n",
       "      <td>WZMFCEA</td>\n",
       "      <td>[23, 26, 13, 6, 3, 5, 1, 0, 0, 0, 0, 0, 0, 0, ...</td>\n",
       "      <td></td>\n",
       "      <td></td>\n",
       "      <td></td>\n",
       "      <td></td>\n",
       "      <td></td>\n",
       "      <td>inf</td>\n",
       "      <td>inf</td>\n",
       "    </tr>\n",
       "    <tr>\n",
       "      <th>3</th>\n",
       "      <td>AARONSROD</td>\n",
       "      <td>[1, 1, 18, 15, 14, 19, 18, 15, 4, 0, 0, 0, 0, ...</td>\n",
       "      <td></td>\n",
       "      <td></td>\n",
       "      <td></td>\n",
       "      <td></td>\n",
       "      <td></td>\n",
       "      <td>inf</td>\n",
       "      <td>inf</td>\n",
       "    </tr>\n",
       "    <tr>\n",
       "      <th>4</th>\n",
       "      <td>AARONS ROD WHOLE</td>\n",
       "      <td>[1, 1, 18, 15, 14, 19, 27, 18, 15, 4, 27, 23, ...</td>\n",
       "      <td></td>\n",
       "      <td></td>\n",
       "      <td></td>\n",
       "      <td></td>\n",
       "      <td></td>\n",
       "      <td>inf</td>\n",
       "      <td>inf</td>\n",
       "    </tr>\n",
       "  </tbody>\n",
       "</table>\n",
       "</div>"
      ],
      "text/plain": [
       "            np_name                                  Processed_np_name  \\\n",
       "0             XTNNP  [24, 20, 14, 14, 16, 0, 0, 0, 0, 0, 0, 0, 0, 0...   \n",
       "1            NWLMKV  [14, 23, 12, 13, 11, 22, 0, 0, 0, 0, 0, 0, 0, ...   \n",
       "2           WZMFCEA  [23, 26, 13, 6, 3, 5, 1, 0, 0, 0, 0, 0, 0, 0, ...   \n",
       "3         AARONSROD  [1, 1, 18, 15, 14, 19, 18, 15, 4, 0, 0, 0, 0, ...   \n",
       "4  AARONS ROD WHOLE  [1, 1, 18, 15, 14, 19, 27, 18, 15, 4, 27, 23, ...   \n",
       "\n",
       "  rank1_drug rank2_drug rank3_drug rank4_drug rank5_drug  lookup_rank  \\\n",
       "0                                                                 inf   \n",
       "1                                                                 inf   \n",
       "2                                                                 inf   \n",
       "3                                                                 inf   \n",
       "4                                                                 inf   \n",
       "\n",
       "   lookup_rank_related  \n",
       "0                  inf  \n",
       "1                  inf  \n",
       "2                  inf  \n",
       "3                  inf  \n",
       "4                  inf  "
      ]
     },
     "execution_count": 250,
     "metadata": {},
     "output_type": "execute_result"
    }
   ],
   "source": [
    "test = test.assign(rank1_drug=\"\", rank2_drug=\"\", rank3_drug=\"\", rank4_drug=\"\", rank5_drug=\"\", lookup_rank= np.Inf, lookup_rank_related = np.Inf)\n",
    "test.head()"
   ]
  },
  {
   "cell_type": "markdown",
   "id": "5fd04131",
   "metadata": {},
   "source": [
    "# Evaluation of drug name predictions\n",
    "### Find ranks 1-n from the predicted similarities for the test data"
   ]
  },
  {
   "cell_type": "code",
   "execution_count": 251,
   "id": "bd185121",
   "metadata": {},
   "outputs": [
    {
     "data": {
      "text/html": [
       "<div>\n",
       "<style scoped>\n",
       "    .dataframe tbody tr th:only-of-type {\n",
       "        vertical-align: middle;\n",
       "    }\n",
       "\n",
       "    .dataframe tbody tr th {\n",
       "        vertical-align: top;\n",
       "    }\n",
       "\n",
       "    .dataframe thead th {\n",
       "        text-align: right;\n",
       "    }\n",
       "</style>\n",
       "<table border=\"1\" class=\"dataframe\">\n",
       "  <thead>\n",
       "    <tr style=\"text-align: right;\">\n",
       "      <th></th>\n",
       "      <th>np_name</th>\n",
       "      <th>Processed_np_name</th>\n",
       "      <th>rank1_drug</th>\n",
       "      <th>rank2_drug</th>\n",
       "      <th>rank3_drug</th>\n",
       "      <th>rank4_drug</th>\n",
       "      <th>rank5_drug</th>\n",
       "      <th>lookup_rank</th>\n",
       "      <th>lookup_rank_related</th>\n",
       "    </tr>\n",
       "  </thead>\n",
       "  <tbody>\n",
       "    <tr>\n",
       "      <th>0</th>\n",
       "      <td>XTNNP</td>\n",
       "      <td>[24, 20, 14, 14, 16, 0, 0, 0, 0, 0, 0, 0, 0, 0...</td>\n",
       "      <td></td>\n",
       "      <td></td>\n",
       "      <td></td>\n",
       "      <td></td>\n",
       "      <td></td>\n",
       "      <td>inf</td>\n",
       "      <td>inf</td>\n",
       "    </tr>\n",
       "    <tr>\n",
       "      <th>1</th>\n",
       "      <td>NWLMKV</td>\n",
       "      <td>[14, 23, 12, 13, 11, 22, 0, 0, 0, 0, 0, 0, 0, ...</td>\n",
       "      <td></td>\n",
       "      <td></td>\n",
       "      <td></td>\n",
       "      <td></td>\n",
       "      <td></td>\n",
       "      <td>inf</td>\n",
       "      <td>inf</td>\n",
       "    </tr>\n",
       "    <tr>\n",
       "      <th>2</th>\n",
       "      <td>WZMFCEA</td>\n",
       "      <td>[23, 26, 13, 6, 3, 5, 1, 0, 0, 0, 0, 0, 0, 0, ...</td>\n",
       "      <td></td>\n",
       "      <td></td>\n",
       "      <td></td>\n",
       "      <td></td>\n",
       "      <td></td>\n",
       "      <td>inf</td>\n",
       "      <td>inf</td>\n",
       "    </tr>\n",
       "    <tr>\n",
       "      <th>3</th>\n",
       "      <td>AARONSROD</td>\n",
       "      <td>[1, 1, 18, 15, 14, 19, 18, 15, 4, 0, 0, 0, 0, ...</td>\n",
       "      <td></td>\n",
       "      <td></td>\n",
       "      <td></td>\n",
       "      <td></td>\n",
       "      <td></td>\n",
       "      <td>inf</td>\n",
       "      <td>inf</td>\n",
       "    </tr>\n",
       "    <tr>\n",
       "      <th>4</th>\n",
       "      <td>AARONS ROD WHOLE</td>\n",
       "      <td>[1, 1, 18, 15, 14, 19, 27, 18, 15, 4, 27, 23, ...</td>\n",
       "      <td></td>\n",
       "      <td></td>\n",
       "      <td></td>\n",
       "      <td></td>\n",
       "      <td></td>\n",
       "      <td>inf</td>\n",
       "      <td>inf</td>\n",
       "    </tr>\n",
       "  </tbody>\n",
       "</table>\n",
       "</div>"
      ],
      "text/plain": [
       "            np_name                                  Processed_np_name  \\\n",
       "0             XTNNP  [24, 20, 14, 14, 16, 0, 0, 0, 0, 0, 0, 0, 0, 0...   \n",
       "1            NWLMKV  [14, 23, 12, 13, 11, 22, 0, 0, 0, 0, 0, 0, 0, ...   \n",
       "2           WZMFCEA  [23, 26, 13, 6, 3, 5, 1, 0, 0, 0, 0, 0, 0, 0, ...   \n",
       "3         AARONSROD  [1, 1, 18, 15, 14, 19, 18, 15, 4, 0, 0, 0, 0, ...   \n",
       "4  AARONS ROD WHOLE  [1, 1, 18, 15, 14, 19, 27, 18, 15, 4, 27, 23, ...   \n",
       "\n",
       "  rank1_drug rank2_drug rank3_drug rank4_drug rank5_drug  lookup_rank  \\\n",
       "0                                                                 inf   \n",
       "1                                                                 inf   \n",
       "2                                                                 inf   \n",
       "3                                                                 inf   \n",
       "4                                                                 inf   \n",
       "\n",
       "   lookup_rank_related  \n",
       "0                  inf  \n",
       "1                  inf  \n",
       "2                  inf  \n",
       "3                  inf  \n",
       "4                  inf  "
      ]
     },
     "execution_count": 251,
     "metadata": {},
     "output_type": "execute_result"
    }
   ],
   "source": [
    "test.head()"
   ]
  },
  {
   "cell_type": "code",
   "execution_count": 276,
   "id": "6219f6a7",
   "metadata": {},
   "outputs": [],
   "source": [
    "def find_ranks(model: tf.keras.Model, related_rank: bool = False) -> pd.DataFrame:\n",
    "    \"\"\"For each row in the test set (input), use the model to predict if the 'FAERS_drug_match' entry matches any of the 'lookup_value' entries.\n",
    "       This is done at the encoded sequence level for both name all unique drugnames\n",
    "       \n",
    "         Parameters\n",
    "    ----------\n",
    "    model : tf.keras.Model\n",
    "        A Keras model based Siamese Network that takes three inputs. \n",
    "        Namely, two input sequeces and a third input binary target specifying wether the two sequeces match.\n",
    "    y : pd.Series\n",
    "        A pandas Series containing the clean encoded 'lookup_value' column.\n",
    "      \n",
    "    Returns\n",
    "    -------\n",
    "    x : pd.Series\n",
    "        Returns the padded 'FAERS_drug_match' series.\n",
    "    y : pd.Series \n",
    "        Returns the padded 'lookup_value' series.\n",
    "    \n",
    "    \"\"\"\n",
    "    subsample = test.sample(frac=0.01)\n",
    "    for i in subsample.index:\n",
    "        predicts = model.predict([np.tile(subsample.loc[i, \"Processed_np_name\"], (dUnique_df['dUnique_seq_padded'].shape[0],1)), np.stack(dUnique_df['dUnique_seq_padded'])])\n",
    "        argsort = predicts.flatten().argsort()\n",
    "        # Top-5 smalles distances\n",
    "        subsample.at[i, 'rank1_drug'] = dUnique_df['dUnique_label'][argsort == 0].values[0]\n",
    "        subsample.at[i, 'rank2_drug'] = dUnique_df['dUnique_label'][argsort == 1].values[0]\n",
    "        subsample.at[i, 'rank3_drug'] = dUnique_df['dUnique_label'][argsort == 2].values[0]\n",
    "        subsample.at[i, 'rank4_drug'] = dUnique_df['dUnique_label'][argsort == 3].values[0]\n",
    "        subsample.at[i, 'rank5_drug'] = dUnique_df['dUnique_label'][argsort == 4].values[0]\n",
    "        if related_rank:\n",
    "            # Does any of them match\n",
    "            lookup_clean = subsample.loc[i]['lookup_value']\n",
    "            predicted_rank = subsample.loc[i][['rank1_drug', 'rank2_drug', 'rank3_drug', 'rank4_drug', 'rank5_drug']].eq(lookup_clean).to_numpy().nonzero()\n",
    "\n",
    "            lookup_rank = np.Inf    \n",
    "            if len(predicted_rank[0]) > 0 :\n",
    "                lookup_rank = predicted_rank[0][0] + 1\n",
    "                test.loc[i, 'lookup_rank'] = lookup_rank\n",
    "\n",
    "            # Let's compare to latin binomial\n",
    "            lb_res = vocab.loc[vocab['latin_binomial_clean'] == lookup_clean]\n",
    "            common_res = vocab.loc[vocab['common_name_clean'] == lookup_clean]\n",
    "            lookup_result = ''\n",
    "            if len(lb_res) > 0:\n",
    "                lookup_result = lb_res.common_name_clean.values[0]\n",
    "            elif len(common_res) > 0:\n",
    "                lookup_result = common_res.latin_binomial_clean.values[0]\n",
    "\n",
    "            related_rank = np.Inf\n",
    "            if lookup_result != '':\n",
    "                annotated_rank = test.loc[i][['rank1_drug', 'rank2_drug', 'rank3_drug', 'rank4_drug', 'rank5_drug']].eq(lookup_result).to_numpy().nonzero()\n",
    "                if len(annotated_rank[0]) > 0: \n",
    "                    related_rank = annotated_rank[0][0] + 1\n",
    "\n",
    "\n",
    "            #find related mappings to lookup value in predicted values \n",
    "            test.loc[i, 'lookup_rank_related'] = min(lookup_rank, related_rank)\n",
    "    \n",
    "    test.head()\n",
    "    return subsample"
   ]
  },
  {
   "cell_type": "code",
   "execution_count": 277,
   "id": "b25c100f",
   "metadata": {},
   "outputs": [],
   "source": [
    "# i = padded_xTest.index[0]\n",
    "# predicts = model.predict([np.tile(padded_xTest.loc[i], (dUnique_df['dUnique_seq_padded'].shape[0],1)), np.stack(dUnique_df['dUnique_seq_padded'])])\n",
    "# argsort = predicts.flatten().argsort()\n",
    "# predicts.flatten()\n",
    "# argsort\n",
    "# dUnique_df[['dUnique_label','dUnique_seq_padded']]\n",
    "# dUnique_df.iloc[6][['dUnique_label','dUnique_seq_padded']]\n",
    "# dUnique_df['dUnique_label'][np.where(argsort == 3)[0][0]]"
   ]
  },
  {
   "cell_type": "markdown",
   "id": "a37cc942",
   "metadata": {},
   "source": [
    "## Assing ranks to the matching \n",
    "matches are assigned their corresponding rank\n",
    "non-matches are left null"
   ]
  },
  {
   "cell_type": "code",
   "execution_count": 278,
   "id": "cfdbf207",
   "metadata": {},
   "outputs": [
    {
     "name": "stdout",
     "output_type": "stream",
     "text": [
      "4/4 [==============================] - 0s 93ms/step\n",
      "4/4 [==============================] - 0s 95ms/step\n",
      "4/4 [==============================] - 0s 98ms/step\n",
      "4/4 [==============================] - 0s 94ms/step\n",
      "4/4 [==============================] - 0s 110ms/step\n",
      "4/4 [==============================] - 0s 96ms/step\n",
      "4/4 [==============================] - 0s 97ms/step\n",
      "4/4 [==============================] - 0s 95ms/step\n",
      "4/4 [==============================] - 0s 95ms/step\n",
      "4/4 [==============================] - 0s 95ms/step\n",
      "4/4 [==============================] - 0s 95ms/step\n",
      "4/4 [==============================] - 0s 97ms/step\n",
      "4/4 [==============================] - 0s 96ms/step\n",
      "4/4 [==============================] - 0s 95ms/step\n",
      "4/4 [==============================] - 0s 94ms/step\n",
      "4/4 [==============================] - 0s 94ms/step\n",
      "4/4 [==============================] - 0s 94ms/step\n",
      "4/4 [==============================] - 0s 94ms/step\n",
      "4/4 [==============================] - 0s 95ms/step\n",
      "4/4 [==============================] - 0s 95ms/step\n",
      "4/4 [==============================] - 0s 97ms/step\n",
      "4/4 [==============================] - 0s 95ms/step\n",
      "4/4 [==============================] - 0s 94ms/step\n",
      "4/4 [==============================] - 0s 95ms/step\n",
      "4/4 [==============================] - 0s 95ms/step\n",
      "4/4 [==============================] - 0s 94ms/step\n",
      "4/4 [==============================] - 0s 94ms/step\n",
      "4/4 [==============================] - 0s 93ms/step\n",
      "4/4 [==============================] - 0s 96ms/step\n",
      "4/4 [==============================] - 0s 96ms/step\n",
      "4/4 [==============================] - 0s 95ms/step\n",
      "4/4 [==============================] - 0s 95ms/step\n",
      "4/4 [==============================] - 0s 94ms/step\n",
      "4/4 [==============================] - 0s 96ms/step\n",
      "4/4 [==============================] - 0s 94ms/step\n",
      "4/4 [==============================] - 0s 105ms/step\n",
      "4/4 [==============================] - 0s 108ms/step\n",
      "4/4 [==============================] - 0s 111ms/step\n",
      "4/4 [==============================] - 0s 109ms/step\n",
      "4/4 [==============================] - 0s 109ms/step\n",
      "4/4 [==============================] - 0s 109ms/step\n",
      "4/4 [==============================] - 0s 108ms/step\n",
      "4/4 [==============================] - 0s 110ms/step\n",
      "4/4 [==============================] - 0s 111ms/step\n",
      "4/4 [==============================] - 0s 109ms/step\n",
      "4/4 [==============================] - 0s 108ms/step\n",
      "4/4 [==============================] - 0s 107ms/step\n",
      "4/4 [==============================] - 0s 110ms/step\n",
      "4/4 [==============================] - 0s 109ms/step\n",
      "4/4 [==============================] - 0s 109ms/step\n",
      "4/4 [==============================] - 0s 108ms/step\n",
      "4/4 [==============================] - 0s 112ms/step\n",
      "4/4 [==============================] - 0s 114ms/step\n",
      "4/4 [==============================] - 0s 115ms/step\n",
      "4/4 [==============================] - 0s 108ms/step\n",
      "4/4 [==============================] - 0s 109ms/step\n",
      "4/4 [==============================] - 0s 109ms/step\n",
      "4/4 [==============================] - 0s 107ms/step\n",
      "4/4 [==============================] - 0s 112ms/step\n",
      "4/4 [==============================] - 0s 109ms/step\n"
     ]
    }
   ],
   "source": [
    "predicted = find_ranks(model, False)"
   ]
  },
  {
   "cell_type": "code",
   "execution_count": 288,
   "id": "6946af0a",
   "metadata": {},
   "outputs": [
    {
     "data": {
      "text/html": [
       "<div>\n",
       "<style scoped>\n",
       "    .dataframe tbody tr th:only-of-type {\n",
       "        vertical-align: middle;\n",
       "    }\n",
       "\n",
       "    .dataframe tbody tr th {\n",
       "        vertical-align: top;\n",
       "    }\n",
       "\n",
       "    .dataframe thead th {\n",
       "        text-align: right;\n",
       "    }\n",
       "</style>\n",
       "<table border=\"1\" class=\"dataframe\">\n",
       "  <thead>\n",
       "    <tr style=\"text-align: right;\">\n",
       "      <th></th>\n",
       "      <th>dUnique_label</th>\n",
       "      <th>dUnique_seq</th>\n",
       "      <th>dUnique_seq_padded</th>\n",
       "    </tr>\n",
       "  </thead>\n",
       "  <tbody>\n",
       "  </tbody>\n",
       "</table>\n",
       "</div>"
      ],
      "text/plain": [
       "Empty DataFrame\n",
       "Columns: [dUnique_label, dUnique_seq, dUnique_seq_padded]\n",
       "Index: []"
      ]
     },
     "execution_count": 288,
     "metadata": {},
     "output_type": "execute_result"
    }
   ],
   "source": [
    "dUnique_df[dUnique_df[\"dUnique_label\"] == \"Dill\".upper()]"
   ]
  },
  {
   "cell_type": "code",
   "execution_count": 287,
   "id": "194920ea",
   "metadata": {},
   "outputs": [
    {
     "data": {
      "text/html": [
       "<div>\n",
       "<style scoped>\n",
       "    .dataframe tbody tr th:only-of-type {\n",
       "        vertical-align: middle;\n",
       "    }\n",
       "\n",
       "    .dataframe tbody tr th {\n",
       "        vertical-align: top;\n",
       "    }\n",
       "\n",
       "    .dataframe thead th {\n",
       "        text-align: right;\n",
       "    }\n",
       "</style>\n",
       "<table border=\"1\" class=\"dataframe\">\n",
       "  <thead>\n",
       "    <tr style=\"text-align: right;\">\n",
       "      <th></th>\n",
       "      <th>dUnique_label</th>\n",
       "      <th>dUnique_seq</th>\n",
       "      <th>dUnique_seq_padded</th>\n",
       "    </tr>\n",
       "  </thead>\n",
       "  <tbody>\n",
       "  </tbody>\n",
       "</table>\n",
       "</div>"
      ],
      "text/plain": [
       "Empty DataFrame\n",
       "Columns: [dUnique_label, dUnique_seq, dUnique_seq_padded]\n",
       "Index: []"
      ]
     },
     "execution_count": 287,
     "metadata": {},
     "output_type": "execute_result"
    }
   ],
   "source": [
    "dUnique_df[dUnique_df[\"dUnique_label\"] == \"Anethum graveolens\".upper()]"
   ]
  },
  {
   "cell_type": "code",
   "execution_count": 289,
   "id": "c5b294d9",
   "metadata": {
    "scrolled": true
   },
   "outputs": [
    {
     "data": {
      "text/html": [
       "<div>\n",
       "<style scoped>\n",
       "    .dataframe tbody tr th:only-of-type {\n",
       "        vertical-align: middle;\n",
       "    }\n",
       "\n",
       "    .dataframe tbody tr th {\n",
       "        vertical-align: top;\n",
       "    }\n",
       "\n",
       "    .dataframe thead th {\n",
       "        text-align: right;\n",
       "    }\n",
       "</style>\n",
       "<table border=\"1\" class=\"dataframe\">\n",
       "  <thead>\n",
       "    <tr style=\"text-align: right;\">\n",
       "      <th></th>\n",
       "      <th>np_name</th>\n",
       "      <th>Processed_np_name</th>\n",
       "      <th>rank1_drug</th>\n",
       "      <th>rank2_drug</th>\n",
       "      <th>rank3_drug</th>\n",
       "      <th>rank4_drug</th>\n",
       "      <th>rank5_drug</th>\n",
       "      <th>lookup_rank</th>\n",
       "      <th>lookup_rank_related</th>\n",
       "    </tr>\n",
       "  </thead>\n",
       "  <tbody>\n",
       "    <tr>\n",
       "      <th>4935</th>\n",
       "      <td>SELINUM ANETHUM WHOLE</td>\n",
       "      <td>[19, 5, 12, 9, 14, 21, 13, 27, 1, 14, 5, 20, 8...</td>\n",
       "      <td>WITHANIA SOMNIFERA</td>\n",
       "      <td>STEVIA</td>\n",
       "      <td>HORDEUM VULGARE</td>\n",
       "      <td>GUARANA</td>\n",
       "      <td>PANAX GINSENG</td>\n",
       "      <td>inf</td>\n",
       "      <td>inf</td>\n",
       "    </tr>\n",
       "    <tr>\n",
       "      <th>4401</th>\n",
       "      <td>PSEUDOTSUGA VANCOUVERENSIS WHOLE</td>\n",
       "      <td>[16, 19, 5, 21, 4, 15, 20, 19, 21, 7, 1, 27, 2...</td>\n",
       "      <td>CORDYCEPS</td>\n",
       "      <td>STEVIA</td>\n",
       "      <td>CITRUS PARADISI</td>\n",
       "      <td>KRATOM</td>\n",
       "      <td>MILK THISTLE</td>\n",
       "      <td>inf</td>\n",
       "      <td>inf</td>\n",
       "    </tr>\n",
       "    <tr>\n",
       "      <th>3661</th>\n",
       "      <td>MELEGUETA PEPPER WHOLE</td>\n",
       "      <td>[13, 5, 12, 5, 7, 21, 5, 20, 1, 27, 16, 5, 16,...</td>\n",
       "      <td>CHLORELLA VULGARIS</td>\n",
       "      <td>CINNAMON</td>\n",
       "      <td>GARCINIA GUMMI</td>\n",
       "      <td>GOJI BERRY</td>\n",
       "      <td>VALERIANA OFFICINALIS</td>\n",
       "      <td>inf</td>\n",
       "      <td>inf</td>\n",
       "    </tr>\n",
       "    <tr>\n",
       "      <th>1685</th>\n",
       "      <td>CITRUS X AURANTIUM L</td>\n",
       "      <td>[3, 9, 20, 18, 21, 19, 27, 24, 27, 1, 21, 18, ...</td>\n",
       "      <td>WITHANIA SOMNIFERA</td>\n",
       "      <td>PAUSINYSTALIA JOHIMBE</td>\n",
       "      <td>WOOD SPIDER</td>\n",
       "      <td>RHODIOLA ROSEA</td>\n",
       "      <td>SILYBUM MARIANUM</td>\n",
       "      <td>inf</td>\n",
       "      <td>inf</td>\n",
       "    </tr>\n",
       "    <tr>\n",
       "      <th>4306</th>\n",
       "      <td>POGOSTEMON PATCHOULY WHOLE</td>\n",
       "      <td>[16, 15, 7, 15, 19, 20, 5, 13, 15, 14, 27, 16,...</td>\n",
       "      <td>TRITICUM AESTIVUM</td>\n",
       "      <td>MARRUBIUM VULGARE</td>\n",
       "      <td>OLIVE LEAF</td>\n",
       "      <td>BLACK CUMIN</td>\n",
       "      <td>LEPIDIUM MEYENII</td>\n",
       "      <td>inf</td>\n",
       "      <td>inf</td>\n",
       "    </tr>\n",
       "    <tr>\n",
       "      <th>3327</th>\n",
       "      <td>LEUCONYMPHAEA ODORATA WHOLE</td>\n",
       "      <td>[12, 5, 21, 3, 15, 14, 25, 13, 16, 8, 1, 5, 1,...</td>\n",
       "      <td>MARRUBIUM VULGARE</td>\n",
       "      <td>BEET ROOT</td>\n",
       "      <td>SLIPPERY ELM</td>\n",
       "      <td>FENNEL</td>\n",
       "      <td>CRATAEGUS LAEVIGATA</td>\n",
       "      <td>inf</td>\n",
       "      <td>inf</td>\n",
       "    </tr>\n",
       "    <tr>\n",
       "      <th>1711</th>\n",
       "      <td>CITRUS X PARADISI</td>\n",
       "      <td>[3, 9, 20, 18, 21, 19, 27, 24, 27, 16, 1, 18, ...</td>\n",
       "      <td>SERENOA REPENS</td>\n",
       "      <td>FOENICULUM VULGARE</td>\n",
       "      <td>STEVIA REBAUDIANA</td>\n",
       "      <td>HEMP EXTRACT</td>\n",
       "      <td>RUSCUS ACULEATUS</td>\n",
       "      <td>inf</td>\n",
       "      <td>inf</td>\n",
       "    </tr>\n",
       "    <tr>\n",
       "      <th>1126</th>\n",
       "      <td>CAPRIFOLIUM JAPONICUM WHOLE</td>\n",
       "      <td>[3, 1, 16, 18, 9, 6, 15, 12, 9, 21, 13, 27, 10...</td>\n",
       "      <td>STEVIA REBAUDIANA</td>\n",
       "      <td>HORSETAIL</td>\n",
       "      <td>FEVERFEW</td>\n",
       "      <td>IVY LEAF</td>\n",
       "      <td>UNCARIA TOMENTOSA</td>\n",
       "      <td>inf</td>\n",
       "      <td>inf</td>\n",
       "    </tr>\n",
       "    <tr>\n",
       "      <th>956</th>\n",
       "      <td>BUPLEURUM VANHEURCKII WHOLE</td>\n",
       "      <td>[2, 21, 16, 12, 5, 21, 18, 21, 13, 27, 22, 1, ...</td>\n",
       "      <td>FEVERFEW</td>\n",
       "      <td>STEVIA</td>\n",
       "      <td>ASHWAGANDA</td>\n",
       "      <td>BUTCHERSBROOM</td>\n",
       "      <td>TANACETUM PARTHENIUM</td>\n",
       "      <td>inf</td>\n",
       "      <td>inf</td>\n",
       "    </tr>\n",
       "    <tr>\n",
       "      <th>612</th>\n",
       "      <td>BERBERIS AUREA WHOLE</td>\n",
       "      <td>[2, 5, 18, 2, 5, 18, 9, 19, 27, 1, 21, 18, 5, ...</td>\n",
       "      <td>CANNABIS SATIVA</td>\n",
       "      <td>STEVIA</td>\n",
       "      <td>WOOD SPIDER</td>\n",
       "      <td>PIPER METHYSTICUM</td>\n",
       "      <td>BLACK CUMIN</td>\n",
       "      <td>inf</td>\n",
       "      <td>inf</td>\n",
       "    </tr>\n",
       "    <tr>\n",
       "      <th>5397</th>\n",
       "      <td>THYMELEAFED GRATIOLA WHOLE</td>\n",
       "      <td>[20, 8, 25, 13, 5, 12, 5, 1, 6, 5, 4, 27, 7, 1...</td>\n",
       "      <td>BUTCHERSBROOM</td>\n",
       "      <td>FOENICULUM VULGARE</td>\n",
       "      <td>BLACK CUMIN</td>\n",
       "      <td>RED YEAST RICE</td>\n",
       "      <td>ARCTIUM LAPPA</td>\n",
       "      <td>inf</td>\n",
       "      <td>inf</td>\n",
       "    </tr>\n",
       "    <tr>\n",
       "      <th>5074</th>\n",
       "      <td>SOFT RUSH WHOLE</td>\n",
       "      <td>[19, 15, 6, 20, 27, 18, 21, 19, 8, 27, 23, 8, ...</td>\n",
       "      <td>KARCURA</td>\n",
       "      <td>FENUGREEK</td>\n",
       "      <td>PRUNUS SEROTINA</td>\n",
       "      <td>ORIGANUM VULGARE</td>\n",
       "      <td>MIRACLEFRUIT</td>\n",
       "      <td>inf</td>\n",
       "      <td>inf</td>\n",
       "    </tr>\n",
       "    <tr>\n",
       "      <th>1524</th>\n",
       "      <td>CHIONANTHUS OBOVATUS WHOLE</td>\n",
       "      <td>[3, 8, 9, 15, 14, 1, 14, 20, 8, 21, 19, 27, 15...</td>\n",
       "      <td>CITRUS PARADISI</td>\n",
       "      <td>KARCURA</td>\n",
       "      <td>TANGKUEI</td>\n",
       "      <td>OLIVE LEAF</td>\n",
       "      <td>MORINGA OLEIFERA</td>\n",
       "      <td>inf</td>\n",
       "      <td>inf</td>\n",
       "    </tr>\n",
       "    <tr>\n",
       "      <th>2770</th>\n",
       "      <td>GRATIOLA PORTULACACEA WHOLE</td>\n",
       "      <td>[7, 18, 1, 20, 9, 15, 12, 1, 27, 16, 15, 18, 2...</td>\n",
       "      <td>CHLORELLA VULGARIS</td>\n",
       "      <td>GREEN TEA</td>\n",
       "      <td>BEET ROOT</td>\n",
       "      <td>IVY LEAF</td>\n",
       "      <td>BETA VULGARIS</td>\n",
       "      <td>inf</td>\n",
       "      <td>inf</td>\n",
       "    </tr>\n",
       "    <tr>\n",
       "      <th>874</th>\n",
       "      <td>BRASSICA HELENIANA WHOLE</td>\n",
       "      <td>[2, 18, 1, 19, 19, 9, 3, 1, 27, 8, 5, 12, 5, 1...</td>\n",
       "      <td>TANACETUM PARTHENIUM</td>\n",
       "      <td>FOENICULUM VULGARE</td>\n",
       "      <td>LYCIUM BARBARUM</td>\n",
       "      <td>CAMELLIA SINENSIS</td>\n",
       "      <td>WOODLAND HAWTHORN</td>\n",
       "      <td>inf</td>\n",
       "      <td>inf</td>\n",
       "    </tr>\n",
       "    <tr>\n",
       "      <th>554</th>\n",
       "      <td>BARBARY WOLFBERRY</td>\n",
       "      <td>[2, 1, 18, 2, 1, 18, 25, 27, 23, 15, 12, 6, 2,...</td>\n",
       "      <td>SERENOA REPENS</td>\n",
       "      <td>FOENICULUM VULGARE</td>\n",
       "      <td>ACTAEA RACEMOSA</td>\n",
       "      <td>ALOE VERA</td>\n",
       "      <td>STINGING NETTLE</td>\n",
       "      <td>inf</td>\n",
       "      <td>inf</td>\n",
       "    </tr>\n",
       "    <tr>\n",
       "      <th>1993</th>\n",
       "      <td>CURCUMA MONTANA WHOLE</td>\n",
       "      <td>[3, 21, 18, 3, 21, 13, 1, 27, 13, 15, 14, 20, ...</td>\n",
       "      <td>GYMNEMA SYLVESTRE</td>\n",
       "      <td>FOENICULUM VULGARE</td>\n",
       "      <td>LYCIUM BARBARUM</td>\n",
       "      <td>RED YEAST RICE</td>\n",
       "      <td>ELDERBERRY</td>\n",
       "      <td>inf</td>\n",
       "      <td>inf</td>\n",
       "    </tr>\n",
       "    <tr>\n",
       "      <th>4709</th>\n",
       "      <td>ROSMARINUS TENUIFOLIUS WHOLE</td>\n",
       "      <td>[18, 15, 19, 13, 1, 18, 9, 14, 21, 19, 27, 20,...</td>\n",
       "      <td>GARLIC</td>\n",
       "      <td>STEVIA</td>\n",
       "      <td>UNCARIA TOMENTOSA</td>\n",
       "      <td>MORINGA</td>\n",
       "      <td>PANAX GINSENG</td>\n",
       "      <td>inf</td>\n",
       "      <td>inf</td>\n",
       "    </tr>\n",
       "    <tr>\n",
       "      <th>5111</th>\n",
       "      <td>SOLANUM REDERI WHOLE</td>\n",
       "      <td>[19, 15, 12, 1, 14, 21, 13, 27, 18, 5, 4, 5, 1...</td>\n",
       "      <td>RED YEAST RICE</td>\n",
       "      <td>PAUSINYSTALIA JOHIMBE</td>\n",
       "      <td>GARCINIA GUMMI</td>\n",
       "      <td>ORYZA SATIVA</td>\n",
       "      <td>GREEN TEA</td>\n",
       "      <td>inf</td>\n",
       "      <td>inf</td>\n",
       "    </tr>\n",
       "    <tr>\n",
       "      <th>3083</th>\n",
       "      <td>INDIANLILAC</td>\n",
       "      <td>[9, 14, 4, 9, 1, 14, 12, 9, 12, 1, 3, 0, 0, 0,...</td>\n",
       "      <td>HARPAGOPHYTUM PROCUMBENS</td>\n",
       "      <td>IVY LEAF</td>\n",
       "      <td>HOREHOUND</td>\n",
       "      <td>STEVIA REBAUDIANA</td>\n",
       "      <td>FENUGREEK</td>\n",
       "      <td>inf</td>\n",
       "      <td>inf</td>\n",
       "    </tr>\n",
       "  </tbody>\n",
       "</table>\n",
       "</div>"
      ],
      "text/plain": [
       "                               np_name  \\\n",
       "4935             SELINUM ANETHUM WHOLE   \n",
       "4401  PSEUDOTSUGA VANCOUVERENSIS WHOLE   \n",
       "3661            MELEGUETA PEPPER WHOLE   \n",
       "1685              CITRUS X AURANTIUM L   \n",
       "4306        POGOSTEMON PATCHOULY WHOLE   \n",
       "3327       LEUCONYMPHAEA ODORATA WHOLE   \n",
       "1711                 CITRUS X PARADISI   \n",
       "1126       CAPRIFOLIUM JAPONICUM WHOLE   \n",
       "956        BUPLEURUM VANHEURCKII WHOLE   \n",
       "612               BERBERIS AUREA WHOLE   \n",
       "5397        THYMELEAFED GRATIOLA WHOLE   \n",
       "5074                   SOFT RUSH WHOLE   \n",
       "1524        CHIONANTHUS OBOVATUS WHOLE   \n",
       "2770       GRATIOLA PORTULACACEA WHOLE   \n",
       "874           BRASSICA HELENIANA WHOLE   \n",
       "554                  BARBARY WOLFBERRY   \n",
       "1993             CURCUMA MONTANA WHOLE   \n",
       "4709      ROSMARINUS TENUIFOLIUS WHOLE   \n",
       "5111              SOLANUM REDERI WHOLE   \n",
       "3083                       INDIANLILAC   \n",
       "\n",
       "                                      Processed_np_name  \\\n",
       "4935  [19, 5, 12, 9, 14, 21, 13, 27, 1, 14, 5, 20, 8...   \n",
       "4401  [16, 19, 5, 21, 4, 15, 20, 19, 21, 7, 1, 27, 2...   \n",
       "3661  [13, 5, 12, 5, 7, 21, 5, 20, 1, 27, 16, 5, 16,...   \n",
       "1685  [3, 9, 20, 18, 21, 19, 27, 24, 27, 1, 21, 18, ...   \n",
       "4306  [16, 15, 7, 15, 19, 20, 5, 13, 15, 14, 27, 16,...   \n",
       "3327  [12, 5, 21, 3, 15, 14, 25, 13, 16, 8, 1, 5, 1,...   \n",
       "1711  [3, 9, 20, 18, 21, 19, 27, 24, 27, 16, 1, 18, ...   \n",
       "1126  [3, 1, 16, 18, 9, 6, 15, 12, 9, 21, 13, 27, 10...   \n",
       "956   [2, 21, 16, 12, 5, 21, 18, 21, 13, 27, 22, 1, ...   \n",
       "612   [2, 5, 18, 2, 5, 18, 9, 19, 27, 1, 21, 18, 5, ...   \n",
       "5397  [20, 8, 25, 13, 5, 12, 5, 1, 6, 5, 4, 27, 7, 1...   \n",
       "5074  [19, 15, 6, 20, 27, 18, 21, 19, 8, 27, 23, 8, ...   \n",
       "1524  [3, 8, 9, 15, 14, 1, 14, 20, 8, 21, 19, 27, 15...   \n",
       "2770  [7, 18, 1, 20, 9, 15, 12, 1, 27, 16, 15, 18, 2...   \n",
       "874   [2, 18, 1, 19, 19, 9, 3, 1, 27, 8, 5, 12, 5, 1...   \n",
       "554   [2, 1, 18, 2, 1, 18, 25, 27, 23, 15, 12, 6, 2,...   \n",
       "1993  [3, 21, 18, 3, 21, 13, 1, 27, 13, 15, 14, 20, ...   \n",
       "4709  [18, 15, 19, 13, 1, 18, 9, 14, 21, 19, 27, 20,...   \n",
       "5111  [19, 15, 12, 1, 14, 21, 13, 27, 18, 5, 4, 5, 1...   \n",
       "3083  [9, 14, 4, 9, 1, 14, 12, 9, 12, 1, 3, 0, 0, 0,...   \n",
       "\n",
       "                    rank1_drug             rank2_drug         rank3_drug  \\\n",
       "4935        WITHANIA SOMNIFERA                 STEVIA    HORDEUM VULGARE   \n",
       "4401                 CORDYCEPS                 STEVIA    CITRUS PARADISI   \n",
       "3661        CHLORELLA VULGARIS               CINNAMON     GARCINIA GUMMI   \n",
       "1685        WITHANIA SOMNIFERA  PAUSINYSTALIA JOHIMBE        WOOD SPIDER   \n",
       "4306         TRITICUM AESTIVUM      MARRUBIUM VULGARE         OLIVE LEAF   \n",
       "3327         MARRUBIUM VULGARE              BEET ROOT       SLIPPERY ELM   \n",
       "1711            SERENOA REPENS     FOENICULUM VULGARE  STEVIA REBAUDIANA   \n",
       "1126         STEVIA REBAUDIANA              HORSETAIL           FEVERFEW   \n",
       "956                   FEVERFEW                 STEVIA         ASHWAGANDA   \n",
       "612            CANNABIS SATIVA                 STEVIA        WOOD SPIDER   \n",
       "5397             BUTCHERSBROOM     FOENICULUM VULGARE        BLACK CUMIN   \n",
       "5074                   KARCURA              FENUGREEK    PRUNUS SEROTINA   \n",
       "1524           CITRUS PARADISI                KARCURA           TANGKUEI   \n",
       "2770        CHLORELLA VULGARIS              GREEN TEA          BEET ROOT   \n",
       "874       TANACETUM PARTHENIUM     FOENICULUM VULGARE    LYCIUM BARBARUM   \n",
       "554             SERENOA REPENS     FOENICULUM VULGARE    ACTAEA RACEMOSA   \n",
       "1993         GYMNEMA SYLVESTRE     FOENICULUM VULGARE    LYCIUM BARBARUM   \n",
       "4709                    GARLIC                 STEVIA  UNCARIA TOMENTOSA   \n",
       "5111            RED YEAST RICE  PAUSINYSTALIA JOHIMBE     GARCINIA GUMMI   \n",
       "3083  HARPAGOPHYTUM PROCUMBENS               IVY LEAF          HOREHOUND   \n",
       "\n",
       "             rank4_drug             rank5_drug  lookup_rank  \\\n",
       "4935            GUARANA          PANAX GINSENG          inf   \n",
       "4401             KRATOM           MILK THISTLE          inf   \n",
       "3661         GOJI BERRY  VALERIANA OFFICINALIS          inf   \n",
       "1685     RHODIOLA ROSEA       SILYBUM MARIANUM          inf   \n",
       "4306        BLACK CUMIN       LEPIDIUM MEYENII          inf   \n",
       "3327             FENNEL    CRATAEGUS LAEVIGATA          inf   \n",
       "1711       HEMP EXTRACT       RUSCUS ACULEATUS          inf   \n",
       "1126           IVY LEAF      UNCARIA TOMENTOSA          inf   \n",
       "956       BUTCHERSBROOM   TANACETUM PARTHENIUM          inf   \n",
       "612   PIPER METHYSTICUM            BLACK CUMIN          inf   \n",
       "5397     RED YEAST RICE          ARCTIUM LAPPA          inf   \n",
       "5074   ORIGANUM VULGARE           MIRACLEFRUIT          inf   \n",
       "1524         OLIVE LEAF       MORINGA OLEIFERA          inf   \n",
       "2770           IVY LEAF          BETA VULGARIS          inf   \n",
       "874   CAMELLIA SINENSIS      WOODLAND HAWTHORN          inf   \n",
       "554           ALOE VERA        STINGING NETTLE          inf   \n",
       "1993     RED YEAST RICE             ELDERBERRY          inf   \n",
       "4709            MORINGA          PANAX GINSENG          inf   \n",
       "5111       ORYZA SATIVA              GREEN TEA          inf   \n",
       "3083  STEVIA REBAUDIANA              FENUGREEK          inf   \n",
       "\n",
       "      lookup_rank_related  \n",
       "4935                  inf  \n",
       "4401                  inf  \n",
       "3661                  inf  \n",
       "1685                  inf  \n",
       "4306                  inf  \n",
       "3327                  inf  \n",
       "1711                  inf  \n",
       "1126                  inf  \n",
       "956                   inf  \n",
       "612                   inf  \n",
       "5397                  inf  \n",
       "5074                  inf  \n",
       "1524                  inf  \n",
       "2770                  inf  \n",
       "874                   inf  \n",
       "554                   inf  \n",
       "1993                  inf  \n",
       "4709                  inf  \n",
       "5111                  inf  \n",
       "3083                  inf  "
      ]
     },
     "execution_count": 289,
     "metadata": {},
     "output_type": "execute_result"
    }
   ],
   "source": [
    "predicted.head(20)"
   ]
  },
  {
   "cell_type": "code",
   "execution_count": null,
   "id": "3284f86d",
   "metadata": {},
   "outputs": [],
   "source": [
    "# test.to_csv(\"../evaluation/test_siamese_evaluation_lstm_model_np_name.csv\", index=False)"
   ]
  },
  {
   "cell_type": "markdown",
   "id": "684b8088",
   "metadata": {},
   "source": [
    "# Add related mappings rank to test set evaluation"
   ]
  },
  {
   "cell_type": "code",
   "execution_count": null,
   "id": "e6040061",
   "metadata": {},
   "outputs": [],
   "source": [
    "if \"test\" not in locals():\n",
    "    test = pd.read_csv('../evaluation/test_siamese_evaluation_lstm_model_np_name.csv')\n",
    "    test.info()"
   ]
  },
  {
   "cell_type": "code",
   "execution_count": null,
   "id": "23257b51",
   "metadata": {},
   "outputs": [],
   "source": [
    "test_mrr = test[['FAERS_drug_match', 'lookup_rank', 'lookup_rank_related']]\n",
    "test_mrr.head()"
   ]
  },
  {
   "cell_type": "code",
   "execution_count": null,
   "id": "23e7a440",
   "metadata": {},
   "outputs": [],
   "source": [
    "test_mrr.info()"
   ]
  },
  {
   "cell_type": "code",
   "execution_count": null,
   "id": "b72e80c4",
   "metadata": {},
   "outputs": [],
   "source": [
    "#number of 0 relevant results\n",
    "test_mrr.loc[test_mrr['lookup_rank'].isna()].shape"
   ]
  },
  {
   "cell_type": "code",
   "execution_count": null,
   "id": "5049dd47",
   "metadata": {},
   "outputs": [],
   "source": [
    "test_mrr.loc[test_mrr['lookup_rank_related'].isna()].shape"
   ]
  },
  {
   "cell_type": "code",
   "execution_count": null,
   "id": "3029e99f",
   "metadata": {
    "tags": []
   },
   "outputs": [],
   "source": [
    "test_mrr_exact = test_mrr[test_mrr['lookup_rank'].notna()]\n",
    "test_mrr_exact = test_mrr_exact.drop(['lookup_rank_related'], axis=1)\n",
    "test_mrr_exact.info()"
   ]
  },
  {
   "cell_type": "code",
   "execution_count": null,
   "id": "2aa7d846",
   "metadata": {},
   "outputs": [],
   "source": [
    "test_mrr_rel = test_mrr[test_mrr['lookup_rank_related'].notna()]\n",
    "test_mrr_rel = test_mrr_rel.drop(['lookup_rank'], axis=1)\n",
    "test_mrr_rel.info()"
   ]
  },
  {
   "cell_type": "code",
   "execution_count": null,
   "id": "2a0c2544",
   "metadata": {},
   "outputs": [],
   "source": [
    "exact_reciprocal = 1/test_mrr_exact['lookup_rank']\n",
    "test_mrr_exact['reciprocal_rank'] = exact_reciprocal\n",
    "test_mrr_exact.head()"
   ]
  },
  {
   "cell_type": "code",
   "execution_count": null,
   "id": "4129cdf3",
   "metadata": {},
   "outputs": [],
   "source": [
    "##get the mean of reciprocal ranks for exact matches\n",
    "test_mrr_exact.reciprocal_rank.mean()"
   ]
  },
  {
   "cell_type": "code",
   "execution_count": null,
   "id": "babb2c7d",
   "metadata": {},
   "outputs": [],
   "source": [
    "#get median and stdev\n",
    "test_mrr_exact.lookup_rank.median()"
   ]
  },
  {
   "cell_type": "code",
   "execution_count": null,
   "id": "fa1cf7ff",
   "metadata": {},
   "outputs": [],
   "source": [
    "test_mrr_exact.reciprocal_rank.median()"
   ]
  },
  {
   "cell_type": "code",
   "execution_count": null,
   "id": "29b669c9",
   "metadata": {},
   "outputs": [],
   "source": [
    "test_mrr_exact.lookup_rank.std()"
   ]
  },
  {
   "cell_type": "code",
   "execution_count": null,
   "id": "5e4fb593",
   "metadata": {},
   "outputs": [],
   "source": [
    "test_mrr_exact.reciprocal_rank.std()"
   ]
  },
  {
   "cell_type": "code",
   "execution_count": null,
   "id": "dbb45d2d",
   "metadata": {},
   "outputs": [],
   "source": [
    "rel_reciprocal = 1/test_mrr_rel['lookup_rank_related']\n",
    "test_mrr_rel['reciprocal_rank'] = rel_reciprocal\n",
    "test_mrr_rel.head()"
   ]
  },
  {
   "cell_type": "code",
   "execution_count": null,
   "id": "152a261b",
   "metadata": {},
   "outputs": [],
   "source": [
    "test_mrr_rel.reciprocal_rank.mean()"
   ]
  },
  {
   "cell_type": "code",
   "execution_count": null,
   "id": "86934c21",
   "metadata": {},
   "outputs": [],
   "source": [
    "test_mrr_rel.reciprocal_rank.median()"
   ]
  },
  {
   "cell_type": "code",
   "execution_count": null,
   "id": "fa9dcb45",
   "metadata": {},
   "outputs": [],
   "source": [
    "test_mrr_rel.reciprocal_rank.std()"
   ]
  },
  {
   "cell_type": "code",
   "execution_count": null,
   "id": "075fe985",
   "metadata": {},
   "outputs": [],
   "source": [
    "test_mrr_rel.lookup_rank_related.median()"
   ]
  },
  {
   "cell_type": "code",
   "execution_count": null,
   "id": "3f55998f",
   "metadata": {},
   "outputs": [],
   "source": [
    "test_mrr_rel.lookup_rank_related.std()"
   ]
  },
  {
   "cell_type": "markdown",
   "id": "68af1b5a",
   "metadata": {},
   "source": [
    "--------------------------------------"
   ]
  },
  {
   "cell_type": "markdown",
   "id": "97a0149b",
   "metadata": {},
   "source": [
    "# Average NP name length "
   ]
  },
  {
   "cell_type": "code",
   "execution_count": null,
   "id": "4a1ca196",
   "metadata": {},
   "outputs": [],
   "source": [
    "main_dataset = preprocessInput(fName)"
   ]
  },
  {
   "cell_type": "code",
   "execution_count": null,
   "id": "4419b161",
   "metadata": {},
   "outputs": [],
   "source": [
    "stats = main_dataset['FAERS_drug_match'].apply(len).describe()\n",
    "stats"
   ]
  },
  {
   "cell_type": "code",
   "execution_count": null,
   "id": "0788f124",
   "metadata": {},
   "outputs": [],
   "source": [
    "stats[\"mean\"] + stats[\"std\"] * 2"
   ]
  },
  {
   "cell_type": "code",
   "execution_count": null,
   "id": "a6904091",
   "metadata": {},
   "outputs": [],
   "source": [
    "main_dataset['lookup_value'].apply(len).describe()"
   ]
  },
  {
   "cell_type": "code",
   "execution_count": null,
   "id": "86d0a838",
   "metadata": {},
   "outputs": [],
   "source": [
    "main_dataset['FAERS_drug_match'].apply(len).sort_values(ascending=False)[0:10]"
   ]
  },
  {
   "cell_type": "code",
   "execution_count": null,
   "id": "60e59896",
   "metadata": {},
   "outputs": [],
   "source": [
    "main_dataset['FAERS_drug_match'].apply(len).gt(80).describe()"
   ]
  },
  {
   "cell_type": "code",
   "execution_count": null,
   "id": "b6c7ba77",
   "metadata": {},
   "outputs": [],
   "source": [
    "print(\"Gt 65:\", 5358 - 4984)\n",
    "print(\"Gt 70:\", 5358 - 5212)\n",
    "print(\"Gt 80:\", 5358 - 5238)"
   ]
  },
  {
   "cell_type": "code",
   "execution_count": null,
   "id": "230f7d2b",
   "metadata": {},
   "outputs": [],
   "source": [
    "%matplotlib inline\n",
    "main_dataset['FAERS_drug_match'].apply(len).hist(bins=15)"
   ]
  },
  {
   "cell_type": "code",
   "execution_count": null,
   "id": "f0a7a120",
   "metadata": {},
   "outputs": [],
   "source": [
    "main_dataset.iloc[5132]['FAERS_drug_match']"
   ]
  },
  {
   "cell_type": "code",
   "execution_count": null,
   "id": "44814ab2",
   "metadata": {},
   "outputs": [],
   "source": [
    "main_dataset.iloc[5132]['FAERS_drug_match']"
   ]
  },
  {
   "cell_type": "code",
   "execution_count": null,
   "id": "c194eebf",
   "metadata": {},
   "outputs": [],
   "source": [
    "dfneg2['FAERS_drug_match'].apply(len).describe()"
   ]
  },
  {
   "cell_type": "code",
   "execution_count": null,
   "id": "631c3e0f",
   "metadata": {},
   "outputs": [],
   "source": [
    "dfneg2['lookup_value'].apply(len).describe()"
   ]
  },
  {
   "cell_type": "code",
   "execution_count": null,
   "id": "3fd64bbb",
   "metadata": {},
   "outputs": [],
   "source": [
    "dUnique_df['dUnique_label'].apply(len).describe()"
   ]
  },
  {
   "cell_type": "code",
   "execution_count": null,
   "id": "0f82fdda",
   "metadata": {},
   "outputs": [],
   "source": [
    "dUnique_df['dUnique_seq'].apply(len).describe()"
   ]
  },
  {
   "cell_type": "code",
   "execution_count": null,
   "id": "6a034cf5",
   "metadata": {},
   "outputs": [],
   "source": [
    "dfneg2['FAERS_drug_match'].apply(len).idxmax()"
   ]
  },
  {
   "cell_type": "code",
   "execution_count": null,
   "id": "2d61d771",
   "metadata": {},
   "outputs": [],
   "source": [
    "dfneg2.iloc[8183]['FAERS_drug_match']"
   ]
  },
  {
   "cell_type": "code",
   "execution_count": null,
   "id": "da48bed4",
   "metadata": {},
   "outputs": [],
   "source": []
  }
 ],
 "metadata": {
  "kernelspec": {
   "display_name": "Python 3 (ipykernel)",
   "language": "python",
   "name": "python3"
  },
  "language_info": {
   "codemirror_mode": {
    "name": "ipython",
    "version": 3
   },
   "file_extension": ".py",
   "mimetype": "text/x-python",
   "name": "python",
   "nbconvert_exporter": "python",
   "pygments_lexer": "ipython3",
   "version": "3.10.5"
  }
 },
 "nbformat": 4,
 "nbformat_minor": 5
}
