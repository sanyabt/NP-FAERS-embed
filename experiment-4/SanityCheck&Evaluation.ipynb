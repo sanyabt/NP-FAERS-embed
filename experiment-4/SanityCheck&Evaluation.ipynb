{
 "cells": [
  {
   "cell_type": "markdown",
   "id": "6af2f21c",
   "metadata": {},
   "source": [
    "# Imports & Globals"
   ]
  },
  {
   "cell_type": "code",
   "execution_count": 1,
   "id": "83e99bdb",
   "metadata": {},
   "outputs": [],
   "source": [
    "import pickle\n",
    "import pandas as pd\n",
    "import numpy as np\n",
    "from yaml import safe_load\n",
    "import tensorflow as tf\n",
    "import matplotlib.pyplot as plt\n",
    "%matplotlib inline"
   ]
  },
  {
   "cell_type": "code",
   "execution_count": 2,
   "id": "cc0b993f",
   "metadata": {},
   "outputs": [],
   "source": [
    "from StringProcessing import preprocessInput, encode_pad_tag, balance_complete_set"
   ]
  },
  {
   "cell_type": "code",
   "execution_count": 3,
   "id": "460444cd",
   "metadata": {},
   "outputs": [
    {
     "name": "stdout",
     "output_type": "stream",
     "text": [
      "tf.version:  2.9.1\n",
      "tf.keras.version:  2.9.0\n",
      "tf.config.devices:  [PhysicalDevice(name='/physical_device:CPU:0', device_type='CPU'), PhysicalDevice(name='/physical_device:GPU:0', device_type='GPU')]\n"
     ]
    },
    {
     "name": "stderr",
     "output_type": "stream",
     "text": [
      "2022-09-14 20:50:46.191683: I tensorflow/stream_executor/cuda/cuda_gpu_executor.cc:975] successful NUMA node read from SysFS had negative value (-1), but there must be at least one NUMA node, so returning NUMA node zero\n",
      "2022-09-14 20:50:46.214977: I tensorflow/stream_executor/cuda/cuda_gpu_executor.cc:975] successful NUMA node read from SysFS had negative value (-1), but there must be at least one NUMA node, so returning NUMA node zero\n",
      "2022-09-14 20:50:46.215133: I tensorflow/stream_executor/cuda/cuda_gpu_executor.cc:975] successful NUMA node read from SysFS had negative value (-1), but there must be at least one NUMA node, so returning NUMA node zero\n",
      "2022-09-14 20:50:46.215617: I tensorflow/core/platform/cpu_feature_guard.cc:193] This TensorFlow binary is optimized with oneAPI Deep Neural Network Library (oneDNN) to use the following CPU instructions in performance-critical operations:  SSE4.1 SSE4.2 AVX AVX2 FMA\n",
      "To enable them in other operations, rebuild TensorFlow with the appropriate compiler flags.\n",
      "2022-09-14 20:50:46.216246: I tensorflow/stream_executor/cuda/cuda_gpu_executor.cc:975] successful NUMA node read from SysFS had negative value (-1), but there must be at least one NUMA node, so returning NUMA node zero\n",
      "2022-09-14 20:50:46.216379: I tensorflow/stream_executor/cuda/cuda_gpu_executor.cc:975] successful NUMA node read from SysFS had negative value (-1), but there must be at least one NUMA node, so returning NUMA node zero\n",
      "2022-09-14 20:50:46.216488: I tensorflow/stream_executor/cuda/cuda_gpu_executor.cc:975] successful NUMA node read from SysFS had negative value (-1), but there must be at least one NUMA node, so returning NUMA node zero\n",
      "2022-09-14 20:50:46.580275: I tensorflow/stream_executor/cuda/cuda_gpu_executor.cc:975] successful NUMA node read from SysFS had negative value (-1), but there must be at least one NUMA node, so returning NUMA node zero\n",
      "2022-09-14 20:50:46.580430: I tensorflow/stream_executor/cuda/cuda_gpu_executor.cc:975] successful NUMA node read from SysFS had negative value (-1), but there must be at least one NUMA node, so returning NUMA node zero\n",
      "2022-09-14 20:50:46.580536: I tensorflow/stream_executor/cuda/cuda_gpu_executor.cc:975] successful NUMA node read from SysFS had negative value (-1), but there must be at least one NUMA node, so returning NUMA node zero\n",
      "2022-09-14 20:50:46.580623: I tensorflow/core/common_runtime/gpu/gpu_device.cc:1532] Created device /device:GPU:0 with 6650 MB memory:  -> device: 0, name: NVIDIA GeForce RTX 2070 with Max-Q Design, pci bus id: 0000:01:00.0, compute capability: 7.5\n"
     ]
    }
   ],
   "source": [
    "from SiameseModel import CosineDistance, ContrastiveLoss "
   ]
  },
  {
   "cell_type": "code",
   "execution_count": 4,
   "id": "e39139fa",
   "metadata": {},
   "outputs": [],
   "source": [
    "from ModelEvaluation import find_Model_ranks, find_Levenshtein_ranks, find_Gesalt_ranks"
   ]
  },
  {
   "cell_type": "code",
   "execution_count": 5,
   "id": "d0a21748",
   "metadata": {},
   "outputs": [],
   "source": [
    "#Maximum sequence length including padding\n",
    "global MAXLEN\n",
    "with open('LSTM65.yaml', 'r') as file:\n",
    "    model_config = safe_load(file)\n",
    "    MAXLEN = model_config['MAXLEN']"
   ]
  },
  {
   "cell_type": "markdown",
   "id": "34891f72",
   "metadata": {},
   "source": [
    "# Pickled Datasets"
   ]
  },
  {
   "cell_type": "code",
   "execution_count": 6,
   "id": "99073085",
   "metadata": {},
   "outputs": [],
   "source": [
    "dUnique_df = pd.read_pickle(\"../data/dUnique_df.pkl\")\n",
    "dfneg2 = pd.read_pickle(\"../data/dfneg2.pkl\")\n",
    "test = pd.read_pickle(\"../data/test.pkl\")"
   ]
  },
  {
   "cell_type": "markdown",
   "id": "ffdcd664",
   "metadata": {},
   "source": [
    "--------------------------------"
   ]
  },
  {
   "cell_type": "markdown",
   "id": "b7e10db6",
   "metadata": {},
   "source": [
    "# Build model, load weights and evaluate on test data"
   ]
  },
  {
   "cell_type": "code",
   "execution_count": 7,
   "id": "dd19e241",
   "metadata": {},
   "outputs": [
    {
     "name": "stderr",
     "output_type": "stream",
     "text": [
      "2022-09-14 20:50:47.071569: I tensorflow/stream_executor/cuda/cuda_gpu_executor.cc:975] successful NUMA node read from SysFS had negative value (-1), but there must be at least one NUMA node, so returning NUMA node zero\n",
      "2022-09-14 20:50:47.071749: I tensorflow/stream_executor/cuda/cuda_gpu_executor.cc:975] successful NUMA node read from SysFS had negative value (-1), but there must be at least one NUMA node, so returning NUMA node zero\n",
      "2022-09-14 20:50:47.071854: I tensorflow/stream_executor/cuda/cuda_gpu_executor.cc:975] successful NUMA node read from SysFS had negative value (-1), but there must be at least one NUMA node, so returning NUMA node zero\n",
      "2022-09-14 20:50:47.071988: I tensorflow/stream_executor/cuda/cuda_gpu_executor.cc:975] successful NUMA node read from SysFS had negative value (-1), but there must be at least one NUMA node, so returning NUMA node zero\n",
      "2022-09-14 20:50:47.072093: I tensorflow/stream_executor/cuda/cuda_gpu_executor.cc:975] successful NUMA node read from SysFS had negative value (-1), but there must be at least one NUMA node, so returning NUMA node zero\n",
      "2022-09-14 20:50:47.072170: I tensorflow/core/common_runtime/gpu/gpu_device.cc:1532] Created device /job:localhost/replica:0/task:0/device:GPU:0 with 6650 MB memory:  -> device: 0, name: NVIDIA GeForce RTX 2070 with Max-Q Design, pci bus id: 0000:01:00.0, compute capability: 7.5\n",
      "2022-09-14 20:50:48.550218: W tensorflow/core/common_runtime/graph_constructor.cc:805] Node 'cond/while' has 13 outputs but the _output_shapes attribute specifies shapes for 46 outputs. Output shapes may be inaccurate.\n",
      "2022-09-14 20:50:48.613857: W tensorflow/core/common_runtime/graph_constructor.cc:805] Node 'cond/while' has 13 outputs but the _output_shapes attribute specifies shapes for 46 outputs. Output shapes may be inaccurate.\n",
      "2022-09-14 20:50:48.654655: W tensorflow/core/common_runtime/graph_constructor.cc:805] Node 'cond/while' has 13 outputs but the _output_shapes attribute specifies shapes for 46 outputs. Output shapes may be inaccurate.\n",
      "2022-09-14 20:50:48.766327: W tensorflow/core/common_runtime/graph_constructor.cc:805] Node 'cond/while' has 13 outputs but the _output_shapes attribute specifies shapes for 46 outputs. Output shapes may be inaccurate.\n",
      "2022-09-14 20:50:49.364365: W tensorflow/core/common_runtime/graph_constructor.cc:805] Node 'cond/while' has 13 outputs but the _output_shapes attribute specifies shapes for 46 outputs. Output shapes may be inaccurate.\n",
      "2022-09-14 20:50:49.372628: W tensorflow/core/common_runtime/graph_constructor.cc:805] Node 'cond' has 5 outputs but the _output_shapes attribute specifies shapes for 46 outputs. Output shapes may be inaccurate.\n",
      "2022-09-14 20:50:49.406649: W tensorflow/core/common_runtime/graph_constructor.cc:805] Node 'cond/while' has 13 outputs but the _output_shapes attribute specifies shapes for 46 outputs. Output shapes may be inaccurate.\n",
      "2022-09-14 20:50:49.589955: W tensorflow/core/common_runtime/graph_constructor.cc:805] Node 'cond/while' has 13 outputs but the _output_shapes attribute specifies shapes for 46 outputs. Output shapes may be inaccurate.\n",
      "2022-09-14 20:50:49.609559: W tensorflow/core/common_runtime/graph_constructor.cc:805] Node 'cond/while' has 13 outputs but the _output_shapes attribute specifies shapes for 46 outputs. Output shapes may be inaccurate.\n",
      "2022-09-14 20:50:49.754512: W tensorflow/core/common_runtime/graph_constructor.cc:805] Node 'cond/while' has 13 outputs but the _output_shapes attribute specifies shapes for 46 outputs. Output shapes may be inaccurate.\n",
      "2022-09-14 20:50:49.762749: W tensorflow/core/common_runtime/graph_constructor.cc:805] Node 'cond' has 5 outputs but the _output_shapes attribute specifies shapes for 46 outputs. Output shapes may be inaccurate.\n",
      "2022-09-14 20:50:49.838507: W tensorflow/core/common_runtime/graph_constructor.cc:805] Node 'cond/while' has 13 outputs but the _output_shapes attribute specifies shapes for 46 outputs. Output shapes may be inaccurate.\n",
      "2022-09-14 20:50:49.847222: W tensorflow/core/common_runtime/graph_constructor.cc:805] Node 'cond' has 5 outputs but the _output_shapes attribute specifies shapes for 46 outputs. Output shapes may be inaccurate.\n",
      "2022-09-14 20:50:50.133550: W tensorflow/core/common_runtime/graph_constructor.cc:805] Node 'cond/while' has 13 outputs but the _output_shapes attribute specifies shapes for 46 outputs. Output shapes may be inaccurate.\n",
      "2022-09-14 20:50:50.230918: W tensorflow/core/common_runtime/graph_constructor.cc:805] Node 'cond' has 5 outputs but the _output_shapes attribute specifies shapes for 46 outputs. Output shapes may be inaccurate.\n",
      "2022-09-14 20:50:50.267527: W tensorflow/core/common_runtime/graph_constructor.cc:805] Node 'cond' has 5 outputs but the _output_shapes attribute specifies shapes for 46 outputs. Output shapes may be inaccurate.\n",
      "2022-09-14 20:50:50.450890: W tensorflow/core/common_runtime/graph_constructor.cc:805] Node 'cond/while' has 13 outputs but the _output_shapes attribute specifies shapes for 46 outputs. Output shapes may be inaccurate.\n",
      "2022-09-14 20:50:50.460022: W tensorflow/core/common_runtime/graph_constructor.cc:805] Node 'cond' has 5 outputs but the _output_shapes attribute specifies shapes for 46 outputs. Output shapes may be inaccurate.\n",
      "2022-09-14 20:50:50.475453: W tensorflow/core/common_runtime/graph_constructor.cc:805] Node 'cond' has 5 outputs but the _output_shapes attribute specifies shapes for 46 outputs. Output shapes may be inaccurate.\n",
      "2022-09-14 20:50:50.484433: W tensorflow/core/common_runtime/graph_constructor.cc:805] Node 'cond/while' has 13 outputs but the _output_shapes attribute specifies shapes for 46 outputs. Output shapes may be inaccurate.\n",
      "2022-09-14 20:50:50.805595: W tensorflow/core/common_runtime/graph_constructor.cc:805] Node 'cond/while' has 13 outputs but the _output_shapes attribute specifies shapes for 46 outputs. Output shapes may be inaccurate.\n",
      "2022-09-14 20:50:51.079307: W tensorflow/core/common_runtime/graph_constructor.cc:805] Node 'cond' has 5 outputs but the _output_shapes attribute specifies shapes for 46 outputs. Output shapes may be inaccurate.\n",
      "2022-09-14 20:50:51.217601: W tensorflow/core/common_runtime/graph_constructor.cc:805] Node 'cond/while' has 13 outputs but the _output_shapes attribute specifies shapes for 46 outputs. Output shapes may be inaccurate.\n",
      "2022-09-14 20:50:51.226198: W tensorflow/core/common_runtime/graph_constructor.cc:805] Node 'cond' has 5 outputs but the _output_shapes attribute specifies shapes for 46 outputs. Output shapes may be inaccurate.\n",
      "2022-09-14 20:50:51.500235: W tensorflow/core/common_runtime/graph_constructor.cc:805] Node 'cond/while' has 13 outputs but the _output_shapes attribute specifies shapes for 46 outputs. Output shapes may be inaccurate.\n",
      "2022-09-14 20:50:51.532938: W tensorflow/core/common_runtime/graph_constructor.cc:805] Node 'cond' has 5 outputs but the _output_shapes attribute specifies shapes for 46 outputs. Output shapes may be inaccurate.\n",
      "2022-09-14 20:50:51.669949: W tensorflow/core/common_runtime/graph_constructor.cc:805] Node 'cond' has 5 outputs but the _output_shapes attribute specifies shapes for 46 outputs. Output shapes may be inaccurate.\n",
      "2022-09-14 20:50:51.701143: W tensorflow/core/common_runtime/graph_constructor.cc:805] Node 'cond' has 5 outputs but the _output_shapes attribute specifies shapes for 46 outputs. Output shapes may be inaccurate.\n",
      "2022-09-14 20:50:51.747233: W tensorflow/core/common_runtime/graph_constructor.cc:805] Node 'cond' has 5 outputs but the _output_shapes attribute specifies shapes for 46 outputs. Output shapes may be inaccurate.\n",
      "2022-09-14 20:50:51.760712: W tensorflow/core/common_runtime/graph_constructor.cc:805] Node 'cond/while' has 13 outputs but the _output_shapes attribute specifies shapes for 46 outputs. Output shapes may be inaccurate.\n",
      "2022-09-14 20:50:51.769018: W tensorflow/core/common_runtime/graph_constructor.cc:805] Node 'cond' has 5 outputs but the _output_shapes attribute specifies shapes for 46 outputs. Output shapes may be inaccurate.\n",
      "2022-09-14 20:50:51.818414: W tensorflow/core/common_runtime/graph_constructor.cc:805] Node 'cond/while' has 13 outputs but the _output_shapes attribute specifies shapes for 46 outputs. Output shapes may be inaccurate.\n",
      "2022-09-14 20:50:51.826657: W tensorflow/core/common_runtime/graph_constructor.cc:805] Node 'cond' has 5 outputs but the _output_shapes attribute specifies shapes for 46 outputs. Output shapes may be inaccurate.\n"
     ]
    },
    {
     "name": "stderr",
     "output_type": "stream",
     "text": [
      "2022-09-14 20:50:52.416500: W tensorflow/core/common_runtime/graph_constructor.cc:805] Node 'cond/while' has 13 outputs but the _output_shapes attribute specifies shapes for 46 outputs. Output shapes may be inaccurate.\n",
      "2022-09-14 20:50:52.424999: W tensorflow/core/common_runtime/graph_constructor.cc:805] Node 'cond' has 5 outputs but the _output_shapes attribute specifies shapes for 46 outputs. Output shapes may be inaccurate.\n",
      "2022-09-14 20:50:52.638028: W tensorflow/core/common_runtime/graph_constructor.cc:805] Node 'cond/while' has 13 outputs but the _output_shapes attribute specifies shapes for 46 outputs. Output shapes may be inaccurate.\n",
      "2022-09-14 20:50:52.647336: W tensorflow/core/common_runtime/graph_constructor.cc:805] Node 'cond' has 5 outputs but the _output_shapes attribute specifies shapes for 46 outputs. Output shapes may be inaccurate.\n",
      "2022-09-14 20:50:52.743243: W tensorflow/core/common_runtime/graph_constructor.cc:805] Node 'cond/while' has 13 outputs but the _output_shapes attribute specifies shapes for 46 outputs. Output shapes may be inaccurate.\n",
      "2022-09-14 20:50:52.751895: W tensorflow/core/common_runtime/graph_constructor.cc:805] Node 'cond' has 5 outputs but the _output_shapes attribute specifies shapes for 46 outputs. Output shapes may be inaccurate.\n",
      "2022-09-14 20:50:52.796350: W tensorflow/core/common_runtime/graph_constructor.cc:805] Node 'cond/while' has 13 outputs but the _output_shapes attribute specifies shapes for 46 outputs. Output shapes may be inaccurate.\n",
      "2022-09-14 20:50:52.804774: W tensorflow/core/common_runtime/graph_constructor.cc:805] Node 'cond' has 5 outputs but the _output_shapes attribute specifies shapes for 46 outputs. Output shapes may be inaccurate.\n",
      "2022-09-14 20:50:52.818250: W tensorflow/core/common_runtime/graph_constructor.cc:805] Node 'cond/while' has 13 outputs but the _output_shapes attribute specifies shapes for 46 outputs. Output shapes may be inaccurate.\n",
      "2022-09-14 20:50:52.826455: W tensorflow/core/common_runtime/graph_constructor.cc:805] Node 'cond' has 5 outputs but the _output_shapes attribute specifies shapes for 46 outputs. Output shapes may be inaccurate.\n",
      "2022-09-14 20:50:52.935406: W tensorflow/core/common_runtime/graph_constructor.cc:805] Node 'cond' has 5 outputs but the _output_shapes attribute specifies shapes for 46 outputs. Output shapes may be inaccurate.\n",
      "2022-09-14 20:50:52.958724: W tensorflow/core/common_runtime/graph_constructor.cc:805] Node 'cond' has 5 outputs but the _output_shapes attribute specifies shapes for 46 outputs. Output shapes may be inaccurate.\n",
      "2022-09-14 20:50:53.032818: W tensorflow/core/common_runtime/graph_constructor.cc:805] Node 'cond' has 5 outputs but the _output_shapes attribute specifies shapes for 46 outputs. Output shapes may be inaccurate.\n",
      "2022-09-14 20:50:53.486045: W tensorflow/core/common_runtime/graph_constructor.cc:805] Node 'cond/while' has 13 outputs but the _output_shapes attribute specifies shapes for 46 outputs. Output shapes may be inaccurate.\n",
      "2022-09-14 20:50:53.494880: W tensorflow/core/common_runtime/graph_constructor.cc:805] Node 'cond' has 5 outputs but the _output_shapes attribute specifies shapes for 46 outputs. Output shapes may be inaccurate.\n"
     ]
    },
    {
     "name": "stdout",
     "output_type": "stream",
     "text": [
      "Model: \"model_1\"\n",
      "__________________________________________________________________________________________________\n",
      " Layer (type)                   Output Shape         Param #     Connected to                     \n",
      "==================================================================================================\n",
      " input_2 (InputLayer)           [(None, 65)]         0           []                               \n",
      "                                                                                                  \n",
      " input_3 (InputLayer)           [(None, 65)]         0           []                               \n",
      "                                                                                                  \n",
      " model (Functional)             (None, 180)          168300      ['input_2[0][0]',                \n",
      "                                                                  'input_3[0][0]']                \n",
      "                                                                                                  \n",
      " lambda (Lambda)                (None, 1)            0           ['model[0][0]',                  \n",
      "                                                                  'model[1][0]']                  \n",
      "                                                                                                  \n",
      " batch_normalization_1 (BatchNo  (None, 1)           4           ['lambda[0][0]']                 \n",
      " rmalization)                                                                                     \n",
      "                                                                                                  \n",
      " dense_1 (Dense)                (None, 1)            2           ['batch_normalization_1[0][0]']  \n",
      "                                                                                                  \n",
      "==================================================================================================\n",
      "Total params: 168,306\n",
      "Trainable params: 167,904\n",
      "Non-trainable params: 402\n",
      "__________________________________________________________________________________________________\n"
     ]
    }
   ],
   "source": [
    "model = tf.keras.models.load_model(\n",
    "    './saved_models/{}'.format(model_config[\"Model_Name\"]), \n",
    "    custom_objects = {\n",
    "        'CosineDistance': CosineDistance,\n",
    "        'ContrastiveLoss': ContrastiveLoss\n",
    "    }, \n",
    "    compile=True, \n",
    "    options=None\n",
    ")\n",
    "model.summary()"
   ]
  },
  {
   "cell_type": "markdown",
   "id": "607f58ca",
   "metadata": {},
   "source": [
    "---------------------------------------------------------------"
   ]
  },
  {
   "cell_type": "markdown",
   "id": "b06b0601",
   "metadata": {},
   "source": [
    "# Evaluation"
   ]
  },
  {
   "cell_type": "markdown",
   "id": "e7103902",
   "metadata": {},
   "source": [
    "## Unique target labels"
   ]
  },
  {
   "cell_type": "code",
   "execution_count": 8,
   "id": "f0323d8d",
   "metadata": {},
   "outputs": [
    {
     "data": {
      "text/html": [
       "<div>\n",
       "<style scoped>\n",
       "    .dataframe tbody tr th:only-of-type {\n",
       "        vertical-align: middle;\n",
       "    }\n",
       "\n",
       "    .dataframe tbody tr th {\n",
       "        vertical-align: top;\n",
       "    }\n",
       "\n",
       "    .dataframe thead th {\n",
       "        text-align: right;\n",
       "    }\n",
       "</style>\n",
       "<table border=\"1\" class=\"dataframe\">\n",
       "  <thead>\n",
       "    <tr style=\"text-align: right;\">\n",
       "      <th></th>\n",
       "      <th>dUnique_label</th>\n",
       "      <th>dUnique_seq_padded</th>\n",
       "    </tr>\n",
       "  </thead>\n",
       "  <tbody>\n",
       "    <tr>\n",
       "      <th>0</th>\n",
       "      <td>AAI</td>\n",
       "      <td>[1, 1, 9, 0, 0, 0, 0, 0, 0, 0, 0, 0, 0, 0, 0, ...</td>\n",
       "    </tr>\n",
       "    <tr>\n",
       "      <th>1</th>\n",
       "      <td>AARONSROD</td>\n",
       "      <td>[1, 1, 18, 15, 14, 19, 18, 15, 4, 0, 0, 0, 0, ...</td>\n",
       "    </tr>\n",
       "    <tr>\n",
       "      <th>2</th>\n",
       "      <td>ABIES ALBA</td>\n",
       "      <td>[1, 2, 9, 5, 19, 27, 1, 12, 2, 1, 0, 0, 0, 0, ...</td>\n",
       "    </tr>\n",
       "    <tr>\n",
       "      <th>3</th>\n",
       "      <td>ABSINTHE</td>\n",
       "      <td>[1, 2, 19, 9, 14, 20, 8, 5, 0, 0, 0, 0, 0, 0, ...</td>\n",
       "    </tr>\n",
       "    <tr>\n",
       "      <th>4</th>\n",
       "      <td>ABSINTHE WORMWOOD</td>\n",
       "      <td>[1, 2, 19, 9, 14, 20, 8, 5, 27, 23, 15, 18, 13...</td>\n",
       "    </tr>\n",
       "  </tbody>\n",
       "</table>\n",
       "</div>"
      ],
      "text/plain": [
       "       dUnique_label                                 dUnique_seq_padded\n",
       "0                AAI  [1, 1, 9, 0, 0, 0, 0, 0, 0, 0, 0, 0, 0, 0, 0, ...\n",
       "1          AARONSROD  [1, 1, 18, 15, 14, 19, 18, 15, 4, 0, 0, 0, 0, ...\n",
       "2         ABIES ALBA  [1, 2, 9, 5, 19, 27, 1, 12, 2, 1, 0, 0, 0, 0, ...\n",
       "3           ABSINTHE  [1, 2, 19, 9, 14, 20, 8, 5, 0, 0, 0, 0, 0, 0, ...\n",
       "4  ABSINTHE WORMWOOD  [1, 2, 19, 9, 14, 20, 8, 5, 27, 23, 15, 18, 13..."
      ]
     },
     "execution_count": 8,
     "metadata": {},
     "output_type": "execute_result"
    }
   ],
   "source": [
    "dUnique_df.head()"
   ]
  },
  {
   "cell_type": "code",
   "execution_count": 9,
   "id": "cd82b94c",
   "metadata": {},
   "outputs": [
    {
     "data": {
      "text/plain": [
       "1878"
      ]
     },
     "execution_count": 9,
     "metadata": {},
     "output_type": "execute_result"
    }
   ],
   "source": [
    "dUnique_df.index.size"
   ]
  },
  {
   "cell_type": "code",
   "execution_count": 10,
   "id": "0bf0c0cc",
   "metadata": {},
   "outputs": [
    {
     "name": "stdout",
     "output_type": "stream",
     "text": [
      "<class 'pandas.core.frame.DataFrame'>\n",
      "RangeIndex: 1299 entries, 0 to 1298\n",
      "Data columns (total 2 columns):\n",
      " #   Column    Non-Null Count  Dtype \n",
      "---  ------    --------------  ----- \n",
      " 0   lb        1299 non-null   object\n",
      " 1   mappings  1299 non-null   object\n",
      "dtypes: object(2)\n",
      "memory usage: 20.4+ KB\n",
      "None\n",
      "Processing file: ----------------------------------------\n",
      "Renaming colums:\n",
      "\tCurrent names: Index(['lb', 'mappings'], dtype='object')\n",
      "\tNew names: Index(['x', 'y'], dtype='object')\n",
      "Dropping row with empty cells:\n",
      "\tDropped 0 rows with empty cells.\n",
      "\tCleaning string sequences.\n",
      "\tUppercasing string sequences.\n",
      "Dropping sequences longer than the maxlen of 65:\n",
      "\tDropped 0 that exceeded the maximum sequence length.\n",
      "Dropping duplicate sequences:\n",
      "\tDropped 321 duplicate sequences.\n",
      "Done processing: ---------------------------------------\n",
      "<class 'pandas.core.frame.DataFrame'>\n",
      "RangeIndex: 2277 entries, 0 to 2276\n",
      "Data columns (total 2 columns):\n",
      " #   Column  Non-Null Count  Dtype \n",
      "---  ------  --------------  ----- \n",
      " 0   x       2277 non-null   object\n",
      " 1   y       2277 non-null   object\n",
      "dtypes: object(2)\n",
      "memory usage: 35.7+ KB\n",
      "None\n"
     ]
    }
   ],
   "source": [
    "latin_2_common = preprocessInput('../data/vocabulary_LB_to_common_names_09082022.tsv', reflexive=True, balance = False, sep='\\t')"
   ]
  },
  {
   "cell_type": "code",
   "execution_count": 11,
   "id": "9d720bb3",
   "metadata": {},
   "outputs": [
    {
     "name": "stdout",
     "output_type": "stream",
     "text": [
      "<class 'pandas.core.frame.DataFrame'>\n",
      "RangeIndex: 728 entries, 0 to 727\n",
      "Data columns (total 2 columns):\n",
      " #   Column          Non-Null Count  Dtype \n",
      "---  ------          --------------  ----- \n",
      " 0   common_name     728 non-null    object\n",
      " 1   latin_binomial  728 non-null    object\n",
      "dtypes: object(2)\n",
      "memory usage: 11.5+ KB\n",
      "None\n",
      "Processing file: ----------------------------------------\n",
      "Renaming colums:\n",
      "\tCurrent names: Index(['common_name', 'latin_binomial'], dtype='object')\n",
      "\tNew names: Index(['x', 'y'], dtype='object')\n",
      "Dropping row with empty cells:\n",
      "\tDropped 0 rows with empty cells.\n",
      "\tCleaning string sequences.\n",
      "\tUppercasing string sequences.\n",
      "Dropping sequences longer than the maxlen of 65:\n",
      "\tDropped 0 that exceeded the maximum sequence length.\n",
      "Dropping duplicate sequences:\n",
      "\tDropped 728 duplicate sequences.\n",
      "Done processing: ---------------------------------------\n",
      "<class 'pandas.core.frame.DataFrame'>\n",
      "RangeIndex: 728 entries, 0 to 727\n",
      "Data columns (total 2 columns):\n",
      " #   Column  Non-Null Count  Dtype \n",
      "---  ------  --------------  ----- \n",
      " 0   x       728 non-null    object\n",
      " 1   y       728 non-null    object\n",
      "dtypes: object(2)\n",
      "memory usage: 11.5+ KB\n",
      "None\n"
     ]
    }
   ],
   "source": [
    "common_2_latin = preprocessInput('../data/positive-unmapped-pairs-common-name-or-latin-binomial-copies.tsv', reflexive=True, balance = False, sep='\\t')"
   ]
  },
  {
   "cell_type": "code",
   "execution_count": 12,
   "id": "ba6564f8",
   "metadata": {
    "scrolled": true
   },
   "outputs": [
    {
     "name": "stdout",
     "output_type": "stream",
     "text": [
      "<class 'pandas.core.frame.DataFrame'>\n",
      "RangeIndex: 10838 entries, 0 to 10837\n",
      "Data columns (total 2 columns):\n",
      " #   Column       Non-Null Count  Dtype \n",
      "---  ------       --------------  ----- \n",
      " 0   name         10838 non-null  object\n",
      " 1   common_name  199 non-null    object\n",
      "dtypes: object(2)\n",
      "memory usage: 169.5+ KB\n",
      "None\n",
      "Processing file: ----------------------------------------\n",
      "Renaming colums:\n",
      "\tCurrent names: Index(['name', 'common_name'], dtype='object')\n",
      "\tNew names: Index(['x', 'y'], dtype='object')\n",
      "Dropping row with empty cells:\n",
      "\tDropped 10639 rows with empty cells.\n",
      "\tCleaning string sequences.\n",
      "\tUppercasing string sequences.\n",
      "Dropping sequences longer than the maxlen of 65:\n",
      "\tDropped 0 that exceeded the maximum sequence length.\n",
      "Dropping duplicate sequences:\n",
      "\tDropped 0 duplicate sequences.\n",
      "Done processing: ---------------------------------------\n",
      "<class 'pandas.core.frame.DataFrame'>\n",
      "RangeIndex: 398 entries, 0 to 397\n",
      "Data columns (total 2 columns):\n",
      " #   Column  Non-Null Count  Dtype \n",
      "---  ------  --------------  ----- \n",
      " 0   x       398 non-null    object\n",
      " 1   y       398 non-null    object\n",
      "dtypes: object(2)\n",
      "memory usage: 6.3+ KB\n",
      "None\n"
     ]
    }
   ],
   "source": [
    "gsrs_2_common = preprocessInput('../data/positive-unmapped-pairs-gsrs-name-to-common-name.tsv', maxlen= MAXLEN, reflexive=True, balance = False, sep='\\t')"
   ]
  },
  {
   "cell_type": "code",
   "execution_count": 13,
   "id": "1a88ac91",
   "metadata": {
    "scrolled": true
   },
   "outputs": [],
   "source": [
    "# vocab = pd.read_csv('../data/lb_to_common_names.csv')\n",
    "# vocab = vocab[['latin_binomial_clean','common_name_clean']].rename(columns={'latin_binomial_clean': \"x\", 'common_name_clean': \"y\"})\n",
    "# vocab.info()"
   ]
  },
  {
   "cell_type": "code",
   "execution_count": 14,
   "id": "5cee38c8",
   "metadata": {},
   "outputs": [],
   "source": [
    "equivalence_set = pd.concat([latin_2_common, common_2_latin, gsrs_2_common], ignore_index=True)\n",
    "equivalence_set.drop_duplicates(subset=['x', 'y'], inplace=True)"
   ]
  },
  {
   "cell_type": "code",
   "execution_count": 15,
   "id": "aa19d271",
   "metadata": {},
   "outputs": [
    {
     "data": {
      "text/html": [
       "<div>\n",
       "<style scoped>\n",
       "    .dataframe tbody tr th:only-of-type {\n",
       "        vertical-align: middle;\n",
       "    }\n",
       "\n",
       "    .dataframe tbody tr th {\n",
       "        vertical-align: top;\n",
       "    }\n",
       "\n",
       "    .dataframe thead th {\n",
       "        text-align: right;\n",
       "    }\n",
       "</style>\n",
       "<table border=\"1\" class=\"dataframe\">\n",
       "  <thead>\n",
       "    <tr style=\"text-align: right;\">\n",
       "      <th></th>\n",
       "      <th>x</th>\n",
       "      <th>y</th>\n",
       "    </tr>\n",
       "  </thead>\n",
       "  <tbody>\n",
       "    <tr>\n",
       "      <th>2230</th>\n",
       "      <td>CRANBERRY</td>\n",
       "      <td>VACCINIUM MACROCARPON</td>\n",
       "    </tr>\n",
       "  </tbody>\n",
       "</table>\n",
       "</div>"
      ],
      "text/plain": [
       "              x                      y\n",
       "2230  CRANBERRY  VACCINIUM MACROCARPON"
      ]
     },
     "execution_count": 15,
     "metadata": {},
     "output_type": "execute_result"
    }
   ],
   "source": [
    "equivalence_set[equivalence_set[\"x\"] == \"CRANBERRY\"]"
   ]
  },
  {
   "cell_type": "markdown",
   "id": "f0ebf8dc",
   "metadata": {},
   "source": [
    "## True Positives"
   ]
  },
  {
   "cell_type": "code",
   "execution_count": 16,
   "id": "c9a61342",
   "metadata": {
    "scrolled": true
   },
   "outputs": [
    {
     "name": "stdout",
     "output_type": "stream",
     "text": [
      "<class 'pandas.core.frame.DataFrame'>\n",
      "RangeIndex: 5358 entries, 0 to 5357\n",
      "Data columns (total 2 columns):\n",
      " #   Column            Non-Null Count  Dtype \n",
      "---  ------            --------------  ----- \n",
      " 0   FAERS_drug_match  5358 non-null   object\n",
      " 1   lookup_value      5358 non-null   object\n",
      "dtypes: object(2)\n",
      "memory usage: 83.8+ KB\n",
      "None\n",
      "Processing file: ----------------------------------------\n",
      "Renaming colums:\n",
      "\tCurrent names: Index(['FAERS_drug_match', 'lookup_value'], dtype='object')\n",
      "\tNew names: Index(['x', 'y'], dtype='object')\n",
      "Dropping row with empty cells:\n",
      "\tDropped 0 rows with empty cells.\n",
      "\tCleaning string sequences.\n",
      "\tUppercasing string sequences.\n",
      "Dropping sequences longer than the maxlen of 65:\n",
      "\tDropped 256 that exceeded the maximum sequence length.\n",
      "Dropping duplicate sequences:\n",
      "\tDropped 487 duplicate sequences.\n",
      "Done processing: ---------------------------------------\n",
      "<class 'pandas.core.frame.DataFrame'>\n",
      "RangeIndex: 4615 entries, 0 to 4614\n",
      "Data columns (total 2 columns):\n",
      " #   Column  Non-Null Count  Dtype \n",
      "---  ------  --------------  ----- \n",
      " 0   x       4615 non-null   object\n",
      " 1   y       4615 non-null   object\n",
      "dtypes: object(2)\n",
      "memory usage: 72.2+ KB\n",
      "None\n",
      "Encoding and Padding: ----------------------------------\n",
      "\tProcessing x\n",
      "\tProcessing y\n",
      "Tagging: -----------------------------------------------\n"
     ]
    },
    {
     "data": {
      "text/html": [
       "<div>\n",
       "<style scoped>\n",
       "    .dataframe tbody tr th:only-of-type {\n",
       "        vertical-align: middle;\n",
       "    }\n",
       "\n",
       "    .dataframe tbody tr th {\n",
       "        vertical-align: top;\n",
       "    }\n",
       "\n",
       "    .dataframe thead th {\n",
       "        text-align: right;\n",
       "    }\n",
       "</style>\n",
       "<table border=\"1\" class=\"dataframe\">\n",
       "  <thead>\n",
       "    <tr style=\"text-align: right;\">\n",
       "      <th></th>\n",
       "      <th>x</th>\n",
       "      <th>y</th>\n",
       "      <th>Processed_x</th>\n",
       "      <th>Processed_y</th>\n",
       "      <th>Match</th>\n",
       "      <th>Distance</th>\n",
       "    </tr>\n",
       "  </thead>\n",
       "  <tbody>\n",
       "    <tr>\n",
       "      <th>0</th>\n",
       "      <td>ASHWAGANDHA</td>\n",
       "      <td>ASHWAGANDA</td>\n",
       "      <td>[1, 19, 8, 23, 1, 7, 1, 14, 4, 8, 1, 0, 0, 0, ...</td>\n",
       "      <td>[1, 19, 8, 23, 1, 7, 1, 14, 4, 1, 0, 0, 0, 0, ...</td>\n",
       "      <td>1</td>\n",
       "      <td>0</td>\n",
       "    </tr>\n",
       "    <tr>\n",
       "      <th>1</th>\n",
       "      <td>ASHWAGANDHA CATS CLAW PAU DARCO RHODIOLA STEMM...</td>\n",
       "      <td>ASHWAGANDA</td>\n",
       "      <td>[1, 19, 8, 23, 1, 7, 1, 14, 4, 8, 1, 27, 3, 1,...</td>\n",
       "      <td>[1, 19, 8, 23, 1, 7, 1, 14, 4, 1, 0, 0, 0, 0, ...</td>\n",
       "      <td>1</td>\n",
       "      <td>0</td>\n",
       "    </tr>\n",
       "    <tr>\n",
       "      <th>2</th>\n",
       "      <td>ASHWAGANDHA EXTRACT</td>\n",
       "      <td>ASHWAGANDA</td>\n",
       "      <td>[1, 19, 8, 23, 1, 7, 1, 14, 4, 8, 1, 27, 5, 24...</td>\n",
       "      <td>[1, 19, 8, 23, 1, 7, 1, 14, 4, 1, 0, 0, 0, 0, ...</td>\n",
       "      <td>1</td>\n",
       "      <td>0</td>\n",
       "    </tr>\n",
       "    <tr>\n",
       "      <th>3</th>\n",
       "      <td>ASHWAGANDHA ROOT EXTRACT</td>\n",
       "      <td>ASHWAGANDA</td>\n",
       "      <td>[1, 19, 8, 23, 1, 7, 1, 14, 4, 8, 1, 27, 18, 1...</td>\n",
       "      <td>[1, 19, 8, 23, 1, 7, 1, 14, 4, 1, 0, 0, 0, 0, ...</td>\n",
       "      <td>1</td>\n",
       "      <td>0</td>\n",
       "    </tr>\n",
       "    <tr>\n",
       "      <th>4</th>\n",
       "      <td>ASHWAGANDHA WITHANIA SOMNIFERA</td>\n",
       "      <td>ASHWAGANDA</td>\n",
       "      <td>[1, 19, 8, 23, 1, 7, 1, 14, 4, 8, 1, 27, 23, 9...</td>\n",
       "      <td>[1, 19, 8, 23, 1, 7, 1, 14, 4, 1, 0, 0, 0, 0, ...</td>\n",
       "      <td>1</td>\n",
       "      <td>0</td>\n",
       "    </tr>\n",
       "  </tbody>\n",
       "</table>\n",
       "</div>"
      ],
      "text/plain": [
       "                                                   x           y  \\\n",
       "0                                        ASHWAGANDHA  ASHWAGANDA   \n",
       "1  ASHWAGANDHA CATS CLAW PAU DARCO RHODIOLA STEMM...  ASHWAGANDA   \n",
       "2                                ASHWAGANDHA EXTRACT  ASHWAGANDA   \n",
       "3                           ASHWAGANDHA ROOT EXTRACT  ASHWAGANDA   \n",
       "4                     ASHWAGANDHA WITHANIA SOMNIFERA  ASHWAGANDA   \n",
       "\n",
       "                                         Processed_x  \\\n",
       "0  [1, 19, 8, 23, 1, 7, 1, 14, 4, 8, 1, 0, 0, 0, ...   \n",
       "1  [1, 19, 8, 23, 1, 7, 1, 14, 4, 8, 1, 27, 3, 1,...   \n",
       "2  [1, 19, 8, 23, 1, 7, 1, 14, 4, 8, 1, 27, 5, 24...   \n",
       "3  [1, 19, 8, 23, 1, 7, 1, 14, 4, 8, 1, 27, 18, 1...   \n",
       "4  [1, 19, 8, 23, 1, 7, 1, 14, 4, 8, 1, 27, 23, 9...   \n",
       "\n",
       "                                         Processed_y  Match  Distance  \n",
       "0  [1, 19, 8, 23, 1, 7, 1, 14, 4, 1, 0, 0, 0, 0, ...      1         0  \n",
       "1  [1, 19, 8, 23, 1, 7, 1, 14, 4, 1, 0, 0, 0, 0, ...      1         0  \n",
       "2  [1, 19, 8, 23, 1, 7, 1, 14, 4, 1, 0, 0, 0, 0, ...      1         0  \n",
       "3  [1, 19, 8, 23, 1, 7, 1, 14, 4, 1, 0, 0, 0, 0, ...      1         0  \n",
       "4  [1, 19, 8, 23, 1, 7, 1, 14, 4, 1, 0, 0, 0, 0, ...      1         0  "
      ]
     },
     "execution_count": 16,
     "metadata": {},
     "output_type": "execute_result"
    }
   ],
   "source": [
    "matches = encode_pad_tag(preprocessInput('../data/NP_FAERS_mapped_20220215.csv', balance=False), match=1, distance=0)\n",
    "matches.head()"
   ]
  },
  {
   "cell_type": "markdown",
   "id": "750cbc8f",
   "metadata": {},
   "source": [
    "### ASHWAGANDA"
   ]
  },
  {
   "cell_type": "code",
   "execution_count": 17,
   "id": "8e22c49e",
   "metadata": {},
   "outputs": [
    {
     "data": {
      "text/plain": [
       "'ASHWAGANDHA CATS CLAW PAU DARCO RHODIOLA STEMMACANTHA'"
      ]
     },
     "execution_count": 17,
     "metadata": {},
     "output_type": "execute_result"
    }
   ],
   "source": [
    "matches.loc[1, \"x\"]"
   ]
  },
  {
   "cell_type": "code",
   "execution_count": 18,
   "id": "eb94af24",
   "metadata": {},
   "outputs": [
    {
     "name": "stderr",
     "output_type": "stream",
     "text": [
      "2022-09-14 20:50:56.785181: W tensorflow/compiler/jit/mark_for_compilation_pass.cc:1750] (One-time warning): Not using XLA:CPU for cluster.\n",
      "\n",
      "If you want XLA:CPU, do one of the following:\n",
      "\n",
      " - set the TF_XLA_FLAGS to include \"--tf_xla_cpu_global_jit\", or\n",
      " - set cpu_global_jit to true on this session's OptimizerOptions, or\n",
      " - use experimental_jit_scope, or\n",
      " - use tf.function(jit_compile=True).\n",
      "\n",
      "To confirm that XLA is active, pass --vmodule=xla_compilation_cache=1 (as a\n",
      "proper command-line flag, not via TF_XLA_FLAGS).\n",
      "2022-09-14 20:50:58.994338: I tensorflow/compiler/xla/service/service.cc:170] XLA service 0x55ecfa327070 initialized for platform CUDA (this does not guarantee that XLA will be used). Devices:\n",
      "2022-09-14 20:50:58.994358: I tensorflow/compiler/xla/service/service.cc:178]   StreamExecutor device (0): NVIDIA GeForce RTX 2070 with Max-Q Design, Compute Capability 7.5\n",
      "2022-09-14 20:50:58.997581: I tensorflow/compiler/mlir/tensorflow/utils/dump_mlir_util.cc:263] disabling MLIR crash reproducer, set env var `MLIR_CRASH_REPRODUCER_DIRECTORY` to enable.\n",
      "2022-09-14 20:50:59.049242: I tensorflow/core/platform/default/subprocess.cc:304] Start cannot spawn child process: No such file or directory\n",
      "2022-09-14 20:50:59.089627: I tensorflow/compiler/jit/xla_compilation_cache.cc:478] Compiled cluster using XLA!  This line is logged at most once for the lifetime of the process.\n",
      "2022-09-14 20:50:59.748533: I tensorflow/stream_executor/cuda/cuda_dnn.cc:384] Loaded cuDNN version 8401\n"
     ]
    },
    {
     "name": "stdout",
     "output_type": "stream",
     "text": [
      "59/59 [==============================] - 4s 4ms/step\n"
     ]
    }
   ],
   "source": [
    "predicts = model.predict([np.tile(matches.loc[1, \"Processed_x\"], (dUnique_df.index.size,1)), np.stack(dUnique_df['dUnique_seq_padded'])]).astype('float32')\n",
    "top5 = predicts.flatten().argsort()"
   ]
  },
  {
   "cell_type": "code",
   "execution_count": 19,
   "id": "3f9b4304",
   "metadata": {},
   "outputs": [
    {
     "data": {
      "text/plain": [
       "{'rank1': 'SATINWALNUT',\n",
       " 'rank2': 'CINNAMOMUM CASSIA',\n",
       " 'rank3': 'CONG MU',\n",
       " 'rank4': 'ASVAGANDHA',\n",
       " 'rank5': 'NARROWLEAF ECHINACEA'}"
      ]
     },
     "execution_count": 19,
     "metadata": {},
     "output_type": "execute_result"
    }
   ],
   "source": [
    "# Top-5 smalles distances\n",
    "{\n",
    "    \"rank1\": dUnique_df.iloc[top5[0]]['dUnique_label'],\n",
    "    \"rank2\": dUnique_df.iloc[top5[1]]['dUnique_label'],\n",
    "    \"rank3\": dUnique_df.iloc[top5[2]]['dUnique_label'],\n",
    "    \"rank4\": dUnique_df.iloc[top5[3]]['dUnique_label'],\n",
    "    \"rank5\": dUnique_df.iloc[top5[4]]['dUnique_label'],\n",
    "}"
   ]
  },
  {
   "cell_type": "markdown",
   "id": "14af67b8",
   "metadata": {},
   "source": [
    "### Echinacea"
   ]
  },
  {
   "cell_type": "code",
   "execution_count": 20,
   "id": "7b2f8e44",
   "metadata": {},
   "outputs": [
    {
     "data": {
      "text/html": [
       "<div>\n",
       "<style scoped>\n",
       "    .dataframe tbody tr th:only-of-type {\n",
       "        vertical-align: middle;\n",
       "    }\n",
       "\n",
       "    .dataframe tbody tr th {\n",
       "        vertical-align: top;\n",
       "    }\n",
       "\n",
       "    .dataframe thead th {\n",
       "        text-align: right;\n",
       "    }\n",
       "</style>\n",
       "<table border=\"1\" class=\"dataframe\">\n",
       "  <thead>\n",
       "    <tr style=\"text-align: right;\">\n",
       "      <th></th>\n",
       "      <th>x</th>\n",
       "      <th>y</th>\n",
       "      <th>Processed_x</th>\n",
       "      <th>Processed_y</th>\n",
       "      <th>Match</th>\n",
       "      <th>Distance</th>\n",
       "    </tr>\n",
       "  </thead>\n",
       "  <tbody>\n",
       "    <tr>\n",
       "      <th>443</th>\n",
       "      <td>ECHINACEA TEA ECHINACEA PURPUREA</td>\n",
       "      <td>GREEN TEA</td>\n",
       "      <td>[5, 3, 8, 9, 14, 1, 3, 5, 1, 27, 20, 5, 1, 27,...</td>\n",
       "      <td>[7, 18, 5, 5, 14, 27, 20, 5, 1, 0, 0, 0, 0, 0,...</td>\n",
       "      <td>0</td>\n",
       "      <td>1</td>\n",
       "    </tr>\n",
       "  </tbody>\n",
       "</table>\n",
       "</div>"
      ],
      "text/plain": [
       "                                    x          y  \\\n",
       "443  ECHINACEA TEA ECHINACEA PURPUREA  GREEN TEA   \n",
       "\n",
       "                                           Processed_x  \\\n",
       "443  [5, 3, 8, 9, 14, 1, 3, 5, 1, 27, 20, 5, 1, 27,...   \n",
       "\n",
       "                                           Processed_y  Match  Distance  \n",
       "443  [7, 18, 5, 5, 14, 27, 20, 5, 1, 0, 0, 0, 0, 0,...      0         1  "
      ]
     },
     "execution_count": 20,
     "metadata": {},
     "output_type": "execute_result"
    }
   ],
   "source": [
    "Echinacea = dfneg2[dfneg2[\"x\"].str.contains(\"ECHINACEA\")].head(1)\n",
    "Echinacea"
   ]
  },
  {
   "cell_type": "code",
   "execution_count": 21,
   "id": "87c38e46",
   "metadata": {},
   "outputs": [
    {
     "data": {
      "text/plain": [
       "'ECHINACEA TEA ECHINACEA PURPUREA'"
      ]
     },
     "execution_count": 21,
     "metadata": {},
     "output_type": "execute_result"
    }
   ],
   "source": [
    "i = Echinacea.index.values[0]\n",
    "dfneg2[\"x\"][i]"
   ]
  },
  {
   "cell_type": "code",
   "execution_count": 22,
   "id": "4a5e31af",
   "metadata": {},
   "outputs": [
    {
     "name": "stdout",
     "output_type": "stream",
     "text": [
      "59/59 [==============================] - 1s 9ms/step\n"
     ]
    }
   ],
   "source": [
    "predicts = model.predict([np.tile(dfneg2.loc[i, \"Processed_x\"], (dUnique_df.index.size,1)), np.stack(dUnique_df['dUnique_seq_padded'])]).astype('float32')\n",
    "top5 = predicts.flatten().argsort()"
   ]
  },
  {
   "cell_type": "code",
   "execution_count": 23,
   "id": "ed1712c5",
   "metadata": {},
   "outputs": [
    {
     "data": {
      "text/plain": [
       "{'rank1': 'EASTERN PURPLECONEFLOWER',\n",
       " 'rank2': 'ECHINACEA PURPUREA',\n",
       " 'rank3': 'ECHINACEA ANGUSTIFOLIA',\n",
       " 'rank4': 'PURPLECONEFLOWER',\n",
       " 'rank5': 'KANSAS SNAKEROOT'}"
      ]
     },
     "execution_count": 23,
     "metadata": {},
     "output_type": "execute_result"
    }
   ],
   "source": [
    "# Top-5 smalles distances\n",
    "m = max(top5)\n",
    "{\n",
    "    \"rank1\": dUnique_df.iloc[top5[0]]['dUnique_label'],\n",
    "    \"rank2\": dUnique_df.iloc[top5[1]]['dUnique_label'],\n",
    "    \"rank3\": dUnique_df.iloc[top5[2]]['dUnique_label'],\n",
    "    \"rank4\": dUnique_df.iloc[top5[3]]['dUnique_label'],\n",
    "    \"rank5\": dUnique_df.iloc[top5[4]]['dUnique_label'],\n",
    "}"
   ]
  },
  {
   "cell_type": "markdown",
   "id": "4f016259",
   "metadata": {},
   "source": [
    "### Cranberry"
   ]
  },
  {
   "cell_type": "code",
   "execution_count": 24,
   "id": "d8e3d308",
   "metadata": {},
   "outputs": [
    {
     "data": {
      "text/html": [
       "<div>\n",
       "<style scoped>\n",
       "    .dataframe tbody tr th:only-of-type {\n",
       "        vertical-align: middle;\n",
       "    }\n",
       "\n",
       "    .dataframe tbody tr th {\n",
       "        vertical-align: top;\n",
       "    }\n",
       "\n",
       "    .dataframe thead th {\n",
       "        text-align: right;\n",
       "    }\n",
       "</style>\n",
       "<table border=\"1\" class=\"dataframe\">\n",
       "  <thead>\n",
       "    <tr style=\"text-align: right;\">\n",
       "      <th></th>\n",
       "      <th>dUnique_label</th>\n",
       "      <th>dUnique_seq_padded</th>\n",
       "    </tr>\n",
       "  </thead>\n",
       "  <tbody>\n",
       "    <tr>\n",
       "      <th>509</th>\n",
       "      <td>CRANBERRY</td>\n",
       "      <td>[3, 18, 1, 14, 2, 5, 18, 18, 25, 0, 0, 0, 0, 0...</td>\n",
       "    </tr>\n",
       "  </tbody>\n",
       "</table>\n",
       "</div>"
      ],
      "text/plain": [
       "    dUnique_label                                 dUnique_seq_padded\n",
       "509     CRANBERRY  [3, 18, 1, 14, 2, 5, 18, 18, 25, 0, 0, 0, 0, 0..."
      ]
     },
     "execution_count": 24,
     "metadata": {},
     "output_type": "execute_result"
    }
   ],
   "source": [
    "cranberry = dUnique_df[dUnique_df[\"dUnique_label\"].str.contains(\"CRANBERRY\")]\n",
    "cranberry"
   ]
  },
  {
   "cell_type": "code",
   "execution_count": 25,
   "id": "94a162d7",
   "metadata": {},
   "outputs": [
    {
     "data": {
      "text/plain": [
       "509    CRANBERRY\n",
       "Name: dUnique_label, dtype: object"
      ]
     },
     "execution_count": 25,
     "metadata": {},
     "output_type": "execute_result"
    }
   ],
   "source": [
    "i = cranberry.index\n",
    "dUnique_df.loc[i, \"dUnique_label\"]"
   ]
  },
  {
   "cell_type": "code",
   "execution_count": 26,
   "id": "9b4b626b",
   "metadata": {},
   "outputs": [
    {
     "name": "stdout",
     "output_type": "stream",
     "text": [
      "59/59 [==============================] - 0s 2ms/step\n"
     ]
    }
   ],
   "source": [
    "predicts = model.predict([\n",
    "    np.tile(dUnique_df.loc[i, \"dUnique_seq_padded\"].to_list(), (dUnique_df.index.size, 1)),\n",
    "    np.stack(dUnique_df['dUnique_seq_padded'])\n",
    "]).astype('float32')\n",
    "\n",
    "top5 = predicts.flatten().argsort()"
   ]
  },
  {
   "cell_type": "code",
   "execution_count": 27,
   "id": "ebbb0cd8",
   "metadata": {},
   "outputs": [
    {
     "data": {
      "text/plain": [
       "{'rank1': 'CRANBERRY',\n",
       " 'rank2': 'VACCINIUM MACROCARPON',\n",
       " 'rank3': 'EUROPEAN CENTAURY',\n",
       " 'rank4': 'CENTAURY',\n",
       " 'rank5': 'CENTAURIUM ERYTHRAEA'}"
      ]
     },
     "execution_count": 27,
     "metadata": {},
     "output_type": "execute_result"
    }
   ],
   "source": [
    "# Top-5 smalles distances\n",
    "m = max(top5)\n",
    "{\n",
    "    \"rank1\": dUnique_df.iloc[top5[0]]['dUnique_label'],\n",
    "    \"rank2\": dUnique_df.iloc[top5[1]]['dUnique_label'],\n",
    "    \"rank3\": dUnique_df.iloc[top5[2]]['dUnique_label'],\n",
    "    \"rank4\": dUnique_df.iloc[top5[3]]['dUnique_label'],\n",
    "    \"rank5\": dUnique_df.iloc[top5[4]]['dUnique_label'],\n",
    "}"
   ]
  },
  {
   "cell_type": "markdown",
   "id": "e72534f9",
   "metadata": {},
   "source": [
    "## True  Negatives"
   ]
  },
  {
   "cell_type": "code",
   "execution_count": 28,
   "id": "877dbf40",
   "metadata": {},
   "outputs": [
    {
     "data": {
      "text/html": [
       "<div>\n",
       "<style scoped>\n",
       "    .dataframe tbody tr th:only-of-type {\n",
       "        vertical-align: middle;\n",
       "    }\n",
       "\n",
       "    .dataframe tbody tr th {\n",
       "        vertical-align: top;\n",
       "    }\n",
       "\n",
       "    .dataframe thead th {\n",
       "        text-align: right;\n",
       "    }\n",
       "</style>\n",
       "<table border=\"1\" class=\"dataframe\">\n",
       "  <thead>\n",
       "    <tr style=\"text-align: right;\">\n",
       "      <th></th>\n",
       "      <th>x</th>\n",
       "      <th>y</th>\n",
       "      <th>Processed_x</th>\n",
       "      <th>Processed_y</th>\n",
       "      <th>Match</th>\n",
       "      <th>Distance</th>\n",
       "    </tr>\n",
       "  </thead>\n",
       "  <tbody>\n",
       "    <tr>\n",
       "      <th>0</th>\n",
       "      <td>ANUSOLHC BALSAM PERU BENZYL BENZOATE BISMUTH H...</td>\n",
       "      <td>CINNAMON</td>\n",
       "      <td>[1, 14, 21, 19, 15, 12, 8, 3, 27, 2, 1, 12, 19...</td>\n",
       "      <td>[3, 9, 14, 14, 1, 13, 15, 14, 0, 0, 0, 0, 0, 0...</td>\n",
       "      <td>0</td>\n",
       "      <td>1</td>\n",
       "    </tr>\n",
       "    <tr>\n",
       "      <th>1</th>\n",
       "      <td>ANUSOLHC BENZYL BENZOATEBISMUTH HYDROXIDE</td>\n",
       "      <td>CINNAMON</td>\n",
       "      <td>[1, 14, 21, 19, 15, 12, 8, 3, 27, 2, 5, 14, 26...</td>\n",
       "      <td>[3, 9, 14, 14, 1, 13, 15, 14, 0, 0, 0, 0, 0, 0...</td>\n",
       "      <td>0</td>\n",
       "      <td>1</td>\n",
       "    </tr>\n",
       "    <tr>\n",
       "      <th>2</th>\n",
       "      <td>ANUSOLHC BENZYL BENZOATE BISMUTH HYDROXIDE BIS...</td>\n",
       "      <td>CINNAMON</td>\n",
       "      <td>[1, 14, 21, 19, 15, 12, 8, 3, 27, 2, 5, 14, 26...</td>\n",
       "      <td>[3, 9, 14, 14, 1, 13, 15, 14, 0, 0, 0, 0, 0, 0...</td>\n",
       "      <td>0</td>\n",
       "      <td>1</td>\n",
       "    </tr>\n",
       "    <tr>\n",
       "      <th>3</th>\n",
       "      <td>ANUSOLHC BENZYL BENZOATEBISMUTH HYDROXIDEBISMU...</td>\n",
       "      <td>CINNAMON</td>\n",
       "      <td>[1, 14, 21, 19, 15, 12, 8, 3, 27, 2, 5, 14, 26...</td>\n",
       "      <td>[3, 9, 14, 14, 1, 13, 15, 14, 0, 0, 0, 0, 0, 0...</td>\n",
       "      <td>0</td>\n",
       "      <td>1</td>\n",
       "    </tr>\n",
       "    <tr>\n",
       "      <th>4</th>\n",
       "      <td>ANUSOL HC BENZYL BENZOATE BISMUTH OXIDE BISMUT...</td>\n",
       "      <td>CINNAMON</td>\n",
       "      <td>[1, 14, 21, 19, 15, 12, 27, 8, 3, 27, 2, 5, 14...</td>\n",
       "      <td>[3, 9, 14, 14, 1, 13, 15, 14, 0, 0, 0, 0, 0, 0...</td>\n",
       "      <td>0</td>\n",
       "      <td>1</td>\n",
       "    </tr>\n",
       "  </tbody>\n",
       "</table>\n",
       "</div>"
      ],
      "text/plain": [
       "                                                   x         y  \\\n",
       "0  ANUSOLHC BALSAM PERU BENZYL BENZOATE BISMUTH H...  CINNAMON   \n",
       "1          ANUSOLHC BENZYL BENZOATEBISMUTH HYDROXIDE  CINNAMON   \n",
       "2  ANUSOLHC BENZYL BENZOATE BISMUTH HYDROXIDE BIS...  CINNAMON   \n",
       "3  ANUSOLHC BENZYL BENZOATEBISMUTH HYDROXIDEBISMU...  CINNAMON   \n",
       "4  ANUSOL HC BENZYL BENZOATE BISMUTH OXIDE BISMUT...  CINNAMON   \n",
       "\n",
       "                                         Processed_x  \\\n",
       "0  [1, 14, 21, 19, 15, 12, 8, 3, 27, 2, 1, 12, 19...   \n",
       "1  [1, 14, 21, 19, 15, 12, 8, 3, 27, 2, 5, 14, 26...   \n",
       "2  [1, 14, 21, 19, 15, 12, 8, 3, 27, 2, 5, 14, 26...   \n",
       "3  [1, 14, 21, 19, 15, 12, 8, 3, 27, 2, 5, 14, 26...   \n",
       "4  [1, 14, 21, 19, 15, 12, 27, 8, 3, 27, 2, 5, 14...   \n",
       "\n",
       "                                         Processed_y  Match  Distance  \n",
       "0  [3, 9, 14, 14, 1, 13, 15, 14, 0, 0, 0, 0, 0, 0...      0         1  \n",
       "1  [3, 9, 14, 14, 1, 13, 15, 14, 0, 0, 0, 0, 0, 0...      0         1  \n",
       "2  [3, 9, 14, 14, 1, 13, 15, 14, 0, 0, 0, 0, 0, 0...      0         1  \n",
       "3  [3, 9, 14, 14, 1, 13, 15, 14, 0, 0, 0, 0, 0, 0...      0         1  \n",
       "4  [3, 9, 14, 14, 1, 13, 15, 14, 0, 0, 0, 0, 0, 0...      0         1  "
      ]
     },
     "execution_count": 28,
     "metadata": {},
     "output_type": "execute_result"
    }
   ],
   "source": [
    "dfneg2.head()"
   ]
  },
  {
   "cell_type": "markdown",
   "id": "4ba7cdd8",
   "metadata": {},
   "source": [
    "# Evaluating on test data - NP names only"
   ]
  },
  {
   "cell_type": "markdown",
   "id": "5fd04131",
   "metadata": {},
   "source": [
    "# Evaluation of drug name predictions\n",
    "----------------------------\n",
    "### Find ranks 1-5 from the predicted and fuzzy matches for the matching cases in the test data"
   ]
  },
  {
   "cell_type": "markdown",
   "id": "684b8088",
   "metadata": {},
   "source": [
    "# Create a sample from the test set to evaluate"
   ]
  },
  {
   "cell_type": "code",
   "execution_count": 29,
   "id": "21bba86e",
   "metadata": {},
   "outputs": [],
   "source": [
    "# positive_pairs = matches.sample(n=100)\n",
    "positive_pairs = test.loc[test[\"Match\"] == 1].sample(n=1000)"
   ]
  },
  {
   "cell_type": "code",
   "execution_count": 30,
   "id": "cfdbf207",
   "metadata": {},
   "outputs": [
    {
     "data": {
      "text/plain": [
       "1000"
      ]
     },
     "execution_count": 30,
     "metadata": {},
     "output_type": "execute_result"
    }
   ],
   "source": [
    "positive_pairs.index.size"
   ]
  },
  {
   "cell_type": "markdown",
   "id": "68af1b5a",
   "metadata": {},
   "source": [
    "--------------------------------------"
   ]
  },
  {
   "cell_type": "code",
   "execution_count": 31,
   "id": "8831ade1",
   "metadata": {},
   "outputs": [
    {
     "data": {
      "text/html": [
       "<div>\n",
       "<style scoped>\n",
       "    .dataframe tbody tr th:only-of-type {\n",
       "        vertical-align: middle;\n",
       "    }\n",
       "\n",
       "    .dataframe tbody tr th {\n",
       "        vertical-align: top;\n",
       "    }\n",
       "\n",
       "    .dataframe thead th {\n",
       "        text-align: right;\n",
       "    }\n",
       "</style>\n",
       "<table border=\"1\" class=\"dataframe\">\n",
       "  <thead>\n",
       "    <tr style=\"text-align: right;\">\n",
       "      <th></th>\n",
       "      <th>x</th>\n",
       "      <th>y</th>\n",
       "      <th>Processed_x</th>\n",
       "      <th>Processed_y</th>\n",
       "      <th>Match</th>\n",
       "      <th>Distance</th>\n",
       "    </tr>\n",
       "  </thead>\n",
       "  <tbody>\n",
       "    <tr>\n",
       "      <th>1501787</th>\n",
       "      <td>THTYMPU VUSGARIS</td>\n",
       "      <td>COMMON THYME</td>\n",
       "      <td>[20, 8, 20, 25, 13, 16, 21, 27, 22, 21, 19, 7,...</td>\n",
       "      <td>[3, 15, 13, 13, 15, 14, 27, 20, 8, 25, 13, 5, ...</td>\n",
       "      <td>1</td>\n",
       "      <td>0</td>\n",
       "    </tr>\n",
       "    <tr>\n",
       "      <th>1760974</th>\n",
       "      <td>SCUIYLARUIA LATRLXIOYLORA</td>\n",
       "      <td>HOODWORT</td>\n",
       "      <td>[19, 3, 21, 9, 25, 12, 1, 18, 21, 9, 1, 27, 12...</td>\n",
       "      <td>[8, 15, 15, 4, 23, 15, 18, 20, 0, 0, 0, 0, 0, ...</td>\n",
       "      <td>1</td>\n",
       "      <td>0</td>\n",
       "    </tr>\n",
       "    <tr>\n",
       "      <th>1405219</th>\n",
       "      <td>WIHTAIAOMNIFA</td>\n",
       "      <td>INDIAN GINSENG</td>\n",
       "      <td>[23, 9, 8, 20, 1, 9, 1, 15, 13, 14, 9, 6, 1, 0...</td>\n",
       "      <td>[9, 14, 4, 9, 1, 14, 27, 7, 9, 14, 19, 5, 14, ...</td>\n",
       "      <td>1</td>\n",
       "      <td>0</td>\n",
       "    </tr>\n",
       "    <tr>\n",
       "      <th>68850</th>\n",
       "      <td>STADMNIA OPSPITIFOIUA</td>\n",
       "      <td>STADMANIA OPPOSITIFOLIA</td>\n",
       "      <td>[19, 20, 1, 4, 13, 14, 9, 1, 27, 15, 16, 19, 1...</td>\n",
       "      <td>[19, 20, 1, 4, 13, 1, 14, 9, 1, 27, 15, 16, 16...</td>\n",
       "      <td>1</td>\n",
       "      <td>0</td>\n",
       "    </tr>\n",
       "    <tr>\n",
       "      <th>3165742</th>\n",
       "      <td>LEM NBLMOLY BASIL</td>\n",
       "      <td>TULSI</td>\n",
       "      <td>[12, 5, 13, 27, 14, 2, 12, 13, 15, 12, 25, 27,...</td>\n",
       "      <td>[20, 21, 12, 19, 9, 0, 0, 0, 0, 0, 0, 0, 0, 0,...</td>\n",
       "      <td>1</td>\n",
       "      <td>0</td>\n",
       "    </tr>\n",
       "  </tbody>\n",
       "</table>\n",
       "</div>"
      ],
      "text/plain": [
       "                                 x                        y  \\\n",
       "1501787           THTYMPU VUSGARIS             COMMON THYME   \n",
       "1760974  SCUIYLARUIA LATRLXIOYLORA                 HOODWORT   \n",
       "1405219              WIHTAIAOMNIFA           INDIAN GINSENG   \n",
       "68850        STADMNIA OPSPITIFOIUA  STADMANIA OPPOSITIFOLIA   \n",
       "3165742          LEM NBLMOLY BASIL                    TULSI   \n",
       "\n",
       "                                               Processed_x  \\\n",
       "1501787  [20, 8, 20, 25, 13, 16, 21, 27, 22, 21, 19, 7,...   \n",
       "1760974  [19, 3, 21, 9, 25, 12, 1, 18, 21, 9, 1, 27, 12...   \n",
       "1405219  [23, 9, 8, 20, 1, 9, 1, 15, 13, 14, 9, 6, 1, 0...   \n",
       "68850    [19, 20, 1, 4, 13, 14, 9, 1, 27, 15, 16, 19, 1...   \n",
       "3165742  [12, 5, 13, 27, 14, 2, 12, 13, 15, 12, 25, 27,...   \n",
       "\n",
       "                                               Processed_y  Match  Distance  \n",
       "1501787  [3, 15, 13, 13, 15, 14, 27, 20, 8, 25, 13, 5, ...      1         0  \n",
       "1760974  [8, 15, 15, 4, 23, 15, 18, 20, 0, 0, 0, 0, 0, ...      1         0  \n",
       "1405219  [9, 14, 4, 9, 1, 14, 27, 7, 9, 14, 19, 5, 14, ...      1         0  \n",
       "68850    [19, 20, 1, 4, 13, 1, 14, 9, 1, 27, 15, 16, 16...      1         0  \n",
       "3165742  [20, 21, 12, 19, 9, 0, 0, 0, 0, 0, 0, 0, 0, 0,...      1         0  "
      ]
     },
     "execution_count": 31,
     "metadata": {},
     "output_type": "execute_result"
    }
   ],
   "source": [
    "positive_pairs.head()"
   ]
  },
  {
   "cell_type": "markdown",
   "id": "305b3a0b",
   "metadata": {},
   "source": [
    "# Structure to contain the results"
   ]
  },
  {
   "cell_type": "code",
   "execution_count": 32,
   "id": "4ec14511",
   "metadata": {},
   "outputs": [],
   "source": [
    "results = pd.DataFrame(index = ['Exact', 'Equivalent'], columns =['Siamese model', 'Levenshtein','Gesalt'])"
   ]
  },
  {
   "cell_type": "markdown",
   "id": "ea208cb0",
   "metadata": {},
   "source": [
    "----------------------------------------------------"
   ]
  },
  {
   "cell_type": "markdown",
   "id": "4dde0323",
   "metadata": {},
   "source": [
    "# Predicted Match MRR Evaluation"
   ]
  },
  {
   "cell_type": "code",
   "execution_count": 33,
   "id": "8a7fa8a0",
   "metadata": {},
   "outputs": [],
   "source": [
    "Predicted = find_Model_ranks(model, df=positive_pairs, targets = dUnique_df, equivalence_set = equivalence_set, ranks=20, find_related_rank=True, report_distances=True)"
   ]
  },
  {
   "cell_type": "code",
   "execution_count": 34,
   "id": "674f1a85",
   "metadata": {},
   "outputs": [
    {
     "data": {
      "text/html": [
       "<div>\n",
       "<style scoped>\n",
       "    .dataframe tbody tr th:only-of-type {\n",
       "        vertical-align: middle;\n",
       "    }\n",
       "\n",
       "    .dataframe tbody tr th {\n",
       "        vertical-align: top;\n",
       "    }\n",
       "\n",
       "    .dataframe thead th {\n",
       "        text-align: right;\n",
       "    }\n",
       "</style>\n",
       "<table border=\"1\" class=\"dataframe\">\n",
       "  <thead>\n",
       "    <tr style=\"text-align: right;\">\n",
       "      <th></th>\n",
       "      <th>x</th>\n",
       "      <th>y</th>\n",
       "      <th>Processed_x</th>\n",
       "      <th>Processed_y</th>\n",
       "      <th>Match</th>\n",
       "      <th>Distance</th>\n",
       "      <th>rank1</th>\n",
       "      <th>rank2</th>\n",
       "      <th>rank3</th>\n",
       "      <th>rank4</th>\n",
       "      <th>...</th>\n",
       "      <th>rank13_distance</th>\n",
       "      <th>rank14_distance</th>\n",
       "      <th>rank15_distance</th>\n",
       "      <th>rank16_distance</th>\n",
       "      <th>rank17_distance</th>\n",
       "      <th>rank18_distance</th>\n",
       "      <th>rank19_distance</th>\n",
       "      <th>rank20_distance</th>\n",
       "      <th>exact_rank</th>\n",
       "      <th>equivalent_rank</th>\n",
       "    </tr>\n",
       "  </thead>\n",
       "  <tbody>\n",
       "    <tr>\n",
       "      <th>1194514</th>\n",
       "      <td>MARNAAHU PIOGSUS</td>\n",
       "      <td>SPINY AMARANTH</td>\n",
       "      <td>[13, 1, 18, 14, 1, 1, 8, 21, 27, 16, 9, 15, 7,...</td>\n",
       "      <td>[19, 16, 9, 14, 25, 27, 1, 13, 1, 18, 1, 14, 2...</td>\n",
       "      <td>1</td>\n",
       "      <td>0</td>\n",
       "      <td>SPINACH CHARD</td>\n",
       "      <td>INDIAN BDELLIUMTREE</td>\n",
       "      <td>ILEX PARAGUARIENSIS</td>\n",
       "      <td>TRAMETES VERSICOLOR</td>\n",
       "      <td>...</td>\n",
       "      <td>0.000000</td>\n",
       "      <td>0.000000</td>\n",
       "      <td>0.000000</td>\n",
       "      <td>0.000000</td>\n",
       "      <td>0.000000</td>\n",
       "      <td>0.000000</td>\n",
       "      <td>0.000000</td>\n",
       "      <td>0.000000</td>\n",
       "      <td>inf</td>\n",
       "      <td>inf</td>\n",
       "    </tr>\n",
       "    <tr>\n",
       "      <th>2743760</th>\n",
       "      <td>PRUNHUSRCORNUT</td>\n",
       "      <td>PRUNUS CORNUTA</td>\n",
       "      <td>[16, 18, 21, 14, 8, 21, 19, 18, 3, 15, 18, 14,...</td>\n",
       "      <td>[16, 18, 21, 14, 21, 19, 27, 3, 15, 18, 14, 21...</td>\n",
       "      <td>1</td>\n",
       "      <td>0</td>\n",
       "      <td>CURCUMA LONGA</td>\n",
       "      <td>PRUNUS PERSICA</td>\n",
       "      <td>TAO</td>\n",
       "      <td>PRUNUS CORNUTA</td>\n",
       "      <td>...</td>\n",
       "      <td>0.254162</td>\n",
       "      <td>0.270292</td>\n",
       "      <td>0.339016</td>\n",
       "      <td>0.369081</td>\n",
       "      <td>0.379119</td>\n",
       "      <td>0.416520</td>\n",
       "      <td>0.432115</td>\n",
       "      <td>0.453320</td>\n",
       "      <td>4.0</td>\n",
       "      <td>4.0</td>\n",
       "    </tr>\n",
       "    <tr>\n",
       "      <th>1271459</th>\n",
       "      <td>ARISTTCLI CHILNSIS</td>\n",
       "      <td>MAQUI</td>\n",
       "      <td>[1, 18, 9, 19, 20, 20, 3, 12, 9, 27, 3, 8, 9, ...</td>\n",
       "      <td>[13, 1, 17, 21, 9, 0, 0, 0, 0, 0, 0, 0, 0, 0, ...</td>\n",
       "      <td>1</td>\n",
       "      <td>0</td>\n",
       "      <td>RIVINA HUMILIS</td>\n",
       "      <td>ARISTOLOCHIA SERICEA</td>\n",
       "      <td>ARISTOTELIA CHILENSIS</td>\n",
       "      <td>MAQUI</td>\n",
       "      <td>...</td>\n",
       "      <td>0.194797</td>\n",
       "      <td>0.228504</td>\n",
       "      <td>0.246442</td>\n",
       "      <td>0.274133</td>\n",
       "      <td>0.286384</td>\n",
       "      <td>0.321445</td>\n",
       "      <td>0.351788</td>\n",
       "      <td>0.376441</td>\n",
       "      <td>4.0</td>\n",
       "      <td>3.0</td>\n",
       "    </tr>\n",
       "    <tr>\n",
       "      <th>452435</th>\n",
       "      <td>ABIEC LAFBA</td>\n",
       "      <td>EUROPEAN SILVER FIR</td>\n",
       "      <td>[1, 2, 9, 5, 3, 27, 12, 1, 6, 2, 1, 0, 0, 0, 0...</td>\n",
       "      <td>[5, 21, 18, 15, 16, 5, 1, 14, 27, 19, 9, 12, 2...</td>\n",
       "      <td>1</td>\n",
       "      <td>0</td>\n",
       "      <td>AAI</td>\n",
       "      <td>BRASSICA RAPA</td>\n",
       "      <td>BORAGO OFFICINALIS</td>\n",
       "      <td>GOBO</td>\n",
       "      <td>...</td>\n",
       "      <td>0.000000</td>\n",
       "      <td>0.000000</td>\n",
       "      <td>0.000000</td>\n",
       "      <td>0.000000</td>\n",
       "      <td>0.000000</td>\n",
       "      <td>0.000000</td>\n",
       "      <td>0.000000</td>\n",
       "      <td>0.000000</td>\n",
       "      <td>inf</td>\n",
       "      <td>inf</td>\n",
       "    </tr>\n",
       "    <tr>\n",
       "      <th>934401</th>\n",
       "      <td>MORGGAN OLIFRA</td>\n",
       "      <td>MALUNGGAY</td>\n",
       "      <td>[13, 15, 18, 7, 7, 1, 14, 27, 15, 12, 9, 6, 18...</td>\n",
       "      <td>[13, 1, 12, 21, 14, 7, 7, 1, 25, 0, 0, 0, 0, 0...</td>\n",
       "      <td>1</td>\n",
       "      <td>0</td>\n",
       "      <td>MORINDA CITRIFOLIA</td>\n",
       "      <td>RAMA TULSI</td>\n",
       "      <td>SOUTHERN MAGNOLIA</td>\n",
       "      <td>MAGNOLIA GRANDIFLORA</td>\n",
       "      <td>...</td>\n",
       "      <td>0.000000</td>\n",
       "      <td>0.000000</td>\n",
       "      <td>0.000000</td>\n",
       "      <td>0.000000</td>\n",
       "      <td>0.000000</td>\n",
       "      <td>0.000000</td>\n",
       "      <td>0.000000</td>\n",
       "      <td>0.000000</td>\n",
       "      <td>16.0</td>\n",
       "      <td>16.0</td>\n",
       "    </tr>\n",
       "  </tbody>\n",
       "</table>\n",
       "<p>5 rows × 48 columns</p>\n",
       "</div>"
      ],
      "text/plain": [
       "                          x                    y  \\\n",
       "1194514    MARNAAHU PIOGSUS       SPINY AMARANTH   \n",
       "2743760      PRUNHUSRCORNUT       PRUNUS CORNUTA   \n",
       "1271459  ARISTTCLI CHILNSIS                MAQUI   \n",
       "452435          ABIEC LAFBA  EUROPEAN SILVER FIR   \n",
       "934401       MORGGAN OLIFRA            MALUNGGAY   \n",
       "\n",
       "                                               Processed_x  \\\n",
       "1194514  [13, 1, 18, 14, 1, 1, 8, 21, 27, 16, 9, 15, 7,...   \n",
       "2743760  [16, 18, 21, 14, 8, 21, 19, 18, 3, 15, 18, 14,...   \n",
       "1271459  [1, 18, 9, 19, 20, 20, 3, 12, 9, 27, 3, 8, 9, ...   \n",
       "452435   [1, 2, 9, 5, 3, 27, 12, 1, 6, 2, 1, 0, 0, 0, 0...   \n",
       "934401   [13, 15, 18, 7, 7, 1, 14, 27, 15, 12, 9, 6, 18...   \n",
       "\n",
       "                                               Processed_y  Match  Distance  \\\n",
       "1194514  [19, 16, 9, 14, 25, 27, 1, 13, 1, 18, 1, 14, 2...      1         0   \n",
       "2743760  [16, 18, 21, 14, 21, 19, 27, 3, 15, 18, 14, 21...      1         0   \n",
       "1271459  [13, 1, 17, 21, 9, 0, 0, 0, 0, 0, 0, 0, 0, 0, ...      1         0   \n",
       "452435   [5, 21, 18, 15, 16, 5, 1, 14, 27, 19, 9, 12, 2...      1         0   \n",
       "934401   [13, 1, 12, 21, 14, 7, 7, 1, 25, 0, 0, 0, 0, 0...      1         0   \n",
       "\n",
       "                      rank1                 rank2                  rank3  \\\n",
       "1194514       SPINACH CHARD   INDIAN BDELLIUMTREE    ILEX PARAGUARIENSIS   \n",
       "2743760       CURCUMA LONGA        PRUNUS PERSICA                    TAO   \n",
       "1271459      RIVINA HUMILIS  ARISTOLOCHIA SERICEA  ARISTOTELIA CHILENSIS   \n",
       "452435                  AAI         BRASSICA RAPA     BORAGO OFFICINALIS   \n",
       "934401   MORINDA CITRIFOLIA            RAMA TULSI      SOUTHERN MAGNOLIA   \n",
       "\n",
       "                        rank4  ... rank13_distance rank14_distance  \\\n",
       "1194514   TRAMETES VERSICOLOR  ...        0.000000        0.000000   \n",
       "2743760        PRUNUS CORNUTA  ...        0.254162        0.270292   \n",
       "1271459                 MAQUI  ...        0.194797        0.228504   \n",
       "452435                   GOBO  ...        0.000000        0.000000   \n",
       "934401   MAGNOLIA GRANDIFLORA  ...        0.000000        0.000000   \n",
       "\n",
       "        rank15_distance rank16_distance rank17_distance rank18_distance  \\\n",
       "1194514        0.000000        0.000000        0.000000        0.000000   \n",
       "2743760        0.339016        0.369081        0.379119        0.416520   \n",
       "1271459        0.246442        0.274133        0.286384        0.321445   \n",
       "452435         0.000000        0.000000        0.000000        0.000000   \n",
       "934401         0.000000        0.000000        0.000000        0.000000   \n",
       "\n",
       "        rank19_distance rank20_distance exact_rank equivalent_rank  \n",
       "1194514        0.000000        0.000000        inf             inf  \n",
       "2743760        0.432115        0.453320        4.0             4.0  \n",
       "1271459        0.351788        0.376441        4.0             3.0  \n",
       "452435         0.000000        0.000000        inf             inf  \n",
       "934401         0.000000        0.000000       16.0            16.0  \n",
       "\n",
       "[5 rows x 48 columns]"
      ]
     },
     "execution_count": 34,
     "metadata": {},
     "output_type": "execute_result"
    }
   ],
   "source": [
    "Predicted.sample(n=5)"
   ]
  },
  {
   "cell_type": "code",
   "execution_count": 35,
   "id": "6991befc",
   "metadata": {},
   "outputs": [
    {
     "data": {
      "text/html": [
       "<div>\n",
       "<style scoped>\n",
       "    .dataframe tbody tr th:only-of-type {\n",
       "        vertical-align: middle;\n",
       "    }\n",
       "\n",
       "    .dataframe tbody tr th {\n",
       "        vertical-align: top;\n",
       "    }\n",
       "\n",
       "    .dataframe thead th {\n",
       "        text-align: right;\n",
       "    }\n",
       "</style>\n",
       "<table border=\"1\" class=\"dataframe\">\n",
       "  <thead>\n",
       "    <tr style=\"text-align: right;\">\n",
       "      <th></th>\n",
       "      <th>exact_reciprocal_rank</th>\n",
       "      <th>equivalent_reciprocal_rank</th>\n",
       "    </tr>\n",
       "  </thead>\n",
       "  <tbody>\n",
       "    <tr>\n",
       "      <th>count</th>\n",
       "      <td>1000.000000</td>\n",
       "      <td>1000.000000</td>\n",
       "    </tr>\n",
       "    <tr>\n",
       "      <th>mean</th>\n",
       "      <td>0.166960</td>\n",
       "      <td>0.239060</td>\n",
       "    </tr>\n",
       "    <tr>\n",
       "      <th>std</th>\n",
       "      <td>0.259752</td>\n",
       "      <td>0.298401</td>\n",
       "    </tr>\n",
       "    <tr>\n",
       "      <th>min</th>\n",
       "      <td>0.000000</td>\n",
       "      <td>0.000000</td>\n",
       "    </tr>\n",
       "    <tr>\n",
       "      <th>25%</th>\n",
       "      <td>0.000000</td>\n",
       "      <td>0.052632</td>\n",
       "    </tr>\n",
       "    <tr>\n",
       "      <th>50%</th>\n",
       "      <td>0.076923</td>\n",
       "      <td>0.125000</td>\n",
       "    </tr>\n",
       "    <tr>\n",
       "      <th>75%</th>\n",
       "      <td>0.175000</td>\n",
       "      <td>0.333333</td>\n",
       "    </tr>\n",
       "    <tr>\n",
       "      <th>max</th>\n",
       "      <td>1.000000</td>\n",
       "      <td>1.000000</td>\n",
       "    </tr>\n",
       "  </tbody>\n",
       "</table>\n",
       "</div>"
      ],
      "text/plain": [
       "       exact_reciprocal_rank  equivalent_reciprocal_rank\n",
       "count            1000.000000                 1000.000000\n",
       "mean                0.166960                    0.239060\n",
       "std                 0.259752                    0.298401\n",
       "min                 0.000000                    0.000000\n",
       "25%                 0.000000                    0.052632\n",
       "50%                 0.076923                    0.125000\n",
       "75%                 0.175000                    0.333333\n",
       "max                 1.000000                    1.000000"
      ]
     },
     "execution_count": 35,
     "metadata": {},
     "output_type": "execute_result"
    }
   ],
   "source": [
    "Models_mrr = Predicted.loc[:,['x', 'exact_rank', 'equivalent_rank']]\n",
    "Models_mrr.loc[:,'exact_reciprocal_rank'] = 1/Models_mrr.loc[:, 'exact_rank']\n",
    "Models_mrr.loc[:,'equivalent_reciprocal_rank'] = 1/Models_mrr.loc[:, 'equivalent_rank']\n",
    "Models_mrr[['exact_reciprocal_rank', 'equivalent_reciprocal_rank']].describe()"
   ]
  },
  {
   "cell_type": "code",
   "execution_count": 36,
   "id": "babb2c7d",
   "metadata": {},
   "outputs": [
    {
     "data": {
      "text/plain": [
       "(13.0, nan)"
      ]
     },
     "execution_count": 36,
     "metadata": {},
     "output_type": "execute_result"
    }
   ],
   "source": [
    "#get median and stdev\n",
    "Models_mrr['exact_rank'].median(), Models_mrr['exact_rank'].std()"
   ]
  },
  {
   "cell_type": "code",
   "execution_count": 37,
   "id": "00fee30d",
   "metadata": {},
   "outputs": [
    {
     "data": {
      "text/plain": [
       "(8.0, nan)"
      ]
     },
     "execution_count": 37,
     "metadata": {},
     "output_type": "execute_result"
    }
   ],
   "source": [
    "#get median and stdev\n",
    "Models_mrr['equivalent_rank'].median(), Models_mrr['equivalent_rank'].std()"
   ]
  },
  {
   "cell_type": "code",
   "execution_count": 38,
   "id": "c00accdc",
   "metadata": {},
   "outputs": [],
   "source": [
    "results.loc['Exact', 'Siamese model'] = 1/Models_mrr.index.size * Models_mrr['exact_reciprocal_rank'].sum()"
   ]
  },
  {
   "cell_type": "code",
   "execution_count": 39,
   "id": "735ba93d",
   "metadata": {},
   "outputs": [],
   "source": [
    "results.loc['Equivalent', 'Siamese model'] = 1/Models_mrr.index.size * Models_mrr['equivalent_reciprocal_rank'].sum()"
   ]
  },
  {
   "cell_type": "markdown",
   "id": "562db835",
   "metadata": {},
   "source": [
    "--------------------------------------"
   ]
  },
  {
   "cell_type": "markdown",
   "id": "75bbde8a",
   "metadata": {},
   "source": [
    "# Comparison with fuzzy string match"
   ]
  },
  {
   "cell_type": "markdown",
   "id": "77b00f22",
   "metadata": {},
   "source": [
    "# Fuzzy Levenshtein Match MRR Evaluation"
   ]
  },
  {
   "cell_type": "code",
   "execution_count": 40,
   "id": "d4b7614f",
   "metadata": {},
   "outputs": [],
   "source": [
    "Levenshtein = find_Levenshtein_ranks(positive_pairs, targets = dUnique_df, equivalence_set = equivalence_set, ranks=20, find_related_rank=True, report_distances=True)"
   ]
  },
  {
   "cell_type": "code",
   "execution_count": 41,
   "id": "b1551d0d",
   "metadata": {},
   "outputs": [
    {
     "data": {
      "text/html": [
       "<div>\n",
       "<style scoped>\n",
       "    .dataframe tbody tr th:only-of-type {\n",
       "        vertical-align: middle;\n",
       "    }\n",
       "\n",
       "    .dataframe tbody tr th {\n",
       "        vertical-align: top;\n",
       "    }\n",
       "\n",
       "    .dataframe thead th {\n",
       "        text-align: right;\n",
       "    }\n",
       "</style>\n",
       "<table border=\"1\" class=\"dataframe\">\n",
       "  <thead>\n",
       "    <tr style=\"text-align: right;\">\n",
       "      <th></th>\n",
       "      <th>x</th>\n",
       "      <th>y</th>\n",
       "      <th>Processed_x</th>\n",
       "      <th>Processed_y</th>\n",
       "      <th>Match</th>\n",
       "      <th>Distance</th>\n",
       "      <th>rank1</th>\n",
       "      <th>rank2</th>\n",
       "      <th>rank3</th>\n",
       "      <th>rank4</th>\n",
       "      <th>...</th>\n",
       "      <th>rank13_distance</th>\n",
       "      <th>rank14_distance</th>\n",
       "      <th>rank15_distance</th>\n",
       "      <th>rank16_distance</th>\n",
       "      <th>rank17_distance</th>\n",
       "      <th>rank18_distance</th>\n",
       "      <th>rank19_distance</th>\n",
       "      <th>rank20_distance</th>\n",
       "      <th>exact_rank</th>\n",
       "      <th>equivalent_rank</th>\n",
       "    </tr>\n",
       "  </thead>\n",
       "  <tbody>\n",
       "    <tr>\n",
       "      <th>2017805</th>\n",
       "      <td>ULKCIORICE</td>\n",
       "      <td>XINJIANG LICORICE WHOLE</td>\n",
       "      <td>[21, 12, 11, 3, 9, 15, 18, 9, 3, 5, 0, 0, 0, 0...</td>\n",
       "      <td>[24, 9, 14, 10, 9, 1, 14, 7, 27, 12, 9, 3, 15,...</td>\n",
       "      <td>1</td>\n",
       "      <td>0</td>\n",
       "      <td>LICORICE</td>\n",
       "      <td>LIQUORICE</td>\n",
       "      <td>URAL LICORICE WHOLE</td>\n",
       "      <td>PUMILIO PINE</td>\n",
       "      <td>...</td>\n",
       "      <td>0.650000</td>\n",
       "      <td>0.666667</td>\n",
       "      <td>0.666667</td>\n",
       "      <td>0.666667</td>\n",
       "      <td>0.666667</td>\n",
       "      <td>0.666667</td>\n",
       "      <td>0.666667</td>\n",
       "      <td>0.680000</td>\n",
       "      <td>inf</td>\n",
       "      <td>1.0</td>\n",
       "    </tr>\n",
       "    <tr>\n",
       "      <th>1738860</th>\n",
       "      <td>AGDIRACPTAF IEICA</td>\n",
       "      <td>MARGOSA</td>\n",
       "      <td>[1, 7, 4, 9, 18, 1, 3, 16, 20, 1, 6, 27, 9, 5,...</td>\n",
       "      <td>[13, 1, 18, 7, 15, 19, 1, 0, 0, 0, 0, 0, 0, 0,...</td>\n",
       "      <td>1</td>\n",
       "      <td>0</td>\n",
       "      <td>AZADIRACHTA INDICA</td>\n",
       "      <td>CALLICARPA AMERICANA</td>\n",
       "      <td>MANDRAGORA OFFICINARUM</td>\n",
       "      <td>ARISTOLOCHIA SERICEA</td>\n",
       "      <td>...</td>\n",
       "      <td>0.692308</td>\n",
       "      <td>0.692308</td>\n",
       "      <td>0.695652</td>\n",
       "      <td>0.700000</td>\n",
       "      <td>0.700000</td>\n",
       "      <td>0.700000</td>\n",
       "      <td>0.700000</td>\n",
       "      <td>0.700000</td>\n",
       "      <td>inf</td>\n",
       "      <td>1.0</td>\n",
       "    </tr>\n",
       "    <tr>\n",
       "      <th>2153624</th>\n",
       "      <td>PICE FES</td>\n",
       "      <td>PICEA ABIES</td>\n",
       "      <td>[16, 9, 3, 5, 27, 6, 5, 19, 0, 0, 0, 0, 0, 0, ...</td>\n",
       "      <td>[16, 9, 3, 5, 1, 27, 1, 2, 9, 5, 19, 0, 0, 0, ...</td>\n",
       "      <td>1</td>\n",
       "      <td>0</td>\n",
       "      <td>PICEA ABIES</td>\n",
       "      <td>WHITE TEA</td>\n",
       "      <td>ALCEA SETOSA</td>\n",
       "      <td>PINUS KESIYA</td>\n",
       "      <td>...</td>\n",
       "      <td>0.625000</td>\n",
       "      <td>0.625000</td>\n",
       "      <td>0.625000</td>\n",
       "      <td>0.636364</td>\n",
       "      <td>0.636364</td>\n",
       "      <td>0.636364</td>\n",
       "      <td>0.636364</td>\n",
       "      <td>0.642857</td>\n",
       "      <td>1.0</td>\n",
       "      <td>1.0</td>\n",
       "    </tr>\n",
       "    <tr>\n",
       "      <th>2638290</th>\n",
       "      <td>SMILA GARA</td>\n",
       "      <td>SMILAX GLABRA</td>\n",
       "      <td>[19, 13, 9, 12, 1, 27, 7, 1, 18, 1, 0, 0, 0, 0...</td>\n",
       "      <td>[19, 13, 9, 12, 1, 24, 27, 7, 12, 1, 2, 18, 1,...</td>\n",
       "      <td>1</td>\n",
       "      <td>0</td>\n",
       "      <td>SMILAX GLABRA</td>\n",
       "      <td>SMILAX GLAUCA</td>\n",
       "      <td>SMILAX LAURIFOLIA</td>\n",
       "      <td>STYELA CLAVA</td>\n",
       "      <td>...</td>\n",
       "      <td>0.571429</td>\n",
       "      <td>0.571429</td>\n",
       "      <td>0.571429</td>\n",
       "      <td>0.571429</td>\n",
       "      <td>0.571429</td>\n",
       "      <td>0.571429</td>\n",
       "      <td>0.571429</td>\n",
       "      <td>0.571429</td>\n",
       "      <td>1.0</td>\n",
       "      <td>1.0</td>\n",
       "    </tr>\n",
       "    <tr>\n",
       "      <th>2903841</th>\n",
       "      <td>ONONISVSUVNIWOAZ</td>\n",
       "      <td>ONONIS SPINOSA</td>\n",
       "      <td>[15, 14, 15, 14, 9, 19, 22, 19, 21, 22, 14, 9,...</td>\n",
       "      <td>[15, 14, 15, 14, 9, 19, 27, 19, 16, 9, 14, 15,...</td>\n",
       "      <td>1</td>\n",
       "      <td>0</td>\n",
       "      <td>ONONIS SPINOSA</td>\n",
       "      <td>MONESES UNIFLORA</td>\n",
       "      <td>SURENUS SINENSIS WHOLE</td>\n",
       "      <td>COMMON LIQUORICE WHOLE</td>\n",
       "      <td>...</td>\n",
       "      <td>0.700000</td>\n",
       "      <td>0.700000</td>\n",
       "      <td>0.703704</td>\n",
       "      <td>0.705882</td>\n",
       "      <td>0.714286</td>\n",
       "      <td>0.714286</td>\n",
       "      <td>0.720000</td>\n",
       "      <td>0.722222</td>\n",
       "      <td>1.0</td>\n",
       "      <td>1.0</td>\n",
       "    </tr>\n",
       "    <tr>\n",
       "      <th>2142220</th>\n",
       "      <td>ELDZRBER</td>\n",
       "      <td>SAMBUCUS LACINIATA WHOLE</td>\n",
       "      <td>[5, 12, 4, 26, 18, 2, 5, 18, 0, 0, 0, 0, 0, 0,...</td>\n",
       "      <td>[19, 1, 13, 2, 21, 3, 21, 19, 27, 12, 1, 3, 9,...</td>\n",
       "      <td>1</td>\n",
       "      <td>0</td>\n",
       "      <td>ELDERBERRY</td>\n",
       "      <td>ELEUTHERO</td>\n",
       "      <td>ELDERBERRY WHOLE</td>\n",
       "      <td>OLDMANSBEARD</td>\n",
       "      <td>...</td>\n",
       "      <td>0.636364</td>\n",
       "      <td>0.636364</td>\n",
       "      <td>0.636364</td>\n",
       "      <td>0.636364</td>\n",
       "      <td>0.642857</td>\n",
       "      <td>0.666667</td>\n",
       "      <td>0.666667</td>\n",
       "      <td>0.666667</td>\n",
       "      <td>inf</td>\n",
       "      <td>1.0</td>\n",
       "    </tr>\n",
       "    <tr>\n",
       "      <th>2632409</th>\n",
       "      <td>UERICSUCQ REKIS</td>\n",
       "      <td>QUERCUS CERRIS</td>\n",
       "      <td>[21, 5, 18, 9, 3, 19, 21, 3, 17, 27, 18, 5, 11...</td>\n",
       "      <td>[17, 21, 5, 18, 3, 21, 19, 27, 3, 5, 18, 18, 9...</td>\n",
       "      <td>1</td>\n",
       "      <td>0</td>\n",
       "      <td>QUERCUS CERRIS</td>\n",
       "      <td>QUERCUS CHRYSOLEPIS</td>\n",
       "      <td>CERCIS CANADENSIS</td>\n",
       "      <td>SWERTIA PSEUDOCHINENSIS</td>\n",
       "      <td>...</td>\n",
       "      <td>0.666667</td>\n",
       "      <td>0.666667</td>\n",
       "      <td>0.666667</td>\n",
       "      <td>0.666667</td>\n",
       "      <td>0.666667</td>\n",
       "      <td>0.681818</td>\n",
       "      <td>0.681818</td>\n",
       "      <td>0.684211</td>\n",
       "      <td>1.0</td>\n",
       "      <td>1.0</td>\n",
       "    </tr>\n",
       "    <tr>\n",
       "      <th>1934111</th>\n",
       "      <td>HORS ETAL</td>\n",
       "      <td>EQUISETUM HYEMALE WHOLE</td>\n",
       "      <td>[8, 15, 18, 19, 27, 5, 20, 1, 12, 0, 0, 0, 0, ...</td>\n",
       "      <td>[5, 17, 21, 9, 19, 5, 20, 21, 13, 27, 8, 25, 5...</td>\n",
       "      <td>1</td>\n",
       "      <td>0</td>\n",
       "      <td>HORSETAIL</td>\n",
       "      <td>ROUGH HORSETAIL</td>\n",
       "      <td>HORSECHESTNUT</td>\n",
       "      <td>CORDIA DENTATA</td>\n",
       "      <td>...</td>\n",
       "      <td>0.636364</td>\n",
       "      <td>0.636364</td>\n",
       "      <td>0.636364</td>\n",
       "      <td>0.636364</td>\n",
       "      <td>0.642857</td>\n",
       "      <td>0.642857</td>\n",
       "      <td>0.642857</td>\n",
       "      <td>0.642857</td>\n",
       "      <td>inf</td>\n",
       "      <td>1.0</td>\n",
       "    </tr>\n",
       "    <tr>\n",
       "      <th>2489586</th>\n",
       "      <td>MACNUR ICTTORIRA</td>\n",
       "      <td>MACLURA TINCTORIA</td>\n",
       "      <td>[13, 1, 3, 14, 21, 18, 27, 9, 3, 20, 20, 15, 1...</td>\n",
       "      <td>[13, 1, 3, 12, 21, 18, 1, 27, 20, 9, 14, 3, 20...</td>\n",
       "      <td>1</td>\n",
       "      <td>0</td>\n",
       "      <td>MACLURA TINCTORIA</td>\n",
       "      <td>SALVIA MILTIORRHIZA</td>\n",
       "      <td>KADSURA JAPONICA</td>\n",
       "      <td>CORNUS FLORIDA</td>\n",
       "      <td>...</td>\n",
       "      <td>0.666667</td>\n",
       "      <td>0.666667</td>\n",
       "      <td>0.666667</td>\n",
       "      <td>0.666667</td>\n",
       "      <td>0.666667</td>\n",
       "      <td>0.666667</td>\n",
       "      <td>0.681818</td>\n",
       "      <td>0.681818</td>\n",
       "      <td>1.0</td>\n",
       "      <td>1.0</td>\n",
       "    </tr>\n",
       "    <tr>\n",
       "      <th>754854</th>\n",
       "      <td>DAUCUSUCAROM TA</td>\n",
       "      <td>CARROT</td>\n",
       "      <td>[4, 1, 21, 3, 21, 19, 21, 3, 1, 18, 15, 13, 27...</td>\n",
       "      <td>[3, 1, 18, 18, 15, 20, 0, 0, 0, 0, 0, 0, 0, 0,...</td>\n",
       "      <td>1</td>\n",
       "      <td>0</td>\n",
       "      <td>DAUCUS CAROTA</td>\n",
       "      <td>PRUNUS CORNUTA</td>\n",
       "      <td>LEONURUS CARDIACA</td>\n",
       "      <td>PRUNUS SEROTINA</td>\n",
       "      <td>...</td>\n",
       "      <td>0.650000</td>\n",
       "      <td>0.650000</td>\n",
       "      <td>0.652174</td>\n",
       "      <td>0.666667</td>\n",
       "      <td>0.666667</td>\n",
       "      <td>0.666667</td>\n",
       "      <td>0.666667</td>\n",
       "      <td>0.666667</td>\n",
       "      <td>inf</td>\n",
       "      <td>1.0</td>\n",
       "    </tr>\n",
       "  </tbody>\n",
       "</table>\n",
       "<p>10 rows × 48 columns</p>\n",
       "</div>"
      ],
      "text/plain": [
       "                         x                         y  \\\n",
       "2017805         ULKCIORICE   XINJIANG LICORICE WHOLE   \n",
       "1738860  AGDIRACPTAF IEICA                   MARGOSA   \n",
       "2153624           PICE FES               PICEA ABIES   \n",
       "2638290         SMILA GARA             SMILAX GLABRA   \n",
       "2903841   ONONISVSUVNIWOAZ            ONONIS SPINOSA   \n",
       "2142220           ELDZRBER  SAMBUCUS LACINIATA WHOLE   \n",
       "2632409    UERICSUCQ REKIS            QUERCUS CERRIS   \n",
       "1934111          HORS ETAL   EQUISETUM HYEMALE WHOLE   \n",
       "2489586   MACNUR ICTTORIRA         MACLURA TINCTORIA   \n",
       "754854     DAUCUSUCAROM TA                    CARROT   \n",
       "\n",
       "                                               Processed_x  \\\n",
       "2017805  [21, 12, 11, 3, 9, 15, 18, 9, 3, 5, 0, 0, 0, 0...   \n",
       "1738860  [1, 7, 4, 9, 18, 1, 3, 16, 20, 1, 6, 27, 9, 5,...   \n",
       "2153624  [16, 9, 3, 5, 27, 6, 5, 19, 0, 0, 0, 0, 0, 0, ...   \n",
       "2638290  [19, 13, 9, 12, 1, 27, 7, 1, 18, 1, 0, 0, 0, 0...   \n",
       "2903841  [15, 14, 15, 14, 9, 19, 22, 19, 21, 22, 14, 9,...   \n",
       "2142220  [5, 12, 4, 26, 18, 2, 5, 18, 0, 0, 0, 0, 0, 0,...   \n",
       "2632409  [21, 5, 18, 9, 3, 19, 21, 3, 17, 27, 18, 5, 11...   \n",
       "1934111  [8, 15, 18, 19, 27, 5, 20, 1, 12, 0, 0, 0, 0, ...   \n",
       "2489586  [13, 1, 3, 14, 21, 18, 27, 9, 3, 20, 20, 15, 1...   \n",
       "754854   [4, 1, 21, 3, 21, 19, 21, 3, 1, 18, 15, 13, 27...   \n",
       "\n",
       "                                               Processed_y  Match  Distance  \\\n",
       "2017805  [24, 9, 14, 10, 9, 1, 14, 7, 27, 12, 9, 3, 15,...      1         0   \n",
       "1738860  [13, 1, 18, 7, 15, 19, 1, 0, 0, 0, 0, 0, 0, 0,...      1         0   \n",
       "2153624  [16, 9, 3, 5, 1, 27, 1, 2, 9, 5, 19, 0, 0, 0, ...      1         0   \n",
       "2638290  [19, 13, 9, 12, 1, 24, 27, 7, 12, 1, 2, 18, 1,...      1         0   \n",
       "2903841  [15, 14, 15, 14, 9, 19, 27, 19, 16, 9, 14, 15,...      1         0   \n",
       "2142220  [19, 1, 13, 2, 21, 3, 21, 19, 27, 12, 1, 3, 9,...      1         0   \n",
       "2632409  [17, 21, 5, 18, 3, 21, 19, 27, 3, 5, 18, 18, 9...      1         0   \n",
       "1934111  [5, 17, 21, 9, 19, 5, 20, 21, 13, 27, 8, 25, 5...      1         0   \n",
       "2489586  [13, 1, 3, 12, 21, 18, 1, 27, 20, 9, 14, 3, 20...      1         0   \n",
       "754854   [3, 1, 18, 18, 15, 20, 0, 0, 0, 0, 0, 0, 0, 0,...      1         0   \n",
       "\n",
       "                      rank1                 rank2                   rank3  \\\n",
       "2017805            LICORICE             LIQUORICE     URAL LICORICE WHOLE   \n",
       "1738860  AZADIRACHTA INDICA  CALLICARPA AMERICANA  MANDRAGORA OFFICINARUM   \n",
       "2153624         PICEA ABIES             WHITE TEA            ALCEA SETOSA   \n",
       "2638290       SMILAX GLABRA         SMILAX GLAUCA       SMILAX LAURIFOLIA   \n",
       "2903841      ONONIS SPINOSA      MONESES UNIFLORA  SURENUS SINENSIS WHOLE   \n",
       "2142220          ELDERBERRY             ELEUTHERO        ELDERBERRY WHOLE   \n",
       "2632409      QUERCUS CERRIS   QUERCUS CHRYSOLEPIS       CERCIS CANADENSIS   \n",
       "1934111           HORSETAIL       ROUGH HORSETAIL           HORSECHESTNUT   \n",
       "2489586   MACLURA TINCTORIA   SALVIA MILTIORRHIZA        KADSURA JAPONICA   \n",
       "754854        DAUCUS CAROTA        PRUNUS CORNUTA       LEONURUS CARDIACA   \n",
       "\n",
       "                           rank4  ... rank13_distance rank14_distance  \\\n",
       "2017805             PUMILIO PINE  ...        0.650000        0.666667   \n",
       "1738860     ARISTOLOCHIA SERICEA  ...        0.692308        0.692308   \n",
       "2153624             PINUS KESIYA  ...        0.625000        0.625000   \n",
       "2638290             STYELA CLAVA  ...        0.571429        0.571429   \n",
       "2903841   COMMON LIQUORICE WHOLE  ...        0.700000        0.700000   \n",
       "2142220             OLDMANSBEARD  ...        0.636364        0.636364   \n",
       "2632409  SWERTIA PSEUDOCHINENSIS  ...        0.666667        0.666667   \n",
       "1934111           CORDIA DENTATA  ...        0.636364        0.636364   \n",
       "2489586           CORNUS FLORIDA  ...        0.666667        0.666667   \n",
       "754854           PRUNUS SEROTINA  ...        0.650000        0.650000   \n",
       "\n",
       "        rank15_distance rank16_distance rank17_distance rank18_distance  \\\n",
       "2017805        0.666667        0.666667        0.666667        0.666667   \n",
       "1738860        0.695652        0.700000        0.700000        0.700000   \n",
       "2153624        0.625000        0.636364        0.636364        0.636364   \n",
       "2638290        0.571429        0.571429        0.571429        0.571429   \n",
       "2903841        0.703704        0.705882        0.714286        0.714286   \n",
       "2142220        0.636364        0.636364        0.642857        0.666667   \n",
       "2632409        0.666667        0.666667        0.666667        0.681818   \n",
       "1934111        0.636364        0.636364        0.642857        0.642857   \n",
       "2489586        0.666667        0.666667        0.666667        0.666667   \n",
       "754854         0.652174        0.666667        0.666667        0.666667   \n",
       "\n",
       "        rank19_distance rank20_distance exact_rank equivalent_rank  \n",
       "2017805        0.666667        0.680000        inf             1.0  \n",
       "1738860        0.700000        0.700000        inf             1.0  \n",
       "2153624        0.636364        0.642857        1.0             1.0  \n",
       "2638290        0.571429        0.571429        1.0             1.0  \n",
       "2903841        0.720000        0.722222        1.0             1.0  \n",
       "2142220        0.666667        0.666667        inf             1.0  \n",
       "2632409        0.681818        0.684211        1.0             1.0  \n",
       "1934111        0.642857        0.642857        inf             1.0  \n",
       "2489586        0.681818        0.681818        1.0             1.0  \n",
       "754854         0.666667        0.666667        inf             1.0  \n",
       "\n",
       "[10 rows x 48 columns]"
      ]
     },
     "execution_count": 41,
     "metadata": {},
     "output_type": "execute_result"
    }
   ],
   "source": [
    "Levenshtein.sample(n=10)"
   ]
  },
  {
   "cell_type": "code",
   "execution_count": 42,
   "id": "695f97e8",
   "metadata": {},
   "outputs": [
    {
     "data": {
      "text/html": [
       "<div>\n",
       "<style scoped>\n",
       "    .dataframe tbody tr th:only-of-type {\n",
       "        vertical-align: middle;\n",
       "    }\n",
       "\n",
       "    .dataframe tbody tr th {\n",
       "        vertical-align: top;\n",
       "    }\n",
       "\n",
       "    .dataframe thead th {\n",
       "        text-align: right;\n",
       "    }\n",
       "</style>\n",
       "<table border=\"1\" class=\"dataframe\">\n",
       "  <thead>\n",
       "    <tr style=\"text-align: right;\">\n",
       "      <th></th>\n",
       "      <th>exact_reciprocal_rank</th>\n",
       "      <th>equivalent_reciprocal_rank</th>\n",
       "    </tr>\n",
       "  </thead>\n",
       "  <tbody>\n",
       "    <tr>\n",
       "      <th>count</th>\n",
       "      <td>1000.000000</td>\n",
       "      <td>1000.000000</td>\n",
       "    </tr>\n",
       "    <tr>\n",
       "      <th>mean</th>\n",
       "      <td>0.352751</td>\n",
       "      <td>0.964463</td>\n",
       "    </tr>\n",
       "    <tr>\n",
       "      <th>std</th>\n",
       "      <td>0.474233</td>\n",
       "      <td>0.171387</td>\n",
       "    </tr>\n",
       "    <tr>\n",
       "      <th>min</th>\n",
       "      <td>0.000000</td>\n",
       "      <td>0.000000</td>\n",
       "    </tr>\n",
       "    <tr>\n",
       "      <th>25%</th>\n",
       "      <td>0.000000</td>\n",
       "      <td>1.000000</td>\n",
       "    </tr>\n",
       "    <tr>\n",
       "      <th>50%</th>\n",
       "      <td>0.000000</td>\n",
       "      <td>1.000000</td>\n",
       "    </tr>\n",
       "    <tr>\n",
       "      <th>75%</th>\n",
       "      <td>1.000000</td>\n",
       "      <td>1.000000</td>\n",
       "    </tr>\n",
       "    <tr>\n",
       "      <th>max</th>\n",
       "      <td>1.000000</td>\n",
       "      <td>1.000000</td>\n",
       "    </tr>\n",
       "  </tbody>\n",
       "</table>\n",
       "</div>"
      ],
      "text/plain": [
       "       exact_reciprocal_rank  equivalent_reciprocal_rank\n",
       "count            1000.000000                 1000.000000\n",
       "mean                0.352751                    0.964463\n",
       "std                 0.474233                    0.171387\n",
       "min                 0.000000                    0.000000\n",
       "25%                 0.000000                    1.000000\n",
       "50%                 0.000000                    1.000000\n",
       "75%                 1.000000                    1.000000\n",
       "max                 1.000000                    1.000000"
      ]
     },
     "execution_count": 42,
     "metadata": {},
     "output_type": "execute_result"
    }
   ],
   "source": [
    "Levenshtein_mrr = Levenshtein.loc[:,['x', 'exact_rank', 'equivalent_rank']]\n",
    "Levenshtein_mrr.loc[:,'exact_reciprocal_rank'] = 1/Levenshtein_mrr.loc[:, 'exact_rank']\n",
    "Levenshtein_mrr.loc[:,'equivalent_reciprocal_rank'] = 1/Levenshtein_mrr.loc[:, 'equivalent_rank']\n",
    "Levenshtein_mrr[['exact_reciprocal_rank', 'equivalent_reciprocal_rank']].describe()"
   ]
  },
  {
   "cell_type": "code",
   "execution_count": 43,
   "id": "06fc8e14",
   "metadata": {},
   "outputs": [
    {
     "data": {
      "text/plain": [
       "(inf, nan)"
      ]
     },
     "execution_count": 43,
     "metadata": {},
     "output_type": "execute_result"
    }
   ],
   "source": [
    "#get median and stdev\n",
    "Levenshtein_mrr['exact_rank'].median(), Levenshtein_mrr['exact_rank'].std()"
   ]
  },
  {
   "cell_type": "code",
   "execution_count": 44,
   "id": "98c52c98",
   "metadata": {},
   "outputs": [
    {
     "data": {
      "text/plain": [
       "(1.0, nan)"
      ]
     },
     "execution_count": 44,
     "metadata": {},
     "output_type": "execute_result"
    }
   ],
   "source": [
    "#get median and stdev\n",
    "Levenshtein_mrr['equivalent_rank'].median(), Levenshtein_mrr['equivalent_rank'].std()"
   ]
  },
  {
   "cell_type": "code",
   "execution_count": 45,
   "id": "26a668bb",
   "metadata": {},
   "outputs": [],
   "source": [
    "results.loc['Exact', 'Levenshtein'] = 1/Levenshtein_mrr.index.size  * Levenshtein_mrr['exact_reciprocal_rank'].sum()"
   ]
  },
  {
   "cell_type": "code",
   "execution_count": 46,
   "id": "0fda3e10",
   "metadata": {},
   "outputs": [],
   "source": [
    "results.loc['Equivalent', 'Levenshtein'] = 1/Levenshtein_mrr.index.size  * Levenshtein_mrr['equivalent_reciprocal_rank'].sum()"
   ]
  },
  {
   "cell_type": "markdown",
   "id": "a4ab4fa9",
   "metadata": {},
   "source": [
    "--------------------------------------"
   ]
  },
  {
   "cell_type": "markdown",
   "id": "df1e1cbd",
   "metadata": {},
   "source": [
    "# Fuzzy Gesalt Match MRR Evaluation"
   ]
  },
  {
   "cell_type": "code",
   "execution_count": 47,
   "id": "0e4c62a5",
   "metadata": {},
   "outputs": [],
   "source": [
    "Gesalt = find_Gesalt_ranks(positive_pairs.loc[:, ('x', 'y')], targets = dUnique_df, equivalence_set = equivalence_set, ranks= 20, find_related_rank=True)"
   ]
  },
  {
   "cell_type": "code",
   "execution_count": 48,
   "id": "a7c71693",
   "metadata": {},
   "outputs": [
    {
     "data": {
      "text/html": [
       "<div>\n",
       "<style scoped>\n",
       "    .dataframe tbody tr th:only-of-type {\n",
       "        vertical-align: middle;\n",
       "    }\n",
       "\n",
       "    .dataframe tbody tr th {\n",
       "        vertical-align: top;\n",
       "    }\n",
       "\n",
       "    .dataframe thead th {\n",
       "        text-align: right;\n",
       "    }\n",
       "</style>\n",
       "<table border=\"1\" class=\"dataframe\">\n",
       "  <thead>\n",
       "    <tr style=\"text-align: right;\">\n",
       "      <th></th>\n",
       "      <th>exact_reciprocal_rank</th>\n",
       "      <th>equivalent_reciprocal_rank</th>\n",
       "    </tr>\n",
       "  </thead>\n",
       "  <tbody>\n",
       "    <tr>\n",
       "      <th>count</th>\n",
       "      <td>1000.000000</td>\n",
       "      <td>1000.000000</td>\n",
       "    </tr>\n",
       "    <tr>\n",
       "      <th>mean</th>\n",
       "      <td>0.360111</td>\n",
       "      <td>0.968572</td>\n",
       "    </tr>\n",
       "    <tr>\n",
       "      <th>std</th>\n",
       "      <td>0.472111</td>\n",
       "      <td>0.160018</td>\n",
       "    </tr>\n",
       "    <tr>\n",
       "      <th>min</th>\n",
       "      <td>0.000000</td>\n",
       "      <td>0.000000</td>\n",
       "    </tr>\n",
       "    <tr>\n",
       "      <th>25%</th>\n",
       "      <td>0.000000</td>\n",
       "      <td>1.000000</td>\n",
       "    </tr>\n",
       "    <tr>\n",
       "      <th>50%</th>\n",
       "      <td>0.000000</td>\n",
       "      <td>1.000000</td>\n",
       "    </tr>\n",
       "    <tr>\n",
       "      <th>75%</th>\n",
       "      <td>1.000000</td>\n",
       "      <td>1.000000</td>\n",
       "    </tr>\n",
       "    <tr>\n",
       "      <th>max</th>\n",
       "      <td>1.000000</td>\n",
       "      <td>1.000000</td>\n",
       "    </tr>\n",
       "  </tbody>\n",
       "</table>\n",
       "</div>"
      ],
      "text/plain": [
       "       exact_reciprocal_rank  equivalent_reciprocal_rank\n",
       "count            1000.000000                 1000.000000\n",
       "mean                0.360111                    0.968572\n",
       "std                 0.472111                    0.160018\n",
       "min                 0.000000                    0.000000\n",
       "25%                 0.000000                    1.000000\n",
       "50%                 0.000000                    1.000000\n",
       "75%                 1.000000                    1.000000\n",
       "max                 1.000000                    1.000000"
      ]
     },
     "execution_count": 48,
     "metadata": {},
     "output_type": "execute_result"
    }
   ],
   "source": [
    "Gesalt_mrr = Gesalt.loc[:,['x', 'exact_rank', 'equivalent_rank']]\n",
    "Gesalt_mrr.loc[:,'exact_reciprocal_rank'] = 1/Gesalt_mrr.loc[:, 'exact_rank']\n",
    "Gesalt_mrr.loc[:,'equivalent_reciprocal_rank'] = 1/Gesalt_mrr.loc[:, 'equivalent_rank']\n",
    "Gesalt_mrr[['exact_reciprocal_rank', 'equivalent_reciprocal_rank']].describe()"
   ]
  },
  {
   "cell_type": "code",
   "execution_count": 49,
   "id": "aeeb02e9",
   "metadata": {},
   "outputs": [
    {
     "data": {
      "text/plain": [
       "(inf, nan)"
      ]
     },
     "execution_count": 49,
     "metadata": {},
     "output_type": "execute_result"
    }
   ],
   "source": [
    "#get median and stdev\n",
    "Gesalt_mrr['exact_rank'].median(), Gesalt_mrr['exact_rank'].std()"
   ]
  },
  {
   "cell_type": "code",
   "execution_count": 50,
   "id": "778fa0ba",
   "metadata": {},
   "outputs": [
    {
     "data": {
      "text/plain": [
       "(1.0, nan)"
      ]
     },
     "execution_count": 50,
     "metadata": {},
     "output_type": "execute_result"
    }
   ],
   "source": [
    "#get median and stdev\n",
    "Gesalt_mrr['equivalent_rank'].median(), Gesalt_mrr['equivalent_rank'].std()"
   ]
  },
  {
   "cell_type": "code",
   "execution_count": 51,
   "id": "a4b9cce4",
   "metadata": {},
   "outputs": [],
   "source": [
    "results.loc['Exact', 'Gesalt'] = 1/Gesalt_mrr.index.size  * Gesalt_mrr['exact_reciprocal_rank'].sum()"
   ]
  },
  {
   "cell_type": "code",
   "execution_count": 52,
   "id": "ef6320fb",
   "metadata": {},
   "outputs": [],
   "source": [
    "results.loc['Equivalent', 'Gesalt'] = 1/Gesalt_mrr.index.size  * Gesalt_mrr['equivalent_reciprocal_rank'].sum()"
   ]
  },
  {
   "cell_type": "markdown",
   "id": "6d3a4049",
   "metadata": {},
   "source": [
    "--------------------------------------"
   ]
  },
  {
   "cell_type": "code",
   "execution_count": 53,
   "id": "bef51852",
   "metadata": {},
   "outputs": [
    {
     "data": {
      "text/html": [
       "<div>\n",
       "<style scoped>\n",
       "    .dataframe tbody tr th:only-of-type {\n",
       "        vertical-align: middle;\n",
       "    }\n",
       "\n",
       "    .dataframe tbody tr th {\n",
       "        vertical-align: top;\n",
       "    }\n",
       "\n",
       "    .dataframe thead th {\n",
       "        text-align: right;\n",
       "    }\n",
       "</style>\n",
       "<table border=\"1\" class=\"dataframe\">\n",
       "  <thead>\n",
       "    <tr style=\"text-align: right;\">\n",
       "      <th></th>\n",
       "      <th>Exact</th>\n",
       "      <th>Equivalent</th>\n",
       "    </tr>\n",
       "  </thead>\n",
       "  <tbody>\n",
       "    <tr>\n",
       "      <th>Siamese model</th>\n",
       "      <td>0.16696</td>\n",
       "      <td>0.23906</td>\n",
       "    </tr>\n",
       "    <tr>\n",
       "      <th>Levenshtein</th>\n",
       "      <td>0.352751</td>\n",
       "      <td>0.964463</td>\n",
       "    </tr>\n",
       "    <tr>\n",
       "      <th>Gesalt</th>\n",
       "      <td>0.360111</td>\n",
       "      <td>0.968572</td>\n",
       "    </tr>\n",
       "  </tbody>\n",
       "</table>\n",
       "</div>"
      ],
      "text/plain": [
       "                  Exact Equivalent\n",
       "Siamese model   0.16696    0.23906\n",
       "Levenshtein    0.352751   0.964463\n",
       "Gesalt         0.360111   0.968572"
      ]
     },
     "execution_count": 53,
     "metadata": {},
     "output_type": "execute_result"
    }
   ],
   "source": [
    "results.T"
   ]
  },
  {
   "cell_type": "code",
   "execution_count": 54,
   "id": "162592c4",
   "metadata": {},
   "outputs": [
    {
     "data": {
      "image/png": "[encoded data removed]",
      "text/plain": [
       "<Figure size 432x288 with 2 Axes>"
      ]
     },
     "metadata": {
      "needs_background": "light"
     },
     "output_type": "display_data"
    }
   ],
   "source": [
    "results.T.plot.bar(rot=0, subplots=True);"
   ]
  },
  {
   "cell_type": "code",
   "execution_count": 55,
   "id": "6161b817",
   "metadata": {},
   "outputs": [
    {
     "data": {
      "text/plain": [
       "[0.16696016189692658, 0.3527507326007326, 0.3601111133749291]"
      ]
     },
     "execution_count": 55,
     "metadata": {},
     "output_type": "execute_result"
    }
   ],
   "source": [
    "results.loc[\"Exact\"].to_list()"
   ]
  },
  {
   "cell_type": "code",
   "execution_count": 56,
   "id": "939a3e64",
   "metadata": {},
   "outputs": [
    {
     "data": {
      "image/png": "[encoded data removed]",
      "text/plain": [
       "<Figure size 720x360 with 1 Axes>"
      ]
     },
     "metadata": {
      "needs_background": "light"
     },
     "output_type": "display_data"
    }
   ],
   "source": [
    "X = results.columns\n",
    "Exact = results.loc[\"Exact\"].to_list()\n",
    "Equivalent = results.loc[\"Equivalent\"].to_list()\n",
    "\n",
    "X_axis = np.arange(len(X))\n",
    "plt.figure(figsize=[10,5])\n",
    "\n",
    "plt.bar(X_axis - 0.2, Exact, 0.4, label = 'Exact')\n",
    "plt.bar(X_axis + 0.2, Equivalent, 0.4, label = 'Equivalent')\n",
    "\n",
    "plt.axhline(y=max(Equivalent), color=\"orange\", linestyle=\"--\")\n",
    "plt.axhline(y=max(Exact), color=\"blue\", linestyle=\"--\")\n",
    "    \n",
    "plt.xticks(X_axis, X)\n",
    "plt.xlabel(\"Approaches\")\n",
    "plt.ylabel(\"MRR\")\n",
    "plt.title(\"Comparison of MRR across multiple approaches\")\n",
    "plt.legend()\n",
    "plt.show()"
   ]
  },
  {
   "cell_type": "markdown",
   "id": "97a0149b",
   "metadata": {},
   "source": [
    "# Translation tests"
   ]
  },
  {
   "cell_type": "code",
   "execution_count": 57,
   "id": "197a11ca",
   "metadata": {},
   "outputs": [
    {
     "name": "stdout",
     "output_type": "stream",
     "text": [
      "<class 'pandas.core.frame.DataFrame'>\n",
      "RangeIndex: 5950 entries, 0 to 5949\n",
      "Data columns (total 1 columns):\n",
      " #   Column   Non-Null Count  Dtype \n",
      "---  ------   --------------  ----- \n",
      " 0   np_name  5950 non-null   object\n",
      "dtypes: object(1)\n",
      "memory usage: 46.6+ KB\n",
      "None\n",
      "Processing file: ----------------------------------------\n",
      "Renaming colums:\n",
      "\tCurrent names: Index(['np_name'], dtype='object')\n",
      "\tNew names: Index(['x'], dtype='object')\n",
      "Dropping row with empty cells:\n",
      "\tDropped 0 rows with empty cells.\n",
      "\tCleaning string sequences.\n",
      "\tUppercasing string sequences.\n",
      "Dropping sequences longer than the maxlen of 65:\n",
      "\tDropped 1 that exceeded the maximum sequence length.\n",
      "Dropping duplicate sequences:\n",
      "\tDropped 35 duplicate sequences.\n",
      "Done processing: ---------------------------------------\n",
      "<class 'pandas.core.frame.DataFrame'>\n",
      "RangeIndex: 5914 entries, 0 to 5913\n",
      "Data columns (total 1 columns):\n",
      " #   Column  Non-Null Count  Dtype \n",
      "---  ------  --------------  ----- \n",
      " 0   x       5914 non-null   object\n",
      "dtypes: object(1)\n",
      "memory usage: 46.3+ KB\n",
      "None\n"
     ]
    }
   ],
   "source": [
    "translation = '../data/translation_test_nps_202203171038.csv'\n",
    "translation_set = preprocessInput(translation, maxlen = MAXLEN, balance= False, reflexive = False)"
   ]
  },
  {
   "cell_type": "code",
   "execution_count": 58,
   "id": "192c7037",
   "metadata": {},
   "outputs": [
    {
     "data": {
      "text/html": [
       "<div>\n",
       "<style scoped>\n",
       "    .dataframe tbody tr th:only-of-type {\n",
       "        vertical-align: middle;\n",
       "    }\n",
       "\n",
       "    .dataframe tbody tr th {\n",
       "        vertical-align: top;\n",
       "    }\n",
       "\n",
       "    .dataframe thead th {\n",
       "        text-align: right;\n",
       "    }\n",
       "</style>\n",
       "<table border=\"1\" class=\"dataframe\">\n",
       "  <thead>\n",
       "    <tr style=\"text-align: right;\">\n",
       "      <th></th>\n",
       "      <th>x</th>\n",
       "    </tr>\n",
       "  </thead>\n",
       "  <tbody>\n",
       "    <tr>\n",
       "      <th>0</th>\n",
       "      <td>XTNNP</td>\n",
       "    </tr>\n",
       "    <tr>\n",
       "      <th>1</th>\n",
       "      <td>NWLMKV</td>\n",
       "    </tr>\n",
       "    <tr>\n",
       "      <th>2</th>\n",
       "      <td>WZMFCEA</td>\n",
       "    </tr>\n",
       "    <tr>\n",
       "      <th>3</th>\n",
       "      <td>AARONSROD</td>\n",
       "    </tr>\n",
       "    <tr>\n",
       "      <th>4</th>\n",
       "      <td>AARONS ROD WHOLE</td>\n",
       "    </tr>\n",
       "  </tbody>\n",
       "</table>\n",
       "</div>"
      ],
      "text/plain": [
       "                  x\n",
       "0             XTNNP\n",
       "1            NWLMKV\n",
       "2           WZMFCEA\n",
       "3         AARONSROD\n",
       "4  AARONS ROD WHOLE"
      ]
     },
     "execution_count": 58,
     "metadata": {},
     "output_type": "execute_result"
    }
   ],
   "source": [
    "translation_set.head()"
   ]
  },
  {
   "cell_type": "code",
   "execution_count": 59,
   "id": "d9311f27",
   "metadata": {},
   "outputs": [
    {
     "name": "stdout",
     "output_type": "stream",
     "text": [
      "Encoding and Padding: ----------------------------------\n",
      "\tProcessing x\n",
      "Tagging: -----------------------------------------------\n"
     ]
    },
    {
     "data": {
      "text/html": [
       "<div>\n",
       "<style scoped>\n",
       "    .dataframe tbody tr th:only-of-type {\n",
       "        vertical-align: middle;\n",
       "    }\n",
       "\n",
       "    .dataframe tbody tr th {\n",
       "        vertical-align: top;\n",
       "    }\n",
       "\n",
       "    .dataframe thead th {\n",
       "        text-align: right;\n",
       "    }\n",
       "</style>\n",
       "<table border=\"1\" class=\"dataframe\">\n",
       "  <thead>\n",
       "    <tr style=\"text-align: right;\">\n",
       "      <th></th>\n",
       "      <th>x</th>\n",
       "      <th>Processed_x</th>\n",
       "      <th>Match</th>\n",
       "      <th>Distance</th>\n",
       "    </tr>\n",
       "  </thead>\n",
       "  <tbody>\n",
       "    <tr>\n",
       "      <th>0</th>\n",
       "      <td>XTNNP</td>\n",
       "      <td>[24, 20, 14, 14, 16, 0, 0, 0, 0, 0, 0, 0, 0, 0...</td>\n",
       "      <td>1</td>\n",
       "      <td>0</td>\n",
       "    </tr>\n",
       "    <tr>\n",
       "      <th>1</th>\n",
       "      <td>NWLMKV</td>\n",
       "      <td>[14, 23, 12, 13, 11, 22, 0, 0, 0, 0, 0, 0, 0, ...</td>\n",
       "      <td>1</td>\n",
       "      <td>0</td>\n",
       "    </tr>\n",
       "    <tr>\n",
       "      <th>2</th>\n",
       "      <td>WZMFCEA</td>\n",
       "      <td>[23, 26, 13, 6, 3, 5, 1, 0, 0, 0, 0, 0, 0, 0, ...</td>\n",
       "      <td>1</td>\n",
       "      <td>0</td>\n",
       "    </tr>\n",
       "    <tr>\n",
       "      <th>3</th>\n",
       "      <td>AARONSROD</td>\n",
       "      <td>[1, 1, 18, 15, 14, 19, 18, 15, 4, 0, 0, 0, 0, ...</td>\n",
       "      <td>1</td>\n",
       "      <td>0</td>\n",
       "    </tr>\n",
       "    <tr>\n",
       "      <th>4</th>\n",
       "      <td>AARONS ROD WHOLE</td>\n",
       "      <td>[1, 1, 18, 15, 14, 19, 27, 18, 15, 4, 27, 23, ...</td>\n",
       "      <td>1</td>\n",
       "      <td>0</td>\n",
       "    </tr>\n",
       "    <tr>\n",
       "      <th>...</th>\n",
       "      <td>...</td>\n",
       "      <td>...</td>\n",
       "      <td>...</td>\n",
       "      <td>...</td>\n",
       "    </tr>\n",
       "    <tr>\n",
       "      <th>5909</th>\n",
       "      <td>ZINGIBER ZINGIBER WHOLE</td>\n",
       "      <td>[26, 9, 14, 7, 9, 2, 5, 18, 27, 26, 9, 14, 7, ...</td>\n",
       "      <td>1</td>\n",
       "      <td>0</td>\n",
       "    </tr>\n",
       "    <tr>\n",
       "      <th>5910</th>\n",
       "      <td>ZYGAENA ERYTHRAEA WHOLE</td>\n",
       "      <td>[26, 25, 7, 1, 5, 14, 1, 27, 5, 18, 25, 20, 8,...</td>\n",
       "      <td>1</td>\n",
       "      <td>0</td>\n",
       "    </tr>\n",
       "    <tr>\n",
       "      <th>5911</th>\n",
       "      <td>ZYGAENA INDICA WHOLE</td>\n",
       "      <td>[26, 25, 7, 1, 5, 14, 1, 27, 9, 14, 4, 9, 3, 1...</td>\n",
       "      <td>1</td>\n",
       "      <td>0</td>\n",
       "    </tr>\n",
       "    <tr>\n",
       "      <th>5912</th>\n",
       "      <td>ZYGAENA LEWINI WHOLE</td>\n",
       "      <td>[26, 25, 7, 1, 5, 14, 1, 27, 12, 5, 23, 9, 14,...</td>\n",
       "      <td>1</td>\n",
       "      <td>0</td>\n",
       "    </tr>\n",
       "    <tr>\n",
       "      <th>5913</th>\n",
       "      <td>ZYGAENA MALLEUS WHOLE</td>\n",
       "      <td>[26, 25, 7, 1, 5, 14, 1, 27, 13, 1, 12, 12, 5,...</td>\n",
       "      <td>1</td>\n",
       "      <td>0</td>\n",
       "    </tr>\n",
       "  </tbody>\n",
       "</table>\n",
       "<p>5914 rows × 4 columns</p>\n",
       "</div>"
      ],
      "text/plain": [
       "                            x  \\\n",
       "0                       XTNNP   \n",
       "1                      NWLMKV   \n",
       "2                     WZMFCEA   \n",
       "3                   AARONSROD   \n",
       "4            AARONS ROD WHOLE   \n",
       "...                       ...   \n",
       "5909  ZINGIBER ZINGIBER WHOLE   \n",
       "5910  ZYGAENA ERYTHRAEA WHOLE   \n",
       "5911     ZYGAENA INDICA WHOLE   \n",
       "5912     ZYGAENA LEWINI WHOLE   \n",
       "5913    ZYGAENA MALLEUS WHOLE   \n",
       "\n",
       "                                            Processed_x  Match  Distance  \n",
       "0     [24, 20, 14, 14, 16, 0, 0, 0, 0, 0, 0, 0, 0, 0...      1         0  \n",
       "1     [14, 23, 12, 13, 11, 22, 0, 0, 0, 0, 0, 0, 0, ...      1         0  \n",
       "2     [23, 26, 13, 6, 3, 5, 1, 0, 0, 0, 0, 0, 0, 0, ...      1         0  \n",
       "3     [1, 1, 18, 15, 14, 19, 18, 15, 4, 0, 0, 0, 0, ...      1         0  \n",
       "4     [1, 1, 18, 15, 14, 19, 27, 18, 15, 4, 27, 23, ...      1         0  \n",
       "...                                                 ...    ...       ...  \n",
       "5909  [26, 9, 14, 7, 9, 2, 5, 18, 27, 26, 9, 14, 7, ...      1         0  \n",
       "5910  [26, 25, 7, 1, 5, 14, 1, 27, 5, 18, 25, 20, 8,...      1         0  \n",
       "5911  [26, 25, 7, 1, 5, 14, 1, 27, 9, 14, 4, 9, 3, 1...      1         0  \n",
       "5912  [26, 25, 7, 1, 5, 14, 1, 27, 12, 5, 23, 9, 14,...      1         0  \n",
       "5913  [26, 25, 7, 1, 5, 14, 1, 27, 13, 1, 12, 12, 5,...      1         0  \n",
       "\n",
       "[5914 rows x 4 columns]"
      ]
     },
     "execution_count": 59,
     "metadata": {},
     "output_type": "execute_result"
    }
   ],
   "source": [
    "encode_pad_tag(translation_set, 1, 0, MAXLEN)"
   ]
  },
  {
   "cell_type": "code",
   "execution_count": 60,
   "id": "cc913215",
   "metadata": {},
   "outputs": [
    {
     "ename": "NameError",
     "evalue": "name 'find_ranks' is not defined",
     "output_type": "error",
     "traceback": [
      "\u001b[0;31m---------------------------------------------------------------------------\u001b[0m",
      "\u001b[0;31mNameError\u001b[0m                                 Traceback (most recent call last)",
      "Input \u001b[0;32mIn [60]\u001b[0m, in \u001b[0;36m<cell line: 1>\u001b[0;34m()\u001b[0m\n\u001b[0;32m----> 1\u001b[0m novelty \u001b[38;5;241m=\u001b[39m \u001b[43mfind_ranks\u001b[49m(model, translation_set\u001b[38;5;241m.\u001b[39msample(n\u001b[38;5;241m=\u001b[39m\u001b[38;5;241m10\u001b[39m), ranks\u001b[38;5;241m=\u001b[39m\u001b[38;5;241m10\u001b[39m, find_related_rank\u001b[38;5;241m=\u001b[39m \u001b[38;5;28;01mFalse\u001b[39;00m, report_distances\u001b[38;5;241m=\u001b[39m\u001b[38;5;28;01mFalse\u001b[39;00m)\n",
      "\u001b[0;31mNameError\u001b[0m: name 'find_ranks' is not defined"
     ]
    }
   ],
   "source": [
    "novelty = find_ranks(model, translation_set.sample(n=10), ranks=10, find_related_rank= False, report_distances=False)"
   ]
  },
  {
   "cell_type": "code",
   "execution_count": null,
   "id": "be6ddfaa",
   "metadata": {},
   "outputs": [],
   "source": [
    "novelty.sample(10)"
   ]
  },
  {
   "cell_type": "code",
   "execution_count": null,
   "id": "8bf90765",
   "metadata": {},
   "outputs": [],
   "source": [
    "# test[\"Processed_np_name\"] = test.np_name.apply(clean).apply(encode).apply(padding)"
   ]
  },
  {
   "cell_type": "code",
   "execution_count": null,
   "id": "da48bed4",
   "metadata": {},
   "outputs": [],
   "source": [
    "# test = preprocessInput(unmapped, converters = {\"drug_name_original\":str}, skip_blank_lines=True, na_filter=True, na_values=\"\")\n",
    "# test[\"Processed_drug_name_original\"] = test[test.columns[0]].apply(clean).apply(encode).apply(padding)"
   ]
  }
 ],
 "metadata": {
  "kernelspec": {
   "display_name": "Python 3 (ipykernel)",
   "language": "python",
   "name": "python3"
  },
  "language_info": {
   "codemirror_mode": {
    "name": "ipython",
    "version": 3
   },
   "file_extension": ".py",
   "mimetype": "text/x-python",
   "name": "python",
   "nbconvert_exporter": "python",
   "pygments_lexer": "ipython3",
   "version": "3.10.5"
  }
 },
 "nbformat": 4,
 "nbformat_minor": 5
}
