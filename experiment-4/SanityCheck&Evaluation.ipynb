{
 "cells": [
  {
   "cell_type": "markdown",
   "id": "6af2f21c",
   "metadata": {},
   "source": [
    "# Imports & Globals"
   ]
  },
  {
   "cell_type": "code",
   "execution_count": 1,
   "id": "cc0b993f",
   "metadata": {},
   "outputs": [],
   "source": [
    "import numpy as np\n",
    "import pandas as pd\n",
    "import pickle\n",
    "from yaml import safe_load\n",
    "from difflib import get_close_matches\n",
    "from rapidfuzz.distance import Levenshtein\n",
    "\n",
    "import re\n",
    "import string\n",
    "from typing import Literal\n",
    "\n",
    "import matplotlib.pyplot as plt\n",
    "#import seaborn as sns\n",
    "%matplotlib inline"
   ]
  },
  {
   "cell_type": "code",
   "execution_count": 2,
   "id": "98531174",
   "metadata": {},
   "outputs": [
    {
     "name": "stdout",
     "output_type": "stream",
     "text": [
      "tf.version:  2.9.1\n",
      "tf.keras.version:  2.9.0\n",
      "tf.config.devices:  [PhysicalDevice(name='/physical_device:CPU:0', device_type='CPU'), PhysicalDevice(name='/physical_device:GPU:0', device_type='GPU')]\n"
     ]
    },
    {
     "name": "stderr",
     "output_type": "stream",
     "text": [
      "2022-08-30 20:31:17.183504: I tensorflow/stream_executor/cuda/cuda_gpu_executor.cc:975] successful NUMA node read from SysFS had negative value (-1), but there must be at least one NUMA node, so returning NUMA node zero\n",
      "2022-08-30 20:31:17.207370: I tensorflow/stream_executor/cuda/cuda_gpu_executor.cc:975] successful NUMA node read from SysFS had negative value (-1), but there must be at least one NUMA node, so returning NUMA node zero\n",
      "2022-08-30 20:31:17.207531: I tensorflow/stream_executor/cuda/cuda_gpu_executor.cc:975] successful NUMA node read from SysFS had negative value (-1), but there must be at least one NUMA node, so returning NUMA node zero\n"
     ]
    }
   ],
   "source": [
    "import tensorflow as tf\n",
    "print(\"tf.version: \", tf.version.VERSION)\n",
    "print(\"tf.keras.version: \", tf.keras.__version__)\n",
    "print(\"tf.config.devices: \", tf.config.list_physical_devices())"
   ]
  },
  {
   "cell_type": "code",
   "execution_count": 3,
   "id": "358a3770",
   "metadata": {},
   "outputs": [],
   "source": [
    "# from tensorflow.python.ops.numpy_ops import np_config\n",
    "# np_config.enable_numpy_behavior()\n",
    "# tf.enable_eager_execution()"
   ]
  },
  {
   "cell_type": "code",
   "execution_count": 4,
   "id": "c2e4189f",
   "metadata": {},
   "outputs": [
    {
     "name": "stderr",
     "output_type": "stream",
     "text": [
      "2022-08-30 20:31:17.224800: I tensorflow/core/platform/cpu_feature_guard.cc:193] This TensorFlow binary is optimized with oneAPI Deep Neural Network Library (oneDNN) to use the following CPU instructions in performance-critical operations:  SSE4.1 SSE4.2 AVX AVX2 FMA\n",
      "To enable them in other operations, rebuild TensorFlow with the appropriate compiler flags.\n",
      "2022-08-30 20:31:17.225418: I tensorflow/stream_executor/cuda/cuda_gpu_executor.cc:975] successful NUMA node read from SysFS had negative value (-1), but there must be at least one NUMA node, so returning NUMA node zero\n",
      "2022-08-30 20:31:17.225643: I tensorflow/stream_executor/cuda/cuda_gpu_executor.cc:975] successful NUMA node read from SysFS had negative value (-1), but there must be at least one NUMA node, so returning NUMA node zero\n",
      "2022-08-30 20:31:17.225767: I tensorflow/stream_executor/cuda/cuda_gpu_executor.cc:975] successful NUMA node read from SysFS had negative value (-1), but there must be at least one NUMA node, so returning NUMA node zero\n",
      "2022-08-30 20:31:17.609632: I tensorflow/stream_executor/cuda/cuda_gpu_executor.cc:975] successful NUMA node read from SysFS had negative value (-1), but there must be at least one NUMA node, so returning NUMA node zero\n",
      "2022-08-30 20:31:17.609791: I tensorflow/stream_executor/cuda/cuda_gpu_executor.cc:975] successful NUMA node read from SysFS had negative value (-1), but there must be at least one NUMA node, so returning NUMA node zero\n",
      "2022-08-30 20:31:17.609901: I tensorflow/stream_executor/cuda/cuda_gpu_executor.cc:975] successful NUMA node read from SysFS had negative value (-1), but there must be at least one NUMA node, so returning NUMA node zero\n",
      "2022-08-30 20:31:17.609987: I tensorflow/core/common_runtime/gpu/gpu_device.cc:1532] Created device /device:GPU:0 with 6650 MB memory:  -> device: 0, name: NVIDIA GeForce RTX 2070 with Max-Q Design, pci bus id: 0000:01:00.0, compute capability: 7.5\n"
     ]
    }
   ],
   "source": [
    "# Check that GPU is available: cf. https://colab.research.google.com/notebooks/gpu.ipynb\n",
    "assert(tf.test.gpu_device_name())\n",
    "\n",
    "tf.keras.backend.clear_session()\n",
    "tf.config.optimizer.set_jit(True) # Enable XLA."
   ]
  },
  {
   "cell_type": "code",
   "execution_count": 5,
   "id": "090cfeb2",
   "metadata": {},
   "outputs": [
    {
     "data": {
      "text/plain": [
       "True"
      ]
     },
     "execution_count": 5,
     "metadata": {},
     "output_type": "execute_result"
    }
   ],
   "source": [
    "tf.executing_eagerly()"
   ]
  },
  {
   "cell_type": "code",
   "execution_count": 6,
   "id": "d0a21748",
   "metadata": {},
   "outputs": [],
   "source": [
    "with open('LSTM65.yaml', 'r') as file:\n",
    "    model_config = safe_load(file)"
   ]
  },
  {
   "cell_type": "code",
   "execution_count": 7,
   "id": "77bf5508",
   "metadata": {},
   "outputs": [],
   "source": [
    "#Maximum sequence length including padding\n",
    "global MAXLEN\n",
    "MAXLEN = model_config['MAXLEN']"
   ]
  },
  {
   "cell_type": "code",
   "execution_count": 8,
   "id": "a8ac8644",
   "metadata": {},
   "outputs": [],
   "source": [
    "global encode_dict \n",
    "encode_dict = {l:i for i,l in enumerate(string.ascii_uppercase + \" \", 1)}"
   ]
  },
  {
   "cell_type": "markdown",
   "id": "4d07e995",
   "metadata": {},
   "source": [
    "## Data Processing Functions"
   ]
  },
  {
   "cell_type": "code",
   "execution_count": 9,
   "id": "e38610fa",
   "metadata": {},
   "outputs": [],
   "source": [
    "def add_noise(w: str, percent: float = 0.1) -> str:\n",
    "    ''' Adds a specified proportion of noise to a string.\n",
    "    \n",
    "    Expects a string and a number stating the percent of noise to add to this string.\n",
    "    The string is modified by editing, deleting, or adding characters in/to the string.\n",
    "    The modification to perform is determined randomly by generating a random number from an uniform distribution [0,1].\n",
    "    If the number is < 1/3 edit one position with new random character or space.\n",
    "    If the number is < 2/3 delete one position.\n",
    "    Finally, if the number is > 2/3 add one random character or space.\n",
    "    \n",
    "    In order to retain the length of the sequence compliant with the maximum sequence length,\n",
    "    additional processing has been added such that sequences that reach the maximum sequence length\n",
    "    can only be modified by removing or swapping characters.\n",
    "    \n",
    "    Parameters\n",
    "    ----------\n",
    "    w : str\n",
    "        The string to add noise to.\n",
    "    \n",
    "    percent: float, defaults to 10% if not specified\n",
    "        Percentange representing the proportion of noise to add to the string.\n",
    "        \n",
    "    Returns\n",
    "    -------\n",
    "    w : str\n",
    "        Modified string with noise added.\n",
    "    '''  \n",
    "    positions = random.choices(range(len(w)), k=int(percent*len(w)))\n",
    "#     print(\"Adding noise to\", int(percent*len(w)), \"% of the string\")\n",
    "    for p in positions:\n",
    "        r = random.uniform(0,1)\n",
    "        if len(w) < MAXLEN:\n",
    "            # if <1/3 edit one position with new random character, # else if <2/3 delete one position, else add one random character \n",
    "            if r <= 0.3333: # edit\n",
    "                w = w[:p] + random.choice(string.ascii_uppercase + \" \") + w[p+1:]\n",
    "            elif r<= 0.6667: # delete\n",
    "                w = w[:p] + w[p+1:]\n",
    "            else: # add\n",
    "                w = w[:p] + random.choice(string.ascii_uppercase + \" \") + w[p:]\n",
    "        else:\n",
    "            if r <= 0.5: # edit\n",
    "                w = w[:p] + random.choice(string.ascii_uppercase + \" \") + w[p+1:]\n",
    "            else: # delete\n",
    "                w = w[:p] + w[p+1:]\n",
    "            \n",
    "    return w"
   ]
  },
  {
   "cell_type": "code",
   "execution_count": 10,
   "id": "c5e9e0dc",
   "metadata": {},
   "outputs": [],
   "source": [
    "def clean(text: str) -> str:\n",
    "    '''Removes all the non-ascii and special characters from a string and returns the string's alphabetichal characters with spaces.\n",
    "    \n",
    "    Expects a string to be cleaned and removes all the non-ascii and special characters. \n",
    "    This is done by applying a substitution to regex matches\n",
    "    Returns the cleaned string containing uppercased versions of the characters.\n",
    "    \n",
    "    Parameters\n",
    "    ----------\n",
    "    text : str\n",
    "        \n",
    "    Returns\n",
    "    -------\n",
    "    text : str\n",
    "    '''\n",
    "    regex = re.compile('[^a-zA-Z ]')\n",
    "    r = regex.sub('', text)\n",
    "    result = re.sub(' +', ' ', r)\n",
    "    result = result.strip()\n",
    "    return result.upper()"
   ]
  },
  {
   "cell_type": "code",
   "execution_count": 11,
   "id": "da17e429",
   "metadata": {},
   "outputs": [],
   "source": [
    "def encode(x: string) -> [int]:\n",
    "    '''Applies the encoding function to a given value.\n",
    "    \n",
    "    Returns these string enconded into an array containing an integer mapping to each character and space (1-66) separately.\n",
    "    \n",
    "    Parameters\n",
    "    ----------\n",
    "    x : string\n",
    "        \n",
    "      \n",
    "    Returns\n",
    "    -------\n",
    "    x : [int]\n",
    "        Returns the encoded string.\n",
    "\n",
    "    '''\n",
    "    return list(map(encode_dict.get, x))"
   ]
  },
  {
   "cell_type": "code",
   "execution_count": 12,
   "id": "229e70ea",
   "metadata": {},
   "outputs": [],
   "source": [
    "def padding(x: [int], maxlen: int = MAXLEN) -> [int]:\n",
    "    '''Applies the padding function to the encoded sequence.\n",
    "    \n",
    "    Returns the enconded Series padded.\n",
    "    \n",
    "    Parameters\n",
    "    ----------\n",
    "    x : [int]\n",
    "       Encoded character sequence.\n",
    "      \n",
    "    Returns\n",
    "    -------\n",
    "    x : [int]\n",
    "        Returns the padded encoded character sequence.\n",
    "    '''\n",
    "    return x + ([0]* (maxlen-len(x)))"
   ]
  },
  {
   "cell_type": "code",
   "execution_count": 13,
   "id": "0f3e5b3c",
   "metadata": {},
   "outputs": [],
   "source": [
    "def preprocessInput(filename: str, maxlen: int = MAXLEN, **kwargs) -> pd.DataFrame:\n",
    "    '''Preprocess CSV file into a Pandas DataFrame.\n",
    "    \n",
    "    Expects the file name or path of a csv file with named columns containing strings representing product names.\n",
    "    It then removes the sequences with length greater than the maximun sequence length, cleans the sequences and\n",
    "    uppercases them, and it finally drops any duplicates that might have arrisen from this processing.\n",
    "    Returns a Pandas Dataframe containing unique cleaned and uppercased versions of the strings on each cell.\n",
    "    \n",
    "    Parameters\n",
    "    ----------\n",
    "    filename : str\n",
    "        \n",
    "    Returns\n",
    "    -------\n",
    "    df : Pandas DataFrame\n",
    "    '''  \n",
    "    df = pd.read_csv(filename, **kwargs)\n",
    "    print(df.info())\n",
    "    \n",
    "    \n",
    "    print(\"Processing file: ----------------------------------------\")\n",
    "    \n",
    "    print(\"Renaming colums:\")\n",
    "    print(\"\\tCurrent names: {}\".format(df.columns))\n",
    "    cols = df.columns.size\n",
    "    match cols:\n",
    "        case 1: \n",
    "            df.columns = [\"x\"]\n",
    "        case 2:\n",
    "            df.columns = [\"x\", \"y\"]\n",
    "    print(\"\\tNew names: {}\".format(df.columns))\n",
    "    \n",
    "    original_count = len(df.index)\n",
    "    print(\"Dropping row with empty cells:\")\n",
    "    df.dropna(subset=df.columns, inplace=True)\n",
    "    new_count = len(df.index)\n",
    "    print(\"\\tDropped\", original_count - new_count, \"rows with empty cells.\")\n",
    "    \n",
    "    original_count = len(df.index)\n",
    "    print(\"Dropping sequences longer than the maxlen of {}:\".format(maxlen))\n",
    "    for column in df.columns:\n",
    "        df.drop(df[df[column].apply(len).gt(maxlen)].index, inplace = True)\n",
    "    new_count = len(df.index)\n",
    "    print(\"\\tDropped\", original_count - new_count, \"that exceeded the maximum sequence length.\")\n",
    "    \n",
    "    print(\"\\tCleaning string sequences.\")\n",
    "    df = df.applymap(clean)\n",
    "    \n",
    "    print(\"\\tUppercasing string sequences.\")\n",
    "    df = df.applymap(lambda x: str.upper(x))\n",
    "    \n",
    "    print(\"Dropping duplicate sequences:\")\n",
    "    original_count = len(df.index)\n",
    "    df.drop_duplicates(ignore_index=True, inplace=True)\n",
    "    new_count = len(df.index)\n",
    "    print(\"\\tDropped\", original_count - new_count, \"duplicate sequences.\")\n",
    "    \n",
    "    print(\"Done processing: ---------------------------------------\")\n",
    "    print(df.info())\n",
    "    return df"
   ]
  },
  {
   "cell_type": "code",
   "execution_count": 14,
   "id": "57b5e18c",
   "metadata": {},
   "outputs": [],
   "source": [
    "def encode_pad_tag(df: pd.DataFrame, match: Literal[0,1], distance: Literal[0,1], maxlen: int = MAXLEN) -> pd.DataFrame:\n",
    "    '''It encodes, pads and tags the preprocessed sequences in a Pandas DataFrame.\n",
    "    \n",
    "    Expects a pandas dataframe with cleaned and uppercased sequences. It processes the \n",
    "    the DataFrame by creating an additional 'Processed_' + current column name for each\n",
    "    of the columns in the data frame, where each of the sequences in the column get \n",
    "    transformed from a string sequence to an encoded sequence and then transformed again \n",
    "    by padding the encoded sequences up to the maximun sequence length by 0's as needed. \n",
    "    The tag component 1 \n",
    "    Finally, this function returns this dataframe with both the original and processed columns.\n",
    "    \n",
    "    Parameters\n",
    "    ----------\n",
    "    df : pd.DataFrame\n",
    "        DataFrame containing sequences.\n",
    "    \n",
    "    match: Literal[0 | 1]\n",
    "        Tag indicating wether sequences match 1 indicates 'yes' and 0 indicates 'no'.\n",
    "        \n",
    "    distance: Literal[0 | 1]\n",
    "        Distance between sequences, 1 indicates 'far' and 0 indicates 'close'. \n",
    "        \n",
    "    maxlen: int\n",
    "        Dafault to global MAXLEN value. It's used to determine the ammount of padding to add\n",
    "        to sequences smaller than maxlen.\n",
    "        \n",
    "    Returns\n",
    "    -------\n",
    "    df : Pandas DataFrame\n",
    "        A copy of the origininal DataFrame with the processed sequences added as new columns.\n",
    "    '''  \n",
    "    print(\"Encoding and Padding: ----------------------------------\")\n",
    "    for column in df.columns:\n",
    "        print(\"\\tProcessing {}\".format(column))\n",
    "        df[\"Processed_\" + column] = df[column].apply(lambda string: list(map(encode_dict.get, string))).transform(lambda x: x + ([0]* (maxlen-len(x))))\n",
    "    print(\"Tagging: -----------------------------------------------\")\n",
    "    df[\"Match\"] = match\n",
    "    df[\"Distance\"] = distance\n",
    "    return df"
   ]
  },
  {
   "cell_type": "markdown",
   "id": "dab15102",
   "metadata": {},
   "source": [
    "------------------------------------------------"
   ]
  },
  {
   "cell_type": "markdown",
   "id": "193e520b",
   "metadata": {},
   "source": [
    "# Data loading and preprocessing"
   ]
  },
  {
   "cell_type": "markdown",
   "id": "34891f72",
   "metadata": {},
   "source": [
    "# Pickled Datasets"
   ]
  },
  {
   "cell_type": "code",
   "execution_count": 15,
   "id": "99073085",
   "metadata": {},
   "outputs": [],
   "source": [
    "dUnique_df = pd.read_pickle(\"../data/dUnique_df.pkl\")\n",
    "dfneg2 = pd.read_pickle(\"../data/dfneg2.pkl\")\n",
    "test = pd.read_pickle(\"../data/test.pkl\")\n",
    "validate = pd.read_pickle(\"../data/validate.pkl\")"
   ]
  },
  {
   "cell_type": "markdown",
   "id": "ffdcd664",
   "metadata": {},
   "source": [
    "--------------------------------"
   ]
  },
  {
   "cell_type": "markdown",
   "id": "b7e10db6",
   "metadata": {},
   "source": [
    "# Build model, load weights and evaluate on test data"
   ]
  },
  {
   "cell_type": "code",
   "execution_count": 16,
   "id": "8da6f44b",
   "metadata": {},
   "outputs": [],
   "source": [
    "class CosineSimilarity(tf.keras.layers.Layer):\n",
    "    '''Cosine similarity to be calculated as sum(x*y)/(sqrt(sum(x))*sqrt(sum(y))).\n",
    "    This is achieved through Tensorflow functions to retain performance.\n",
    "    \n",
    "    Parameters\n",
    "    ----------\n",
    "    vects: tf.TensorArray\n",
    "    \n",
    "    Returns\n",
    "    -------\n",
    "    cosine_similarity: tf.TensorArray\n",
    "       The result of the cosine similarity between the vectors.    \n",
    "    '''\n",
    "    __name__ = 'CosineSimilarity'\n",
    "    def __init__(self, **kwargs):\n",
    "        super(CosineSimilarity, self).__init__()\n",
    "       \n",
    "    @tf.function  # The decorator converts `cosine_similarity` into a tensolflow `Function`.\n",
    "    def call(self, vects: tf.TensorArray) -> tf.TensorArray:\n",
    "        x, y = vects\n",
    "        return tf.math.divide(tf.reduce_sum(tf.multiply(x,y), axis=1, keepdims=True), tf.multiply(tf.norm(x, ord=2, axis=1, keepdims=True), tf.norm(y, ord=2, axis=1, keepdims=True)))\n",
    "\n",
    "    def get_config(self):\n",
    "        return super(CosineSimilarity, self).get_config()\n",
    "    \n",
    "    @classmethod\n",
    "    def from_config(cls, config):\n",
    "        return cls(**config)"
   ]
  },
  {
   "cell_type": "code",
   "execution_count": 17,
   "id": "ba609745",
   "metadata": {},
   "outputs": [],
   "source": [
    "class CosineDistance(tf.keras.layers.Layer):\n",
    "    '''Cosine distance to be calculated as 1-(cosine similarity).\n",
    "    Where cosine similarity equals sum(x*y)/(sqrt(sum(x))*sqrt(sum(y))).\n",
    "    This is achieved through Tensorflow functions to retain performance.\n",
    "    \n",
    "    Parameters\n",
    "    ----------\n",
    "    vects: tf.TensorArray\n",
    "        \n",
    "    \n",
    "    Returns\n",
    "    -------\n",
    "    cosine_distance: tf.TensorArray\n",
    "        The result of 1-cosine similarity between the vectors. \n",
    "    '''\n",
    "    __name__ = 'CosineDistance'\n",
    "    def __init__(self, **kwargs):\n",
    "        super(CosineDistance, self).__init__()\n",
    "       \n",
    "    @tf.function  # The decorator converts `cosine_distance` into a tensorflow `Function`.\n",
    "    def call(self, vects: tf.TensorArray) -> tf.TensorArray:\n",
    "        x, y = vects\n",
    "        return  tf.math.subtract(tf.constant([1.0]), tf.math.divide(tf.reduce_sum(tf.multiply(x,y), axis=1, keepdims=True), tf.multiply(tf.norm(x, ord=2, axis=1, keepdims=True), tf.norm(y, ord=2, axis=1, keepdims=True))))\n",
    "\n",
    "    def get_config(self):\n",
    "        return super(CosineDistance, self).get_config()\n",
    "    \n",
    "    @classmethod\n",
    "    def from_config(cls, config):\n",
    "        return cls(**config)"
   ]
  },
  {
   "cell_type": "code",
   "execution_count": 18,
   "id": "a90470b6",
   "metadata": {},
   "outputs": [],
   "source": [
    "class ContrastiveLoss(tf.keras.losses.Loss):\n",
    "    '''Returns a value between 0 and 1 representing the average error of the y_pred vector by comparing it to the y_true.\n",
    "    '''\n",
    "    __name__ = 'ContrastiveLoss'\n",
    "    def __init__(self, margin: tf.float32 = 1.0, **kwargs):\n",
    "        super(ContrastiveLoss, self).__init__()\n",
    "        self.margin = tf.constant(margin)\n",
    "        \n",
    "    @tf.function  # The decorator converts `loss` into a tensolflow `Function`.\n",
    "    def call(self, y_true: tf.TensorArray, y_pred: tf.TensorArray) -> tf.Tensor:\n",
    "        return tf.math.reduce_mean((1 - y_true) * tf.math.square(y_pred) + (y_true) * tf.math.square(tf.math.maximum(self.margin - (y_pred), 0.0)), axis = -1)\n",
    "    \n",
    "    def get_config(self):\n",
    "        config = super(ContrastiveLoss, self).get_config()\n",
    "        config.update({\n",
    "            \"margin\": str(self.margin)\n",
    "        })\n",
    "        return config\n",
    "    \n",
    "    @classmethod\n",
    "    def from_config(cls, config):\n",
    "        return cls(**config)"
   ]
  },
  {
   "cell_type": "code",
   "execution_count": 19,
   "id": "dd19e241",
   "metadata": {},
   "outputs": [
    {
     "name": "stderr",
     "output_type": "stream",
     "text": [
      "2022-08-30 20:31:17.908059: I tensorflow/stream_executor/cuda/cuda_gpu_executor.cc:975] successful NUMA node read from SysFS had negative value (-1), but there must be at least one NUMA node, so returning NUMA node zero\n",
      "2022-08-30 20:31:17.908245: I tensorflow/stream_executor/cuda/cuda_gpu_executor.cc:975] successful NUMA node read from SysFS had negative value (-1), but there must be at least one NUMA node, so returning NUMA node zero\n",
      "2022-08-30 20:31:17.908350: I tensorflow/stream_executor/cuda/cuda_gpu_executor.cc:975] successful NUMA node read from SysFS had negative value (-1), but there must be at least one NUMA node, so returning NUMA node zero\n",
      "2022-08-30 20:31:17.908483: I tensorflow/stream_executor/cuda/cuda_gpu_executor.cc:975] successful NUMA node read from SysFS had negative value (-1), but there must be at least one NUMA node, so returning NUMA node zero\n",
      "2022-08-30 20:31:17.908587: I tensorflow/stream_executor/cuda/cuda_gpu_executor.cc:975] successful NUMA node read from SysFS had negative value (-1), but there must be at least one NUMA node, so returning NUMA node zero\n",
      "2022-08-30 20:31:17.908664: I tensorflow/core/common_runtime/gpu/gpu_device.cc:1532] Created device /job:localhost/replica:0/task:0/device:GPU:0 with 6650 MB memory:  -> device: 0, name: NVIDIA GeForce RTX 2070 with Max-Q Design, pci bus id: 0000:01:00.0, compute capability: 7.5\n",
      "2022-08-30 20:31:18.542597: W tensorflow/core/common_runtime/graph_constructor.cc:805] Node 'cond/while' has 13 outputs but the _output_shapes attribute specifies shapes for 46 outputs. Output shapes may be inaccurate.\n",
      "2022-08-30 20:31:19.039366: W tensorflow/core/common_runtime/graph_constructor.cc:805] Node 'cond/while' has 13 outputs but the _output_shapes attribute specifies shapes for 46 outputs. Output shapes may be inaccurate.\n",
      "2022-08-30 20:31:20.056124: W tensorflow/core/common_runtime/graph_constructor.cc:805] Node 'cond/while' has 13 outputs but the _output_shapes attribute specifies shapes for 46 outputs. Output shapes may be inaccurate.\n",
      "2022-08-30 20:31:20.162622: W tensorflow/core/common_runtime/graph_constructor.cc:805] Node 'cond/while' has 13 outputs but the _output_shapes attribute specifies shapes for 46 outputs. Output shapes may be inaccurate.\n",
      "2022-08-30 20:31:20.363904: W tensorflow/core/common_runtime/graph_constructor.cc:805] Node 'cond/while' has 13 outputs but the _output_shapes attribute specifies shapes for 46 outputs. Output shapes may be inaccurate.\n",
      "2022-08-30 20:31:20.437255: W tensorflow/core/common_runtime/graph_constructor.cc:805] Node 'cond/while' has 13 outputs but the _output_shapes attribute specifies shapes for 46 outputs. Output shapes may be inaccurate.\n",
      "2022-08-30 20:31:20.861309: W tensorflow/core/common_runtime/graph_constructor.cc:805] Node 'cond/while' has 13 outputs but the _output_shapes attribute specifies shapes for 46 outputs. Output shapes may be inaccurate.\n",
      "2022-08-30 20:31:20.869912: W tensorflow/core/common_runtime/graph_constructor.cc:805] Node 'cond' has 5 outputs but the _output_shapes attribute specifies shapes for 46 outputs. Output shapes may be inaccurate.\n",
      "2022-08-30 20:31:20.885565: W tensorflow/core/common_runtime/graph_constructor.cc:805] Node 'cond' has 5 outputs but the _output_shapes attribute specifies shapes for 46 outputs. Output shapes may be inaccurate.\n",
      "2022-08-30 20:31:20.930797: W tensorflow/core/common_runtime/graph_constructor.cc:805] Node 'cond/while' has 13 outputs but the _output_shapes attribute specifies shapes for 46 outputs. Output shapes may be inaccurate.\n",
      "2022-08-30 20:31:21.000785: W tensorflow/core/common_runtime/graph_constructor.cc:805] Node 'cond/while' has 13 outputs but the _output_shapes attribute specifies shapes for 46 outputs. Output shapes may be inaccurate.\n",
      "2022-08-30 20:31:21.009549: W tensorflow/core/common_runtime/graph_constructor.cc:805] Node 'cond' has 5 outputs but the _output_shapes attribute specifies shapes for 46 outputs. Output shapes may be inaccurate.\n",
      "2022-08-30 20:31:21.177065: W tensorflow/core/common_runtime/graph_constructor.cc:805] Node 'cond/while' has 13 outputs but the _output_shapes attribute specifies shapes for 46 outputs. Output shapes may be inaccurate.\n",
      "2022-08-30 20:31:21.209228: W tensorflow/core/common_runtime/graph_constructor.cc:805] Node 'cond/while' has 13 outputs but the _output_shapes attribute specifies shapes for 46 outputs. Output shapes may be inaccurate.\n",
      "2022-08-30 20:31:21.217375: W tensorflow/core/common_runtime/graph_constructor.cc:805] Node 'cond' has 5 outputs but the _output_shapes attribute specifies shapes for 46 outputs. Output shapes may be inaccurate.\n",
      "2022-08-30 20:31:21.241022: W tensorflow/core/common_runtime/graph_constructor.cc:805] Node 'cond' has 5 outputs but the _output_shapes attribute specifies shapes for 46 outputs. Output shapes may be inaccurate.\n",
      "2022-08-30 20:31:21.323533: W tensorflow/core/common_runtime/graph_constructor.cc:805] Node 'cond/while' has 13 outputs but the _output_shapes attribute specifies shapes for 46 outputs. Output shapes may be inaccurate.\n",
      "2022-08-30 20:31:21.331781: W tensorflow/core/common_runtime/graph_constructor.cc:805] Node 'cond' has 5 outputs but the _output_shapes attribute specifies shapes for 46 outputs. Output shapes may be inaccurate.\n",
      "2022-08-30 20:31:21.340745: W tensorflow/core/common_runtime/graph_constructor.cc:805] Node 'cond/while' has 13 outputs but the _output_shapes attribute specifies shapes for 46 outputs. Output shapes may be inaccurate.\n",
      "2022-08-30 20:31:21.349810: W tensorflow/core/common_runtime/graph_constructor.cc:805] Node 'cond' has 5 outputs but the _output_shapes attribute specifies shapes for 46 outputs. Output shapes may be inaccurate.\n",
      "2022-08-30 20:31:21.391090: W tensorflow/core/common_runtime/graph_constructor.cc:805] Node 'cond' has 5 outputs but the _output_shapes attribute specifies shapes for 46 outputs. Output shapes may be inaccurate.\n",
      "2022-08-30 20:31:22.091892: W tensorflow/core/common_runtime/graph_constructor.cc:805] Node 'cond' has 5 outputs but the _output_shapes attribute specifies shapes for 46 outputs. Output shapes may be inaccurate.\n",
      "2022-08-30 20:31:22.288944: W tensorflow/core/common_runtime/graph_constructor.cc:805] Node 'cond/while' has 13 outputs but the _output_shapes attribute specifies shapes for 46 outputs. Output shapes may be inaccurate.\n",
      "2022-08-30 20:31:22.298031: W tensorflow/core/common_runtime/graph_constructor.cc:805] Node 'cond' has 5 outputs but the _output_shapes attribute specifies shapes for 46 outputs. Output shapes may be inaccurate.\n",
      "2022-08-30 20:31:22.502426: W tensorflow/core/common_runtime/graph_constructor.cc:805] Node 'cond' has 5 outputs but the _output_shapes attribute specifies shapes for 46 outputs. Output shapes may be inaccurate.\n",
      "2022-08-30 20:31:22.987490: W tensorflow/core/common_runtime/graph_constructor.cc:805] Node 'cond' has 5 outputs but the _output_shapes attribute specifies shapes for 46 outputs. Output shapes may be inaccurate.\n",
      "2022-08-30 20:31:23.020631: W tensorflow/core/common_runtime/graph_constructor.cc:805] Node 'cond' has 5 outputs but the _output_shapes attribute specifies shapes for 46 outputs. Output shapes may be inaccurate.\n",
      "2022-08-30 20:31:23.132258: W tensorflow/core/common_runtime/graph_constructor.cc:805] Node 'cond/while' has 13 outputs but the _output_shapes attribute specifies shapes for 46 outputs. Output shapes may be inaccurate.\n",
      "2022-08-30 20:31:23.176683: W tensorflow/core/common_runtime/graph_constructor.cc:805] Node 'cond/while' has 13 outputs but the _output_shapes attribute specifies shapes for 46 outputs. Output shapes may be inaccurate.\n",
      "2022-08-30 20:31:23.185403: W tensorflow/core/common_runtime/graph_constructor.cc:805] Node 'cond' has 5 outputs but the _output_shapes attribute specifies shapes for 46 outputs. Output shapes may be inaccurate.\n",
      "2022-08-30 20:31:23.291194: W tensorflow/core/common_runtime/graph_constructor.cc:805] Node 'cond/while' has 13 outputs but the _output_shapes attribute specifies shapes for 46 outputs. Output shapes may be inaccurate.\n",
      "2022-08-30 20:31:23.299547: W tensorflow/core/common_runtime/graph_constructor.cc:805] Node 'cond' has 5 outputs but the _output_shapes attribute specifies shapes for 46 outputs. Output shapes may be inaccurate.\n",
      "2022-08-30 20:31:23.379607: W tensorflow/core/common_runtime/graph_constructor.cc:805] Node 'cond/while' has 13 outputs but the _output_shapes attribute specifies shapes for 46 outputs. Output shapes may be inaccurate.\n",
      "2022-08-30 20:31:23.388338: W tensorflow/core/common_runtime/graph_constructor.cc:805] Node 'cond' has 5 outputs but the _output_shapes attribute specifies shapes for 46 outputs. Output shapes may be inaccurate.\n"
     ]
    },
    {
     "name": "stderr",
     "output_type": "stream",
     "text": [
      "2022-08-30 20:31:23.534194: W tensorflow/core/common_runtime/graph_constructor.cc:805] Node 'cond/while' has 13 outputs but the _output_shapes attribute specifies shapes for 46 outputs. Output shapes may be inaccurate.\n",
      "2022-08-30 20:31:23.542289: W tensorflow/core/common_runtime/graph_constructor.cc:805] Node 'cond' has 5 outputs but the _output_shapes attribute specifies shapes for 46 outputs. Output shapes may be inaccurate.\n",
      "2022-08-30 20:31:23.626366: W tensorflow/core/common_runtime/graph_constructor.cc:805] Node 'cond' has 5 outputs but the _output_shapes attribute specifies shapes for 46 outputs. Output shapes may be inaccurate.\n",
      "2022-08-30 20:31:23.714410: W tensorflow/core/common_runtime/graph_constructor.cc:805] Node 'cond/while' has 13 outputs but the _output_shapes attribute specifies shapes for 46 outputs. Output shapes may be inaccurate.\n",
      "2022-08-30 20:31:23.722543: W tensorflow/core/common_runtime/graph_constructor.cc:805] Node 'cond' has 5 outputs but the _output_shapes attribute specifies shapes for 46 outputs. Output shapes may be inaccurate.\n",
      "2022-08-30 20:31:23.773343: W tensorflow/core/common_runtime/graph_constructor.cc:805] Node 'cond/while' has 13 outputs but the _output_shapes attribute specifies shapes for 46 outputs. Output shapes may be inaccurate.\n",
      "2022-08-30 20:31:23.782281: W tensorflow/core/common_runtime/graph_constructor.cc:805] Node 'cond' has 5 outputs but the _output_shapes attribute specifies shapes for 46 outputs. Output shapes may be inaccurate.\n",
      "2022-08-30 20:31:23.861115: W tensorflow/core/common_runtime/graph_constructor.cc:805] Node 'cond/while' has 13 outputs but the _output_shapes attribute specifies shapes for 46 outputs. Output shapes may be inaccurate.\n",
      "2022-08-30 20:31:23.869796: W tensorflow/core/common_runtime/graph_constructor.cc:805] Node 'cond' has 5 outputs but the _output_shapes attribute specifies shapes for 46 outputs. Output shapes may be inaccurate.\n",
      "2022-08-30 20:31:23.883180: W tensorflow/core/common_runtime/graph_constructor.cc:805] Node 'cond/while' has 13 outputs but the _output_shapes attribute specifies shapes for 46 outputs. Output shapes may be inaccurate.\n",
      "2022-08-30 20:31:23.891021: W tensorflow/core/common_runtime/graph_constructor.cc:805] Node 'cond' has 5 outputs but the _output_shapes attribute specifies shapes for 46 outputs. Output shapes may be inaccurate.\n",
      "2022-08-30 20:31:23.980662: W tensorflow/core/common_runtime/graph_constructor.cc:805] Node 'cond/while' has 13 outputs but the _output_shapes attribute specifies shapes for 46 outputs. Output shapes may be inaccurate.\n",
      "2022-08-30 20:31:23.990359: W tensorflow/core/common_runtime/graph_constructor.cc:805] Node 'cond' has 5 outputs but the _output_shapes attribute specifies shapes for 46 outputs. Output shapes may be inaccurate.\n",
      "2022-08-30 20:31:24.188139: W tensorflow/core/common_runtime/graph_constructor.cc:805] Node 'cond' has 5 outputs but the _output_shapes attribute specifies shapes for 46 outputs. Output shapes may be inaccurate.\n"
     ]
    },
    {
     "name": "stdout",
     "output_type": "stream",
     "text": [
      "Model: \"model_1\"\n",
      "__________________________________________________________________________________________________\n",
      " Layer (type)                   Output Shape         Param #     Connected to                     \n",
      "==================================================================================================\n",
      " input_2 (InputLayer)           [(None, 65)]         0           []                               \n",
      "                                                                                                  \n",
      " input_3 (InputLayer)           [(None, 65)]         0           []                               \n",
      "                                                                                                  \n",
      " model (Functional)             (None, 130)          56870       ['input_2[0][0]',                \n",
      "                                                                  'input_3[0][0]']                \n",
      "                                                                                                  \n",
      " lambda (Lambda)                (None, 1)            0           ['model[0][0]',                  \n",
      "                                                                  'model[1][0]']                  \n",
      "                                                                                                  \n",
      " batch_normalization_1 (BatchNo  (None, 1)           4           ['lambda[0][0]']                 \n",
      " rmalization)                                                                                     \n",
      "                                                                                                  \n",
      " dense_1 (Dense)                (None, 1)            2           ['batch_normalization_1[0][0]']  \n",
      "                                                                                                  \n",
      "==================================================================================================\n",
      "Total params: 56,876\n",
      "Trainable params: 56,854\n",
      "Non-trainable params: 22\n",
      "__________________________________________________________________________________________________\n"
     ]
    }
   ],
   "source": [
    "model = tf.keras.models.load_model(\n",
    "    './saved_models/{}_extended'.format(model_config[\"Model_Name\"]), \n",
    "    custom_objects = {\n",
    "#         'CosineSimilarity': CosineSimilarity,\n",
    "        'CosineDistance': CosineDistance,\n",
    "        'ContrastiveLoss': ContrastiveLoss\n",
    "    }, \n",
    "    compile=True, \n",
    "    options=None\n",
    ")\n",
    "model.summary()"
   ]
  },
  {
   "cell_type": "markdown",
   "id": "607f58ca",
   "metadata": {},
   "source": [
    "---------------------------------------------------------------"
   ]
  },
  {
   "cell_type": "markdown",
   "id": "b06b0601",
   "metadata": {},
   "source": [
    "# Evaluation"
   ]
  },
  {
   "cell_type": "markdown",
   "id": "e7103902",
   "metadata": {},
   "source": [
    "## Unique target labels"
   ]
  },
  {
   "cell_type": "code",
   "execution_count": 20,
   "id": "f0323d8d",
   "metadata": {},
   "outputs": [
    {
     "data": {
      "text/html": [
       "<div>\n",
       "<style scoped>\n",
       "    .dataframe tbody tr th:only-of-type {\n",
       "        vertical-align: middle;\n",
       "    }\n",
       "\n",
       "    .dataframe tbody tr th {\n",
       "        vertical-align: top;\n",
       "    }\n",
       "\n",
       "    .dataframe thead th {\n",
       "        text-align: right;\n",
       "    }\n",
       "</style>\n",
       "<table border=\"1\" class=\"dataframe\">\n",
       "  <thead>\n",
       "    <tr style=\"text-align: right;\">\n",
       "      <th></th>\n",
       "      <th>dUnique_label</th>\n",
       "      <th>dUnique_seq_padded</th>\n",
       "    </tr>\n",
       "  </thead>\n",
       "  <tbody>\n",
       "    <tr>\n",
       "      <th>0</th>\n",
       "      <td>ASHWAGANDA</td>\n",
       "      <td>[1, 19, 8, 23, 1, 7, 1, 14, 4, 1, 0, 0, 0, 0, ...</td>\n",
       "    </tr>\n",
       "    <tr>\n",
       "      <th>1</th>\n",
       "      <td>BUTCHERSBROOM</td>\n",
       "      <td>[2, 21, 20, 3, 8, 5, 18, 19, 2, 18, 15, 15, 13...</td>\n",
       "    </tr>\n",
       "    <tr>\n",
       "      <th>2</th>\n",
       "      <td>CATSCLAW</td>\n",
       "      <td>[3, 1, 20, 19, 3, 12, 1, 23, 0, 0, 0, 0, 0, 0,...</td>\n",
       "    </tr>\n",
       "    <tr>\n",
       "      <th>3</th>\n",
       "      <td>CINNAMON</td>\n",
       "      <td>[3, 9, 14, 14, 1, 13, 15, 14, 0, 0, 0, 0, 0, 0...</td>\n",
       "    </tr>\n",
       "    <tr>\n",
       "      <th>4</th>\n",
       "      <td>FENUGREEK</td>\n",
       "      <td>[6, 5, 14, 21, 7, 18, 5, 5, 11, 0, 0, 0, 0, 0,...</td>\n",
       "    </tr>\n",
       "  </tbody>\n",
       "</table>\n",
       "</div>"
      ],
      "text/plain": [
       "   dUnique_label                                 dUnique_seq_padded\n",
       "0     ASHWAGANDA  [1, 19, 8, 23, 1, 7, 1, 14, 4, 1, 0, 0, 0, 0, ...\n",
       "1  BUTCHERSBROOM  [2, 21, 20, 3, 8, 5, 18, 19, 2, 18, 15, 15, 13...\n",
       "2       CATSCLAW  [3, 1, 20, 19, 3, 12, 1, 23, 0, 0, 0, 0, 0, 0,...\n",
       "3       CINNAMON  [3, 9, 14, 14, 1, 13, 15, 14, 0, 0, 0, 0, 0, 0...\n",
       "4      FENUGREEK  [6, 5, 14, 21, 7, 18, 5, 5, 11, 0, 0, 0, 0, 0,..."
      ]
     },
     "execution_count": 20,
     "metadata": {},
     "output_type": "execute_result"
    }
   ],
   "source": [
    "dUnique_df.head()"
   ]
  },
  {
   "cell_type": "code",
   "execution_count": 21,
   "id": "cd82b94c",
   "metadata": {},
   "outputs": [
    {
     "data": {
      "text/plain": [
       "1578"
      ]
     },
     "execution_count": 21,
     "metadata": {},
     "output_type": "execute_result"
    }
   ],
   "source": [
    "dUnique_df.size"
   ]
  },
  {
   "cell_type": "markdown",
   "id": "f0ebf8dc",
   "metadata": {},
   "source": [
    "## True Positives"
   ]
  },
  {
   "cell_type": "code",
   "execution_count": 22,
   "id": "c9a61342",
   "metadata": {},
   "outputs": [
    {
     "name": "stdout",
     "output_type": "stream",
     "text": [
      "<class 'pandas.core.frame.DataFrame'>\n",
      "RangeIndex: 5358 entries, 0 to 5357\n",
      "Data columns (total 2 columns):\n",
      " #   Column            Non-Null Count  Dtype \n",
      "---  ------            --------------  ----- \n",
      " 0   FAERS_drug_match  5358 non-null   object\n",
      " 1   lookup_value      5358 non-null   object\n",
      "dtypes: object(2)\n",
      "memory usage: 83.8+ KB\n",
      "None\n",
      "Processing file: ----------------------------------------\n",
      "Renaming colums:\n",
      "\tCurrent names: Index(['FAERS_drug_match', 'lookup_value'], dtype='object')\n",
      "\tNew names: Index(['x', 'y'], dtype='object')\n",
      "Dropping row with empty cells:\n",
      "\tDropped 0 rows with empty cells.\n",
      "Dropping sequences longer than the maxlen of 65:\n",
      "\tDropped 374 that exceeded the maximum sequence length.\n",
      "\tCleaning string sequences.\n",
      "\tUppercasing string sequences.\n",
      "Dropping duplicate sequences:\n",
      "\tDropped 482 duplicate sequences.\n",
      "Done processing: ---------------------------------------\n",
      "<class 'pandas.core.frame.DataFrame'>\n",
      "RangeIndex: 4502 entries, 0 to 4501\n",
      "Data columns (total 2 columns):\n",
      " #   Column  Non-Null Count  Dtype \n",
      "---  ------  --------------  ----- \n",
      " 0   x       4502 non-null   object\n",
      " 1   y       4502 non-null   object\n",
      "dtypes: object(2)\n",
      "memory usage: 70.5+ KB\n",
      "None\n",
      "Encoding and Padding: ----------------------------------\n",
      "\tProcessing x\n",
      "\tProcessing y\n",
      "Tagging: -----------------------------------------------\n"
     ]
    },
    {
     "data": {
      "text/html": [
       "<div>\n",
       "<style scoped>\n",
       "    .dataframe tbody tr th:only-of-type {\n",
       "        vertical-align: middle;\n",
       "    }\n",
       "\n",
       "    .dataframe tbody tr th {\n",
       "        vertical-align: top;\n",
       "    }\n",
       "\n",
       "    .dataframe thead th {\n",
       "        text-align: right;\n",
       "    }\n",
       "</style>\n",
       "<table border=\"1\" class=\"dataframe\">\n",
       "  <thead>\n",
       "    <tr style=\"text-align: right;\">\n",
       "      <th></th>\n",
       "      <th>x</th>\n",
       "      <th>y</th>\n",
       "      <th>Processed_x</th>\n",
       "      <th>Processed_y</th>\n",
       "      <th>Match</th>\n",
       "      <th>Distance</th>\n",
       "    </tr>\n",
       "  </thead>\n",
       "  <tbody>\n",
       "    <tr>\n",
       "      <th>0</th>\n",
       "      <td>ASHWAGANDHA</td>\n",
       "      <td>ASHWAGANDA</td>\n",
       "      <td>[1, 19, 8, 23, 1, 7, 1, 14, 4, 8, 1, 0, 0, 0, ...</td>\n",
       "      <td>[1, 19, 8, 23, 1, 7, 1, 14, 4, 1, 0, 0, 0, 0, ...</td>\n",
       "      <td>1</td>\n",
       "      <td>0</td>\n",
       "    </tr>\n",
       "    <tr>\n",
       "      <th>1</th>\n",
       "      <td>ASHWAGANDHA EXTRACT</td>\n",
       "      <td>ASHWAGANDA</td>\n",
       "      <td>[1, 19, 8, 23, 1, 7, 1, 14, 4, 8, 1, 27, 5, 24...</td>\n",
       "      <td>[1, 19, 8, 23, 1, 7, 1, 14, 4, 1, 0, 0, 0, 0, ...</td>\n",
       "      <td>1</td>\n",
       "      <td>0</td>\n",
       "    </tr>\n",
       "    <tr>\n",
       "      <th>2</th>\n",
       "      <td>ASHWAGANDHA ROOT EXTRACT</td>\n",
       "      <td>ASHWAGANDA</td>\n",
       "      <td>[1, 19, 8, 23, 1, 7, 1, 14, 4, 8, 1, 27, 18, 1...</td>\n",
       "      <td>[1, 19, 8, 23, 1, 7, 1, 14, 4, 1, 0, 0, 0, 0, ...</td>\n",
       "      <td>1</td>\n",
       "      <td>0</td>\n",
       "    </tr>\n",
       "    <tr>\n",
       "      <th>3</th>\n",
       "      <td>ASHWAGANDHA WITHANIA SOMNIFERA</td>\n",
       "      <td>ASHWAGANDA</td>\n",
       "      <td>[1, 19, 8, 23, 1, 7, 1, 14, 4, 8, 1, 27, 23, 9...</td>\n",
       "      <td>[1, 19, 8, 23, 1, 7, 1, 14, 4, 1, 0, 0, 0, 0, ...</td>\n",
       "      <td>1</td>\n",
       "      <td>0</td>\n",
       "    </tr>\n",
       "    <tr>\n",
       "      <th>4</th>\n",
       "      <td>ASHWAGANDHA WITHANIA SOMNIFERA ROOT</td>\n",
       "      <td>ASHWAGANDA</td>\n",
       "      <td>[1, 19, 8, 23, 1, 7, 1, 14, 4, 8, 1, 27, 23, 9...</td>\n",
       "      <td>[1, 19, 8, 23, 1, 7, 1, 14, 4, 1, 0, 0, 0, 0, ...</td>\n",
       "      <td>1</td>\n",
       "      <td>0</td>\n",
       "    </tr>\n",
       "  </tbody>\n",
       "</table>\n",
       "</div>"
      ],
      "text/plain": [
       "                                     x           y  \\\n",
       "0                          ASHWAGANDHA  ASHWAGANDA   \n",
       "1                  ASHWAGANDHA EXTRACT  ASHWAGANDA   \n",
       "2             ASHWAGANDHA ROOT EXTRACT  ASHWAGANDA   \n",
       "3       ASHWAGANDHA WITHANIA SOMNIFERA  ASHWAGANDA   \n",
       "4  ASHWAGANDHA WITHANIA SOMNIFERA ROOT  ASHWAGANDA   \n",
       "\n",
       "                                         Processed_x  \\\n",
       "0  [1, 19, 8, 23, 1, 7, 1, 14, 4, 8, 1, 0, 0, 0, ...   \n",
       "1  [1, 19, 8, 23, 1, 7, 1, 14, 4, 8, 1, 27, 5, 24...   \n",
       "2  [1, 19, 8, 23, 1, 7, 1, 14, 4, 8, 1, 27, 18, 1...   \n",
       "3  [1, 19, 8, 23, 1, 7, 1, 14, 4, 8, 1, 27, 23, 9...   \n",
       "4  [1, 19, 8, 23, 1, 7, 1, 14, 4, 8, 1, 27, 23, 9...   \n",
       "\n",
       "                                         Processed_y  Match  Distance  \n",
       "0  [1, 19, 8, 23, 1, 7, 1, 14, 4, 1, 0, 0, 0, 0, ...      1         0  \n",
       "1  [1, 19, 8, 23, 1, 7, 1, 14, 4, 1, 0, 0, 0, 0, ...      1         0  \n",
       "2  [1, 19, 8, 23, 1, 7, 1, 14, 4, 1, 0, 0, 0, 0, ...      1         0  \n",
       "3  [1, 19, 8, 23, 1, 7, 1, 14, 4, 1, 0, 0, 0, 0, ...      1         0  \n",
       "4  [1, 19, 8, 23, 1, 7, 1, 14, 4, 1, 0, 0, 0, 0, ...      1         0  "
      ]
     },
     "execution_count": 22,
     "metadata": {},
     "output_type": "execute_result"
    }
   ],
   "source": [
    "matches = encode_pad_tag(preprocessInput('../data/NP_FAERS_mapped_20220215.csv'), match=1, distance=0)\n",
    "matches.head()"
   ]
  },
  {
   "cell_type": "markdown",
   "id": "750cbc8f",
   "metadata": {},
   "source": [
    "### ASHWAGANDA"
   ]
  },
  {
   "cell_type": "code",
   "execution_count": 23,
   "id": "8e22c49e",
   "metadata": {},
   "outputs": [
    {
     "data": {
      "text/plain": [
       "'ASHWAGANDHA EXTRACT'"
      ]
     },
     "execution_count": 23,
     "metadata": {},
     "output_type": "execute_result"
    }
   ],
   "source": [
    "matches.loc[1, \"x\"]"
   ]
  },
  {
   "cell_type": "code",
   "execution_count": 24,
   "id": "eb94af24",
   "metadata": {},
   "outputs": [
    {
     "name": "stderr",
     "output_type": "stream",
     "text": [
      "2022-08-30 20:31:27.518782: W tensorflow/compiler/jit/mark_for_compilation_pass.cc:1750] (One-time warning): Not using XLA:CPU for cluster.\n",
      "\n",
      "If you want XLA:CPU, do one of the following:\n",
      "\n",
      " - set the TF_XLA_FLAGS to include \"--tf_xla_cpu_global_jit\", or\n",
      " - set cpu_global_jit to true on this session's OptimizerOptions, or\n",
      " - use experimental_jit_scope, or\n",
      " - use tf.function(jit_compile=True).\n",
      "\n",
      "To confirm that XLA is active, pass --vmodule=xla_compilation_cache=1 (as a\n",
      "proper command-line flag, not via TF_XLA_FLAGS).\n",
      "2022-08-30 20:31:29.809271: I tensorflow/compiler/xla/service/service.cc:170] XLA service 0x563b3ced0810 initialized for platform CUDA (this does not guarantee that XLA will be used). Devices:\n",
      "2022-08-30 20:31:29.809291: I tensorflow/compiler/xla/service/service.cc:178]   StreamExecutor device (0): NVIDIA GeForce RTX 2070 with Max-Q Design, Compute Capability 7.5\n",
      "2022-08-30 20:31:29.812370: I tensorflow/compiler/mlir/tensorflow/utils/dump_mlir_util.cc:263] disabling MLIR crash reproducer, set env var `MLIR_CRASH_REPRODUCER_DIRECTORY` to enable.\n",
      "2022-08-30 20:31:29.862305: I tensorflow/core/platform/default/subprocess.cc:304] Start cannot spawn child process: No such file or directory\n",
      "2022-08-30 20:31:29.903851: I tensorflow/compiler/jit/xla_compilation_cache.cc:478] Compiled cluster using XLA!  This line is logged at most once for the lifetime of the process.\n",
      "2022-08-30 20:31:30.584369: I tensorflow/stream_executor/cuda/cuda_dnn.cc:384] Loaded cuDNN version 8401\n"
     ]
    },
    {
     "name": "stdout",
     "output_type": "stream",
     "text": [
      "25/25 [==============================] - 4s 4ms/step\n"
     ]
    }
   ],
   "source": [
    "predicts = model.predict([np.tile(matches.loc[1, \"Processed_x\"], (dUnique_df['dUnique_seq_padded'].shape[0],1)), np.stack(dUnique_df['dUnique_seq_padded'])]).astype('float32')\n",
    "top5 = predicts.flatten().argsort()"
   ]
  },
  {
   "cell_type": "code",
   "execution_count": 25,
   "id": "3f9b4304",
   "metadata": {},
   "outputs": [
    {
     "data": {
      "text/plain": [
       "{'rank1': 'ASHWAGANDA',\n",
       " 'rank2': 'WATSONIA DENSIFLORA',\n",
       " 'rank3': 'CATSCLAW',\n",
       " 'rank4': 'SENNA',\n",
       " 'rank5': 'PANAX GINSENG'}"
      ]
     },
     "execution_count": 25,
     "metadata": {},
     "output_type": "execute_result"
    }
   ],
   "source": [
    "# Top-5 smalles distances\n",
    "{\n",
    "    \"rank1\": dUnique_df.iloc[top5[0]]['dUnique_label'],\n",
    "    \"rank2\": dUnique_df.iloc[top5[1]]['dUnique_label'],\n",
    "    \"rank3\": dUnique_df.iloc[top5[2]]['dUnique_label'],\n",
    "    \"rank4\": dUnique_df.iloc[top5[3]]['dUnique_label'],\n",
    "    \"rank5\": dUnique_df.iloc[top5[4]]['dUnique_label'],\n",
    "}"
   ]
  },
  {
   "cell_type": "markdown",
   "id": "14af67b8",
   "metadata": {},
   "source": [
    "### Echinacea"
   ]
  },
  {
   "cell_type": "code",
   "execution_count": 26,
   "id": "7b2f8e44",
   "metadata": {},
   "outputs": [
    {
     "data": {
      "text/html": [
       "<div>\n",
       "<style scoped>\n",
       "    .dataframe tbody tr th:only-of-type {\n",
       "        vertical-align: middle;\n",
       "    }\n",
       "\n",
       "    .dataframe tbody tr th {\n",
       "        vertical-align: top;\n",
       "    }\n",
       "\n",
       "    .dataframe thead th {\n",
       "        text-align: right;\n",
       "    }\n",
       "</style>\n",
       "<table border=\"1\" class=\"dataframe\">\n",
       "  <thead>\n",
       "    <tr style=\"text-align: right;\">\n",
       "      <th></th>\n",
       "      <th>x</th>\n",
       "      <th>y</th>\n",
       "      <th>Processed_x</th>\n",
       "      <th>Processed_y</th>\n",
       "      <th>Match</th>\n",
       "      <th>Distance</th>\n",
       "    </tr>\n",
       "  </thead>\n",
       "  <tbody>\n",
       "    <tr>\n",
       "      <th>393</th>\n",
       "      <td>ECHINACEA TEA ECHINACEA PURPUREA</td>\n",
       "      <td>GREEN TEA</td>\n",
       "      <td>[5, 3, 8, 9, 14, 1, 3, 5, 1, 27, 20, 5, 1, 27,...</td>\n",
       "      <td>[7, 18, 5, 5, 14, 27, 20, 5, 1, 0, 0, 0, 0, 0,...</td>\n",
       "      <td>0</td>\n",
       "      <td>1</td>\n",
       "    </tr>\n",
       "  </tbody>\n",
       "</table>\n",
       "</div>"
      ],
      "text/plain": [
       "                                    x          y  \\\n",
       "393  ECHINACEA TEA ECHINACEA PURPUREA  GREEN TEA   \n",
       "\n",
       "                                           Processed_x  \\\n",
       "393  [5, 3, 8, 9, 14, 1, 3, 5, 1, 27, 20, 5, 1, 27,...   \n",
       "\n",
       "                                           Processed_y  Match  Distance  \n",
       "393  [7, 18, 5, 5, 14, 27, 20, 5, 1, 0, 0, 0, 0, 0,...      0         1  "
      ]
     },
     "execution_count": 26,
     "metadata": {},
     "output_type": "execute_result"
    }
   ],
   "source": [
    "Echinacea = dfneg2[dfneg2[\"x\"].str.contains(\"ECHINACEA\")].head(1)\n",
    "Echinacea"
   ]
  },
  {
   "cell_type": "code",
   "execution_count": 27,
   "id": "87c38e46",
   "metadata": {},
   "outputs": [
    {
     "data": {
      "text/plain": [
       "'ECHINACEA TEA ECHINACEA PURPUREA'"
      ]
     },
     "execution_count": 27,
     "metadata": {},
     "output_type": "execute_result"
    }
   ],
   "source": [
    "i = Echinacea.index.values[0]\n",
    "clean(dfneg2[\"x\"][i])"
   ]
  },
  {
   "cell_type": "code",
   "execution_count": 28,
   "id": "4a5e31af",
   "metadata": {},
   "outputs": [
    {
     "name": "stdout",
     "output_type": "stream",
     "text": [
      "25/25 [==============================] - 0s 19ms/step\n"
     ]
    }
   ],
   "source": [
    "predicts = model.predict([np.tile(padding(encode(clean(dfneg2[\"x\"][i]))), (dUnique_df['dUnique_seq_padded'].shape[0],1)), np.stack(dUnique_df['dUnique_seq_padded'])]).astype('float32')\n",
    "top5 = predicts.flatten().argsort()"
   ]
  },
  {
   "cell_type": "code",
   "execution_count": 29,
   "id": "ed1712c5",
   "metadata": {},
   "outputs": [
    {
     "data": {
      "text/plain": [
       "{'rank1': 'ECHINACEA PURPUREA',\n",
       " 'rank2': 'ECHINACEA',\n",
       " 'rank3': 'SENNA OCCIDENTALIS',\n",
       " 'rank4': 'ERYTHRINA HERBACEA',\n",
       " 'rank5': 'EUCLEA RACEMOSA'}"
      ]
     },
     "execution_count": 29,
     "metadata": {},
     "output_type": "execute_result"
    }
   ],
   "source": [
    "# Top-5 smalles distances\n",
    "m = max(top5)\n",
    "{\n",
    "    \"rank1\": dUnique_df.iloc[top5[0]]['dUnique_label'],\n",
    "    \"rank2\": dUnique_df.iloc[top5[1]]['dUnique_label'],\n",
    "    \"rank3\": dUnique_df.iloc[top5[2]]['dUnique_label'],\n",
    "    \"rank4\": dUnique_df.iloc[top5[3]]['dUnique_label'],\n",
    "    \"rank5\": dUnique_df.iloc[top5[4]]['dUnique_label'],\n",
    "}"
   ]
  },
  {
   "cell_type": "markdown",
   "id": "4f016259",
   "metadata": {},
   "source": [
    "### Cranberry"
   ]
  },
  {
   "cell_type": "code",
   "execution_count": 30,
   "id": "d8e3d308",
   "metadata": {},
   "outputs": [
    {
     "data": {
      "text/html": [
       "<div>\n",
       "<style scoped>\n",
       "    .dataframe tbody tr th:only-of-type {\n",
       "        vertical-align: middle;\n",
       "    }\n",
       "\n",
       "    .dataframe tbody tr th {\n",
       "        vertical-align: top;\n",
       "    }\n",
       "\n",
       "    .dataframe thead th {\n",
       "        text-align: right;\n",
       "    }\n",
       "</style>\n",
       "<table border=\"1\" class=\"dataframe\">\n",
       "  <thead>\n",
       "    <tr style=\"text-align: right;\">\n",
       "      <th></th>\n",
       "      <th>dUnique_label</th>\n",
       "      <th>dUnique_seq_padded</th>\n",
       "    </tr>\n",
       "  </thead>\n",
       "  <tbody>\n",
       "    <tr>\n",
       "      <th>58</th>\n",
       "      <td>CRANBERRY</td>\n",
       "      <td>[3, 18, 1, 14, 2, 5, 18, 18, 25, 0, 0, 0, 0, 0...</td>\n",
       "    </tr>\n",
       "  </tbody>\n",
       "</table>\n",
       "</div>"
      ],
      "text/plain": [
       "   dUnique_label                                 dUnique_seq_padded\n",
       "58     CRANBERRY  [3, 18, 1, 14, 2, 5, 18, 18, 25, 0, 0, 0, 0, 0..."
      ]
     },
     "execution_count": 30,
     "metadata": {},
     "output_type": "execute_result"
    }
   ],
   "source": [
    "cranberry = dUnique_df[dUnique_df[\"dUnique_label\"].str.contains(\"CRANBERRY\")].head(1)\n",
    "cranberry"
   ]
  },
  {
   "cell_type": "code",
   "execution_count": 31,
   "id": "94a162d7",
   "metadata": {},
   "outputs": [
    {
     "data": {
      "text/plain": [
       "'CRANBERRY'"
      ]
     },
     "execution_count": 31,
     "metadata": {},
     "output_type": "execute_result"
    }
   ],
   "source": [
    "i = cranberry.index.values[0]\n",
    "clean(dUnique_df[\"dUnique_label\"][i])"
   ]
  },
  {
   "cell_type": "code",
   "execution_count": 32,
   "id": "9b4b626b",
   "metadata": {},
   "outputs": [
    {
     "name": "stdout",
     "output_type": "stream",
     "text": [
      "25/25 [==============================] - 0s 2ms/step\n"
     ]
    }
   ],
   "source": [
    "predicts = model.predict([np.tile(padding(encode(clean(dUnique_df[\"dUnique_label\"][i]))), (dUnique_df['dUnique_seq_padded'].shape[0],1)), np.stack(dUnique_df['dUnique_seq_padded'])]).astype('float32')\n",
    "top5 = predicts.flatten().argsort()\n",
    "# argsort = predicts.flatten().argsort()"
   ]
  },
  {
   "cell_type": "code",
   "execution_count": 33,
   "id": "ebbb0cd8",
   "metadata": {},
   "outputs": [
    {
     "data": {
      "text/plain": [
       "{'rank1': 'CRANBERRY',\n",
       " 'rank2': 'VACCINIUM MACROCARPON',\n",
       " 'rank3': 'BARBERRY',\n",
       " 'rank4': 'ELDERBERRY',\n",
       " 'rank5': 'ST JOHNSWORT'}"
      ]
     },
     "execution_count": 33,
     "metadata": {},
     "output_type": "execute_result"
    }
   ],
   "source": [
    "# Top-5 smalles distances\n",
    "m = max(top5)\n",
    "{\n",
    "    \"rank1\": dUnique_df.iloc[top5[0]]['dUnique_label'],\n",
    "    \"rank2\": dUnique_df.iloc[top5[1]]['dUnique_label'],\n",
    "    \"rank3\": dUnique_df.iloc[top5[2]]['dUnique_label'],\n",
    "    \"rank4\": dUnique_df.iloc[top5[3]]['dUnique_label'],\n",
    "    \"rank5\": dUnique_df.iloc[top5[4]]['dUnique_label'],\n",
    "}"
   ]
  },
  {
   "cell_type": "markdown",
   "id": "e72534f9",
   "metadata": {},
   "source": [
    "## True  Negatives"
   ]
  },
  {
   "cell_type": "code",
   "execution_count": 34,
   "id": "877dbf40",
   "metadata": {},
   "outputs": [
    {
     "data": {
      "text/html": [
       "<div>\n",
       "<style scoped>\n",
       "    .dataframe tbody tr th:only-of-type {\n",
       "        vertical-align: middle;\n",
       "    }\n",
       "\n",
       "    .dataframe tbody tr th {\n",
       "        vertical-align: top;\n",
       "    }\n",
       "\n",
       "    .dataframe thead th {\n",
       "        text-align: right;\n",
       "    }\n",
       "</style>\n",
       "<table border=\"1\" class=\"dataframe\">\n",
       "  <thead>\n",
       "    <tr style=\"text-align: right;\">\n",
       "      <th></th>\n",
       "      <th>x</th>\n",
       "      <th>y</th>\n",
       "      <th>Processed_x</th>\n",
       "      <th>Processed_y</th>\n",
       "      <th>Match</th>\n",
       "      <th>Distance</th>\n",
       "    </tr>\n",
       "  </thead>\n",
       "  <tbody>\n",
       "    <tr>\n",
       "      <th>0</th>\n",
       "      <td>ANUSOLHC BENZYL BENZOATEBISMUTH HYDROXIDE</td>\n",
       "      <td>CINNAMON</td>\n",
       "      <td>[1, 14, 21, 19, 15, 12, 8, 3, 27, 2, 5, 14, 26...</td>\n",
       "      <td>[3, 9, 14, 14, 1, 13, 15, 14, 0, 0, 0, 0, 0, 0...</td>\n",
       "      <td>0</td>\n",
       "      <td>1</td>\n",
       "    </tr>\n",
       "    <tr>\n",
       "      <th>1</th>\n",
       "      <td>ASCABIOL BENZYL BENZOATE</td>\n",
       "      <td>CINNAMON</td>\n",
       "      <td>[1, 19, 3, 1, 2, 9, 15, 12, 27, 2, 5, 14, 26, ...</td>\n",
       "      <td>[3, 9, 14, 14, 1, 13, 15, 14, 0, 0, 0, 0, 0, 0...</td>\n",
       "      <td>0</td>\n",
       "      <td>1</td>\n",
       "    </tr>\n",
       "    <tr>\n",
       "      <th>2</th>\n",
       "      <td>CASSIA</td>\n",
       "      <td>CINNAMON</td>\n",
       "      <td>[3, 1, 19, 19, 9, 1, 0, 0, 0, 0, 0, 0, 0, 0, 0...</td>\n",
       "      <td>[3, 9, 14, 14, 1, 13, 15, 14, 0, 0, 0, 0, 0, 0...</td>\n",
       "      <td>0</td>\n",
       "      <td>1</td>\n",
       "    </tr>\n",
       "    <tr>\n",
       "      <th>3</th>\n",
       "      <td>CASSIA ACUTIFOLIA</td>\n",
       "      <td>CINNAMON</td>\n",
       "      <td>[3, 1, 19, 19, 9, 1, 27, 1, 3, 21, 20, 9, 6, 1...</td>\n",
       "      <td>[3, 9, 14, 14, 1, 13, 15, 14, 0, 0, 0, 0, 0, 0...</td>\n",
       "      <td>0</td>\n",
       "      <td>1</td>\n",
       "    </tr>\n",
       "    <tr>\n",
       "      <th>4</th>\n",
       "      <td>CASSIA ALATA</td>\n",
       "      <td>CINNAMON</td>\n",
       "      <td>[3, 1, 19, 19, 9, 1, 27, 1, 12, 1, 20, 1, 0, 0...</td>\n",
       "      <td>[3, 9, 14, 14, 1, 13, 15, 14, 0, 0, 0, 0, 0, 0...</td>\n",
       "      <td>0</td>\n",
       "      <td>1</td>\n",
       "    </tr>\n",
       "  </tbody>\n",
       "</table>\n",
       "</div>"
      ],
      "text/plain": [
       "                                           x         y  \\\n",
       "0  ANUSOLHC BENZYL BENZOATEBISMUTH HYDROXIDE  CINNAMON   \n",
       "1                   ASCABIOL BENZYL BENZOATE  CINNAMON   \n",
       "2                                     CASSIA  CINNAMON   \n",
       "3                          CASSIA ACUTIFOLIA  CINNAMON   \n",
       "4                               CASSIA ALATA  CINNAMON   \n",
       "\n",
       "                                         Processed_x  \\\n",
       "0  [1, 14, 21, 19, 15, 12, 8, 3, 27, 2, 5, 14, 26...   \n",
       "1  [1, 19, 3, 1, 2, 9, 15, 12, 27, 2, 5, 14, 26, ...   \n",
       "2  [3, 1, 19, 19, 9, 1, 0, 0, 0, 0, 0, 0, 0, 0, 0...   \n",
       "3  [3, 1, 19, 19, 9, 1, 27, 1, 3, 21, 20, 9, 6, 1...   \n",
       "4  [3, 1, 19, 19, 9, 1, 27, 1, 12, 1, 20, 1, 0, 0...   \n",
       "\n",
       "                                         Processed_y  Match  Distance  \n",
       "0  [3, 9, 14, 14, 1, 13, 15, 14, 0, 0, 0, 0, 0, 0...      0         1  \n",
       "1  [3, 9, 14, 14, 1, 13, 15, 14, 0, 0, 0, 0, 0, 0...      0         1  \n",
       "2  [3, 9, 14, 14, 1, 13, 15, 14, 0, 0, 0, 0, 0, 0...      0         1  \n",
       "3  [3, 9, 14, 14, 1, 13, 15, 14, 0, 0, 0, 0, 0, 0...      0         1  \n",
       "4  [3, 9, 14, 14, 1, 13, 15, 14, 0, 0, 0, 0, 0, 0...      0         1  "
      ]
     },
     "execution_count": 34,
     "metadata": {},
     "output_type": "execute_result"
    }
   ],
   "source": [
    "dfneg2.head()"
   ]
  },
  {
   "cell_type": "markdown",
   "id": "4ba7cdd8",
   "metadata": {},
   "source": [
    "# Evaluating on test data - NP names only"
   ]
  },
  {
   "cell_type": "code",
   "execution_count": 35,
   "id": "1a88ac91",
   "metadata": {
    "scrolled": true
   },
   "outputs": [
    {
     "name": "stdout",
     "output_type": "stream",
     "text": [
      "<class 'pandas.core.frame.DataFrame'>\n",
      "RangeIndex: 958 entries, 0 to 957\n",
      "Data columns (total 4 columns):\n",
      " #   Column                Non-Null Count  Dtype \n",
      "---  ------                --------------  ----- \n",
      " 0   latin_binomial        958 non-null    object\n",
      " 1   common_name           958 non-null    object\n",
      " 2   latin_binomial_clean  958 non-null    object\n",
      " 3   common_name_clean     958 non-null    object\n",
      "dtypes: object(4)\n",
      "memory usage: 30.1+ KB\n"
     ]
    }
   ],
   "source": [
    "vocab = pd.read_csv('../data/lb_to_common_names.csv')\n",
    "vocab.info()"
   ]
  },
  {
   "cell_type": "markdown",
   "id": "5fd04131",
   "metadata": {},
   "source": [
    "# Evaluation of drug name predictions\n",
    "----------------------------\n",
    "### Find ranks 1-5 from the predicted and fuzzy matches for the matching cases in the test data"
   ]
  },
  {
   "cell_type": "code",
   "execution_count": 36,
   "id": "6219f6a7",
   "metadata": {},
   "outputs": [],
   "source": [
    "def find_ranks(model: tf.keras.Model, df: pd.DataFrame, find_related_rank: bool = False, report_distances: bool = False) -> pd.DataFrame:\n",
    "    \"\"\"For each row in the input dataframe, the model is used to predict the top matching Unique Product Names \n",
    "    in 'x' against the entry matches any of the 'y' entries.\n",
    "    This is done at the encoded sequence level for both name all unique drugnames\n",
    "       \n",
    "         Parameters\n",
    "    ----------\n",
    "    model : tf.keras.Model\n",
    "        A Keras model based Siamese Network that takes three inputs. \n",
    "        Namely, two input sequeces and a third input binary target specifying wether the two sequeces match.\n",
    "    \n",
    "    find_related_rank: bool\n",
    "        A flag indicating wether to compare the top ranked results against the 'y' and it's potential equivalents or not.\n",
    "        \n",
    "    report_distances: bool\n",
    "        A flag indicating return the distance values of the top ranked results against the 'y'.\n",
    "      \n",
    "    Returns\n",
    "    -------\n",
    "    df : pd.DataFrame\n",
    "        Returns the padded 'x', 'y', 'rank1', 'rank2', 'rank3', 'rank4', 'rank5' series.\n",
    "        And additionally the 'exact_rank' and 'equivalent_rank' series and the 'rank1_distance', 'rank2_distance', \n",
    "        'rank3_distance', 'rank4_distance', 'rank5_distance' if requested.\n",
    "    \n",
    "    \"\"\"\n",
    "    \n",
    "    print(\"Using column: \", df.columns[0])\n",
    "    df.assign(rank1=\"\", rank2=\"\", rank3=\"\", rank4=\"\", rank5=\"\")\n",
    "    \n",
    "    if report_distances:\n",
    "        df.assign(rank1_distance=np.Inf, rank2_distance=np.Inf, rank3_distance=np.Inf, rank4_distance=np.Inf, rank5_distance=np.Inf)\n",
    " \n",
    "    if find_related_rank:\n",
    "        df.assign(exact_rank= np.Inf, equivalent_rank = np.Inf)\n",
    "    \n",
    "    for i in df.index:\n",
    "        predicts = model.predict([np.tile(df.loc[i, \"Processed_\"+ df.columns[0]], (dUnique_df['dUnique_seq_padded'].shape[0],1)), np.stack(dUnique_df['dUnique_seq_padded'])]).astype('float32')\n",
    "        argsort = predicts.flatten().argsort()\n",
    "        # Top-5 smalles distances\n",
    "        df.at[i, 'rank1'] = dUnique_df['dUnique_label'][argsort[0]]  \n",
    "        df.at[i, 'rank2'] = dUnique_df['dUnique_label'][argsort[1]]\n",
    "        df.at[i, 'rank3'] = dUnique_df['dUnique_label'][argsort[2]]\n",
    "        df.at[i, 'rank4'] = dUnique_df['dUnique_label'][argsort[3]]\n",
    "        df.at[i, 'rank5'] = dUnique_df['dUnique_label'][argsort[4]]\n",
    "        \n",
    "        if report_distances:\n",
    "            df.at[i, 'rank1_distance'] = predicts[argsort[0]]  \n",
    "            df.at[i, 'rank2_distance'] = predicts[argsort[1]]\n",
    "            df.at[i, 'rank3_distance'] = predicts[argsort[2]]\n",
    "            df.at[i, 'rank4_distance'] = predicts[argsort[3]]\n",
    "            df.at[i, 'rank5_distance'] = predicts[argsort[4]]\n",
    "\n",
    "        if find_related_rank:\n",
    "            # Find the top-5 predicted matches\n",
    "            lookup_clean = clean(df.at[i , df.columns[1]])\n",
    "            predicted_rank = df.loc[i, ['rank1', 'rank2', 'rank3', 'rank4', 'rank5']].eq(lookup_clean).to_numpy().nonzero()\n",
    "            \n",
    "            # Find the top ranking correct match, if not rank is infinity so that 1/inf ~ 0, for the MRR computation.\n",
    "            lookup_rank = np.Inf    \n",
    "            if len(predicted_rank[0]) > 0 :\n",
    "                lookup_rank = predicted_rank[0][0] + 1\n",
    "            df.loc[i, \"exact_rank\"] = lookup_rank\n",
    "\n",
    "            # Find all the equivalent common names and latin binomials relative to the look up value that would be equaly correct.\n",
    "            equivalent = np.setdiff1d(vocab[[\"latin_binomial_clean\",\"common_name_clean\"]][(vocab[\"latin_binomial_clean\"] == lookup_clean) | (vocab[\"common_name_clean\"] == lookup_clean)].unstack().unique(), lookup_rank)\n",
    "\n",
    "            # Find the top ranking correct match \n",
    "            related_rank = np.Inf\n",
    "            if len(equivalent) > 0:\n",
    "                for lookup_result in equivalent:\n",
    "                    annotated_rank = df.loc[i][['rank1', 'rank2', 'rank3', 'rank4', 'rank5']].eq(lookup_result).to_numpy().nonzero()\n",
    "                    if len(annotated_rank[0]) > 0: \n",
    "                        new_related_rank = annotated_rank[0][0] + 1\n",
    "                        related_rank = min(related_rank, new_related_rank)\n",
    "\n",
    "            #find related mappings to lookup value in predicted values \n",
    "            df.loc[i, 'equivalent_rank'] = min(lookup_rank, related_rank)\n",
    "            \n",
    "    return df"
   ]
  },
  {
   "cell_type": "code",
   "execution_count": 37,
   "id": "7fb45135",
   "metadata": {},
   "outputs": [],
   "source": [
    "def find_Gesalt_fuzzy_lookup_and_related_rank(df: pd.DataFrame, find_related_rank: bool = False) -> pd.DataFrame:\n",
    "    \"\"\"For each row in the input data frame, this function utilizes the difflib implementation of fuzzy string match\n",
    "       to find the top 5 unique natural product names that match the row's 'x' string value.\n",
    "       \n",
    "       \n",
    "    Parameters\n",
    "    ----------\n",
    "    df: pd.DataFrame\n",
    "        A pandas dataframe with the fist column containing 'x' strings to be matched against natural product names.\n",
    "        Optionally containing Pandas Series with the clean encoded 'y' column.\n",
    "    \n",
    "    find_related_rank: bool\n",
    "        A flag indicating wether to compare the top ranked results against the 'y' and it's potential equivalents or not.\n",
    "      \n",
    "    Returns\n",
    "    -------\n",
    "    df : pd.DataFrame\n",
    "        Returns the padded 'x', 'y', 'rank1', 'rank2', 'rank3', 'rank4', 'rank5' seriess.\n",
    "        And additionally the 'exact_rank' and 'equivalent_rank' series if requested.\n",
    "    \n",
    "    \"\"\"\n",
    "    \n",
    "    df = pd.concat(\n",
    "        [\n",
    "            df,\n",
    "            pd.DataFrame(\n",
    "                df[df.columns[0]].apply(lambda x: get_close_matches(x, dUnique_df[\"dUnique_label\"].to_list(), n=5, cutoff=0.0)).to_list(),\n",
    "                columns=['rank1', 'rank2', 'rank3', 'rank4', 'rank5'],\n",
    "                index = df.index\n",
    "            )\n",
    "        ], \n",
    "        axis=1, \n",
    "        join=\"inner\"\n",
    "    )\n",
    "    \n",
    "    if find_related_rank:\n",
    "        df.assign(lookup_rank= np.Inf, lookup_rank_related = np.Inf)\n",
    "        for i in df.index:\n",
    "            # Does any of them match\n",
    "            lookup_clean = clean(df.at[i , df.columns[1]])\n",
    "            match_rank = df.loc[i, ['rank1', 'rank2', 'rank3', 'rank4', 'rank5']].eq(lookup_clean).to_numpy().nonzero()\n",
    "\n",
    "\n",
    "            lookup_rank = np.Inf    \n",
    "            if len(match_rank[0]) > 0 :\n",
    "                lookup_rank = match_rank[0][0] + 1\n",
    "            df.loc[i, 'exact_rank'] = lookup_rank\n",
    "\n",
    "            equivalent = np.setdiff1d(vocab[[\"latin_binomial_clean\",\"common_name_clean\"]][(vocab[\"latin_binomial_clean\"] == lookup_clean) | (vocab[\"common_name_clean\"] == lookup_clean)].unstack().unique(), lookup_rank)\n",
    "\n",
    "            related_rank = np.Inf\n",
    "            if len(equivalent) > 0:\n",
    "                for lookup_result in equivalent:\n",
    "                    annotated_rank = df.loc[i][['rank1', 'rank2', 'rank3', 'rank4', 'rank5']].eq(lookup_result).to_numpy().nonzero()\n",
    "                    new_related_rank = np.Inf\n",
    "                    if len(annotated_rank[0]) > 0: \n",
    "                        new_related_rank = annotated_rank[0][0] + 1\n",
    "                        related_rank = min(related_rank, new_related_rank)\n",
    "\n",
    "            #find related mappings to lookup value in predicted values \n",
    "            df.loc[i, 'equivalent_rank'] = min(lookup_rank, related_rank)\n",
    "    return df"
   ]
  },
  {
   "cell_type": "code",
   "execution_count": 38,
   "id": "abde269e",
   "metadata": {},
   "outputs": [],
   "source": [
    "def find_Levenshtein_fuzzy_lookup_and_related_rank(df: pd.DataFrame, find_related_rank: bool = False, report_distances: bool = False) -> pd.DataFrame:\n",
    "    \"\"\"For each row in the input data frame, this function utilizes the Levenshtein distance to find the \n",
    "    top 5 unique natural product names that match the row's 'x' string value.\n",
    "       \n",
    "       \n",
    "    Parameters\n",
    "    ----------\n",
    "    df: pd.DataFrame\n",
    "        A pandas dataframe with the fist column containing 'x' strings to be matched against natural product names.\n",
    "        Optionally containing Pandas Series with the clean encoded 'y' column.\n",
    "    \n",
    "    find_related_rank: bool\n",
    "        A flag indicating wether to compare the top ranked results against the 'y' and it's potential equivalents or not.\n",
    "        \n",
    "    report_distances: bool\n",
    "        A flag indicating return the distance values of the top ranked results against the 'y'.\n",
    "      \n",
    "    Returns\n",
    "    -------\n",
    "    df : pd.DataFrame\n",
    "        Returns the padded 'x', 'y', 'rank1', 'rank2', 'rank3', 'rank4', 'rank5' series.\n",
    "        And additionally the 'exact_rank' and 'equivalent_rank' series and the 'rank1_distance', 'rank2_distance', \n",
    "        'rank3_distance', 'rank4_distance', 'rank5_distance' if requested.\n",
    "    \n",
    "    \"\"\"\n",
    "    \n",
    "    print(\"Using column: {} as input.\".format(df.columns[0]))\n",
    "    \n",
    "    if find_related_rank:\n",
    "        print(\"Using column: {} as target.\".format(df.columns[1]))\n",
    "        df.assign(exact_rank= np.Inf, equivalent_rank = np.Inf)\n",
    "        \n",
    "    if report_distances:\n",
    "        df.assign(rank1_distance=np.Inf, rank2_distance=np.Inf, rank3_distance=np.Inf, rank4_distance=np.Inf, rank5_distance=np.Inf)\n",
    "\n",
    "\n",
    "    for i in df.index:\n",
    "        distances = dUnique_df[\"dUnique_label\"].apply(lambda x: Levenshtein.distance(x, df.at[i, df.columns[0]], score_cutoff = 50)).to_numpy().astype('float32')\n",
    "        argsort = distances.argsort()\n",
    "\n",
    "        \n",
    "        # Top-5 smalles distances\n",
    "        df.loc[i, 'rank1'] = dUnique_df['dUnique_label'][argsort[0]]  \n",
    "        df.loc[i, 'rank2'] = dUnique_df['dUnique_label'][argsort[1]]\n",
    "        df.loc[i, 'rank3'] = dUnique_df['dUnique_label'][argsort[2]]\n",
    "        df.loc[i, 'rank4'] = dUnique_df['dUnique_label'][argsort[3]]\n",
    "        df.loc[i, 'rank5'] = dUnique_df['dUnique_label'][argsort[4]]\n",
    "\n",
    "        if report_distances:\n",
    "            df.loc[i, 'rank1_distance'] = distances[argsort[0]]  \n",
    "            df.loc[i, 'rank2_distance'] = distances[argsort[1]]\n",
    "            df.loc[i, 'rank3_distance'] = distances[argsort[2]]\n",
    "            df.loc[i, 'rank4_distance'] = distances[argsort[3]]\n",
    "            df.loc[i, 'rank5_distance'] = distances[argsort[4]]\n",
    "\n",
    "        if find_related_rank:\n",
    "            df.assign(lookup_rank= np.Inf, lookup_rank_related = np.Inf)\n",
    "            for i in df.index:\n",
    "                # Does any of them match\n",
    "                lookup_clean = clean(df.at[i , df.columns[1]])\n",
    "                match_rank = df.loc[i, ['rank1', 'rank2', 'rank3', 'rank4', 'rank5']].eq(lookup_clean).to_numpy().nonzero()\n",
    "\n",
    "\n",
    "                lookup_rank = np.Inf    \n",
    "                if len(match_rank[0]) > 0 :\n",
    "                    lookup_rank = match_rank[0][0] + 1\n",
    "                df.loc[i, 'exact_rank'] = lookup_rank\n",
    "\n",
    "                equivalent = np.setdiff1d(vocab[[\"latin_binomial_clean\",\"common_name_clean\"]][(vocab[\"latin_binomial_clean\"] == lookup_clean) | (vocab[\"common_name_clean\"] == lookup_clean)].unstack().unique(), lookup_rank)\n",
    "\n",
    "                related_rank = np.Inf\n",
    "                if len(equivalent) > 0:\n",
    "                    for lookup_result in equivalent:\n",
    "                        annotated_rank = df.loc[i][['rank1', 'rank2', 'rank3', 'rank4', 'rank5']].eq(lookup_result).to_numpy().nonzero()\n",
    "                        new_related_rank = np.Inf\n",
    "                        if len(annotated_rank[0]) > 0: \n",
    "                            new_related_rank = annotated_rank[0][0] + 1\n",
    "                            related_rank = min(related_rank, new_related_rank)\n",
    "\n",
    "                #find related mappings to lookup value in predicted values \n",
    "                df.loc[i, 'equivalent_rank'] = min(lookup_rank, related_rank)\n",
    "\n",
    "    return df"
   ]
  },
  {
   "cell_type": "markdown",
   "id": "684b8088",
   "metadata": {},
   "source": [
    "# Create a sample from the test set to evaluate"
   ]
  },
  {
   "cell_type": "code",
   "execution_count": 39,
   "id": "cfdbf207",
   "metadata": {},
   "outputs": [],
   "source": [
    "positive_pairs = test.loc[test[\"Match\"] == 1].sample(n=100)"
   ]
  },
  {
   "cell_type": "markdown",
   "id": "68af1b5a",
   "metadata": {},
   "source": [
    "--------------------------------------"
   ]
  },
  {
   "cell_type": "markdown",
   "id": "305b3a0b",
   "metadata": {},
   "source": [
    "# Structure to contain the results"
   ]
  },
  {
   "cell_type": "code",
   "execution_count": 40,
   "id": "4ec14511",
   "metadata": {},
   "outputs": [],
   "source": [
    "results = pd.DataFrame(index = ['Exact', 'Equivalent'], columns =['Siamese model', 'Levenshtein','Gesalt'])"
   ]
  },
  {
   "cell_type": "markdown",
   "id": "ea208cb0",
   "metadata": {},
   "source": [
    "----------------------------------------------------"
   ]
  },
  {
   "cell_type": "markdown",
   "id": "4dde0323",
   "metadata": {},
   "source": [
    "# Predicted Match MRR Evaluation"
   ]
  },
  {
   "cell_type": "code",
   "execution_count": 41,
   "id": "8a7fa8a0",
   "metadata": {},
   "outputs": [
    {
     "name": "stdout",
     "output_type": "stream",
     "text": [
      "Using column:  x\n",
      "25/25 [==============================] - 0s 2ms/step\n",
      "25/25 [==============================] - 0s 2ms/step\n",
      "25/25 [==============================] - 0s 2ms/step\n",
      "25/25 [==============================] - 0s 2ms/step\n",
      "25/25 [==============================] - 0s 2ms/step\n",
      "25/25 [==============================] - 0s 2ms/step\n",
      "25/25 [==============================] - 0s 3ms/step\n",
      "25/25 [==============================] - 0s 2ms/step\n",
      "25/25 [==============================] - 0s 2ms/step\n",
      "25/25 [==============================] - 0s 2ms/step\n",
      "25/25 [==============================] - 0s 2ms/step\n",
      "25/25 [==============================] - 0s 2ms/step\n",
      "25/25 [==============================] - 0s 3ms/step\n",
      "25/25 [==============================] - 0s 2ms/step\n",
      "25/25 [==============================] - 0s 2ms/step\n",
      "25/25 [==============================] - 0s 2ms/step\n",
      "25/25 [==============================] - 0s 2ms/step\n",
      "25/25 [==============================] - 0s 2ms/step\n",
      "25/25 [==============================] - 0s 2ms/step\n",
      "25/25 [==============================] - 0s 2ms/step\n",
      "25/25 [==============================] - 0s 2ms/step\n",
      "25/25 [==============================] - 0s 2ms/step\n",
      "25/25 [==============================] - 0s 3ms/step\n",
      "25/25 [==============================] - 0s 3ms/step\n",
      "25/25 [==============================] - 0s 2ms/step\n",
      "25/25 [==============================] - 0s 2ms/step\n",
      "25/25 [==============================] - 0s 2ms/step\n",
      "25/25 [==============================] - 0s 2ms/step\n",
      "25/25 [==============================] - 0s 2ms/step\n",
      "25/25 [==============================] - 0s 2ms/step\n",
      "25/25 [==============================] - 0s 2ms/step\n",
      "25/25 [==============================] - 0s 2ms/step\n",
      "25/25 [==============================] - 0s 2ms/step\n",
      "25/25 [==============================] - 0s 2ms/step\n",
      "25/25 [==============================] - 0s 2ms/step\n",
      "25/25 [==============================] - 0s 2ms/step\n",
      "25/25 [==============================] - 0s 2ms/step\n",
      "25/25 [==============================] - 0s 2ms/step\n",
      "25/25 [==============================] - 0s 2ms/step\n",
      "25/25 [==============================] - 0s 3ms/step\n",
      "25/25 [==============================] - 0s 2ms/step\n",
      "25/25 [==============================] - 0s 2ms/step\n",
      "25/25 [==============================] - 0s 2ms/step\n",
      "25/25 [==============================] - 0s 2ms/step\n",
      "25/25 [==============================] - 0s 2ms/step\n",
      "25/25 [==============================] - 0s 2ms/step\n",
      "25/25 [==============================] - 0s 2ms/step\n",
      "25/25 [==============================] - 0s 3ms/step\n",
      "25/25 [==============================] - 0s 2ms/step\n",
      "25/25 [==============================] - 0s 3ms/step\n",
      "25/25 [==============================] - 0s 2ms/step\n",
      "25/25 [==============================] - 0s 2ms/step\n",
      "25/25 [==============================] - 0s 2ms/step\n",
      "25/25 [==============================] - 0s 2ms/step\n",
      "25/25 [==============================] - 0s 2ms/step\n",
      "25/25 [==============================] - 0s 2ms/step\n",
      "25/25 [==============================] - 0s 2ms/step\n",
      "25/25 [==============================] - 0s 3ms/step\n",
      "25/25 [==============================] - 0s 2ms/step\n",
      "25/25 [==============================] - 0s 2ms/step\n",
      "25/25 [==============================] - 0s 2ms/step\n",
      "25/25 [==============================] - 0s 2ms/step\n",
      "25/25 [==============================] - 0s 2ms/step\n",
      "25/25 [==============================] - 0s 2ms/step\n",
      "25/25 [==============================] - 0s 2ms/step\n",
      "25/25 [==============================] - 0s 2ms/step\n",
      "25/25 [==============================] - 0s 3ms/step\n",
      "25/25 [==============================] - 0s 2ms/step\n",
      "25/25 [==============================] - 0s 3ms/step\n",
      "25/25 [==============================] - 0s 2ms/step\n",
      "25/25 [==============================] - 0s 2ms/step\n",
      "25/25 [==============================] - 0s 2ms/step\n",
      "25/25 [==============================] - 0s 2ms/step\n",
      "25/25 [==============================] - 0s 2ms/step\n",
      "25/25 [==============================] - 0s 2ms/step\n",
      "25/25 [==============================] - 0s 2ms/step\n",
      "25/25 [==============================] - 0s 2ms/step\n",
      "25/25 [==============================] - 0s 3ms/step\n",
      "25/25 [==============================] - 0s 2ms/step\n",
      "25/25 [==============================] - 0s 2ms/step\n",
      "25/25 [==============================] - 0s 2ms/step\n",
      "25/25 [==============================] - 0s 3ms/step\n",
      "25/25 [==============================] - 0s 2ms/step\n",
      "25/25 [==============================] - 0s 2ms/step\n",
      "25/25 [==============================] - 0s 2ms/step\n",
      "25/25 [==============================] - 0s 2ms/step\n",
      "25/25 [==============================] - 0s 2ms/step\n",
      "25/25 [==============================] - 0s 2ms/step\n",
      "25/25 [==============================] - 0s 2ms/step\n",
      "25/25 [==============================] - 0s 2ms/step\n",
      "25/25 [==============================] - 0s 3ms/step\n",
      "25/25 [==============================] - 0s 2ms/step\n",
      "25/25 [==============================] - 0s 2ms/step\n",
      "25/25 [==============================] - 0s 3ms/step\n",
      "25/25 [==============================] - 0s 2ms/step\n",
      "25/25 [==============================] - 0s 2ms/step\n",
      "25/25 [==============================] - 0s 2ms/step\n",
      "25/25 [==============================] - 0s 2ms/step\n",
      "25/25 [==============================] - 0s 2ms/step\n",
      "25/25 [==============================] - 0s 2ms/step\n"
     ]
    }
   ],
   "source": [
    "predicted = find_ranks(model, positive_pairs,  True, True)"
   ]
  },
  {
   "cell_type": "code",
   "execution_count": 42,
   "id": "6991befc",
   "metadata": {},
   "outputs": [
    {
     "data": {
      "text/html": [
       "<div>\n",
       "<style scoped>\n",
       "    .dataframe tbody tr th:only-of-type {\n",
       "        vertical-align: middle;\n",
       "    }\n",
       "\n",
       "    .dataframe tbody tr th {\n",
       "        vertical-align: top;\n",
       "    }\n",
       "\n",
       "    .dataframe thead th {\n",
       "        text-align: right;\n",
       "    }\n",
       "</style>\n",
       "<table border=\"1\" class=\"dataframe\">\n",
       "  <thead>\n",
       "    <tr style=\"text-align: right;\">\n",
       "      <th></th>\n",
       "      <th>exact_reciprocal_rank</th>\n",
       "      <th>equivalent_reciprocal_rank</th>\n",
       "    </tr>\n",
       "  </thead>\n",
       "  <tbody>\n",
       "    <tr>\n",
       "      <th>count</th>\n",
       "      <td>100.000000</td>\n",
       "      <td>100.000000</td>\n",
       "    </tr>\n",
       "    <tr>\n",
       "      <th>mean</th>\n",
       "      <td>0.179167</td>\n",
       "      <td>0.307833</td>\n",
       "    </tr>\n",
       "    <tr>\n",
       "      <th>std</th>\n",
       "      <td>0.288377</td>\n",
       "      <td>0.381330</td>\n",
       "    </tr>\n",
       "    <tr>\n",
       "      <th>min</th>\n",
       "      <td>0.000000</td>\n",
       "      <td>0.000000</td>\n",
       "    </tr>\n",
       "    <tr>\n",
       "      <th>25%</th>\n",
       "      <td>0.000000</td>\n",
       "      <td>0.000000</td>\n",
       "    </tr>\n",
       "    <tr>\n",
       "      <th>50%</th>\n",
       "      <td>0.000000</td>\n",
       "      <td>0.200000</td>\n",
       "    </tr>\n",
       "    <tr>\n",
       "      <th>75%</th>\n",
       "      <td>0.333333</td>\n",
       "      <td>0.500000</td>\n",
       "    </tr>\n",
       "    <tr>\n",
       "      <th>max</th>\n",
       "      <td>1.000000</td>\n",
       "      <td>1.000000</td>\n",
       "    </tr>\n",
       "  </tbody>\n",
       "</table>\n",
       "</div>"
      ],
      "text/plain": [
       "       exact_reciprocal_rank  equivalent_reciprocal_rank\n",
       "count             100.000000                  100.000000\n",
       "mean                0.179167                    0.307833\n",
       "std                 0.288377                    0.381330\n",
       "min                 0.000000                    0.000000\n",
       "25%                 0.000000                    0.000000\n",
       "50%                 0.000000                    0.200000\n",
       "75%                 0.333333                    0.500000\n",
       "max                 1.000000                    1.000000"
      ]
     },
     "execution_count": 42,
     "metadata": {},
     "output_type": "execute_result"
    }
   ],
   "source": [
    "models_mrr = predicted.loc[:,['x', 'exact_rank', 'equivalent_rank']]\n",
    "models_mrr.loc[:,'exact_reciprocal_rank'] = 1/models_mrr.loc[:, 'exact_rank']\n",
    "models_mrr.loc[:,'equivalent_reciprocal_rank'] = 1/models_mrr.loc[:, 'equivalent_rank']\n",
    "models_mrr[['exact_reciprocal_rank', 'equivalent_reciprocal_rank']].describe()"
   ]
  },
  {
   "cell_type": "code",
   "execution_count": 43,
   "id": "babb2c7d",
   "metadata": {},
   "outputs": [
    {
     "data": {
      "text/plain": [
       "(inf, nan)"
      ]
     },
     "execution_count": 43,
     "metadata": {},
     "output_type": "execute_result"
    }
   ],
   "source": [
    "#get median and stdev\n",
    "models_mrr['exact_rank'].median(), models_mrr['exact_rank'].std()"
   ]
  },
  {
   "cell_type": "code",
   "execution_count": 44,
   "id": "00fee30d",
   "metadata": {},
   "outputs": [
    {
     "data": {
      "text/plain": [
       "(5.0, nan)"
      ]
     },
     "execution_count": 44,
     "metadata": {},
     "output_type": "execute_result"
    }
   ],
   "source": [
    "#get median and stdev\n",
    "models_mrr['equivalent_rank'].median(), models_mrr['equivalent_rank'].std()"
   ]
  },
  {
   "cell_type": "code",
   "execution_count": 45,
   "id": "c00accdc",
   "metadata": {},
   "outputs": [],
   "source": [
    "results.loc['Exact', 'Siamese model'] = 1/models_mrr.size  * models_mrr['exact_reciprocal_rank'].sum()"
   ]
  },
  {
   "cell_type": "code",
   "execution_count": 46,
   "id": "735ba93d",
   "metadata": {},
   "outputs": [],
   "source": [
    "results.loc['Equivalent', 'Siamese model'] = 1/models_mrr.size  * models_mrr['equivalent_reciprocal_rank'].sum()"
   ]
  },
  {
   "cell_type": "markdown",
   "id": "562db835",
   "metadata": {},
   "source": [
    "--------------------------------------"
   ]
  },
  {
   "cell_type": "markdown",
   "id": "75bbde8a",
   "metadata": {},
   "source": [
    "# Comparison with fuzzy string match"
   ]
  },
  {
   "cell_type": "markdown",
   "id": "77b00f22",
   "metadata": {},
   "source": [
    "# Fuzzy Levenshtein Match MRR Evaluation"
   ]
  },
  {
   "cell_type": "code",
   "execution_count": 47,
   "id": "5c4b976e",
   "metadata": {},
   "outputs": [
    {
     "name": "stdout",
     "output_type": "stream",
     "text": [
      "Using column: x as input.\n",
      "Using column: y as target.\n"
     ]
    }
   ],
   "source": [
    "Levenshtein_match = find_Levenshtein_fuzzy_lookup_and_related_rank(positive_pairs.loc[:, ('x', 'y')], True, True)"
   ]
  },
  {
   "cell_type": "code",
   "execution_count": 48,
   "id": "695f97e8",
   "metadata": {},
   "outputs": [
    {
     "data": {
      "text/html": [
       "<div>\n",
       "<style scoped>\n",
       "    .dataframe tbody tr th:only-of-type {\n",
       "        vertical-align: middle;\n",
       "    }\n",
       "\n",
       "    .dataframe tbody tr th {\n",
       "        vertical-align: top;\n",
       "    }\n",
       "\n",
       "    .dataframe thead th {\n",
       "        text-align: right;\n",
       "    }\n",
       "</style>\n",
       "<table border=\"1\" class=\"dataframe\">\n",
       "  <thead>\n",
       "    <tr style=\"text-align: right;\">\n",
       "      <th></th>\n",
       "      <th>exact_reciprocal_rank</th>\n",
       "      <th>equivalent_reciprocal_rank</th>\n",
       "    </tr>\n",
       "  </thead>\n",
       "  <tbody>\n",
       "    <tr>\n",
       "      <th>count</th>\n",
       "      <td>100.000000</td>\n",
       "      <td>100.000000</td>\n",
       "    </tr>\n",
       "    <tr>\n",
       "      <th>mean</th>\n",
       "      <td>0.319000</td>\n",
       "      <td>0.622167</td>\n",
       "    </tr>\n",
       "    <tr>\n",
       "      <th>std</th>\n",
       "      <td>0.455371</td>\n",
       "      <td>0.464503</td>\n",
       "    </tr>\n",
       "    <tr>\n",
       "      <th>min</th>\n",
       "      <td>0.000000</td>\n",
       "      <td>0.000000</td>\n",
       "    </tr>\n",
       "    <tr>\n",
       "      <th>25%</th>\n",
       "      <td>0.000000</td>\n",
       "      <td>0.000000</td>\n",
       "    </tr>\n",
       "    <tr>\n",
       "      <th>50%</th>\n",
       "      <td>0.000000</td>\n",
       "      <td>1.000000</td>\n",
       "    </tr>\n",
       "    <tr>\n",
       "      <th>75%</th>\n",
       "      <td>1.000000</td>\n",
       "      <td>1.000000</td>\n",
       "    </tr>\n",
       "    <tr>\n",
       "      <th>max</th>\n",
       "      <td>1.000000</td>\n",
       "      <td>1.000000</td>\n",
       "    </tr>\n",
       "  </tbody>\n",
       "</table>\n",
       "</div>"
      ],
      "text/plain": [
       "       exact_reciprocal_rank  equivalent_reciprocal_rank\n",
       "count             100.000000                  100.000000\n",
       "mean                0.319000                    0.622167\n",
       "std                 0.455371                    0.464503\n",
       "min                 0.000000                    0.000000\n",
       "25%                 0.000000                    0.000000\n",
       "50%                 0.000000                    1.000000\n",
       "75%                 1.000000                    1.000000\n",
       "max                 1.000000                    1.000000"
      ]
     },
     "execution_count": 48,
     "metadata": {},
     "output_type": "execute_result"
    }
   ],
   "source": [
    "Levenshtein_mrr = Levenshtein_match.loc[:,['x', 'exact_rank', 'equivalent_rank']]\n",
    "Levenshtein_mrr.loc[:,'exact_reciprocal_rank'] = 1/Levenshtein_mrr.loc[:, 'exact_rank']\n",
    "Levenshtein_mrr.loc[:,'equivalent_reciprocal_rank'] = 1/Levenshtein_mrr.loc[:, 'equivalent_rank']\n",
    "Levenshtein_mrr[['exact_reciprocal_rank', 'equivalent_reciprocal_rank']].describe()"
   ]
  },
  {
   "cell_type": "code",
   "execution_count": 49,
   "id": "06fc8e14",
   "metadata": {},
   "outputs": [
    {
     "data": {
      "text/plain": [
       "(inf, nan)"
      ]
     },
     "execution_count": 49,
     "metadata": {},
     "output_type": "execute_result"
    }
   ],
   "source": [
    "#get median and stdev\n",
    "Levenshtein_mrr['exact_rank'].median(), Levenshtein_mrr['exact_rank'].std()"
   ]
  },
  {
   "cell_type": "code",
   "execution_count": 50,
   "id": "98c52c98",
   "metadata": {},
   "outputs": [
    {
     "data": {
      "text/plain": [
       "(1.0, nan)"
      ]
     },
     "execution_count": 50,
     "metadata": {},
     "output_type": "execute_result"
    }
   ],
   "source": [
    "#get median and stdev\n",
    "Levenshtein_mrr['equivalent_rank'].median(), Levenshtein_mrr['equivalent_rank'].std()"
   ]
  },
  {
   "cell_type": "code",
   "execution_count": 51,
   "id": "26a668bb",
   "metadata": {},
   "outputs": [],
   "source": [
    "results.loc['Exact', 'Levenshtein'] = 1/Levenshtein_mrr.size  * Levenshtein_mrr['exact_reciprocal_rank'].sum()"
   ]
  },
  {
   "cell_type": "code",
   "execution_count": 52,
   "id": "0fda3e10",
   "metadata": {},
   "outputs": [],
   "source": [
    "results.loc['Equivalent', 'Levenshtein'] = 1/Levenshtein_mrr.size  * Levenshtein_mrr['equivalent_reciprocal_rank'].sum()"
   ]
  },
  {
   "cell_type": "markdown",
   "id": "a4ab4fa9",
   "metadata": {},
   "source": [
    "--------------------------------------"
   ]
  },
  {
   "cell_type": "markdown",
   "id": "df1e1cbd",
   "metadata": {},
   "source": [
    "# Fuzzy Gesalt Match MRR Evaluation"
   ]
  },
  {
   "cell_type": "code",
   "execution_count": 53,
   "id": "0e4c62a5",
   "metadata": {},
   "outputs": [],
   "source": [
    "fuzzy_match = find_Gesalt_fuzzy_lookup_and_related_rank(positive_pairs.loc[:, ('x', 'y')], True)"
   ]
  },
  {
   "cell_type": "code",
   "execution_count": 54,
   "id": "a7c71693",
   "metadata": {},
   "outputs": [
    {
     "data": {
      "text/html": [
       "<div>\n",
       "<style scoped>\n",
       "    .dataframe tbody tr th:only-of-type {\n",
       "        vertical-align: middle;\n",
       "    }\n",
       "\n",
       "    .dataframe tbody tr th {\n",
       "        vertical-align: top;\n",
       "    }\n",
       "\n",
       "    .dataframe thead th {\n",
       "        text-align: right;\n",
       "    }\n",
       "</style>\n",
       "<table border=\"1\" class=\"dataframe\">\n",
       "  <thead>\n",
       "    <tr style=\"text-align: right;\">\n",
       "      <th></th>\n",
       "      <th>exact_reciprocal_rank</th>\n",
       "      <th>equivalent_reciprocal_rank</th>\n",
       "    </tr>\n",
       "  </thead>\n",
       "  <tbody>\n",
       "    <tr>\n",
       "      <th>count</th>\n",
       "      <td>100.000000</td>\n",
       "      <td>100.000000</td>\n",
       "    </tr>\n",
       "    <tr>\n",
       "      <th>mean</th>\n",
       "      <td>0.302500</td>\n",
       "      <td>0.645000</td>\n",
       "    </tr>\n",
       "    <tr>\n",
       "      <th>std</th>\n",
       "      <td>0.446594</td>\n",
       "      <td>0.464452</td>\n",
       "    </tr>\n",
       "    <tr>\n",
       "      <th>min</th>\n",
       "      <td>0.000000</td>\n",
       "      <td>0.000000</td>\n",
       "    </tr>\n",
       "    <tr>\n",
       "      <th>25%</th>\n",
       "      <td>0.000000</td>\n",
       "      <td>0.000000</td>\n",
       "    </tr>\n",
       "    <tr>\n",
       "      <th>50%</th>\n",
       "      <td>0.000000</td>\n",
       "      <td>1.000000</td>\n",
       "    </tr>\n",
       "    <tr>\n",
       "      <th>75%</th>\n",
       "      <td>1.000000</td>\n",
       "      <td>1.000000</td>\n",
       "    </tr>\n",
       "    <tr>\n",
       "      <th>max</th>\n",
       "      <td>1.000000</td>\n",
       "      <td>1.000000</td>\n",
       "    </tr>\n",
       "  </tbody>\n",
       "</table>\n",
       "</div>"
      ],
      "text/plain": [
       "       exact_reciprocal_rank  equivalent_reciprocal_rank\n",
       "count             100.000000                  100.000000\n",
       "mean                0.302500                    0.645000\n",
       "std                 0.446594                    0.464452\n",
       "min                 0.000000                    0.000000\n",
       "25%                 0.000000                    0.000000\n",
       "50%                 0.000000                    1.000000\n",
       "75%                 1.000000                    1.000000\n",
       "max                 1.000000                    1.000000"
      ]
     },
     "execution_count": 54,
     "metadata": {},
     "output_type": "execute_result"
    }
   ],
   "source": [
    "fuzzy_mrr = fuzzy_match.loc[:,['x', 'exact_rank', 'equivalent_rank']]\n",
    "fuzzy_mrr.loc[:,'exact_reciprocal_rank'] = 1/fuzzy_mrr.loc[:, 'exact_rank']\n",
    "fuzzy_mrr.loc[:,'equivalent_reciprocal_rank'] = 1/fuzzy_mrr.loc[:, 'equivalent_rank']\n",
    "fuzzy_mrr[['exact_reciprocal_rank', 'equivalent_reciprocal_rank']].describe()"
   ]
  },
  {
   "cell_type": "code",
   "execution_count": 55,
   "id": "aeeb02e9",
   "metadata": {},
   "outputs": [
    {
     "data": {
      "text/plain": [
       "(inf, nan)"
      ]
     },
     "execution_count": 55,
     "metadata": {},
     "output_type": "execute_result"
    }
   ],
   "source": [
    "#get median and stdev\n",
    "fuzzy_mrr['exact_rank'].median(), fuzzy_mrr['exact_rank'].std()"
   ]
  },
  {
   "cell_type": "code",
   "execution_count": 56,
   "id": "778fa0ba",
   "metadata": {},
   "outputs": [
    {
     "data": {
      "text/plain": [
       "(1.0, nan)"
      ]
     },
     "execution_count": 56,
     "metadata": {},
     "output_type": "execute_result"
    }
   ],
   "source": [
    "#get median and stdev\n",
    "fuzzy_mrr['equivalent_rank'].median(), fuzzy_mrr['equivalent_rank'].std()"
   ]
  },
  {
   "cell_type": "code",
   "execution_count": 57,
   "id": "a4b9cce4",
   "metadata": {},
   "outputs": [],
   "source": [
    "results.loc['Exact', 'Gesalt'] = 1/fuzzy_mrr.size  * fuzzy_mrr['exact_reciprocal_rank'].sum()"
   ]
  },
  {
   "cell_type": "code",
   "execution_count": 58,
   "id": "ef6320fb",
   "metadata": {},
   "outputs": [],
   "source": [
    "results.loc['Equivalent', 'Gesalt'] = 1/fuzzy_mrr.size  * fuzzy_mrr['equivalent_reciprocal_rank'].sum()"
   ]
  },
  {
   "cell_type": "markdown",
   "id": "6d3a4049",
   "metadata": {},
   "source": [
    "--------------------------------------"
   ]
  },
  {
   "cell_type": "code",
   "execution_count": 59,
   "id": "bef51852",
   "metadata": {},
   "outputs": [
    {
     "data": {
      "text/html": [
       "<div>\n",
       "<style scoped>\n",
       "    .dataframe tbody tr th:only-of-type {\n",
       "        vertical-align: middle;\n",
       "    }\n",
       "\n",
       "    .dataframe tbody tr th {\n",
       "        vertical-align: top;\n",
       "    }\n",
       "\n",
       "    .dataframe thead th {\n",
       "        text-align: right;\n",
       "    }\n",
       "</style>\n",
       "<table border=\"1\" class=\"dataframe\">\n",
       "  <thead>\n",
       "    <tr style=\"text-align: right;\">\n",
       "      <th></th>\n",
       "      <th>Exact</th>\n",
       "      <th>Equivalent</th>\n",
       "    </tr>\n",
       "  </thead>\n",
       "  <tbody>\n",
       "    <tr>\n",
       "      <th>Siamese model</th>\n",
       "      <td>0.035833</td>\n",
       "      <td>0.061567</td>\n",
       "    </tr>\n",
       "    <tr>\n",
       "      <th>Levenshtein</th>\n",
       "      <td>0.0638</td>\n",
       "      <td>0.124433</td>\n",
       "    </tr>\n",
       "    <tr>\n",
       "      <th>Gesalt</th>\n",
       "      <td>0.0605</td>\n",
       "      <td>0.129</td>\n",
       "    </tr>\n",
       "  </tbody>\n",
       "</table>\n",
       "</div>"
      ],
      "text/plain": [
       "                  Exact Equivalent\n",
       "Siamese model  0.035833   0.061567\n",
       "Levenshtein      0.0638   0.124433\n",
       "Gesalt           0.0605      0.129"
      ]
     },
     "execution_count": 59,
     "metadata": {},
     "output_type": "execute_result"
    }
   ],
   "source": [
    "results.T"
   ]
  },
  {
   "cell_type": "code",
   "execution_count": 60,
   "id": "162592c4",
   "metadata": {},
   "outputs": [
    {
     "data": {
      "image/png": "[encoded data removed]",
      "text/plain": [
       "<Figure size 432x288 with 2 Axes>"
      ]
     },
     "metadata": {
      "needs_background": "light"
     },
     "output_type": "display_data"
    }
   ],
   "source": [
    "results.T.plot.bar(rot=0, subplots=True);"
   ]
  },
  {
   "cell_type": "code",
   "execution_count": 61,
   "id": "6161b817",
   "metadata": {},
   "outputs": [
    {
     "data": {
      "text/plain": [
       "[0.03583333333333332, 0.0638, 0.0605]"
      ]
     },
     "execution_count": 61,
     "metadata": {},
     "output_type": "execute_result"
    }
   ],
   "source": [
    "results.loc[\"Exact\"].to_list()"
   ]
  },
  {
   "cell_type": "code",
   "execution_count": 62,
   "id": "939a3e64",
   "metadata": {},
   "outputs": [
    {
     "data": {
      "image/png": "[encoded data removed]",
      "text/plain": [
       "<Figure size 720x360 with 1 Axes>"
      ]
     },
     "metadata": {
      "needs_background": "light"
     },
     "output_type": "display_data"
    }
   ],
   "source": [
    "# print(results)\n",
    "X = results.columns\n",
    "Exact = results.loc[\"Exact\"].to_list()\n",
    "Equivalent = results.loc[\"Equivalent\"].to_list()\n",
    "\n",
    "X_axis = np.arange(len(X))\n",
    "plt.figure(figsize=[10,5])\n",
    "\n",
    "plt.bar(X_axis - 0.2, Exact, 0.4, label = 'Exact')\n",
    "plt.bar(X_axis + 0.2, Equivalent, 0.4, label = 'Equivalent')\n",
    "\n",
    "plt.axhline(y=max(Equivalent), color=\"orange\", linestyle=\"--\")\n",
    "plt.axhline(y=max(Exact), color=\"blue\", linestyle=\"--\")\n",
    "    \n",
    "plt.xticks(X_axis, X)\n",
    "plt.xlabel(\"Approaches\")\n",
    "plt.ylabel(\"MRR\")\n",
    "plt.title(\"Comparison of MRR across multiple approaches\")\n",
    "plt.legend()\n",
    "plt.show()"
   ]
  },
  {
   "cell_type": "markdown",
   "id": "97a0149b",
   "metadata": {},
   "source": [
    "# Translation tests"
   ]
  },
  {
   "cell_type": "code",
   "execution_count": 63,
   "id": "197a11ca",
   "metadata": {},
   "outputs": [
    {
     "name": "stdout",
     "output_type": "stream",
     "text": [
      "<class 'pandas.core.frame.DataFrame'>\n",
      "RangeIndex: 5950 entries, 0 to 5949\n",
      "Data columns (total 1 columns):\n",
      " #   Column   Non-Null Count  Dtype \n",
      "---  ------   --------------  ----- \n",
      " 0   np_name  5950 non-null   object\n",
      "dtypes: object(1)\n",
      "memory usage: 46.6+ KB\n",
      "None\n",
      "Processing file: ----------------------------------------\n",
      "Renaming colums:\n",
      "\tCurrent names: Index(['np_name'], dtype='object')\n",
      "\tNew names: Index(['x'], dtype='object')\n",
      "Dropping row with empty cells:\n",
      "\tDropped 0 rows with empty cells.\n",
      "Dropping sequences longer than the maxlen of 65:\n",
      "\tDropped 1 that exceeded the maximum sequence length.\n",
      "\tCleaning string sequences.\n",
      "\tUppercasing string sequences.\n",
      "Dropping duplicate sequences:\n",
      "\tDropped 35 duplicate sequences.\n",
      "Done processing: ---------------------------------------\n",
      "<class 'pandas.core.frame.DataFrame'>\n",
      "RangeIndex: 5914 entries, 0 to 5913\n",
      "Data columns (total 1 columns):\n",
      " #   Column  Non-Null Count  Dtype \n",
      "---  ------  --------------  ----- \n",
      " 0   x       5914 non-null   object\n",
      "dtypes: object(1)\n",
      "memory usage: 46.3+ KB\n",
      "None\n"
     ]
    }
   ],
   "source": [
    "translation = '../data/translation_test_nps_202203171038.csv'\n",
    "translation_set = preprocessInput(translation, MAXLEN)"
   ]
  },
  {
   "cell_type": "code",
   "execution_count": 64,
   "id": "192c7037",
   "metadata": {},
   "outputs": [
    {
     "data": {
      "text/html": [
       "<div>\n",
       "<style scoped>\n",
       "    .dataframe tbody tr th:only-of-type {\n",
       "        vertical-align: middle;\n",
       "    }\n",
       "\n",
       "    .dataframe tbody tr th {\n",
       "        vertical-align: top;\n",
       "    }\n",
       "\n",
       "    .dataframe thead th {\n",
       "        text-align: right;\n",
       "    }\n",
       "</style>\n",
       "<table border=\"1\" class=\"dataframe\">\n",
       "  <thead>\n",
       "    <tr style=\"text-align: right;\">\n",
       "      <th></th>\n",
       "      <th>x</th>\n",
       "    </tr>\n",
       "  </thead>\n",
       "  <tbody>\n",
       "    <tr>\n",
       "      <th>0</th>\n",
       "      <td>XTNNP</td>\n",
       "    </tr>\n",
       "    <tr>\n",
       "      <th>1</th>\n",
       "      <td>NWLMKV</td>\n",
       "    </tr>\n",
       "    <tr>\n",
       "      <th>2</th>\n",
       "      <td>WZMFCEA</td>\n",
       "    </tr>\n",
       "    <tr>\n",
       "      <th>3</th>\n",
       "      <td>AARONSROD</td>\n",
       "    </tr>\n",
       "    <tr>\n",
       "      <th>4</th>\n",
       "      <td>AARONS ROD WHOLE</td>\n",
       "    </tr>\n",
       "  </tbody>\n",
       "</table>\n",
       "</div>"
      ],
      "text/plain": [
       "                  x\n",
       "0             XTNNP\n",
       "1            NWLMKV\n",
       "2           WZMFCEA\n",
       "3         AARONSROD\n",
       "4  AARONS ROD WHOLE"
      ]
     },
     "execution_count": 64,
     "metadata": {},
     "output_type": "execute_result"
    }
   ],
   "source": [
    "translation_set.head()"
   ]
  },
  {
   "cell_type": "code",
   "execution_count": 65,
   "id": "d9311f27",
   "metadata": {},
   "outputs": [
    {
     "name": "stdout",
     "output_type": "stream",
     "text": [
      "Encoding and Padding: ----------------------------------\n",
      "\tProcessing x\n",
      "Tagging: -----------------------------------------------\n"
     ]
    },
    {
     "data": {
      "text/html": [
       "<div>\n",
       "<style scoped>\n",
       "    .dataframe tbody tr th:only-of-type {\n",
       "        vertical-align: middle;\n",
       "    }\n",
       "\n",
       "    .dataframe tbody tr th {\n",
       "        vertical-align: top;\n",
       "    }\n",
       "\n",
       "    .dataframe thead th {\n",
       "        text-align: right;\n",
       "    }\n",
       "</style>\n",
       "<table border=\"1\" class=\"dataframe\">\n",
       "  <thead>\n",
       "    <tr style=\"text-align: right;\">\n",
       "      <th></th>\n",
       "      <th>x</th>\n",
       "      <th>Processed_x</th>\n",
       "      <th>Match</th>\n",
       "      <th>Distance</th>\n",
       "    </tr>\n",
       "  </thead>\n",
       "  <tbody>\n",
       "    <tr>\n",
       "      <th>0</th>\n",
       "      <td>XTNNP</td>\n",
       "      <td>[24, 20, 14, 14, 16, 0, 0, 0, 0, 0, 0, 0, 0, 0...</td>\n",
       "      <td>1</td>\n",
       "      <td>0</td>\n",
       "    </tr>\n",
       "    <tr>\n",
       "      <th>1</th>\n",
       "      <td>NWLMKV</td>\n",
       "      <td>[14, 23, 12, 13, 11, 22, 0, 0, 0, 0, 0, 0, 0, ...</td>\n",
       "      <td>1</td>\n",
       "      <td>0</td>\n",
       "    </tr>\n",
       "    <tr>\n",
       "      <th>2</th>\n",
       "      <td>WZMFCEA</td>\n",
       "      <td>[23, 26, 13, 6, 3, 5, 1, 0, 0, 0, 0, 0, 0, 0, ...</td>\n",
       "      <td>1</td>\n",
       "      <td>0</td>\n",
       "    </tr>\n",
       "    <tr>\n",
       "      <th>3</th>\n",
       "      <td>AARONSROD</td>\n",
       "      <td>[1, 1, 18, 15, 14, 19, 18, 15, 4, 0, 0, 0, 0, ...</td>\n",
       "      <td>1</td>\n",
       "      <td>0</td>\n",
       "    </tr>\n",
       "    <tr>\n",
       "      <th>4</th>\n",
       "      <td>AARONS ROD WHOLE</td>\n",
       "      <td>[1, 1, 18, 15, 14, 19, 27, 18, 15, 4, 27, 23, ...</td>\n",
       "      <td>1</td>\n",
       "      <td>0</td>\n",
       "    </tr>\n",
       "    <tr>\n",
       "      <th>...</th>\n",
       "      <td>...</td>\n",
       "      <td>...</td>\n",
       "      <td>...</td>\n",
       "      <td>...</td>\n",
       "    </tr>\n",
       "    <tr>\n",
       "      <th>5909</th>\n",
       "      <td>ZINGIBER ZINGIBER WHOLE</td>\n",
       "      <td>[26, 9, 14, 7, 9, 2, 5, 18, 27, 26, 9, 14, 7, ...</td>\n",
       "      <td>1</td>\n",
       "      <td>0</td>\n",
       "    </tr>\n",
       "    <tr>\n",
       "      <th>5910</th>\n",
       "      <td>ZYGAENA ERYTHRAEA WHOLE</td>\n",
       "      <td>[26, 25, 7, 1, 5, 14, 1, 27, 5, 18, 25, 20, 8,...</td>\n",
       "      <td>1</td>\n",
       "      <td>0</td>\n",
       "    </tr>\n",
       "    <tr>\n",
       "      <th>5911</th>\n",
       "      <td>ZYGAENA INDICA WHOLE</td>\n",
       "      <td>[26, 25, 7, 1, 5, 14, 1, 27, 9, 14, 4, 9, 3, 1...</td>\n",
       "      <td>1</td>\n",
       "      <td>0</td>\n",
       "    </tr>\n",
       "    <tr>\n",
       "      <th>5912</th>\n",
       "      <td>ZYGAENA LEWINI WHOLE</td>\n",
       "      <td>[26, 25, 7, 1, 5, 14, 1, 27, 12, 5, 23, 9, 14,...</td>\n",
       "      <td>1</td>\n",
       "      <td>0</td>\n",
       "    </tr>\n",
       "    <tr>\n",
       "      <th>5913</th>\n",
       "      <td>ZYGAENA MALLEUS WHOLE</td>\n",
       "      <td>[26, 25, 7, 1, 5, 14, 1, 27, 13, 1, 12, 12, 5,...</td>\n",
       "      <td>1</td>\n",
       "      <td>0</td>\n",
       "    </tr>\n",
       "  </tbody>\n",
       "</table>\n",
       "<p>5914 rows × 4 columns</p>\n",
       "</div>"
      ],
      "text/plain": [
       "                            x  \\\n",
       "0                       XTNNP   \n",
       "1                      NWLMKV   \n",
       "2                     WZMFCEA   \n",
       "3                   AARONSROD   \n",
       "4            AARONS ROD WHOLE   \n",
       "...                       ...   \n",
       "5909  ZINGIBER ZINGIBER WHOLE   \n",
       "5910  ZYGAENA ERYTHRAEA WHOLE   \n",
       "5911     ZYGAENA INDICA WHOLE   \n",
       "5912     ZYGAENA LEWINI WHOLE   \n",
       "5913    ZYGAENA MALLEUS WHOLE   \n",
       "\n",
       "                                            Processed_x  Match  Distance  \n",
       "0     [24, 20, 14, 14, 16, 0, 0, 0, 0, 0, 0, 0, 0, 0...      1         0  \n",
       "1     [14, 23, 12, 13, 11, 22, 0, 0, 0, 0, 0, 0, 0, ...      1         0  \n",
       "2     [23, 26, 13, 6, 3, 5, 1, 0, 0, 0, 0, 0, 0, 0, ...      1         0  \n",
       "3     [1, 1, 18, 15, 14, 19, 18, 15, 4, 0, 0, 0, 0, ...      1         0  \n",
       "4     [1, 1, 18, 15, 14, 19, 27, 18, 15, 4, 27, 23, ...      1         0  \n",
       "...                                                 ...    ...       ...  \n",
       "5909  [26, 9, 14, 7, 9, 2, 5, 18, 27, 26, 9, 14, 7, ...      1         0  \n",
       "5910  [26, 25, 7, 1, 5, 14, 1, 27, 5, 18, 25, 20, 8,...      1         0  \n",
       "5911  [26, 25, 7, 1, 5, 14, 1, 27, 9, 14, 4, 9, 3, 1...      1         0  \n",
       "5912  [26, 25, 7, 1, 5, 14, 1, 27, 12, 5, 23, 9, 14,...      1         0  \n",
       "5913  [26, 25, 7, 1, 5, 14, 1, 27, 13, 1, 12, 12, 5,...      1         0  \n",
       "\n",
       "[5914 rows x 4 columns]"
      ]
     },
     "execution_count": 65,
     "metadata": {},
     "output_type": "execute_result"
    }
   ],
   "source": [
    "encode_pad_tag(translation_set, 1, 0, MAXLEN)"
   ]
  },
  {
   "cell_type": "code",
   "execution_count": 66,
   "id": "cc913215",
   "metadata": {},
   "outputs": [
    {
     "name": "stdout",
     "output_type": "stream",
     "text": [
      "Using column:  x\n",
      "25/25 [==============================] - 0s 2ms/step\n",
      "25/25 [==============================] - 0s 2ms/step\n",
      "25/25 [==============================] - 0s 2ms/step\n",
      "25/25 [==============================] - 0s 2ms/step\n",
      "25/25 [==============================] - 0s 2ms/step\n",
      "25/25 [==============================] - 0s 2ms/step\n",
      "25/25 [==============================] - 0s 2ms/step\n",
      "25/25 [==============================] - 0s 2ms/step\n",
      "25/25 [==============================] - 0s 2ms/step\n",
      "25/25 [==============================] - 0s 2ms/step\n"
     ]
    }
   ],
   "source": [
    "novelty = find_ranks(model, translation_set.sample(n=10), False)"
   ]
  },
  {
   "cell_type": "code",
   "execution_count": 67,
   "id": "be6ddfaa",
   "metadata": {},
   "outputs": [
    {
     "data": {
      "text/html": [
       "<div>\n",
       "<style scoped>\n",
       "    .dataframe tbody tr th:only-of-type {\n",
       "        vertical-align: middle;\n",
       "    }\n",
       "\n",
       "    .dataframe tbody tr th {\n",
       "        vertical-align: top;\n",
       "    }\n",
       "\n",
       "    .dataframe thead th {\n",
       "        text-align: right;\n",
       "    }\n",
       "</style>\n",
       "<table border=\"1\" class=\"dataframe\">\n",
       "  <thead>\n",
       "    <tr style=\"text-align: right;\">\n",
       "      <th></th>\n",
       "      <th>x</th>\n",
       "      <th>Processed_x</th>\n",
       "      <th>Match</th>\n",
       "      <th>Distance</th>\n",
       "      <th>rank1</th>\n",
       "      <th>rank2</th>\n",
       "      <th>rank3</th>\n",
       "      <th>rank4</th>\n",
       "      <th>rank5</th>\n",
       "    </tr>\n",
       "  </thead>\n",
       "  <tbody>\n",
       "    <tr>\n",
       "      <th>5810</th>\n",
       "      <td>WITCHAZEL</td>\n",
       "      <td>[23, 9, 20, 3, 8, 1, 26, 5, 12, 0, 0, 0, 0, 0,...</td>\n",
       "      <td>1</td>\n",
       "      <td>0</td>\n",
       "      <td>SPARTIUM JUNCEUM</td>\n",
       "      <td>ACTAEA RACEMOSA</td>\n",
       "      <td>TRITICUM AESTIVUM</td>\n",
       "      <td>PAUSINYSTALIA JOHIMBE</td>\n",
       "      <td>STERCULIA URENS</td>\n",
       "    </tr>\n",
       "    <tr>\n",
       "      <th>2184</th>\n",
       "      <td>ELEUTHERO WHOLE</td>\n",
       "      <td>[5, 12, 5, 21, 20, 8, 5, 18, 15, 27, 23, 8, 15...</td>\n",
       "      <td>1</td>\n",
       "      <td>0</td>\n",
       "      <td>ELDERBERRY</td>\n",
       "      <td>COLEUS</td>\n",
       "      <td>HORSETAIL</td>\n",
       "      <td>CORDYCEPS</td>\n",
       "      <td>HORNY GOAT WEED</td>\n",
       "    </tr>\n",
       "    <tr>\n",
       "      <th>3147</th>\n",
       "      <td>JUGLANS REGIA L</td>\n",
       "      <td>[10, 21, 7, 12, 1, 14, 19, 27, 18, 5, 7, 9, 1,...</td>\n",
       "      <td>1</td>\n",
       "      <td>0</td>\n",
       "      <td>LINARIA VULGARIS</td>\n",
       "      <td>JUGLANS NIGRA</td>\n",
       "      <td>FRANGULA ALNUS</td>\n",
       "      <td>GUGGUL</td>\n",
       "      <td>CLUSIA FLAVA</td>\n",
       "    </tr>\n",
       "    <tr>\n",
       "      <th>2552</th>\n",
       "      <td>FRANGULA SANGUINEA WHOLE</td>\n",
       "      <td>[6, 18, 1, 14, 7, 21, 12, 1, 27, 19, 1, 14, 7,...</td>\n",
       "      <td>1</td>\n",
       "      <td>0</td>\n",
       "      <td>LICORICE</td>\n",
       "      <td>FRANGULA CAROLINIANA</td>\n",
       "      <td>FRANGULA ALNUS</td>\n",
       "      <td>GARCINIA</td>\n",
       "      <td>SENNA</td>\n",
       "    </tr>\n",
       "    <tr>\n",
       "      <th>1677</th>\n",
       "      <td>CITRUS VANGASY WHOLE</td>\n",
       "      <td>[3, 9, 20, 18, 21, 19, 27, 22, 1, 14, 7, 1, 19...</td>\n",
       "      <td>1</td>\n",
       "      <td>0</td>\n",
       "      <td>CITRUS PARADISI</td>\n",
       "      <td>LICORICE</td>\n",
       "      <td>COPTIS</td>\n",
       "      <td>CITRUS AURANTIUM</td>\n",
       "      <td>GRAPEFRUIT</td>\n",
       "    </tr>\n",
       "    <tr>\n",
       "      <th>5311</th>\n",
       "      <td>TAO WHOLE</td>\n",
       "      <td>[20, 1, 15, 27, 23, 8, 15, 12, 5, 0, 0, 0, 0, ...</td>\n",
       "      <td>1</td>\n",
       "      <td>0</td>\n",
       "      <td>COPTIS</td>\n",
       "      <td>CORDYCEPS</td>\n",
       "      <td>HORNY GOAT WEED</td>\n",
       "      <td>SENNA</td>\n",
       "      <td>COLEUS</td>\n",
       "    </tr>\n",
       "    <tr>\n",
       "      <th>924</th>\n",
       "      <td>BROADWHOLE PLANTAIN WHOLE</td>\n",
       "      <td>[2, 18, 15, 1, 4, 23, 8, 15, 12, 5, 27, 16, 12...</td>\n",
       "      <td>1</td>\n",
       "      <td>0</td>\n",
       "      <td>BARBERRY</td>\n",
       "      <td>SENNA</td>\n",
       "      <td>IVY LEAF</td>\n",
       "      <td>HORNY GOAT WEED</td>\n",
       "      <td>BLACK COHOSH</td>\n",
       "    </tr>\n",
       "    <tr>\n",
       "      <th>2903</th>\n",
       "      <td>HESPERIS RUDERALIS WHOLE</td>\n",
       "      <td>[8, 5, 19, 16, 5, 18, 9, 19, 27, 18, 21, 4, 5,...</td>\n",
       "      <td>1</td>\n",
       "      <td>0</td>\n",
       "      <td>COLEUS</td>\n",
       "      <td>HORNY GOAT WEED</td>\n",
       "      <td>COPTIS</td>\n",
       "      <td>CORDYCEPS</td>\n",
       "      <td>GOLDENSEAL</td>\n",
       "    </tr>\n",
       "    <tr>\n",
       "      <th>3931</th>\n",
       "      <td>OCIMUM SCUTELLARIOIDES WHOLE</td>\n",
       "      <td>[15, 3, 9, 13, 21, 13, 27, 19, 3, 21, 20, 5, 1...</td>\n",
       "      <td>1</td>\n",
       "      <td>0</td>\n",
       "      <td>COPTIS</td>\n",
       "      <td>GOLDENSEAL</td>\n",
       "      <td>HORNY GOAT WEED</td>\n",
       "      <td>HORSETAIL</td>\n",
       "      <td>GUGGUL</td>\n",
       "    </tr>\n",
       "    <tr>\n",
       "      <th>3819</th>\n",
       "      <td>MUSCADINE WHOLE</td>\n",
       "      <td>[13, 21, 19, 3, 1, 4, 9, 14, 5, 27, 23, 8, 15,...</td>\n",
       "      <td>1</td>\n",
       "      <td>0</td>\n",
       "      <td>LICORICE</td>\n",
       "      <td>COLEUS</td>\n",
       "      <td>MIRACLEFRUIT</td>\n",
       "      <td>GOLDENSEAL</td>\n",
       "      <td>GOJI BERRY</td>\n",
       "    </tr>\n",
       "  </tbody>\n",
       "</table>\n",
       "</div>"
      ],
      "text/plain": [
       "                                 x  \\\n",
       "5810                     WITCHAZEL   \n",
       "2184               ELEUTHERO WHOLE   \n",
       "3147               JUGLANS REGIA L   \n",
       "2552      FRANGULA SANGUINEA WHOLE   \n",
       "1677          CITRUS VANGASY WHOLE   \n",
       "5311                     TAO WHOLE   \n",
       "924      BROADWHOLE PLANTAIN WHOLE   \n",
       "2903      HESPERIS RUDERALIS WHOLE   \n",
       "3931  OCIMUM SCUTELLARIOIDES WHOLE   \n",
       "3819               MUSCADINE WHOLE   \n",
       "\n",
       "                                            Processed_x  Match  Distance  \\\n",
       "5810  [23, 9, 20, 3, 8, 1, 26, 5, 12, 0, 0, 0, 0, 0,...      1         0   \n",
       "2184  [5, 12, 5, 21, 20, 8, 5, 18, 15, 27, 23, 8, 15...      1         0   \n",
       "3147  [10, 21, 7, 12, 1, 14, 19, 27, 18, 5, 7, 9, 1,...      1         0   \n",
       "2552  [6, 18, 1, 14, 7, 21, 12, 1, 27, 19, 1, 14, 7,...      1         0   \n",
       "1677  [3, 9, 20, 18, 21, 19, 27, 22, 1, 14, 7, 1, 19...      1         0   \n",
       "5311  [20, 1, 15, 27, 23, 8, 15, 12, 5, 0, 0, 0, 0, ...      1         0   \n",
       "924   [2, 18, 15, 1, 4, 23, 8, 15, 12, 5, 27, 16, 12...      1         0   \n",
       "2903  [8, 5, 19, 16, 5, 18, 9, 19, 27, 18, 21, 4, 5,...      1         0   \n",
       "3931  [15, 3, 9, 13, 21, 13, 27, 19, 3, 21, 20, 5, 1...      1         0   \n",
       "3819  [13, 21, 19, 3, 1, 4, 9, 14, 5, 27, 23, 8, 15,...      1         0   \n",
       "\n",
       "                 rank1                 rank2              rank3  \\\n",
       "5810  SPARTIUM JUNCEUM       ACTAEA RACEMOSA  TRITICUM AESTIVUM   \n",
       "2184        ELDERBERRY                COLEUS          HORSETAIL   \n",
       "3147  LINARIA VULGARIS         JUGLANS NIGRA     FRANGULA ALNUS   \n",
       "2552          LICORICE  FRANGULA CAROLINIANA     FRANGULA ALNUS   \n",
       "1677   CITRUS PARADISI              LICORICE             COPTIS   \n",
       "5311            COPTIS             CORDYCEPS    HORNY GOAT WEED   \n",
       "924           BARBERRY                 SENNA           IVY LEAF   \n",
       "2903            COLEUS       HORNY GOAT WEED             COPTIS   \n",
       "3931            COPTIS            GOLDENSEAL    HORNY GOAT WEED   \n",
       "3819          LICORICE                COLEUS       MIRACLEFRUIT   \n",
       "\n",
       "                      rank4            rank5  \n",
       "5810  PAUSINYSTALIA JOHIMBE  STERCULIA URENS  \n",
       "2184              CORDYCEPS  HORNY GOAT WEED  \n",
       "3147                 GUGGUL     CLUSIA FLAVA  \n",
       "2552               GARCINIA            SENNA  \n",
       "1677       CITRUS AURANTIUM       GRAPEFRUIT  \n",
       "5311                  SENNA           COLEUS  \n",
       "924         HORNY GOAT WEED     BLACK COHOSH  \n",
       "2903              CORDYCEPS       GOLDENSEAL  \n",
       "3931              HORSETAIL           GUGGUL  \n",
       "3819             GOLDENSEAL       GOJI BERRY  "
      ]
     },
     "execution_count": 67,
     "metadata": {},
     "output_type": "execute_result"
    }
   ],
   "source": [
    "novelty.head(10)"
   ]
  },
  {
   "cell_type": "code",
   "execution_count": 68,
   "id": "8bf90765",
   "metadata": {},
   "outputs": [],
   "source": [
    "# test[\"Processed_np_name\"] = test.np_name.apply(clean).apply(encode).apply(padding)"
   ]
  },
  {
   "cell_type": "code",
   "execution_count": 69,
   "id": "da48bed4",
   "metadata": {},
   "outputs": [],
   "source": [
    "# test = preprocessInput(unmapped, converters = {\"drug_name_original\":str}, skip_blank_lines=True, na_filter=True, na_values=\"\")\n",
    "# test[\"Processed_drug_name_original\"] = test[test.columns[0]].apply(clean).apply(encode).apply(padding)"
   ]
  }
 ],
 "metadata": {
  "kernelspec": {
   "display_name": "Python 3 (ipykernel)",
   "language": "python",
   "name": "python3"
  },
  "language_info": {
   "codemirror_mode": {
    "name": "ipython",
    "version": 3
   },
   "file_extension": ".py",
   "mimetype": "text/x-python",
   "name": "python",
   "nbconvert_exporter": "python",
   "pygments_lexer": "ipython3",
   "version": "3.10.5"
  }
 },
 "nbformat": 4,
 "nbformat_minor": 5
}
