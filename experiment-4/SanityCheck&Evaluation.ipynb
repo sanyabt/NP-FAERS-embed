{
 "cells": [
  {
   "cell_type": "markdown",
   "id": "6af2f21c",
   "metadata": {},
   "source": [
    "# Imports & Globals"
   ]
  },
  {
   "cell_type": "code",
   "execution_count": 65,
   "id": "cc0b993f",
   "metadata": {},
   "outputs": [],
   "source": [
    "import numpy as np\n",
    "import pandas as pd\n",
    "import pickle\n",
    "from yaml import safe_load\n",
    "from difflib import get_close_matches\n",
    "from rapidfuzz.distance import Levenshtein\n",
    "\n",
    "import re\n",
    "import string\n",
    "from typing import Literal\n",
    "\n",
    "#import matplotlib.pyplot as plt\n",
    "#import seaborn as sns\n",
    "# %matplotlib inline"
   ]
  },
  {
   "cell_type": "code",
   "execution_count": 66,
   "id": "98531174",
   "metadata": {},
   "outputs": [
    {
     "name": "stdout",
     "output_type": "stream",
     "text": [
      "tf.version:  2.9.1\n",
      "tf.keras.version:  2.9.0\n"
     ]
    }
   ],
   "source": [
    "import tensorflow as tf\n",
    "#@title Versions:\n",
    "print(\"tf.version: \", tf.version.VERSION)\n",
    "print(\"tf.keras.version: \", tf.keras.__version__)"
   ]
  },
  {
   "cell_type": "code",
   "execution_count": 67,
   "id": "358a3770",
   "metadata": {},
   "outputs": [],
   "source": [
    "# from tensorflow.python.ops.numpy_ops import np_config\n",
    "# np_config.enable_numpy_behavior()\n",
    "# tf.enable_eager_execution()"
   ]
  },
  {
   "cell_type": "code",
   "execution_count": 68,
   "id": "c2e4189f",
   "metadata": {},
   "outputs": [
    {
     "name": "stderr",
     "output_type": "stream",
     "text": [
      "2022-08-29 14:51:41.880374: I tensorflow/stream_executor/cuda/cuda_gpu_executor.cc:975] successful NUMA node read from SysFS had negative value (-1), but there must be at least one NUMA node, so returning NUMA node zero\n",
      "2022-08-29 14:51:41.880566: I tensorflow/stream_executor/cuda/cuda_gpu_executor.cc:975] successful NUMA node read from SysFS had negative value (-1), but there must be at least one NUMA node, so returning NUMA node zero\n",
      "2022-08-29 14:51:41.880677: I tensorflow/stream_executor/cuda/cuda_gpu_executor.cc:975] successful NUMA node read from SysFS had negative value (-1), but there must be at least one NUMA node, so returning NUMA node zero\n",
      "2022-08-29 14:51:41.880821: I tensorflow/stream_executor/cuda/cuda_gpu_executor.cc:975] successful NUMA node read from SysFS had negative value (-1), but there must be at least one NUMA node, so returning NUMA node zero\n",
      "2022-08-29 14:51:41.880932: I tensorflow/stream_executor/cuda/cuda_gpu_executor.cc:975] successful NUMA node read from SysFS had negative value (-1), but there must be at least one NUMA node, so returning NUMA node zero\n",
      "2022-08-29 14:51:41.881021: I tensorflow/core/common_runtime/gpu/gpu_device.cc:1532] Created device /device:GPU:0 with 6596 MB memory:  -> device: 0, name: NVIDIA GeForce RTX 2070 with Max-Q Design, pci bus id: 0000:01:00.0, compute capability: 7.5\n"
     ]
    }
   ],
   "source": [
    "# Check that GPU is available: cf. https://colab.research.google.com/notebooks/gpu.ipynb\n",
    "assert(tf.test.gpu_device_name())\n",
    "\n",
    "tf.keras.backend.clear_session()\n",
    "tf.config.optimizer.set_jit(True) # Enable XLA."
   ]
  },
  {
   "cell_type": "code",
   "execution_count": 69,
   "id": "090cfeb2",
   "metadata": {},
   "outputs": [
    {
     "data": {
      "text/plain": [
       "True"
      ]
     },
     "execution_count": 69,
     "metadata": {},
     "output_type": "execute_result"
    }
   ],
   "source": [
    "tf.executing_eagerly()"
   ]
  },
  {
   "cell_type": "code",
   "execution_count": 70,
   "id": "d0a21748",
   "metadata": {},
   "outputs": [],
   "source": [
    "with open('LSTM65.yaml', 'r') as file:\n",
    "    model_config = safe_load(file)"
   ]
  },
  {
   "cell_type": "code",
   "execution_count": 71,
   "id": "77bf5508",
   "metadata": {},
   "outputs": [],
   "source": [
    "#Maximum sequence length including padding\n",
    "global MAXLEN\n",
    "MAXLEN = model_config['MAXLEN']"
   ]
  },
  {
   "cell_type": "code",
   "execution_count": 72,
   "id": "a8ac8644",
   "metadata": {},
   "outputs": [],
   "source": [
    "global encode_dict \n",
    "encode_dict = {l:i for i,l in enumerate(string.ascii_uppercase + \" \", 1)}"
   ]
  },
  {
   "cell_type": "markdown",
   "id": "4d07e995",
   "metadata": {},
   "source": [
    "## Data Processing Functions"
   ]
  },
  {
   "cell_type": "code",
   "execution_count": 73,
   "id": "e38610fa",
   "metadata": {},
   "outputs": [],
   "source": [
    "def add_noise(w: str, percent: float = 0.1) -> str:\n",
    "    ''' Adds a specified proportion of noise to a string.\n",
    "    \n",
    "    Expects a string and a number stating the percent of noise to add to this string.\n",
    "    The string is modified by editing, deleting, or adding characters in/to the string.\n",
    "    The modification to perform is determined randomly by generating a random number from an uniform distribution [0,1].\n",
    "    If the number is < 1/3 edit one position with new random character or space.\n",
    "    If the number is < 2/3 delete one position.\n",
    "    Finally, if the number is > 2/3 add one random character or space.\n",
    "    \n",
    "    In order to retain the length of the sequence compliant with the maximum sequence length,\n",
    "    additional processing has been added such that sequences that reach the maximum sequence length\n",
    "    can only be modified by removing or swapping characters.\n",
    "    \n",
    "    Parameters\n",
    "    ----------\n",
    "    w : str\n",
    "        The string to add noise to.\n",
    "    \n",
    "    percent: float, defaults to 10% if not specified\n",
    "        Percentange representing the proportion of noise to add to the string.\n",
    "        \n",
    "    Returns\n",
    "    -------\n",
    "    w : str\n",
    "        Modified string with noise added.\n",
    "    '''  \n",
    "    positions = random.choices(range(len(w)), k=int(percent*len(w)))\n",
    "#     print(\"Adding noise to\", int(percent*len(w)), \"% of the string\")\n",
    "    for p in positions:\n",
    "        r = random.uniform(0,1)\n",
    "        if len(w) < MAXLEN:\n",
    "            # if <1/3 edit one position with new random character, # else if <2/3 delete one position, else add one random character \n",
    "            if r <= 0.3333: # edit\n",
    "                w = w[:p] + random.choice(string.ascii_uppercase + \" \") + w[p+1:]\n",
    "            elif r<= 0.6667: # delete\n",
    "                w = w[:p] + w[p+1:]\n",
    "            else: # add\n",
    "                w = w[:p] + random.choice(string.ascii_uppercase + \" \") + w[p:]\n",
    "        else:\n",
    "            if r <= 0.5: # edit\n",
    "                w = w[:p] + random.choice(string.ascii_uppercase + \" \") + w[p+1:]\n",
    "            else: # delete\n",
    "                w = w[:p] + w[p+1:]\n",
    "            \n",
    "    return w"
   ]
  },
  {
   "cell_type": "code",
   "execution_count": 74,
   "id": "c5e9e0dc",
   "metadata": {},
   "outputs": [],
   "source": [
    "def clean(text: str) -> str:\n",
    "    '''Removes all the non-ascii and special characters from a string and returns the string's alphabetichal characters with spaces.\n",
    "    \n",
    "    Expects a string to be cleaned and removes all the non-ascii and special characters. \n",
    "    This is done by applying a substitution to regex matches\n",
    "    Returns the cleaned string containing uppercased versions of the characters.\n",
    "    \n",
    "    Parameters\n",
    "    ----------\n",
    "    text : str\n",
    "        \n",
    "    Returns\n",
    "    -------\n",
    "    text : str\n",
    "    '''\n",
    "    regex = re.compile('[^a-zA-Z ]')\n",
    "    r = regex.sub('', text)\n",
    "    result = re.sub(' +', ' ', r)\n",
    "    result = result.strip()\n",
    "    return result.upper()"
   ]
  },
  {
   "cell_type": "code",
   "execution_count": 75,
   "id": "da17e429",
   "metadata": {},
   "outputs": [],
   "source": [
    "def encode(x: string) -> [int]:\n",
    "    '''Applies the encoding function to a given value.\n",
    "    \n",
    "    Returns these string enconded into an array containing an integer mapping to each character and space (1-66) separately.\n",
    "    \n",
    "    Parameters\n",
    "    ----------\n",
    "    x : string\n",
    "        \n",
    "      \n",
    "    Returns\n",
    "    -------\n",
    "    x : [int]\n",
    "        Returns the encoded string.\n",
    "\n",
    "    '''\n",
    "    return list(map(encode_dict.get, x))"
   ]
  },
  {
   "cell_type": "code",
   "execution_count": 76,
   "id": "229e70ea",
   "metadata": {},
   "outputs": [],
   "source": [
    "def padding(x: [int], maxlen: int = MAXLEN) -> [int]:\n",
    "    '''Applies the padding function to the encoded sequence.\n",
    "    \n",
    "    Returns the enconded Series padded.\n",
    "    \n",
    "    Parameters\n",
    "    ----------\n",
    "    x : [int]\n",
    "       Encoded character sequence.\n",
    "      \n",
    "    Returns\n",
    "    -------\n",
    "    x : [int]\n",
    "        Returns the padded encoded character sequence.\n",
    "    '''\n",
    "    return x + ([0]* (maxlen-len(x)))"
   ]
  },
  {
   "cell_type": "code",
   "execution_count": 77,
   "id": "0f3e5b3c",
   "metadata": {},
   "outputs": [],
   "source": [
    "def preprocessInput(filename: str, maxlen: int = MAXLEN, **kwargs) -> pd.DataFrame:\n",
    "    '''Preprocess CSV file into a Pandas DataFrame.\n",
    "    \n",
    "    Expects the file name or path of a csv file with named columns containing strings representing product names.\n",
    "    It then removes the sequences with length greater than the maximun sequence length, cleans the sequences and\n",
    "    uppercases them, and it finally drops any duplicates that might have arrisen from this processing.\n",
    "    Returns a Pandas Dataframe containing unique cleaned and uppercased versions of the strings on each cell.\n",
    "    \n",
    "    Parameters\n",
    "    ----------\n",
    "    filename : str\n",
    "        \n",
    "    Returns\n",
    "    -------\n",
    "    df : Pandas DataFrame\n",
    "    '''  \n",
    "    df = pd.read_csv(filename, **kwargs)\n",
    "    print(df.info())\n",
    "    \n",
    "    \n",
    "    print(\"Processing file: ----------------------------------------\")\n",
    "    \n",
    "    print(\"Renaming colums:\")\n",
    "    print(\"\\tCurrent names: {}\".format(df.columns))\n",
    "    cols = df.columns.size\n",
    "    match cols:\n",
    "        case 1: \n",
    "            df.columns = [\"x\"]\n",
    "        case 2:\n",
    "            df.columns = [\"x\", \"y\"]\n",
    "    print(\"\\tNew names: {}\".format(df.columns))\n",
    "    \n",
    "    original_count = len(df.index)\n",
    "    print(\"Dropping row with empty cells:\")\n",
    "    df.dropna(subset=df.columns, inplace=True)\n",
    "    new_count = len(df.index)\n",
    "    print(\"\\tDropped\", original_count - new_count, \"rows with empty cells.\")\n",
    "    \n",
    "    original_count = len(df.index)\n",
    "    print(\"Dropping sequences longer than the maxlen of {}:\".format(maxlen))\n",
    "    for column in df.columns:\n",
    "        df.drop(df[df[column].apply(len).gt(maxlen)].index, inplace = True)\n",
    "    new_count = len(df.index)\n",
    "    print(\"\\tDropped\", original_count - new_count, \"that exceeded the maximum sequence length.\")\n",
    "    \n",
    "    print(\"\\tCleaning string sequences.\")\n",
    "    df = df.applymap(clean)\n",
    "    \n",
    "    print(\"\\tUppercasing string sequences.\")\n",
    "    df = df.applymap(lambda x: str.upper(x))\n",
    "    \n",
    "    print(\"Dropping duplicate sequences:\")\n",
    "    original_count = len(df.index)\n",
    "    df.drop_duplicates(ignore_index=True, inplace=True)\n",
    "    new_count = len(df.index)\n",
    "    print(\"\\tDropped\", original_count - new_count, \"duplicate sequences.\")\n",
    "    \n",
    "    print(\"Done processing: ---------------------------------------\")\n",
    "    print(df.info())\n",
    "    return df"
   ]
  },
  {
   "cell_type": "code",
   "execution_count": 78,
   "id": "57b5e18c",
   "metadata": {},
   "outputs": [],
   "source": [
    "def encode_pad_tag(df: pd.DataFrame, match: Literal[0,1], distance: Literal[0,1], maxlen: int = MAXLEN) -> pd.DataFrame:\n",
    "    '''It encodes, pads and tags the preprocessed sequences in a Pandas DataFrame.\n",
    "    \n",
    "    Expects a pandas dataframe with cleaned and uppercased sequences. It processes the \n",
    "    the DataFrame by creating an additional 'Processed_' + current column name for each\n",
    "    of the columns in the data frame, where each of the sequences in the column get \n",
    "    transformed from a string sequence to an encoded sequence and then transformed again \n",
    "    by padding the encoded sequences up to the maximun sequence length by 0's as needed. \n",
    "    The tag component 1 \n",
    "    Finally, this function returns this dataframe with both the original and processed columns.\n",
    "    \n",
    "    Parameters\n",
    "    ----------\n",
    "    df : pd.DataFrame\n",
    "        DataFrame containing sequences.\n",
    "    \n",
    "    match: Literal[0 | 1]\n",
    "        Tag indicating wether sequences match 1 indicates 'yes' and 0 indicates 'no'.\n",
    "        \n",
    "    distance: Literal[0 | 1]\n",
    "        Distance between sequences, 1 indicates 'far' and 0 indicates 'close'. \n",
    "        \n",
    "    maxlen: int\n",
    "        Dafault to global MAXLEN value. It's used to determine the ammount of padding to add\n",
    "        to sequences smaller than maxlen.\n",
    "        \n",
    "    Returns\n",
    "    -------\n",
    "    df : Pandas DataFrame\n",
    "        A copy of the origininal DataFrame with the processed sequences added as new columns.\n",
    "    '''  \n",
    "    print(\"Encoding and Padding: ----------------------------------\")\n",
    "    for column in df.columns:\n",
    "        print(\"\\tProcessing {}\".format(column))\n",
    "        df[\"Processed_\" + column] = df[column].apply(lambda string: list(map(encode_dict.get, string))).transform(lambda x: x + ([0]* (maxlen-len(x))))\n",
    "    print(\"Tagging: -----------------------------------------------\")\n",
    "    df[\"Match\"] = match\n",
    "    df[\"Distance\"] = distance\n",
    "    return df"
   ]
  },
  {
   "cell_type": "markdown",
   "id": "dab15102",
   "metadata": {},
   "source": [
    "------------------------------------------------"
   ]
  },
  {
   "cell_type": "markdown",
   "id": "193e520b",
   "metadata": {},
   "source": [
    "# Data loading and preprocessing"
   ]
  },
  {
   "cell_type": "markdown",
   "id": "34891f72",
   "metadata": {},
   "source": [
    "# Pickled Datasets"
   ]
  },
  {
   "cell_type": "code",
   "execution_count": 79,
   "id": "99073085",
   "metadata": {},
   "outputs": [],
   "source": [
    "dUnique_df = pd.read_pickle(\"../data/dUnique_df.pkl\")\n",
    "dfneg2 = pd.read_pickle(\"../data/dfneg2.pkl\")\n",
    "test = pd.read_pickle(\"../data/test.pkl\")\n",
    "validate = pd.read_pickle(\"../data/validate.pkl\")"
   ]
  },
  {
   "cell_type": "markdown",
   "id": "ffdcd664",
   "metadata": {},
   "source": [
    "--------------------------------"
   ]
  },
  {
   "cell_type": "markdown",
   "id": "b7e10db6",
   "metadata": {},
   "source": [
    "# Build model, load weights and evaluate on test data"
   ]
  },
  {
   "cell_type": "code",
   "execution_count": 80,
   "id": "8da6f44b",
   "metadata": {},
   "outputs": [],
   "source": [
    "class CosineSimilarity(tf.keras.layers.Layer):\n",
    "    '''Cosine similarity to be calculated as sum(x*y)/(sqrt(sum(x))*sqrt(sum(y))).\n",
    "    This is achieved through Tensorflow functions to retain performance.\n",
    "    \n",
    "    Parameters\n",
    "    ----------\n",
    "    vects: tf.TensorArray\n",
    "    \n",
    "    Returns\n",
    "    -------\n",
    "    cosine_similarity: tf.TensorArray\n",
    "       The result of the cosine similarity between the vectors.    \n",
    "    '''\n",
    "    __name__ = 'CosineSimilarity'\n",
    "    def __init__(self, **kwargs):\n",
    "        super(CosineSimilarity, self).__init__()\n",
    "       \n",
    "    @tf.function  # The decorator converts `cosine_similarity` into a tensolflow `Function`.\n",
    "    def call(self, vects: tf.TensorArray) -> tf.TensorArray:\n",
    "        x, y = vects\n",
    "        return tf.math.divide(tf.reduce_sum(tf.multiply(x,y), axis=1, keepdims=True), tf.multiply(tf.norm(x, ord=2, axis=1, keepdims=True), tf.norm(y, ord=2, axis=1, keepdims=True)))\n",
    "\n",
    "    def get_config(self):\n",
    "        return super(CosineSimilarity, self).get_config()\n",
    "    \n",
    "    @classmethod\n",
    "    def from_config(cls, config):\n",
    "        return cls(**config)"
   ]
  },
  {
   "cell_type": "code",
   "execution_count": 81,
   "id": "ba609745",
   "metadata": {},
   "outputs": [],
   "source": [
    "class CosineDistance(tf.keras.layers.Layer):\n",
    "    '''Cosine distance to be calculated as 1-(cosine similarity).\n",
    "    Where cosine similarity equals sum(x*y)/(sqrt(sum(x))*sqrt(sum(y))).\n",
    "    This is achieved through Tensorflow functions to retain performance.\n",
    "    \n",
    "    Parameters\n",
    "    ----------\n",
    "    vects: tf.TensorArray\n",
    "        \n",
    "    \n",
    "    Returns\n",
    "    -------\n",
    "    cosine_distance: tf.TensorArray\n",
    "        The result of 1-cosine similarity between the vectors. \n",
    "    '''\n",
    "    __name__ = 'CosineDistance'\n",
    "    def __init__(self, **kwargs):\n",
    "        super(CosineDistance, self).__init__()\n",
    "       \n",
    "    @tf.function  # The decorator converts `cosine_distance` into a tensorflow `Function`.\n",
    "    def call(self, vects: tf.TensorArray) -> tf.TensorArray:\n",
    "        x, y = vects\n",
    "        return  tf.math.subtract(tf.constant([1.0]), tf.math.divide(tf.reduce_sum(tf.multiply(x,y), axis=1, keepdims=True), tf.multiply(tf.norm(x, ord=2, axis=1, keepdims=True), tf.norm(y, ord=2, axis=1, keepdims=True))))\n",
    "\n",
    "    def get_config(self):\n",
    "        return super(CosineDistance, self).get_config()\n",
    "    \n",
    "    @classmethod\n",
    "    def from_config(cls, config):\n",
    "        return cls(**config)"
   ]
  },
  {
   "cell_type": "code",
   "execution_count": 82,
   "id": "a90470b6",
   "metadata": {},
   "outputs": [],
   "source": [
    "class ContrastiveLoss(tf.keras.losses.Loss):\n",
    "    '''Returns a value between 0 and 1 representing the average error of the y_pred vector by comparing it to the y_true.\n",
    "    '''\n",
    "    __name__ = 'ContrastiveLoss'\n",
    "    def __init__(self, margin: tf.float32 = 1.0, **kwargs):\n",
    "        super(ContrastiveLoss, self).__init__()\n",
    "        self.margin = tf.constant(margin)\n",
    "        \n",
    "    @tf.function  # The decorator converts `loss` into a tensolflow `Function`.\n",
    "    def call(self, y_true: tf.TensorArray, y_pred: tf.TensorArray) -> tf.Tensor:\n",
    "        return tf.math.reduce_mean((1 - y_true) * tf.math.square(y_pred) + (y_true) * tf.math.square(tf.math.maximum(self.margin - (y_pred), 0.0)), axis = -1)\n",
    "    \n",
    "    def get_config(self):\n",
    "        config = super(ContrastiveLoss, self).get_config()\n",
    "        config.update({\n",
    "            \"margin\": str(self.margin)\n",
    "        })\n",
    "        return config\n",
    "    \n",
    "    @classmethod\n",
    "    def from_config(cls, config):\n",
    "        return cls(**config)"
   ]
  },
  {
   "cell_type": "code",
   "execution_count": 83,
   "id": "dd19e241",
   "metadata": {},
   "outputs": [
    {
     "name": "stderr",
     "output_type": "stream",
     "text": [
      "2022-08-29 14:51:42.764227: W tensorflow/core/common_runtime/graph_constructor.cc:805] Node 'cond/while' has 13 outputs but the _output_shapes attribute specifies shapes for 46 outputs. Output shapes may be inaccurate.\n",
      "2022-08-29 14:51:43.039808: W tensorflow/core/common_runtime/graph_constructor.cc:805] Node 'cond/while' has 13 outputs but the _output_shapes attribute specifies shapes for 46 outputs. Output shapes may be inaccurate.\n",
      "2022-08-29 14:51:43.214745: W tensorflow/core/common_runtime/graph_constructor.cc:805] Node 'cond/while' has 13 outputs but the _output_shapes attribute specifies shapes for 46 outputs. Output shapes may be inaccurate.\n",
      "2022-08-29 14:51:43.223247: W tensorflow/core/common_runtime/graph_constructor.cc:805] Node 'cond' has 5 outputs but the _output_shapes attribute specifies shapes for 46 outputs. Output shapes may be inaccurate.\n",
      "2022-08-29 14:51:43.359231: W tensorflow/core/common_runtime/graph_constructor.cc:805] Node 'cond/while' has 13 outputs but the _output_shapes attribute specifies shapes for 46 outputs. Output shapes may be inaccurate.\n",
      "2022-08-29 14:51:43.412651: W tensorflow/core/common_runtime/graph_constructor.cc:805] Node 'cond' has 5 outputs but the _output_shapes attribute specifies shapes for 46 outputs. Output shapes may be inaccurate.\n",
      "2022-08-29 14:51:44.349275: W tensorflow/core/common_runtime/graph_constructor.cc:805] Node 'cond/while' has 13 outputs but the _output_shapes attribute specifies shapes for 46 outputs. Output shapes may be inaccurate.\n",
      "2022-08-29 14:51:44.358308: W tensorflow/core/common_runtime/graph_constructor.cc:805] Node 'cond' has 5 outputs but the _output_shapes attribute specifies shapes for 46 outputs. Output shapes may be inaccurate.\n",
      "2022-08-29 14:51:44.896793: W tensorflow/core/common_runtime/graph_constructor.cc:805] Node 'cond' has 5 outputs but the _output_shapes attribute specifies shapes for 46 outputs. Output shapes may be inaccurate.\n",
      "2022-08-29 14:51:45.131539: W tensorflow/core/common_runtime/graph_constructor.cc:805] Node 'cond/while' has 13 outputs but the _output_shapes attribute specifies shapes for 46 outputs. Output shapes may be inaccurate.\n",
      "2022-08-29 14:51:45.513037: W tensorflow/core/common_runtime/graph_constructor.cc:805] Node 'cond/while' has 13 outputs but the _output_shapes attribute specifies shapes for 46 outputs. Output shapes may be inaccurate.\n",
      "2022-08-29 14:51:45.521701: W tensorflow/core/common_runtime/graph_constructor.cc:805] Node 'cond' has 5 outputs but the _output_shapes attribute specifies shapes for 46 outputs. Output shapes may be inaccurate.\n",
      "2022-08-29 14:51:45.783164: W tensorflow/core/common_runtime/graph_constructor.cc:805] Node 'cond/while' has 13 outputs but the _output_shapes attribute specifies shapes for 46 outputs. Output shapes may be inaccurate.\n",
      "2022-08-29 14:51:45.791543: W tensorflow/core/common_runtime/graph_constructor.cc:805] Node 'cond' has 5 outputs but the _output_shapes attribute specifies shapes for 46 outputs. Output shapes may be inaccurate.\n",
      "2022-08-29 14:51:45.800773: W tensorflow/core/common_runtime/graph_constructor.cc:805] Node 'cond/while' has 13 outputs but the _output_shapes attribute specifies shapes for 46 outputs. Output shapes may be inaccurate.\n",
      "2022-08-29 14:51:45.808917: W tensorflow/core/common_runtime/graph_constructor.cc:805] Node 'cond' has 5 outputs but the _output_shapes attribute specifies shapes for 46 outputs. Output shapes may be inaccurate.\n",
      "2022-08-29 14:51:45.830902: W tensorflow/core/common_runtime/graph_constructor.cc:805] Node 'cond/while' has 13 outputs but the _output_shapes attribute specifies shapes for 46 outputs. Output shapes may be inaccurate.\n",
      "2022-08-29 14:51:45.912254: W tensorflow/core/common_runtime/graph_constructor.cc:805] Node 'cond/while' has 13 outputs but the _output_shapes attribute specifies shapes for 46 outputs. Output shapes may be inaccurate.\n",
      "2022-08-29 14:51:46.007516: W tensorflow/core/common_runtime/graph_constructor.cc:805] Node 'cond/while' has 13 outputs but the _output_shapes attribute specifies shapes for 46 outputs. Output shapes may be inaccurate.\n",
      "2022-08-29 14:51:46.016604: W tensorflow/core/common_runtime/graph_constructor.cc:805] Node 'cond' has 5 outputs but the _output_shapes attribute specifies shapes for 46 outputs. Output shapes may be inaccurate.\n",
      "2022-08-29 14:51:46.120680: W tensorflow/core/common_runtime/graph_constructor.cc:805] Node 'cond/while' has 13 outputs but the _output_shapes attribute specifies shapes for 46 outputs. Output shapes may be inaccurate.\n",
      "2022-08-29 14:51:46.129000: W tensorflow/core/common_runtime/graph_constructor.cc:805] Node 'cond' has 5 outputs but the _output_shapes attribute specifies shapes for 46 outputs. Output shapes may be inaccurate.\n",
      "2022-08-29 14:51:46.506572: W tensorflow/core/common_runtime/graph_constructor.cc:805] Node 'cond/while' has 13 outputs but the _output_shapes attribute specifies shapes for 46 outputs. Output shapes may be inaccurate.\n",
      "2022-08-29 14:51:46.515507: W tensorflow/core/common_runtime/graph_constructor.cc:805] Node 'cond' has 5 outputs but the _output_shapes attribute specifies shapes for 46 outputs. Output shapes may be inaccurate.\n",
      "2022-08-29 14:51:46.564608: W tensorflow/core/common_runtime/graph_constructor.cc:805] Node 'cond' has 5 outputs but the _output_shapes attribute specifies shapes for 46 outputs. Output shapes may be inaccurate.\n",
      "2022-08-29 14:51:46.613448: W tensorflow/core/common_runtime/graph_constructor.cc:805] Node 'cond/while' has 13 outputs but the _output_shapes attribute specifies shapes for 46 outputs. Output shapes may be inaccurate.\n",
      "2022-08-29 14:51:46.621631: W tensorflow/core/common_runtime/graph_constructor.cc:805] Node 'cond' has 5 outputs but the _output_shapes attribute specifies shapes for 46 outputs. Output shapes may be inaccurate.\n",
      "2022-08-29 14:51:46.833721: W tensorflow/core/common_runtime/graph_constructor.cc:805] Node 'cond/while' has 13 outputs but the _output_shapes attribute specifies shapes for 46 outputs. Output shapes may be inaccurate.\n",
      "2022-08-29 14:51:46.900359: W tensorflow/core/common_runtime/graph_constructor.cc:805] Node 'cond/while' has 13 outputs but the _output_shapes attribute specifies shapes for 46 outputs. Output shapes may be inaccurate.\n",
      "2022-08-29 14:51:46.963301: W tensorflow/core/common_runtime/graph_constructor.cc:805] Node 'cond' has 5 outputs but the _output_shapes attribute specifies shapes for 46 outputs. Output shapes may be inaccurate.\n",
      "2022-08-29 14:51:47.022780: W tensorflow/core/common_runtime/graph_constructor.cc:805] Node 'cond' has 5 outputs but the _output_shapes attribute specifies shapes for 46 outputs. Output shapes may be inaccurate.\n",
      "2022-08-29 14:51:47.306054: W tensorflow/core/common_runtime/graph_constructor.cc:805] Node 'cond/while' has 13 outputs but the _output_shapes attribute specifies shapes for 46 outputs. Output shapes may be inaccurate.\n",
      "2022-08-29 14:51:47.314710: W tensorflow/core/common_runtime/graph_constructor.cc:805] Node 'cond' has 5 outputs but the _output_shapes attribute specifies shapes for 46 outputs. Output shapes may be inaccurate.\n",
      "2022-08-29 14:51:47.785704: W tensorflow/core/common_runtime/graph_constructor.cc:805] Node 'cond/while' has 13 outputs but the _output_shapes attribute specifies shapes for 46 outputs. Output shapes may be inaccurate.\n",
      "2022-08-29 14:51:47.794384: W tensorflow/core/common_runtime/graph_constructor.cc:805] Node 'cond' has 5 outputs but the _output_shapes attribute specifies shapes for 46 outputs. Output shapes may be inaccurate.\n",
      "2022-08-29 14:51:47.867524: W tensorflow/core/common_runtime/graph_constructor.cc:805] Node 'cond' has 5 outputs but the _output_shapes attribute specifies shapes for 46 outputs. Output shapes may be inaccurate.\n",
      "2022-08-29 14:51:47.976003: W tensorflow/core/common_runtime/graph_constructor.cc:805] Node 'cond/while' has 13 outputs but the _output_shapes attribute specifies shapes for 46 outputs. Output shapes may be inaccurate.\n",
      "2022-08-29 14:51:47.984423: W tensorflow/core/common_runtime/graph_constructor.cc:805] Node 'cond' has 5 outputs but the _output_shapes attribute specifies shapes for 46 outputs. Output shapes may be inaccurate.\n"
     ]
    },
    {
     "name": "stderr",
     "output_type": "stream",
     "text": [
      "2022-08-29 14:51:47.994121: W tensorflow/core/common_runtime/graph_constructor.cc:805] Node 'cond/while' has 13 outputs but the _output_shapes attribute specifies shapes for 46 outputs. Output shapes may be inaccurate.\n",
      "2022-08-29 14:51:48.003394: W tensorflow/core/common_runtime/graph_constructor.cc:805] Node 'cond' has 5 outputs but the _output_shapes attribute specifies shapes for 46 outputs. Output shapes may be inaccurate.\n",
      "2022-08-29 14:51:48.231263: W tensorflow/core/common_runtime/graph_constructor.cc:805] Node 'cond/while' has 13 outputs but the _output_shapes attribute specifies shapes for 46 outputs. Output shapes may be inaccurate.\n",
      "2022-08-29 14:51:48.240310: W tensorflow/core/common_runtime/graph_constructor.cc:805] Node 'cond' has 5 outputs but the _output_shapes attribute specifies shapes for 46 outputs. Output shapes may be inaccurate.\n",
      "2022-08-29 14:51:48.362406: W tensorflow/core/common_runtime/graph_constructor.cc:805] Node 'cond' has 5 outputs but the _output_shapes attribute specifies shapes for 46 outputs. Output shapes may be inaccurate.\n",
      "2022-08-29 14:51:48.376660: W tensorflow/core/common_runtime/graph_constructor.cc:805] Node 'cond/while' has 13 outputs but the _output_shapes attribute specifies shapes for 46 outputs. Output shapes may be inaccurate.\n",
      "2022-08-29 14:51:48.385281: W tensorflow/core/common_runtime/graph_constructor.cc:805] Node 'cond' has 5 outputs but the _output_shapes attribute specifies shapes for 46 outputs. Output shapes may be inaccurate.\n",
      "2022-08-29 14:51:48.500389: W tensorflow/core/common_runtime/graph_constructor.cc:805] Node 'cond/while' has 13 outputs but the _output_shapes attribute specifies shapes for 46 outputs. Output shapes may be inaccurate.\n",
      "2022-08-29 14:51:48.578670: W tensorflow/core/common_runtime/graph_constructor.cc:805] Node 'cond' has 5 outputs but the _output_shapes attribute specifies shapes for 46 outputs. Output shapes may be inaccurate.\n",
      "2022-08-29 14:51:48.651920: W tensorflow/core/common_runtime/graph_constructor.cc:805] Node 'cond' has 5 outputs but the _output_shapes attribute specifies shapes for 46 outputs. Output shapes may be inaccurate.\n"
     ]
    },
    {
     "name": "stdout",
     "output_type": "stream",
     "text": [
      "Model: \"model_1\"\n",
      "__________________________________________________________________________________________________\n",
      " Layer (type)                   Output Shape         Param #     Connected to                     \n",
      "==================================================================================================\n",
      " input_2 (InputLayer)           [(None, 65)]         0           []                               \n",
      "                                                                                                  \n",
      " input_3 (InputLayer)           [(None, 65)]         0           []                               \n",
      "                                                                                                  \n",
      " model (Functional)             (None, 180)          60108       ['input_2[0][0]',                \n",
      "                                                                  'input_3[0][0]']                \n",
      "                                                                                                  \n",
      " lambda (Lambda)                (None, 1)            0           ['model[0][0]',                  \n",
      "                                                                  'model[1][0]']                  \n",
      "                                                                                                  \n",
      " batch_normalization_1 (BatchNo  (None, 1)           4           ['lambda[0][0]']                 \n",
      " rmalization)                                                                                     \n",
      "                                                                                                  \n",
      " dense_1 (Dense)                (None, 1)            2           ['batch_normalization_1[0][0]']  \n",
      "                                                                                                  \n",
      "==================================================================================================\n",
      "Total params: 60,114\n",
      "Trainable params: 60,104\n",
      "Non-trainable params: 10\n",
      "__________________________________________________________________________________________________\n"
     ]
    }
   ],
   "source": [
    "model = tf.keras.models.load_model(\n",
    "    './saved_models/{}_extended'.format(model_config[\"Model_Name\"]), \n",
    "    custom_objects = {\n",
    "#         'CosineSimilarity': CosineSimilarity,\n",
    "        'CosineDistance': CosineDistance,\n",
    "        'ContrastiveLoss': ContrastiveLoss\n",
    "    }, \n",
    "    compile=True, \n",
    "    options=None\n",
    ")\n",
    "model.summary()"
   ]
  },
  {
   "cell_type": "markdown",
   "id": "607f58ca",
   "metadata": {},
   "source": [
    "---------------------------------------------------------------"
   ]
  },
  {
   "cell_type": "markdown",
   "id": "b06b0601",
   "metadata": {},
   "source": [
    "# Evaluation"
   ]
  },
  {
   "cell_type": "markdown",
   "id": "e7103902",
   "metadata": {},
   "source": [
    "## Unique target labels"
   ]
  },
  {
   "cell_type": "code",
   "execution_count": 84,
   "id": "f0323d8d",
   "metadata": {},
   "outputs": [
    {
     "data": {
      "text/html": [
       "<div>\n",
       "<style scoped>\n",
       "    .dataframe tbody tr th:only-of-type {\n",
       "        vertical-align: middle;\n",
       "    }\n",
       "\n",
       "    .dataframe tbody tr th {\n",
       "        vertical-align: top;\n",
       "    }\n",
       "\n",
       "    .dataframe thead th {\n",
       "        text-align: right;\n",
       "    }\n",
       "</style>\n",
       "<table border=\"1\" class=\"dataframe\">\n",
       "  <thead>\n",
       "    <tr style=\"text-align: right;\">\n",
       "      <th></th>\n",
       "      <th>dUnique_label</th>\n",
       "      <th>dUnique_seq_padded</th>\n",
       "    </tr>\n",
       "  </thead>\n",
       "  <tbody>\n",
       "    <tr>\n",
       "      <th>0</th>\n",
       "      <td>ASHWAGANDA</td>\n",
       "      <td>[1, 19, 8, 23, 1, 7, 1, 14, 4, 1, 0, 0, 0, 0, ...</td>\n",
       "    </tr>\n",
       "    <tr>\n",
       "      <th>1</th>\n",
       "      <td>BUTCHERSBROOM</td>\n",
       "      <td>[2, 21, 20, 3, 8, 5, 18, 19, 2, 18, 15, 15, 13...</td>\n",
       "    </tr>\n",
       "    <tr>\n",
       "      <th>2</th>\n",
       "      <td>CATSCLAW</td>\n",
       "      <td>[3, 1, 20, 19, 3, 12, 1, 23, 0, 0, 0, 0, 0, 0,...</td>\n",
       "    </tr>\n",
       "    <tr>\n",
       "      <th>3</th>\n",
       "      <td>CINNAMON</td>\n",
       "      <td>[3, 9, 14, 14, 1, 13, 15, 14, 0, 0, 0, 0, 0, 0...</td>\n",
       "    </tr>\n",
       "    <tr>\n",
       "      <th>4</th>\n",
       "      <td>FENUGREEK</td>\n",
       "      <td>[6, 5, 14, 21, 7, 18, 5, 5, 11, 0, 0, 0, 0, 0,...</td>\n",
       "    </tr>\n",
       "  </tbody>\n",
       "</table>\n",
       "</div>"
      ],
      "text/plain": [
       "   dUnique_label                                 dUnique_seq_padded\n",
       "0     ASHWAGANDA  [1, 19, 8, 23, 1, 7, 1, 14, 4, 1, 0, 0, 0, 0, ...\n",
       "1  BUTCHERSBROOM  [2, 21, 20, 3, 8, 5, 18, 19, 2, 18, 15, 15, 13...\n",
       "2       CATSCLAW  [3, 1, 20, 19, 3, 12, 1, 23, 0, 0, 0, 0, 0, 0,...\n",
       "3       CINNAMON  [3, 9, 14, 14, 1, 13, 15, 14, 0, 0, 0, 0, 0, 0...\n",
       "4      FENUGREEK  [6, 5, 14, 21, 7, 18, 5, 5, 11, 0, 0, 0, 0, 0,..."
      ]
     },
     "execution_count": 84,
     "metadata": {},
     "output_type": "execute_result"
    }
   ],
   "source": [
    "dUnique_df.head()"
   ]
  },
  {
   "cell_type": "code",
   "execution_count": 85,
   "id": "cd82b94c",
   "metadata": {},
   "outputs": [
    {
     "data": {
      "text/plain": [
       "1578"
      ]
     },
     "execution_count": 85,
     "metadata": {},
     "output_type": "execute_result"
    }
   ],
   "source": [
    "dUnique_df.size"
   ]
  },
  {
   "cell_type": "markdown",
   "id": "f0ebf8dc",
   "metadata": {},
   "source": [
    "## True Positives"
   ]
  },
  {
   "cell_type": "code",
   "execution_count": 86,
   "id": "c9a61342",
   "metadata": {},
   "outputs": [
    {
     "name": "stdout",
     "output_type": "stream",
     "text": [
      "<class 'pandas.core.frame.DataFrame'>\n",
      "RangeIndex: 5358 entries, 0 to 5357\n",
      "Data columns (total 2 columns):\n",
      " #   Column            Non-Null Count  Dtype \n",
      "---  ------            --------------  ----- \n",
      " 0   FAERS_drug_match  5358 non-null   object\n",
      " 1   lookup_value      5358 non-null   object\n",
      "dtypes: object(2)\n",
      "memory usage: 83.8+ KB\n",
      "None\n",
      "Processing file: ----------------------------------------\n",
      "Renaming colums:\n",
      "\tCurrent names: Index(['FAERS_drug_match', 'lookup_value'], dtype='object')\n",
      "\tNew names: Index(['x', 'y'], dtype='object')\n",
      "Dropping row with empty cells:\n",
      "\tDropped 0 rows with empty cells.\n",
      "Dropping sequences longer than the maxlen of 65:\n",
      "\tDropped 374 that exceeded the maximum sequence length.\n",
      "\tCleaning string sequences.\n",
      "\tUppercasing string sequences.\n",
      "Dropping duplicate sequences:\n",
      "\tDropped 482 duplicate sequences.\n",
      "Done processing: ---------------------------------------\n",
      "<class 'pandas.core.frame.DataFrame'>\n",
      "RangeIndex: 4502 entries, 0 to 4501\n",
      "Data columns (total 2 columns):\n",
      " #   Column  Non-Null Count  Dtype \n",
      "---  ------  --------------  ----- \n",
      " 0   x       4502 non-null   object\n",
      " 1   y       4502 non-null   object\n",
      "dtypes: object(2)\n",
      "memory usage: 70.5+ KB\n",
      "None\n",
      "Encoding and Padding: ----------------------------------\n",
      "\tProcessing x\n",
      "\tProcessing y\n",
      "Tagging: -----------------------------------------------\n"
     ]
    },
    {
     "data": {
      "text/html": [
       "<div>\n",
       "<style scoped>\n",
       "    .dataframe tbody tr th:only-of-type {\n",
       "        vertical-align: middle;\n",
       "    }\n",
       "\n",
       "    .dataframe tbody tr th {\n",
       "        vertical-align: top;\n",
       "    }\n",
       "\n",
       "    .dataframe thead th {\n",
       "        text-align: right;\n",
       "    }\n",
       "</style>\n",
       "<table border=\"1\" class=\"dataframe\">\n",
       "  <thead>\n",
       "    <tr style=\"text-align: right;\">\n",
       "      <th></th>\n",
       "      <th>x</th>\n",
       "      <th>y</th>\n",
       "      <th>Processed_x</th>\n",
       "      <th>Processed_y</th>\n",
       "      <th>Match</th>\n",
       "      <th>Distance</th>\n",
       "    </tr>\n",
       "  </thead>\n",
       "  <tbody>\n",
       "    <tr>\n",
       "      <th>0</th>\n",
       "      <td>ASHWAGANDHA</td>\n",
       "      <td>ASHWAGANDA</td>\n",
       "      <td>[1, 19, 8, 23, 1, 7, 1, 14, 4, 8, 1, 0, 0, 0, ...</td>\n",
       "      <td>[1, 19, 8, 23, 1, 7, 1, 14, 4, 1, 0, 0, 0, 0, ...</td>\n",
       "      <td>1</td>\n",
       "      <td>0</td>\n",
       "    </tr>\n",
       "    <tr>\n",
       "      <th>1</th>\n",
       "      <td>ASHWAGANDHA EXTRACT</td>\n",
       "      <td>ASHWAGANDA</td>\n",
       "      <td>[1, 19, 8, 23, 1, 7, 1, 14, 4, 8, 1, 27, 5, 24...</td>\n",
       "      <td>[1, 19, 8, 23, 1, 7, 1, 14, 4, 1, 0, 0, 0, 0, ...</td>\n",
       "      <td>1</td>\n",
       "      <td>0</td>\n",
       "    </tr>\n",
       "    <tr>\n",
       "      <th>2</th>\n",
       "      <td>ASHWAGANDHA ROOT EXTRACT</td>\n",
       "      <td>ASHWAGANDA</td>\n",
       "      <td>[1, 19, 8, 23, 1, 7, 1, 14, 4, 8, 1, 27, 18, 1...</td>\n",
       "      <td>[1, 19, 8, 23, 1, 7, 1, 14, 4, 1, 0, 0, 0, 0, ...</td>\n",
       "      <td>1</td>\n",
       "      <td>0</td>\n",
       "    </tr>\n",
       "    <tr>\n",
       "      <th>3</th>\n",
       "      <td>ASHWAGANDHA WITHANIA SOMNIFERA</td>\n",
       "      <td>ASHWAGANDA</td>\n",
       "      <td>[1, 19, 8, 23, 1, 7, 1, 14, 4, 8, 1, 27, 23, 9...</td>\n",
       "      <td>[1, 19, 8, 23, 1, 7, 1, 14, 4, 1, 0, 0, 0, 0, ...</td>\n",
       "      <td>1</td>\n",
       "      <td>0</td>\n",
       "    </tr>\n",
       "    <tr>\n",
       "      <th>4</th>\n",
       "      <td>ASHWAGANDHA WITHANIA SOMNIFERA ROOT</td>\n",
       "      <td>ASHWAGANDA</td>\n",
       "      <td>[1, 19, 8, 23, 1, 7, 1, 14, 4, 8, 1, 27, 23, 9...</td>\n",
       "      <td>[1, 19, 8, 23, 1, 7, 1, 14, 4, 1, 0, 0, 0, 0, ...</td>\n",
       "      <td>1</td>\n",
       "      <td>0</td>\n",
       "    </tr>\n",
       "  </tbody>\n",
       "</table>\n",
       "</div>"
      ],
      "text/plain": [
       "                                     x           y  \\\n",
       "0                          ASHWAGANDHA  ASHWAGANDA   \n",
       "1                  ASHWAGANDHA EXTRACT  ASHWAGANDA   \n",
       "2             ASHWAGANDHA ROOT EXTRACT  ASHWAGANDA   \n",
       "3       ASHWAGANDHA WITHANIA SOMNIFERA  ASHWAGANDA   \n",
       "4  ASHWAGANDHA WITHANIA SOMNIFERA ROOT  ASHWAGANDA   \n",
       "\n",
       "                                         Processed_x  \\\n",
       "0  [1, 19, 8, 23, 1, 7, 1, 14, 4, 8, 1, 0, 0, 0, ...   \n",
       "1  [1, 19, 8, 23, 1, 7, 1, 14, 4, 8, 1, 27, 5, 24...   \n",
       "2  [1, 19, 8, 23, 1, 7, 1, 14, 4, 8, 1, 27, 18, 1...   \n",
       "3  [1, 19, 8, 23, 1, 7, 1, 14, 4, 8, 1, 27, 23, 9...   \n",
       "4  [1, 19, 8, 23, 1, 7, 1, 14, 4, 8, 1, 27, 23, 9...   \n",
       "\n",
       "                                         Processed_y  Match  Distance  \n",
       "0  [1, 19, 8, 23, 1, 7, 1, 14, 4, 1, 0, 0, 0, 0, ...      1         0  \n",
       "1  [1, 19, 8, 23, 1, 7, 1, 14, 4, 1, 0, 0, 0, 0, ...      1         0  \n",
       "2  [1, 19, 8, 23, 1, 7, 1, 14, 4, 1, 0, 0, 0, 0, ...      1         0  \n",
       "3  [1, 19, 8, 23, 1, 7, 1, 14, 4, 1, 0, 0, 0, 0, ...      1         0  \n",
       "4  [1, 19, 8, 23, 1, 7, 1, 14, 4, 1, 0, 0, 0, 0, ...      1         0  "
      ]
     },
     "execution_count": 86,
     "metadata": {},
     "output_type": "execute_result"
    }
   ],
   "source": [
    "matches = encode_pad_tag(preprocessInput('../data/NP_FAERS_mapped_20220215.csv'), match=1, distance=0)\n",
    "matches.head()"
   ]
  },
  {
   "cell_type": "markdown",
   "id": "750cbc8f",
   "metadata": {},
   "source": [
    "### ASHWAGANDA"
   ]
  },
  {
   "cell_type": "code",
   "execution_count": 87,
   "id": "8e22c49e",
   "metadata": {},
   "outputs": [
    {
     "data": {
      "text/plain": [
       "'ASHWAGANDHA EXTRACT'"
      ]
     },
     "execution_count": 87,
     "metadata": {},
     "output_type": "execute_result"
    }
   ],
   "source": [
    "matches.loc[1, \"x\"]"
   ]
  },
  {
   "cell_type": "code",
   "execution_count": 88,
   "id": "eb94af24",
   "metadata": {},
   "outputs": [
    {
     "name": "stdout",
     "output_type": "stream",
     "text": [
      "25/25 [==============================] - 3s 4ms/step\n"
     ]
    }
   ],
   "source": [
    "predicts = model.predict([np.tile(matches.loc[1, \"Processed_x\"], (dUnique_df['dUnique_seq_padded'].shape[0],1)), np.stack(dUnique_df['dUnique_seq_padded'])]).astype('float32')\n",
    "top5 = predicts.flatten().argsort()"
   ]
  },
  {
   "cell_type": "code",
   "execution_count": 89,
   "id": "3f9b4304",
   "metadata": {},
   "outputs": [
    {
     "data": {
      "text/plain": [
       "{'rank1': 'ASHWAGANDA',\n",
       " 'rank2': 'SERENOA REPENS',\n",
       " 'rank3': 'WITHANIA SOMNIFERA',\n",
       " 'rank4': 'SCRUBPALMETTO',\n",
       " 'rank5': 'ASPARAGUS SETACEUS'}"
      ]
     },
     "execution_count": 89,
     "metadata": {},
     "output_type": "execute_result"
    }
   ],
   "source": [
    "# Top-5 smalles distances\n",
    "{\n",
    "    \"rank1\": dUnique_df.iloc[top5[0]]['dUnique_label'],\n",
    "    \"rank2\": dUnique_df.iloc[top5[1]]['dUnique_label'],\n",
    "    \"rank3\": dUnique_df.iloc[top5[2]]['dUnique_label'],\n",
    "    \"rank4\": dUnique_df.iloc[top5[3]]['dUnique_label'],\n",
    "    \"rank5\": dUnique_df.iloc[top5[4]]['dUnique_label'],\n",
    "}"
   ]
  },
  {
   "cell_type": "markdown",
   "id": "14af67b8",
   "metadata": {},
   "source": [
    "### Echinacea"
   ]
  },
  {
   "cell_type": "code",
   "execution_count": 90,
   "id": "7b2f8e44",
   "metadata": {},
   "outputs": [
    {
     "data": {
      "text/html": [
       "<div>\n",
       "<style scoped>\n",
       "    .dataframe tbody tr th:only-of-type {\n",
       "        vertical-align: middle;\n",
       "    }\n",
       "\n",
       "    .dataframe tbody tr th {\n",
       "        vertical-align: top;\n",
       "    }\n",
       "\n",
       "    .dataframe thead th {\n",
       "        text-align: right;\n",
       "    }\n",
       "</style>\n",
       "<table border=\"1\" class=\"dataframe\">\n",
       "  <thead>\n",
       "    <tr style=\"text-align: right;\">\n",
       "      <th></th>\n",
       "      <th>x</th>\n",
       "      <th>y</th>\n",
       "      <th>Processed_x</th>\n",
       "      <th>Processed_y</th>\n",
       "      <th>Match</th>\n",
       "      <th>Distance</th>\n",
       "    </tr>\n",
       "  </thead>\n",
       "  <tbody>\n",
       "    <tr>\n",
       "      <th>393</th>\n",
       "      <td>ECHINACEA TEA ECHINACEA PURPUREA</td>\n",
       "      <td>GREEN TEA</td>\n",
       "      <td>[5, 3, 8, 9, 14, 1, 3, 5, 1, 27, 20, 5, 1, 27,...</td>\n",
       "      <td>[7, 18, 5, 5, 14, 27, 20, 5, 1, 0, 0, 0, 0, 0,...</td>\n",
       "      <td>0</td>\n",
       "      <td>1</td>\n",
       "    </tr>\n",
       "  </tbody>\n",
       "</table>\n",
       "</div>"
      ],
      "text/plain": [
       "                                    x          y  \\\n",
       "393  ECHINACEA TEA ECHINACEA PURPUREA  GREEN TEA   \n",
       "\n",
       "                                           Processed_x  \\\n",
       "393  [5, 3, 8, 9, 14, 1, 3, 5, 1, 27, 20, 5, 1, 27,...   \n",
       "\n",
       "                                           Processed_y  Match  Distance  \n",
       "393  [7, 18, 5, 5, 14, 27, 20, 5, 1, 0, 0, 0, 0, 0,...      0         1  "
      ]
     },
     "execution_count": 90,
     "metadata": {},
     "output_type": "execute_result"
    }
   ],
   "source": [
    "Echinacea = dfneg2[dfneg2[\"x\"].str.contains(\"ECHINACEA\")].head(1)\n",
    "Echinacea"
   ]
  },
  {
   "cell_type": "code",
   "execution_count": 91,
   "id": "87c38e46",
   "metadata": {},
   "outputs": [
    {
     "data": {
      "text/plain": [
       "'ECHINACEA TEA ECHINACEA PURPUREA'"
      ]
     },
     "execution_count": 91,
     "metadata": {},
     "output_type": "execute_result"
    }
   ],
   "source": [
    "i = Echinacea.index.values[0]\n",
    "clean(dfneg2[\"x\"][i])"
   ]
  },
  {
   "cell_type": "code",
   "execution_count": 92,
   "id": "4a5e31af",
   "metadata": {},
   "outputs": [
    {
     "name": "stdout",
     "output_type": "stream",
     "text": [
      "25/25 [==============================] - 0s 11ms/step\n"
     ]
    }
   ],
   "source": [
    "predicts = model.predict([np.tile(padding(encode(clean(dfneg2[\"x\"][i]))), (dUnique_df['dUnique_seq_padded'].shape[0],1)), np.stack(dUnique_df['dUnique_seq_padded'])]).astype('float32')\n",
    "top5 = predicts.flatten().argsort()"
   ]
  },
  {
   "cell_type": "code",
   "execution_count": 93,
   "id": "ed1712c5",
   "metadata": {},
   "outputs": [
    {
     "data": {
      "text/plain": [
       "{'rank1': 'CRATAEGUS LAEVIGATA',\n",
       " 'rank2': 'ECHINACEA',\n",
       " 'rank3': 'ECHINACEA ANGUSTIFOLIA',\n",
       " 'rank4': 'WOODLAND HAWTHORN',\n",
       " 'rank5': 'ECHINACEA PURPUREA'}"
      ]
     },
     "execution_count": 93,
     "metadata": {},
     "output_type": "execute_result"
    }
   ],
   "source": [
    "# Top-5 smalles distances\n",
    "m = max(top5)\n",
    "{\n",
    "    \"rank1\": dUnique_df.iloc[top5[0]]['dUnique_label'],\n",
    "    \"rank2\": dUnique_df.iloc[top5[1]]['dUnique_label'],\n",
    "    \"rank3\": dUnique_df.iloc[top5[2]]['dUnique_label'],\n",
    "    \"rank4\": dUnique_df.iloc[top5[3]]['dUnique_label'],\n",
    "    \"rank5\": dUnique_df.iloc[top5[4]]['dUnique_label'],\n",
    "}"
   ]
  },
  {
   "cell_type": "markdown",
   "id": "4f016259",
   "metadata": {},
   "source": [
    "### Cranberry"
   ]
  },
  {
   "cell_type": "code",
   "execution_count": 94,
   "id": "d8e3d308",
   "metadata": {},
   "outputs": [
    {
     "data": {
      "text/html": [
       "<div>\n",
       "<style scoped>\n",
       "    .dataframe tbody tr th:only-of-type {\n",
       "        vertical-align: middle;\n",
       "    }\n",
       "\n",
       "    .dataframe tbody tr th {\n",
       "        vertical-align: top;\n",
       "    }\n",
       "\n",
       "    .dataframe thead th {\n",
       "        text-align: right;\n",
       "    }\n",
       "</style>\n",
       "<table border=\"1\" class=\"dataframe\">\n",
       "  <thead>\n",
       "    <tr style=\"text-align: right;\">\n",
       "      <th></th>\n",
       "      <th>dUnique_label</th>\n",
       "      <th>dUnique_seq_padded</th>\n",
       "    </tr>\n",
       "  </thead>\n",
       "  <tbody>\n",
       "    <tr>\n",
       "      <th>58</th>\n",
       "      <td>CRANBERRY</td>\n",
       "      <td>[3, 18, 1, 14, 2, 5, 18, 18, 25, 0, 0, 0, 0, 0...</td>\n",
       "    </tr>\n",
       "  </tbody>\n",
       "</table>\n",
       "</div>"
      ],
      "text/plain": [
       "   dUnique_label                                 dUnique_seq_padded\n",
       "58     CRANBERRY  [3, 18, 1, 14, 2, 5, 18, 18, 25, 0, 0, 0, 0, 0..."
      ]
     },
     "execution_count": 94,
     "metadata": {},
     "output_type": "execute_result"
    }
   ],
   "source": [
    "cranberry = dUnique_df[dUnique_df[\"dUnique_label\"].str.contains(\"CRANBERRY\")].head(1)\n",
    "cranberry"
   ]
  },
  {
   "cell_type": "code",
   "execution_count": 95,
   "id": "94a162d7",
   "metadata": {},
   "outputs": [
    {
     "data": {
      "text/plain": [
       "'CRANBERRY'"
      ]
     },
     "execution_count": 95,
     "metadata": {},
     "output_type": "execute_result"
    }
   ],
   "source": [
    "i = cranberry.index.values[0]\n",
    "clean(dUnique_df[\"dUnique_label\"][i])"
   ]
  },
  {
   "cell_type": "code",
   "execution_count": 96,
   "id": "9b4b626b",
   "metadata": {},
   "outputs": [
    {
     "name": "stdout",
     "output_type": "stream",
     "text": [
      "25/25 [==============================] - 0s 2ms/step\n"
     ]
    }
   ],
   "source": [
    "predicts = model.predict([np.tile(padding(encode(clean(dUnique_df[\"dUnique_label\"][i]))), (dUnique_df['dUnique_seq_padded'].shape[0],1)), np.stack(dUnique_df['dUnique_seq_padded'])]).astype('float32')\n",
    "top5 = predicts.flatten().argsort()\n",
    "# argsort = predicts.flatten().argsort()"
   ]
  },
  {
   "cell_type": "code",
   "execution_count": 97,
   "id": "ebbb0cd8",
   "metadata": {},
   "outputs": [
    {
     "data": {
      "text/plain": [
       "{'rank1': 'APPLE CIDER VINEGAR',\n",
       " 'rank2': 'CRANBERRY',\n",
       " 'rank3': 'VACCINIUM MACROCARPON',\n",
       " 'rank4': 'BARBERRY',\n",
       " 'rank5': 'VACCINIUM MYRSINITES'}"
      ]
     },
     "execution_count": 97,
     "metadata": {},
     "output_type": "execute_result"
    }
   ],
   "source": [
    "# Top-5 smalles distances\n",
    "m = max(top5)\n",
    "{\n",
    "    \"rank1\": dUnique_df.iloc[top5[0]]['dUnique_label'],\n",
    "    \"rank2\": dUnique_df.iloc[top5[1]]['dUnique_label'],\n",
    "    \"rank3\": dUnique_df.iloc[top5[2]]['dUnique_label'],\n",
    "    \"rank4\": dUnique_df.iloc[top5[3]]['dUnique_label'],\n",
    "    \"rank5\": dUnique_df.iloc[top5[4]]['dUnique_label'],\n",
    "}"
   ]
  },
  {
   "cell_type": "markdown",
   "id": "e72534f9",
   "metadata": {},
   "source": [
    "## True  Negatives"
   ]
  },
  {
   "cell_type": "code",
   "execution_count": 98,
   "id": "877dbf40",
   "metadata": {},
   "outputs": [
    {
     "data": {
      "text/html": [
       "<div>\n",
       "<style scoped>\n",
       "    .dataframe tbody tr th:only-of-type {\n",
       "        vertical-align: middle;\n",
       "    }\n",
       "\n",
       "    .dataframe tbody tr th {\n",
       "        vertical-align: top;\n",
       "    }\n",
       "\n",
       "    .dataframe thead th {\n",
       "        text-align: right;\n",
       "    }\n",
       "</style>\n",
       "<table border=\"1\" class=\"dataframe\">\n",
       "  <thead>\n",
       "    <tr style=\"text-align: right;\">\n",
       "      <th></th>\n",
       "      <th>x</th>\n",
       "      <th>y</th>\n",
       "      <th>Processed_x</th>\n",
       "      <th>Processed_y</th>\n",
       "      <th>Match</th>\n",
       "      <th>Distance</th>\n",
       "    </tr>\n",
       "  </thead>\n",
       "  <tbody>\n",
       "    <tr>\n",
       "      <th>0</th>\n",
       "      <td>ANUSOLHC BENZYL BENZOATEBISMUTH HYDROXIDE</td>\n",
       "      <td>CINNAMON</td>\n",
       "      <td>[1, 14, 21, 19, 15, 12, 8, 3, 27, 2, 5, 14, 26...</td>\n",
       "      <td>[3, 9, 14, 14, 1, 13, 15, 14, 0, 0, 0, 0, 0, 0...</td>\n",
       "      <td>0</td>\n",
       "      <td>1</td>\n",
       "    </tr>\n",
       "    <tr>\n",
       "      <th>1</th>\n",
       "      <td>ASCABIOL BENZYL BENZOATE</td>\n",
       "      <td>CINNAMON</td>\n",
       "      <td>[1, 19, 3, 1, 2, 9, 15, 12, 27, 2, 5, 14, 26, ...</td>\n",
       "      <td>[3, 9, 14, 14, 1, 13, 15, 14, 0, 0, 0, 0, 0, 0...</td>\n",
       "      <td>0</td>\n",
       "      <td>1</td>\n",
       "    </tr>\n",
       "    <tr>\n",
       "      <th>2</th>\n",
       "      <td>CASSIA</td>\n",
       "      <td>CINNAMON</td>\n",
       "      <td>[3, 1, 19, 19, 9, 1, 0, 0, 0, 0, 0, 0, 0, 0, 0...</td>\n",
       "      <td>[3, 9, 14, 14, 1, 13, 15, 14, 0, 0, 0, 0, 0, 0...</td>\n",
       "      <td>0</td>\n",
       "      <td>1</td>\n",
       "    </tr>\n",
       "    <tr>\n",
       "      <th>3</th>\n",
       "      <td>CASSIA ACUTIFOLIA</td>\n",
       "      <td>CINNAMON</td>\n",
       "      <td>[3, 1, 19, 19, 9, 1, 27, 1, 3, 21, 20, 9, 6, 1...</td>\n",
       "      <td>[3, 9, 14, 14, 1, 13, 15, 14, 0, 0, 0, 0, 0, 0...</td>\n",
       "      <td>0</td>\n",
       "      <td>1</td>\n",
       "    </tr>\n",
       "    <tr>\n",
       "      <th>4</th>\n",
       "      <td>CASSIA ALATA</td>\n",
       "      <td>CINNAMON</td>\n",
       "      <td>[3, 1, 19, 19, 9, 1, 27, 1, 12, 1, 20, 1, 0, 0...</td>\n",
       "      <td>[3, 9, 14, 14, 1, 13, 15, 14, 0, 0, 0, 0, 0, 0...</td>\n",
       "      <td>0</td>\n",
       "      <td>1</td>\n",
       "    </tr>\n",
       "  </tbody>\n",
       "</table>\n",
       "</div>"
      ],
      "text/plain": [
       "                                           x         y  \\\n",
       "0  ANUSOLHC BENZYL BENZOATEBISMUTH HYDROXIDE  CINNAMON   \n",
       "1                   ASCABIOL BENZYL BENZOATE  CINNAMON   \n",
       "2                                     CASSIA  CINNAMON   \n",
       "3                          CASSIA ACUTIFOLIA  CINNAMON   \n",
       "4                               CASSIA ALATA  CINNAMON   \n",
       "\n",
       "                                         Processed_x  \\\n",
       "0  [1, 14, 21, 19, 15, 12, 8, 3, 27, 2, 5, 14, 26...   \n",
       "1  [1, 19, 3, 1, 2, 9, 15, 12, 27, 2, 5, 14, 26, ...   \n",
       "2  [3, 1, 19, 19, 9, 1, 0, 0, 0, 0, 0, 0, 0, 0, 0...   \n",
       "3  [3, 1, 19, 19, 9, 1, 27, 1, 3, 21, 20, 9, 6, 1...   \n",
       "4  [3, 1, 19, 19, 9, 1, 27, 1, 12, 1, 20, 1, 0, 0...   \n",
       "\n",
       "                                         Processed_y  Match  Distance  \n",
       "0  [3, 9, 14, 14, 1, 13, 15, 14, 0, 0, 0, 0, 0, 0...      0         1  \n",
       "1  [3, 9, 14, 14, 1, 13, 15, 14, 0, 0, 0, 0, 0, 0...      0         1  \n",
       "2  [3, 9, 14, 14, 1, 13, 15, 14, 0, 0, 0, 0, 0, 0...      0         1  \n",
       "3  [3, 9, 14, 14, 1, 13, 15, 14, 0, 0, 0, 0, 0, 0...      0         1  \n",
       "4  [3, 9, 14, 14, 1, 13, 15, 14, 0, 0, 0, 0, 0, 0...      0         1  "
      ]
     },
     "execution_count": 98,
     "metadata": {},
     "output_type": "execute_result"
    }
   ],
   "source": [
    "dfneg2.head()"
   ]
  },
  {
   "cell_type": "markdown",
   "id": "4ba7cdd8",
   "metadata": {},
   "source": [
    "# Evaluating on test data - NP names only"
   ]
  },
  {
   "cell_type": "code",
   "execution_count": 99,
   "id": "1a88ac91",
   "metadata": {
    "scrolled": true
   },
   "outputs": [
    {
     "name": "stdout",
     "output_type": "stream",
     "text": [
      "<class 'pandas.core.frame.DataFrame'>\n",
      "RangeIndex: 958 entries, 0 to 957\n",
      "Data columns (total 4 columns):\n",
      " #   Column                Non-Null Count  Dtype \n",
      "---  ------                --------------  ----- \n",
      " 0   latin_binomial        958 non-null    object\n",
      " 1   common_name           958 non-null    object\n",
      " 2   latin_binomial_clean  958 non-null    object\n",
      " 3   common_name_clean     958 non-null    object\n",
      "dtypes: object(4)\n",
      "memory usage: 30.1+ KB\n"
     ]
    }
   ],
   "source": [
    "vocab = pd.read_csv('../data/lb_to_common_names.csv')\n",
    "vocab.info()"
   ]
  },
  {
   "cell_type": "markdown",
   "id": "684b8088",
   "metadata": {},
   "source": [
    "# Create a sample from the test set to evaluate"
   ]
  },
  {
   "cell_type": "code",
   "execution_count": 100,
   "id": "cfdbf207",
   "metadata": {},
   "outputs": [],
   "source": [
    "positive_pairs = test.loc[test[\"Match\"] == 1].sample(n=500)"
   ]
  },
  {
   "cell_type": "markdown",
   "id": "5fd04131",
   "metadata": {},
   "source": [
    "# Evaluation of drug name predictions\n",
    "### Find ranks 1-n from the predicted similarities for the test data"
   ]
  },
  {
   "cell_type": "code",
   "execution_count": 101,
   "id": "6219f6a7",
   "metadata": {},
   "outputs": [],
   "source": [
    "def find_ranks(model: tf.keras.Model, df: pd.DataFrame, find_related_rank: bool = False, report_distances: bool = False) -> pd.DataFrame:\n",
    "    \"\"\"For each row in the input dataframe, the model is used to predict the top matching Unique Product Names \n",
    "    in 'x' against the entry matches any of the 'y' entries.\n",
    "    This is done at the encoded sequence level for both name all unique drugnames\n",
    "       \n",
    "         Parameters\n",
    "    ----------\n",
    "    model : tf.keras.Model\n",
    "        A Keras model based Siamese Network that takes three inputs. \n",
    "        Namely, two input sequeces and a third input binary target specifying wether the two sequeces match.\n",
    "    \n",
    "    find_related_rank: bool\n",
    "        A flag indicating wether to compare the top ranked results against the 'y' and it's potential equivalents or not.\n",
    "        \n",
    "    report_distances: bool\n",
    "        A flag indicating return the distance values of the top ranked results against the 'y'.\n",
    "      \n",
    "    Returns\n",
    "    -------\n",
    "    df : pd.DataFrame\n",
    "        Returns the padded 'x', 'y', 'rank1', 'rank2', 'rank3', 'rank4', 'rank5' series.\n",
    "        And additionally the 'exact_rank' and 'equivalent_rank' series and the 'rank1_distance', 'rank2_distance', \n",
    "        'rank3_distance', 'rank4_distance', 'rank5_distance' if requested.\n",
    "    \n",
    "    \"\"\"\n",
    "    \n",
    "    print(\"Using column: \", df.columns[0])\n",
    "    df.assign(rank1=\"\", rank2=\"\", rank3=\"\", rank4=\"\", rank5=\"\")\n",
    "    \n",
    "    if report_distances:\n",
    "        df.assign(rank1_distance=np.Inf, rank2_distance=np.Inf, rank3_distance=np.Inf, rank4_distance=np.Inf, rank5_distance=np.Inf)\n",
    " \n",
    "    if find_related_rank:\n",
    "        df.assign(exact_rank= np.Inf, equivalent_rank = np.Inf)\n",
    "    \n",
    "    for i in df.index:\n",
    "        predicts = model.predict([np.tile(df.loc[i, \"Processed_\"+ df.columns[0]], (dUnique_df['dUnique_seq_padded'].shape[0],1)), np.stack(dUnique_df['dUnique_seq_padded'])]).astype('float32')\n",
    "        argsort = predicts.flatten().argsort()\n",
    "        # Top-5 smalles distances\n",
    "        df.at[i, 'rank1'] = dUnique_df['dUnique_label'][argsort[0]]  \n",
    "        df.at[i, 'rank2'] = dUnique_df['dUnique_label'][argsort[1]]\n",
    "        df.at[i, 'rank3'] = dUnique_df['dUnique_label'][argsort[2]]\n",
    "        df.at[i, 'rank4'] = dUnique_df['dUnique_label'][argsort[3]]\n",
    "        df.at[i, 'rank5'] = dUnique_df['dUnique_label'][argsort[4]]\n",
    "        \n",
    "        if report_distances:\n",
    "            df.at[i, 'rank1_distance'] = predicts[argsort[0]]  \n",
    "            df.at[i, 'rank2_distance'] = predicts[argsort[1]]\n",
    "            df.at[i, 'rank3_distance'] = predicts[argsort[2]]\n",
    "            df.at[i, 'rank4_distance'] = predicts[argsort[3]]\n",
    "            df.at[i, 'rank5_distance'] = predicts[argsort[4]]\n",
    "\n",
    "        if find_related_rank:\n",
    "            # Find the top-5 predicted matches\n",
    "            lookup_clean = clean(df.at[i , df.columns[1]])\n",
    "            predicted_rank = df.loc[i, ['rank1', 'rank2', 'rank3', 'rank4', 'rank5']].eq(lookup_clean).to_numpy().nonzero()\n",
    "            \n",
    "            # Find the top ranking correct match, if not rank is infinity so that 1/inf ~ 0, for the MRR computation.\n",
    "            lookup_rank = np.Inf    \n",
    "            if len(predicted_rank[0]) > 0 :\n",
    "                lookup_rank = predicted_rank[0][0] + 1\n",
    "            df.loc[i, \"exact_rank\"] = lookup_rank\n",
    "\n",
    "            # Find all the equivalent common names and latin binomials relative to the look up value that would be equaly correct.\n",
    "            equivalent = np.setdiff1d(vocab[[\"latin_binomial_clean\",\"common_name_clean\"]][(vocab[\"latin_binomial_clean\"] == lookup_clean) | (vocab[\"common_name_clean\"] == lookup_clean)].unstack().unique(), lookup_rank)\n",
    "\n",
    "            # Find the top ranking correct match \n",
    "            related_rank = np.Inf\n",
    "            if len(equivalent) > 0:\n",
    "                for lookup_result in equivalent:\n",
    "                    annotated_rank = df.loc[i][['rank1', 'rank2', 'rank3', 'rank4', 'rank5']].eq(lookup_result).to_numpy().nonzero()\n",
    "                    if len(annotated_rank[0]) > 0: \n",
    "                        new_related_rank = annotated_rank[0][0] + 1\n",
    "                        related_rank = min(related_rank, new_related_rank)\n",
    "\n",
    "            #find related mappings to lookup value in predicted values \n",
    "            df.loc[i, 'equivalent_rank'] = min(lookup_rank, related_rank)\n",
    "            \n",
    "    return df"
   ]
  },
  {
   "cell_type": "markdown",
   "id": "a37cc942",
   "metadata": {},
   "source": [
    "## Assing ranks to the matching \n",
    "matches are assigned their corresponding rank\n",
    "non-matches are left null"
   ]
  },
  {
   "cell_type": "code",
   "execution_count": 102,
   "id": "8a7fa8a0",
   "metadata": {},
   "outputs": [
    {
     "name": "stdout",
     "output_type": "stream",
     "text": [
      "Using column:  x\n",
      "25/25 [==============================] - 0s 2ms/step\n",
      "25/25 [==============================] - 0s 3ms/step\n",
      "25/25 [==============================] - 0s 3ms/step\n",
      "25/25 [==============================] - 0s 2ms/step\n",
      "25/25 [==============================] - 0s 2ms/step\n",
      "25/25 [==============================] - 0s 2ms/step\n",
      "25/25 [==============================] - 0s 2ms/step\n",
      "25/25 [==============================] - 0s 2ms/step\n",
      "25/25 [==============================] - 0s 2ms/step\n",
      "25/25 [==============================] - 0s 2ms/step\n",
      "25/25 [==============================] - 0s 2ms/step\n",
      "25/25 [==============================] - 0s 2ms/step\n",
      "25/25 [==============================] - 0s 3ms/step\n",
      "25/25 [==============================] - 0s 2ms/step\n",
      "25/25 [==============================] - 0s 2ms/step\n",
      "25/25 [==============================] - 0s 3ms/step\n",
      "25/25 [==============================] - 0s 2ms/step\n",
      "25/25 [==============================] - 0s 3ms/step\n",
      "25/25 [==============================] - 0s 3ms/step\n",
      "25/25 [==============================] - 0s 2ms/step\n",
      "25/25 [==============================] - 0s 2ms/step\n",
      "25/25 [==============================] - 0s 2ms/step\n",
      "25/25 [==============================] - 0s 2ms/step\n",
      "25/25 [==============================] - 0s 2ms/step\n",
      "25/25 [==============================] - 0s 3ms/step\n",
      "25/25 [==============================] - 0s 2ms/step\n",
      "25/25 [==============================] - 0s 2ms/step\n",
      "25/25 [==============================] - 0s 3ms/step\n",
      "25/25 [==============================] - 0s 3ms/step\n",
      "25/25 [==============================] - 0s 3ms/step\n",
      "25/25 [==============================] - 0s 2ms/step\n",
      "25/25 [==============================] - 0s 2ms/step\n",
      "25/25 [==============================] - 0s 2ms/step\n",
      "25/25 [==============================] - 0s 2ms/step\n",
      "25/25 [==============================] - 0s 2ms/step\n",
      "25/25 [==============================] - 0s 3ms/step\n",
      "25/25 [==============================] - 0s 3ms/step\n",
      "25/25 [==============================] - 0s 2ms/step\n",
      "25/25 [==============================] - 0s 2ms/step\n",
      "25/25 [==============================] - 0s 2ms/step\n",
      "25/25 [==============================] - 0s 2ms/step\n",
      "25/25 [==============================] - 0s 2ms/step\n",
      "25/25 [==============================] - 0s 2ms/step\n",
      "25/25 [==============================] - 0s 2ms/step\n",
      "25/25 [==============================] - 0s 3ms/step\n",
      "25/25 [==============================] - 0s 2ms/step\n",
      "25/25 [==============================] - 0s 2ms/step\n",
      "25/25 [==============================] - 0s 2ms/step\n",
      "25/25 [==============================] - 0s 3ms/step\n",
      "25/25 [==============================] - 0s 2ms/step\n",
      "25/25 [==============================] - 0s 2ms/step\n",
      "25/25 [==============================] - 0s 2ms/step\n",
      "25/25 [==============================] - 0s 3ms/step\n",
      "25/25 [==============================] - 0s 3ms/step\n",
      "25/25 [==============================] - 0s 2ms/step\n",
      "25/25 [==============================] - 0s 3ms/step\n",
      "25/25 [==============================] - 0s 2ms/step\n",
      "25/25 [==============================] - 0s 2ms/step\n",
      "25/25 [==============================] - 0s 3ms/step\n",
      "25/25 [==============================] - 0s 3ms/step\n",
      "25/25 [==============================] - 0s 2ms/step\n",
      "25/25 [==============================] - 0s 2ms/step\n",
      "25/25 [==============================] - 0s 2ms/step\n",
      "25/25 [==============================] - 0s 3ms/step\n",
      "25/25 [==============================] - 0s 2ms/step\n",
      "25/25 [==============================] - 0s 2ms/step\n",
      "25/25 [==============================] - 0s 2ms/step\n",
      "25/25 [==============================] - 0s 2ms/step\n",
      "25/25 [==============================] - 0s 2ms/step\n",
      "25/25 [==============================] - 0s 2ms/step\n",
      "25/25 [==============================] - 0s 2ms/step\n",
      "25/25 [==============================] - 0s 2ms/step\n",
      "25/25 [==============================] - 0s 2ms/step\n",
      "25/25 [==============================] - 0s 3ms/step\n",
      "25/25 [==============================] - 0s 3ms/step\n",
      "25/25 [==============================] - 0s 3ms/step\n",
      "25/25 [==============================] - 0s 2ms/step\n",
      "25/25 [==============================] - 0s 2ms/step\n",
      "25/25 [==============================] - 0s 2ms/step\n",
      "25/25 [==============================] - 0s 2ms/step\n",
      "25/25 [==============================] - 0s 2ms/step\n",
      "25/25 [==============================] - 0s 2ms/step\n",
      "25/25 [==============================] - 0s 3ms/step\n",
      "25/25 [==============================] - 0s 2ms/step\n",
      "25/25 [==============================] - 0s 2ms/step\n",
      "25/25 [==============================] - 0s 2ms/step\n",
      "25/25 [==============================] - 0s 2ms/step\n",
      "25/25 [==============================] - 0s 2ms/step\n",
      "25/25 [==============================] - 0s 2ms/step\n",
      "25/25 [==============================] - 0s 2ms/step\n",
      "25/25 [==============================] - 0s 3ms/step\n",
      "25/25 [==============================] - 0s 3ms/step\n",
      "25/25 [==============================] - 0s 3ms/step\n",
      "25/25 [==============================] - 0s 3ms/step\n",
      "25/25 [==============================] - 0s 2ms/step\n",
      "25/25 [==============================] - 0s 2ms/step\n",
      "25/25 [==============================] - 0s 2ms/step\n",
      "25/25 [==============================] - 0s 2ms/step\n",
      "25/25 [==============================] - 0s 2ms/step\n",
      "25/25 [==============================] - 0s 2ms/step\n",
      "25/25 [==============================] - 0s 2ms/step\n",
      "25/25 [==============================] - 0s 2ms/step\n",
      "25/25 [==============================] - 0s 2ms/step\n",
      "25/25 [==============================] - 0s 2ms/step\n",
      "25/25 [==============================] - 0s 2ms/step\n",
      "25/25 [==============================] - 0s 2ms/step\n",
      "25/25 [==============================] - 0s 2ms/step\n",
      "25/25 [==============================] - 0s 3ms/step\n",
      "25/25 [==============================] - 0s 2ms/step\n",
      "25/25 [==============================] - 0s 2ms/step\n",
      "25/25 [==============================] - 0s 2ms/step\n",
      "25/25 [==============================] - 0s 2ms/step\n",
      "25/25 [==============================] - 0s 2ms/step\n",
      "25/25 [==============================] - 0s 2ms/step\n",
      "25/25 [==============================] - 0s 2ms/step\n",
      "25/25 [==============================] - 0s 2ms/step\n",
      "25/25 [==============================] - 0s 2ms/step\n",
      "25/25 [==============================] - 0s 2ms/step\n",
      "25/25 [==============================] - 0s 3ms/step\n",
      "25/25 [==============================] - 0s 2ms/step\n",
      "25/25 [==============================] - 0s 2ms/step\n",
      "25/25 [==============================] - 0s 2ms/step\n",
      "25/25 [==============================] - 0s 2ms/step\n",
      "25/25 [==============================] - 0s 2ms/step\n",
      "25/25 [==============================] - 0s 3ms/step\n",
      "25/25 [==============================] - 0s 2ms/step\n",
      "25/25 [==============================] - 0s 2ms/step\n",
      "25/25 [==============================] - 0s 3ms/step\n",
      "25/25 [==============================] - 0s 2ms/step\n",
      "25/25 [==============================] - 0s 2ms/step\n",
      "25/25 [==============================] - 0s 2ms/step\n",
      "25/25 [==============================] - 0s 2ms/step\n",
      "25/25 [==============================] - 0s 2ms/step\n",
      "25/25 [==============================] - 0s 2ms/step\n",
      "25/25 [==============================] - 0s 2ms/step\n",
      "25/25 [==============================] - 0s 2ms/step\n",
      "25/25 [==============================] - 0s 2ms/step\n",
      "25/25 [==============================] - 0s 2ms/step\n",
      "25/25 [==============================] - 0s 2ms/step\n",
      "25/25 [==============================] - 0s 3ms/step\n",
      "25/25 [==============================] - 0s 3ms/step\n",
      "25/25 [==============================] - 0s 2ms/step\n",
      "25/25 [==============================] - 0s 2ms/step\n",
      "25/25 [==============================] - 0s 3ms/step\n",
      "25/25 [==============================] - 0s 2ms/step\n",
      "25/25 [==============================] - 0s 2ms/step\n",
      "25/25 [==============================] - 0s 3ms/step\n",
      "25/25 [==============================] - 0s 3ms/step\n",
      "25/25 [==============================] - 0s 2ms/step\n",
      "25/25 [==============================] - 0s 2ms/step\n",
      "25/25 [==============================] - 0s 2ms/step\n",
      "25/25 [==============================] - 0s 2ms/step\n",
      "25/25 [==============================] - 0s 2ms/step\n",
      "25/25 [==============================] - 0s 3ms/step\n"
     ]
    },
    {
     "name": "stdout",
     "output_type": "stream",
     "text": [
      "25/25 [==============================] - 0s 3ms/step\n",
      "25/25 [==============================] - 0s 3ms/step\n",
      "25/25 [==============================] - 0s 2ms/step\n",
      "25/25 [==============================] - 0s 2ms/step\n",
      "25/25 [==============================] - 0s 2ms/step\n",
      "25/25 [==============================] - 0s 2ms/step\n",
      "25/25 [==============================] - 0s 3ms/step\n",
      "25/25 [==============================] - 0s 3ms/step\n",
      "25/25 [==============================] - 0s 2ms/step\n",
      "25/25 [==============================] - 0s 2ms/step\n",
      "25/25 [==============================] - 0s 3ms/step\n",
      "25/25 [==============================] - 0s 3ms/step\n",
      "25/25 [==============================] - 0s 4ms/step\n",
      "25/25 [==============================] - 0s 3ms/step\n",
      "25/25 [==============================] - 0s 2ms/step\n",
      "25/25 [==============================] - 0s 2ms/step\n",
      "25/25 [==============================] - 0s 3ms/step\n",
      "25/25 [==============================] - 0s 2ms/step\n",
      "25/25 [==============================] - 0s 2ms/step\n",
      "25/25 [==============================] - 0s 3ms/step\n",
      "25/25 [==============================] - 0s 3ms/step\n",
      "25/25 [==============================] - 0s 3ms/step\n",
      "25/25 [==============================] - 0s 2ms/step\n",
      "25/25 [==============================] - 0s 3ms/step\n",
      "25/25 [==============================] - 0s 3ms/step\n",
      "25/25 [==============================] - 0s 2ms/step\n",
      "25/25 [==============================] - 0s 2ms/step\n",
      "25/25 [==============================] - 0s 2ms/step\n",
      "25/25 [==============================] - 0s 2ms/step\n",
      "25/25 [==============================] - 0s 3ms/step\n",
      "25/25 [==============================] - 0s 2ms/step\n",
      "25/25 [==============================] - 0s 3ms/step\n",
      "25/25 [==============================] - 0s 2ms/step\n",
      "25/25 [==============================] - 0s 2ms/step\n",
      "25/25 [==============================] - 0s 3ms/step\n",
      "25/25 [==============================] - 0s 3ms/step\n",
      "25/25 [==============================] - 0s 2ms/step\n",
      "25/25 [==============================] - 0s 2ms/step\n",
      "25/25 [==============================] - 0s 2ms/step\n",
      "25/25 [==============================] - 0s 2ms/step\n",
      "25/25 [==============================] - 0s 2ms/step\n",
      "25/25 [==============================] - 0s 2ms/step\n",
      "25/25 [==============================] - 0s 2ms/step\n",
      "25/25 [==============================] - 0s 2ms/step\n",
      "25/25 [==============================] - 0s 2ms/step\n",
      "25/25 [==============================] - 0s 2ms/step\n",
      "25/25 [==============================] - 0s 2ms/step\n",
      "25/25 [==============================] - 0s 2ms/step\n",
      "25/25 [==============================] - 0s 3ms/step\n",
      "25/25 [==============================] - 0s 2ms/step\n",
      "25/25 [==============================] - 0s 2ms/step\n",
      "25/25 [==============================] - 0s 2ms/step\n",
      "25/25 [==============================] - 0s 3ms/step\n",
      "25/25 [==============================] - 0s 3ms/step\n",
      "25/25 [==============================] - 0s 2ms/step\n",
      "25/25 [==============================] - 0s 3ms/step\n",
      "25/25 [==============================] - 0s 3ms/step\n",
      "25/25 [==============================] - 0s 2ms/step\n",
      "25/25 [==============================] - 0s 3ms/step\n",
      "25/25 [==============================] - 0s 3ms/step\n",
      "25/25 [==============================] - 0s 3ms/step\n",
      "25/25 [==============================] - 0s 3ms/step\n",
      "25/25 [==============================] - 0s 3ms/step\n",
      "25/25 [==============================] - 0s 2ms/step\n",
      "25/25 [==============================] - 0s 2ms/step\n",
      "25/25 [==============================] - 0s 3ms/step\n",
      "25/25 [==============================] - 0s 2ms/step\n",
      "25/25 [==============================] - 0s 2ms/step\n",
      "25/25 [==============================] - 0s 2ms/step\n",
      "25/25 [==============================] - 0s 2ms/step\n",
      "25/25 [==============================] - 0s 2ms/step\n",
      "25/25 [==============================] - 0s 2ms/step\n",
      "25/25 [==============================] - 0s 2ms/step\n",
      "25/25 [==============================] - 0s 2ms/step\n",
      "25/25 [==============================] - 0s 2ms/step\n",
      "25/25 [==============================] - 0s 2ms/step\n",
      "25/25 [==============================] - 0s 2ms/step\n",
      "25/25 [==============================] - 0s 3ms/step\n",
      "25/25 [==============================] - 0s 3ms/step\n",
      "25/25 [==============================] - 0s 3ms/step\n",
      "25/25 [==============================] - 0s 3ms/step\n",
      "25/25 [==============================] - 0s 3ms/step\n",
      "25/25 [==============================] - 0s 2ms/step\n",
      "25/25 [==============================] - 0s 3ms/step\n",
      "25/25 [==============================] - 0s 3ms/step\n",
      "25/25 [==============================] - 0s 2ms/step\n",
      "25/25 [==============================] - 0s 2ms/step\n",
      "25/25 [==============================] - 0s 2ms/step\n",
      "25/25 [==============================] - 0s 2ms/step\n",
      "25/25 [==============================] - 0s 2ms/step\n",
      "25/25 [==============================] - 0s 2ms/step\n",
      "25/25 [==============================] - 0s 2ms/step\n",
      "25/25 [==============================] - 0s 2ms/step\n",
      "25/25 [==============================] - 0s 2ms/step\n",
      "25/25 [==============================] - 0s 2ms/step\n",
      "25/25 [==============================] - 0s 2ms/step\n",
      "25/25 [==============================] - 0s 2ms/step\n",
      "25/25 [==============================] - 0s 3ms/step\n",
      "25/25 [==============================] - 0s 2ms/step\n",
      "25/25 [==============================] - 0s 2ms/step\n",
      "25/25 [==============================] - 0s 2ms/step\n",
      "25/25 [==============================] - 0s 2ms/step\n",
      "25/25 [==============================] - 0s 2ms/step\n",
      "25/25 [==============================] - 0s 3ms/step\n",
      "25/25 [==============================] - 0s 2ms/step\n",
      "25/25 [==============================] - 0s 2ms/step\n",
      "25/25 [==============================] - 0s 2ms/step\n",
      "25/25 [==============================] - 0s 3ms/step\n",
      "25/25 [==============================] - 0s 2ms/step\n",
      "25/25 [==============================] - 0s 2ms/step\n",
      "25/25 [==============================] - 0s 2ms/step\n",
      "25/25 [==============================] - 0s 2ms/step\n",
      "25/25 [==============================] - 0s 2ms/step\n",
      "25/25 [==============================] - 0s 2ms/step\n",
      "25/25 [==============================] - 0s 2ms/step\n",
      "25/25 [==============================] - 0s 3ms/step\n",
      "25/25 [==============================] - 0s 2ms/step\n",
      "25/25 [==============================] - 0s 2ms/step\n",
      "25/25 [==============================] - 0s 2ms/step\n",
      "25/25 [==============================] - 0s 2ms/step\n",
      "25/25 [==============================] - 0s 2ms/step\n",
      "25/25 [==============================] - 0s 2ms/step\n",
      "25/25 [==============================] - 0s 2ms/step\n",
      "25/25 [==============================] - 0s 2ms/step\n",
      "25/25 [==============================] - 0s 2ms/step\n",
      "25/25 [==============================] - 0s 2ms/step\n",
      "25/25 [==============================] - 0s 3ms/step\n",
      "25/25 [==============================] - 0s 2ms/step\n",
      "25/25 [==============================] - 0s 3ms/step\n",
      "25/25 [==============================] - 0s 2ms/step\n",
      "25/25 [==============================] - 0s 2ms/step\n",
      "25/25 [==============================] - 0s 2ms/step\n",
      "25/25 [==============================] - 0s 2ms/step\n",
      "25/25 [==============================] - 0s 2ms/step\n",
      "25/25 [==============================] - 0s 2ms/step\n",
      "25/25 [==============================] - 0s 2ms/step\n",
      "25/25 [==============================] - 0s 2ms/step\n",
      "25/25 [==============================] - 0s 2ms/step\n",
      "25/25 [==============================] - 0s 2ms/step\n",
      "25/25 [==============================] - 0s 2ms/step\n",
      "25/25 [==============================] - 0s 2ms/step\n",
      "25/25 [==============================] - 0s 2ms/step\n",
      "25/25 [==============================] - 0s 2ms/step\n",
      "25/25 [==============================] - 0s 2ms/step\n",
      "25/25 [==============================] - 0s 2ms/step\n",
      "25/25 [==============================] - 0s 2ms/step\n",
      "25/25 [==============================] - 0s 2ms/step\n",
      "25/25 [==============================] - 0s 3ms/step\n",
      "25/25 [==============================] - 0s 3ms/step\n",
      "25/25 [==============================] - 0s 3ms/step\n",
      "25/25 [==============================] - 0s 2ms/step\n",
      "25/25 [==============================] - 0s 2ms/step\n",
      "25/25 [==============================] - 0s 2ms/step\n",
      "25/25 [==============================] - 0s 2ms/step\n"
     ]
    },
    {
     "name": "stdout",
     "output_type": "stream",
     "text": [
      "25/25 [==============================] - 0s 2ms/step\n",
      "25/25 [==============================] - 0s 2ms/step\n",
      "25/25 [==============================] - 0s 2ms/step\n",
      "25/25 [==============================] - 0s 2ms/step\n",
      "25/25 [==============================] - 0s 2ms/step\n",
      "25/25 [==============================] - 0s 2ms/step\n",
      "25/25 [==============================] - 0s 2ms/step\n",
      "25/25 [==============================] - 0s 2ms/step\n",
      "25/25 [==============================] - 0s 2ms/step\n",
      "25/25 [==============================] - 0s 2ms/step\n",
      "25/25 [==============================] - 0s 2ms/step\n",
      "25/25 [==============================] - 0s 2ms/step\n",
      "25/25 [==============================] - 0s 2ms/step\n",
      "25/25 [==============================] - 0s 2ms/step\n",
      "25/25 [==============================] - 0s 2ms/step\n",
      "25/25 [==============================] - 0s 2ms/step\n",
      "25/25 [==============================] - 0s 2ms/step\n",
      "25/25 [==============================] - 0s 3ms/step\n",
      "25/25 [==============================] - 0s 2ms/step\n",
      "25/25 [==============================] - 0s 2ms/step\n",
      "25/25 [==============================] - 0s 2ms/step\n",
      "25/25 [==============================] - 0s 2ms/step\n",
      "25/25 [==============================] - 0s 2ms/step\n",
      "25/25 [==============================] - 0s 2ms/step\n",
      "25/25 [==============================] - 0s 2ms/step\n",
      "25/25 [==============================] - 0s 2ms/step\n",
      "25/25 [==============================] - 0s 2ms/step\n",
      "25/25 [==============================] - 0s 2ms/step\n",
      "25/25 [==============================] - 0s 2ms/step\n",
      "25/25 [==============================] - 0s 2ms/step\n",
      "25/25 [==============================] - 0s 2ms/step\n",
      "25/25 [==============================] - 0s 2ms/step\n",
      "25/25 [==============================] - 0s 2ms/step\n",
      "25/25 [==============================] - 0s 2ms/step\n",
      "25/25 [==============================] - 0s 3ms/step\n",
      "25/25 [==============================] - 0s 2ms/step\n",
      "25/25 [==============================] - 0s 2ms/step\n",
      "25/25 [==============================] - 0s 2ms/step\n",
      "25/25 [==============================] - 0s 2ms/step\n",
      "25/25 [==============================] - 0s 2ms/step\n",
      "25/25 [==============================] - 0s 2ms/step\n",
      "25/25 [==============================] - 0s 2ms/step\n",
      "25/25 [==============================] - 0s 2ms/step\n",
      "25/25 [==============================] - 0s 2ms/step\n",
      "25/25 [==============================] - 0s 2ms/step\n",
      "25/25 [==============================] - 0s 2ms/step\n",
      "25/25 [==============================] - 0s 2ms/step\n",
      "25/25 [==============================] - 0s 2ms/step\n",
      "25/25 [==============================] - 0s 2ms/step\n",
      "25/25 [==============================] - 0s 2ms/step\n",
      "25/25 [==============================] - 0s 2ms/step\n",
      "25/25 [==============================] - 0s 2ms/step\n",
      "25/25 [==============================] - 0s 2ms/step\n",
      "25/25 [==============================] - 0s 2ms/step\n",
      "25/25 [==============================] - 0s 2ms/step\n",
      "25/25 [==============================] - 0s 3ms/step\n",
      "25/25 [==============================] - 0s 2ms/step\n",
      "25/25 [==============================] - 0s 2ms/step\n",
      "25/25 [==============================] - 0s 2ms/step\n",
      "25/25 [==============================] - 0s 2ms/step\n",
      "25/25 [==============================] - 0s 2ms/step\n",
      "25/25 [==============================] - 0s 2ms/step\n",
      "25/25 [==============================] - 0s 2ms/step\n",
      "25/25 [==============================] - 0s 2ms/step\n",
      "25/25 [==============================] - 0s 2ms/step\n",
      "25/25 [==============================] - 0s 3ms/step\n",
      "25/25 [==============================] - 0s 2ms/step\n",
      "25/25 [==============================] - 0s 2ms/step\n",
      "25/25 [==============================] - 0s 2ms/step\n",
      "25/25 [==============================] - 0s 2ms/step\n",
      "25/25 [==============================] - 0s 2ms/step\n",
      "25/25 [==============================] - 0s 2ms/step\n",
      "25/25 [==============================] - 0s 2ms/step\n",
      "25/25 [==============================] - 0s 2ms/step\n",
      "25/25 [==============================] - 0s 2ms/step\n",
      "25/25 [==============================] - 0s 2ms/step\n",
      "25/25 [==============================] - 0s 2ms/step\n",
      "25/25 [==============================] - 0s 2ms/step\n",
      "25/25 [==============================] - 0s 2ms/step\n",
      "25/25 [==============================] - 0s 2ms/step\n",
      "25/25 [==============================] - 0s 2ms/step\n",
      "25/25 [==============================] - 0s 2ms/step\n",
      "25/25 [==============================] - 0s 2ms/step\n",
      "25/25 [==============================] - 0s 2ms/step\n",
      "25/25 [==============================] - 0s 2ms/step\n",
      "25/25 [==============================] - 0s 2ms/step\n",
      "25/25 [==============================] - 0s 2ms/step\n",
      "25/25 [==============================] - 0s 2ms/step\n",
      "25/25 [==============================] - 0s 2ms/step\n",
      "25/25 [==============================] - 0s 2ms/step\n",
      "25/25 [==============================] - 0s 2ms/step\n",
      "25/25 [==============================] - 0s 2ms/step\n",
      "25/25 [==============================] - 0s 2ms/step\n",
      "25/25 [==============================] - 0s 2ms/step\n",
      "25/25 [==============================] - 0s 2ms/step\n",
      "25/25 [==============================] - 0s 2ms/step\n",
      "25/25 [==============================] - 0s 2ms/step\n",
      "25/25 [==============================] - 0s 2ms/step\n",
      "25/25 [==============================] - 0s 2ms/step\n",
      "25/25 [==============================] - 0s 2ms/step\n",
      "25/25 [==============================] - 0s 2ms/step\n",
      "25/25 [==============================] - 0s 2ms/step\n",
      "25/25 [==============================] - 0s 2ms/step\n",
      "25/25 [==============================] - 0s 2ms/step\n",
      "25/25 [==============================] - 0s 2ms/step\n",
      "25/25 [==============================] - 0s 2ms/step\n",
      "25/25 [==============================] - 0s 2ms/step\n",
      "25/25 [==============================] - 0s 2ms/step\n",
      "25/25 [==============================] - 0s 2ms/step\n",
      "25/25 [==============================] - 0s 2ms/step\n",
      "25/25 [==============================] - 0s 2ms/step\n",
      "25/25 [==============================] - 0s 2ms/step\n",
      "25/25 [==============================] - 0s 2ms/step\n",
      "25/25 [==============================] - 0s 2ms/step\n",
      "25/25 [==============================] - 0s 2ms/step\n",
      "25/25 [==============================] - 0s 2ms/step\n",
      "25/25 [==============================] - 0s 2ms/step\n",
      "25/25 [==============================] - 0s 2ms/step\n",
      "25/25 [==============================] - 0s 3ms/step\n",
      "25/25 [==============================] - 0s 2ms/step\n",
      "25/25 [==============================] - 0s 2ms/step\n",
      "25/25 [==============================] - 0s 2ms/step\n",
      "25/25 [==============================] - 0s 2ms/step\n",
      "25/25 [==============================] - 0s 2ms/step\n",
      "25/25 [==============================] - 0s 2ms/step\n",
      "25/25 [==============================] - 0s 2ms/step\n",
      "25/25 [==============================] - 0s 2ms/step\n",
      "25/25 [==============================] - 0s 2ms/step\n",
      "25/25 [==============================] - 0s 2ms/step\n",
      "25/25 [==============================] - 0s 2ms/step\n",
      "25/25 [==============================] - 0s 2ms/step\n",
      "25/25 [==============================] - 0s 2ms/step\n",
      "25/25 [==============================] - 0s 3ms/step\n",
      "25/25 [==============================] - 0s 2ms/step\n",
      "25/25 [==============================] - 0s 2ms/step\n",
      "25/25 [==============================] - 0s 2ms/step\n",
      "25/25 [==============================] - 0s 2ms/step\n",
      "25/25 [==============================] - 0s 3ms/step\n",
      "25/25 [==============================] - 0s 2ms/step\n",
      "25/25 [==============================] - 0s 2ms/step\n",
      "25/25 [==============================] - 0s 2ms/step\n",
      "25/25 [==============================] - 0s 2ms/step\n",
      "25/25 [==============================] - 0s 2ms/step\n",
      "25/25 [==============================] - 0s 2ms/step\n",
      "25/25 [==============================] - 0s 2ms/step\n",
      "25/25 [==============================] - 0s 2ms/step\n",
      "25/25 [==============================] - 0s 2ms/step\n",
      "25/25 [==============================] - 0s 2ms/step\n",
      "25/25 [==============================] - 0s 2ms/step\n",
      "25/25 [==============================] - 0s 2ms/step\n",
      "25/25 [==============================] - 0s 2ms/step\n",
      "25/25 [==============================] - 0s 2ms/step\n",
      "25/25 [==============================] - 0s 2ms/step\n",
      "25/25 [==============================] - 0s 2ms/step\n"
     ]
    },
    {
     "name": "stdout",
     "output_type": "stream",
     "text": [
      "25/25 [==============================] - 0s 2ms/step\n",
      "25/25 [==============================] - 0s 2ms/step\n",
      "25/25 [==============================] - 0s 2ms/step\n",
      "25/25 [==============================] - 0s 2ms/step\n",
      "25/25 [==============================] - 0s 2ms/step\n",
      "25/25 [==============================] - 0s 2ms/step\n",
      "25/25 [==============================] - 0s 2ms/step\n",
      "25/25 [==============================] - 0s 2ms/step\n",
      "25/25 [==============================] - 0s 2ms/step\n",
      "25/25 [==============================] - 0s 2ms/step\n",
      "25/25 [==============================] - 0s 2ms/step\n",
      "25/25 [==============================] - 0s 2ms/step\n",
      "25/25 [==============================] - 0s 2ms/step\n",
      "25/25 [==============================] - 0s 2ms/step\n",
      "25/25 [==============================] - 0s 2ms/step\n",
      "25/25 [==============================] - 0s 3ms/step\n",
      "25/25 [==============================] - 0s 2ms/step\n",
      "25/25 [==============================] - 0s 2ms/step\n",
      "25/25 [==============================] - 0s 2ms/step\n",
      "25/25 [==============================] - 0s 2ms/step\n",
      "25/25 [==============================] - 0s 2ms/step\n",
      "25/25 [==============================] - 0s 2ms/step\n",
      "25/25 [==============================] - 0s 2ms/step\n",
      "25/25 [==============================] - 0s 2ms/step\n",
      "25/25 [==============================] - 0s 3ms/step\n",
      "25/25 [==============================] - 0s 2ms/step\n",
      "25/25 [==============================] - 0s 2ms/step\n",
      "25/25 [==============================] - 0s 2ms/step\n",
      "25/25 [==============================] - 0s 2ms/step\n",
      "25/25 [==============================] - 0s 3ms/step\n",
      "25/25 [==============================] - 0s 2ms/step\n",
      "25/25 [==============================] - 0s 2ms/step\n",
      "25/25 [==============================] - 0s 2ms/step\n",
      "25/25 [==============================] - 0s 2ms/step\n",
      "25/25 [==============================] - 0s 2ms/step\n",
      "25/25 [==============================] - 0s 2ms/step\n",
      "25/25 [==============================] - 0s 2ms/step\n",
      "25/25 [==============================] - 0s 2ms/step\n"
     ]
    },
    {
     "data": {
      "text/html": [
       "<div>\n",
       "<style scoped>\n",
       "    .dataframe tbody tr th:only-of-type {\n",
       "        vertical-align: middle;\n",
       "    }\n",
       "\n",
       "    .dataframe tbody tr th {\n",
       "        vertical-align: top;\n",
       "    }\n",
       "\n",
       "    .dataframe thead th {\n",
       "        text-align: right;\n",
       "    }\n",
       "</style>\n",
       "<table border=\"1\" class=\"dataframe\">\n",
       "  <thead>\n",
       "    <tr style=\"text-align: right;\">\n",
       "      <th></th>\n",
       "      <th>x</th>\n",
       "      <th>y</th>\n",
       "      <th>Processed_x</th>\n",
       "      <th>Processed_y</th>\n",
       "      <th>Match</th>\n",
       "      <th>Distance</th>\n",
       "      <th>rank1</th>\n",
       "      <th>rank2</th>\n",
       "      <th>rank3</th>\n",
       "      <th>rank4</th>\n",
       "      <th>rank5</th>\n",
       "      <th>rank1_distance</th>\n",
       "      <th>rank2_distance</th>\n",
       "      <th>rank3_distance</th>\n",
       "      <th>rank4_distance</th>\n",
       "      <th>rank5_distance</th>\n",
       "      <th>exact_rank</th>\n",
       "      <th>equivalent_rank</th>\n",
       "    </tr>\n",
       "  </thead>\n",
       "  <tbody>\n",
       "    <tr>\n",
       "      <th>1402</th>\n",
       "      <td>ALOE VERA GEL</td>\n",
       "      <td>ALOE VERA</td>\n",
       "      <td>[1, 12, 15, 5, 27, 22, 5, 18, 1, 27, 7, 5, 12,...</td>\n",
       "      <td>[1, 12, 15, 5, 27, 22, 5, 18, 1, 0, 0, 0, 0, 0...</td>\n",
       "      <td>1</td>\n",
       "      <td>0</td>\n",
       "      <td>ALOE VERA</td>\n",
       "      <td>SLIPPERY ELM</td>\n",
       "      <td>QUERCUS ILEX</td>\n",
       "      <td>ALCEA ROSEA</td>\n",
       "      <td>ULMUS RUBRA</td>\n",
       "      <td>0.00000</td>\n",
       "      <td>0.082151</td>\n",
       "      <td>0.129918</td>\n",
       "      <td>0.138858</td>\n",
       "      <td>0.142648</td>\n",
       "      <td>1.0</td>\n",
       "      <td>1.0</td>\n",
       "    </tr>\n",
       "    <tr>\n",
       "      <th>60199</th>\n",
       "      <td>MEDICANL OANNAABIOS OIL VIOEE CBD</td>\n",
       "      <td>CANNABIS SATIVA</td>\n",
       "      <td>[13, 5, 4, 9, 3, 1, 14, 12, 27, 15, 1, 14, 14,...</td>\n",
       "      <td>[3, 1, 14, 14, 1, 2, 9, 19, 27, 19, 1, 20, 9, ...</td>\n",
       "      <td>1</td>\n",
       "      <td>0</td>\n",
       "      <td>GENTIANA PNEUMONANTHE</td>\n",
       "      <td>UNCARIA TOMENTOSA</td>\n",
       "      <td>CANNABIS SATIVA</td>\n",
       "      <td>CATSCLAW</td>\n",
       "      <td>PAUSINYSTALIA JOHIMBE</td>\n",
       "      <td>0.00000</td>\n",
       "      <td>0.000000</td>\n",
       "      <td>0.092331</td>\n",
       "      <td>0.153731</td>\n",
       "      <td>0.176517</td>\n",
       "      <td>3.0</td>\n",
       "      <td>3.0</td>\n",
       "    </tr>\n",
       "    <tr>\n",
       "      <th>50840</th>\n",
       "      <td>GAARULIC LEMONBICAFBONATE SOA</td>\n",
       "      <td>ALLIUM SATIVUM</td>\n",
       "      <td>[7, 1, 1, 18, 21, 12, 9, 3, 27, 12, 5, 13, 15,...</td>\n",
       "      <td>[1, 12, 12, 9, 21, 13, 27, 19, 1, 20, 9, 22, 2...</td>\n",
       "      <td>1</td>\n",
       "      <td>0</td>\n",
       "      <td>KRATOM</td>\n",
       "      <td>ARENARIA LANUGINOSA</td>\n",
       "      <td>BORAGO OFFICINALIS</td>\n",
       "      <td>LIONS TOOTH</td>\n",
       "      <td>TARAXACUM OFFICINALE</td>\n",
       "      <td>0.14579</td>\n",
       "      <td>0.164177</td>\n",
       "      <td>0.179420</td>\n",
       "      <td>0.191789</td>\n",
       "      <td>0.208097</td>\n",
       "      <td>inf</td>\n",
       "      <td>inf</td>\n",
       "    </tr>\n",
       "    <tr>\n",
       "      <th>4569</th>\n",
       "      <td>ASPHODELINE LUTEA</td>\n",
       "      <td>ASPHODELINE LUTEA</td>\n",
       "      <td>[1, 19, 16, 8, 15, 4, 5, 12, 9, 14, 5, 27, 12,...</td>\n",
       "      <td>[1, 19, 16, 8, 15, 4, 5, 12, 9, 14, 5, 27, 12,...</td>\n",
       "      <td>1</td>\n",
       "      <td>0</td>\n",
       "      <td>LUDWIGIA PEPLOIDES</td>\n",
       "      <td>ASPHODELINE LUTEA</td>\n",
       "      <td>ARISTOTELIA CHILENSIS</td>\n",
       "      <td>ARISTOLOCHIA RUGOSA</td>\n",
       "      <td>PASSIFLORA EDULIS</td>\n",
       "      <td>0.00000</td>\n",
       "      <td>0.000000</td>\n",
       "      <td>0.000000</td>\n",
       "      <td>0.089544</td>\n",
       "      <td>0.111512</td>\n",
       "      <td>2.0</td>\n",
       "      <td>2.0</td>\n",
       "    </tr>\n",
       "    <tr>\n",
       "      <th>65816</th>\n",
       "      <td>SUPER GREJEN HZJCRN KRATOM</td>\n",
       "      <td>MITRAGYNA SPECIOSA</td>\n",
       "      <td>[19, 21, 16, 5, 18, 27, 7, 18, 5, 10, 5, 14, 2...</td>\n",
       "      <td>[13, 9, 20, 18, 1, 7, 25, 14, 1, 27, 19, 16, 5...</td>\n",
       "      <td>1</td>\n",
       "      <td>0</td>\n",
       "      <td>MITRAGYNA SPECIOSA</td>\n",
       "      <td>KRATOM</td>\n",
       "      <td>CAMELLIA SINENSIS</td>\n",
       "      <td>SILYBUM MARIANUM</td>\n",
       "      <td>SERENOA REPENS</td>\n",
       "      <td>0.00000</td>\n",
       "      <td>0.000000</td>\n",
       "      <td>0.023898</td>\n",
       "      <td>0.101166</td>\n",
       "      <td>0.114288</td>\n",
       "      <td>1.0</td>\n",
       "      <td>1.0</td>\n",
       "    </tr>\n",
       "  </tbody>\n",
       "</table>\n",
       "</div>"
      ],
      "text/plain": [
       "                                       x                   y  \\\n",
       "1402                       ALOE VERA GEL           ALOE VERA   \n",
       "60199  MEDICANL OANNAABIOS OIL VIOEE CBD     CANNABIS SATIVA   \n",
       "50840      GAARULIC LEMONBICAFBONATE SOA      ALLIUM SATIVUM   \n",
       "4569                   ASPHODELINE LUTEA   ASPHODELINE LUTEA   \n",
       "65816         SUPER GREJEN HZJCRN KRATOM  MITRAGYNA SPECIOSA   \n",
       "\n",
       "                                             Processed_x  \\\n",
       "1402   [1, 12, 15, 5, 27, 22, 5, 18, 1, 27, 7, 5, 12,...   \n",
       "60199  [13, 5, 4, 9, 3, 1, 14, 12, 27, 15, 1, 14, 14,...   \n",
       "50840  [7, 1, 1, 18, 21, 12, 9, 3, 27, 12, 5, 13, 15,...   \n",
       "4569   [1, 19, 16, 8, 15, 4, 5, 12, 9, 14, 5, 27, 12,...   \n",
       "65816  [19, 21, 16, 5, 18, 27, 7, 18, 5, 10, 5, 14, 2...   \n",
       "\n",
       "                                             Processed_y  Match  Distance  \\\n",
       "1402   [1, 12, 15, 5, 27, 22, 5, 18, 1, 0, 0, 0, 0, 0...      1         0   \n",
       "60199  [3, 1, 14, 14, 1, 2, 9, 19, 27, 19, 1, 20, 9, ...      1         0   \n",
       "50840  [1, 12, 12, 9, 21, 13, 27, 19, 1, 20, 9, 22, 2...      1         0   \n",
       "4569   [1, 19, 16, 8, 15, 4, 5, 12, 9, 14, 5, 27, 12,...      1         0   \n",
       "65816  [13, 9, 20, 18, 1, 7, 25, 14, 1, 27, 19, 16, 5...      1         0   \n",
       "\n",
       "                       rank1                rank2                  rank3  \\\n",
       "1402               ALOE VERA         SLIPPERY ELM           QUERCUS ILEX   \n",
       "60199  GENTIANA PNEUMONANTHE    UNCARIA TOMENTOSA        CANNABIS SATIVA   \n",
       "50840                 KRATOM  ARENARIA LANUGINOSA     BORAGO OFFICINALIS   \n",
       "4569      LUDWIGIA PEPLOIDES    ASPHODELINE LUTEA  ARISTOTELIA CHILENSIS   \n",
       "65816     MITRAGYNA SPECIOSA               KRATOM      CAMELLIA SINENSIS   \n",
       "\n",
       "                     rank4                  rank5  rank1_distance  \\\n",
       "1402           ALCEA ROSEA            ULMUS RUBRA         0.00000   \n",
       "60199             CATSCLAW  PAUSINYSTALIA JOHIMBE         0.00000   \n",
       "50840          LIONS TOOTH   TARAXACUM OFFICINALE         0.14579   \n",
       "4569   ARISTOLOCHIA RUGOSA      PASSIFLORA EDULIS         0.00000   \n",
       "65816     SILYBUM MARIANUM         SERENOA REPENS         0.00000   \n",
       "\n",
       "       rank2_distance  rank3_distance  rank4_distance  rank5_distance  \\\n",
       "1402         0.082151        0.129918        0.138858        0.142648   \n",
       "60199        0.000000        0.092331        0.153731        0.176517   \n",
       "50840        0.164177        0.179420        0.191789        0.208097   \n",
       "4569         0.000000        0.000000        0.089544        0.111512   \n",
       "65816        0.000000        0.023898        0.101166        0.114288   \n",
       "\n",
       "       exact_rank  equivalent_rank  \n",
       "1402          1.0              1.0  \n",
       "60199         3.0              3.0  \n",
       "50840         inf              inf  \n",
       "4569          2.0              2.0  \n",
       "65816         1.0              1.0  "
      ]
     },
     "execution_count": 102,
     "metadata": {},
     "output_type": "execute_result"
    }
   ],
   "source": [
    "predicted = find_ranks(model, positive_pairs,  True, True)\n",
    "predicted.head(5)"
   ]
  },
  {
   "cell_type": "markdown",
   "id": "ea208cb0",
   "metadata": {},
   "source": [
    "----------------------------------------------------"
   ]
  },
  {
   "cell_type": "markdown",
   "id": "4dde0323",
   "metadata": {},
   "source": [
    "# Predicted Match MRR Evaluation"
   ]
  },
  {
   "cell_type": "code",
   "execution_count": 103,
   "id": "6991befc",
   "metadata": {},
   "outputs": [
    {
     "data": {
      "text/html": [
       "<div>\n",
       "<style scoped>\n",
       "    .dataframe tbody tr th:only-of-type {\n",
       "        vertical-align: middle;\n",
       "    }\n",
       "\n",
       "    .dataframe tbody tr th {\n",
       "        vertical-align: top;\n",
       "    }\n",
       "\n",
       "    .dataframe thead th {\n",
       "        text-align: right;\n",
       "    }\n",
       "</style>\n",
       "<table border=\"1\" class=\"dataframe\">\n",
       "  <thead>\n",
       "    <tr style=\"text-align: right;\">\n",
       "      <th></th>\n",
       "      <th>exact_reciprocal_rank</th>\n",
       "      <th>equivalent_reciprocal_rank</th>\n",
       "    </tr>\n",
       "  </thead>\n",
       "  <tbody>\n",
       "    <tr>\n",
       "      <th>count</th>\n",
       "      <td>500.000000</td>\n",
       "      <td>500.000000</td>\n",
       "    </tr>\n",
       "    <tr>\n",
       "      <th>mean</th>\n",
       "      <td>0.537467</td>\n",
       "      <td>0.712667</td>\n",
       "    </tr>\n",
       "    <tr>\n",
       "      <th>std</th>\n",
       "      <td>0.347784</td>\n",
       "      <td>0.349699</td>\n",
       "    </tr>\n",
       "    <tr>\n",
       "      <th>min</th>\n",
       "      <td>0.000000</td>\n",
       "      <td>0.000000</td>\n",
       "    </tr>\n",
       "    <tr>\n",
       "      <th>25%</th>\n",
       "      <td>0.333333</td>\n",
       "      <td>0.500000</td>\n",
       "    </tr>\n",
       "    <tr>\n",
       "      <th>50%</th>\n",
       "      <td>0.500000</td>\n",
       "      <td>1.000000</td>\n",
       "    </tr>\n",
       "    <tr>\n",
       "      <th>75%</th>\n",
       "      <td>1.000000</td>\n",
       "      <td>1.000000</td>\n",
       "    </tr>\n",
       "    <tr>\n",
       "      <th>max</th>\n",
       "      <td>1.000000</td>\n",
       "      <td>1.000000</td>\n",
       "    </tr>\n",
       "  </tbody>\n",
       "</table>\n",
       "</div>"
      ],
      "text/plain": [
       "       exact_reciprocal_rank  equivalent_reciprocal_rank\n",
       "count             500.000000                  500.000000\n",
       "mean                0.537467                    0.712667\n",
       "std                 0.347784                    0.349699\n",
       "min                 0.000000                    0.000000\n",
       "25%                 0.333333                    0.500000\n",
       "50%                 0.500000                    1.000000\n",
       "75%                 1.000000                    1.000000\n",
       "max                 1.000000                    1.000000"
      ]
     },
     "execution_count": 103,
     "metadata": {},
     "output_type": "execute_result"
    }
   ],
   "source": [
    "models_mrr = predicted.loc[:,['x', 'exact_rank', 'equivalent_rank']]\n",
    "models_mrr.loc[:,'exact_reciprocal_rank'] = 1/models_mrr.loc[:, 'exact_rank']\n",
    "models_mrr.loc[:,'equivalent_reciprocal_rank'] = 1/models_mrr.loc[:, 'equivalent_rank']\n",
    "models_mrr[['exact_reciprocal_rank', 'equivalent_reciprocal_rank']].describe()"
   ]
  },
  {
   "cell_type": "code",
   "execution_count": 104,
   "id": "babb2c7d",
   "metadata": {},
   "outputs": [
    {
     "data": {
      "text/plain": [
       "(2.0, nan)"
      ]
     },
     "execution_count": 104,
     "metadata": {},
     "output_type": "execute_result"
    }
   ],
   "source": [
    "#get median and stdev\n",
    "models_mrr['exact_rank'].median(), models_mrr['exact_rank'].std()"
   ]
  },
  {
   "cell_type": "code",
   "execution_count": 105,
   "id": "00fee30d",
   "metadata": {},
   "outputs": [
    {
     "data": {
      "text/plain": [
       "(1.0, nan)"
      ]
     },
     "execution_count": 105,
     "metadata": {},
     "output_type": "execute_result"
    }
   ],
   "source": [
    "#get median and stdev\n",
    "models_mrr['equivalent_rank'].median(), models_mrr['equivalent_rank'].std()"
   ]
  },
  {
   "cell_type": "code",
   "execution_count": 106,
   "id": "c00accdc",
   "metadata": {},
   "outputs": [
    {
     "data": {
      "text/plain": [
       "0.10749333333333334"
      ]
     },
     "execution_count": 106,
     "metadata": {},
     "output_type": "execute_result"
    }
   ],
   "source": [
    "1/models_mrr.size  * models_mrr['exact_reciprocal_rank'].sum()"
   ]
  },
  {
   "cell_type": "code",
   "execution_count": 107,
   "id": "735ba93d",
   "metadata": {},
   "outputs": [
    {
     "data": {
      "text/plain": [
       "0.14253333333333335"
      ]
     },
     "execution_count": 107,
     "metadata": {},
     "output_type": "execute_result"
    }
   ],
   "source": [
    "1/models_mrr.size  * models_mrr['equivalent_reciprocal_rank'].sum()"
   ]
  },
  {
   "cell_type": "markdown",
   "id": "68af1b5a",
   "metadata": {},
   "source": [
    "--------------------------------------"
   ]
  },
  {
   "cell_type": "markdown",
   "id": "75bbde8a",
   "metadata": {},
   "source": [
    "# Comparison with fuzzy string match"
   ]
  },
  {
   "cell_type": "code",
   "execution_count": 108,
   "id": "7fb45135",
   "metadata": {},
   "outputs": [],
   "source": [
    "def find_Gesalt_fuzzy_lookup_and_related_rank(df: pd.DataFrame, find_related_rank: bool = False) -> pd.DataFrame:\n",
    "    \"\"\"For each row in the input data frame, this function utilizes the difflib implementation of fuzzy string match\n",
    "       to find the top 5 unique natural product names that match the row's 'x' string value.\n",
    "       \n",
    "       \n",
    "    Parameters\n",
    "    ----------\n",
    "    df: pd.DataFrame\n",
    "        A pandas dataframe with the fist column containing 'x' strings to be matched against natural product names.\n",
    "        Optionally containing Pandas Series with the clean encoded 'y' column.\n",
    "    \n",
    "    find_related_rank: bool\n",
    "        A flag indicating wether to compare the top ranked results against the 'y' and it's potential equivalents or not.\n",
    "      \n",
    "    Returns\n",
    "    -------\n",
    "    df : pd.DataFrame\n",
    "        Returns the padded 'x', 'y', 'rank1', 'rank2', 'rank3', 'rank4', 'rank5' seriess.\n",
    "        And additionally the 'exact_rank' and 'equivalent_rank' series if requested.\n",
    "    \n",
    "    \"\"\"\n",
    "    \n",
    "    df = pd.concat(\n",
    "        [\n",
    "            df,\n",
    "            pd.DataFrame(\n",
    "                df[df.columns[0]].apply(lambda x: get_close_matches(x, dUnique_df[\"dUnique_label\"].to_list(), n=5, cutoff=0.0)).to_list(),\n",
    "                columns=['rank1', 'rank2', 'rank3', 'rank4', 'rank5'],\n",
    "                index = df.index\n",
    "            )\n",
    "        ], \n",
    "        axis=1, \n",
    "        join=\"inner\"\n",
    "    )\n",
    "    \n",
    "    if find_related_rank:\n",
    "        df.assign(lookup_rank= np.Inf, lookup_rank_related = np.Inf)\n",
    "        for i in df.index:\n",
    "            # Does any of them match\n",
    "            lookup_clean = clean(df.at[i , df.columns[1]])\n",
    "            match_rank = df.loc[i, ['rank1', 'rank2', 'rank3', 'rank4', 'rank5']].eq(lookup_clean).to_numpy().nonzero()\n",
    "\n",
    "\n",
    "            lookup_rank = np.Inf    \n",
    "            if len(match_rank[0]) > 0 :\n",
    "                lookup_rank = match_rank[0][0] + 1\n",
    "            df.loc[i, 'exact_rank'] = lookup_rank\n",
    "\n",
    "            equivalent = np.setdiff1d(vocab[[\"latin_binomial_clean\",\"common_name_clean\"]][(vocab[\"latin_binomial_clean\"] == lookup_clean) | (vocab[\"common_name_clean\"] == lookup_clean)].unstack().unique(), lookup_rank)\n",
    "\n",
    "            related_rank = np.Inf\n",
    "            if len(equivalent) > 0:\n",
    "                for lookup_result in equivalent:\n",
    "                    annotated_rank = df.loc[i][['rank1', 'rank2', 'rank3', 'rank4', 'rank5']].eq(lookup_result).to_numpy().nonzero()\n",
    "                    new_related_rank = np.Inf\n",
    "                    if len(annotated_rank[0]) > 0: \n",
    "                        new_related_rank = annotated_rank[0][0] + 1\n",
    "                        related_rank = min(related_rank, new_related_rank)\n",
    "\n",
    "            #find related mappings to lookup value in predicted values \n",
    "            df.loc[i, 'equivalent_rank'] = min(lookup_rank, related_rank)\n",
    "    return df"
   ]
  },
  {
   "cell_type": "code",
   "execution_count": 109,
   "id": "abde269e",
   "metadata": {},
   "outputs": [],
   "source": [
    "def find_Levenshtein_fuzzy_lookup_and_related_rank(df: pd.DataFrame, find_related_rank: bool = False, report_distances: bool = False) -> pd.DataFrame:\n",
    "    \"\"\"For each row in the input data frame, this function utilizes the Levenshtein distance to find the \n",
    "    top 5 unique natural product names that match the row's 'x' string value.\n",
    "       \n",
    "       \n",
    "    Parameters\n",
    "    ----------\n",
    "    df: pd.DataFrame\n",
    "        A pandas dataframe with the fist column containing 'x' strings to be matched against natural product names.\n",
    "        Optionally containing Pandas Series with the clean encoded 'y' column.\n",
    "    \n",
    "    find_related_rank: bool\n",
    "        A flag indicating wether to compare the top ranked results against the 'y' and it's potential equivalents or not.\n",
    "        \n",
    "    report_distances: bool\n",
    "        A flag indicating return the distance values of the top ranked results against the 'y'.\n",
    "      \n",
    "    Returns\n",
    "    -------\n",
    "    df : pd.DataFrame\n",
    "        Returns the padded 'x', 'y', 'rank1', 'rank2', 'rank3', 'rank4', 'rank5' series.\n",
    "        And additionally the 'exact_rank' and 'equivalent_rank' series and the 'rank1_distance', 'rank2_distance', \n",
    "        'rank3_distance', 'rank4_distance', 'rank5_distance' if requested.\n",
    "    \n",
    "    \"\"\"\n",
    "    \n",
    "    print(\"Using column: {} as input.\".format(df.columns[0]))\n",
    "    \n",
    "    if find_related_rank:\n",
    "        print(\"Using column: {} as target.\".format(df.columns[1]))\n",
    "        df.assign(exact_rank= np.Inf, equivalent_rank = np.Inf)\n",
    "        \n",
    "    if report_distances:\n",
    "        df.assign(rank1_distance=np.Inf, rank2_distance=np.Inf, rank3_distance=np.Inf, rank4_distance=np.Inf, rank5_distance=np.Inf)\n",
    "\n",
    "\n",
    "    for i in df.index:\n",
    "        distances = dUnique_df[\"dUnique_label\"].apply(lambda x: Levenshtein.distance(x, df.at[i, df.columns[0]])).to_numpy().astype('float32')\n",
    "        argsort = distances.argsort()\n",
    "\n",
    "        \n",
    "        # Top-5 smalles distances\n",
    "        df.loc[i, 'rank1'] = dUnique_df['dUnique_label'][argsort[0]]  \n",
    "        df.loc[i, 'rank2'] = dUnique_df['dUnique_label'][argsort[1]]\n",
    "        df.loc[i, 'rank3'] = dUnique_df['dUnique_label'][argsort[2]]\n",
    "        df.loc[i, 'rank4'] = dUnique_df['dUnique_label'][argsort[3]]\n",
    "        df.loc[i, 'rank5'] = dUnique_df['dUnique_label'][argsort[4]]\n",
    "\n",
    "        if report_distances:\n",
    "            df.loc[i, 'rank1_distance'] = distances[argsort[0]]  \n",
    "            df.loc[i, 'rank2_distance'] = distances[argsort[1]]\n",
    "            df.loc[i, 'rank3_distance'] = distances[argsort[2]]\n",
    "            df.loc[i, 'rank4_distance'] = distances[argsort[3]]\n",
    "            df.loc[i, 'rank5_distance'] = distances[argsort[4]]\n",
    "\n",
    "        if find_related_rank:\n",
    "            df.assign(lookup_rank= np.Inf, lookup_rank_related = np.Inf)\n",
    "            for i in df.index:\n",
    "                # Does any of them match\n",
    "                lookup_clean = clean(df.at[i , df.columns[1]])\n",
    "                match_rank = df.loc[i, ['rank1', 'rank2', 'rank3', 'rank4', 'rank5']].eq(lookup_clean).to_numpy().nonzero()\n",
    "\n",
    "\n",
    "                lookup_rank = np.Inf    \n",
    "                if len(match_rank[0]) > 0 :\n",
    "                    lookup_rank = match_rank[0][0] + 1\n",
    "                df.loc[i, 'exact_rank'] = lookup_rank\n",
    "\n",
    "                equivalent = np.setdiff1d(vocab[[\"latin_binomial_clean\",\"common_name_clean\"]][(vocab[\"latin_binomial_clean\"] == lookup_clean) | (vocab[\"common_name_clean\"] == lookup_clean)].unstack().unique(), lookup_rank)\n",
    "\n",
    "                related_rank = np.Inf\n",
    "                if len(equivalent) > 0:\n",
    "                    for lookup_result in equivalent:\n",
    "                        annotated_rank = df.loc[i][['rank1', 'rank2', 'rank3', 'rank4', 'rank5']].eq(lookup_result).to_numpy().nonzero()\n",
    "                        new_related_rank = np.Inf\n",
    "                        if len(annotated_rank[0]) > 0: \n",
    "                            new_related_rank = annotated_rank[0][0] + 1\n",
    "                            related_rank = min(related_rank, new_related_rank)\n",
    "\n",
    "                #find related mappings to lookup value in predicted values \n",
    "                df.loc[i, 'equivalent_rank'] = min(lookup_rank, related_rank)\n",
    "\n",
    "    return df"
   ]
  },
  {
   "cell_type": "markdown",
   "id": "562db835",
   "metadata": {},
   "source": [
    "--------------------------------------"
   ]
  },
  {
   "cell_type": "markdown",
   "id": "77b00f22",
   "metadata": {},
   "source": [
    "# Fuzzy Levenshtein Match MRR Evaluation"
   ]
  },
  {
   "cell_type": "code",
   "execution_count": 110,
   "id": "5c4b976e",
   "metadata": {},
   "outputs": [
    {
     "name": "stdout",
     "output_type": "stream",
     "text": [
      "Using column: x as input.\n",
      "Using column: y as target.\n"
     ]
    }
   ],
   "source": [
    "Levenshtein_match = find_Levenshtein_fuzzy_lookup_and_related_rank(positive_pairs.loc[:, ('x', 'y')], True, True)"
   ]
  },
  {
   "cell_type": "code",
   "execution_count": 111,
   "id": "695f97e8",
   "metadata": {},
   "outputs": [
    {
     "data": {
      "text/html": [
       "<div>\n",
       "<style scoped>\n",
       "    .dataframe tbody tr th:only-of-type {\n",
       "        vertical-align: middle;\n",
       "    }\n",
       "\n",
       "    .dataframe tbody tr th {\n",
       "        vertical-align: top;\n",
       "    }\n",
       "\n",
       "    .dataframe thead th {\n",
       "        text-align: right;\n",
       "    }\n",
       "</style>\n",
       "<table border=\"1\" class=\"dataframe\">\n",
       "  <thead>\n",
       "    <tr style=\"text-align: right;\">\n",
       "      <th></th>\n",
       "      <th>exact_reciprocal_rank</th>\n",
       "      <th>equivalent_reciprocal_rank</th>\n",
       "    </tr>\n",
       "  </thead>\n",
       "  <tbody>\n",
       "    <tr>\n",
       "      <th>count</th>\n",
       "      <td>500.000000</td>\n",
       "      <td>500.000000</td>\n",
       "    </tr>\n",
       "    <tr>\n",
       "      <th>mean</th>\n",
       "      <td>0.421867</td>\n",
       "      <td>0.675433</td>\n",
       "    </tr>\n",
       "    <tr>\n",
       "      <th>std</th>\n",
       "      <td>0.476650</td>\n",
       "      <td>0.446462</td>\n",
       "    </tr>\n",
       "    <tr>\n",
       "      <th>min</th>\n",
       "      <td>0.000000</td>\n",
       "      <td>0.000000</td>\n",
       "    </tr>\n",
       "    <tr>\n",
       "      <th>25%</th>\n",
       "      <td>0.000000</td>\n",
       "      <td>0.000000</td>\n",
       "    </tr>\n",
       "    <tr>\n",
       "      <th>50%</th>\n",
       "      <td>0.000000</td>\n",
       "      <td>1.000000</td>\n",
       "    </tr>\n",
       "    <tr>\n",
       "      <th>75%</th>\n",
       "      <td>1.000000</td>\n",
       "      <td>1.000000</td>\n",
       "    </tr>\n",
       "    <tr>\n",
       "      <th>max</th>\n",
       "      <td>1.000000</td>\n",
       "      <td>1.000000</td>\n",
       "    </tr>\n",
       "  </tbody>\n",
       "</table>\n",
       "</div>"
      ],
      "text/plain": [
       "       exact_reciprocal_rank  equivalent_reciprocal_rank\n",
       "count             500.000000                  500.000000\n",
       "mean                0.421867                    0.675433\n",
       "std                 0.476650                    0.446462\n",
       "min                 0.000000                    0.000000\n",
       "25%                 0.000000                    0.000000\n",
       "50%                 0.000000                    1.000000\n",
       "75%                 1.000000                    1.000000\n",
       "max                 1.000000                    1.000000"
      ]
     },
     "execution_count": 111,
     "metadata": {},
     "output_type": "execute_result"
    }
   ],
   "source": [
    "Levenshtein_mrr = Levenshtein_match.loc[:,['x', 'exact_rank', 'equivalent_rank']]\n",
    "Levenshtein_mrr.loc[:,'exact_reciprocal_rank'] = 1/Levenshtein_mrr.loc[:, 'exact_rank']\n",
    "Levenshtein_mrr.loc[:,'equivalent_reciprocal_rank'] = 1/Levenshtein_mrr.loc[:, 'equivalent_rank']\n",
    "Levenshtein_mrr[['exact_reciprocal_rank', 'equivalent_reciprocal_rank']].describe()"
   ]
  },
  {
   "cell_type": "code",
   "execution_count": 112,
   "id": "06fc8e14",
   "metadata": {},
   "outputs": [
    {
     "data": {
      "text/plain": [
       "(inf, nan)"
      ]
     },
     "execution_count": 112,
     "metadata": {},
     "output_type": "execute_result"
    }
   ],
   "source": [
    "#get median and stdev\n",
    "Levenshtein_mrr['exact_rank'].median(), Levenshtein_mrr['exact_rank'].std()"
   ]
  },
  {
   "cell_type": "code",
   "execution_count": 113,
   "id": "98c52c98",
   "metadata": {},
   "outputs": [
    {
     "data": {
      "text/plain": [
       "(1.0, nan)"
      ]
     },
     "execution_count": 113,
     "metadata": {},
     "output_type": "execute_result"
    }
   ],
   "source": [
    "#get median and stdev\n",
    "Levenshtein_mrr['equivalent_rank'].median(), Levenshtein_mrr['equivalent_rank'].std()"
   ]
  },
  {
   "cell_type": "code",
   "execution_count": 114,
   "id": "26a668bb",
   "metadata": {},
   "outputs": [
    {
     "data": {
      "text/plain": [
       "0.08437333333333334"
      ]
     },
     "execution_count": 114,
     "metadata": {},
     "output_type": "execute_result"
    }
   ],
   "source": [
    "1/Levenshtein_mrr.size  * Levenshtein_mrr['exact_reciprocal_rank'].sum()"
   ]
  },
  {
   "cell_type": "code",
   "execution_count": 115,
   "id": "0fda3e10",
   "metadata": {},
   "outputs": [
    {
     "data": {
      "text/plain": [
       "0.1350866666666667"
      ]
     },
     "execution_count": 115,
     "metadata": {},
     "output_type": "execute_result"
    }
   ],
   "source": [
    "1/Levenshtein_mrr.size  * Levenshtein_mrr['equivalent_reciprocal_rank'].sum()"
   ]
  },
  {
   "cell_type": "markdown",
   "id": "a4ab4fa9",
   "metadata": {},
   "source": [
    "--------------------------------------"
   ]
  },
  {
   "cell_type": "markdown",
   "id": "df1e1cbd",
   "metadata": {},
   "source": [
    "# Fuzzy Gesalt Match MRR Evaluation"
   ]
  },
  {
   "cell_type": "code",
   "execution_count": 116,
   "id": "0e4c62a5",
   "metadata": {},
   "outputs": [],
   "source": [
    "fuzzy_match = find_Gesalt_fuzzy_lookup_and_related_rank(positive_pairs.loc[:, ('x', 'y')], True)"
   ]
  },
  {
   "cell_type": "code",
   "execution_count": 117,
   "id": "a7c71693",
   "metadata": {},
   "outputs": [
    {
     "data": {
      "text/html": [
       "<div>\n",
       "<style scoped>\n",
       "    .dataframe tbody tr th:only-of-type {\n",
       "        vertical-align: middle;\n",
       "    }\n",
       "\n",
       "    .dataframe tbody tr th {\n",
       "        vertical-align: top;\n",
       "    }\n",
       "\n",
       "    .dataframe thead th {\n",
       "        text-align: right;\n",
       "    }\n",
       "</style>\n",
       "<table border=\"1\" class=\"dataframe\">\n",
       "  <thead>\n",
       "    <tr style=\"text-align: right;\">\n",
       "      <th></th>\n",
       "      <th>exact_reciprocal_rank</th>\n",
       "      <th>equivalent_reciprocal_rank</th>\n",
       "    </tr>\n",
       "  </thead>\n",
       "  <tbody>\n",
       "    <tr>\n",
       "      <th>count</th>\n",
       "      <td>500.000000</td>\n",
       "      <td>500.000000</td>\n",
       "    </tr>\n",
       "    <tr>\n",
       "      <th>mean</th>\n",
       "      <td>0.452600</td>\n",
       "      <td>0.736533</td>\n",
       "    </tr>\n",
       "    <tr>\n",
       "      <th>std</th>\n",
       "      <td>0.480036</td>\n",
       "      <td>0.416172</td>\n",
       "    </tr>\n",
       "    <tr>\n",
       "      <th>min</th>\n",
       "      <td>0.000000</td>\n",
       "      <td>0.000000</td>\n",
       "    </tr>\n",
       "    <tr>\n",
       "      <th>25%</th>\n",
       "      <td>0.000000</td>\n",
       "      <td>0.333333</td>\n",
       "    </tr>\n",
       "    <tr>\n",
       "      <th>50%</th>\n",
       "      <td>0.200000</td>\n",
       "      <td>1.000000</td>\n",
       "    </tr>\n",
       "    <tr>\n",
       "      <th>75%</th>\n",
       "      <td>1.000000</td>\n",
       "      <td>1.000000</td>\n",
       "    </tr>\n",
       "    <tr>\n",
       "      <th>max</th>\n",
       "      <td>1.000000</td>\n",
       "      <td>1.000000</td>\n",
       "    </tr>\n",
       "  </tbody>\n",
       "</table>\n",
       "</div>"
      ],
      "text/plain": [
       "       exact_reciprocal_rank  equivalent_reciprocal_rank\n",
       "count             500.000000                  500.000000\n",
       "mean                0.452600                    0.736533\n",
       "std                 0.480036                    0.416172\n",
       "min                 0.000000                    0.000000\n",
       "25%                 0.000000                    0.333333\n",
       "50%                 0.200000                    1.000000\n",
       "75%                 1.000000                    1.000000\n",
       "max                 1.000000                    1.000000"
      ]
     },
     "execution_count": 117,
     "metadata": {},
     "output_type": "execute_result"
    }
   ],
   "source": [
    "fuzzy_mrr = fuzzy_match.loc[:,['x', 'exact_rank', 'equivalent_rank']]\n",
    "fuzzy_mrr.loc[:,'exact_reciprocal_rank'] = 1/fuzzy_mrr.loc[:, 'exact_rank']\n",
    "fuzzy_mrr.loc[:,'equivalent_reciprocal_rank'] = 1/fuzzy_mrr.loc[:, 'equivalent_rank']\n",
    "fuzzy_mrr[['exact_reciprocal_rank', 'equivalent_reciprocal_rank']].describe()"
   ]
  },
  {
   "cell_type": "code",
   "execution_count": 118,
   "id": "aeeb02e9",
   "metadata": {},
   "outputs": [
    {
     "data": {
      "text/plain": [
       "(5.0, nan)"
      ]
     },
     "execution_count": 118,
     "metadata": {},
     "output_type": "execute_result"
    }
   ],
   "source": [
    "#get median and stdev\n",
    "fuzzy_mrr['exact_rank'].median(), fuzzy_mrr['exact_rank'].std()"
   ]
  },
  {
   "cell_type": "code",
   "execution_count": 119,
   "id": "778fa0ba",
   "metadata": {},
   "outputs": [
    {
     "data": {
      "text/plain": [
       "(1.0, nan)"
      ]
     },
     "execution_count": 119,
     "metadata": {},
     "output_type": "execute_result"
    }
   ],
   "source": [
    "#get median and stdev\n",
    "fuzzy_mrr['equivalent_rank'].median(), fuzzy_mrr['equivalent_rank'].std()"
   ]
  },
  {
   "cell_type": "code",
   "execution_count": 120,
   "id": "a4b9cce4",
   "metadata": {},
   "outputs": [
    {
     "data": {
      "text/plain": [
       "0.09052"
      ]
     },
     "execution_count": 120,
     "metadata": {},
     "output_type": "execute_result"
    }
   ],
   "source": [
    "1/fuzzy_mrr.size  * fuzzy_mrr['exact_reciprocal_rank'].sum()"
   ]
  },
  {
   "cell_type": "code",
   "execution_count": 121,
   "id": "ef6320fb",
   "metadata": {},
   "outputs": [
    {
     "data": {
      "text/plain": [
       "0.14730666666666667"
      ]
     },
     "execution_count": 121,
     "metadata": {},
     "output_type": "execute_result"
    }
   ],
   "source": [
    "1/fuzzy_mrr.size  * fuzzy_mrr['equivalent_reciprocal_rank'].sum()"
   ]
  },
  {
   "cell_type": "markdown",
   "id": "6d3a4049",
   "metadata": {},
   "source": [
    "--------------------------------------"
   ]
  },
  {
   "cell_type": "markdown",
   "id": "97a0149b",
   "metadata": {},
   "source": [
    "# Translation tests"
   ]
  },
  {
   "cell_type": "code",
   "execution_count": 122,
   "id": "197a11ca",
   "metadata": {},
   "outputs": [
    {
     "name": "stdout",
     "output_type": "stream",
     "text": [
      "<class 'pandas.core.frame.DataFrame'>\n",
      "RangeIndex: 5950 entries, 0 to 5949\n",
      "Data columns (total 1 columns):\n",
      " #   Column   Non-Null Count  Dtype \n",
      "---  ------   --------------  ----- \n",
      " 0   np_name  5950 non-null   object\n",
      "dtypes: object(1)\n",
      "memory usage: 46.6+ KB\n",
      "None\n",
      "Processing file: ----------------------------------------\n",
      "Renaming colums:\n",
      "\tCurrent names: Index(['np_name'], dtype='object')\n",
      "\tNew names: Index(['x'], dtype='object')\n",
      "Dropping row with empty cells:\n",
      "\tDropped 0 rows with empty cells.\n",
      "Dropping sequences longer than the maxlen of 65:\n",
      "\tDropped 1 that exceeded the maximum sequence length.\n",
      "\tCleaning string sequences.\n",
      "\tUppercasing string sequences.\n",
      "Dropping duplicate sequences:\n",
      "\tDropped 35 duplicate sequences.\n",
      "Done processing: ---------------------------------------\n",
      "<class 'pandas.core.frame.DataFrame'>\n",
      "RangeIndex: 5914 entries, 0 to 5913\n",
      "Data columns (total 1 columns):\n",
      " #   Column  Non-Null Count  Dtype \n",
      "---  ------  --------------  ----- \n",
      " 0   x       5914 non-null   object\n",
      "dtypes: object(1)\n",
      "memory usage: 46.3+ KB\n",
      "None\n"
     ]
    }
   ],
   "source": [
    "translation = '../data/translation_test_nps_202203171038.csv'\n",
    "translation_set = preprocessInput(translation, MAXLEN)"
   ]
  },
  {
   "cell_type": "code",
   "execution_count": 123,
   "id": "192c7037",
   "metadata": {},
   "outputs": [
    {
     "data": {
      "text/html": [
       "<div>\n",
       "<style scoped>\n",
       "    .dataframe tbody tr th:only-of-type {\n",
       "        vertical-align: middle;\n",
       "    }\n",
       "\n",
       "    .dataframe tbody tr th {\n",
       "        vertical-align: top;\n",
       "    }\n",
       "\n",
       "    .dataframe thead th {\n",
       "        text-align: right;\n",
       "    }\n",
       "</style>\n",
       "<table border=\"1\" class=\"dataframe\">\n",
       "  <thead>\n",
       "    <tr style=\"text-align: right;\">\n",
       "      <th></th>\n",
       "      <th>x</th>\n",
       "    </tr>\n",
       "  </thead>\n",
       "  <tbody>\n",
       "    <tr>\n",
       "      <th>0</th>\n",
       "      <td>XTNNP</td>\n",
       "    </tr>\n",
       "    <tr>\n",
       "      <th>1</th>\n",
       "      <td>NWLMKV</td>\n",
       "    </tr>\n",
       "    <tr>\n",
       "      <th>2</th>\n",
       "      <td>WZMFCEA</td>\n",
       "    </tr>\n",
       "    <tr>\n",
       "      <th>3</th>\n",
       "      <td>AARONSROD</td>\n",
       "    </tr>\n",
       "    <tr>\n",
       "      <th>4</th>\n",
       "      <td>AARONS ROD WHOLE</td>\n",
       "    </tr>\n",
       "  </tbody>\n",
       "</table>\n",
       "</div>"
      ],
      "text/plain": [
       "                  x\n",
       "0             XTNNP\n",
       "1            NWLMKV\n",
       "2           WZMFCEA\n",
       "3         AARONSROD\n",
       "4  AARONS ROD WHOLE"
      ]
     },
     "execution_count": 123,
     "metadata": {},
     "output_type": "execute_result"
    }
   ],
   "source": [
    "translation_set.head()"
   ]
  },
  {
   "cell_type": "code",
   "execution_count": 124,
   "id": "d9311f27",
   "metadata": {},
   "outputs": [
    {
     "name": "stdout",
     "output_type": "stream",
     "text": [
      "Encoding and Padding: ----------------------------------\n",
      "\tProcessing x\n",
      "Tagging: -----------------------------------------------\n"
     ]
    },
    {
     "data": {
      "text/html": [
       "<div>\n",
       "<style scoped>\n",
       "    .dataframe tbody tr th:only-of-type {\n",
       "        vertical-align: middle;\n",
       "    }\n",
       "\n",
       "    .dataframe tbody tr th {\n",
       "        vertical-align: top;\n",
       "    }\n",
       "\n",
       "    .dataframe thead th {\n",
       "        text-align: right;\n",
       "    }\n",
       "</style>\n",
       "<table border=\"1\" class=\"dataframe\">\n",
       "  <thead>\n",
       "    <tr style=\"text-align: right;\">\n",
       "      <th></th>\n",
       "      <th>x</th>\n",
       "      <th>Processed_x</th>\n",
       "      <th>Match</th>\n",
       "      <th>Distance</th>\n",
       "    </tr>\n",
       "  </thead>\n",
       "  <tbody>\n",
       "    <tr>\n",
       "      <th>0</th>\n",
       "      <td>XTNNP</td>\n",
       "      <td>[24, 20, 14, 14, 16, 0, 0, 0, 0, 0, 0, 0, 0, 0...</td>\n",
       "      <td>1</td>\n",
       "      <td>65</td>\n",
       "    </tr>\n",
       "    <tr>\n",
       "      <th>1</th>\n",
       "      <td>NWLMKV</td>\n",
       "      <td>[14, 23, 12, 13, 11, 22, 0, 0, 0, 0, 0, 0, 0, ...</td>\n",
       "      <td>1</td>\n",
       "      <td>65</td>\n",
       "    </tr>\n",
       "    <tr>\n",
       "      <th>2</th>\n",
       "      <td>WZMFCEA</td>\n",
       "      <td>[23, 26, 13, 6, 3, 5, 1, 0, 0, 0, 0, 0, 0, 0, ...</td>\n",
       "      <td>1</td>\n",
       "      <td>65</td>\n",
       "    </tr>\n",
       "    <tr>\n",
       "      <th>3</th>\n",
       "      <td>AARONSROD</td>\n",
       "      <td>[1, 1, 18, 15, 14, 19, 18, 15, 4, 0, 0, 0, 0, ...</td>\n",
       "      <td>1</td>\n",
       "      <td>65</td>\n",
       "    </tr>\n",
       "    <tr>\n",
       "      <th>4</th>\n",
       "      <td>AARONS ROD WHOLE</td>\n",
       "      <td>[1, 1, 18, 15, 14, 19, 27, 18, 15, 4, 27, 23, ...</td>\n",
       "      <td>1</td>\n",
       "      <td>65</td>\n",
       "    </tr>\n",
       "    <tr>\n",
       "      <th>...</th>\n",
       "      <td>...</td>\n",
       "      <td>...</td>\n",
       "      <td>...</td>\n",
       "      <td>...</td>\n",
       "    </tr>\n",
       "    <tr>\n",
       "      <th>5909</th>\n",
       "      <td>ZINGIBER ZINGIBER WHOLE</td>\n",
       "      <td>[26, 9, 14, 7, 9, 2, 5, 18, 27, 26, 9, 14, 7, ...</td>\n",
       "      <td>1</td>\n",
       "      <td>65</td>\n",
       "    </tr>\n",
       "    <tr>\n",
       "      <th>5910</th>\n",
       "      <td>ZYGAENA ERYTHRAEA WHOLE</td>\n",
       "      <td>[26, 25, 7, 1, 5, 14, 1, 27, 5, 18, 25, 20, 8,...</td>\n",
       "      <td>1</td>\n",
       "      <td>65</td>\n",
       "    </tr>\n",
       "    <tr>\n",
       "      <th>5911</th>\n",
       "      <td>ZYGAENA INDICA WHOLE</td>\n",
       "      <td>[26, 25, 7, 1, 5, 14, 1, 27, 9, 14, 4, 9, 3, 1...</td>\n",
       "      <td>1</td>\n",
       "      <td>65</td>\n",
       "    </tr>\n",
       "    <tr>\n",
       "      <th>5912</th>\n",
       "      <td>ZYGAENA LEWINI WHOLE</td>\n",
       "      <td>[26, 25, 7, 1, 5, 14, 1, 27, 12, 5, 23, 9, 14,...</td>\n",
       "      <td>1</td>\n",
       "      <td>65</td>\n",
       "    </tr>\n",
       "    <tr>\n",
       "      <th>5913</th>\n",
       "      <td>ZYGAENA MALLEUS WHOLE</td>\n",
       "      <td>[26, 25, 7, 1, 5, 14, 1, 27, 13, 1, 12, 12, 5,...</td>\n",
       "      <td>1</td>\n",
       "      <td>65</td>\n",
       "    </tr>\n",
       "  </tbody>\n",
       "</table>\n",
       "<p>5914 rows × 4 columns</p>\n",
       "</div>"
      ],
      "text/plain": [
       "                            x  \\\n",
       "0                       XTNNP   \n",
       "1                      NWLMKV   \n",
       "2                     WZMFCEA   \n",
       "3                   AARONSROD   \n",
       "4            AARONS ROD WHOLE   \n",
       "...                       ...   \n",
       "5909  ZINGIBER ZINGIBER WHOLE   \n",
       "5910  ZYGAENA ERYTHRAEA WHOLE   \n",
       "5911     ZYGAENA INDICA WHOLE   \n",
       "5912     ZYGAENA LEWINI WHOLE   \n",
       "5913    ZYGAENA MALLEUS WHOLE   \n",
       "\n",
       "                                            Processed_x  Match  Distance  \n",
       "0     [24, 20, 14, 14, 16, 0, 0, 0, 0, 0, 0, 0, 0, 0...      1        65  \n",
       "1     [14, 23, 12, 13, 11, 22, 0, 0, 0, 0, 0, 0, 0, ...      1        65  \n",
       "2     [23, 26, 13, 6, 3, 5, 1, 0, 0, 0, 0, 0, 0, 0, ...      1        65  \n",
       "3     [1, 1, 18, 15, 14, 19, 18, 15, 4, 0, 0, 0, 0, ...      1        65  \n",
       "4     [1, 1, 18, 15, 14, 19, 27, 18, 15, 4, 27, 23, ...      1        65  \n",
       "...                                                 ...    ...       ...  \n",
       "5909  [26, 9, 14, 7, 9, 2, 5, 18, 27, 26, 9, 14, 7, ...      1        65  \n",
       "5910  [26, 25, 7, 1, 5, 14, 1, 27, 5, 18, 25, 20, 8,...      1        65  \n",
       "5911  [26, 25, 7, 1, 5, 14, 1, 27, 9, 14, 4, 9, 3, 1...      1        65  \n",
       "5912  [26, 25, 7, 1, 5, 14, 1, 27, 12, 5, 23, 9, 14,...      1        65  \n",
       "5913  [26, 25, 7, 1, 5, 14, 1, 27, 13, 1, 12, 12, 5,...      1        65  \n",
       "\n",
       "[5914 rows x 4 columns]"
      ]
     },
     "execution_count": 124,
     "metadata": {},
     "output_type": "execute_result"
    }
   ],
   "source": [
    "encode_pad_tag(translation_set, 1, 0, MAXLEN)"
   ]
  },
  {
   "cell_type": "code",
   "execution_count": 125,
   "id": "cc913215",
   "metadata": {},
   "outputs": [
    {
     "name": "stdout",
     "output_type": "stream",
     "text": [
      "Using column:  x\n",
      "25/25 [==============================] - 0s 3ms/step\n",
      "25/25 [==============================] - 0s 3ms/step\n",
      "25/25 [==============================] - 0s 2ms/step\n",
      "25/25 [==============================] - 0s 2ms/step\n",
      "25/25 [==============================] - 0s 2ms/step\n",
      "25/25 [==============================] - 0s 2ms/step\n",
      "25/25 [==============================] - 0s 2ms/step\n",
      "25/25 [==============================] - 0s 2ms/step\n",
      "25/25 [==============================] - 0s 2ms/step\n",
      "25/25 [==============================] - 0s 2ms/step\n"
     ]
    }
   ],
   "source": [
    "novelty = find_ranks(model, translation_set.sample(n=10), False)"
   ]
  },
  {
   "cell_type": "code",
   "execution_count": 126,
   "id": "be6ddfaa",
   "metadata": {},
   "outputs": [
    {
     "data": {
      "text/html": [
       "<div>\n",
       "<style scoped>\n",
       "    .dataframe tbody tr th:only-of-type {\n",
       "        vertical-align: middle;\n",
       "    }\n",
       "\n",
       "    .dataframe tbody tr th {\n",
       "        vertical-align: top;\n",
       "    }\n",
       "\n",
       "    .dataframe thead th {\n",
       "        text-align: right;\n",
       "    }\n",
       "</style>\n",
       "<table border=\"1\" class=\"dataframe\">\n",
       "  <thead>\n",
       "    <tr style=\"text-align: right;\">\n",
       "      <th></th>\n",
       "      <th>x</th>\n",
       "      <th>Processed_x</th>\n",
       "      <th>Match</th>\n",
       "      <th>Distance</th>\n",
       "      <th>rank1</th>\n",
       "      <th>rank2</th>\n",
       "      <th>rank3</th>\n",
       "      <th>rank4</th>\n",
       "      <th>rank5</th>\n",
       "    </tr>\n",
       "  </thead>\n",
       "  <tbody>\n",
       "    <tr>\n",
       "      <th>2657</th>\n",
       "      <td>GENERAL PLANTAIN WHOLE</td>\n",
       "      <td>[7, 5, 14, 5, 18, 1, 12, 27, 16, 12, 1, 14, 20...</td>\n",
       "      <td>1</td>\n",
       "      <td>65</td>\n",
       "      <td>GOLDENSEAL</td>\n",
       "      <td>COLEUS</td>\n",
       "      <td>CORDYCEPS</td>\n",
       "      <td>COPTIS</td>\n",
       "      <td>LICORICE</td>\n",
       "    </tr>\n",
       "    <tr>\n",
       "      <th>1281</th>\n",
       "      <td>CAPSELLA SUBBERGIANA WHOLE</td>\n",
       "      <td>[3, 1, 16, 19, 5, 12, 12, 1, 27, 19, 21, 2, 2,...</td>\n",
       "      <td>1</td>\n",
       "      <td>65</td>\n",
       "      <td>GOLDENSEAL</td>\n",
       "      <td>SENNA</td>\n",
       "      <td>COPTIS</td>\n",
       "      <td>COLEUS</td>\n",
       "      <td>CORDYCEPS</td>\n",
       "    </tr>\n",
       "    <tr>\n",
       "      <th>2619</th>\n",
       "      <td>GALIUM LARECAJENSE WHOLE</td>\n",
       "      <td>[7, 1, 12, 9, 21, 13, 27, 12, 1, 18, 5, 3, 1, ...</td>\n",
       "      <td>1</td>\n",
       "      <td>65</td>\n",
       "      <td>CORDYCEPS</td>\n",
       "      <td>GOLDENSEAL</td>\n",
       "      <td>OLIVE LEAF</td>\n",
       "      <td>GUGGUL</td>\n",
       "      <td>HORNY GOAT WEED</td>\n",
       "    </tr>\n",
       "    <tr>\n",
       "      <th>3484</th>\n",
       "      <td>MAHONIA AQUIFOLIUM</td>\n",
       "      <td>[13, 1, 8, 15, 14, 9, 1, 27, 1, 17, 21, 9, 6, ...</td>\n",
       "      <td>1</td>\n",
       "      <td>65</td>\n",
       "      <td>ZANTHOXYLUM OVALIFOLIUM</td>\n",
       "      <td>GALIUM UNIFLORUM</td>\n",
       "      <td>ADIANTUM LATIFOLIUM</td>\n",
       "      <td>DIPSACUS FULLONUM</td>\n",
       "      <td>CHAMOMILE</td>\n",
       "    </tr>\n",
       "    <tr>\n",
       "      <th>5090</th>\n",
       "      <td>SOLANUM YANGAMBIENSE WHOLE</td>\n",
       "      <td>[19, 15, 12, 1, 14, 21, 13, 27, 25, 1, 14, 7, ...</td>\n",
       "      <td>1</td>\n",
       "      <td>65</td>\n",
       "      <td>SENNA</td>\n",
       "      <td>COLEUS</td>\n",
       "      <td>CORDYCEPS</td>\n",
       "      <td>GOLDENSEAL</td>\n",
       "      <td>BLACK PEPPER</td>\n",
       "    </tr>\n",
       "    <tr>\n",
       "      <th>1312</th>\n",
       "      <td>CARDUUS MARIANUS WHOLE</td>\n",
       "      <td>[3, 1, 18, 4, 21, 21, 19, 27, 13, 1, 18, 9, 1,...</td>\n",
       "      <td>1</td>\n",
       "      <td>65</td>\n",
       "      <td>GOLDENSEAL</td>\n",
       "      <td>COPTIS</td>\n",
       "      <td>CORDYCEPS</td>\n",
       "      <td>BARBERRY</td>\n",
       "      <td>CITRUS AURANTIUM</td>\n",
       "    </tr>\n",
       "    <tr>\n",
       "      <th>1583</th>\n",
       "      <td>CINNAMOMUM CAMPHOROIDES WHOLE</td>\n",
       "      <td>[3, 9, 14, 14, 1, 13, 15, 13, 21, 13, 27, 3, 1...</td>\n",
       "      <td>1</td>\n",
       "      <td>65</td>\n",
       "      <td>CINNAMOMUM VERUM</td>\n",
       "      <td>CINNAMOMUM CAMPHORA</td>\n",
       "      <td>GOLDENSEAL</td>\n",
       "      <td>BLACK PEPPER</td>\n",
       "      <td>COLEUS</td>\n",
       "    </tr>\n",
       "    <tr>\n",
       "      <th>3306</th>\n",
       "      <td>LESSER GALANGAL WHOLE</td>\n",
       "      <td>[12, 5, 19, 19, 5, 18, 27, 7, 1, 12, 1, 14, 7,...</td>\n",
       "      <td>1</td>\n",
       "      <td>65</td>\n",
       "      <td>BLACK CHERRY</td>\n",
       "      <td>COLEUS</td>\n",
       "      <td>GOJI BERRY</td>\n",
       "      <td>CORDYCEPS</td>\n",
       "      <td>BLACK PEPPER</td>\n",
       "    </tr>\n",
       "    <tr>\n",
       "      <th>1709</th>\n",
       "      <td>CITRUS X RACEMOSA WHOLE</td>\n",
       "      <td>[3, 9, 20, 18, 21, 19, 27, 24, 27, 18, 1, 3, 5...</td>\n",
       "      <td>1</td>\n",
       "      <td>65</td>\n",
       "      <td>COPTIS</td>\n",
       "      <td>GOLDENSEAL</td>\n",
       "      <td>CORDYCEPS</td>\n",
       "      <td>CISTUS CRETICUS</td>\n",
       "      <td>GOJI BERRY</td>\n",
       "    </tr>\n",
       "    <tr>\n",
       "      <th>4542</th>\n",
       "      <td>RHEUMATISM WHOLE</td>\n",
       "      <td>[18, 8, 5, 21, 13, 1, 20, 9, 19, 13, 27, 23, 8...</td>\n",
       "      <td>1</td>\n",
       "      <td>65</td>\n",
       "      <td>GUGGUL</td>\n",
       "      <td>HORNY GOAT WEED</td>\n",
       "      <td>COLEUS</td>\n",
       "      <td>SILYBUM MARIANUM</td>\n",
       "      <td>COMMIPHORA MUKUL</td>\n",
       "    </tr>\n",
       "  </tbody>\n",
       "</table>\n",
       "</div>"
      ],
      "text/plain": [
       "                                  x  \\\n",
       "2657         GENERAL PLANTAIN WHOLE   \n",
       "1281     CAPSELLA SUBBERGIANA WHOLE   \n",
       "2619       GALIUM LARECAJENSE WHOLE   \n",
       "3484             MAHONIA AQUIFOLIUM   \n",
       "5090     SOLANUM YANGAMBIENSE WHOLE   \n",
       "1312         CARDUUS MARIANUS WHOLE   \n",
       "1583  CINNAMOMUM CAMPHOROIDES WHOLE   \n",
       "3306          LESSER GALANGAL WHOLE   \n",
       "1709        CITRUS X RACEMOSA WHOLE   \n",
       "4542               RHEUMATISM WHOLE   \n",
       "\n",
       "                                            Processed_x  Match  Distance  \\\n",
       "2657  [7, 5, 14, 5, 18, 1, 12, 27, 16, 12, 1, 14, 20...      1        65   \n",
       "1281  [3, 1, 16, 19, 5, 12, 12, 1, 27, 19, 21, 2, 2,...      1        65   \n",
       "2619  [7, 1, 12, 9, 21, 13, 27, 12, 1, 18, 5, 3, 1, ...      1        65   \n",
       "3484  [13, 1, 8, 15, 14, 9, 1, 27, 1, 17, 21, 9, 6, ...      1        65   \n",
       "5090  [19, 15, 12, 1, 14, 21, 13, 27, 25, 1, 14, 7, ...      1        65   \n",
       "1312  [3, 1, 18, 4, 21, 21, 19, 27, 13, 1, 18, 9, 1,...      1        65   \n",
       "1583  [3, 9, 14, 14, 1, 13, 15, 13, 21, 13, 27, 3, 1...      1        65   \n",
       "3306  [12, 5, 19, 19, 5, 18, 27, 7, 1, 12, 1, 14, 7,...      1        65   \n",
       "1709  [3, 9, 20, 18, 21, 19, 27, 24, 27, 18, 1, 3, 5...      1        65   \n",
       "4542  [18, 8, 5, 21, 13, 1, 20, 9, 19, 13, 27, 23, 8...      1        65   \n",
       "\n",
       "                        rank1                rank2                rank3  \\\n",
       "2657               GOLDENSEAL               COLEUS            CORDYCEPS   \n",
       "1281               GOLDENSEAL                SENNA               COPTIS   \n",
       "2619                CORDYCEPS           GOLDENSEAL           OLIVE LEAF   \n",
       "3484  ZANTHOXYLUM OVALIFOLIUM     GALIUM UNIFLORUM  ADIANTUM LATIFOLIUM   \n",
       "5090                    SENNA               COLEUS            CORDYCEPS   \n",
       "1312               GOLDENSEAL               COPTIS            CORDYCEPS   \n",
       "1583         CINNAMOMUM VERUM  CINNAMOMUM CAMPHORA           GOLDENSEAL   \n",
       "3306             BLACK CHERRY               COLEUS           GOJI BERRY   \n",
       "1709                   COPTIS           GOLDENSEAL            CORDYCEPS   \n",
       "4542                   GUGGUL      HORNY GOAT WEED               COLEUS   \n",
       "\n",
       "                  rank4             rank5  \n",
       "2657             COPTIS          LICORICE  \n",
       "1281             COLEUS         CORDYCEPS  \n",
       "2619             GUGGUL   HORNY GOAT WEED  \n",
       "3484  DIPSACUS FULLONUM         CHAMOMILE  \n",
       "5090         GOLDENSEAL      BLACK PEPPER  \n",
       "1312           BARBERRY  CITRUS AURANTIUM  \n",
       "1583       BLACK PEPPER            COLEUS  \n",
       "3306          CORDYCEPS      BLACK PEPPER  \n",
       "1709    CISTUS CRETICUS        GOJI BERRY  \n",
       "4542   SILYBUM MARIANUM  COMMIPHORA MUKUL  "
      ]
     },
     "execution_count": 126,
     "metadata": {},
     "output_type": "execute_result"
    }
   ],
   "source": [
    "novelty.head(10)"
   ]
  },
  {
   "cell_type": "code",
   "execution_count": 127,
   "id": "8bf90765",
   "metadata": {},
   "outputs": [],
   "source": [
    "# test[\"Processed_np_name\"] = test.np_name.apply(clean).apply(encode).apply(padding)"
   ]
  },
  {
   "cell_type": "code",
   "execution_count": 128,
   "id": "da48bed4",
   "metadata": {},
   "outputs": [],
   "source": [
    "# test = preprocessInput(unmapped, converters = {\"drug_name_original\":str}, skip_blank_lines=True, na_filter=True, na_values=\"\")\n",
    "# test[\"Processed_drug_name_original\"] = test[test.columns[0]].apply(clean).apply(encode).apply(padding)"
   ]
  }
 ],
 "metadata": {
  "kernelspec": {
   "display_name": "Python 3 (ipykernel)",
   "language": "python",
   "name": "python3"
  },
  "language_info": {
   "codemirror_mode": {
    "name": "ipython",
    "version": 3
   },
   "file_extension": ".py",
   "mimetype": "text/x-python",
   "name": "python",
   "nbconvert_exporter": "python",
   "pygments_lexer": "ipython3",
   "version": "3.10.5"
  }
 },
 "nbformat": 4,
 "nbformat_minor": 5
}
