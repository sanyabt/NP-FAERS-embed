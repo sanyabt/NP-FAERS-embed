{
 "cells": [
  {
   "cell_type": "code",
   "execution_count": 76,
   "id": "af8cc40f",
   "metadata": {},
   "outputs": [],
   "source": [
    "import pandas as pd"
   ]
  },
  {
   "cell_type": "markdown",
   "id": "193e520b",
   "metadata": {},
   "source": [
    "# Data loading and preprocessing"
   ]
  },
  {
   "cell_type": "markdown",
   "id": "540a4b61",
   "metadata": {},
   "source": [
    "## Positive Pairs"
   ]
  },
  {
   "cell_type": "code",
   "execution_count": 138,
   "id": "3f4b91ea",
   "metadata": {},
   "outputs": [],
   "source": [
    "positive_mapped = '../data/NP_FAERS_mapped_20220215.csv'\n",
    "positive_unmapped = '../data/positive-unmapped-pairs-common-name-or-latin-binomial-copies.tsv'"
   ]
  },
  {
   "cell_type": "markdown",
   "id": "97a0149b",
   "metadata": {},
   "source": [
    "# Average NP name length "
   ]
  },
  {
   "cell_type": "code",
   "execution_count": 142,
   "id": "f695d21f",
   "metadata": {},
   "outputs": [
    {
     "data": {
      "text/html": [
       "<div>\n",
       "<style scoped>\n",
       "    .dataframe tbody tr th:only-of-type {\n",
       "        vertical-align: middle;\n",
       "    }\n",
       "\n",
       "    .dataframe tbody tr th {\n",
       "        vertical-align: top;\n",
       "    }\n",
       "\n",
       "    .dataframe thead th {\n",
       "        text-align: right;\n",
       "    }\n",
       "</style>\n",
       "<table border=\"1\" class=\"dataframe\">\n",
       "  <thead>\n",
       "    <tr style=\"text-align: right;\">\n",
       "      <th></th>\n",
       "      <th>common_name</th>\n",
       "      <th>latin_binomial</th>\n",
       "    </tr>\n",
       "  </thead>\n",
       "  <tbody>\n",
       "    <tr>\n",
       "      <th>0</th>\n",
       "      <td>PRUNUS SPINOSA</td>\n",
       "      <td>PRUNUS SPINOSA</td>\n",
       "    </tr>\n",
       "    <tr>\n",
       "      <th>1</th>\n",
       "      <td>PHYTOLACCA AMERICANA</td>\n",
       "      <td>PHYTOLACCA AMERICANA</td>\n",
       "    </tr>\n",
       "    <tr>\n",
       "      <th>2</th>\n",
       "      <td>SMILAX PSEUDOCHINA</td>\n",
       "      <td>SMILAX PSEUDOCHINA</td>\n",
       "    </tr>\n",
       "    <tr>\n",
       "      <th>3</th>\n",
       "      <td>HARUNGANA MADAGASCARIENSIS</td>\n",
       "      <td>HARUNGANA MADAGASCARIENSIS</td>\n",
       "    </tr>\n",
       "    <tr>\n",
       "      <th>4</th>\n",
       "      <td>QUERCUS LOBATA</td>\n",
       "      <td>QUERCUS LOBATA</td>\n",
       "    </tr>\n",
       "    <tr>\n",
       "      <th>...</th>\n",
       "      <td>...</td>\n",
       "      <td>...</td>\n",
       "    </tr>\n",
       "    <tr>\n",
       "      <th>723</th>\n",
       "      <td>LINARIA VULGARIS</td>\n",
       "      <td>LINARIA VULGARIS</td>\n",
       "    </tr>\n",
       "    <tr>\n",
       "      <th>724</th>\n",
       "      <td>CASTANEA MOLLISSIMA</td>\n",
       "      <td>CASTANEA MOLLISSIMA</td>\n",
       "    </tr>\n",
       "    <tr>\n",
       "      <th>725</th>\n",
       "      <td>PLATANUS OCCIDENTALIS</td>\n",
       "      <td>PLATANUS OCCIDENTALIS</td>\n",
       "    </tr>\n",
       "    <tr>\n",
       "      <th>726</th>\n",
       "      <td>SOLANUM LINNAEANUM</td>\n",
       "      <td>SOLANUM LINNAEANUM</td>\n",
       "    </tr>\n",
       "    <tr>\n",
       "      <th>727</th>\n",
       "      <td>HORNY GOAT WEED</td>\n",
       "      <td>HORNY GOAT WEED</td>\n",
       "    </tr>\n",
       "  </tbody>\n",
       "</table>\n",
       "<p>728 rows × 2 columns</p>\n",
       "</div>"
      ],
      "text/plain": [
       "                    common_name              latin_binomial\n",
       "0                PRUNUS SPINOSA              PRUNUS SPINOSA\n",
       "1          PHYTOLACCA AMERICANA        PHYTOLACCA AMERICANA\n",
       "2            SMILAX PSEUDOCHINA          SMILAX PSEUDOCHINA\n",
       "3    HARUNGANA MADAGASCARIENSIS  HARUNGANA MADAGASCARIENSIS\n",
       "4                QUERCUS LOBATA              QUERCUS LOBATA\n",
       "..                          ...                         ...\n",
       "723            LINARIA VULGARIS            LINARIA VULGARIS\n",
       "724         CASTANEA MOLLISSIMA         CASTANEA MOLLISSIMA\n",
       "725       PLATANUS OCCIDENTALIS       PLATANUS OCCIDENTALIS\n",
       "726          SOLANUM LINNAEANUM          SOLANUM LINNAEANUM\n",
       "727             HORNY GOAT WEED             HORNY GOAT WEED\n",
       "\n",
       "[728 rows x 2 columns]"
      ]
     },
     "execution_count": 142,
     "metadata": {},
     "output_type": "execute_result"
    }
   ],
   "source": [
    "pd.read_csv(positive_unmapped, sep='\\t')"
   ]
  },
  {
   "cell_type": "code",
   "execution_count": 141,
   "id": "4a1ca196",
   "metadata": {},
   "outputs": [
    {
     "name": "stdout",
     "output_type": "stream",
     "text": [
      "<class 'pandas.core.frame.DataFrame'>\n",
      "RangeIndex: 5358 entries, 0 to 5357\n",
      "Data columns (total 2 columns):\n",
      " #   Column            Non-Null Count  Dtype \n",
      "---  ------            --------------  ----- \n",
      " 0   FAERS_drug_match  5358 non-null   object\n",
      " 1   lookup_value      5358 non-null   object\n",
      "dtypes: object(2)\n",
      "memory usage: 83.8+ KB\n"
     ]
    }
   ],
   "source": [
    "main_dataset = pd.read_csv(positive_mapped)\n",
    "main_dataset.info()"
   ]
  },
  {
   "cell_type": "code",
   "execution_count": 100,
   "id": "4419b161",
   "metadata": {},
   "outputs": [
    {
     "data": {
      "text/html": [
       "<div>\n",
       "<style scoped>\n",
       "    .dataframe tbody tr th:only-of-type {\n",
       "        vertical-align: middle;\n",
       "    }\n",
       "\n",
       "    .dataframe tbody tr th {\n",
       "        vertical-align: top;\n",
       "    }\n",
       "\n",
       "    .dataframe thead th {\n",
       "        text-align: right;\n",
       "    }\n",
       "</style>\n",
       "<table border=\"1\" class=\"dataframe\">\n",
       "  <thead>\n",
       "    <tr style=\"text-align: right;\">\n",
       "      <th></th>\n",
       "      <th>FAERS_drug_match</th>\n",
       "      <th>lookup_value</th>\n",
       "    </tr>\n",
       "  </thead>\n",
       "  <tbody>\n",
       "    <tr>\n",
       "      <th>count</th>\n",
       "      <td>5358.000000</td>\n",
       "      <td>5358.000000</td>\n",
       "    </tr>\n",
       "    <tr>\n",
       "      <th>mean</th>\n",
       "      <td>29.634192</td>\n",
       "      <td>13.597798</td>\n",
       "    </tr>\n",
       "    <tr>\n",
       "      <th>std</th>\n",
       "      <td>30.235721</td>\n",
       "      <td>4.743530</td>\n",
       "    </tr>\n",
       "    <tr>\n",
       "      <th>min</th>\n",
       "      <td>3.000000</td>\n",
       "      <td>4.000000</td>\n",
       "    </tr>\n",
       "    <tr>\n",
       "      <th>25%</th>\n",
       "      <td>15.000000</td>\n",
       "      <td>9.000000</td>\n",
       "    </tr>\n",
       "    <tr>\n",
       "      <th>50%</th>\n",
       "      <td>22.000000</td>\n",
       "      <td>14.000000</td>\n",
       "    </tr>\n",
       "    <tr>\n",
       "      <th>75%</th>\n",
       "      <td>37.000000</td>\n",
       "      <td>18.000000</td>\n",
       "    </tr>\n",
       "    <tr>\n",
       "      <th>max</th>\n",
       "      <td>489.000000</td>\n",
       "      <td>24.000000</td>\n",
       "    </tr>\n",
       "  </tbody>\n",
       "</table>\n",
       "</div>"
      ],
      "text/plain": [
       "       FAERS_drug_match  lookup_value\n",
       "count       5358.000000   5358.000000\n",
       "mean          29.634192     13.597798\n",
       "std           30.235721      4.743530\n",
       "min            3.000000      4.000000\n",
       "25%           15.000000      9.000000\n",
       "50%           22.000000     14.000000\n",
       "75%           37.000000     18.000000\n",
       "max          489.000000     24.000000"
      ]
     },
     "execution_count": 100,
     "metadata": {},
     "output_type": "execute_result"
    }
   ],
   "source": [
    "stats = main_dataset.applymap(len).describe()\n",
    "stats"
   ]
  },
  {
   "cell_type": "code",
   "execution_count": 101,
   "id": "0788f124",
   "metadata": {},
   "outputs": [
    {
     "data": {
      "text/plain": [
       "90.10563333041236"
      ]
     },
     "execution_count": 101,
     "metadata": {},
     "output_type": "execute_result"
    }
   ],
   "source": [
    "stats = stats[\"FAERS_drug_match\"]\n",
    "stats[\"mean\"] + stats[\"std\"] * 2"
   ]
  },
  {
   "cell_type": "code",
   "execution_count": 84,
   "id": "86d0a838",
   "metadata": {},
   "outputs": [
    {
     "data": {
      "text/plain": [
       "5132    489\n",
       "2453    489\n",
       "5131    482\n",
       "2452    482\n",
       "5133    472\n",
       "2454    472\n",
       "1098    364\n",
       "3777    364\n",
       "65      364\n",
       "582     364\n",
       "Name: FAERS_drug_match, dtype: int64"
      ]
     },
     "execution_count": 84,
     "metadata": {},
     "output_type": "execute_result"
    }
   ],
   "source": [
    "main_dataset['FAERS_drug_match'].apply(len).sort_values(ascending=False)[:10]"
   ]
  },
  {
   "cell_type": "code",
   "execution_count": 92,
   "id": "60e59896",
   "metadata": {},
   "outputs": [
    {
     "data": {
      "text/plain": [
       "count      5358\n",
       "unique        2\n",
       "top       False\n",
       "freq       5288\n",
       "Name: FAERS_drug_match, dtype: object"
      ]
     },
     "execution_count": 92,
     "metadata": {},
     "output_type": "execute_result"
    }
   ],
   "source": [
    "main_dataset['FAERS_drug_match'].apply(len).gt(100).describe()"
   ]
  },
  {
   "cell_type": "code",
   "execution_count": 93,
   "id": "b6c7ba77",
   "metadata": {},
   "outputs": [
    {
     "name": "stdout",
     "output_type": "stream",
     "text": [
      "Gt 65: 374\n",
      "Gt 70: 146\n",
      "Gt 80: 120\n",
      "Gt 90: 100\n",
      "Gt 100: 70\n"
     ]
    }
   ],
   "source": [
    "print(\"Gt 65:\", 5358 - 4984)\n",
    "print(\"Gt 70:\", 5358 - 5212)\n",
    "print(\"Gt 80:\", 5358 - 5238)\n",
    "print(\"Gt 90:\", 5358 - 5258)\n",
    "print(\"Gt 100:\", 5358 - 5288)"
   ]
  },
  {
   "cell_type": "code",
   "execution_count": 87,
   "id": "230f7d2b",
   "metadata": {},
   "outputs": [
    {
     "data": {
      "text/plain": [
       "<AxesSubplot:>"
      ]
     },
     "execution_count": 87,
     "metadata": {},
     "output_type": "execute_result"
    },
    {
     "data": {
      "image/png": "[encoded data removed]",
      "text/plain": [
       "<Figure size 432x288 with 1 Axes>"
      ]
     },
     "metadata": {
      "needs_background": "light"
     },
     "output_type": "display_data"
    }
   ],
   "source": [
    "%matplotlib inline\n",
    "main_dataset['FAERS_drug_match'].apply(len).hist(bins=15)"
   ]
  },
  {
   "cell_type": "code",
   "execution_count": 88,
   "id": "f0a7a120",
   "metadata": {},
   "outputs": [
    {
     "data": {
      "text/plain": [
       "\"WOMEN'S MULTI (ASCORBIC ACID, BETACAROTENE, BIOTIN, CALCIUM AMINO ACID CHELATE, CALCIUM PANTOTHENATE, CHROMIUM AMINO ACID CHELATE, COPPER AMINO ACID CHELATE, CYANOCOBALAMIN, EQUISETUM ARVENSE STEM, FERROUS FUMARATE, FOLIC ACID, LAMINARIA DIGITATA POWDER, MAGNESIUM OXIDE, MANGANESE AMINO ACID CHELATE, NICOTINAMIDE, OENOTHERA BIENNIS OIL, POTASSIUM AMINO ACID CHELATE, PYRIDOXINE HYDROCHLORIDE, RIBOFLAVIN, SELENIUM AMINO ACID CHELATE, THIAMINE MONONITRATE, ZINC AMINO ACID CHELATE) TABLET\""
      ]
     },
     "execution_count": 88,
     "metadata": {},
     "output_type": "execute_result"
    }
   ],
   "source": [
    "longest = main_dataset['FAERS_drug_match'].apply(len).idxmax()\n",
    "main_dataset.loc[longest, 'FAERS_drug_match']"
   ]
  },
  {
   "cell_type": "markdown",
   "id": "f572e7a5",
   "metadata": {},
   "source": [
    "---"
   ]
  },
  {
   "cell_type": "markdown",
   "id": "50ffcfce",
   "metadata": {},
   "source": [
    "## Negative Pairs"
   ]
  },
  {
   "cell_type": "code",
   "execution_count": 94,
   "id": "ae8f0708",
   "metadata": {},
   "outputs": [],
   "source": [
    "negatives_pairs = '../data/NP_FAERS_negative_pairs_20220222.csv'"
   ]
  },
  {
   "cell_type": "code",
   "execution_count": 95,
   "id": "383fc6bc",
   "metadata": {},
   "outputs": [
    {
     "name": "stdout",
     "output_type": "stream",
     "text": [
      "<class 'pandas.core.frame.DataFrame'>\n",
      "RangeIndex: 9242 entries, 0 to 9241\n",
      "Data columns (total 2 columns):\n",
      " #   Column            Non-Null Count  Dtype \n",
      "---  ------            --------------  ----- \n",
      " 0   FAERS_drug_match  9242 non-null   object\n",
      " 1   lookup_value      9242 non-null   object\n",
      "dtypes: object(2)\n",
      "memory usage: 144.5+ KB\n"
     ]
    }
   ],
   "source": [
    "negative_dataset = pd.read_csv(negatives_pairs)\n",
    "negative_dataset.info()"
   ]
  },
  {
   "cell_type": "code",
   "execution_count": 98,
   "id": "74d010c7",
   "metadata": {},
   "outputs": [
    {
     "data": {
      "text/html": [
       "<div>\n",
       "<style scoped>\n",
       "    .dataframe tbody tr th:only-of-type {\n",
       "        vertical-align: middle;\n",
       "    }\n",
       "\n",
       "    .dataframe tbody tr th {\n",
       "        vertical-align: top;\n",
       "    }\n",
       "\n",
       "    .dataframe thead th {\n",
       "        text-align: right;\n",
       "    }\n",
       "</style>\n",
       "<table border=\"1\" class=\"dataframe\">\n",
       "  <thead>\n",
       "    <tr style=\"text-align: right;\">\n",
       "      <th></th>\n",
       "      <th>FAERS_drug_match</th>\n",
       "      <th>lookup_value</th>\n",
       "    </tr>\n",
       "  </thead>\n",
       "  <tbody>\n",
       "    <tr>\n",
       "      <th>count</th>\n",
       "      <td>9242.000000</td>\n",
       "      <td>9242.000000</td>\n",
       "    </tr>\n",
       "    <tr>\n",
       "      <th>mean</th>\n",
       "      <td>31.856525</td>\n",
       "      <td>12.881519</td>\n",
       "    </tr>\n",
       "    <tr>\n",
       "      <th>std</th>\n",
       "      <td>26.421282</td>\n",
       "      <td>4.110360</td>\n",
       "    </tr>\n",
       "    <tr>\n",
       "      <th>min</th>\n",
       "      <td>1.000000</td>\n",
       "      <td>4.000000</td>\n",
       "    </tr>\n",
       "    <tr>\n",
       "      <th>25%</th>\n",
       "      <td>10.000000</td>\n",
       "      <td>9.000000</td>\n",
       "    </tr>\n",
       "    <tr>\n",
       "      <th>50%</th>\n",
       "      <td>25.000000</td>\n",
       "      <td>14.000000</td>\n",
       "    </tr>\n",
       "    <tr>\n",
       "      <th>75%</th>\n",
       "      <td>50.000000</td>\n",
       "      <td>16.000000</td>\n",
       "    </tr>\n",
       "    <tr>\n",
       "      <th>max</th>\n",
       "      <td>500.000000</td>\n",
       "      <td>24.000000</td>\n",
       "    </tr>\n",
       "  </tbody>\n",
       "</table>\n",
       "</div>"
      ],
      "text/plain": [
       "       FAERS_drug_match  lookup_value\n",
       "count       9242.000000   9242.000000\n",
       "mean          31.856525     12.881519\n",
       "std           26.421282      4.110360\n",
       "min            1.000000      4.000000\n",
       "25%           10.000000      9.000000\n",
       "50%           25.000000     14.000000\n",
       "75%           50.000000     16.000000\n",
       "max          500.000000     24.000000"
      ]
     },
     "execution_count": 98,
     "metadata": {},
     "output_type": "execute_result"
    }
   ],
   "source": [
    "negative_dataset.applymap(len).describe()"
   ]
  },
  {
   "cell_type": "markdown",
   "id": "1682ff8d",
   "metadata": {},
   "source": [
    "## Test sets"
   ]
  },
  {
   "cell_type": "code",
   "execution_count": 129,
   "id": "9ca20000",
   "metadata": {},
   "outputs": [],
   "source": [
    "unmapped_overlap = '../unmapped_data/upper_unmap_orig_drug_names_202201201812.csv'\n",
    "unmapped_no = '../data/upper_unmap_orig_drug_names_no_model_overlap_20220224.csv'"
   ]
  },
  {
   "cell_type": "code",
   "execution_count": 130,
   "id": "b3f526c2",
   "metadata": {},
   "outputs": [
    {
     "name": "stdout",
     "output_type": "stream",
     "text": [
      "<class 'pandas.core.frame.DataFrame'>\n",
      "RangeIndex: 569525 entries, 0 to 569524\n",
      "Data columns (total 1 columns):\n",
      " #   Column              Non-Null Count   Dtype \n",
      "---  ------              --------------   ----- \n",
      " 0   drug_name_original  412264 non-null  object\n",
      "dtypes: object(1)\n",
      "memory usage: 4.3+ MB\n"
     ]
    }
   ],
   "source": [
    "overlap = pd.read_csv(unmapped_overlap)\n",
    "overlap.info()"
   ]
  },
  {
   "cell_type": "code",
   "execution_count": 131,
   "id": "461af547",
   "metadata": {},
   "outputs": [
    {
     "data": {
      "text/html": [
       "<div>\n",
       "<style scoped>\n",
       "    .dataframe tbody tr th:only-of-type {\n",
       "        vertical-align: middle;\n",
       "    }\n",
       "\n",
       "    .dataframe tbody tr th {\n",
       "        vertical-align: top;\n",
       "    }\n",
       "\n",
       "    .dataframe thead th {\n",
       "        text-align: right;\n",
       "    }\n",
       "</style>\n",
       "<table border=\"1\" class=\"dataframe\">\n",
       "  <thead>\n",
       "    <tr style=\"text-align: right;\">\n",
       "      <th></th>\n",
       "      <th>drug_name_original</th>\n",
       "    </tr>\n",
       "  </thead>\n",
       "  <tbody>\n",
       "    <tr>\n",
       "      <th>0</th>\n",
       "      <td>ACRINOL HYDRATE</td>\n",
       "    </tr>\n",
       "    <tr>\n",
       "      <th>1</th>\n",
       "      <td>MAXAZIDE/TRIAMTEREN HCTZ</td>\n",
       "    </tr>\n",
       "    <tr>\n",
       "      <th>2</th>\n",
       "      <td>KETOBEMIDONE (KETOGAN) (KETOGIN)</td>\n",
       "    </tr>\n",
       "    <tr>\n",
       "      <th>3</th>\n",
       "      <td>TYLENOL XTRA STRENGTH</td>\n",
       "    </tr>\n",
       "    <tr>\n",
       "      <th>4</th>\n",
       "      <td>MINOCYCLINE(MINOCYLCINE HYDROCHLORIDE)</td>\n",
       "    </tr>\n",
       "  </tbody>\n",
       "</table>\n",
       "</div>"
      ],
      "text/plain": [
       "                       drug_name_original\n",
       "0                         ACRINOL HYDRATE\n",
       "1                MAXAZIDE/TRIAMTEREN HCTZ\n",
       "2        KETOBEMIDONE (KETOGAN) (KETOGIN)\n",
       "3                   TYLENOL XTRA STRENGTH\n",
       "4  MINOCYCLINE(MINOCYLCINE HYDROCHLORIDE)"
      ]
     },
     "execution_count": 131,
     "metadata": {},
     "output_type": "execute_result"
    }
   ],
   "source": [
    "overlap.head()"
   ]
  },
  {
   "cell_type": "code",
   "execution_count": 132,
   "id": "50cc33dc",
   "metadata": {},
   "outputs": [
    {
     "name": "stdout",
     "output_type": "stream",
     "text": [
      "<class 'pandas.core.frame.DataFrame'>\n",
      "RangeIndex: 405332 entries, 0 to 405331\n",
      "Data columns (total 1 columns):\n",
      " #   Column            Non-Null Count   Dtype \n",
      "---  ------            --------------   ----- \n",
      " 0   FAERS_drug_match  405332 non-null  object\n",
      "dtypes: object(1)\n",
      "memory usage: 3.1+ MB\n"
     ]
    }
   ],
   "source": [
    "no_overlap = pd.read_csv(unmapped_no)\n",
    "no_overlap.info()"
   ]
  },
  {
   "cell_type": "code",
   "execution_count": 133,
   "id": "26f33ee6",
   "metadata": {},
   "outputs": [
    {
     "data": {
      "text/html": [
       "<div>\n",
       "<style scoped>\n",
       "    .dataframe tbody tr th:only-of-type {\n",
       "        vertical-align: middle;\n",
       "    }\n",
       "\n",
       "    .dataframe tbody tr th {\n",
       "        vertical-align: top;\n",
       "    }\n",
       "\n",
       "    .dataframe thead th {\n",
       "        text-align: right;\n",
       "    }\n",
       "</style>\n",
       "<table border=\"1\" class=\"dataframe\">\n",
       "  <thead>\n",
       "    <tr style=\"text-align: right;\">\n",
       "      <th></th>\n",
       "      <th>FAERS_drug_match</th>\n",
       "    </tr>\n",
       "  </thead>\n",
       "  <tbody>\n",
       "    <tr>\n",
       "      <th>0</th>\n",
       "      <td>ACRINOL HYDRATE</td>\n",
       "    </tr>\n",
       "    <tr>\n",
       "      <th>1</th>\n",
       "      <td>MAXAZIDE/TRIAMTEREN HCTZ</td>\n",
       "    </tr>\n",
       "    <tr>\n",
       "      <th>2</th>\n",
       "      <td>KETOBEMIDONE (KETOGAN) (KETOGIN)</td>\n",
       "    </tr>\n",
       "    <tr>\n",
       "      <th>3</th>\n",
       "      <td>TYLENOL XTRA STRENGTH</td>\n",
       "    </tr>\n",
       "    <tr>\n",
       "      <th>4</th>\n",
       "      <td>MINOCYCLINE(MINOCYLCINE HYDROCHLORIDE)</td>\n",
       "    </tr>\n",
       "  </tbody>\n",
       "</table>\n",
       "</div>"
      ],
      "text/plain": [
       "                         FAERS_drug_match\n",
       "0                         ACRINOL HYDRATE\n",
       "1                MAXAZIDE/TRIAMTEREN HCTZ\n",
       "2        KETOBEMIDONE (KETOGAN) (KETOGIN)\n",
       "3                   TYLENOL XTRA STRENGTH\n",
       "4  MINOCYCLINE(MINOCYLCINE HYDROCHLORIDE)"
      ]
     },
     "execution_count": 133,
     "metadata": {},
     "output_type": "execute_result"
    }
   ],
   "source": [
    "no_overlap.head()"
   ]
  },
  {
   "cell_type": "code",
   "execution_count": null,
   "id": "db424982",
   "metadata": {},
   "outputs": [],
   "source": []
  }
 ],
 "metadata": {
  "kernelspec": {
   "display_name": "Python 3 (ipykernel)",
   "language": "python",
   "name": "python3"
  },
  "language_info": {
   "codemirror_mode": {
    "name": "ipython",
    "version": 3
   },
   "file_extension": ".py",
   "mimetype": "text/x-python",
   "name": "python",
   "nbconvert_exporter": "python",
   "pygments_lexer": "ipython3",
   "version": "3.8.13"
  }
 },
 "nbformat": 4,
 "nbformat_minor": 5
}
