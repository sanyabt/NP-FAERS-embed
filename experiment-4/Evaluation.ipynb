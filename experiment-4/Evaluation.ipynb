{
 "cells": [
  {
   "cell_type": "markdown",
   "id": "6af2f21c",
   "metadata": {},
   "source": [
    "# Imports & Globals"
   ]
  },
  {
   "cell_type": "code",
   "execution_count": 1,
   "id": "83e99bdb",
   "metadata": {},
   "outputs": [],
   "source": [
    "import pickle\n",
    "import pandas as pd\n",
    "import numpy as np\n",
    "from yaml import safe_load\n",
    "import tensorflow as tf\n",
    "import matplotlib.pyplot as plt\n",
    "plt.rcParams['patch.force_edgecolor'] = True\n",
    "%matplotlib inline"
   ]
  },
  {
   "cell_type": "code",
   "execution_count": 2,
   "id": "cc0b993f",
   "metadata": {},
   "outputs": [],
   "source": [
    "from StringProcessing import preprocessInput, encode_pad_tag, balance_complete_set"
   ]
  },
  {
   "cell_type": "code",
   "execution_count": 3,
   "id": "460444cd",
   "metadata": {},
   "outputs": [
    {
     "name": "stdout",
     "output_type": "stream",
     "text": [
      "tf.version:  2.9.1\n",
      "tf.keras.version:  2.9.0\n",
      "tf.config.devices:  [PhysicalDevice(name='/physical_device:CPU:0', device_type='CPU'), PhysicalDevice(name='/physical_device:GPU:0', device_type='GPU')]\n"
     ]
    },
    {
     "name": "stderr",
     "output_type": "stream",
     "text": [
      "2022-10-21 13:07:26.534749: I tensorflow/stream_executor/cuda/cuda_gpu_executor.cc:975] successful NUMA node read from SysFS had negative value (-1), but there must be at least one NUMA node, so returning NUMA node zero\n",
      "2022-10-21 13:07:26.557842: I tensorflow/stream_executor/cuda/cuda_gpu_executor.cc:975] successful NUMA node read from SysFS had negative value (-1), but there must be at least one NUMA node, so returning NUMA node zero\n",
      "2022-10-21 13:07:26.557999: I tensorflow/stream_executor/cuda/cuda_gpu_executor.cc:975] successful NUMA node read from SysFS had negative value (-1), but there must be at least one NUMA node, so returning NUMA node zero\n",
      "2022-10-21 13:07:26.558471: I tensorflow/core/platform/cpu_feature_guard.cc:193] This TensorFlow binary is optimized with oneAPI Deep Neural Network Library (oneDNN) to use the following CPU instructions in performance-critical operations:  SSE4.1 SSE4.2 AVX AVX2 FMA\n",
      "To enable them in other operations, rebuild TensorFlow with the appropriate compiler flags.\n",
      "2022-10-21 13:07:26.558895: I tensorflow/stream_executor/cuda/cuda_gpu_executor.cc:975] successful NUMA node read from SysFS had negative value (-1), but there must be at least one NUMA node, so returning NUMA node zero\n",
      "2022-10-21 13:07:26.559028: I tensorflow/stream_executor/cuda/cuda_gpu_executor.cc:975] successful NUMA node read from SysFS had negative value (-1), but there must be at least one NUMA node, so returning NUMA node zero\n",
      "2022-10-21 13:07:26.559166: I tensorflow/stream_executor/cuda/cuda_gpu_executor.cc:975] successful NUMA node read from SysFS had negative value (-1), but there must be at least one NUMA node, so returning NUMA node zero\n",
      "2022-10-21 13:07:26.925433: I tensorflow/stream_executor/cuda/cuda_gpu_executor.cc:975] successful NUMA node read from SysFS had negative value (-1), but there must be at least one NUMA node, so returning NUMA node zero\n",
      "2022-10-21 13:07:26.925578: I tensorflow/stream_executor/cuda/cuda_gpu_executor.cc:975] successful NUMA node read from SysFS had negative value (-1), but there must be at least one NUMA node, so returning NUMA node zero\n",
      "2022-10-21 13:07:26.925682: I tensorflow/stream_executor/cuda/cuda_gpu_executor.cc:975] successful NUMA node read from SysFS had negative value (-1), but there must be at least one NUMA node, so returning NUMA node zero\n",
      "2022-10-21 13:07:26.925765: I tensorflow/core/common_runtime/gpu/gpu_device.cc:1532] Created device /device:GPU:0 with 6650 MB memory:  -> device: 0, name: NVIDIA GeForce RTX 2070 with Max-Q Design, pci bus id: 0000:01:00.0, compute capability: 7.5\n"
     ]
    }
   ],
   "source": [
    "from SiameseModel import CosineDistance, ContrastiveLoss "
   ]
  },
  {
   "cell_type": "code",
   "execution_count": 4,
   "id": "e39139fa",
   "metadata": {},
   "outputs": [],
   "source": [
    "from ModelEvaluation import find_Model_ranks, find_Levenshtein_ranks, find_Gesalt_ranks"
   ]
  },
  {
   "cell_type": "code",
   "execution_count": 5,
   "id": "d0a21748",
   "metadata": {},
   "outputs": [],
   "source": [
    "#Maximum sequence length including padding\n",
    "global MAXLEN\n",
    "with open('LSTM65.yaml', 'r') as file:\n",
    "    model_config = safe_load(file)\n",
    "    MAXLEN = model_config['MAXLEN']"
   ]
  },
  {
   "cell_type": "markdown",
   "id": "34891f72",
   "metadata": {},
   "source": [
    "# Pickled Datasets"
   ]
  },
  {
   "cell_type": "code",
   "execution_count": 6,
   "id": "99073085",
   "metadata": {},
   "outputs": [],
   "source": [
    "dUnique_df = pd.read_pickle(\"../data/dUnique_df.pkl\")\n",
    "dfneg2 = pd.read_pickle(\"../data/dfneg2.pkl\")\n",
    "test = pd.read_pickle(\"../data/test.pkl\")"
   ]
  },
  {
   "cell_type": "markdown",
   "id": "ffdcd664",
   "metadata": {},
   "source": [
    "--------------------------------"
   ]
  },
  {
   "cell_type": "markdown",
   "id": "b7e10db6",
   "metadata": {},
   "source": [
    "# Build model, load weights and evaluate on test data"
   ]
  },
  {
   "cell_type": "code",
   "execution_count": 7,
   "id": "dd19e241",
   "metadata": {},
   "outputs": [
    {
     "name": "stderr",
     "output_type": "stream",
     "text": [
      "2022-10-21 13:07:27.417958: I tensorflow/stream_executor/cuda/cuda_gpu_executor.cc:975] successful NUMA node read from SysFS had negative value (-1), but there must be at least one NUMA node, so returning NUMA node zero\n",
      "2022-10-21 13:07:27.418156: I tensorflow/stream_executor/cuda/cuda_gpu_executor.cc:975] successful NUMA node read from SysFS had negative value (-1), but there must be at least one NUMA node, so returning NUMA node zero\n",
      "2022-10-21 13:07:27.418261: I tensorflow/stream_executor/cuda/cuda_gpu_executor.cc:975] successful NUMA node read from SysFS had negative value (-1), but there must be at least one NUMA node, so returning NUMA node zero\n",
      "2022-10-21 13:07:27.418390: I tensorflow/stream_executor/cuda/cuda_gpu_executor.cc:975] successful NUMA node read from SysFS had negative value (-1), but there must be at least one NUMA node, so returning NUMA node zero\n",
      "2022-10-21 13:07:27.418490: I tensorflow/stream_executor/cuda/cuda_gpu_executor.cc:975] successful NUMA node read from SysFS had negative value (-1), but there must be at least one NUMA node, so returning NUMA node zero\n",
      "2022-10-21 13:07:27.418566: I tensorflow/core/common_runtime/gpu/gpu_device.cc:1532] Created device /job:localhost/replica:0/task:0/device:GPU:0 with 6650 MB memory:  -> device: 0, name: NVIDIA GeForce RTX 2070 with Max-Q Design, pci bus id: 0000:01:00.0, compute capability: 7.5\n",
      "2022-10-21 13:07:29.075602: W tensorflow/core/common_runtime/graph_constructor.cc:805] Node 'cond/while' has 13 outputs but the _output_shapes attribute specifies shapes for 46 outputs. Output shapes may be inaccurate.\n",
      "2022-10-21 13:07:29.272058: W tensorflow/core/common_runtime/graph_constructor.cc:805] Node 'cond/while' has 13 outputs but the _output_shapes attribute specifies shapes for 46 outputs. Output shapes may be inaccurate.\n",
      "2022-10-21 13:07:29.632448: W tensorflow/core/common_runtime/graph_constructor.cc:805] Node 'cond/while' has 13 outputs but the _output_shapes attribute specifies shapes for 46 outputs. Output shapes may be inaccurate.\n",
      "2022-10-21 13:07:29.640716: W tensorflow/core/common_runtime/graph_constructor.cc:805] Node 'cond' has 5 outputs but the _output_shapes attribute specifies shapes for 46 outputs. Output shapes may be inaccurate.\n",
      "2022-10-21 13:07:29.657865: W tensorflow/core/common_runtime/graph_constructor.cc:805] Node 'cond/while' has 13 outputs but the _output_shapes attribute specifies shapes for 46 outputs. Output shapes may be inaccurate.\n",
      "2022-10-21 13:07:29.669473: W tensorflow/core/common_runtime/graph_constructor.cc:805] Node 'cond/while' has 13 outputs but the _output_shapes attribute specifies shapes for 46 outputs. Output shapes may be inaccurate.\n",
      "2022-10-21 13:07:29.677486: W tensorflow/core/common_runtime/graph_constructor.cc:805] Node 'cond' has 5 outputs but the _output_shapes attribute specifies shapes for 46 outputs. Output shapes may be inaccurate.\n",
      "2022-10-21 13:07:30.004919: W tensorflow/core/common_runtime/graph_constructor.cc:805] Node 'cond' has 5 outputs but the _output_shapes attribute specifies shapes for 46 outputs. Output shapes may be inaccurate.\n",
      "2022-10-21 13:07:30.136359: W tensorflow/core/common_runtime/graph_constructor.cc:805] Node 'cond/while' has 13 outputs but the _output_shapes attribute specifies shapes for 46 outputs. Output shapes may be inaccurate.\n",
      "2022-10-21 13:07:30.144363: W tensorflow/core/common_runtime/graph_constructor.cc:805] Node 'cond' has 5 outputs but the _output_shapes attribute specifies shapes for 46 outputs. Output shapes may be inaccurate.\n",
      "2022-10-21 13:07:30.636532: W tensorflow/core/common_runtime/graph_constructor.cc:805] Node 'cond/while' has 13 outputs but the _output_shapes attribute specifies shapes for 46 outputs. Output shapes may be inaccurate.\n",
      "2022-10-21 13:07:30.645386: W tensorflow/core/common_runtime/graph_constructor.cc:805] Node 'cond' has 5 outputs but the _output_shapes attribute specifies shapes for 46 outputs. Output shapes may be inaccurate.\n",
      "2022-10-21 13:07:30.667394: W tensorflow/core/common_runtime/graph_constructor.cc:805] Node 'cond/while' has 13 outputs but the _output_shapes attribute specifies shapes for 46 outputs. Output shapes may be inaccurate.\n",
      "2022-10-21 13:07:30.675962: W tensorflow/core/common_runtime/graph_constructor.cc:805] Node 'cond' has 5 outputs but the _output_shapes attribute specifies shapes for 46 outputs. Output shapes may be inaccurate.\n",
      "2022-10-21 13:07:30.851067: W tensorflow/core/common_runtime/graph_constructor.cc:805] Node 'cond/while' has 13 outputs but the _output_shapes attribute specifies shapes for 46 outputs. Output shapes may be inaccurate.\n",
      "2022-10-21 13:07:30.860721: W tensorflow/core/common_runtime/graph_constructor.cc:805] Node 'cond' has 5 outputs but the _output_shapes attribute specifies shapes for 46 outputs. Output shapes may be inaccurate.\n",
      "2022-10-21 13:07:31.016328: W tensorflow/core/common_runtime/graph_constructor.cc:805] Node 'cond' has 5 outputs but the _output_shapes attribute specifies shapes for 46 outputs. Output shapes may be inaccurate.\n",
      "2022-10-21 13:07:31.393692: W tensorflow/core/common_runtime/graph_constructor.cc:805] Node 'cond/while' has 13 outputs but the _output_shapes attribute specifies shapes for 46 outputs. Output shapes may be inaccurate.\n",
      "2022-10-21 13:07:31.493436: W tensorflow/core/common_runtime/graph_constructor.cc:805] Node 'cond/while' has 13 outputs but the _output_shapes attribute specifies shapes for 46 outputs. Output shapes may be inaccurate.\n",
      "2022-10-21 13:07:31.526870: W tensorflow/core/common_runtime/graph_constructor.cc:805] Node 'cond/while' has 13 outputs but the _output_shapes attribute specifies shapes for 46 outputs. Output shapes may be inaccurate.\n",
      "2022-10-21 13:07:31.535122: W tensorflow/core/common_runtime/graph_constructor.cc:805] Node 'cond' has 5 outputs but the _output_shapes attribute specifies shapes for 46 outputs. Output shapes may be inaccurate.\n",
      "2022-10-21 13:07:31.980113: W tensorflow/core/common_runtime/graph_constructor.cc:805] Node 'cond/while' has 13 outputs but the _output_shapes attribute specifies shapes for 46 outputs. Output shapes may be inaccurate.\n",
      "2022-10-21 13:07:31.988439: W tensorflow/core/common_runtime/graph_constructor.cc:805] Node 'cond' has 5 outputs but the _output_shapes attribute specifies shapes for 46 outputs. Output shapes may be inaccurate.\n",
      "2022-10-21 13:07:32.028335: W tensorflow/core/common_runtime/graph_constructor.cc:805] Node 'cond/while' has 13 outputs but the _output_shapes attribute specifies shapes for 46 outputs. Output shapes may be inaccurate.\n",
      "2022-10-21 13:07:32.036710: W tensorflow/core/common_runtime/graph_constructor.cc:805] Node 'cond' has 5 outputs but the _output_shapes attribute specifies shapes for 46 outputs. Output shapes may be inaccurate.\n",
      "2022-10-21 13:07:32.270759: W tensorflow/core/common_runtime/graph_constructor.cc:805] Node 'cond/while' has 13 outputs but the _output_shapes attribute specifies shapes for 46 outputs. Output shapes may be inaccurate.\n",
      "2022-10-21 13:07:32.279643: W tensorflow/core/common_runtime/graph_constructor.cc:805] Node 'cond' has 5 outputs but the _output_shapes attribute specifies shapes for 46 outputs. Output shapes may be inaccurate.\n",
      "2022-10-21 13:07:32.288399: W tensorflow/core/common_runtime/graph_constructor.cc:805] Node 'cond/while' has 13 outputs but the _output_shapes attribute specifies shapes for 46 outputs. Output shapes may be inaccurate.\n",
      "2022-10-21 13:07:32.296332: W tensorflow/core/common_runtime/graph_constructor.cc:805] Node 'cond' has 5 outputs but the _output_shapes attribute specifies shapes for 46 outputs. Output shapes may be inaccurate.\n",
      "2022-10-21 13:07:32.636327: W tensorflow/core/common_runtime/graph_constructor.cc:805] Node 'cond/while' has 13 outputs but the _output_shapes attribute specifies shapes for 46 outputs. Output shapes may be inaccurate.\n",
      "2022-10-21 13:07:32.972113: W tensorflow/core/common_runtime/graph_constructor.cc:805] Node 'cond/while' has 13 outputs but the _output_shapes attribute specifies shapes for 46 outputs. Output shapes may be inaccurate.\n",
      "2022-10-21 13:07:32.980879: W tensorflow/core/common_runtime/graph_constructor.cc:805] Node 'cond' has 5 outputs but the _output_shapes attribute specifies shapes for 46 outputs. Output shapes may be inaccurate.\n",
      "2022-10-21 13:07:33.065496: W tensorflow/core/common_runtime/graph_constructor.cc:805] Node 'cond/while' has 13 outputs but the _output_shapes attribute specifies shapes for 46 outputs. Output shapes may be inaccurate.\n",
      "2022-10-21 13:07:33.073742: W tensorflow/core/common_runtime/graph_constructor.cc:805] Node 'cond' has 5 outputs but the _output_shapes attribute specifies shapes for 46 outputs. Output shapes may be inaccurate.\n"
     ]
    },
    {
     "name": "stderr",
     "output_type": "stream",
     "text": [
      "2022-10-21 13:07:33.203752: W tensorflow/core/common_runtime/graph_constructor.cc:805] Node 'cond' has 5 outputs but the _output_shapes attribute specifies shapes for 46 outputs. Output shapes may be inaccurate.\n",
      "2022-10-21 13:07:33.248895: W tensorflow/core/common_runtime/graph_constructor.cc:805] Node 'cond/while' has 13 outputs but the _output_shapes attribute specifies shapes for 46 outputs. Output shapes may be inaccurate.\n",
      "2022-10-21 13:07:33.257545: W tensorflow/core/common_runtime/graph_constructor.cc:805] Node 'cond' has 5 outputs but the _output_shapes attribute specifies shapes for 46 outputs. Output shapes may be inaccurate.\n",
      "2022-10-21 13:07:33.289718: W tensorflow/core/common_runtime/graph_constructor.cc:805] Node 'cond' has 5 outputs but the _output_shapes attribute specifies shapes for 46 outputs. Output shapes may be inaccurate.\n",
      "2022-10-21 13:07:33.391792: W tensorflow/core/common_runtime/graph_constructor.cc:805] Node 'cond/while' has 13 outputs but the _output_shapes attribute specifies shapes for 46 outputs. Output shapes may be inaccurate.\n",
      "2022-10-21 13:07:33.399753: W tensorflow/core/common_runtime/graph_constructor.cc:805] Node 'cond' has 5 outputs but the _output_shapes attribute specifies shapes for 46 outputs. Output shapes may be inaccurate.\n",
      "2022-10-21 13:07:33.424333: W tensorflow/core/common_runtime/graph_constructor.cc:805] Node 'cond/while' has 13 outputs but the _output_shapes attribute specifies shapes for 46 outputs. Output shapes may be inaccurate.\n",
      "2022-10-21 13:07:33.433653: W tensorflow/core/common_runtime/graph_constructor.cc:805] Node 'cond' has 5 outputs but the _output_shapes attribute specifies shapes for 46 outputs. Output shapes may be inaccurate.\n",
      "2022-10-21 13:07:33.711143: W tensorflow/core/common_runtime/graph_constructor.cc:805] Node 'cond' has 5 outputs but the _output_shapes attribute specifies shapes for 46 outputs. Output shapes may be inaccurate.\n",
      "2022-10-21 13:07:33.765916: W tensorflow/core/common_runtime/graph_constructor.cc:805] Node 'cond/while' has 13 outputs but the _output_shapes attribute specifies shapes for 46 outputs. Output shapes may be inaccurate.\n",
      "2022-10-21 13:07:33.774402: W tensorflow/core/common_runtime/graph_constructor.cc:805] Node 'cond' has 5 outputs but the _output_shapes attribute specifies shapes for 46 outputs. Output shapes may be inaccurate.\n",
      "2022-10-21 13:07:33.890243: W tensorflow/core/common_runtime/graph_constructor.cc:805] Node 'cond/while' has 13 outputs but the _output_shapes attribute specifies shapes for 46 outputs. Output shapes may be inaccurate.\n",
      "2022-10-21 13:07:33.900004: W tensorflow/core/common_runtime/graph_constructor.cc:805] Node 'cond' has 5 outputs but the _output_shapes attribute specifies shapes for 46 outputs. Output shapes may be inaccurate.\n",
      "2022-10-21 13:07:33.958766: W tensorflow/core/common_runtime/graph_constructor.cc:805] Node 'cond' has 5 outputs but the _output_shapes attribute specifies shapes for 46 outputs. Output shapes may be inaccurate.\n"
     ]
    },
    {
     "name": "stdout",
     "output_type": "stream",
     "text": [
      "Model: \"model_1\"\n",
      "__________________________________________________________________________________________________\n",
      " Layer (type)                   Output Shape         Param #     Connected to                     \n",
      "==================================================================================================\n",
      " input_2 (InputLayer)           [(None, 65)]         0           []                               \n",
      "                                                                                                  \n",
      " input_3 (InputLayer)           [(None, 65)]         0           []                               \n",
      "                                                                                                  \n",
      " model (Functional)             (None, 65)           76425       ['input_2[0][0]',                \n",
      "                                                                  'input_3[0][0]']                \n",
      "                                                                                                  \n",
      " lambda (Lambda)                (None, 1)            0           ['model[0][0]',                  \n",
      "                                                                  'model[1][0]']                  \n",
      "                                                                                                  \n",
      " batch_normalization_1 (BatchNo  (None, 1)           4           ['lambda[0][0]']                 \n",
      " rmalization)                                                                                     \n",
      "                                                                                                  \n",
      " dense_2 (Dense)                (None, 1)            2           ['batch_normalization_1[0][0]']  \n",
      "                                                                                                  \n",
      "==================================================================================================\n",
      "Total params: 76,431\n",
      "Trainable params: 76,369\n",
      "Non-trainable params: 62\n",
      "__________________________________________________________________________________________________\n"
     ]
    }
   ],
   "source": [
    "model = tf.keras.models.load_model(\n",
    "    './saved_models/{}'.format(model_config[\"Model_Name\"]), \n",
    "    custom_objects = {\n",
    "        'CosineDistance': CosineDistance,\n",
    "        'ContrastiveLoss': ContrastiveLoss\n",
    "    }, \n",
    "    compile=True, \n",
    "    options=None\n",
    ")\n",
    "model.summary()"
   ]
  },
  {
   "cell_type": "markdown",
   "id": "607f58ca",
   "metadata": {},
   "source": [
    "---------------------------------------------------------------"
   ]
  },
  {
   "cell_type": "markdown",
   "id": "b06b0601",
   "metadata": {},
   "source": [
    "# Evaluation"
   ]
  },
  {
   "cell_type": "markdown",
   "id": "e7103902",
   "metadata": {},
   "source": [
    "## Unique target labels"
   ]
  },
  {
   "cell_type": "code",
   "execution_count": 8,
   "id": "f0323d8d",
   "metadata": {},
   "outputs": [
    {
     "data": {
      "text/html": [
       "<div>\n",
       "<style scoped>\n",
       "    .dataframe tbody tr th:only-of-type {\n",
       "        vertical-align: middle;\n",
       "    }\n",
       "\n",
       "    .dataframe tbody tr th {\n",
       "        vertical-align: top;\n",
       "    }\n",
       "\n",
       "    .dataframe thead th {\n",
       "        text-align: right;\n",
       "    }\n",
       "</style>\n",
       "<table border=\"1\" class=\"dataframe\">\n",
       "  <thead>\n",
       "    <tr style=\"text-align: right;\">\n",
       "      <th></th>\n",
       "      <th>dUnique_label</th>\n",
       "      <th>dUnique_seq_padded</th>\n",
       "    </tr>\n",
       "  </thead>\n",
       "  <tbody>\n",
       "    <tr>\n",
       "      <th>0</th>\n",
       "      <td>AAI</td>\n",
       "      <td>[1, 1, 9, 0, 0, 0, 0, 0, 0, 0, 0, 0, 0, 0, 0, ...</td>\n",
       "    </tr>\n",
       "    <tr>\n",
       "      <th>1</th>\n",
       "      <td>AARONSROD</td>\n",
       "      <td>[1, 1, 18, 15, 14, 19, 18, 15, 4, 0, 0, 0, 0, ...</td>\n",
       "    </tr>\n",
       "    <tr>\n",
       "      <th>2</th>\n",
       "      <td>ABIES ALBA</td>\n",
       "      <td>[1, 2, 9, 5, 19, 27, 1, 12, 2, 1, 0, 0, 0, 0, ...</td>\n",
       "    </tr>\n",
       "    <tr>\n",
       "      <th>3</th>\n",
       "      <td>ABSINTHE</td>\n",
       "      <td>[1, 2, 19, 9, 14, 20, 8, 5, 0, 0, 0, 0, 0, 0, ...</td>\n",
       "    </tr>\n",
       "    <tr>\n",
       "      <th>4</th>\n",
       "      <td>ABSINTHE WORMWOOD</td>\n",
       "      <td>[1, 2, 19, 9, 14, 20, 8, 5, 27, 23, 15, 18, 13...</td>\n",
       "    </tr>\n",
       "  </tbody>\n",
       "</table>\n",
       "</div>"
      ],
      "text/plain": [
       "       dUnique_label                                 dUnique_seq_padded\n",
       "0                AAI  [1, 1, 9, 0, 0, 0, 0, 0, 0, 0, 0, 0, 0, 0, 0, ...\n",
       "1          AARONSROD  [1, 1, 18, 15, 14, 19, 18, 15, 4, 0, 0, 0, 0, ...\n",
       "2         ABIES ALBA  [1, 2, 9, 5, 19, 27, 1, 12, 2, 1, 0, 0, 0, 0, ...\n",
       "3           ABSINTHE  [1, 2, 19, 9, 14, 20, 8, 5, 0, 0, 0, 0, 0, 0, ...\n",
       "4  ABSINTHE WORMWOOD  [1, 2, 19, 9, 14, 20, 8, 5, 27, 23, 15, 18, 13..."
      ]
     },
     "execution_count": 8,
     "metadata": {},
     "output_type": "execute_result"
    }
   ],
   "source": [
    "dUnique_df.head()"
   ]
  },
  {
   "cell_type": "code",
   "execution_count": 9,
   "id": "cd82b94c",
   "metadata": {},
   "outputs": [
    {
     "data": {
      "text/plain": [
       "1879"
      ]
     },
     "execution_count": 9,
     "metadata": {},
     "output_type": "execute_result"
    }
   ],
   "source": [
    "dUnique_df.index.size"
   ]
  },
  {
   "cell_type": "code",
   "execution_count": 10,
   "id": "0bf0c0cc",
   "metadata": {},
   "outputs": [
    {
     "name": "stdout",
     "output_type": "stream",
     "text": [
      "<class 'pandas.core.frame.DataFrame'>\n",
      "RangeIndex: 1299 entries, 0 to 1298\n",
      "Data columns (total 2 columns):\n",
      " #   Column    Non-Null Count  Dtype \n",
      "---  ------    --------------  ----- \n",
      " 0   lb        1299 non-null   object\n",
      " 1   mappings  1299 non-null   object\n",
      "dtypes: object(2)\n",
      "memory usage: 20.4+ KB\n",
      "None\n",
      "Processing file: ----------------------------------------\n",
      "Renaming colums:\n",
      "\tCurrent names: Index(['lb', 'mappings'], dtype='object')\n",
      "\tNew names: Index(['x', 'y'], dtype='object')\n",
      "Dropping row with empty cells:\n",
      "\tDropped 0 rows with empty cells.\n",
      "\tCleaning string sequences.\n",
      "\tUppercasing string sequences.\n",
      "Dropping sequences longer than the maxlen of 65:\n",
      "\tDropped 0 that exceeded the maximum sequence length.\n",
      "Dropping duplicate sequences:\n",
      "\tDropped 321 duplicate sequences.\n",
      "Done processing: ---------------------------------------\n",
      "<class 'pandas.core.frame.DataFrame'>\n",
      "RangeIndex: 2277 entries, 0 to 2276\n",
      "Data columns (total 2 columns):\n",
      " #   Column  Non-Null Count  Dtype \n",
      "---  ------  --------------  ----- \n",
      " 0   x       2277 non-null   object\n",
      " 1   y       2277 non-null   object\n",
      "dtypes: object(2)\n",
      "memory usage: 35.7+ KB\n",
      "None\n"
     ]
    }
   ],
   "source": [
    "latin_2_common = preprocessInput('../data/vocabulary_LB_to_common_names_09082022.tsv', maxlen= MAXLEN, reflexive=True, balance = False, noise=None, sep='\\t')"
   ]
  },
  {
   "cell_type": "code",
   "execution_count": 11,
   "id": "9d720bb3",
   "metadata": {},
   "outputs": [
    {
     "name": "stdout",
     "output_type": "stream",
     "text": [
      "<class 'pandas.core.frame.DataFrame'>\n",
      "RangeIndex: 728 entries, 0 to 727\n",
      "Data columns (total 2 columns):\n",
      " #   Column          Non-Null Count  Dtype \n",
      "---  ------          --------------  ----- \n",
      " 0   common_name     728 non-null    object\n",
      " 1   latin_binomial  728 non-null    object\n",
      "dtypes: object(2)\n",
      "memory usage: 11.5+ KB\n",
      "None\n",
      "Processing file: ----------------------------------------\n",
      "Renaming colums:\n",
      "\tCurrent names: Index(['common_name', 'latin_binomial'], dtype='object')\n",
      "\tNew names: Index(['x', 'y'], dtype='object')\n",
      "Dropping row with empty cells:\n",
      "\tDropped 0 rows with empty cells.\n",
      "\tCleaning string sequences.\n",
      "\tUppercasing string sequences.\n",
      "Dropping sequences longer than the maxlen of 65:\n",
      "\tDropped 0 that exceeded the maximum sequence length.\n",
      "Dropping duplicate sequences:\n",
      "\tDropped 728 duplicate sequences.\n",
      "Done processing: ---------------------------------------\n",
      "<class 'pandas.core.frame.DataFrame'>\n",
      "RangeIndex: 728 entries, 0 to 727\n",
      "Data columns (total 2 columns):\n",
      " #   Column  Non-Null Count  Dtype \n",
      "---  ------  --------------  ----- \n",
      " 0   x       728 non-null    object\n",
      " 1   y       728 non-null    object\n",
      "dtypes: object(2)\n",
      "memory usage: 11.5+ KB\n",
      "None\n"
     ]
    }
   ],
   "source": [
    "common_2_latin = preprocessInput('../data/positive-unmapped-pairs-common-name-or-latin-binomial-copies.tsv', maxlen= MAXLEN, reflexive=True, balance = False, noise=None, sep='\\t')"
   ]
  },
  {
   "cell_type": "code",
   "execution_count": 12,
   "id": "ba6564f8",
   "metadata": {
    "scrolled": true
   },
   "outputs": [
    {
     "name": "stdout",
     "output_type": "stream",
     "text": [
      "<class 'pandas.core.frame.DataFrame'>\n",
      "RangeIndex: 10838 entries, 0 to 10837\n",
      "Data columns (total 2 columns):\n",
      " #   Column       Non-Null Count  Dtype \n",
      "---  ------       --------------  ----- \n",
      " 0   name         10838 non-null  object\n",
      " 1   common_name  199 non-null    object\n",
      "dtypes: object(2)\n",
      "memory usage: 169.5+ KB\n",
      "None\n",
      "Processing file: ----------------------------------------\n",
      "Renaming colums:\n",
      "\tCurrent names: Index(['name', 'common_name'], dtype='object')\n",
      "\tNew names: Index(['x', 'y'], dtype='object')\n",
      "Dropping row with empty cells:\n",
      "\tDropped 10639 rows with empty cells.\n",
      "\tCleaning string sequences.\n",
      "\tUppercasing string sequences.\n",
      "Dropping sequences longer than the maxlen of 65:\n",
      "\tDropped 0 that exceeded the maximum sequence length.\n",
      "Dropping duplicate sequences:\n",
      "\tDropped 0 duplicate sequences.\n",
      "Done processing: ---------------------------------------\n",
      "<class 'pandas.core.frame.DataFrame'>\n",
      "RangeIndex: 398 entries, 0 to 397\n",
      "Data columns (total 2 columns):\n",
      " #   Column  Non-Null Count  Dtype \n",
      "---  ------  --------------  ----- \n",
      " 0   x       398 non-null    object\n",
      " 1   y       398 non-null    object\n",
      "dtypes: object(2)\n",
      "memory usage: 6.3+ KB\n",
      "None\n"
     ]
    }
   ],
   "source": [
    "gsrs_2_common = preprocessInput('../data/positive-unmapped-pairs-gsrs-name-to-common-name.tsv', maxlen= MAXLEN, reflexive=True, balance = False, noise=None, sep='\\t')"
   ]
  },
  {
   "cell_type": "code",
   "execution_count": 13,
   "id": "1a88ac91",
   "metadata": {
    "scrolled": true
   },
   "outputs": [],
   "source": [
    "# vocab = pd.read_csv('../data/lb_to_common_names.csv')\n",
    "# vocab = vocab[['latin_binomial_clean','common_name_clean']].rename(columns={'latin_binomial_clean': \"x\", 'common_name_clean': \"y\"})\n",
    "# vocab.info()"
   ]
  },
  {
   "cell_type": "code",
   "execution_count": 14,
   "id": "5cee38c8",
   "metadata": {},
   "outputs": [],
   "source": [
    "equivalence_set = pd.concat([latin_2_common, common_2_latin, gsrs_2_common], ignore_index=True)\n",
    "equivalence_set.drop_duplicates(subset=['x', 'y'], inplace=True)"
   ]
  },
  {
   "cell_type": "code",
   "execution_count": 15,
   "id": "aa19d271",
   "metadata": {},
   "outputs": [
    {
     "data": {
      "text/html": [
       "<div>\n",
       "<style scoped>\n",
       "    .dataframe tbody tr th:only-of-type {\n",
       "        vertical-align: middle;\n",
       "    }\n",
       "\n",
       "    .dataframe tbody tr th {\n",
       "        vertical-align: top;\n",
       "    }\n",
       "\n",
       "    .dataframe thead th {\n",
       "        text-align: right;\n",
       "    }\n",
       "</style>\n",
       "<table border=\"1\" class=\"dataframe\">\n",
       "  <thead>\n",
       "    <tr style=\"text-align: right;\">\n",
       "      <th></th>\n",
       "      <th>x</th>\n",
       "      <th>y</th>\n",
       "    </tr>\n",
       "  </thead>\n",
       "  <tbody>\n",
       "    <tr>\n",
       "      <th>2230</th>\n",
       "      <td>CRANBERRY</td>\n",
       "      <td>VACCINIUM MACROCARPON</td>\n",
       "    </tr>\n",
       "  </tbody>\n",
       "</table>\n",
       "</div>"
      ],
      "text/plain": [
       "              x                      y\n",
       "2230  CRANBERRY  VACCINIUM MACROCARPON"
      ]
     },
     "execution_count": 15,
     "metadata": {},
     "output_type": "execute_result"
    }
   ],
   "source": [
    "equivalence_set[equivalence_set[\"x\"] == \"CRANBERRY\"]"
   ]
  },
  {
   "cell_type": "markdown",
   "id": "4ba7cdd8",
   "metadata": {},
   "source": [
    "# Evaluating on test data - NP names only"
   ]
  },
  {
   "cell_type": "markdown",
   "id": "5fd04131",
   "metadata": {},
   "source": [
    "# Evaluation of drug name predictions\n",
    "----------------------------\n",
    "### Find ranks 1-5 from the predicted and fuzzy matches for the matching cases in the test data"
   ]
  },
  {
   "cell_type": "markdown",
   "id": "684b8088",
   "metadata": {},
   "source": [
    "# Create a sample from the test set to evaluate"
   ]
  },
  {
   "cell_type": "code",
   "execution_count": 16,
   "id": "21bba86e",
   "metadata": {},
   "outputs": [],
   "source": [
    "# positive_pairs = matches.sample(n=100)\n",
    "positive_pairs = test.loc[test[\"Match\"] == 1].sample(n=1000)"
   ]
  },
  {
   "cell_type": "code",
   "execution_count": 17,
   "id": "cfdbf207",
   "metadata": {},
   "outputs": [
    {
     "data": {
      "text/plain": [
       "1000"
      ]
     },
     "execution_count": 17,
     "metadata": {},
     "output_type": "execute_result"
    }
   ],
   "source": [
    "positive_pairs.index.size"
   ]
  },
  {
   "cell_type": "markdown",
   "id": "68af1b5a",
   "metadata": {},
   "source": [
    "--------------------------------------"
   ]
  },
  {
   "cell_type": "code",
   "execution_count": 18,
   "id": "8831ade1",
   "metadata": {},
   "outputs": [
    {
     "data": {
      "text/html": [
       "<div>\n",
       "<style scoped>\n",
       "    .dataframe tbody tr th:only-of-type {\n",
       "        vertical-align: middle;\n",
       "    }\n",
       "\n",
       "    .dataframe tbody tr th {\n",
       "        vertical-align: top;\n",
       "    }\n",
       "\n",
       "    .dataframe thead th {\n",
       "        text-align: right;\n",
       "    }\n",
       "</style>\n",
       "<table border=\"1\" class=\"dataframe\">\n",
       "  <thead>\n",
       "    <tr style=\"text-align: right;\">\n",
       "      <th></th>\n",
       "      <th>x</th>\n",
       "      <th>y</th>\n",
       "      <th>Processed_x</th>\n",
       "      <th>Processed_y</th>\n",
       "      <th>Match</th>\n",
       "      <th>Distance</th>\n",
       "    </tr>\n",
       "  </thead>\n",
       "  <tbody>\n",
       "    <tr>\n",
       "      <th>1609556</th>\n",
       "      <td>EQUQIZWSETMMB HTEY MALYEWOLE</td>\n",
       "      <td>EQUISETUM HYEMALE WHOLE</td>\n",
       "      <td>[5, 17, 21, 17, 9, 26, 23, 19, 5, 20, 13, 13, ...</td>\n",
       "      <td>[5, 17, 21, 9, 19, 5, 20, 21, 13, 27, 8, 25, 5...</td>\n",
       "      <td>1</td>\n",
       "      <td>0</td>\n",
       "    </tr>\n",
       "    <tr>\n",
       "      <th>1857812</th>\n",
       "      <td>HAILEAN JBIIS</td>\n",
       "      <td>ACHILLEA NOBILIS</td>\n",
       "      <td>[8, 1, 9, 12, 5, 1, 14, 27, 10, 2, 9, 9, 19, 0...</td>\n",
       "      <td>[1, 3, 8, 9, 12, 12, 5, 1, 27, 14, 15, 2, 9, 1...</td>\n",
       "      <td>1</td>\n",
       "      <td>0</td>\n",
       "    </tr>\n",
       "    <tr>\n",
       "      <th>2395435</th>\n",
       "      <td>AOLAQM ANGXIVN</td>\n",
       "      <td>SOLANUM ANGUIVI</td>\n",
       "      <td>[1, 15, 12, 1, 17, 13, 27, 1, 14, 7, 24, 9, 22...</td>\n",
       "      <td>[19, 15, 12, 1, 14, 21, 13, 27, 1, 14, 7, 21, ...</td>\n",
       "      <td>1</td>\n",
       "      <td>0</td>\n",
       "    </tr>\n",
       "    <tr>\n",
       "      <th>495052</th>\n",
       "      <td>NEOTEHAWVTHRN</td>\n",
       "      <td>ONESTYLE HAWTHORN</td>\n",
       "      <td>[14, 5, 15, 20, 5, 8, 1, 23, 22, 20, 8, 18, 14...</td>\n",
       "      <td>[15, 14, 5, 19, 20, 25, 12, 5, 27, 8, 1, 23, 2...</td>\n",
       "      <td>1</td>\n",
       "      <td>0</td>\n",
       "    </tr>\n",
       "    <tr>\n",
       "      <th>1223778</th>\n",
       "      <td>CVSVMMON YHQOGS JCHXESTVNUT</td>\n",
       "      <td>COMMON HORSE CHESTNUT</td>\n",
       "      <td>[3, 22, 19, 22, 13, 13, 15, 14, 27, 25, 8, 17,...</td>\n",
       "      <td>[3, 15, 13, 13, 15, 14, 27, 8, 15, 18, 19, 5, ...</td>\n",
       "      <td>1</td>\n",
       "      <td>0</td>\n",
       "    </tr>\n",
       "  </tbody>\n",
       "</table>\n",
       "</div>"
      ],
      "text/plain": [
       "                                    x                        y  \\\n",
       "1609556  EQUQIZWSETMMB HTEY MALYEWOLE  EQUISETUM HYEMALE WHOLE   \n",
       "1857812                 HAILEAN JBIIS         ACHILLEA NOBILIS   \n",
       "2395435                AOLAQM ANGXIVN          SOLANUM ANGUIVI   \n",
       "495052                  NEOTEHAWVTHRN        ONESTYLE HAWTHORN   \n",
       "1223778   CVSVMMON YHQOGS JCHXESTVNUT    COMMON HORSE CHESTNUT   \n",
       "\n",
       "                                               Processed_x  \\\n",
       "1609556  [5, 17, 21, 17, 9, 26, 23, 19, 5, 20, 13, 13, ...   \n",
       "1857812  [8, 1, 9, 12, 5, 1, 14, 27, 10, 2, 9, 9, 19, 0...   \n",
       "2395435  [1, 15, 12, 1, 17, 13, 27, 1, 14, 7, 24, 9, 22...   \n",
       "495052   [14, 5, 15, 20, 5, 8, 1, 23, 22, 20, 8, 18, 14...   \n",
       "1223778  [3, 22, 19, 22, 13, 13, 15, 14, 27, 25, 8, 17,...   \n",
       "\n",
       "                                               Processed_y  Match  Distance  \n",
       "1609556  [5, 17, 21, 9, 19, 5, 20, 21, 13, 27, 8, 25, 5...      1         0  \n",
       "1857812  [1, 3, 8, 9, 12, 12, 5, 1, 27, 14, 15, 2, 9, 1...      1         0  \n",
       "2395435  [19, 15, 12, 1, 14, 21, 13, 27, 1, 14, 7, 21, ...      1         0  \n",
       "495052   [15, 14, 5, 19, 20, 25, 12, 5, 27, 8, 1, 23, 2...      1         0  \n",
       "1223778  [3, 15, 13, 13, 15, 14, 27, 8, 15, 18, 19, 5, ...      1         0  "
      ]
     },
     "execution_count": 18,
     "metadata": {},
     "output_type": "execute_result"
    }
   ],
   "source": [
    "positive_pairs.head()"
   ]
  },
  {
   "cell_type": "markdown",
   "id": "305b3a0b",
   "metadata": {},
   "source": [
    "# Structure to contain the results"
   ]
  },
  {
   "cell_type": "code",
   "execution_count": 19,
   "id": "4ec14511",
   "metadata": {},
   "outputs": [],
   "source": [
    "results = pd.DataFrame(index = ['Exact', 'Equivalent'], columns =['Siamese model', 'Levenshtein','Gesalt'])"
   ]
  },
  {
   "cell_type": "markdown",
   "id": "ea208cb0",
   "metadata": {},
   "source": [
    "----------------------------------------------------"
   ]
  },
  {
   "cell_type": "markdown",
   "id": "4dde0323",
   "metadata": {},
   "source": [
    "# Predicted Match MRR Evaluation"
   ]
  },
  {
   "cell_type": "code",
   "execution_count": 20,
   "id": "8a7fa8a0",
   "metadata": {},
   "outputs": [
    {
     "name": "stderr",
     "output_type": "stream",
     "text": [
      "2022-10-21 13:07:36.863401: W tensorflow/compiler/jit/mark_for_compilation_pass.cc:1750] (One-time warning): Not using XLA:CPU for cluster.\n",
      "\n",
      "If you want XLA:CPU, do one of the following:\n",
      "\n",
      " - set the TF_XLA_FLAGS to include \"--tf_xla_cpu_global_jit\", or\n",
      " - set cpu_global_jit to true on this session's OptimizerOptions, or\n",
      " - use experimental_jit_scope, or\n",
      " - use tf.function(jit_compile=True).\n",
      "\n",
      "To confirm that XLA is active, pass --vmodule=xla_compilation_cache=1 (as a\n",
      "proper command-line flag, not via TF_XLA_FLAGS).\n",
      "2022-10-21 13:07:39.636943: I tensorflow/compiler/xla/service/service.cc:170] XLA service 0x7f79dc004730 initialized for platform CUDA (this does not guarantee that XLA will be used). Devices:\n",
      "2022-10-21 13:07:39.636963: I tensorflow/compiler/xla/service/service.cc:178]   StreamExecutor device (0): NVIDIA GeForce RTX 2070 with Max-Q Design, Compute Capability 7.5\n",
      "2022-10-21 13:07:39.640209: I tensorflow/compiler/mlir/tensorflow/utils/dump_mlir_util.cc:263] disabling MLIR crash reproducer, set env var `MLIR_CRASH_REPRODUCER_DIRECTORY` to enable.\n",
      "2022-10-21 13:07:39.690725: I tensorflow/core/platform/default/subprocess.cc:304] Start cannot spawn child process: No such file or directory\n",
      "2022-10-21 13:07:39.732053: I tensorflow/compiler/jit/xla_compilation_cache.cc:478] Compiled cluster using XLA!  This line is logged at most once for the lifetime of the process.\n",
      "2022-10-21 13:07:40.501839: I tensorflow/stream_executor/cuda/cuda_dnn.cc:384] Loaded cuDNN version 8401\n"
     ]
    }
   ],
   "source": [
    "Predicted = find_Model_ranks(model, df=positive_pairs, targets = dUnique_df, equivalence_set = equivalence_set, ranks=20, find_related_rank=True, report_distances=True)"
   ]
  },
  {
   "cell_type": "code",
   "execution_count": 21,
   "id": "674f1a85",
   "metadata": {},
   "outputs": [
    {
     "data": {
      "text/html": [
       "<div>\n",
       "<style scoped>\n",
       "    .dataframe tbody tr th:only-of-type {\n",
       "        vertical-align: middle;\n",
       "    }\n",
       "\n",
       "    .dataframe tbody tr th {\n",
       "        vertical-align: top;\n",
       "    }\n",
       "\n",
       "    .dataframe thead th {\n",
       "        text-align: right;\n",
       "    }\n",
       "</style>\n",
       "<table border=\"1\" class=\"dataframe\">\n",
       "  <thead>\n",
       "    <tr style=\"text-align: right;\">\n",
       "      <th></th>\n",
       "      <th>x</th>\n",
       "      <th>y</th>\n",
       "      <th>Processed_x</th>\n",
       "      <th>Processed_y</th>\n",
       "      <th>Match</th>\n",
       "      <th>Distance</th>\n",
       "      <th>rank1</th>\n",
       "      <th>rank2</th>\n",
       "      <th>rank3</th>\n",
       "      <th>rank4</th>\n",
       "      <th>...</th>\n",
       "      <th>rank13_distance</th>\n",
       "      <th>rank14_distance</th>\n",
       "      <th>rank15_distance</th>\n",
       "      <th>rank16_distance</th>\n",
       "      <th>rank17_distance</th>\n",
       "      <th>rank18_distance</th>\n",
       "      <th>rank19_distance</th>\n",
       "      <th>rank20_distance</th>\n",
       "      <th>exact_rank</th>\n",
       "      <th>equivalent_rank</th>\n",
       "    </tr>\n",
       "  </thead>\n",
       "  <tbody>\n",
       "    <tr>\n",
       "      <th>1231261</th>\n",
       "      <td>LEOMNRUS CDRDCA</td>\n",
       "      <td>COMMON MOTHERWORT</td>\n",
       "      <td>[12, 5, 15, 13, 14, 18, 21, 19, 27, 3, 4, 18, ...</td>\n",
       "      <td>[3, 15, 13, 13, 15, 14, 27, 13, 15, 20, 8, 5, ...</td>\n",
       "      <td>1</td>\n",
       "      <td>0</td>\n",
       "      <td>LEONURUS CARDIACA</td>\n",
       "      <td>COMMON MOTHERWORT</td>\n",
       "      <td>MOTHERWORT</td>\n",
       "      <td>QUERCUS MARILANDICA</td>\n",
       "      <td>...</td>\n",
       "      <td>0.088994</td>\n",
       "      <td>0.104817</td>\n",
       "      <td>0.138613</td>\n",
       "      <td>0.139196</td>\n",
       "      <td>0.149018</td>\n",
       "      <td>0.153070</td>\n",
       "      <td>0.158900</td>\n",
       "      <td>0.162444</td>\n",
       "      <td>2.0</td>\n",
       "      <td>1.0</td>\n",
       "    </tr>\n",
       "    <tr>\n",
       "      <th>767142</th>\n",
       "      <td>QITSAQIALJ DENHRSCNAUZ</td>\n",
       "      <td>LENTISCUS</td>\n",
       "      <td>[17, 9, 20, 19, 1, 17, 9, 1, 12, 10, 27, 4, 5,...</td>\n",
       "      <td>[12, 5, 14, 20, 9, 19, 3, 21, 19, 0, 0, 0, 0, ...</td>\n",
       "      <td>1</td>\n",
       "      <td>0</td>\n",
       "      <td>ASHWAGANDHA</td>\n",
       "      <td>SATINWALNUT</td>\n",
       "      <td>PISTACIA LENTISCUS</td>\n",
       "      <td>ALLIGATORWOOD</td>\n",
       "      <td>...</td>\n",
       "      <td>0.012582</td>\n",
       "      <td>0.014250</td>\n",
       "      <td>0.014405</td>\n",
       "      <td>0.014570</td>\n",
       "      <td>0.015651</td>\n",
       "      <td>0.019042</td>\n",
       "      <td>0.019312</td>\n",
       "      <td>0.025498</td>\n",
       "      <td>10.0</td>\n",
       "      <td>3.0</td>\n",
       "    </tr>\n",
       "    <tr>\n",
       "      <th>1763981</th>\n",
       "      <td>FJTCRYORIZC AINAVNAA</td>\n",
       "      <td>DACTYLORHIZA INCARNATA</td>\n",
       "      <td>[6, 10, 20, 3, 18, 25, 15, 18, 9, 26, 3, 27, 1...</td>\n",
       "      <td>[4, 1, 3, 20, 25, 12, 15, 18, 8, 9, 26, 1, 27,...</td>\n",
       "      <td>1</td>\n",
       "      <td>0</td>\n",
       "      <td>MOMORDICA CHARANTIA</td>\n",
       "      <td>DACTYLORHIZA INCARNATA</td>\n",
       "      <td>QUERCUS INCANA</td>\n",
       "      <td>SUO CAO</td>\n",
       "      <td>...</td>\n",
       "      <td>0.044442</td>\n",
       "      <td>0.069134</td>\n",
       "      <td>0.070649</td>\n",
       "      <td>0.081339</td>\n",
       "      <td>0.085279</td>\n",
       "      <td>0.098792</td>\n",
       "      <td>0.107313</td>\n",
       "      <td>0.109830</td>\n",
       "      <td>2.0</td>\n",
       "      <td>2.0</td>\n",
       "    </tr>\n",
       "    <tr>\n",
       "      <th>1388486</th>\n",
       "      <td>OICEUS</td>\n",
       "      <td>COLEUS CRASSIFOLIUS WHOLE</td>\n",
       "      <td>[15, 9, 3, 5, 21, 19, 0, 0, 0, 0, 0, 0, 0, 0, ...</td>\n",
       "      <td>[3, 15, 12, 5, 21, 19, 27, 3, 18, 1, 19, 19, 9...</td>\n",
       "      <td>1</td>\n",
       "      <td>0</td>\n",
       "      <td>COLEUS</td>\n",
       "      <td>COCKLEBUR</td>\n",
       "      <td>PLECTRANTHUS AMBOINICUS WHOLE</td>\n",
       "      <td>VICKS PLANT WHOLE</td>\n",
       "      <td>...</td>\n",
       "      <td>0.000679</td>\n",
       "      <td>0.000710</td>\n",
       "      <td>0.000797</td>\n",
       "      <td>0.000879</td>\n",
       "      <td>0.000984</td>\n",
       "      <td>0.001084</td>\n",
       "      <td>0.001127</td>\n",
       "      <td>0.001231</td>\n",
       "      <td>inf</td>\n",
       "      <td>1.0</td>\n",
       "    </tr>\n",
       "    <tr>\n",
       "      <th>1809620</th>\n",
       "      <td>FVITSDX OINNBA</td>\n",
       "      <td>VITEX DONIANA</td>\n",
       "      <td>[6, 22, 9, 20, 19, 4, 24, 27, 15, 9, 14, 14, 2...</td>\n",
       "      <td>[22, 9, 20, 5, 24, 27, 4, 15, 14, 9, 1, 14, 1,...</td>\n",
       "      <td>1</td>\n",
       "      <td>0</td>\n",
       "      <td>HAMAMELIS VIRGINIANA</td>\n",
       "      <td>SPOTTED ALDER</td>\n",
       "      <td>WINTER BLOOM</td>\n",
       "      <td>BITTER MELON</td>\n",
       "      <td>...</td>\n",
       "      <td>0.006866</td>\n",
       "      <td>0.006875</td>\n",
       "      <td>0.011603</td>\n",
       "      <td>0.013532</td>\n",
       "      <td>0.013896</td>\n",
       "      <td>0.014718</td>\n",
       "      <td>0.018064</td>\n",
       "      <td>0.018211</td>\n",
       "      <td>9.0</td>\n",
       "      <td>9.0</td>\n",
       "    </tr>\n",
       "  </tbody>\n",
       "</table>\n",
       "<p>5 rows × 48 columns</p>\n",
       "</div>"
      ],
      "text/plain": [
       "                              x                          y  \\\n",
       "1231261         LEOMNRUS CDRDCA          COMMON MOTHERWORT   \n",
       "767142   QITSAQIALJ DENHRSCNAUZ                  LENTISCUS   \n",
       "1763981    FJTCRYORIZC AINAVNAA     DACTYLORHIZA INCARNATA   \n",
       "1388486                  OICEUS  COLEUS CRASSIFOLIUS WHOLE   \n",
       "1809620          FVITSDX OINNBA              VITEX DONIANA   \n",
       "\n",
       "                                               Processed_x  \\\n",
       "1231261  [12, 5, 15, 13, 14, 18, 21, 19, 27, 3, 4, 18, ...   \n",
       "767142   [17, 9, 20, 19, 1, 17, 9, 1, 12, 10, 27, 4, 5,...   \n",
       "1763981  [6, 10, 20, 3, 18, 25, 15, 18, 9, 26, 3, 27, 1...   \n",
       "1388486  [15, 9, 3, 5, 21, 19, 0, 0, 0, 0, 0, 0, 0, 0, ...   \n",
       "1809620  [6, 22, 9, 20, 19, 4, 24, 27, 15, 9, 14, 14, 2...   \n",
       "\n",
       "                                               Processed_y  Match  Distance  \\\n",
       "1231261  [3, 15, 13, 13, 15, 14, 27, 13, 15, 20, 8, 5, ...      1         0   \n",
       "767142   [12, 5, 14, 20, 9, 19, 3, 21, 19, 0, 0, 0, 0, ...      1         0   \n",
       "1763981  [4, 1, 3, 20, 25, 12, 15, 18, 8, 9, 26, 1, 27,...      1         0   \n",
       "1388486  [3, 15, 12, 5, 21, 19, 27, 3, 18, 1, 19, 19, 9...      1         0   \n",
       "1809620  [22, 9, 20, 5, 24, 27, 4, 15, 14, 9, 1, 14, 1,...      1         0   \n",
       "\n",
       "                        rank1                   rank2  \\\n",
       "1231261     LEONURUS CARDIACA       COMMON MOTHERWORT   \n",
       "767142            ASHWAGANDHA             SATINWALNUT   \n",
       "1763981   MOMORDICA CHARANTIA  DACTYLORHIZA INCARNATA   \n",
       "1388486                COLEUS               COCKLEBUR   \n",
       "1809620  HAMAMELIS VIRGINIANA           SPOTTED ALDER   \n",
       "\n",
       "                                 rank3                rank4  ...  \\\n",
       "1231261                     MOTHERWORT  QUERCUS MARILANDICA  ...   \n",
       "767142              PISTACIA LENTISCUS        ALLIGATORWOOD  ...   \n",
       "1763981                 QUERCUS INCANA              SUO CAO  ...   \n",
       "1388486  PLECTRANTHUS AMBOINICUS WHOLE    VICKS PLANT WHOLE  ...   \n",
       "1809620                   WINTER BLOOM         BITTER MELON  ...   \n",
       "\n",
       "        rank13_distance rank14_distance rank15_distance rank16_distance  \\\n",
       "1231261        0.088994        0.104817        0.138613        0.139196   \n",
       "767142         0.012582        0.014250        0.014405        0.014570   \n",
       "1763981        0.044442        0.069134        0.070649        0.081339   \n",
       "1388486        0.000679        0.000710        0.000797        0.000879   \n",
       "1809620        0.006866        0.006875        0.011603        0.013532   \n",
       "\n",
       "        rank17_distance rank18_distance rank19_distance rank20_distance  \\\n",
       "1231261        0.149018        0.153070        0.158900        0.162444   \n",
       "767142         0.015651        0.019042        0.019312        0.025498   \n",
       "1763981        0.085279        0.098792        0.107313        0.109830   \n",
       "1388486        0.000984        0.001084        0.001127        0.001231   \n",
       "1809620        0.013896        0.014718        0.018064        0.018211   \n",
       "\n",
       "        exact_rank equivalent_rank  \n",
       "1231261        2.0             1.0  \n",
       "767142        10.0             3.0  \n",
       "1763981        2.0             2.0  \n",
       "1388486        inf             1.0  \n",
       "1809620        9.0             9.0  \n",
       "\n",
       "[5 rows x 48 columns]"
      ]
     },
     "execution_count": 21,
     "metadata": {},
     "output_type": "execute_result"
    }
   ],
   "source": [
    "Predicted.sample(n=5)"
   ]
  },
  {
   "cell_type": "code",
   "execution_count": 22,
   "id": "6991befc",
   "metadata": {},
   "outputs": [
    {
     "data": {
      "text/html": [
       "<div>\n",
       "<style scoped>\n",
       "    .dataframe tbody tr th:only-of-type {\n",
       "        vertical-align: middle;\n",
       "    }\n",
       "\n",
       "    .dataframe tbody tr th {\n",
       "        vertical-align: top;\n",
       "    }\n",
       "\n",
       "    .dataframe thead th {\n",
       "        text-align: right;\n",
       "    }\n",
       "</style>\n",
       "<table border=\"1\" class=\"dataframe\">\n",
       "  <thead>\n",
       "    <tr style=\"text-align: right;\">\n",
       "      <th></th>\n",
       "      <th>exact_reciprocal_rank</th>\n",
       "      <th>equivalent_reciprocal_rank</th>\n",
       "    </tr>\n",
       "  </thead>\n",
       "  <tbody>\n",
       "    <tr>\n",
       "      <th>count</th>\n",
       "      <td>1000.000000</td>\n",
       "      <td>1000.000000</td>\n",
       "    </tr>\n",
       "    <tr>\n",
       "      <th>mean</th>\n",
       "      <td>0.421681</td>\n",
       "      <td>0.672271</td>\n",
       "    </tr>\n",
       "    <tr>\n",
       "      <th>std</th>\n",
       "      <td>0.414893</td>\n",
       "      <td>0.408108</td>\n",
       "    </tr>\n",
       "    <tr>\n",
       "      <th>min</th>\n",
       "      <td>0.000000</td>\n",
       "      <td>0.000000</td>\n",
       "    </tr>\n",
       "    <tr>\n",
       "      <th>25%</th>\n",
       "      <td>0.058824</td>\n",
       "      <td>0.250000</td>\n",
       "    </tr>\n",
       "    <tr>\n",
       "      <th>50%</th>\n",
       "      <td>0.250000</td>\n",
       "      <td>1.000000</td>\n",
       "    </tr>\n",
       "    <tr>\n",
       "      <th>75%</th>\n",
       "      <td>1.000000</td>\n",
       "      <td>1.000000</td>\n",
       "    </tr>\n",
       "    <tr>\n",
       "      <th>max</th>\n",
       "      <td>1.000000</td>\n",
       "      <td>1.000000</td>\n",
       "    </tr>\n",
       "  </tbody>\n",
       "</table>\n",
       "</div>"
      ],
      "text/plain": [
       "       exact_reciprocal_rank  equivalent_reciprocal_rank\n",
       "count            1000.000000                 1000.000000\n",
       "mean                0.421681                    0.672271\n",
       "std                 0.414893                    0.408108\n",
       "min                 0.000000                    0.000000\n",
       "25%                 0.058824                    0.250000\n",
       "50%                 0.250000                    1.000000\n",
       "75%                 1.000000                    1.000000\n",
       "max                 1.000000                    1.000000"
      ]
     },
     "execution_count": 22,
     "metadata": {},
     "output_type": "execute_result"
    }
   ],
   "source": [
    "Models_mrr = Predicted.loc[:,['x', 'exact_rank', 'equivalent_rank']]\n",
    "Models_mrr.loc[:,'exact_reciprocal_rank'] = 1/Models_mrr.loc[:, 'exact_rank']\n",
    "Models_mrr.loc[:,'equivalent_reciprocal_rank'] = 1/Models_mrr.loc[:, 'equivalent_rank']\n",
    "Models_mrr[['exact_reciprocal_rank', 'equivalent_reciprocal_rank']].describe()"
   ]
  },
  {
   "cell_type": "code",
   "execution_count": 23,
   "id": "babb2c7d",
   "metadata": {},
   "outputs": [],
   "source": [
    "#get median and stdev\n",
    "# Models_mrr['exact_rank'].median(), Models_mrr['exact_rank'].std()"
   ]
  },
  {
   "cell_type": "code",
   "execution_count": 24,
   "id": "00fee30d",
   "metadata": {},
   "outputs": [],
   "source": [
    "#get median and stdev\n",
    "# Models_mrr['equivalent_rank'].median(), Models_mrr['equivalent_rank'].std()"
   ]
  },
  {
   "cell_type": "code",
   "execution_count": 25,
   "id": "c00accdc",
   "metadata": {},
   "outputs": [],
   "source": [
    "# results.loc['Exact', 'Siamese model'] = 1/Models_mrr.index.size * Models_mrr['exact_reciprocal_rank'].sum()"
   ]
  },
  {
   "cell_type": "code",
   "execution_count": 26,
   "id": "735ba93d",
   "metadata": {},
   "outputs": [],
   "source": [
    "# results.loc['Equivalent', 'Siamese model'] = 1/Models_mrr.index.size * Models_mrr['equivalent_reciprocal_rank'].sum()"
   ]
  },
  {
   "cell_type": "code",
   "execution_count": 27,
   "id": "85a41b27",
   "metadata": {},
   "outputs": [],
   "source": [
    "results.loc['Exact', 'Siamese model'] = Models_mrr[['exact_reciprocal_rank', 'equivalent_reciprocal_rank']].describe().loc[\"mean\"][0]"
   ]
  },
  {
   "cell_type": "code",
   "execution_count": 28,
   "id": "0d726708",
   "metadata": {},
   "outputs": [],
   "source": [
    "results.loc['Exact_std', 'Siamese model'] = Models_mrr[['exact_reciprocal_rank', 'equivalent_reciprocal_rank']].describe().loc[\"std\"][0]"
   ]
  },
  {
   "cell_type": "code",
   "execution_count": 29,
   "id": "ca83b54d",
   "metadata": {},
   "outputs": [],
   "source": [
    "results.loc['Equivalent', 'Siamese model'] = Models_mrr[['exact_reciprocal_rank', 'equivalent_reciprocal_rank']].describe().loc[\"mean\"][1]"
   ]
  },
  {
   "cell_type": "code",
   "execution_count": 30,
   "id": "3b4037e9",
   "metadata": {},
   "outputs": [],
   "source": [
    "results.loc['Equivalent_std', 'Siamese model'] = Models_mrr[['exact_reciprocal_rank', 'equivalent_reciprocal_rank']].describe().loc[\"std\"][1]"
   ]
  },
  {
   "cell_type": "code",
   "execution_count": 31,
   "id": "baee6451",
   "metadata": {},
   "outputs": [
    {
     "data": {
      "text/html": [
       "<div>\n",
       "<style scoped>\n",
       "    .dataframe tbody tr th:only-of-type {\n",
       "        vertical-align: middle;\n",
       "    }\n",
       "\n",
       "    .dataframe tbody tr th {\n",
       "        vertical-align: top;\n",
       "    }\n",
       "\n",
       "    .dataframe thead th {\n",
       "        text-align: right;\n",
       "    }\n",
       "</style>\n",
       "<table border=\"1\" class=\"dataframe\">\n",
       "  <thead>\n",
       "    <tr style=\"text-align: right;\">\n",
       "      <th></th>\n",
       "      <th>Siamese model</th>\n",
       "      <th>Levenshtein</th>\n",
       "      <th>Gesalt</th>\n",
       "    </tr>\n",
       "  </thead>\n",
       "  <tbody>\n",
       "    <tr>\n",
       "      <th>Exact</th>\n",
       "      <td>0.421681</td>\n",
       "      <td>NaN</td>\n",
       "      <td>NaN</td>\n",
       "    </tr>\n",
       "    <tr>\n",
       "      <th>Equivalent</th>\n",
       "      <td>0.672271</td>\n",
       "      <td>NaN</td>\n",
       "      <td>NaN</td>\n",
       "    </tr>\n",
       "    <tr>\n",
       "      <th>Exact_std</th>\n",
       "      <td>0.414893</td>\n",
       "      <td>NaN</td>\n",
       "      <td>NaN</td>\n",
       "    </tr>\n",
       "    <tr>\n",
       "      <th>Equivalent_std</th>\n",
       "      <td>0.408108</td>\n",
       "      <td>NaN</td>\n",
       "      <td>NaN</td>\n",
       "    </tr>\n",
       "  </tbody>\n",
       "</table>\n",
       "</div>"
      ],
      "text/plain": [
       "               Siamese model Levenshtein Gesalt\n",
       "Exact               0.421681         NaN    NaN\n",
       "Equivalent          0.672271         NaN    NaN\n",
       "Exact_std           0.414893         NaN    NaN\n",
       "Equivalent_std      0.408108         NaN    NaN"
      ]
     },
     "execution_count": 31,
     "metadata": {},
     "output_type": "execute_result"
    }
   ],
   "source": [
    "results"
   ]
  },
  {
   "cell_type": "markdown",
   "id": "562db835",
   "metadata": {},
   "source": [
    "--------------------------------------"
   ]
  },
  {
   "cell_type": "markdown",
   "id": "75bbde8a",
   "metadata": {},
   "source": [
    "# Comparison with fuzzy string match"
   ]
  },
  {
   "cell_type": "markdown",
   "id": "77b00f22",
   "metadata": {},
   "source": [
    "# Fuzzy Levenshtein Match MRR Evaluation"
   ]
  },
  {
   "cell_type": "code",
   "execution_count": 32,
   "id": "d4b7614f",
   "metadata": {},
   "outputs": [],
   "source": [
    "Levenshtein = find_Levenshtein_ranks(positive_pairs, targets = dUnique_df, equivalence_set = equivalence_set, ranks=20, find_related_rank=True, report_distances=True)"
   ]
  },
  {
   "cell_type": "code",
   "execution_count": 33,
   "id": "b1551d0d",
   "metadata": {},
   "outputs": [
    {
     "data": {
      "text/html": [
       "<div>\n",
       "<style scoped>\n",
       "    .dataframe tbody tr th:only-of-type {\n",
       "        vertical-align: middle;\n",
       "    }\n",
       "\n",
       "    .dataframe tbody tr th {\n",
       "        vertical-align: top;\n",
       "    }\n",
       "\n",
       "    .dataframe thead th {\n",
       "        text-align: right;\n",
       "    }\n",
       "</style>\n",
       "<table border=\"1\" class=\"dataframe\">\n",
       "  <thead>\n",
       "    <tr style=\"text-align: right;\">\n",
       "      <th></th>\n",
       "      <th>x</th>\n",
       "      <th>y</th>\n",
       "      <th>Processed_x</th>\n",
       "      <th>Processed_y</th>\n",
       "      <th>Match</th>\n",
       "      <th>Distance</th>\n",
       "      <th>rank1</th>\n",
       "      <th>rank2</th>\n",
       "      <th>rank3</th>\n",
       "      <th>rank4</th>\n",
       "      <th>...</th>\n",
       "      <th>rank13_distance</th>\n",
       "      <th>rank14_distance</th>\n",
       "      <th>rank15_distance</th>\n",
       "      <th>rank16_distance</th>\n",
       "      <th>rank17_distance</th>\n",
       "      <th>rank18_distance</th>\n",
       "      <th>rank19_distance</th>\n",
       "      <th>rank20_distance</th>\n",
       "      <th>exact_rank</th>\n",
       "      <th>equivalent_rank</th>\n",
       "    </tr>\n",
       "  </thead>\n",
       "  <tbody>\n",
       "    <tr>\n",
       "      <th>1706279</th>\n",
       "      <td>WDCYMOKPG NSCHOENQABN</td>\n",
       "      <td>CYMBOPOGON SCHOENANTHUS</td>\n",
       "      <td>[23, 4, 3, 25, 13, 15, 11, 16, 7, 27, 14, 19, ...</td>\n",
       "      <td>[3, 25, 13, 2, 15, 16, 15, 7, 15, 14, 27, 19, ...</td>\n",
       "      <td>1</td>\n",
       "      <td>0</td>\n",
       "      <td>CYMBOPOGON SCHOENANTHUS</td>\n",
       "      <td>ATRACTYLODES MACROCEPHALA</td>\n",
       "      <td>VACCINIUM MACROCARPON</td>\n",
       "      <td>BLACKSAMPSON ECHINACEA</td>\n",
       "      <td>...</td>\n",
       "      <td>0.793103</td>\n",
       "      <td>0.800000</td>\n",
       "      <td>0.800000</td>\n",
       "      <td>0.800000</td>\n",
       "      <td>0.800000</td>\n",
       "      <td>0.800000</td>\n",
       "      <td>0.800000</td>\n",
       "      <td>0.809524</td>\n",
       "      <td>1.0</td>\n",
       "      <td>1.0</td>\n",
       "    </tr>\n",
       "    <tr>\n",
       "      <th>1791669</th>\n",
       "      <td>DESDPSUI LMUTCGNUS</td>\n",
       "      <td>DESMODIUM GLUTINOSUM</td>\n",
       "      <td>[4, 5, 19, 4, 16, 19, 21, 9, 27, 12, 13, 21, 2...</td>\n",
       "      <td>[4, 5, 19, 13, 15, 4, 9, 21, 13, 27, 7, 12, 21...</td>\n",
       "      <td>1</td>\n",
       "      <td>0</td>\n",
       "      <td>DESMODIUM GLUTINOSUM</td>\n",
       "      <td>LYCOPUS AMERICANUS</td>\n",
       "      <td>CHRYSOJASMINUM FRUTICANS</td>\n",
       "      <td>PISTACIA LENTISCUS</td>\n",
       "      <td>...</td>\n",
       "      <td>0.722222</td>\n",
       "      <td>0.727273</td>\n",
       "      <td>0.727273</td>\n",
       "      <td>0.727273</td>\n",
       "      <td>0.730769</td>\n",
       "      <td>0.736842</td>\n",
       "      <td>0.736842</td>\n",
       "      <td>0.736842</td>\n",
       "      <td>1.0</td>\n",
       "      <td>1.0</td>\n",
       "    </tr>\n",
       "    <tr>\n",
       "      <th>609303</th>\n",
       "      <td>RED AMCICOON</td>\n",
       "      <td>RED PUCCOON</td>\n",
       "      <td>[18, 5, 4, 27, 1, 13, 3, 9, 3, 15, 15, 14, 0, ...</td>\n",
       "      <td>[18, 5, 4, 27, 16, 21, 3, 3, 15, 15, 14, 0, 0,...</td>\n",
       "      <td>1</td>\n",
       "      <td>0</td>\n",
       "      <td>RED PUCCOON</td>\n",
       "      <td>YELLOWPUCCOON</td>\n",
       "      <td>MAMMEA AMERICANA</td>\n",
       "      <td>TRAMETES VERSICOLOR</td>\n",
       "      <td>...</td>\n",
       "      <td>0.666667</td>\n",
       "      <td>0.666667</td>\n",
       "      <td>0.666667</td>\n",
       "      <td>0.666667</td>\n",
       "      <td>0.666667</td>\n",
       "      <td>0.666667</td>\n",
       "      <td>0.681818</td>\n",
       "      <td>0.684211</td>\n",
       "      <td>1.0</td>\n",
       "      <td>1.0</td>\n",
       "    </tr>\n",
       "    <tr>\n",
       "      <th>2306063</th>\n",
       "      <td>PIOJU SEALUUTRI</td>\n",
       "      <td>PINUS PALUSTRIS</td>\n",
       "      <td>[16, 9, 15, 10, 21, 27, 19, 5, 1, 12, 21, 21, ...</td>\n",
       "      <td>[16, 9, 14, 21, 19, 27, 16, 1, 12, 21, 19, 20,...</td>\n",
       "      <td>1</td>\n",
       "      <td>0</td>\n",
       "      <td>PINUS PALUSTRIS</td>\n",
       "      <td>PINUS SYLVESTRIS</td>\n",
       "      <td>TRIBULUS TERRESTRIS</td>\n",
       "      <td>PISTIA STRATIOTES</td>\n",
       "      <td>...</td>\n",
       "      <td>0.700000</td>\n",
       "      <td>0.700000</td>\n",
       "      <td>0.703704</td>\n",
       "      <td>0.705882</td>\n",
       "      <td>0.705882</td>\n",
       "      <td>0.705882</td>\n",
       "      <td>0.705882</td>\n",
       "      <td>0.705882</td>\n",
       "      <td>1.0</td>\n",
       "      <td>1.0</td>\n",
       "    </tr>\n",
       "    <tr>\n",
       "      <th>607856</th>\n",
       "      <td>EKHYMUSDBVUNLAGIRS</td>\n",
       "      <td>ENGLISH THYME</td>\n",
       "      <td>[5, 11, 8, 25, 13, 21, 19, 4, 2, 22, 21, 14, 1...</td>\n",
       "      <td>[5, 14, 7, 12, 9, 19, 8, 27, 20, 8, 25, 13, 5,...</td>\n",
       "      <td>1</td>\n",
       "      <td>0</td>\n",
       "      <td>THYMUS VULGARIS</td>\n",
       "      <td>SCOLYMUS HISPANICUS</td>\n",
       "      <td>ANTHYLLIS VULNERARIA</td>\n",
       "      <td>BERBERIS VULGARIS</td>\n",
       "      <td>...</td>\n",
       "      <td>0.750000</td>\n",
       "      <td>0.750000</td>\n",
       "      <td>0.761905</td>\n",
       "      <td>0.761905</td>\n",
       "      <td>0.761905</td>\n",
       "      <td>0.764706</td>\n",
       "      <td>0.764706</td>\n",
       "      <td>0.764706</td>\n",
       "      <td>inf</td>\n",
       "      <td>1.0</td>\n",
       "    </tr>\n",
       "    <tr>\n",
       "      <th>2328141</th>\n",
       "      <td>AD HU LAONGYY CAO</td>\n",
       "      <td>AGRIMONIA EUPATORIA</td>\n",
       "      <td>[1, 4, 27, 8, 21, 27, 12, 1, 15, 14, 7, 25, 25...</td>\n",
       "      <td>[1, 7, 18, 9, 13, 15, 14, 9, 1, 27, 5, 21, 16,...</td>\n",
       "      <td>1</td>\n",
       "      <td>0</td>\n",
       "      <td>DA HUA LONG YA CAO</td>\n",
       "      <td>XUAN GUO WEN ZI CAO</td>\n",
       "      <td>GUANG GUO GAN CAO</td>\n",
       "      <td>SAMBUCUS LACINIATA WHOLE</td>\n",
       "      <td>...</td>\n",
       "      <td>0.714286</td>\n",
       "      <td>0.714286</td>\n",
       "      <td>0.724138</td>\n",
       "      <td>0.727273</td>\n",
       "      <td>0.727273</td>\n",
       "      <td>0.727273</td>\n",
       "      <td>0.727273</td>\n",
       "      <td>0.727273</td>\n",
       "      <td>inf</td>\n",
       "      <td>1.0</td>\n",
       "    </tr>\n",
       "    <tr>\n",
       "      <th>2217926</th>\n",
       "      <td>RHUPM GBPATUM</td>\n",
       "      <td>RHEUM PALMATUM</td>\n",
       "      <td>[18, 8, 21, 16, 13, 27, 7, 2, 16, 1, 20, 21, 1...</td>\n",
       "      <td>[18, 8, 5, 21, 13, 27, 16, 1, 12, 13, 1, 20, 2...</td>\n",
       "      <td>1</td>\n",
       "      <td>0</td>\n",
       "      <td>RHEUM PALMATUM</td>\n",
       "      <td>RHEUM ACUMINATUM</td>\n",
       "      <td>RHUS COPALLINUM</td>\n",
       "      <td>ORIGANUM COMPACTUM</td>\n",
       "      <td>...</td>\n",
       "      <td>0.625000</td>\n",
       "      <td>0.625000</td>\n",
       "      <td>0.631579</td>\n",
       "      <td>0.631579</td>\n",
       "      <td>0.647059</td>\n",
       "      <td>0.647059</td>\n",
       "      <td>0.647059</td>\n",
       "      <td>0.647059</td>\n",
       "      <td>1.0</td>\n",
       "      <td>1.0</td>\n",
       "    </tr>\n",
       "    <tr>\n",
       "      <th>1821260</th>\n",
       "      <td>QJATCOSTAPHYSO NEFVDAJENIS</td>\n",
       "      <td>ARCTOSTAPHYLOS NEVADENSIS</td>\n",
       "      <td>[17, 10, 1, 20, 3, 15, 19, 20, 1, 16, 8, 25, 1...</td>\n",
       "      <td>[1, 18, 3, 20, 15, 19, 20, 1, 16, 8, 25, 12, 1...</td>\n",
       "      <td>1</td>\n",
       "      <td>0</td>\n",
       "      <td>ARCTOSTAPHYLOS NEVADENSIS</td>\n",
       "      <td>BOLBOSCHOENUS FLUVIATILIS</td>\n",
       "      <td>AFROHYBANTHUS ENNEASPERMUS</td>\n",
       "      <td>PSEUDOGNAPHALIUM STRAMINEUM</td>\n",
       "      <td>...</td>\n",
       "      <td>0.823529</td>\n",
       "      <td>0.826087</td>\n",
       "      <td>0.828571</td>\n",
       "      <td>0.833333</td>\n",
       "      <td>0.833333</td>\n",
       "      <td>0.840000</td>\n",
       "      <td>0.840000</td>\n",
       "      <td>0.840000</td>\n",
       "      <td>1.0</td>\n",
       "      <td>1.0</td>\n",
       "    </tr>\n",
       "    <tr>\n",
       "      <th>1151107</th>\n",
       "      <td>MORELA RYRAC</td>\n",
       "      <td>CANDLEBERRY</td>\n",
       "      <td>[13, 15, 18, 5, 12, 1, 27, 18, 25, 18, 1, 3, 0...</td>\n",
       "      <td>[3, 1, 14, 4, 12, 5, 2, 5, 18, 18, 25, 0, 0, 0...</td>\n",
       "      <td>1</td>\n",
       "      <td>0</td>\n",
       "      <td>MORELLA CERIFERA</td>\n",
       "      <td>MORUS RUBRA</td>\n",
       "      <td>BOSWELFIA SERRATA</td>\n",
       "      <td>ORIGANUM SYRIACUM</td>\n",
       "      <td>...</td>\n",
       "      <td>0.615385</td>\n",
       "      <td>0.625000</td>\n",
       "      <td>0.625000</td>\n",
       "      <td>0.625000</td>\n",
       "      <td>0.631579</td>\n",
       "      <td>0.631579</td>\n",
       "      <td>0.642857</td>\n",
       "      <td>0.642857</td>\n",
       "      <td>inf</td>\n",
       "      <td>1.0</td>\n",
       "    </tr>\n",
       "    <tr>\n",
       "      <th>736272</th>\n",
       "      <td>BXRBSSAA JUBNMEA</td>\n",
       "      <td>INDIAN MUSTARD</td>\n",
       "      <td>[2, 24, 18, 2, 19, 19, 1, 1, 27, 10, 21, 2, 14...</td>\n",
       "      <td>[9, 14, 4, 9, 1, 14, 27, 13, 21, 19, 20, 1, 18...</td>\n",
       "      <td>1</td>\n",
       "      <td>0</td>\n",
       "      <td>BRASSICA JUNCEA</td>\n",
       "      <td>BRASSICA OLERACEA</td>\n",
       "      <td>CROTALARIA JUNCEA</td>\n",
       "      <td>PARIETARIA JUDAICA</td>\n",
       "      <td>...</td>\n",
       "      <td>0.687500</td>\n",
       "      <td>0.687500</td>\n",
       "      <td>0.692308</td>\n",
       "      <td>0.692308</td>\n",
       "      <td>0.695652</td>\n",
       "      <td>0.700000</td>\n",
       "      <td>0.700000</td>\n",
       "      <td>0.700000</td>\n",
       "      <td>inf</td>\n",
       "      <td>1.0</td>\n",
       "    </tr>\n",
       "  </tbody>\n",
       "</table>\n",
       "<p>10 rows × 48 columns</p>\n",
       "</div>"
      ],
      "text/plain": [
       "                                  x                          y  \\\n",
       "1706279       WDCYMOKPG NSCHOENQABN    CYMBOPOGON SCHOENANTHUS   \n",
       "1791669          DESDPSUI LMUTCGNUS       DESMODIUM GLUTINOSUM   \n",
       "609303                 RED AMCICOON                RED PUCCOON   \n",
       "2306063             PIOJU SEALUUTRI            PINUS PALUSTRIS   \n",
       "607856           EKHYMUSDBVUNLAGIRS              ENGLISH THYME   \n",
       "2328141           AD HU LAONGYY CAO        AGRIMONIA EUPATORIA   \n",
       "2217926               RHUPM GBPATUM             RHEUM PALMATUM   \n",
       "1821260  QJATCOSTAPHYSO NEFVDAJENIS  ARCTOSTAPHYLOS NEVADENSIS   \n",
       "1151107                MORELA RYRAC                CANDLEBERRY   \n",
       "736272             BXRBSSAA JUBNMEA             INDIAN MUSTARD   \n",
       "\n",
       "                                               Processed_x  \\\n",
       "1706279  [23, 4, 3, 25, 13, 15, 11, 16, 7, 27, 14, 19, ...   \n",
       "1791669  [4, 5, 19, 4, 16, 19, 21, 9, 27, 12, 13, 21, 2...   \n",
       "609303   [18, 5, 4, 27, 1, 13, 3, 9, 3, 15, 15, 14, 0, ...   \n",
       "2306063  [16, 9, 15, 10, 21, 27, 19, 5, 1, 12, 21, 21, ...   \n",
       "607856   [5, 11, 8, 25, 13, 21, 19, 4, 2, 22, 21, 14, 1...   \n",
       "2328141  [1, 4, 27, 8, 21, 27, 12, 1, 15, 14, 7, 25, 25...   \n",
       "2217926  [18, 8, 21, 16, 13, 27, 7, 2, 16, 1, 20, 21, 1...   \n",
       "1821260  [17, 10, 1, 20, 3, 15, 19, 20, 1, 16, 8, 25, 1...   \n",
       "1151107  [13, 15, 18, 5, 12, 1, 27, 18, 25, 18, 1, 3, 0...   \n",
       "736272   [2, 24, 18, 2, 19, 19, 1, 1, 27, 10, 21, 2, 14...   \n",
       "\n",
       "                                               Processed_y  Match  Distance  \\\n",
       "1706279  [3, 25, 13, 2, 15, 16, 15, 7, 15, 14, 27, 19, ...      1         0   \n",
       "1791669  [4, 5, 19, 13, 15, 4, 9, 21, 13, 27, 7, 12, 21...      1         0   \n",
       "609303   [18, 5, 4, 27, 16, 21, 3, 3, 15, 15, 14, 0, 0,...      1         0   \n",
       "2306063  [16, 9, 14, 21, 19, 27, 16, 1, 12, 21, 19, 20,...      1         0   \n",
       "607856   [5, 14, 7, 12, 9, 19, 8, 27, 20, 8, 25, 13, 5,...      1         0   \n",
       "2328141  [1, 7, 18, 9, 13, 15, 14, 9, 1, 27, 5, 21, 16,...      1         0   \n",
       "2217926  [18, 8, 5, 21, 13, 27, 16, 1, 12, 13, 1, 20, 2...      1         0   \n",
       "1821260  [1, 18, 3, 20, 15, 19, 20, 1, 16, 8, 25, 12, 1...      1         0   \n",
       "1151107  [3, 1, 14, 4, 12, 5, 2, 5, 18, 18, 25, 0, 0, 0...      1         0   \n",
       "736272   [9, 14, 4, 9, 1, 14, 27, 13, 21, 19, 20, 1, 18...      1         0   \n",
       "\n",
       "                             rank1                      rank2  \\\n",
       "1706279    CYMBOPOGON SCHOENANTHUS  ATRACTYLODES MACROCEPHALA   \n",
       "1791669       DESMODIUM GLUTINOSUM         LYCOPUS AMERICANUS   \n",
       "609303                 RED PUCCOON              YELLOWPUCCOON   \n",
       "2306063            PINUS PALUSTRIS           PINUS SYLVESTRIS   \n",
       "607856             THYMUS VULGARIS        SCOLYMUS HISPANICUS   \n",
       "2328141         DA HUA LONG YA CAO        XUAN GUO WEN ZI CAO   \n",
       "2217926             RHEUM PALMATUM           RHEUM ACUMINATUM   \n",
       "1821260  ARCTOSTAPHYLOS NEVADENSIS  BOLBOSCHOENUS FLUVIATILIS   \n",
       "1151107           MORELLA CERIFERA                MORUS RUBRA   \n",
       "736272             BRASSICA JUNCEA          BRASSICA OLERACEA   \n",
       "\n",
       "                              rank3                        rank4  ...  \\\n",
       "1706279       VACCINIUM MACROCARPON       BLACKSAMPSON ECHINACEA  ...   \n",
       "1791669    CHRYSOJASMINUM FRUTICANS           PISTACIA LENTISCUS  ...   \n",
       "609303             MAMMEA AMERICANA          TRAMETES VERSICOLOR  ...   \n",
       "2306063         TRIBULUS TERRESTRIS            PISTIA STRATIOTES  ...   \n",
       "607856         ANTHYLLIS VULNERARIA            BERBERIS VULGARIS  ...   \n",
       "2328141           GUANG GUO GAN CAO     SAMBUCUS LACINIATA WHOLE  ...   \n",
       "2217926             RHUS COPALLINUM           ORIGANUM COMPACTUM  ...   \n",
       "1821260  AFROHYBANTHUS ENNEASPERMUS  PSEUDOGNAPHALIUM STRAMINEUM  ...   \n",
       "1151107           BOSWELFIA SERRATA            ORIGANUM SYRIACUM  ...   \n",
       "736272            CROTALARIA JUNCEA           PARIETARIA JUDAICA  ...   \n",
       "\n",
       "        rank13_distance rank14_distance rank15_distance rank16_distance  \\\n",
       "1706279        0.793103        0.800000        0.800000        0.800000   \n",
       "1791669        0.722222        0.727273        0.727273        0.727273   \n",
       "609303         0.666667        0.666667        0.666667        0.666667   \n",
       "2306063        0.700000        0.700000        0.703704        0.705882   \n",
       "607856         0.750000        0.750000        0.761905        0.761905   \n",
       "2328141        0.714286        0.714286        0.724138        0.727273   \n",
       "2217926        0.625000        0.625000        0.631579        0.631579   \n",
       "1821260        0.823529        0.826087        0.828571        0.833333   \n",
       "1151107        0.615385        0.625000        0.625000        0.625000   \n",
       "736272         0.687500        0.687500        0.692308        0.692308   \n",
       "\n",
       "        rank17_distance rank18_distance rank19_distance rank20_distance  \\\n",
       "1706279        0.800000        0.800000        0.800000        0.809524   \n",
       "1791669        0.730769        0.736842        0.736842        0.736842   \n",
       "609303         0.666667        0.666667        0.681818        0.684211   \n",
       "2306063        0.705882        0.705882        0.705882        0.705882   \n",
       "607856         0.761905        0.764706        0.764706        0.764706   \n",
       "2328141        0.727273        0.727273        0.727273        0.727273   \n",
       "2217926        0.647059        0.647059        0.647059        0.647059   \n",
       "1821260        0.833333        0.840000        0.840000        0.840000   \n",
       "1151107        0.631579        0.631579        0.642857        0.642857   \n",
       "736272         0.695652        0.700000        0.700000        0.700000   \n",
       "\n",
       "        exact_rank equivalent_rank  \n",
       "1706279        1.0             1.0  \n",
       "1791669        1.0             1.0  \n",
       "609303         1.0             1.0  \n",
       "2306063        1.0             1.0  \n",
       "607856         inf             1.0  \n",
       "2328141        inf             1.0  \n",
       "2217926        1.0             1.0  \n",
       "1821260        1.0             1.0  \n",
       "1151107        inf             1.0  \n",
       "736272         inf             1.0  \n",
       "\n",
       "[10 rows x 48 columns]"
      ]
     },
     "execution_count": 33,
     "metadata": {},
     "output_type": "execute_result"
    }
   ],
   "source": [
    "Levenshtein.sample(n=10)"
   ]
  },
  {
   "cell_type": "code",
   "execution_count": 34,
   "id": "695f97e8",
   "metadata": {},
   "outputs": [
    {
     "data": {
      "text/html": [
       "<div>\n",
       "<style scoped>\n",
       "    .dataframe tbody tr th:only-of-type {\n",
       "        vertical-align: middle;\n",
       "    }\n",
       "\n",
       "    .dataframe tbody tr th {\n",
       "        vertical-align: top;\n",
       "    }\n",
       "\n",
       "    .dataframe thead th {\n",
       "        text-align: right;\n",
       "    }\n",
       "</style>\n",
       "<table border=\"1\" class=\"dataframe\">\n",
       "  <thead>\n",
       "    <tr style=\"text-align: right;\">\n",
       "      <th></th>\n",
       "      <th>exact_reciprocal_rank</th>\n",
       "      <th>equivalent_reciprocal_rank</th>\n",
       "    </tr>\n",
       "  </thead>\n",
       "  <tbody>\n",
       "    <tr>\n",
       "      <th>count</th>\n",
       "      <td>1000.000000</td>\n",
       "      <td>1000.000000</td>\n",
       "    </tr>\n",
       "    <tr>\n",
       "      <th>mean</th>\n",
       "      <td>0.546570</td>\n",
       "      <td>0.891222</td>\n",
       "    </tr>\n",
       "    <tr>\n",
       "      <th>std</th>\n",
       "      <td>0.481824</td>\n",
       "      <td>0.270872</td>\n",
       "    </tr>\n",
       "    <tr>\n",
       "      <th>min</th>\n",
       "      <td>0.000000</td>\n",
       "      <td>0.000000</td>\n",
       "    </tr>\n",
       "    <tr>\n",
       "      <th>25%</th>\n",
       "      <td>0.000000</td>\n",
       "      <td>1.000000</td>\n",
       "    </tr>\n",
       "    <tr>\n",
       "      <th>50%</th>\n",
       "      <td>1.000000</td>\n",
       "      <td>1.000000</td>\n",
       "    </tr>\n",
       "    <tr>\n",
       "      <th>75%</th>\n",
       "      <td>1.000000</td>\n",
       "      <td>1.000000</td>\n",
       "    </tr>\n",
       "    <tr>\n",
       "      <th>max</th>\n",
       "      <td>1.000000</td>\n",
       "      <td>1.000000</td>\n",
       "    </tr>\n",
       "  </tbody>\n",
       "</table>\n",
       "</div>"
      ],
      "text/plain": [
       "       exact_reciprocal_rank  equivalent_reciprocal_rank\n",
       "count            1000.000000                 1000.000000\n",
       "mean                0.546570                    0.891222\n",
       "std                 0.481824                    0.270872\n",
       "min                 0.000000                    0.000000\n",
       "25%                 0.000000                    1.000000\n",
       "50%                 1.000000                    1.000000\n",
       "75%                 1.000000                    1.000000\n",
       "max                 1.000000                    1.000000"
      ]
     },
     "execution_count": 34,
     "metadata": {},
     "output_type": "execute_result"
    }
   ],
   "source": [
    "Levenshtein_mrr = Levenshtein.loc[:,['x', 'exact_rank', 'equivalent_rank']]\n",
    "Levenshtein_mrr.loc[:,'exact_reciprocal_rank'] = 1/Levenshtein_mrr.loc[:, 'exact_rank']\n",
    "Levenshtein_mrr.loc[:,'equivalent_reciprocal_rank'] = 1/Levenshtein_mrr.loc[:, 'equivalent_rank']\n",
    "Levenshtein_mrr[['exact_reciprocal_rank', 'equivalent_reciprocal_rank']].describe()"
   ]
  },
  {
   "cell_type": "code",
   "execution_count": 35,
   "id": "06fc8e14",
   "metadata": {},
   "outputs": [],
   "source": [
    "#get median and stdev\n",
    "# Levenshtein_mrr['exact_rank'].median(), Levenshtein_mrr['exact_rank'].std()"
   ]
  },
  {
   "cell_type": "code",
   "execution_count": 36,
   "id": "98c52c98",
   "metadata": {},
   "outputs": [],
   "source": [
    "#get median and stdev\n",
    "# Levenshtein_mrr['equivalent_rank'].median(), Levenshtein_mrr['equivalent_rank'].std()"
   ]
  },
  {
   "cell_type": "code",
   "execution_count": 37,
   "id": "26a668bb",
   "metadata": {},
   "outputs": [],
   "source": [
    "# results.loc['Exact', 'Levenshtein'] = 1/Levenshtein_mrr.index.size  * Levenshtein_mrr['exact_reciprocal_rank'].sum()"
   ]
  },
  {
   "cell_type": "code",
   "execution_count": 38,
   "id": "0fda3e10",
   "metadata": {},
   "outputs": [],
   "source": [
    "# results.loc['Equivalent', 'Levenshtein'] = 1/Levenshtein_mrr.index.size  * Levenshtein_mrr['equivalent_reciprocal_rank'].sum()"
   ]
  },
  {
   "cell_type": "code",
   "execution_count": 39,
   "id": "f7d56972",
   "metadata": {},
   "outputs": [],
   "source": [
    "results.loc['Exact', 'Levenshtein'] = Levenshtein_mrr[['exact_reciprocal_rank', 'equivalent_reciprocal_rank']].describe().loc[\"mean\"][0]"
   ]
  },
  {
   "cell_type": "code",
   "execution_count": 40,
   "id": "8bd7645d",
   "metadata": {},
   "outputs": [],
   "source": [
    "results.loc['Exact_std', 'Levenshtein'] = Levenshtein_mrr[['exact_reciprocal_rank', 'equivalent_reciprocal_rank']].describe().loc[\"std\"][0]"
   ]
  },
  {
   "cell_type": "code",
   "execution_count": 41,
   "id": "1337f805",
   "metadata": {},
   "outputs": [],
   "source": [
    "results.loc['Equivalent', 'Levenshtein'] = Levenshtein_mrr[['exact_reciprocal_rank', 'equivalent_reciprocal_rank']].describe().loc[\"mean\"][1]"
   ]
  },
  {
   "cell_type": "code",
   "execution_count": 42,
   "id": "be5811a3",
   "metadata": {},
   "outputs": [],
   "source": [
    "results.loc['Equivalent_std', 'Levenshtein'] = Levenshtein_mrr[['exact_reciprocal_rank', 'equivalent_reciprocal_rank']].describe().loc[\"std\"][1]"
   ]
  },
  {
   "cell_type": "markdown",
   "id": "a4ab4fa9",
   "metadata": {},
   "source": [
    "--------------------------------------"
   ]
  },
  {
   "cell_type": "markdown",
   "id": "df1e1cbd",
   "metadata": {},
   "source": [
    "# Fuzzy Gesalt Match MRR Evaluation"
   ]
  },
  {
   "cell_type": "code",
   "execution_count": 43,
   "id": "0e4c62a5",
   "metadata": {},
   "outputs": [],
   "source": [
    "Gesalt = find_Gesalt_ranks(positive_pairs.loc[:, ('x', 'y')], targets = dUnique_df, equivalence_set = equivalence_set, ranks= 20, find_related_rank=True)"
   ]
  },
  {
   "cell_type": "code",
   "execution_count": 44,
   "id": "a7c71693",
   "metadata": {},
   "outputs": [
    {
     "data": {
      "text/html": [
       "<div>\n",
       "<style scoped>\n",
       "    .dataframe tbody tr th:only-of-type {\n",
       "        vertical-align: middle;\n",
       "    }\n",
       "\n",
       "    .dataframe tbody tr th {\n",
       "        vertical-align: top;\n",
       "    }\n",
       "\n",
       "    .dataframe thead th {\n",
       "        text-align: right;\n",
       "    }\n",
       "</style>\n",
       "<table border=\"1\" class=\"dataframe\">\n",
       "  <thead>\n",
       "    <tr style=\"text-align: right;\">\n",
       "      <th></th>\n",
       "      <th>exact_reciprocal_rank</th>\n",
       "      <th>equivalent_reciprocal_rank</th>\n",
       "    </tr>\n",
       "  </thead>\n",
       "  <tbody>\n",
       "    <tr>\n",
       "      <th>count</th>\n",
       "      <td>1000.000000</td>\n",
       "      <td>1000.000000</td>\n",
       "    </tr>\n",
       "    <tr>\n",
       "      <th>mean</th>\n",
       "      <td>0.538893</td>\n",
       "      <td>0.883908</td>\n",
       "    </tr>\n",
       "    <tr>\n",
       "      <th>std</th>\n",
       "      <td>0.481339</td>\n",
       "      <td>0.283926</td>\n",
       "    </tr>\n",
       "    <tr>\n",
       "      <th>min</th>\n",
       "      <td>0.000000</td>\n",
       "      <td>0.000000</td>\n",
       "    </tr>\n",
       "    <tr>\n",
       "      <th>25%</th>\n",
       "      <td>0.000000</td>\n",
       "      <td>1.000000</td>\n",
       "    </tr>\n",
       "    <tr>\n",
       "      <th>50%</th>\n",
       "      <td>1.000000</td>\n",
       "      <td>1.000000</td>\n",
       "    </tr>\n",
       "    <tr>\n",
       "      <th>75%</th>\n",
       "      <td>1.000000</td>\n",
       "      <td>1.000000</td>\n",
       "    </tr>\n",
       "    <tr>\n",
       "      <th>max</th>\n",
       "      <td>1.000000</td>\n",
       "      <td>1.000000</td>\n",
       "    </tr>\n",
       "  </tbody>\n",
       "</table>\n",
       "</div>"
      ],
      "text/plain": [
       "       exact_reciprocal_rank  equivalent_reciprocal_rank\n",
       "count            1000.000000                 1000.000000\n",
       "mean                0.538893                    0.883908\n",
       "std                 0.481339                    0.283926\n",
       "min                 0.000000                    0.000000\n",
       "25%                 0.000000                    1.000000\n",
       "50%                 1.000000                    1.000000\n",
       "75%                 1.000000                    1.000000\n",
       "max                 1.000000                    1.000000"
      ]
     },
     "execution_count": 44,
     "metadata": {},
     "output_type": "execute_result"
    }
   ],
   "source": [
    "Gesalt_mrr = Gesalt.loc[:,['x', 'exact_rank', 'equivalent_rank']]\n",
    "Gesalt_mrr.loc[:,'exact_reciprocal_rank'] = 1/Gesalt_mrr.loc[:, 'exact_rank']\n",
    "Gesalt_mrr.loc[:,'equivalent_reciprocal_rank'] = 1/Gesalt_mrr.loc[:, 'equivalent_rank']\n",
    "Gesalt_mrr[['exact_reciprocal_rank', 'equivalent_reciprocal_rank']].describe()"
   ]
  },
  {
   "cell_type": "code",
   "execution_count": 45,
   "id": "aeeb02e9",
   "metadata": {},
   "outputs": [],
   "source": [
    "#get median and stdev\n",
    "# Gesalt_mrr['exact_rank'].median(), Gesalt_mrr['exact_rank'].std()"
   ]
  },
  {
   "cell_type": "code",
   "execution_count": 46,
   "id": "778fa0ba",
   "metadata": {},
   "outputs": [],
   "source": [
    "#get median and stdev\n",
    "# Gesalt_mrr['equivalent_rank'].median(), Gesalt_mrr['equivalent_rank'].std()"
   ]
  },
  {
   "cell_type": "code",
   "execution_count": 47,
   "id": "a4b9cce4",
   "metadata": {},
   "outputs": [],
   "source": [
    "# results.loc['Exact', 'Gesalt'] = 1/Gesalt_mrr.index.size  * Gesalt_mrr['exact_reciprocal_rank'].sum()"
   ]
  },
  {
   "cell_type": "code",
   "execution_count": 48,
   "id": "ef6320fb",
   "metadata": {},
   "outputs": [],
   "source": [
    "# results.loc['Equivalent', 'Gesalt'] = 1/Gesalt_mrr.index.size  * Gesalt_mrr['equivalent_reciprocal_rank'].sum()"
   ]
  },
  {
   "cell_type": "code",
   "execution_count": 49,
   "id": "c0380b87",
   "metadata": {},
   "outputs": [],
   "source": [
    "results.loc['Exact', 'Gesalt'] = Gesalt_mrr[['exact_reciprocal_rank', 'equivalent_reciprocal_rank']].describe().loc[\"mean\"][0]"
   ]
  },
  {
   "cell_type": "code",
   "execution_count": 50,
   "id": "73ff11c4",
   "metadata": {},
   "outputs": [],
   "source": [
    "results.loc['Exact_std', 'Gesalt'] = Gesalt_mrr[['exact_reciprocal_rank', 'equivalent_reciprocal_rank']].describe().loc[\"std\"][0]"
   ]
  },
  {
   "cell_type": "code",
   "execution_count": 51,
   "id": "807c9a7d",
   "metadata": {},
   "outputs": [],
   "source": [
    "results.loc['Equivalent', 'Gesalt'] = Gesalt_mrr[['exact_reciprocal_rank', 'equivalent_reciprocal_rank']].describe().loc[\"mean\"][1]"
   ]
  },
  {
   "cell_type": "code",
   "execution_count": 52,
   "id": "37a9388f",
   "metadata": {},
   "outputs": [],
   "source": [
    "results.loc['Equivalent_std', 'Gesalt'] = Gesalt_mrr[['exact_reciprocal_rank', 'equivalent_reciprocal_rank']].describe().loc[\"std\"][1]"
   ]
  },
  {
   "cell_type": "markdown",
   "id": "6d3a4049",
   "metadata": {},
   "source": [
    "--------------------------------------"
   ]
  },
  {
   "cell_type": "code",
   "execution_count": 53,
   "id": "bef51852",
   "metadata": {},
   "outputs": [
    {
     "data": {
      "text/html": [
       "<div>\n",
       "<style scoped>\n",
       "    .dataframe tbody tr th:only-of-type {\n",
       "        vertical-align: middle;\n",
       "    }\n",
       "\n",
       "    .dataframe tbody tr th {\n",
       "        vertical-align: top;\n",
       "    }\n",
       "\n",
       "    .dataframe thead th {\n",
       "        text-align: right;\n",
       "    }\n",
       "</style>\n",
       "<table border=\"1\" class=\"dataframe\">\n",
       "  <thead>\n",
       "    <tr style=\"text-align: right;\">\n",
       "      <th></th>\n",
       "      <th>Exact</th>\n",
       "      <th>Equivalent</th>\n",
       "      <th>Exact_std</th>\n",
       "      <th>Equivalent_std</th>\n",
       "    </tr>\n",
       "  </thead>\n",
       "  <tbody>\n",
       "    <tr>\n",
       "      <th>Siamese model</th>\n",
       "      <td>0.421681</td>\n",
       "      <td>0.672271</td>\n",
       "      <td>0.414893</td>\n",
       "      <td>0.408108</td>\n",
       "    </tr>\n",
       "    <tr>\n",
       "      <th>Levenshtein</th>\n",
       "      <td>0.54657</td>\n",
       "      <td>0.891222</td>\n",
       "      <td>0.481824</td>\n",
       "      <td>0.270872</td>\n",
       "    </tr>\n",
       "    <tr>\n",
       "      <th>Gesalt</th>\n",
       "      <td>0.538893</td>\n",
       "      <td>0.883908</td>\n",
       "      <td>0.481339</td>\n",
       "      <td>0.283926</td>\n",
       "    </tr>\n",
       "  </tbody>\n",
       "</table>\n",
       "</div>"
      ],
      "text/plain": [
       "                  Exact Equivalent Exact_std Equivalent_std\n",
       "Siamese model  0.421681   0.672271  0.414893       0.408108\n",
       "Levenshtein     0.54657   0.891222  0.481824       0.270872\n",
       "Gesalt         0.538893   0.883908  0.481339       0.283926"
      ]
     },
     "execution_count": 53,
     "metadata": {},
     "output_type": "execute_result"
    }
   ],
   "source": [
    "results.T"
   ]
  },
  {
   "cell_type": "code",
   "execution_count": 54,
   "id": "162592c4",
   "metadata": {},
   "outputs": [
    {
     "data": {
      "image/png": "[encoded data removed]",
      "text/plain": [
       "<Figure size 432x288 with 4 Axes>"
      ]
     },
     "metadata": {
      "needs_background": "light"
     },
     "output_type": "display_data"
    }
   ],
   "source": [
    "results.T.plot.bar(rot=0, subplots=True);"
   ]
  },
  {
   "cell_type": "code",
   "execution_count": 55,
   "id": "6161b817",
   "metadata": {},
   "outputs": [
    {
     "data": {
      "text/plain": [
       "[0.4216811185675342, 0.5465698412698412, 0.5388927265115346]"
      ]
     },
     "execution_count": 55,
     "metadata": {},
     "output_type": "execute_result"
    }
   ],
   "source": [
    "results.loc[\"Exact\"].to_list()"
   ]
  },
  {
   "cell_type": "code",
   "execution_count": 56,
   "id": "1a35414f",
   "metadata": {},
   "outputs": [
    {
     "data": {
      "text/plain": [
       "0.06999368088863928"
      ]
     },
     "execution_count": 56,
     "metadata": {},
     "output_type": "execute_result"
    }
   ],
   "source": [
    "results.loc[\"Exact\"].std()"
   ]
  },
  {
   "cell_type": "code",
   "execution_count": 96,
   "id": "939a3e64",
   "metadata": {},
   "outputs": [
    {
     "data": {
      "text/plain": [
       "<Figure size 720x360 with 0 Axes>"
      ]
     },
     "metadata": {},
     "output_type": "display_data"
    },
    {
     "data": {
      "image/png": "[encoded data removed]",
      "text/plain": [
       "<Figure size 1080x720 with 1 Axes>"
      ]
     },
     "metadata": {
      "needs_background": "light"
     },
     "output_type": "display_data"
    }
   ],
   "source": [
    "X = results.columns\n",
    "Exact = results.loc[\"Exact\"].to_list()\n",
    "Equivalent = results.loc[\"Equivalent\"].to_list()\n",
    "\n",
    "X_axis = np.arange(len(X))\n",
    "plt.figure(figsize=[10,5])\n",
    "\n",
    "plt.figure(figsize=(15,10))\n",
    "\n",
    "plt.bar(X_axis - 0.2, Exact, 0.4, yerr=results.loc[\"Exact_std\"], capsize=10, label = 'Exact match')\n",
    "plt.bar(X_axis + 0.2, Equivalent, 0.4, yerr=results.loc[\"Equivalent_std\"], capsize=10, label = 'Equivalent match')\n",
    "\n",
    "plt.axhline(y=max(Equivalent), color=\"orange\", linestyle=\"--\")\n",
    "plt.axhline(y=max(Exact), color=\"blue\", linestyle=\"--\")\n",
    "    \n",
    "# plt.errorbar( X_axis - 0.2, Exact[0], yerr=results.loc[\"Exact_std\"][0], fmt=\"o\", color=\"r\")\n",
    "# plt.errorbar( X_axis, Exact[1], yerr=results.loc[\"Exact_std\"][1], fmt=\"o\", color=\"r\")\n",
    "# plt.errorbar( X_axis + 0.2, Exact[2], yerr=results.loc[\"Exact_std\"][2], fmt=\"o\", color=\"r\")\n",
    "    \n",
    "plt.xticks(X_axis, X, style=\"italic\", weight='regular', fontsize=24)\n",
    "plt.tick_params(axis=\"y\", labelsize= 14)\n",
    "# plt.xlabel(\"Approaches\", weight='semibold', fontsize='large')\n",
    "plt.ylabel(\"MRR\", fontsize=24)\n",
    "plt.title(\"Comparison of MRR across multiple approaches\", weight='bold', fontsize=32)\n",
    "plt.legend(fontsize=14, loc='upper left')\n",
    "plt.show()"
   ]
  },
  {
   "cell_type": "markdown",
   "id": "97a0149b",
   "metadata": {},
   "source": [
    "# Translation tests"
   ]
  },
  {
   "cell_type": "code",
   "execution_count": 58,
   "id": "197a11ca",
   "metadata": {},
   "outputs": [],
   "source": [
    "# translation = '../data/translation_test_nps_202203171038.csv'\n",
    "# translation_set = preprocessInput(translation, maxlen = MAXLEN, balance= False, reflexive = False, noise = None)"
   ]
  },
  {
   "cell_type": "code",
   "execution_count": 59,
   "id": "192c7037",
   "metadata": {},
   "outputs": [],
   "source": [
    "# translation_set.head()"
   ]
  },
  {
   "cell_type": "code",
   "execution_count": 60,
   "id": "d9311f27",
   "metadata": {},
   "outputs": [],
   "source": [
    "# encode_pad_tag(translation_set, 1, 0, MAXLEN)"
   ]
  },
  {
   "cell_type": "code",
   "execution_count": 61,
   "id": "cc913215",
   "metadata": {},
   "outputs": [],
   "source": [
    "# novelty = find_ranks(model, translation_set.sample(n=10), ranks=10, find_related_rank= False, report_distances=False)"
   ]
  },
  {
   "cell_type": "code",
   "execution_count": 62,
   "id": "be6ddfaa",
   "metadata": {},
   "outputs": [],
   "source": [
    "# novelty.sample(10)"
   ]
  },
  {
   "cell_type": "code",
   "execution_count": 63,
   "id": "8bf90765",
   "metadata": {},
   "outputs": [],
   "source": [
    "# test[\"Processed_np_name\"] = test.np_name.apply(clean).apply(encode).apply(padding)"
   ]
  },
  {
   "cell_type": "code",
   "execution_count": 64,
   "id": "da48bed4",
   "metadata": {},
   "outputs": [],
   "source": [
    "# test = preprocessInput(unmapped, converters = {\"drug_name_original\":str}, skip_blank_lines=True, na_filter=True, na_values=\"\")\n",
    "# test[\"Processed_drug_name_original\"] = test[test.columns[0]].apply(clean).apply(encode).apply(padding)"
   ]
  }
 ],
 "metadata": {
  "kernelspec": {
   "display_name": "Python 3 (ipykernel)",
   "language": "python",
   "name": "python3"
  },
  "language_info": {
   "codemirror_mode": {
    "name": "ipython",
    "version": 3
   },
   "file_extension": ".py",
   "mimetype": "text/x-python",
   "name": "python",
   "nbconvert_exporter": "python",
   "pygments_lexer": "ipython3",
   "version": "3.10.5"
  }
 },
 "nbformat": 4,
 "nbformat_minor": 5
}
