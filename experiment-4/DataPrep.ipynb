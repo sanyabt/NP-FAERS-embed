{
 "cells": [
  {
   "cell_type": "markdown",
   "id": "50e7b740",
   "metadata": {},
   "source": [
    "# Imports & Globals"
   ]
  },
  {
   "cell_type": "code",
   "execution_count": 1,
   "id": "af8cc40f",
   "metadata": {},
   "outputs": [],
   "source": [
    "import yaml\n",
    "import pandas as pd\n",
    "\n",
    "from sklearn.utils import shuffle\n",
    "from sklearn.model_selection import train_test_split"
   ]
  },
  {
   "cell_type": "code",
   "execution_count": 2,
   "id": "c5b65e5c",
   "metadata": {},
   "outputs": [],
   "source": [
    "from StringProcessing import preprocessInput, encode_sequence, pad_sequence, encode_pad_tag, balance_dataset, balance_complete_set, get_target_groups_from_connected_components, generate_synthethic_negative_pairs, generate_noisy_positive_pairs"
   ]
  },
  {
   "cell_type": "code",
   "execution_count": 3,
   "id": "6929bda9",
   "metadata": {},
   "outputs": [],
   "source": [
    "global MAXLEN # Maximum sequence length including padding\n",
    "global NOISE  # Maximun noise threshold allowable"
   ]
  },
  {
   "cell_type": "code",
   "execution_count": 4,
   "id": "e9dd8f7f",
   "metadata": {},
   "outputs": [],
   "source": [
    "with open('LSTM65.yaml', 'r') as file:\n",
    "    model_config = yaml.safe_load(file)\n",
    "    MAXLEN = int(model_config['MAXLEN'])\n",
    "    NOISE = float(model_config['Noise_threshold'])"
   ]
  },
  {
   "cell_type": "markdown",
   "id": "dab15102",
   "metadata": {},
   "source": [
    "------------------------------------------------"
   ]
  },
  {
   "cell_type": "markdown",
   "id": "193e520b",
   "metadata": {},
   "source": [
    "# Data loading and preprocessing"
   ]
  },
  {
   "cell_type": "code",
   "execution_count": 5,
   "id": "ae8f0708",
   "metadata": {},
   "outputs": [],
   "source": [
    "# fName_unmapped = '../unmapped_data/upper_unmap_orig_drug_names_202201201812.csv'\n",
    "# unmapped = '../data/upper_unmap_orig-_drug_names_no_model_overlap_20220224.csv'"
   ]
  },
  {
   "cell_type": "markdown",
   "id": "dbfb3771",
   "metadata": {},
   "source": [
    "# Process Data"
   ]
  },
  {
   "cell_type": "code",
   "execution_count": 6,
   "id": "cb391604",
   "metadata": {
    "scrolled": true
   },
   "outputs": [
    {
     "name": "stdout",
     "output_type": "stream",
     "text": [
      "<class 'pandas.core.frame.DataFrame'>\n",
      "RangeIndex: 1299 entries, 0 to 1298\n",
      "Data columns (total 2 columns):\n",
      " #   Column    Non-Null Count  Dtype \n",
      "---  ------    --------------  ----- \n",
      " 0   lb        1299 non-null   object\n",
      " 1   mappings  1299 non-null   object\n",
      "dtypes: object(2)\n",
      "memory usage: 20.4+ KB\n",
      "None\n",
      "Processing file: ----------------------------------------\n",
      "Renaming colums:\n",
      "\tCurrent names: Index(['lb', 'mappings'], dtype='object')\n",
      "\tNew names: Index(['x', 'y'], dtype='object')\n",
      "Dropping row with empty cells:\n",
      "\tDropped 0 rows with empty cells.\n",
      "\tCleaning string sequences.\n",
      "\tUppercasing string sequences.\n",
      "Balancing target sequence representation:\n",
      "\tAdded 11010 new sequences of underrepresented targets.\n",
      "Dropping sequences longer than the maxlen of 65:\n",
      "\tDropped 0 that exceeded the maximum sequence length.\n",
      "Dropping duplicate sequences:\n",
      "\tDropped 335 duplicate sequences.\n",
      "Done processing: ---------------------------------------\n",
      "<class 'pandas.core.frame.DataFrame'>\n",
      "RangeIndex: 13273 entries, 0 to 13272\n",
      "Data columns (total 2 columns):\n",
      " #   Column  Non-Null Count  Dtype \n",
      "---  ------  --------------  ----- \n",
      " 0   x       13273 non-null  object\n",
      " 1   y       13273 non-null  object\n",
      "dtypes: object(2)\n",
      "memory usage: 207.5+ KB\n",
      "None\n",
      "Encoding and Padding: ----------------------------------\n",
      "\tProcessing x\n",
      "\tProcessing y\n",
      "Tagging: -----------------------------------------------\n"
     ]
    },
    {
     "data": {
      "text/html": [
       "<div>\n",
       "<style scoped>\n",
       "    .dataframe tbody tr th:only-of-type {\n",
       "        vertical-align: middle;\n",
       "    }\n",
       "\n",
       "    .dataframe tbody tr th {\n",
       "        vertical-align: top;\n",
       "    }\n",
       "\n",
       "    .dataframe thead th {\n",
       "        text-align: right;\n",
       "    }\n",
       "</style>\n",
       "<table border=\"1\" class=\"dataframe\">\n",
       "  <thead>\n",
       "    <tr style=\"text-align: right;\">\n",
       "      <th></th>\n",
       "      <th>x</th>\n",
       "      <th>y</th>\n",
       "      <th>Processed_x</th>\n",
       "      <th>Processed_y</th>\n",
       "      <th>Match</th>\n",
       "      <th>Distance</th>\n",
       "    </tr>\n",
       "  </thead>\n",
       "  <tbody>\n",
       "    <tr>\n",
       "      <th>4418</th>\n",
       "      <td>GYBYYRHBZAINFLTATA</td>\n",
       "      <td>ZHANGGUOGANCAO</td>\n",
       "      <td>[7, 25, 2, 25, 25, 18, 8, 2, 26, 1, 9, 14, 6, ...</td>\n",
       "      <td>[26, 8, 1, 14, 7, 7, 21, 15, 7, 1, 14, 3, 1, 1...</td>\n",
       "      <td>1</td>\n",
       "      <td>0</td>\n",
       "    </tr>\n",
       "    <tr>\n",
       "      <th>12607</th>\n",
       "      <td>UGGUL</td>\n",
       "      <td>COMMIPHORA MUKUL</td>\n",
       "      <td>[21, 7, 7, 21, 12, 0, 0, 0, 0, 0, 0, 0, 0, 0, ...</td>\n",
       "      <td>[3, 15, 13, 13, 9, 16, 8, 15, 18, 1, 27, 13, 2...</td>\n",
       "      <td>1</td>\n",
       "      <td>0</td>\n",
       "    </tr>\n",
       "    <tr>\n",
       "      <th>11654</th>\n",
       "      <td>JGIALS REIGA</td>\n",
       "      <td>JUGLANS REGIA</td>\n",
       "      <td>[10, 7, 9, 1, 12, 19, 27, 18, 5, 9, 7, 1, 0, 0...</td>\n",
       "      <td>[10, 21, 7, 12, 1, 14, 19, 27, 18, 5, 7, 9, 1,...</td>\n",
       "      <td>1</td>\n",
       "      <td>0</td>\n",
       "    </tr>\n",
       "  </tbody>\n",
       "</table>\n",
       "</div>"
      ],
      "text/plain": [
       "                        x                 y  \\\n",
       "4418   GYBYYRHBZAINFLTATA    ZHANGGUOGANCAO   \n",
       "12607               UGGUL  COMMIPHORA MUKUL   \n",
       "11654        JGIALS REIGA     JUGLANS REGIA   \n",
       "\n",
       "                                             Processed_x  \\\n",
       "4418   [7, 25, 2, 25, 25, 18, 8, 2, 26, 1, 9, 14, 6, ...   \n",
       "12607  [21, 7, 7, 21, 12, 0, 0, 0, 0, 0, 0, 0, 0, 0, ...   \n",
       "11654  [10, 7, 9, 1, 12, 19, 27, 18, 5, 9, 7, 1, 0, 0...   \n",
       "\n",
       "                                             Processed_y  Match  Distance  \n",
       "4418   [26, 8, 1, 14, 7, 7, 21, 15, 7, 1, 14, 3, 1, 1...      1         0  \n",
       "12607  [3, 15, 13, 13, 9, 16, 8, 15, 18, 1, 27, 13, 2...      1         0  \n",
       "11654  [10, 21, 7, 12, 1, 14, 19, 27, 18, 5, 7, 9, 1,...      1         0  "
      ]
     },
     "execution_count": 6,
     "metadata": {},
     "output_type": "execute_result"
    },
    {
     "data": {
      "image/png": "[encoded data removed]",
      "text/plain": [
       "<Figure size 432x288 with 1 Axes>"
      ]
     },
     "metadata": {
      "needs_background": "light"
     },
     "output_type": "display_data"
    }
   ],
   "source": [
    "latin_2_common = encode_pad_tag(preprocessInput(filename='../data/vocabulary_LB_to_common_names_09082022.tsv', maxlen= MAXLEN, reflexive=True, balance=True, noise = NOISE, sep='\\t'), match=1, distance=0, maxlen=MAXLEN, verbose=True).sort_values(by=['y', 'x', \"Distance\"])\n",
    "latin_2_common.sample(n=3)"
   ]
  },
  {
   "cell_type": "markdown",
   "id": "ad6063c4",
   "metadata": {},
   "source": [
    "## Add some Unmapped gsrs positive pairs\n",
    "Data from 4) positive-unmapped-pairs-gsrs-name-to-common-name.tsv -- POSITIVE unmapped pairs G-SRS to Latin binomial common name"
   ]
  },
  {
   "cell_type": "code",
   "execution_count": 7,
   "id": "73e03d17",
   "metadata": {
    "scrolled": true
   },
   "outputs": [
    {
     "name": "stdout",
     "output_type": "stream",
     "text": [
      "<class 'pandas.core.frame.DataFrame'>\n",
      "RangeIndex: 728 entries, 0 to 727\n",
      "Data columns (total 2 columns):\n",
      " #   Column          Non-Null Count  Dtype \n",
      "---  ------          --------------  ----- \n",
      " 0   common_name     728 non-null    object\n",
      " 1   latin_binomial  728 non-null    object\n",
      "dtypes: object(2)\n",
      "memory usage: 11.5+ KB\n",
      "None\n",
      "Processing file: ----------------------------------------\n",
      "Renaming colums:\n",
      "\tCurrent names: Index(['common_name', 'latin_binomial'], dtype='object')\n",
      "\tNew names: Index(['x', 'y'], dtype='object')\n",
      "Dropping row with empty cells:\n",
      "\tDropped 0 rows with empty cells.\n",
      "\tCleaning string sequences.\n",
      "\tUppercasing string sequences.\n",
      "Balancing target sequence representation:\n",
      "\tAdded 1340 new sequences of underrepresented targets.\n",
      "Dropping sequences longer than the maxlen of 65:\n",
      "\tDropped 0 that exceeded the maximum sequence length.\n",
      "Dropping duplicate sequences:\n",
      "\tDropped 728 duplicate sequences.\n",
      "Done processing: ---------------------------------------\n",
      "<class 'pandas.core.frame.DataFrame'>\n",
      "RangeIndex: 2068 entries, 0 to 2067\n",
      "Data columns (total 2 columns):\n",
      " #   Column  Non-Null Count  Dtype \n",
      "---  ------  --------------  ----- \n",
      " 0   x       2068 non-null   object\n",
      " 1   y       2068 non-null   object\n",
      "dtypes: object(2)\n",
      "memory usage: 32.4+ KB\n",
      "None\n",
      "Encoding and Padding: ----------------------------------\n",
      "\tProcessing x\n",
      "\tProcessing y\n",
      "Tagging: -----------------------------------------------\n"
     ]
    },
    {
     "data": {
      "text/html": [
       "<div>\n",
       "<style scoped>\n",
       "    .dataframe tbody tr th:only-of-type {\n",
       "        vertical-align: middle;\n",
       "    }\n",
       "\n",
       "    .dataframe tbody tr th {\n",
       "        vertical-align: top;\n",
       "    }\n",
       "\n",
       "    .dataframe thead th {\n",
       "        text-align: right;\n",
       "    }\n",
       "</style>\n",
       "<table border=\"1\" class=\"dataframe\">\n",
       "  <thead>\n",
       "    <tr style=\"text-align: right;\">\n",
       "      <th></th>\n",
       "      <th>x</th>\n",
       "      <th>y</th>\n",
       "      <th>Processed_x</th>\n",
       "      <th>Processed_y</th>\n",
       "      <th>Match</th>\n",
       "      <th>Distance</th>\n",
       "    </tr>\n",
       "  </thead>\n",
       "  <tbody>\n",
       "    <tr>\n",
       "      <th>1730</th>\n",
       "      <td>WSAONGA DENSIFEL</td>\n",
       "      <td>WATSONIA DENSIFLORA</td>\n",
       "      <td>[23, 19, 1, 15, 14, 7, 1, 27, 4, 5, 14, 19, 9,...</td>\n",
       "      <td>[23, 1, 20, 19, 15, 14, 9, 1, 27, 4, 5, 14, 19...</td>\n",
       "      <td>1</td>\n",
       "      <td>0</td>\n",
       "    </tr>\n",
       "    <tr>\n",
       "      <th>2012</th>\n",
       "      <td>PHYLNTU S ACMAFUS</td>\n",
       "      <td>PHYLLANTHUS AMARUS</td>\n",
       "      <td>[16, 8, 25, 12, 14, 20, 21, 27, 19, 27, 1, 3, ...</td>\n",
       "      <td>[16, 8, 25, 12, 12, 1, 14, 20, 8, 21, 19, 27, ...</td>\n",
       "      <td>1</td>\n",
       "      <td>0</td>\n",
       "    </tr>\n",
       "    <tr>\n",
       "      <th>764</th>\n",
       "      <td>ONITERVJAPCONICA</td>\n",
       "      <td>LONICERA JAPONICA</td>\n",
       "      <td>[15, 14, 9, 20, 5, 18, 22, 10, 1, 16, 3, 15, 1...</td>\n",
       "      <td>[12, 15, 14, 9, 3, 5, 18, 1, 27, 10, 1, 16, 15...</td>\n",
       "      <td>1</td>\n",
       "      <td>0</td>\n",
       "    </tr>\n",
       "  </tbody>\n",
       "</table>\n",
       "</div>"
      ],
      "text/plain": [
       "                      x                    y  \\\n",
       "1730   WSAONGA DENSIFEL  WATSONIA DENSIFLORA   \n",
       "2012  PHYLNTU S ACMAFUS   PHYLLANTHUS AMARUS   \n",
       "764    ONITERVJAPCONICA    LONICERA JAPONICA   \n",
       "\n",
       "                                            Processed_x  \\\n",
       "1730  [23, 19, 1, 15, 14, 7, 1, 27, 4, 5, 14, 19, 9,...   \n",
       "2012  [16, 8, 25, 12, 14, 20, 21, 27, 19, 27, 1, 3, ...   \n",
       "764   [15, 14, 9, 20, 5, 18, 22, 10, 1, 16, 3, 15, 1...   \n",
       "\n",
       "                                            Processed_y  Match  Distance  \n",
       "1730  [23, 1, 20, 19, 15, 14, 9, 1, 27, 4, 5, 14, 19...      1         0  \n",
       "2012  [16, 8, 25, 12, 12, 1, 14, 20, 8, 21, 19, 27, ...      1         0  \n",
       "764   [12, 15, 14, 9, 3, 5, 18, 1, 27, 10, 1, 16, 15...      1         0  "
      ]
     },
     "execution_count": 7,
     "metadata": {},
     "output_type": "execute_result"
    },
    {
     "data": {
      "image/png": "[encoded data removed]",
      "text/plain": [
       "<Figure size 432x288 with 1 Axes>"
      ]
     },
     "metadata": {
      "needs_background": "light"
     },
     "output_type": "display_data"
    }
   ],
   "source": [
    "common_2_latin = encode_pad_tag(preprocessInput(filename='../data/positive-unmapped-pairs-common-name-or-latin-binomial-copies.tsv', maxlen= MAXLEN, reflexive=True, balance=True, noise = NOISE, sep='\\t'), match=1, distance=0, maxlen=MAXLEN, verbose=True).sort_values(by=['y', 'x', \"Distance\"])\n",
    "common_2_latin.sample(n=3)"
   ]
  },
  {
   "cell_type": "markdown",
   "id": "05ada4d4",
   "metadata": {},
   "source": [
    "## Add some positive unmmaped common and latin-binomial pairs\n",
    "Data from 5) positive-unmapped-pairs-common-name-or-latin-binomial-copies.tsv -- POSITIVE unmapped pairs common-name to common name, common name to Latin binomial and vice versa, Latin binomial to Latin binomial"
   ]
  },
  {
   "cell_type": "code",
   "execution_count": 8,
   "id": "aba8f853",
   "metadata": {},
   "outputs": [
    {
     "name": "stdout",
     "output_type": "stream",
     "text": [
      "<class 'pandas.core.frame.DataFrame'>\n",
      "RangeIndex: 10838 entries, 0 to 10837\n",
      "Data columns (total 2 columns):\n",
      " #   Column       Non-Null Count  Dtype \n",
      "---  ------       --------------  ----- \n",
      " 0   name         10838 non-null  object\n",
      " 1   common_name  199 non-null    object\n",
      "dtypes: object(2)\n",
      "memory usage: 169.5+ KB\n",
      "None\n",
      "Processing file: ----------------------------------------\n",
      "Renaming colums:\n",
      "\tCurrent names: Index(['name', 'common_name'], dtype='object')\n",
      "\tNew names: Index(['x', 'y'], dtype='object')\n",
      "Dropping row with empty cells:\n",
      "\tDropped 10639 rows with empty cells.\n",
      "\tCleaning string sequences.\n",
      "\tUppercasing string sequences.\n",
      "Balancing target sequence representation:\n",
      "\tAdded 3880 new sequences of underrepresented targets.\n",
      "Dropping sequences longer than the maxlen of 65:\n",
      "\tDropped 0 that exceeded the maximum sequence length.\n",
      "Dropping duplicate sequences:\n",
      "\tDropped 205 duplicate sequences.\n",
      "Done processing: ---------------------------------------\n",
      "<class 'pandas.core.frame.DataFrame'>\n",
      "RangeIndex: 4073 entries, 0 to 4072\n",
      "Data columns (total 2 columns):\n",
      " #   Column  Non-Null Count  Dtype \n",
      "---  ------  --------------  ----- \n",
      " 0   x       4073 non-null   object\n",
      " 1   y       4073 non-null   object\n",
      "dtypes: object(2)\n",
      "memory usage: 63.8+ KB\n",
      "None\n",
      "Encoding and Padding: ----------------------------------\n",
      "\tProcessing x\n",
      "\tProcessing y\n",
      "Tagging: -----------------------------------------------\n"
     ]
    },
    {
     "data": {
      "text/html": [
       "<div>\n",
       "<style scoped>\n",
       "    .dataframe tbody tr th:only-of-type {\n",
       "        vertical-align: middle;\n",
       "    }\n",
       "\n",
       "    .dataframe tbody tr th {\n",
       "        vertical-align: top;\n",
       "    }\n",
       "\n",
       "    .dataframe thead th {\n",
       "        text-align: right;\n",
       "    }\n",
       "</style>\n",
       "<table border=\"1\" class=\"dataframe\">\n",
       "  <thead>\n",
       "    <tr style=\"text-align: right;\">\n",
       "      <th></th>\n",
       "      <th>x</th>\n",
       "      <th>y</th>\n",
       "      <th>Processed_x</th>\n",
       "      <th>Processed_y</th>\n",
       "      <th>Match</th>\n",
       "      <th>Distance</th>\n",
       "    </tr>\n",
       "  </thead>\n",
       "  <tbody>\n",
       "    <tr>\n",
       "      <th>2661</th>\n",
       "      <td>BLXRC KEPPPE</td>\n",
       "      <td>PIPER NIGRUM WHOLE</td>\n",
       "      <td>[2, 12, 24, 18, 3, 27, 11, 5, 16, 16, 16, 5, 0...</td>\n",
       "      <td>[16, 9, 16, 5, 18, 27, 14, 9, 7, 18, 21, 13, 2...</td>\n",
       "      <td>1</td>\n",
       "      <td>0</td>\n",
       "    </tr>\n",
       "    <tr>\n",
       "      <th>1045</th>\n",
       "      <td>HHORNY GOA WEXEBD</td>\n",
       "      <td>EPIMEDIUM EPIMEDIUM PUBESCENS HOC</td>\n",
       "      <td>[8, 8, 15, 18, 14, 25, 27, 7, 15, 1, 27, 23, 5...</td>\n",
       "      <td>[5, 16, 9, 13, 5, 4, 9, 21, 13, 27, 5, 16, 9, ...</td>\n",
       "      <td>1</td>\n",
       "      <td>0</td>\n",
       "    </tr>\n",
       "    <tr>\n",
       "      <th>2987</th>\n",
       "      <td>BARBERUAY</td>\n",
       "      <td>BERBERIS ARISTATA WHOLE</td>\n",
       "      <td>[2, 1, 18, 2, 5, 18, 21, 1, 25, 0, 0, 0, 0, 0,...</td>\n",
       "      <td>[2, 5, 18, 2, 5, 18, 9, 19, 27, 1, 18, 9, 19, ...</td>\n",
       "      <td>1</td>\n",
       "      <td>0</td>\n",
       "    </tr>\n",
       "  </tbody>\n",
       "</table>\n",
       "</div>"
      ],
      "text/plain": [
       "                      x                                  y  \\\n",
       "2661       BLXRC KEPPPE                 PIPER NIGRUM WHOLE   \n",
       "1045  HHORNY GOA WEXEBD  EPIMEDIUM EPIMEDIUM PUBESCENS HOC   \n",
       "2987          BARBERUAY            BERBERIS ARISTATA WHOLE   \n",
       "\n",
       "                                            Processed_x  \\\n",
       "2661  [2, 12, 24, 18, 3, 27, 11, 5, 16, 16, 16, 5, 0...   \n",
       "1045  [8, 8, 15, 18, 14, 25, 27, 7, 15, 1, 27, 23, 5...   \n",
       "2987  [2, 1, 18, 2, 5, 18, 21, 1, 25, 0, 0, 0, 0, 0,...   \n",
       "\n",
       "                                            Processed_y  Match  Distance  \n",
       "2661  [16, 9, 16, 5, 18, 27, 14, 9, 7, 18, 21, 13, 2...      1         0  \n",
       "1045  [5, 16, 9, 13, 5, 4, 9, 21, 13, 27, 5, 16, 9, ...      1         0  \n",
       "2987  [2, 5, 18, 2, 5, 18, 9, 19, 27, 1, 18, 9, 19, ...      1         0  "
      ]
     },
     "execution_count": 8,
     "metadata": {},
     "output_type": "execute_result"
    },
    {
     "data": {
      "image/png": "[encoded data removed]",
      "text/plain": [
       "<Figure size 432x288 with 1 Axes>"
      ]
     },
     "metadata": {
      "needs_background": "light"
     },
     "output_type": "display_data"
    }
   ],
   "source": [
    "gsrs_2_common = encode_pad_tag(preprocessInput(filename='../data/positive-unmapped-pairs-gsrs-name-to-common-name.tsv', maxlen= MAXLEN, reflexive=True, balance=True, noise = NOISE, sep='\\t'), match=1, distance=0, maxlen=MAXLEN, verbose=True).sort_values(by=['y', 'x', \"Distance\"])\n",
    "gsrs_2_common.sample(n=3)"
   ]
  },
  {
   "cell_type": "markdown",
   "id": "d6ede033",
   "metadata": {},
   "source": [
    "## Add Mapped-positive pairs\n",
    "Data from NP_FAERS_mapped_20220215.csv -- the manually create references set for ~70 drugs"
   ]
  },
  {
   "cell_type": "code",
   "execution_count": 9,
   "id": "4e226fd7",
   "metadata": {},
   "outputs": [
    {
     "name": "stdout",
     "output_type": "stream",
     "text": [
      "<class 'pandas.core.frame.DataFrame'>\n",
      "RangeIndex: 5358 entries, 0 to 5357\n",
      "Data columns (total 2 columns):\n",
      " #   Column            Non-Null Count  Dtype \n",
      "---  ------            --------------  ----- \n",
      " 0   FAERS_drug_match  5358 non-null   object\n",
      " 1   lookup_value      5358 non-null   object\n",
      "dtypes: object(2)\n",
      "memory usage: 83.8+ KB\n",
      "None\n",
      "Processing file: ----------------------------------------\n",
      "Renaming colums:\n",
      "\tCurrent names: Index(['FAERS_drug_match', 'lookup_value'], dtype='object')\n",
      "\tNew names: Index(['x', 'y'], dtype='object')\n",
      "Dropping row with empty cells:\n",
      "\tDropped 0 rows with empty cells.\n",
      "\tCleaning string sequences.\n",
      "\tUppercasing string sequences.\n",
      "Balancing target sequence representation:\n",
      "\tAdded 35474 new sequences of underrepresented targets.\n",
      "Dropping sequences longer than the maxlen of 65:\n",
      "\tDropped 847 that exceeded the maximum sequence length.\n",
      "Dropping duplicate sequences:\n",
      "\tDropped 1382 duplicate sequences.\n",
      "Done processing: ---------------------------------------\n",
      "<class 'pandas.core.frame.DataFrame'>\n",
      "RangeIndex: 38603 entries, 0 to 38602\n",
      "Data columns (total 2 columns):\n",
      " #   Column  Non-Null Count  Dtype \n",
      "---  ------  --------------  ----- \n",
      " 0   x       38603 non-null  object\n",
      " 1   y       38603 non-null  object\n",
      "dtypes: object(2)\n",
      "memory usage: 603.3+ KB\n",
      "None\n",
      "Encoding and Padding: ----------------------------------\n",
      "\tProcessing x\n",
      "\tProcessing y\n",
      "Tagging: -----------------------------------------------\n"
     ]
    },
    {
     "data": {
      "text/html": [
       "<div>\n",
       "<style scoped>\n",
       "    .dataframe tbody tr th:only-of-type {\n",
       "        vertical-align: middle;\n",
       "    }\n",
       "\n",
       "    .dataframe tbody tr th {\n",
       "        vertical-align: top;\n",
       "    }\n",
       "\n",
       "    .dataframe thead th {\n",
       "        text-align: right;\n",
       "    }\n",
       "</style>\n",
       "<table border=\"1\" class=\"dataframe\">\n",
       "  <thead>\n",
       "    <tr style=\"text-align: right;\">\n",
       "      <th></th>\n",
       "      <th>x</th>\n",
       "      <th>y</th>\n",
       "      <th>Processed_x</th>\n",
       "      <th>Processed_y</th>\n",
       "      <th>Match</th>\n",
       "      <th>Distance</th>\n",
       "    </tr>\n",
       "  </thead>\n",
       "  <tbody>\n",
       "    <tr>\n",
       "      <th>27029</th>\n",
       "      <td>EFNUGREC</td>\n",
       "      <td>FENUGREEK</td>\n",
       "      <td>[5, 6, 14, 21, 7, 18, 5, 3, 0, 0, 0, 0, 0, 0, ...</td>\n",
       "      <td>[6, 5, 14, 21, 7, 18, 5, 5, 11, 0, 0, 0, 0, 0,...</td>\n",
       "      <td>1</td>\n",
       "      <td>0</td>\n",
       "    </tr>\n",
       "    <tr>\n",
       "      <th>20156</th>\n",
       "      <td>BURAOCK</td>\n",
       "      <td>NIU BANG ZI</td>\n",
       "      <td>[2, 21, 18, 1, 15, 3, 11, 0, 0, 0, 0, 0, 0, 0,...</td>\n",
       "      <td>[14, 9, 21, 27, 2, 1, 14, 7, 27, 26, 9, 0, 0, ...</td>\n",
       "      <td>1</td>\n",
       "      <td>0</td>\n",
       "    </tr>\n",
       "    <tr>\n",
       "      <th>2046</th>\n",
       "      <td>ELLURA CRANBERRY CAPSULES</td>\n",
       "      <td>CRANBERRY</td>\n",
       "      <td>[5, 12, 12, 21, 18, 1, 27, 3, 18, 1, 14, 2, 5,...</td>\n",
       "      <td>[3, 18, 1, 14, 2, 5, 18, 18, 25, 0, 0, 0, 0, 0...</td>\n",
       "      <td>1</td>\n",
       "      <td>0</td>\n",
       "    </tr>\n",
       "  </tbody>\n",
       "</table>\n",
       "</div>"
      ],
      "text/plain": [
       "                               x            y  \\\n",
       "27029                   EFNUGREC    FENUGREEK   \n",
       "20156                    BURAOCK  NIU BANG ZI   \n",
       "2046   ELLURA CRANBERRY CAPSULES    CRANBERRY   \n",
       "\n",
       "                                             Processed_x  \\\n",
       "27029  [5, 6, 14, 21, 7, 18, 5, 3, 0, 0, 0, 0, 0, 0, ...   \n",
       "20156  [2, 21, 18, 1, 15, 3, 11, 0, 0, 0, 0, 0, 0, 0,...   \n",
       "2046   [5, 12, 12, 21, 18, 1, 27, 3, 18, 1, 14, 2, 5,...   \n",
       "\n",
       "                                             Processed_y  Match  Distance  \n",
       "27029  [6, 5, 14, 21, 7, 18, 5, 5, 11, 0, 0, 0, 0, 0,...      1         0  \n",
       "20156  [14, 9, 21, 27, 2, 1, 14, 7, 27, 26, 9, 0, 0, ...      1         0  \n",
       "2046   [3, 18, 1, 14, 2, 5, 18, 18, 25, 0, 0, 0, 0, 0...      1         0  "
      ]
     },
     "execution_count": 9,
     "metadata": {},
     "output_type": "execute_result"
    },
    {
     "data": {
      "image/png": "[encoded data removed]",
      "text/plain": [
       "<Figure size 432x288 with 1 Axes>"
      ]
     },
     "metadata": {
      "needs_background": "light"
     },
     "output_type": "display_data"
    }
   ],
   "source": [
    "positive_set = encode_pad_tag(preprocessInput('../data/NP_FAERS_mapped_20220215.csv', maxlen= MAXLEN, reflexive=False, balance=True, noise = NOISE, sep=','), match=1, distance=0, maxlen=MAXLEN, verbose=True).sort_values(by=['y', 'x', \"Distance\"])\n",
    "positive_set.sample(n=3)"
   ]
  },
  {
   "cell_type": "markdown",
   "id": "6bb34193",
   "metadata": {},
   "source": [
    "----------------------------------------------"
   ]
  },
  {
   "cell_type": "markdown",
   "id": "bf65cf94",
   "metadata": {},
   "source": [
    "## Add negative pairs from unmmaped\n",
    "Data from 9) NP_FAERS_negative_pairs_20220222.csv -- the negative pairs created by random sampling from the NP_FAERS_mapped_20220215.csv"
   ]
  },
  {
   "cell_type": "code",
   "execution_count": 10,
   "id": "1577f320",
   "metadata": {},
   "outputs": [
    {
     "name": "stdout",
     "output_type": "stream",
     "text": [
      "<class 'pandas.core.frame.DataFrame'>\n",
      "RangeIndex: 9242 entries, 0 to 9241\n",
      "Data columns (total 2 columns):\n",
      " #   Column            Non-Null Count  Dtype \n",
      "---  ------            --------------  ----- \n",
      " 0   FAERS_drug_match  9242 non-null   object\n",
      " 1   lookup_value      9242 non-null   object\n",
      "dtypes: object(2)\n",
      "memory usage: 144.5+ KB\n",
      "None\n",
      "Processing file: ----------------------------------------\n",
      "Renaming colums:\n",
      "\tCurrent names: Index(['FAERS_drug_match', 'lookup_value'], dtype='object')\n",
      "\tNew names: Index(['x', 'y'], dtype='object')\n",
      "Dropping row with empty cells:\n",
      "\tDropped 0 rows with empty cells.\n",
      "\tCleaning string sequences.\n",
      "\tUppercasing string sequences.\n",
      "Balancing target sequence representation:\n",
      "\tAdded 98208 new sequences of underrepresented targets.\n",
      "Dropping sequences longer than the maxlen of 65:\n",
      "\tDropped 2059 that exceeded the maximum sequence length.\n",
      "Dropping duplicate sequences:\n",
      "\tDropped 5512 duplicate sequences.\n",
      "Done processing: ---------------------------------------\n",
      "<class 'pandas.core.frame.DataFrame'>\n",
      "RangeIndex: 99879 entries, 0 to 99878\n",
      "Data columns (total 2 columns):\n",
      " #   Column  Non-Null Count  Dtype \n",
      "---  ------  --------------  ----- \n",
      " 0   x       99879 non-null  object\n",
      " 1   y       99879 non-null  object\n",
      "dtypes: object(2)\n",
      "memory usage: 1.5+ MB\n",
      "None\n",
      "Encoding and Padding: ----------------------------------\n",
      "\tProcessing x\n",
      "\tProcessing y\n",
      "Tagging: -----------------------------------------------\n"
     ]
    },
    {
     "data": {
      "text/html": [
       "<div>\n",
       "<style scoped>\n",
       "    .dataframe tbody tr th:only-of-type {\n",
       "        vertical-align: middle;\n",
       "    }\n",
       "\n",
       "    .dataframe tbody tr th {\n",
       "        vertical-align: top;\n",
       "    }\n",
       "\n",
       "    .dataframe thead th {\n",
       "        text-align: right;\n",
       "    }\n",
       "</style>\n",
       "<table border=\"1\" class=\"dataframe\">\n",
       "  <thead>\n",
       "    <tr style=\"text-align: right;\">\n",
       "      <th></th>\n",
       "      <th>x</th>\n",
       "      <th>y</th>\n",
       "      <th>Processed_x</th>\n",
       "      <th>Processed_y</th>\n",
       "      <th>Match</th>\n",
       "      <th>Distance</th>\n",
       "    </tr>\n",
       "  </thead>\n",
       "  <tbody>\n",
       "    <tr>\n",
       "      <th>24181</th>\n",
       "      <td>LOXW INDITAH</td>\n",
       "      <td>ALOE VERA</td>\n",
       "      <td>[12, 15, 24, 23, 27, 9, 14, 4, 9, 20, 1, 8, 0,...</td>\n",
       "      <td>[1, 12, 15, 5, 27, 22, 5, 18, 1, 0, 0, 0, 0, 0...</td>\n",
       "      <td>0</td>\n",
       "      <td>1</td>\n",
       "    </tr>\n",
       "    <tr>\n",
       "      <th>23991</th>\n",
       "      <td>LU WNICDICA THC</td>\n",
       "      <td>ALOE VERA</td>\n",
       "      <td>[12, 21, 27, 23, 14, 9, 3, 4, 9, 3, 1, 27, 20,...</td>\n",
       "      <td>[1, 12, 15, 5, 27, 22, 5, 18, 1, 0, 0, 0, 0, 0...</td>\n",
       "      <td>0</td>\n",
       "      <td>1</td>\n",
       "    </tr>\n",
       "    <tr>\n",
       "      <th>43286</th>\n",
       "      <td>EHRBALTEA NPERHPATIN</td>\n",
       "      <td>WOOD SPIDER</td>\n",
       "      <td>[5, 8, 18, 2, 1, 12, 20, 5, 1, 27, 14, 16, 5, ...</td>\n",
       "      <td>[23, 15, 15, 4, 27, 19, 16, 9, 4, 5, 18, 0, 0,...</td>\n",
       "      <td>0</td>\n",
       "      <td>1</td>\n",
       "    </tr>\n",
       "  </tbody>\n",
       "</table>\n",
       "</div>"
      ],
      "text/plain": [
       "                          x            y  \\\n",
       "24181          LOXW INDITAH    ALOE VERA   \n",
       "23991       LU WNICDICA THC    ALOE VERA   \n",
       "43286  EHRBALTEA NPERHPATIN  WOOD SPIDER   \n",
       "\n",
       "                                             Processed_x  \\\n",
       "24181  [12, 15, 24, 23, 27, 9, 14, 4, 9, 20, 1, 8, 0,...   \n",
       "23991  [12, 21, 27, 23, 14, 9, 3, 4, 9, 3, 1, 27, 20,...   \n",
       "43286  [5, 8, 18, 2, 1, 12, 20, 5, 1, 27, 14, 16, 5, ...   \n",
       "\n",
       "                                             Processed_y  Match  Distance  \n",
       "24181  [1, 12, 15, 5, 27, 22, 5, 18, 1, 0, 0, 0, 0, 0...      0         1  \n",
       "23991  [1, 12, 15, 5, 27, 22, 5, 18, 1, 0, 0, 0, 0, 0...      0         1  \n",
       "43286  [23, 15, 15, 4, 27, 19, 16, 9, 4, 5, 18, 0, 0,...      0         1  "
      ]
     },
     "execution_count": 10,
     "metadata": {},
     "output_type": "execute_result"
    },
    {
     "data": {
      "image/png": "[encoded data removed]",
      "text/plain": [
       "<Figure size 432x288 with 1 Axes>"
      ]
     },
     "metadata": {
      "needs_background": "light"
     },
     "output_type": "display_data"
    }
   ],
   "source": [
    "negative_set = encode_pad_tag(preprocessInput(filename = '../data/NP_FAERS_negative_pairs_20220222.csv', maxlen = MAXLEN, reflexive=False, balance=True, noise = NOISE, sep = \",\"), match=0, distance=1, maxlen=MAXLEN).sort_values(by=['y', 'x', \"Distance\"])\n",
    "negative_set.sample(n=3)"
   ]
  },
  {
   "cell_type": "markdown",
   "id": "116f96a6",
   "metadata": {},
   "source": [
    "## Add negative pairs from unmmaped\n",
    "Data from 6) negative-unmapped-pairs-all.tsv -- NEGATIVE pairs for the umpapped NP strings from GSRS"
   ]
  },
  {
   "cell_type": "code",
   "execution_count": 11,
   "id": "5566fa08",
   "metadata": {
    "scrolled": true
   },
   "outputs": [
    {
     "name": "stdout",
     "output_type": "stream",
     "text": [
      "<class 'pandas.core.frame.DataFrame'>\n",
      "RangeIndex: 11964 entries, 0 to 11963\n",
      "Data columns (total 2 columns):\n",
      " #   Column  Non-Null Count  Dtype \n",
      "---  ------  --------------  ----- \n",
      " 0   p1      11964 non-null  object\n",
      " 1   upper   11964 non-null  object\n",
      "dtypes: object(2)\n",
      "memory usage: 187.1+ KB\n",
      "None\n",
      "Processing file: ----------------------------------------\n",
      "Renaming colums:\n",
      "\tCurrent names: Index(['p1', 'upper'], dtype='object')\n",
      "\tNew names: Index(['x', 'y'], dtype='object')\n",
      "Dropping row with empty cells:\n",
      "\tDropped 0 rows with empty cells.\n",
      "\tCleaning string sequences.\n",
      "\tUppercasing string sequences.\n",
      "Balancing target sequence representation:\n",
      "\tAdded 42587 new sequences of underrepresented targets.\n",
      "Dropping sequences longer than the maxlen of 65:\n",
      "\tDropped 1 that exceeded the maximum sequence length.\n",
      "Dropping duplicate sequences:\n",
      "\tDropped 20 duplicate sequences.\n",
      "Done processing: ---------------------------------------\n",
      "<class 'pandas.core.frame.DataFrame'>\n",
      "RangeIndex: 54530 entries, 0 to 54529\n",
      "Data columns (total 2 columns):\n",
      " #   Column  Non-Null Count  Dtype \n",
      "---  ------  --------------  ----- \n",
      " 0   x       54530 non-null  object\n",
      " 1   y       54530 non-null  object\n",
      "dtypes: object(2)\n",
      "memory usage: 852.2+ KB\n",
      "None\n",
      "Encoding and Padding: ----------------------------------\n",
      "\tProcessing x\n",
      "\tProcessing y\n",
      "Tagging: -----------------------------------------------\n"
     ]
    },
    {
     "data": {
      "text/html": [
       "<div>\n",
       "<style scoped>\n",
       "    .dataframe tbody tr th:only-of-type {\n",
       "        vertical-align: middle;\n",
       "    }\n",
       "\n",
       "    .dataframe tbody tr th {\n",
       "        vertical-align: top;\n",
       "    }\n",
       "\n",
       "    .dataframe thead th {\n",
       "        text-align: right;\n",
       "    }\n",
       "</style>\n",
       "<table border=\"1\" class=\"dataframe\">\n",
       "  <thead>\n",
       "    <tr style=\"text-align: right;\">\n",
       "      <th></th>\n",
       "      <th>x</th>\n",
       "      <th>y</th>\n",
       "      <th>Processed_x</th>\n",
       "      <th>Processed_y</th>\n",
       "      <th>Match</th>\n",
       "      <th>Distance</th>\n",
       "    </tr>\n",
       "  </thead>\n",
       "  <tbody>\n",
       "    <tr>\n",
       "      <th>41610</th>\n",
       "      <td>ASTRXADLUSFMEBANAEUS WHOLE</td>\n",
       "      <td>OXYRIA DIGYNA</td>\n",
       "      <td>[1, 19, 20, 18, 24, 1, 4, 12, 21, 19, 6, 13, 5...</td>\n",
       "      <td>[15, 24, 25, 18, 9, 1, 27, 4, 9, 7, 25, 14, 1,...</td>\n",
       "      <td>0</td>\n",
       "      <td>1</td>\n",
       "    </tr>\n",
       "    <tr>\n",
       "      <th>9617</th>\n",
       "      <td>RANUNCULASTRUM NEMORIVAGUM WHOLE</td>\n",
       "      <td>CURCUMA ZEDOARIA</td>\n",
       "      <td>[18, 1, 14, 21, 14, 3, 21, 12, 1, 19, 20, 18, ...</td>\n",
       "      <td>[3, 21, 18, 3, 21, 13, 1, 27, 26, 5, 4, 15, 1,...</td>\n",
       "      <td>0</td>\n",
       "      <td>1</td>\n",
       "    </tr>\n",
       "    <tr>\n",
       "      <th>45458</th>\n",
       "      <td>UNIPERUS KFRGEOTEX WHZ LE</td>\n",
       "      <td>OCIMUM TENUIFLORUM</td>\n",
       "      <td>[27, 21, 14, 9, 16, 5, 18, 21, 19, 27, 11, 6, ...</td>\n",
       "      <td>[15, 3, 9, 13, 21, 13, 27, 20, 5, 14, 21, 9, 6...</td>\n",
       "      <td>0</td>\n",
       "      <td>1</td>\n",
       "    </tr>\n",
       "  </tbody>\n",
       "</table>\n",
       "</div>"
      ],
      "text/plain": [
       "                                      x                   y  \\\n",
       "41610        ASTRXADLUSFMEBANAEUS WHOLE       OXYRIA DIGYNA   \n",
       "9617   RANUNCULASTRUM NEMORIVAGUM WHOLE    CURCUMA ZEDOARIA   \n",
       "45458         UNIPERUS KFRGEOTEX WHZ LE  OCIMUM TENUIFLORUM   \n",
       "\n",
       "                                             Processed_x  \\\n",
       "41610  [1, 19, 20, 18, 24, 1, 4, 12, 21, 19, 6, 13, 5...   \n",
       "9617   [18, 1, 14, 21, 14, 3, 21, 12, 1, 19, 20, 18, ...   \n",
       "45458  [27, 21, 14, 9, 16, 5, 18, 21, 19, 27, 11, 6, ...   \n",
       "\n",
       "                                             Processed_y  Match  Distance  \n",
       "41610  [15, 24, 25, 18, 9, 1, 27, 4, 9, 7, 25, 14, 1,...      0         1  \n",
       "9617   [3, 21, 18, 3, 21, 13, 1, 27, 26, 5, 4, 15, 1,...      0         1  \n",
       "45458  [15, 3, 9, 13, 21, 13, 27, 20, 5, 14, 21, 9, 6...      0         1  "
      ]
     },
     "execution_count": 11,
     "metadata": {},
     "output_type": "execute_result"
    },
    {
     "data": {
      "image/png": "[encoded data removed]",
      "text/plain": [
       "<Figure size 432x288 with 1 Axes>"
      ]
     },
     "metadata": {
      "needs_background": "light"
     },
     "output_type": "display_data"
    }
   ],
   "source": [
    "gsrs_2_common_or_latin_negatives = encode_pad_tag(preprocessInput(filename = '../data/negative-unmapped-pairs-all.tsv', maxlen=MAXLEN, reflexive=False, balance=True, noise = NOISE, sep=\"\\t\"), match=0, distance=1, maxlen=MAXLEN).sort_values(by=['y', 'x', \"Distance\"])\n",
    "gsrs_2_common_or_latin_negatives.sample(n=3)"
   ]
  },
  {
   "cell_type": "markdown",
   "id": "ac65c5cb",
   "metadata": {},
   "source": [
    "-----------------------------------"
   ]
  },
  {
   "cell_type": "markdown",
   "id": "6de128a2",
   "metadata": {},
   "source": [
    "# Merge all dataframes"
   ]
  },
  {
   "cell_type": "code",
   "execution_count": 12,
   "id": "3570b80d",
   "metadata": {},
   "outputs": [],
   "source": [
    "complete_dataset = pd.concat([positive_set, latin_2_common, common_2_latin, gsrs_2_common, negative_set, gsrs_2_common_or_latin_negatives], ignore_index=True).sort_values(by=['y', 'x', \"Distance\"])\n",
    "complete_dataset.drop_duplicates(subset=['x', 'y'], inplace=True)"
   ]
  },
  {
   "cell_type": "markdown",
   "id": "e2cdae7d",
   "metadata": {},
   "source": [
    "## Creating Pandas DF for simplified view of all Target Terms"
   ]
  },
  {
   "cell_type": "code",
   "execution_count": 13,
   "id": "ff202da0",
   "metadata": {},
   "outputs": [
    {
     "data": {
      "text/html": [
       "<div>\n",
       "<style scoped>\n",
       "    .dataframe tbody tr th:only-of-type {\n",
       "        vertical-align: middle;\n",
       "    }\n",
       "\n",
       "    .dataframe tbody tr th {\n",
       "        vertical-align: top;\n",
       "    }\n",
       "\n",
       "    .dataframe thead th {\n",
       "        text-align: right;\n",
       "    }\n",
       "</style>\n",
       "<table border=\"1\" class=\"dataframe\">\n",
       "  <thead>\n",
       "    <tr style=\"text-align: right;\">\n",
       "      <th></th>\n",
       "      <th>dUnique_label</th>\n",
       "      <th>dUnique_seq_padded</th>\n",
       "    </tr>\n",
       "  </thead>\n",
       "  <tbody>\n",
       "    <tr>\n",
       "      <th>0</th>\n",
       "      <td>AAI</td>\n",
       "      <td>[1, 1, 9, 0, 0, 0, 0, 0, 0, 0, 0, 0, 0, 0, 0, ...</td>\n",
       "    </tr>\n",
       "    <tr>\n",
       "      <th>1</th>\n",
       "      <td>AARONSROD</td>\n",
       "      <td>[1, 1, 18, 15, 14, 19, 18, 15, 4, 0, 0, 0, 0, ...</td>\n",
       "    </tr>\n",
       "    <tr>\n",
       "      <th>2</th>\n",
       "      <td>ABIES ALBA</td>\n",
       "      <td>[1, 2, 9, 5, 19, 27, 1, 12, 2, 1, 0, 0, 0, 0, ...</td>\n",
       "    </tr>\n",
       "    <tr>\n",
       "      <th>3</th>\n",
       "      <td>ABSINTHE</td>\n",
       "      <td>[1, 2, 19, 9, 14, 20, 8, 5, 0, 0, 0, 0, 0, 0, ...</td>\n",
       "    </tr>\n",
       "    <tr>\n",
       "      <th>4</th>\n",
       "      <td>ABSINTHE WORMWOOD</td>\n",
       "      <td>[1, 2, 19, 9, 14, 20, 8, 5, 27, 23, 15, 18, 13...</td>\n",
       "    </tr>\n",
       "  </tbody>\n",
       "</table>\n",
       "</div>"
      ],
      "text/plain": [
       "       dUnique_label                                 dUnique_seq_padded\n",
       "0                AAI  [1, 1, 9, 0, 0, 0, 0, 0, 0, 0, 0, 0, 0, 0, 0, ...\n",
       "1          AARONSROD  [1, 1, 18, 15, 14, 19, 18, 15, 4, 0, 0, 0, 0, ...\n",
       "2         ABIES ALBA  [1, 2, 9, 5, 19, 27, 1, 12, 2, 1, 0, 0, 0, 0, ...\n",
       "3           ABSINTHE  [1, 2, 19, 9, 14, 20, 8, 5, 0, 0, 0, 0, 0, 0, ...\n",
       "4  ABSINTHE WORMWOOD  [1, 2, 19, 9, 14, 20, 8, 5, 27, 23, 15, 18, 13..."
      ]
     },
     "execution_count": 13,
     "metadata": {},
     "output_type": "execute_result"
    }
   ],
   "source": [
    "dUnique_df = pd.DataFrame(columns = ['dUnique_label', 'dUnique_seq_padded'])\n",
    "dUnique_df['dUnique_label'] = complete_dataset['y'].sort_values().unique()\n",
    "dUnique_df['dUnique_seq_padded'] = dUnique_df['dUnique_label'].transform(encode_sequence).transform(pad_sequence, maxlen=MAXLEN)\n",
    "dUnique_df.head()"
   ]
  },
  {
   "cell_type": "code",
   "execution_count": 14,
   "id": "ff0c5922",
   "metadata": {
    "scrolled": true
   },
   "outputs": [
    {
     "name": "stdout",
     "output_type": "stream",
     "text": [
      "Encoding and Padding: ----------------------------------\n",
      "\tProcessing x\n",
      "\tProcessing y\n",
      "Tagging: -----------------------------------------------\n"
     ]
    },
    {
     "data": {
      "text/html": [
       "<div>\n",
       "<style scoped>\n",
       "    .dataframe tbody tr th:only-of-type {\n",
       "        vertical-align: middle;\n",
       "    }\n",
       "\n",
       "    .dataframe tbody tr th {\n",
       "        vertical-align: top;\n",
       "    }\n",
       "\n",
       "    .dataframe thead th {\n",
       "        text-align: right;\n",
       "    }\n",
       "</style>\n",
       "<table border=\"1\" class=\"dataframe\">\n",
       "  <thead>\n",
       "    <tr style=\"text-align: right;\">\n",
       "      <th></th>\n",
       "      <th>x</th>\n",
       "      <th>y</th>\n",
       "      <th>Processed_x</th>\n",
       "      <th>Processed_y</th>\n",
       "      <th>Match</th>\n",
       "      <th>Distance</th>\n",
       "    </tr>\n",
       "  </thead>\n",
       "  <tbody>\n",
       "    <tr>\n",
       "      <th>183</th>\n",
       "      <td>BERBERIS SIKKIMENSIS WHOLE</td>\n",
       "      <td>BERBERIS SIKKIMENSIS WHOLE</td>\n",
       "      <td>[2, 5, 18, 2, 5, 18, 9, 19, 27, 19, 9, 11, 11,...</td>\n",
       "      <td>[2, 5, 18, 2, 5, 18, 9, 19, 27, 19, 9, 11, 11,...</td>\n",
       "      <td>1</td>\n",
       "      <td>0</td>\n",
       "    </tr>\n",
       "    <tr>\n",
       "      <th>1021</th>\n",
       "      <td>LENTISCUS</td>\n",
       "      <td>LENTISCUS</td>\n",
       "      <td>[12, 5, 14, 20, 9, 19, 3, 21, 19, 0, 0, 0, 0, ...</td>\n",
       "      <td>[12, 5, 14, 20, 9, 19, 3, 21, 19, 0, 0, 0, 0, ...</td>\n",
       "      <td>1</td>\n",
       "      <td>0</td>\n",
       "    </tr>\n",
       "    <tr>\n",
       "      <th>1545</th>\n",
       "      <td>SESBANIA SESBAN</td>\n",
       "      <td>SESBANIA SESBAN</td>\n",
       "      <td>[19, 5, 19, 2, 1, 14, 9, 1, 27, 19, 5, 19, 2, ...</td>\n",
       "      <td>[19, 5, 19, 2, 1, 14, 9, 1, 27, 19, 5, 19, 2, ...</td>\n",
       "      <td>1</td>\n",
       "      <td>0</td>\n",
       "    </tr>\n",
       "  </tbody>\n",
       "</table>\n",
       "</div>"
      ],
      "text/plain": [
       "                               x                           y  \\\n",
       "183   BERBERIS SIKKIMENSIS WHOLE  BERBERIS SIKKIMENSIS WHOLE   \n",
       "1021                   LENTISCUS                   LENTISCUS   \n",
       "1545             SESBANIA SESBAN             SESBANIA SESBAN   \n",
       "\n",
       "                                            Processed_x  \\\n",
       "183   [2, 5, 18, 2, 5, 18, 9, 19, 27, 19, 9, 11, 11,...   \n",
       "1021  [12, 5, 14, 20, 9, 19, 3, 21, 19, 0, 0, 0, 0, ...   \n",
       "1545  [19, 5, 19, 2, 1, 14, 9, 1, 27, 19, 5, 19, 2, ...   \n",
       "\n",
       "                                            Processed_y  Match  Distance  \n",
       "183   [2, 5, 18, 2, 5, 18, 9, 19, 27, 19, 9, 11, 11,...      1         0  \n",
       "1021  [12, 5, 14, 20, 9, 19, 3, 21, 19, 0, 0, 0, 0, ...      1         0  \n",
       "1545  [19, 5, 19, 2, 1, 14, 9, 1, 27, 19, 5, 19, 2, ...      1         0  "
      ]
     },
     "execution_count": 14,
     "metadata": {},
     "output_type": "execute_result"
    },
    {
     "data": {
      "image/png": "[encoded data removed]",
      "text/plain": [
       "<Figure size 432x288 with 1 Axes>"
      ]
     },
     "metadata": {
      "needs_background": "light"
     },
     "output_type": "display_data"
    }
   ],
   "source": [
    "tartget2target = encode_pad_tag(balance_dataset(pd.DataFrame.from_dict({\"x\": dUnique_df['dUnique_label'].to_list(), \"y\": dUnique_df['dUnique_label'].to_list()}), noise_percent = NOISE, maxlen = MAXLEN), match=1, distance=0, maxlen=MAXLEN)\n",
    "tartget2target.sample(3)"
   ]
  },
  {
   "cell_type": "code",
   "execution_count": 15,
   "id": "2c266579",
   "metadata": {},
   "outputs": [
    {
     "data": {
      "text/html": [
       "<div>\n",
       "<style scoped>\n",
       "    .dataframe tbody tr th:only-of-type {\n",
       "        vertical-align: middle;\n",
       "    }\n",
       "\n",
       "    .dataframe tbody tr th {\n",
       "        vertical-align: top;\n",
       "    }\n",
       "\n",
       "    .dataframe thead th {\n",
       "        text-align: right;\n",
       "    }\n",
       "</style>\n",
       "<table border=\"1\" class=\"dataframe\">\n",
       "  <thead>\n",
       "    <tr style=\"text-align: right;\">\n",
       "      <th></th>\n",
       "      <th>x</th>\n",
       "      <th>y</th>\n",
       "      <th>Processed_x</th>\n",
       "      <th>Processed_y</th>\n",
       "      <th>Match</th>\n",
       "      <th>Distance</th>\n",
       "    </tr>\n",
       "  </thead>\n",
       "  <tbody>\n",
       "    <tr>\n",
       "      <th>0</th>\n",
       "      <td>AAI</td>\n",
       "      <td>AAI</td>\n",
       "      <td>[1, 1, 9, 0, 0, 0, 0, 0, 0, 0, 0, 0, 0, 0, 0, ...</td>\n",
       "      <td>[1, 1, 9, 0, 0, 0, 0, 0, 0, 0, 0, 0, 0, 0, 0, ...</td>\n",
       "      <td>1</td>\n",
       "      <td>0</td>\n",
       "    </tr>\n",
       "    <tr>\n",
       "      <th>1</th>\n",
       "      <td>AARONSROD</td>\n",
       "      <td>AARONSROD</td>\n",
       "      <td>[1, 1, 18, 15, 14, 19, 18, 15, 4, 0, 0, 0, 0, ...</td>\n",
       "      <td>[1, 1, 18, 15, 14, 19, 18, 15, 4, 0, 0, 0, 0, ...</td>\n",
       "      <td>1</td>\n",
       "      <td>0</td>\n",
       "    </tr>\n",
       "    <tr>\n",
       "      <th>2</th>\n",
       "      <td>ABIES ALBA</td>\n",
       "      <td>ABIES ALBA</td>\n",
       "      <td>[1, 2, 9, 5, 19, 27, 1, 12, 2, 1, 0, 0, 0, 0, ...</td>\n",
       "      <td>[1, 2, 9, 5, 19, 27, 1, 12, 2, 1, 0, 0, 0, 0, ...</td>\n",
       "      <td>1</td>\n",
       "      <td>0</td>\n",
       "    </tr>\n",
       "    <tr>\n",
       "      <th>3</th>\n",
       "      <td>ABSINTHE</td>\n",
       "      <td>ABSINTHE</td>\n",
       "      <td>[1, 2, 19, 9, 14, 20, 8, 5, 0, 0, 0, 0, 0, 0, ...</td>\n",
       "      <td>[1, 2, 19, 9, 14, 20, 8, 5, 0, 0, 0, 0, 0, 0, ...</td>\n",
       "      <td>1</td>\n",
       "      <td>0</td>\n",
       "    </tr>\n",
       "    <tr>\n",
       "      <th>4</th>\n",
       "      <td>ABSINTHE WORMWOOD</td>\n",
       "      <td>ABSINTHE WORMWOOD</td>\n",
       "      <td>[1, 2, 19, 9, 14, 20, 8, 5, 27, 23, 15, 18, 13...</td>\n",
       "      <td>[1, 2, 19, 9, 14, 20, 8, 5, 27, 23, 15, 18, 13...</td>\n",
       "      <td>1</td>\n",
       "      <td>0</td>\n",
       "    </tr>\n",
       "  </tbody>\n",
       "</table>\n",
       "</div>"
      ],
      "text/plain": [
       "                   x                  y  \\\n",
       "0                AAI                AAI   \n",
       "1          AARONSROD          AARONSROD   \n",
       "2         ABIES ALBA         ABIES ALBA   \n",
       "3           ABSINTHE           ABSINTHE   \n",
       "4  ABSINTHE WORMWOOD  ABSINTHE WORMWOOD   \n",
       "\n",
       "                                         Processed_x  \\\n",
       "0  [1, 1, 9, 0, 0, 0, 0, 0, 0, 0, 0, 0, 0, 0, 0, ...   \n",
       "1  [1, 1, 18, 15, 14, 19, 18, 15, 4, 0, 0, 0, 0, ...   \n",
       "2  [1, 2, 9, 5, 19, 27, 1, 12, 2, 1, 0, 0, 0, 0, ...   \n",
       "3  [1, 2, 19, 9, 14, 20, 8, 5, 0, 0, 0, 0, 0, 0, ...   \n",
       "4  [1, 2, 19, 9, 14, 20, 8, 5, 27, 23, 15, 18, 13...   \n",
       "\n",
       "                                         Processed_y  Match  Distance  \n",
       "0  [1, 1, 9, 0, 0, 0, 0, 0, 0, 0, 0, 0, 0, 0, 0, ...      1         0  \n",
       "1  [1, 1, 18, 15, 14, 19, 18, 15, 4, 0, 0, 0, 0, ...      1         0  \n",
       "2  [1, 2, 9, 5, 19, 27, 1, 12, 2, 1, 0, 0, 0, 0, ...      1         0  \n",
       "3  [1, 2, 19, 9, 14, 20, 8, 5, 0, 0, 0, 0, 0, 0, ...      1         0  \n",
       "4  [1, 2, 19, 9, 14, 20, 8, 5, 27, 23, 15, 18, 13...      1         0  "
      ]
     },
     "execution_count": 15,
     "metadata": {},
     "output_type": "execute_result"
    }
   ],
   "source": [
    "tartget2target.head()"
   ]
  },
  {
   "cell_type": "code",
   "execution_count": 16,
   "id": "7d1cafbe",
   "metadata": {},
   "outputs": [],
   "source": [
    "complete_dataset = pd.concat([complete_dataset, tartget2target], ignore_index=True)\n",
    "complete_dataset.drop_duplicates(subset=['x', 'y'], inplace=True)\n",
    "for column in ['x', 'y']:\n",
    "        complete_dataset.drop(complete_dataset[complete_dataset[column].apply(len).gt(MAXLEN)].index, inplace = True)"
   ]
  },
  {
   "cell_type": "code",
   "execution_count": 17,
   "id": "04061aca",
   "metadata": {},
   "outputs": [
    {
     "name": "stdout",
     "output_type": "stream",
     "text": [
      "Encoding and Padding: ----------------------------------\n",
      "\tProcessing x\n",
      "\tProcessing y\n",
      "Tagging: -----------------------------------------------\n"
     ]
    },
    {
     "data": {
      "text/html": [
       "<div>\n",
       "<style scoped>\n",
       "    .dataframe tbody tr th:only-of-type {\n",
       "        vertical-align: middle;\n",
       "    }\n",
       "\n",
       "    .dataframe tbody tr th {\n",
       "        vertical-align: top;\n",
       "    }\n",
       "\n",
       "    .dataframe thead th {\n",
       "        text-align: right;\n",
       "    }\n",
       "</style>\n",
       "<table border=\"1\" class=\"dataframe\">\n",
       "  <thead>\n",
       "    <tr style=\"text-align: right;\">\n",
       "      <th></th>\n",
       "      <th>x</th>\n",
       "      <th>y</th>\n",
       "      <th>Processed_x</th>\n",
       "      <th>Processed_y</th>\n",
       "      <th>Match</th>\n",
       "      <th>Distance</th>\n",
       "    </tr>\n",
       "  </thead>\n",
       "  <tbody>\n",
       "    <tr>\n",
       "      <th>10350</th>\n",
       "      <td>JPYANSESE ANGELICAOREE</td>\n",
       "      <td>JAPANESE ANGELICATREE</td>\n",
       "      <td>[10, 16, 25, 1, 14, 19, 5, 19, 5, 27, 1, 14, 7...</td>\n",
       "      <td>[10, 1, 16, 1, 14, 5, 19, 5, 27, 1, 14, 7, 5, ...</td>\n",
       "      <td>1</td>\n",
       "      <td>0</td>\n",
       "    </tr>\n",
       "    <tr>\n",
       "      <th>18352</th>\n",
       "      <td>RBUUS PARFVFSU</td>\n",
       "      <td>RUBUS PARVIFOLIUS</td>\n",
       "      <td>[18, 2, 21, 21, 19, 27, 16, 1, 18, 6, 22, 6, 1...</td>\n",
       "      <td>[18, 21, 2, 21, 19, 27, 16, 1, 18, 22, 9, 6, 1...</td>\n",
       "      <td>1</td>\n",
       "      <td>0</td>\n",
       "    </tr>\n",
       "    <tr>\n",
       "      <th>17462</th>\n",
       "      <td>DDHNE LAUAREWLA</td>\n",
       "      <td>DAPHNE LAUREOLA</td>\n",
       "      <td>[4, 4, 8, 14, 5, 27, 12, 1, 21, 1, 18, 5, 23, ...</td>\n",
       "      <td>[4, 1, 16, 8, 14, 5, 27, 12, 1, 21, 18, 5, 15,...</td>\n",
       "      <td>1</td>\n",
       "      <td>0</td>\n",
       "    </tr>\n",
       "  </tbody>\n",
       "</table>\n",
       "</div>"
      ],
      "text/plain": [
       "                            x                      y  \\\n",
       "10350  JPYANSESE ANGELICAOREE  JAPANESE ANGELICATREE   \n",
       "18352          RBUUS PARFVFSU      RUBUS PARVIFOLIUS   \n",
       "17462         DDHNE LAUAREWLA        DAPHNE LAUREOLA   \n",
       "\n",
       "                                             Processed_x  \\\n",
       "10350  [10, 16, 25, 1, 14, 19, 5, 19, 5, 27, 1, 14, 7...   \n",
       "18352  [18, 2, 21, 21, 19, 27, 16, 1, 18, 6, 22, 6, 1...   \n",
       "17462  [4, 4, 8, 14, 5, 27, 12, 1, 21, 1, 18, 5, 23, ...   \n",
       "\n",
       "                                             Processed_y  Match  Distance  \n",
       "10350  [10, 1, 16, 1, 14, 5, 19, 5, 27, 1, 14, 7, 5, ...      1         0  \n",
       "18352  [18, 21, 2, 21, 19, 27, 16, 1, 18, 22, 9, 6, 1...      1         0  \n",
       "17462  [4, 1, 16, 8, 14, 5, 27, 12, 1, 21, 18, 5, 15,...      1         0  "
      ]
     },
     "execution_count": 17,
     "metadata": {},
     "output_type": "execute_result"
    }
   ],
   "source": [
    "noisy_positives = generate_noisy_positive_pairs(tartget2target, scale = 10.0, noise_percent = NOISE, maxlen = MAXLEN)\n",
    "noisy_positives.sample(n=3)"
   ]
  },
  {
   "cell_type": "code",
   "execution_count": 18,
   "id": "70d0e849",
   "metadata": {},
   "outputs": [],
   "source": [
    "complete_dataset = pd.concat([complete_dataset, noisy_positives], ignore_index=True).sort_values(by=['y', 'x', \"Distance\"])\n",
    "complete_dataset.drop_duplicates(subset=['x', 'y'], inplace=True)\n",
    "for column in ['x', 'y']:\n",
    "        complete_dataset.drop(complete_dataset[complete_dataset[column].apply(len).gt(MAXLEN)].index, inplace = True)"
   ]
  },
  {
   "cell_type": "markdown",
   "id": "4fff3aba",
   "metadata": {},
   "source": [
    "# Join All positive sets into one"
   ]
  },
  {
   "cell_type": "code",
   "execution_count": 19,
   "id": "aafedae1",
   "metadata": {},
   "outputs": [],
   "source": [
    "all_positives = pd.concat([positive_set, latin_2_common, common_2_latin, gsrs_2_common, tartget2target], ignore_index=True).sort_values(by=['y', 'x', \"Distance\"])"
   ]
  },
  {
   "cell_type": "markdown",
   "id": "ca78da68",
   "metadata": {},
   "source": [
    "# Extract the equivalence groups"
   ]
  },
  {
   "cell_type": "code",
   "execution_count": 20,
   "id": "977b7bbd",
   "metadata": {},
   "outputs": [],
   "source": [
    "equivalence_groups = get_target_groups_from_connected_components(all_positives)"
   ]
  },
  {
   "cell_type": "code",
   "execution_count": 21,
   "id": "8c2a5a58",
   "metadata": {},
   "outputs": [],
   "source": [
    "# equivalence_groups\n",
    "# {len(group) for group in equivalence_groups}"
   ]
  },
  {
   "cell_type": "code",
   "execution_count": null,
   "id": "d8df943b",
   "metadata": {},
   "outputs": [],
   "source": [
    "complete_dataset = balance_complete_set(complete_dataset, target_groups = equivalence_groups, noise_percent = NOISE, maxlen = MAXLEN)"
   ]
  },
  {
   "cell_type": "markdown",
   "id": "34303435",
   "metadata": {},
   "source": [
    "## Generate additional sythenthic negative pairs"
   ]
  },
  {
   "cell_type": "markdown",
   "id": "3a30d762",
   "metadata": {},
   "source": [
    "## Add additional negative pairs \n",
    "Generated from the positive data using generate_synthethic_negative_pairs"
   ]
  },
  {
   "cell_type": "code",
   "execution_count": null,
   "id": "72ec0695",
   "metadata": {},
   "outputs": [],
   "source": [
    "# synth_negatives = generate_synthethic_negative_pairs(all_positives, equivalences = equivalence_groups, noise = NOISE, scale = 2.0, maxlen = MAXLEN)\n",
    "# synth_negatives.sample(n=3)"
   ]
  },
  {
   "cell_type": "code",
   "execution_count": null,
   "id": "d2a35e98",
   "metadata": {},
   "outputs": [],
   "source": [
    "# complete_dataset = pd.concat([complete_dataset, synth_negatives], ignore_index=True)\n",
    "# complete_dataset.drop_duplicates(subset=['x', 'y'], inplace=True)"
   ]
  },
  {
   "cell_type": "markdown",
   "id": "bd355d96",
   "metadata": {},
   "source": [
    "## Generate additional noisy positive pairs"
   ]
  },
  {
   "cell_type": "code",
   "execution_count": null,
   "id": "20e7c964",
   "metadata": {},
   "outputs": [],
   "source": [
    "# noisy_positives = generate_noisy_positive_pairs(all_positives, scale = 2.0, noise_percent = NOISE, maxlen = MAXLEN)\n",
    "# noisy_positives.sample(n=3)"
   ]
  },
  {
   "cell_type": "code",
   "execution_count": null,
   "id": "a800ec96",
   "metadata": {},
   "outputs": [],
   "source": [
    "# complete_dataset = pd.concat([complete_dataset, noisy_positives], ignore_index=True).sort_values(by=['y', 'x', \"Distance\"])\n",
    "# complete_dataset.drop_duplicates(subset=['x', 'y'], inplace=True)"
   ]
  },
  {
   "cell_type": "code",
   "execution_count": null,
   "id": "a848a00e",
   "metadata": {},
   "outputs": [],
   "source": [
    "for column in ['x', 'y']:\n",
    "        complete_dataset.drop(complete_dataset[complete_dataset[column].apply(len).gt(MAXLEN)].index, inplace = True)"
   ]
  },
  {
   "cell_type": "markdown",
   "id": "622bfc23",
   "metadata": {},
   "source": [
    "## Create the train/test split"
   ]
  },
  {
   "cell_type": "code",
   "execution_count": null,
   "id": "168de8ec",
   "metadata": {},
   "outputs": [],
   "source": [
    "train, test = train_test_split(complete_dataset.sort_values(by=['y', 'x', \"Distance\"]), test_size=2500, shuffle=True, random_state=787)"
   ]
  },
  {
   "cell_type": "code",
   "execution_count": null,
   "id": "cb5d87e8",
   "metadata": {},
   "outputs": [],
   "source": [
    "print(\"Train:\", train.shape, \"Test:\" , test.shape)"
   ]
  },
  {
   "cell_type": "code",
   "execution_count": null,
   "id": "6de2a04f",
   "metadata": {},
   "outputs": [],
   "source": [
    "train['Distance'].value_counts(ascending=True)"
   ]
  },
  {
   "cell_type": "code",
   "execution_count": null,
   "id": "96b1cee0",
   "metadata": {},
   "outputs": [],
   "source": [
    "test['Distance'].value_counts(ascending=True)"
   ]
  },
  {
   "cell_type": "code",
   "execution_count": null,
   "id": "eda81396",
   "metadata": {},
   "outputs": [],
   "source": [
    "x1TrainRnnS, x1ValRnnS, x2TrainRnnS, x2ValRnnS, yTrainRnnS, yValRnnS = train_test_split(train['Processed_x'], train['Processed_y'], train['Distance'], test_size=0.40, random_state=787)"
   ]
  },
  {
   "cell_type": "code",
   "execution_count": null,
   "id": "479a632a",
   "metadata": {},
   "outputs": [],
   "source": [
    "print(\"Train Tower 1 x:\", len(x1TrainRnnS), \", Test Tower 1 x:\", len(x1ValRnnS))\n",
    "print(\"Train Tower 2 x:\", len(x2TrainRnnS), \", Test Tower 2 x:\", len(x2ValRnnS))\n",
    "print(\"Train Target  y:\", len(yTrainRnnS),  \", Test Target  y:\", len(yValRnnS))"
   ]
  },
  {
   "cell_type": "code",
   "execution_count": null,
   "id": "ef1aa6f0",
   "metadata": {
    "scrolled": true
   },
   "outputs": [],
   "source": [
    "dUnique_df.index.size"
   ]
  },
  {
   "cell_type": "code",
   "execution_count": null,
   "id": "ececbd45",
   "metadata": {},
   "outputs": [],
   "source": [
    "complete_dataset[\"Distance\"].value_counts(ascending=True)"
   ]
  },
  {
   "cell_type": "code",
   "execution_count": null,
   "id": "9ddda499",
   "metadata": {},
   "outputs": [],
   "source": [
    "complete_dataset[\"y\"].value_counts(ascending=True).plot(rot=90)"
   ]
  },
  {
   "cell_type": "markdown",
   "id": "ea67a844",
   "metadata": {},
   "source": [
    "# Save data to csv"
   ]
  },
  {
   "cell_type": "code",
   "execution_count": null,
   "id": "f9204378",
   "metadata": {},
   "outputs": [],
   "source": [
    "save = input(\"Want to save this dataset? (y/n): \")\n",
    "\n",
    "if save.lower() == \"y\": \n",
    "    pd.DataFrame(data={\"x1\": x1TrainRnnS, \"x2\": x2TrainRnnS, \"y\": yTrainRnnS}).to_pickle(\"../data/proccesed_train_set.pkl\")\n",
    "    pd.DataFrame(data={\"x1\": x1ValRnnS, \"x2\": x2ValRnnS, \"y\": yValRnnS}).to_pickle(\"../data/proccesed_test_set.pkl\")\n",
    "    dUnique_df.to_pickle(\"../data/dUnique_df.pkl\")\n",
    "    negative_set.to_pickle(\"../data/dfneg2.pkl\")\n",
    "    train.to_pickle(\"../data/train.pkl\")\n",
    "    test.to_pickle(\"../data/test.pkl\")\n",
    "    print(\"Done saving!\")"
   ]
  },
  {
   "cell_type": "markdown",
   "id": "96d168f2",
   "metadata": {},
   "source": [
    "\n",
    "\n",
    "-------"
   ]
  }
 ],
 "metadata": {
  "kernelspec": {
   "display_name": "Python 3 (ipykernel)",
   "language": "python",
   "name": "python3"
  },
  "language_info": {
   "codemirror_mode": {
    "name": "ipython",
    "version": 3
   },
   "file_extension": ".py",
   "mimetype": "text/x-python",
   "name": "python",
   "nbconvert_exporter": "python",
   "pygments_lexer": "ipython3",
   "version": "3.10.5"
  }
 },
 "nbformat": 4,
 "nbformat_minor": 5
}
