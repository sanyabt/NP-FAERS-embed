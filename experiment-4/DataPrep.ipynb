{
 "cells": [
  {
   "cell_type": "code",
   "execution_count": 1,
   "id": "af8cc40f",
   "metadata": {},
   "outputs": [],
   "source": [
    "# import numpy as np\n",
    "# import random\n",
    "# import pickle\n",
    "\n",
    "import string\n",
    "import pandas as pd\n",
    "import re\n",
    "import tensorflow as tf\n",
    "# tf.enable_eager_execution()\n",
    "# tf.executing_eagerly()\n",
    "\n",
    "from sklearn.utils import shuffle\n",
    "from sklearn.model_selection import train_test_split"
   ]
  },
  {
   "cell_type": "code",
   "execution_count": 2,
   "id": "7ca2ab49",
   "metadata": {},
   "outputs": [],
   "source": [
    "global encode_dict \n",
    "encode_dict = {l:i for i,l in enumerate(string.ascii_uppercase + \" \", 1)}"
   ]
  },
  {
   "cell_type": "code",
   "execution_count": 3,
   "id": "bf18162e",
   "metadata": {},
   "outputs": [],
   "source": [
    "#Maximum sequence length including padding\n",
    "global MAXLEN\n",
    "MAXLEN = 400"
   ]
  },
  {
   "cell_type": "markdown",
   "id": "4d07e995",
   "metadata": {},
   "source": [
    "# Functions"
   ]
  },
  {
   "cell_type": "code",
   "execution_count": 4,
   "id": "3126405d",
   "metadata": {},
   "outputs": [],
   "source": [
    "# TEST_TXT = \"Eirmod horrida ingénii pariant secundum? Cognitionem compositis conséquat dicantur exercitus, intellegitur invenire negat oportet sapientium suam. Ceteris diu erat fecerit, impéndéré intelleges máerores malorum mei re reprehendunt? Constringendos intus mentitum quale urna! Convenire cotidie dixit malé vigiliae?\""
   ]
  },
  {
   "cell_type": "code",
   "execution_count": 5,
   "id": "639e9acd",
   "metadata": {},
   "outputs": [],
   "source": [
    "def preprocessInput(filename: str) -> pd.DataFrame:\n",
    "    ''' Preprocess CSV file into a Pandas DataFrame.\n",
    "    \n",
    "    Expects the file name or path of a csv file with named columns containing strings representing product names.\n",
    "    Returns a Pandas Dataframe containing uppercased versions of the strings on each cell.\n",
    "    \n",
    "    Parameters\n",
    "    ----------\n",
    "    filename : str\n",
    "        \n",
    "    Returns\n",
    "    -------\n",
    "    df : Pandas DataFrame\n",
    "    '''  \n",
    "    df = pd.read_csv(filename)\n",
    "    print(df.info())\n",
    "    \n",
    "    print(\"Processing file: ---------------------------------------\")\n",
    "    original_count = len(df.index)\n",
    "    print(\"Dropping sequences longer than the maxlen:\")\n",
    "    df.drop(df[df[df.columns[0]].apply(len).gt(MAXLEN)].index, inplace = True)\n",
    "    df.drop(df[df[df.columns[1]].apply(len).gt(MAXLEN)].index, inplace = True)\n",
    "    new_count = len(df.index)\n",
    "    print(\"\\tDropped\", original_count - new_count, \"that exceeded the maximum sequence length.\")\n",
    "    # Uppercase all values\n",
    "    print(\"\\tUppercasing string sequences.\")\n",
    "    df = df.applymap(lambda x: str.upper(x))\n",
    "    print(\"Done processing: --------------------------------------\")\n",
    "    print(df.info())\n",
    "    return df"
   ]
  },
  {
   "cell_type": "code",
   "execution_count": 6,
   "id": "e38610fa",
   "metadata": {},
   "outputs": [],
   "source": [
    "def add_noise(w: str, percent: float = 0.1) -> str:\n",
    "    ''' Adds a specified proportion of noise to a string.\n",
    "    \n",
    "    Expects a string and a number stating the percent of noise to add to this string.\n",
    "    The string is modified by editing, deleting, or adding characters in/to the string.\n",
    "    The modification to perform is determined randomly by generating a random number from an uniform distribution [0,1].\n",
    "    If the number is < 1/3 edit one position with new random character.\n",
    "    If the number is < 2/3 delete one position.\n",
    "    Finally, if the number is > 2/3 add one random character. \n",
    "    \n",
    "    Parameters\n",
    "    ----------\n",
    "    w : str\n",
    "        The string to add noise to.\n",
    "    \n",
    "    percent: float, defaults to 10% if not specified\n",
    "        Percentange representing the proportion of noise to add to the string.\n",
    "        \n",
    "        \n",
    "    Returns\n",
    "    -------\n",
    "    w : str\n",
    "        Modified string with noise added.\n",
    "    '''  \n",
    "    positions = random.choices(range(len(w)), k=int(percent*len(w)))\n",
    "    print(\"Adding noise to\", int(percent*len(w)), \"% of the string\")\n",
    "    for p in positions:\n",
    "        r = random.uniform(0,1)\n",
    "        \n",
    "        # if <1/3 edit one position with new random character, # else if <2/3 delete one position, else add one random character \n",
    "        if r <= 0.3333: # edit\n",
    "            w = w[:p] + random.choice(string.ascii_uppercase) + w[p+1:]\n",
    "        elif r<= 0.6667: # delete\n",
    "            w = w[:p] + w[p+1:]\n",
    "        else: # add\n",
    "            w = w[:p] + random.choice(string.ascii_uppercase) + w[p:]\n",
    "    return w"
   ]
  },
  {
   "cell_type": "code",
   "execution_count": 7,
   "id": "84c406ae",
   "metadata": {},
   "outputs": [],
   "source": [
    "# add_noise(TEST_TXT)"
   ]
  },
  {
   "cell_type": "code",
   "execution_count": 8,
   "id": "76dec01b",
   "metadata": {},
   "outputs": [],
   "source": [
    "# add_noise(TEST_TXT, .01)"
   ]
  },
  {
   "cell_type": "code",
   "execution_count": 9,
   "id": "c5e9e0dc",
   "metadata": {},
   "outputs": [],
   "source": [
    "def clean(text: str) -> str:\n",
    "    '''Removes all the non-ascii and special characters from a string and returns the string's alphabetichal characters with spaces.\n",
    "    \n",
    "    Expects a string to be cleaned and removes all the non-ascii and special characters. \n",
    "    This is done by applying a substitution to regex matches\n",
    "    Returns the cleaned string containing uppercased versions of the characters.\n",
    "    \n",
    "    Parameters\n",
    "    ----------\n",
    "    text : str\n",
    "        \n",
    "    Returns\n",
    "    -------\n",
    "    text : str\n",
    "    '''\n",
    "    regex = re.compile('[^a-zA-Z ]')\n",
    "    r = regex.sub('', text)\n",
    "    result = re.sub(' +', ' ', r)\n",
    "    result = result.strip()\n",
    "    return result.upper()"
   ]
  },
  {
   "cell_type": "code",
   "execution_count": 10,
   "id": "8d6ecd70",
   "metadata": {},
   "outputs": [],
   "source": [
    "# clean(TEST_TXT)"
   ]
  },
  {
   "cell_type": "code",
   "execution_count": 11,
   "id": "f21e6000",
   "metadata": {},
   "outputs": [],
   "source": [
    "def clean_dataset(x: pd.Series, y: pd.Series) -> (pd.Series, pd.Series):\n",
    "    '''Applies the cleaning function to the dataset.\n",
    "    \n",
    "    Expects two Pandas Series, namely the 'FAERS_drug_match' and the 'lookup_value' columns.\n",
    "    Applies the cleaning function to them and returns them separately.\n",
    "    \n",
    "    Parameters\n",
    "    ----------\n",
    "    x : pd.Series\n",
    "        A pandas Series containing the 'FAERS_drug_match' column.\n",
    "    y : pd.Series\n",
    "        A pandas Series containing the 'lookup_value' column.\n",
    "      \n",
    "    Returns\n",
    "    -------\n",
    "    x : pd.Series\n",
    "        Returns the cleaned 'FAERS_drug_match' series.\n",
    "    y : pd.Series \n",
    "        Returns the cleaned 'lookup_value' series.\n",
    "    '''\n",
    "    return x.apply(clean), y.apply(clean)"
   ]
  },
  {
   "cell_type": "code",
   "execution_count": 12,
   "id": "ae47b9ff",
   "metadata": {},
   "outputs": [],
   "source": [
    "# clean_dataset(test)"
   ]
  },
  {
   "cell_type": "code",
   "execution_count": 13,
   "id": "da17e429",
   "metadata": {},
   "outputs": [],
   "source": [
    "def encode_dataset(x: pd.Series, y: pd.Series) -> (pd.Series, pd.Series):\n",
    "    '''Applies the encoding function to the dataset.\n",
    "    \n",
    "    Expects two cleaned Pandas Series, namely the 'FAERS_drug_match' and the 'lookup_value' columns.\n",
    "    Returns these Series enconded into an array containing an integer mapping to each character and space (1-66) separately.\n",
    "    \n",
    "    Parameters\n",
    "    ----------\n",
    "    x : pd.Series\n",
    "        A pandas Series containing the clean 'FAERS_drug_match' column.\n",
    "    y : pd.Series\n",
    "        A pandas Series containing the clean 'lookup_value' column.\n",
    "      \n",
    "    Returns\n",
    "    -------\n",
    "    x : pd.Series\n",
    "        Returns the encoded 'FAERS_drug_match' series.\n",
    "    y : pd.Series \n",
    "        Returns the encoded 'lookup_value' series.\n",
    "    '''\n",
    "    return x.apply(lambda string: list(map(encode_dict.get, string))), y.apply(lambda string: list(map(encode_dict.get, string)))"
   ]
  },
  {
   "cell_type": "code",
   "execution_count": 14,
   "id": "c73327d9",
   "metadata": {},
   "outputs": [],
   "source": [
    "# encode_dataset(*clean_dataset(test))[0].head()"
   ]
  },
  {
   "cell_type": "code",
   "execution_count": 15,
   "id": "fb4895a5",
   "metadata": {},
   "outputs": [],
   "source": [
    "# def clean_encode_padding(q, maxlen):\n",
    "#     q = clean(q)\n",
    "#     return tf.keras.preprocessing.sequence.pad_sequences(\n",
    "#         [encode_dict[m] for m in q] , padding=\"post\", maxlen=maxlen)"
   ]
  },
  {
   "cell_type": "code",
   "execution_count": 16,
   "id": "229e70ea",
   "metadata": {},
   "outputs": [],
   "source": [
    "def padding_dataset(X: pd.Series,Y: pd.Series, maxlen: int = MAXLEN) -> (pd.Series, pd.Series):\n",
    "    '''Applies the padding function to the dataset.\n",
    "    \n",
    "    Expects two cleaned and encoded Pandas Series, namely the 'FAERS_drug_match' and the 'lookup_value' columns.\n",
    "    Returns the enconded Series padded.\n",
    "    \n",
    "    Parameters\n",
    "    ----------\n",
    "    x : pd.Series\n",
    "        A pandas Series containing the clean encoded 'FAERS_drug_match' column.\n",
    "    y : pd.Series\n",
    "        A pandas Series containing the clean encoded 'lookup_value' column.\n",
    "      \n",
    "    Returns\n",
    "    -------\n",
    "    x : pd.Series\n",
    "        Returns the padded 'FAERS_drug_match' series.\n",
    "    y : pd.Series \n",
    "        Returns the padded 'lookup_value' series.\n",
    "    '''\n",
    "    return X.transform(lambda x: x + ([0]* (maxlen-len(x)))), Y.transform(lambda x: x + ([0]* (maxlen-len(x))))\n",
    "#     return tf.keras.preprocessing.sequence.pad_sequences(X, padding=\"post\", maxlen=maxlen), tf.keras.preprocessing.sequence.pad_sequences(Y, padding=\"post\", maxlen=maxlen)"
   ]
  },
  {
   "cell_type": "code",
   "execution_count": 17,
   "id": "33e3bb39",
   "metadata": {},
   "outputs": [],
   "source": [
    "# padding_dataset(*encode_dataset(*clean_dataset(test)), MAXLEN)[0].head()"
   ]
  },
  {
   "cell_type": "code",
   "execution_count": 18,
   "id": "98b10d9e",
   "metadata": {},
   "outputs": [],
   "source": [
    "def generate_negative_pairs() -> (pd.Series, pd.Series):\n",
    "    '''Create negative pairs where 'FAERS_drug_match' does not match the correct 'lookup_value'.\n",
    "\n",
    "    For each unique name in the 'FAERS_drug_match' column of the train set, get the product name\n",
    "    and then pick four random different product names. For each of those 4 additional product names \n",
    "    check if it matches any of the names in the training set if its not then add it to the dataset as \n",
    "    a negative pair. The goal of this is to help further distance the embeddings in the vector space.\n",
    "\n",
    "    \n",
    "    Parameters\n",
    "    ----------\n",
    "    The function has no parameters but it expects a Pandas dataframe called Unique_df\n",
    "    containing the 'dUnique_label' series and another Pandas dataframe called train\n",
    "    containing the 'FAERS_drug_match' and the 'lookup_value' series.\n",
    "\n",
    "    Returns\n",
    "    -------\n",
    "    faers_match : pd.Series\n",
    "        Returns the 'FAERS_drug_match' series.\n",
    "    lookup : pd.Series \n",
    "        Returns the 'lookup_value' series.\n",
    "    '''\n",
    "    faers_match = []\n",
    "    lookup = []\n",
    "    for np_name in train['FAERS_drug_match']:\n",
    "        np_temp = dUnique_df['dUnique_label'][dUnique_df['dUnique_label'] != np_name].sample(4)\n",
    "        np_temp = np_temp[~np_temp.isin(train['lookup_value'].loc[train['FAERS_drug_match'] == np_name])]     \n",
    "        faers_match.extend([np_name]* len(np_temp))\n",
    "        lookup.extend(np_temp)\n",
    "    return faers_match, lookup"
   ]
  },
  {
   "cell_type": "markdown",
   "id": "dab15102",
   "metadata": {},
   "source": [
    "------------------------------------------------"
   ]
  },
  {
   "cell_type": "markdown",
   "id": "193e520b",
   "metadata": {},
   "source": [
    "# Data loading and preprocessing"
   ]
  },
  {
   "cell_type": "code",
   "execution_count": 19,
   "id": "ae8f0708",
   "metadata": {},
   "outputs": [],
   "source": [
    "fName = '../data/NP_FAERS_mapped_20220215.csv'\n",
    "fName_unmapped = '../unmapped_data/upper_unmap_orig_drug_names_202201201812.csv'\n",
    "fName_negatives = '../data/NP_FAERS_negative_pairs_20220222.csv'"
   ]
  },
  {
   "cell_type": "markdown",
   "id": "622bfc23",
   "metadata": {},
   "source": [
    "## Create the train/test split"
   ]
  },
  {
   "cell_type": "code",
   "execution_count": 20,
   "id": "168de8ec",
   "metadata": {},
   "outputs": [
    {
     "name": "stdout",
     "output_type": "stream",
     "text": [
      "<class 'pandas.core.frame.DataFrame'>\n",
      "RangeIndex: 5358 entries, 0 to 5357\n",
      "Data columns (total 2 columns):\n",
      " #   Column            Non-Null Count  Dtype \n",
      "---  ------            --------------  ----- \n",
      " 0   FAERS_drug_match  5358 non-null   object\n",
      " 1   lookup_value      5358 non-null   object\n",
      "dtypes: object(2)\n",
      "memory usage: 83.8+ KB\n",
      "None\n",
      "Processing file: ---------------------------------------\n",
      "Dropping sequences longer than the maxlen:\n",
      "\tDropped 6 that exceeded the maximum sequence length.\n",
      "\tUppercasing string sequences.\n",
      "Done processing: --------------------------------------\n",
      "<class 'pandas.core.frame.DataFrame'>\n",
      "Int64Index: 5352 entries, 0 to 5357\n",
      "Data columns (total 2 columns):\n",
      " #   Column            Non-Null Count  Dtype \n",
      "---  ------            --------------  ----- \n",
      " 0   FAERS_drug_match  5352 non-null   object\n",
      " 1   lookup_value      5352 non-null   object\n",
      "dtypes: object(2)\n",
      "memory usage: 125.4+ KB\n",
      "None\n"
     ]
    }
   ],
   "source": [
    "train, test = train_test_split(preprocessInput(fName), test_size=0.20, random_state = 42)"
   ]
  },
  {
   "cell_type": "code",
   "execution_count": 21,
   "id": "cb5d87e8",
   "metadata": {},
   "outputs": [
    {
     "name": "stdout",
     "output_type": "stream",
     "text": [
      "Train: (4281, 2) Test: (1071, 2)\n"
     ]
    }
   ],
   "source": [
    "print(\"Train:\", train.shape, \"Test:\" , test.shape)"
   ]
  },
  {
   "cell_type": "markdown",
   "id": "037a06e2",
   "metadata": {},
   "source": [
    "## Clean, Encode and Pad the datasets"
   ]
  },
  {
   "cell_type": "code",
   "execution_count": 22,
   "id": "b10fe6e6",
   "metadata": {},
   "outputs": [],
   "source": [
    "padded_xTest, padded_yTest = padding_dataset(*encode_dataset(*clean_dataset(test.FAERS_drug_match, test.lookup_value)))"
   ]
  },
  {
   "cell_type": "code",
   "execution_count": 23,
   "id": "f1307539",
   "metadata": {},
   "outputs": [],
   "source": [
    "x, y = clean_dataset(train.FAERS_drug_match, train.lookup_value)\n",
    "padded_x, padded_y = padding_dataset(*encode_dataset(x,y))"
   ]
  },
  {
   "cell_type": "code",
   "execution_count": 24,
   "id": "1577f320",
   "metadata": {},
   "outputs": [
    {
     "name": "stdout",
     "output_type": "stream",
     "text": [
      "<class 'pandas.core.frame.DataFrame'>\n",
      "RangeIndex: 9242 entries, 0 to 9241\n",
      "Data columns (total 2 columns):\n",
      " #   Column            Non-Null Count  Dtype \n",
      "---  ------            --------------  ----- \n",
      " 0   FAERS_drug_match  9242 non-null   object\n",
      " 1   lookup_value      9242 non-null   object\n",
      "dtypes: object(2)\n",
      "memory usage: 144.5+ KB\n",
      "None\n",
      "Processing file: ---------------------------------------\n",
      "Dropping sequences longer than the maxlen:\n",
      "\tDropped 2 that exceeded the maximum sequence length.\n",
      "\tUppercasing string sequences.\n",
      "Done processing: --------------------------------------\n",
      "<class 'pandas.core.frame.DataFrame'>\n",
      "Int64Index: 9240 entries, 0 to 9241\n",
      "Data columns (total 2 columns):\n",
      " #   Column            Non-Null Count  Dtype \n",
      "---  ------            --------------  ----- \n",
      " 0   FAERS_drug_match  9240 non-null   object\n",
      " 1   lookup_value      9240 non-null   object\n",
      "dtypes: object(2)\n",
      "memory usage: 216.6+ KB\n",
      "None\n"
     ]
    }
   ],
   "source": [
    "negative_set = preprocessInput(fName_negatives)\n",
    "padded_xneg, padded_yneg = padding_dataset(*encode_dataset(*clean_dataset(negative_set.FAERS_drug_match, negative_set.lookup_value)))"
   ]
  },
  {
   "cell_type": "code",
   "execution_count": 25,
   "id": "d3181fa1",
   "metadata": {},
   "outputs": [
    {
     "name": "stdout",
     "output_type": "stream",
     "text": [
      "Test padded x: (1071,) Test padded y: (1071,)\n",
      "Train padded x: (4281,) Train padded y: (4281,)\n",
      "Train padded x_neg: (9240,) Train padded y_neg: (9240,)\n"
     ]
    }
   ],
   "source": [
    "print(\"Test padded x:\", padded_xTest.shape, \"Test padded y:\", padded_yTest.shape)\n",
    "print(\"Train padded x:\", padded_x.shape, \"Train padded y:\", padded_y.shape)\n",
    "print(\"Train padded x_neg:\", padded_xneg.shape, \"Train padded y_neg:\", padded_yneg.shape)"
   ]
  },
  {
   "cell_type": "markdown",
   "id": "e2cdae7d",
   "metadata": {},
   "source": [
    "## Creating Pandas DF for simplified view of the dataset "
   ]
  },
  {
   "cell_type": "code",
   "execution_count": 26,
   "id": "59682339",
   "metadata": {},
   "outputs": [
    {
     "data": {
      "text/html": [
       "<div>\n",
       "<style scoped>\n",
       "    .dataframe tbody tr th:only-of-type {\n",
       "        vertical-align: middle;\n",
       "    }\n",
       "\n",
       "    .dataframe tbody tr th {\n",
       "        vertical-align: top;\n",
       "    }\n",
       "\n",
       "    .dataframe thead th {\n",
       "        text-align: right;\n",
       "    }\n",
       "</style>\n",
       "<table border=\"1\" class=\"dataframe\">\n",
       "  <thead>\n",
       "    <tr style=\"text-align: right;\">\n",
       "      <th></th>\n",
       "      <th>dUnique_label</th>\n",
       "      <th>dUnique_seq</th>\n",
       "      <th>dUnique_seq_padded</th>\n",
       "    </tr>\n",
       "  </thead>\n",
       "  <tbody>\n",
       "    <tr>\n",
       "      <th>0</th>\n",
       "      <td>CRANBERRY</td>\n",
       "      <td>[3, 18, 1, 14, 2, 5, 18, 18, 25]</td>\n",
       "      <td>[3, 18, 1, 14, 2, 5, 18, 18, 25, 0, 0, 0, 0, 0...</td>\n",
       "    </tr>\n",
       "    <tr>\n",
       "      <th>1</th>\n",
       "      <td>SERENOA REPENS</td>\n",
       "      <td>[19, 5, 18, 5, 14, 15, 1, 27, 18, 5, 16, 5, 14...</td>\n",
       "      <td>[19, 5, 18, 5, 14, 15, 1, 27, 18, 5, 16, 5, 14...</td>\n",
       "    </tr>\n",
       "    <tr>\n",
       "      <th>2</th>\n",
       "      <td>ECHINACEA PURPUREA</td>\n",
       "      <td>[5, 3, 8, 9, 14, 1, 3, 5, 1, 27, 16, 21, 18, 1...</td>\n",
       "      <td>[5, 3, 8, 9, 14, 1, 3, 5, 1, 27, 16, 21, 18, 1...</td>\n",
       "    </tr>\n",
       "    <tr>\n",
       "      <th>3</th>\n",
       "      <td>CINNAMON</td>\n",
       "      <td>[3, 9, 14, 14, 1, 13, 15, 14]</td>\n",
       "      <td>[3, 9, 14, 14, 1, 13, 15, 14, 0, 0, 0, 0, 0, 0...</td>\n",
       "    </tr>\n",
       "    <tr>\n",
       "      <th>4</th>\n",
       "      <td>LEPIDIUM MEYENII</td>\n",
       "      <td>[12, 5, 16, 9, 4, 9, 21, 13, 27, 13, 5, 25, 5,...</td>\n",
       "      <td>[12, 5, 16, 9, 4, 9, 21, 13, 27, 13, 5, 25, 5,...</td>\n",
       "    </tr>\n",
       "  </tbody>\n",
       "</table>\n",
       "</div>"
      ],
      "text/plain": [
       "        dUnique_label                                        dUnique_seq  \\\n",
       "0           CRANBERRY                   [3, 18, 1, 14, 2, 5, 18, 18, 25]   \n",
       "1      SERENOA REPENS  [19, 5, 18, 5, 14, 15, 1, 27, 18, 5, 16, 5, 14...   \n",
       "2  ECHINACEA PURPUREA  [5, 3, 8, 9, 14, 1, 3, 5, 1, 27, 16, 21, 18, 1...   \n",
       "3            CINNAMON                      [3, 9, 14, 14, 1, 13, 15, 14]   \n",
       "4    LEPIDIUM MEYENII  [12, 5, 16, 9, 4, 9, 21, 13, 27, 13, 5, 25, 5,...   \n",
       "\n",
       "                                  dUnique_seq_padded  \n",
       "0  [3, 18, 1, 14, 2, 5, 18, 18, 25, 0, 0, 0, 0, 0...  \n",
       "1  [19, 5, 18, 5, 14, 15, 1, 27, 18, 5, 16, 5, 14...  \n",
       "2  [5, 3, 8, 9, 14, 1, 3, 5, 1, 27, 16, 21, 18, 1...  \n",
       "3  [3, 9, 14, 14, 1, 13, 15, 14, 0, 0, 0, 0, 0, 0...  \n",
       "4  [12, 5, 16, 9, 4, 9, 21, 13, 27, 13, 5, 25, 5,...  "
      ]
     },
     "execution_count": 26,
     "metadata": {},
     "output_type": "execute_result"
    }
   ],
   "source": [
    "dUnique_df = pd.DataFrame(columns = ['dUnique_label','dUnique_seq', 'dUnique_seq_padded'])\n",
    "dUnique_df['dUnique_label'] = y.unique()\n",
    "dUnique_df['dUnique_seq'] = dUnique_df['dUnique_label'].transform(lambda x: list(map(encode_dict.get,list(x))))\n",
    "dUnique_df['dUnique_seq_padded'] = list(tf.keras.preprocessing.sequence.pad_sequences(dUnique_df['dUnique_seq'].array, padding=\"post\", maxlen=MAXLEN))\n",
    "dUnique_df.head()"
   ]
  },
  {
   "cell_type": "markdown",
   "id": "d6ede033",
   "metadata": {},
   "source": [
    "## Add positive pairs\n",
    "Data from NP_FAERS_mapped_20220215.csv -- the manually create references set for ~70 drugs"
   ]
  },
  {
   "cell_type": "code",
   "execution_count": 27,
   "id": "e0017a89",
   "metadata": {},
   "outputs": [
    {
     "name": "stdout",
     "output_type": "stream",
     "text": [
      "4281 4281 4281\n"
     ]
    }
   ],
   "source": [
    "x1TrainRNN = list(padded_x)\n",
    "x2TrainRNN = list(padded_y)\n",
    "yTrainRNN = [1] * len(padded_x)\n",
    "print(len(x1TrainRNN), len(x2TrainRNN), len(yTrainRNN))"
   ]
  },
  {
   "cell_type": "markdown",
   "id": "b5a1f592",
   "metadata": {},
   "source": [
    "## Add negative pairs from unmmaped\n",
    "Data from NP_FAERS_negative_pairs_20220222.csv -- the negative pairs created by random sampling from the NP_FAERS_mapped_20220215.csv"
   ]
  },
  {
   "cell_type": "code",
   "execution_count": 28,
   "id": "5f290eae",
   "metadata": {},
   "outputs": [
    {
     "name": "stdout",
     "output_type": "stream",
     "text": [
      "13521 13521 13521\n"
     ]
    }
   ],
   "source": [
    "yTrainRNN.extend([0] * len(padded_xneg))\n",
    "x1TrainRNN.extend(padded_xneg)\n",
    "x2TrainRNN.extend(padded_yneg)\n",
    "print(len(x1TrainRNN), len(x2TrainRNN), len(yTrainRNN))"
   ]
  },
  {
   "cell_type": "markdown",
   "id": "34303435",
   "metadata": {},
   "source": [
    "## Generate additional negative pairs"
   ]
  },
  {
   "cell_type": "code",
   "execution_count": 29,
   "id": "7369033f",
   "metadata": {},
   "outputs": [],
   "source": [
    "faers_match, lookup = generate_negative_pairs()"
   ]
  },
  {
   "cell_type": "code",
   "execution_count": 30,
   "id": "4f5c6d5c",
   "metadata": {},
   "outputs": [],
   "source": [
    "dfneg2 = pd.DataFrame(columns=['FAERS_drug_match', 'lookup_value'])\n",
    "dfneg2['FAERS_drug_match'] = faers_match \n",
    "dfneg2['lookup_value'] = lookup\n",
    "padded_xneg2, padded_yneg2 = padding_dataset(*encode_dataset(*clean_dataset(dfneg2.FAERS_drug_match, dfneg2.lookup_value)), MAXLEN)"
   ]
  },
  {
   "cell_type": "markdown",
   "id": "a10975c1",
   "metadata": {},
   "source": [
    "## Add additional negative pairs \n",
    "Generated from training data using generate_negative_pairs"
   ]
  },
  {
   "cell_type": "code",
   "execution_count": 31,
   "id": "594f5dd1",
   "metadata": {},
   "outputs": [
    {
     "name": "stdout",
     "output_type": "stream",
     "text": [
      "30409 30409 30409\n"
     ]
    }
   ],
   "source": [
    "yTrainRNN.extend([0] * len(padded_xneg2))\n",
    "x1TrainRNN.extend(padded_xneg2)\n",
    "x2TrainRNN.extend(padded_yneg2)\n",
    "print(len(x1TrainRNN), len(x2TrainRNN), len(yTrainRNN))"
   ]
  },
  {
   "cell_type": "code",
   "execution_count": 32,
   "id": "eda81396",
   "metadata": {},
   "outputs": [],
   "source": [
    "x1TrainRnnS, x1ValRnnS, x2TrainRnnS, x2ValRnnS, yTrainRnnS, yValRnnS = train_test_split(x1TrainRNN, x2TrainRNN, yTrainRNN, test_size=0.20, random_state=42)"
   ]
  },
  {
   "cell_type": "code",
   "execution_count": 33,
   "id": "479a632a",
   "metadata": {},
   "outputs": [
    {
     "data": {
      "text/plain": [
       "24327"
      ]
     },
     "execution_count": 33,
     "metadata": {},
     "output_type": "execute_result"
    }
   ],
   "source": [
    "len(x1TrainRnnS)"
   ]
  },
  {
   "cell_type": "markdown",
   "id": "ea67a844",
   "metadata": {},
   "source": [
    "# Save data to csv"
   ]
  },
  {
   "cell_type": "code",
   "execution_count": 34,
   "id": "f9204378",
   "metadata": {},
   "outputs": [],
   "source": [
    "pd.DataFrame(data={\"x1\": x1TrainRnnS, \"x2\": x2TrainRnnS, \"y\": yTrainRnnS}).to_pickle(\"../data/proccesed_train_set.pkl\")\n",
    "pd.DataFrame(data={\"x1\": x1ValRnnS, \"x2\": x2ValRnnS, \"y\": yValRnnS}).to_pickle(\"../data/proccesed_test_set.pkl\")"
   ]
  },
  {
   "cell_type": "code",
   "execution_count": 35,
   "id": "f279a5e2",
   "metadata": {},
   "outputs": [],
   "source": [
    "dUnique_df.to_pickle(\"../data/dUnique_df.pkl\")\n",
    "dfneg2.to_pickle(\"../data/dfneg2.pkl\")"
   ]
  },
  {
   "cell_type": "markdown",
   "id": "5ecde1fe",
   "metadata": {},
   "source": [
    "----------------------------------"
   ]
  },
  {
   "cell_type": "markdown",
   "id": "97a0149b",
   "metadata": {},
   "source": [
    "# Average NP name length "
   ]
  },
  {
   "cell_type": "code",
   "execution_count": 20,
   "id": "4a1ca196",
   "metadata": {},
   "outputs": [
    {
     "name": "stdout",
     "output_type": "stream",
     "text": [
      "<class 'pandas.core.frame.DataFrame'>\n",
      "RangeIndex: 5358 entries, 0 to 5357\n",
      "Data columns (total 2 columns):\n",
      "FAERS_drug_match    5358 non-null object\n",
      "lookup_value        5358 non-null object\n",
      "dtypes: object(2)\n",
      "memory usage: 83.8+ KB\n",
      "None\n",
      "Processing file: ---------------------------------------\n",
      "Dropping sequences longer than the maxlen:\n",
      "\tDropped 6 that exceeded the maximum sequence length.\n",
      "\tUppercasing string sequences.\n",
      "Done processing: --------------------------------------\n",
      "<class 'pandas.core.frame.DataFrame'>\n",
      "Int64Index: 5352 entries, 0 to 5357\n",
      "Data columns (total 2 columns):\n",
      "FAERS_drug_match    5352 non-null object\n",
      "lookup_value        5352 non-null object\n",
      "dtypes: object(2)\n",
      "memory usage: 125.4+ KB\n",
      "None\n"
     ]
    }
   ],
   "source": [
    "main_dataset = preprocessInput(fName)"
   ]
  },
  {
   "cell_type": "code",
   "execution_count": 21,
   "id": "4419b161",
   "metadata": {},
   "outputs": [
    {
     "data": {
      "text/plain": [
       "count    5352.000000\n",
       "mean       29.128176\n",
       "std        26.200619\n",
       "min         3.000000\n",
       "25%        15.000000\n",
       "50%        22.000000\n",
       "75%        37.000000\n",
       "max       364.000000\n",
       "Name: FAERS_drug_match, dtype: float64"
      ]
     },
     "execution_count": 21,
     "metadata": {},
     "output_type": "execute_result"
    }
   ],
   "source": [
    "stats = main_dataset['FAERS_drug_match'].apply(len).describe()\n",
    "stats"
   ]
  },
  {
   "cell_type": "code",
   "execution_count": 22,
   "id": "0788f124",
   "metadata": {},
   "outputs": [
    {
     "data": {
      "text/plain": [
       "81.52941485381506"
      ]
     },
     "execution_count": 22,
     "metadata": {},
     "output_type": "execute_result"
    }
   ],
   "source": [
    "stats[\"mean\"] + stats[\"std\"] * 2"
   ]
  },
  {
   "cell_type": "code",
   "execution_count": 23,
   "id": "a6904091",
   "metadata": {},
   "outputs": [
    {
     "data": {
      "text/plain": [
       "count    5352.000000\n",
       "mean       13.592302\n",
       "std         4.743080\n",
       "min         4.000000\n",
       "25%         9.000000\n",
       "50%        14.000000\n",
       "75%        18.000000\n",
       "max        24.000000\n",
       "Name: lookup_value, dtype: float64"
      ]
     },
     "execution_count": 23,
     "metadata": {},
     "output_type": "execute_result"
    }
   ],
   "source": [
    "main_dataset['lookup_value'].apply(len).describe()"
   ]
  },
  {
   "cell_type": "code",
   "execution_count": 24,
   "id": "86d0a838",
   "metadata": {},
   "outputs": [
    {
     "data": {
      "text/plain": [
       "3261    364\n",
       "65      364\n",
       "1098    364\n",
       "3777    364\n",
       "582     364\n",
       "2744    364\n",
       "3767    356\n",
       "1088    356\n",
       "57      301\n",
       "2736    301\n",
       "Name: FAERS_drug_match, dtype: int64"
      ]
     },
     "execution_count": 24,
     "metadata": {},
     "output_type": "execute_result"
    }
   ],
   "source": [
    "main_dataset['FAERS_drug_match'].apply(len).sort_values(ascending=False)[0:10]"
   ]
  },
  {
   "cell_type": "code",
   "execution_count": 25,
   "id": "60e59896",
   "metadata": {},
   "outputs": [
    {
     "data": {
      "text/plain": [
       "count      5352\n",
       "unique        2\n",
       "top       False\n",
       "freq       5238\n",
       "Name: FAERS_drug_match, dtype: object"
      ]
     },
     "execution_count": 25,
     "metadata": {},
     "output_type": "execute_result"
    }
   ],
   "source": [
    "main_dataset['FAERS_drug_match'].apply(len).gt(80).describe()"
   ]
  },
  {
   "cell_type": "code",
   "execution_count": 42,
   "id": "b6c7ba77",
   "metadata": {},
   "outputs": [
    {
     "name": "stdout",
     "output_type": "stream",
     "text": [
      "Gt 65: 374\n",
      "Gt 70: 146\n",
      "Gt 80: 120\n"
     ]
    }
   ],
   "source": [
    "print(\"Gt 65:\", 5358 - 4984)\n",
    "print(\"Gt 70:\", 5358 - 5212)\n",
    "print(\"Gt 80:\", 5358 - 5238)"
   ]
  },
  {
   "cell_type": "code",
   "execution_count": 32,
   "id": "230f7d2b",
   "metadata": {},
   "outputs": [
    {
     "data": {
      "text/plain": [
       "<matplotlib.axes._subplots.AxesSubplot at 0x7f82f189c3c8>"
      ]
     },
     "execution_count": 32,
     "metadata": {},
     "output_type": "execute_result"
    },
    {
     "data": {
      "image/png": "[encoded data removed]",
      "text/plain": [
       "<Figure size 432x288 with 1 Axes>"
      ]
     },
     "metadata": {
      "needs_background": "light"
     },
     "output_type": "display_data"
    }
   ],
   "source": [
    "%matplotlib inline\n",
    "main_dataset['FAERS_drug_match'].apply(len).hist(bins=15)"
   ]
  },
  {
   "cell_type": "code",
   "execution_count": 26,
   "id": "f0a7a120",
   "metadata": {},
   "outputs": [
    {
     "data": {
      "text/plain": [
       "\"WOMEN'S MULTI (ASCORBIC ACID, BETACAROTENE, BIOTIN, CALCIUM AMINO ACID CHELATE, CALCIUM PANTOTHENATE, CHROMIUM AMINO ACID CHELATE, COPPER AMINO ACID CHELATE, CYANOCOBALAMIN, EQUISETUM ARVENSE STEM, FERROUS FUMARATE, FOLIC ACID, LAMINARIA DIGITATA POWDER, MAGNESIUM OXIDE, MANGANESE AMINO ACID CHELATE, NICOTINAMIDE, OENOTHERA BIENNIS OIL, POTASSIUM AMINO ACID CHELATE, PYRIDOXINE HYDROCHLORIDE, RIBOFLAVIN, SELENIUM AMINO ACID CHELATE, THIAMINE MONONITRATE, ZINC AMINO ACID CHELATE) TABLET\""
      ]
     },
     "execution_count": 26,
     "metadata": {},
     "output_type": "execute_result"
    }
   ],
   "source": [
    "main_dataset.iloc[5132]['FAERS_drug_match']"
   ]
  },
  {
   "cell_type": "code",
   "execution_count": null,
   "id": "44814ab2",
   "metadata": {},
   "outputs": [],
   "source": [
    "main_dataset.iloc[5132]['FAERS_drug_match']"
   ]
  },
  {
   "cell_type": "code",
   "execution_count": 133,
   "id": "c194eebf",
   "metadata": {},
   "outputs": [
    {
     "data": {
      "text/plain": [
       "count    16879.000000\n",
       "mean        29.855738\n",
       "std         31.324787\n",
       "min          3.000000\n",
       "25%         15.000000\n",
       "50%         22.000000\n",
       "75%         37.000000\n",
       "max        489.000000\n",
       "Name: FAERS_drug_match, dtype: float64"
      ]
     },
     "execution_count": 133,
     "metadata": {},
     "output_type": "execute_result"
    }
   ],
   "source": [
    "dfneg2['FAERS_drug_match'].apply(len).describe()"
   ]
  },
  {
   "cell_type": "code",
   "execution_count": null,
   "id": "631c3e0f",
   "metadata": {},
   "outputs": [],
   "source": [
    "dfneg2['lookup_value'].apply(len).describe()"
   ]
  },
  {
   "cell_type": "code",
   "execution_count": 134,
   "id": "3fd64bbb",
   "metadata": {},
   "outputs": [
    {
     "data": {
      "text/plain": [
       "count    125.000000\n",
       "mean      13.136000\n",
       "std        4.590214\n",
       "min        4.000000\n",
       "25%        9.000000\n",
       "50%       13.000000\n",
       "75%       17.000000\n",
       "max       24.000000\n",
       "Name: dUnique_label, dtype: float64"
      ]
     },
     "execution_count": 134,
     "metadata": {},
     "output_type": "execute_result"
    }
   ],
   "source": [
    "dUnique_df['dUnique_label'].apply(len).describe()"
   ]
  },
  {
   "cell_type": "code",
   "execution_count": 132,
   "id": "0f82fdda",
   "metadata": {},
   "outputs": [
    {
     "data": {
      "text/plain": [
       "count    125.000000\n",
       "mean      13.136000\n",
       "std        4.590214\n",
       "min        4.000000\n",
       "25%        9.000000\n",
       "50%       13.000000\n",
       "75%       17.000000\n",
       "max       24.000000\n",
       "Name: dUnique_seq, dtype: float64"
      ]
     },
     "execution_count": 132,
     "metadata": {},
     "output_type": "execute_result"
    }
   ],
   "source": [
    "dUnique_df['dUnique_seq'].apply(len).describe()"
   ]
  },
  {
   "cell_type": "code",
   "execution_count": null,
   "id": "6a034cf5",
   "metadata": {},
   "outputs": [],
   "source": [
    "dfneg2['FAERS_drug_match'].apply(len).idxmax()"
   ]
  },
  {
   "cell_type": "code",
   "execution_count": 138,
   "id": "2d61d771",
   "metadata": {},
   "outputs": [
    {
     "data": {
      "text/plain": [
       "\"WOMEN'S MULTI (ASCORBIC ACID, BETACAROTENE, BIOTIN, CALCIUM AMINO ACID CHELATE, CALCIUM PANTOTHENATE, CHROMIUM AMINO ACID CHELATE, COPPER AMINO ACID CHELATE, CYANOCOBALAMIN, EQUISETUM ARVENSE STEM, FERROUS FUMARATE, FOLIC ACID, LAMINARIA DIGITATA POWDER, MAGNESIUM OXIDE, MANGANESE AMINO ACID CHELATE, NICOTINAMIDE, OENOTHERA BIENNIS OIL, POTASSIUM AMINO ACID CHELATE, PYRIDOXINE HYDROCHLORIDE, RIBOFLAVIN, SELENIUM AMINO ACID CHELATE, THIAMINE MONONITRATE, ZINC AMINO ACID CHELATE) TABLET\""
      ]
     },
     "execution_count": 138,
     "metadata": {},
     "output_type": "execute_result"
    }
   ],
   "source": [
    "dfneg2.iloc[8183]['FAERS_drug_match']"
   ]
  },
  {
   "cell_type": "code",
   "execution_count": null,
   "id": "da48bed4",
   "metadata": {},
   "outputs": [],
   "source": []
  },
  {
   "cell_type": "code",
   "execution_count": null,
   "id": "b3f526c2",
   "metadata": {},
   "outputs": [],
   "source": []
  }
 ],
 "metadata": {
  "kernelspec": {
   "display_name": "Python 3 (ipykernel)",
   "language": "python",
   "name": "python3"
  },
  "language_info": {
   "codemirror_mode": {
    "name": "ipython",
    "version": 3
   },
   "file_extension": ".py",
   "mimetype": "text/x-python",
   "name": "python",
   "nbconvert_exporter": "python",
   "pygments_lexer": "ipython3",
   "version": "3.10.5"
  }
 },
 "nbformat": 4,
 "nbformat_minor": 5
}
